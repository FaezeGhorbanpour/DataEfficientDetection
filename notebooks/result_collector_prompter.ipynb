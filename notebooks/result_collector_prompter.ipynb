{
 "cells": [
  {
   "cell_type": "code",
   "id": "initial_id",
   "metadata": {
    "ExecuteTime": {
     "end_time": "2025-03-04T11:17:07.635647Z",
     "start_time": "2025-03-04T11:17:06.408467Z"
    }
   },
   "source": [
    "import pandas as pd\n",
    "import numpy as np\n",
    "import os, json"
   ],
   "outputs": [],
   "execution_count": 1
  },
  {
   "cell_type": "code",
   "id": "408034a64ebd7437",
   "metadata": {
    "ExecuteTime": {
     "end_time": "2025-03-04T11:17:07.743457Z",
     "start_time": "2025-03-04T11:17:07.740107Z"
    }
   },
   "source": "results_path = \"/mounts/data/proj/faeze/data_efficient_hate/models/prompter/\"",
   "outputs": [],
   "execution_count": 2
  },
  {
   "cell_type": "code",
   "id": "79ac16f0e466a6d7",
   "metadata": {
    "ExecuteTime": {
     "end_time": "2025-03-04T11:17:08.294657Z",
     "start_time": "2025-03-04T11:17:08.291550Z"
    }
   },
   "source": [
    "\n",
    "model_name = \"zero_shot_prompting\"\n",
    "split = 'test'"
   ],
   "outputs": [],
   "execution_count": 3
  },
  {
   "cell_type": "code",
   "id": "6269e9630feaf33c",
   "metadata": {
    "ExecuteTime": {
     "end_time": "2025-03-04T11:17:08.377830Z",
     "start_time": "2025-03-04T11:17:08.373966Z"
    }
   },
   "source": [
    "path = os.path.join(results_path, model_name)"
   ],
   "outputs": [],
   "execution_count": 4
  },
  {
   "cell_type": "code",
   "id": "334eea4bed833002",
   "metadata": {
    "ExecuteTime": {
     "end_time": "2025-03-04T11:20:13.626844Z",
     "start_time": "2025-03-04T11:20:13.623926Z"
    }
   },
   "source": [
    "models = [\"mt0\" , \"aya101\", \"bloomz\", \"llama3\" , \"teuken\" , \"llama2\" ,  \"mistral\" , \"gemma\" ]\n",
    "models += [ \"mistral8\" , 'gemma9', 'aya8', 'qwan']\n",
    "models = ['llama3-2', 'aya101-2']\n",
    "rss = [str(i) for i in range(0, 3)]\n",
    "templates = [\"general\" , \"classification\", \"definition\" , \"chain_of_thought\", \"role_play\", \"multilingual\" , \"nli\", ]"
   ],
   "outputs": [],
   "execution_count": 14
  },
  {
   "cell_type": "code",
   "id": "f67f9de375bf4d23",
   "metadata": {
    "ExecuteTime": {
     "end_time": "2025-03-04T11:20:14.043853Z",
     "start_time": "2025-03-04T11:20:14.040126Z"
    }
   },
   "source": [
    "data_names = [\"bas19_es\", \"for19_pt\", \"has21_hi\", \"ous19_ar\", \"ous19_fr\", \"san20_it\", \"gahd24_de\", \"xdomain_tr\"]\n",
    "prompt_language = [\"en\"]*len(data_names)\n",
    "# prompt_language = [i.split(\"_\")[-1] for i in data_names]\n",
    "# data_names = [\"bas19_es\", \"ous19_ar\", \"ous19_fr\", \"san20_it\", \"gahd24_de\"]\n",
    "# data_names = [\"bas19_es\", \"ous19_ar\"]"
   ],
   "outputs": [],
   "execution_count": 15
  },
  {
   "cell_type": "code",
   "id": "6dc76b806e35faef",
   "metadata": {
    "scrolled": true,
    "ExecuteTime": {
     "end_time": "2025-03-04T11:20:15.130148Z",
     "start_time": "2025-03-04T11:20:14.392182Z"
    }
   },
   "source": [
    "\n",
    "data_results = []\n",
    "for i, data_name in enumerate(data_names):\n",
    "    print(data_name)\n",
    "    model_results = []\n",
    "    for model_name in models:\n",
    "        print(model_name)\n",
    "        template_results = []\n",
    "        for prompt in templates:\n",
    "            split_path = os.path.join(path, model_name + \"/\" + data_name+\"/\"+prompt_language[i]+ \"/\" + prompt + \"/\"+split+\"/\")\n",
    "            # print(split_path)\n",
    "            rss_results = []\n",
    "            for root, folders, files in os.walk(split_path):\n",
    "                if \"checkpoint\" in root or \"evaluation_results.json\" not in files:\n",
    "                    continue\n",
    "                metrics = []\n",
    "                with open(os.path.join(root, \"evaluation_results.json\"), \"r\") as f:\n",
    "                    file = json.load(f)\n",
    "                    # print(file)\n",
    "                    f1 = file.get(\"f1-macro\", '')\n",
    "                    metrics.append(f1)\n",
    "                    f1 = file.get(\"precision_hate\", '')\n",
    "                    metrics.append(f1)\n",
    "                    f1 = file.get(\"recall_hate\", '')\n",
    "                    metrics.append(f1)\n",
    "                    # fp = float(file.get(\"false_positives\", 0))\n",
    "                    # tn = float(file.get(\"true_negatives\", 0))\n",
    "                    # if fp > 0 and tn > 0:\n",
    "                    #     fpr = fp/(fp+tn)\n",
    "                    #     metrics.append(fpr)\n",
    "                    # else:\n",
    "                    #     metrics.append(0)\n",
    "                    # fn = float(file.get(\"false_negatives\", 0))\n",
    "                    # tp = float(file.get(\"true_positives\", 0))\n",
    "                    # if tp > 0 and fn > 0:\n",
    "                    #     fnr = fn/(fn+tp)\n",
    "                    #     metrics.append(fnr)\n",
    "                    # else:\n",
    "                    #     metrics.append(0)\n",
    "                    rss_results.append(metrics)\n",
    "            if len(rss_results) >= 3:\n",
    "                # print(rss_results)\n",
    "                # print([round(sum(col) / len(col)*100, 2) for col in zip(*rss_results)])\n",
    "                template_results.append([round(sum(col) / len(col)*100, 2) for col in zip(*rss_results)])\n",
    "            else:\n",
    "                template_results.append([None, None, None])\n",
    "                print(data_name, model_name, prompt, \"no\")\n",
    "        model_results.append(template_results)\n",
    "        # print(template_results)\n",
    "    data_results.append(model_results)\n",
    "    print()"
   ],
   "outputs": [
    {
     "name": "stdout",
     "output_type": "stream",
     "text": [
      "bas19_es\n",
      "llama3-2\n",
      "aya101-2\n",
      "bas19_es aya101-2 definition no\n",
      "\n",
      "for19_pt\n",
      "llama3-2\n",
      "aya101-2\n",
      "\n",
      "has21_hi\n",
      "llama3-2\n",
      "aya101-2\n",
      "has21_hi aya101-2 classification no\n",
      "has21_hi aya101-2 definition no\n",
      "has21_hi aya101-2 multilingual no\n",
      "\n",
      "ous19_ar\n",
      "llama3-2\n",
      "aya101-2\n",
      "\n",
      "ous19_fr\n",
      "llama3-2\n",
      "aya101-2\n",
      "\n",
      "san20_it\n",
      "llama3-2\n",
      "aya101-2\n",
      "san20_it aya101-2 general no\n",
      "san20_it aya101-2 classification no\n",
      "san20_it aya101-2 definition no\n",
      "san20_it aya101-2 multilingual no\n",
      "\n",
      "gahd24_de\n",
      "llama3-2\n",
      "aya101-2\n",
      "gahd24_de aya101-2 general no\n",
      "gahd24_de aya101-2 classification no\n",
      "gahd24_de aya101-2 definition no\n",
      "gahd24_de aya101-2 chain_of_thought no\n",
      "gahd24_de aya101-2 role_play no\n",
      "gahd24_de aya101-2 multilingual no\n",
      "gahd24_de aya101-2 nli no\n",
      "\n",
      "xdomain_tr\n",
      "llama3-2\n",
      "aya101-2\n",
      "xdomain_tr aya101-2 definition no\n",
      "xdomain_tr aya101-2 multilingual no\n",
      "\n"
     ]
    }
   ],
   "execution_count": 16
  },
  {
   "cell_type": "code",
   "id": "d52b6282c33a55fb",
   "metadata": {
    "ExecuteTime": {
     "end_time": "2025-03-04T11:20:24.188147Z",
     "start_time": "2025-03-04T11:20:24.181542Z"
    }
   },
   "source": [
    "for d, data_result in enumerate(data_results):\n",
    "    # print(data_names[d])\n",
    "    for m, model_result in enumerate(data_result):\n",
    "        # print(models[m])\n",
    "        if models[m] == 'aya101-2':\n",
    "            for t, template_results in enumerate(model_result):\n",
    "                # print(templates[t])\n",
    "                for j in [str(i) for i in template_results]:\n",
    "                    print(j, end=\"\\t\")\n",
    "                print()\n",
    "            print()\n",
    "            print()\n",
    "    # print()"
   ],
   "outputs": [
    {
     "name": "stdout",
     "output_type": "stream",
     "text": [
      "61.02\t54.68\t55.2\t\n",
      "61.29\t55.17\t54.84\t\n",
      "None\tNone\tNone\t\n",
      "55.46\t53.29\t34.13\t\n",
      "39.38\t81.0\t40.32\t\n",
      "60.91\t52.42\t84.64\t\n",
      "31.71\t60.22\t81.29\t\n",
      "\n",
      "\n",
      "68.74\t65.5\t46.47\t\n",
      "65.22\t70.43\t35.18\t\n",
      "47.57\t81.82\t82.04\t\n",
      "66.43\t65.33\t40.56\t\n",
      "42.13\t87.57\t54.61\t\n",
      "66.13\t48.71\t79.85\t\n",
      "28.34\t68.75\t60.7\t\n",
      "\n",
      "\n",
      "36.76\t90.18\t81.35\t\n",
      "None\tNone\tNone\t\n",
      "None\tNone\tNone\t\n",
      "55.62\t21.52\t22.32\t\n",
      "26.38\t93.74\t37.93\t\n",
      "None\tNone\tNone\t\n",
      "31.23\t88.57\t63.11\t\n",
      "\n",
      "\n",
      "53.29\t32.78\t92.74\t\n",
      "64.42\t40.34\t87.46\t\n",
      "37.67\t93.85\t47.78\t\n",
      "61.92\t38.0\t80.77\t\n",
      "30.75\t73.22\t47.13\t\n",
      "40.24\t27.86\t97.29\t\n",
      "28.23\t87.37\t18.36\t\n",
      "\n",
      "\n",
      "46.87\t14.29\t61.97\t\n",
      "53.47\t16.25\t35.04\t\n",
      "49.48\t15.28\t58.12\t\n",
      "54.44\t17.35\t24.36\t\n",
      "35.98\t11.98\t75.64\t\n",
      "32.64\t12.06\t83.97\t\n",
      "35.8\t90.5\t85.79\t\n",
      "\n",
      "\n",
      "None\tNone\tNone\t\n",
      "None\tNone\tNone\t\n",
      "None\tNone\tNone\t\n",
      "70.38\t75.32\t52.26\t\n",
      "52.54\t79.13\t64.3\t\n",
      "None\tNone\tNone\t\n",
      "36.14\t62.49\t56.34\t\n",
      "\n",
      "\n",
      "None\tNone\tNone\t\n",
      "None\tNone\tNone\t\n",
      "None\tNone\tNone\t\n",
      "None\tNone\tNone\t\n",
      "None\tNone\tNone\t\n",
      "None\tNone\tNone\t\n",
      "None\tNone\tNone\t\n",
      "\n",
      "\n",
      "77.0\t93.47\t55.79\t\n",
      "77.42\t94.3\t56.17\t\n",
      "None\tNone\tNone\t\n",
      "72.77\t86.34\t51.2\t\n",
      "71.09\t86.09\t47.99\t\n",
      "None\tNone\tNone\t\n",
      "43.7\t67.65\t93.52\t\n",
      "\n",
      "\n"
     ]
    }
   ],
   "execution_count": 18
  },
  {
   "cell_type": "code",
   "id": "26f68e4a6994ffe1",
   "metadata": {
    "ExecuteTime": {
     "end_time": "2025-02-26T16:41:19.697303275Z",
     "start_time": "2025-02-24T20:35:12.340712Z"
    }
   },
   "source": [],
   "outputs": [],
   "execution_count": null
  },
  {
   "metadata": {},
   "cell_type": "code",
   "outputs": [],
   "execution_count": null,
   "source": "",
   "id": "237b3c57416f50a0"
  },
  {
   "metadata": {},
   "cell_type": "code",
   "outputs": [],
   "execution_count": null,
   "source": "",
   "id": "d5dfd6376aa17f86"
  },
  {
   "metadata": {},
   "cell_type": "code",
   "outputs": [],
   "execution_count": null,
   "source": "",
   "id": "b2b9c6d474957120"
  },
  {
   "metadata": {},
   "cell_type": "code",
   "outputs": [],
   "execution_count": null,
   "source": "",
   "id": "1fb83ca3418dc877"
  },
  {
   "metadata": {},
   "cell_type": "code",
   "outputs": [],
   "execution_count": null,
   "source": "",
   "id": "3b9cf9bc62a1533d"
  }
 ],
 "metadata": {
  "kernelspec": {
   "display_name": "Python 3 (ipykernel)",
   "language": "python",
   "name": "python3"
  },
  "language_info": {
   "codemirror_mode": {
    "name": "ipython",
    "version": 3
   },
   "file_extension": ".py",
   "mimetype": "text/x-python",
   "name": "python",
   "nbconvert_exporter": "python",
   "pygments_lexer": "ipython3",
   "version": "3.12.8"
  }
 },
 "nbformat": 4,
 "nbformat_minor": 5
}
