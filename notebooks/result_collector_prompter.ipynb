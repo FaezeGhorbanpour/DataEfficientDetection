{
 "cells": [
  {
   "cell_type": "code",
   "id": "initial_id",
   "metadata": {
    "ExecuteTime": {
     "end_time": "2025-02-28T12:00:21.478909Z",
     "start_time": "2025-02-28T12:00:09.606023Z"
    }
   },
   "source": [
    "import pandas as pd\n",
    "import numpy as np\n",
    "import os, json"
   ],
   "outputs": [],
   "execution_count": 1
  },
  {
   "cell_type": "code",
   "id": "408034a64ebd7437",
   "metadata": {
    "ExecuteTime": {
     "end_time": "2025-02-28T12:00:21.598138Z",
     "start_time": "2025-02-28T12:00:21.595967Z"
    }
   },
   "source": "results_path = \"/mounts/data/proj/faeze/data_efficient_hate/models/prompter/\"",
   "outputs": [],
   "execution_count": 2
  },
  {
   "cell_type": "code",
   "id": "79ac16f0e466a6d7",
   "metadata": {
    "ExecuteTime": {
     "end_time": "2025-02-28T12:00:22.854884Z",
     "start_time": "2025-02-28T12:00:22.852557Z"
    }
   },
   "source": [
    "\n",
    "model_name = \"zero_shot_prompting\"\n",
    "split = 'test'"
   ],
   "outputs": [],
   "execution_count": 3
  },
  {
   "cell_type": "code",
   "id": "6269e9630feaf33c",
   "metadata": {
    "ExecuteTime": {
     "end_time": "2025-02-28T12:00:22.948193Z",
     "start_time": "2025-02-28T12:00:22.946182Z"
    }
   },
   "source": [
    "path = os.path.join(results_path, model_name)"
   ],
   "outputs": [],
   "execution_count": 4
  },
  {
   "cell_type": "code",
   "id": "334eea4bed833002",
   "metadata": {
    "ExecuteTime": {
     "end_time": "2025-02-28T12:00:23.063300Z",
     "start_time": "2025-02-28T12:00:23.060421Z"
    }
   },
   "source": [
    "models = [\"mt0\" , \"aya101\", \"bloomz\", \"llama3\" , \"teuken\" , \"llama2\" ,  \"mistral\" , \"gemma\" ]\n",
    "models = [ \"mistral8\" , 'gemma9', 'aya8', 'qwan']\n",
    "rss = [str(i) for i in range(0, 3)]\n",
    "templates = [\"general\" , \"classification\", \"definition\" , \"chain_of_thought\", \"role_play\", \"multilingual\" , \"nli\", ]"
   ],
   "outputs": [],
   "execution_count": 5
  },
  {
   "cell_type": "code",
   "id": "f67f9de375bf4d23",
   "metadata": {
    "ExecuteTime": {
     "end_time": "2025-02-28T12:26:00.146240Z",
     "start_time": "2025-02-28T12:26:00.142575Z"
    }
   },
   "source": [
    "data_names = [\"bas19_es\", \"for19_pt\", \"has21_hi\", \"ous19_ar\", \"ous19_fr\", \"san20_it\", \"gahd24_de\", \"xdomain_tr\"]\n",
    "prompt_language = [\"en\"]*len(data_names)\n",
    "# prompt_language = [i.split(\"_\")[-1] for i in data_names]\n",
    "# data_names = [\"bas19_es\", \"ous19_ar\", \"ous19_fr\", \"san20_it\", \"gahd24_de\"]\n",
    "# data_names = [\"bas19_es\", \"ous19_ar\"]"
   ],
   "outputs": [],
   "execution_count": 11
  },
  {
   "cell_type": "code",
   "id": "6dc76b806e35faef",
   "metadata": {
    "scrolled": true,
    "ExecuteTime": {
     "end_time": "2025-02-28T12:26:07.811896Z",
     "start_time": "2025-02-28T12:26:00.548491Z"
    }
   },
   "source": [
    "\n",
    "data_results = []\n",
    "for i, data_name in enumerate(data_names):\n",
    "    print(data_name)\n",
    "    model_results = []\n",
    "    for model_name in models:\n",
    "        print(model_name)\n",
    "        template_results = []\n",
    "        for prompt in templates:\n",
    "            split_path = os.path.join(path, model_name + \"/\" + data_name+\"/\"+prompt_language[i]+ \"/\" + prompt + \"/\"+split+\"/\")\n",
    "            # print(split_path)\n",
    "            rss_results = []\n",
    "            for root, folders, files in os.walk(split_path):\n",
    "                if \"checkpoint\" in root or \"evaluation_results.json\" not in files:\n",
    "                    continue\n",
    "                metrics = []\n",
    "                with open(os.path.join(root, \"evaluation_results.json\"), \"r\") as f:\n",
    "                    file = json.load(f)\n",
    "                    # print(file)\n",
    "                    f1 = file.get(\"f1-macro\", '')\n",
    "                    metrics.append(f1)\n",
    "                    f1 = file.get(\"precision_hate\", '')\n",
    "                    metrics.append(f1)\n",
    "                    f1 = file.get(\"recall_hate\", '')\n",
    "                    metrics.append(f1)\n",
    "                    # fp = float(file.get(\"false_positives\", 0))\n",
    "                    # tn = float(file.get(\"true_negatives\", 0))\n",
    "                    # if fp > 0 and tn > 0:\n",
    "                    #     fpr = fp/(fp+tn)\n",
    "                    #     metrics.append(fpr)\n",
    "                    # else:\n",
    "                    #     metrics.append(0)\n",
    "                    # fn = float(file.get(\"false_negatives\", 0))\n",
    "                    # tp = float(file.get(\"true_positives\", 0))\n",
    "                    # if tp > 0 and fn > 0:\n",
    "                    #     fnr = fn/(fn+tp)\n",
    "                    #     metrics.append(fnr)\n",
    "                    # else:\n",
    "                    #     metrics.append(0)\n",
    "                    rss_results.append(metrics)\n",
    "            if len(rss_results) >= 3:\n",
    "                # print(rss_results)\n",
    "                # print([round(sum(col) / len(col)*100, 2) for col in zip(*rss_results)])\n",
    "                template_results.append([round(sum(col) / len(col)*100, 2) for col in zip(*rss_results)])\n",
    "            else:\n",
    "                template_results.append([None, None, None])\n",
    "                print(data_name, model_name, prompt, \"no\")\n",
    "        model_results.append(template_results)\n",
    "        # print(template_results)\n",
    "    data_results.append(model_results)\n",
    "    print()"
   ],
   "outputs": [
    {
     "name": "stdout",
     "output_type": "stream",
     "text": [
      "bas19_es\n",
      "mistral8\n",
      "gemma9\n",
      "aya8\n",
      "qwan\n",
      "\n",
      "for19_pt\n",
      "mistral8\n",
      "gemma9\n",
      "aya8\n",
      "qwan\n",
      "\n",
      "has21_hi\n",
      "mistral8\n",
      "gemma9\n",
      "has21_hi gemma9 definition no\n",
      "has21_hi gemma9 multilingual no\n",
      "aya8\n",
      "has21_hi aya8 general no\n",
      "has21_hi aya8 classification no\n",
      "has21_hi aya8 definition no\n",
      "has21_hi aya8 multilingual no\n",
      "qwan\n",
      "has21_hi qwan general no\n",
      "has21_hi qwan classification no\n",
      "has21_hi qwan definition no\n",
      "\n",
      "ous19_ar\n",
      "mistral8\n",
      "gemma9\n",
      "aya8\n",
      "qwan\n",
      "\n",
      "ous19_fr\n",
      "mistral8\n",
      "gemma9\n",
      "aya8\n",
      "qwan\n",
      "\n",
      "san20_it\n",
      "mistral8\n",
      "gemma9\n",
      "san20_it gemma9 general no\n",
      "san20_it gemma9 classification no\n",
      "san20_it gemma9 definition no\n",
      "san20_it gemma9 multilingual no\n",
      "aya8\n",
      "san20_it aya8 general no\n",
      "san20_it aya8 classification no\n",
      "san20_it aya8 definition no\n",
      "san20_it aya8 chain_of_thought no\n",
      "san20_it aya8 multilingual no\n",
      "qwan\n",
      "san20_it qwan general no\n",
      "san20_it qwan classification no\n",
      "san20_it qwan definition no\n",
      "san20_it qwan multilingual no\n",
      "\n",
      "gahd24_de\n",
      "mistral8\n",
      "gemma9\n",
      "gahd24_de gemma9 general no\n",
      "gahd24_de gemma9 classification no\n",
      "gahd24_de gemma9 definition no\n",
      "gahd24_de gemma9 chain_of_thought no\n",
      "gahd24_de gemma9 role_play no\n",
      "gahd24_de gemma9 multilingual no\n",
      "aya8\n",
      "gahd24_de aya8 general no\n",
      "gahd24_de aya8 classification no\n",
      "gahd24_de aya8 definition no\n",
      "gahd24_de aya8 chain_of_thought no\n",
      "gahd24_de aya8 role_play no\n",
      "gahd24_de aya8 multilingual no\n",
      "gahd24_de aya8 nli no\n",
      "qwan\n",
      "gahd24_de qwan general no\n",
      "gahd24_de qwan classification no\n",
      "gahd24_de qwan definition no\n",
      "gahd24_de qwan multilingual no\n",
      "\n",
      "xdomain_tr\n",
      "mistral8\n",
      "gemma9\n",
      "xdomain_tr gemma9 classification no\n",
      "xdomain_tr gemma9 definition no\n",
      "xdomain_tr gemma9 multilingual no\n",
      "aya8\n",
      "xdomain_tr aya8 general no\n",
      "xdomain_tr aya8 classification no\n",
      "xdomain_tr aya8 definition no\n",
      "xdomain_tr aya8 multilingual no\n",
      "qwan\n",
      "\n"
     ]
    }
   ],
   "execution_count": 12
  },
  {
   "cell_type": "code",
   "id": "d52b6282c33a55fb",
   "metadata": {
    "ExecuteTime": {
     "end_time": "2025-02-28T12:28:37.145933Z",
     "start_time": "2025-02-28T12:28:37.142013Z"
    }
   },
   "source": [
    "for d, data_result in enumerate(data_results):\n",
    "    # print(data_names[d])\n",
    "    for m, model_result in enumerate(data_result):\n",
    "        # print(models[m])\n",
    "        if models[m] == 'qwan':\n",
    "            for t, template_results in enumerate(model_result):\n",
    "                # print(templates[t])\n",
    "                for j in [str(i) for i in template_results]:\n",
    "                    print(j, end=\"\\t\")\n",
    "                print()\n",
    "            print()\n",
    "            print()\n",
    "    # print()"
   ],
   "outputs": [
    {
     "name": "stdout",
     "output_type": "stream",
     "text": [
      "60.05\t51.76\t71.79\t\n",
      "63.49\t55.65\t66.87\t\n",
      "63.41\t55.42\t67.82\t\n",
      "64.66\t55.3\t84.52\t\n",
      "63.96\t54.86\t80.83\t\n",
      "63.56\t54.44\t83.21\t\n",
      "59.16\t56.83\t41.59\t\n",
      "\n",
      "\n",
      "67.78\t62.58\t46.41\t\n",
      "62.32\t65.55\t31.12\t\n",
      "63.72\t74.21\t30.96\t\n",
      "69.44\t68.25\t46.15\t\n",
      "67.14\t72.96\t38.13\t\n",
      "67.99\t74.92\t39.08\t\n",
      "49.39\t87.32\t9.07\t\n",
      "\n",
      "\n",
      "None\tNone\tNone\t\n",
      "None\tNone\tNone\t\n",
      "None\tNone\tNone\t\n",
      "52.36\t17.33\t45.48\t\n",
      "53.4\t18.42\t48.02\t\n",
      "49.47\t17.14\t63.56\t\n",
      "43.35\t68.17\t67.88\t\n",
      "\n",
      "\n",
      "59.06\t35.07\t67.95\t\n",
      "65.68\t42.99\t63.39\t\n",
      "62.33\t38.73\t60.68\t\n",
      "56.72\t34.51\t89.32\t\n",
      "59.42\t36.18\t86.32\t\n",
      "62.12\t38.43\t90.17\t\n",
      "69.16\t54.7\t49.72\t\n",
      "\n",
      "\n",
      "46.99\t13.32\t52.56\t\n",
      "53.91\t17.43\t46.15\t\n",
      "49.24\t14.13\t48.5\t\n",
      "41.35\t13.07\t71.37\t\n",
      "44.7\t13.91\t67.52\t\n",
      "45.37\t13.46\t60.68\t\n",
      "56.48\t22.19\t21.58\t\n",
      "\n",
      "\n",
      "None\tNone\tNone\t\n",
      "None\tNone\tNone\t\n",
      "None\tNone\tNone\t\n",
      "73.74\t65.4\t79.52\t\n",
      "75.21\t70.15\t72.97\t\n",
      "None\tNone\tNone\t\n",
      "63.89\t84.62\t34.49\t\n",
      "\n",
      "\n",
      "None\tNone\tNone\t\n",
      "None\tNone\tNone\t\n",
      "None\tNone\tNone\t\n",
      "74.77\t66.52\t82.73\t\n",
      "73.22\t67.67\t73.02\t\n",
      "None\tNone\tNone\t\n",
      "48.89\t65.93\t15.17\t\n",
      "\n",
      "\n",
      "70.83\t69.07\t62.62\t\n",
      "67.05\t79.02\t43.6\t\n",
      "65.39\t73.19\t43.6\t\n",
      "73.33\t72.33\t65.16\t\n",
      "75.44\t74.73\t67.86\t\n",
      "76.13\t73.73\t71.45\t\n",
      "59.88\t88.24\t28.09\t\n",
      "\n",
      "\n"
     ]
    }
   ],
   "execution_count": 15
  },
  {
   "cell_type": "code",
   "id": "26f68e4a6994ffe1",
   "metadata": {
    "ExecuteTime": {
     "end_time": "2025-02-26T16:41:19.697303275Z",
     "start_time": "2025-02-24T20:35:12.340712Z"
    }
   },
   "source": [],
   "outputs": [],
   "execution_count": null
  },
  {
   "metadata": {},
   "cell_type": "code",
   "outputs": [],
   "execution_count": null,
   "source": "",
   "id": "237b3c57416f50a0"
  },
  {
   "metadata": {},
   "cell_type": "code",
   "outputs": [],
   "execution_count": null,
   "source": "",
   "id": "d5dfd6376aa17f86"
  },
  {
   "metadata": {},
   "cell_type": "code",
   "outputs": [],
   "execution_count": null,
   "source": "",
   "id": "b2b9c6d474957120"
  },
  {
   "metadata": {},
   "cell_type": "code",
   "outputs": [],
   "execution_count": null,
   "source": "",
   "id": "1fb83ca3418dc877"
  },
  {
   "metadata": {},
   "cell_type": "code",
   "outputs": [],
   "execution_count": null,
   "source": "",
   "id": "3b9cf9bc62a1533d"
  }
 ],
 "metadata": {
  "kernelspec": {
   "display_name": "Python 3 (ipykernel)",
   "language": "python",
   "name": "python3"
  },
  "language_info": {
   "codemirror_mode": {
    "name": "ipython",
    "version": 3
   },
   "file_extension": ".py",
   "mimetype": "text/x-python",
   "name": "python",
   "nbconvert_exporter": "python",
   "pygments_lexer": "ipython3",
   "version": "3.12.8"
  }
 },
 "nbformat": 4,
 "nbformat_minor": 5
}
