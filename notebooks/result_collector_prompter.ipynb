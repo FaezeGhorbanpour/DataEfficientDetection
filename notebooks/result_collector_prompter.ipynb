{
 "cells": [
  {
   "cell_type": "code",
   "id": "initial_id",
   "metadata": {
    "ExecuteTime": {
     "end_time": "2025-03-07T10:24:31.539341Z",
     "start_time": "2025-03-07T10:24:30.268419Z"
    }
   },
   "source": [
    "import pandas as pd\n",
    "import numpy as np\n",
    "import os, json"
   ],
   "outputs": [],
   "execution_count": 1
  },
  {
   "cell_type": "code",
   "id": "408034a64ebd7437",
   "metadata": {
    "ExecuteTime": {
     "end_time": "2025-03-07T10:24:31.612304Z",
     "start_time": "2025-03-07T10:24:31.601784Z"
    }
   },
   "source": "results_path = \"/mounts/data/proj/faeze/data_efficient_hate/models/prompter/\"",
   "outputs": [],
   "execution_count": 2
  },
  {
   "cell_type": "code",
   "id": "79ac16f0e466a6d7",
   "metadata": {
    "ExecuteTime": {
     "end_time": "2025-03-07T10:24:32.132962Z",
     "start_time": "2025-03-07T10:24:32.127329Z"
    }
   },
   "source": [
    "\n",
    "model_name = \"zero_shot_prompting\"\n",
    "split = 'test'"
   ],
   "outputs": [],
   "execution_count": 3
  },
  {
   "cell_type": "code",
   "id": "6269e9630feaf33c",
   "metadata": {
    "ExecuteTime": {
     "end_time": "2025-03-07T10:24:32.301542Z",
     "start_time": "2025-03-07T10:24:32.298970Z"
    }
   },
   "source": [
    "path = os.path.join(results_path, model_name)"
   ],
   "outputs": [],
   "execution_count": 4
  },
  {
   "metadata": {
    "ExecuteTime": {
     "end_time": "2025-03-07T10:28:34.882034Z",
     "start_time": "2025-03-07T10:28:34.877526Z"
    }
   },
   "cell_type": "code",
   "source": [
    "models = [\"mt0\" , \"aya101\", \"bloomz\", \"llama3\" , \"teuken\" , \"llama2\" ,  \"mistral\" , \"gemma\" ]\n",
    "models += [ \"mistral8\" , 'gemma9', 'aya8', 'qwan']\n",
    "models = ['llama3-2', 'aya101-2', 'bloomz-2', 'teuken-2', 'mt0-2']\n",
    "rss = [str(i) for i in range(0, 3)]\n",
    "templates = [\"general\" , \"classification\", \"definition\" , \"chain_of_thought\", \"role_play\", \"multilingual\" , \"nli\", ]"
   ],
   "id": "6a94a378657428af",
   "outputs": [],
   "execution_count": 5
  },
  {
   "metadata": {
    "ExecuteTime": {
     "end_time": "2025-03-07T10:28:35.666381Z",
     "start_time": "2025-03-07T10:28:35.662451Z"
    }
   },
   "cell_type": "code",
   "source": [
    "data_names = [\"bas19_es\", \"for19_pt\", \"has21_hi\", \"ous19_ar\", \"ous19_fr\", \"san20_it\", \"gahd24_de\", \"xdomain_tr\"]\n",
    "prompt_language = [\"en\"]*len(data_names)\n",
    "# prompt_language = [i.split(\"_\")[-1] for i in data_names]\n",
    "# data_names = [\"bas19_es\", \"ous19_ar\", \"ous19_fr\", \"san20_it\", \"gahd24_de\"]\n",
    "# data_names = [\"bas19_es\", \"ous19_ar\"]"
   ],
   "id": "596d9e3f43d77f14",
   "outputs": [],
   "execution_count": 6
  },
  {
   "cell_type": "code",
   "id": "6dc76b806e35faef",
   "metadata": {
    "scrolled": true,
    "ExecuteTime": {
     "end_time": "2025-03-07T10:28:41.313479Z",
     "start_time": "2025-03-07T10:28:36.213721Z"
    }
   },
   "source": [
    "\n",
    "data_results = []\n",
    "for i, data_name in enumerate(data_names):\n",
    "    print(data_name)\n",
    "    model_results = []\n",
    "    for model_name in models:\n",
    "        print(model_name)\n",
    "        template_results = []\n",
    "        for prompt in templates:\n",
    "            split_path = os.path.join(path, model_name + \"/\" + data_name+\"/\"+prompt_language[i]+ \"/\" + prompt + \"/\"+split+\"/\")\n",
    "            # print(split_path)\n",
    "            rss_results = []\n",
    "            for root, folders, files in os.walk(split_path):\n",
    "                if \"checkpoint\" in root or \"evaluation_results.json\" not in files:\n",
    "                    continue\n",
    "                metrics = []\n",
    "                with open(os.path.join(root, \"evaluation_results.json\"), \"r\") as f:\n",
    "                    file = json.load(f)\n",
    "                    # print(file)\n",
    "                    f1 = file.get(\"f1-macro\", '')\n",
    "                    metrics.append(f1)\n",
    "                    f1 = file.get(\"precision_hate\", '')\n",
    "                    metrics.append(f1)\n",
    "                    f1 = file.get(\"recall_hate\", '')\n",
    "                    metrics.append(f1)\n",
    "                    # fp = float(file.get(\"false_positives\", 0))\n",
    "                    # tn = float(file.get(\"true_negatives\", 0))\n",
    "                    # if fp > 0 and tn > 0:\n",
    "                    #     fpr = fp/(fp+tn)\n",
    "                    #     metrics.append(fpr)\n",
    "                    # else:\n",
    "                    #     metrics.append(0)\n",
    "                    # fn = float(file.get(\"false_negatives\", 0))\n",
    "                    # tp = float(file.get(\"true_positives\", 0))\n",
    "                    # if tp > 0 and fn > 0:\n",
    "                    #     fnr = fn/(fn+tp)\n",
    "                    #     metrics.append(fnr)\n",
    "                    # else:\n",
    "                    #     metrics.append(0)\n",
    "                    rss_results.append(metrics)\n",
    "            if len(rss_results) >= 3:\n",
    "                # print(rss_results)\n",
    "                # print([round(sum(col) / len(col)*100, 2) for col in zip(*rss_results)])\n",
    "                template_results.append([round(sum(col) / len(col)*100, 2) for col in zip(*rss_results)])\n",
    "            else:\n",
    "                template_results.append([None, None, None])\n",
    "                print(data_name, model_name, prompt, \"no\")\n",
    "        model_results.append(template_results)\n",
    "        # print(template_results)\n",
    "    data_results.append(model_results)\n",
    "    print()"
   ],
   "outputs": [
    {
     "name": "stdout",
     "output_type": "stream",
     "text": [
      "bas19_es\n",
      "llama3-2\n",
      "aya101-2\n",
      "bloomz-2\n",
      "teuken-2\n",
      "mt0-2\n",
      "\n",
      "for19_pt\n",
      "llama3-2\n",
      "aya101-2\n",
      "bloomz-2\n",
      "teuken-2\n",
      "mt0-2\n",
      "\n",
      "has21_hi\n",
      "llama3-2\n",
      "aya101-2\n",
      "bloomz-2\n",
      "teuken-2\n",
      "mt0-2\n",
      "\n",
      "ous19_ar\n",
      "llama3-2\n",
      "aya101-2\n",
      "bloomz-2\n",
      "teuken-2\n",
      "mt0-2\n",
      "\n",
      "ous19_fr\n",
      "llama3-2\n",
      "aya101-2\n",
      "bloomz-2\n",
      "teuken-2\n",
      "mt0-2\n",
      "\n",
      "san20_it\n",
      "llama3-2\n",
      "aya101-2\n",
      "bloomz-2\n",
      "teuken-2\n",
      "mt0-2\n",
      "\n",
      "gahd24_de\n",
      "llama3-2\n",
      "aya101-2\n",
      "bloomz-2\n",
      "teuken-2\n",
      "mt0-2\n",
      "\n",
      "xdomain_tr\n",
      "llama3-2\n",
      "aya101-2\n",
      "bloomz-2\n",
      "teuken-2\n",
      "mt0-2\n",
      "\n"
     ]
    }
   ],
   "execution_count": 7
  },
  {
   "metadata": {
    "ExecuteTime": {
     "end_time": "2025-03-07T10:32:24.252726Z",
     "start_time": "2025-03-07T10:32:24.247836Z"
    }
   },
   "cell_type": "code",
   "source": [
    "for d, data_result in enumerate(data_results):\n",
    "    # print(data_names[d])\n",
    "    for m, model_result in enumerate(data_result):\n",
    "        # print(models[m])\n",
    "        if models[m] == 'llama3-2':\n",
    "            for t, template_results in enumerate(model_result):\n",
    "                # print(templates[t])\n",
    "                for j in [str(i) for i in template_results]:\n",
    "                    print(j, end=\"\\t\")\n",
    "                print()\n",
    "            print()\n",
    "            print()\n",
    "    # print()"
   ],
   "id": "f2ec55417a2dc370",
   "outputs": [
    {
     "name": "stdout",
     "output_type": "stream",
     "text": [
      "42.06\t75.64\t53.62\t\n",
      "59.65\t51.92\t61.75\t\n",
      "62.38\t53.74\t74.92\t\n",
      "58.09\t57.8\t36.87\t\n",
      "59.31\t51.35\t85.36\t\n",
      "42.26\t74.71\t55.86\t\n",
      "55.9\t48.5\t51.94\t\n",
      "\n",
      "\n",
      "70.99\t64.29\t54.32\t\n",
      "64.94\t58.88\t41.67\t\n",
      "68.64\t64.93\t46.68\t\n",
      "42.95\t73.57\t70.66\t\n",
      "46.92\t82.82\t77.17\t\n",
      "47.2\t82.54\t79.46\t\n",
      "48.19\t66.99\t68.29\t\n",
      "\n",
      "\n",
      "42.34\t14.54\t69.63\t\n",
      "42.44\t14.66\t70.34\t\n",
      "50.5\t15.8\t44.63\t\n",
      "53.75\t18.07\t20.06\t\n",
      "27.43\t93.79\t40.53\t\n",
      "30.85\t93.48\t50.42\t\n",
      "54.8\t19.11\t28.95\t\n",
      "\n",
      "\n",
      "41.29\t70.59\t57.9\t\n",
      "59.8\t37.11\t43.59\t\n",
      "38.84\t91.47\t52.7\t\n",
      "40.94\t81.21\t87.82\t\n",
      "50.1\t30.21\t84.33\t\n",
      "61.49\t37.73\t84.33\t\n",
      "44.31\t68.79\t69.07\t\n",
      "\n",
      "\n",
      "30.78\t92.59\t55.78\t\n",
      "56.23\t19.92\t50.64\t\n",
      "40.92\t40.81\t62.8\t\n",
      "37.08\t91.0\t88.32\t\n",
      "30.21\t93.12\t53.03\t\n",
      "28.74\t94.27\t55.13\t\n",
      "56.5\t25.74\t17.09\t\n",
      "\n",
      "\n",
      "67.24\t73.38\t76.19\t\n",
      "72.05\t68.5\t65.39\t\n",
      "74.35\t68.96\t72.46\t\n",
      "59.5\t76.9\t29.22\t\n",
      "71.17\t60.72\t87.74\t\n",
      "47.29\t88.11\t64.64\t\n",
      "44.52\t70.72\t78.45\t\n",
      "\n",
      "\n",
      "76.14\t69.01\t80.74\t\n",
      "66.05\t70.13\t47.13\t\n",
      "75.13\t72.87\t69.2\t\n",
      "44.08\t74.34\t81.54\t\n",
      "43.81\t88.06\t60.76\t\n",
      "26.78\t86.03\t35.34\t\n",
      "39.13\t63.55\t85.56\t\n",
      "\n",
      "\n",
      "67.76\t77.31\t72.62\t\n",
      "69.47\t63.92\t69.06\t\n",
      "72.74\t81.45\t54.21\t\n",
      "57.36\t85.7\t24.81\t\n",
      "73.08\t65.98\t78.24\t\n",
      "73.98\t66.72\t79.67\t\n",
      "45.24\t77.52\t61.09\t\n",
      "\n",
      "\n"
     ]
    }
   ],
   "execution_count": 11
  },
  {
   "metadata": {},
   "cell_type": "code",
   "outputs": [],
   "execution_count": null,
   "source": "",
   "id": "876a29b7beea3d92"
  },
  {
   "metadata": {},
   "cell_type": "code",
   "outputs": [],
   "execution_count": null,
   "source": "",
   "id": "237b3c57416f50a0"
  },
  {
   "metadata": {},
   "cell_type": "code",
   "outputs": [],
   "execution_count": null,
   "source": "",
   "id": "d5dfd6376aa17f86"
  },
  {
   "metadata": {},
   "cell_type": "code",
   "outputs": [],
   "execution_count": null,
   "source": "",
   "id": "b2b9c6d474957120"
  },
  {
   "metadata": {},
   "cell_type": "code",
   "outputs": [],
   "execution_count": null,
   "source": "",
   "id": "1fb83ca3418dc877"
  },
  {
   "metadata": {},
   "cell_type": "code",
   "outputs": [],
   "execution_count": null,
   "source": "",
   "id": "3b9cf9bc62a1533d"
  }
 ],
 "metadata": {
  "kernelspec": {
   "display_name": "Python 3 (ipykernel)",
   "language": "python",
   "name": "python3"
  },
  "language_info": {
   "codemirror_mode": {
    "name": "ipython",
    "version": 3
   },
   "file_extension": ".py",
   "mimetype": "text/x-python",
   "name": "python",
   "nbconvert_exporter": "python",
   "pygments_lexer": "ipython3",
   "version": "3.12.8"
  }
 },
 "nbformat": 4,
 "nbformat_minor": 5
}
