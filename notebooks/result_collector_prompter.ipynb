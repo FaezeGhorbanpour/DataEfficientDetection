{
 "cells": [
  {
   "cell_type": "code",
   "id": "initial_id",
   "metadata": {
    "ExecuteTime": {
     "end_time": "2025-02-25T15:57:08.424503Z",
     "start_time": "2025-02-25T15:57:00.280192Z"
    }
   },
   "source": [
    "import pandas as pd\n",
    "import numpy as np\n",
    "import os, json"
   ],
   "outputs": [],
   "execution_count": 1
  },
  {
   "cell_type": "code",
   "id": "408034a64ebd7437",
   "metadata": {
    "ExecuteTime": {
     "end_time": "2025-02-25T15:57:08.475245Z",
     "start_time": "2025-02-25T15:57:08.471892Z"
    }
   },
   "source": "results_path = \"/mounts/data/proj/faeze/data_efficient_hate/models/prompter/\"",
   "outputs": [],
   "execution_count": 2
  },
  {
   "cell_type": "code",
   "id": "79ac16f0e466a6d7",
   "metadata": {
    "ExecuteTime": {
     "end_time": "2025-02-25T17:39:59.144835Z",
     "start_time": "2025-02-25T17:39:59.140812Z"
    }
   },
   "source": [
    "\n",
    "model_name = \"zero_shot_prompting\"\n",
    "split = 'test'"
   ],
   "outputs": [],
   "execution_count": 51
  },
  {
   "cell_type": "code",
   "id": "6269e9630feaf33c",
   "metadata": {
    "ExecuteTime": {
     "end_time": "2025-02-25T17:39:59.426357Z",
     "start_time": "2025-02-25T17:39:59.422713Z"
    }
   },
   "source": [
    "path = os.path.join(results_path, model_name)"
   ],
   "outputs": [],
   "execution_count": 52
  },
  {
   "cell_type": "code",
   "id": "334eea4bed833002",
   "metadata": {
    "ExecuteTime": {
     "end_time": "2025-02-25T17:39:59.572971Z",
     "start_time": "2025-02-25T17:39:59.568807Z"
    }
   },
   "source": [
    "models = [\"mt0\" , \"aya101\", \"bloomz\", \"llama3\" , \"teuken\" , \"llama2\" ,  \"mistral\" , \"gemma\" ]\n",
    "rss = [str(i) for i in range(0, 3)]\n",
    "templates = [\"general\" , \"classification\", \"definition\" , \"chain_of_thought\", \"role_play\", \"multilingual\" , \"nli\", ]"
   ],
   "outputs": [],
   "execution_count": 53
  },
  {
   "cell_type": "code",
   "id": "f67f9de375bf4d23",
   "metadata": {
    "ExecuteTime": {
     "end_time": "2025-02-25T18:15:28.198932Z",
     "start_time": "2025-02-25T18:15:28.194187Z"
    }
   },
   "source": [
    "data_names = [\"bas19_es\", \"for19_pt\", \"has21_hi\", \"ous19_ar\", \"ous19_fr\", \"san20_it\", \"gahd24_de\", \"xdomain_tr\"]\n",
    "# prompt_language = [\"en\"]*len(data_names)\n",
    "prompt_language = [i.split(\"_\")[-1] for i in data_names]\n",
    "# data_names = [\"bas19_es\", \"ous19_ar\", \"ous19_fr\", \"san20_it\", \"gahd24_de\"]\n",
    "# data_names = [\"bas19_es\", \"ous19_ar\"]"
   ],
   "outputs": [],
   "execution_count": 75
  },
  {
   "cell_type": "code",
   "id": "6dc76b806e35faef",
   "metadata": {
    "scrolled": true,
    "ExecuteTime": {
     "end_time": "2025-02-25T18:16:48.587621Z",
     "start_time": "2025-02-25T18:15:39.149623Z"
    }
   },
   "source": [
    "\n",
    "data_results = []\n",
    "for i, data_name in enumerate(data_names):\n",
    "    print(data_name)\n",
    "    model_results = []\n",
    "    for model_name in models:\n",
    "        print(model_name)\n",
    "        template_results = []\n",
    "        for prompt in templates:\n",
    "            split_path = os.path.join(path, model_name + \"/\" + data_name+\"/\"+prompt_language[i]+ \"/\" + prompt + \"/\"+split+\"/\")\n",
    "            # print(split_path)\n",
    "            rss_results = []\n",
    "            for root, folders, files in os.walk(split_path):\n",
    "                if \"checkpoint\" in root or \"evaluation_results.json\" not in files:\n",
    "                    continue\n",
    "                metrics = []\n",
    "                with open(os.path.join(root, \"evaluation_results.json\"), \"r\") as f:\n",
    "                    file = json.load(f)\n",
    "                    # print(file)\n",
    "                    f1 = file.get(\"f1-macro\", '')\n",
    "                    metrics.append(f1)\n",
    "                    f1 = file.get(\"precision_hate\", '')\n",
    "                    metrics.append(f1)\n",
    "                    f1 = file.get(\"recall_hate\", '')\n",
    "                    metrics.append(f1)\n",
    "                    # fp = float(file.get(\"false_positives\", 0))\n",
    "                    # tn = float(file.get(\"true_negatives\", 0))\n",
    "                    # if fp > 0 and tn > 0:\n",
    "                    #     fpr = fp/(fp+tn)\n",
    "                    #     metrics.append(fpr)\n",
    "                    # else:\n",
    "                    #     metrics.append(0)\n",
    "                    # fn = float(file.get(\"false_negatives\", 0))\n",
    "                    # tp = float(file.get(\"true_positives\", 0))\n",
    "                    # if tp > 0 and fn > 0:\n",
    "                    #     fnr = fn/(fn+tp)\n",
    "                    #     metrics.append(fnr)\n",
    "                    # else:\n",
    "                    #     metrics.append(0)\n",
    "                    rss_results.append(metrics)\n",
    "            if len(rss_results) >= 3:\n",
    "                # print(rss_results)\n",
    "                # print([round(sum(col) / len(col)*100, 2) for col in zip(*rss_results)])\n",
    "                template_results.append([round(sum(col) / len(col)*100, 2) for col in zip(*rss_results)])\n",
    "            else:\n",
    "                template_results.append([None, None, None])\n",
    "                print(data_name, model_name, prompt, \"no\")\n",
    "        model_results.append(template_results)\n",
    "        # print(template_results)\n",
    "    data_results.append(model_results)\n",
    "    print()"
   ],
   "outputs": [
    {
     "name": "stdout",
     "output_type": "stream",
     "text": [
      "bas19_es\n",
      "mt0\n",
      "aya101\n",
      "bloomz\n",
      "llama3\n",
      "teuken\n",
      "llama2\n",
      "mistral\n",
      "gemma\n",
      "\n",
      "for19_pt\n",
      "mt0\n",
      "aya101\n",
      "bloomz\n",
      "llama3\n",
      "teuken\n",
      "llama2\n",
      "mistral\n",
      "gemma\n",
      "\n",
      "has21_hi\n",
      "mt0\n",
      "aya101\n",
      "bloomz\n",
      "llama3\n",
      "teuken\n",
      "llama2\n",
      "mistral\n",
      "gemma\n",
      "\n",
      "ous19_ar\n",
      "mt0\n",
      "aya101\n",
      "bloomz\n",
      "llama3\n",
      "teuken\n",
      "llama2\n",
      "mistral\n",
      "gemma\n",
      "\n",
      "ous19_fr\n",
      "mt0\n",
      "aya101\n",
      "bloomz\n",
      "llama3\n",
      "teuken\n",
      "llama2\n",
      "mistral\n",
      "gemma\n",
      "\n",
      "san20_it\n",
      "mt0\n",
      "aya101\n",
      "bloomz\n",
      "san20_it bloomz definition no\n",
      "llama3\n",
      "teuken\n",
      "llama2\n",
      "mistral\n",
      "gemma\n",
      "\n",
      "gahd24_de\n",
      "mt0\n",
      "aya101\n",
      "bloomz\n",
      "gahd24_de bloomz general no\n",
      "gahd24_de bloomz classification no\n",
      "gahd24_de bloomz definition no\n",
      "gahd24_de bloomz multilingual no\n",
      "llama3\n",
      "teuken\n",
      "llama2\n",
      "mistral\n",
      "gemma\n",
      "\n",
      "xdomain_tr\n",
      "mt0\n",
      "aya101\n",
      "bloomz\n",
      "llama3\n",
      "teuken\n",
      "llama2\n",
      "xdomain_tr llama2 general no\n",
      "xdomain_tr llama2 classification no\n",
      "xdomain_tr llama2 definition no\n",
      "xdomain_tr llama2 multilingual no\n",
      "mistral\n",
      "gemma\n",
      "\n"
     ]
    }
   ],
   "execution_count": 77
  },
  {
   "cell_type": "code",
   "id": "d52b6282c33a55fb",
   "metadata": {
    "ExecuteTime": {
     "end_time": "2025-02-25T18:25:09.326305Z",
     "start_time": "2025-02-25T18:25:09.319162Z"
    }
   },
   "source": [
    "for d, data_result in enumerate(data_results):\n",
    "    # print(data_names[d])\n",
    "    for m, model_result in enumerate(data_result):\n",
    "        # print(models[m])\n",
    "        if models[m] == 'gemma':\n",
    "            for t, template_results in enumerate(model_result):\n",
    "                # print(templates[t])\n",
    "                for j in [str(i) for i in template_results]:\n",
    "                    print(j, end=\"\\t\")\n",
    "                print()\n",
    "            print()\n",
    "            print()\n",
    "    # print()"
   ],
   "outputs": [
    {
     "name": "stdout",
     "output_type": "stream",
     "text": [
      "20.88\t59.76\t65.8\t\n",
      "24.31\t57.99\t98.19\t\n",
      "1.45\t53.01\t2.27\t\n",
      "22.43\t58.13\t79.86\t\n",
      "36.71\t0.0\t0.0\t\n",
      "15.05\t63.91\t34.91\t\n",
      "20.53\t61.39\t61.78\t\n",
      "\n",
      "\n",
      "15.65\t100.0\t0.76\t\n",
      "17.73\t74.34\t2.75\t\n",
      "0.2\t0.0\t0.0\t\n",
      "26.64\t78.52\t52.53\t\n",
      "42.49\t88.68\t54.97\t\n",
      "32.62\t72.7\t84.43\t\n",
      "48.84\t34.71\t69.78\t\n",
      "\n",
      "\n",
      "0.0\t0.0\t0.0\t\n",
      "6.17\t0.0\t0.0\t\n",
      "0.74\t100.0\t1.11\t\n",
      "0.11\t100.0\t0.17\t\n",
      "0.09\t0.0\t0.0\t\n",
      "11.49\t93.65\t18.37\t\n",
      "1.47\t0.0\t0.0\t\n",
      "\n",
      "\n",
      "32.49\t77.15\t58.05\t\n",
      "25.29\t73.29\t64.45\t\n",
      "36.11\t79.81\t70.67\t\n",
      "35.57\t78.34\t84.68\t\n",
      "35.38\t78.62\t70.1\t\n",
      "32.33\t76.53\t85.55\t\n",
      "22.37\t73.95\t46.34\t\n",
      "\n",
      "\n",
      "9.5\t10.41\t100.0\t\n",
      "8.4\t84.92\t2.48\t\n",
      "6.38\t100.0\t0.42\t\n",
      "0.92\t0.0\t0.0\t\n",
      "7.8\t97.78\t2.21\t\n",
      "19.12\t93.7\t22.89\t\n",
      "25.19\t10.1\t77.56\t\n",
      "\n",
      "\n",
      "22.84\t60.83\t78.43\t\n",
      "23.88\t56.25\t89.21\t\n",
      "24.81\t57.85\t9.38\t\n",
      "28.64\t38.86\t66.67\t\n",
      "37.42\t63.13\t70.41\t\n",
      "51.68\t63.7\t19.32\t\n",
      "36.98\t66.67\t0.16\t\n",
      "\n",
      "\n",
      "14.44\t42.03\t0.79\t\n",
      "21.86\t54.81\t1.22\t\n",
      "24.19\t75.54\t6.72\t\n",
      "13.0\t0.0\t0.0\t\n",
      "23.48\t56.59\t8.3\t\n",
      "17.38\t52.45\t17.41\t\n",
      "27.4\t48.19\t30.13\t\n",
      "\n",
      "\n",
      "14.57\t0.0\t0.0\t\n",
      "19.02\t69.6\t9.15\t\n",
      "6.92\t0.0\t0.0\t\n",
      "0.15\t0.0\t0.0\t\n",
      "9.43\t0.0\t0.0\t\n",
      "14.49\t0.0\t0.0\t\n",
      "16.35\t0.0\t0.0\t\n",
      "\n",
      "\n"
     ]
    }
   ],
   "execution_count": 85
  },
  {
   "cell_type": "code",
   "id": "26f68e4a6994ffe1",
   "metadata": {
    "ExecuteTime": {
     "end_time": "2025-02-24T20:35:12.343932Z",
     "start_time": "2025-02-24T20:35:12.340712Z"
    }
   },
   "source": [],
   "outputs": [],
   "execution_count": null
  },
  {
   "metadata": {},
   "cell_type": "code",
   "outputs": [],
   "execution_count": null,
   "source": "",
   "id": "237b3c57416f50a0"
  },
  {
   "metadata": {},
   "cell_type": "code",
   "outputs": [],
   "execution_count": null,
   "source": "",
   "id": "d5dfd6376aa17f86"
  },
  {
   "metadata": {},
   "cell_type": "code",
   "outputs": [],
   "execution_count": null,
   "source": "",
   "id": "b2b9c6d474957120"
  },
  {
   "metadata": {},
   "cell_type": "code",
   "outputs": [],
   "execution_count": null,
   "source": "",
   "id": "1fb83ca3418dc877"
  },
  {
   "metadata": {},
   "cell_type": "code",
   "outputs": [],
   "execution_count": null,
   "source": "",
   "id": "3b9cf9bc62a1533d"
  }
 ],
 "metadata": {
  "kernelspec": {
   "display_name": "Python 3 (ipykernel)",
   "language": "python",
   "name": "python3"
  },
  "language_info": {
   "codemirror_mode": {
    "name": "ipython",
    "version": 3
   },
   "file_extension": ".py",
   "mimetype": "text/x-python",
   "name": "python",
   "nbconvert_exporter": "python",
   "pygments_lexer": "ipython3",
   "version": "3.12.8"
  }
 },
 "nbformat": 4,
 "nbformat_minor": 5
}
