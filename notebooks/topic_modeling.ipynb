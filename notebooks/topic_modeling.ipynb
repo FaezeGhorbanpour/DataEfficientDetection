{
 "cells": [
  {
   "cell_type": "code",
   "id": "initial_id",
   "metadata": {
    "collapsed": true,
    "ExecuteTime": {
     "end_time": "2025-07-16T17:31:47.851401Z",
     "start_time": "2025-07-16T17:29:49.935594Z"
    }
   },
   "source": [
    "from data_provider import DataProvider\n",
    "from embedder import Embedder"
   ],
   "outputs": [],
   "execution_count": 1
  },
  {
   "metadata": {
    "ExecuteTime": {
     "end_time": "2025-07-16T17:31:48.520744Z",
     "start_time": "2025-07-16T17:31:48.517304Z"
    }
   },
   "cell_type": "code",
   "source": [
    "import os\n",
    "os.environ['TRANSFORMERS_CACHE'] = '/mounts/data/proj/faeze/.cache/hf/'\n",
    "os.environ['HF_HOME'] = '/mounts/data/proj/faeze/.cache/hf/'\n",
    "os.environ['HF_DATASETS_CACHE'] = '/mounts/data/proj/faeze/.cache/hf/'\n",
    "os.environ['TORCH_HUB'] = '/mounts/data/proj/faeze/.cache/torch/'\n",
    "os.environ['TORCH_HOME'] = '/mounts/data/proj/faeze/.cache/torch/'\n",
    "os.environ[\"WANDB_DIR\"] = '/mounts/data/proj/faeze/.cache/wandb/'"
   ],
   "id": "18ff793098eb7c15",
   "outputs": [],
   "execution_count": 2
  },
  {
   "metadata": {
    "ExecuteTime": {
     "end_time": "2025-07-16T17:31:48.654795Z",
     "start_time": "2025-07-16T17:31:48.651710Z"
    }
   },
   "cell_type": "code",
   "source": "data_provider_ = DataProvider()",
   "id": "de0765a565daf",
   "outputs": [],
   "execution_count": 3
  },
  {
   "metadata": {
    "ExecuteTime": {
     "end_time": "2025-07-16T17:31:48.775638Z",
     "start_time": "2025-07-16T17:31:48.771416Z"
    }
   },
   "cell_type": "code",
   "source": [
    "datas = [\"bas19_es\", \"for19_pt\", \"has21_hi\", \"ous19_ar\", \"ous19_fr\", \"san20_it\", \"gahd24_de\", \"xdomain_tr\", \"dyn21_en\", \"xdomain_en\", \"implicit_en\", \"xplain_en\", \"ken20_en\", \"fou18_en\"]\n",
    "languages = [i.split('_')[-1] for i in datas]"
   ],
   "id": "7bf0604ec6c2e96f",
   "outputs": [],
   "execution_count": 4
  },
  {
   "metadata": {
    "ExecuteTime": {
     "end_time": "2025-07-16T17:31:49.227825Z",
     "start_time": "2025-07-16T17:31:49.224391Z"
    }
   },
   "cell_type": "code",
   "source": "data_names = [i+'-2000-rs1' for i in datas] #${dataset}-${split}-${RSS[i]}",
   "id": "401d5248d1802fc4",
   "outputs": [],
   "execution_count": 5
  },
  {
   "metadata": {
    "ExecuteTime": {
     "end_time": "2025-07-16T17:31:56.290460Z",
     "start_time": "2025-07-16T17:31:49.515235Z"
    }
   },
   "cell_type": "code",
   "source": "datasets = data_provider_.load_datasets(data_names, languages)",
   "id": "88ec6e8261b585",
   "outputs": [
    {
     "name": "stderr",
     "output_type": "stream",
     "text": [
      "Using the latest cached version of the module from /mounts/data/corp/huggingface/modules/datasets_modules/datasets/baseline_data/b7251845183b39abbb6d9035ffe620e6b81f4de92ea1733dfa4fa18d060d6612 (last modified on Wed Mar 12 17:18:48 2025) since it couldn't be found locally at baseline_data, or remotely on the Hugging Face Hub.\n",
      "Using the latest cached version of the module from /mounts/data/corp/huggingface/modules/datasets_modules/datasets/baseline_data/b7251845183b39abbb6d9035ffe620e6b81f4de92ea1733dfa4fa18d060d6612 (last modified on Wed Mar 12 17:18:48 2025) since it couldn't be found locally at baseline_data, or remotely on the Hugging Face Hub.\n",
      "Using the latest cached version of the module from /mounts/data/corp/huggingface/modules/datasets_modules/datasets/baseline_data/b7251845183b39abbb6d9035ffe620e6b81f4de92ea1733dfa4fa18d060d6612 (last modified on Wed Mar 12 17:18:48 2025) since it couldn't be found locally at baseline_data, or remotely on the Hugging Face Hub.\n",
      "Using the latest cached version of the module from /mounts/data/corp/huggingface/modules/datasets_modules/datasets/baseline_data/b7251845183b39abbb6d9035ffe620e6b81f4de92ea1733dfa4fa18d060d6612 (last modified on Wed Mar 12 17:18:48 2025) since it couldn't be found locally at baseline_data, or remotely on the Hugging Face Hub.\n",
      "Using the latest cached version of the module from /mounts/data/corp/huggingface/modules/datasets_modules/datasets/baseline_data/b7251845183b39abbb6d9035ffe620e6b81f4de92ea1733dfa4fa18d060d6612 (last modified on Wed Mar 12 17:18:48 2025) since it couldn't be found locally at baseline_data, or remotely on the Hugging Face Hub.\n",
      "Using the latest cached version of the module from /mounts/data/corp/huggingface/modules/datasets_modules/datasets/baseline_data/b7251845183b39abbb6d9035ffe620e6b81f4de92ea1733dfa4fa18d060d6612 (last modified on Wed Mar 12 17:18:48 2025) since it couldn't be found locally at baseline_data, or remotely on the Hugging Face Hub.\n",
      "Using the latest cached version of the module from /mounts/data/corp/huggingface/modules/datasets_modules/datasets/baseline_data/b7251845183b39abbb6d9035ffe620e6b81f4de92ea1733dfa4fa18d060d6612 (last modified on Wed Mar 12 17:18:48 2025) since it couldn't be found locally at baseline_data, or remotely on the Hugging Face Hub.\n",
      "Using the latest cached version of the module from /mounts/data/corp/huggingface/modules/datasets_modules/datasets/baseline_data/b7251845183b39abbb6d9035ffe620e6b81f4de92ea1733dfa4fa18d060d6612 (last modified on Wed Mar 12 17:18:48 2025) since it couldn't be found locally at baseline_data, or remotely on the Hugging Face Hub.\n",
      "Using the latest cached version of the module from /mounts/data/corp/huggingface/modules/datasets_modules/datasets/baseline_data/b7251845183b39abbb6d9035ffe620e6b81f4de92ea1733dfa4fa18d060d6612 (last modified on Wed Mar 12 17:18:48 2025) since it couldn't be found locally at baseline_data, or remotely on the Hugging Face Hub.\n",
      "Using the latest cached version of the module from /mounts/data/corp/huggingface/modules/datasets_modules/datasets/baseline_data/b7251845183b39abbb6d9035ffe620e6b81f4de92ea1733dfa4fa18d060d6612 (last modified on Wed Mar 12 17:18:48 2025) since it couldn't be found locally at baseline_data, or remotely on the Hugging Face Hub.\n",
      "Using the latest cached version of the module from /mounts/data/corp/huggingface/modules/datasets_modules/datasets/baseline_data/b7251845183b39abbb6d9035ffe620e6b81f4de92ea1733dfa4fa18d060d6612 (last modified on Wed Mar 12 17:18:48 2025) since it couldn't be found locally at baseline_data, or remotely on the Hugging Face Hub.\n",
      "Using the latest cached version of the module from /mounts/data/corp/huggingface/modules/datasets_modules/datasets/baseline_data/b7251845183b39abbb6d9035ffe620e6b81f4de92ea1733dfa4fa18d060d6612 (last modified on Wed Mar 12 17:18:48 2025) since it couldn't be found locally at baseline_data, or remotely on the Hugging Face Hub.\n",
      "Using the latest cached version of the module from /mounts/data/corp/huggingface/modules/datasets_modules/datasets/baseline_data/b7251845183b39abbb6d9035ffe620e6b81f4de92ea1733dfa4fa18d060d6612 (last modified on Wed Mar 12 17:18:48 2025) since it couldn't be found locally at baseline_data, or remotely on the Hugging Face Hub.\n",
      "Using the latest cached version of the module from /mounts/data/corp/huggingface/modules/datasets_modules/datasets/baseline_data/b7251845183b39abbb6d9035ffe620e6b81f4de92ea1733dfa4fa18d060d6612 (last modified on Wed Mar 12 17:18:48 2025) since it couldn't be found locally at baseline_data, or remotely on the Hugging Face Hub.\n"
     ]
    }
   ],
   "execution_count": 6
  },
  {
   "metadata": {
    "ExecuteTime": {
     "end_time": "2025-07-16T17:31:56.367725Z",
     "start_time": "2025-07-16T17:31:56.365328Z"
    }
   },
   "cell_type": "code",
   "source": "",
   "id": "c1a7c6172e3182d9",
   "outputs": [],
   "execution_count": null
  },
  {
   "metadata": {},
   "cell_type": "code",
   "outputs": [],
   "execution_count": null,
   "source": "",
   "id": "fc4211a206894adf"
  }
 ],
 "metadata": {
  "kernelspec": {
   "display_name": "Python 3",
   "language": "python",
   "name": "python3"
  },
  "language_info": {
   "codemirror_mode": {
    "name": "ipython",
    "version": 2
   },
   "file_extension": ".py",
   "mimetype": "text/x-python",
   "name": "python",
   "nbconvert_exporter": "python",
   "pygments_lexer": "ipython2",
   "version": "2.7.6"
  }
 },
 "nbformat": 4,
 "nbformat_minor": 5
}
