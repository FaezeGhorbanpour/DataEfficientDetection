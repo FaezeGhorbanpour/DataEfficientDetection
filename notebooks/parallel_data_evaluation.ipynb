{
 "cells": [
  {
   "cell_type": "code",
   "id": "initial_id",
   "metadata": {
    "collapsed": true,
    "jupyter": {
     "outputs_hidden": true
    },
    "ExecuteTime": {
     "end_time": "2025-02-14T00:41:40.310417Z",
     "start_time": "2025-02-14T00:41:28.261941Z"
    }
   },
   "source": [
    "from embedder import Embedder\n",
    "from data_provider import DataProvider"
   ],
   "outputs": [],
   "execution_count": 2
  },
  {
   "cell_type": "code",
   "id": "2e7edefccc956ad",
   "metadata": {
    "ExecuteTime": {
     "end_time": "2025-02-14T00:41:40.588223Z",
     "start_time": "2025-02-14T00:41:40.584347Z"
    }
   },
   "source": [
    "import os\n",
    "os.environ['TRANSFORMERS_CACHE'] = '/mounts/data/proj/faeze/.cache/hf/'\n",
    "os.environ['HF_HOME'] = '/mounts/data/proj/faeze/.cache/hf/'\n",
    "os.environ['HF_DATASETS_CACHE'] = '/mounts/data/proj/faeze/.cache/hf/'\n",
    "os.environ['TORCH_HUB'] = '/mounts/data/proj/faeze/.cache/torch/'\n",
    "os.environ['TORCH_HOME'] = '/mounts/data/proj/faeze/.cache/torch/'\n",
    "os.environ[\"WANDB_DIR\"] = '/mounts/data/proj/faeze/.cache/wandb/'"
   ],
   "outputs": [],
   "execution_count": 3
  },
  {
   "cell_type": "code",
   "id": "5405594c52cf8d16",
   "metadata": {
    "ExecuteTime": {
     "end_time": "2025-02-14T00:41:40.700789Z",
     "start_time": "2025-02-14T00:41:40.697377Z"
    }
   },
   "source": [
    "data_provider_ = DataProvider()"
   ],
   "outputs": [],
   "execution_count": 4
  },
  {
   "cell_type": "code",
   "id": "daceae59c931dc57",
   "metadata": {
    "ExecuteTime": {
     "end_time": "2025-02-14T00:41:40.779894Z",
     "start_time": "2025-02-14T00:41:40.775838Z"
    }
   },
   "source": [
    "languages = ['en', 'tr', 'de', 'hr', 'ru', 'sq']\n",
    "types = ['Gao', 'Trac', 'Wul']\n",
    "\n",
    "datas = [f'parallel_data/{i}-Trac' for i in languages]"
   ],
   "outputs": [],
   "execution_count": 5
  },
  {
   "cell_type": "code",
   "id": "65922a61d69959a6",
   "metadata": {
    "ExecuteTime": {
     "end_time": "2025-02-14T00:41:40.947567Z",
     "start_time": "2025-02-14T00:41:40.853807Z"
    }
   },
   "source": [
    "from datasets import load_dataset, Dataset\n",
    "load_dataset('../parallel_data', 'en-Trac')"
   ],
   "outputs": [
    {
     "data": {
      "text/plain": [
       "DatasetDict({\n",
       "    test: Dataset({\n",
       "        features: ['id', 'text', 'label'],\n",
       "        num_rows: 300\n",
       "    })\n",
       "})"
      ]
     },
     "execution_count": 6,
     "metadata": {},
     "output_type": "execute_result"
    }
   ],
   "execution_count": 6
  },
  {
   "cell_type": "code",
   "id": "e153fc4ad426d50f",
   "metadata": {
    "ExecuteTime": {
     "end_time": "2025-02-14T00:41:41.877702Z",
     "start_time": "2025-02-14T00:41:40.999913Z"
    }
   },
   "source": [
    "datasets = data_provider_.load_datasets(datas, languages)"
   ],
   "outputs": [
    {
     "name": "stderr",
     "output_type": "stream",
     "text": [
      "Using the latest cached version of the module from /mounts/data/corp/huggingface/modules/datasets_modules/datasets/parallel_data/554aabb7013ea87245a91e6a4adf7416f0a8e408878770fb4797b85e8c2d4c7a (last modified on Tue Dec 17 15:28:46 2024) since it couldn't be found locally at parallel_data, or remotely on the Hugging Face Hub.\n",
      "Using the latest cached version of the module from /mounts/data/corp/huggingface/modules/datasets_modules/datasets/parallel_data/554aabb7013ea87245a91e6a4adf7416f0a8e408878770fb4797b85e8c2d4c7a (last modified on Tue Dec 17 15:28:46 2024) since it couldn't be found locally at parallel_data, or remotely on the Hugging Face Hub.\n",
      "Using the latest cached version of the module from /mounts/data/corp/huggingface/modules/datasets_modules/datasets/parallel_data/554aabb7013ea87245a91e6a4adf7416f0a8e408878770fb4797b85e8c2d4c7a (last modified on Tue Dec 17 15:28:46 2024) since it couldn't be found locally at parallel_data, or remotely on the Hugging Face Hub.\n",
      "Using the latest cached version of the module from /mounts/data/corp/huggingface/modules/datasets_modules/datasets/parallel_data/554aabb7013ea87245a91e6a4adf7416f0a8e408878770fb4797b85e8c2d4c7a (last modified on Tue Dec 17 15:28:46 2024) since it couldn't be found locally at parallel_data, or remotely on the Hugging Face Hub.\n",
      "Using the latest cached version of the module from /mounts/data/corp/huggingface/modules/datasets_modules/datasets/parallel_data/554aabb7013ea87245a91e6a4adf7416f0a8e408878770fb4797b85e8c2d4c7a (last modified on Tue Dec 17 15:28:46 2024) since it couldn't be found locally at parallel_data, or remotely on the Hugging Face Hub.\n",
      "Using the latest cached version of the module from /mounts/data/corp/huggingface/modules/datasets_modules/datasets/parallel_data/554aabb7013ea87245a91e6a4adf7416f0a8e408878770fb4797b85e8c2d4c7a (last modified on Tue Dec 17 15:28:46 2024) since it couldn't be found locally at parallel_data, or remotely on the Hugging Face Hub.\n"
     ]
    }
   ],
   "execution_count": 7
  },
  {
   "cell_type": "code",
   "id": "6b1648b06c9d3860",
   "metadata": {
    "ExecuteTime": {
     "end_time": "2025-02-14T00:41:41.970936Z",
     "start_time": "2025-02-14T00:41:41.964947Z"
    }
   },
   "source": [
    "datasets"
   ],
   "outputs": [
    {
     "data": {
      "text/plain": [
       "[{'name': 'parallel_data/en-Trac',\n",
       "  'data': DatasetDict({\n",
       "      test: Dataset({\n",
       "          features: ['id', 'text', 'label'],\n",
       "          num_rows: 300\n",
       "      })\n",
       "  }),\n",
       "  'language': 'en'},\n",
       " {'name': 'parallel_data/tr-Trac',\n",
       "  'data': DatasetDict({\n",
       "      test: Dataset({\n",
       "          features: ['id', 'text', 'label'],\n",
       "          num_rows: 300\n",
       "      })\n",
       "  }),\n",
       "  'language': 'tr'},\n",
       " {'name': 'parallel_data/de-Trac',\n",
       "  'data': DatasetDict({\n",
       "      test: Dataset({\n",
       "          features: ['id', 'text', 'label'],\n",
       "          num_rows: 300\n",
       "      })\n",
       "  }),\n",
       "  'language': 'de'},\n",
       " {'name': 'parallel_data/hr-Trac',\n",
       "  'data': DatasetDict({\n",
       "      test: Dataset({\n",
       "          features: ['id', 'text', 'label'],\n",
       "          num_rows: 300\n",
       "      })\n",
       "  }),\n",
       "  'language': 'hr'},\n",
       " {'name': 'parallel_data/ru-Trac',\n",
       "  'data': DatasetDict({\n",
       "      test: Dataset({\n",
       "          features: ['id', 'text', 'label'],\n",
       "          num_rows: 300\n",
       "      })\n",
       "  }),\n",
       "  'language': 'ru'},\n",
       " {'name': 'parallel_data/sq-Trac',\n",
       "  'data': DatasetDict({\n",
       "      test: Dataset({\n",
       "          features: ['id', 'text', 'label'],\n",
       "          num_rows: 300\n",
       "      })\n",
       "  }),\n",
       "  'language': 'sq'}]"
      ]
     },
     "execution_count": 8,
     "metadata": {},
     "output_type": "execute_result"
    }
   ],
   "execution_count": 8
  },
  {
   "cell_type": "code",
   "id": "b23002f59c5df508",
   "metadata": {
    "ExecuteTime": {
     "end_time": "2025-02-14T00:41:42.097926Z",
     "start_time": "2025-02-14T00:41:42.093265Z"
    }
   },
   "source": [
    "def get_similarity(model_name):\n",
    "    embedder_ = Embedder(model_name=model_name)\n",
    "    embeddings, metadatas = embedder_.embed_datasets(datasets, ['test'], False)\n",
    "    \n",
    "    similarities = [[Embedder.calculate_similarity(embeddings[i], embeddings[j])[1] for i in range(len(embeddings))] for j in range(len(embeddings))]\n",
    "    \n",
    "    return similarities"
   ],
   "outputs": [],
   "execution_count": 9
  },
  {
   "cell_type": "code",
   "id": "662c600d0eb5b4fb",
   "metadata": {
    "ExecuteTime": {
     "end_time": "2025-02-14T00:41:42.193718Z",
     "start_time": "2025-02-14T00:41:42.190304Z"
    }
   },
   "source": [
    "languages = ['en', 'tr', 'de', 'hr', 'ru', 'sq']"
   ],
   "outputs": [],
   "execution_count": 10
  },
  {
   "cell_type": "code",
   "id": "400c597945570249",
   "metadata": {
    "ExecuteTime": {
     "end_time": "2025-02-14T00:41:42.313315Z",
     "start_time": "2025-02-14T00:41:42.310180Z"
    }
   },
   "source": [
    "\n",
    "# embedder_ = Embedder(model_name='m3')\n",
    "# embeddings, metadatas = embedder_.embed_datasets(datasets, ['test'], False)\n"
   ],
   "outputs": [],
   "execution_count": 11
  },
  {
   "cell_type": "code",
   "id": "315847927c0c758a",
   "metadata": {
    "ExecuteTime": {
     "end_time": "2025-02-14T00:41:42.391011Z",
     "start_time": "2025-02-14T00:41:42.388380Z"
    }
   },
   "source": [],
   "outputs": [],
   "execution_count": null
  },
  {
   "cell_type": "code",
   "id": "94749e55685f3f59",
   "metadata": {
    "ExecuteTime": {
     "end_time": "2025-02-14T00:41:42.490919Z",
     "start_time": "2025-02-14T00:41:42.487805Z"
    }
   },
   "source": [
    "# get_similarity('labse')"
   ],
   "outputs": [],
   "execution_count": 12
  },
  {
   "cell_type": "code",
   "id": "5713c275eff174d2",
   "metadata": {
    "ExecuteTime": {
     "end_time": "2025-02-14T00:41:42.576715Z",
     "start_time": "2025-02-14T00:41:42.573550Z"
    }
   },
   "source": [
    "# get_similarity('minilm')"
   ],
   "outputs": [],
   "execution_count": 13
  },
  {
   "cell_type": "code",
   "id": "2fc2538854eb17fb",
   "metadata": {
    "ExecuteTime": {
     "end_time": "2025-02-14T00:41:42.701040Z",
     "start_time": "2025-02-14T00:41:42.697975Z"
    }
   },
   "source": [
    "# get_similarity('e5-large')"
   ],
   "outputs": [],
   "execution_count": 14
  },
  {
   "cell_type": "code",
   "id": "9ced016dfa429551",
   "metadata": {
    "ExecuteTime": {
     "end_time": "2025-02-14T00:41:42.838817Z",
     "start_time": "2025-02-14T00:41:42.835511Z"
    }
   },
   "source": [
    "# get_similarity('e5-base')"
   ],
   "outputs": [],
   "execution_count": 15
  },
  {
   "cell_type": "code",
   "id": "c7fc8781df6a212a",
   "metadata": {
    "ExecuteTime": {
     "end_time": "2025-02-14T00:41:42.916307Z",
     "start_time": "2025-02-14T00:41:42.913006Z"
    }
   },
   "source": [
    "# get_similarity('xlmr-large')"
   ],
   "outputs": [],
   "execution_count": 16
  },
  {
   "cell_type": "code",
   "id": "ea6ad7187e96715d",
   "metadata": {
    "ExecuteTime": {
     "end_time": "2025-02-14T00:41:42.984189Z",
     "start_time": "2025-02-14T00:41:42.981083Z"
    }
   },
   "source": [
    "# get_similarity('xlmr-base')"
   ],
   "outputs": [],
   "execution_count": 17
  },
  {
   "cell_type": "code",
   "id": "abb3d24e9c2963",
   "metadata": {
    "ExecuteTime": {
     "end_time": "2025-02-14T00:41:43.055219Z",
     "start_time": "2025-02-14T00:41:43.052157Z"
    }
   },
   "source": [
    "# get_similarity('arctic-large')"
   ],
   "outputs": [],
   "execution_count": 18
  },
  {
   "cell_type": "code",
   "id": "ce1825135d59e4f4",
   "metadata": {
    "ExecuteTime": {
     "end_time": "2025-02-14T00:41:43.166978Z",
     "start_time": "2025-02-14T00:41:43.163721Z"
    }
   },
   "source": [
    "# get_similarity('arctic-base')"
   ],
   "outputs": [],
   "execution_count": 19
  },
  {
   "cell_type": "code",
   "id": "f3491a8df5b1ef4c",
   "metadata": {
    "ExecuteTime": {
     "end_time": "2025-02-14T00:41:43.360972Z",
     "start_time": "2025-02-14T00:41:43.357775Z"
    }
   },
   "source": [
    "# get_similarity('m3')"
   ],
   "outputs": [],
   "execution_count": 20
  },
  {
   "cell_type": "code",
   "id": "bf6dc963f3c5fd81",
   "metadata": {
    "ExecuteTime": {
     "end_time": "2025-02-14T00:41:43.440854Z",
     "start_time": "2025-02-14T00:41:43.437562Z"
    }
   },
   "source": [
    "# get_similarity('m3-unsupervised')"
   ],
   "outputs": [],
   "execution_count": 21
  },
  {
   "cell_type": "code",
   "id": "f8529d56e3e73093",
   "metadata": {
    "ExecuteTime": {
     "end_time": "2025-02-14T00:41:43.507278Z",
     "start_time": "2025-02-14T00:41:43.503979Z"
    }
   },
   "source": [
    "# get_similarity('m3-retromae')"
   ],
   "outputs": [],
   "execution_count": 22
  },
  {
   "cell_type": "code",
   "id": "e9c1b5b52fe747c9",
   "metadata": {
    "ExecuteTime": {
     "end_time": "2025-02-14T00:41:43.571610Z",
     "start_time": "2025-02-14T00:41:43.568560Z"
    }
   },
   "source": [
    "# get_similarity('mpnet')"
   ],
   "outputs": [],
   "execution_count": 23
  },
  {
   "cell_type": "code",
   "id": "8a266ca914d4efa3",
   "metadata": {
    "ExecuteTime": {
     "end_time": "2025-02-14T00:41:43.642192Z",
     "start_time": "2025-02-14T00:41:43.639107Z"
    }
   },
   "source": [
    "# get_similarity('distiluse')"
   ],
   "outputs": [],
   "execution_count": 24
  },
  {
   "cell_type": "code",
   "id": "f1aa39c669463548",
   "metadata": {
    "ExecuteTime": {
     "end_time": "2025-02-14T00:44:04.992428Z",
     "start_time": "2025-02-14T00:43:54.168607Z"
    }
   },
   "source": [
    "\n",
    "embedder_ = Embedder(model_name=\"labse\", add_perplexity=False, add_uncertainty=True)\n",
    "embeddings, metadatas = embedder_.embed_datasets(datasets, ['test'], False)"
   ],
   "outputs": [
    {
     "name": "stderr",
     "output_type": "stream",
     "text": [
      "Some weights of XLMRobertaForSequenceClassification were not initialized from the model checkpoint at cardiffnlp/twitter-xlm-roberta-base and are newly initialized: ['classifier.dense.bias', 'classifier.dense.weight', 'classifier.out_proj.bias', 'classifier.out_proj.weight']\n",
      "You should probably TRAIN this model on a down-stream task to be able to use it for predictions and inference.\n",
      "Embedding sentences: 100%|██████████| 2/2 [00:00<00:00,  7.36it/s]\n",
      "Asking to truncate to max_length but no maximum length is provided and the model has no predefined maximum length. Default to no truncation.\n",
      "Embedding sentences: 100%|██████████| 2/2 [00:00<00:00,  7.30it/s]\n",
      "Embedding sentences: 100%|██████████| 2/2 [00:00<00:00,  6.61it/s]\n",
      "Embedding sentences: 100%|██████████| 2/2 [00:00<00:00,  7.29it/s]\n",
      "Embedding sentences: 100%|██████████| 2/2 [00:00<00:00,  5.79it/s]\n",
      "Embedding sentences: 100%|██████████| 2/2 [00:00<00:00,  6.50it/s]\n"
     ]
    }
   ],
   "execution_count": 27
  },
  {
   "cell_type": "code",
   "id": "d15fb15f77e7bb60",
   "metadata": {
    "ExecuteTime": {
     "end_time": "2025-02-14T00:44:13.122080Z",
     "start_time": "2025-02-14T00:44:13.116333Z"
    }
   },
   "source": [
    "import numpy as np\n",
    "embed = np.vstack(embeddings)\n",
    "metadata = metadatas"
   ],
   "outputs": [],
   "execution_count": 28
  },
  {
   "cell_type": "code",
   "id": "87a3c544bc5e741",
   "metadata": {
    "ExecuteTime": {
     "end_time": "2025-02-14T00:44:13.998796Z",
     "start_time": "2025-02-14T00:44:13.993285Z"
    }
   },
   "source": [
    "len(metadata), embed.shape"
   ],
   "outputs": [
    {
     "data": {
      "text/plain": [
       "(1800, (1800, 768))"
      ]
     },
     "execution_count": 29,
     "metadata": {},
     "output_type": "execute_result"
    }
   ],
   "execution_count": 29
  },
  {
   "cell_type": "code",
   "id": "ef31125995e8b7ed",
   "metadata": {
    "ExecuteTime": {
     "end_time": "2025-02-14T00:44:14.365555Z",
     "start_time": "2025-02-14T00:44:14.360742Z"
    }
   },
   "source": [
    "embed.shape"
   ],
   "outputs": [
    {
     "data": {
      "text/plain": [
       "(1800, 768)"
      ]
     },
     "execution_count": 30,
     "metadata": {},
     "output_type": "execute_result"
    }
   ],
   "execution_count": 30
  },
  {
   "cell_type": "code",
   "id": "6fd532cf0d214aa7",
   "metadata": {
    "ExecuteTime": {
     "end_time": "2025-02-13T19:24:01.078786Z",
     "start_time": "2025-02-13T19:24:01.076290Z"
    }
   },
   "source": [],
   "outputs": [],
   "execution_count": null
  },
  {
   "cell_type": "code",
   "id": "c8b56d813259c34",
   "metadata": {
    "ExecuteTime": {
     "end_time": "2025-02-13T13:57:20.708486Z",
     "start_time": "2025-02-13T13:57:20.705259Z"
    }
   },
   "source": [
    "# clusters = Embedder.cluster_embeddings(embed, metadata, 150)\n",
    "# clusters"
   ],
   "outputs": [],
   "execution_count": 59
  },
  {
   "cell_type": "code",
   "id": "852bf18607a3fc8",
   "metadata": {
    "ExecuteTime": {
     "end_time": "2025-02-13T13:57:20.854599Z",
     "start_time": "2025-02-13T13:57:20.849737Z"
    }
   },
   "source": [
    "embed.shape, len(metadata)"
   ],
   "outputs": [
    {
     "data": {
      "text/plain": [
       "((1800, 768), 1800)"
      ]
     },
     "execution_count": 60,
     "metadata": {},
     "output_type": "execute_result"
    }
   ],
   "execution_count": 60
  },
  {
   "cell_type": "code",
   "id": "5690c308224619c1",
   "metadata": {
    "ExecuteTime": {
     "end_time": "2025-02-13T13:57:20.997861Z",
     "start_time": "2025-02-13T13:57:20.990948Z"
    }
   },
   "source": [
    "import numpy as np\n",
    "from sklearn.preprocessing import normalize\n",
    "\n",
    "# Assuming your matrix is named 'matrix'\n",
    "normalized_embed = normalize(embed, axis=1)"
   ],
   "outputs": [],
   "execution_count": 61
  },
  {
   "cell_type": "code",
   "id": "8e8b4b23bcb0e998",
   "metadata": {
    "ExecuteTime": {
     "end_time": "2025-02-13T13:57:24.722207Z",
     "start_time": "2025-02-13T13:57:21.096416Z"
    }
   },
   "source": [
    "Embedder.visualize_embeddings(normalized_embed, metadatas, reduction_method=\"tsne\")"
   ],
   "outputs": [
    {
     "data": {
      "application/vnd.plotly.v1+json": {
       "data": [
        {
         "customdata": [
          [
           "parallel_data/en-Trac",
           "en",
           "0"
          ],
          [
           "parallel_data/en-Trac",
           "en",
           "1"
          ],
          [
           "parallel_data/en-Trac",
           "en",
           "2"
          ],
          [
           "parallel_data/en-Trac",
           "en",
           "3"
          ],
          [
           "parallel_data/en-Trac",
           "en",
           "4"
          ],
          [
           "parallel_data/en-Trac",
           "en",
           "5"
          ],
          [
           "parallel_data/en-Trac",
           "en",
           "6"
          ],
          [
           "parallel_data/en-Trac",
           "en",
           "7"
          ],
          [
           "parallel_data/en-Trac",
           "en",
           "8"
          ],
          [
           "parallel_data/en-Trac",
           "en",
           "9"
          ],
          [
           "parallel_data/en-Trac",
           "en",
           "10"
          ],
          [
           "parallel_data/en-Trac",
           "en",
           "11"
          ],
          [
           "parallel_data/en-Trac",
           "en",
           "12"
          ],
          [
           "parallel_data/en-Trac",
           "en",
           "13"
          ],
          [
           "parallel_data/en-Trac",
           "en",
           "14"
          ],
          [
           "parallel_data/en-Trac",
           "en",
           "15"
          ],
          [
           "parallel_data/en-Trac",
           "en",
           "16"
          ],
          [
           "parallel_data/en-Trac",
           "en",
           "17"
          ],
          [
           "parallel_data/en-Trac",
           "en",
           "18"
          ],
          [
           "parallel_data/en-Trac",
           "en",
           "19"
          ],
          [
           "parallel_data/en-Trac",
           "en",
           "20"
          ],
          [
           "parallel_data/en-Trac",
           "en",
           "21"
          ],
          [
           "parallel_data/en-Trac",
           "en",
           "22"
          ],
          [
           "parallel_data/en-Trac",
           "en",
           "23"
          ],
          [
           "parallel_data/en-Trac",
           "en",
           "24"
          ],
          [
           "parallel_data/en-Trac",
           "en",
           "25"
          ],
          [
           "parallel_data/en-Trac",
           "en",
           "26"
          ],
          [
           "parallel_data/en-Trac",
           "en",
           "27"
          ],
          [
           "parallel_data/en-Trac",
           "en",
           "28"
          ],
          [
           "parallel_data/en-Trac",
           "en",
           "29"
          ],
          [
           "parallel_data/en-Trac",
           "en",
           "30"
          ],
          [
           "parallel_data/en-Trac",
           "en",
           "31"
          ],
          [
           "parallel_data/en-Trac",
           "en",
           "32"
          ],
          [
           "parallel_data/en-Trac",
           "en",
           "33"
          ],
          [
           "parallel_data/en-Trac",
           "en",
           "34"
          ],
          [
           "parallel_data/en-Trac",
           "en",
           "35"
          ],
          [
           "parallel_data/en-Trac",
           "en",
           "36"
          ],
          [
           "parallel_data/en-Trac",
           "en",
           "37"
          ],
          [
           "parallel_data/en-Trac",
           "en",
           "38"
          ],
          [
           "parallel_data/en-Trac",
           "en",
           "39"
          ],
          [
           "parallel_data/en-Trac",
           "en",
           "40"
          ],
          [
           "parallel_data/en-Trac",
           "en",
           "41"
          ],
          [
           "parallel_data/en-Trac",
           "en",
           "42"
          ],
          [
           "parallel_data/en-Trac",
           "en",
           "43"
          ],
          [
           "parallel_data/en-Trac",
           "en",
           "44"
          ],
          [
           "parallel_data/en-Trac",
           "en",
           "45"
          ],
          [
           "parallel_data/en-Trac",
           "en",
           "46"
          ],
          [
           "parallel_data/en-Trac",
           "en",
           "47"
          ],
          [
           "parallel_data/en-Trac",
           "en",
           "48"
          ],
          [
           "parallel_data/en-Trac",
           "en",
           "49"
          ],
          [
           "parallel_data/en-Trac",
           "en",
           "50"
          ],
          [
           "parallel_data/en-Trac",
           "en",
           "51"
          ],
          [
           "parallel_data/en-Trac",
           "en",
           "52"
          ],
          [
           "parallel_data/en-Trac",
           "en",
           "53"
          ],
          [
           "parallel_data/en-Trac",
           "en",
           "54"
          ],
          [
           "parallel_data/en-Trac",
           "en",
           "55"
          ],
          [
           "parallel_data/en-Trac",
           "en",
           "56"
          ],
          [
           "parallel_data/en-Trac",
           "en",
           "57"
          ],
          [
           "parallel_data/en-Trac",
           "en",
           "58"
          ],
          [
           "parallel_data/en-Trac",
           "en",
           "59"
          ],
          [
           "parallel_data/en-Trac",
           "en",
           "60"
          ],
          [
           "parallel_data/en-Trac",
           "en",
           "61"
          ],
          [
           "parallel_data/en-Trac",
           "en",
           "62"
          ],
          [
           "parallel_data/en-Trac",
           "en",
           "63"
          ],
          [
           "parallel_data/en-Trac",
           "en",
           "64"
          ],
          [
           "parallel_data/en-Trac",
           "en",
           "65"
          ],
          [
           "parallel_data/en-Trac",
           "en",
           "66"
          ],
          [
           "parallel_data/en-Trac",
           "en",
           "67"
          ],
          [
           "parallel_data/en-Trac",
           "en",
           "68"
          ],
          [
           "parallel_data/en-Trac",
           "en",
           "69"
          ],
          [
           "parallel_data/en-Trac",
           "en",
           "70"
          ],
          [
           "parallel_data/en-Trac",
           "en",
           "71"
          ],
          [
           "parallel_data/en-Trac",
           "en",
           "72"
          ],
          [
           "parallel_data/en-Trac",
           "en",
           "73"
          ],
          [
           "parallel_data/en-Trac",
           "en",
           "74"
          ],
          [
           "parallel_data/en-Trac",
           "en",
           "75"
          ],
          [
           "parallel_data/en-Trac",
           "en",
           "76"
          ],
          [
           "parallel_data/en-Trac",
           "en",
           "77"
          ],
          [
           "parallel_data/en-Trac",
           "en",
           "78"
          ],
          [
           "parallel_data/en-Trac",
           "en",
           "79"
          ],
          [
           "parallel_data/en-Trac",
           "en",
           "80"
          ],
          [
           "parallel_data/en-Trac",
           "en",
           "81"
          ],
          [
           "parallel_data/en-Trac",
           "en",
           "82"
          ],
          [
           "parallel_data/en-Trac",
           "en",
           "83"
          ],
          [
           "parallel_data/en-Trac",
           "en",
           "84"
          ],
          [
           "parallel_data/en-Trac",
           "en",
           "85"
          ],
          [
           "parallel_data/en-Trac",
           "en",
           "86"
          ],
          [
           "parallel_data/en-Trac",
           "en",
           "87"
          ],
          [
           "parallel_data/en-Trac",
           "en",
           "88"
          ],
          [
           "parallel_data/en-Trac",
           "en",
           "89"
          ],
          [
           "parallel_data/en-Trac",
           "en",
           "90"
          ],
          [
           "parallel_data/en-Trac",
           "en",
           "91"
          ],
          [
           "parallel_data/en-Trac",
           "en",
           "92"
          ],
          [
           "parallel_data/en-Trac",
           "en",
           "93"
          ],
          [
           "parallel_data/en-Trac",
           "en",
           "94"
          ],
          [
           "parallel_data/en-Trac",
           "en",
           "95"
          ],
          [
           "parallel_data/en-Trac",
           "en",
           "96"
          ],
          [
           "parallel_data/en-Trac",
           "en",
           "97"
          ],
          [
           "parallel_data/en-Trac",
           "en",
           "98"
          ],
          [
           "parallel_data/en-Trac",
           "en",
           "99"
          ],
          [
           "parallel_data/en-Trac",
           "en",
           "100"
          ],
          [
           "parallel_data/en-Trac",
           "en",
           "101"
          ],
          [
           "parallel_data/en-Trac",
           "en",
           "102"
          ],
          [
           "parallel_data/en-Trac",
           "en",
           "103"
          ],
          [
           "parallel_data/en-Trac",
           "en",
           "104"
          ],
          [
           "parallel_data/en-Trac",
           "en",
           "105"
          ],
          [
           "parallel_data/en-Trac",
           "en",
           "106"
          ],
          [
           "parallel_data/en-Trac",
           "en",
           "107"
          ],
          [
           "parallel_data/en-Trac",
           "en",
           "108"
          ],
          [
           "parallel_data/en-Trac",
           "en",
           "109"
          ],
          [
           "parallel_data/en-Trac",
           "en",
           "110"
          ],
          [
           "parallel_data/en-Trac",
           "en",
           "111"
          ],
          [
           "parallel_data/en-Trac",
           "en",
           "112"
          ],
          [
           "parallel_data/en-Trac",
           "en",
           "113"
          ],
          [
           "parallel_data/en-Trac",
           "en",
           "114"
          ],
          [
           "parallel_data/en-Trac",
           "en",
           "115"
          ],
          [
           "parallel_data/en-Trac",
           "en",
           "116"
          ],
          [
           "parallel_data/en-Trac",
           "en",
           "117"
          ],
          [
           "parallel_data/en-Trac",
           "en",
           "118"
          ],
          [
           "parallel_data/en-Trac",
           "en",
           "119"
          ],
          [
           "parallel_data/en-Trac",
           "en",
           "120"
          ],
          [
           "parallel_data/en-Trac",
           "en",
           "121"
          ],
          [
           "parallel_data/en-Trac",
           "en",
           "122"
          ],
          [
           "parallel_data/en-Trac",
           "en",
           "123"
          ],
          [
           "parallel_data/en-Trac",
           "en",
           "124"
          ],
          [
           "parallel_data/en-Trac",
           "en",
           "125"
          ],
          [
           "parallel_data/en-Trac",
           "en",
           "126"
          ],
          [
           "parallel_data/en-Trac",
           "en",
           "127"
          ],
          [
           "parallel_data/en-Trac",
           "en",
           "128"
          ],
          [
           "parallel_data/en-Trac",
           "en",
           "129"
          ],
          [
           "parallel_data/en-Trac",
           "en",
           "130"
          ],
          [
           "parallel_data/en-Trac",
           "en",
           "131"
          ],
          [
           "parallel_data/en-Trac",
           "en",
           "132"
          ],
          [
           "parallel_data/en-Trac",
           "en",
           "133"
          ],
          [
           "parallel_data/en-Trac",
           "en",
           "134"
          ],
          [
           "parallel_data/en-Trac",
           "en",
           "135"
          ],
          [
           "parallel_data/en-Trac",
           "en",
           "136"
          ],
          [
           "parallel_data/en-Trac",
           "en",
           "137"
          ],
          [
           "parallel_data/en-Trac",
           "en",
           "138"
          ],
          [
           "parallel_data/en-Trac",
           "en",
           "139"
          ],
          [
           "parallel_data/en-Trac",
           "en",
           "140"
          ],
          [
           "parallel_data/en-Trac",
           "en",
           "141"
          ],
          [
           "parallel_data/en-Trac",
           "en",
           "142"
          ],
          [
           "parallel_data/en-Trac",
           "en",
           "143"
          ],
          [
           "parallel_data/en-Trac",
           "en",
           "144"
          ],
          [
           "parallel_data/en-Trac",
           "en",
           "145"
          ],
          [
           "parallel_data/en-Trac",
           "en",
           "146"
          ],
          [
           "parallel_data/en-Trac",
           "en",
           "147"
          ],
          [
           "parallel_data/en-Trac",
           "en",
           "148"
          ],
          [
           "parallel_data/en-Trac",
           "en",
           "149"
          ],
          [
           "parallel_data/en-Trac",
           "en",
           "150"
          ],
          [
           "parallel_data/en-Trac",
           "en",
           "151"
          ],
          [
           "parallel_data/en-Trac",
           "en",
           "152"
          ],
          [
           "parallel_data/en-Trac",
           "en",
           "153"
          ],
          [
           "parallel_data/en-Trac",
           "en",
           "154"
          ],
          [
           "parallel_data/en-Trac",
           "en",
           "155"
          ],
          [
           "parallel_data/en-Trac",
           "en",
           "156"
          ],
          [
           "parallel_data/en-Trac",
           "en",
           "157"
          ],
          [
           "parallel_data/en-Trac",
           "en",
           "158"
          ],
          [
           "parallel_data/en-Trac",
           "en",
           "159"
          ],
          [
           "parallel_data/en-Trac",
           "en",
           "160"
          ],
          [
           "parallel_data/en-Trac",
           "en",
           "161"
          ],
          [
           "parallel_data/en-Trac",
           "en",
           "162"
          ],
          [
           "parallel_data/en-Trac",
           "en",
           "163"
          ],
          [
           "parallel_data/en-Trac",
           "en",
           "164"
          ],
          [
           "parallel_data/en-Trac",
           "en",
           "165"
          ],
          [
           "parallel_data/en-Trac",
           "en",
           "166"
          ],
          [
           "parallel_data/en-Trac",
           "en",
           "167"
          ],
          [
           "parallel_data/en-Trac",
           "en",
           "168"
          ],
          [
           "parallel_data/en-Trac",
           "en",
           "169"
          ],
          [
           "parallel_data/en-Trac",
           "en",
           "170"
          ],
          [
           "parallel_data/en-Trac",
           "en",
           "171"
          ],
          [
           "parallel_data/en-Trac",
           "en",
           "172"
          ],
          [
           "parallel_data/en-Trac",
           "en",
           "173"
          ],
          [
           "parallel_data/en-Trac",
           "en",
           "174"
          ],
          [
           "parallel_data/en-Trac",
           "en",
           "175"
          ],
          [
           "parallel_data/en-Trac",
           "en",
           "176"
          ],
          [
           "parallel_data/en-Trac",
           "en",
           "177"
          ],
          [
           "parallel_data/en-Trac",
           "en",
           "178"
          ],
          [
           "parallel_data/en-Trac",
           "en",
           "179"
          ],
          [
           "parallel_data/en-Trac",
           "en",
           "180"
          ],
          [
           "parallel_data/en-Trac",
           "en",
           "181"
          ],
          [
           "parallel_data/en-Trac",
           "en",
           "182"
          ],
          [
           "parallel_data/en-Trac",
           "en",
           "183"
          ],
          [
           "parallel_data/en-Trac",
           "en",
           "184"
          ],
          [
           "parallel_data/en-Trac",
           "en",
           "185"
          ],
          [
           "parallel_data/en-Trac",
           "en",
           "186"
          ],
          [
           "parallel_data/en-Trac",
           "en",
           "187"
          ],
          [
           "parallel_data/en-Trac",
           "en",
           "188"
          ],
          [
           "parallel_data/en-Trac",
           "en",
           "189"
          ],
          [
           "parallel_data/en-Trac",
           "en",
           "190"
          ],
          [
           "parallel_data/en-Trac",
           "en",
           "191"
          ],
          [
           "parallel_data/en-Trac",
           "en",
           "192"
          ],
          [
           "parallel_data/en-Trac",
           "en",
           "193"
          ],
          [
           "parallel_data/en-Trac",
           "en",
           "194"
          ],
          [
           "parallel_data/en-Trac",
           "en",
           "195"
          ],
          [
           "parallel_data/en-Trac",
           "en",
           "196"
          ],
          [
           "parallel_data/en-Trac",
           "en",
           "197"
          ],
          [
           "parallel_data/en-Trac",
           "en",
           "198"
          ],
          [
           "parallel_data/en-Trac",
           "en",
           "199"
          ],
          [
           "parallel_data/en-Trac",
           "en",
           "200"
          ],
          [
           "parallel_data/en-Trac",
           "en",
           "201"
          ],
          [
           "parallel_data/en-Trac",
           "en",
           "202"
          ],
          [
           "parallel_data/en-Trac",
           "en",
           "203"
          ],
          [
           "parallel_data/en-Trac",
           "en",
           "204"
          ],
          [
           "parallel_data/en-Trac",
           "en",
           "205"
          ],
          [
           "parallel_data/en-Trac",
           "en",
           "206"
          ],
          [
           "parallel_data/en-Trac",
           "en",
           "207"
          ],
          [
           "parallel_data/en-Trac",
           "en",
           "208"
          ],
          [
           "parallel_data/en-Trac",
           "en",
           "209"
          ],
          [
           "parallel_data/en-Trac",
           "en",
           "210"
          ],
          [
           "parallel_data/en-Trac",
           "en",
           "211"
          ],
          [
           "parallel_data/en-Trac",
           "en",
           "212"
          ],
          [
           "parallel_data/en-Trac",
           "en",
           "213"
          ],
          [
           "parallel_data/en-Trac",
           "en",
           "214"
          ],
          [
           "parallel_data/en-Trac",
           "en",
           "215"
          ],
          [
           "parallel_data/en-Trac",
           "en",
           "216"
          ],
          [
           "parallel_data/en-Trac",
           "en",
           "217"
          ],
          [
           "parallel_data/en-Trac",
           "en",
           "218"
          ],
          [
           "parallel_data/en-Trac",
           "en",
           "219"
          ],
          [
           "parallel_data/en-Trac",
           "en",
           "220"
          ],
          [
           "parallel_data/en-Trac",
           "en",
           "221"
          ],
          [
           "parallel_data/en-Trac",
           "en",
           "222"
          ],
          [
           "parallel_data/en-Trac",
           "en",
           "223"
          ],
          [
           "parallel_data/en-Trac",
           "en",
           "224"
          ],
          [
           "parallel_data/en-Trac",
           "en",
           "225"
          ],
          [
           "parallel_data/en-Trac",
           "en",
           "226"
          ],
          [
           "parallel_data/en-Trac",
           "en",
           "227"
          ],
          [
           "parallel_data/en-Trac",
           "en",
           "228"
          ],
          [
           "parallel_data/en-Trac",
           "en",
           "229"
          ],
          [
           "parallel_data/en-Trac",
           "en",
           "230"
          ],
          [
           "parallel_data/en-Trac",
           "en",
           "231"
          ],
          [
           "parallel_data/en-Trac",
           "en",
           "232"
          ],
          [
           "parallel_data/en-Trac",
           "en",
           "233"
          ],
          [
           "parallel_data/en-Trac",
           "en",
           "234"
          ],
          [
           "parallel_data/en-Trac",
           "en",
           "235"
          ],
          [
           "parallel_data/en-Trac",
           "en",
           "236"
          ],
          [
           "parallel_data/en-Trac",
           "en",
           "237"
          ],
          [
           "parallel_data/en-Trac",
           "en",
           "238"
          ],
          [
           "parallel_data/en-Trac",
           "en",
           "239"
          ],
          [
           "parallel_data/en-Trac",
           "en",
           "240"
          ],
          [
           "parallel_data/en-Trac",
           "en",
           "241"
          ],
          [
           "parallel_data/en-Trac",
           "en",
           "242"
          ],
          [
           "parallel_data/en-Trac",
           "en",
           "243"
          ],
          [
           "parallel_data/en-Trac",
           "en",
           "244"
          ],
          [
           "parallel_data/en-Trac",
           "en",
           "245"
          ],
          [
           "parallel_data/en-Trac",
           "en",
           "246"
          ],
          [
           "parallel_data/en-Trac",
           "en",
           "247"
          ],
          [
           "parallel_data/en-Trac",
           "en",
           "248"
          ],
          [
           "parallel_data/en-Trac",
           "en",
           "249"
          ],
          [
           "parallel_data/en-Trac",
           "en",
           "250"
          ],
          [
           "parallel_data/en-Trac",
           "en",
           "251"
          ],
          [
           "parallel_data/en-Trac",
           "en",
           "252"
          ],
          [
           "parallel_data/en-Trac",
           "en",
           "253"
          ],
          [
           "parallel_data/en-Trac",
           "en",
           "254"
          ],
          [
           "parallel_data/en-Trac",
           "en",
           "255"
          ],
          [
           "parallel_data/en-Trac",
           "en",
           "256"
          ],
          [
           "parallel_data/en-Trac",
           "en",
           "257"
          ],
          [
           "parallel_data/en-Trac",
           "en",
           "258"
          ],
          [
           "parallel_data/en-Trac",
           "en",
           "259"
          ],
          [
           "parallel_data/en-Trac",
           "en",
           "260"
          ],
          [
           "parallel_data/en-Trac",
           "en",
           "261"
          ],
          [
           "parallel_data/en-Trac",
           "en",
           "262"
          ],
          [
           "parallel_data/en-Trac",
           "en",
           "263"
          ],
          [
           "parallel_data/en-Trac",
           "en",
           "264"
          ],
          [
           "parallel_data/en-Trac",
           "en",
           "265"
          ],
          [
           "parallel_data/en-Trac",
           "en",
           "266"
          ],
          [
           "parallel_data/en-Trac",
           "en",
           "267"
          ],
          [
           "parallel_data/en-Trac",
           "en",
           "268"
          ],
          [
           "parallel_data/en-Trac",
           "en",
           "269"
          ],
          [
           "parallel_data/en-Trac",
           "en",
           "270"
          ],
          [
           "parallel_data/en-Trac",
           "en",
           "271"
          ],
          [
           "parallel_data/en-Trac",
           "en",
           "272"
          ],
          [
           "parallel_data/en-Trac",
           "en",
           "273"
          ],
          [
           "parallel_data/en-Trac",
           "en",
           "274"
          ],
          [
           "parallel_data/en-Trac",
           "en",
           "275"
          ],
          [
           "parallel_data/en-Trac",
           "en",
           "276"
          ],
          [
           "parallel_data/en-Trac",
           "en",
           "277"
          ],
          [
           "parallel_data/en-Trac",
           "en",
           "278"
          ],
          [
           "parallel_data/en-Trac",
           "en",
           "279"
          ],
          [
           "parallel_data/en-Trac",
           "en",
           "280"
          ],
          [
           "parallel_data/en-Trac",
           "en",
           "281"
          ],
          [
           "parallel_data/en-Trac",
           "en",
           "282"
          ],
          [
           "parallel_data/en-Trac",
           "en",
           "283"
          ],
          [
           "parallel_data/en-Trac",
           "en",
           "284"
          ],
          [
           "parallel_data/en-Trac",
           "en",
           "285"
          ],
          [
           "parallel_data/en-Trac",
           "en",
           "286"
          ],
          [
           "parallel_data/en-Trac",
           "en",
           "287"
          ],
          [
           "parallel_data/en-Trac",
           "en",
           "288"
          ],
          [
           "parallel_data/en-Trac",
           "en",
           "289"
          ],
          [
           "parallel_data/en-Trac",
           "en",
           "290"
          ],
          [
           "parallel_data/en-Trac",
           "en",
           "291"
          ],
          [
           "parallel_data/en-Trac",
           "en",
           "292"
          ],
          [
           "parallel_data/en-Trac",
           "en",
           "293"
          ],
          [
           "parallel_data/en-Trac",
           "en",
           "294"
          ],
          [
           "parallel_data/en-Trac",
           "en",
           "295"
          ],
          [
           "parallel_data/en-Trac",
           "en",
           "296"
          ],
          [
           "parallel_data/en-Trac",
           "en",
           "297"
          ],
          [
           "parallel_data/en-Trac",
           "en",
           "298"
          ],
          [
           "parallel_data/en-Trac",
           "en",
           "299"
          ]
         ],
         "hovertemplate": "language=%{customdata[1]}<br>x=%{x}<br>y=%{y}<br>dataset_name=%{customdata[0]}<br>id=%{customdata[2]}<extra></extra>",
         "legendgroup": "en",
         "marker": {
          "color": "#636efa",
          "symbol": "circle"
         },
         "mode": "markers",
         "name": "en",
         "showlegend": true,
         "x": [
          6.9238496,
          -20.717527,
          -6.596592,
          -35.9048,
          -44.0353,
          19.223593,
          -46.865738,
          -20.204546,
          -7.0257564,
          -16.994398,
          -22.536541,
          25.700195,
          -23.73596,
          32.270977,
          -14.332566,
          25.789843,
          -38.483616,
          33.830307,
          -54.04505,
          13.193857,
          -23.789995,
          17.8578,
          5.2339253,
          -24.382357,
          -21.381214,
          0.14371186,
          19.309027,
          33.970116,
          -15.333619,
          -20.11502,
          -10.361199,
          -20.881224,
          41.396336,
          -22.339834,
          -44.347027,
          27.637732,
          -16.169872,
          3.9516673,
          -4.69436,
          -28.880846,
          9.426611,
          -12.85862,
          -10.913966,
          -27.494038,
          2.8352726,
          -38.68968,
          12.800386,
          -12.267987,
          -7.2723675,
          -38.718815,
          31.80108,
          0.2559365,
          8.536007,
          -6.1563673,
          37.590965,
          10.413547,
          50.023563,
          6.0006833,
          -1.7566673,
          38.356434,
          -3.516076,
          -12.362156,
          21.589296,
          -28.51423,
          4.621667,
          3.1026227,
          -9.353566,
          35.659004,
          -31.609406,
          -17.415955,
          40.65163,
          33.04345,
          24.534208,
          38.565838,
          -28.01449,
          22.697052,
          -28.105522,
          0.83672637,
          45.84406,
          -10.139473,
          -1.4568357,
          -0.2686299,
          -7.1379447,
          -16.749084,
          -17.804752,
          24.513002,
          41.22128,
          -47.14756,
          29.84176,
          25.021502,
          -17.406832,
          29.977026,
          -1.8474672,
          32.478725,
          15.862654,
          -8.466794,
          -16.516184,
          23.589405,
          -53.84181,
          -15.4173565,
          47.36729,
          7.924781,
          20.352785,
          10.615584,
          -2.4476104,
          10.092482,
          -8.386528,
          -33.35963,
          1.9459928,
          -5.7229815,
          -17.946306,
          -7.51801,
          46.491467,
          -9.673165,
          19.639217,
          -13.450369,
          3.0291939,
          45.547237,
          -19.455877,
          42.864395,
          0.4854275,
          -26.892878,
          11.242055,
          -21.229483,
          46.68732,
          -50.066338,
          15.1661,
          -13.295043,
          18.863012,
          -11.271098,
          11.679697,
          30.952965,
          29.768427,
          -41.062588,
          27.654478,
          -3.583471,
          13.565433,
          -3.0766108,
          -12.493276,
          -9.043892,
          -28.748503,
          -4.076547,
          2.502237,
          10.578093,
          5.759685,
          -35.588642,
          41.875526,
          -49.804474,
          -59.591038,
          -28.198824,
          5.2692647,
          34.63989,
          2.523255,
          41.288,
          -8.66266,
          38.993618,
          40.88454,
          27.41637,
          37.34027,
          -18.203205,
          15.834191,
          -10.800367,
          14.119754,
          -24.444391,
          -39.19376,
          -25.495329,
          15.524567,
          -44.392017,
          14.008336,
          10.67306,
          10.789077,
          -28.507635,
          21.627934,
          24.83312,
          -25.048487,
          13.279993,
          22.75047,
          33.27692,
          -2.5005138,
          -4.6142445,
          53.30766,
          -30.67496,
          -39.468758,
          -1.9853646,
          -23.23011,
          -0.08889552,
          20.151861,
          19.444372,
          6.2522707,
          16.96524,
          -19.44075,
          41.084297,
          41.49004,
          7.2499385,
          -52.795322,
          6.545089,
          23.610136,
          -3.8907962,
          -16.261042,
          -30.169746,
          -24.9927,
          -41.551353,
          -30.137764,
          -33.066216,
          27.397276,
          -16.748627,
          -19.240461,
          -6.307941,
          21.073639,
          -33.25194,
          32.153152,
          7.042884,
          -43.046215,
          13.04609,
          -51.03159,
          -0.3895512,
          15.46933,
          23.469889,
          7.825322,
          53.120678,
          -32.80963,
          -34.065006,
          43.054016,
          43.37517,
          -0.07619396,
          -8.988836,
          1.9137242,
          15.990801,
          46.390274,
          27.89379,
          -13.094378,
          -1.0111395,
          19.898983,
          13.268062,
          -46.64839,
          -50.184223,
          -10.593209,
          1.8874958,
          -5.581939,
          -4.854762,
          19.203493,
          25.270222,
          -29.427315,
          -14.101096,
          22.387152,
          4.7477775,
          -46.732407,
          -30.962566,
          34.04372,
          -40.454197,
          2.9751244,
          9.544645,
          -23.990921,
          -5.6585584,
          -23.872793,
          -33.12702,
          -20.774315,
          26.388596,
          -27.910376,
          12.3509445,
          21.23763,
          -35.86704,
          -26.963057,
          4.444571,
          -20.183031,
          -53.552917,
          -21.334715,
          -31.961525,
          -25.905167,
          16.904434,
          -22.66411,
          53.23985,
          11.645294,
          10.291828,
          -26.631893,
          38.647884,
          17.80457,
          25.2355,
          -22.265589,
          20.096798,
          37.67476,
          10.985576,
          14.818791,
          36.660507,
          -26.438854,
          35.86573,
          38.770035,
          6.614218,
          39.497948,
          19.49737,
          -28.714638,
          -34.167583,
          -42.41152,
          -16.348215,
          -0.30927342,
          18.268816,
          52.35285,
          -5.0403886,
          -9.339701,
          -3.7541003
         ],
         "xaxis": "x",
         "y": [
          21.236769,
          35.04212,
          26.721231,
          -16.612125,
          -33.999996,
          54.703575,
          -38.985752,
          -27.841404,
          21.648216,
          -37.413067,
          18.83157,
          -38.630337,
          32.86928,
          -46.769497,
          4.8909736,
          -29.910847,
          -33.944424,
          29.82987,
          -13.973815,
          29.651781,
          -22.812063,
          -11.440523,
          12.305497,
          -27.387093,
          28.6785,
          -12.952639,
          32.95693,
          44.21335,
          21.978127,
          -21.222334,
          6.541619,
          8.043768,
          -1.2683232,
          -12.500363,
          -11.721923,
          6.0230565,
          -32.078594,
          -40.74528,
          17.777876,
          -0.27267322,
          13.040414,
          -6.172965,
          0.616896,
          -29.754461,
          10.263319,
          -45.41662,
          -13.239145,
          -20.511465,
          31.498013,
          32.27338,
          -1.3489547,
          53.650955,
          -37.217205,
          -21.300491,
          -28.00279,
          -31.413918,
          10.437056,
          -22.927069,
          14.976666,
          36.2945,
          29.354479,
          -33.829716,
          14.851547,
          -15.5040865,
          6.2688193,
          -25.821297,
          11.820841,
          10.689342,
          25.716534,
          30.657,
          -4.89836,
          -36.66633,
          17.490826,
          17.202778,
          23.434658,
          6.9970016,
          55.882572,
          -7.500599,
          -8.574025,
          18.661678,
          8.907868,
          -2.6274002,
          41.06128,
          -23.830029,
          25.148983,
          46.42553,
          21.609087,
          -20.045162,
          -18.883272,
          -15.460223,
          49.97656,
          6.7863636,
          39.7694,
          4.0122833,
          -19.399103,
          -42.347824,
          43.823235,
          -26.94829,
          -27.86248,
          9.863025,
          -15.24516,
          38.346752,
          -43.437428,
          43.70401,
          -53.38197,
          4.370871,
          -17.846737,
          15.097536,
          -50.621456,
          36.036976,
          -18.91061,
          -25.96476,
          3.931408,
          27.193966,
          25.823292,
          -48.093716,
          1.6265404,
          -2.2081032,
          -15.551174,
          19.241507,
          19.724308,
          29.011242,
          -9.805742,
          23.408766,
          12.446637,
          -27.296282,
          -28.315363,
          15.464497,
          46.00403,
          24.317215,
          -23.163746,
          17.72791,
          12.086415,
          -21.329895,
          -28.212664,
          22.278631,
          22.53739,
          -49.15883,
          30.71725,
          50.21944,
          7.1553626,
          48.38465,
          5.4404945,
          48.150906,
          26.157242,
          -38.143066,
          -37.642815,
          -43.586357,
          -20.338297,
          -21.17608,
          16.040993,
          -6.8626013,
          -18.563858,
          7.1805387,
          -0.8893535,
          -8.231554,
          12.391286,
          24.16441,
          6.312133,
          18.671015,
          44.268414,
          43.842884,
          -8.523898,
          25.0467,
          2.4094746,
          20.81712,
          -2.411551,
          -44.58889,
          2.7702253,
          -0.8749068,
          -5.147219,
          -8.772441,
          -40.182976,
          10.024647,
          38.07852,
          17.915016,
          -9.640654,
          35.942513,
          -38.135056,
          -13.982828,
          3.7235374,
          20.407686,
          -40.512848,
          35.77755,
          16.305658,
          -50.82794,
          39.50066,
          1.4956062,
          -13.411595,
          -23.967728,
          2.2625477,
          -22.162907,
          2.4603837,
          32.31184,
          -9.102512,
          -8.652811,
          -5.428969,
          -6.285415,
          -11.56942,
          -25.39039,
          -7.457014,
          -29.816065,
          -36.832623,
          -45.78398,
          -8.774203,
          38.4311,
          12.390647,
          14.379342,
          -52.588184,
          -21.851583,
          -13.165245,
          52.85278,
          -26.456137,
          -35.000473,
          -33.845284,
          3.0257392,
          9.00158,
          -20.127434,
          9.052627,
          -2.9982438,
          7.4877067,
          41.027332,
          28.020792,
          22.737068,
          -29.876486,
          37.2508,
          -46.897964,
          42.911312,
          25.955132,
          -3.9509163,
          -27.886955,
          24.762405,
          -34.482994,
          37.010853,
          6.125189,
          17.477098,
          -12.8916,
          30.316607,
          7.891887,
          3.2177787,
          -3.4421844,
          15.05878,
          38.281384,
          34.23754,
          -2.0481071,
          -3.2328038,
          -30.790293,
          -43.7133,
          -22.66653,
          18.513647,
          45.936428,
          -27.472326,
          -2.925983,
          -11.457916,
          -19.14733,
          -27.314571,
          -44.32412,
          0.69243604,
          16.166769,
          -40.52923,
          10.945705,
          -10.346226,
          -11.047863,
          -32.838783,
          -6.1644793,
          -23.060972,
          47.98771,
          -38.325573,
          2.745617,
          12.485733,
          -32.630527,
          -12.82162,
          -46.867554,
          -17.985205,
          -41.036266,
          -1.8102883,
          -6.311836,
          33.83757,
          42.842266,
          -16.24204,
          -15.462998,
          59.076344,
          6.0647306,
          1.6551282,
          11.495816,
          21.458443,
          26.195396,
          1.266811,
          1.0439308,
          8.158002,
          -50.27044,
          -33.6113,
          -38.02913,
          -2.1088336,
          -24.120342,
          18.604717,
          -20.421553,
          -30.737696,
          -4.637044,
          -1.2465094
         ],
         "yaxis": "y",
         "type": "scattergl"
        },
        {
         "customdata": [
          [
           "parallel_data/tr-Trac",
           "tr",
           "0"
          ],
          [
           "parallel_data/tr-Trac",
           "tr",
           "1"
          ],
          [
           "parallel_data/tr-Trac",
           "tr",
           "2"
          ],
          [
           "parallel_data/tr-Trac",
           "tr",
           "3"
          ],
          [
           "parallel_data/tr-Trac",
           "tr",
           "4"
          ],
          [
           "parallel_data/tr-Trac",
           "tr",
           "5"
          ],
          [
           "parallel_data/tr-Trac",
           "tr",
           "6"
          ],
          [
           "parallel_data/tr-Trac",
           "tr",
           "7"
          ],
          [
           "parallel_data/tr-Trac",
           "tr",
           "8"
          ],
          [
           "parallel_data/tr-Trac",
           "tr",
           "9"
          ],
          [
           "parallel_data/tr-Trac",
           "tr",
           "10"
          ],
          [
           "parallel_data/tr-Trac",
           "tr",
           "11"
          ],
          [
           "parallel_data/tr-Trac",
           "tr",
           "12"
          ],
          [
           "parallel_data/tr-Trac",
           "tr",
           "13"
          ],
          [
           "parallel_data/tr-Trac",
           "tr",
           "14"
          ],
          [
           "parallel_data/tr-Trac",
           "tr",
           "15"
          ],
          [
           "parallel_data/tr-Trac",
           "tr",
           "16"
          ],
          [
           "parallel_data/tr-Trac",
           "tr",
           "17"
          ],
          [
           "parallel_data/tr-Trac",
           "tr",
           "18"
          ],
          [
           "parallel_data/tr-Trac",
           "tr",
           "19"
          ],
          [
           "parallel_data/tr-Trac",
           "tr",
           "20"
          ],
          [
           "parallel_data/tr-Trac",
           "tr",
           "21"
          ],
          [
           "parallel_data/tr-Trac",
           "tr",
           "22"
          ],
          [
           "parallel_data/tr-Trac",
           "tr",
           "23"
          ],
          [
           "parallel_data/tr-Trac",
           "tr",
           "24"
          ],
          [
           "parallel_data/tr-Trac",
           "tr",
           "25"
          ],
          [
           "parallel_data/tr-Trac",
           "tr",
           "26"
          ],
          [
           "parallel_data/tr-Trac",
           "tr",
           "27"
          ],
          [
           "parallel_data/tr-Trac",
           "tr",
           "28"
          ],
          [
           "parallel_data/tr-Trac",
           "tr",
           "29"
          ],
          [
           "parallel_data/tr-Trac",
           "tr",
           "30"
          ],
          [
           "parallel_data/tr-Trac",
           "tr",
           "31"
          ],
          [
           "parallel_data/tr-Trac",
           "tr",
           "32"
          ],
          [
           "parallel_data/tr-Trac",
           "tr",
           "33"
          ],
          [
           "parallel_data/tr-Trac",
           "tr",
           "34"
          ],
          [
           "parallel_data/tr-Trac",
           "tr",
           "35"
          ],
          [
           "parallel_data/tr-Trac",
           "tr",
           "36"
          ],
          [
           "parallel_data/tr-Trac",
           "tr",
           "37"
          ],
          [
           "parallel_data/tr-Trac",
           "tr",
           "38"
          ],
          [
           "parallel_data/tr-Trac",
           "tr",
           "39"
          ],
          [
           "parallel_data/tr-Trac",
           "tr",
           "40"
          ],
          [
           "parallel_data/tr-Trac",
           "tr",
           "41"
          ],
          [
           "parallel_data/tr-Trac",
           "tr",
           "42"
          ],
          [
           "parallel_data/tr-Trac",
           "tr",
           "43"
          ],
          [
           "parallel_data/tr-Trac",
           "tr",
           "44"
          ],
          [
           "parallel_data/tr-Trac",
           "tr",
           "45"
          ],
          [
           "parallel_data/tr-Trac",
           "tr",
           "46"
          ],
          [
           "parallel_data/tr-Trac",
           "tr",
           "47"
          ],
          [
           "parallel_data/tr-Trac",
           "tr",
           "48"
          ],
          [
           "parallel_data/tr-Trac",
           "tr",
           "49"
          ],
          [
           "parallel_data/tr-Trac",
           "tr",
           "50"
          ],
          [
           "parallel_data/tr-Trac",
           "tr",
           "51"
          ],
          [
           "parallel_data/tr-Trac",
           "tr",
           "52"
          ],
          [
           "parallel_data/tr-Trac",
           "tr",
           "53"
          ],
          [
           "parallel_data/tr-Trac",
           "tr",
           "54"
          ],
          [
           "parallel_data/tr-Trac",
           "tr",
           "55"
          ],
          [
           "parallel_data/tr-Trac",
           "tr",
           "56"
          ],
          [
           "parallel_data/tr-Trac",
           "tr",
           "57"
          ],
          [
           "parallel_data/tr-Trac",
           "tr",
           "58"
          ],
          [
           "parallel_data/tr-Trac",
           "tr",
           "59"
          ],
          [
           "parallel_data/tr-Trac",
           "tr",
           "60"
          ],
          [
           "parallel_data/tr-Trac",
           "tr",
           "61"
          ],
          [
           "parallel_data/tr-Trac",
           "tr",
           "62"
          ],
          [
           "parallel_data/tr-Trac",
           "tr",
           "63"
          ],
          [
           "parallel_data/tr-Trac",
           "tr",
           "64"
          ],
          [
           "parallel_data/tr-Trac",
           "tr",
           "65"
          ],
          [
           "parallel_data/tr-Trac",
           "tr",
           "66"
          ],
          [
           "parallel_data/tr-Trac",
           "tr",
           "67"
          ],
          [
           "parallel_data/tr-Trac",
           "tr",
           "68"
          ],
          [
           "parallel_data/tr-Trac",
           "tr",
           "69"
          ],
          [
           "parallel_data/tr-Trac",
           "tr",
           "70"
          ],
          [
           "parallel_data/tr-Trac",
           "tr",
           "71"
          ],
          [
           "parallel_data/tr-Trac",
           "tr",
           "72"
          ],
          [
           "parallel_data/tr-Trac",
           "tr",
           "73"
          ],
          [
           "parallel_data/tr-Trac",
           "tr",
           "74"
          ],
          [
           "parallel_data/tr-Trac",
           "tr",
           "75"
          ],
          [
           "parallel_data/tr-Trac",
           "tr",
           "76"
          ],
          [
           "parallel_data/tr-Trac",
           "tr",
           "77"
          ],
          [
           "parallel_data/tr-Trac",
           "tr",
           "78"
          ],
          [
           "parallel_data/tr-Trac",
           "tr",
           "79"
          ],
          [
           "parallel_data/tr-Trac",
           "tr",
           "80"
          ],
          [
           "parallel_data/tr-Trac",
           "tr",
           "81"
          ],
          [
           "parallel_data/tr-Trac",
           "tr",
           "82"
          ],
          [
           "parallel_data/tr-Trac",
           "tr",
           "83"
          ],
          [
           "parallel_data/tr-Trac",
           "tr",
           "84"
          ],
          [
           "parallel_data/tr-Trac",
           "tr",
           "85"
          ],
          [
           "parallel_data/tr-Trac",
           "tr",
           "86"
          ],
          [
           "parallel_data/tr-Trac",
           "tr",
           "87"
          ],
          [
           "parallel_data/tr-Trac",
           "tr",
           "88"
          ],
          [
           "parallel_data/tr-Trac",
           "tr",
           "89"
          ],
          [
           "parallel_data/tr-Trac",
           "tr",
           "90"
          ],
          [
           "parallel_data/tr-Trac",
           "tr",
           "91"
          ],
          [
           "parallel_data/tr-Trac",
           "tr",
           "92"
          ],
          [
           "parallel_data/tr-Trac",
           "tr",
           "93"
          ],
          [
           "parallel_data/tr-Trac",
           "tr",
           "94"
          ],
          [
           "parallel_data/tr-Trac",
           "tr",
           "95"
          ],
          [
           "parallel_data/tr-Trac",
           "tr",
           "96"
          ],
          [
           "parallel_data/tr-Trac",
           "tr",
           "97"
          ],
          [
           "parallel_data/tr-Trac",
           "tr",
           "98"
          ],
          [
           "parallel_data/tr-Trac",
           "tr",
           "99"
          ],
          [
           "parallel_data/tr-Trac",
           "tr",
           "100"
          ],
          [
           "parallel_data/tr-Trac",
           "tr",
           "101"
          ],
          [
           "parallel_data/tr-Trac",
           "tr",
           "102"
          ],
          [
           "parallel_data/tr-Trac",
           "tr",
           "103"
          ],
          [
           "parallel_data/tr-Trac",
           "tr",
           "104"
          ],
          [
           "parallel_data/tr-Trac",
           "tr",
           "105"
          ],
          [
           "parallel_data/tr-Trac",
           "tr",
           "106"
          ],
          [
           "parallel_data/tr-Trac",
           "tr",
           "107"
          ],
          [
           "parallel_data/tr-Trac",
           "tr",
           "108"
          ],
          [
           "parallel_data/tr-Trac",
           "tr",
           "109"
          ],
          [
           "parallel_data/tr-Trac",
           "tr",
           "110"
          ],
          [
           "parallel_data/tr-Trac",
           "tr",
           "111"
          ],
          [
           "parallel_data/tr-Trac",
           "tr",
           "112"
          ],
          [
           "parallel_data/tr-Trac",
           "tr",
           "113"
          ],
          [
           "parallel_data/tr-Trac",
           "tr",
           "114"
          ],
          [
           "parallel_data/tr-Trac",
           "tr",
           "115"
          ],
          [
           "parallel_data/tr-Trac",
           "tr",
           "116"
          ],
          [
           "parallel_data/tr-Trac",
           "tr",
           "117"
          ],
          [
           "parallel_data/tr-Trac",
           "tr",
           "118"
          ],
          [
           "parallel_data/tr-Trac",
           "tr",
           "119"
          ],
          [
           "parallel_data/tr-Trac",
           "tr",
           "120"
          ],
          [
           "parallel_data/tr-Trac",
           "tr",
           "121"
          ],
          [
           "parallel_data/tr-Trac",
           "tr",
           "122"
          ],
          [
           "parallel_data/tr-Trac",
           "tr",
           "123"
          ],
          [
           "parallel_data/tr-Trac",
           "tr",
           "124"
          ],
          [
           "parallel_data/tr-Trac",
           "tr",
           "125"
          ],
          [
           "parallel_data/tr-Trac",
           "tr",
           "126"
          ],
          [
           "parallel_data/tr-Trac",
           "tr",
           "127"
          ],
          [
           "parallel_data/tr-Trac",
           "tr",
           "128"
          ],
          [
           "parallel_data/tr-Trac",
           "tr",
           "129"
          ],
          [
           "parallel_data/tr-Trac",
           "tr",
           "130"
          ],
          [
           "parallel_data/tr-Trac",
           "tr",
           "131"
          ],
          [
           "parallel_data/tr-Trac",
           "tr",
           "132"
          ],
          [
           "parallel_data/tr-Trac",
           "tr",
           "133"
          ],
          [
           "parallel_data/tr-Trac",
           "tr",
           "134"
          ],
          [
           "parallel_data/tr-Trac",
           "tr",
           "135"
          ],
          [
           "parallel_data/tr-Trac",
           "tr",
           "136"
          ],
          [
           "parallel_data/tr-Trac",
           "tr",
           "137"
          ],
          [
           "parallel_data/tr-Trac",
           "tr",
           "138"
          ],
          [
           "parallel_data/tr-Trac",
           "tr",
           "139"
          ],
          [
           "parallel_data/tr-Trac",
           "tr",
           "140"
          ],
          [
           "parallel_data/tr-Trac",
           "tr",
           "141"
          ],
          [
           "parallel_data/tr-Trac",
           "tr",
           "142"
          ],
          [
           "parallel_data/tr-Trac",
           "tr",
           "143"
          ],
          [
           "parallel_data/tr-Trac",
           "tr",
           "144"
          ],
          [
           "parallel_data/tr-Trac",
           "tr",
           "145"
          ],
          [
           "parallel_data/tr-Trac",
           "tr",
           "146"
          ],
          [
           "parallel_data/tr-Trac",
           "tr",
           "147"
          ],
          [
           "parallel_data/tr-Trac",
           "tr",
           "148"
          ],
          [
           "parallel_data/tr-Trac",
           "tr",
           "149"
          ],
          [
           "parallel_data/tr-Trac",
           "tr",
           "150"
          ],
          [
           "parallel_data/tr-Trac",
           "tr",
           "151"
          ],
          [
           "parallel_data/tr-Trac",
           "tr",
           "152"
          ],
          [
           "parallel_data/tr-Trac",
           "tr",
           "153"
          ],
          [
           "parallel_data/tr-Trac",
           "tr",
           "154"
          ],
          [
           "parallel_data/tr-Trac",
           "tr",
           "155"
          ],
          [
           "parallel_data/tr-Trac",
           "tr",
           "156"
          ],
          [
           "parallel_data/tr-Trac",
           "tr",
           "157"
          ],
          [
           "parallel_data/tr-Trac",
           "tr",
           "158"
          ],
          [
           "parallel_data/tr-Trac",
           "tr",
           "159"
          ],
          [
           "parallel_data/tr-Trac",
           "tr",
           "160"
          ],
          [
           "parallel_data/tr-Trac",
           "tr",
           "161"
          ],
          [
           "parallel_data/tr-Trac",
           "tr",
           "162"
          ],
          [
           "parallel_data/tr-Trac",
           "tr",
           "163"
          ],
          [
           "parallel_data/tr-Trac",
           "tr",
           "164"
          ],
          [
           "parallel_data/tr-Trac",
           "tr",
           "165"
          ],
          [
           "parallel_data/tr-Trac",
           "tr",
           "166"
          ],
          [
           "parallel_data/tr-Trac",
           "tr",
           "167"
          ],
          [
           "parallel_data/tr-Trac",
           "tr",
           "168"
          ],
          [
           "parallel_data/tr-Trac",
           "tr",
           "169"
          ],
          [
           "parallel_data/tr-Trac",
           "tr",
           "170"
          ],
          [
           "parallel_data/tr-Trac",
           "tr",
           "171"
          ],
          [
           "parallel_data/tr-Trac",
           "tr",
           "172"
          ],
          [
           "parallel_data/tr-Trac",
           "tr",
           "173"
          ],
          [
           "parallel_data/tr-Trac",
           "tr",
           "174"
          ],
          [
           "parallel_data/tr-Trac",
           "tr",
           "175"
          ],
          [
           "parallel_data/tr-Trac",
           "tr",
           "176"
          ],
          [
           "parallel_data/tr-Trac",
           "tr",
           "177"
          ],
          [
           "parallel_data/tr-Trac",
           "tr",
           "178"
          ],
          [
           "parallel_data/tr-Trac",
           "tr",
           "179"
          ],
          [
           "parallel_data/tr-Trac",
           "tr",
           "180"
          ],
          [
           "parallel_data/tr-Trac",
           "tr",
           "181"
          ],
          [
           "parallel_data/tr-Trac",
           "tr",
           "182"
          ],
          [
           "parallel_data/tr-Trac",
           "tr",
           "183"
          ],
          [
           "parallel_data/tr-Trac",
           "tr",
           "184"
          ],
          [
           "parallel_data/tr-Trac",
           "tr",
           "185"
          ],
          [
           "parallel_data/tr-Trac",
           "tr",
           "186"
          ],
          [
           "parallel_data/tr-Trac",
           "tr",
           "187"
          ],
          [
           "parallel_data/tr-Trac",
           "tr",
           "188"
          ],
          [
           "parallel_data/tr-Trac",
           "tr",
           "189"
          ],
          [
           "parallel_data/tr-Trac",
           "tr",
           "190"
          ],
          [
           "parallel_data/tr-Trac",
           "tr",
           "191"
          ],
          [
           "parallel_data/tr-Trac",
           "tr",
           "192"
          ],
          [
           "parallel_data/tr-Trac",
           "tr",
           "193"
          ],
          [
           "parallel_data/tr-Trac",
           "tr",
           "194"
          ],
          [
           "parallel_data/tr-Trac",
           "tr",
           "195"
          ],
          [
           "parallel_data/tr-Trac",
           "tr",
           "196"
          ],
          [
           "parallel_data/tr-Trac",
           "tr",
           "197"
          ],
          [
           "parallel_data/tr-Trac",
           "tr",
           "198"
          ],
          [
           "parallel_data/tr-Trac",
           "tr",
           "199"
          ],
          [
           "parallel_data/tr-Trac",
           "tr",
           "200"
          ],
          [
           "parallel_data/tr-Trac",
           "tr",
           "201"
          ],
          [
           "parallel_data/tr-Trac",
           "tr",
           "202"
          ],
          [
           "parallel_data/tr-Trac",
           "tr",
           "203"
          ],
          [
           "parallel_data/tr-Trac",
           "tr",
           "204"
          ],
          [
           "parallel_data/tr-Trac",
           "tr",
           "205"
          ],
          [
           "parallel_data/tr-Trac",
           "tr",
           "206"
          ],
          [
           "parallel_data/tr-Trac",
           "tr",
           "207"
          ],
          [
           "parallel_data/tr-Trac",
           "tr",
           "208"
          ],
          [
           "parallel_data/tr-Trac",
           "tr",
           "209"
          ],
          [
           "parallel_data/tr-Trac",
           "tr",
           "210"
          ],
          [
           "parallel_data/tr-Trac",
           "tr",
           "211"
          ],
          [
           "parallel_data/tr-Trac",
           "tr",
           "212"
          ],
          [
           "parallel_data/tr-Trac",
           "tr",
           "213"
          ],
          [
           "parallel_data/tr-Trac",
           "tr",
           "214"
          ],
          [
           "parallel_data/tr-Trac",
           "tr",
           "215"
          ],
          [
           "parallel_data/tr-Trac",
           "tr",
           "216"
          ],
          [
           "parallel_data/tr-Trac",
           "tr",
           "217"
          ],
          [
           "parallel_data/tr-Trac",
           "tr",
           "218"
          ],
          [
           "parallel_data/tr-Trac",
           "tr",
           "219"
          ],
          [
           "parallel_data/tr-Trac",
           "tr",
           "220"
          ],
          [
           "parallel_data/tr-Trac",
           "tr",
           "221"
          ],
          [
           "parallel_data/tr-Trac",
           "tr",
           "222"
          ],
          [
           "parallel_data/tr-Trac",
           "tr",
           "223"
          ],
          [
           "parallel_data/tr-Trac",
           "tr",
           "224"
          ],
          [
           "parallel_data/tr-Trac",
           "tr",
           "225"
          ],
          [
           "parallel_data/tr-Trac",
           "tr",
           "226"
          ],
          [
           "parallel_data/tr-Trac",
           "tr",
           "227"
          ],
          [
           "parallel_data/tr-Trac",
           "tr",
           "228"
          ],
          [
           "parallel_data/tr-Trac",
           "tr",
           "229"
          ],
          [
           "parallel_data/tr-Trac",
           "tr",
           "230"
          ],
          [
           "parallel_data/tr-Trac",
           "tr",
           "231"
          ],
          [
           "parallel_data/tr-Trac",
           "tr",
           "232"
          ],
          [
           "parallel_data/tr-Trac",
           "tr",
           "233"
          ],
          [
           "parallel_data/tr-Trac",
           "tr",
           "234"
          ],
          [
           "parallel_data/tr-Trac",
           "tr",
           "235"
          ],
          [
           "parallel_data/tr-Trac",
           "tr",
           "236"
          ],
          [
           "parallel_data/tr-Trac",
           "tr",
           "237"
          ],
          [
           "parallel_data/tr-Trac",
           "tr",
           "238"
          ],
          [
           "parallel_data/tr-Trac",
           "tr",
           "239"
          ],
          [
           "parallel_data/tr-Trac",
           "tr",
           "240"
          ],
          [
           "parallel_data/tr-Trac",
           "tr",
           "241"
          ],
          [
           "parallel_data/tr-Trac",
           "tr",
           "242"
          ],
          [
           "parallel_data/tr-Trac",
           "tr",
           "243"
          ],
          [
           "parallel_data/tr-Trac",
           "tr",
           "244"
          ],
          [
           "parallel_data/tr-Trac",
           "tr",
           "245"
          ],
          [
           "parallel_data/tr-Trac",
           "tr",
           "246"
          ],
          [
           "parallel_data/tr-Trac",
           "tr",
           "247"
          ],
          [
           "parallel_data/tr-Trac",
           "tr",
           "248"
          ],
          [
           "parallel_data/tr-Trac",
           "tr",
           "249"
          ],
          [
           "parallel_data/tr-Trac",
           "tr",
           "250"
          ],
          [
           "parallel_data/tr-Trac",
           "tr",
           "251"
          ],
          [
           "parallel_data/tr-Trac",
           "tr",
           "252"
          ],
          [
           "parallel_data/tr-Trac",
           "tr",
           "253"
          ],
          [
           "parallel_data/tr-Trac",
           "tr",
           "254"
          ],
          [
           "parallel_data/tr-Trac",
           "tr",
           "255"
          ],
          [
           "parallel_data/tr-Trac",
           "tr",
           "256"
          ],
          [
           "parallel_data/tr-Trac",
           "tr",
           "257"
          ],
          [
           "parallel_data/tr-Trac",
           "tr",
           "258"
          ],
          [
           "parallel_data/tr-Trac",
           "tr",
           "259"
          ],
          [
           "parallel_data/tr-Trac",
           "tr",
           "260"
          ],
          [
           "parallel_data/tr-Trac",
           "tr",
           "261"
          ],
          [
           "parallel_data/tr-Trac",
           "tr",
           "262"
          ],
          [
           "parallel_data/tr-Trac",
           "tr",
           "263"
          ],
          [
           "parallel_data/tr-Trac",
           "tr",
           "264"
          ],
          [
           "parallel_data/tr-Trac",
           "tr",
           "265"
          ],
          [
           "parallel_data/tr-Trac",
           "tr",
           "266"
          ],
          [
           "parallel_data/tr-Trac",
           "tr",
           "267"
          ],
          [
           "parallel_data/tr-Trac",
           "tr",
           "268"
          ],
          [
           "parallel_data/tr-Trac",
           "tr",
           "269"
          ],
          [
           "parallel_data/tr-Trac",
           "tr",
           "270"
          ],
          [
           "parallel_data/tr-Trac",
           "tr",
           "271"
          ],
          [
           "parallel_data/tr-Trac",
           "tr",
           "272"
          ],
          [
           "parallel_data/tr-Trac",
           "tr",
           "273"
          ],
          [
           "parallel_data/tr-Trac",
           "tr",
           "274"
          ],
          [
           "parallel_data/tr-Trac",
           "tr",
           "275"
          ],
          [
           "parallel_data/tr-Trac",
           "tr",
           "276"
          ],
          [
           "parallel_data/tr-Trac",
           "tr",
           "277"
          ],
          [
           "parallel_data/tr-Trac",
           "tr",
           "278"
          ],
          [
           "parallel_data/tr-Trac",
           "tr",
           "279"
          ],
          [
           "parallel_data/tr-Trac",
           "tr",
           "280"
          ],
          [
           "parallel_data/tr-Trac",
           "tr",
           "281"
          ],
          [
           "parallel_data/tr-Trac",
           "tr",
           "282"
          ],
          [
           "parallel_data/tr-Trac",
           "tr",
           "283"
          ],
          [
           "parallel_data/tr-Trac",
           "tr",
           "284"
          ],
          [
           "parallel_data/tr-Trac",
           "tr",
           "285"
          ],
          [
           "parallel_data/tr-Trac",
           "tr",
           "286"
          ],
          [
           "parallel_data/tr-Trac",
           "tr",
           "287"
          ],
          [
           "parallel_data/tr-Trac",
           "tr",
           "288"
          ],
          [
           "parallel_data/tr-Trac",
           "tr",
           "289"
          ],
          [
           "parallel_data/tr-Trac",
           "tr",
           "290"
          ],
          [
           "parallel_data/tr-Trac",
           "tr",
           "291"
          ],
          [
           "parallel_data/tr-Trac",
           "tr",
           "292"
          ],
          [
           "parallel_data/tr-Trac",
           "tr",
           "293"
          ],
          [
           "parallel_data/tr-Trac",
           "tr",
           "294"
          ],
          [
           "parallel_data/tr-Trac",
           "tr",
           "295"
          ],
          [
           "parallel_data/tr-Trac",
           "tr",
           "296"
          ],
          [
           "parallel_data/tr-Trac",
           "tr",
           "297"
          ],
          [
           "parallel_data/tr-Trac",
           "tr",
           "298"
          ],
          [
           "parallel_data/tr-Trac",
           "tr",
           "299"
          ]
         ],
         "hovertemplate": "language=%{customdata[1]}<br>x=%{x}<br>y=%{y}<br>dataset_name=%{customdata[0]}<br>id=%{customdata[2]}<extra></extra>",
         "legendgroup": "tr",
         "marker": {
          "color": "#EF553B",
          "symbol": "circle"
         },
         "mode": "markers",
         "name": "tr",
         "showlegend": true,
         "x": [
          6.1423626,
          -20.117916,
          -7.38384,
          -35.549377,
          -44.190765,
          19.992851,
          -46.396954,
          -19.344976,
          -7.514672,
          -16.409544,
          -22.625095,
          24.952414,
          -24.666409,
          31.876455,
          -14.85534,
          25.273882,
          -37.8641,
          33.91439,
          -53.993168,
          14.22443,
          -24.961052,
          17.93496,
          4.7022824,
          -24.6006,
          -21.84439,
          0.25853276,
          18.899775,
          33.974,
          -15.950065,
          -20.617838,
          -10.566749,
          -21.879238,
          41.18994,
          -21.842136,
          -44.53532,
          27.716969,
          -16.365326,
          3.4630704,
          -4.9263306,
          -27.970974,
          9.803044,
          -12.853408,
          -11.144189,
          -27.297447,
          2.6780365,
          -38.56735,
          12.985919,
          -12.608377,
          -8.033207,
          -38.189907,
          31.80071,
          0.24947259,
          8.013442,
          -5.1586637,
          37.58436,
          10.246705,
          49.58958,
          6.152081,
          -1.9068259,
          38.233845,
          -3.5648131,
          -11.940826,
          20.839952,
          -28.120523,
          4.7941666,
          2.7905958,
          -9.846601,
          35.375153,
          -31.557535,
          -18.127466,
          40.30174,
          32.045593,
          24.342413,
          38.33189,
          -27.655024,
          22.733736,
          -27.986017,
          1.3430697,
          46.808865,
          -10.9856,
          -1.871335,
          -0.9257834,
          -5.9692097,
          -16.769754,
          -18.311186,
          24.244982,
          40.70404,
          -47.102325,
          29.751423,
          25.110096,
          -16.815748,
          29.926273,
          -2.4191558,
          32.464333,
          15.458114,
          -8.624292,
          -15.864991,
          23.030169,
          -53.96055,
          -14.868315,
          46.695423,
          8.150916,
          19.809147,
          10.367925,
          -1.9842206,
          9.614958,
          -7.2756166,
          -33.919502,
          1.7387602,
          -5.4744353,
          -17.427334,
          -7.9124937,
          46.508057,
          -10.425169,
          19.26909,
          -13.886856,
          3.4621484,
          45.90588,
          -20.352306,
          43.045708,
          1.0101029,
          -26.411728,
          11.330762,
          -21.819622,
          46.27245,
          -49.867363,
          14.726814,
          -13.120241,
          18.868061,
          -11.422217,
          11.839646,
          30.675138,
          28.859478,
          -40.743214,
          28.576996,
          -3.315277,
          13.7911415,
          -3.2761672,
          -12.480951,
          -8.638216,
          -29.400043,
          -4.125497,
          2.6096442,
          11.285401,
          6.40878,
          -35.747494,
          42.199165,
          -49.51701,
          -59.25255,
          -29.065344,
          4.8961067,
          34.644608,
          1.8910906,
          42.15264,
          -9.564265,
          38.90888,
          42.823452,
          28.165968,
          38.756207,
          -18.211258,
          15.146999,
          -9.904309,
          14.650133,
          -24.201572,
          -39.679897,
          -25.303583,
          15.495642,
          -45.078907,
          13.915276,
          10.347115,
          10.79705,
          -28.29031,
          21.80167,
          24.965616,
          -24.522797,
          13.044967,
          22.917326,
          32.751205,
          -2.0775504,
          -4.063549,
          52.205845,
          -30.538385,
          -39.2025,
          -0.849977,
          -22.38167,
          0.23363541,
          21.097609,
          19.027514,
          7.0294476,
          17.104382,
          -19.719982,
          40.656948,
          41.884163,
          7.315029,
          -53.023914,
          7.0408483,
          23.498468,
          -4.0273395,
          -16.185343,
          -29.350494,
          -24.320934,
          -41.423954,
          -29.322977,
          -32.81874,
          27.103804,
          -16.24461,
          -19.14159,
          -6.60451,
          21.64974,
          -33.42829,
          32.17769,
          6.990755,
          -43.11902,
          13.374483,
          -50.694706,
          -1.1086177,
          14.947177,
          23.434616,
          7.3300714,
          53.63568,
          -32.41811,
          -34.549076,
          43.10602,
          43.439865,
          -0.08057244,
          -8.9810295,
          0.98709583,
          15.038472,
          45.784683,
          27.116789,
          -12.964567,
          -0.7859299,
          19.984608,
          13.559058,
          -46.067112,
          -50.44868,
          -10.388197,
          1.602487,
          -6.513459,
          -4.263062,
          19.05027,
          24.812983,
          -29.801268,
          -14.57722,
          22.65683,
          5.241526,
          -47.012672,
          -31.70273,
          34.564713,
          -39.981144,
          2.1117387,
          9.427888,
          -23.994642,
          -3.9525516,
          -24.106077,
          -33.599213,
          -20.280912,
          26.510113,
          -27.337027,
          12.102924,
          20.183313,
          -36.437393,
          -26.33166,
          3.682766,
          -21.096571,
          -52.995907,
          -22.149343,
          -32.43372,
          -25.871956,
          15.747601,
          -22.240284,
          53.528206,
          11.171204,
          9.403474,
          -26.690691,
          39.298023,
          17.591679,
          24.75898,
          -21.317013,
          20.368238,
          36.99921,
          10.406539,
          14.058256,
          36.58218,
          -25.9461,
          35.880386,
          38.5417,
          6.9055676,
          38.790695,
          18.865816,
          -27.776724,
          -33.22169,
          -42.615334,
          -15.283878,
          -0.50501215,
          17.78883,
          52.546307,
          -4.4086127,
          -9.057961,
          -2.459108
         ],
         "xaxis": "x",
         "y": [
          20.5639,
          34.92189,
          26.2233,
          -17.136883,
          -33.44123,
          54.299522,
          -39.028793,
          -27.944733,
          21.673624,
          -37.8203,
          19.76048,
          -37.523212,
          32.85354,
          -46.151463,
          4.154505,
          -30.6752,
          -32.973583,
          29.86035,
          -14.0195675,
          30.16796,
          -24.023352,
          -10.9541645,
          12.600702,
          -27.4412,
          29.459188,
          -13.75916,
          32.294918,
          43.507664,
          21.224041,
          -21.610235,
          5.8474646,
          7.443269,
          -2.292094,
          -12.227556,
          -10.9088,
          6.6721926,
          -30.71623,
          -40.336258,
          16.884777,
          -0.6276234,
          12.632661,
          -6.722634,
          1.2746316,
          -29.245708,
          10.670833,
          -44.62394,
          -12.791086,
          -19.84428,
          31.745752,
          32.277634,
          -1.8739824,
          53.92751,
          -36.43596,
          -20.892624,
          -28.01265,
          -31.61459,
          10.19495,
          -22.451721,
          14.027659,
          36.561604,
          29.629871,
          -33.780334,
          14.6071,
          -15.558376,
          7.0286736,
          -25.503647,
          11.094885,
          11.698545,
          26.188309,
          30.77645,
          -3.995649,
          -36.529873,
          17.30992,
          17.449389,
          24.117807,
          6.4504347,
          55.951756,
          -7.185108,
          -7.983945,
          19.083359,
          8.464717,
          -1.7470467,
          41.094517,
          -23.290142,
          24.844278,
          46.991966,
          22.430384,
          -19.93408,
          -18.651041,
          -15.035405,
          50.646194,
          6.9968033,
          40.855816,
          3.9437218,
          -18.942097,
          -42.208878,
          44.325874,
          -27.348492,
          -27.56285,
          9.783941,
          -15.379835,
          38.05568,
          -43.41972,
          43.648354,
          -52.872093,
          4.524894,
          -17.659992,
          15.384876,
          -50.08978,
          37.48572,
          -17.743347,
          -26.049437,
          3.809706,
          27.039469,
          25.3679,
          -47.10498,
          2.4229348,
          -2.838114,
          -16.003258,
          19.936666,
          19.190641,
          29.450909,
          -10.1563635,
          22.749992,
          12.098289,
          -28.201242,
          -28.785492,
          15.096869,
          45.668102,
          24.083967,
          -23.779572,
          18.18222,
          11.589834,
          -21.324167,
          -27.948505,
          21.652664,
          23.069374,
          -49.101994,
          29.744766,
          49.797516,
          8.05049,
          47.5601,
          5.7966776,
          48.840626,
          26.227959,
          -37.573708,
          -37.48483,
          -42.885555,
          -20.595842,
          -20.984993,
          16.101065,
          -7.1374063,
          -18.394567,
          6.761225,
          -1.2799516,
          -8.917177,
          12.761465,
          24.416296,
          6.8362327,
          18.00738,
          44.213596,
          43.99454,
          -8.7951975,
          24.247742,
          2.9284215,
          21.006023,
          -1.9273708,
          -44.98693,
          2.7319343,
          -0.7877954,
          -6.121516,
          -8.288957,
          -39.98617,
          10.965932,
          38.63618,
          18.237724,
          -9.799136,
          35.494835,
          -37.90893,
          -13.33574,
          3.8947468,
          20.15213,
          -39.885017,
          35.28037,
          16.867874,
          -50.857166,
          39.730675,
          0.7928637,
          -13.652567,
          -24.227602,
          2.704388,
          -22.375023,
          3.4498265,
          32.990883,
          -9.532154,
          -8.674249,
          -5.3332496,
          -6.217795,
          -11.297379,
          -25.316765,
          -7.2516103,
          -29.55404,
          -37.309044,
          -46.315056,
          -8.580826,
          38.374577,
          12.011782,
          13.943699,
          -51.883358,
          -21.41691,
          -13.821796,
          52.608265,
          -25.841618,
          -35.837593,
          -34.058624,
          2.8008416,
          9.630613,
          -20.4871,
          8.561378,
          -2.6722317,
          6.9176507,
          40.724583,
          27.55868,
          22.355295,
          -29.417961,
          37.172432,
          -46.768715,
          42.880665,
          25.994389,
          -3.654432,
          -26.857254,
          24.803577,
          -33.508045,
          36.2109,
          6.658642,
          17.426481,
          -12.124947,
          29.795715,
          7.527138,
          3.9570944,
          -3.5351272,
          15.45531,
          37.742435,
          33.99285,
          -1.6107085,
          -2.9947975,
          -30.219315,
          -43.634026,
          -21.71083,
          18.673338,
          45.920223,
          -27.509644,
          -2.2633533,
          -11.163735,
          -18.730164,
          -27.232822,
          -43.95639,
          0.79291666,
          16.626102,
          -40.586742,
          11.079285,
          -10.462382,
          -11.141977,
          -33.999516,
          -6.1727653,
          -23.187803,
          48.417816,
          -38.84408,
          1.9820608,
          11.489499,
          -33.31588,
          -12.441642,
          -46.719795,
          -18.090994,
          -41.972088,
          -2.4307141,
          -6.505604,
          34.6068,
          42.573696,
          -15.78712,
          -14.587632,
          58.830444,
          5.8575506,
          0.6696146,
          11.536841,
          21.35185,
          25.628744,
          1.5848507,
          0.37323382,
          8.972723,
          -50.27245,
          -33.195602,
          -37.62248,
          -1.8747147,
          -24.563335,
          17.861492,
          -19.802574,
          -30.667091,
          -5.322552,
          -0.7450164
         ],
         "yaxis": "y",
         "type": "scattergl"
        },
        {
         "customdata": [
          [
           "parallel_data/de-Trac",
           "de",
           "0"
          ],
          [
           "parallel_data/de-Trac",
           "de",
           "1"
          ],
          [
           "parallel_data/de-Trac",
           "de",
           "2"
          ],
          [
           "parallel_data/de-Trac",
           "de",
           "3"
          ],
          [
           "parallel_data/de-Trac",
           "de",
           "4"
          ],
          [
           "parallel_data/de-Trac",
           "de",
           "5"
          ],
          [
           "parallel_data/de-Trac",
           "de",
           "6"
          ],
          [
           "parallel_data/de-Trac",
           "de",
           "7"
          ],
          [
           "parallel_data/de-Trac",
           "de",
           "8"
          ],
          [
           "parallel_data/de-Trac",
           "de",
           "9"
          ],
          [
           "parallel_data/de-Trac",
           "de",
           "10"
          ],
          [
           "parallel_data/de-Trac",
           "de",
           "11"
          ],
          [
           "parallel_data/de-Trac",
           "de",
           "12"
          ],
          [
           "parallel_data/de-Trac",
           "de",
           "13"
          ],
          [
           "parallel_data/de-Trac",
           "de",
           "14"
          ],
          [
           "parallel_data/de-Trac",
           "de",
           "15"
          ],
          [
           "parallel_data/de-Trac",
           "de",
           "16"
          ],
          [
           "parallel_data/de-Trac",
           "de",
           "17"
          ],
          [
           "parallel_data/de-Trac",
           "de",
           "18"
          ],
          [
           "parallel_data/de-Trac",
           "de",
           "19"
          ],
          [
           "parallel_data/de-Trac",
           "de",
           "20"
          ],
          [
           "parallel_data/de-Trac",
           "de",
           "21"
          ],
          [
           "parallel_data/de-Trac",
           "de",
           "22"
          ],
          [
           "parallel_data/de-Trac",
           "de",
           "23"
          ],
          [
           "parallel_data/de-Trac",
           "de",
           "24"
          ],
          [
           "parallel_data/de-Trac",
           "de",
           "25"
          ],
          [
           "parallel_data/de-Trac",
           "de",
           "26"
          ],
          [
           "parallel_data/de-Trac",
           "de",
           "27"
          ],
          [
           "parallel_data/de-Trac",
           "de",
           "28"
          ],
          [
           "parallel_data/de-Trac",
           "de",
           "29"
          ],
          [
           "parallel_data/de-Trac",
           "de",
           "30"
          ],
          [
           "parallel_data/de-Trac",
           "de",
           "31"
          ],
          [
           "parallel_data/de-Trac",
           "de",
           "32"
          ],
          [
           "parallel_data/de-Trac",
           "de",
           "33"
          ],
          [
           "parallel_data/de-Trac",
           "de",
           "34"
          ],
          [
           "parallel_data/de-Trac",
           "de",
           "35"
          ],
          [
           "parallel_data/de-Trac",
           "de",
           "36"
          ],
          [
           "parallel_data/de-Trac",
           "de",
           "37"
          ],
          [
           "parallel_data/de-Trac",
           "de",
           "38"
          ],
          [
           "parallel_data/de-Trac",
           "de",
           "39"
          ],
          [
           "parallel_data/de-Trac",
           "de",
           "40"
          ],
          [
           "parallel_data/de-Trac",
           "de",
           "41"
          ],
          [
           "parallel_data/de-Trac",
           "de",
           "42"
          ],
          [
           "parallel_data/de-Trac",
           "de",
           "43"
          ],
          [
           "parallel_data/de-Trac",
           "de",
           "44"
          ],
          [
           "parallel_data/de-Trac",
           "de",
           "45"
          ],
          [
           "parallel_data/de-Trac",
           "de",
           "46"
          ],
          [
           "parallel_data/de-Trac",
           "de",
           "47"
          ],
          [
           "parallel_data/de-Trac",
           "de",
           "48"
          ],
          [
           "parallel_data/de-Trac",
           "de",
           "49"
          ],
          [
           "parallel_data/de-Trac",
           "de",
           "50"
          ],
          [
           "parallel_data/de-Trac",
           "de",
           "51"
          ],
          [
           "parallel_data/de-Trac",
           "de",
           "52"
          ],
          [
           "parallel_data/de-Trac",
           "de",
           "53"
          ],
          [
           "parallel_data/de-Trac",
           "de",
           "54"
          ],
          [
           "parallel_data/de-Trac",
           "de",
           "55"
          ],
          [
           "parallel_data/de-Trac",
           "de",
           "56"
          ],
          [
           "parallel_data/de-Trac",
           "de",
           "57"
          ],
          [
           "parallel_data/de-Trac",
           "de",
           "58"
          ],
          [
           "parallel_data/de-Trac",
           "de",
           "59"
          ],
          [
           "parallel_data/de-Trac",
           "de",
           "60"
          ],
          [
           "parallel_data/de-Trac",
           "de",
           "61"
          ],
          [
           "parallel_data/de-Trac",
           "de",
           "62"
          ],
          [
           "parallel_data/de-Trac",
           "de",
           "63"
          ],
          [
           "parallel_data/de-Trac",
           "de",
           "64"
          ],
          [
           "parallel_data/de-Trac",
           "de",
           "65"
          ],
          [
           "parallel_data/de-Trac",
           "de",
           "66"
          ],
          [
           "parallel_data/de-Trac",
           "de",
           "67"
          ],
          [
           "parallel_data/de-Trac",
           "de",
           "68"
          ],
          [
           "parallel_data/de-Trac",
           "de",
           "69"
          ],
          [
           "parallel_data/de-Trac",
           "de",
           "70"
          ],
          [
           "parallel_data/de-Trac",
           "de",
           "71"
          ],
          [
           "parallel_data/de-Trac",
           "de",
           "72"
          ],
          [
           "parallel_data/de-Trac",
           "de",
           "73"
          ],
          [
           "parallel_data/de-Trac",
           "de",
           "74"
          ],
          [
           "parallel_data/de-Trac",
           "de",
           "75"
          ],
          [
           "parallel_data/de-Trac",
           "de",
           "76"
          ],
          [
           "parallel_data/de-Trac",
           "de",
           "77"
          ],
          [
           "parallel_data/de-Trac",
           "de",
           "78"
          ],
          [
           "parallel_data/de-Trac",
           "de",
           "79"
          ],
          [
           "parallel_data/de-Trac",
           "de",
           "80"
          ],
          [
           "parallel_data/de-Trac",
           "de",
           "81"
          ],
          [
           "parallel_data/de-Trac",
           "de",
           "82"
          ],
          [
           "parallel_data/de-Trac",
           "de",
           "83"
          ],
          [
           "parallel_data/de-Trac",
           "de",
           "84"
          ],
          [
           "parallel_data/de-Trac",
           "de",
           "85"
          ],
          [
           "parallel_data/de-Trac",
           "de",
           "86"
          ],
          [
           "parallel_data/de-Trac",
           "de",
           "87"
          ],
          [
           "parallel_data/de-Trac",
           "de",
           "88"
          ],
          [
           "parallel_data/de-Trac",
           "de",
           "89"
          ],
          [
           "parallel_data/de-Trac",
           "de",
           "90"
          ],
          [
           "parallel_data/de-Trac",
           "de",
           "91"
          ],
          [
           "parallel_data/de-Trac",
           "de",
           "92"
          ],
          [
           "parallel_data/de-Trac",
           "de",
           "93"
          ],
          [
           "parallel_data/de-Trac",
           "de",
           "94"
          ],
          [
           "parallel_data/de-Trac",
           "de",
           "95"
          ],
          [
           "parallel_data/de-Trac",
           "de",
           "96"
          ],
          [
           "parallel_data/de-Trac",
           "de",
           "97"
          ],
          [
           "parallel_data/de-Trac",
           "de",
           "98"
          ],
          [
           "parallel_data/de-Trac",
           "de",
           "99"
          ],
          [
           "parallel_data/de-Trac",
           "de",
           "100"
          ],
          [
           "parallel_data/de-Trac",
           "de",
           "101"
          ],
          [
           "parallel_data/de-Trac",
           "de",
           "102"
          ],
          [
           "parallel_data/de-Trac",
           "de",
           "103"
          ],
          [
           "parallel_data/de-Trac",
           "de",
           "104"
          ],
          [
           "parallel_data/de-Trac",
           "de",
           "105"
          ],
          [
           "parallel_data/de-Trac",
           "de",
           "106"
          ],
          [
           "parallel_data/de-Trac",
           "de",
           "107"
          ],
          [
           "parallel_data/de-Trac",
           "de",
           "108"
          ],
          [
           "parallel_data/de-Trac",
           "de",
           "109"
          ],
          [
           "parallel_data/de-Trac",
           "de",
           "110"
          ],
          [
           "parallel_data/de-Trac",
           "de",
           "111"
          ],
          [
           "parallel_data/de-Trac",
           "de",
           "112"
          ],
          [
           "parallel_data/de-Trac",
           "de",
           "113"
          ],
          [
           "parallel_data/de-Trac",
           "de",
           "114"
          ],
          [
           "parallel_data/de-Trac",
           "de",
           "115"
          ],
          [
           "parallel_data/de-Trac",
           "de",
           "116"
          ],
          [
           "parallel_data/de-Trac",
           "de",
           "117"
          ],
          [
           "parallel_data/de-Trac",
           "de",
           "118"
          ],
          [
           "parallel_data/de-Trac",
           "de",
           "119"
          ],
          [
           "parallel_data/de-Trac",
           "de",
           "120"
          ],
          [
           "parallel_data/de-Trac",
           "de",
           "121"
          ],
          [
           "parallel_data/de-Trac",
           "de",
           "122"
          ],
          [
           "parallel_data/de-Trac",
           "de",
           "123"
          ],
          [
           "parallel_data/de-Trac",
           "de",
           "124"
          ],
          [
           "parallel_data/de-Trac",
           "de",
           "125"
          ],
          [
           "parallel_data/de-Trac",
           "de",
           "126"
          ],
          [
           "parallel_data/de-Trac",
           "de",
           "127"
          ],
          [
           "parallel_data/de-Trac",
           "de",
           "128"
          ],
          [
           "parallel_data/de-Trac",
           "de",
           "129"
          ],
          [
           "parallel_data/de-Trac",
           "de",
           "130"
          ],
          [
           "parallel_data/de-Trac",
           "de",
           "131"
          ],
          [
           "parallel_data/de-Trac",
           "de",
           "132"
          ],
          [
           "parallel_data/de-Trac",
           "de",
           "133"
          ],
          [
           "parallel_data/de-Trac",
           "de",
           "134"
          ],
          [
           "parallel_data/de-Trac",
           "de",
           "135"
          ],
          [
           "parallel_data/de-Trac",
           "de",
           "136"
          ],
          [
           "parallel_data/de-Trac",
           "de",
           "137"
          ],
          [
           "parallel_data/de-Trac",
           "de",
           "138"
          ],
          [
           "parallel_data/de-Trac",
           "de",
           "139"
          ],
          [
           "parallel_data/de-Trac",
           "de",
           "140"
          ],
          [
           "parallel_data/de-Trac",
           "de",
           "141"
          ],
          [
           "parallel_data/de-Trac",
           "de",
           "142"
          ],
          [
           "parallel_data/de-Trac",
           "de",
           "143"
          ],
          [
           "parallel_data/de-Trac",
           "de",
           "144"
          ],
          [
           "parallel_data/de-Trac",
           "de",
           "145"
          ],
          [
           "parallel_data/de-Trac",
           "de",
           "146"
          ],
          [
           "parallel_data/de-Trac",
           "de",
           "147"
          ],
          [
           "parallel_data/de-Trac",
           "de",
           "148"
          ],
          [
           "parallel_data/de-Trac",
           "de",
           "149"
          ],
          [
           "parallel_data/de-Trac",
           "de",
           "150"
          ],
          [
           "parallel_data/de-Trac",
           "de",
           "151"
          ],
          [
           "parallel_data/de-Trac",
           "de",
           "152"
          ],
          [
           "parallel_data/de-Trac",
           "de",
           "153"
          ],
          [
           "parallel_data/de-Trac",
           "de",
           "154"
          ],
          [
           "parallel_data/de-Trac",
           "de",
           "155"
          ],
          [
           "parallel_data/de-Trac",
           "de",
           "156"
          ],
          [
           "parallel_data/de-Trac",
           "de",
           "157"
          ],
          [
           "parallel_data/de-Trac",
           "de",
           "158"
          ],
          [
           "parallel_data/de-Trac",
           "de",
           "159"
          ],
          [
           "parallel_data/de-Trac",
           "de",
           "160"
          ],
          [
           "parallel_data/de-Trac",
           "de",
           "161"
          ],
          [
           "parallel_data/de-Trac",
           "de",
           "162"
          ],
          [
           "parallel_data/de-Trac",
           "de",
           "163"
          ],
          [
           "parallel_data/de-Trac",
           "de",
           "164"
          ],
          [
           "parallel_data/de-Trac",
           "de",
           "165"
          ],
          [
           "parallel_data/de-Trac",
           "de",
           "166"
          ],
          [
           "parallel_data/de-Trac",
           "de",
           "167"
          ],
          [
           "parallel_data/de-Trac",
           "de",
           "168"
          ],
          [
           "parallel_data/de-Trac",
           "de",
           "169"
          ],
          [
           "parallel_data/de-Trac",
           "de",
           "170"
          ],
          [
           "parallel_data/de-Trac",
           "de",
           "171"
          ],
          [
           "parallel_data/de-Trac",
           "de",
           "172"
          ],
          [
           "parallel_data/de-Trac",
           "de",
           "173"
          ],
          [
           "parallel_data/de-Trac",
           "de",
           "174"
          ],
          [
           "parallel_data/de-Trac",
           "de",
           "175"
          ],
          [
           "parallel_data/de-Trac",
           "de",
           "176"
          ],
          [
           "parallel_data/de-Trac",
           "de",
           "177"
          ],
          [
           "parallel_data/de-Trac",
           "de",
           "178"
          ],
          [
           "parallel_data/de-Trac",
           "de",
           "179"
          ],
          [
           "parallel_data/de-Trac",
           "de",
           "180"
          ],
          [
           "parallel_data/de-Trac",
           "de",
           "181"
          ],
          [
           "parallel_data/de-Trac",
           "de",
           "182"
          ],
          [
           "parallel_data/de-Trac",
           "de",
           "183"
          ],
          [
           "parallel_data/de-Trac",
           "de",
           "184"
          ],
          [
           "parallel_data/de-Trac",
           "de",
           "185"
          ],
          [
           "parallel_data/de-Trac",
           "de",
           "186"
          ],
          [
           "parallel_data/de-Trac",
           "de",
           "187"
          ],
          [
           "parallel_data/de-Trac",
           "de",
           "188"
          ],
          [
           "parallel_data/de-Trac",
           "de",
           "189"
          ],
          [
           "parallel_data/de-Trac",
           "de",
           "190"
          ],
          [
           "parallel_data/de-Trac",
           "de",
           "191"
          ],
          [
           "parallel_data/de-Trac",
           "de",
           "192"
          ],
          [
           "parallel_data/de-Trac",
           "de",
           "193"
          ],
          [
           "parallel_data/de-Trac",
           "de",
           "194"
          ],
          [
           "parallel_data/de-Trac",
           "de",
           "195"
          ],
          [
           "parallel_data/de-Trac",
           "de",
           "196"
          ],
          [
           "parallel_data/de-Trac",
           "de",
           "197"
          ],
          [
           "parallel_data/de-Trac",
           "de",
           "198"
          ],
          [
           "parallel_data/de-Trac",
           "de",
           "199"
          ],
          [
           "parallel_data/de-Trac",
           "de",
           "200"
          ],
          [
           "parallel_data/de-Trac",
           "de",
           "201"
          ],
          [
           "parallel_data/de-Trac",
           "de",
           "202"
          ],
          [
           "parallel_data/de-Trac",
           "de",
           "203"
          ],
          [
           "parallel_data/de-Trac",
           "de",
           "204"
          ],
          [
           "parallel_data/de-Trac",
           "de",
           "205"
          ],
          [
           "parallel_data/de-Trac",
           "de",
           "206"
          ],
          [
           "parallel_data/de-Trac",
           "de",
           "207"
          ],
          [
           "parallel_data/de-Trac",
           "de",
           "208"
          ],
          [
           "parallel_data/de-Trac",
           "de",
           "209"
          ],
          [
           "parallel_data/de-Trac",
           "de",
           "210"
          ],
          [
           "parallel_data/de-Trac",
           "de",
           "211"
          ],
          [
           "parallel_data/de-Trac",
           "de",
           "212"
          ],
          [
           "parallel_data/de-Trac",
           "de",
           "213"
          ],
          [
           "parallel_data/de-Trac",
           "de",
           "214"
          ],
          [
           "parallel_data/de-Trac",
           "de",
           "215"
          ],
          [
           "parallel_data/de-Trac",
           "de",
           "216"
          ],
          [
           "parallel_data/de-Trac",
           "de",
           "217"
          ],
          [
           "parallel_data/de-Trac",
           "de",
           "218"
          ],
          [
           "parallel_data/de-Trac",
           "de",
           "219"
          ],
          [
           "parallel_data/de-Trac",
           "de",
           "220"
          ],
          [
           "parallel_data/de-Trac",
           "de",
           "221"
          ],
          [
           "parallel_data/de-Trac",
           "de",
           "222"
          ],
          [
           "parallel_data/de-Trac",
           "de",
           "223"
          ],
          [
           "parallel_data/de-Trac",
           "de",
           "224"
          ],
          [
           "parallel_data/de-Trac",
           "de",
           "225"
          ],
          [
           "parallel_data/de-Trac",
           "de",
           "226"
          ],
          [
           "parallel_data/de-Trac",
           "de",
           "227"
          ],
          [
           "parallel_data/de-Trac",
           "de",
           "228"
          ],
          [
           "parallel_data/de-Trac",
           "de",
           "229"
          ],
          [
           "parallel_data/de-Trac",
           "de",
           "230"
          ],
          [
           "parallel_data/de-Trac",
           "de",
           "231"
          ],
          [
           "parallel_data/de-Trac",
           "de",
           "232"
          ],
          [
           "parallel_data/de-Trac",
           "de",
           "233"
          ],
          [
           "parallel_data/de-Trac",
           "de",
           "234"
          ],
          [
           "parallel_data/de-Trac",
           "de",
           "235"
          ],
          [
           "parallel_data/de-Trac",
           "de",
           "236"
          ],
          [
           "parallel_data/de-Trac",
           "de",
           "237"
          ],
          [
           "parallel_data/de-Trac",
           "de",
           "238"
          ],
          [
           "parallel_data/de-Trac",
           "de",
           "239"
          ],
          [
           "parallel_data/de-Trac",
           "de",
           "240"
          ],
          [
           "parallel_data/de-Trac",
           "de",
           "241"
          ],
          [
           "parallel_data/de-Trac",
           "de",
           "242"
          ],
          [
           "parallel_data/de-Trac",
           "de",
           "243"
          ],
          [
           "parallel_data/de-Trac",
           "de",
           "244"
          ],
          [
           "parallel_data/de-Trac",
           "de",
           "245"
          ],
          [
           "parallel_data/de-Trac",
           "de",
           "246"
          ],
          [
           "parallel_data/de-Trac",
           "de",
           "247"
          ],
          [
           "parallel_data/de-Trac",
           "de",
           "248"
          ],
          [
           "parallel_data/de-Trac",
           "de",
           "249"
          ],
          [
           "parallel_data/de-Trac",
           "de",
           "250"
          ],
          [
           "parallel_data/de-Trac",
           "de",
           "251"
          ],
          [
           "parallel_data/de-Trac",
           "de",
           "252"
          ],
          [
           "parallel_data/de-Trac",
           "de",
           "253"
          ],
          [
           "parallel_data/de-Trac",
           "de",
           "254"
          ],
          [
           "parallel_data/de-Trac",
           "de",
           "255"
          ],
          [
           "parallel_data/de-Trac",
           "de",
           "256"
          ],
          [
           "parallel_data/de-Trac",
           "de",
           "257"
          ],
          [
           "parallel_data/de-Trac",
           "de",
           "258"
          ],
          [
           "parallel_data/de-Trac",
           "de",
           "259"
          ],
          [
           "parallel_data/de-Trac",
           "de",
           "260"
          ],
          [
           "parallel_data/de-Trac",
           "de",
           "261"
          ],
          [
           "parallel_data/de-Trac",
           "de",
           "262"
          ],
          [
           "parallel_data/de-Trac",
           "de",
           "263"
          ],
          [
           "parallel_data/de-Trac",
           "de",
           "264"
          ],
          [
           "parallel_data/de-Trac",
           "de",
           "265"
          ],
          [
           "parallel_data/de-Trac",
           "de",
           "266"
          ],
          [
           "parallel_data/de-Trac",
           "de",
           "267"
          ],
          [
           "parallel_data/de-Trac",
           "de",
           "268"
          ],
          [
           "parallel_data/de-Trac",
           "de",
           "269"
          ],
          [
           "parallel_data/de-Trac",
           "de",
           "270"
          ],
          [
           "parallel_data/de-Trac",
           "de",
           "271"
          ],
          [
           "parallel_data/de-Trac",
           "de",
           "272"
          ],
          [
           "parallel_data/de-Trac",
           "de",
           "273"
          ],
          [
           "parallel_data/de-Trac",
           "de",
           "274"
          ],
          [
           "parallel_data/de-Trac",
           "de",
           "275"
          ],
          [
           "parallel_data/de-Trac",
           "de",
           "276"
          ],
          [
           "parallel_data/de-Trac",
           "de",
           "277"
          ],
          [
           "parallel_data/de-Trac",
           "de",
           "278"
          ],
          [
           "parallel_data/de-Trac",
           "de",
           "279"
          ],
          [
           "parallel_data/de-Trac",
           "de",
           "280"
          ],
          [
           "parallel_data/de-Trac",
           "de",
           "281"
          ],
          [
           "parallel_data/de-Trac",
           "de",
           "282"
          ],
          [
           "parallel_data/de-Trac",
           "de",
           "283"
          ],
          [
           "parallel_data/de-Trac",
           "de",
           "284"
          ],
          [
           "parallel_data/de-Trac",
           "de",
           "285"
          ],
          [
           "parallel_data/de-Trac",
           "de",
           "286"
          ],
          [
           "parallel_data/de-Trac",
           "de",
           "287"
          ],
          [
           "parallel_data/de-Trac",
           "de",
           "288"
          ],
          [
           "parallel_data/de-Trac",
           "de",
           "289"
          ],
          [
           "parallel_data/de-Trac",
           "de",
           "290"
          ],
          [
           "parallel_data/de-Trac",
           "de",
           "291"
          ],
          [
           "parallel_data/de-Trac",
           "de",
           "292"
          ],
          [
           "parallel_data/de-Trac",
           "de",
           "293"
          ],
          [
           "parallel_data/de-Trac",
           "de",
           "294"
          ],
          [
           "parallel_data/de-Trac",
           "de",
           "295"
          ],
          [
           "parallel_data/de-Trac",
           "de",
           "296"
          ],
          [
           "parallel_data/de-Trac",
           "de",
           "297"
          ],
          [
           "parallel_data/de-Trac",
           "de",
           "298"
          ],
          [
           "parallel_data/de-Trac",
           "de",
           "299"
          ]
         ],
         "hovertemplate": "language=%{customdata[1]}<br>x=%{x}<br>y=%{y}<br>dataset_name=%{customdata[0]}<br>id=%{customdata[2]}<extra></extra>",
         "legendgroup": "de",
         "marker": {
          "color": "#00cc96",
          "symbol": "circle"
         },
         "mode": "markers",
         "name": "de",
         "showlegend": true,
         "x": [
          6.673779,
          -20.71043,
          -6.476012,
          -35.61716,
          -43.911964,
          19.451706,
          -46.72541,
          -19.595991,
          -7.2832847,
          -17.165333,
          -21.949207,
          25.584658,
          -23.766138,
          32.093037,
          -14.3459425,
          25.64973,
          -38.35691,
          33.40088,
          -54.032345,
          13.509177,
          -23.989973,
          18.13371,
          5.1964545,
          -23.517454,
          -21.207281,
          0.267731,
          19.28692,
          34.15868,
          -15.380026,
          -19.648552,
          -10.63126,
          -21.002033,
          41.444344,
          -22.235977,
          -44.107117,
          27.714985,
          -16.065968,
          3.980919,
          -5.0640163,
          -28.526562,
          9.242787,
          -13.075067,
          -10.439539,
          -27.427244,
          2.6723785,
          -38.64745,
          12.797913,
          -12.193395,
          -8.037195,
          -39.118732,
          32.417686,
          0.25587288,
          8.572401,
          -5.568711,
          37.77289,
          10.058648,
          50.02425,
          6.254796,
          -1.7157155,
          38.43391,
          -2.9681838,
          -12.502509,
          21.362986,
          -28.484161,
          5.526907,
          3.3444762,
          -9.353509,
          34.857677,
          -31.535381,
          -17.307951,
          40.67995,
          32.43792,
          24.474379,
          38.568447,
          -27.869097,
          22.63048,
          -28.178082,
          1.0627209,
          45.849144,
          -10.163208,
          -1.566616,
          -0.25268617,
          -7.285901,
          -16.72253,
          -17.941107,
          24.563032,
          40.77586,
          -47.045784,
          30.150028,
          25.53228,
          -17.299852,
          30.214935,
          -2.6751997,
          32.818703,
          15.679552,
          -8.051008,
          -16.056108,
          23.316532,
          -53.651928,
          -15.71744,
          47.233627,
          7.8267426,
          20.092363,
          10.783014,
          -2.3545344,
          10.067471,
          -8.428271,
          -33.38258,
          2.1741657,
          -5.891108,
          -18.169266,
          -7.1127768,
          46.54693,
          -9.807789,
          18.98249,
          -13.395874,
          2.9266164,
          45.529095,
          -19.891855,
          42.752625,
          0.550112,
          -26.906086,
          11.1508665,
          -21.219568,
          46.533142,
          -49.92846,
          15.427831,
          -13.218049,
          18.999651,
          -11.96189,
          11.931422,
          30.671501,
          30.416637,
          -40.643105,
          27.728159,
          -3.5583336,
          13.364742,
          -2.984146,
          -12.503772,
          -9.041589,
          -28.83049,
          -3.913601,
          2.7391934,
          10.626361,
          5.7779465,
          -35.803844,
          42.000404,
          -50.30757,
          -59.665676,
          -28.839209,
          4.604789,
          34.598877,
          2.5434585,
          41.541355,
          -9.357632,
          38.838234,
          41.613506,
          27.779799,
          37.761204,
          -18.098333,
          15.82984,
          -10.727057,
          14.655308,
          -24.390135,
          -39.25545,
          -25.355844,
          15.787569,
          -44.421963,
          14.459754,
          10.722387,
          10.744208,
          -29.157347,
          22.05341,
          25.19177,
          -24.684769,
          13.255688,
          22.512514,
          33.427025,
          -2.5205448,
          -4.5480027,
          52.484833,
          -29.464361,
          -38.84008,
          -1.7651608,
          -22.98575,
          -0.05172251,
          20.49448,
          19.513296,
          6.296824,
          16.882801,
          -19.341196,
          40.98717,
          42.105762,
          6.7437773,
          -52.77684,
          6.453996,
          23.129286,
          -3.802453,
          -16.266106,
          -29.38107,
          -25.043516,
          -41.971214,
          -29.694794,
          -32.624355,
          27.345953,
          -16.542427,
          -19.164186,
          -6.319116,
          20.822973,
          -34.261215,
          32.349045,
          6.7112427,
          -43.09616,
          13.020538,
          -50.62258,
          -0.8324069,
          15.058953,
          23.492243,
          7.779659,
          53.00847,
          -32.654793,
          -34.1141,
          42.899406,
          43.601746,
          0.13891867,
          -9.087729,
          1.8250726,
          15.845335,
          46.58037,
          27.32295,
          -13.030652,
          -0.70349085,
          20.00943,
          13.15636,
          -47.07216,
          -49.985672,
          -10.662051,
          2.1162107,
          -5.8747354,
          -4.7754035,
          19.235752,
          25.19618,
          -29.401546,
          -14.551953,
          22.364899,
          5.2525096,
          -47.092106,
          -30.962872,
          33.723415,
          -39.370678,
          2.873743,
          9.820189,
          -23.96464,
          -5.5856686,
          -23.262981,
          -32.23243,
          -20.906101,
          25.510075,
          -27.615618,
          12.095832,
          21.116358,
          -35.803097,
          -27.166113,
          3.3629665,
          -19.928682,
          -53.50728,
          -21.589518,
          -32.09044,
          -25.877924,
          16.628603,
          -22.593758,
          53.363373,
          11.6403475,
          10.675758,
          -26.691093,
          38.81886,
          17.75698,
          25.599688,
          -21.93951,
          19.917582,
          38.139248,
          11.103475,
          14.756678,
          37.090557,
          -25.945574,
          35.468513,
          38.672295,
          6.76525,
          39.35418,
          19.141432,
          -28.525908,
          -34.028378,
          -42.136715,
          -15.873787,
          -0.45195785,
          17.659945,
          51.92838,
          -4.9943895,
          -9.346142,
          -4.157893
         ],
         "xaxis": "x",
         "y": [
          20.886934,
          34.97851,
          26.57894,
          -16.618816,
          -34.088207,
          54.552643,
          -39.32822,
          -27.062714,
          21.693447,
          -37.07209,
          19.267262,
          -38.640724,
          32.842583,
          -46.919373,
          4.9378686,
          -29.848806,
          -34.13381,
          30.140894,
          -13.997944,
          29.752047,
          -22.726768,
          -11.231709,
          12.098115,
          -27.210882,
          29.048847,
          -12.887241,
          32.939648,
          43.770607,
          21.71009,
          -21.097338,
          6.5218453,
          7.943199,
          -1.0935899,
          -12.39996,
          -11.362747,
          6.2857494,
          -31.76054,
          -40.78223,
          17.389023,
          -0.66946286,
          13.197909,
          -6.1429024,
          1.0589848,
          -29.629934,
          10.6871,
          -45.558098,
          -13.316963,
          -20.21566,
          31.711359,
          32.61715,
          -0.9302884,
          53.569645,
          -37.356865,
          -21.341198,
          -25.989422,
          -31.24668,
          10.464722,
          -22.963818,
          14.1639185,
          36.365097,
          30.188423,
          -33.451427,
          14.374406,
          -15.064105,
          6.1167536,
          -25.995602,
          11.8474245,
          10.313132,
          25.664885,
          30.88178,
          -5.394122,
          -36.063904,
          17.56035,
          17.189505,
          23.560946,
          6.8432784,
          55.999744,
          -7.2570963,
          -8.287629,
          18.581097,
          8.929569,
          -2.2986581,
          40.874573,
          -24.076782,
          24.845957,
          46.518055,
          21.715094,
          -19.908106,
          -18.598263,
          -15.392298,
          49.97141,
          7.2343097,
          40.231865,
          4.6172957,
          -19.150454,
          -42.742905,
          44.055294,
          -26.864626,
          -27.889008,
          9.405304,
          -15.434049,
          38.717003,
          -43.721252,
          44.011406,
          -53.343544,
          4.5834465,
          -17.865894,
          15.166415,
          -50.593323,
          36.854027,
          -18.6183,
          -25.687845,
          4.0099015,
          27.147684,
          26.150486,
          -48.202423,
          1.4336921,
          -2.1645849,
          -15.909954,
          19.043816,
          19.405794,
          28.96373,
          -9.737626,
          23.439419,
          12.74463,
          -27.300564,
          -28.244389,
          15.650339,
          46.104767,
          23.889507,
          -23.43173,
          18.071182,
          12.29303,
          -20.625788,
          -28.23365,
          22.277601,
          22.64134,
          -49.37055,
          30.629944,
          50.157673,
          7.33621,
          48.01592,
          5.7253075,
          48.234318,
          26.126318,
          -38.057133,
          -37.510456,
          -44.178722,
          -20.338308,
          -21.449963,
          15.688081,
          -6.043913,
          -18.961912,
          6.746782,
          -1.175725,
          -8.339918,
          12.548547,
          23.865835,
          6.7765875,
          18.475298,
          44.40139,
          43.18074,
          -8.089082,
          24.338919,
          2.5147767,
          20.773865,
          -1.8211464,
          -45.205574,
          2.5982103,
          -0.7400165,
          -5.3524814,
          -9.009342,
          -40.239807,
          10.897897,
          37.930485,
          17.861004,
          -9.518126,
          35.631916,
          -38.018433,
          -13.865064,
          4.1636844,
          20.500538,
          -40.545273,
          35.80017,
          16.486689,
          -50.505386,
          39.731953,
          1.4621404,
          -13.370024,
          -24.029133,
          2.2552743,
          -22.010721,
          2.8312912,
          32.757984,
          -9.151024,
          -8.80043,
          -5.6172895,
          -6.2835803,
          -11.842784,
          -24.821224,
          -7.2886806,
          -29.76581,
          -36.925213,
          -46.083584,
          -8.80243,
          38.4595,
          12.608555,
          14.510462,
          -52.670475,
          -22.472727,
          -13.234124,
          52.89179,
          -25.982916,
          -35.00003,
          -34.14322,
          3.1937358,
          9.451193,
          -19.817823,
          9.185075,
          -3.3423657,
          7.506431,
          41.160156,
          27.982954,
          22.35783,
          -30.020983,
          38.063934,
          -46.95345,
          42.76071,
          26.117794,
          -3.7066305,
          -27.676102,
          24.724987,
          -34.3733,
          37.01912,
          6.201237,
          17.990911,
          -12.282081,
          30.246696,
          8.520229,
          3.6706705,
          -3.548841,
          14.744658,
          38.19944,
          34.025387,
          -2.1387978,
          -3.2611048,
          -30.354973,
          -43.729473,
          -22.539457,
          17.70304,
          46.091084,
          -27.291388,
          -3.0246322,
          -11.104531,
          -19.23841,
          -27.150204,
          -44.37496,
          0.2897338,
          17.085243,
          -40.436302,
          10.947547,
          -10.289841,
          -11.048796,
          -33.284653,
          -6.31037,
          -23.33531,
          48.04051,
          -38.380516,
          2.7136528,
          12.270747,
          -32.462242,
          -13.009631,
          -46.62291,
          -18.431932,
          -41.378975,
          -1.4290925,
          -6.4995317,
          33.92681,
          43.613976,
          -16.060125,
          -15.946983,
          59.31633,
          5.833867,
          1.8806101,
          11.324526,
          21.492283,
          25.983953,
          1.7511817,
          0.96362823,
          8.484609,
          -50.84349,
          -33.5539,
          -37.989506,
          -1.6741183,
          -24.026943,
          18.229174,
          -20.438164,
          -30.850267,
          -4.8439574,
          -1.6756189
         ],
         "yaxis": "y",
         "type": "scattergl"
        },
        {
         "customdata": [
          [
           "parallel_data/hr-Trac",
           "hr",
           "0"
          ],
          [
           "parallel_data/hr-Trac",
           "hr",
           "1"
          ],
          [
           "parallel_data/hr-Trac",
           "hr",
           "2"
          ],
          [
           "parallel_data/hr-Trac",
           "hr",
           "3"
          ],
          [
           "parallel_data/hr-Trac",
           "hr",
           "4"
          ],
          [
           "parallel_data/hr-Trac",
           "hr",
           "5"
          ],
          [
           "parallel_data/hr-Trac",
           "hr",
           "6"
          ],
          [
           "parallel_data/hr-Trac",
           "hr",
           "7"
          ],
          [
           "parallel_data/hr-Trac",
           "hr",
           "8"
          ],
          [
           "parallel_data/hr-Trac",
           "hr",
           "9"
          ],
          [
           "parallel_data/hr-Trac",
           "hr",
           "10"
          ],
          [
           "parallel_data/hr-Trac",
           "hr",
           "11"
          ],
          [
           "parallel_data/hr-Trac",
           "hr",
           "12"
          ],
          [
           "parallel_data/hr-Trac",
           "hr",
           "13"
          ],
          [
           "parallel_data/hr-Trac",
           "hr",
           "14"
          ],
          [
           "parallel_data/hr-Trac",
           "hr",
           "15"
          ],
          [
           "parallel_data/hr-Trac",
           "hr",
           "16"
          ],
          [
           "parallel_data/hr-Trac",
           "hr",
           "17"
          ],
          [
           "parallel_data/hr-Trac",
           "hr",
           "18"
          ],
          [
           "parallel_data/hr-Trac",
           "hr",
           "19"
          ],
          [
           "parallel_data/hr-Trac",
           "hr",
           "20"
          ],
          [
           "parallel_data/hr-Trac",
           "hr",
           "21"
          ],
          [
           "parallel_data/hr-Trac",
           "hr",
           "22"
          ],
          [
           "parallel_data/hr-Trac",
           "hr",
           "23"
          ],
          [
           "parallel_data/hr-Trac",
           "hr",
           "24"
          ],
          [
           "parallel_data/hr-Trac",
           "hr",
           "25"
          ],
          [
           "parallel_data/hr-Trac",
           "hr",
           "26"
          ],
          [
           "parallel_data/hr-Trac",
           "hr",
           "27"
          ],
          [
           "parallel_data/hr-Trac",
           "hr",
           "28"
          ],
          [
           "parallel_data/hr-Trac",
           "hr",
           "29"
          ],
          [
           "parallel_data/hr-Trac",
           "hr",
           "30"
          ],
          [
           "parallel_data/hr-Trac",
           "hr",
           "31"
          ],
          [
           "parallel_data/hr-Trac",
           "hr",
           "32"
          ],
          [
           "parallel_data/hr-Trac",
           "hr",
           "33"
          ],
          [
           "parallel_data/hr-Trac",
           "hr",
           "34"
          ],
          [
           "parallel_data/hr-Trac",
           "hr",
           "35"
          ],
          [
           "parallel_data/hr-Trac",
           "hr",
           "36"
          ],
          [
           "parallel_data/hr-Trac",
           "hr",
           "37"
          ],
          [
           "parallel_data/hr-Trac",
           "hr",
           "38"
          ],
          [
           "parallel_data/hr-Trac",
           "hr",
           "39"
          ],
          [
           "parallel_data/hr-Trac",
           "hr",
           "40"
          ],
          [
           "parallel_data/hr-Trac",
           "hr",
           "41"
          ],
          [
           "parallel_data/hr-Trac",
           "hr",
           "42"
          ],
          [
           "parallel_data/hr-Trac",
           "hr",
           "43"
          ],
          [
           "parallel_data/hr-Trac",
           "hr",
           "44"
          ],
          [
           "parallel_data/hr-Trac",
           "hr",
           "45"
          ],
          [
           "parallel_data/hr-Trac",
           "hr",
           "46"
          ],
          [
           "parallel_data/hr-Trac",
           "hr",
           "47"
          ],
          [
           "parallel_data/hr-Trac",
           "hr",
           "48"
          ],
          [
           "parallel_data/hr-Trac",
           "hr",
           "49"
          ],
          [
           "parallel_data/hr-Trac",
           "hr",
           "50"
          ],
          [
           "parallel_data/hr-Trac",
           "hr",
           "51"
          ],
          [
           "parallel_data/hr-Trac",
           "hr",
           "52"
          ],
          [
           "parallel_data/hr-Trac",
           "hr",
           "53"
          ],
          [
           "parallel_data/hr-Trac",
           "hr",
           "54"
          ],
          [
           "parallel_data/hr-Trac",
           "hr",
           "55"
          ],
          [
           "parallel_data/hr-Trac",
           "hr",
           "56"
          ],
          [
           "parallel_data/hr-Trac",
           "hr",
           "57"
          ],
          [
           "parallel_data/hr-Trac",
           "hr",
           "58"
          ],
          [
           "parallel_data/hr-Trac",
           "hr",
           "59"
          ],
          [
           "parallel_data/hr-Trac",
           "hr",
           "60"
          ],
          [
           "parallel_data/hr-Trac",
           "hr",
           "61"
          ],
          [
           "parallel_data/hr-Trac",
           "hr",
           "62"
          ],
          [
           "parallel_data/hr-Trac",
           "hr",
           "63"
          ],
          [
           "parallel_data/hr-Trac",
           "hr",
           "64"
          ],
          [
           "parallel_data/hr-Trac",
           "hr",
           "65"
          ],
          [
           "parallel_data/hr-Trac",
           "hr",
           "66"
          ],
          [
           "parallel_data/hr-Trac",
           "hr",
           "67"
          ],
          [
           "parallel_data/hr-Trac",
           "hr",
           "68"
          ],
          [
           "parallel_data/hr-Trac",
           "hr",
           "69"
          ],
          [
           "parallel_data/hr-Trac",
           "hr",
           "70"
          ],
          [
           "parallel_data/hr-Trac",
           "hr",
           "71"
          ],
          [
           "parallel_data/hr-Trac",
           "hr",
           "72"
          ],
          [
           "parallel_data/hr-Trac",
           "hr",
           "73"
          ],
          [
           "parallel_data/hr-Trac",
           "hr",
           "74"
          ],
          [
           "parallel_data/hr-Trac",
           "hr",
           "75"
          ],
          [
           "parallel_data/hr-Trac",
           "hr",
           "76"
          ],
          [
           "parallel_data/hr-Trac",
           "hr",
           "77"
          ],
          [
           "parallel_data/hr-Trac",
           "hr",
           "78"
          ],
          [
           "parallel_data/hr-Trac",
           "hr",
           "79"
          ],
          [
           "parallel_data/hr-Trac",
           "hr",
           "80"
          ],
          [
           "parallel_data/hr-Trac",
           "hr",
           "81"
          ],
          [
           "parallel_data/hr-Trac",
           "hr",
           "82"
          ],
          [
           "parallel_data/hr-Trac",
           "hr",
           "83"
          ],
          [
           "parallel_data/hr-Trac",
           "hr",
           "84"
          ],
          [
           "parallel_data/hr-Trac",
           "hr",
           "85"
          ],
          [
           "parallel_data/hr-Trac",
           "hr",
           "86"
          ],
          [
           "parallel_data/hr-Trac",
           "hr",
           "87"
          ],
          [
           "parallel_data/hr-Trac",
           "hr",
           "88"
          ],
          [
           "parallel_data/hr-Trac",
           "hr",
           "89"
          ],
          [
           "parallel_data/hr-Trac",
           "hr",
           "90"
          ],
          [
           "parallel_data/hr-Trac",
           "hr",
           "91"
          ],
          [
           "parallel_data/hr-Trac",
           "hr",
           "92"
          ],
          [
           "parallel_data/hr-Trac",
           "hr",
           "93"
          ],
          [
           "parallel_data/hr-Trac",
           "hr",
           "94"
          ],
          [
           "parallel_data/hr-Trac",
           "hr",
           "95"
          ],
          [
           "parallel_data/hr-Trac",
           "hr",
           "96"
          ],
          [
           "parallel_data/hr-Trac",
           "hr",
           "97"
          ],
          [
           "parallel_data/hr-Trac",
           "hr",
           "98"
          ],
          [
           "parallel_data/hr-Trac",
           "hr",
           "99"
          ],
          [
           "parallel_data/hr-Trac",
           "hr",
           "100"
          ],
          [
           "parallel_data/hr-Trac",
           "hr",
           "101"
          ],
          [
           "parallel_data/hr-Trac",
           "hr",
           "102"
          ],
          [
           "parallel_data/hr-Trac",
           "hr",
           "103"
          ],
          [
           "parallel_data/hr-Trac",
           "hr",
           "104"
          ],
          [
           "parallel_data/hr-Trac",
           "hr",
           "105"
          ],
          [
           "parallel_data/hr-Trac",
           "hr",
           "106"
          ],
          [
           "parallel_data/hr-Trac",
           "hr",
           "107"
          ],
          [
           "parallel_data/hr-Trac",
           "hr",
           "108"
          ],
          [
           "parallel_data/hr-Trac",
           "hr",
           "109"
          ],
          [
           "parallel_data/hr-Trac",
           "hr",
           "110"
          ],
          [
           "parallel_data/hr-Trac",
           "hr",
           "111"
          ],
          [
           "parallel_data/hr-Trac",
           "hr",
           "112"
          ],
          [
           "parallel_data/hr-Trac",
           "hr",
           "113"
          ],
          [
           "parallel_data/hr-Trac",
           "hr",
           "114"
          ],
          [
           "parallel_data/hr-Trac",
           "hr",
           "115"
          ],
          [
           "parallel_data/hr-Trac",
           "hr",
           "116"
          ],
          [
           "parallel_data/hr-Trac",
           "hr",
           "117"
          ],
          [
           "parallel_data/hr-Trac",
           "hr",
           "118"
          ],
          [
           "parallel_data/hr-Trac",
           "hr",
           "119"
          ],
          [
           "parallel_data/hr-Trac",
           "hr",
           "120"
          ],
          [
           "parallel_data/hr-Trac",
           "hr",
           "121"
          ],
          [
           "parallel_data/hr-Trac",
           "hr",
           "122"
          ],
          [
           "parallel_data/hr-Trac",
           "hr",
           "123"
          ],
          [
           "parallel_data/hr-Trac",
           "hr",
           "124"
          ],
          [
           "parallel_data/hr-Trac",
           "hr",
           "125"
          ],
          [
           "parallel_data/hr-Trac",
           "hr",
           "126"
          ],
          [
           "parallel_data/hr-Trac",
           "hr",
           "127"
          ],
          [
           "parallel_data/hr-Trac",
           "hr",
           "128"
          ],
          [
           "parallel_data/hr-Trac",
           "hr",
           "129"
          ],
          [
           "parallel_data/hr-Trac",
           "hr",
           "130"
          ],
          [
           "parallel_data/hr-Trac",
           "hr",
           "131"
          ],
          [
           "parallel_data/hr-Trac",
           "hr",
           "132"
          ],
          [
           "parallel_data/hr-Trac",
           "hr",
           "133"
          ],
          [
           "parallel_data/hr-Trac",
           "hr",
           "134"
          ],
          [
           "parallel_data/hr-Trac",
           "hr",
           "135"
          ],
          [
           "parallel_data/hr-Trac",
           "hr",
           "136"
          ],
          [
           "parallel_data/hr-Trac",
           "hr",
           "137"
          ],
          [
           "parallel_data/hr-Trac",
           "hr",
           "138"
          ],
          [
           "parallel_data/hr-Trac",
           "hr",
           "139"
          ],
          [
           "parallel_data/hr-Trac",
           "hr",
           "140"
          ],
          [
           "parallel_data/hr-Trac",
           "hr",
           "141"
          ],
          [
           "parallel_data/hr-Trac",
           "hr",
           "142"
          ],
          [
           "parallel_data/hr-Trac",
           "hr",
           "143"
          ],
          [
           "parallel_data/hr-Trac",
           "hr",
           "144"
          ],
          [
           "parallel_data/hr-Trac",
           "hr",
           "145"
          ],
          [
           "parallel_data/hr-Trac",
           "hr",
           "146"
          ],
          [
           "parallel_data/hr-Trac",
           "hr",
           "147"
          ],
          [
           "parallel_data/hr-Trac",
           "hr",
           "148"
          ],
          [
           "parallel_data/hr-Trac",
           "hr",
           "149"
          ],
          [
           "parallel_data/hr-Trac",
           "hr",
           "150"
          ],
          [
           "parallel_data/hr-Trac",
           "hr",
           "151"
          ],
          [
           "parallel_data/hr-Trac",
           "hr",
           "152"
          ],
          [
           "parallel_data/hr-Trac",
           "hr",
           "153"
          ],
          [
           "parallel_data/hr-Trac",
           "hr",
           "154"
          ],
          [
           "parallel_data/hr-Trac",
           "hr",
           "155"
          ],
          [
           "parallel_data/hr-Trac",
           "hr",
           "156"
          ],
          [
           "parallel_data/hr-Trac",
           "hr",
           "157"
          ],
          [
           "parallel_data/hr-Trac",
           "hr",
           "158"
          ],
          [
           "parallel_data/hr-Trac",
           "hr",
           "159"
          ],
          [
           "parallel_data/hr-Trac",
           "hr",
           "160"
          ],
          [
           "parallel_data/hr-Trac",
           "hr",
           "161"
          ],
          [
           "parallel_data/hr-Trac",
           "hr",
           "162"
          ],
          [
           "parallel_data/hr-Trac",
           "hr",
           "163"
          ],
          [
           "parallel_data/hr-Trac",
           "hr",
           "164"
          ],
          [
           "parallel_data/hr-Trac",
           "hr",
           "165"
          ],
          [
           "parallel_data/hr-Trac",
           "hr",
           "166"
          ],
          [
           "parallel_data/hr-Trac",
           "hr",
           "167"
          ],
          [
           "parallel_data/hr-Trac",
           "hr",
           "168"
          ],
          [
           "parallel_data/hr-Trac",
           "hr",
           "169"
          ],
          [
           "parallel_data/hr-Trac",
           "hr",
           "170"
          ],
          [
           "parallel_data/hr-Trac",
           "hr",
           "171"
          ],
          [
           "parallel_data/hr-Trac",
           "hr",
           "172"
          ],
          [
           "parallel_data/hr-Trac",
           "hr",
           "173"
          ],
          [
           "parallel_data/hr-Trac",
           "hr",
           "174"
          ],
          [
           "parallel_data/hr-Trac",
           "hr",
           "175"
          ],
          [
           "parallel_data/hr-Trac",
           "hr",
           "176"
          ],
          [
           "parallel_data/hr-Trac",
           "hr",
           "177"
          ],
          [
           "parallel_data/hr-Trac",
           "hr",
           "178"
          ],
          [
           "parallel_data/hr-Trac",
           "hr",
           "179"
          ],
          [
           "parallel_data/hr-Trac",
           "hr",
           "180"
          ],
          [
           "parallel_data/hr-Trac",
           "hr",
           "181"
          ],
          [
           "parallel_data/hr-Trac",
           "hr",
           "182"
          ],
          [
           "parallel_data/hr-Trac",
           "hr",
           "183"
          ],
          [
           "parallel_data/hr-Trac",
           "hr",
           "184"
          ],
          [
           "parallel_data/hr-Trac",
           "hr",
           "185"
          ],
          [
           "parallel_data/hr-Trac",
           "hr",
           "186"
          ],
          [
           "parallel_data/hr-Trac",
           "hr",
           "187"
          ],
          [
           "parallel_data/hr-Trac",
           "hr",
           "188"
          ],
          [
           "parallel_data/hr-Trac",
           "hr",
           "189"
          ],
          [
           "parallel_data/hr-Trac",
           "hr",
           "190"
          ],
          [
           "parallel_data/hr-Trac",
           "hr",
           "191"
          ],
          [
           "parallel_data/hr-Trac",
           "hr",
           "192"
          ],
          [
           "parallel_data/hr-Trac",
           "hr",
           "193"
          ],
          [
           "parallel_data/hr-Trac",
           "hr",
           "194"
          ],
          [
           "parallel_data/hr-Trac",
           "hr",
           "195"
          ],
          [
           "parallel_data/hr-Trac",
           "hr",
           "196"
          ],
          [
           "parallel_data/hr-Trac",
           "hr",
           "197"
          ],
          [
           "parallel_data/hr-Trac",
           "hr",
           "198"
          ],
          [
           "parallel_data/hr-Trac",
           "hr",
           "199"
          ],
          [
           "parallel_data/hr-Trac",
           "hr",
           "200"
          ],
          [
           "parallel_data/hr-Trac",
           "hr",
           "201"
          ],
          [
           "parallel_data/hr-Trac",
           "hr",
           "202"
          ],
          [
           "parallel_data/hr-Trac",
           "hr",
           "203"
          ],
          [
           "parallel_data/hr-Trac",
           "hr",
           "204"
          ],
          [
           "parallel_data/hr-Trac",
           "hr",
           "205"
          ],
          [
           "parallel_data/hr-Trac",
           "hr",
           "206"
          ],
          [
           "parallel_data/hr-Trac",
           "hr",
           "207"
          ],
          [
           "parallel_data/hr-Trac",
           "hr",
           "208"
          ],
          [
           "parallel_data/hr-Trac",
           "hr",
           "209"
          ],
          [
           "parallel_data/hr-Trac",
           "hr",
           "210"
          ],
          [
           "parallel_data/hr-Trac",
           "hr",
           "211"
          ],
          [
           "parallel_data/hr-Trac",
           "hr",
           "212"
          ],
          [
           "parallel_data/hr-Trac",
           "hr",
           "213"
          ],
          [
           "parallel_data/hr-Trac",
           "hr",
           "214"
          ],
          [
           "parallel_data/hr-Trac",
           "hr",
           "215"
          ],
          [
           "parallel_data/hr-Trac",
           "hr",
           "216"
          ],
          [
           "parallel_data/hr-Trac",
           "hr",
           "217"
          ],
          [
           "parallel_data/hr-Trac",
           "hr",
           "218"
          ],
          [
           "parallel_data/hr-Trac",
           "hr",
           "219"
          ],
          [
           "parallel_data/hr-Trac",
           "hr",
           "220"
          ],
          [
           "parallel_data/hr-Trac",
           "hr",
           "221"
          ],
          [
           "parallel_data/hr-Trac",
           "hr",
           "222"
          ],
          [
           "parallel_data/hr-Trac",
           "hr",
           "223"
          ],
          [
           "parallel_data/hr-Trac",
           "hr",
           "224"
          ],
          [
           "parallel_data/hr-Trac",
           "hr",
           "225"
          ],
          [
           "parallel_data/hr-Trac",
           "hr",
           "226"
          ],
          [
           "parallel_data/hr-Trac",
           "hr",
           "227"
          ],
          [
           "parallel_data/hr-Trac",
           "hr",
           "228"
          ],
          [
           "parallel_data/hr-Trac",
           "hr",
           "229"
          ],
          [
           "parallel_data/hr-Trac",
           "hr",
           "230"
          ],
          [
           "parallel_data/hr-Trac",
           "hr",
           "231"
          ],
          [
           "parallel_data/hr-Trac",
           "hr",
           "232"
          ],
          [
           "parallel_data/hr-Trac",
           "hr",
           "233"
          ],
          [
           "parallel_data/hr-Trac",
           "hr",
           "234"
          ],
          [
           "parallel_data/hr-Trac",
           "hr",
           "235"
          ],
          [
           "parallel_data/hr-Trac",
           "hr",
           "236"
          ],
          [
           "parallel_data/hr-Trac",
           "hr",
           "237"
          ],
          [
           "parallel_data/hr-Trac",
           "hr",
           "238"
          ],
          [
           "parallel_data/hr-Trac",
           "hr",
           "239"
          ],
          [
           "parallel_data/hr-Trac",
           "hr",
           "240"
          ],
          [
           "parallel_data/hr-Trac",
           "hr",
           "241"
          ],
          [
           "parallel_data/hr-Trac",
           "hr",
           "242"
          ],
          [
           "parallel_data/hr-Trac",
           "hr",
           "243"
          ],
          [
           "parallel_data/hr-Trac",
           "hr",
           "244"
          ],
          [
           "parallel_data/hr-Trac",
           "hr",
           "245"
          ],
          [
           "parallel_data/hr-Trac",
           "hr",
           "246"
          ],
          [
           "parallel_data/hr-Trac",
           "hr",
           "247"
          ],
          [
           "parallel_data/hr-Trac",
           "hr",
           "248"
          ],
          [
           "parallel_data/hr-Trac",
           "hr",
           "249"
          ],
          [
           "parallel_data/hr-Trac",
           "hr",
           "250"
          ],
          [
           "parallel_data/hr-Trac",
           "hr",
           "251"
          ],
          [
           "parallel_data/hr-Trac",
           "hr",
           "252"
          ],
          [
           "parallel_data/hr-Trac",
           "hr",
           "253"
          ],
          [
           "parallel_data/hr-Trac",
           "hr",
           "254"
          ],
          [
           "parallel_data/hr-Trac",
           "hr",
           "255"
          ],
          [
           "parallel_data/hr-Trac",
           "hr",
           "256"
          ],
          [
           "parallel_data/hr-Trac",
           "hr",
           "257"
          ],
          [
           "parallel_data/hr-Trac",
           "hr",
           "258"
          ],
          [
           "parallel_data/hr-Trac",
           "hr",
           "259"
          ],
          [
           "parallel_data/hr-Trac",
           "hr",
           "260"
          ],
          [
           "parallel_data/hr-Trac",
           "hr",
           "261"
          ],
          [
           "parallel_data/hr-Trac",
           "hr",
           "262"
          ],
          [
           "parallel_data/hr-Trac",
           "hr",
           "263"
          ],
          [
           "parallel_data/hr-Trac",
           "hr",
           "264"
          ],
          [
           "parallel_data/hr-Trac",
           "hr",
           "265"
          ],
          [
           "parallel_data/hr-Trac",
           "hr",
           "266"
          ],
          [
           "parallel_data/hr-Trac",
           "hr",
           "267"
          ],
          [
           "parallel_data/hr-Trac",
           "hr",
           "268"
          ],
          [
           "parallel_data/hr-Trac",
           "hr",
           "269"
          ],
          [
           "parallel_data/hr-Trac",
           "hr",
           "270"
          ],
          [
           "parallel_data/hr-Trac",
           "hr",
           "271"
          ],
          [
           "parallel_data/hr-Trac",
           "hr",
           "272"
          ],
          [
           "parallel_data/hr-Trac",
           "hr",
           "273"
          ],
          [
           "parallel_data/hr-Trac",
           "hr",
           "274"
          ],
          [
           "parallel_data/hr-Trac",
           "hr",
           "275"
          ],
          [
           "parallel_data/hr-Trac",
           "hr",
           "276"
          ],
          [
           "parallel_data/hr-Trac",
           "hr",
           "277"
          ],
          [
           "parallel_data/hr-Trac",
           "hr",
           "278"
          ],
          [
           "parallel_data/hr-Trac",
           "hr",
           "279"
          ],
          [
           "parallel_data/hr-Trac",
           "hr",
           "280"
          ],
          [
           "parallel_data/hr-Trac",
           "hr",
           "281"
          ],
          [
           "parallel_data/hr-Trac",
           "hr",
           "282"
          ],
          [
           "parallel_data/hr-Trac",
           "hr",
           "283"
          ],
          [
           "parallel_data/hr-Trac",
           "hr",
           "284"
          ],
          [
           "parallel_data/hr-Trac",
           "hr",
           "285"
          ],
          [
           "parallel_data/hr-Trac",
           "hr",
           "286"
          ],
          [
           "parallel_data/hr-Trac",
           "hr",
           "287"
          ],
          [
           "parallel_data/hr-Trac",
           "hr",
           "288"
          ],
          [
           "parallel_data/hr-Trac",
           "hr",
           "289"
          ],
          [
           "parallel_data/hr-Trac",
           "hr",
           "290"
          ],
          [
           "parallel_data/hr-Trac",
           "hr",
           "291"
          ],
          [
           "parallel_data/hr-Trac",
           "hr",
           "292"
          ],
          [
           "parallel_data/hr-Trac",
           "hr",
           "293"
          ],
          [
           "parallel_data/hr-Trac",
           "hr",
           "294"
          ],
          [
           "parallel_data/hr-Trac",
           "hr",
           "295"
          ],
          [
           "parallel_data/hr-Trac",
           "hr",
           "296"
          ],
          [
           "parallel_data/hr-Trac",
           "hr",
           "297"
          ],
          [
           "parallel_data/hr-Trac",
           "hr",
           "298"
          ],
          [
           "parallel_data/hr-Trac",
           "hr",
           "299"
          ]
         ],
         "hovertemplate": "language=%{customdata[1]}<br>x=%{x}<br>y=%{y}<br>dataset_name=%{customdata[0]}<br>id=%{customdata[2]}<extra></extra>",
         "legendgroup": "hr",
         "marker": {
          "color": "#ab63fa",
          "symbol": "circle"
         },
         "mode": "markers",
         "name": "hr",
         "showlegend": true,
         "x": [
          6.2359104,
          -20.518553,
          -6.144061,
          -36.53349,
          -44.84895,
          19.056831,
          -46.593502,
          -19.84156,
          -7.731448,
          -17.448748,
          -21.799917,
          25.394138,
          -24.170948,
          32.131874,
          -14.551013,
          26.179573,
          -38.06289,
          33.30239,
          -54.066032,
          13.943223,
          -23.474697,
          18.423203,
          5.1761394,
          -23.897364,
          -21.735628,
          0.31223646,
          19.176697,
          34.125214,
          -14.852404,
          -19.696247,
          -10.389934,
          -20.872341,
          41.35267,
          -22.118729,
          -44.31566,
          27.509674,
          -16.537514,
          4.4227448,
          -5.474539,
          -28.438211,
          8.943493,
          -13.750201,
          -10.519036,
          -27.72404,
          3.2608058,
          -38.938602,
          13.147661,
          -12.518405,
          -7.827682,
          -38.4677,
          31.685976,
          0.49984914,
          8.0067215,
          -5.615606,
          37.77453,
          9.400271,
          49.941475,
          6.7229886,
          -1.3205063,
          38.552673,
          -3.7574089,
          -12.129501,
          21.23345,
          -28.651985,
          5.699981,
          4.0495076,
          -9.372764,
          34.814804,
          -31.263624,
          -17.55261,
          40.51666,
          32.420166,
          25.18484,
          37.642723,
          -28.260868,
          22.582663,
          -27.82361,
          1.741679,
          45.846264,
          -10.66634,
          -1.9088837,
          0.26546177,
          -6.37226,
          -16.956964,
          -18.015127,
          25.485838,
          40.905132,
          -47.261,
          30.613087,
          25.518398,
          -17.403118,
          30.29355,
          -2.6521688,
          33.099556,
          15.231847,
          -8.409871,
          -16.190853,
          24.005175,
          -53.55876,
          -15.359532,
          46.527054,
          7.6771984,
          19.75124,
          10.43405,
          -2.0261815,
          9.970929,
          -9.039133,
          -32.89358,
          2.6412554,
          -5.5663724,
          -17.595854,
          -7.2877626,
          47.07869,
          -9.644245,
          19.400536,
          -13.710977,
          3.4957602,
          45.144615,
          -19.864489,
          43.687294,
          0.116926625,
          -27.406622,
          11.19537,
          -20.532404,
          46.943695,
          -49.833015,
          14.995474,
          -12.443414,
          18.34199,
          -11.942251,
          11.167075,
          30.51502,
          29.089548,
          -41.107662,
          27.655401,
          -3.620343,
          13.107178,
          -3.415243,
          -12.06478,
          -8.666917,
          -29.27231,
          -4.131433,
          3.6775148,
          10.7533045,
          5.7549615,
          -35.47768,
          41.287384,
          -49.738216,
          -60.16297,
          -28.896135,
          4.2359524,
          34.170677,
          2.6249702,
          41.389957,
          -8.763306,
          38.093147,
          42.206734,
          27.829317,
          37.521893,
          -17.589586,
          15.393677,
          -10.701665,
          14.72759,
          -24.741276,
          -39.719074,
          -24.93356,
          16.18431,
          -44.80839,
          14.429876,
          10.947587,
          11.705104,
          -29.200556,
          21.500645,
          24.831911,
          -24.638512,
          13.778977,
          21.910042,
          32.849556,
          -2.404732,
          -4.1979365,
          53.120495,
          -29.568388,
          -39.04608,
          -0.7138242,
          -23.133951,
          -0.15980256,
          20.56831,
          19.196218,
          6.154645,
          17.03468,
          -19.49435,
          41.5496,
          42.3301,
          6.673858,
          -53.357224,
          6.149619,
          23.184313,
          -4.573469,
          -15.975096,
          -29.493608,
          -24.3005,
          -41.61336,
          -29.344475,
          -32.19259,
          27.087507,
          -17.012268,
          -19.202566,
          -5.986275,
          21.859133,
          -33.248417,
          32.87173,
          7.6349826,
          -42.827156,
          13.704138,
          -50.363358,
          -0.87020844,
          15.262919,
          23.374023,
          8.007733,
          53.412647,
          -32.954533,
          -34.99008,
          42.75365,
          42.806213,
          0.66147965,
          -9.14377,
          0.9542362,
          16.52994,
          46.407425,
          27.362297,
          -12.607206,
          -0.65599275,
          19.936386,
          13.005553,
          -46.947544,
          -49.448257,
          -10.305293,
          1.6602849,
          -6.300351,
          -4.86315,
          19.966269,
          25.628094,
          -28.969366,
          -14.255451,
          22.784578,
          5.4388304,
          -47.835506,
          -30.698816,
          33.836987,
          -39.83692,
          3.0369544,
          9.752143,
          -23.243198,
          -5.608658,
          -23.930637,
          -33.01263,
          -20.39968,
          25.471224,
          -27.69025,
          12.228101,
          20.84506,
          -35.889103,
          -26.766462,
          3.615953,
          -20.304829,
          -53.583294,
          -21.17927,
          -32.093597,
          -26.003107,
          16.651806,
          -22.52208,
          53.209347,
          11.286699,
          10.257222,
          -26.477749,
          38.605206,
          17.771267,
          25.533766,
          -22.004803,
          20.936762,
          38.1935,
          10.6199045,
          14.563833,
          36.254692,
          -26.867006,
          35.398426,
          38.6244,
          6.6287227,
          39.167114,
          19.30859,
          -28.295565,
          -33.698715,
          -42.057896,
          -16.128899,
          0.3263328,
          17.750656,
          51.166565,
          -3.9337857,
          -9.430362,
          -3.5378852
         ],
         "xaxis": "x",
         "y": [
          20.996428,
          34.645374,
          26.131195,
          -16.01322,
          -34.34772,
          55.19221,
          -39.65331,
          -27.359598,
          21.51865,
          -37.496826,
          19.290718,
          -38.12738,
          33.009026,
          -46.63382,
          4.931561,
          -30.202848,
          -33.800144,
          29.64261,
          -14.501751,
          29.532364,
          -23.462362,
          -10.569475,
          11.656154,
          -27.291147,
          29.064493,
          -12.706654,
          33.074333,
          43.756493,
          21.445717,
          -20.939936,
          7.2083135,
          7.976241,
          -1.7359966,
          -13.07077,
          -11.620235,
          6.6797194,
          -31.712584,
          -40.37027,
          17.473251,
          -0.8450399,
          12.808277,
          -6.5711126,
          1.1903213,
          -30.467426,
          10.402211,
          -45.48706,
          -13.339355,
          -19.996971,
          32.303226,
          32.696766,
          -1.4035872,
          53.060444,
          -36.776478,
          -21.306564,
          -25.91168,
          -31.780916,
          10.827933,
          -23.585405,
          14.794231,
          36.817448,
          29.780184,
          -33.2227,
          14.185377,
          -15.919829,
          6.397743,
          -25.711458,
          11.230999,
          10.1911955,
          25.647354,
          30.524345,
          -4.3064775,
          -36.171356,
          17.906553,
          17.003633,
          23.98984,
          7.2533503,
          55.58067,
          -7.1643023,
          -8.003897,
          17.917704,
          9.135216,
          -1.8639554,
          40.83668,
          -24.106838,
          24.179787,
          46.69541,
          21.9388,
          -19.404703,
          -18.387112,
          -15.311843,
          49.72873,
          7.753554,
          40.66118,
          4.122537,
          -19.139097,
          -43.1176,
          43.935703,
          -27.296618,
          -27.535254,
          9.395013,
          -15.157694,
          38.849075,
          -43.728153,
          43.350018,
          -53.466682,
          4.867572,
          -17.749413,
          15.712602,
          -50.245377,
          35.999447,
          -18.745707,
          -26.492449,
          4.616035,
          26.88019,
          25.78495,
          -48.640465,
          1.5057783,
          -2.5674617,
          -16.384739,
          19.704182,
          19.15539,
          29.111969,
          -9.766464,
          23.177467,
          12.493743,
          -27.038876,
          -28.416775,
          15.673731,
          46.501198,
          23.803476,
          -23.51056,
          17.54025,
          12.589355,
          -21.626497,
          -27.8606,
          22.058147,
          22.906202,
          -49.67716,
          30.46389,
          50.899036,
          7.1152053,
          48.65505,
          5.992751,
          48.655216,
          25.479355,
          -37.682465,
          -36.76449,
          -43.534714,
          -19.627361,
          -21.577961,
          15.8301115,
          -6.0811405,
          -18.378506,
          6.3861933,
          -1.1583492,
          -8.76636,
          12.656028,
          24.162724,
          6.4945927,
          18.228876,
          44.885117,
          43.326077,
          -8.0697365,
          24.57324,
          1.7343667,
          20.644455,
          -1.7841178,
          -44.47977,
          2.4837492,
          -0.4723814,
          -4.7760873,
          -8.587472,
          -39.65065,
          11.099111,
          37.53628,
          17.360273,
          -8.994977,
          36.21838,
          -37.981308,
          -13.742253,
          3.5581012,
          20.579868,
          -40.2667,
          36.140903,
          16.524227,
          -50.181602,
          39.745636,
          1.0745602,
          -13.349016,
          -24.600677,
          1.8083605,
          -21.502554,
          2.5323348,
          32.556465,
          -9.911211,
          -9.139015,
          -5.6600637,
          -5.9617434,
          -11.615631,
          -24.401157,
          -6.6832933,
          -29.500967,
          -36.434494,
          -46.178715,
          -8.057133,
          38.75517,
          12.755276,
          13.412572,
          -52.68087,
          -22.122446,
          -12.90679,
          53.11149,
          -25.80141,
          -35.442947,
          -33.80606,
          3.6161678,
          9.234308,
          -20.08241,
          9.341673,
          -2.0808907,
          7.595606,
          41.47064,
          27.516685,
          23.175522,
          -29.919828,
          38.228554,
          -47.595413,
          42.7993,
          25.741692,
          -3.9726462,
          -27.40672,
          24.532652,
          -33.62895,
          37.1381,
          5.651284,
          16.7159,
          -11.97312,
          30.650974,
          8.612984,
          4.189266,
          -3.7669992,
          14.428524,
          38.199562,
          34.561684,
          -2.1814144,
          -2.6894062,
          -29.886246,
          -43.897312,
          -22.197525,
          18.10124,
          45.64632,
          -27.390581,
          -2.8943007,
          -10.889949,
          -19.174082,
          -26.88706,
          -44.28158,
          0.18760341,
          16.919043,
          -40.96023,
          10.774101,
          -10.560648,
          -12.055927,
          -33.71019,
          -5.430817,
          -23.418728,
          47.84887,
          -38.903282,
          3.1681027,
          12.462228,
          -32.649273,
          -12.608624,
          -46.09411,
          -17.76958,
          -41.54263,
          -1.8708507,
          -6.1228733,
          34.509174,
          43.70146,
          -15.474267,
          -16.42437,
          58.619915,
          6.1109447,
          1.8177447,
          10.614372,
          21.124844,
          25.677963,
          2.4119875,
          0.7336325,
          8.879045,
          -50.696224,
          -33.451565,
          -37.71026,
          -2.6225464,
          -24.051855,
          18.497828,
          -20.72569,
          -30.925423,
          -4.8658953,
          -0.78067136
         ],
         "yaxis": "y",
         "type": "scattergl"
        },
        {
         "customdata": [
          [
           "parallel_data/ru-Trac",
           "ru",
           "0"
          ],
          [
           "parallel_data/ru-Trac",
           "ru",
           "1"
          ],
          [
           "parallel_data/ru-Trac",
           "ru",
           "2"
          ],
          [
           "parallel_data/ru-Trac",
           "ru",
           "3"
          ],
          [
           "parallel_data/ru-Trac",
           "ru",
           "4"
          ],
          [
           "parallel_data/ru-Trac",
           "ru",
           "5"
          ],
          [
           "parallel_data/ru-Trac",
           "ru",
           "6"
          ],
          [
           "parallel_data/ru-Trac",
           "ru",
           "7"
          ],
          [
           "parallel_data/ru-Trac",
           "ru",
           "8"
          ],
          [
           "parallel_data/ru-Trac",
           "ru",
           "9"
          ],
          [
           "parallel_data/ru-Trac",
           "ru",
           "10"
          ],
          [
           "parallel_data/ru-Trac",
           "ru",
           "11"
          ],
          [
           "parallel_data/ru-Trac",
           "ru",
           "12"
          ],
          [
           "parallel_data/ru-Trac",
           "ru",
           "13"
          ],
          [
           "parallel_data/ru-Trac",
           "ru",
           "14"
          ],
          [
           "parallel_data/ru-Trac",
           "ru",
           "15"
          ],
          [
           "parallel_data/ru-Trac",
           "ru",
           "16"
          ],
          [
           "parallel_data/ru-Trac",
           "ru",
           "17"
          ],
          [
           "parallel_data/ru-Trac",
           "ru",
           "18"
          ],
          [
           "parallel_data/ru-Trac",
           "ru",
           "19"
          ],
          [
           "parallel_data/ru-Trac",
           "ru",
           "20"
          ],
          [
           "parallel_data/ru-Trac",
           "ru",
           "21"
          ],
          [
           "parallel_data/ru-Trac",
           "ru",
           "22"
          ],
          [
           "parallel_data/ru-Trac",
           "ru",
           "23"
          ],
          [
           "parallel_data/ru-Trac",
           "ru",
           "24"
          ],
          [
           "parallel_data/ru-Trac",
           "ru",
           "25"
          ],
          [
           "parallel_data/ru-Trac",
           "ru",
           "26"
          ],
          [
           "parallel_data/ru-Trac",
           "ru",
           "27"
          ],
          [
           "parallel_data/ru-Trac",
           "ru",
           "28"
          ],
          [
           "parallel_data/ru-Trac",
           "ru",
           "29"
          ],
          [
           "parallel_data/ru-Trac",
           "ru",
           "30"
          ],
          [
           "parallel_data/ru-Trac",
           "ru",
           "31"
          ],
          [
           "parallel_data/ru-Trac",
           "ru",
           "32"
          ],
          [
           "parallel_data/ru-Trac",
           "ru",
           "33"
          ],
          [
           "parallel_data/ru-Trac",
           "ru",
           "34"
          ],
          [
           "parallel_data/ru-Trac",
           "ru",
           "35"
          ],
          [
           "parallel_data/ru-Trac",
           "ru",
           "36"
          ],
          [
           "parallel_data/ru-Trac",
           "ru",
           "37"
          ],
          [
           "parallel_data/ru-Trac",
           "ru",
           "38"
          ],
          [
           "parallel_data/ru-Trac",
           "ru",
           "39"
          ],
          [
           "parallel_data/ru-Trac",
           "ru",
           "40"
          ],
          [
           "parallel_data/ru-Trac",
           "ru",
           "41"
          ],
          [
           "parallel_data/ru-Trac",
           "ru",
           "42"
          ],
          [
           "parallel_data/ru-Trac",
           "ru",
           "43"
          ],
          [
           "parallel_data/ru-Trac",
           "ru",
           "44"
          ],
          [
           "parallel_data/ru-Trac",
           "ru",
           "45"
          ],
          [
           "parallel_data/ru-Trac",
           "ru",
           "46"
          ],
          [
           "parallel_data/ru-Trac",
           "ru",
           "47"
          ],
          [
           "parallel_data/ru-Trac",
           "ru",
           "48"
          ],
          [
           "parallel_data/ru-Trac",
           "ru",
           "49"
          ],
          [
           "parallel_data/ru-Trac",
           "ru",
           "50"
          ],
          [
           "parallel_data/ru-Trac",
           "ru",
           "51"
          ],
          [
           "parallel_data/ru-Trac",
           "ru",
           "52"
          ],
          [
           "parallel_data/ru-Trac",
           "ru",
           "53"
          ],
          [
           "parallel_data/ru-Trac",
           "ru",
           "54"
          ],
          [
           "parallel_data/ru-Trac",
           "ru",
           "55"
          ],
          [
           "parallel_data/ru-Trac",
           "ru",
           "56"
          ],
          [
           "parallel_data/ru-Trac",
           "ru",
           "57"
          ],
          [
           "parallel_data/ru-Trac",
           "ru",
           "58"
          ],
          [
           "parallel_data/ru-Trac",
           "ru",
           "59"
          ],
          [
           "parallel_data/ru-Trac",
           "ru",
           "60"
          ],
          [
           "parallel_data/ru-Trac",
           "ru",
           "61"
          ],
          [
           "parallel_data/ru-Trac",
           "ru",
           "62"
          ],
          [
           "parallel_data/ru-Trac",
           "ru",
           "63"
          ],
          [
           "parallel_data/ru-Trac",
           "ru",
           "64"
          ],
          [
           "parallel_data/ru-Trac",
           "ru",
           "65"
          ],
          [
           "parallel_data/ru-Trac",
           "ru",
           "66"
          ],
          [
           "parallel_data/ru-Trac",
           "ru",
           "67"
          ],
          [
           "parallel_data/ru-Trac",
           "ru",
           "68"
          ],
          [
           "parallel_data/ru-Trac",
           "ru",
           "69"
          ],
          [
           "parallel_data/ru-Trac",
           "ru",
           "70"
          ],
          [
           "parallel_data/ru-Trac",
           "ru",
           "71"
          ],
          [
           "parallel_data/ru-Trac",
           "ru",
           "72"
          ],
          [
           "parallel_data/ru-Trac",
           "ru",
           "73"
          ],
          [
           "parallel_data/ru-Trac",
           "ru",
           "74"
          ],
          [
           "parallel_data/ru-Trac",
           "ru",
           "75"
          ],
          [
           "parallel_data/ru-Trac",
           "ru",
           "76"
          ],
          [
           "parallel_data/ru-Trac",
           "ru",
           "77"
          ],
          [
           "parallel_data/ru-Trac",
           "ru",
           "78"
          ],
          [
           "parallel_data/ru-Trac",
           "ru",
           "79"
          ],
          [
           "parallel_data/ru-Trac",
           "ru",
           "80"
          ],
          [
           "parallel_data/ru-Trac",
           "ru",
           "81"
          ],
          [
           "parallel_data/ru-Trac",
           "ru",
           "82"
          ],
          [
           "parallel_data/ru-Trac",
           "ru",
           "83"
          ],
          [
           "parallel_data/ru-Trac",
           "ru",
           "84"
          ],
          [
           "parallel_data/ru-Trac",
           "ru",
           "85"
          ],
          [
           "parallel_data/ru-Trac",
           "ru",
           "86"
          ],
          [
           "parallel_data/ru-Trac",
           "ru",
           "87"
          ],
          [
           "parallel_data/ru-Trac",
           "ru",
           "88"
          ],
          [
           "parallel_data/ru-Trac",
           "ru",
           "89"
          ],
          [
           "parallel_data/ru-Trac",
           "ru",
           "90"
          ],
          [
           "parallel_data/ru-Trac",
           "ru",
           "91"
          ],
          [
           "parallel_data/ru-Trac",
           "ru",
           "92"
          ],
          [
           "parallel_data/ru-Trac",
           "ru",
           "93"
          ],
          [
           "parallel_data/ru-Trac",
           "ru",
           "94"
          ],
          [
           "parallel_data/ru-Trac",
           "ru",
           "95"
          ],
          [
           "parallel_data/ru-Trac",
           "ru",
           "96"
          ],
          [
           "parallel_data/ru-Trac",
           "ru",
           "97"
          ],
          [
           "parallel_data/ru-Trac",
           "ru",
           "98"
          ],
          [
           "parallel_data/ru-Trac",
           "ru",
           "99"
          ],
          [
           "parallel_data/ru-Trac",
           "ru",
           "100"
          ],
          [
           "parallel_data/ru-Trac",
           "ru",
           "101"
          ],
          [
           "parallel_data/ru-Trac",
           "ru",
           "102"
          ],
          [
           "parallel_data/ru-Trac",
           "ru",
           "103"
          ],
          [
           "parallel_data/ru-Trac",
           "ru",
           "104"
          ],
          [
           "parallel_data/ru-Trac",
           "ru",
           "105"
          ],
          [
           "parallel_data/ru-Trac",
           "ru",
           "106"
          ],
          [
           "parallel_data/ru-Trac",
           "ru",
           "107"
          ],
          [
           "parallel_data/ru-Trac",
           "ru",
           "108"
          ],
          [
           "parallel_data/ru-Trac",
           "ru",
           "109"
          ],
          [
           "parallel_data/ru-Trac",
           "ru",
           "110"
          ],
          [
           "parallel_data/ru-Trac",
           "ru",
           "111"
          ],
          [
           "parallel_data/ru-Trac",
           "ru",
           "112"
          ],
          [
           "parallel_data/ru-Trac",
           "ru",
           "113"
          ],
          [
           "parallel_data/ru-Trac",
           "ru",
           "114"
          ],
          [
           "parallel_data/ru-Trac",
           "ru",
           "115"
          ],
          [
           "parallel_data/ru-Trac",
           "ru",
           "116"
          ],
          [
           "parallel_data/ru-Trac",
           "ru",
           "117"
          ],
          [
           "parallel_data/ru-Trac",
           "ru",
           "118"
          ],
          [
           "parallel_data/ru-Trac",
           "ru",
           "119"
          ],
          [
           "parallel_data/ru-Trac",
           "ru",
           "120"
          ],
          [
           "parallel_data/ru-Trac",
           "ru",
           "121"
          ],
          [
           "parallel_data/ru-Trac",
           "ru",
           "122"
          ],
          [
           "parallel_data/ru-Trac",
           "ru",
           "123"
          ],
          [
           "parallel_data/ru-Trac",
           "ru",
           "124"
          ],
          [
           "parallel_data/ru-Trac",
           "ru",
           "125"
          ],
          [
           "parallel_data/ru-Trac",
           "ru",
           "126"
          ],
          [
           "parallel_data/ru-Trac",
           "ru",
           "127"
          ],
          [
           "parallel_data/ru-Trac",
           "ru",
           "128"
          ],
          [
           "parallel_data/ru-Trac",
           "ru",
           "129"
          ],
          [
           "parallel_data/ru-Trac",
           "ru",
           "130"
          ],
          [
           "parallel_data/ru-Trac",
           "ru",
           "131"
          ],
          [
           "parallel_data/ru-Trac",
           "ru",
           "132"
          ],
          [
           "parallel_data/ru-Trac",
           "ru",
           "133"
          ],
          [
           "parallel_data/ru-Trac",
           "ru",
           "134"
          ],
          [
           "parallel_data/ru-Trac",
           "ru",
           "135"
          ],
          [
           "parallel_data/ru-Trac",
           "ru",
           "136"
          ],
          [
           "parallel_data/ru-Trac",
           "ru",
           "137"
          ],
          [
           "parallel_data/ru-Trac",
           "ru",
           "138"
          ],
          [
           "parallel_data/ru-Trac",
           "ru",
           "139"
          ],
          [
           "parallel_data/ru-Trac",
           "ru",
           "140"
          ],
          [
           "parallel_data/ru-Trac",
           "ru",
           "141"
          ],
          [
           "parallel_data/ru-Trac",
           "ru",
           "142"
          ],
          [
           "parallel_data/ru-Trac",
           "ru",
           "143"
          ],
          [
           "parallel_data/ru-Trac",
           "ru",
           "144"
          ],
          [
           "parallel_data/ru-Trac",
           "ru",
           "145"
          ],
          [
           "parallel_data/ru-Trac",
           "ru",
           "146"
          ],
          [
           "parallel_data/ru-Trac",
           "ru",
           "147"
          ],
          [
           "parallel_data/ru-Trac",
           "ru",
           "148"
          ],
          [
           "parallel_data/ru-Trac",
           "ru",
           "149"
          ],
          [
           "parallel_data/ru-Trac",
           "ru",
           "150"
          ],
          [
           "parallel_data/ru-Trac",
           "ru",
           "151"
          ],
          [
           "parallel_data/ru-Trac",
           "ru",
           "152"
          ],
          [
           "parallel_data/ru-Trac",
           "ru",
           "153"
          ],
          [
           "parallel_data/ru-Trac",
           "ru",
           "154"
          ],
          [
           "parallel_data/ru-Trac",
           "ru",
           "155"
          ],
          [
           "parallel_data/ru-Trac",
           "ru",
           "156"
          ],
          [
           "parallel_data/ru-Trac",
           "ru",
           "157"
          ],
          [
           "parallel_data/ru-Trac",
           "ru",
           "158"
          ],
          [
           "parallel_data/ru-Trac",
           "ru",
           "159"
          ],
          [
           "parallel_data/ru-Trac",
           "ru",
           "160"
          ],
          [
           "parallel_data/ru-Trac",
           "ru",
           "161"
          ],
          [
           "parallel_data/ru-Trac",
           "ru",
           "162"
          ],
          [
           "parallel_data/ru-Trac",
           "ru",
           "163"
          ],
          [
           "parallel_data/ru-Trac",
           "ru",
           "164"
          ],
          [
           "parallel_data/ru-Trac",
           "ru",
           "165"
          ],
          [
           "parallel_data/ru-Trac",
           "ru",
           "166"
          ],
          [
           "parallel_data/ru-Trac",
           "ru",
           "167"
          ],
          [
           "parallel_data/ru-Trac",
           "ru",
           "168"
          ],
          [
           "parallel_data/ru-Trac",
           "ru",
           "169"
          ],
          [
           "parallel_data/ru-Trac",
           "ru",
           "170"
          ],
          [
           "parallel_data/ru-Trac",
           "ru",
           "171"
          ],
          [
           "parallel_data/ru-Trac",
           "ru",
           "172"
          ],
          [
           "parallel_data/ru-Trac",
           "ru",
           "173"
          ],
          [
           "parallel_data/ru-Trac",
           "ru",
           "174"
          ],
          [
           "parallel_data/ru-Trac",
           "ru",
           "175"
          ],
          [
           "parallel_data/ru-Trac",
           "ru",
           "176"
          ],
          [
           "parallel_data/ru-Trac",
           "ru",
           "177"
          ],
          [
           "parallel_data/ru-Trac",
           "ru",
           "178"
          ],
          [
           "parallel_data/ru-Trac",
           "ru",
           "179"
          ],
          [
           "parallel_data/ru-Trac",
           "ru",
           "180"
          ],
          [
           "parallel_data/ru-Trac",
           "ru",
           "181"
          ],
          [
           "parallel_data/ru-Trac",
           "ru",
           "182"
          ],
          [
           "parallel_data/ru-Trac",
           "ru",
           "183"
          ],
          [
           "parallel_data/ru-Trac",
           "ru",
           "184"
          ],
          [
           "parallel_data/ru-Trac",
           "ru",
           "185"
          ],
          [
           "parallel_data/ru-Trac",
           "ru",
           "186"
          ],
          [
           "parallel_data/ru-Trac",
           "ru",
           "187"
          ],
          [
           "parallel_data/ru-Trac",
           "ru",
           "188"
          ],
          [
           "parallel_data/ru-Trac",
           "ru",
           "189"
          ],
          [
           "parallel_data/ru-Trac",
           "ru",
           "190"
          ],
          [
           "parallel_data/ru-Trac",
           "ru",
           "191"
          ],
          [
           "parallel_data/ru-Trac",
           "ru",
           "192"
          ],
          [
           "parallel_data/ru-Trac",
           "ru",
           "193"
          ],
          [
           "parallel_data/ru-Trac",
           "ru",
           "194"
          ],
          [
           "parallel_data/ru-Trac",
           "ru",
           "195"
          ],
          [
           "parallel_data/ru-Trac",
           "ru",
           "196"
          ],
          [
           "parallel_data/ru-Trac",
           "ru",
           "197"
          ],
          [
           "parallel_data/ru-Trac",
           "ru",
           "198"
          ],
          [
           "parallel_data/ru-Trac",
           "ru",
           "199"
          ],
          [
           "parallel_data/ru-Trac",
           "ru",
           "200"
          ],
          [
           "parallel_data/ru-Trac",
           "ru",
           "201"
          ],
          [
           "parallel_data/ru-Trac",
           "ru",
           "202"
          ],
          [
           "parallel_data/ru-Trac",
           "ru",
           "203"
          ],
          [
           "parallel_data/ru-Trac",
           "ru",
           "204"
          ],
          [
           "parallel_data/ru-Trac",
           "ru",
           "205"
          ],
          [
           "parallel_data/ru-Trac",
           "ru",
           "206"
          ],
          [
           "parallel_data/ru-Trac",
           "ru",
           "207"
          ],
          [
           "parallel_data/ru-Trac",
           "ru",
           "208"
          ],
          [
           "parallel_data/ru-Trac",
           "ru",
           "209"
          ],
          [
           "parallel_data/ru-Trac",
           "ru",
           "210"
          ],
          [
           "parallel_data/ru-Trac",
           "ru",
           "211"
          ],
          [
           "parallel_data/ru-Trac",
           "ru",
           "212"
          ],
          [
           "parallel_data/ru-Trac",
           "ru",
           "213"
          ],
          [
           "parallel_data/ru-Trac",
           "ru",
           "214"
          ],
          [
           "parallel_data/ru-Trac",
           "ru",
           "215"
          ],
          [
           "parallel_data/ru-Trac",
           "ru",
           "216"
          ],
          [
           "parallel_data/ru-Trac",
           "ru",
           "217"
          ],
          [
           "parallel_data/ru-Trac",
           "ru",
           "218"
          ],
          [
           "parallel_data/ru-Trac",
           "ru",
           "219"
          ],
          [
           "parallel_data/ru-Trac",
           "ru",
           "220"
          ],
          [
           "parallel_data/ru-Trac",
           "ru",
           "221"
          ],
          [
           "parallel_data/ru-Trac",
           "ru",
           "222"
          ],
          [
           "parallel_data/ru-Trac",
           "ru",
           "223"
          ],
          [
           "parallel_data/ru-Trac",
           "ru",
           "224"
          ],
          [
           "parallel_data/ru-Trac",
           "ru",
           "225"
          ],
          [
           "parallel_data/ru-Trac",
           "ru",
           "226"
          ],
          [
           "parallel_data/ru-Trac",
           "ru",
           "227"
          ],
          [
           "parallel_data/ru-Trac",
           "ru",
           "228"
          ],
          [
           "parallel_data/ru-Trac",
           "ru",
           "229"
          ],
          [
           "parallel_data/ru-Trac",
           "ru",
           "230"
          ],
          [
           "parallel_data/ru-Trac",
           "ru",
           "231"
          ],
          [
           "parallel_data/ru-Trac",
           "ru",
           "232"
          ],
          [
           "parallel_data/ru-Trac",
           "ru",
           "233"
          ],
          [
           "parallel_data/ru-Trac",
           "ru",
           "234"
          ],
          [
           "parallel_data/ru-Trac",
           "ru",
           "235"
          ],
          [
           "parallel_data/ru-Trac",
           "ru",
           "236"
          ],
          [
           "parallel_data/ru-Trac",
           "ru",
           "237"
          ],
          [
           "parallel_data/ru-Trac",
           "ru",
           "238"
          ],
          [
           "parallel_data/ru-Trac",
           "ru",
           "239"
          ],
          [
           "parallel_data/ru-Trac",
           "ru",
           "240"
          ],
          [
           "parallel_data/ru-Trac",
           "ru",
           "241"
          ],
          [
           "parallel_data/ru-Trac",
           "ru",
           "242"
          ],
          [
           "parallel_data/ru-Trac",
           "ru",
           "243"
          ],
          [
           "parallel_data/ru-Trac",
           "ru",
           "244"
          ],
          [
           "parallel_data/ru-Trac",
           "ru",
           "245"
          ],
          [
           "parallel_data/ru-Trac",
           "ru",
           "246"
          ],
          [
           "parallel_data/ru-Trac",
           "ru",
           "247"
          ],
          [
           "parallel_data/ru-Trac",
           "ru",
           "248"
          ],
          [
           "parallel_data/ru-Trac",
           "ru",
           "249"
          ],
          [
           "parallel_data/ru-Trac",
           "ru",
           "250"
          ],
          [
           "parallel_data/ru-Trac",
           "ru",
           "251"
          ],
          [
           "parallel_data/ru-Trac",
           "ru",
           "252"
          ],
          [
           "parallel_data/ru-Trac",
           "ru",
           "253"
          ],
          [
           "parallel_data/ru-Trac",
           "ru",
           "254"
          ],
          [
           "parallel_data/ru-Trac",
           "ru",
           "255"
          ],
          [
           "parallel_data/ru-Trac",
           "ru",
           "256"
          ],
          [
           "parallel_data/ru-Trac",
           "ru",
           "257"
          ],
          [
           "parallel_data/ru-Trac",
           "ru",
           "258"
          ],
          [
           "parallel_data/ru-Trac",
           "ru",
           "259"
          ],
          [
           "parallel_data/ru-Trac",
           "ru",
           "260"
          ],
          [
           "parallel_data/ru-Trac",
           "ru",
           "261"
          ],
          [
           "parallel_data/ru-Trac",
           "ru",
           "262"
          ],
          [
           "parallel_data/ru-Trac",
           "ru",
           "263"
          ],
          [
           "parallel_data/ru-Trac",
           "ru",
           "264"
          ],
          [
           "parallel_data/ru-Trac",
           "ru",
           "265"
          ],
          [
           "parallel_data/ru-Trac",
           "ru",
           "266"
          ],
          [
           "parallel_data/ru-Trac",
           "ru",
           "267"
          ],
          [
           "parallel_data/ru-Trac",
           "ru",
           "268"
          ],
          [
           "parallel_data/ru-Trac",
           "ru",
           "269"
          ],
          [
           "parallel_data/ru-Trac",
           "ru",
           "270"
          ],
          [
           "parallel_data/ru-Trac",
           "ru",
           "271"
          ],
          [
           "parallel_data/ru-Trac",
           "ru",
           "272"
          ],
          [
           "parallel_data/ru-Trac",
           "ru",
           "273"
          ],
          [
           "parallel_data/ru-Trac",
           "ru",
           "274"
          ],
          [
           "parallel_data/ru-Trac",
           "ru",
           "275"
          ],
          [
           "parallel_data/ru-Trac",
           "ru",
           "276"
          ],
          [
           "parallel_data/ru-Trac",
           "ru",
           "277"
          ],
          [
           "parallel_data/ru-Trac",
           "ru",
           "278"
          ],
          [
           "parallel_data/ru-Trac",
           "ru",
           "279"
          ],
          [
           "parallel_data/ru-Trac",
           "ru",
           "280"
          ],
          [
           "parallel_data/ru-Trac",
           "ru",
           "281"
          ],
          [
           "parallel_data/ru-Trac",
           "ru",
           "282"
          ],
          [
           "parallel_data/ru-Trac",
           "ru",
           "283"
          ],
          [
           "parallel_data/ru-Trac",
           "ru",
           "284"
          ],
          [
           "parallel_data/ru-Trac",
           "ru",
           "285"
          ],
          [
           "parallel_data/ru-Trac",
           "ru",
           "286"
          ],
          [
           "parallel_data/ru-Trac",
           "ru",
           "287"
          ],
          [
           "parallel_data/ru-Trac",
           "ru",
           "288"
          ],
          [
           "parallel_data/ru-Trac",
           "ru",
           "289"
          ],
          [
           "parallel_data/ru-Trac",
           "ru",
           "290"
          ],
          [
           "parallel_data/ru-Trac",
           "ru",
           "291"
          ],
          [
           "parallel_data/ru-Trac",
           "ru",
           "292"
          ],
          [
           "parallel_data/ru-Trac",
           "ru",
           "293"
          ],
          [
           "parallel_data/ru-Trac",
           "ru",
           "294"
          ],
          [
           "parallel_data/ru-Trac",
           "ru",
           "295"
          ],
          [
           "parallel_data/ru-Trac",
           "ru",
           "296"
          ],
          [
           "parallel_data/ru-Trac",
           "ru",
           "297"
          ],
          [
           "parallel_data/ru-Trac",
           "ru",
           "298"
          ],
          [
           "parallel_data/ru-Trac",
           "ru",
           "299"
          ]
         ],
         "hovertemplate": "language=%{customdata[1]}<br>x=%{x}<br>y=%{y}<br>dataset_name=%{customdata[0]}<br>id=%{customdata[2]}<extra></extra>",
         "legendgroup": "ru",
         "marker": {
          "color": "#FFA15A",
          "symbol": "circle"
         },
         "mode": "markers",
         "name": "ru",
         "showlegend": true,
         "x": [
          6.217786,
          -20.671663,
          -6.7556295,
          -35.762825,
          -44.292473,
          19.228897,
          -47.01526,
          -19.705942,
          -7.6672573,
          -17.446213,
          -21.771896,
          25.484974,
          -24.029428,
          31.525196,
          -14.43703,
          25.78395,
          -38.181732,
          33.228058,
          -54.80442,
          13.612609,
          -23.699383,
          19.235363,
          5.520241,
          -24.546942,
          -21.97831,
          0.9631883,
          19.540386,
          34.663826,
          -14.916448,
          -20.338898,
          -10.480573,
          -21.450644,
          41.575954,
          -22.532055,
          -44.273987,
          27.00576,
          -16.058302,
          3.8526669,
          -5.1884646,
          -28.5529,
          8.822719,
          -13.197663,
          -10.342282,
          -27.678068,
          2.2595232,
          -38.74577,
          13.44033,
          -12.111577,
          -7.557303,
          -39.026077,
          33.07019,
          0.5930618,
          8.426328,
          -5.792562,
          37.740005,
          10.322882,
          50.362198,
          6.029334,
          -1.0948975,
          38.23459,
          -3.4492629,
          -13.014426,
          21.784193,
          -28.928062,
          5.8157797,
          3.5192952,
          -9.066049,
          34.79908,
          -31.156937,
          -17.42537,
          40.65966,
          32.443645,
          25.381647,
          38.251835,
          -28.366346,
          23.35499,
          -28.010689,
          1.888225,
          45.86201,
          -10.479469,
          -2.2107673,
          -0.3204723,
          -6.3352075,
          -17.287905,
          -17.358316,
          25.521303,
          39.998028,
          -46.616352,
          30.306198,
          25.779001,
          -17.013348,
          30.587431,
          -2.8818445,
          32.781086,
          15.791822,
          -8.429629,
          -16.545595,
          23.985163,
          -53.812973,
          -15.310521,
          46.584457,
          7.8930254,
          20.235092,
          9.959169,
          -2.5987873,
          10.35122,
          -8.592943,
          -33.1803,
          1.7259041,
          -5.5961294,
          -17.75204,
          -7.321283,
          46.257095,
          -9.459067,
          20.173588,
          -13.749087,
          3.9823804,
          45.42375,
          -19.90644,
          43.590027,
          -0.1884364,
          -26.99987,
          10.440778,
          -21.090338,
          46.40219,
          -49.450893,
          15.532942,
          -12.740705,
          17.892015,
          -11.704106,
          11.788934,
          31.330296,
          29.91711,
          -40.16404,
          27.613565,
          -3.4438255,
          12.515967,
          -2.8650284,
          -11.862339,
          -9.056414,
          -29.000431,
          -4.485874,
          2.2208724,
          10.97809,
          5.641244,
          -35.197887,
          41.562305,
          -49.80075,
          -59.5949,
          -28.12579,
          4.1368427,
          34.45881,
          2.5678265,
          41.391277,
          -9.418527,
          37.340775,
          40.874477,
          28.279423,
          37.893345,
          -18.319439,
          16.493008,
          -10.917439,
          14.84788,
          -24.00039,
          -38.99904,
          -25.508095,
          16.232506,
          -44.49888,
          15.414128,
          11.636507,
          11.037777,
          -29.265333,
          21.646519,
          26.118547,
          -25.131746,
          12.83202,
          22.944714,
          32.67917,
          -2.8287067,
          -4.652838,
          52.617462,
          -30.685505,
          -38.816772,
          -0.5982227,
          -23.1671,
          -0.953855,
          19.743496,
          20.2763,
          6.3991327,
          17.576227,
          -18.966806,
          40.861965,
          42.09675,
          7.1931252,
          -53.7049,
          6.159315,
          23.117659,
          -3.2053878,
          -15.72264,
          -29.567772,
          -24.934301,
          -42.27181,
          -29.889147,
          -32.313896,
          27.815563,
          -16.86471,
          -18.568504,
          -6.2617216,
          21.680155,
          -33.62542,
          32.952286,
          7.035992,
          -43.329624,
          13.414576,
          -50.44509,
          -0.90385866,
          15.881852,
          1.2787569,
          8.635406,
          53.1001,
          -33.516655,
          -33.56779,
          42.377434,
          43.09557,
          -0.20251755,
          -9.331319,
          1.6990881,
          16.911139,
          46.723248,
          27.744322,
          -12.474221,
          1.2681079,
          19.786604,
          13.201541,
          -46.368298,
          -49.97616,
          -10.679012,
          2.4049058,
          -6.1338506,
          -5.274366,
          20.137268,
          26.017504,
          -28.965271,
          -13.761369,
          23.62209,
          6.004446,
          -46.760323,
          -30.900133,
          33.79553,
          -40.11121,
          3.0599334,
          10.519669,
          -23.713942,
          -5.9457564,
          -23.843287,
          -32.785774,
          -20.329323,
          26.867645,
          -27.360397,
          12.536944,
          21.469397,
          -36.086773,
          -27.057392,
          4.376772,
          -20.260595,
          -53.647842,
          -21.089828,
          -32.53286,
          -26.50668,
          16.520733,
          -22.949505,
          52.758884,
          11.157213,
          10.381115,
          -26.670008,
          38.424175,
          18.875704,
          25.475948,
          -21.858965,
          19.245897,
          37.41631,
          11.232551,
          15.266891,
          36.59148,
          -26.012856,
          34.69127,
          38.12654,
          7.2209864,
          39.66446,
          18.43338,
          -28.528517,
          -34.041573,
          -42.66352,
          -16.080898,
          0.25933623,
          17.920595,
          52.35184,
          -5.15619,
          -9.699001,
          -4.3608727
         ],
         "xaxis": "x",
         "y": [
          21.044004,
          34.484962,
          26.46748,
          -16.666239,
          -33.934093,
          55.009068,
          -39.62091,
          -27.67115,
          22.481436,
          -37.734455,
          19.171535,
          -38.14974,
          32.48133,
          -46.995453,
          5.0946755,
          -30.221146,
          -33.773647,
          29.515038,
          -13.91702,
          29.65428,
          -22.959152,
          -11.399202,
          12.018279,
          -27.671185,
          28.868551,
          -12.809885,
          33.22127,
          43.56794,
          21.696552,
          -21.047733,
          6.666206,
          7.7531977,
          -1.0952251,
          -12.695392,
          -12.023069,
          6.22253,
          -31.880325,
          -40.273098,
          17.545847,
          -0.17678596,
          13.426234,
          -6.3800707,
          1.203672,
          -30.334541,
          11.101725,
          -45.29411,
          -13.841672,
          -21.071375,
          31.699848,
          32.331486,
          -1.5010358,
          53.36384,
          -36.69267,
          -21.231806,
          -26.086187,
          -31.289381,
          10.7016945,
          -22.931904,
          14.876151,
          37.222157,
          29.692245,
          -33.49125,
          13.937579,
          -15.251563,
          5.5557494,
          -26.236551,
          11.168981,
          10.176154,
          25.554878,
          30.104048,
          -4.782725,
          -36.740967,
          17.67915,
          16.59773,
          23.370268,
          6.0236516,
          55.3444,
          -7.721821,
          -8.162014,
          18.180092,
          9.659397,
          -1.9849629,
          40.81264,
          -24.29526,
          24.450306,
          46.538864,
          22.003956,
          -19.189533,
          -19.140656,
          -15.354391,
          49.75,
          7.77242,
          40.568676,
          4.583647,
          -19.581743,
          -42.255745,
          44.192806,
          -27.25368,
          -28.446947,
          9.734223,
          -15.586276,
          39.052044,
          -44.25079,
          44.233444,
          -52.9638,
          5.528551,
          -17.886091,
          14.589052,
          -50.37965,
          37.251568,
          -18.623325,
          -25.923195,
          4.5039163,
          27.59747,
          25.750969,
          -48.458614,
          0.7780824,
          -2.3755102,
          -16.083042,
          19.178196,
          19.13161,
          28.610899,
          -9.820546,
          22.821299,
          13.3277645,
          -27.849644,
          -27.870102,
          15.670116,
          45.8264,
          23.690975,
          -23.380447,
          16.990778,
          13.039116,
          -21.490173,
          -28.098589,
          23.072975,
          22.980862,
          -49.551094,
          30.51914,
          50.200058,
          7.3560767,
          48.73596,
          6.2468915,
          49.159748,
          25.822172,
          -38.32963,
          -37.105145,
          -43.624382,
          -20.237162,
          -21.188055,
          16.342175,
          -6.6195693,
          -18.189762,
          7.119281,
          -1.6446389,
          -9.313169,
          12.374375,
          24.250381,
          6.760301,
          17.409733,
          44.227856,
          43.796127,
          -9.65212,
          24.82354,
          1.4882025,
          20.153599,
          -1.0777832,
          -44.3974,
          2.5363514,
          -0.25216094,
          -5.0752254,
          -8.971325,
          -40.436787,
          10.874348,
          37.784332,
          17.45316,
          -10.234199,
          36.086407,
          -38.07699,
          -14.709634,
          3.7604198,
          20.203547,
          -40.14348,
          36.209763,
          17.271908,
          -50.77703,
          39.26711,
          1.6041472,
          -13.843492,
          -23.438444,
          1.9156637,
          -22.09296,
          2.6723664,
          32.43839,
          -9.452884,
          -9.5007515,
          -6.298273,
          -7.020967,
          -11.272996,
          -24.547625,
          -7.414072,
          -29.55604,
          -36.300278,
          -45.95386,
          -8.437274,
          37.92139,
          12.943825,
          14.082528,
          -52.49504,
          -22.404999,
          -13.124406,
          53.304886,
          -26.126593,
          -35.222744,
          -33.527077,
          4.175014,
          9.552609,
          23.950747,
          9.115575,
          -2.9393406,
          7.890853,
          41.277363,
          27.598152,
          23.175222,
          -30.33806,
          38.206913,
          -47.294044,
          43.176605,
          25.6002,
          -3.378228,
          -27.500257,
          23.95889,
          -34.777256,
          37.35784,
          6.279859,
          17.202621,
          -13.299839,
          30.158411,
          8.674349,
          3.610685,
          -4.4651966,
          15.092869,
          38.057945,
          34.396374,
          -1.994486,
          -3.846531,
          -30.75319,
          -43.889168,
          -22.31903,
          18.255526,
          46.533344,
          -27.475895,
          -2.9133196,
          -10.41441,
          -19.267578,
          -27.171522,
          -44.515244,
          1.1419412,
          16.58076,
          -40.71464,
          10.524649,
          -9.458309,
          -11.226201,
          -32.879597,
          -5.8145275,
          -22.193647,
          48.130604,
          -38.349697,
          2.8656147,
          13.142217,
          -32.513046,
          -12.954393,
          -46.7323,
          -17.815985,
          -41.151917,
          -2.8161583,
          -6.770099,
          34.53062,
          43.208893,
          -16.107117,
          -16.137636,
          58.29394,
          5.3175426,
          1.651885,
          11.163077,
          21.14069,
          25.313766,
          2.3801765,
          1.8512055,
          7.835612,
          -50.831093,
          -33.57247,
          -38.644592,
          -2.2883868,
          -24.762777,
          19.155172,
          -20.145947,
          -31.202023,
          -5.5527267,
          -1.8720833
         ],
         "yaxis": "y",
         "type": "scattergl"
        },
        {
         "customdata": [
          [
           "parallel_data/sq-Trac",
           "sq",
           "0"
          ],
          [
           "parallel_data/sq-Trac",
           "sq",
           "1"
          ],
          [
           "parallel_data/sq-Trac",
           "sq",
           "2"
          ],
          [
           "parallel_data/sq-Trac",
           "sq",
           "3"
          ],
          [
           "parallel_data/sq-Trac",
           "sq",
           "4"
          ],
          [
           "parallel_data/sq-Trac",
           "sq",
           "5"
          ],
          [
           "parallel_data/sq-Trac",
           "sq",
           "6"
          ],
          [
           "parallel_data/sq-Trac",
           "sq",
           "7"
          ],
          [
           "parallel_data/sq-Trac",
           "sq",
           "8"
          ],
          [
           "parallel_data/sq-Trac",
           "sq",
           "9"
          ],
          [
           "parallel_data/sq-Trac",
           "sq",
           "10"
          ],
          [
           "parallel_data/sq-Trac",
           "sq",
           "11"
          ],
          [
           "parallel_data/sq-Trac",
           "sq",
           "12"
          ],
          [
           "parallel_data/sq-Trac",
           "sq",
           "13"
          ],
          [
           "parallel_data/sq-Trac",
           "sq",
           "14"
          ],
          [
           "parallel_data/sq-Trac",
           "sq",
           "15"
          ],
          [
           "parallel_data/sq-Trac",
           "sq",
           "16"
          ],
          [
           "parallel_data/sq-Trac",
           "sq",
           "17"
          ],
          [
           "parallel_data/sq-Trac",
           "sq",
           "18"
          ],
          [
           "parallel_data/sq-Trac",
           "sq",
           "19"
          ],
          [
           "parallel_data/sq-Trac",
           "sq",
           "20"
          ],
          [
           "parallel_data/sq-Trac",
           "sq",
           "21"
          ],
          [
           "parallel_data/sq-Trac",
           "sq",
           "22"
          ],
          [
           "parallel_data/sq-Trac",
           "sq",
           "23"
          ],
          [
           "parallel_data/sq-Trac",
           "sq",
           "24"
          ],
          [
           "parallel_data/sq-Trac",
           "sq",
           "25"
          ],
          [
           "parallel_data/sq-Trac",
           "sq",
           "26"
          ],
          [
           "parallel_data/sq-Trac",
           "sq",
           "27"
          ],
          [
           "parallel_data/sq-Trac",
           "sq",
           "28"
          ],
          [
           "parallel_data/sq-Trac",
           "sq",
           "29"
          ],
          [
           "parallel_data/sq-Trac",
           "sq",
           "30"
          ],
          [
           "parallel_data/sq-Trac",
           "sq",
           "31"
          ],
          [
           "parallel_data/sq-Trac",
           "sq",
           "32"
          ],
          [
           "parallel_data/sq-Trac",
           "sq",
           "33"
          ],
          [
           "parallel_data/sq-Trac",
           "sq",
           "34"
          ],
          [
           "parallel_data/sq-Trac",
           "sq",
           "35"
          ],
          [
           "parallel_data/sq-Trac",
           "sq",
           "36"
          ],
          [
           "parallel_data/sq-Trac",
           "sq",
           "37"
          ],
          [
           "parallel_data/sq-Trac",
           "sq",
           "38"
          ],
          [
           "parallel_data/sq-Trac",
           "sq",
           "39"
          ],
          [
           "parallel_data/sq-Trac",
           "sq",
           "40"
          ],
          [
           "parallel_data/sq-Trac",
           "sq",
           "41"
          ],
          [
           "parallel_data/sq-Trac",
           "sq",
           "42"
          ],
          [
           "parallel_data/sq-Trac",
           "sq",
           "43"
          ],
          [
           "parallel_data/sq-Trac",
           "sq",
           "44"
          ],
          [
           "parallel_data/sq-Trac",
           "sq",
           "45"
          ],
          [
           "parallel_data/sq-Trac",
           "sq",
           "46"
          ],
          [
           "parallel_data/sq-Trac",
           "sq",
           "47"
          ],
          [
           "parallel_data/sq-Trac",
           "sq",
           "48"
          ],
          [
           "parallel_data/sq-Trac",
           "sq",
           "49"
          ],
          [
           "parallel_data/sq-Trac",
           "sq",
           "50"
          ],
          [
           "parallel_data/sq-Trac",
           "sq",
           "51"
          ],
          [
           "parallel_data/sq-Trac",
           "sq",
           "52"
          ],
          [
           "parallel_data/sq-Trac",
           "sq",
           "53"
          ],
          [
           "parallel_data/sq-Trac",
           "sq",
           "54"
          ],
          [
           "parallel_data/sq-Trac",
           "sq",
           "55"
          ],
          [
           "parallel_data/sq-Trac",
           "sq",
           "56"
          ],
          [
           "parallel_data/sq-Trac",
           "sq",
           "57"
          ],
          [
           "parallel_data/sq-Trac",
           "sq",
           "58"
          ],
          [
           "parallel_data/sq-Trac",
           "sq",
           "59"
          ],
          [
           "parallel_data/sq-Trac",
           "sq",
           "60"
          ],
          [
           "parallel_data/sq-Trac",
           "sq",
           "61"
          ],
          [
           "parallel_data/sq-Trac",
           "sq",
           "62"
          ],
          [
           "parallel_data/sq-Trac",
           "sq",
           "63"
          ],
          [
           "parallel_data/sq-Trac",
           "sq",
           "64"
          ],
          [
           "parallel_data/sq-Trac",
           "sq",
           "65"
          ],
          [
           "parallel_data/sq-Trac",
           "sq",
           "66"
          ],
          [
           "parallel_data/sq-Trac",
           "sq",
           "67"
          ],
          [
           "parallel_data/sq-Trac",
           "sq",
           "68"
          ],
          [
           "parallel_data/sq-Trac",
           "sq",
           "69"
          ],
          [
           "parallel_data/sq-Trac",
           "sq",
           "70"
          ],
          [
           "parallel_data/sq-Trac",
           "sq",
           "71"
          ],
          [
           "parallel_data/sq-Trac",
           "sq",
           "72"
          ],
          [
           "parallel_data/sq-Trac",
           "sq",
           "73"
          ],
          [
           "parallel_data/sq-Trac",
           "sq",
           "74"
          ],
          [
           "parallel_data/sq-Trac",
           "sq",
           "75"
          ],
          [
           "parallel_data/sq-Trac",
           "sq",
           "76"
          ],
          [
           "parallel_data/sq-Trac",
           "sq",
           "77"
          ],
          [
           "parallel_data/sq-Trac",
           "sq",
           "78"
          ],
          [
           "parallel_data/sq-Trac",
           "sq",
           "79"
          ],
          [
           "parallel_data/sq-Trac",
           "sq",
           "80"
          ],
          [
           "parallel_data/sq-Trac",
           "sq",
           "81"
          ],
          [
           "parallel_data/sq-Trac",
           "sq",
           "82"
          ],
          [
           "parallel_data/sq-Trac",
           "sq",
           "83"
          ],
          [
           "parallel_data/sq-Trac",
           "sq",
           "84"
          ],
          [
           "parallel_data/sq-Trac",
           "sq",
           "85"
          ],
          [
           "parallel_data/sq-Trac",
           "sq",
           "86"
          ],
          [
           "parallel_data/sq-Trac",
           "sq",
           "87"
          ],
          [
           "parallel_data/sq-Trac",
           "sq",
           "88"
          ],
          [
           "parallel_data/sq-Trac",
           "sq",
           "89"
          ],
          [
           "parallel_data/sq-Trac",
           "sq",
           "90"
          ],
          [
           "parallel_data/sq-Trac",
           "sq",
           "91"
          ],
          [
           "parallel_data/sq-Trac",
           "sq",
           "92"
          ],
          [
           "parallel_data/sq-Trac",
           "sq",
           "93"
          ],
          [
           "parallel_data/sq-Trac",
           "sq",
           "94"
          ],
          [
           "parallel_data/sq-Trac",
           "sq",
           "95"
          ],
          [
           "parallel_data/sq-Trac",
           "sq",
           "96"
          ],
          [
           "parallel_data/sq-Trac",
           "sq",
           "97"
          ],
          [
           "parallel_data/sq-Trac",
           "sq",
           "98"
          ],
          [
           "parallel_data/sq-Trac",
           "sq",
           "99"
          ],
          [
           "parallel_data/sq-Trac",
           "sq",
           "100"
          ],
          [
           "parallel_data/sq-Trac",
           "sq",
           "101"
          ],
          [
           "parallel_data/sq-Trac",
           "sq",
           "102"
          ],
          [
           "parallel_data/sq-Trac",
           "sq",
           "103"
          ],
          [
           "parallel_data/sq-Trac",
           "sq",
           "104"
          ],
          [
           "parallel_data/sq-Trac",
           "sq",
           "105"
          ],
          [
           "parallel_data/sq-Trac",
           "sq",
           "106"
          ],
          [
           "parallel_data/sq-Trac",
           "sq",
           "107"
          ],
          [
           "parallel_data/sq-Trac",
           "sq",
           "108"
          ],
          [
           "parallel_data/sq-Trac",
           "sq",
           "109"
          ],
          [
           "parallel_data/sq-Trac",
           "sq",
           "110"
          ],
          [
           "parallel_data/sq-Trac",
           "sq",
           "111"
          ],
          [
           "parallel_data/sq-Trac",
           "sq",
           "112"
          ],
          [
           "parallel_data/sq-Trac",
           "sq",
           "113"
          ],
          [
           "parallel_data/sq-Trac",
           "sq",
           "114"
          ],
          [
           "parallel_data/sq-Trac",
           "sq",
           "115"
          ],
          [
           "parallel_data/sq-Trac",
           "sq",
           "116"
          ],
          [
           "parallel_data/sq-Trac",
           "sq",
           "117"
          ],
          [
           "parallel_data/sq-Trac",
           "sq",
           "118"
          ],
          [
           "parallel_data/sq-Trac",
           "sq",
           "119"
          ],
          [
           "parallel_data/sq-Trac",
           "sq",
           "120"
          ],
          [
           "parallel_data/sq-Trac",
           "sq",
           "121"
          ],
          [
           "parallel_data/sq-Trac",
           "sq",
           "122"
          ],
          [
           "parallel_data/sq-Trac",
           "sq",
           "123"
          ],
          [
           "parallel_data/sq-Trac",
           "sq",
           "124"
          ],
          [
           "parallel_data/sq-Trac",
           "sq",
           "125"
          ],
          [
           "parallel_data/sq-Trac",
           "sq",
           "126"
          ],
          [
           "parallel_data/sq-Trac",
           "sq",
           "127"
          ],
          [
           "parallel_data/sq-Trac",
           "sq",
           "128"
          ],
          [
           "parallel_data/sq-Trac",
           "sq",
           "129"
          ],
          [
           "parallel_data/sq-Trac",
           "sq",
           "130"
          ],
          [
           "parallel_data/sq-Trac",
           "sq",
           "131"
          ],
          [
           "parallel_data/sq-Trac",
           "sq",
           "132"
          ],
          [
           "parallel_data/sq-Trac",
           "sq",
           "133"
          ],
          [
           "parallel_data/sq-Trac",
           "sq",
           "134"
          ],
          [
           "parallel_data/sq-Trac",
           "sq",
           "135"
          ],
          [
           "parallel_data/sq-Trac",
           "sq",
           "136"
          ],
          [
           "parallel_data/sq-Trac",
           "sq",
           "137"
          ],
          [
           "parallel_data/sq-Trac",
           "sq",
           "138"
          ],
          [
           "parallel_data/sq-Trac",
           "sq",
           "139"
          ],
          [
           "parallel_data/sq-Trac",
           "sq",
           "140"
          ],
          [
           "parallel_data/sq-Trac",
           "sq",
           "141"
          ],
          [
           "parallel_data/sq-Trac",
           "sq",
           "142"
          ],
          [
           "parallel_data/sq-Trac",
           "sq",
           "143"
          ],
          [
           "parallel_data/sq-Trac",
           "sq",
           "144"
          ],
          [
           "parallel_data/sq-Trac",
           "sq",
           "145"
          ],
          [
           "parallel_data/sq-Trac",
           "sq",
           "146"
          ],
          [
           "parallel_data/sq-Trac",
           "sq",
           "147"
          ],
          [
           "parallel_data/sq-Trac",
           "sq",
           "148"
          ],
          [
           "parallel_data/sq-Trac",
           "sq",
           "149"
          ],
          [
           "parallel_data/sq-Trac",
           "sq",
           "150"
          ],
          [
           "parallel_data/sq-Trac",
           "sq",
           "151"
          ],
          [
           "parallel_data/sq-Trac",
           "sq",
           "152"
          ],
          [
           "parallel_data/sq-Trac",
           "sq",
           "153"
          ],
          [
           "parallel_data/sq-Trac",
           "sq",
           "154"
          ],
          [
           "parallel_data/sq-Trac",
           "sq",
           "155"
          ],
          [
           "parallel_data/sq-Trac",
           "sq",
           "156"
          ],
          [
           "parallel_data/sq-Trac",
           "sq",
           "157"
          ],
          [
           "parallel_data/sq-Trac",
           "sq",
           "158"
          ],
          [
           "parallel_data/sq-Trac",
           "sq",
           "159"
          ],
          [
           "parallel_data/sq-Trac",
           "sq",
           "160"
          ],
          [
           "parallel_data/sq-Trac",
           "sq",
           "161"
          ],
          [
           "parallel_data/sq-Trac",
           "sq",
           "162"
          ],
          [
           "parallel_data/sq-Trac",
           "sq",
           "163"
          ],
          [
           "parallel_data/sq-Trac",
           "sq",
           "164"
          ],
          [
           "parallel_data/sq-Trac",
           "sq",
           "165"
          ],
          [
           "parallel_data/sq-Trac",
           "sq",
           "166"
          ],
          [
           "parallel_data/sq-Trac",
           "sq",
           "167"
          ],
          [
           "parallel_data/sq-Trac",
           "sq",
           "168"
          ],
          [
           "parallel_data/sq-Trac",
           "sq",
           "169"
          ],
          [
           "parallel_data/sq-Trac",
           "sq",
           "170"
          ],
          [
           "parallel_data/sq-Trac",
           "sq",
           "171"
          ],
          [
           "parallel_data/sq-Trac",
           "sq",
           "172"
          ],
          [
           "parallel_data/sq-Trac",
           "sq",
           "173"
          ],
          [
           "parallel_data/sq-Trac",
           "sq",
           "174"
          ],
          [
           "parallel_data/sq-Trac",
           "sq",
           "175"
          ],
          [
           "parallel_data/sq-Trac",
           "sq",
           "176"
          ],
          [
           "parallel_data/sq-Trac",
           "sq",
           "177"
          ],
          [
           "parallel_data/sq-Trac",
           "sq",
           "178"
          ],
          [
           "parallel_data/sq-Trac",
           "sq",
           "179"
          ],
          [
           "parallel_data/sq-Trac",
           "sq",
           "180"
          ],
          [
           "parallel_data/sq-Trac",
           "sq",
           "181"
          ],
          [
           "parallel_data/sq-Trac",
           "sq",
           "182"
          ],
          [
           "parallel_data/sq-Trac",
           "sq",
           "183"
          ],
          [
           "parallel_data/sq-Trac",
           "sq",
           "184"
          ],
          [
           "parallel_data/sq-Trac",
           "sq",
           "185"
          ],
          [
           "parallel_data/sq-Trac",
           "sq",
           "186"
          ],
          [
           "parallel_data/sq-Trac",
           "sq",
           "187"
          ],
          [
           "parallel_data/sq-Trac",
           "sq",
           "188"
          ],
          [
           "parallel_data/sq-Trac",
           "sq",
           "189"
          ],
          [
           "parallel_data/sq-Trac",
           "sq",
           "190"
          ],
          [
           "parallel_data/sq-Trac",
           "sq",
           "191"
          ],
          [
           "parallel_data/sq-Trac",
           "sq",
           "192"
          ],
          [
           "parallel_data/sq-Trac",
           "sq",
           "193"
          ],
          [
           "parallel_data/sq-Trac",
           "sq",
           "194"
          ],
          [
           "parallel_data/sq-Trac",
           "sq",
           "195"
          ],
          [
           "parallel_data/sq-Trac",
           "sq",
           "196"
          ],
          [
           "parallel_data/sq-Trac",
           "sq",
           "197"
          ],
          [
           "parallel_data/sq-Trac",
           "sq",
           "198"
          ],
          [
           "parallel_data/sq-Trac",
           "sq",
           "199"
          ],
          [
           "parallel_data/sq-Trac",
           "sq",
           "200"
          ],
          [
           "parallel_data/sq-Trac",
           "sq",
           "201"
          ],
          [
           "parallel_data/sq-Trac",
           "sq",
           "202"
          ],
          [
           "parallel_data/sq-Trac",
           "sq",
           "203"
          ],
          [
           "parallel_data/sq-Trac",
           "sq",
           "204"
          ],
          [
           "parallel_data/sq-Trac",
           "sq",
           "205"
          ],
          [
           "parallel_data/sq-Trac",
           "sq",
           "206"
          ],
          [
           "parallel_data/sq-Trac",
           "sq",
           "207"
          ],
          [
           "parallel_data/sq-Trac",
           "sq",
           "208"
          ],
          [
           "parallel_data/sq-Trac",
           "sq",
           "209"
          ],
          [
           "parallel_data/sq-Trac",
           "sq",
           "210"
          ],
          [
           "parallel_data/sq-Trac",
           "sq",
           "211"
          ],
          [
           "parallel_data/sq-Trac",
           "sq",
           "212"
          ],
          [
           "parallel_data/sq-Trac",
           "sq",
           "213"
          ],
          [
           "parallel_data/sq-Trac",
           "sq",
           "214"
          ],
          [
           "parallel_data/sq-Trac",
           "sq",
           "215"
          ],
          [
           "parallel_data/sq-Trac",
           "sq",
           "216"
          ],
          [
           "parallel_data/sq-Trac",
           "sq",
           "217"
          ],
          [
           "parallel_data/sq-Trac",
           "sq",
           "218"
          ],
          [
           "parallel_data/sq-Trac",
           "sq",
           "219"
          ],
          [
           "parallel_data/sq-Trac",
           "sq",
           "220"
          ],
          [
           "parallel_data/sq-Trac",
           "sq",
           "221"
          ],
          [
           "parallel_data/sq-Trac",
           "sq",
           "222"
          ],
          [
           "parallel_data/sq-Trac",
           "sq",
           "223"
          ],
          [
           "parallel_data/sq-Trac",
           "sq",
           "224"
          ],
          [
           "parallel_data/sq-Trac",
           "sq",
           "225"
          ],
          [
           "parallel_data/sq-Trac",
           "sq",
           "226"
          ],
          [
           "parallel_data/sq-Trac",
           "sq",
           "227"
          ],
          [
           "parallel_data/sq-Trac",
           "sq",
           "228"
          ],
          [
           "parallel_data/sq-Trac",
           "sq",
           "229"
          ],
          [
           "parallel_data/sq-Trac",
           "sq",
           "230"
          ],
          [
           "parallel_data/sq-Trac",
           "sq",
           "231"
          ],
          [
           "parallel_data/sq-Trac",
           "sq",
           "232"
          ],
          [
           "parallel_data/sq-Trac",
           "sq",
           "233"
          ],
          [
           "parallel_data/sq-Trac",
           "sq",
           "234"
          ],
          [
           "parallel_data/sq-Trac",
           "sq",
           "235"
          ],
          [
           "parallel_data/sq-Trac",
           "sq",
           "236"
          ],
          [
           "parallel_data/sq-Trac",
           "sq",
           "237"
          ],
          [
           "parallel_data/sq-Trac",
           "sq",
           "238"
          ],
          [
           "parallel_data/sq-Trac",
           "sq",
           "239"
          ],
          [
           "parallel_data/sq-Trac",
           "sq",
           "240"
          ],
          [
           "parallel_data/sq-Trac",
           "sq",
           "241"
          ],
          [
           "parallel_data/sq-Trac",
           "sq",
           "242"
          ],
          [
           "parallel_data/sq-Trac",
           "sq",
           "243"
          ],
          [
           "parallel_data/sq-Trac",
           "sq",
           "244"
          ],
          [
           "parallel_data/sq-Trac",
           "sq",
           "245"
          ],
          [
           "parallel_data/sq-Trac",
           "sq",
           "246"
          ],
          [
           "parallel_data/sq-Trac",
           "sq",
           "247"
          ],
          [
           "parallel_data/sq-Trac",
           "sq",
           "248"
          ],
          [
           "parallel_data/sq-Trac",
           "sq",
           "249"
          ],
          [
           "parallel_data/sq-Trac",
           "sq",
           "250"
          ],
          [
           "parallel_data/sq-Trac",
           "sq",
           "251"
          ],
          [
           "parallel_data/sq-Trac",
           "sq",
           "252"
          ],
          [
           "parallel_data/sq-Trac",
           "sq",
           "253"
          ],
          [
           "parallel_data/sq-Trac",
           "sq",
           "254"
          ],
          [
           "parallel_data/sq-Trac",
           "sq",
           "255"
          ],
          [
           "parallel_data/sq-Trac",
           "sq",
           "256"
          ],
          [
           "parallel_data/sq-Trac",
           "sq",
           "257"
          ],
          [
           "parallel_data/sq-Trac",
           "sq",
           "258"
          ],
          [
           "parallel_data/sq-Trac",
           "sq",
           "259"
          ],
          [
           "parallel_data/sq-Trac",
           "sq",
           "260"
          ],
          [
           "parallel_data/sq-Trac",
           "sq",
           "261"
          ],
          [
           "parallel_data/sq-Trac",
           "sq",
           "262"
          ],
          [
           "parallel_data/sq-Trac",
           "sq",
           "263"
          ],
          [
           "parallel_data/sq-Trac",
           "sq",
           "264"
          ],
          [
           "parallel_data/sq-Trac",
           "sq",
           "265"
          ],
          [
           "parallel_data/sq-Trac",
           "sq",
           "266"
          ],
          [
           "parallel_data/sq-Trac",
           "sq",
           "267"
          ],
          [
           "parallel_data/sq-Trac",
           "sq",
           "268"
          ],
          [
           "parallel_data/sq-Trac",
           "sq",
           "269"
          ],
          [
           "parallel_data/sq-Trac",
           "sq",
           "270"
          ],
          [
           "parallel_data/sq-Trac",
           "sq",
           "271"
          ],
          [
           "parallel_data/sq-Trac",
           "sq",
           "272"
          ],
          [
           "parallel_data/sq-Trac",
           "sq",
           "273"
          ],
          [
           "parallel_data/sq-Trac",
           "sq",
           "274"
          ],
          [
           "parallel_data/sq-Trac",
           "sq",
           "275"
          ],
          [
           "parallel_data/sq-Trac",
           "sq",
           "276"
          ],
          [
           "parallel_data/sq-Trac",
           "sq",
           "277"
          ],
          [
           "parallel_data/sq-Trac",
           "sq",
           "278"
          ],
          [
           "parallel_data/sq-Trac",
           "sq",
           "279"
          ],
          [
           "parallel_data/sq-Trac",
           "sq",
           "280"
          ],
          [
           "parallel_data/sq-Trac",
           "sq",
           "281"
          ],
          [
           "parallel_data/sq-Trac",
           "sq",
           "282"
          ],
          [
           "parallel_data/sq-Trac",
           "sq",
           "283"
          ],
          [
           "parallel_data/sq-Trac",
           "sq",
           "284"
          ],
          [
           "parallel_data/sq-Trac",
           "sq",
           "285"
          ],
          [
           "parallel_data/sq-Trac",
           "sq",
           "286"
          ],
          [
           "parallel_data/sq-Trac",
           "sq",
           "287"
          ],
          [
           "parallel_data/sq-Trac",
           "sq",
           "288"
          ],
          [
           "parallel_data/sq-Trac",
           "sq",
           "289"
          ],
          [
           "parallel_data/sq-Trac",
           "sq",
           "290"
          ],
          [
           "parallel_data/sq-Trac",
           "sq",
           "291"
          ],
          [
           "parallel_data/sq-Trac",
           "sq",
           "292"
          ],
          [
           "parallel_data/sq-Trac",
           "sq",
           "293"
          ],
          [
           "parallel_data/sq-Trac",
           "sq",
           "294"
          ],
          [
           "parallel_data/sq-Trac",
           "sq",
           "295"
          ],
          [
           "parallel_data/sq-Trac",
           "sq",
           "296"
          ],
          [
           "parallel_data/sq-Trac",
           "sq",
           "297"
          ],
          [
           "parallel_data/sq-Trac",
           "sq",
           "298"
          ],
          [
           "parallel_data/sq-Trac",
           "sq",
           "299"
          ]
         ],
         "hovertemplate": "language=%{customdata[1]}<br>x=%{x}<br>y=%{y}<br>dataset_name=%{customdata[0]}<br>id=%{customdata[2]}<extra></extra>",
         "legendgroup": "sq",
         "marker": {
          "color": "#19d3f3",
          "symbol": "circle"
         },
         "mode": "markers",
         "name": "sq",
         "showlegend": true,
         "x": [
          6.810156,
          -20.428253,
          -7.014904,
          -36.58014,
          -43.77408,
          18.714344,
          -47.4579,
          -19.931423,
          -7.79443,
          -16.847511,
          -22.130043,
          25.847946,
          -23.704119,
          32.146152,
          -15.166481,
          26.211031,
          -38.3119,
          33.552376,
          -54.41802,
          13.625479,
          -24.942333,
          18.525408,
          5.1904707,
          -24.216791,
          -21.301832,
          0.5603162,
          18.598415,
          34.747723,
          -15.237983,
          -19.923828,
          -10.990546,
          -21.73054,
          41.795364,
          -21.893484,
          -43.916683,
          27.30199,
          -16.379719,
          4.307754,
          -5.5542145,
          -28.30733,
          9.001007,
          -12.863403,
          -10.597755,
          -28.146687,
          3.3327742,
          -39.58632,
          13.7207155,
          -12.604124,
          -8.187244,
          -38.518417,
          32.410835,
          -0.04304034,
          7.9205804,
          -4.8396525,
          37.586,
          9.501014,
          50.5775,
          5.6676087,
          -1.3849877,
          38.937904,
          -3.9799576,
          -12.466339,
          21.387835,
          -28.801388,
          5.659993,
          4.052108,
          -9.003194,
          35.354618,
          -30.935463,
          -17.226645,
          40.910927,
          33.08469,
          25.07457,
          39.223026,
          -28.21303,
          21.87235,
          -27.358555,
          1.103712,
          46.570747,
          -10.68242,
          -1.7678702,
          0.6576225,
          -7.2595,
          -16.483582,
          -17.842587,
          24.658695,
          40.954628,
          -46.55934,
          29.806585,
          24.87812,
          -18.280106,
          29.943913,
          -1.7111475,
          32.50288,
          15.250435,
          -8.7842045,
          -16.220585,
          24.25304,
          -53.318157,
          -15.319096,
          46.59888,
          7.3547773,
          19.567448,
          10.582338,
          -1.8090281,
          9.885879,
          -7.462246,
          -33.13632,
          2.0153956,
          -5.660213,
          -17.504068,
          -7.3559327,
          46.613255,
          -10.067529,
          19.467672,
          -13.725514,
          3.4936602,
          45.6274,
          -20.111017,
          43.107433,
          0.638941,
          -26.650068,
          11.047754,
          -21.262047,
          45.93956,
          -48.991245,
          15.826788,
          -13.220025,
          19.050283,
          -11.054545,
          12.436871,
          31.192884,
          29.365173,
          -40.785866,
          28.464617,
          -3.1634557,
          13.0899515,
          -3.4621665,
          -12.713951,
          -9.647349,
          -29.270918,
          -4.5579495,
          2.8023875,
          10.654925,
          5.634725,
          -35.522743,
          42.266502,
          -50.19584,
          -59.115616,
          -28.249453,
          4.315061,
          34.51008,
          3.1126654,
          41.259327,
          -8.747812,
          37.896126,
          42.817917,
          27.975542,
          37.290016,
          -17.797735,
          15.43475,
          -10.940742,
          14.803798,
          -24.25869,
          -38.964607,
          -25.035608,
          15.2640705,
          -44.90402,
          14.773416,
          10.882913,
          10.17816,
          -28.307566,
          21.660715,
          25.251858,
          -25.143114,
          13.768335,
          22.443037,
          32.526043,
          -1.8712873,
          -3.8357344,
          52.72014,
          -29.686453,
          -39.291214,
          -1.9341017,
          -22.529972,
          0.36346284,
          20.131844,
          20.521358,
          5.6466994,
          16.421896,
          -20.105545,
          40.292255,
          42.604694,
          6.8538823,
          -52.41261,
          6.489846,
          24.095015,
          -4.534342,
          -15.796512,
          -29.407125,
          -24.892345,
          -41.387653,
          -29.59887,
          -31.480211,
          27.035337,
          -16.156437,
          -19.281729,
          -7.049252,
          21.806768,
          -33.088963,
          32.518288,
          6.9974027,
          -42.640026,
          13.047227,
          -50.616272,
          -0.89969575,
          15.257964,
          23.493193,
          7.9342313,
          53.252586,
          -32.724636,
          -34.25491,
          42.701935,
          42.599625,
          0.31375596,
          -8.770253,
          1.4736329,
          15.70915,
          46.333275,
          27.065434,
          -13.200563,
          -0.35094553,
          19.916378,
          12.812234,
          -46.97658,
          -50.36158,
          -10.613529,
          1.9584376,
          -5.702225,
          -4.8617096,
          19.831919,
          24.954462,
          -29.29049,
          -13.68353,
          22.713293,
          5.005463,
          -47.49198,
          -30.220062,
          34.31091,
          -39.9506,
          2.8975983,
          10.419467,
          -23.780903,
          -6.3239813,
          -24.512108,
          -33.455856,
          -19.94549,
          25.882103,
          -28.015785,
          11.804551,
          20.622765,
          -35.912224,
          -27.41078,
          3.5965629,
          -20.458017,
          -53.598145,
          -21.265593,
          -32.185123,
          -25.503595,
          16.59759,
          -22.325008,
          52.80269,
          10.903821,
          10.587004,
          -26.819605,
          37.40893,
          18.175323,
          25.212465,
          -22.535557,
          20.907408,
          37.77085,
          10.894797,
          14.091649,
          36.015465,
          -26.892872,
          36.020245,
          38.94339,
          6.377688,
          36.761307,
          19.204882,
          -28.622437,
          -33.43361,
          -42.32477,
          -16.019035,
          -0.14893308,
          17.125093,
          52.315323,
          -4.2782793,
          -9.033094,
          -3.467233
         ],
         "xaxis": "x",
         "y": [
          20.435135,
          34.21539,
          26.546667,
          -16.401518,
          -34.30216,
          54.637623,
          -39.1323,
          -27.192049,
          21.627129,
          -37.887737,
          19.290194,
          -38.014294,
          33.13986,
          -46.581013,
          4.9476767,
          -30.42949,
          -33.492832,
          28.573545,
          -14.428422,
          30.145958,
          -24.071024,
          -11.023799,
          11.27841,
          -27.035078,
          29.22376,
          -13.272419,
          32.913113,
          43.60845,
          21.465574,
          -21.593178,
          6.237834,
          7.535796,
          -1.8018893,
          -11.89511,
          -11.544728,
          7.0161953,
          -31.32885,
          -40.30996,
          17.200346,
          -0.30292976,
          12.761414,
          -6.651841,
          1.0691752,
          -30.072348,
          10.473892,
          -45.290855,
          -14.096163,
          -19.822578,
          31.701475,
          31.951145,
          -1.497762,
          52.846992,
          -37.156246,
          -21.678087,
          -27.968437,
          -31.706738,
          10.150475,
          -22.753378,
          14.34554,
          36.455025,
          30.372234,
          -33.433517,
          14.457925,
          -16.3811,
          6.258066,
          -25.704723,
          11.429173,
          11.29964,
          26.11738,
          30.780846,
          -4.572557,
          -36.7011,
          17.344387,
          17.422579,
          24.052813,
          6.7476196,
          56.031048,
          -7.4481473,
          -7.9506354,
          18.643793,
          8.875781,
          -1.8980384,
          41.00323,
          -24.685566,
          24.955702,
          46.81592,
          21.890408,
          -20.253626,
          -18.626509,
          -15.905539,
          50.270947,
          7.8886695,
          39.628872,
          3.7406716,
          -19.445642,
          -42.21237,
          43.208145,
          -27.156395,
          -27.78049,
          8.99168,
          -15.026228,
          38.61783,
          -43.53837,
          43.257812,
          -53.63895,
          4.770046,
          -17.666647,
          15.38174,
          -50.996998,
          35.994778,
          -18.572407,
          -26.2914,
          3.3037152,
          27.374498,
          25.86433,
          -47.55121,
          1.8729906,
          -2.9683027,
          -16.240469,
          19.194735,
          19.073793,
          28.178654,
          -10.492746,
          23.388292,
          11.746873,
          -27.832762,
          -28.481537,
          16.363543,
          46.311577,
          23.634575,
          -23.40646,
          17.338793,
          12.195127,
          -21.299864,
          -28.451992,
          22.154926,
          22.911766,
          -49.79001,
          28.993694,
          50.226562,
          7.2855268,
          48.02728,
          5.796651,
          48.276794,
          26.475372,
          -37.69448,
          -37.066887,
          -43.495068,
          -20.602383,
          -21.452055,
          15.741695,
          -6.1949496,
          -18.056728,
          7.480199,
          -1.2779447,
          -8.899423,
          12.767533,
          23.699617,
          7.308008,
          18.064722,
          44.277447,
          44.24243,
          -8.775855,
          24.509079,
          1.3099446,
          20.542683,
          -2.0136113,
          -44.49646,
          2.3580754,
          -0.4821617,
          -4.9168057,
          -8.279546,
          -39.567265,
          10.833877,
          37.8003,
          17.362057,
          -9.445742,
          35.103832,
          -38.811527,
          -13.575299,
          3.35885,
          20.515862,
          -40.44915,
          35.72293,
          16.205814,
          -51.602566,
          39.876232,
          1.6314522,
          -13.2147,
          -24.320082,
          2.1159234,
          -22.17349,
          3.1867533,
          33.019325,
          -8.65675,
          -8.705554,
          -6.060222,
          -5.9837327,
          -12.1579075,
          -25.232168,
          -6.8007255,
          -30.208902,
          -36.95769,
          -46.66496,
          -8.988083,
          38.527855,
          12.926438,
          14.358302,
          -51.621,
          -22.280613,
          -12.5479765,
          52.47663,
          -26.410526,
          -36.028816,
          -34.45089,
          3.1721208,
          9.594444,
          -20.576311,
          8.99809,
          -1.9893816,
          7.348234,
          41.18387,
          28.370575,
          22.270575,
          -29.657701,
          37.209667,
          -47.227795,
          43.09854,
          25.047981,
          -3.462937,
          -27.239649,
          25.109959,
          -33.616093,
          37.139683,
          6.013961,
          17.494148,
          -13.0298,
          30.87696,
          7.689356,
          4.167472,
          -3.6952267,
          14.66008,
          37.760292,
          35.23376,
          -2.6634626,
          -3.2415605,
          -30.152187,
          -44.289852,
          -22.3756,
          18.220083,
          46.910404,
          -27.135319,
          -2.7064488,
          -9.900422,
          -18.071806,
          -27.221445,
          -44.881153,
          0.5775286,
          16.233252,
          -41.289207,
          10.669752,
          -10.407152,
          -11.181475,
          -34.091908,
          -6.1166897,
          -23.233265,
          49.085087,
          -38.996605,
          2.8146713,
          12.486882,
          -32.065056,
          -12.3628025,
          -46.873386,
          -17.814085,
          -42.23645,
          -1.9270744,
          -6.6406765,
          35.218037,
          42.547176,
          -15.461643,
          -15.313382,
          58.93288,
          5.9965067,
          1.8212758,
          11.800906,
          21.326557,
          25.478432,
          1.9762034,
          -1.8980637,
          8.622831,
          -50.105938,
          -34.079147,
          -37.93118,
          -2.4246168,
          -24.13649,
          18.319693,
          -20.952326,
          -30.894777,
          -4.962355,
          -0.9596602
         ],
         "yaxis": "y",
         "type": "scattergl"
        }
       ],
       "layout": {
        "template": {
         "data": {
          "histogram2dcontour": [
           {
            "type": "histogram2dcontour",
            "colorbar": {
             "outlinewidth": 0,
             "ticks": ""
            },
            "colorscale": [
             [
              0.0,
              "#0d0887"
             ],
             [
              0.1111111111111111,
              "#46039f"
             ],
             [
              0.2222222222222222,
              "#7201a8"
             ],
             [
              0.3333333333333333,
              "#9c179e"
             ],
             [
              0.4444444444444444,
              "#bd3786"
             ],
             [
              0.5555555555555556,
              "#d8576b"
             ],
             [
              0.6666666666666666,
              "#ed7953"
             ],
             [
              0.7777777777777778,
              "#fb9f3a"
             ],
             [
              0.8888888888888888,
              "#fdca26"
             ],
             [
              1.0,
              "#f0f921"
             ]
            ]
           }
          ],
          "choropleth": [
           {
            "type": "choropleth",
            "colorbar": {
             "outlinewidth": 0,
             "ticks": ""
            }
           }
          ],
          "histogram2d": [
           {
            "type": "histogram2d",
            "colorbar": {
             "outlinewidth": 0,
             "ticks": ""
            },
            "colorscale": [
             [
              0.0,
              "#0d0887"
             ],
             [
              0.1111111111111111,
              "#46039f"
             ],
             [
              0.2222222222222222,
              "#7201a8"
             ],
             [
              0.3333333333333333,
              "#9c179e"
             ],
             [
              0.4444444444444444,
              "#bd3786"
             ],
             [
              0.5555555555555556,
              "#d8576b"
             ],
             [
              0.6666666666666666,
              "#ed7953"
             ],
             [
              0.7777777777777778,
              "#fb9f3a"
             ],
             [
              0.8888888888888888,
              "#fdca26"
             ],
             [
              1.0,
              "#f0f921"
             ]
            ]
           }
          ],
          "heatmap": [
           {
            "type": "heatmap",
            "colorbar": {
             "outlinewidth": 0,
             "ticks": ""
            },
            "colorscale": [
             [
              0.0,
              "#0d0887"
             ],
             [
              0.1111111111111111,
              "#46039f"
             ],
             [
              0.2222222222222222,
              "#7201a8"
             ],
             [
              0.3333333333333333,
              "#9c179e"
             ],
             [
              0.4444444444444444,
              "#bd3786"
             ],
             [
              0.5555555555555556,
              "#d8576b"
             ],
             [
              0.6666666666666666,
              "#ed7953"
             ],
             [
              0.7777777777777778,
              "#fb9f3a"
             ],
             [
              0.8888888888888888,
              "#fdca26"
             ],
             [
              1.0,
              "#f0f921"
             ]
            ]
           }
          ],
          "heatmapgl": [
           {
            "type": "heatmapgl",
            "colorbar": {
             "outlinewidth": 0,
             "ticks": ""
            },
            "colorscale": [
             [
              0.0,
              "#0d0887"
             ],
             [
              0.1111111111111111,
              "#46039f"
             ],
             [
              0.2222222222222222,
              "#7201a8"
             ],
             [
              0.3333333333333333,
              "#9c179e"
             ],
             [
              0.4444444444444444,
              "#bd3786"
             ],
             [
              0.5555555555555556,
              "#d8576b"
             ],
             [
              0.6666666666666666,
              "#ed7953"
             ],
             [
              0.7777777777777778,
              "#fb9f3a"
             ],
             [
              0.8888888888888888,
              "#fdca26"
             ],
             [
              1.0,
              "#f0f921"
             ]
            ]
           }
          ],
          "contourcarpet": [
           {
            "type": "contourcarpet",
            "colorbar": {
             "outlinewidth": 0,
             "ticks": ""
            }
           }
          ],
          "contour": [
           {
            "type": "contour",
            "colorbar": {
             "outlinewidth": 0,
             "ticks": ""
            },
            "colorscale": [
             [
              0.0,
              "#0d0887"
             ],
             [
              0.1111111111111111,
              "#46039f"
             ],
             [
              0.2222222222222222,
              "#7201a8"
             ],
             [
              0.3333333333333333,
              "#9c179e"
             ],
             [
              0.4444444444444444,
              "#bd3786"
             ],
             [
              0.5555555555555556,
              "#d8576b"
             ],
             [
              0.6666666666666666,
              "#ed7953"
             ],
             [
              0.7777777777777778,
              "#fb9f3a"
             ],
             [
              0.8888888888888888,
              "#fdca26"
             ],
             [
              1.0,
              "#f0f921"
             ]
            ]
           }
          ],
          "surface": [
           {
            "type": "surface",
            "colorbar": {
             "outlinewidth": 0,
             "ticks": ""
            },
            "colorscale": [
             [
              0.0,
              "#0d0887"
             ],
             [
              0.1111111111111111,
              "#46039f"
             ],
             [
              0.2222222222222222,
              "#7201a8"
             ],
             [
              0.3333333333333333,
              "#9c179e"
             ],
             [
              0.4444444444444444,
              "#bd3786"
             ],
             [
              0.5555555555555556,
              "#d8576b"
             ],
             [
              0.6666666666666666,
              "#ed7953"
             ],
             [
              0.7777777777777778,
              "#fb9f3a"
             ],
             [
              0.8888888888888888,
              "#fdca26"
             ],
             [
              1.0,
              "#f0f921"
             ]
            ]
           }
          ],
          "mesh3d": [
           {
            "type": "mesh3d",
            "colorbar": {
             "outlinewidth": 0,
             "ticks": ""
            }
           }
          ],
          "scatter": [
           {
            "fillpattern": {
             "fillmode": "overlay",
             "size": 10,
             "solidity": 0.2
            },
            "type": "scatter"
           }
          ],
          "parcoords": [
           {
            "type": "parcoords",
            "line": {
             "colorbar": {
              "outlinewidth": 0,
              "ticks": ""
             }
            }
           }
          ],
          "scatterpolargl": [
           {
            "type": "scatterpolargl",
            "marker": {
             "colorbar": {
              "outlinewidth": 0,
              "ticks": ""
             }
            }
           }
          ],
          "bar": [
           {
            "error_x": {
             "color": "#2a3f5f"
            },
            "error_y": {
             "color": "#2a3f5f"
            },
            "marker": {
             "line": {
              "color": "#E5ECF6",
              "width": 0.5
             },
             "pattern": {
              "fillmode": "overlay",
              "size": 10,
              "solidity": 0.2
             }
            },
            "type": "bar"
           }
          ],
          "scattergeo": [
           {
            "type": "scattergeo",
            "marker": {
             "colorbar": {
              "outlinewidth": 0,
              "ticks": ""
             }
            }
           }
          ],
          "scatterpolar": [
           {
            "type": "scatterpolar",
            "marker": {
             "colorbar": {
              "outlinewidth": 0,
              "ticks": ""
             }
            }
           }
          ],
          "histogram": [
           {
            "marker": {
             "pattern": {
              "fillmode": "overlay",
              "size": 10,
              "solidity": 0.2
             }
            },
            "type": "histogram"
           }
          ],
          "scattergl": [
           {
            "type": "scattergl",
            "marker": {
             "colorbar": {
              "outlinewidth": 0,
              "ticks": ""
             }
            }
           }
          ],
          "scatter3d": [
           {
            "type": "scatter3d",
            "line": {
             "colorbar": {
              "outlinewidth": 0,
              "ticks": ""
             }
            },
            "marker": {
             "colorbar": {
              "outlinewidth": 0,
              "ticks": ""
             }
            }
           }
          ],
          "scattermapbox": [
           {
            "type": "scattermapbox",
            "marker": {
             "colorbar": {
              "outlinewidth": 0,
              "ticks": ""
             }
            }
           }
          ],
          "scatterternary": [
           {
            "type": "scatterternary",
            "marker": {
             "colorbar": {
              "outlinewidth": 0,
              "ticks": ""
             }
            }
           }
          ],
          "scattercarpet": [
           {
            "type": "scattercarpet",
            "marker": {
             "colorbar": {
              "outlinewidth": 0,
              "ticks": ""
             }
            }
           }
          ],
          "carpet": [
           {
            "aaxis": {
             "endlinecolor": "#2a3f5f",
             "gridcolor": "white",
             "linecolor": "white",
             "minorgridcolor": "white",
             "startlinecolor": "#2a3f5f"
            },
            "baxis": {
             "endlinecolor": "#2a3f5f",
             "gridcolor": "white",
             "linecolor": "white",
             "minorgridcolor": "white",
             "startlinecolor": "#2a3f5f"
            },
            "type": "carpet"
           }
          ],
          "table": [
           {
            "cells": {
             "fill": {
              "color": "#EBF0F8"
             },
             "line": {
              "color": "white"
             }
            },
            "header": {
             "fill": {
              "color": "#C8D4E3"
             },
             "line": {
              "color": "white"
             }
            },
            "type": "table"
           }
          ],
          "barpolar": [
           {
            "marker": {
             "line": {
              "color": "#E5ECF6",
              "width": 0.5
             },
             "pattern": {
              "fillmode": "overlay",
              "size": 10,
              "solidity": 0.2
             }
            },
            "type": "barpolar"
           }
          ],
          "pie": [
           {
            "automargin": true,
            "type": "pie"
           }
          ]
         },
         "layout": {
          "autotypenumbers": "strict",
          "colorway": [
           "#636efa",
           "#EF553B",
           "#00cc96",
           "#ab63fa",
           "#FFA15A",
           "#19d3f3",
           "#FF6692",
           "#B6E880",
           "#FF97FF",
           "#FECB52"
          ],
          "font": {
           "color": "#2a3f5f"
          },
          "hovermode": "closest",
          "hoverlabel": {
           "align": "left"
          },
          "paper_bgcolor": "white",
          "plot_bgcolor": "#E5ECF6",
          "polar": {
           "bgcolor": "#E5ECF6",
           "angularaxis": {
            "gridcolor": "white",
            "linecolor": "white",
            "ticks": ""
           },
           "radialaxis": {
            "gridcolor": "white",
            "linecolor": "white",
            "ticks": ""
           }
          },
          "ternary": {
           "bgcolor": "#E5ECF6",
           "aaxis": {
            "gridcolor": "white",
            "linecolor": "white",
            "ticks": ""
           },
           "baxis": {
            "gridcolor": "white",
            "linecolor": "white",
            "ticks": ""
           },
           "caxis": {
            "gridcolor": "white",
            "linecolor": "white",
            "ticks": ""
           }
          },
          "coloraxis": {
           "colorbar": {
            "outlinewidth": 0,
            "ticks": ""
           }
          },
          "colorscale": {
           "sequential": [
            [
             0.0,
             "#0d0887"
            ],
            [
             0.1111111111111111,
             "#46039f"
            ],
            [
             0.2222222222222222,
             "#7201a8"
            ],
            [
             0.3333333333333333,
             "#9c179e"
            ],
            [
             0.4444444444444444,
             "#bd3786"
            ],
            [
             0.5555555555555556,
             "#d8576b"
            ],
            [
             0.6666666666666666,
             "#ed7953"
            ],
            [
             0.7777777777777778,
             "#fb9f3a"
            ],
            [
             0.8888888888888888,
             "#fdca26"
            ],
            [
             1.0,
             "#f0f921"
            ]
           ],
           "sequentialminus": [
            [
             0.0,
             "#0d0887"
            ],
            [
             0.1111111111111111,
             "#46039f"
            ],
            [
             0.2222222222222222,
             "#7201a8"
            ],
            [
             0.3333333333333333,
             "#9c179e"
            ],
            [
             0.4444444444444444,
             "#bd3786"
            ],
            [
             0.5555555555555556,
             "#d8576b"
            ],
            [
             0.6666666666666666,
             "#ed7953"
            ],
            [
             0.7777777777777778,
             "#fb9f3a"
            ],
            [
             0.8888888888888888,
             "#fdca26"
            ],
            [
             1.0,
             "#f0f921"
            ]
           ],
           "diverging": [
            [
             0,
             "#8e0152"
            ],
            [
             0.1,
             "#c51b7d"
            ],
            [
             0.2,
             "#de77ae"
            ],
            [
             0.3,
             "#f1b6da"
            ],
            [
             0.4,
             "#fde0ef"
            ],
            [
             0.5,
             "#f7f7f7"
            ],
            [
             0.6,
             "#e6f5d0"
            ],
            [
             0.7,
             "#b8e186"
            ],
            [
             0.8,
             "#7fbc41"
            ],
            [
             0.9,
             "#4d9221"
            ],
            [
             1,
             "#276419"
            ]
           ]
          },
          "xaxis": {
           "gridcolor": "white",
           "linecolor": "white",
           "ticks": "",
           "title": {
            "standoff": 15
           },
           "zerolinecolor": "white",
           "automargin": true,
           "zerolinewidth": 2
          },
          "yaxis": {
           "gridcolor": "white",
           "linecolor": "white",
           "ticks": "",
           "title": {
            "standoff": 15
           },
           "zerolinecolor": "white",
           "automargin": true,
           "zerolinewidth": 2
          },
          "scene": {
           "xaxis": {
            "backgroundcolor": "#E5ECF6",
            "gridcolor": "white",
            "linecolor": "white",
            "showbackground": true,
            "ticks": "",
            "zerolinecolor": "white",
            "gridwidth": 2
           },
           "yaxis": {
            "backgroundcolor": "#E5ECF6",
            "gridcolor": "white",
            "linecolor": "white",
            "showbackground": true,
            "ticks": "",
            "zerolinecolor": "white",
            "gridwidth": 2
           },
           "zaxis": {
            "backgroundcolor": "#E5ECF6",
            "gridcolor": "white",
            "linecolor": "white",
            "showbackground": true,
            "ticks": "",
            "zerolinecolor": "white",
            "gridwidth": 2
           }
          },
          "shapedefaults": {
           "line": {
            "color": "#2a3f5f"
           }
          },
          "annotationdefaults": {
           "arrowcolor": "#2a3f5f",
           "arrowhead": 0,
           "arrowwidth": 1
          },
          "geo": {
           "bgcolor": "white",
           "landcolor": "#E5ECF6",
           "subunitcolor": "white",
           "showland": true,
           "showlakes": true,
           "lakecolor": "white"
          },
          "title": {
           "x": 0.05
          },
          "mapbox": {
           "style": "light"
          }
         }
        },
        "xaxis": {
         "anchor": "y",
         "domain": [
          0.0,
          1.0
         ],
         "title": {
          "text": "x"
         }
        },
        "yaxis": {
         "anchor": "x",
         "domain": [
          0.0,
          1.0
         ],
         "title": {
          "text": "y"
         }
        },
        "legend": {
         "title": {
          "text": "language"
         },
         "tracegroupgap": 0
        },
        "title": {
         "text": "Embedding Visualization"
        }
       },
       "config": {
        "plotlyServerURL": "https://plot.ly"
       }
      },
      "text/html": [
       "<div>                            <div id=\"1f16f5ef-0ae1-4de6-9a8a-95fa98d1374e\" class=\"plotly-graph-div\" style=\"height:525px; width:100%;\"></div>            <script type=\"text/javascript\">                require([\"plotly\"], function(Plotly) {                    window.PLOTLYENV=window.PLOTLYENV || {};                                    if (document.getElementById(\"1f16f5ef-0ae1-4de6-9a8a-95fa98d1374e\")) {                    Plotly.newPlot(                        \"1f16f5ef-0ae1-4de6-9a8a-95fa98d1374e\",                        [{\"customdata\":[[\"parallel_data\\u002fen-Trac\",\"en\",\"0\"],[\"parallel_data\\u002fen-Trac\",\"en\",\"1\"],[\"parallel_data\\u002fen-Trac\",\"en\",\"2\"],[\"parallel_data\\u002fen-Trac\",\"en\",\"3\"],[\"parallel_data\\u002fen-Trac\",\"en\",\"4\"],[\"parallel_data\\u002fen-Trac\",\"en\",\"5\"],[\"parallel_data\\u002fen-Trac\",\"en\",\"6\"],[\"parallel_data\\u002fen-Trac\",\"en\",\"7\"],[\"parallel_data\\u002fen-Trac\",\"en\",\"8\"],[\"parallel_data\\u002fen-Trac\",\"en\",\"9\"],[\"parallel_data\\u002fen-Trac\",\"en\",\"10\"],[\"parallel_data\\u002fen-Trac\",\"en\",\"11\"],[\"parallel_data\\u002fen-Trac\",\"en\",\"12\"],[\"parallel_data\\u002fen-Trac\",\"en\",\"13\"],[\"parallel_data\\u002fen-Trac\",\"en\",\"14\"],[\"parallel_data\\u002fen-Trac\",\"en\",\"15\"],[\"parallel_data\\u002fen-Trac\",\"en\",\"16\"],[\"parallel_data\\u002fen-Trac\",\"en\",\"17\"],[\"parallel_data\\u002fen-Trac\",\"en\",\"18\"],[\"parallel_data\\u002fen-Trac\",\"en\",\"19\"],[\"parallel_data\\u002fen-Trac\",\"en\",\"20\"],[\"parallel_data\\u002fen-Trac\",\"en\",\"21\"],[\"parallel_data\\u002fen-Trac\",\"en\",\"22\"],[\"parallel_data\\u002fen-Trac\",\"en\",\"23\"],[\"parallel_data\\u002fen-Trac\",\"en\",\"24\"],[\"parallel_data\\u002fen-Trac\",\"en\",\"25\"],[\"parallel_data\\u002fen-Trac\",\"en\",\"26\"],[\"parallel_data\\u002fen-Trac\",\"en\",\"27\"],[\"parallel_data\\u002fen-Trac\",\"en\",\"28\"],[\"parallel_data\\u002fen-Trac\",\"en\",\"29\"],[\"parallel_data\\u002fen-Trac\",\"en\",\"30\"],[\"parallel_data\\u002fen-Trac\",\"en\",\"31\"],[\"parallel_data\\u002fen-Trac\",\"en\",\"32\"],[\"parallel_data\\u002fen-Trac\",\"en\",\"33\"],[\"parallel_data\\u002fen-Trac\",\"en\",\"34\"],[\"parallel_data\\u002fen-Trac\",\"en\",\"35\"],[\"parallel_data\\u002fen-Trac\",\"en\",\"36\"],[\"parallel_data\\u002fen-Trac\",\"en\",\"37\"],[\"parallel_data\\u002fen-Trac\",\"en\",\"38\"],[\"parallel_data\\u002fen-Trac\",\"en\",\"39\"],[\"parallel_data\\u002fen-Trac\",\"en\",\"40\"],[\"parallel_data\\u002fen-Trac\",\"en\",\"41\"],[\"parallel_data\\u002fen-Trac\",\"en\",\"42\"],[\"parallel_data\\u002fen-Trac\",\"en\",\"43\"],[\"parallel_data\\u002fen-Trac\",\"en\",\"44\"],[\"parallel_data\\u002fen-Trac\",\"en\",\"45\"],[\"parallel_data\\u002fen-Trac\",\"en\",\"46\"],[\"parallel_data\\u002fen-Trac\",\"en\",\"47\"],[\"parallel_data\\u002fen-Trac\",\"en\",\"48\"],[\"parallel_data\\u002fen-Trac\",\"en\",\"49\"],[\"parallel_data\\u002fen-Trac\",\"en\",\"50\"],[\"parallel_data\\u002fen-Trac\",\"en\",\"51\"],[\"parallel_data\\u002fen-Trac\",\"en\",\"52\"],[\"parallel_data\\u002fen-Trac\",\"en\",\"53\"],[\"parallel_data\\u002fen-Trac\",\"en\",\"54\"],[\"parallel_data\\u002fen-Trac\",\"en\",\"55\"],[\"parallel_data\\u002fen-Trac\",\"en\",\"56\"],[\"parallel_data\\u002fen-Trac\",\"en\",\"57\"],[\"parallel_data\\u002fen-Trac\",\"en\",\"58\"],[\"parallel_data\\u002fen-Trac\",\"en\",\"59\"],[\"parallel_data\\u002fen-Trac\",\"en\",\"60\"],[\"parallel_data\\u002fen-Trac\",\"en\",\"61\"],[\"parallel_data\\u002fen-Trac\",\"en\",\"62\"],[\"parallel_data\\u002fen-Trac\",\"en\",\"63\"],[\"parallel_data\\u002fen-Trac\",\"en\",\"64\"],[\"parallel_data\\u002fen-Trac\",\"en\",\"65\"],[\"parallel_data\\u002fen-Trac\",\"en\",\"66\"],[\"parallel_data\\u002fen-Trac\",\"en\",\"67\"],[\"parallel_data\\u002fen-Trac\",\"en\",\"68\"],[\"parallel_data\\u002fen-Trac\",\"en\",\"69\"],[\"parallel_data\\u002fen-Trac\",\"en\",\"70\"],[\"parallel_data\\u002fen-Trac\",\"en\",\"71\"],[\"parallel_data\\u002fen-Trac\",\"en\",\"72\"],[\"parallel_data\\u002fen-Trac\",\"en\",\"73\"],[\"parallel_data\\u002fen-Trac\",\"en\",\"74\"],[\"parallel_data\\u002fen-Trac\",\"en\",\"75\"],[\"parallel_data\\u002fen-Trac\",\"en\",\"76\"],[\"parallel_data\\u002fen-Trac\",\"en\",\"77\"],[\"parallel_data\\u002fen-Trac\",\"en\",\"78\"],[\"parallel_data\\u002fen-Trac\",\"en\",\"79\"],[\"parallel_data\\u002fen-Trac\",\"en\",\"80\"],[\"parallel_data\\u002fen-Trac\",\"en\",\"81\"],[\"parallel_data\\u002fen-Trac\",\"en\",\"82\"],[\"parallel_data\\u002fen-Trac\",\"en\",\"83\"],[\"parallel_data\\u002fen-Trac\",\"en\",\"84\"],[\"parallel_data\\u002fen-Trac\",\"en\",\"85\"],[\"parallel_data\\u002fen-Trac\",\"en\",\"86\"],[\"parallel_data\\u002fen-Trac\",\"en\",\"87\"],[\"parallel_data\\u002fen-Trac\",\"en\",\"88\"],[\"parallel_data\\u002fen-Trac\",\"en\",\"89\"],[\"parallel_data\\u002fen-Trac\",\"en\",\"90\"],[\"parallel_data\\u002fen-Trac\",\"en\",\"91\"],[\"parallel_data\\u002fen-Trac\",\"en\",\"92\"],[\"parallel_data\\u002fen-Trac\",\"en\",\"93\"],[\"parallel_data\\u002fen-Trac\",\"en\",\"94\"],[\"parallel_data\\u002fen-Trac\",\"en\",\"95\"],[\"parallel_data\\u002fen-Trac\",\"en\",\"96\"],[\"parallel_data\\u002fen-Trac\",\"en\",\"97\"],[\"parallel_data\\u002fen-Trac\",\"en\",\"98\"],[\"parallel_data\\u002fen-Trac\",\"en\",\"99\"],[\"parallel_data\\u002fen-Trac\",\"en\",\"100\"],[\"parallel_data\\u002fen-Trac\",\"en\",\"101\"],[\"parallel_data\\u002fen-Trac\",\"en\",\"102\"],[\"parallel_data\\u002fen-Trac\",\"en\",\"103\"],[\"parallel_data\\u002fen-Trac\",\"en\",\"104\"],[\"parallel_data\\u002fen-Trac\",\"en\",\"105\"],[\"parallel_data\\u002fen-Trac\",\"en\",\"106\"],[\"parallel_data\\u002fen-Trac\",\"en\",\"107\"],[\"parallel_data\\u002fen-Trac\",\"en\",\"108\"],[\"parallel_data\\u002fen-Trac\",\"en\",\"109\"],[\"parallel_data\\u002fen-Trac\",\"en\",\"110\"],[\"parallel_data\\u002fen-Trac\",\"en\",\"111\"],[\"parallel_data\\u002fen-Trac\",\"en\",\"112\"],[\"parallel_data\\u002fen-Trac\",\"en\",\"113\"],[\"parallel_data\\u002fen-Trac\",\"en\",\"114\"],[\"parallel_data\\u002fen-Trac\",\"en\",\"115\"],[\"parallel_data\\u002fen-Trac\",\"en\",\"116\"],[\"parallel_data\\u002fen-Trac\",\"en\",\"117\"],[\"parallel_data\\u002fen-Trac\",\"en\",\"118\"],[\"parallel_data\\u002fen-Trac\",\"en\",\"119\"],[\"parallel_data\\u002fen-Trac\",\"en\",\"120\"],[\"parallel_data\\u002fen-Trac\",\"en\",\"121\"],[\"parallel_data\\u002fen-Trac\",\"en\",\"122\"],[\"parallel_data\\u002fen-Trac\",\"en\",\"123\"],[\"parallel_data\\u002fen-Trac\",\"en\",\"124\"],[\"parallel_data\\u002fen-Trac\",\"en\",\"125\"],[\"parallel_data\\u002fen-Trac\",\"en\",\"126\"],[\"parallel_data\\u002fen-Trac\",\"en\",\"127\"],[\"parallel_data\\u002fen-Trac\",\"en\",\"128\"],[\"parallel_data\\u002fen-Trac\",\"en\",\"129\"],[\"parallel_data\\u002fen-Trac\",\"en\",\"130\"],[\"parallel_data\\u002fen-Trac\",\"en\",\"131\"],[\"parallel_data\\u002fen-Trac\",\"en\",\"132\"],[\"parallel_data\\u002fen-Trac\",\"en\",\"133\"],[\"parallel_data\\u002fen-Trac\",\"en\",\"134\"],[\"parallel_data\\u002fen-Trac\",\"en\",\"135\"],[\"parallel_data\\u002fen-Trac\",\"en\",\"136\"],[\"parallel_data\\u002fen-Trac\",\"en\",\"137\"],[\"parallel_data\\u002fen-Trac\",\"en\",\"138\"],[\"parallel_data\\u002fen-Trac\",\"en\",\"139\"],[\"parallel_data\\u002fen-Trac\",\"en\",\"140\"],[\"parallel_data\\u002fen-Trac\",\"en\",\"141\"],[\"parallel_data\\u002fen-Trac\",\"en\",\"142\"],[\"parallel_data\\u002fen-Trac\",\"en\",\"143\"],[\"parallel_data\\u002fen-Trac\",\"en\",\"144\"],[\"parallel_data\\u002fen-Trac\",\"en\",\"145\"],[\"parallel_data\\u002fen-Trac\",\"en\",\"146\"],[\"parallel_data\\u002fen-Trac\",\"en\",\"147\"],[\"parallel_data\\u002fen-Trac\",\"en\",\"148\"],[\"parallel_data\\u002fen-Trac\",\"en\",\"149\"],[\"parallel_data\\u002fen-Trac\",\"en\",\"150\"],[\"parallel_data\\u002fen-Trac\",\"en\",\"151\"],[\"parallel_data\\u002fen-Trac\",\"en\",\"152\"],[\"parallel_data\\u002fen-Trac\",\"en\",\"153\"],[\"parallel_data\\u002fen-Trac\",\"en\",\"154\"],[\"parallel_data\\u002fen-Trac\",\"en\",\"155\"],[\"parallel_data\\u002fen-Trac\",\"en\",\"156\"],[\"parallel_data\\u002fen-Trac\",\"en\",\"157\"],[\"parallel_data\\u002fen-Trac\",\"en\",\"158\"],[\"parallel_data\\u002fen-Trac\",\"en\",\"159\"],[\"parallel_data\\u002fen-Trac\",\"en\",\"160\"],[\"parallel_data\\u002fen-Trac\",\"en\",\"161\"],[\"parallel_data\\u002fen-Trac\",\"en\",\"162\"],[\"parallel_data\\u002fen-Trac\",\"en\",\"163\"],[\"parallel_data\\u002fen-Trac\",\"en\",\"164\"],[\"parallel_data\\u002fen-Trac\",\"en\",\"165\"],[\"parallel_data\\u002fen-Trac\",\"en\",\"166\"],[\"parallel_data\\u002fen-Trac\",\"en\",\"167\"],[\"parallel_data\\u002fen-Trac\",\"en\",\"168\"],[\"parallel_data\\u002fen-Trac\",\"en\",\"169\"],[\"parallel_data\\u002fen-Trac\",\"en\",\"170\"],[\"parallel_data\\u002fen-Trac\",\"en\",\"171\"],[\"parallel_data\\u002fen-Trac\",\"en\",\"172\"],[\"parallel_data\\u002fen-Trac\",\"en\",\"173\"],[\"parallel_data\\u002fen-Trac\",\"en\",\"174\"],[\"parallel_data\\u002fen-Trac\",\"en\",\"175\"],[\"parallel_data\\u002fen-Trac\",\"en\",\"176\"],[\"parallel_data\\u002fen-Trac\",\"en\",\"177\"],[\"parallel_data\\u002fen-Trac\",\"en\",\"178\"],[\"parallel_data\\u002fen-Trac\",\"en\",\"179\"],[\"parallel_data\\u002fen-Trac\",\"en\",\"180\"],[\"parallel_data\\u002fen-Trac\",\"en\",\"181\"],[\"parallel_data\\u002fen-Trac\",\"en\",\"182\"],[\"parallel_data\\u002fen-Trac\",\"en\",\"183\"],[\"parallel_data\\u002fen-Trac\",\"en\",\"184\"],[\"parallel_data\\u002fen-Trac\",\"en\",\"185\"],[\"parallel_data\\u002fen-Trac\",\"en\",\"186\"],[\"parallel_data\\u002fen-Trac\",\"en\",\"187\"],[\"parallel_data\\u002fen-Trac\",\"en\",\"188\"],[\"parallel_data\\u002fen-Trac\",\"en\",\"189\"],[\"parallel_data\\u002fen-Trac\",\"en\",\"190\"],[\"parallel_data\\u002fen-Trac\",\"en\",\"191\"],[\"parallel_data\\u002fen-Trac\",\"en\",\"192\"],[\"parallel_data\\u002fen-Trac\",\"en\",\"193\"],[\"parallel_data\\u002fen-Trac\",\"en\",\"194\"],[\"parallel_data\\u002fen-Trac\",\"en\",\"195\"],[\"parallel_data\\u002fen-Trac\",\"en\",\"196\"],[\"parallel_data\\u002fen-Trac\",\"en\",\"197\"],[\"parallel_data\\u002fen-Trac\",\"en\",\"198\"],[\"parallel_data\\u002fen-Trac\",\"en\",\"199\"],[\"parallel_data\\u002fen-Trac\",\"en\",\"200\"],[\"parallel_data\\u002fen-Trac\",\"en\",\"201\"],[\"parallel_data\\u002fen-Trac\",\"en\",\"202\"],[\"parallel_data\\u002fen-Trac\",\"en\",\"203\"],[\"parallel_data\\u002fen-Trac\",\"en\",\"204\"],[\"parallel_data\\u002fen-Trac\",\"en\",\"205\"],[\"parallel_data\\u002fen-Trac\",\"en\",\"206\"],[\"parallel_data\\u002fen-Trac\",\"en\",\"207\"],[\"parallel_data\\u002fen-Trac\",\"en\",\"208\"],[\"parallel_data\\u002fen-Trac\",\"en\",\"209\"],[\"parallel_data\\u002fen-Trac\",\"en\",\"210\"],[\"parallel_data\\u002fen-Trac\",\"en\",\"211\"],[\"parallel_data\\u002fen-Trac\",\"en\",\"212\"],[\"parallel_data\\u002fen-Trac\",\"en\",\"213\"],[\"parallel_data\\u002fen-Trac\",\"en\",\"214\"],[\"parallel_data\\u002fen-Trac\",\"en\",\"215\"],[\"parallel_data\\u002fen-Trac\",\"en\",\"216\"],[\"parallel_data\\u002fen-Trac\",\"en\",\"217\"],[\"parallel_data\\u002fen-Trac\",\"en\",\"218\"],[\"parallel_data\\u002fen-Trac\",\"en\",\"219\"],[\"parallel_data\\u002fen-Trac\",\"en\",\"220\"],[\"parallel_data\\u002fen-Trac\",\"en\",\"221\"],[\"parallel_data\\u002fen-Trac\",\"en\",\"222\"],[\"parallel_data\\u002fen-Trac\",\"en\",\"223\"],[\"parallel_data\\u002fen-Trac\",\"en\",\"224\"],[\"parallel_data\\u002fen-Trac\",\"en\",\"225\"],[\"parallel_data\\u002fen-Trac\",\"en\",\"226\"],[\"parallel_data\\u002fen-Trac\",\"en\",\"227\"],[\"parallel_data\\u002fen-Trac\",\"en\",\"228\"],[\"parallel_data\\u002fen-Trac\",\"en\",\"229\"],[\"parallel_data\\u002fen-Trac\",\"en\",\"230\"],[\"parallel_data\\u002fen-Trac\",\"en\",\"231\"],[\"parallel_data\\u002fen-Trac\",\"en\",\"232\"],[\"parallel_data\\u002fen-Trac\",\"en\",\"233\"],[\"parallel_data\\u002fen-Trac\",\"en\",\"234\"],[\"parallel_data\\u002fen-Trac\",\"en\",\"235\"],[\"parallel_data\\u002fen-Trac\",\"en\",\"236\"],[\"parallel_data\\u002fen-Trac\",\"en\",\"237\"],[\"parallel_data\\u002fen-Trac\",\"en\",\"238\"],[\"parallel_data\\u002fen-Trac\",\"en\",\"239\"],[\"parallel_data\\u002fen-Trac\",\"en\",\"240\"],[\"parallel_data\\u002fen-Trac\",\"en\",\"241\"],[\"parallel_data\\u002fen-Trac\",\"en\",\"242\"],[\"parallel_data\\u002fen-Trac\",\"en\",\"243\"],[\"parallel_data\\u002fen-Trac\",\"en\",\"244\"],[\"parallel_data\\u002fen-Trac\",\"en\",\"245\"],[\"parallel_data\\u002fen-Trac\",\"en\",\"246\"],[\"parallel_data\\u002fen-Trac\",\"en\",\"247\"],[\"parallel_data\\u002fen-Trac\",\"en\",\"248\"],[\"parallel_data\\u002fen-Trac\",\"en\",\"249\"],[\"parallel_data\\u002fen-Trac\",\"en\",\"250\"],[\"parallel_data\\u002fen-Trac\",\"en\",\"251\"],[\"parallel_data\\u002fen-Trac\",\"en\",\"252\"],[\"parallel_data\\u002fen-Trac\",\"en\",\"253\"],[\"parallel_data\\u002fen-Trac\",\"en\",\"254\"],[\"parallel_data\\u002fen-Trac\",\"en\",\"255\"],[\"parallel_data\\u002fen-Trac\",\"en\",\"256\"],[\"parallel_data\\u002fen-Trac\",\"en\",\"257\"],[\"parallel_data\\u002fen-Trac\",\"en\",\"258\"],[\"parallel_data\\u002fen-Trac\",\"en\",\"259\"],[\"parallel_data\\u002fen-Trac\",\"en\",\"260\"],[\"parallel_data\\u002fen-Trac\",\"en\",\"261\"],[\"parallel_data\\u002fen-Trac\",\"en\",\"262\"],[\"parallel_data\\u002fen-Trac\",\"en\",\"263\"],[\"parallel_data\\u002fen-Trac\",\"en\",\"264\"],[\"parallel_data\\u002fen-Trac\",\"en\",\"265\"],[\"parallel_data\\u002fen-Trac\",\"en\",\"266\"],[\"parallel_data\\u002fen-Trac\",\"en\",\"267\"],[\"parallel_data\\u002fen-Trac\",\"en\",\"268\"],[\"parallel_data\\u002fen-Trac\",\"en\",\"269\"],[\"parallel_data\\u002fen-Trac\",\"en\",\"270\"],[\"parallel_data\\u002fen-Trac\",\"en\",\"271\"],[\"parallel_data\\u002fen-Trac\",\"en\",\"272\"],[\"parallel_data\\u002fen-Trac\",\"en\",\"273\"],[\"parallel_data\\u002fen-Trac\",\"en\",\"274\"],[\"parallel_data\\u002fen-Trac\",\"en\",\"275\"],[\"parallel_data\\u002fen-Trac\",\"en\",\"276\"],[\"parallel_data\\u002fen-Trac\",\"en\",\"277\"],[\"parallel_data\\u002fen-Trac\",\"en\",\"278\"],[\"parallel_data\\u002fen-Trac\",\"en\",\"279\"],[\"parallel_data\\u002fen-Trac\",\"en\",\"280\"],[\"parallel_data\\u002fen-Trac\",\"en\",\"281\"],[\"parallel_data\\u002fen-Trac\",\"en\",\"282\"],[\"parallel_data\\u002fen-Trac\",\"en\",\"283\"],[\"parallel_data\\u002fen-Trac\",\"en\",\"284\"],[\"parallel_data\\u002fen-Trac\",\"en\",\"285\"],[\"parallel_data\\u002fen-Trac\",\"en\",\"286\"],[\"parallel_data\\u002fen-Trac\",\"en\",\"287\"],[\"parallel_data\\u002fen-Trac\",\"en\",\"288\"],[\"parallel_data\\u002fen-Trac\",\"en\",\"289\"],[\"parallel_data\\u002fen-Trac\",\"en\",\"290\"],[\"parallel_data\\u002fen-Trac\",\"en\",\"291\"],[\"parallel_data\\u002fen-Trac\",\"en\",\"292\"],[\"parallel_data\\u002fen-Trac\",\"en\",\"293\"],[\"parallel_data\\u002fen-Trac\",\"en\",\"294\"],[\"parallel_data\\u002fen-Trac\",\"en\",\"295\"],[\"parallel_data\\u002fen-Trac\",\"en\",\"296\"],[\"parallel_data\\u002fen-Trac\",\"en\",\"297\"],[\"parallel_data\\u002fen-Trac\",\"en\",\"298\"],[\"parallel_data\\u002fen-Trac\",\"en\",\"299\"]],\"hovertemplate\":\"language=%{customdata[1]}\\u003cbr\\u003ex=%{x}\\u003cbr\\u003ey=%{y}\\u003cbr\\u003edataset_name=%{customdata[0]}\\u003cbr\\u003eid=%{customdata[2]}\\u003cextra\\u003e\\u003c\\u002fextra\\u003e\",\"legendgroup\":\"en\",\"marker\":{\"color\":\"#636efa\",\"symbol\":\"circle\"},\"mode\":\"markers\",\"name\":\"en\",\"showlegend\":true,\"x\":[6.9238496,-20.717527,-6.596592,-35.9048,-44.0353,19.223593,-46.865738,-20.204546,-7.0257564,-16.994398,-22.536541,25.700195,-23.73596,32.270977,-14.332566,25.789843,-38.483616,33.830307,-54.04505,13.193857,-23.789995,17.8578,5.2339253,-24.382357,-21.381214,0.14371186,19.309027,33.970116,-15.333619,-20.11502,-10.361199,-20.881224,41.396336,-22.339834,-44.347027,27.637732,-16.169872,3.9516673,-4.69436,-28.880846,9.426611,-12.85862,-10.913966,-27.494038,2.8352726,-38.68968,12.800386,-12.267987,-7.2723675,-38.718815,31.80108,0.2559365,8.536007,-6.1563673,37.590965,10.413547,50.023563,6.0006833,-1.7566673,38.356434,-3.516076,-12.362156,21.589296,-28.51423,4.621667,3.1026227,-9.353566,35.659004,-31.609406,-17.415955,40.65163,33.04345,24.534208,38.565838,-28.01449,22.697052,-28.105522,0.83672637,45.84406,-10.139473,-1.4568357,-0.2686299,-7.1379447,-16.749084,-17.804752,24.513002,41.22128,-47.14756,29.84176,25.021502,-17.406832,29.977026,-1.8474672,32.478725,15.862654,-8.466794,-16.516184,23.589405,-53.84181,-15.4173565,47.36729,7.924781,20.352785,10.615584,-2.4476104,10.092482,-8.386528,-33.35963,1.9459928,-5.7229815,-17.946306,-7.51801,46.491467,-9.673165,19.639217,-13.450369,3.0291939,45.547237,-19.455877,42.864395,0.4854275,-26.892878,11.242055,-21.229483,46.68732,-50.066338,15.1661,-13.295043,18.863012,-11.271098,11.679697,30.952965,29.768427,-41.062588,27.654478,-3.583471,13.565433,-3.0766108,-12.493276,-9.043892,-28.748503,-4.076547,2.502237,10.578093,5.759685,-35.588642,41.875526,-49.804474,-59.591038,-28.198824,5.2692647,34.63989,2.523255,41.288,-8.66266,38.993618,40.88454,27.41637,37.34027,-18.203205,15.834191,-10.800367,14.119754,-24.444391,-39.19376,-25.495329,15.524567,-44.392017,14.008336,10.67306,10.789077,-28.507635,21.627934,24.83312,-25.048487,13.279993,22.75047,33.27692,-2.5005138,-4.6142445,53.30766,-30.67496,-39.468758,-1.9853646,-23.23011,-0.08889552,20.151861,19.444372,6.2522707,16.96524,-19.44075,41.084297,41.49004,7.2499385,-52.795322,6.545089,23.610136,-3.8907962,-16.261042,-30.169746,-24.9927,-41.551353,-30.137764,-33.066216,27.397276,-16.748627,-19.240461,-6.307941,21.073639,-33.25194,32.153152,7.042884,-43.046215,13.04609,-51.03159,-0.3895512,15.46933,23.469889,7.825322,53.120678,-32.80963,-34.065006,43.054016,43.37517,-0.07619396,-8.988836,1.9137242,15.990801,46.390274,27.89379,-13.094378,-1.0111395,19.898983,13.268062,-46.64839,-50.184223,-10.593209,1.8874958,-5.581939,-4.854762,19.203493,25.270222,-29.427315,-14.101096,22.387152,4.7477775,-46.732407,-30.962566,34.04372,-40.454197,2.9751244,9.544645,-23.990921,-5.6585584,-23.872793,-33.12702,-20.774315,26.388596,-27.910376,12.3509445,21.23763,-35.86704,-26.963057,4.444571,-20.183031,-53.552917,-21.334715,-31.961525,-25.905167,16.904434,-22.66411,53.23985,11.645294,10.291828,-26.631893,38.647884,17.80457,25.2355,-22.265589,20.096798,37.67476,10.985576,14.818791,36.660507,-26.438854,35.86573,38.770035,6.614218,39.497948,19.49737,-28.714638,-34.167583,-42.41152,-16.348215,-0.30927342,18.268816,52.35285,-5.0403886,-9.339701,-3.7541003],\"xaxis\":\"x\",\"y\":[21.236769,35.04212,26.721231,-16.612125,-33.999996,54.703575,-38.985752,-27.841404,21.648216,-37.413067,18.83157,-38.630337,32.86928,-46.769497,4.8909736,-29.910847,-33.944424,29.82987,-13.973815,29.651781,-22.812063,-11.440523,12.305497,-27.387093,28.6785,-12.952639,32.95693,44.21335,21.978127,-21.222334,6.541619,8.043768,-1.2683232,-12.500363,-11.721923,6.0230565,-32.078594,-40.74528,17.777876,-0.27267322,13.040414,-6.172965,0.616896,-29.754461,10.263319,-45.41662,-13.239145,-20.511465,31.498013,32.27338,-1.3489547,53.650955,-37.217205,-21.300491,-28.00279,-31.413918,10.437056,-22.927069,14.976666,36.2945,29.354479,-33.829716,14.851547,-15.5040865,6.2688193,-25.821297,11.820841,10.689342,25.716534,30.657,-4.89836,-36.66633,17.490826,17.202778,23.434658,6.9970016,55.882572,-7.500599,-8.574025,18.661678,8.907868,-2.6274002,41.06128,-23.830029,25.148983,46.42553,21.609087,-20.045162,-18.883272,-15.460223,49.97656,6.7863636,39.7694,4.0122833,-19.399103,-42.347824,43.823235,-26.94829,-27.86248,9.863025,-15.24516,38.346752,-43.437428,43.70401,-53.38197,4.370871,-17.846737,15.097536,-50.621456,36.036976,-18.91061,-25.96476,3.931408,27.193966,25.823292,-48.093716,1.6265404,-2.2081032,-15.551174,19.241507,19.724308,29.011242,-9.805742,23.408766,12.446637,-27.296282,-28.315363,15.464497,46.00403,24.317215,-23.163746,17.72791,12.086415,-21.329895,-28.212664,22.278631,22.53739,-49.15883,30.71725,50.21944,7.1553626,48.38465,5.4404945,48.150906,26.157242,-38.143066,-37.642815,-43.586357,-20.338297,-21.17608,16.040993,-6.8626013,-18.563858,7.1805387,-0.8893535,-8.231554,12.391286,24.16441,6.312133,18.671015,44.268414,43.842884,-8.523898,25.0467,2.4094746,20.81712,-2.411551,-44.58889,2.7702253,-0.8749068,-5.147219,-8.772441,-40.182976,10.024647,38.07852,17.915016,-9.640654,35.942513,-38.135056,-13.982828,3.7235374,20.407686,-40.512848,35.77755,16.305658,-50.82794,39.50066,1.4956062,-13.411595,-23.967728,2.2625477,-22.162907,2.4603837,32.31184,-9.102512,-8.652811,-5.428969,-6.285415,-11.56942,-25.39039,-7.457014,-29.816065,-36.832623,-45.78398,-8.774203,38.4311,12.390647,14.379342,-52.588184,-21.851583,-13.165245,52.85278,-26.456137,-35.000473,-33.845284,3.0257392,9.00158,-20.127434,9.052627,-2.9982438,7.4877067,41.027332,28.020792,22.737068,-29.876486,37.2508,-46.897964,42.911312,25.955132,-3.9509163,-27.886955,24.762405,-34.482994,37.010853,6.125189,17.477098,-12.8916,30.316607,7.891887,3.2177787,-3.4421844,15.05878,38.281384,34.23754,-2.0481071,-3.2328038,-30.790293,-43.7133,-22.66653,18.513647,45.936428,-27.472326,-2.925983,-11.457916,-19.14733,-27.314571,-44.32412,0.69243604,16.166769,-40.52923,10.945705,-10.346226,-11.047863,-32.838783,-6.1644793,-23.060972,47.98771,-38.325573,2.745617,12.485733,-32.630527,-12.82162,-46.867554,-17.985205,-41.036266,-1.8102883,-6.311836,33.83757,42.842266,-16.24204,-15.462998,59.076344,6.0647306,1.6551282,11.495816,21.458443,26.195396,1.266811,1.0439308,8.158002,-50.27044,-33.6113,-38.02913,-2.1088336,-24.120342,18.604717,-20.421553,-30.737696,-4.637044,-1.2465094],\"yaxis\":\"y\",\"type\":\"scattergl\"},{\"customdata\":[[\"parallel_data\\u002ftr-Trac\",\"tr\",\"0\"],[\"parallel_data\\u002ftr-Trac\",\"tr\",\"1\"],[\"parallel_data\\u002ftr-Trac\",\"tr\",\"2\"],[\"parallel_data\\u002ftr-Trac\",\"tr\",\"3\"],[\"parallel_data\\u002ftr-Trac\",\"tr\",\"4\"],[\"parallel_data\\u002ftr-Trac\",\"tr\",\"5\"],[\"parallel_data\\u002ftr-Trac\",\"tr\",\"6\"],[\"parallel_data\\u002ftr-Trac\",\"tr\",\"7\"],[\"parallel_data\\u002ftr-Trac\",\"tr\",\"8\"],[\"parallel_data\\u002ftr-Trac\",\"tr\",\"9\"],[\"parallel_data\\u002ftr-Trac\",\"tr\",\"10\"],[\"parallel_data\\u002ftr-Trac\",\"tr\",\"11\"],[\"parallel_data\\u002ftr-Trac\",\"tr\",\"12\"],[\"parallel_data\\u002ftr-Trac\",\"tr\",\"13\"],[\"parallel_data\\u002ftr-Trac\",\"tr\",\"14\"],[\"parallel_data\\u002ftr-Trac\",\"tr\",\"15\"],[\"parallel_data\\u002ftr-Trac\",\"tr\",\"16\"],[\"parallel_data\\u002ftr-Trac\",\"tr\",\"17\"],[\"parallel_data\\u002ftr-Trac\",\"tr\",\"18\"],[\"parallel_data\\u002ftr-Trac\",\"tr\",\"19\"],[\"parallel_data\\u002ftr-Trac\",\"tr\",\"20\"],[\"parallel_data\\u002ftr-Trac\",\"tr\",\"21\"],[\"parallel_data\\u002ftr-Trac\",\"tr\",\"22\"],[\"parallel_data\\u002ftr-Trac\",\"tr\",\"23\"],[\"parallel_data\\u002ftr-Trac\",\"tr\",\"24\"],[\"parallel_data\\u002ftr-Trac\",\"tr\",\"25\"],[\"parallel_data\\u002ftr-Trac\",\"tr\",\"26\"],[\"parallel_data\\u002ftr-Trac\",\"tr\",\"27\"],[\"parallel_data\\u002ftr-Trac\",\"tr\",\"28\"],[\"parallel_data\\u002ftr-Trac\",\"tr\",\"29\"],[\"parallel_data\\u002ftr-Trac\",\"tr\",\"30\"],[\"parallel_data\\u002ftr-Trac\",\"tr\",\"31\"],[\"parallel_data\\u002ftr-Trac\",\"tr\",\"32\"],[\"parallel_data\\u002ftr-Trac\",\"tr\",\"33\"],[\"parallel_data\\u002ftr-Trac\",\"tr\",\"34\"],[\"parallel_data\\u002ftr-Trac\",\"tr\",\"35\"],[\"parallel_data\\u002ftr-Trac\",\"tr\",\"36\"],[\"parallel_data\\u002ftr-Trac\",\"tr\",\"37\"],[\"parallel_data\\u002ftr-Trac\",\"tr\",\"38\"],[\"parallel_data\\u002ftr-Trac\",\"tr\",\"39\"],[\"parallel_data\\u002ftr-Trac\",\"tr\",\"40\"],[\"parallel_data\\u002ftr-Trac\",\"tr\",\"41\"],[\"parallel_data\\u002ftr-Trac\",\"tr\",\"42\"],[\"parallel_data\\u002ftr-Trac\",\"tr\",\"43\"],[\"parallel_data\\u002ftr-Trac\",\"tr\",\"44\"],[\"parallel_data\\u002ftr-Trac\",\"tr\",\"45\"],[\"parallel_data\\u002ftr-Trac\",\"tr\",\"46\"],[\"parallel_data\\u002ftr-Trac\",\"tr\",\"47\"],[\"parallel_data\\u002ftr-Trac\",\"tr\",\"48\"],[\"parallel_data\\u002ftr-Trac\",\"tr\",\"49\"],[\"parallel_data\\u002ftr-Trac\",\"tr\",\"50\"],[\"parallel_data\\u002ftr-Trac\",\"tr\",\"51\"],[\"parallel_data\\u002ftr-Trac\",\"tr\",\"52\"],[\"parallel_data\\u002ftr-Trac\",\"tr\",\"53\"],[\"parallel_data\\u002ftr-Trac\",\"tr\",\"54\"],[\"parallel_data\\u002ftr-Trac\",\"tr\",\"55\"],[\"parallel_data\\u002ftr-Trac\",\"tr\",\"56\"],[\"parallel_data\\u002ftr-Trac\",\"tr\",\"57\"],[\"parallel_data\\u002ftr-Trac\",\"tr\",\"58\"],[\"parallel_data\\u002ftr-Trac\",\"tr\",\"59\"],[\"parallel_data\\u002ftr-Trac\",\"tr\",\"60\"],[\"parallel_data\\u002ftr-Trac\",\"tr\",\"61\"],[\"parallel_data\\u002ftr-Trac\",\"tr\",\"62\"],[\"parallel_data\\u002ftr-Trac\",\"tr\",\"63\"],[\"parallel_data\\u002ftr-Trac\",\"tr\",\"64\"],[\"parallel_data\\u002ftr-Trac\",\"tr\",\"65\"],[\"parallel_data\\u002ftr-Trac\",\"tr\",\"66\"],[\"parallel_data\\u002ftr-Trac\",\"tr\",\"67\"],[\"parallel_data\\u002ftr-Trac\",\"tr\",\"68\"],[\"parallel_data\\u002ftr-Trac\",\"tr\",\"69\"],[\"parallel_data\\u002ftr-Trac\",\"tr\",\"70\"],[\"parallel_data\\u002ftr-Trac\",\"tr\",\"71\"],[\"parallel_data\\u002ftr-Trac\",\"tr\",\"72\"],[\"parallel_data\\u002ftr-Trac\",\"tr\",\"73\"],[\"parallel_data\\u002ftr-Trac\",\"tr\",\"74\"],[\"parallel_data\\u002ftr-Trac\",\"tr\",\"75\"],[\"parallel_data\\u002ftr-Trac\",\"tr\",\"76\"],[\"parallel_data\\u002ftr-Trac\",\"tr\",\"77\"],[\"parallel_data\\u002ftr-Trac\",\"tr\",\"78\"],[\"parallel_data\\u002ftr-Trac\",\"tr\",\"79\"],[\"parallel_data\\u002ftr-Trac\",\"tr\",\"80\"],[\"parallel_data\\u002ftr-Trac\",\"tr\",\"81\"],[\"parallel_data\\u002ftr-Trac\",\"tr\",\"82\"],[\"parallel_data\\u002ftr-Trac\",\"tr\",\"83\"],[\"parallel_data\\u002ftr-Trac\",\"tr\",\"84\"],[\"parallel_data\\u002ftr-Trac\",\"tr\",\"85\"],[\"parallel_data\\u002ftr-Trac\",\"tr\",\"86\"],[\"parallel_data\\u002ftr-Trac\",\"tr\",\"87\"],[\"parallel_data\\u002ftr-Trac\",\"tr\",\"88\"],[\"parallel_data\\u002ftr-Trac\",\"tr\",\"89\"],[\"parallel_data\\u002ftr-Trac\",\"tr\",\"90\"],[\"parallel_data\\u002ftr-Trac\",\"tr\",\"91\"],[\"parallel_data\\u002ftr-Trac\",\"tr\",\"92\"],[\"parallel_data\\u002ftr-Trac\",\"tr\",\"93\"],[\"parallel_data\\u002ftr-Trac\",\"tr\",\"94\"],[\"parallel_data\\u002ftr-Trac\",\"tr\",\"95\"],[\"parallel_data\\u002ftr-Trac\",\"tr\",\"96\"],[\"parallel_data\\u002ftr-Trac\",\"tr\",\"97\"],[\"parallel_data\\u002ftr-Trac\",\"tr\",\"98\"],[\"parallel_data\\u002ftr-Trac\",\"tr\",\"99\"],[\"parallel_data\\u002ftr-Trac\",\"tr\",\"100\"],[\"parallel_data\\u002ftr-Trac\",\"tr\",\"101\"],[\"parallel_data\\u002ftr-Trac\",\"tr\",\"102\"],[\"parallel_data\\u002ftr-Trac\",\"tr\",\"103\"],[\"parallel_data\\u002ftr-Trac\",\"tr\",\"104\"],[\"parallel_data\\u002ftr-Trac\",\"tr\",\"105\"],[\"parallel_data\\u002ftr-Trac\",\"tr\",\"106\"],[\"parallel_data\\u002ftr-Trac\",\"tr\",\"107\"],[\"parallel_data\\u002ftr-Trac\",\"tr\",\"108\"],[\"parallel_data\\u002ftr-Trac\",\"tr\",\"109\"],[\"parallel_data\\u002ftr-Trac\",\"tr\",\"110\"],[\"parallel_data\\u002ftr-Trac\",\"tr\",\"111\"],[\"parallel_data\\u002ftr-Trac\",\"tr\",\"112\"],[\"parallel_data\\u002ftr-Trac\",\"tr\",\"113\"],[\"parallel_data\\u002ftr-Trac\",\"tr\",\"114\"],[\"parallel_data\\u002ftr-Trac\",\"tr\",\"115\"],[\"parallel_data\\u002ftr-Trac\",\"tr\",\"116\"],[\"parallel_data\\u002ftr-Trac\",\"tr\",\"117\"],[\"parallel_data\\u002ftr-Trac\",\"tr\",\"118\"],[\"parallel_data\\u002ftr-Trac\",\"tr\",\"119\"],[\"parallel_data\\u002ftr-Trac\",\"tr\",\"120\"],[\"parallel_data\\u002ftr-Trac\",\"tr\",\"121\"],[\"parallel_data\\u002ftr-Trac\",\"tr\",\"122\"],[\"parallel_data\\u002ftr-Trac\",\"tr\",\"123\"],[\"parallel_data\\u002ftr-Trac\",\"tr\",\"124\"],[\"parallel_data\\u002ftr-Trac\",\"tr\",\"125\"],[\"parallel_data\\u002ftr-Trac\",\"tr\",\"126\"],[\"parallel_data\\u002ftr-Trac\",\"tr\",\"127\"],[\"parallel_data\\u002ftr-Trac\",\"tr\",\"128\"],[\"parallel_data\\u002ftr-Trac\",\"tr\",\"129\"],[\"parallel_data\\u002ftr-Trac\",\"tr\",\"130\"],[\"parallel_data\\u002ftr-Trac\",\"tr\",\"131\"],[\"parallel_data\\u002ftr-Trac\",\"tr\",\"132\"],[\"parallel_data\\u002ftr-Trac\",\"tr\",\"133\"],[\"parallel_data\\u002ftr-Trac\",\"tr\",\"134\"],[\"parallel_data\\u002ftr-Trac\",\"tr\",\"135\"],[\"parallel_data\\u002ftr-Trac\",\"tr\",\"136\"],[\"parallel_data\\u002ftr-Trac\",\"tr\",\"137\"],[\"parallel_data\\u002ftr-Trac\",\"tr\",\"138\"],[\"parallel_data\\u002ftr-Trac\",\"tr\",\"139\"],[\"parallel_data\\u002ftr-Trac\",\"tr\",\"140\"],[\"parallel_data\\u002ftr-Trac\",\"tr\",\"141\"],[\"parallel_data\\u002ftr-Trac\",\"tr\",\"142\"],[\"parallel_data\\u002ftr-Trac\",\"tr\",\"143\"],[\"parallel_data\\u002ftr-Trac\",\"tr\",\"144\"],[\"parallel_data\\u002ftr-Trac\",\"tr\",\"145\"],[\"parallel_data\\u002ftr-Trac\",\"tr\",\"146\"],[\"parallel_data\\u002ftr-Trac\",\"tr\",\"147\"],[\"parallel_data\\u002ftr-Trac\",\"tr\",\"148\"],[\"parallel_data\\u002ftr-Trac\",\"tr\",\"149\"],[\"parallel_data\\u002ftr-Trac\",\"tr\",\"150\"],[\"parallel_data\\u002ftr-Trac\",\"tr\",\"151\"],[\"parallel_data\\u002ftr-Trac\",\"tr\",\"152\"],[\"parallel_data\\u002ftr-Trac\",\"tr\",\"153\"],[\"parallel_data\\u002ftr-Trac\",\"tr\",\"154\"],[\"parallel_data\\u002ftr-Trac\",\"tr\",\"155\"],[\"parallel_data\\u002ftr-Trac\",\"tr\",\"156\"],[\"parallel_data\\u002ftr-Trac\",\"tr\",\"157\"],[\"parallel_data\\u002ftr-Trac\",\"tr\",\"158\"],[\"parallel_data\\u002ftr-Trac\",\"tr\",\"159\"],[\"parallel_data\\u002ftr-Trac\",\"tr\",\"160\"],[\"parallel_data\\u002ftr-Trac\",\"tr\",\"161\"],[\"parallel_data\\u002ftr-Trac\",\"tr\",\"162\"],[\"parallel_data\\u002ftr-Trac\",\"tr\",\"163\"],[\"parallel_data\\u002ftr-Trac\",\"tr\",\"164\"],[\"parallel_data\\u002ftr-Trac\",\"tr\",\"165\"],[\"parallel_data\\u002ftr-Trac\",\"tr\",\"166\"],[\"parallel_data\\u002ftr-Trac\",\"tr\",\"167\"],[\"parallel_data\\u002ftr-Trac\",\"tr\",\"168\"],[\"parallel_data\\u002ftr-Trac\",\"tr\",\"169\"],[\"parallel_data\\u002ftr-Trac\",\"tr\",\"170\"],[\"parallel_data\\u002ftr-Trac\",\"tr\",\"171\"],[\"parallel_data\\u002ftr-Trac\",\"tr\",\"172\"],[\"parallel_data\\u002ftr-Trac\",\"tr\",\"173\"],[\"parallel_data\\u002ftr-Trac\",\"tr\",\"174\"],[\"parallel_data\\u002ftr-Trac\",\"tr\",\"175\"],[\"parallel_data\\u002ftr-Trac\",\"tr\",\"176\"],[\"parallel_data\\u002ftr-Trac\",\"tr\",\"177\"],[\"parallel_data\\u002ftr-Trac\",\"tr\",\"178\"],[\"parallel_data\\u002ftr-Trac\",\"tr\",\"179\"],[\"parallel_data\\u002ftr-Trac\",\"tr\",\"180\"],[\"parallel_data\\u002ftr-Trac\",\"tr\",\"181\"],[\"parallel_data\\u002ftr-Trac\",\"tr\",\"182\"],[\"parallel_data\\u002ftr-Trac\",\"tr\",\"183\"],[\"parallel_data\\u002ftr-Trac\",\"tr\",\"184\"],[\"parallel_data\\u002ftr-Trac\",\"tr\",\"185\"],[\"parallel_data\\u002ftr-Trac\",\"tr\",\"186\"],[\"parallel_data\\u002ftr-Trac\",\"tr\",\"187\"],[\"parallel_data\\u002ftr-Trac\",\"tr\",\"188\"],[\"parallel_data\\u002ftr-Trac\",\"tr\",\"189\"],[\"parallel_data\\u002ftr-Trac\",\"tr\",\"190\"],[\"parallel_data\\u002ftr-Trac\",\"tr\",\"191\"],[\"parallel_data\\u002ftr-Trac\",\"tr\",\"192\"],[\"parallel_data\\u002ftr-Trac\",\"tr\",\"193\"],[\"parallel_data\\u002ftr-Trac\",\"tr\",\"194\"],[\"parallel_data\\u002ftr-Trac\",\"tr\",\"195\"],[\"parallel_data\\u002ftr-Trac\",\"tr\",\"196\"],[\"parallel_data\\u002ftr-Trac\",\"tr\",\"197\"],[\"parallel_data\\u002ftr-Trac\",\"tr\",\"198\"],[\"parallel_data\\u002ftr-Trac\",\"tr\",\"199\"],[\"parallel_data\\u002ftr-Trac\",\"tr\",\"200\"],[\"parallel_data\\u002ftr-Trac\",\"tr\",\"201\"],[\"parallel_data\\u002ftr-Trac\",\"tr\",\"202\"],[\"parallel_data\\u002ftr-Trac\",\"tr\",\"203\"],[\"parallel_data\\u002ftr-Trac\",\"tr\",\"204\"],[\"parallel_data\\u002ftr-Trac\",\"tr\",\"205\"],[\"parallel_data\\u002ftr-Trac\",\"tr\",\"206\"],[\"parallel_data\\u002ftr-Trac\",\"tr\",\"207\"],[\"parallel_data\\u002ftr-Trac\",\"tr\",\"208\"],[\"parallel_data\\u002ftr-Trac\",\"tr\",\"209\"],[\"parallel_data\\u002ftr-Trac\",\"tr\",\"210\"],[\"parallel_data\\u002ftr-Trac\",\"tr\",\"211\"],[\"parallel_data\\u002ftr-Trac\",\"tr\",\"212\"],[\"parallel_data\\u002ftr-Trac\",\"tr\",\"213\"],[\"parallel_data\\u002ftr-Trac\",\"tr\",\"214\"],[\"parallel_data\\u002ftr-Trac\",\"tr\",\"215\"],[\"parallel_data\\u002ftr-Trac\",\"tr\",\"216\"],[\"parallel_data\\u002ftr-Trac\",\"tr\",\"217\"],[\"parallel_data\\u002ftr-Trac\",\"tr\",\"218\"],[\"parallel_data\\u002ftr-Trac\",\"tr\",\"219\"],[\"parallel_data\\u002ftr-Trac\",\"tr\",\"220\"],[\"parallel_data\\u002ftr-Trac\",\"tr\",\"221\"],[\"parallel_data\\u002ftr-Trac\",\"tr\",\"222\"],[\"parallel_data\\u002ftr-Trac\",\"tr\",\"223\"],[\"parallel_data\\u002ftr-Trac\",\"tr\",\"224\"],[\"parallel_data\\u002ftr-Trac\",\"tr\",\"225\"],[\"parallel_data\\u002ftr-Trac\",\"tr\",\"226\"],[\"parallel_data\\u002ftr-Trac\",\"tr\",\"227\"],[\"parallel_data\\u002ftr-Trac\",\"tr\",\"228\"],[\"parallel_data\\u002ftr-Trac\",\"tr\",\"229\"],[\"parallel_data\\u002ftr-Trac\",\"tr\",\"230\"],[\"parallel_data\\u002ftr-Trac\",\"tr\",\"231\"],[\"parallel_data\\u002ftr-Trac\",\"tr\",\"232\"],[\"parallel_data\\u002ftr-Trac\",\"tr\",\"233\"],[\"parallel_data\\u002ftr-Trac\",\"tr\",\"234\"],[\"parallel_data\\u002ftr-Trac\",\"tr\",\"235\"],[\"parallel_data\\u002ftr-Trac\",\"tr\",\"236\"],[\"parallel_data\\u002ftr-Trac\",\"tr\",\"237\"],[\"parallel_data\\u002ftr-Trac\",\"tr\",\"238\"],[\"parallel_data\\u002ftr-Trac\",\"tr\",\"239\"],[\"parallel_data\\u002ftr-Trac\",\"tr\",\"240\"],[\"parallel_data\\u002ftr-Trac\",\"tr\",\"241\"],[\"parallel_data\\u002ftr-Trac\",\"tr\",\"242\"],[\"parallel_data\\u002ftr-Trac\",\"tr\",\"243\"],[\"parallel_data\\u002ftr-Trac\",\"tr\",\"244\"],[\"parallel_data\\u002ftr-Trac\",\"tr\",\"245\"],[\"parallel_data\\u002ftr-Trac\",\"tr\",\"246\"],[\"parallel_data\\u002ftr-Trac\",\"tr\",\"247\"],[\"parallel_data\\u002ftr-Trac\",\"tr\",\"248\"],[\"parallel_data\\u002ftr-Trac\",\"tr\",\"249\"],[\"parallel_data\\u002ftr-Trac\",\"tr\",\"250\"],[\"parallel_data\\u002ftr-Trac\",\"tr\",\"251\"],[\"parallel_data\\u002ftr-Trac\",\"tr\",\"252\"],[\"parallel_data\\u002ftr-Trac\",\"tr\",\"253\"],[\"parallel_data\\u002ftr-Trac\",\"tr\",\"254\"],[\"parallel_data\\u002ftr-Trac\",\"tr\",\"255\"],[\"parallel_data\\u002ftr-Trac\",\"tr\",\"256\"],[\"parallel_data\\u002ftr-Trac\",\"tr\",\"257\"],[\"parallel_data\\u002ftr-Trac\",\"tr\",\"258\"],[\"parallel_data\\u002ftr-Trac\",\"tr\",\"259\"],[\"parallel_data\\u002ftr-Trac\",\"tr\",\"260\"],[\"parallel_data\\u002ftr-Trac\",\"tr\",\"261\"],[\"parallel_data\\u002ftr-Trac\",\"tr\",\"262\"],[\"parallel_data\\u002ftr-Trac\",\"tr\",\"263\"],[\"parallel_data\\u002ftr-Trac\",\"tr\",\"264\"],[\"parallel_data\\u002ftr-Trac\",\"tr\",\"265\"],[\"parallel_data\\u002ftr-Trac\",\"tr\",\"266\"],[\"parallel_data\\u002ftr-Trac\",\"tr\",\"267\"],[\"parallel_data\\u002ftr-Trac\",\"tr\",\"268\"],[\"parallel_data\\u002ftr-Trac\",\"tr\",\"269\"],[\"parallel_data\\u002ftr-Trac\",\"tr\",\"270\"],[\"parallel_data\\u002ftr-Trac\",\"tr\",\"271\"],[\"parallel_data\\u002ftr-Trac\",\"tr\",\"272\"],[\"parallel_data\\u002ftr-Trac\",\"tr\",\"273\"],[\"parallel_data\\u002ftr-Trac\",\"tr\",\"274\"],[\"parallel_data\\u002ftr-Trac\",\"tr\",\"275\"],[\"parallel_data\\u002ftr-Trac\",\"tr\",\"276\"],[\"parallel_data\\u002ftr-Trac\",\"tr\",\"277\"],[\"parallel_data\\u002ftr-Trac\",\"tr\",\"278\"],[\"parallel_data\\u002ftr-Trac\",\"tr\",\"279\"],[\"parallel_data\\u002ftr-Trac\",\"tr\",\"280\"],[\"parallel_data\\u002ftr-Trac\",\"tr\",\"281\"],[\"parallel_data\\u002ftr-Trac\",\"tr\",\"282\"],[\"parallel_data\\u002ftr-Trac\",\"tr\",\"283\"],[\"parallel_data\\u002ftr-Trac\",\"tr\",\"284\"],[\"parallel_data\\u002ftr-Trac\",\"tr\",\"285\"],[\"parallel_data\\u002ftr-Trac\",\"tr\",\"286\"],[\"parallel_data\\u002ftr-Trac\",\"tr\",\"287\"],[\"parallel_data\\u002ftr-Trac\",\"tr\",\"288\"],[\"parallel_data\\u002ftr-Trac\",\"tr\",\"289\"],[\"parallel_data\\u002ftr-Trac\",\"tr\",\"290\"],[\"parallel_data\\u002ftr-Trac\",\"tr\",\"291\"],[\"parallel_data\\u002ftr-Trac\",\"tr\",\"292\"],[\"parallel_data\\u002ftr-Trac\",\"tr\",\"293\"],[\"parallel_data\\u002ftr-Trac\",\"tr\",\"294\"],[\"parallel_data\\u002ftr-Trac\",\"tr\",\"295\"],[\"parallel_data\\u002ftr-Trac\",\"tr\",\"296\"],[\"parallel_data\\u002ftr-Trac\",\"tr\",\"297\"],[\"parallel_data\\u002ftr-Trac\",\"tr\",\"298\"],[\"parallel_data\\u002ftr-Trac\",\"tr\",\"299\"]],\"hovertemplate\":\"language=%{customdata[1]}\\u003cbr\\u003ex=%{x}\\u003cbr\\u003ey=%{y}\\u003cbr\\u003edataset_name=%{customdata[0]}\\u003cbr\\u003eid=%{customdata[2]}\\u003cextra\\u003e\\u003c\\u002fextra\\u003e\",\"legendgroup\":\"tr\",\"marker\":{\"color\":\"#EF553B\",\"symbol\":\"circle\"},\"mode\":\"markers\",\"name\":\"tr\",\"showlegend\":true,\"x\":[6.1423626,-20.117916,-7.38384,-35.549377,-44.190765,19.992851,-46.396954,-19.344976,-7.514672,-16.409544,-22.625095,24.952414,-24.666409,31.876455,-14.85534,25.273882,-37.8641,33.91439,-53.993168,14.22443,-24.961052,17.93496,4.7022824,-24.6006,-21.84439,0.25853276,18.899775,33.974,-15.950065,-20.617838,-10.566749,-21.879238,41.18994,-21.842136,-44.53532,27.716969,-16.365326,3.4630704,-4.9263306,-27.970974,9.803044,-12.853408,-11.144189,-27.297447,2.6780365,-38.56735,12.985919,-12.608377,-8.033207,-38.189907,31.80071,0.24947259,8.013442,-5.1586637,37.58436,10.246705,49.58958,6.152081,-1.9068259,38.233845,-3.5648131,-11.940826,20.839952,-28.120523,4.7941666,2.7905958,-9.846601,35.375153,-31.557535,-18.127466,40.30174,32.045593,24.342413,38.33189,-27.655024,22.733736,-27.986017,1.3430697,46.808865,-10.9856,-1.871335,-0.9257834,-5.9692097,-16.769754,-18.311186,24.244982,40.70404,-47.102325,29.751423,25.110096,-16.815748,29.926273,-2.4191558,32.464333,15.458114,-8.624292,-15.864991,23.030169,-53.96055,-14.868315,46.695423,8.150916,19.809147,10.367925,-1.9842206,9.614958,-7.2756166,-33.919502,1.7387602,-5.4744353,-17.427334,-7.9124937,46.508057,-10.425169,19.26909,-13.886856,3.4621484,45.90588,-20.352306,43.045708,1.0101029,-26.411728,11.330762,-21.819622,46.27245,-49.867363,14.726814,-13.120241,18.868061,-11.422217,11.839646,30.675138,28.859478,-40.743214,28.576996,-3.315277,13.7911415,-3.2761672,-12.480951,-8.638216,-29.400043,-4.125497,2.6096442,11.285401,6.40878,-35.747494,42.199165,-49.51701,-59.25255,-29.065344,4.8961067,34.644608,1.8910906,42.15264,-9.564265,38.90888,42.823452,28.165968,38.756207,-18.211258,15.146999,-9.904309,14.650133,-24.201572,-39.679897,-25.303583,15.495642,-45.078907,13.915276,10.347115,10.79705,-28.29031,21.80167,24.965616,-24.522797,13.044967,22.917326,32.751205,-2.0775504,-4.063549,52.205845,-30.538385,-39.2025,-0.849977,-22.38167,0.23363541,21.097609,19.027514,7.0294476,17.104382,-19.719982,40.656948,41.884163,7.315029,-53.023914,7.0408483,23.498468,-4.0273395,-16.185343,-29.350494,-24.320934,-41.423954,-29.322977,-32.81874,27.103804,-16.24461,-19.14159,-6.60451,21.64974,-33.42829,32.17769,6.990755,-43.11902,13.374483,-50.694706,-1.1086177,14.947177,23.434616,7.3300714,53.63568,-32.41811,-34.549076,43.10602,43.439865,-0.08057244,-8.9810295,0.98709583,15.038472,45.784683,27.116789,-12.964567,-0.7859299,19.984608,13.559058,-46.067112,-50.44868,-10.388197,1.602487,-6.513459,-4.263062,19.05027,24.812983,-29.801268,-14.57722,22.65683,5.241526,-47.012672,-31.70273,34.564713,-39.981144,2.1117387,9.427888,-23.994642,-3.9525516,-24.106077,-33.599213,-20.280912,26.510113,-27.337027,12.102924,20.183313,-36.437393,-26.33166,3.682766,-21.096571,-52.995907,-22.149343,-32.43372,-25.871956,15.747601,-22.240284,53.528206,11.171204,9.403474,-26.690691,39.298023,17.591679,24.75898,-21.317013,20.368238,36.99921,10.406539,14.058256,36.58218,-25.9461,35.880386,38.5417,6.9055676,38.790695,18.865816,-27.776724,-33.22169,-42.615334,-15.283878,-0.50501215,17.78883,52.546307,-4.4086127,-9.057961,-2.459108],\"xaxis\":\"x\",\"y\":[20.5639,34.92189,26.2233,-17.136883,-33.44123,54.299522,-39.028793,-27.944733,21.673624,-37.8203,19.76048,-37.523212,32.85354,-46.151463,4.154505,-30.6752,-32.973583,29.86035,-14.0195675,30.16796,-24.023352,-10.9541645,12.600702,-27.4412,29.459188,-13.75916,32.294918,43.507664,21.224041,-21.610235,5.8474646,7.443269,-2.292094,-12.227556,-10.9088,6.6721926,-30.71623,-40.336258,16.884777,-0.6276234,12.632661,-6.722634,1.2746316,-29.245708,10.670833,-44.62394,-12.791086,-19.84428,31.745752,32.277634,-1.8739824,53.92751,-36.43596,-20.892624,-28.01265,-31.61459,10.19495,-22.451721,14.027659,36.561604,29.629871,-33.780334,14.6071,-15.558376,7.0286736,-25.503647,11.094885,11.698545,26.188309,30.77645,-3.995649,-36.529873,17.30992,17.449389,24.117807,6.4504347,55.951756,-7.185108,-7.983945,19.083359,8.464717,-1.7470467,41.094517,-23.290142,24.844278,46.991966,22.430384,-19.93408,-18.651041,-15.035405,50.646194,6.9968033,40.855816,3.9437218,-18.942097,-42.208878,44.325874,-27.348492,-27.56285,9.783941,-15.379835,38.05568,-43.41972,43.648354,-52.872093,4.524894,-17.659992,15.384876,-50.08978,37.48572,-17.743347,-26.049437,3.809706,27.039469,25.3679,-47.10498,2.4229348,-2.838114,-16.003258,19.936666,19.190641,29.450909,-10.1563635,22.749992,12.098289,-28.201242,-28.785492,15.096869,45.668102,24.083967,-23.779572,18.18222,11.589834,-21.324167,-27.948505,21.652664,23.069374,-49.101994,29.744766,49.797516,8.05049,47.5601,5.7966776,48.840626,26.227959,-37.573708,-37.48483,-42.885555,-20.595842,-20.984993,16.101065,-7.1374063,-18.394567,6.761225,-1.2799516,-8.917177,12.761465,24.416296,6.8362327,18.00738,44.213596,43.99454,-8.7951975,24.247742,2.9284215,21.006023,-1.9273708,-44.98693,2.7319343,-0.7877954,-6.121516,-8.288957,-39.98617,10.965932,38.63618,18.237724,-9.799136,35.494835,-37.90893,-13.33574,3.8947468,20.15213,-39.885017,35.28037,16.867874,-50.857166,39.730675,0.7928637,-13.652567,-24.227602,2.704388,-22.375023,3.4498265,32.990883,-9.532154,-8.674249,-5.3332496,-6.217795,-11.297379,-25.316765,-7.2516103,-29.55404,-37.309044,-46.315056,-8.580826,38.374577,12.011782,13.943699,-51.883358,-21.41691,-13.821796,52.608265,-25.841618,-35.837593,-34.058624,2.8008416,9.630613,-20.4871,8.561378,-2.6722317,6.9176507,40.724583,27.55868,22.355295,-29.417961,37.172432,-46.768715,42.880665,25.994389,-3.654432,-26.857254,24.803577,-33.508045,36.2109,6.658642,17.426481,-12.124947,29.795715,7.527138,3.9570944,-3.5351272,15.45531,37.742435,33.99285,-1.6107085,-2.9947975,-30.219315,-43.634026,-21.71083,18.673338,45.920223,-27.509644,-2.2633533,-11.163735,-18.730164,-27.232822,-43.95639,0.79291666,16.626102,-40.586742,11.079285,-10.462382,-11.141977,-33.999516,-6.1727653,-23.187803,48.417816,-38.84408,1.9820608,11.489499,-33.31588,-12.441642,-46.719795,-18.090994,-41.972088,-2.4307141,-6.505604,34.6068,42.573696,-15.78712,-14.587632,58.830444,5.8575506,0.6696146,11.536841,21.35185,25.628744,1.5848507,0.37323382,8.972723,-50.27245,-33.195602,-37.62248,-1.8747147,-24.563335,17.861492,-19.802574,-30.667091,-5.322552,-0.7450164],\"yaxis\":\"y\",\"type\":\"scattergl\"},{\"customdata\":[[\"parallel_data\\u002fde-Trac\",\"de\",\"0\"],[\"parallel_data\\u002fde-Trac\",\"de\",\"1\"],[\"parallel_data\\u002fde-Trac\",\"de\",\"2\"],[\"parallel_data\\u002fde-Trac\",\"de\",\"3\"],[\"parallel_data\\u002fde-Trac\",\"de\",\"4\"],[\"parallel_data\\u002fde-Trac\",\"de\",\"5\"],[\"parallel_data\\u002fde-Trac\",\"de\",\"6\"],[\"parallel_data\\u002fde-Trac\",\"de\",\"7\"],[\"parallel_data\\u002fde-Trac\",\"de\",\"8\"],[\"parallel_data\\u002fde-Trac\",\"de\",\"9\"],[\"parallel_data\\u002fde-Trac\",\"de\",\"10\"],[\"parallel_data\\u002fde-Trac\",\"de\",\"11\"],[\"parallel_data\\u002fde-Trac\",\"de\",\"12\"],[\"parallel_data\\u002fde-Trac\",\"de\",\"13\"],[\"parallel_data\\u002fde-Trac\",\"de\",\"14\"],[\"parallel_data\\u002fde-Trac\",\"de\",\"15\"],[\"parallel_data\\u002fde-Trac\",\"de\",\"16\"],[\"parallel_data\\u002fde-Trac\",\"de\",\"17\"],[\"parallel_data\\u002fde-Trac\",\"de\",\"18\"],[\"parallel_data\\u002fde-Trac\",\"de\",\"19\"],[\"parallel_data\\u002fde-Trac\",\"de\",\"20\"],[\"parallel_data\\u002fde-Trac\",\"de\",\"21\"],[\"parallel_data\\u002fde-Trac\",\"de\",\"22\"],[\"parallel_data\\u002fde-Trac\",\"de\",\"23\"],[\"parallel_data\\u002fde-Trac\",\"de\",\"24\"],[\"parallel_data\\u002fde-Trac\",\"de\",\"25\"],[\"parallel_data\\u002fde-Trac\",\"de\",\"26\"],[\"parallel_data\\u002fde-Trac\",\"de\",\"27\"],[\"parallel_data\\u002fde-Trac\",\"de\",\"28\"],[\"parallel_data\\u002fde-Trac\",\"de\",\"29\"],[\"parallel_data\\u002fde-Trac\",\"de\",\"30\"],[\"parallel_data\\u002fde-Trac\",\"de\",\"31\"],[\"parallel_data\\u002fde-Trac\",\"de\",\"32\"],[\"parallel_data\\u002fde-Trac\",\"de\",\"33\"],[\"parallel_data\\u002fde-Trac\",\"de\",\"34\"],[\"parallel_data\\u002fde-Trac\",\"de\",\"35\"],[\"parallel_data\\u002fde-Trac\",\"de\",\"36\"],[\"parallel_data\\u002fde-Trac\",\"de\",\"37\"],[\"parallel_data\\u002fde-Trac\",\"de\",\"38\"],[\"parallel_data\\u002fde-Trac\",\"de\",\"39\"],[\"parallel_data\\u002fde-Trac\",\"de\",\"40\"],[\"parallel_data\\u002fde-Trac\",\"de\",\"41\"],[\"parallel_data\\u002fde-Trac\",\"de\",\"42\"],[\"parallel_data\\u002fde-Trac\",\"de\",\"43\"],[\"parallel_data\\u002fde-Trac\",\"de\",\"44\"],[\"parallel_data\\u002fde-Trac\",\"de\",\"45\"],[\"parallel_data\\u002fde-Trac\",\"de\",\"46\"],[\"parallel_data\\u002fde-Trac\",\"de\",\"47\"],[\"parallel_data\\u002fde-Trac\",\"de\",\"48\"],[\"parallel_data\\u002fde-Trac\",\"de\",\"49\"],[\"parallel_data\\u002fde-Trac\",\"de\",\"50\"],[\"parallel_data\\u002fde-Trac\",\"de\",\"51\"],[\"parallel_data\\u002fde-Trac\",\"de\",\"52\"],[\"parallel_data\\u002fde-Trac\",\"de\",\"53\"],[\"parallel_data\\u002fde-Trac\",\"de\",\"54\"],[\"parallel_data\\u002fde-Trac\",\"de\",\"55\"],[\"parallel_data\\u002fde-Trac\",\"de\",\"56\"],[\"parallel_data\\u002fde-Trac\",\"de\",\"57\"],[\"parallel_data\\u002fde-Trac\",\"de\",\"58\"],[\"parallel_data\\u002fde-Trac\",\"de\",\"59\"],[\"parallel_data\\u002fde-Trac\",\"de\",\"60\"],[\"parallel_data\\u002fde-Trac\",\"de\",\"61\"],[\"parallel_data\\u002fde-Trac\",\"de\",\"62\"],[\"parallel_data\\u002fde-Trac\",\"de\",\"63\"],[\"parallel_data\\u002fde-Trac\",\"de\",\"64\"],[\"parallel_data\\u002fde-Trac\",\"de\",\"65\"],[\"parallel_data\\u002fde-Trac\",\"de\",\"66\"],[\"parallel_data\\u002fde-Trac\",\"de\",\"67\"],[\"parallel_data\\u002fde-Trac\",\"de\",\"68\"],[\"parallel_data\\u002fde-Trac\",\"de\",\"69\"],[\"parallel_data\\u002fde-Trac\",\"de\",\"70\"],[\"parallel_data\\u002fde-Trac\",\"de\",\"71\"],[\"parallel_data\\u002fde-Trac\",\"de\",\"72\"],[\"parallel_data\\u002fde-Trac\",\"de\",\"73\"],[\"parallel_data\\u002fde-Trac\",\"de\",\"74\"],[\"parallel_data\\u002fde-Trac\",\"de\",\"75\"],[\"parallel_data\\u002fde-Trac\",\"de\",\"76\"],[\"parallel_data\\u002fde-Trac\",\"de\",\"77\"],[\"parallel_data\\u002fde-Trac\",\"de\",\"78\"],[\"parallel_data\\u002fde-Trac\",\"de\",\"79\"],[\"parallel_data\\u002fde-Trac\",\"de\",\"80\"],[\"parallel_data\\u002fde-Trac\",\"de\",\"81\"],[\"parallel_data\\u002fde-Trac\",\"de\",\"82\"],[\"parallel_data\\u002fde-Trac\",\"de\",\"83\"],[\"parallel_data\\u002fde-Trac\",\"de\",\"84\"],[\"parallel_data\\u002fde-Trac\",\"de\",\"85\"],[\"parallel_data\\u002fde-Trac\",\"de\",\"86\"],[\"parallel_data\\u002fde-Trac\",\"de\",\"87\"],[\"parallel_data\\u002fde-Trac\",\"de\",\"88\"],[\"parallel_data\\u002fde-Trac\",\"de\",\"89\"],[\"parallel_data\\u002fde-Trac\",\"de\",\"90\"],[\"parallel_data\\u002fde-Trac\",\"de\",\"91\"],[\"parallel_data\\u002fde-Trac\",\"de\",\"92\"],[\"parallel_data\\u002fde-Trac\",\"de\",\"93\"],[\"parallel_data\\u002fde-Trac\",\"de\",\"94\"],[\"parallel_data\\u002fde-Trac\",\"de\",\"95\"],[\"parallel_data\\u002fde-Trac\",\"de\",\"96\"],[\"parallel_data\\u002fde-Trac\",\"de\",\"97\"],[\"parallel_data\\u002fde-Trac\",\"de\",\"98\"],[\"parallel_data\\u002fde-Trac\",\"de\",\"99\"],[\"parallel_data\\u002fde-Trac\",\"de\",\"100\"],[\"parallel_data\\u002fde-Trac\",\"de\",\"101\"],[\"parallel_data\\u002fde-Trac\",\"de\",\"102\"],[\"parallel_data\\u002fde-Trac\",\"de\",\"103\"],[\"parallel_data\\u002fde-Trac\",\"de\",\"104\"],[\"parallel_data\\u002fde-Trac\",\"de\",\"105\"],[\"parallel_data\\u002fde-Trac\",\"de\",\"106\"],[\"parallel_data\\u002fde-Trac\",\"de\",\"107\"],[\"parallel_data\\u002fde-Trac\",\"de\",\"108\"],[\"parallel_data\\u002fde-Trac\",\"de\",\"109\"],[\"parallel_data\\u002fde-Trac\",\"de\",\"110\"],[\"parallel_data\\u002fde-Trac\",\"de\",\"111\"],[\"parallel_data\\u002fde-Trac\",\"de\",\"112\"],[\"parallel_data\\u002fde-Trac\",\"de\",\"113\"],[\"parallel_data\\u002fde-Trac\",\"de\",\"114\"],[\"parallel_data\\u002fde-Trac\",\"de\",\"115\"],[\"parallel_data\\u002fde-Trac\",\"de\",\"116\"],[\"parallel_data\\u002fde-Trac\",\"de\",\"117\"],[\"parallel_data\\u002fde-Trac\",\"de\",\"118\"],[\"parallel_data\\u002fde-Trac\",\"de\",\"119\"],[\"parallel_data\\u002fde-Trac\",\"de\",\"120\"],[\"parallel_data\\u002fde-Trac\",\"de\",\"121\"],[\"parallel_data\\u002fde-Trac\",\"de\",\"122\"],[\"parallel_data\\u002fde-Trac\",\"de\",\"123\"],[\"parallel_data\\u002fde-Trac\",\"de\",\"124\"],[\"parallel_data\\u002fde-Trac\",\"de\",\"125\"],[\"parallel_data\\u002fde-Trac\",\"de\",\"126\"],[\"parallel_data\\u002fde-Trac\",\"de\",\"127\"],[\"parallel_data\\u002fde-Trac\",\"de\",\"128\"],[\"parallel_data\\u002fde-Trac\",\"de\",\"129\"],[\"parallel_data\\u002fde-Trac\",\"de\",\"130\"],[\"parallel_data\\u002fde-Trac\",\"de\",\"131\"],[\"parallel_data\\u002fde-Trac\",\"de\",\"132\"],[\"parallel_data\\u002fde-Trac\",\"de\",\"133\"],[\"parallel_data\\u002fde-Trac\",\"de\",\"134\"],[\"parallel_data\\u002fde-Trac\",\"de\",\"135\"],[\"parallel_data\\u002fde-Trac\",\"de\",\"136\"],[\"parallel_data\\u002fde-Trac\",\"de\",\"137\"],[\"parallel_data\\u002fde-Trac\",\"de\",\"138\"],[\"parallel_data\\u002fde-Trac\",\"de\",\"139\"],[\"parallel_data\\u002fde-Trac\",\"de\",\"140\"],[\"parallel_data\\u002fde-Trac\",\"de\",\"141\"],[\"parallel_data\\u002fde-Trac\",\"de\",\"142\"],[\"parallel_data\\u002fde-Trac\",\"de\",\"143\"],[\"parallel_data\\u002fde-Trac\",\"de\",\"144\"],[\"parallel_data\\u002fde-Trac\",\"de\",\"145\"],[\"parallel_data\\u002fde-Trac\",\"de\",\"146\"],[\"parallel_data\\u002fde-Trac\",\"de\",\"147\"],[\"parallel_data\\u002fde-Trac\",\"de\",\"148\"],[\"parallel_data\\u002fde-Trac\",\"de\",\"149\"],[\"parallel_data\\u002fde-Trac\",\"de\",\"150\"],[\"parallel_data\\u002fde-Trac\",\"de\",\"151\"],[\"parallel_data\\u002fde-Trac\",\"de\",\"152\"],[\"parallel_data\\u002fde-Trac\",\"de\",\"153\"],[\"parallel_data\\u002fde-Trac\",\"de\",\"154\"],[\"parallel_data\\u002fde-Trac\",\"de\",\"155\"],[\"parallel_data\\u002fde-Trac\",\"de\",\"156\"],[\"parallel_data\\u002fde-Trac\",\"de\",\"157\"],[\"parallel_data\\u002fde-Trac\",\"de\",\"158\"],[\"parallel_data\\u002fde-Trac\",\"de\",\"159\"],[\"parallel_data\\u002fde-Trac\",\"de\",\"160\"],[\"parallel_data\\u002fde-Trac\",\"de\",\"161\"],[\"parallel_data\\u002fde-Trac\",\"de\",\"162\"],[\"parallel_data\\u002fde-Trac\",\"de\",\"163\"],[\"parallel_data\\u002fde-Trac\",\"de\",\"164\"],[\"parallel_data\\u002fde-Trac\",\"de\",\"165\"],[\"parallel_data\\u002fde-Trac\",\"de\",\"166\"],[\"parallel_data\\u002fde-Trac\",\"de\",\"167\"],[\"parallel_data\\u002fde-Trac\",\"de\",\"168\"],[\"parallel_data\\u002fde-Trac\",\"de\",\"169\"],[\"parallel_data\\u002fde-Trac\",\"de\",\"170\"],[\"parallel_data\\u002fde-Trac\",\"de\",\"171\"],[\"parallel_data\\u002fde-Trac\",\"de\",\"172\"],[\"parallel_data\\u002fde-Trac\",\"de\",\"173\"],[\"parallel_data\\u002fde-Trac\",\"de\",\"174\"],[\"parallel_data\\u002fde-Trac\",\"de\",\"175\"],[\"parallel_data\\u002fde-Trac\",\"de\",\"176\"],[\"parallel_data\\u002fde-Trac\",\"de\",\"177\"],[\"parallel_data\\u002fde-Trac\",\"de\",\"178\"],[\"parallel_data\\u002fde-Trac\",\"de\",\"179\"],[\"parallel_data\\u002fde-Trac\",\"de\",\"180\"],[\"parallel_data\\u002fde-Trac\",\"de\",\"181\"],[\"parallel_data\\u002fde-Trac\",\"de\",\"182\"],[\"parallel_data\\u002fde-Trac\",\"de\",\"183\"],[\"parallel_data\\u002fde-Trac\",\"de\",\"184\"],[\"parallel_data\\u002fde-Trac\",\"de\",\"185\"],[\"parallel_data\\u002fde-Trac\",\"de\",\"186\"],[\"parallel_data\\u002fde-Trac\",\"de\",\"187\"],[\"parallel_data\\u002fde-Trac\",\"de\",\"188\"],[\"parallel_data\\u002fde-Trac\",\"de\",\"189\"],[\"parallel_data\\u002fde-Trac\",\"de\",\"190\"],[\"parallel_data\\u002fde-Trac\",\"de\",\"191\"],[\"parallel_data\\u002fde-Trac\",\"de\",\"192\"],[\"parallel_data\\u002fde-Trac\",\"de\",\"193\"],[\"parallel_data\\u002fde-Trac\",\"de\",\"194\"],[\"parallel_data\\u002fde-Trac\",\"de\",\"195\"],[\"parallel_data\\u002fde-Trac\",\"de\",\"196\"],[\"parallel_data\\u002fde-Trac\",\"de\",\"197\"],[\"parallel_data\\u002fde-Trac\",\"de\",\"198\"],[\"parallel_data\\u002fde-Trac\",\"de\",\"199\"],[\"parallel_data\\u002fde-Trac\",\"de\",\"200\"],[\"parallel_data\\u002fde-Trac\",\"de\",\"201\"],[\"parallel_data\\u002fde-Trac\",\"de\",\"202\"],[\"parallel_data\\u002fde-Trac\",\"de\",\"203\"],[\"parallel_data\\u002fde-Trac\",\"de\",\"204\"],[\"parallel_data\\u002fde-Trac\",\"de\",\"205\"],[\"parallel_data\\u002fde-Trac\",\"de\",\"206\"],[\"parallel_data\\u002fde-Trac\",\"de\",\"207\"],[\"parallel_data\\u002fde-Trac\",\"de\",\"208\"],[\"parallel_data\\u002fde-Trac\",\"de\",\"209\"],[\"parallel_data\\u002fde-Trac\",\"de\",\"210\"],[\"parallel_data\\u002fde-Trac\",\"de\",\"211\"],[\"parallel_data\\u002fde-Trac\",\"de\",\"212\"],[\"parallel_data\\u002fde-Trac\",\"de\",\"213\"],[\"parallel_data\\u002fde-Trac\",\"de\",\"214\"],[\"parallel_data\\u002fde-Trac\",\"de\",\"215\"],[\"parallel_data\\u002fde-Trac\",\"de\",\"216\"],[\"parallel_data\\u002fde-Trac\",\"de\",\"217\"],[\"parallel_data\\u002fde-Trac\",\"de\",\"218\"],[\"parallel_data\\u002fde-Trac\",\"de\",\"219\"],[\"parallel_data\\u002fde-Trac\",\"de\",\"220\"],[\"parallel_data\\u002fde-Trac\",\"de\",\"221\"],[\"parallel_data\\u002fde-Trac\",\"de\",\"222\"],[\"parallel_data\\u002fde-Trac\",\"de\",\"223\"],[\"parallel_data\\u002fde-Trac\",\"de\",\"224\"],[\"parallel_data\\u002fde-Trac\",\"de\",\"225\"],[\"parallel_data\\u002fde-Trac\",\"de\",\"226\"],[\"parallel_data\\u002fde-Trac\",\"de\",\"227\"],[\"parallel_data\\u002fde-Trac\",\"de\",\"228\"],[\"parallel_data\\u002fde-Trac\",\"de\",\"229\"],[\"parallel_data\\u002fde-Trac\",\"de\",\"230\"],[\"parallel_data\\u002fde-Trac\",\"de\",\"231\"],[\"parallel_data\\u002fde-Trac\",\"de\",\"232\"],[\"parallel_data\\u002fde-Trac\",\"de\",\"233\"],[\"parallel_data\\u002fde-Trac\",\"de\",\"234\"],[\"parallel_data\\u002fde-Trac\",\"de\",\"235\"],[\"parallel_data\\u002fde-Trac\",\"de\",\"236\"],[\"parallel_data\\u002fde-Trac\",\"de\",\"237\"],[\"parallel_data\\u002fde-Trac\",\"de\",\"238\"],[\"parallel_data\\u002fde-Trac\",\"de\",\"239\"],[\"parallel_data\\u002fde-Trac\",\"de\",\"240\"],[\"parallel_data\\u002fde-Trac\",\"de\",\"241\"],[\"parallel_data\\u002fde-Trac\",\"de\",\"242\"],[\"parallel_data\\u002fde-Trac\",\"de\",\"243\"],[\"parallel_data\\u002fde-Trac\",\"de\",\"244\"],[\"parallel_data\\u002fde-Trac\",\"de\",\"245\"],[\"parallel_data\\u002fde-Trac\",\"de\",\"246\"],[\"parallel_data\\u002fde-Trac\",\"de\",\"247\"],[\"parallel_data\\u002fde-Trac\",\"de\",\"248\"],[\"parallel_data\\u002fde-Trac\",\"de\",\"249\"],[\"parallel_data\\u002fde-Trac\",\"de\",\"250\"],[\"parallel_data\\u002fde-Trac\",\"de\",\"251\"],[\"parallel_data\\u002fde-Trac\",\"de\",\"252\"],[\"parallel_data\\u002fde-Trac\",\"de\",\"253\"],[\"parallel_data\\u002fde-Trac\",\"de\",\"254\"],[\"parallel_data\\u002fde-Trac\",\"de\",\"255\"],[\"parallel_data\\u002fde-Trac\",\"de\",\"256\"],[\"parallel_data\\u002fde-Trac\",\"de\",\"257\"],[\"parallel_data\\u002fde-Trac\",\"de\",\"258\"],[\"parallel_data\\u002fde-Trac\",\"de\",\"259\"],[\"parallel_data\\u002fde-Trac\",\"de\",\"260\"],[\"parallel_data\\u002fde-Trac\",\"de\",\"261\"],[\"parallel_data\\u002fde-Trac\",\"de\",\"262\"],[\"parallel_data\\u002fde-Trac\",\"de\",\"263\"],[\"parallel_data\\u002fde-Trac\",\"de\",\"264\"],[\"parallel_data\\u002fde-Trac\",\"de\",\"265\"],[\"parallel_data\\u002fde-Trac\",\"de\",\"266\"],[\"parallel_data\\u002fde-Trac\",\"de\",\"267\"],[\"parallel_data\\u002fde-Trac\",\"de\",\"268\"],[\"parallel_data\\u002fde-Trac\",\"de\",\"269\"],[\"parallel_data\\u002fde-Trac\",\"de\",\"270\"],[\"parallel_data\\u002fde-Trac\",\"de\",\"271\"],[\"parallel_data\\u002fde-Trac\",\"de\",\"272\"],[\"parallel_data\\u002fde-Trac\",\"de\",\"273\"],[\"parallel_data\\u002fde-Trac\",\"de\",\"274\"],[\"parallel_data\\u002fde-Trac\",\"de\",\"275\"],[\"parallel_data\\u002fde-Trac\",\"de\",\"276\"],[\"parallel_data\\u002fde-Trac\",\"de\",\"277\"],[\"parallel_data\\u002fde-Trac\",\"de\",\"278\"],[\"parallel_data\\u002fde-Trac\",\"de\",\"279\"],[\"parallel_data\\u002fde-Trac\",\"de\",\"280\"],[\"parallel_data\\u002fde-Trac\",\"de\",\"281\"],[\"parallel_data\\u002fde-Trac\",\"de\",\"282\"],[\"parallel_data\\u002fde-Trac\",\"de\",\"283\"],[\"parallel_data\\u002fde-Trac\",\"de\",\"284\"],[\"parallel_data\\u002fde-Trac\",\"de\",\"285\"],[\"parallel_data\\u002fde-Trac\",\"de\",\"286\"],[\"parallel_data\\u002fde-Trac\",\"de\",\"287\"],[\"parallel_data\\u002fde-Trac\",\"de\",\"288\"],[\"parallel_data\\u002fde-Trac\",\"de\",\"289\"],[\"parallel_data\\u002fde-Trac\",\"de\",\"290\"],[\"parallel_data\\u002fde-Trac\",\"de\",\"291\"],[\"parallel_data\\u002fde-Trac\",\"de\",\"292\"],[\"parallel_data\\u002fde-Trac\",\"de\",\"293\"],[\"parallel_data\\u002fde-Trac\",\"de\",\"294\"],[\"parallel_data\\u002fde-Trac\",\"de\",\"295\"],[\"parallel_data\\u002fde-Trac\",\"de\",\"296\"],[\"parallel_data\\u002fde-Trac\",\"de\",\"297\"],[\"parallel_data\\u002fde-Trac\",\"de\",\"298\"],[\"parallel_data\\u002fde-Trac\",\"de\",\"299\"]],\"hovertemplate\":\"language=%{customdata[1]}\\u003cbr\\u003ex=%{x}\\u003cbr\\u003ey=%{y}\\u003cbr\\u003edataset_name=%{customdata[0]}\\u003cbr\\u003eid=%{customdata[2]}\\u003cextra\\u003e\\u003c\\u002fextra\\u003e\",\"legendgroup\":\"de\",\"marker\":{\"color\":\"#00cc96\",\"symbol\":\"circle\"},\"mode\":\"markers\",\"name\":\"de\",\"showlegend\":true,\"x\":[6.673779,-20.71043,-6.476012,-35.61716,-43.911964,19.451706,-46.72541,-19.595991,-7.2832847,-17.165333,-21.949207,25.584658,-23.766138,32.093037,-14.3459425,25.64973,-38.35691,33.40088,-54.032345,13.509177,-23.989973,18.13371,5.1964545,-23.517454,-21.207281,0.267731,19.28692,34.15868,-15.380026,-19.648552,-10.63126,-21.002033,41.444344,-22.235977,-44.107117,27.714985,-16.065968,3.980919,-5.0640163,-28.526562,9.242787,-13.075067,-10.439539,-27.427244,2.6723785,-38.64745,12.797913,-12.193395,-8.037195,-39.118732,32.417686,0.25587288,8.572401,-5.568711,37.77289,10.058648,50.02425,6.254796,-1.7157155,38.43391,-2.9681838,-12.502509,21.362986,-28.484161,5.526907,3.3444762,-9.353509,34.857677,-31.535381,-17.307951,40.67995,32.43792,24.474379,38.568447,-27.869097,22.63048,-28.178082,1.0627209,45.849144,-10.163208,-1.566616,-0.25268617,-7.285901,-16.72253,-17.941107,24.563032,40.77586,-47.045784,30.150028,25.53228,-17.299852,30.214935,-2.6751997,32.818703,15.679552,-8.051008,-16.056108,23.316532,-53.651928,-15.71744,47.233627,7.8267426,20.092363,10.783014,-2.3545344,10.067471,-8.428271,-33.38258,2.1741657,-5.891108,-18.169266,-7.1127768,46.54693,-9.807789,18.98249,-13.395874,2.9266164,45.529095,-19.891855,42.752625,0.550112,-26.906086,11.1508665,-21.219568,46.533142,-49.92846,15.427831,-13.218049,18.999651,-11.96189,11.931422,30.671501,30.416637,-40.643105,27.728159,-3.5583336,13.364742,-2.984146,-12.503772,-9.041589,-28.83049,-3.913601,2.7391934,10.626361,5.7779465,-35.803844,42.000404,-50.30757,-59.665676,-28.839209,4.604789,34.598877,2.5434585,41.541355,-9.357632,38.838234,41.613506,27.779799,37.761204,-18.098333,15.82984,-10.727057,14.655308,-24.390135,-39.25545,-25.355844,15.787569,-44.421963,14.459754,10.722387,10.744208,-29.157347,22.05341,25.19177,-24.684769,13.255688,22.512514,33.427025,-2.5205448,-4.5480027,52.484833,-29.464361,-38.84008,-1.7651608,-22.98575,-0.05172251,20.49448,19.513296,6.296824,16.882801,-19.341196,40.98717,42.105762,6.7437773,-52.77684,6.453996,23.129286,-3.802453,-16.266106,-29.38107,-25.043516,-41.971214,-29.694794,-32.624355,27.345953,-16.542427,-19.164186,-6.319116,20.822973,-34.261215,32.349045,6.7112427,-43.09616,13.020538,-50.62258,-0.8324069,15.058953,23.492243,7.779659,53.00847,-32.654793,-34.1141,42.899406,43.601746,0.13891867,-9.087729,1.8250726,15.845335,46.58037,27.32295,-13.030652,-0.70349085,20.00943,13.15636,-47.07216,-49.985672,-10.662051,2.1162107,-5.8747354,-4.7754035,19.235752,25.19618,-29.401546,-14.551953,22.364899,5.2525096,-47.092106,-30.962872,33.723415,-39.370678,2.873743,9.820189,-23.96464,-5.5856686,-23.262981,-32.23243,-20.906101,25.510075,-27.615618,12.095832,21.116358,-35.803097,-27.166113,3.3629665,-19.928682,-53.50728,-21.589518,-32.09044,-25.877924,16.628603,-22.593758,53.363373,11.6403475,10.675758,-26.691093,38.81886,17.75698,25.599688,-21.93951,19.917582,38.139248,11.103475,14.756678,37.090557,-25.945574,35.468513,38.672295,6.76525,39.35418,19.141432,-28.525908,-34.028378,-42.136715,-15.873787,-0.45195785,17.659945,51.92838,-4.9943895,-9.346142,-4.157893],\"xaxis\":\"x\",\"y\":[20.886934,34.97851,26.57894,-16.618816,-34.088207,54.552643,-39.32822,-27.062714,21.693447,-37.07209,19.267262,-38.640724,32.842583,-46.919373,4.9378686,-29.848806,-34.13381,30.140894,-13.997944,29.752047,-22.726768,-11.231709,12.098115,-27.210882,29.048847,-12.887241,32.939648,43.770607,21.71009,-21.097338,6.5218453,7.943199,-1.0935899,-12.39996,-11.362747,6.2857494,-31.76054,-40.78223,17.389023,-0.66946286,13.197909,-6.1429024,1.0589848,-29.629934,10.6871,-45.558098,-13.316963,-20.21566,31.711359,32.61715,-0.9302884,53.569645,-37.356865,-21.341198,-25.989422,-31.24668,10.464722,-22.963818,14.1639185,36.365097,30.188423,-33.451427,14.374406,-15.064105,6.1167536,-25.995602,11.8474245,10.313132,25.664885,30.88178,-5.394122,-36.063904,17.56035,17.189505,23.560946,6.8432784,55.999744,-7.2570963,-8.287629,18.581097,8.929569,-2.2986581,40.874573,-24.076782,24.845957,46.518055,21.715094,-19.908106,-18.598263,-15.392298,49.97141,7.2343097,40.231865,4.6172957,-19.150454,-42.742905,44.055294,-26.864626,-27.889008,9.405304,-15.434049,38.717003,-43.721252,44.011406,-53.343544,4.5834465,-17.865894,15.166415,-50.593323,36.854027,-18.6183,-25.687845,4.0099015,27.147684,26.150486,-48.202423,1.4336921,-2.1645849,-15.909954,19.043816,19.405794,28.96373,-9.737626,23.439419,12.74463,-27.300564,-28.244389,15.650339,46.104767,23.889507,-23.43173,18.071182,12.29303,-20.625788,-28.23365,22.277601,22.64134,-49.37055,30.629944,50.157673,7.33621,48.01592,5.7253075,48.234318,26.126318,-38.057133,-37.510456,-44.178722,-20.338308,-21.449963,15.688081,-6.043913,-18.961912,6.746782,-1.175725,-8.339918,12.548547,23.865835,6.7765875,18.475298,44.40139,43.18074,-8.089082,24.338919,2.5147767,20.773865,-1.8211464,-45.205574,2.5982103,-0.7400165,-5.3524814,-9.009342,-40.239807,10.897897,37.930485,17.861004,-9.518126,35.631916,-38.018433,-13.865064,4.1636844,20.500538,-40.545273,35.80017,16.486689,-50.505386,39.731953,1.4621404,-13.370024,-24.029133,2.2552743,-22.010721,2.8312912,32.757984,-9.151024,-8.80043,-5.6172895,-6.2835803,-11.842784,-24.821224,-7.2886806,-29.76581,-36.925213,-46.083584,-8.80243,38.4595,12.608555,14.510462,-52.670475,-22.472727,-13.234124,52.89179,-25.982916,-35.00003,-34.14322,3.1937358,9.451193,-19.817823,9.185075,-3.3423657,7.506431,41.160156,27.982954,22.35783,-30.020983,38.063934,-46.95345,42.76071,26.117794,-3.7066305,-27.676102,24.724987,-34.3733,37.01912,6.201237,17.990911,-12.282081,30.246696,8.520229,3.6706705,-3.548841,14.744658,38.19944,34.025387,-2.1387978,-3.2611048,-30.354973,-43.729473,-22.539457,17.70304,46.091084,-27.291388,-3.0246322,-11.104531,-19.23841,-27.150204,-44.37496,0.2897338,17.085243,-40.436302,10.947547,-10.289841,-11.048796,-33.284653,-6.31037,-23.33531,48.04051,-38.380516,2.7136528,12.270747,-32.462242,-13.009631,-46.62291,-18.431932,-41.378975,-1.4290925,-6.4995317,33.92681,43.613976,-16.060125,-15.946983,59.31633,5.833867,1.8806101,11.324526,21.492283,25.983953,1.7511817,0.96362823,8.484609,-50.84349,-33.5539,-37.989506,-1.6741183,-24.026943,18.229174,-20.438164,-30.850267,-4.8439574,-1.6756189],\"yaxis\":\"y\",\"type\":\"scattergl\"},{\"customdata\":[[\"parallel_data\\u002fhr-Trac\",\"hr\",\"0\"],[\"parallel_data\\u002fhr-Trac\",\"hr\",\"1\"],[\"parallel_data\\u002fhr-Trac\",\"hr\",\"2\"],[\"parallel_data\\u002fhr-Trac\",\"hr\",\"3\"],[\"parallel_data\\u002fhr-Trac\",\"hr\",\"4\"],[\"parallel_data\\u002fhr-Trac\",\"hr\",\"5\"],[\"parallel_data\\u002fhr-Trac\",\"hr\",\"6\"],[\"parallel_data\\u002fhr-Trac\",\"hr\",\"7\"],[\"parallel_data\\u002fhr-Trac\",\"hr\",\"8\"],[\"parallel_data\\u002fhr-Trac\",\"hr\",\"9\"],[\"parallel_data\\u002fhr-Trac\",\"hr\",\"10\"],[\"parallel_data\\u002fhr-Trac\",\"hr\",\"11\"],[\"parallel_data\\u002fhr-Trac\",\"hr\",\"12\"],[\"parallel_data\\u002fhr-Trac\",\"hr\",\"13\"],[\"parallel_data\\u002fhr-Trac\",\"hr\",\"14\"],[\"parallel_data\\u002fhr-Trac\",\"hr\",\"15\"],[\"parallel_data\\u002fhr-Trac\",\"hr\",\"16\"],[\"parallel_data\\u002fhr-Trac\",\"hr\",\"17\"],[\"parallel_data\\u002fhr-Trac\",\"hr\",\"18\"],[\"parallel_data\\u002fhr-Trac\",\"hr\",\"19\"],[\"parallel_data\\u002fhr-Trac\",\"hr\",\"20\"],[\"parallel_data\\u002fhr-Trac\",\"hr\",\"21\"],[\"parallel_data\\u002fhr-Trac\",\"hr\",\"22\"],[\"parallel_data\\u002fhr-Trac\",\"hr\",\"23\"],[\"parallel_data\\u002fhr-Trac\",\"hr\",\"24\"],[\"parallel_data\\u002fhr-Trac\",\"hr\",\"25\"],[\"parallel_data\\u002fhr-Trac\",\"hr\",\"26\"],[\"parallel_data\\u002fhr-Trac\",\"hr\",\"27\"],[\"parallel_data\\u002fhr-Trac\",\"hr\",\"28\"],[\"parallel_data\\u002fhr-Trac\",\"hr\",\"29\"],[\"parallel_data\\u002fhr-Trac\",\"hr\",\"30\"],[\"parallel_data\\u002fhr-Trac\",\"hr\",\"31\"],[\"parallel_data\\u002fhr-Trac\",\"hr\",\"32\"],[\"parallel_data\\u002fhr-Trac\",\"hr\",\"33\"],[\"parallel_data\\u002fhr-Trac\",\"hr\",\"34\"],[\"parallel_data\\u002fhr-Trac\",\"hr\",\"35\"],[\"parallel_data\\u002fhr-Trac\",\"hr\",\"36\"],[\"parallel_data\\u002fhr-Trac\",\"hr\",\"37\"],[\"parallel_data\\u002fhr-Trac\",\"hr\",\"38\"],[\"parallel_data\\u002fhr-Trac\",\"hr\",\"39\"],[\"parallel_data\\u002fhr-Trac\",\"hr\",\"40\"],[\"parallel_data\\u002fhr-Trac\",\"hr\",\"41\"],[\"parallel_data\\u002fhr-Trac\",\"hr\",\"42\"],[\"parallel_data\\u002fhr-Trac\",\"hr\",\"43\"],[\"parallel_data\\u002fhr-Trac\",\"hr\",\"44\"],[\"parallel_data\\u002fhr-Trac\",\"hr\",\"45\"],[\"parallel_data\\u002fhr-Trac\",\"hr\",\"46\"],[\"parallel_data\\u002fhr-Trac\",\"hr\",\"47\"],[\"parallel_data\\u002fhr-Trac\",\"hr\",\"48\"],[\"parallel_data\\u002fhr-Trac\",\"hr\",\"49\"],[\"parallel_data\\u002fhr-Trac\",\"hr\",\"50\"],[\"parallel_data\\u002fhr-Trac\",\"hr\",\"51\"],[\"parallel_data\\u002fhr-Trac\",\"hr\",\"52\"],[\"parallel_data\\u002fhr-Trac\",\"hr\",\"53\"],[\"parallel_data\\u002fhr-Trac\",\"hr\",\"54\"],[\"parallel_data\\u002fhr-Trac\",\"hr\",\"55\"],[\"parallel_data\\u002fhr-Trac\",\"hr\",\"56\"],[\"parallel_data\\u002fhr-Trac\",\"hr\",\"57\"],[\"parallel_data\\u002fhr-Trac\",\"hr\",\"58\"],[\"parallel_data\\u002fhr-Trac\",\"hr\",\"59\"],[\"parallel_data\\u002fhr-Trac\",\"hr\",\"60\"],[\"parallel_data\\u002fhr-Trac\",\"hr\",\"61\"],[\"parallel_data\\u002fhr-Trac\",\"hr\",\"62\"],[\"parallel_data\\u002fhr-Trac\",\"hr\",\"63\"],[\"parallel_data\\u002fhr-Trac\",\"hr\",\"64\"],[\"parallel_data\\u002fhr-Trac\",\"hr\",\"65\"],[\"parallel_data\\u002fhr-Trac\",\"hr\",\"66\"],[\"parallel_data\\u002fhr-Trac\",\"hr\",\"67\"],[\"parallel_data\\u002fhr-Trac\",\"hr\",\"68\"],[\"parallel_data\\u002fhr-Trac\",\"hr\",\"69\"],[\"parallel_data\\u002fhr-Trac\",\"hr\",\"70\"],[\"parallel_data\\u002fhr-Trac\",\"hr\",\"71\"],[\"parallel_data\\u002fhr-Trac\",\"hr\",\"72\"],[\"parallel_data\\u002fhr-Trac\",\"hr\",\"73\"],[\"parallel_data\\u002fhr-Trac\",\"hr\",\"74\"],[\"parallel_data\\u002fhr-Trac\",\"hr\",\"75\"],[\"parallel_data\\u002fhr-Trac\",\"hr\",\"76\"],[\"parallel_data\\u002fhr-Trac\",\"hr\",\"77\"],[\"parallel_data\\u002fhr-Trac\",\"hr\",\"78\"],[\"parallel_data\\u002fhr-Trac\",\"hr\",\"79\"],[\"parallel_data\\u002fhr-Trac\",\"hr\",\"80\"],[\"parallel_data\\u002fhr-Trac\",\"hr\",\"81\"],[\"parallel_data\\u002fhr-Trac\",\"hr\",\"82\"],[\"parallel_data\\u002fhr-Trac\",\"hr\",\"83\"],[\"parallel_data\\u002fhr-Trac\",\"hr\",\"84\"],[\"parallel_data\\u002fhr-Trac\",\"hr\",\"85\"],[\"parallel_data\\u002fhr-Trac\",\"hr\",\"86\"],[\"parallel_data\\u002fhr-Trac\",\"hr\",\"87\"],[\"parallel_data\\u002fhr-Trac\",\"hr\",\"88\"],[\"parallel_data\\u002fhr-Trac\",\"hr\",\"89\"],[\"parallel_data\\u002fhr-Trac\",\"hr\",\"90\"],[\"parallel_data\\u002fhr-Trac\",\"hr\",\"91\"],[\"parallel_data\\u002fhr-Trac\",\"hr\",\"92\"],[\"parallel_data\\u002fhr-Trac\",\"hr\",\"93\"],[\"parallel_data\\u002fhr-Trac\",\"hr\",\"94\"],[\"parallel_data\\u002fhr-Trac\",\"hr\",\"95\"],[\"parallel_data\\u002fhr-Trac\",\"hr\",\"96\"],[\"parallel_data\\u002fhr-Trac\",\"hr\",\"97\"],[\"parallel_data\\u002fhr-Trac\",\"hr\",\"98\"],[\"parallel_data\\u002fhr-Trac\",\"hr\",\"99\"],[\"parallel_data\\u002fhr-Trac\",\"hr\",\"100\"],[\"parallel_data\\u002fhr-Trac\",\"hr\",\"101\"],[\"parallel_data\\u002fhr-Trac\",\"hr\",\"102\"],[\"parallel_data\\u002fhr-Trac\",\"hr\",\"103\"],[\"parallel_data\\u002fhr-Trac\",\"hr\",\"104\"],[\"parallel_data\\u002fhr-Trac\",\"hr\",\"105\"],[\"parallel_data\\u002fhr-Trac\",\"hr\",\"106\"],[\"parallel_data\\u002fhr-Trac\",\"hr\",\"107\"],[\"parallel_data\\u002fhr-Trac\",\"hr\",\"108\"],[\"parallel_data\\u002fhr-Trac\",\"hr\",\"109\"],[\"parallel_data\\u002fhr-Trac\",\"hr\",\"110\"],[\"parallel_data\\u002fhr-Trac\",\"hr\",\"111\"],[\"parallel_data\\u002fhr-Trac\",\"hr\",\"112\"],[\"parallel_data\\u002fhr-Trac\",\"hr\",\"113\"],[\"parallel_data\\u002fhr-Trac\",\"hr\",\"114\"],[\"parallel_data\\u002fhr-Trac\",\"hr\",\"115\"],[\"parallel_data\\u002fhr-Trac\",\"hr\",\"116\"],[\"parallel_data\\u002fhr-Trac\",\"hr\",\"117\"],[\"parallel_data\\u002fhr-Trac\",\"hr\",\"118\"],[\"parallel_data\\u002fhr-Trac\",\"hr\",\"119\"],[\"parallel_data\\u002fhr-Trac\",\"hr\",\"120\"],[\"parallel_data\\u002fhr-Trac\",\"hr\",\"121\"],[\"parallel_data\\u002fhr-Trac\",\"hr\",\"122\"],[\"parallel_data\\u002fhr-Trac\",\"hr\",\"123\"],[\"parallel_data\\u002fhr-Trac\",\"hr\",\"124\"],[\"parallel_data\\u002fhr-Trac\",\"hr\",\"125\"],[\"parallel_data\\u002fhr-Trac\",\"hr\",\"126\"],[\"parallel_data\\u002fhr-Trac\",\"hr\",\"127\"],[\"parallel_data\\u002fhr-Trac\",\"hr\",\"128\"],[\"parallel_data\\u002fhr-Trac\",\"hr\",\"129\"],[\"parallel_data\\u002fhr-Trac\",\"hr\",\"130\"],[\"parallel_data\\u002fhr-Trac\",\"hr\",\"131\"],[\"parallel_data\\u002fhr-Trac\",\"hr\",\"132\"],[\"parallel_data\\u002fhr-Trac\",\"hr\",\"133\"],[\"parallel_data\\u002fhr-Trac\",\"hr\",\"134\"],[\"parallel_data\\u002fhr-Trac\",\"hr\",\"135\"],[\"parallel_data\\u002fhr-Trac\",\"hr\",\"136\"],[\"parallel_data\\u002fhr-Trac\",\"hr\",\"137\"],[\"parallel_data\\u002fhr-Trac\",\"hr\",\"138\"],[\"parallel_data\\u002fhr-Trac\",\"hr\",\"139\"],[\"parallel_data\\u002fhr-Trac\",\"hr\",\"140\"],[\"parallel_data\\u002fhr-Trac\",\"hr\",\"141\"],[\"parallel_data\\u002fhr-Trac\",\"hr\",\"142\"],[\"parallel_data\\u002fhr-Trac\",\"hr\",\"143\"],[\"parallel_data\\u002fhr-Trac\",\"hr\",\"144\"],[\"parallel_data\\u002fhr-Trac\",\"hr\",\"145\"],[\"parallel_data\\u002fhr-Trac\",\"hr\",\"146\"],[\"parallel_data\\u002fhr-Trac\",\"hr\",\"147\"],[\"parallel_data\\u002fhr-Trac\",\"hr\",\"148\"],[\"parallel_data\\u002fhr-Trac\",\"hr\",\"149\"],[\"parallel_data\\u002fhr-Trac\",\"hr\",\"150\"],[\"parallel_data\\u002fhr-Trac\",\"hr\",\"151\"],[\"parallel_data\\u002fhr-Trac\",\"hr\",\"152\"],[\"parallel_data\\u002fhr-Trac\",\"hr\",\"153\"],[\"parallel_data\\u002fhr-Trac\",\"hr\",\"154\"],[\"parallel_data\\u002fhr-Trac\",\"hr\",\"155\"],[\"parallel_data\\u002fhr-Trac\",\"hr\",\"156\"],[\"parallel_data\\u002fhr-Trac\",\"hr\",\"157\"],[\"parallel_data\\u002fhr-Trac\",\"hr\",\"158\"],[\"parallel_data\\u002fhr-Trac\",\"hr\",\"159\"],[\"parallel_data\\u002fhr-Trac\",\"hr\",\"160\"],[\"parallel_data\\u002fhr-Trac\",\"hr\",\"161\"],[\"parallel_data\\u002fhr-Trac\",\"hr\",\"162\"],[\"parallel_data\\u002fhr-Trac\",\"hr\",\"163\"],[\"parallel_data\\u002fhr-Trac\",\"hr\",\"164\"],[\"parallel_data\\u002fhr-Trac\",\"hr\",\"165\"],[\"parallel_data\\u002fhr-Trac\",\"hr\",\"166\"],[\"parallel_data\\u002fhr-Trac\",\"hr\",\"167\"],[\"parallel_data\\u002fhr-Trac\",\"hr\",\"168\"],[\"parallel_data\\u002fhr-Trac\",\"hr\",\"169\"],[\"parallel_data\\u002fhr-Trac\",\"hr\",\"170\"],[\"parallel_data\\u002fhr-Trac\",\"hr\",\"171\"],[\"parallel_data\\u002fhr-Trac\",\"hr\",\"172\"],[\"parallel_data\\u002fhr-Trac\",\"hr\",\"173\"],[\"parallel_data\\u002fhr-Trac\",\"hr\",\"174\"],[\"parallel_data\\u002fhr-Trac\",\"hr\",\"175\"],[\"parallel_data\\u002fhr-Trac\",\"hr\",\"176\"],[\"parallel_data\\u002fhr-Trac\",\"hr\",\"177\"],[\"parallel_data\\u002fhr-Trac\",\"hr\",\"178\"],[\"parallel_data\\u002fhr-Trac\",\"hr\",\"179\"],[\"parallel_data\\u002fhr-Trac\",\"hr\",\"180\"],[\"parallel_data\\u002fhr-Trac\",\"hr\",\"181\"],[\"parallel_data\\u002fhr-Trac\",\"hr\",\"182\"],[\"parallel_data\\u002fhr-Trac\",\"hr\",\"183\"],[\"parallel_data\\u002fhr-Trac\",\"hr\",\"184\"],[\"parallel_data\\u002fhr-Trac\",\"hr\",\"185\"],[\"parallel_data\\u002fhr-Trac\",\"hr\",\"186\"],[\"parallel_data\\u002fhr-Trac\",\"hr\",\"187\"],[\"parallel_data\\u002fhr-Trac\",\"hr\",\"188\"],[\"parallel_data\\u002fhr-Trac\",\"hr\",\"189\"],[\"parallel_data\\u002fhr-Trac\",\"hr\",\"190\"],[\"parallel_data\\u002fhr-Trac\",\"hr\",\"191\"],[\"parallel_data\\u002fhr-Trac\",\"hr\",\"192\"],[\"parallel_data\\u002fhr-Trac\",\"hr\",\"193\"],[\"parallel_data\\u002fhr-Trac\",\"hr\",\"194\"],[\"parallel_data\\u002fhr-Trac\",\"hr\",\"195\"],[\"parallel_data\\u002fhr-Trac\",\"hr\",\"196\"],[\"parallel_data\\u002fhr-Trac\",\"hr\",\"197\"],[\"parallel_data\\u002fhr-Trac\",\"hr\",\"198\"],[\"parallel_data\\u002fhr-Trac\",\"hr\",\"199\"],[\"parallel_data\\u002fhr-Trac\",\"hr\",\"200\"],[\"parallel_data\\u002fhr-Trac\",\"hr\",\"201\"],[\"parallel_data\\u002fhr-Trac\",\"hr\",\"202\"],[\"parallel_data\\u002fhr-Trac\",\"hr\",\"203\"],[\"parallel_data\\u002fhr-Trac\",\"hr\",\"204\"],[\"parallel_data\\u002fhr-Trac\",\"hr\",\"205\"],[\"parallel_data\\u002fhr-Trac\",\"hr\",\"206\"],[\"parallel_data\\u002fhr-Trac\",\"hr\",\"207\"],[\"parallel_data\\u002fhr-Trac\",\"hr\",\"208\"],[\"parallel_data\\u002fhr-Trac\",\"hr\",\"209\"],[\"parallel_data\\u002fhr-Trac\",\"hr\",\"210\"],[\"parallel_data\\u002fhr-Trac\",\"hr\",\"211\"],[\"parallel_data\\u002fhr-Trac\",\"hr\",\"212\"],[\"parallel_data\\u002fhr-Trac\",\"hr\",\"213\"],[\"parallel_data\\u002fhr-Trac\",\"hr\",\"214\"],[\"parallel_data\\u002fhr-Trac\",\"hr\",\"215\"],[\"parallel_data\\u002fhr-Trac\",\"hr\",\"216\"],[\"parallel_data\\u002fhr-Trac\",\"hr\",\"217\"],[\"parallel_data\\u002fhr-Trac\",\"hr\",\"218\"],[\"parallel_data\\u002fhr-Trac\",\"hr\",\"219\"],[\"parallel_data\\u002fhr-Trac\",\"hr\",\"220\"],[\"parallel_data\\u002fhr-Trac\",\"hr\",\"221\"],[\"parallel_data\\u002fhr-Trac\",\"hr\",\"222\"],[\"parallel_data\\u002fhr-Trac\",\"hr\",\"223\"],[\"parallel_data\\u002fhr-Trac\",\"hr\",\"224\"],[\"parallel_data\\u002fhr-Trac\",\"hr\",\"225\"],[\"parallel_data\\u002fhr-Trac\",\"hr\",\"226\"],[\"parallel_data\\u002fhr-Trac\",\"hr\",\"227\"],[\"parallel_data\\u002fhr-Trac\",\"hr\",\"228\"],[\"parallel_data\\u002fhr-Trac\",\"hr\",\"229\"],[\"parallel_data\\u002fhr-Trac\",\"hr\",\"230\"],[\"parallel_data\\u002fhr-Trac\",\"hr\",\"231\"],[\"parallel_data\\u002fhr-Trac\",\"hr\",\"232\"],[\"parallel_data\\u002fhr-Trac\",\"hr\",\"233\"],[\"parallel_data\\u002fhr-Trac\",\"hr\",\"234\"],[\"parallel_data\\u002fhr-Trac\",\"hr\",\"235\"],[\"parallel_data\\u002fhr-Trac\",\"hr\",\"236\"],[\"parallel_data\\u002fhr-Trac\",\"hr\",\"237\"],[\"parallel_data\\u002fhr-Trac\",\"hr\",\"238\"],[\"parallel_data\\u002fhr-Trac\",\"hr\",\"239\"],[\"parallel_data\\u002fhr-Trac\",\"hr\",\"240\"],[\"parallel_data\\u002fhr-Trac\",\"hr\",\"241\"],[\"parallel_data\\u002fhr-Trac\",\"hr\",\"242\"],[\"parallel_data\\u002fhr-Trac\",\"hr\",\"243\"],[\"parallel_data\\u002fhr-Trac\",\"hr\",\"244\"],[\"parallel_data\\u002fhr-Trac\",\"hr\",\"245\"],[\"parallel_data\\u002fhr-Trac\",\"hr\",\"246\"],[\"parallel_data\\u002fhr-Trac\",\"hr\",\"247\"],[\"parallel_data\\u002fhr-Trac\",\"hr\",\"248\"],[\"parallel_data\\u002fhr-Trac\",\"hr\",\"249\"],[\"parallel_data\\u002fhr-Trac\",\"hr\",\"250\"],[\"parallel_data\\u002fhr-Trac\",\"hr\",\"251\"],[\"parallel_data\\u002fhr-Trac\",\"hr\",\"252\"],[\"parallel_data\\u002fhr-Trac\",\"hr\",\"253\"],[\"parallel_data\\u002fhr-Trac\",\"hr\",\"254\"],[\"parallel_data\\u002fhr-Trac\",\"hr\",\"255\"],[\"parallel_data\\u002fhr-Trac\",\"hr\",\"256\"],[\"parallel_data\\u002fhr-Trac\",\"hr\",\"257\"],[\"parallel_data\\u002fhr-Trac\",\"hr\",\"258\"],[\"parallel_data\\u002fhr-Trac\",\"hr\",\"259\"],[\"parallel_data\\u002fhr-Trac\",\"hr\",\"260\"],[\"parallel_data\\u002fhr-Trac\",\"hr\",\"261\"],[\"parallel_data\\u002fhr-Trac\",\"hr\",\"262\"],[\"parallel_data\\u002fhr-Trac\",\"hr\",\"263\"],[\"parallel_data\\u002fhr-Trac\",\"hr\",\"264\"],[\"parallel_data\\u002fhr-Trac\",\"hr\",\"265\"],[\"parallel_data\\u002fhr-Trac\",\"hr\",\"266\"],[\"parallel_data\\u002fhr-Trac\",\"hr\",\"267\"],[\"parallel_data\\u002fhr-Trac\",\"hr\",\"268\"],[\"parallel_data\\u002fhr-Trac\",\"hr\",\"269\"],[\"parallel_data\\u002fhr-Trac\",\"hr\",\"270\"],[\"parallel_data\\u002fhr-Trac\",\"hr\",\"271\"],[\"parallel_data\\u002fhr-Trac\",\"hr\",\"272\"],[\"parallel_data\\u002fhr-Trac\",\"hr\",\"273\"],[\"parallel_data\\u002fhr-Trac\",\"hr\",\"274\"],[\"parallel_data\\u002fhr-Trac\",\"hr\",\"275\"],[\"parallel_data\\u002fhr-Trac\",\"hr\",\"276\"],[\"parallel_data\\u002fhr-Trac\",\"hr\",\"277\"],[\"parallel_data\\u002fhr-Trac\",\"hr\",\"278\"],[\"parallel_data\\u002fhr-Trac\",\"hr\",\"279\"],[\"parallel_data\\u002fhr-Trac\",\"hr\",\"280\"],[\"parallel_data\\u002fhr-Trac\",\"hr\",\"281\"],[\"parallel_data\\u002fhr-Trac\",\"hr\",\"282\"],[\"parallel_data\\u002fhr-Trac\",\"hr\",\"283\"],[\"parallel_data\\u002fhr-Trac\",\"hr\",\"284\"],[\"parallel_data\\u002fhr-Trac\",\"hr\",\"285\"],[\"parallel_data\\u002fhr-Trac\",\"hr\",\"286\"],[\"parallel_data\\u002fhr-Trac\",\"hr\",\"287\"],[\"parallel_data\\u002fhr-Trac\",\"hr\",\"288\"],[\"parallel_data\\u002fhr-Trac\",\"hr\",\"289\"],[\"parallel_data\\u002fhr-Trac\",\"hr\",\"290\"],[\"parallel_data\\u002fhr-Trac\",\"hr\",\"291\"],[\"parallel_data\\u002fhr-Trac\",\"hr\",\"292\"],[\"parallel_data\\u002fhr-Trac\",\"hr\",\"293\"],[\"parallel_data\\u002fhr-Trac\",\"hr\",\"294\"],[\"parallel_data\\u002fhr-Trac\",\"hr\",\"295\"],[\"parallel_data\\u002fhr-Trac\",\"hr\",\"296\"],[\"parallel_data\\u002fhr-Trac\",\"hr\",\"297\"],[\"parallel_data\\u002fhr-Trac\",\"hr\",\"298\"],[\"parallel_data\\u002fhr-Trac\",\"hr\",\"299\"]],\"hovertemplate\":\"language=%{customdata[1]}\\u003cbr\\u003ex=%{x}\\u003cbr\\u003ey=%{y}\\u003cbr\\u003edataset_name=%{customdata[0]}\\u003cbr\\u003eid=%{customdata[2]}\\u003cextra\\u003e\\u003c\\u002fextra\\u003e\",\"legendgroup\":\"hr\",\"marker\":{\"color\":\"#ab63fa\",\"symbol\":\"circle\"},\"mode\":\"markers\",\"name\":\"hr\",\"showlegend\":true,\"x\":[6.2359104,-20.518553,-6.144061,-36.53349,-44.84895,19.056831,-46.593502,-19.84156,-7.731448,-17.448748,-21.799917,25.394138,-24.170948,32.131874,-14.551013,26.179573,-38.06289,33.30239,-54.066032,13.943223,-23.474697,18.423203,5.1761394,-23.897364,-21.735628,0.31223646,19.176697,34.125214,-14.852404,-19.696247,-10.389934,-20.872341,41.35267,-22.118729,-44.31566,27.509674,-16.537514,4.4227448,-5.474539,-28.438211,8.943493,-13.750201,-10.519036,-27.72404,3.2608058,-38.938602,13.147661,-12.518405,-7.827682,-38.4677,31.685976,0.49984914,8.0067215,-5.615606,37.77453,9.400271,49.941475,6.7229886,-1.3205063,38.552673,-3.7574089,-12.129501,21.23345,-28.651985,5.699981,4.0495076,-9.372764,34.814804,-31.263624,-17.55261,40.51666,32.420166,25.18484,37.642723,-28.260868,22.582663,-27.82361,1.741679,45.846264,-10.66634,-1.9088837,0.26546177,-6.37226,-16.956964,-18.015127,25.485838,40.905132,-47.261,30.613087,25.518398,-17.403118,30.29355,-2.6521688,33.099556,15.231847,-8.409871,-16.190853,24.005175,-53.55876,-15.359532,46.527054,7.6771984,19.75124,10.43405,-2.0261815,9.970929,-9.039133,-32.89358,2.6412554,-5.5663724,-17.595854,-7.2877626,47.07869,-9.644245,19.400536,-13.710977,3.4957602,45.144615,-19.864489,43.687294,0.116926625,-27.406622,11.19537,-20.532404,46.943695,-49.833015,14.995474,-12.443414,18.34199,-11.942251,11.167075,30.51502,29.089548,-41.107662,27.655401,-3.620343,13.107178,-3.415243,-12.06478,-8.666917,-29.27231,-4.131433,3.6775148,10.7533045,5.7549615,-35.47768,41.287384,-49.738216,-60.16297,-28.896135,4.2359524,34.170677,2.6249702,41.389957,-8.763306,38.093147,42.206734,27.829317,37.521893,-17.589586,15.393677,-10.701665,14.72759,-24.741276,-39.719074,-24.93356,16.18431,-44.80839,14.429876,10.947587,11.705104,-29.200556,21.500645,24.831911,-24.638512,13.778977,21.910042,32.849556,-2.404732,-4.1979365,53.120495,-29.568388,-39.04608,-0.7138242,-23.133951,-0.15980256,20.56831,19.196218,6.154645,17.03468,-19.49435,41.5496,42.3301,6.673858,-53.357224,6.149619,23.184313,-4.573469,-15.975096,-29.493608,-24.3005,-41.61336,-29.344475,-32.19259,27.087507,-17.012268,-19.202566,-5.986275,21.859133,-33.248417,32.87173,7.6349826,-42.827156,13.704138,-50.363358,-0.87020844,15.262919,23.374023,8.007733,53.412647,-32.954533,-34.99008,42.75365,42.806213,0.66147965,-9.14377,0.9542362,16.52994,46.407425,27.362297,-12.607206,-0.65599275,19.936386,13.005553,-46.947544,-49.448257,-10.305293,1.6602849,-6.300351,-4.86315,19.966269,25.628094,-28.969366,-14.255451,22.784578,5.4388304,-47.835506,-30.698816,33.836987,-39.83692,3.0369544,9.752143,-23.243198,-5.608658,-23.930637,-33.01263,-20.39968,25.471224,-27.69025,12.228101,20.84506,-35.889103,-26.766462,3.615953,-20.304829,-53.583294,-21.17927,-32.093597,-26.003107,16.651806,-22.52208,53.209347,11.286699,10.257222,-26.477749,38.605206,17.771267,25.533766,-22.004803,20.936762,38.1935,10.6199045,14.563833,36.254692,-26.867006,35.398426,38.6244,6.6287227,39.167114,19.30859,-28.295565,-33.698715,-42.057896,-16.128899,0.3263328,17.750656,51.166565,-3.9337857,-9.430362,-3.5378852],\"xaxis\":\"x\",\"y\":[20.996428,34.645374,26.131195,-16.01322,-34.34772,55.19221,-39.65331,-27.359598,21.51865,-37.496826,19.290718,-38.12738,33.009026,-46.63382,4.931561,-30.202848,-33.800144,29.64261,-14.501751,29.532364,-23.462362,-10.569475,11.656154,-27.291147,29.064493,-12.706654,33.074333,43.756493,21.445717,-20.939936,7.2083135,7.976241,-1.7359966,-13.07077,-11.620235,6.6797194,-31.712584,-40.37027,17.473251,-0.8450399,12.808277,-6.5711126,1.1903213,-30.467426,10.402211,-45.48706,-13.339355,-19.996971,32.303226,32.696766,-1.4035872,53.060444,-36.776478,-21.306564,-25.91168,-31.780916,10.827933,-23.585405,14.794231,36.817448,29.780184,-33.2227,14.185377,-15.919829,6.397743,-25.711458,11.230999,10.1911955,25.647354,30.524345,-4.3064775,-36.171356,17.906553,17.003633,23.98984,7.2533503,55.58067,-7.1643023,-8.003897,17.917704,9.135216,-1.8639554,40.83668,-24.106838,24.179787,46.69541,21.9388,-19.404703,-18.387112,-15.311843,49.72873,7.753554,40.66118,4.122537,-19.139097,-43.1176,43.935703,-27.296618,-27.535254,9.395013,-15.157694,38.849075,-43.728153,43.350018,-53.466682,4.867572,-17.749413,15.712602,-50.245377,35.999447,-18.745707,-26.492449,4.616035,26.88019,25.78495,-48.640465,1.5057783,-2.5674617,-16.384739,19.704182,19.15539,29.111969,-9.766464,23.177467,12.493743,-27.038876,-28.416775,15.673731,46.501198,23.803476,-23.51056,17.54025,12.589355,-21.626497,-27.8606,22.058147,22.906202,-49.67716,30.46389,50.899036,7.1152053,48.65505,5.992751,48.655216,25.479355,-37.682465,-36.76449,-43.534714,-19.627361,-21.577961,15.8301115,-6.0811405,-18.378506,6.3861933,-1.1583492,-8.76636,12.656028,24.162724,6.4945927,18.228876,44.885117,43.326077,-8.0697365,24.57324,1.7343667,20.644455,-1.7841178,-44.47977,2.4837492,-0.4723814,-4.7760873,-8.587472,-39.65065,11.099111,37.53628,17.360273,-8.994977,36.21838,-37.981308,-13.742253,3.5581012,20.579868,-40.2667,36.140903,16.524227,-50.181602,39.745636,1.0745602,-13.349016,-24.600677,1.8083605,-21.502554,2.5323348,32.556465,-9.911211,-9.139015,-5.6600637,-5.9617434,-11.615631,-24.401157,-6.6832933,-29.500967,-36.434494,-46.178715,-8.057133,38.75517,12.755276,13.412572,-52.68087,-22.122446,-12.90679,53.11149,-25.80141,-35.442947,-33.80606,3.6161678,9.234308,-20.08241,9.341673,-2.0808907,7.595606,41.47064,27.516685,23.175522,-29.919828,38.228554,-47.595413,42.7993,25.741692,-3.9726462,-27.40672,24.532652,-33.62895,37.1381,5.651284,16.7159,-11.97312,30.650974,8.612984,4.189266,-3.7669992,14.428524,38.199562,34.561684,-2.1814144,-2.6894062,-29.886246,-43.897312,-22.197525,18.10124,45.64632,-27.390581,-2.8943007,-10.889949,-19.174082,-26.88706,-44.28158,0.18760341,16.919043,-40.96023,10.774101,-10.560648,-12.055927,-33.71019,-5.430817,-23.418728,47.84887,-38.903282,3.1681027,12.462228,-32.649273,-12.608624,-46.09411,-17.76958,-41.54263,-1.8708507,-6.1228733,34.509174,43.70146,-15.474267,-16.42437,58.619915,6.1109447,1.8177447,10.614372,21.124844,25.677963,2.4119875,0.7336325,8.879045,-50.696224,-33.451565,-37.71026,-2.6225464,-24.051855,18.497828,-20.72569,-30.925423,-4.8658953,-0.78067136],\"yaxis\":\"y\",\"type\":\"scattergl\"},{\"customdata\":[[\"parallel_data\\u002fru-Trac\",\"ru\",\"0\"],[\"parallel_data\\u002fru-Trac\",\"ru\",\"1\"],[\"parallel_data\\u002fru-Trac\",\"ru\",\"2\"],[\"parallel_data\\u002fru-Trac\",\"ru\",\"3\"],[\"parallel_data\\u002fru-Trac\",\"ru\",\"4\"],[\"parallel_data\\u002fru-Trac\",\"ru\",\"5\"],[\"parallel_data\\u002fru-Trac\",\"ru\",\"6\"],[\"parallel_data\\u002fru-Trac\",\"ru\",\"7\"],[\"parallel_data\\u002fru-Trac\",\"ru\",\"8\"],[\"parallel_data\\u002fru-Trac\",\"ru\",\"9\"],[\"parallel_data\\u002fru-Trac\",\"ru\",\"10\"],[\"parallel_data\\u002fru-Trac\",\"ru\",\"11\"],[\"parallel_data\\u002fru-Trac\",\"ru\",\"12\"],[\"parallel_data\\u002fru-Trac\",\"ru\",\"13\"],[\"parallel_data\\u002fru-Trac\",\"ru\",\"14\"],[\"parallel_data\\u002fru-Trac\",\"ru\",\"15\"],[\"parallel_data\\u002fru-Trac\",\"ru\",\"16\"],[\"parallel_data\\u002fru-Trac\",\"ru\",\"17\"],[\"parallel_data\\u002fru-Trac\",\"ru\",\"18\"],[\"parallel_data\\u002fru-Trac\",\"ru\",\"19\"],[\"parallel_data\\u002fru-Trac\",\"ru\",\"20\"],[\"parallel_data\\u002fru-Trac\",\"ru\",\"21\"],[\"parallel_data\\u002fru-Trac\",\"ru\",\"22\"],[\"parallel_data\\u002fru-Trac\",\"ru\",\"23\"],[\"parallel_data\\u002fru-Trac\",\"ru\",\"24\"],[\"parallel_data\\u002fru-Trac\",\"ru\",\"25\"],[\"parallel_data\\u002fru-Trac\",\"ru\",\"26\"],[\"parallel_data\\u002fru-Trac\",\"ru\",\"27\"],[\"parallel_data\\u002fru-Trac\",\"ru\",\"28\"],[\"parallel_data\\u002fru-Trac\",\"ru\",\"29\"],[\"parallel_data\\u002fru-Trac\",\"ru\",\"30\"],[\"parallel_data\\u002fru-Trac\",\"ru\",\"31\"],[\"parallel_data\\u002fru-Trac\",\"ru\",\"32\"],[\"parallel_data\\u002fru-Trac\",\"ru\",\"33\"],[\"parallel_data\\u002fru-Trac\",\"ru\",\"34\"],[\"parallel_data\\u002fru-Trac\",\"ru\",\"35\"],[\"parallel_data\\u002fru-Trac\",\"ru\",\"36\"],[\"parallel_data\\u002fru-Trac\",\"ru\",\"37\"],[\"parallel_data\\u002fru-Trac\",\"ru\",\"38\"],[\"parallel_data\\u002fru-Trac\",\"ru\",\"39\"],[\"parallel_data\\u002fru-Trac\",\"ru\",\"40\"],[\"parallel_data\\u002fru-Trac\",\"ru\",\"41\"],[\"parallel_data\\u002fru-Trac\",\"ru\",\"42\"],[\"parallel_data\\u002fru-Trac\",\"ru\",\"43\"],[\"parallel_data\\u002fru-Trac\",\"ru\",\"44\"],[\"parallel_data\\u002fru-Trac\",\"ru\",\"45\"],[\"parallel_data\\u002fru-Trac\",\"ru\",\"46\"],[\"parallel_data\\u002fru-Trac\",\"ru\",\"47\"],[\"parallel_data\\u002fru-Trac\",\"ru\",\"48\"],[\"parallel_data\\u002fru-Trac\",\"ru\",\"49\"],[\"parallel_data\\u002fru-Trac\",\"ru\",\"50\"],[\"parallel_data\\u002fru-Trac\",\"ru\",\"51\"],[\"parallel_data\\u002fru-Trac\",\"ru\",\"52\"],[\"parallel_data\\u002fru-Trac\",\"ru\",\"53\"],[\"parallel_data\\u002fru-Trac\",\"ru\",\"54\"],[\"parallel_data\\u002fru-Trac\",\"ru\",\"55\"],[\"parallel_data\\u002fru-Trac\",\"ru\",\"56\"],[\"parallel_data\\u002fru-Trac\",\"ru\",\"57\"],[\"parallel_data\\u002fru-Trac\",\"ru\",\"58\"],[\"parallel_data\\u002fru-Trac\",\"ru\",\"59\"],[\"parallel_data\\u002fru-Trac\",\"ru\",\"60\"],[\"parallel_data\\u002fru-Trac\",\"ru\",\"61\"],[\"parallel_data\\u002fru-Trac\",\"ru\",\"62\"],[\"parallel_data\\u002fru-Trac\",\"ru\",\"63\"],[\"parallel_data\\u002fru-Trac\",\"ru\",\"64\"],[\"parallel_data\\u002fru-Trac\",\"ru\",\"65\"],[\"parallel_data\\u002fru-Trac\",\"ru\",\"66\"],[\"parallel_data\\u002fru-Trac\",\"ru\",\"67\"],[\"parallel_data\\u002fru-Trac\",\"ru\",\"68\"],[\"parallel_data\\u002fru-Trac\",\"ru\",\"69\"],[\"parallel_data\\u002fru-Trac\",\"ru\",\"70\"],[\"parallel_data\\u002fru-Trac\",\"ru\",\"71\"],[\"parallel_data\\u002fru-Trac\",\"ru\",\"72\"],[\"parallel_data\\u002fru-Trac\",\"ru\",\"73\"],[\"parallel_data\\u002fru-Trac\",\"ru\",\"74\"],[\"parallel_data\\u002fru-Trac\",\"ru\",\"75\"],[\"parallel_data\\u002fru-Trac\",\"ru\",\"76\"],[\"parallel_data\\u002fru-Trac\",\"ru\",\"77\"],[\"parallel_data\\u002fru-Trac\",\"ru\",\"78\"],[\"parallel_data\\u002fru-Trac\",\"ru\",\"79\"],[\"parallel_data\\u002fru-Trac\",\"ru\",\"80\"],[\"parallel_data\\u002fru-Trac\",\"ru\",\"81\"],[\"parallel_data\\u002fru-Trac\",\"ru\",\"82\"],[\"parallel_data\\u002fru-Trac\",\"ru\",\"83\"],[\"parallel_data\\u002fru-Trac\",\"ru\",\"84\"],[\"parallel_data\\u002fru-Trac\",\"ru\",\"85\"],[\"parallel_data\\u002fru-Trac\",\"ru\",\"86\"],[\"parallel_data\\u002fru-Trac\",\"ru\",\"87\"],[\"parallel_data\\u002fru-Trac\",\"ru\",\"88\"],[\"parallel_data\\u002fru-Trac\",\"ru\",\"89\"],[\"parallel_data\\u002fru-Trac\",\"ru\",\"90\"],[\"parallel_data\\u002fru-Trac\",\"ru\",\"91\"],[\"parallel_data\\u002fru-Trac\",\"ru\",\"92\"],[\"parallel_data\\u002fru-Trac\",\"ru\",\"93\"],[\"parallel_data\\u002fru-Trac\",\"ru\",\"94\"],[\"parallel_data\\u002fru-Trac\",\"ru\",\"95\"],[\"parallel_data\\u002fru-Trac\",\"ru\",\"96\"],[\"parallel_data\\u002fru-Trac\",\"ru\",\"97\"],[\"parallel_data\\u002fru-Trac\",\"ru\",\"98\"],[\"parallel_data\\u002fru-Trac\",\"ru\",\"99\"],[\"parallel_data\\u002fru-Trac\",\"ru\",\"100\"],[\"parallel_data\\u002fru-Trac\",\"ru\",\"101\"],[\"parallel_data\\u002fru-Trac\",\"ru\",\"102\"],[\"parallel_data\\u002fru-Trac\",\"ru\",\"103\"],[\"parallel_data\\u002fru-Trac\",\"ru\",\"104\"],[\"parallel_data\\u002fru-Trac\",\"ru\",\"105\"],[\"parallel_data\\u002fru-Trac\",\"ru\",\"106\"],[\"parallel_data\\u002fru-Trac\",\"ru\",\"107\"],[\"parallel_data\\u002fru-Trac\",\"ru\",\"108\"],[\"parallel_data\\u002fru-Trac\",\"ru\",\"109\"],[\"parallel_data\\u002fru-Trac\",\"ru\",\"110\"],[\"parallel_data\\u002fru-Trac\",\"ru\",\"111\"],[\"parallel_data\\u002fru-Trac\",\"ru\",\"112\"],[\"parallel_data\\u002fru-Trac\",\"ru\",\"113\"],[\"parallel_data\\u002fru-Trac\",\"ru\",\"114\"],[\"parallel_data\\u002fru-Trac\",\"ru\",\"115\"],[\"parallel_data\\u002fru-Trac\",\"ru\",\"116\"],[\"parallel_data\\u002fru-Trac\",\"ru\",\"117\"],[\"parallel_data\\u002fru-Trac\",\"ru\",\"118\"],[\"parallel_data\\u002fru-Trac\",\"ru\",\"119\"],[\"parallel_data\\u002fru-Trac\",\"ru\",\"120\"],[\"parallel_data\\u002fru-Trac\",\"ru\",\"121\"],[\"parallel_data\\u002fru-Trac\",\"ru\",\"122\"],[\"parallel_data\\u002fru-Trac\",\"ru\",\"123\"],[\"parallel_data\\u002fru-Trac\",\"ru\",\"124\"],[\"parallel_data\\u002fru-Trac\",\"ru\",\"125\"],[\"parallel_data\\u002fru-Trac\",\"ru\",\"126\"],[\"parallel_data\\u002fru-Trac\",\"ru\",\"127\"],[\"parallel_data\\u002fru-Trac\",\"ru\",\"128\"],[\"parallel_data\\u002fru-Trac\",\"ru\",\"129\"],[\"parallel_data\\u002fru-Trac\",\"ru\",\"130\"],[\"parallel_data\\u002fru-Trac\",\"ru\",\"131\"],[\"parallel_data\\u002fru-Trac\",\"ru\",\"132\"],[\"parallel_data\\u002fru-Trac\",\"ru\",\"133\"],[\"parallel_data\\u002fru-Trac\",\"ru\",\"134\"],[\"parallel_data\\u002fru-Trac\",\"ru\",\"135\"],[\"parallel_data\\u002fru-Trac\",\"ru\",\"136\"],[\"parallel_data\\u002fru-Trac\",\"ru\",\"137\"],[\"parallel_data\\u002fru-Trac\",\"ru\",\"138\"],[\"parallel_data\\u002fru-Trac\",\"ru\",\"139\"],[\"parallel_data\\u002fru-Trac\",\"ru\",\"140\"],[\"parallel_data\\u002fru-Trac\",\"ru\",\"141\"],[\"parallel_data\\u002fru-Trac\",\"ru\",\"142\"],[\"parallel_data\\u002fru-Trac\",\"ru\",\"143\"],[\"parallel_data\\u002fru-Trac\",\"ru\",\"144\"],[\"parallel_data\\u002fru-Trac\",\"ru\",\"145\"],[\"parallel_data\\u002fru-Trac\",\"ru\",\"146\"],[\"parallel_data\\u002fru-Trac\",\"ru\",\"147\"],[\"parallel_data\\u002fru-Trac\",\"ru\",\"148\"],[\"parallel_data\\u002fru-Trac\",\"ru\",\"149\"],[\"parallel_data\\u002fru-Trac\",\"ru\",\"150\"],[\"parallel_data\\u002fru-Trac\",\"ru\",\"151\"],[\"parallel_data\\u002fru-Trac\",\"ru\",\"152\"],[\"parallel_data\\u002fru-Trac\",\"ru\",\"153\"],[\"parallel_data\\u002fru-Trac\",\"ru\",\"154\"],[\"parallel_data\\u002fru-Trac\",\"ru\",\"155\"],[\"parallel_data\\u002fru-Trac\",\"ru\",\"156\"],[\"parallel_data\\u002fru-Trac\",\"ru\",\"157\"],[\"parallel_data\\u002fru-Trac\",\"ru\",\"158\"],[\"parallel_data\\u002fru-Trac\",\"ru\",\"159\"],[\"parallel_data\\u002fru-Trac\",\"ru\",\"160\"],[\"parallel_data\\u002fru-Trac\",\"ru\",\"161\"],[\"parallel_data\\u002fru-Trac\",\"ru\",\"162\"],[\"parallel_data\\u002fru-Trac\",\"ru\",\"163\"],[\"parallel_data\\u002fru-Trac\",\"ru\",\"164\"],[\"parallel_data\\u002fru-Trac\",\"ru\",\"165\"],[\"parallel_data\\u002fru-Trac\",\"ru\",\"166\"],[\"parallel_data\\u002fru-Trac\",\"ru\",\"167\"],[\"parallel_data\\u002fru-Trac\",\"ru\",\"168\"],[\"parallel_data\\u002fru-Trac\",\"ru\",\"169\"],[\"parallel_data\\u002fru-Trac\",\"ru\",\"170\"],[\"parallel_data\\u002fru-Trac\",\"ru\",\"171\"],[\"parallel_data\\u002fru-Trac\",\"ru\",\"172\"],[\"parallel_data\\u002fru-Trac\",\"ru\",\"173\"],[\"parallel_data\\u002fru-Trac\",\"ru\",\"174\"],[\"parallel_data\\u002fru-Trac\",\"ru\",\"175\"],[\"parallel_data\\u002fru-Trac\",\"ru\",\"176\"],[\"parallel_data\\u002fru-Trac\",\"ru\",\"177\"],[\"parallel_data\\u002fru-Trac\",\"ru\",\"178\"],[\"parallel_data\\u002fru-Trac\",\"ru\",\"179\"],[\"parallel_data\\u002fru-Trac\",\"ru\",\"180\"],[\"parallel_data\\u002fru-Trac\",\"ru\",\"181\"],[\"parallel_data\\u002fru-Trac\",\"ru\",\"182\"],[\"parallel_data\\u002fru-Trac\",\"ru\",\"183\"],[\"parallel_data\\u002fru-Trac\",\"ru\",\"184\"],[\"parallel_data\\u002fru-Trac\",\"ru\",\"185\"],[\"parallel_data\\u002fru-Trac\",\"ru\",\"186\"],[\"parallel_data\\u002fru-Trac\",\"ru\",\"187\"],[\"parallel_data\\u002fru-Trac\",\"ru\",\"188\"],[\"parallel_data\\u002fru-Trac\",\"ru\",\"189\"],[\"parallel_data\\u002fru-Trac\",\"ru\",\"190\"],[\"parallel_data\\u002fru-Trac\",\"ru\",\"191\"],[\"parallel_data\\u002fru-Trac\",\"ru\",\"192\"],[\"parallel_data\\u002fru-Trac\",\"ru\",\"193\"],[\"parallel_data\\u002fru-Trac\",\"ru\",\"194\"],[\"parallel_data\\u002fru-Trac\",\"ru\",\"195\"],[\"parallel_data\\u002fru-Trac\",\"ru\",\"196\"],[\"parallel_data\\u002fru-Trac\",\"ru\",\"197\"],[\"parallel_data\\u002fru-Trac\",\"ru\",\"198\"],[\"parallel_data\\u002fru-Trac\",\"ru\",\"199\"],[\"parallel_data\\u002fru-Trac\",\"ru\",\"200\"],[\"parallel_data\\u002fru-Trac\",\"ru\",\"201\"],[\"parallel_data\\u002fru-Trac\",\"ru\",\"202\"],[\"parallel_data\\u002fru-Trac\",\"ru\",\"203\"],[\"parallel_data\\u002fru-Trac\",\"ru\",\"204\"],[\"parallel_data\\u002fru-Trac\",\"ru\",\"205\"],[\"parallel_data\\u002fru-Trac\",\"ru\",\"206\"],[\"parallel_data\\u002fru-Trac\",\"ru\",\"207\"],[\"parallel_data\\u002fru-Trac\",\"ru\",\"208\"],[\"parallel_data\\u002fru-Trac\",\"ru\",\"209\"],[\"parallel_data\\u002fru-Trac\",\"ru\",\"210\"],[\"parallel_data\\u002fru-Trac\",\"ru\",\"211\"],[\"parallel_data\\u002fru-Trac\",\"ru\",\"212\"],[\"parallel_data\\u002fru-Trac\",\"ru\",\"213\"],[\"parallel_data\\u002fru-Trac\",\"ru\",\"214\"],[\"parallel_data\\u002fru-Trac\",\"ru\",\"215\"],[\"parallel_data\\u002fru-Trac\",\"ru\",\"216\"],[\"parallel_data\\u002fru-Trac\",\"ru\",\"217\"],[\"parallel_data\\u002fru-Trac\",\"ru\",\"218\"],[\"parallel_data\\u002fru-Trac\",\"ru\",\"219\"],[\"parallel_data\\u002fru-Trac\",\"ru\",\"220\"],[\"parallel_data\\u002fru-Trac\",\"ru\",\"221\"],[\"parallel_data\\u002fru-Trac\",\"ru\",\"222\"],[\"parallel_data\\u002fru-Trac\",\"ru\",\"223\"],[\"parallel_data\\u002fru-Trac\",\"ru\",\"224\"],[\"parallel_data\\u002fru-Trac\",\"ru\",\"225\"],[\"parallel_data\\u002fru-Trac\",\"ru\",\"226\"],[\"parallel_data\\u002fru-Trac\",\"ru\",\"227\"],[\"parallel_data\\u002fru-Trac\",\"ru\",\"228\"],[\"parallel_data\\u002fru-Trac\",\"ru\",\"229\"],[\"parallel_data\\u002fru-Trac\",\"ru\",\"230\"],[\"parallel_data\\u002fru-Trac\",\"ru\",\"231\"],[\"parallel_data\\u002fru-Trac\",\"ru\",\"232\"],[\"parallel_data\\u002fru-Trac\",\"ru\",\"233\"],[\"parallel_data\\u002fru-Trac\",\"ru\",\"234\"],[\"parallel_data\\u002fru-Trac\",\"ru\",\"235\"],[\"parallel_data\\u002fru-Trac\",\"ru\",\"236\"],[\"parallel_data\\u002fru-Trac\",\"ru\",\"237\"],[\"parallel_data\\u002fru-Trac\",\"ru\",\"238\"],[\"parallel_data\\u002fru-Trac\",\"ru\",\"239\"],[\"parallel_data\\u002fru-Trac\",\"ru\",\"240\"],[\"parallel_data\\u002fru-Trac\",\"ru\",\"241\"],[\"parallel_data\\u002fru-Trac\",\"ru\",\"242\"],[\"parallel_data\\u002fru-Trac\",\"ru\",\"243\"],[\"parallel_data\\u002fru-Trac\",\"ru\",\"244\"],[\"parallel_data\\u002fru-Trac\",\"ru\",\"245\"],[\"parallel_data\\u002fru-Trac\",\"ru\",\"246\"],[\"parallel_data\\u002fru-Trac\",\"ru\",\"247\"],[\"parallel_data\\u002fru-Trac\",\"ru\",\"248\"],[\"parallel_data\\u002fru-Trac\",\"ru\",\"249\"],[\"parallel_data\\u002fru-Trac\",\"ru\",\"250\"],[\"parallel_data\\u002fru-Trac\",\"ru\",\"251\"],[\"parallel_data\\u002fru-Trac\",\"ru\",\"252\"],[\"parallel_data\\u002fru-Trac\",\"ru\",\"253\"],[\"parallel_data\\u002fru-Trac\",\"ru\",\"254\"],[\"parallel_data\\u002fru-Trac\",\"ru\",\"255\"],[\"parallel_data\\u002fru-Trac\",\"ru\",\"256\"],[\"parallel_data\\u002fru-Trac\",\"ru\",\"257\"],[\"parallel_data\\u002fru-Trac\",\"ru\",\"258\"],[\"parallel_data\\u002fru-Trac\",\"ru\",\"259\"],[\"parallel_data\\u002fru-Trac\",\"ru\",\"260\"],[\"parallel_data\\u002fru-Trac\",\"ru\",\"261\"],[\"parallel_data\\u002fru-Trac\",\"ru\",\"262\"],[\"parallel_data\\u002fru-Trac\",\"ru\",\"263\"],[\"parallel_data\\u002fru-Trac\",\"ru\",\"264\"],[\"parallel_data\\u002fru-Trac\",\"ru\",\"265\"],[\"parallel_data\\u002fru-Trac\",\"ru\",\"266\"],[\"parallel_data\\u002fru-Trac\",\"ru\",\"267\"],[\"parallel_data\\u002fru-Trac\",\"ru\",\"268\"],[\"parallel_data\\u002fru-Trac\",\"ru\",\"269\"],[\"parallel_data\\u002fru-Trac\",\"ru\",\"270\"],[\"parallel_data\\u002fru-Trac\",\"ru\",\"271\"],[\"parallel_data\\u002fru-Trac\",\"ru\",\"272\"],[\"parallel_data\\u002fru-Trac\",\"ru\",\"273\"],[\"parallel_data\\u002fru-Trac\",\"ru\",\"274\"],[\"parallel_data\\u002fru-Trac\",\"ru\",\"275\"],[\"parallel_data\\u002fru-Trac\",\"ru\",\"276\"],[\"parallel_data\\u002fru-Trac\",\"ru\",\"277\"],[\"parallel_data\\u002fru-Trac\",\"ru\",\"278\"],[\"parallel_data\\u002fru-Trac\",\"ru\",\"279\"],[\"parallel_data\\u002fru-Trac\",\"ru\",\"280\"],[\"parallel_data\\u002fru-Trac\",\"ru\",\"281\"],[\"parallel_data\\u002fru-Trac\",\"ru\",\"282\"],[\"parallel_data\\u002fru-Trac\",\"ru\",\"283\"],[\"parallel_data\\u002fru-Trac\",\"ru\",\"284\"],[\"parallel_data\\u002fru-Trac\",\"ru\",\"285\"],[\"parallel_data\\u002fru-Trac\",\"ru\",\"286\"],[\"parallel_data\\u002fru-Trac\",\"ru\",\"287\"],[\"parallel_data\\u002fru-Trac\",\"ru\",\"288\"],[\"parallel_data\\u002fru-Trac\",\"ru\",\"289\"],[\"parallel_data\\u002fru-Trac\",\"ru\",\"290\"],[\"parallel_data\\u002fru-Trac\",\"ru\",\"291\"],[\"parallel_data\\u002fru-Trac\",\"ru\",\"292\"],[\"parallel_data\\u002fru-Trac\",\"ru\",\"293\"],[\"parallel_data\\u002fru-Trac\",\"ru\",\"294\"],[\"parallel_data\\u002fru-Trac\",\"ru\",\"295\"],[\"parallel_data\\u002fru-Trac\",\"ru\",\"296\"],[\"parallel_data\\u002fru-Trac\",\"ru\",\"297\"],[\"parallel_data\\u002fru-Trac\",\"ru\",\"298\"],[\"parallel_data\\u002fru-Trac\",\"ru\",\"299\"]],\"hovertemplate\":\"language=%{customdata[1]}\\u003cbr\\u003ex=%{x}\\u003cbr\\u003ey=%{y}\\u003cbr\\u003edataset_name=%{customdata[0]}\\u003cbr\\u003eid=%{customdata[2]}\\u003cextra\\u003e\\u003c\\u002fextra\\u003e\",\"legendgroup\":\"ru\",\"marker\":{\"color\":\"#FFA15A\",\"symbol\":\"circle\"},\"mode\":\"markers\",\"name\":\"ru\",\"showlegend\":true,\"x\":[6.217786,-20.671663,-6.7556295,-35.762825,-44.292473,19.228897,-47.01526,-19.705942,-7.6672573,-17.446213,-21.771896,25.484974,-24.029428,31.525196,-14.43703,25.78395,-38.181732,33.228058,-54.80442,13.612609,-23.699383,19.235363,5.520241,-24.546942,-21.97831,0.9631883,19.540386,34.663826,-14.916448,-20.338898,-10.480573,-21.450644,41.575954,-22.532055,-44.273987,27.00576,-16.058302,3.8526669,-5.1884646,-28.5529,8.822719,-13.197663,-10.342282,-27.678068,2.2595232,-38.74577,13.44033,-12.111577,-7.557303,-39.026077,33.07019,0.5930618,8.426328,-5.792562,37.740005,10.322882,50.362198,6.029334,-1.0948975,38.23459,-3.4492629,-13.014426,21.784193,-28.928062,5.8157797,3.5192952,-9.066049,34.79908,-31.156937,-17.42537,40.65966,32.443645,25.381647,38.251835,-28.366346,23.35499,-28.010689,1.888225,45.86201,-10.479469,-2.2107673,-0.3204723,-6.3352075,-17.287905,-17.358316,25.521303,39.998028,-46.616352,30.306198,25.779001,-17.013348,30.587431,-2.8818445,32.781086,15.791822,-8.429629,-16.545595,23.985163,-53.812973,-15.310521,46.584457,7.8930254,20.235092,9.959169,-2.5987873,10.35122,-8.592943,-33.1803,1.7259041,-5.5961294,-17.75204,-7.321283,46.257095,-9.459067,20.173588,-13.749087,3.9823804,45.42375,-19.90644,43.590027,-0.1884364,-26.99987,10.440778,-21.090338,46.40219,-49.450893,15.532942,-12.740705,17.892015,-11.704106,11.788934,31.330296,29.91711,-40.16404,27.613565,-3.4438255,12.515967,-2.8650284,-11.862339,-9.056414,-29.000431,-4.485874,2.2208724,10.97809,5.641244,-35.197887,41.562305,-49.80075,-59.5949,-28.12579,4.1368427,34.45881,2.5678265,41.391277,-9.418527,37.340775,40.874477,28.279423,37.893345,-18.319439,16.493008,-10.917439,14.84788,-24.00039,-38.99904,-25.508095,16.232506,-44.49888,15.414128,11.636507,11.037777,-29.265333,21.646519,26.118547,-25.131746,12.83202,22.944714,32.67917,-2.8287067,-4.652838,52.617462,-30.685505,-38.816772,-0.5982227,-23.1671,-0.953855,19.743496,20.2763,6.3991327,17.576227,-18.966806,40.861965,42.09675,7.1931252,-53.7049,6.159315,23.117659,-3.2053878,-15.72264,-29.567772,-24.934301,-42.27181,-29.889147,-32.313896,27.815563,-16.86471,-18.568504,-6.2617216,21.680155,-33.62542,32.952286,7.035992,-43.329624,13.414576,-50.44509,-0.90385866,15.881852,1.2787569,8.635406,53.1001,-33.516655,-33.56779,42.377434,43.09557,-0.20251755,-9.331319,1.6990881,16.911139,46.723248,27.744322,-12.474221,1.2681079,19.786604,13.201541,-46.368298,-49.97616,-10.679012,2.4049058,-6.1338506,-5.274366,20.137268,26.017504,-28.965271,-13.761369,23.62209,6.004446,-46.760323,-30.900133,33.79553,-40.11121,3.0599334,10.519669,-23.713942,-5.9457564,-23.843287,-32.785774,-20.329323,26.867645,-27.360397,12.536944,21.469397,-36.086773,-27.057392,4.376772,-20.260595,-53.647842,-21.089828,-32.53286,-26.50668,16.520733,-22.949505,52.758884,11.157213,10.381115,-26.670008,38.424175,18.875704,25.475948,-21.858965,19.245897,37.41631,11.232551,15.266891,36.59148,-26.012856,34.69127,38.12654,7.2209864,39.66446,18.43338,-28.528517,-34.041573,-42.66352,-16.080898,0.25933623,17.920595,52.35184,-5.15619,-9.699001,-4.3608727],\"xaxis\":\"x\",\"y\":[21.044004,34.484962,26.46748,-16.666239,-33.934093,55.009068,-39.62091,-27.67115,22.481436,-37.734455,19.171535,-38.14974,32.48133,-46.995453,5.0946755,-30.221146,-33.773647,29.515038,-13.91702,29.65428,-22.959152,-11.399202,12.018279,-27.671185,28.868551,-12.809885,33.22127,43.56794,21.696552,-21.047733,6.666206,7.7531977,-1.0952251,-12.695392,-12.023069,6.22253,-31.880325,-40.273098,17.545847,-0.17678596,13.426234,-6.3800707,1.203672,-30.334541,11.101725,-45.29411,-13.841672,-21.071375,31.699848,32.331486,-1.5010358,53.36384,-36.69267,-21.231806,-26.086187,-31.289381,10.7016945,-22.931904,14.876151,37.222157,29.692245,-33.49125,13.937579,-15.251563,5.5557494,-26.236551,11.168981,10.176154,25.554878,30.104048,-4.782725,-36.740967,17.67915,16.59773,23.370268,6.0236516,55.3444,-7.721821,-8.162014,18.180092,9.659397,-1.9849629,40.81264,-24.29526,24.450306,46.538864,22.003956,-19.189533,-19.140656,-15.354391,49.75,7.77242,40.568676,4.583647,-19.581743,-42.255745,44.192806,-27.25368,-28.446947,9.734223,-15.586276,39.052044,-44.25079,44.233444,-52.9638,5.528551,-17.886091,14.589052,-50.37965,37.251568,-18.623325,-25.923195,4.5039163,27.59747,25.750969,-48.458614,0.7780824,-2.3755102,-16.083042,19.178196,19.13161,28.610899,-9.820546,22.821299,13.3277645,-27.849644,-27.870102,15.670116,45.8264,23.690975,-23.380447,16.990778,13.039116,-21.490173,-28.098589,23.072975,22.980862,-49.551094,30.51914,50.200058,7.3560767,48.73596,6.2468915,49.159748,25.822172,-38.32963,-37.105145,-43.624382,-20.237162,-21.188055,16.342175,-6.6195693,-18.189762,7.119281,-1.6446389,-9.313169,12.374375,24.250381,6.760301,17.409733,44.227856,43.796127,-9.65212,24.82354,1.4882025,20.153599,-1.0777832,-44.3974,2.5363514,-0.25216094,-5.0752254,-8.971325,-40.436787,10.874348,37.784332,17.45316,-10.234199,36.086407,-38.07699,-14.709634,3.7604198,20.203547,-40.14348,36.209763,17.271908,-50.77703,39.26711,1.6041472,-13.843492,-23.438444,1.9156637,-22.09296,2.6723664,32.43839,-9.452884,-9.5007515,-6.298273,-7.020967,-11.272996,-24.547625,-7.414072,-29.55604,-36.300278,-45.95386,-8.437274,37.92139,12.943825,14.082528,-52.49504,-22.404999,-13.124406,53.304886,-26.126593,-35.222744,-33.527077,4.175014,9.552609,23.950747,9.115575,-2.9393406,7.890853,41.277363,27.598152,23.175222,-30.33806,38.206913,-47.294044,43.176605,25.6002,-3.378228,-27.500257,23.95889,-34.777256,37.35784,6.279859,17.202621,-13.299839,30.158411,8.674349,3.610685,-4.4651966,15.092869,38.057945,34.396374,-1.994486,-3.846531,-30.75319,-43.889168,-22.31903,18.255526,46.533344,-27.475895,-2.9133196,-10.41441,-19.267578,-27.171522,-44.515244,1.1419412,16.58076,-40.71464,10.524649,-9.458309,-11.226201,-32.879597,-5.8145275,-22.193647,48.130604,-38.349697,2.8656147,13.142217,-32.513046,-12.954393,-46.7323,-17.815985,-41.151917,-2.8161583,-6.770099,34.53062,43.208893,-16.107117,-16.137636,58.29394,5.3175426,1.651885,11.163077,21.14069,25.313766,2.3801765,1.8512055,7.835612,-50.831093,-33.57247,-38.644592,-2.2883868,-24.762777,19.155172,-20.145947,-31.202023,-5.5527267,-1.8720833],\"yaxis\":\"y\",\"type\":\"scattergl\"},{\"customdata\":[[\"parallel_data\\u002fsq-Trac\",\"sq\",\"0\"],[\"parallel_data\\u002fsq-Trac\",\"sq\",\"1\"],[\"parallel_data\\u002fsq-Trac\",\"sq\",\"2\"],[\"parallel_data\\u002fsq-Trac\",\"sq\",\"3\"],[\"parallel_data\\u002fsq-Trac\",\"sq\",\"4\"],[\"parallel_data\\u002fsq-Trac\",\"sq\",\"5\"],[\"parallel_data\\u002fsq-Trac\",\"sq\",\"6\"],[\"parallel_data\\u002fsq-Trac\",\"sq\",\"7\"],[\"parallel_data\\u002fsq-Trac\",\"sq\",\"8\"],[\"parallel_data\\u002fsq-Trac\",\"sq\",\"9\"],[\"parallel_data\\u002fsq-Trac\",\"sq\",\"10\"],[\"parallel_data\\u002fsq-Trac\",\"sq\",\"11\"],[\"parallel_data\\u002fsq-Trac\",\"sq\",\"12\"],[\"parallel_data\\u002fsq-Trac\",\"sq\",\"13\"],[\"parallel_data\\u002fsq-Trac\",\"sq\",\"14\"],[\"parallel_data\\u002fsq-Trac\",\"sq\",\"15\"],[\"parallel_data\\u002fsq-Trac\",\"sq\",\"16\"],[\"parallel_data\\u002fsq-Trac\",\"sq\",\"17\"],[\"parallel_data\\u002fsq-Trac\",\"sq\",\"18\"],[\"parallel_data\\u002fsq-Trac\",\"sq\",\"19\"],[\"parallel_data\\u002fsq-Trac\",\"sq\",\"20\"],[\"parallel_data\\u002fsq-Trac\",\"sq\",\"21\"],[\"parallel_data\\u002fsq-Trac\",\"sq\",\"22\"],[\"parallel_data\\u002fsq-Trac\",\"sq\",\"23\"],[\"parallel_data\\u002fsq-Trac\",\"sq\",\"24\"],[\"parallel_data\\u002fsq-Trac\",\"sq\",\"25\"],[\"parallel_data\\u002fsq-Trac\",\"sq\",\"26\"],[\"parallel_data\\u002fsq-Trac\",\"sq\",\"27\"],[\"parallel_data\\u002fsq-Trac\",\"sq\",\"28\"],[\"parallel_data\\u002fsq-Trac\",\"sq\",\"29\"],[\"parallel_data\\u002fsq-Trac\",\"sq\",\"30\"],[\"parallel_data\\u002fsq-Trac\",\"sq\",\"31\"],[\"parallel_data\\u002fsq-Trac\",\"sq\",\"32\"],[\"parallel_data\\u002fsq-Trac\",\"sq\",\"33\"],[\"parallel_data\\u002fsq-Trac\",\"sq\",\"34\"],[\"parallel_data\\u002fsq-Trac\",\"sq\",\"35\"],[\"parallel_data\\u002fsq-Trac\",\"sq\",\"36\"],[\"parallel_data\\u002fsq-Trac\",\"sq\",\"37\"],[\"parallel_data\\u002fsq-Trac\",\"sq\",\"38\"],[\"parallel_data\\u002fsq-Trac\",\"sq\",\"39\"],[\"parallel_data\\u002fsq-Trac\",\"sq\",\"40\"],[\"parallel_data\\u002fsq-Trac\",\"sq\",\"41\"],[\"parallel_data\\u002fsq-Trac\",\"sq\",\"42\"],[\"parallel_data\\u002fsq-Trac\",\"sq\",\"43\"],[\"parallel_data\\u002fsq-Trac\",\"sq\",\"44\"],[\"parallel_data\\u002fsq-Trac\",\"sq\",\"45\"],[\"parallel_data\\u002fsq-Trac\",\"sq\",\"46\"],[\"parallel_data\\u002fsq-Trac\",\"sq\",\"47\"],[\"parallel_data\\u002fsq-Trac\",\"sq\",\"48\"],[\"parallel_data\\u002fsq-Trac\",\"sq\",\"49\"],[\"parallel_data\\u002fsq-Trac\",\"sq\",\"50\"],[\"parallel_data\\u002fsq-Trac\",\"sq\",\"51\"],[\"parallel_data\\u002fsq-Trac\",\"sq\",\"52\"],[\"parallel_data\\u002fsq-Trac\",\"sq\",\"53\"],[\"parallel_data\\u002fsq-Trac\",\"sq\",\"54\"],[\"parallel_data\\u002fsq-Trac\",\"sq\",\"55\"],[\"parallel_data\\u002fsq-Trac\",\"sq\",\"56\"],[\"parallel_data\\u002fsq-Trac\",\"sq\",\"57\"],[\"parallel_data\\u002fsq-Trac\",\"sq\",\"58\"],[\"parallel_data\\u002fsq-Trac\",\"sq\",\"59\"],[\"parallel_data\\u002fsq-Trac\",\"sq\",\"60\"],[\"parallel_data\\u002fsq-Trac\",\"sq\",\"61\"],[\"parallel_data\\u002fsq-Trac\",\"sq\",\"62\"],[\"parallel_data\\u002fsq-Trac\",\"sq\",\"63\"],[\"parallel_data\\u002fsq-Trac\",\"sq\",\"64\"],[\"parallel_data\\u002fsq-Trac\",\"sq\",\"65\"],[\"parallel_data\\u002fsq-Trac\",\"sq\",\"66\"],[\"parallel_data\\u002fsq-Trac\",\"sq\",\"67\"],[\"parallel_data\\u002fsq-Trac\",\"sq\",\"68\"],[\"parallel_data\\u002fsq-Trac\",\"sq\",\"69\"],[\"parallel_data\\u002fsq-Trac\",\"sq\",\"70\"],[\"parallel_data\\u002fsq-Trac\",\"sq\",\"71\"],[\"parallel_data\\u002fsq-Trac\",\"sq\",\"72\"],[\"parallel_data\\u002fsq-Trac\",\"sq\",\"73\"],[\"parallel_data\\u002fsq-Trac\",\"sq\",\"74\"],[\"parallel_data\\u002fsq-Trac\",\"sq\",\"75\"],[\"parallel_data\\u002fsq-Trac\",\"sq\",\"76\"],[\"parallel_data\\u002fsq-Trac\",\"sq\",\"77\"],[\"parallel_data\\u002fsq-Trac\",\"sq\",\"78\"],[\"parallel_data\\u002fsq-Trac\",\"sq\",\"79\"],[\"parallel_data\\u002fsq-Trac\",\"sq\",\"80\"],[\"parallel_data\\u002fsq-Trac\",\"sq\",\"81\"],[\"parallel_data\\u002fsq-Trac\",\"sq\",\"82\"],[\"parallel_data\\u002fsq-Trac\",\"sq\",\"83\"],[\"parallel_data\\u002fsq-Trac\",\"sq\",\"84\"],[\"parallel_data\\u002fsq-Trac\",\"sq\",\"85\"],[\"parallel_data\\u002fsq-Trac\",\"sq\",\"86\"],[\"parallel_data\\u002fsq-Trac\",\"sq\",\"87\"],[\"parallel_data\\u002fsq-Trac\",\"sq\",\"88\"],[\"parallel_data\\u002fsq-Trac\",\"sq\",\"89\"],[\"parallel_data\\u002fsq-Trac\",\"sq\",\"90\"],[\"parallel_data\\u002fsq-Trac\",\"sq\",\"91\"],[\"parallel_data\\u002fsq-Trac\",\"sq\",\"92\"],[\"parallel_data\\u002fsq-Trac\",\"sq\",\"93\"],[\"parallel_data\\u002fsq-Trac\",\"sq\",\"94\"],[\"parallel_data\\u002fsq-Trac\",\"sq\",\"95\"],[\"parallel_data\\u002fsq-Trac\",\"sq\",\"96\"],[\"parallel_data\\u002fsq-Trac\",\"sq\",\"97\"],[\"parallel_data\\u002fsq-Trac\",\"sq\",\"98\"],[\"parallel_data\\u002fsq-Trac\",\"sq\",\"99\"],[\"parallel_data\\u002fsq-Trac\",\"sq\",\"100\"],[\"parallel_data\\u002fsq-Trac\",\"sq\",\"101\"],[\"parallel_data\\u002fsq-Trac\",\"sq\",\"102\"],[\"parallel_data\\u002fsq-Trac\",\"sq\",\"103\"],[\"parallel_data\\u002fsq-Trac\",\"sq\",\"104\"],[\"parallel_data\\u002fsq-Trac\",\"sq\",\"105\"],[\"parallel_data\\u002fsq-Trac\",\"sq\",\"106\"],[\"parallel_data\\u002fsq-Trac\",\"sq\",\"107\"],[\"parallel_data\\u002fsq-Trac\",\"sq\",\"108\"],[\"parallel_data\\u002fsq-Trac\",\"sq\",\"109\"],[\"parallel_data\\u002fsq-Trac\",\"sq\",\"110\"],[\"parallel_data\\u002fsq-Trac\",\"sq\",\"111\"],[\"parallel_data\\u002fsq-Trac\",\"sq\",\"112\"],[\"parallel_data\\u002fsq-Trac\",\"sq\",\"113\"],[\"parallel_data\\u002fsq-Trac\",\"sq\",\"114\"],[\"parallel_data\\u002fsq-Trac\",\"sq\",\"115\"],[\"parallel_data\\u002fsq-Trac\",\"sq\",\"116\"],[\"parallel_data\\u002fsq-Trac\",\"sq\",\"117\"],[\"parallel_data\\u002fsq-Trac\",\"sq\",\"118\"],[\"parallel_data\\u002fsq-Trac\",\"sq\",\"119\"],[\"parallel_data\\u002fsq-Trac\",\"sq\",\"120\"],[\"parallel_data\\u002fsq-Trac\",\"sq\",\"121\"],[\"parallel_data\\u002fsq-Trac\",\"sq\",\"122\"],[\"parallel_data\\u002fsq-Trac\",\"sq\",\"123\"],[\"parallel_data\\u002fsq-Trac\",\"sq\",\"124\"],[\"parallel_data\\u002fsq-Trac\",\"sq\",\"125\"],[\"parallel_data\\u002fsq-Trac\",\"sq\",\"126\"],[\"parallel_data\\u002fsq-Trac\",\"sq\",\"127\"],[\"parallel_data\\u002fsq-Trac\",\"sq\",\"128\"],[\"parallel_data\\u002fsq-Trac\",\"sq\",\"129\"],[\"parallel_data\\u002fsq-Trac\",\"sq\",\"130\"],[\"parallel_data\\u002fsq-Trac\",\"sq\",\"131\"],[\"parallel_data\\u002fsq-Trac\",\"sq\",\"132\"],[\"parallel_data\\u002fsq-Trac\",\"sq\",\"133\"],[\"parallel_data\\u002fsq-Trac\",\"sq\",\"134\"],[\"parallel_data\\u002fsq-Trac\",\"sq\",\"135\"],[\"parallel_data\\u002fsq-Trac\",\"sq\",\"136\"],[\"parallel_data\\u002fsq-Trac\",\"sq\",\"137\"],[\"parallel_data\\u002fsq-Trac\",\"sq\",\"138\"],[\"parallel_data\\u002fsq-Trac\",\"sq\",\"139\"],[\"parallel_data\\u002fsq-Trac\",\"sq\",\"140\"],[\"parallel_data\\u002fsq-Trac\",\"sq\",\"141\"],[\"parallel_data\\u002fsq-Trac\",\"sq\",\"142\"],[\"parallel_data\\u002fsq-Trac\",\"sq\",\"143\"],[\"parallel_data\\u002fsq-Trac\",\"sq\",\"144\"],[\"parallel_data\\u002fsq-Trac\",\"sq\",\"145\"],[\"parallel_data\\u002fsq-Trac\",\"sq\",\"146\"],[\"parallel_data\\u002fsq-Trac\",\"sq\",\"147\"],[\"parallel_data\\u002fsq-Trac\",\"sq\",\"148\"],[\"parallel_data\\u002fsq-Trac\",\"sq\",\"149\"],[\"parallel_data\\u002fsq-Trac\",\"sq\",\"150\"],[\"parallel_data\\u002fsq-Trac\",\"sq\",\"151\"],[\"parallel_data\\u002fsq-Trac\",\"sq\",\"152\"],[\"parallel_data\\u002fsq-Trac\",\"sq\",\"153\"],[\"parallel_data\\u002fsq-Trac\",\"sq\",\"154\"],[\"parallel_data\\u002fsq-Trac\",\"sq\",\"155\"],[\"parallel_data\\u002fsq-Trac\",\"sq\",\"156\"],[\"parallel_data\\u002fsq-Trac\",\"sq\",\"157\"],[\"parallel_data\\u002fsq-Trac\",\"sq\",\"158\"],[\"parallel_data\\u002fsq-Trac\",\"sq\",\"159\"],[\"parallel_data\\u002fsq-Trac\",\"sq\",\"160\"],[\"parallel_data\\u002fsq-Trac\",\"sq\",\"161\"],[\"parallel_data\\u002fsq-Trac\",\"sq\",\"162\"],[\"parallel_data\\u002fsq-Trac\",\"sq\",\"163\"],[\"parallel_data\\u002fsq-Trac\",\"sq\",\"164\"],[\"parallel_data\\u002fsq-Trac\",\"sq\",\"165\"],[\"parallel_data\\u002fsq-Trac\",\"sq\",\"166\"],[\"parallel_data\\u002fsq-Trac\",\"sq\",\"167\"],[\"parallel_data\\u002fsq-Trac\",\"sq\",\"168\"],[\"parallel_data\\u002fsq-Trac\",\"sq\",\"169\"],[\"parallel_data\\u002fsq-Trac\",\"sq\",\"170\"],[\"parallel_data\\u002fsq-Trac\",\"sq\",\"171\"],[\"parallel_data\\u002fsq-Trac\",\"sq\",\"172\"],[\"parallel_data\\u002fsq-Trac\",\"sq\",\"173\"],[\"parallel_data\\u002fsq-Trac\",\"sq\",\"174\"],[\"parallel_data\\u002fsq-Trac\",\"sq\",\"175\"],[\"parallel_data\\u002fsq-Trac\",\"sq\",\"176\"],[\"parallel_data\\u002fsq-Trac\",\"sq\",\"177\"],[\"parallel_data\\u002fsq-Trac\",\"sq\",\"178\"],[\"parallel_data\\u002fsq-Trac\",\"sq\",\"179\"],[\"parallel_data\\u002fsq-Trac\",\"sq\",\"180\"],[\"parallel_data\\u002fsq-Trac\",\"sq\",\"181\"],[\"parallel_data\\u002fsq-Trac\",\"sq\",\"182\"],[\"parallel_data\\u002fsq-Trac\",\"sq\",\"183\"],[\"parallel_data\\u002fsq-Trac\",\"sq\",\"184\"],[\"parallel_data\\u002fsq-Trac\",\"sq\",\"185\"],[\"parallel_data\\u002fsq-Trac\",\"sq\",\"186\"],[\"parallel_data\\u002fsq-Trac\",\"sq\",\"187\"],[\"parallel_data\\u002fsq-Trac\",\"sq\",\"188\"],[\"parallel_data\\u002fsq-Trac\",\"sq\",\"189\"],[\"parallel_data\\u002fsq-Trac\",\"sq\",\"190\"],[\"parallel_data\\u002fsq-Trac\",\"sq\",\"191\"],[\"parallel_data\\u002fsq-Trac\",\"sq\",\"192\"],[\"parallel_data\\u002fsq-Trac\",\"sq\",\"193\"],[\"parallel_data\\u002fsq-Trac\",\"sq\",\"194\"],[\"parallel_data\\u002fsq-Trac\",\"sq\",\"195\"],[\"parallel_data\\u002fsq-Trac\",\"sq\",\"196\"],[\"parallel_data\\u002fsq-Trac\",\"sq\",\"197\"],[\"parallel_data\\u002fsq-Trac\",\"sq\",\"198\"],[\"parallel_data\\u002fsq-Trac\",\"sq\",\"199\"],[\"parallel_data\\u002fsq-Trac\",\"sq\",\"200\"],[\"parallel_data\\u002fsq-Trac\",\"sq\",\"201\"],[\"parallel_data\\u002fsq-Trac\",\"sq\",\"202\"],[\"parallel_data\\u002fsq-Trac\",\"sq\",\"203\"],[\"parallel_data\\u002fsq-Trac\",\"sq\",\"204\"],[\"parallel_data\\u002fsq-Trac\",\"sq\",\"205\"],[\"parallel_data\\u002fsq-Trac\",\"sq\",\"206\"],[\"parallel_data\\u002fsq-Trac\",\"sq\",\"207\"],[\"parallel_data\\u002fsq-Trac\",\"sq\",\"208\"],[\"parallel_data\\u002fsq-Trac\",\"sq\",\"209\"],[\"parallel_data\\u002fsq-Trac\",\"sq\",\"210\"],[\"parallel_data\\u002fsq-Trac\",\"sq\",\"211\"],[\"parallel_data\\u002fsq-Trac\",\"sq\",\"212\"],[\"parallel_data\\u002fsq-Trac\",\"sq\",\"213\"],[\"parallel_data\\u002fsq-Trac\",\"sq\",\"214\"],[\"parallel_data\\u002fsq-Trac\",\"sq\",\"215\"],[\"parallel_data\\u002fsq-Trac\",\"sq\",\"216\"],[\"parallel_data\\u002fsq-Trac\",\"sq\",\"217\"],[\"parallel_data\\u002fsq-Trac\",\"sq\",\"218\"],[\"parallel_data\\u002fsq-Trac\",\"sq\",\"219\"],[\"parallel_data\\u002fsq-Trac\",\"sq\",\"220\"],[\"parallel_data\\u002fsq-Trac\",\"sq\",\"221\"],[\"parallel_data\\u002fsq-Trac\",\"sq\",\"222\"],[\"parallel_data\\u002fsq-Trac\",\"sq\",\"223\"],[\"parallel_data\\u002fsq-Trac\",\"sq\",\"224\"],[\"parallel_data\\u002fsq-Trac\",\"sq\",\"225\"],[\"parallel_data\\u002fsq-Trac\",\"sq\",\"226\"],[\"parallel_data\\u002fsq-Trac\",\"sq\",\"227\"],[\"parallel_data\\u002fsq-Trac\",\"sq\",\"228\"],[\"parallel_data\\u002fsq-Trac\",\"sq\",\"229\"],[\"parallel_data\\u002fsq-Trac\",\"sq\",\"230\"],[\"parallel_data\\u002fsq-Trac\",\"sq\",\"231\"],[\"parallel_data\\u002fsq-Trac\",\"sq\",\"232\"],[\"parallel_data\\u002fsq-Trac\",\"sq\",\"233\"],[\"parallel_data\\u002fsq-Trac\",\"sq\",\"234\"],[\"parallel_data\\u002fsq-Trac\",\"sq\",\"235\"],[\"parallel_data\\u002fsq-Trac\",\"sq\",\"236\"],[\"parallel_data\\u002fsq-Trac\",\"sq\",\"237\"],[\"parallel_data\\u002fsq-Trac\",\"sq\",\"238\"],[\"parallel_data\\u002fsq-Trac\",\"sq\",\"239\"],[\"parallel_data\\u002fsq-Trac\",\"sq\",\"240\"],[\"parallel_data\\u002fsq-Trac\",\"sq\",\"241\"],[\"parallel_data\\u002fsq-Trac\",\"sq\",\"242\"],[\"parallel_data\\u002fsq-Trac\",\"sq\",\"243\"],[\"parallel_data\\u002fsq-Trac\",\"sq\",\"244\"],[\"parallel_data\\u002fsq-Trac\",\"sq\",\"245\"],[\"parallel_data\\u002fsq-Trac\",\"sq\",\"246\"],[\"parallel_data\\u002fsq-Trac\",\"sq\",\"247\"],[\"parallel_data\\u002fsq-Trac\",\"sq\",\"248\"],[\"parallel_data\\u002fsq-Trac\",\"sq\",\"249\"],[\"parallel_data\\u002fsq-Trac\",\"sq\",\"250\"],[\"parallel_data\\u002fsq-Trac\",\"sq\",\"251\"],[\"parallel_data\\u002fsq-Trac\",\"sq\",\"252\"],[\"parallel_data\\u002fsq-Trac\",\"sq\",\"253\"],[\"parallel_data\\u002fsq-Trac\",\"sq\",\"254\"],[\"parallel_data\\u002fsq-Trac\",\"sq\",\"255\"],[\"parallel_data\\u002fsq-Trac\",\"sq\",\"256\"],[\"parallel_data\\u002fsq-Trac\",\"sq\",\"257\"],[\"parallel_data\\u002fsq-Trac\",\"sq\",\"258\"],[\"parallel_data\\u002fsq-Trac\",\"sq\",\"259\"],[\"parallel_data\\u002fsq-Trac\",\"sq\",\"260\"],[\"parallel_data\\u002fsq-Trac\",\"sq\",\"261\"],[\"parallel_data\\u002fsq-Trac\",\"sq\",\"262\"],[\"parallel_data\\u002fsq-Trac\",\"sq\",\"263\"],[\"parallel_data\\u002fsq-Trac\",\"sq\",\"264\"],[\"parallel_data\\u002fsq-Trac\",\"sq\",\"265\"],[\"parallel_data\\u002fsq-Trac\",\"sq\",\"266\"],[\"parallel_data\\u002fsq-Trac\",\"sq\",\"267\"],[\"parallel_data\\u002fsq-Trac\",\"sq\",\"268\"],[\"parallel_data\\u002fsq-Trac\",\"sq\",\"269\"],[\"parallel_data\\u002fsq-Trac\",\"sq\",\"270\"],[\"parallel_data\\u002fsq-Trac\",\"sq\",\"271\"],[\"parallel_data\\u002fsq-Trac\",\"sq\",\"272\"],[\"parallel_data\\u002fsq-Trac\",\"sq\",\"273\"],[\"parallel_data\\u002fsq-Trac\",\"sq\",\"274\"],[\"parallel_data\\u002fsq-Trac\",\"sq\",\"275\"],[\"parallel_data\\u002fsq-Trac\",\"sq\",\"276\"],[\"parallel_data\\u002fsq-Trac\",\"sq\",\"277\"],[\"parallel_data\\u002fsq-Trac\",\"sq\",\"278\"],[\"parallel_data\\u002fsq-Trac\",\"sq\",\"279\"],[\"parallel_data\\u002fsq-Trac\",\"sq\",\"280\"],[\"parallel_data\\u002fsq-Trac\",\"sq\",\"281\"],[\"parallel_data\\u002fsq-Trac\",\"sq\",\"282\"],[\"parallel_data\\u002fsq-Trac\",\"sq\",\"283\"],[\"parallel_data\\u002fsq-Trac\",\"sq\",\"284\"],[\"parallel_data\\u002fsq-Trac\",\"sq\",\"285\"],[\"parallel_data\\u002fsq-Trac\",\"sq\",\"286\"],[\"parallel_data\\u002fsq-Trac\",\"sq\",\"287\"],[\"parallel_data\\u002fsq-Trac\",\"sq\",\"288\"],[\"parallel_data\\u002fsq-Trac\",\"sq\",\"289\"],[\"parallel_data\\u002fsq-Trac\",\"sq\",\"290\"],[\"parallel_data\\u002fsq-Trac\",\"sq\",\"291\"],[\"parallel_data\\u002fsq-Trac\",\"sq\",\"292\"],[\"parallel_data\\u002fsq-Trac\",\"sq\",\"293\"],[\"parallel_data\\u002fsq-Trac\",\"sq\",\"294\"],[\"parallel_data\\u002fsq-Trac\",\"sq\",\"295\"],[\"parallel_data\\u002fsq-Trac\",\"sq\",\"296\"],[\"parallel_data\\u002fsq-Trac\",\"sq\",\"297\"],[\"parallel_data\\u002fsq-Trac\",\"sq\",\"298\"],[\"parallel_data\\u002fsq-Trac\",\"sq\",\"299\"]],\"hovertemplate\":\"language=%{customdata[1]}\\u003cbr\\u003ex=%{x}\\u003cbr\\u003ey=%{y}\\u003cbr\\u003edataset_name=%{customdata[0]}\\u003cbr\\u003eid=%{customdata[2]}\\u003cextra\\u003e\\u003c\\u002fextra\\u003e\",\"legendgroup\":\"sq\",\"marker\":{\"color\":\"#19d3f3\",\"symbol\":\"circle\"},\"mode\":\"markers\",\"name\":\"sq\",\"showlegend\":true,\"x\":[6.810156,-20.428253,-7.014904,-36.58014,-43.77408,18.714344,-47.4579,-19.931423,-7.79443,-16.847511,-22.130043,25.847946,-23.704119,32.146152,-15.166481,26.211031,-38.3119,33.552376,-54.41802,13.625479,-24.942333,18.525408,5.1904707,-24.216791,-21.301832,0.5603162,18.598415,34.747723,-15.237983,-19.923828,-10.990546,-21.73054,41.795364,-21.893484,-43.916683,27.30199,-16.379719,4.307754,-5.5542145,-28.30733,9.001007,-12.863403,-10.597755,-28.146687,3.3327742,-39.58632,13.7207155,-12.604124,-8.187244,-38.518417,32.410835,-0.04304034,7.9205804,-4.8396525,37.586,9.501014,50.5775,5.6676087,-1.3849877,38.937904,-3.9799576,-12.466339,21.387835,-28.801388,5.659993,4.052108,-9.003194,35.354618,-30.935463,-17.226645,40.910927,33.08469,25.07457,39.223026,-28.21303,21.87235,-27.358555,1.103712,46.570747,-10.68242,-1.7678702,0.6576225,-7.2595,-16.483582,-17.842587,24.658695,40.954628,-46.55934,29.806585,24.87812,-18.280106,29.943913,-1.7111475,32.50288,15.250435,-8.7842045,-16.220585,24.25304,-53.318157,-15.319096,46.59888,7.3547773,19.567448,10.582338,-1.8090281,9.885879,-7.462246,-33.13632,2.0153956,-5.660213,-17.504068,-7.3559327,46.613255,-10.067529,19.467672,-13.725514,3.4936602,45.6274,-20.111017,43.107433,0.638941,-26.650068,11.047754,-21.262047,45.93956,-48.991245,15.826788,-13.220025,19.050283,-11.054545,12.436871,31.192884,29.365173,-40.785866,28.464617,-3.1634557,13.0899515,-3.4621665,-12.713951,-9.647349,-29.270918,-4.5579495,2.8023875,10.654925,5.634725,-35.522743,42.266502,-50.19584,-59.115616,-28.249453,4.315061,34.51008,3.1126654,41.259327,-8.747812,37.896126,42.817917,27.975542,37.290016,-17.797735,15.43475,-10.940742,14.803798,-24.25869,-38.964607,-25.035608,15.2640705,-44.90402,14.773416,10.882913,10.17816,-28.307566,21.660715,25.251858,-25.143114,13.768335,22.443037,32.526043,-1.8712873,-3.8357344,52.72014,-29.686453,-39.291214,-1.9341017,-22.529972,0.36346284,20.131844,20.521358,5.6466994,16.421896,-20.105545,40.292255,42.604694,6.8538823,-52.41261,6.489846,24.095015,-4.534342,-15.796512,-29.407125,-24.892345,-41.387653,-29.59887,-31.480211,27.035337,-16.156437,-19.281729,-7.049252,21.806768,-33.088963,32.518288,6.9974027,-42.640026,13.047227,-50.616272,-0.89969575,15.257964,23.493193,7.9342313,53.252586,-32.724636,-34.25491,42.701935,42.599625,0.31375596,-8.770253,1.4736329,15.70915,46.333275,27.065434,-13.200563,-0.35094553,19.916378,12.812234,-46.97658,-50.36158,-10.613529,1.9584376,-5.702225,-4.8617096,19.831919,24.954462,-29.29049,-13.68353,22.713293,5.005463,-47.49198,-30.220062,34.31091,-39.9506,2.8975983,10.419467,-23.780903,-6.3239813,-24.512108,-33.455856,-19.94549,25.882103,-28.015785,11.804551,20.622765,-35.912224,-27.41078,3.5965629,-20.458017,-53.598145,-21.265593,-32.185123,-25.503595,16.59759,-22.325008,52.80269,10.903821,10.587004,-26.819605,37.40893,18.175323,25.212465,-22.535557,20.907408,37.77085,10.894797,14.091649,36.015465,-26.892872,36.020245,38.94339,6.377688,36.761307,19.204882,-28.622437,-33.43361,-42.32477,-16.019035,-0.14893308,17.125093,52.315323,-4.2782793,-9.033094,-3.467233],\"xaxis\":\"x\",\"y\":[20.435135,34.21539,26.546667,-16.401518,-34.30216,54.637623,-39.1323,-27.192049,21.627129,-37.887737,19.290194,-38.014294,33.13986,-46.581013,4.9476767,-30.42949,-33.492832,28.573545,-14.428422,30.145958,-24.071024,-11.023799,11.27841,-27.035078,29.22376,-13.272419,32.913113,43.60845,21.465574,-21.593178,6.237834,7.535796,-1.8018893,-11.89511,-11.544728,7.0161953,-31.32885,-40.30996,17.200346,-0.30292976,12.761414,-6.651841,1.0691752,-30.072348,10.473892,-45.290855,-14.096163,-19.822578,31.701475,31.951145,-1.497762,52.846992,-37.156246,-21.678087,-27.968437,-31.706738,10.150475,-22.753378,14.34554,36.455025,30.372234,-33.433517,14.457925,-16.3811,6.258066,-25.704723,11.429173,11.29964,26.11738,30.780846,-4.572557,-36.7011,17.344387,17.422579,24.052813,6.7476196,56.031048,-7.4481473,-7.9506354,18.643793,8.875781,-1.8980384,41.00323,-24.685566,24.955702,46.81592,21.890408,-20.253626,-18.626509,-15.905539,50.270947,7.8886695,39.628872,3.7406716,-19.445642,-42.21237,43.208145,-27.156395,-27.78049,8.99168,-15.026228,38.61783,-43.53837,43.257812,-53.63895,4.770046,-17.666647,15.38174,-50.996998,35.994778,-18.572407,-26.2914,3.3037152,27.374498,25.86433,-47.55121,1.8729906,-2.9683027,-16.240469,19.194735,19.073793,28.178654,-10.492746,23.388292,11.746873,-27.832762,-28.481537,16.363543,46.311577,23.634575,-23.40646,17.338793,12.195127,-21.299864,-28.451992,22.154926,22.911766,-49.79001,28.993694,50.226562,7.2855268,48.02728,5.796651,48.276794,26.475372,-37.69448,-37.066887,-43.495068,-20.602383,-21.452055,15.741695,-6.1949496,-18.056728,7.480199,-1.2779447,-8.899423,12.767533,23.699617,7.308008,18.064722,44.277447,44.24243,-8.775855,24.509079,1.3099446,20.542683,-2.0136113,-44.49646,2.3580754,-0.4821617,-4.9168057,-8.279546,-39.567265,10.833877,37.8003,17.362057,-9.445742,35.103832,-38.811527,-13.575299,3.35885,20.515862,-40.44915,35.72293,16.205814,-51.602566,39.876232,1.6314522,-13.2147,-24.320082,2.1159234,-22.17349,3.1867533,33.019325,-8.65675,-8.705554,-6.060222,-5.9837327,-12.1579075,-25.232168,-6.8007255,-30.208902,-36.95769,-46.66496,-8.988083,38.527855,12.926438,14.358302,-51.621,-22.280613,-12.5479765,52.47663,-26.410526,-36.028816,-34.45089,3.1721208,9.594444,-20.576311,8.99809,-1.9893816,7.348234,41.18387,28.370575,22.270575,-29.657701,37.209667,-47.227795,43.09854,25.047981,-3.462937,-27.239649,25.109959,-33.616093,37.139683,6.013961,17.494148,-13.0298,30.87696,7.689356,4.167472,-3.6952267,14.66008,37.760292,35.23376,-2.6634626,-3.2415605,-30.152187,-44.289852,-22.3756,18.220083,46.910404,-27.135319,-2.7064488,-9.900422,-18.071806,-27.221445,-44.881153,0.5775286,16.233252,-41.289207,10.669752,-10.407152,-11.181475,-34.091908,-6.1166897,-23.233265,49.085087,-38.996605,2.8146713,12.486882,-32.065056,-12.3628025,-46.873386,-17.814085,-42.23645,-1.9270744,-6.6406765,35.218037,42.547176,-15.461643,-15.313382,58.93288,5.9965067,1.8212758,11.800906,21.326557,25.478432,1.9762034,-1.8980637,8.622831,-50.105938,-34.079147,-37.93118,-2.4246168,-24.13649,18.319693,-20.952326,-30.894777,-4.962355,-0.9596602],\"yaxis\":\"y\",\"type\":\"scattergl\"}],                        {\"template\":{\"data\":{\"histogram2dcontour\":[{\"type\":\"histogram2dcontour\",\"colorbar\":{\"outlinewidth\":0,\"ticks\":\"\"},\"colorscale\":[[0.0,\"#0d0887\"],[0.1111111111111111,\"#46039f\"],[0.2222222222222222,\"#7201a8\"],[0.3333333333333333,\"#9c179e\"],[0.4444444444444444,\"#bd3786\"],[0.5555555555555556,\"#d8576b\"],[0.6666666666666666,\"#ed7953\"],[0.7777777777777778,\"#fb9f3a\"],[0.8888888888888888,\"#fdca26\"],[1.0,\"#f0f921\"]]}],\"choropleth\":[{\"type\":\"choropleth\",\"colorbar\":{\"outlinewidth\":0,\"ticks\":\"\"}}],\"histogram2d\":[{\"type\":\"histogram2d\",\"colorbar\":{\"outlinewidth\":0,\"ticks\":\"\"},\"colorscale\":[[0.0,\"#0d0887\"],[0.1111111111111111,\"#46039f\"],[0.2222222222222222,\"#7201a8\"],[0.3333333333333333,\"#9c179e\"],[0.4444444444444444,\"#bd3786\"],[0.5555555555555556,\"#d8576b\"],[0.6666666666666666,\"#ed7953\"],[0.7777777777777778,\"#fb9f3a\"],[0.8888888888888888,\"#fdca26\"],[1.0,\"#f0f921\"]]}],\"heatmap\":[{\"type\":\"heatmap\",\"colorbar\":{\"outlinewidth\":0,\"ticks\":\"\"},\"colorscale\":[[0.0,\"#0d0887\"],[0.1111111111111111,\"#46039f\"],[0.2222222222222222,\"#7201a8\"],[0.3333333333333333,\"#9c179e\"],[0.4444444444444444,\"#bd3786\"],[0.5555555555555556,\"#d8576b\"],[0.6666666666666666,\"#ed7953\"],[0.7777777777777778,\"#fb9f3a\"],[0.8888888888888888,\"#fdca26\"],[1.0,\"#f0f921\"]]}],\"heatmapgl\":[{\"type\":\"heatmapgl\",\"colorbar\":{\"outlinewidth\":0,\"ticks\":\"\"},\"colorscale\":[[0.0,\"#0d0887\"],[0.1111111111111111,\"#46039f\"],[0.2222222222222222,\"#7201a8\"],[0.3333333333333333,\"#9c179e\"],[0.4444444444444444,\"#bd3786\"],[0.5555555555555556,\"#d8576b\"],[0.6666666666666666,\"#ed7953\"],[0.7777777777777778,\"#fb9f3a\"],[0.8888888888888888,\"#fdca26\"],[1.0,\"#f0f921\"]]}],\"contourcarpet\":[{\"type\":\"contourcarpet\",\"colorbar\":{\"outlinewidth\":0,\"ticks\":\"\"}}],\"contour\":[{\"type\":\"contour\",\"colorbar\":{\"outlinewidth\":0,\"ticks\":\"\"},\"colorscale\":[[0.0,\"#0d0887\"],[0.1111111111111111,\"#46039f\"],[0.2222222222222222,\"#7201a8\"],[0.3333333333333333,\"#9c179e\"],[0.4444444444444444,\"#bd3786\"],[0.5555555555555556,\"#d8576b\"],[0.6666666666666666,\"#ed7953\"],[0.7777777777777778,\"#fb9f3a\"],[0.8888888888888888,\"#fdca26\"],[1.0,\"#f0f921\"]]}],\"surface\":[{\"type\":\"surface\",\"colorbar\":{\"outlinewidth\":0,\"ticks\":\"\"},\"colorscale\":[[0.0,\"#0d0887\"],[0.1111111111111111,\"#46039f\"],[0.2222222222222222,\"#7201a8\"],[0.3333333333333333,\"#9c179e\"],[0.4444444444444444,\"#bd3786\"],[0.5555555555555556,\"#d8576b\"],[0.6666666666666666,\"#ed7953\"],[0.7777777777777778,\"#fb9f3a\"],[0.8888888888888888,\"#fdca26\"],[1.0,\"#f0f921\"]]}],\"mesh3d\":[{\"type\":\"mesh3d\",\"colorbar\":{\"outlinewidth\":0,\"ticks\":\"\"}}],\"scatter\":[{\"fillpattern\":{\"fillmode\":\"overlay\",\"size\":10,\"solidity\":0.2},\"type\":\"scatter\"}],\"parcoords\":[{\"type\":\"parcoords\",\"line\":{\"colorbar\":{\"outlinewidth\":0,\"ticks\":\"\"}}}],\"scatterpolargl\":[{\"type\":\"scatterpolargl\",\"marker\":{\"colorbar\":{\"outlinewidth\":0,\"ticks\":\"\"}}}],\"bar\":[{\"error_x\":{\"color\":\"#2a3f5f\"},\"error_y\":{\"color\":\"#2a3f5f\"},\"marker\":{\"line\":{\"color\":\"#E5ECF6\",\"width\":0.5},\"pattern\":{\"fillmode\":\"overlay\",\"size\":10,\"solidity\":0.2}},\"type\":\"bar\"}],\"scattergeo\":[{\"type\":\"scattergeo\",\"marker\":{\"colorbar\":{\"outlinewidth\":0,\"ticks\":\"\"}}}],\"scatterpolar\":[{\"type\":\"scatterpolar\",\"marker\":{\"colorbar\":{\"outlinewidth\":0,\"ticks\":\"\"}}}],\"histogram\":[{\"marker\":{\"pattern\":{\"fillmode\":\"overlay\",\"size\":10,\"solidity\":0.2}},\"type\":\"histogram\"}],\"scattergl\":[{\"type\":\"scattergl\",\"marker\":{\"colorbar\":{\"outlinewidth\":0,\"ticks\":\"\"}}}],\"scatter3d\":[{\"type\":\"scatter3d\",\"line\":{\"colorbar\":{\"outlinewidth\":0,\"ticks\":\"\"}},\"marker\":{\"colorbar\":{\"outlinewidth\":0,\"ticks\":\"\"}}}],\"scattermapbox\":[{\"type\":\"scattermapbox\",\"marker\":{\"colorbar\":{\"outlinewidth\":0,\"ticks\":\"\"}}}],\"scatterternary\":[{\"type\":\"scatterternary\",\"marker\":{\"colorbar\":{\"outlinewidth\":0,\"ticks\":\"\"}}}],\"scattercarpet\":[{\"type\":\"scattercarpet\",\"marker\":{\"colorbar\":{\"outlinewidth\":0,\"ticks\":\"\"}}}],\"carpet\":[{\"aaxis\":{\"endlinecolor\":\"#2a3f5f\",\"gridcolor\":\"white\",\"linecolor\":\"white\",\"minorgridcolor\":\"white\",\"startlinecolor\":\"#2a3f5f\"},\"baxis\":{\"endlinecolor\":\"#2a3f5f\",\"gridcolor\":\"white\",\"linecolor\":\"white\",\"minorgridcolor\":\"white\",\"startlinecolor\":\"#2a3f5f\"},\"type\":\"carpet\"}],\"table\":[{\"cells\":{\"fill\":{\"color\":\"#EBF0F8\"},\"line\":{\"color\":\"white\"}},\"header\":{\"fill\":{\"color\":\"#C8D4E3\"},\"line\":{\"color\":\"white\"}},\"type\":\"table\"}],\"barpolar\":[{\"marker\":{\"line\":{\"color\":\"#E5ECF6\",\"width\":0.5},\"pattern\":{\"fillmode\":\"overlay\",\"size\":10,\"solidity\":0.2}},\"type\":\"barpolar\"}],\"pie\":[{\"automargin\":true,\"type\":\"pie\"}]},\"layout\":{\"autotypenumbers\":\"strict\",\"colorway\":[\"#636efa\",\"#EF553B\",\"#00cc96\",\"#ab63fa\",\"#FFA15A\",\"#19d3f3\",\"#FF6692\",\"#B6E880\",\"#FF97FF\",\"#FECB52\"],\"font\":{\"color\":\"#2a3f5f\"},\"hovermode\":\"closest\",\"hoverlabel\":{\"align\":\"left\"},\"paper_bgcolor\":\"white\",\"plot_bgcolor\":\"#E5ECF6\",\"polar\":{\"bgcolor\":\"#E5ECF6\",\"angularaxis\":{\"gridcolor\":\"white\",\"linecolor\":\"white\",\"ticks\":\"\"},\"radialaxis\":{\"gridcolor\":\"white\",\"linecolor\":\"white\",\"ticks\":\"\"}},\"ternary\":{\"bgcolor\":\"#E5ECF6\",\"aaxis\":{\"gridcolor\":\"white\",\"linecolor\":\"white\",\"ticks\":\"\"},\"baxis\":{\"gridcolor\":\"white\",\"linecolor\":\"white\",\"ticks\":\"\"},\"caxis\":{\"gridcolor\":\"white\",\"linecolor\":\"white\",\"ticks\":\"\"}},\"coloraxis\":{\"colorbar\":{\"outlinewidth\":0,\"ticks\":\"\"}},\"colorscale\":{\"sequential\":[[0.0,\"#0d0887\"],[0.1111111111111111,\"#46039f\"],[0.2222222222222222,\"#7201a8\"],[0.3333333333333333,\"#9c179e\"],[0.4444444444444444,\"#bd3786\"],[0.5555555555555556,\"#d8576b\"],[0.6666666666666666,\"#ed7953\"],[0.7777777777777778,\"#fb9f3a\"],[0.8888888888888888,\"#fdca26\"],[1.0,\"#f0f921\"]],\"sequentialminus\":[[0.0,\"#0d0887\"],[0.1111111111111111,\"#46039f\"],[0.2222222222222222,\"#7201a8\"],[0.3333333333333333,\"#9c179e\"],[0.4444444444444444,\"#bd3786\"],[0.5555555555555556,\"#d8576b\"],[0.6666666666666666,\"#ed7953\"],[0.7777777777777778,\"#fb9f3a\"],[0.8888888888888888,\"#fdca26\"],[1.0,\"#f0f921\"]],\"diverging\":[[0,\"#8e0152\"],[0.1,\"#c51b7d\"],[0.2,\"#de77ae\"],[0.3,\"#f1b6da\"],[0.4,\"#fde0ef\"],[0.5,\"#f7f7f7\"],[0.6,\"#e6f5d0\"],[0.7,\"#b8e186\"],[0.8,\"#7fbc41\"],[0.9,\"#4d9221\"],[1,\"#276419\"]]},\"xaxis\":{\"gridcolor\":\"white\",\"linecolor\":\"white\",\"ticks\":\"\",\"title\":{\"standoff\":15},\"zerolinecolor\":\"white\",\"automargin\":true,\"zerolinewidth\":2},\"yaxis\":{\"gridcolor\":\"white\",\"linecolor\":\"white\",\"ticks\":\"\",\"title\":{\"standoff\":15},\"zerolinecolor\":\"white\",\"automargin\":true,\"zerolinewidth\":2},\"scene\":{\"xaxis\":{\"backgroundcolor\":\"#E5ECF6\",\"gridcolor\":\"white\",\"linecolor\":\"white\",\"showbackground\":true,\"ticks\":\"\",\"zerolinecolor\":\"white\",\"gridwidth\":2},\"yaxis\":{\"backgroundcolor\":\"#E5ECF6\",\"gridcolor\":\"white\",\"linecolor\":\"white\",\"showbackground\":true,\"ticks\":\"\",\"zerolinecolor\":\"white\",\"gridwidth\":2},\"zaxis\":{\"backgroundcolor\":\"#E5ECF6\",\"gridcolor\":\"white\",\"linecolor\":\"white\",\"showbackground\":true,\"ticks\":\"\",\"zerolinecolor\":\"white\",\"gridwidth\":2}},\"shapedefaults\":{\"line\":{\"color\":\"#2a3f5f\"}},\"annotationdefaults\":{\"arrowcolor\":\"#2a3f5f\",\"arrowhead\":0,\"arrowwidth\":1},\"geo\":{\"bgcolor\":\"white\",\"landcolor\":\"#E5ECF6\",\"subunitcolor\":\"white\",\"showland\":true,\"showlakes\":true,\"lakecolor\":\"white\"},\"title\":{\"x\":0.05},\"mapbox\":{\"style\":\"light\"}}},\"xaxis\":{\"anchor\":\"y\",\"domain\":[0.0,1.0],\"title\":{\"text\":\"x\"}},\"yaxis\":{\"anchor\":\"x\",\"domain\":[0.0,1.0],\"title\":{\"text\":\"y\"}},\"legend\":{\"title\":{\"text\":\"language\"},\"tracegroupgap\":0},\"title\":{\"text\":\"Embedding Visualization\"}},                        {\"responsive\": true}                    ).then(function(){\n",
       "                            \n",
       "var gd = document.getElementById('1f16f5ef-0ae1-4de6-9a8a-95fa98d1374e');\n",
       "var x = new MutationObserver(function (mutations, observer) {{\n",
       "        var display = window.getComputedStyle(gd).display;\n",
       "        if (!display || display === 'none') {{\n",
       "            console.log([gd, 'removed!']);\n",
       "            Plotly.purge(gd);\n",
       "            observer.disconnect();\n",
       "        }}\n",
       "}});\n",
       "\n",
       "// Listen for the removal of the full notebook cells\n",
       "var notebookContainer = gd.closest('#notebook-container');\n",
       "if (notebookContainer) {{\n",
       "    x.observe(notebookContainer, {childList: true});\n",
       "}}\n",
       "\n",
       "// Listen for the clearing of the current output cell\n",
       "var outputEl = gd.closest('.output');\n",
       "if (outputEl) {{\n",
       "    x.observe(outputEl, {childList: true});\n",
       "}}\n",
       "\n",
       "                        })                };                });            </script>        </div>"
      ]
     },
     "metadata": {},
     "output_type": "display_data"
    }
   ],
   "execution_count": 62
  },
  {
   "cell_type": "code",
   "id": "6f5d304a78bcc44a",
   "metadata": {
    "ExecuteTime": {
     "end_time": "2025-02-13T13:57:25.050127Z",
     "start_time": "2025-02-13T13:57:25.043975Z"
    }
   },
   "source": [
    "import pandas as pd\n",
    "import numpy as np\n",
    "metadata_df = pd.DataFrame(metadatas)"
   ],
   "outputs": [],
   "execution_count": 63
  },
  {
   "cell_type": "code",
   "id": "32b085fb4ff42879",
   "metadata": {
    "ExecuteTime": {
     "end_time": "2025-02-13T13:57:25.200116Z",
     "start_time": "2025-02-13T13:57:25.193606Z"
    }
   },
   "source": [
    "metadata_df['dataset_name'].value_counts()"
   ],
   "outputs": [
    {
     "data": {
      "text/plain": [
       "dataset_name\n",
       "parallel_data/en-Trac    300\n",
       "parallel_data/tr-Trac    300\n",
       "parallel_data/de-Trac    300\n",
       "parallel_data/hr-Trac    300\n",
       "parallel_data/ru-Trac    300\n",
       "parallel_data/sq-Trac    300\n",
       "Name: count, dtype: int64"
      ]
     },
     "execution_count": 64,
     "metadata": {},
     "output_type": "execute_result"
    }
   ],
   "execution_count": 64
  },
  {
   "cell_type": "code",
   "id": "40a15af032989d29",
   "metadata": {
    "ExecuteTime": {
     "end_time": "2025-02-13T13:57:25.293599Z",
     "start_time": "2025-02-13T13:57:25.291058Z"
    }
   },
   "source": [],
   "outputs": [],
   "execution_count": null
  },
  {
   "cell_type": "code",
   "id": "c3ae19e8372565bc",
   "metadata": {
    "ExecuteTime": {
     "end_time": "2025-02-13T13:57:25.366560Z",
     "start_time": "2025-02-13T13:57:25.364055Z"
    }
   },
   "source": [],
   "outputs": [],
   "execution_count": null
  },
  {
   "cell_type": "code",
   "id": "6942fb0ce6ed44d5",
   "metadata": {
    "ExecuteTime": {
     "end_time": "2025-02-13T13:57:25.463845Z",
     "start_time": "2025-02-13T13:57:25.461311Z"
    }
   },
   "source": [],
   "outputs": [],
   "execution_count": null
  },
  {
   "cell_type": "code",
   "id": "8470e56bcfd92ec2",
   "metadata": {
    "ExecuteTime": {
     "end_time": "2025-02-13T13:57:25.767852Z",
     "start_time": "2025-02-13T13:57:25.765231Z"
    }
   },
   "source": [],
   "outputs": [],
   "execution_count": null
  },
  {
   "cell_type": "code",
   "id": "f77c19c1692b4c03",
   "metadata": {
    "ExecuteTime": {
     "end_time": "2025-02-13T13:57:26.293690Z",
     "start_time": "2025-02-13T13:57:26.291107Z"
    }
   },
   "source": [],
   "outputs": [],
   "execution_count": null
  },
  {
   "cell_type": "code",
   "id": "d99b296fca13f8e9",
   "metadata": {
    "ExecuteTime": {
     "end_time": "2025-02-13T13:57:26.463211Z",
     "start_time": "2025-02-13T13:57:26.457660Z"
    }
   },
   "source": [
    "from retriever import Retriever\n",
    "retriever = Retriever(embedder_.embedding_dim, index_type=\"HNSW\", normalize_index=False)"
   ],
   "outputs": [],
   "execution_count": 65
  },
  {
   "cell_type": "code",
   "id": "8a65775da870650c",
   "metadata": {
    "ExecuteTime": {
     "end_time": "2025-02-13T13:57:26.665341Z",
     "start_time": "2025-02-13T13:57:26.660869Z"
    }
   },
   "source": [
    "retriever.index_type"
   ],
   "outputs": [
    {
     "data": {
      "text/plain": [
       "'HNSW'"
      ]
     },
     "execution_count": 66,
     "metadata": {},
     "output_type": "execute_result"
    }
   ],
   "execution_count": 66
  },
  {
   "cell_type": "code",
   "id": "c7dade0438a08153",
   "metadata": {
    "ExecuteTime": {
     "end_time": "2025-02-13T13:57:27.157592Z",
     "start_time": "2025-02-13T13:57:27.032991Z"
    }
   },
   "source": [
    "retriever.add_embeddings(embed, metadata)"
   ],
   "outputs": [],
   "execution_count": 67
  },
  {
   "cell_type": "code",
   "id": "33b7c95f472ea218",
   "metadata": {
    "ExecuteTime": {
     "end_time": "2025-02-13T13:57:27.315521Z",
     "start_time": "2025-02-13T13:57:27.310547Z"
    }
   },
   "source": [
    "retrieved_samples = retriever.retrieve(embeddings[0][213].reshape(1,-1), k=10)"
   ],
   "outputs": [],
   "execution_count": 68
  },
  {
   "cell_type": "code",
   "id": "420be5bc739067ae",
   "metadata": {
    "ExecuteTime": {
     "end_time": "2025-02-13T13:57:27.459534Z",
     "start_time": "2025-02-13T13:57:27.454316Z"
    }
   },
   "source": "# retriever.save_index(\"/mounts/data/proj/faeze/data_efficient_hate/models/retriever/temp/\")",
   "outputs": [],
   "execution_count": 69
  },
  {
   "cell_type": "code",
   "id": "72796a6345766cf2",
   "metadata": {
    "ExecuteTime": {
     "end_time": "2025-02-13T13:57:27.568610Z",
     "start_time": "2025-02-13T13:57:27.565780Z"
    }
   },
   "source": [
    "# import faiss\n",
    "# faiss.write_index(retriever.index, 'embedding.index')"
   ],
   "outputs": [],
   "execution_count": 70
  },
  {
   "cell_type": "code",
   "id": "63d9e30a96572",
   "metadata": {
    "ExecuteTime": {
     "end_time": "2025-02-13T13:57:31.530421Z",
     "start_time": "2025-02-13T13:57:27.642440Z"
    }
   },
   "source": [
    "def calculate_average_correct_retrieval(retriever, embeddings, lang=\"en\"):\n",
    "    ks = [10, 20, 30, 40, 50, 100, 200, 300, 400, 500, 1000, 2000,]\n",
    "    offset = 1 + 5\n",
    "\n",
    "    averages = []\n",
    "    for k in ks:\n",
    "        counts = []\n",
    "        for i in range(300):\n",
    "            retrieved = retriever.retrieve(embeddings[0][i].reshape(1,-1), k=k+offset)\n",
    "            # print(metadata[i])\n",
    "            # print(retrieved[6:])\n",
    "            lang_en_ids = [item[\"metadata\"][\"id\"] for item in retrieved[offset:] if item[\"metadata\"][\"language\"] == lang]\n",
    "\n",
    "            # count = sum(1 for item in retrieved[6:] if item[\"metadata\"][\"id\"] in lang_en_ids)\n",
    "            count = sum(1 for item in retrieved[offset:] if item[\"metadata\"][\"id\"] in lang_en_ids and item[\"metadata\"][\"language\"] != lang)\n",
    "            counts.append(count/k)\n",
    "        averages.append(np.round(np.mean(counts),3))\n",
    "    return averages\n",
    "calculate_average_correct_retrieval(retriever, embeddings)"
   ],
   "outputs": [
    {
     "data": {
      "text/plain": [
       "[0.388,\n",
       " 0.441,\n",
       " 0.458,\n",
       " 0.471,\n",
       " 0.484,\n",
       " 0.526,\n",
       " 0.57,\n",
       " 0.598,\n",
       " 0.62,\n",
       " 0.64,\n",
       " 0.705,\n",
       " 0.609]"
      ]
     },
     "execution_count": 71,
     "metadata": {},
     "output_type": "execute_result"
    }
   ],
   "execution_count": 71
  },
  {
   "cell_type": "code",
   "id": "8baa6c11a88c00bb",
   "metadata": {
    "ExecuteTime": {
     "end_time": "2025-02-13T14:00:13.566581Z",
     "start_time": "2025-02-13T13:57:53.420547Z"
    }
   },
   "source": [
    "for embedding_model_name in [\"labse\", \"distiluse\", \"mpnet\", \"m3\", \"m3-unsupervised\", \"arctic-large\", \"e5-large\", \"nomic\"]:\n",
    "    print(embedding_model_name)\n",
    "    embedder_ = Embedder(model_name=embedding_model_name)\n",
    "    embeddings, metadatas = embedder_.embed_datasets(datasets, ['test'], False)\n",
    "    embed = np.vstack(embeddings)\n",
    "    retriever = Retriever(embedder_.embedding_dim, index_type=\"FlatIP\")\n",
    "    retriever.add_embeddings(embed, metadata)\n",
    "    print(calculate_average_correct_retrieval(retriever, embeddings, lang='de'))\n",
    "# [0.335, 0.397, 0.434, 0.452, 0.466, 0.518, 0.568, 0.596, 0.617, 0.635, 0.688, 0.712]\n",
    "# [0.335, 0.397, 0.434, 0.452, 0.466, 0.518, 0.568, 0.596, 0.617, 0.636, 0.695, 0.752]"
   ],
   "outputs": [
    {
     "name": "stdout",
     "output_type": "stream",
     "text": [
      "labse\n"
     ]
    },
    {
     "name": "stderr",
     "output_type": "stream",
     "text": [
      "Embedding sentences: 100%|██████████| 2/2 [00:00<00:00,  7.46it/s]\n",
      "Embedding sentences: 100%|██████████| 2/2 [00:00<00:00,  7.27it/s]\n",
      "Embedding sentences: 100%|██████████| 2/2 [00:00<00:00,  6.58it/s]\n",
      "Embedding sentences: 100%|██████████| 2/2 [00:00<00:00,  7.30it/s]\n",
      "Embedding sentences: 100%|██████████| 2/2 [00:00<00:00,  5.81it/s]\n",
      "Embedding sentences: 100%|██████████| 2/2 [00:00<00:00,  6.54it/s]\n"
     ]
    },
    {
     "name": "stdout",
     "output_type": "stream",
     "text": [
      "[0.431, 0.503, 0.528, 0.537, 0.541, 0.579, 0.619, 0.644, 0.659, 0.676, 0.737, 0.747]\n",
      "distiluse\n"
     ]
    },
    {
     "data": {
      "text/plain": [
       "config.json:   0%|          | 0.00/610 [00:00<?, ?B/s]"
      ],
      "application/vnd.jupyter.widget-view+json": {
       "version_major": 2,
       "version_minor": 0,
       "model_id": "450c41ffce9e48bd8ce7165907e77d61"
      }
     },
     "metadata": {},
     "output_type": "display_data"
    },
    {
     "data": {
      "text/plain": [
       "model.safetensors:   0%|          | 0.00/539M [00:00<?, ?B/s]"
      ],
      "application/vnd.jupyter.widget-view+json": {
       "version_major": 2,
       "version_minor": 0,
       "model_id": "6e903cec570b44c898e3ceecc73bf4b0"
      }
     },
     "metadata": {},
     "output_type": "display_data"
    },
    {
     "data": {
      "text/plain": [
       "tokenizer_config.json:   0%|          | 0.00/531 [00:00<?, ?B/s]"
      ],
      "application/vnd.jupyter.widget-view+json": {
       "version_major": 2,
       "version_minor": 0,
       "model_id": "ca65011cb83043828637a34a9c1e463b"
      }
     },
     "metadata": {},
     "output_type": "display_data"
    },
    {
     "data": {
      "text/plain": [
       "vocab.txt:   0%|          | 0.00/996k [00:00<?, ?B/s]"
      ],
      "application/vnd.jupyter.widget-view+json": {
       "version_major": 2,
       "version_minor": 0,
       "model_id": "25921e08857143bfa05d1209007b7dac"
      }
     },
     "metadata": {},
     "output_type": "display_data"
    },
    {
     "data": {
      "text/plain": [
       "tokenizer.json:   0%|          | 0.00/1.96M [00:00<?, ?B/s]"
      ],
      "application/vnd.jupyter.widget-view+json": {
       "version_major": 2,
       "version_minor": 0,
       "model_id": "cd8032fef9b64e20ba60ab055595b3c1"
      }
     },
     "metadata": {},
     "output_type": "display_data"
    },
    {
     "data": {
      "text/plain": [
       "special_tokens_map.json:   0%|          | 0.00/112 [00:00<?, ?B/s]"
      ],
      "application/vnd.jupyter.widget-view+json": {
       "version_major": 2,
       "version_minor": 0,
       "model_id": "5b61986c78c24491a91008f4886a8304"
      }
     },
     "metadata": {},
     "output_type": "display_data"
    },
    {
     "name": "stderr",
     "output_type": "stream",
     "text": [
      "Embedding sentences: 100%|██████████| 2/2 [00:00<00:00, 11.39it/s]\n",
      "Embedding sentences: 100%|██████████| 2/2 [00:00<00:00, 11.02it/s]\n",
      "Embedding sentences: 100%|██████████| 2/2 [00:00<00:00, 11.88it/s]\n",
      "Embedding sentences: 100%|██████████| 2/2 [00:00<00:00, 12.03it/s]\n",
      "Embedding sentences: 100%|██████████| 2/2 [00:00<00:00, 10.36it/s]\n",
      "Embedding sentences: 100%|██████████| 2/2 [00:00<00:00, 10.96it/s]\n"
     ]
    },
    {
     "name": "stdout",
     "output_type": "stream",
     "text": [
      "[0.328, 0.397, 0.425, 0.449, 0.464, 0.53, 0.594, 0.632, 0.655, 0.672, 0.736, 0.747]\n",
      "mpnet\n"
     ]
    },
    {
     "data": {
      "text/plain": [
       "model.safetensors:   0%|          | 0.00/1.11G [00:00<?, ?B/s]"
      ],
      "application/vnd.jupyter.widget-view+json": {
       "version_major": 2,
       "version_minor": 0,
       "model_id": "c30b6fec67c74e128c78d5a9840f0525"
      }
     },
     "metadata": {},
     "output_type": "display_data"
    },
    {
     "name": "stderr",
     "output_type": "stream",
     "text": [
      "Embedding sentences: 100%|██████████| 2/2 [00:00<00:00,  6.38it/s]\n",
      "Embedding sentences: 100%|██████████| 2/2 [00:00<00:00,  6.92it/s]\n",
      "Embedding sentences: 100%|██████████| 2/2 [00:00<00:00,  6.77it/s]\n",
      "Embedding sentences: 100%|██████████| 2/2 [00:00<00:00,  6.94it/s]\n",
      "Embedding sentences: 100%|██████████| 2/2 [00:00<00:00,  6.47it/s]\n",
      "Embedding sentences: 100%|██████████| 2/2 [00:00<00:00,  6.52it/s]\n"
     ]
    },
    {
     "name": "stdout",
     "output_type": "stream",
     "text": [
      "[0.293, 0.368, 0.4, 0.432, 0.454, 0.52, 0.585, 0.624, 0.652, 0.673, 0.744, 0.747]\n",
      "m3\n"
     ]
    },
    {
     "name": "stderr",
     "output_type": "stream",
     "text": [
      "Embedding sentences: 100%|██████████| 2/2 [00:00<00:00,  2.16it/s]\n",
      "Embedding sentences: 100%|██████████| 2/2 [00:00<00:00,  2.15it/s]\n",
      "Embedding sentences: 100%|██████████| 2/2 [00:00<00:00,  2.11it/s]\n",
      "Embedding sentences: 100%|██████████| 2/2 [00:00<00:00,  2.19it/s]\n",
      "Embedding sentences: 100%|██████████| 2/2 [00:00<00:00,  2.06it/s]\n",
      "Embedding sentences: 100%|██████████| 2/2 [00:01<00:00,  1.96it/s]\n"
     ]
    },
    {
     "name": "stdout",
     "output_type": "stream",
     "text": [
      "[0.36, 0.422, 0.447, 0.458, 0.469, 0.505, 0.543, 0.57, 0.593, 0.61, 0.695, 0.747]\n",
      "m3-unsupervised\n"
     ]
    },
    {
     "name": "stderr",
     "output_type": "stream",
     "text": [
      "Embedding sentences: 100%|██████████| 2/2 [00:00<00:00,  2.08it/s]\n",
      "Embedding sentences: 100%|██████████| 2/2 [00:00<00:00,  2.14it/s]\n",
      "Embedding sentences: 100%|██████████| 2/2 [00:00<00:00,  2.10it/s]\n",
      "Embedding sentences: 100%|██████████| 2/2 [00:00<00:00,  2.18it/s]\n",
      "Embedding sentences: 100%|██████████| 2/2 [00:00<00:00,  2.04it/s]\n",
      "Embedding sentences: 100%|██████████| 2/2 [00:01<00:00,  1.95it/s]\n"
     ]
    },
    {
     "name": "stdout",
     "output_type": "stream",
     "text": [
      "[0.392, 0.457, 0.488, 0.501, 0.514, 0.551, 0.598, 0.62, 0.642, 0.66, 0.733, 0.747]\n",
      "arctic-large\n"
     ]
    },
    {
     "name": "stderr",
     "output_type": "stream",
     "text": [
      "Embedding sentences: 100%|██████████| 2/2 [00:00<00:00,  2.04it/s]\n",
      "Embedding sentences: 100%|██████████| 2/2 [00:00<00:00,  2.10it/s]\n",
      "Embedding sentences: 100%|██████████| 2/2 [00:00<00:00,  2.07it/s]\n",
      "Embedding sentences: 100%|██████████| 2/2 [00:00<00:00,  2.14it/s]\n",
      "Embedding sentences: 100%|██████████| 2/2 [00:00<00:00,  2.01it/s]\n",
      "Embedding sentences: 100%|██████████| 2/2 [00:01<00:00,  1.93it/s]\n"
     ]
    },
    {
     "name": "stdout",
     "output_type": "stream",
     "text": [
      "[0.335, 0.401, 0.441, 0.455, 0.474, 0.51, 0.556, 0.587, 0.608, 0.625, 0.703, 0.747]\n",
      "e5-large\n"
     ]
    },
    {
     "name": "stderr",
     "output_type": "stream",
     "text": [
      "Embedding sentences: 100%|██████████| 2/2 [00:00<00:00,  2.05it/s]\n",
      "Embedding sentences: 100%|██████████| 2/2 [00:00<00:00,  2.13it/s]\n",
      "Embedding sentences: 100%|██████████| 2/2 [00:00<00:00,  2.09it/s]\n",
      "Embedding sentences: 100%|██████████| 2/2 [00:00<00:00,  2.16it/s]\n",
      "Embedding sentences: 100%|██████████| 2/2 [00:00<00:00,  2.04it/s]\n",
      "Embedding sentences: 100%|██████████| 2/2 [00:01<00:00,  1.95it/s]\n"
     ]
    },
    {
     "name": "stdout",
     "output_type": "stream",
     "text": [
      "[0.073, 0.098, 0.116, 0.129, 0.142, 0.196, 0.263, 0.315, 0.356, 0.394, 0.558, 0.747]\n",
      "nomic\n"
     ]
    },
    {
     "name": "stderr",
     "output_type": "stream",
     "text": [
      "Embedding sentences: 100%|██████████| 2/2 [00:00<00:00,  3.21it/s]\n",
      "Embedding sentences: 100%|██████████| 2/2 [00:00<00:00,  3.25it/s]\n",
      "Embedding sentences: 100%|██████████| 2/2 [00:00<00:00,  3.12it/s]\n",
      "Embedding sentences: 100%|██████████| 2/2 [00:00<00:00,  3.23it/s]\n",
      "Embedding sentences: 100%|██████████| 2/2 [00:00<00:00,  3.08it/s]\n",
      "Embedding sentences: 100%|██████████| 2/2 [00:00<00:00,  3.00it/s]\n"
     ]
    },
    {
     "name": "stdout",
     "output_type": "stream",
     "text": [
      "[0.372, 0.422, 0.444, 0.465, 0.479, 0.527, 0.573, 0.602, 0.626, 0.644, 0.715, 0.747]\n"
     ]
    }
   ],
   "execution_count": 73
  },
  {
   "cell_type": "code",
   "id": "1a384dbcbacd8f23",
   "metadata": {
    "ExecuteTime": {
     "end_time": "2025-02-13T14:23:41.093590Z",
     "start_time": "2025-02-13T14:00:16.551730Z"
    }
   },
   "source": [
    "import numpy as np\n",
    "\n",
    "langs = ['en', 'de', 'tr', 'hr', 'ru']\n",
    "index_types = ['HNSW', 'FlatIP', 'FlatL2']\n",
    "embedding_models = [\"labse\", \"distiluse\", \"mpnet\", \"m3\", \"m3-unsupervised\", \"arctic-large\", \"e5-large\", \"nomic\"]\n",
    "\n",
    "results = {}\n",
    "best_models = {}\n",
    "\n",
    "for lang in langs:\n",
    "    max_index_scores = {}\n",
    "    for index_type in index_types:\n",
    "        model_scores = {}\n",
    "\n",
    "        for embedding_model_name in embedding_models:\n",
    "            print(f\"Processing: {embedding_model_name}, Lang: {lang}, Index: {index_type}\")\n",
    "\n",
    "            embedder_ = Embedder(model_name=embedding_model_name)\n",
    "            embeddings, metadatas = embedder_.embed_datasets(datasets, ['test'], False)\n",
    "            embed = np.vstack(embeddings)\n",
    "\n",
    "            retriever = Retriever(embedder_.embedding_dim, index_type=index_type)\n",
    "            retriever.add_embeddings(embed, metadatas)\n",
    "\n",
    "            scores = calculate_average_correct_retrieval(retriever, embeddings, lang=lang)\n",
    "            model_scores[embedding_model_name] = scores\n",
    "\n",
    "        # Store results\n",
    "        results[(lang, index_type)] = model_scores\n",
    "        # Determine the best model by counting the highest values across all 12 positions\n",
    "        best_model = max(model_scores, key=lambda model: sum(model_scores[model][i] >= max(m[i] for m in model_scores.values()) for i in range(12)))\n",
    "        print(f\"Best model for lang={lang}, index_type={index_type}: {best_model}\")\n",
    "        best_models[(lang, index_type)] = best_model\n",
    "\n",
    "\n"
   ],
   "outputs": [
    {
     "name": "stdout",
     "output_type": "stream",
     "text": [
      "Processing: labse, Lang: en, Index: HNSW\n"
     ]
    },
    {
     "name": "stderr",
     "output_type": "stream",
     "text": [
      "Embedding sentences: 100%|██████████| 2/2 [00:00<00:00,  7.30it/s]\n",
      "Embedding sentences: 100%|██████████| 2/2 [00:00<00:00,  7.12it/s]\n",
      "Embedding sentences: 100%|██████████| 2/2 [00:00<00:00,  6.44it/s]\n",
      "Embedding sentences: 100%|██████████| 2/2 [00:00<00:00,  7.16it/s]\n",
      "Embedding sentences: 100%|██████████| 2/2 [00:00<00:00,  5.72it/s]\n",
      "Embedding sentences: 100%|██████████| 2/2 [00:00<00:00,  6.40it/s]\n"
     ]
    },
    {
     "name": "stdout",
     "output_type": "stream",
     "text": [
      "Processing: distiluse, Lang: en, Index: HNSW\n"
     ]
    },
    {
     "name": "stderr",
     "output_type": "stream",
     "text": [
      "Embedding sentences: 100%|██████████| 2/2 [00:00<00:00, 11.94it/s]\n",
      "Embedding sentences: 100%|██████████| 2/2 [00:00<00:00, 10.78it/s]\n",
      "Embedding sentences: 100%|██████████| 2/2 [00:00<00:00, 11.57it/s]\n",
      "Embedding sentences: 100%|██████████| 2/2 [00:00<00:00, 11.75it/s]\n",
      "Embedding sentences: 100%|██████████| 2/2 [00:00<00:00, 10.15it/s]\n",
      "Embedding sentences: 100%|██████████| 2/2 [00:00<00:00, 10.77it/s]\n"
     ]
    },
    {
     "name": "stdout",
     "output_type": "stream",
     "text": [
      "Processing: mpnet, Lang: en, Index: HNSW\n"
     ]
    },
    {
     "name": "stderr",
     "output_type": "stream",
     "text": [
      "Embedding sentences: 100%|██████████| 2/2 [00:00<00:00,  6.39it/s]\n",
      "Embedding sentences: 100%|██████████| 2/2 [00:00<00:00,  6.84it/s]\n",
      "Embedding sentences: 100%|██████████| 2/2 [00:00<00:00,  6.65it/s]\n",
      "Embedding sentences: 100%|██████████| 2/2 [00:00<00:00,  6.80it/s]\n",
      "Embedding sentences: 100%|██████████| 2/2 [00:00<00:00,  6.36it/s]\n",
      "Embedding sentences: 100%|██████████| 2/2 [00:00<00:00,  6.40it/s]\n"
     ]
    },
    {
     "name": "stdout",
     "output_type": "stream",
     "text": [
      "Processing: m3, Lang: en, Index: HNSW\n"
     ]
    },
    {
     "name": "stderr",
     "output_type": "stream",
     "text": [
      "Embedding sentences: 100%|██████████| 2/2 [00:00<00:00,  2.12it/s]\n",
      "Embedding sentences: 100%|██████████| 2/2 [00:00<00:00,  2.11it/s]\n",
      "Embedding sentences: 100%|██████████| 2/2 [00:00<00:00,  2.07it/s]\n",
      "Embedding sentences: 100%|██████████| 2/2 [00:00<00:00,  2.15it/s]\n",
      "Embedding sentences: 100%|██████████| 2/2 [00:00<00:00,  2.01it/s]\n",
      "Embedding sentences: 100%|██████████| 2/2 [00:01<00:00,  1.93it/s]\n"
     ]
    },
    {
     "name": "stdout",
     "output_type": "stream",
     "text": [
      "Processing: m3-unsupervised, Lang: en, Index: HNSW\n"
     ]
    },
    {
     "name": "stderr",
     "output_type": "stream",
     "text": [
      "Embedding sentences: 100%|██████████| 2/2 [00:00<00:00,  2.11it/s]\n",
      "Embedding sentences: 100%|██████████| 2/2 [00:00<00:00,  2.10it/s]\n",
      "Embedding sentences: 100%|██████████| 2/2 [00:00<00:00,  2.07it/s]\n",
      "Embedding sentences: 100%|██████████| 2/2 [00:00<00:00,  2.14it/s]\n",
      "Embedding sentences: 100%|██████████| 2/2 [00:00<00:00,  2.02it/s]\n",
      "Embedding sentences: 100%|██████████| 2/2 [00:01<00:00,  1.92it/s]\n"
     ]
    },
    {
     "name": "stdout",
     "output_type": "stream",
     "text": [
      "Processing: arctic-large, Lang: en, Index: HNSW\n"
     ]
    },
    {
     "name": "stderr",
     "output_type": "stream",
     "text": [
      "Embedding sentences: 100%|██████████| 2/2 [00:00<00:00,  2.08it/s]\n",
      "Embedding sentences: 100%|██████████| 2/2 [00:00<00:00,  2.06it/s]\n",
      "Embedding sentences: 100%|██████████| 2/2 [00:00<00:00,  2.03it/s]\n",
      "Embedding sentences: 100%|██████████| 2/2 [00:00<00:00,  2.11it/s]\n",
      "Embedding sentences: 100%|██████████| 2/2 [00:01<00:00,  1.98it/s]\n",
      "Embedding sentences: 100%|██████████| 2/2 [00:01<00:00,  1.89it/s]\n"
     ]
    },
    {
     "name": "stdout",
     "output_type": "stream",
     "text": [
      "Processing: e5-large, Lang: en, Index: HNSW\n"
     ]
    },
    {
     "name": "stderr",
     "output_type": "stream",
     "text": [
      "Embedding sentences: 100%|██████████| 2/2 [00:00<00:00,  2.10it/s]\n",
      "Embedding sentences: 100%|██████████| 2/2 [00:00<00:00,  2.09it/s]\n",
      "Embedding sentences: 100%|██████████| 2/2 [00:00<00:00,  2.05it/s]\n",
      "Embedding sentences: 100%|██████████| 2/2 [00:00<00:00,  2.13it/s]\n",
      "Embedding sentences: 100%|██████████| 2/2 [00:00<00:00,  2.00it/s]\n",
      "Embedding sentences: 100%|██████████| 2/2 [00:01<00:00,  1.92it/s]\n"
     ]
    },
    {
     "name": "stdout",
     "output_type": "stream",
     "text": [
      "Processing: nomic, Lang: en, Index: HNSW\n"
     ]
    },
    {
     "name": "stderr",
     "output_type": "stream",
     "text": [
      "Embedding sentences: 100%|██████████| 2/2 [00:00<00:00,  3.16it/s]\n",
      "Embedding sentences: 100%|██████████| 2/2 [00:00<00:00,  3.20it/s]\n",
      "Embedding sentences: 100%|██████████| 2/2 [00:00<00:00,  3.07it/s]\n",
      "Embedding sentences: 100%|██████████| 2/2 [00:00<00:00,  3.20it/s]\n",
      "Embedding sentences: 100%|██████████| 2/2 [00:00<00:00,  3.05it/s]\n",
      "Embedding sentences: 100%|██████████| 2/2 [00:00<00:00,  2.95it/s]\n"
     ]
    },
    {
     "name": "stdout",
     "output_type": "stream",
     "text": [
      "Best model for lang=en, index_type=HNSW: m3\n",
      "Processing: labse, Lang: en, Index: FlatIP\n"
     ]
    },
    {
     "name": "stderr",
     "output_type": "stream",
     "text": [
      "Embedding sentences: 100%|██████████| 2/2 [00:00<00:00,  6.92it/s]\n",
      "Embedding sentences: 100%|██████████| 2/2 [00:00<00:00,  7.02it/s]\n",
      "Embedding sentences: 100%|██████████| 2/2 [00:00<00:00,  6.30it/s]\n",
      "Embedding sentences: 100%|██████████| 2/2 [00:00<00:00,  7.07it/s]\n",
      "Embedding sentences: 100%|██████████| 2/2 [00:00<00:00,  5.62it/s]\n",
      "Embedding sentences: 100%|██████████| 2/2 [00:00<00:00,  6.31it/s]\n"
     ]
    },
    {
     "name": "stdout",
     "output_type": "stream",
     "text": [
      "Processing: distiluse, Lang: en, Index: FlatIP\n"
     ]
    },
    {
     "name": "stderr",
     "output_type": "stream",
     "text": [
      "Embedding sentences: 100%|██████████| 2/2 [00:00<00:00, 11.44it/s]\n",
      "Embedding sentences: 100%|██████████| 2/2 [00:00<00:00, 10.68it/s]\n",
      "Embedding sentences: 100%|██████████| 2/2 [00:00<00:00, 11.48it/s]\n",
      "Embedding sentences: 100%|██████████| 2/2 [00:00<00:00, 11.60it/s]\n",
      "Embedding sentences: 100%|██████████| 2/2 [00:00<00:00, 10.03it/s]\n",
      "Embedding sentences: 100%|██████████| 2/2 [00:00<00:00, 10.46it/s]\n"
     ]
    },
    {
     "name": "stdout",
     "output_type": "stream",
     "text": [
      "Processing: mpnet, Lang: en, Index: FlatIP\n"
     ]
    },
    {
     "name": "stderr",
     "output_type": "stream",
     "text": [
      "Embedding sentences: 100%|██████████| 2/2 [00:00<00:00,  6.33it/s]\n",
      "Embedding sentences: 100%|██████████| 2/2 [00:00<00:00,  6.76it/s]\n",
      "Embedding sentences: 100%|██████████| 2/2 [00:00<00:00,  6.57it/s]\n",
      "Embedding sentences: 100%|██████████| 2/2 [00:00<00:00,  6.73it/s]\n",
      "Embedding sentences: 100%|██████████| 2/2 [00:00<00:00,  6.27it/s]\n",
      "Embedding sentences: 100%|██████████| 2/2 [00:00<00:00,  6.35it/s]\n"
     ]
    },
    {
     "name": "stdout",
     "output_type": "stream",
     "text": [
      "Processing: m3, Lang: en, Index: FlatIP\n"
     ]
    },
    {
     "name": "stderr",
     "output_type": "stream",
     "text": [
      "Embedding sentences: 100%|██████████| 2/2 [00:00<00:00,  2.10it/s]\n",
      "Embedding sentences: 100%|██████████| 2/2 [00:00<00:00,  2.09it/s]\n",
      "Embedding sentences: 100%|██████████| 2/2 [00:00<00:00,  2.06it/s]\n",
      "Embedding sentences: 100%|██████████| 2/2 [00:00<00:00,  2.13it/s]\n",
      "Embedding sentences: 100%|██████████| 2/2 [00:00<00:00,  2.00it/s]\n",
      "Embedding sentences: 100%|██████████| 2/2 [00:01<00:00,  1.92it/s]\n"
     ]
    },
    {
     "name": "stdout",
     "output_type": "stream",
     "text": [
      "Processing: m3-unsupervised, Lang: en, Index: FlatIP\n"
     ]
    },
    {
     "name": "stderr",
     "output_type": "stream",
     "text": [
      "Embedding sentences: 100%|██████████| 2/2 [00:00<00:00,  2.10it/s]\n",
      "Embedding sentences: 100%|██████████| 2/2 [00:00<00:00,  2.09it/s]\n",
      "Embedding sentences: 100%|██████████| 2/2 [00:00<00:00,  2.05it/s]\n",
      "Embedding sentences: 100%|██████████| 2/2 [00:00<00:00,  2.14it/s]\n",
      "Embedding sentences: 100%|██████████| 2/2 [00:00<00:00,  2.00it/s]\n",
      "Embedding sentences: 100%|██████████| 2/2 [00:01<00:00,  1.91it/s]\n"
     ]
    },
    {
     "name": "stdout",
     "output_type": "stream",
     "text": [
      "Processing: arctic-large, Lang: en, Index: FlatIP\n"
     ]
    },
    {
     "name": "stderr",
     "output_type": "stream",
     "text": [
      "Embedding sentences: 100%|██████████| 2/2 [00:00<00:00,  2.07it/s]\n",
      "Embedding sentences: 100%|██████████| 2/2 [00:00<00:00,  2.06it/s]\n",
      "Embedding sentences: 100%|██████████| 2/2 [00:00<00:00,  2.02it/s]\n",
      "Embedding sentences: 100%|██████████| 2/2 [00:00<00:00,  2.10it/s]\n",
      "Embedding sentences: 100%|██████████| 2/2 [00:01<00:00,  1.97it/s]\n",
      "Embedding sentences: 100%|██████████| 2/2 [00:01<00:00,  1.88it/s]\n"
     ]
    },
    {
     "name": "stdout",
     "output_type": "stream",
     "text": [
      "Processing: e5-large, Lang: en, Index: FlatIP\n"
     ]
    },
    {
     "name": "stderr",
     "output_type": "stream",
     "text": [
      "Embedding sentences: 100%|██████████| 2/2 [00:00<00:00,  2.09it/s]\n",
      "Embedding sentences: 100%|██████████| 2/2 [00:00<00:00,  2.08it/s]\n",
      "Embedding sentences: 100%|██████████| 2/2 [00:00<00:00,  2.04it/s]\n",
      "Embedding sentences: 100%|██████████| 2/2 [00:00<00:00,  2.11it/s]\n",
      "Embedding sentences: 100%|██████████| 2/2 [00:01<00:00,  1.98it/s]\n",
      "Embedding sentences: 100%|██████████| 2/2 [00:01<00:00,  1.90it/s]\n"
     ]
    },
    {
     "name": "stdout",
     "output_type": "stream",
     "text": [
      "Processing: nomic, Lang: en, Index: FlatIP\n"
     ]
    },
    {
     "name": "stderr",
     "output_type": "stream",
     "text": [
      "Embedding sentences: 100%|██████████| 2/2 [00:00<00:00,  3.19it/s]\n",
      "Embedding sentences: 100%|██████████| 2/2 [00:00<00:00,  3.21it/s]\n",
      "Embedding sentences: 100%|██████████| 2/2 [00:00<00:00,  3.09it/s]\n",
      "Embedding sentences: 100%|██████████| 2/2 [00:00<00:00,  3.21it/s]\n",
      "Embedding sentences: 100%|██████████| 2/2 [00:00<00:00,  3.04it/s]\n",
      "Embedding sentences: 100%|██████████| 2/2 [00:00<00:00,  2.98it/s]\n"
     ]
    },
    {
     "name": "stdout",
     "output_type": "stream",
     "text": [
      "Best model for lang=en, index_type=FlatIP: m3\n",
      "Processing: labse, Lang: en, Index: FlatL2\n"
     ]
    },
    {
     "name": "stderr",
     "output_type": "stream",
     "text": [
      "Embedding sentences: 100%|██████████| 2/2 [00:00<00:00,  7.14it/s]\n",
      "Embedding sentences: 100%|██████████| 2/2 [00:00<00:00,  7.00it/s]\n",
      "Embedding sentences: 100%|██████████| 2/2 [00:00<00:00,  6.33it/s]\n",
      "Embedding sentences: 100%|██████████| 2/2 [00:00<00:00,  7.03it/s]\n",
      "Embedding sentences: 100%|██████████| 2/2 [00:00<00:00,  5.60it/s]\n",
      "Embedding sentences: 100%|██████████| 2/2 [00:00<00:00,  6.32it/s]\n"
     ]
    },
    {
     "name": "stdout",
     "output_type": "stream",
     "text": [
      "Processing: distiluse, Lang: en, Index: FlatL2\n"
     ]
    },
    {
     "name": "stderr",
     "output_type": "stream",
     "text": [
      "Embedding sentences: 100%|██████████| 2/2 [00:00<00:00, 11.65it/s]\n",
      "Embedding sentences: 100%|██████████| 2/2 [00:00<00:00, 10.64it/s]\n",
      "Embedding sentences: 100%|██████████| 2/2 [00:00<00:00, 11.41it/s]\n",
      "Embedding sentences: 100%|██████████| 2/2 [00:00<00:00, 11.52it/s]\n",
      "Embedding sentences: 100%|██████████| 2/2 [00:00<00:00, 10.01it/s]\n",
      "Embedding sentences: 100%|██████████| 2/2 [00:00<00:00, 10.62it/s]\n"
     ]
    },
    {
     "name": "stdout",
     "output_type": "stream",
     "text": [
      "Processing: mpnet, Lang: en, Index: FlatL2\n"
     ]
    },
    {
     "name": "stderr",
     "output_type": "stream",
     "text": [
      "Embedding sentences: 100%|██████████| 2/2 [00:00<00:00,  6.33it/s]\n",
      "Embedding sentences: 100%|██████████| 2/2 [00:00<00:00,  6.74it/s]\n",
      "Embedding sentences: 100%|██████████| 2/2 [00:00<00:00,  6.58it/s]\n",
      "Embedding sentences: 100%|██████████| 2/2 [00:00<00:00,  6.71it/s]\n",
      "Embedding sentences: 100%|██████████| 2/2 [00:00<00:00,  6.27it/s]\n",
      "Embedding sentences: 100%|██████████| 2/2 [00:00<00:00,  6.33it/s]\n"
     ]
    },
    {
     "name": "stdout",
     "output_type": "stream",
     "text": [
      "Processing: m3, Lang: en, Index: FlatL2\n"
     ]
    },
    {
     "name": "stderr",
     "output_type": "stream",
     "text": [
      "Embedding sentences: 100%|██████████| 2/2 [00:00<00:00,  2.08it/s]\n",
      "Embedding sentences: 100%|██████████| 2/2 [00:00<00:00,  2.08it/s]\n",
      "Embedding sentences: 100%|██████████| 2/2 [00:00<00:00,  2.05it/s]\n",
      "Embedding sentences: 100%|██████████| 2/2 [00:00<00:00,  2.12it/s]\n",
      "Embedding sentences: 100%|██████████| 2/2 [00:01<00:00,  1.99it/s]\n",
      "Embedding sentences: 100%|██████████| 2/2 [00:01<00:00,  1.90it/s]\n"
     ]
    },
    {
     "name": "stdout",
     "output_type": "stream",
     "text": [
      "Processing: m3-unsupervised, Lang: en, Index: FlatL2\n"
     ]
    },
    {
     "name": "stderr",
     "output_type": "stream",
     "text": [
      "Embedding sentences: 100%|██████████| 2/2 [00:00<00:00,  2.09it/s]\n",
      "Embedding sentences: 100%|██████████| 2/2 [00:00<00:00,  2.08it/s]\n",
      "Embedding sentences: 100%|██████████| 2/2 [00:00<00:00,  2.04it/s]\n",
      "Embedding sentences: 100%|██████████| 2/2 [00:00<00:00,  2.11it/s]\n",
      "Embedding sentences: 100%|██████████| 2/2 [00:01<00:00,  1.98it/s]\n",
      "Embedding sentences: 100%|██████████| 2/2 [00:01<00:00,  1.90it/s]\n"
     ]
    },
    {
     "name": "stdout",
     "output_type": "stream",
     "text": [
      "Processing: arctic-large, Lang: en, Index: FlatL2\n"
     ]
    },
    {
     "name": "stderr",
     "output_type": "stream",
     "text": [
      "Embedding sentences: 100%|██████████| 2/2 [00:00<00:00,  2.05it/s]\n",
      "Embedding sentences: 100%|██████████| 2/2 [00:00<00:00,  2.04it/s]\n",
      "Embedding sentences: 100%|██████████| 2/2 [00:00<00:00,  2.01it/s]\n",
      "Embedding sentences: 100%|██████████| 2/2 [00:00<00:00,  2.08it/s]\n",
      "Embedding sentences: 100%|██████████| 2/2 [00:01<00:00,  1.96it/s]\n",
      "Embedding sentences: 100%|██████████| 2/2 [00:01<00:00,  1.87it/s]\n"
     ]
    },
    {
     "name": "stdout",
     "output_type": "stream",
     "text": [
      "Processing: e5-large, Lang: en, Index: FlatL2\n"
     ]
    },
    {
     "name": "stderr",
     "output_type": "stream",
     "text": [
      "Embedding sentences: 100%|██████████| 2/2 [00:00<00:00,  2.08it/s]\n",
      "Embedding sentences: 100%|██████████| 2/2 [00:00<00:00,  2.06it/s]\n",
      "Embedding sentences: 100%|██████████| 2/2 [00:00<00:00,  2.03it/s]\n",
      "Embedding sentences: 100%|██████████| 2/2 [00:00<00:00,  2.10it/s]\n",
      "Embedding sentences: 100%|██████████| 2/2 [00:01<00:00,  1.97it/s]\n",
      "Embedding sentences: 100%|██████████| 2/2 [00:01<00:00,  1.89it/s]\n"
     ]
    },
    {
     "name": "stdout",
     "output_type": "stream",
     "text": [
      "Processing: nomic, Lang: en, Index: FlatL2\n"
     ]
    },
    {
     "name": "stderr",
     "output_type": "stream",
     "text": [
      "Embedding sentences: 100%|██████████| 2/2 [00:00<00:00,  3.15it/s]\n",
      "Embedding sentences: 100%|██████████| 2/2 [00:00<00:00,  3.19it/s]\n",
      "Embedding sentences: 100%|██████████| 2/2 [00:00<00:00,  3.08it/s]\n",
      "Embedding sentences: 100%|██████████| 2/2 [00:00<00:00,  3.19it/s]\n",
      "Embedding sentences: 100%|██████████| 2/2 [00:00<00:00,  3.02it/s]\n",
      "Embedding sentences: 100%|██████████| 2/2 [00:00<00:00,  2.95it/s]\n"
     ]
    },
    {
     "name": "stdout",
     "output_type": "stream",
     "text": [
      "Best model for lang=en, index_type=FlatL2: m3\n",
      "Processing: labse, Lang: de, Index: HNSW\n"
     ]
    },
    {
     "name": "stderr",
     "output_type": "stream",
     "text": [
      "Embedding sentences: 100%|██████████| 2/2 [00:00<00:00,  7.10it/s]\n",
      "Embedding sentences: 100%|██████████| 2/2 [00:00<00:00,  6.94it/s]\n",
      "Embedding sentences: 100%|██████████| 2/2 [00:00<00:00,  6.28it/s]\n",
      "Embedding sentences: 100%|██████████| 2/2 [00:00<00:00,  6.96it/s]\n",
      "Embedding sentences: 100%|██████████| 2/2 [00:00<00:00,  5.54it/s]\n",
      "Embedding sentences: 100%|██████████| 2/2 [00:00<00:00,  6.22it/s]\n"
     ]
    },
    {
     "name": "stdout",
     "output_type": "stream",
     "text": [
      "Processing: distiluse, Lang: de, Index: HNSW\n"
     ]
    },
    {
     "name": "stderr",
     "output_type": "stream",
     "text": [
      "Embedding sentences: 100%|██████████| 2/2 [00:00<00:00, 11.69it/s]\n",
      "Embedding sentences: 100%|██████████| 2/2 [00:00<00:00, 10.56it/s]\n",
      "Embedding sentences: 100%|██████████| 2/2 [00:00<00:00, 11.28it/s]\n",
      "Embedding sentences: 100%|██████████| 2/2 [00:00<00:00, 11.40it/s]\n",
      "Embedding sentences: 100%|██████████| 2/2 [00:00<00:00,  9.88it/s]\n",
      "Embedding sentences: 100%|██████████| 2/2 [00:00<00:00, 10.49it/s]\n"
     ]
    },
    {
     "name": "stdout",
     "output_type": "stream",
     "text": [
      "Processing: mpnet, Lang: de, Index: HNSW\n"
     ]
    },
    {
     "name": "stderr",
     "output_type": "stream",
     "text": [
      "Embedding sentences: 100%|██████████| 2/2 [00:00<00:00,  6.19it/s]\n",
      "Embedding sentences: 100%|██████████| 2/2 [00:00<00:00,  6.67it/s]\n",
      "Embedding sentences: 100%|██████████| 2/2 [00:00<00:00,  6.51it/s]\n",
      "Embedding sentences: 100%|██████████| 2/2 [00:00<00:00,  6.66it/s]\n",
      "Embedding sentences: 100%|██████████| 2/2 [00:00<00:00,  6.19it/s]\n",
      "Embedding sentences: 100%|██████████| 2/2 [00:00<00:00,  6.23it/s]\n"
     ]
    },
    {
     "name": "stdout",
     "output_type": "stream",
     "text": [
      "Processing: m3, Lang: de, Index: HNSW\n"
     ]
    },
    {
     "name": "stderr",
     "output_type": "stream",
     "text": [
      "Embedding sentences: 100%|██████████| 2/2 [00:00<00:00,  2.07it/s]\n",
      "Embedding sentences: 100%|██████████| 2/2 [00:00<00:00,  2.06it/s]\n",
      "Embedding sentences: 100%|██████████| 2/2 [00:00<00:00,  2.03it/s]\n",
      "Embedding sentences: 100%|██████████| 2/2 [00:00<00:00,  2.10it/s]\n",
      "Embedding sentences: 100%|██████████| 2/2 [00:01<00:00,  1.97it/s]\n",
      "Embedding sentences: 100%|██████████| 2/2 [00:01<00:00,  1.89it/s]\n"
     ]
    },
    {
     "name": "stdout",
     "output_type": "stream",
     "text": [
      "Processing: m3-unsupervised, Lang: de, Index: HNSW\n"
     ]
    },
    {
     "name": "stderr",
     "output_type": "stream",
     "text": [
      "Embedding sentences: 100%|██████████| 2/2 [00:00<00:00,  2.07it/s]\n",
      "Embedding sentences: 100%|██████████| 2/2 [00:00<00:00,  2.06it/s]\n",
      "Embedding sentences: 100%|██████████| 2/2 [00:00<00:00,  2.03it/s]\n",
      "Embedding sentences: 100%|██████████| 2/2 [00:00<00:00,  2.09it/s]\n",
      "Embedding sentences: 100%|██████████| 2/2 [00:01<00:00,  1.96it/s]\n",
      "Embedding sentences: 100%|██████████| 2/2 [00:01<00:00,  1.88it/s]\n"
     ]
    },
    {
     "name": "stdout",
     "output_type": "stream",
     "text": [
      "Processing: arctic-large, Lang: de, Index: HNSW\n"
     ]
    },
    {
     "name": "stderr",
     "output_type": "stream",
     "text": [
      "Embedding sentences: 100%|██████████| 2/2 [00:00<00:00,  2.03it/s]\n",
      "Embedding sentences: 100%|██████████| 2/2 [00:00<00:00,  2.02it/s]\n",
      "Embedding sentences: 100%|██████████| 2/2 [00:01<00:00,  1.99it/s]\n",
      "Embedding sentences: 100%|██████████| 2/2 [00:00<00:00,  2.06it/s]\n",
      "Embedding sentences: 100%|██████████| 2/2 [00:01<00:00,  1.93it/s]\n",
      "Embedding sentences: 100%|██████████| 2/2 [00:01<00:00,  1.84it/s]\n"
     ]
    },
    {
     "name": "stdout",
     "output_type": "stream",
     "text": [
      "Processing: e5-large, Lang: de, Index: HNSW\n"
     ]
    },
    {
     "name": "stderr",
     "output_type": "stream",
     "text": [
      "Embedding sentences: 100%|██████████| 2/2 [00:00<00:00,  2.06it/s]\n",
      "Embedding sentences: 100%|██████████| 2/2 [00:00<00:00,  2.05it/s]\n",
      "Embedding sentences: 100%|██████████| 2/2 [00:00<00:00,  2.01it/s]\n",
      "Embedding sentences: 100%|██████████| 2/2 [00:00<00:00,  2.08it/s]\n",
      "Embedding sentences: 100%|██████████| 2/2 [00:01<00:00,  1.94it/s]\n",
      "Embedding sentences: 100%|██████████| 2/2 [00:01<00:00,  1.83it/s]\n"
     ]
    },
    {
     "name": "stdout",
     "output_type": "stream",
     "text": [
      "Processing: nomic, Lang: de, Index: HNSW\n"
     ]
    },
    {
     "name": "stderr",
     "output_type": "stream",
     "text": [
      "Embedding sentences: 100%|██████████| 2/2 [00:00<00:00,  3.12it/s]\n",
      "Embedding sentences: 100%|██████████| 2/2 [00:00<00:00,  3.17it/s]\n",
      "Embedding sentences: 100%|██████████| 2/2 [00:00<00:00,  3.04it/s]\n",
      "Embedding sentences: 100%|██████████| 2/2 [00:00<00:00,  3.16it/s]\n",
      "Embedding sentences: 100%|██████████| 2/2 [00:00<00:00,  3.01it/s]\n",
      "Embedding sentences: 100%|██████████| 2/2 [00:00<00:00,  2.92it/s]\n"
     ]
    },
    {
     "name": "stdout",
     "output_type": "stream",
     "text": [
      "Best model for lang=de, index_type=HNSW: labse\n",
      "Processing: labse, Lang: de, Index: FlatIP\n"
     ]
    },
    {
     "name": "stderr",
     "output_type": "stream",
     "text": [
      "Embedding sentences: 100%|██████████| 2/2 [00:00<00:00,  7.06it/s]\n",
      "Embedding sentences: 100%|██████████| 2/2 [00:00<00:00,  6.93it/s]\n",
      "Embedding sentences: 100%|██████████| 2/2 [00:00<00:00,  6.26it/s]\n",
      "Embedding sentences: 100%|██████████| 2/2 [00:00<00:00,  6.96it/s]\n",
      "Embedding sentences: 100%|██████████| 2/2 [00:00<00:00,  5.55it/s]\n",
      "Embedding sentences: 100%|██████████| 2/2 [00:00<00:00,  6.23it/s]\n"
     ]
    },
    {
     "name": "stdout",
     "output_type": "stream",
     "text": [
      "Processing: distiluse, Lang: de, Index: FlatIP\n"
     ]
    },
    {
     "name": "stderr",
     "output_type": "stream",
     "text": [
      "Embedding sentences: 100%|██████████| 2/2 [00:00<00:00, 11.37it/s]\n",
      "Embedding sentences: 100%|██████████| 2/2 [00:00<00:00, 10.25it/s]\n",
      "Embedding sentences: 100%|██████████| 2/2 [00:00<00:00, 11.33it/s]\n",
      "Embedding sentences: 100%|██████████| 2/2 [00:00<00:00, 11.41it/s]\n",
      "Embedding sentences: 100%|██████████| 2/2 [00:00<00:00,  9.87it/s]\n",
      "Embedding sentences: 100%|██████████| 2/2 [00:00<00:00, 10.50it/s]\n"
     ]
    },
    {
     "name": "stdout",
     "output_type": "stream",
     "text": [
      "Processing: mpnet, Lang: de, Index: FlatIP\n"
     ]
    },
    {
     "name": "stderr",
     "output_type": "stream",
     "text": [
      "Embedding sentences: 100%|██████████| 2/2 [00:00<00:00,  6.23it/s]\n",
      "Embedding sentences: 100%|██████████| 2/2 [00:00<00:00,  6.68it/s]\n",
      "Embedding sentences: 100%|██████████| 2/2 [00:00<00:00,  6.48it/s]\n",
      "Embedding sentences: 100%|██████████| 2/2 [00:00<00:00,  6.62it/s]\n",
      "Embedding sentences: 100%|██████████| 2/2 [00:00<00:00,  6.20it/s]\n",
      "Embedding sentences: 100%|██████████| 2/2 [00:00<00:00,  6.27it/s]\n"
     ]
    },
    {
     "name": "stdout",
     "output_type": "stream",
     "text": [
      "Processing: m3, Lang: de, Index: FlatIP\n"
     ]
    },
    {
     "name": "stderr",
     "output_type": "stream",
     "text": [
      "Embedding sentences: 100%|██████████| 2/2 [00:00<00:00,  2.07it/s]\n",
      "Embedding sentences: 100%|██████████| 2/2 [00:00<00:00,  2.06it/s]\n",
      "Embedding sentences: 100%|██████████| 2/2 [00:00<00:00,  2.02it/s]\n",
      "Embedding sentences: 100%|██████████| 2/2 [00:00<00:00,  2.10it/s]\n",
      "Embedding sentences: 100%|██████████| 2/2 [00:01<00:00,  1.97it/s]\n",
      "Embedding sentences: 100%|██████████| 2/2 [00:01<00:00,  1.89it/s]\n"
     ]
    },
    {
     "name": "stdout",
     "output_type": "stream",
     "text": [
      "Processing: m3-unsupervised, Lang: de, Index: FlatIP\n"
     ]
    },
    {
     "name": "stderr",
     "output_type": "stream",
     "text": [
      "Embedding sentences: 100%|██████████| 2/2 [00:00<00:00,  2.07it/s]\n",
      "Embedding sentences: 100%|██████████| 2/2 [00:00<00:00,  2.06it/s]\n",
      "Embedding sentences: 100%|██████████| 2/2 [00:00<00:00,  2.03it/s]\n",
      "Embedding sentences: 100%|██████████| 2/2 [00:00<00:00,  2.10it/s]\n",
      "Embedding sentences: 100%|██████████| 2/2 [00:01<00:00,  1.97it/s]\n",
      "Embedding sentences: 100%|██████████| 2/2 [00:01<00:00,  1.89it/s]\n"
     ]
    },
    {
     "name": "stdout",
     "output_type": "stream",
     "text": [
      "Processing: arctic-large, Lang: de, Index: FlatIP\n"
     ]
    },
    {
     "name": "stderr",
     "output_type": "stream",
     "text": [
      "Embedding sentences: 100%|██████████| 2/2 [00:00<00:00,  2.04it/s]\n",
      "Embedding sentences: 100%|██████████| 2/2 [00:00<00:00,  2.03it/s]\n",
      "Embedding sentences: 100%|██████████| 2/2 [00:00<00:00,  2.00it/s]\n",
      "Embedding sentences: 100%|██████████| 2/2 [00:00<00:00,  2.07it/s]\n",
      "Embedding sentences: 100%|██████████| 2/2 [00:01<00:00,  1.95it/s]\n",
      "Embedding sentences: 100%|██████████| 2/2 [00:01<00:00,  1.86it/s]\n"
     ]
    },
    {
     "name": "stdout",
     "output_type": "stream",
     "text": [
      "Processing: e5-large, Lang: de, Index: FlatIP\n"
     ]
    },
    {
     "name": "stderr",
     "output_type": "stream",
     "text": [
      "Embedding sentences: 100%|██████████| 2/2 [00:00<00:00,  2.07it/s]\n",
      "Embedding sentences: 100%|██████████| 2/2 [00:00<00:00,  2.06it/s]\n",
      "Embedding sentences: 100%|██████████| 2/2 [00:00<00:00,  2.03it/s]\n",
      "Embedding sentences: 100%|██████████| 2/2 [00:00<00:00,  2.10it/s]\n",
      "Embedding sentences: 100%|██████████| 2/2 [00:01<00:00,  1.98it/s]\n",
      "Embedding sentences: 100%|██████████| 2/2 [00:01<00:00,  1.89it/s]\n"
     ]
    },
    {
     "name": "stdout",
     "output_type": "stream",
     "text": [
      "Processing: nomic, Lang: de, Index: FlatIP\n"
     ]
    },
    {
     "name": "stderr",
     "output_type": "stream",
     "text": [
      "Embedding sentences: 100%|██████████| 2/2 [00:00<00:00,  3.17it/s]\n",
      "Embedding sentences: 100%|██████████| 2/2 [00:00<00:00,  3.20it/s]\n",
      "Embedding sentences: 100%|██████████| 2/2 [00:00<00:00,  3.07it/s]\n",
      "Embedding sentences: 100%|██████████| 2/2 [00:00<00:00,  3.18it/s]\n",
      "Embedding sentences: 100%|██████████| 2/2 [00:00<00:00,  3.03it/s]\n",
      "Embedding sentences: 100%|██████████| 2/2 [00:00<00:00,  2.95it/s]\n"
     ]
    },
    {
     "name": "stdout",
     "output_type": "stream",
     "text": [
      "Best model for lang=de, index_type=FlatIP: labse\n",
      "Processing: labse, Lang: de, Index: FlatL2\n"
     ]
    },
    {
     "name": "stderr",
     "output_type": "stream",
     "text": [
      "Embedding sentences: 100%|██████████| 2/2 [00:00<00:00,  7.13it/s]\n",
      "Embedding sentences: 100%|██████████| 2/2 [00:00<00:00,  6.94it/s]\n",
      "Embedding sentences: 100%|██████████| 2/2 [00:00<00:00,  6.27it/s]\n",
      "Embedding sentences: 100%|██████████| 2/2 [00:00<00:00,  6.97it/s]\n",
      "Embedding sentences: 100%|██████████| 2/2 [00:00<00:00,  5.55it/s]\n",
      "Embedding sentences: 100%|██████████| 2/2 [00:00<00:00,  6.20it/s]\n"
     ]
    },
    {
     "name": "stdout",
     "output_type": "stream",
     "text": [
      "Processing: distiluse, Lang: de, Index: FlatL2\n"
     ]
    },
    {
     "name": "stderr",
     "output_type": "stream",
     "text": [
      "Embedding sentences: 100%|██████████| 2/2 [00:00<00:00, 11.75it/s]\n",
      "Embedding sentences: 100%|██████████| 2/2 [00:00<00:00, 10.55it/s]\n",
      "Embedding sentences: 100%|██████████| 2/2 [00:00<00:00, 11.31it/s]\n",
      "Embedding sentences: 100%|██████████| 2/2 [00:00<00:00, 11.44it/s]\n",
      "Embedding sentences: 100%|██████████| 2/2 [00:00<00:00,  9.89it/s]\n",
      "Embedding sentences: 100%|██████████| 2/2 [00:00<00:00, 10.53it/s]\n"
     ]
    },
    {
     "name": "stdout",
     "output_type": "stream",
     "text": [
      "Processing: mpnet, Lang: de, Index: FlatL2\n"
     ]
    },
    {
     "name": "stderr",
     "output_type": "stream",
     "text": [
      "Embedding sentences: 100%|██████████| 2/2 [00:00<00:00,  6.29it/s]\n",
      "Embedding sentences: 100%|██████████| 2/2 [00:00<00:00,  6.69it/s]\n",
      "Embedding sentences: 100%|██████████| 2/2 [00:00<00:00,  6.50it/s]\n",
      "Embedding sentences: 100%|██████████| 2/2 [00:00<00:00,  6.64it/s]\n",
      "Embedding sentences: 100%|██████████| 2/2 [00:00<00:00,  6.22it/s]\n",
      "Embedding sentences: 100%|██████████| 2/2 [00:00<00:00,  6.27it/s]\n"
     ]
    },
    {
     "name": "stdout",
     "output_type": "stream",
     "text": [
      "Processing: m3, Lang: de, Index: FlatL2\n"
     ]
    },
    {
     "name": "stderr",
     "output_type": "stream",
     "text": [
      "Embedding sentences: 100%|██████████| 2/2 [00:00<00:00,  2.08it/s]\n",
      "Embedding sentences: 100%|██████████| 2/2 [00:00<00:00,  2.06it/s]\n",
      "Embedding sentences: 100%|██████████| 2/2 [00:00<00:00,  2.03it/s]\n",
      "Embedding sentences: 100%|██████████| 2/2 [00:00<00:00,  2.10it/s]\n",
      "Embedding sentences: 100%|██████████| 2/2 [00:01<00:00,  1.97it/s]\n",
      "Embedding sentences: 100%|██████████| 2/2 [00:01<00:00,  1.89it/s]\n"
     ]
    },
    {
     "name": "stdout",
     "output_type": "stream",
     "text": [
      "Processing: m3-unsupervised, Lang: de, Index: FlatL2\n"
     ]
    },
    {
     "name": "stderr",
     "output_type": "stream",
     "text": [
      "Embedding sentences: 100%|██████████| 2/2 [00:00<00:00,  2.07it/s]\n",
      "Embedding sentences: 100%|██████████| 2/2 [00:00<00:00,  2.06it/s]\n",
      "Embedding sentences: 100%|██████████| 2/2 [00:00<00:00,  2.03it/s]\n",
      "Embedding sentences: 100%|██████████| 2/2 [00:00<00:00,  2.09it/s]\n",
      "Embedding sentences: 100%|██████████| 2/2 [00:01<00:00,  1.96it/s]\n",
      "Embedding sentences: 100%|██████████| 2/2 [00:01<00:00,  1.88it/s]\n"
     ]
    },
    {
     "name": "stdout",
     "output_type": "stream",
     "text": [
      "Processing: arctic-large, Lang: de, Index: FlatL2\n"
     ]
    },
    {
     "name": "stderr",
     "output_type": "stream",
     "text": [
      "Embedding sentences: 100%|██████████| 2/2 [00:00<00:00,  2.04it/s]\n",
      "Embedding sentences: 100%|██████████| 2/2 [00:00<00:00,  2.03it/s]\n",
      "Embedding sentences: 100%|██████████| 2/2 [00:01<00:00,  2.00it/s]\n",
      "Embedding sentences: 100%|██████████| 2/2 [00:00<00:00,  2.07it/s]\n",
      "Embedding sentences: 100%|██████████| 2/2 [00:01<00:00,  1.94it/s]\n",
      "Embedding sentences: 100%|██████████| 2/2 [00:01<00:00,  1.86it/s]\n"
     ]
    },
    {
     "name": "stdout",
     "output_type": "stream",
     "text": [
      "Processing: e5-large, Lang: de, Index: FlatL2\n"
     ]
    },
    {
     "name": "stderr",
     "output_type": "stream",
     "text": [
      "Embedding sentences: 100%|██████████| 2/2 [00:00<00:00,  2.07it/s]\n",
      "Embedding sentences: 100%|██████████| 2/2 [00:00<00:00,  2.05it/s]\n",
      "Embedding sentences: 100%|██████████| 2/2 [00:00<00:00,  2.02it/s]\n",
      "Embedding sentences: 100%|██████████| 2/2 [00:00<00:00,  2.08it/s]\n",
      "Embedding sentences: 100%|██████████| 2/2 [00:01<00:00,  1.95it/s]\n",
      "Embedding sentences: 100%|██████████| 2/2 [00:01<00:00,  1.85it/s]\n"
     ]
    },
    {
     "name": "stdout",
     "output_type": "stream",
     "text": [
      "Processing: nomic, Lang: de, Index: FlatL2\n"
     ]
    },
    {
     "name": "stderr",
     "output_type": "stream",
     "text": [
      "Embedding sentences: 100%|██████████| 2/2 [00:00<00:00,  3.14it/s]\n",
      "Embedding sentences: 100%|██████████| 2/2 [00:00<00:00,  3.12it/s]\n",
      "Embedding sentences: 100%|██████████| 2/2 [00:00<00:00,  3.04it/s]\n",
      "Embedding sentences: 100%|██████████| 2/2 [00:00<00:00,  3.08it/s]\n",
      "Embedding sentences: 100%|██████████| 2/2 [00:00<00:00,  2.92it/s]\n",
      "Embedding sentences: 100%|██████████| 2/2 [00:00<00:00,  2.89it/s]\n"
     ]
    },
    {
     "name": "stdout",
     "output_type": "stream",
     "text": [
      "Best model for lang=de, index_type=FlatL2: labse\n",
      "Processing: labse, Lang: tr, Index: HNSW\n"
     ]
    },
    {
     "name": "stderr",
     "output_type": "stream",
     "text": [
      "Embedding sentences: 100%|██████████| 2/2 [00:00<00:00,  7.13it/s]\n",
      "Embedding sentences: 100%|██████████| 2/2 [00:00<00:00,  6.93it/s]\n",
      "Embedding sentences: 100%|██████████| 2/2 [00:00<00:00,  6.26it/s]\n",
      "Embedding sentences: 100%|██████████| 2/2 [00:00<00:00,  6.98it/s]\n",
      "Embedding sentences: 100%|██████████| 2/2 [00:00<00:00,  5.56it/s]\n",
      "Embedding sentences: 100%|██████████| 2/2 [00:00<00:00,  6.23it/s]\n"
     ]
    },
    {
     "name": "stdout",
     "output_type": "stream",
     "text": [
      "Processing: distiluse, Lang: tr, Index: HNSW\n"
     ]
    },
    {
     "name": "stderr",
     "output_type": "stream",
     "text": [
      "Embedding sentences: 100%|██████████| 2/2 [00:00<00:00, 11.29it/s]\n",
      "Embedding sentences: 100%|██████████| 2/2 [00:00<00:00, 10.40it/s]\n",
      "Embedding sentences: 100%|██████████| 2/2 [00:00<00:00, 11.29it/s]\n",
      "Embedding sentences: 100%|██████████| 2/2 [00:00<00:00, 11.42it/s]\n",
      "Embedding sentences: 100%|██████████| 2/2 [00:00<00:00,  9.86it/s]\n",
      "Embedding sentences: 100%|██████████| 2/2 [00:00<00:00, 10.44it/s]\n"
     ]
    },
    {
     "name": "stdout",
     "output_type": "stream",
     "text": [
      "Processing: mpnet, Lang: tr, Index: HNSW\n"
     ]
    },
    {
     "name": "stderr",
     "output_type": "stream",
     "text": [
      "Embedding sentences: 100%|██████████| 2/2 [00:00<00:00,  6.33it/s]\n",
      "Embedding sentences: 100%|██████████| 2/2 [00:00<00:00,  6.67it/s]\n",
      "Embedding sentences: 100%|██████████| 2/2 [00:00<00:00,  6.51it/s]\n",
      "Embedding sentences: 100%|██████████| 2/2 [00:00<00:00,  6.64it/s]\n",
      "Embedding sentences: 100%|██████████| 2/2 [00:00<00:00,  6.21it/s]\n",
      "Embedding sentences: 100%|██████████| 2/2 [00:00<00:00,  6.25it/s]\n"
     ]
    },
    {
     "name": "stdout",
     "output_type": "stream",
     "text": [
      "Processing: m3, Lang: tr, Index: HNSW\n"
     ]
    },
    {
     "name": "stderr",
     "output_type": "stream",
     "text": [
      "Embedding sentences: 100%|██████████| 2/2 [00:00<00:00,  2.07it/s]\n",
      "Embedding sentences: 100%|██████████| 2/2 [00:00<00:00,  2.06it/s]\n",
      "Embedding sentences: 100%|██████████| 2/2 [00:00<00:00,  2.03it/s]\n",
      "Embedding sentences: 100%|██████████| 2/2 [00:00<00:00,  2.10it/s]\n",
      "Embedding sentences: 100%|██████████| 2/2 [00:01<00:00,  1.97it/s]\n",
      "Embedding sentences: 100%|██████████| 2/2 [00:01<00:00,  1.89it/s]\n"
     ]
    },
    {
     "name": "stdout",
     "output_type": "stream",
     "text": [
      "Processing: m3-unsupervised, Lang: tr, Index: HNSW\n"
     ]
    },
    {
     "name": "stderr",
     "output_type": "stream",
     "text": [
      "Embedding sentences: 100%|██████████| 2/2 [00:00<00:00,  2.06it/s]\n",
      "Embedding sentences: 100%|██████████| 2/2 [00:00<00:00,  2.06it/s]\n",
      "Embedding sentences: 100%|██████████| 2/2 [00:00<00:00,  2.02it/s]\n",
      "Embedding sentences: 100%|██████████| 2/2 [00:00<00:00,  2.09it/s]\n",
      "Embedding sentences: 100%|██████████| 2/2 [00:01<00:00,  1.97it/s]\n",
      "Embedding sentences: 100%|██████████| 2/2 [00:01<00:00,  1.87it/s]\n"
     ]
    },
    {
     "name": "stdout",
     "output_type": "stream",
     "text": [
      "Processing: arctic-large, Lang: tr, Index: HNSW\n"
     ]
    },
    {
     "name": "stderr",
     "output_type": "stream",
     "text": [
      "Embedding sentences: 100%|██████████| 2/2 [00:00<00:00,  2.04it/s]\n",
      "Embedding sentences: 100%|██████████| 2/2 [00:00<00:00,  2.02it/s]\n",
      "Embedding sentences: 100%|██████████| 2/2 [00:01<00:00,  1.99it/s]\n",
      "Embedding sentences: 100%|██████████| 2/2 [00:00<00:00,  2.06it/s]\n",
      "Embedding sentences: 100%|██████████| 2/2 [00:01<00:00,  1.93it/s]\n",
      "Embedding sentences: 100%|██████████| 2/2 [00:01<00:00,  1.85it/s]\n"
     ]
    },
    {
     "name": "stdout",
     "output_type": "stream",
     "text": [
      "Processing: e5-large, Lang: tr, Index: HNSW\n"
     ]
    },
    {
     "name": "stderr",
     "output_type": "stream",
     "text": [
      "Embedding sentences: 100%|██████████| 2/2 [00:00<00:00,  2.07it/s]\n",
      "Embedding sentences: 100%|██████████| 2/2 [00:00<00:00,  2.05it/s]\n",
      "Embedding sentences: 100%|██████████| 2/2 [00:00<00:00,  2.02it/s]\n",
      "Embedding sentences: 100%|██████████| 2/2 [00:00<00:00,  2.08it/s]\n",
      "Embedding sentences: 100%|██████████| 2/2 [00:01<00:00,  1.96it/s]\n",
      "Embedding sentences: 100%|██████████| 2/2 [00:01<00:00,  1.87it/s]\n"
     ]
    },
    {
     "name": "stdout",
     "output_type": "stream",
     "text": [
      "Processing: nomic, Lang: tr, Index: HNSW\n"
     ]
    },
    {
     "name": "stderr",
     "output_type": "stream",
     "text": [
      "Embedding sentences: 100%|██████████| 2/2 [00:00<00:00,  3.17it/s]\n",
      "Embedding sentences: 100%|██████████| 2/2 [00:00<00:00,  3.19it/s]\n",
      "Embedding sentences: 100%|██████████| 2/2 [00:00<00:00,  3.06it/s]\n",
      "Embedding sentences: 100%|██████████| 2/2 [00:00<00:00,  3.16it/s]\n",
      "Embedding sentences: 100%|██████████| 2/2 [00:00<00:00,  2.98it/s]\n",
      "Embedding sentences: 100%|██████████| 2/2 [00:00<00:00,  2.92it/s]\n"
     ]
    },
    {
     "name": "stdout",
     "output_type": "stream",
     "text": [
      "Best model for lang=tr, index_type=HNSW: labse\n",
      "Processing: labse, Lang: tr, Index: FlatIP\n"
     ]
    },
    {
     "name": "stderr",
     "output_type": "stream",
     "text": [
      "Embedding sentences: 100%|██████████| 2/2 [00:00<00:00,  7.07it/s]\n",
      "Embedding sentences: 100%|██████████| 2/2 [00:00<00:00,  6.91it/s]\n",
      "Embedding sentences: 100%|██████████| 2/2 [00:00<00:00,  6.24it/s]\n",
      "Embedding sentences: 100%|██████████| 2/2 [00:00<00:00,  6.95it/s]\n",
      "Embedding sentences: 100%|██████████| 2/2 [00:00<00:00,  5.53it/s]\n",
      "Embedding sentences: 100%|██████████| 2/2 [00:00<00:00,  6.22it/s]\n"
     ]
    },
    {
     "name": "stdout",
     "output_type": "stream",
     "text": [
      "Processing: distiluse, Lang: tr, Index: FlatIP\n"
     ]
    },
    {
     "name": "stderr",
     "output_type": "stream",
     "text": [
      "Embedding sentences: 100%|██████████| 2/2 [00:00<00:00, 11.44it/s]\n",
      "Embedding sentences: 100%|██████████| 2/2 [00:00<00:00, 10.48it/s]\n",
      "Embedding sentences: 100%|██████████| 2/2 [00:00<00:00, 11.31it/s]\n",
      "Embedding sentences: 100%|██████████| 2/2 [00:00<00:00, 11.40it/s]\n",
      "Embedding sentences: 100%|██████████| 2/2 [00:00<00:00,  9.89it/s]\n",
      "Embedding sentences: 100%|██████████| 2/2 [00:00<00:00, 10.45it/s]\n"
     ]
    },
    {
     "name": "stdout",
     "output_type": "stream",
     "text": [
      "Processing: mpnet, Lang: tr, Index: FlatIP\n"
     ]
    },
    {
     "name": "stderr",
     "output_type": "stream",
     "text": [
      "Embedding sentences: 100%|██████████| 2/2 [00:00<00:00,  6.44it/s]\n",
      "Embedding sentences: 100%|██████████| 2/2 [00:00<00:00,  6.64it/s]\n",
      "Embedding sentences: 100%|██████████| 2/2 [00:00<00:00,  6.50it/s]\n",
      "Embedding sentences: 100%|██████████| 2/2 [00:00<00:00,  6.66it/s]\n",
      "Embedding sentences: 100%|██████████| 2/2 [00:00<00:00,  6.22it/s]\n",
      "Embedding sentences: 100%|██████████| 2/2 [00:00<00:00,  6.26it/s]\n"
     ]
    },
    {
     "name": "stdout",
     "output_type": "stream",
     "text": [
      "Processing: m3, Lang: tr, Index: FlatIP\n"
     ]
    },
    {
     "name": "stderr",
     "output_type": "stream",
     "text": [
      "Embedding sentences: 100%|██████████| 2/2 [00:00<00:00,  2.07it/s]\n",
      "Embedding sentences: 100%|██████████| 2/2 [00:01<00:00,  1.43it/s]\n",
      "Embedding sentences: 100%|██████████| 2/2 [00:00<00:00,  2.03it/s]\n",
      "Embedding sentences: 100%|██████████| 2/2 [00:00<00:00,  2.09it/s]\n",
      "Embedding sentences: 100%|██████████| 2/2 [00:01<00:00,  1.97it/s]\n",
      "Embedding sentences: 100%|██████████| 2/2 [00:01<00:00,  1.88it/s]\n"
     ]
    },
    {
     "name": "stdout",
     "output_type": "stream",
     "text": [
      "Processing: m3-unsupervised, Lang: tr, Index: FlatIP\n"
     ]
    },
    {
     "name": "stderr",
     "output_type": "stream",
     "text": [
      "Embedding sentences: 100%|██████████| 2/2 [00:00<00:00,  2.07it/s]\n",
      "Embedding sentences: 100%|██████████| 2/2 [00:00<00:00,  2.06it/s]\n",
      "Embedding sentences: 100%|██████████| 2/2 [00:00<00:00,  2.02it/s]\n",
      "Embedding sentences: 100%|██████████| 2/2 [00:00<00:00,  2.09it/s]\n",
      "Embedding sentences: 100%|██████████| 2/2 [00:01<00:00,  1.96it/s]\n",
      "Embedding sentences: 100%|██████████| 2/2 [00:01<00:00,  1.86it/s]\n"
     ]
    },
    {
     "name": "stdout",
     "output_type": "stream",
     "text": [
      "Processing: arctic-large, Lang: tr, Index: FlatIP\n"
     ]
    },
    {
     "name": "stderr",
     "output_type": "stream",
     "text": [
      "Embedding sentences: 100%|██████████| 2/2 [00:00<00:00,  2.03it/s]\n",
      "Embedding sentences: 100%|██████████| 2/2 [00:00<00:00,  2.02it/s]\n",
      "Embedding sentences: 100%|██████████| 2/2 [00:01<00:00,  1.99it/s]\n",
      "Embedding sentences: 100%|██████████| 2/2 [00:00<00:00,  2.06it/s]\n",
      "Embedding sentences: 100%|██████████| 2/2 [00:01<00:00,  1.93it/s]\n",
      "Embedding sentences: 100%|██████████| 2/2 [00:01<00:00,  1.83it/s]\n"
     ]
    },
    {
     "name": "stdout",
     "output_type": "stream",
     "text": [
      "Processing: e5-large, Lang: tr, Index: FlatIP\n"
     ]
    },
    {
     "name": "stderr",
     "output_type": "stream",
     "text": [
      "Embedding sentences: 100%|██████████| 2/2 [00:00<00:00,  2.06it/s]\n",
      "Embedding sentences: 100%|██████████| 2/2 [00:00<00:00,  2.05it/s]\n",
      "Embedding sentences: 100%|██████████| 2/2 [00:00<00:00,  2.01it/s]\n",
      "Embedding sentences: 100%|██████████| 2/2 [00:00<00:00,  2.08it/s]\n",
      "Embedding sentences: 100%|██████████| 2/2 [00:01<00:00,  1.95it/s]\n",
      "Embedding sentences: 100%|██████████| 2/2 [00:01<00:00,  1.84it/s]\n"
     ]
    },
    {
     "name": "stdout",
     "output_type": "stream",
     "text": [
      "Processing: nomic, Lang: tr, Index: FlatIP\n"
     ]
    },
    {
     "name": "stderr",
     "output_type": "stream",
     "text": [
      "Embedding sentences: 100%|██████████| 2/2 [00:00<00:00,  3.13it/s]\n",
      "Embedding sentences: 100%|██████████| 2/2 [00:00<00:00,  3.17it/s]\n",
      "Embedding sentences: 100%|██████████| 2/2 [00:00<00:00,  2.99it/s]\n",
      "Embedding sentences: 100%|██████████| 2/2 [00:00<00:00,  3.09it/s]\n",
      "Embedding sentences: 100%|██████████| 2/2 [00:00<00:00,  2.90it/s]\n",
      "Embedding sentences: 100%|██████████| 2/2 [00:00<00:00,  2.86it/s]\n"
     ]
    },
    {
     "name": "stdout",
     "output_type": "stream",
     "text": [
      "Best model for lang=tr, index_type=FlatIP: labse\n",
      "Processing: labse, Lang: tr, Index: FlatL2\n"
     ]
    },
    {
     "name": "stderr",
     "output_type": "stream",
     "text": [
      "Embedding sentences: 100%|██████████| 2/2 [00:00<00:00,  7.07it/s]\n",
      "Embedding sentences: 100%|██████████| 2/2 [00:00<00:00,  6.91it/s]\n",
      "Embedding sentences: 100%|██████████| 2/2 [00:00<00:00,  6.22it/s]\n",
      "Embedding sentences: 100%|██████████| 2/2 [00:00<00:00,  6.92it/s]\n",
      "Embedding sentences: 100%|██████████| 2/2 [00:00<00:00,  5.51it/s]\n",
      "Embedding sentences: 100%|██████████| 2/2 [00:00<00:00,  6.20it/s]\n"
     ]
    },
    {
     "name": "stdout",
     "output_type": "stream",
     "text": [
      "Processing: distiluse, Lang: tr, Index: FlatL2\n"
     ]
    },
    {
     "name": "stderr",
     "output_type": "stream",
     "text": [
      "Embedding sentences: 100%|██████████| 2/2 [00:00<00:00, 11.61it/s]\n",
      "Embedding sentences: 100%|██████████| 2/2 [00:00<00:00, 10.48it/s]\n",
      "Embedding sentences: 100%|██████████| 2/2 [00:00<00:00, 11.33it/s]\n",
      "Embedding sentences: 100%|██████████| 2/2 [00:00<00:00, 11.40it/s]\n",
      "Embedding sentences: 100%|██████████| 2/2 [00:00<00:00,  9.81it/s]\n",
      "Embedding sentences: 100%|██████████| 2/2 [00:00<00:00, 10.42it/s]\n"
     ]
    },
    {
     "name": "stdout",
     "output_type": "stream",
     "text": [
      "Processing: mpnet, Lang: tr, Index: FlatL2\n"
     ]
    },
    {
     "name": "stderr",
     "output_type": "stream",
     "text": [
      "Embedding sentences: 100%|██████████| 2/2 [00:00<00:00,  6.49it/s]\n",
      "Embedding sentences: 100%|██████████| 2/2 [00:00<00:00,  6.65it/s]\n",
      "Embedding sentences: 100%|██████████| 2/2 [00:00<00:00,  6.49it/s]\n",
      "Embedding sentences: 100%|██████████| 2/2 [00:00<00:00,  6.63it/s]\n",
      "Embedding sentences: 100%|██████████| 2/2 [00:00<00:00,  6.19it/s]\n",
      "Embedding sentences: 100%|██████████| 2/2 [00:00<00:00,  6.24it/s]\n"
     ]
    },
    {
     "name": "stdout",
     "output_type": "stream",
     "text": [
      "Processing: m3, Lang: tr, Index: FlatL2\n"
     ]
    },
    {
     "name": "stderr",
     "output_type": "stream",
     "text": [
      "Embedding sentences: 100%|██████████| 2/2 [00:00<00:00,  2.07it/s]\n",
      "Embedding sentences: 100%|██████████| 2/2 [00:00<00:00,  2.06it/s]\n",
      "Embedding sentences: 100%|██████████| 2/2 [00:00<00:00,  2.02it/s]\n",
      "Embedding sentences: 100%|██████████| 2/2 [00:00<00:00,  2.09it/s]\n",
      "Embedding sentences: 100%|██████████| 2/2 [00:01<00:00,  1.96it/s]\n",
      "Embedding sentences: 100%|██████████| 2/2 [00:01<00:00,  1.86it/s]\n"
     ]
    },
    {
     "name": "stdout",
     "output_type": "stream",
     "text": [
      "Processing: m3-unsupervised, Lang: tr, Index: FlatL2\n"
     ]
    },
    {
     "name": "stderr",
     "output_type": "stream",
     "text": [
      "Embedding sentences: 100%|██████████| 2/2 [00:00<00:00,  2.06it/s]\n",
      "Embedding sentences: 100%|██████████| 2/2 [00:00<00:00,  2.04it/s]\n",
      "Embedding sentences: 100%|██████████| 2/2 [00:00<00:00,  2.01it/s]\n",
      "Embedding sentences: 100%|██████████| 2/2 [00:00<00:00,  2.05it/s]\n",
      "Embedding sentences: 100%|██████████| 2/2 [00:01<00:00,  1.90it/s]\n",
      "Embedding sentences: 100%|██████████| 2/2 [00:01<00:00,  1.80it/s]\n"
     ]
    },
    {
     "name": "stdout",
     "output_type": "stream",
     "text": [
      "Processing: arctic-large, Lang: tr, Index: FlatL2\n"
     ]
    },
    {
     "name": "stderr",
     "output_type": "stream",
     "text": [
      "Embedding sentences: 100%|██████████| 2/2 [00:00<00:00,  2.03it/s]\n",
      "Embedding sentences: 100%|██████████| 2/2 [00:00<00:00,  2.02it/s]\n",
      "Embedding sentences: 100%|██████████| 2/2 [00:01<00:00,  1.99it/s]\n",
      "Embedding sentences: 100%|██████████| 2/2 [00:00<00:00,  2.06it/s]\n",
      "Embedding sentences: 100%|██████████| 2/2 [00:01<00:00,  1.94it/s]\n",
      "Embedding sentences: 100%|██████████| 2/2 [00:01<00:00,  1.85it/s]\n"
     ]
    },
    {
     "name": "stdout",
     "output_type": "stream",
     "text": [
      "Processing: e5-large, Lang: tr, Index: FlatL2\n"
     ]
    },
    {
     "name": "stderr",
     "output_type": "stream",
     "text": [
      "Embedding sentences: 100%|██████████| 2/2 [00:00<00:00,  2.06it/s]\n",
      "Embedding sentences: 100%|██████████| 2/2 [00:00<00:00,  2.05it/s]\n",
      "Embedding sentences: 100%|██████████| 2/2 [00:00<00:00,  2.01it/s]\n",
      "Embedding sentences: 100%|██████████| 2/2 [00:00<00:00,  2.07it/s]\n",
      "Embedding sentences: 100%|██████████| 2/2 [00:01<00:00,  1.93it/s]\n",
      "Embedding sentences: 100%|██████████| 2/2 [00:01<00:00,  1.83it/s]\n"
     ]
    },
    {
     "name": "stdout",
     "output_type": "stream",
     "text": [
      "Processing: nomic, Lang: tr, Index: FlatL2\n"
     ]
    },
    {
     "name": "stderr",
     "output_type": "stream",
     "text": [
      "Embedding sentences: 100%|██████████| 2/2 [00:00<00:00,  3.16it/s]\n",
      "Embedding sentences: 100%|██████████| 2/2 [00:00<00:00,  3.19it/s]\n",
      "Embedding sentences: 100%|██████████| 2/2 [00:00<00:00,  3.07it/s]\n",
      "Embedding sentences: 100%|██████████| 2/2 [00:00<00:00,  3.16it/s]\n",
      "Embedding sentences: 100%|██████████| 2/2 [00:00<00:00,  2.99it/s]\n",
      "Embedding sentences: 100%|██████████| 2/2 [00:00<00:00,  2.90it/s]\n"
     ]
    },
    {
     "name": "stdout",
     "output_type": "stream",
     "text": [
      "Best model for lang=tr, index_type=FlatL2: labse\n",
      "Processing: labse, Lang: hr, Index: HNSW\n"
     ]
    },
    {
     "name": "stderr",
     "output_type": "stream",
     "text": [
      "Embedding sentences: 100%|██████████| 2/2 [00:00<00:00,  7.09it/s]\n",
      "Embedding sentences: 100%|██████████| 2/2 [00:00<00:00,  6.91it/s]\n",
      "Embedding sentences: 100%|██████████| 2/2 [00:00<00:00,  6.25it/s]\n",
      "Embedding sentences: 100%|██████████| 2/2 [00:00<00:00,  6.92it/s]\n",
      "Embedding sentences: 100%|██████████| 2/2 [00:00<00:00,  5.50it/s]\n",
      "Embedding sentences: 100%|██████████| 2/2 [00:00<00:00,  6.22it/s]\n"
     ]
    },
    {
     "name": "stdout",
     "output_type": "stream",
     "text": [
      "Processing: distiluse, Lang: hr, Index: HNSW\n"
     ]
    },
    {
     "name": "stderr",
     "output_type": "stream",
     "text": [
      "Embedding sentences: 100%|██████████| 2/2 [00:00<00:00, 11.66it/s]\n",
      "Embedding sentences: 100%|██████████| 2/2 [00:00<00:00, 10.53it/s]\n",
      "Embedding sentences: 100%|██████████| 2/2 [00:00<00:00, 11.26it/s]\n",
      "Embedding sentences: 100%|██████████| 2/2 [00:00<00:00, 11.39it/s]\n",
      "Embedding sentences: 100%|██████████| 2/2 [00:00<00:00,  9.86it/s]\n",
      "Embedding sentences: 100%|██████████| 2/2 [00:00<00:00, 10.40it/s]\n"
     ]
    },
    {
     "name": "stdout",
     "output_type": "stream",
     "text": [
      "Processing: mpnet, Lang: hr, Index: HNSW\n"
     ]
    },
    {
     "name": "stderr",
     "output_type": "stream",
     "text": [
      "Embedding sentences: 100%|██████████| 2/2 [00:00<00:00,  6.30it/s]\n",
      "Embedding sentences: 100%|██████████| 2/2 [00:00<00:00,  6.66it/s]\n",
      "Embedding sentences: 100%|██████████| 2/2 [00:00<00:00,  6.50it/s]\n",
      "Embedding sentences: 100%|██████████| 2/2 [00:00<00:00,  6.62it/s]\n",
      "Embedding sentences: 100%|██████████| 2/2 [00:00<00:00,  6.21it/s]\n",
      "Embedding sentences: 100%|██████████| 2/2 [00:00<00:00,  6.27it/s]\n"
     ]
    },
    {
     "name": "stdout",
     "output_type": "stream",
     "text": [
      "Processing: m3, Lang: hr, Index: HNSW\n"
     ]
    },
    {
     "name": "stderr",
     "output_type": "stream",
     "text": [
      "Embedding sentences: 100%|██████████| 2/2 [00:00<00:00,  2.07it/s]\n",
      "Embedding sentences: 100%|██████████| 2/2 [00:00<00:00,  2.06it/s]\n",
      "Embedding sentences: 100%|██████████| 2/2 [00:00<00:00,  2.03it/s]\n",
      "Embedding sentences: 100%|██████████| 2/2 [00:00<00:00,  2.10it/s]\n",
      "Embedding sentences: 100%|██████████| 2/2 [00:01<00:00,  1.97it/s]\n",
      "Embedding sentences: 100%|██████████| 2/2 [00:01<00:00,  1.88it/s]\n"
     ]
    },
    {
     "name": "stdout",
     "output_type": "stream",
     "text": [
      "Processing: m3-unsupervised, Lang: hr, Index: HNSW\n"
     ]
    },
    {
     "name": "stderr",
     "output_type": "stream",
     "text": [
      "Embedding sentences: 100%|██████████| 2/2 [00:00<00:00,  2.06it/s]\n",
      "Embedding sentences: 100%|██████████| 2/2 [00:00<00:00,  2.05it/s]\n",
      "Embedding sentences: 100%|██████████| 2/2 [00:00<00:00,  2.02it/s]\n",
      "Embedding sentences: 100%|██████████| 2/2 [00:00<00:00,  2.09it/s]\n",
      "Embedding sentences: 100%|██████████| 2/2 [00:01<00:00,  1.96it/s]\n",
      "Embedding sentences: 100%|██████████| 2/2 [00:01<00:00,  1.86it/s]\n"
     ]
    },
    {
     "name": "stdout",
     "output_type": "stream",
     "text": [
      "Processing: arctic-large, Lang: hr, Index: HNSW\n"
     ]
    },
    {
     "name": "stderr",
     "output_type": "stream",
     "text": [
      "Embedding sentences: 100%|██████████| 2/2 [00:00<00:00,  2.04it/s]\n",
      "Embedding sentences: 100%|██████████| 2/2 [00:00<00:00,  2.02it/s]\n",
      "Embedding sentences: 100%|██████████| 2/2 [00:01<00:00,  1.99it/s]\n",
      "Embedding sentences: 100%|██████████| 2/2 [00:00<00:00,  2.06it/s]\n",
      "Embedding sentences: 100%|██████████| 2/2 [00:01<00:00,  1.94it/s]\n",
      "Embedding sentences: 100%|██████████| 2/2 [00:01<00:00,  1.85it/s]\n"
     ]
    },
    {
     "name": "stdout",
     "output_type": "stream",
     "text": [
      "Processing: e5-large, Lang: hr, Index: HNSW\n"
     ]
    },
    {
     "name": "stderr",
     "output_type": "stream",
     "text": [
      "Embedding sentences: 100%|██████████| 2/2 [00:00<00:00,  2.07it/s]\n",
      "Embedding sentences: 100%|██████████| 2/2 [00:00<00:00,  2.06it/s]\n",
      "Embedding sentences: 100%|██████████| 2/2 [00:00<00:00,  2.03it/s]\n",
      "Embedding sentences: 100%|██████████| 2/2 [00:00<00:00,  2.10it/s]\n",
      "Embedding sentences: 100%|██████████| 2/2 [00:01<00:00,  1.97it/s]\n",
      "Embedding sentences: 100%|██████████| 2/2 [00:01<00:00,  1.88it/s]\n"
     ]
    },
    {
     "name": "stdout",
     "output_type": "stream",
     "text": [
      "Processing: nomic, Lang: hr, Index: HNSW\n"
     ]
    },
    {
     "name": "stderr",
     "output_type": "stream",
     "text": [
      "Embedding sentences: 100%|██████████| 2/2 [00:00<00:00,  3.14it/s]\n",
      "Embedding sentences: 100%|██████████| 2/2 [00:00<00:00,  3.18it/s]\n",
      "Embedding sentences: 100%|██████████| 2/2 [00:00<00:00,  3.07it/s]\n",
      "Embedding sentences: 100%|██████████| 2/2 [00:00<00:00,  3.17it/s]\n",
      "Embedding sentences: 100%|██████████| 2/2 [00:00<00:00,  2.98it/s]\n",
      "Embedding sentences: 100%|██████████| 2/2 [00:00<00:00,  2.89it/s]\n"
     ]
    },
    {
     "name": "stdout",
     "output_type": "stream",
     "text": [
      "Best model for lang=hr, index_type=HNSW: labse\n",
      "Processing: labse, Lang: hr, Index: FlatIP\n"
     ]
    },
    {
     "name": "stderr",
     "output_type": "stream",
     "text": [
      "Embedding sentences: 100%|██████████| 2/2 [00:00<00:00,  7.06it/s]\n",
      "Embedding sentences: 100%|██████████| 2/2 [00:00<00:00,  6.92it/s]\n",
      "Embedding sentences: 100%|██████████| 2/2 [00:00<00:00,  6.23it/s]\n",
      "Embedding sentences: 100%|██████████| 2/2 [00:00<00:00,  6.94it/s]\n",
      "Embedding sentences: 100%|██████████| 2/2 [00:00<00:00,  5.53it/s]\n",
      "Embedding sentences: 100%|██████████| 2/2 [00:00<00:00,  6.21it/s]\n"
     ]
    },
    {
     "name": "stdout",
     "output_type": "stream",
     "text": [
      "Processing: distiluse, Lang: hr, Index: FlatIP\n"
     ]
    },
    {
     "name": "stderr",
     "output_type": "stream",
     "text": [
      "Embedding sentences: 100%|██████████| 2/2 [00:00<00:00, 11.60it/s]\n",
      "Embedding sentences: 100%|██████████| 2/2 [00:00<00:00, 10.48it/s]\n",
      "Embedding sentences: 100%|██████████| 2/2 [00:00<00:00, 11.31it/s]\n",
      "Embedding sentences: 100%|██████████| 2/2 [00:00<00:00, 11.39it/s]\n",
      "Embedding sentences: 100%|██████████| 2/2 [00:00<00:00,  9.84it/s]\n",
      "Embedding sentences: 100%|██████████| 2/2 [00:00<00:00, 10.45it/s]\n"
     ]
    },
    {
     "name": "stdout",
     "output_type": "stream",
     "text": [
      "Processing: mpnet, Lang: hr, Index: FlatIP\n"
     ]
    },
    {
     "name": "stderr",
     "output_type": "stream",
     "text": [
      "Embedding sentences: 100%|██████████| 2/2 [00:00<00:00,  6.48it/s]\n",
      "Embedding sentences: 100%|██████████| 2/2 [00:00<00:00,  6.66it/s]\n",
      "Embedding sentences: 100%|██████████| 2/2 [00:00<00:00,  6.50it/s]\n",
      "Embedding sentences: 100%|██████████| 2/2 [00:00<00:00,  6.65it/s]\n",
      "Embedding sentences: 100%|██████████| 2/2 [00:00<00:00,  6.19it/s]\n",
      "Embedding sentences: 100%|██████████| 2/2 [00:00<00:00,  6.25it/s]\n"
     ]
    },
    {
     "name": "stdout",
     "output_type": "stream",
     "text": [
      "Processing: m3, Lang: hr, Index: FlatIP\n"
     ]
    },
    {
     "name": "stderr",
     "output_type": "stream",
     "text": [
      "Embedding sentences: 100%|██████████| 2/2 [00:00<00:00,  2.07it/s]\n",
      "Embedding sentences: 100%|██████████| 2/2 [00:00<00:00,  2.06it/s]\n",
      "Embedding sentences: 100%|██████████| 2/2 [00:01<00:00,  1.31it/s]\n",
      "Embedding sentences: 100%|██████████| 2/2 [00:00<00:00,  2.10it/s]\n",
      "Embedding sentences: 100%|██████████| 2/2 [00:01<00:00,  1.97it/s]\n",
      "Embedding sentences: 100%|██████████| 2/2 [00:01<00:00,  1.89it/s]\n"
     ]
    },
    {
     "name": "stdout",
     "output_type": "stream",
     "text": [
      "Processing: m3-unsupervised, Lang: hr, Index: FlatIP\n"
     ]
    },
    {
     "name": "stderr",
     "output_type": "stream",
     "text": [
      "Embedding sentences: 100%|██████████| 2/2 [00:00<00:00,  2.08it/s]\n",
      "Embedding sentences: 100%|██████████| 2/2 [00:00<00:00,  2.06it/s]\n",
      "Embedding sentences: 100%|██████████| 2/2 [00:00<00:00,  2.03it/s]\n",
      "Embedding sentences: 100%|██████████| 2/2 [00:00<00:00,  2.10it/s]\n",
      "Embedding sentences: 100%|██████████| 2/2 [00:01<00:00,  1.98it/s]\n",
      "Embedding sentences: 100%|██████████| 2/2 [00:01<00:00,  1.89it/s]\n"
     ]
    },
    {
     "name": "stdout",
     "output_type": "stream",
     "text": [
      "Processing: arctic-large, Lang: hr, Index: FlatIP\n"
     ]
    },
    {
     "name": "stderr",
     "output_type": "stream",
     "text": [
      "Embedding sentences: 100%|██████████| 2/2 [00:00<00:00,  2.04it/s]\n",
      "Embedding sentences: 100%|██████████| 2/2 [00:00<00:00,  2.03it/s]\n",
      "Embedding sentences: 100%|██████████| 2/2 [00:01<00:00,  2.00it/s]\n",
      "Embedding sentences: 100%|██████████| 2/2 [00:00<00:00,  2.07it/s]\n",
      "Embedding sentences: 100%|██████████| 2/2 [00:01<00:00,  1.94it/s]\n",
      "Embedding sentences: 100%|██████████| 2/2 [00:01<00:00,  1.86it/s]\n"
     ]
    },
    {
     "name": "stdout",
     "output_type": "stream",
     "text": [
      "Processing: e5-large, Lang: hr, Index: FlatIP\n"
     ]
    },
    {
     "name": "stderr",
     "output_type": "stream",
     "text": [
      "Embedding sentences: 100%|██████████| 2/2 [00:00<00:00,  2.06it/s]\n",
      "Embedding sentences: 100%|██████████| 2/2 [00:00<00:00,  2.05it/s]\n",
      "Embedding sentences: 100%|██████████| 2/2 [00:00<00:00,  2.02it/s]\n",
      "Embedding sentences: 100%|██████████| 2/2 [00:00<00:00,  2.09it/s]\n",
      "Embedding sentences: 100%|██████████| 2/2 [00:01<00:00,  1.96it/s]\n",
      "Embedding sentences: 100%|██████████| 2/2 [00:01<00:00,  1.86it/s]\n"
     ]
    },
    {
     "name": "stdout",
     "output_type": "stream",
     "text": [
      "Processing: nomic, Lang: hr, Index: FlatIP\n"
     ]
    },
    {
     "name": "stderr",
     "output_type": "stream",
     "text": [
      "Embedding sentences: 100%|██████████| 2/2 [00:00<00:00,  3.16it/s]\n",
      "Embedding sentences: 100%|██████████| 2/2 [00:00<00:00,  3.19it/s]\n",
      "Embedding sentences: 100%|██████████| 2/2 [00:00<00:00,  3.07it/s]\n",
      "Embedding sentences: 100%|██████████| 2/2 [00:00<00:00,  3.15it/s]\n",
      "Embedding sentences: 100%|██████████| 2/2 [00:00<00:00,  3.00it/s]\n",
      "Embedding sentences: 100%|██████████| 2/2 [00:00<00:00,  2.92it/s]\n"
     ]
    },
    {
     "name": "stdout",
     "output_type": "stream",
     "text": [
      "Best model for lang=hr, index_type=FlatIP: labse\n",
      "Processing: labse, Lang: hr, Index: FlatL2\n"
     ]
    },
    {
     "name": "stderr",
     "output_type": "stream",
     "text": [
      "Embedding sentences: 100%|██████████| 2/2 [00:00<00:00,  7.15it/s]\n",
      "Embedding sentences: 100%|██████████| 2/2 [00:00<00:00,  6.92it/s]\n",
      "Embedding sentences: 100%|██████████| 2/2 [00:00<00:00,  6.26it/s]\n",
      "Embedding sentences: 100%|██████████| 2/2 [00:00<00:00,  6.95it/s]\n",
      "Embedding sentences: 100%|██████████| 2/2 [00:00<00:00,  5.55it/s]\n",
      "Embedding sentences: 100%|██████████| 2/2 [00:00<00:00,  6.23it/s]\n"
     ]
    },
    {
     "name": "stdout",
     "output_type": "stream",
     "text": [
      "Processing: distiluse, Lang: hr, Index: FlatL2\n"
     ]
    },
    {
     "name": "stderr",
     "output_type": "stream",
     "text": [
      "Embedding sentences: 100%|██████████| 2/2 [00:00<00:00, 11.42it/s]\n",
      "Embedding sentences: 100%|██████████| 2/2 [00:00<00:00, 10.24it/s]\n",
      "Embedding sentences: 100%|██████████| 2/2 [00:00<00:00, 11.36it/s]\n",
      "Embedding sentences: 100%|██████████| 2/2 [00:00<00:00, 11.45it/s]\n",
      "Embedding sentences: 100%|██████████| 2/2 [00:00<00:00,  9.90it/s]\n",
      "Embedding sentences: 100%|██████████| 2/2 [00:00<00:00, 10.52it/s]\n"
     ]
    },
    {
     "name": "stdout",
     "output_type": "stream",
     "text": [
      "Processing: mpnet, Lang: hr, Index: FlatL2\n"
     ]
    },
    {
     "name": "stderr",
     "output_type": "stream",
     "text": [
      "Embedding sentences: 100%|██████████| 2/2 [00:00<00:00,  6.49it/s]\n",
      "Embedding sentences: 100%|██████████| 2/2 [00:00<00:00,  6.67it/s]\n",
      "Embedding sentences: 100%|██████████| 2/2 [00:00<00:00,  6.49it/s]\n",
      "Embedding sentences: 100%|██████████| 2/2 [00:00<00:00,  6.62it/s]\n",
      "Embedding sentences: 100%|██████████| 2/2 [00:00<00:00,  6.21it/s]\n",
      "Embedding sentences: 100%|██████████| 2/2 [00:00<00:00,  6.27it/s]\n"
     ]
    },
    {
     "name": "stdout",
     "output_type": "stream",
     "text": [
      "Processing: m3, Lang: hr, Index: FlatL2\n"
     ]
    },
    {
     "name": "stderr",
     "output_type": "stream",
     "text": [
      "Embedding sentences: 100%|██████████| 2/2 [00:00<00:00,  2.07it/s]\n",
      "Embedding sentences: 100%|██████████| 2/2 [00:00<00:00,  2.06it/s]\n",
      "Embedding sentences: 100%|██████████| 2/2 [00:00<00:00,  2.03it/s]\n",
      "Embedding sentences: 100%|██████████| 2/2 [00:00<00:00,  2.10it/s]\n",
      "Embedding sentences: 100%|██████████| 2/2 [00:01<00:00,  1.97it/s]\n",
      "Embedding sentences: 100%|██████████| 2/2 [00:01<00:00,  1.89it/s]\n"
     ]
    },
    {
     "name": "stdout",
     "output_type": "stream",
     "text": [
      "Processing: m3-unsupervised, Lang: hr, Index: FlatL2\n"
     ]
    },
    {
     "name": "stderr",
     "output_type": "stream",
     "text": [
      "Embedding sentences: 100%|██████████| 2/2 [00:00<00:00,  2.08it/s]\n",
      "Embedding sentences: 100%|██████████| 2/2 [00:00<00:00,  2.06it/s]\n",
      "Embedding sentences: 100%|██████████| 2/2 [00:00<00:00,  2.03it/s]\n",
      "Embedding sentences: 100%|██████████| 2/2 [00:00<00:00,  2.10it/s]\n",
      "Embedding sentences: 100%|██████████| 2/2 [00:01<00:00,  1.97it/s]\n",
      "Embedding sentences: 100%|██████████| 2/2 [00:01<00:00,  1.89it/s]\n"
     ]
    },
    {
     "name": "stdout",
     "output_type": "stream",
     "text": [
      "Processing: arctic-large, Lang: hr, Index: FlatL2\n"
     ]
    },
    {
     "name": "stderr",
     "output_type": "stream",
     "text": [
      "Embedding sentences: 100%|██████████| 2/2 [00:00<00:00,  2.04it/s]\n",
      "Embedding sentences: 100%|██████████| 2/2 [00:00<00:00,  2.04it/s]\n",
      "Embedding sentences: 100%|██████████| 2/2 [00:00<00:00,  2.00it/s]\n",
      "Embedding sentences: 100%|██████████| 2/2 [00:00<00:00,  2.08it/s]\n",
      "Embedding sentences: 100%|██████████| 2/2 [00:01<00:00,  1.95it/s]\n",
      "Embedding sentences: 100%|██████████| 2/2 [00:01<00:00,  1.86it/s]\n"
     ]
    },
    {
     "name": "stdout",
     "output_type": "stream",
     "text": [
      "Processing: e5-large, Lang: hr, Index: FlatL2\n"
     ]
    },
    {
     "name": "stderr",
     "output_type": "stream",
     "text": [
      "Embedding sentences: 100%|██████████| 2/2 [00:00<00:00,  2.07it/s]\n",
      "Embedding sentences: 100%|██████████| 2/2 [00:00<00:00,  2.06it/s]\n",
      "Embedding sentences: 100%|██████████| 2/2 [00:00<00:00,  2.02it/s]\n",
      "Embedding sentences: 100%|██████████| 2/2 [00:00<00:00,  2.09it/s]\n",
      "Embedding sentences: 100%|██████████| 2/2 [00:01<00:00,  1.97it/s]\n",
      "Embedding sentences: 100%|██████████| 2/2 [00:01<00:00,  1.88it/s]\n"
     ]
    },
    {
     "name": "stdout",
     "output_type": "stream",
     "text": [
      "Processing: nomic, Lang: hr, Index: FlatL2\n"
     ]
    },
    {
     "name": "stderr",
     "output_type": "stream",
     "text": [
      "Embedding sentences: 100%|██████████| 2/2 [00:00<00:00,  3.15it/s]\n",
      "Embedding sentences: 100%|██████████| 2/2 [00:00<00:00,  3.20it/s]\n",
      "Embedding sentences: 100%|██████████| 2/2 [00:00<00:00,  3.09it/s]\n",
      "Embedding sentences: 100%|██████████| 2/2 [00:00<00:00,  3.19it/s]\n",
      "Embedding sentences: 100%|██████████| 2/2 [00:00<00:00,  3.03it/s]\n",
      "Embedding sentences: 100%|██████████| 2/2 [00:00<00:00,  2.96it/s]\n"
     ]
    },
    {
     "name": "stdout",
     "output_type": "stream",
     "text": [
      "Best model for lang=hr, index_type=FlatL2: labse\n",
      "Processing: labse, Lang: ru, Index: HNSW\n"
     ]
    },
    {
     "name": "stderr",
     "output_type": "stream",
     "text": [
      "Embedding sentences: 100%|██████████| 2/2 [00:00<00:00,  7.14it/s]\n",
      "Embedding sentences: 100%|██████████| 2/2 [00:00<00:00,  6.99it/s]\n",
      "Embedding sentences: 100%|██████████| 2/2 [00:00<00:00,  6.30it/s]\n",
      "Embedding sentences: 100%|██████████| 2/2 [00:00<00:00,  7.00it/s]\n",
      "Embedding sentences: 100%|██████████| 2/2 [00:00<00:00,  5.60it/s]\n",
      "Embedding sentences: 100%|██████████| 2/2 [00:00<00:00,  6.30it/s]\n"
     ]
    },
    {
     "name": "stdout",
     "output_type": "stream",
     "text": [
      "Processing: distiluse, Lang: ru, Index: HNSW\n"
     ]
    },
    {
     "name": "stderr",
     "output_type": "stream",
     "text": [
      "Embedding sentences: 100%|██████████| 2/2 [00:00<00:00, 11.49it/s]\n",
      "Embedding sentences: 100%|██████████| 2/2 [00:00<00:00, 10.58it/s]\n",
      "Embedding sentences: 100%|██████████| 2/2 [00:00<00:00, 11.35it/s]\n",
      "Embedding sentences: 100%|██████████| 2/2 [00:00<00:00, 11.46it/s]\n",
      "Embedding sentences: 100%|██████████| 2/2 [00:00<00:00,  9.95it/s]\n",
      "Embedding sentences: 100%|██████████| 2/2 [00:00<00:00, 10.50it/s]\n"
     ]
    },
    {
     "name": "stdout",
     "output_type": "stream",
     "text": [
      "Processing: mpnet, Lang: ru, Index: HNSW\n"
     ]
    },
    {
     "name": "stderr",
     "output_type": "stream",
     "text": [
      "Embedding sentences: 100%|██████████| 2/2 [00:00<00:00,  6.22it/s]\n",
      "Embedding sentences: 100%|██████████| 2/2 [00:00<00:00,  6.73it/s]\n",
      "Embedding sentences: 100%|██████████| 2/2 [00:00<00:00,  6.57it/s]\n",
      "Embedding sentences: 100%|██████████| 2/2 [00:00<00:00,  6.71it/s]\n",
      "Embedding sentences: 100%|██████████| 2/2 [00:00<00:00,  6.29it/s]\n",
      "Embedding sentences: 100%|██████████| 2/2 [00:00<00:00,  6.33it/s]\n"
     ]
    },
    {
     "name": "stdout",
     "output_type": "stream",
     "text": [
      "Processing: m3, Lang: ru, Index: HNSW\n"
     ]
    },
    {
     "name": "stderr",
     "output_type": "stream",
     "text": [
      "Embedding sentences: 100%|██████████| 2/2 [00:00<00:00,  2.09it/s]\n",
      "Embedding sentences: 100%|██████████| 2/2 [00:00<00:00,  2.08it/s]\n",
      "Embedding sentences: 100%|██████████| 2/2 [00:00<00:00,  2.05it/s]\n",
      "Embedding sentences: 100%|██████████| 2/2 [00:00<00:00,  2.12it/s]\n",
      "Embedding sentences: 100%|██████████| 2/2 [00:01<00:00,  1.99it/s]\n",
      "Embedding sentences: 100%|██████████| 2/2 [00:01<00:00,  1.91it/s]\n"
     ]
    },
    {
     "name": "stdout",
     "output_type": "stream",
     "text": [
      "Processing: m3-unsupervised, Lang: ru, Index: HNSW\n"
     ]
    },
    {
     "name": "stderr",
     "output_type": "stream",
     "text": [
      "Embedding sentences: 100%|██████████| 2/2 [00:00<00:00,  2.08it/s]\n",
      "Embedding sentences: 100%|██████████| 2/2 [00:00<00:00,  2.07it/s]\n",
      "Embedding sentences: 100%|██████████| 2/2 [00:00<00:00,  2.03it/s]\n",
      "Embedding sentences: 100%|██████████| 2/2 [00:00<00:00,  2.11it/s]\n",
      "Embedding sentences: 100%|██████████| 2/2 [00:01<00:00,  1.98it/s]\n",
      "Embedding sentences: 100%|██████████| 2/2 [00:01<00:00,  1.90it/s]\n"
     ]
    },
    {
     "name": "stdout",
     "output_type": "stream",
     "text": [
      "Processing: arctic-large, Lang: ru, Index: HNSW\n"
     ]
    },
    {
     "name": "stderr",
     "output_type": "stream",
     "text": [
      "Embedding sentences: 100%|██████████| 2/2 [00:00<00:00,  2.05it/s]\n",
      "Embedding sentences: 100%|██████████| 2/2 [00:00<00:00,  2.04it/s]\n",
      "Embedding sentences: 100%|██████████| 2/2 [00:00<00:00,  2.01it/s]\n",
      "Embedding sentences: 100%|██████████| 2/2 [00:00<00:00,  2.08it/s]\n",
      "Embedding sentences: 100%|██████████| 2/2 [00:01<00:00,  1.96it/s]\n",
      "Embedding sentences: 100%|██████████| 2/2 [00:01<00:00,  1.87it/s]\n"
     ]
    },
    {
     "name": "stdout",
     "output_type": "stream",
     "text": [
      "Processing: e5-large, Lang: ru, Index: HNSW\n"
     ]
    },
    {
     "name": "stderr",
     "output_type": "stream",
     "text": [
      "Embedding sentences: 100%|██████████| 2/2 [00:00<00:00,  2.08it/s]\n",
      "Embedding sentences: 100%|██████████| 2/2 [00:00<00:00,  2.07it/s]\n",
      "Embedding sentences: 100%|██████████| 2/2 [00:00<00:00,  2.03it/s]\n",
      "Embedding sentences: 100%|██████████| 2/2 [00:00<00:00,  2.11it/s]\n",
      "Embedding sentences: 100%|██████████| 2/2 [00:01<00:00,  1.97it/s]\n",
      "Embedding sentences: 100%|██████████| 2/2 [00:01<00:00,  1.89it/s]\n"
     ]
    },
    {
     "name": "stdout",
     "output_type": "stream",
     "text": [
      "Processing: nomic, Lang: ru, Index: HNSW\n"
     ]
    },
    {
     "name": "stderr",
     "output_type": "stream",
     "text": [
      "Embedding sentences: 100%|██████████| 2/2 [00:00<00:00,  3.16it/s]\n",
      "Embedding sentences: 100%|██████████| 2/2 [00:00<00:00,  3.19it/s]\n",
      "Embedding sentences: 100%|██████████| 2/2 [00:00<00:00,  3.07it/s]\n",
      "Embedding sentences: 100%|██████████| 2/2 [00:00<00:00,  3.18it/s]\n",
      "Embedding sentences: 100%|██████████| 2/2 [00:00<00:00,  3.03it/s]\n",
      "Embedding sentences: 100%|██████████| 2/2 [00:00<00:00,  2.96it/s]\n"
     ]
    },
    {
     "name": "stdout",
     "output_type": "stream",
     "text": [
      "Best model for lang=ru, index_type=HNSW: labse\n",
      "Processing: labse, Lang: ru, Index: FlatIP\n"
     ]
    },
    {
     "name": "stderr",
     "output_type": "stream",
     "text": [
      "Embedding sentences: 100%|██████████| 2/2 [00:00<00:00,  7.09it/s]\n",
      "Embedding sentences: 100%|██████████| 2/2 [00:00<00:00,  6.95it/s]\n",
      "Embedding sentences: 100%|██████████| 2/2 [00:00<00:00,  6.30it/s]\n",
      "Embedding sentences: 100%|██████████| 2/2 [00:00<00:00,  6.97it/s]\n",
      "Embedding sentences: 100%|██████████| 2/2 [00:00<00:00,  5.59it/s]\n",
      "Embedding sentences: 100%|██████████| 2/2 [00:00<00:00,  6.27it/s]\n"
     ]
    },
    {
     "name": "stdout",
     "output_type": "stream",
     "text": [
      "Processing: distiluse, Lang: ru, Index: FlatIP\n"
     ]
    },
    {
     "name": "stderr",
     "output_type": "stream",
     "text": [
      "Embedding sentences: 100%|██████████| 2/2 [00:00<00:00, 12.11it/s]\n",
      "Embedding sentences: 100%|██████████| 2/2 [00:00<00:00, 10.44it/s]\n",
      "Embedding sentences: 100%|██████████| 2/2 [00:00<00:00, 11.42it/s]\n",
      "Embedding sentences: 100%|██████████| 2/2 [00:00<00:00, 11.50it/s]\n",
      "Embedding sentences: 100%|██████████| 2/2 [00:00<00:00,  9.94it/s]\n",
      "Embedding sentences: 100%|██████████| 2/2 [00:00<00:00, 10.56it/s]\n"
     ]
    },
    {
     "name": "stdout",
     "output_type": "stream",
     "text": [
      "Processing: mpnet, Lang: ru, Index: FlatIP\n"
     ]
    },
    {
     "name": "stderr",
     "output_type": "stream",
     "text": [
      "Embedding sentences: 100%|██████████| 2/2 [00:00<00:00,  6.51it/s]\n",
      "Embedding sentences: 100%|██████████| 2/2 [00:00<00:00,  6.69it/s]\n",
      "Embedding sentences: 100%|██████████| 2/2 [00:00<00:00,  6.48it/s]\n",
      "Embedding sentences: 100%|██████████| 2/2 [00:00<00:00,  6.69it/s]\n",
      "Embedding sentences: 100%|██████████| 2/2 [00:00<00:00,  6.22it/s]\n",
      "Embedding sentences: 100%|██████████| 2/2 [00:00<00:00,  6.27it/s]\n"
     ]
    },
    {
     "name": "stdout",
     "output_type": "stream",
     "text": [
      "Processing: m3, Lang: ru, Index: FlatIP\n"
     ]
    },
    {
     "name": "stderr",
     "output_type": "stream",
     "text": [
      "Embedding sentences: 100%|██████████| 2/2 [00:00<00:00,  2.08it/s]\n",
      "Embedding sentences: 100%|██████████| 2/2 [00:00<00:00,  2.07it/s]\n",
      "Embedding sentences: 100%|██████████| 2/2 [00:00<00:00,  2.04it/s]\n",
      "Embedding sentences: 100%|██████████| 2/2 [00:00<00:00,  2.11it/s]\n",
      "Embedding sentences: 100%|██████████| 2/2 [00:01<00:00,  1.99it/s]\n",
      "Embedding sentences: 100%|██████████| 2/2 [00:01<00:00,  1.90it/s]\n"
     ]
    },
    {
     "name": "stdout",
     "output_type": "stream",
     "text": [
      "Processing: m3-unsupervised, Lang: ru, Index: FlatIP\n"
     ]
    },
    {
     "name": "stderr",
     "output_type": "stream",
     "text": [
      "Embedding sentences: 100%|██████████| 2/2 [00:00<00:00,  2.09it/s]\n",
      "Embedding sentences: 100%|██████████| 2/2 [00:00<00:00,  2.08it/s]\n",
      "Embedding sentences: 100%|██████████| 2/2 [00:00<00:00,  2.05it/s]\n",
      "Embedding sentences: 100%|██████████| 2/2 [00:00<00:00,  2.12it/s]\n",
      "Embedding sentences: 100%|██████████| 2/2 [00:01<00:00,  2.00it/s]\n",
      "Embedding sentences: 100%|██████████| 2/2 [00:01<00:00,  1.91it/s]\n"
     ]
    },
    {
     "name": "stdout",
     "output_type": "stream",
     "text": [
      "Processing: arctic-large, Lang: ru, Index: FlatIP\n"
     ]
    },
    {
     "name": "stderr",
     "output_type": "stream",
     "text": [
      "Embedding sentences: 100%|██████████| 2/2 [00:00<00:00,  2.05it/s]\n",
      "Embedding sentences: 100%|██████████| 2/2 [00:00<00:00,  2.05it/s]\n",
      "Embedding sentences: 100%|██████████| 2/2 [00:00<00:00,  2.02it/s]\n",
      "Embedding sentences: 100%|██████████| 2/2 [00:00<00:00,  2.09it/s]\n",
      "Embedding sentences: 100%|██████████| 2/2 [00:01<00:00,  1.97it/s]\n",
      "Embedding sentences: 100%|██████████| 2/2 [00:01<00:00,  1.88it/s]\n"
     ]
    },
    {
     "name": "stdout",
     "output_type": "stream",
     "text": [
      "Processing: e5-large, Lang: ru, Index: FlatIP\n"
     ]
    },
    {
     "name": "stderr",
     "output_type": "stream",
     "text": [
      "Embedding sentences: 100%|██████████| 2/2 [00:00<00:00,  2.08it/s]\n",
      "Embedding sentences: 100%|██████████| 2/2 [00:00<00:00,  2.08it/s]\n",
      "Embedding sentences: 100%|██████████| 2/2 [00:00<00:00,  2.04it/s]\n",
      "Embedding sentences: 100%|██████████| 2/2 [00:00<00:00,  2.11it/s]\n",
      "Embedding sentences: 100%|██████████| 2/2 [00:01<00:00,  1.98it/s]\n",
      "Embedding sentences: 100%|██████████| 2/2 [00:01<00:00,  1.90it/s]\n"
     ]
    },
    {
     "name": "stdout",
     "output_type": "stream",
     "text": [
      "Processing: nomic, Lang: ru, Index: FlatIP\n"
     ]
    },
    {
     "name": "stderr",
     "output_type": "stream",
     "text": [
      "Embedding sentences: 100%|██████████| 2/2 [00:00<00:00,  3.14it/s]\n",
      "Embedding sentences: 100%|██████████| 2/2 [00:00<00:00,  3.20it/s]\n",
      "Embedding sentences: 100%|██████████| 2/2 [00:00<00:00,  3.09it/s]\n",
      "Embedding sentences: 100%|██████████| 2/2 [00:00<00:00,  3.20it/s]\n",
      "Embedding sentences: 100%|██████████| 2/2 [00:00<00:00,  3.04it/s]\n",
      "Embedding sentences: 100%|██████████| 2/2 [00:00<00:00,  2.97it/s]\n"
     ]
    },
    {
     "name": "stdout",
     "output_type": "stream",
     "text": [
      "Best model for lang=ru, index_type=FlatIP: labse\n",
      "Processing: labse, Lang: ru, Index: FlatL2\n"
     ]
    },
    {
     "name": "stderr",
     "output_type": "stream",
     "text": [
      "Embedding sentences: 100%|██████████| 2/2 [00:00<00:00,  7.16it/s]\n",
      "Embedding sentences: 100%|██████████| 2/2 [00:00<00:00,  6.97it/s]\n",
      "Embedding sentences: 100%|██████████| 2/2 [00:00<00:00,  6.31it/s]\n",
      "Embedding sentences: 100%|██████████| 2/2 [00:00<00:00,  7.02it/s]\n",
      "Embedding sentences: 100%|██████████| 2/2 [00:00<00:00,  5.59it/s]\n",
      "Embedding sentences: 100%|██████████| 2/2 [00:00<00:00,  6.29it/s]\n"
     ]
    },
    {
     "name": "stdout",
     "output_type": "stream",
     "text": [
      "Processing: distiluse, Lang: ru, Index: FlatL2\n"
     ]
    },
    {
     "name": "stderr",
     "output_type": "stream",
     "text": [
      "Embedding sentences: 100%|██████████| 2/2 [00:00<00:00, 12.04it/s]\n",
      "Embedding sentences: 100%|██████████| 2/2 [00:00<00:00, 10.52it/s]\n",
      "Embedding sentences: 100%|██████████| 2/2 [00:00<00:00, 11.39it/s]\n",
      "Embedding sentences: 100%|██████████| 2/2 [00:00<00:00, 11.49it/s]\n",
      "Embedding sentences: 100%|██████████| 2/2 [00:00<00:00,  9.99it/s]\n",
      "Embedding sentences: 100%|██████████| 2/2 [00:00<00:00, 10.61it/s]\n"
     ]
    },
    {
     "name": "stdout",
     "output_type": "stream",
     "text": [
      "Processing: mpnet, Lang: ru, Index: FlatL2\n"
     ]
    },
    {
     "name": "stderr",
     "output_type": "stream",
     "text": [
      "Embedding sentences: 100%|██████████| 2/2 [00:00<00:00,  6.33it/s]\n",
      "Embedding sentences: 100%|██████████| 2/2 [00:00<00:00,  6.71it/s]\n",
      "Embedding sentences: 100%|██████████| 2/2 [00:00<00:00,  6.54it/s]\n",
      "Embedding sentences: 100%|██████████| 2/2 [00:00<00:00,  6.69it/s]\n",
      "Embedding sentences: 100%|██████████| 2/2 [00:00<00:00,  6.26it/s]\n",
      "Embedding sentences: 100%|██████████| 2/2 [00:00<00:00,  6.32it/s]\n"
     ]
    },
    {
     "name": "stdout",
     "output_type": "stream",
     "text": [
      "Processing: m3, Lang: ru, Index: FlatL2\n"
     ]
    },
    {
     "name": "stderr",
     "output_type": "stream",
     "text": [
      "Embedding sentences: 100%|██████████| 2/2 [00:00<00:00,  2.09it/s]\n",
      "Embedding sentences: 100%|██████████| 2/2 [00:00<00:00,  2.08it/s]\n",
      "Embedding sentences: 100%|██████████| 2/2 [00:00<00:00,  2.04it/s]\n",
      "Embedding sentences: 100%|██████████| 2/2 [00:00<00:00,  2.12it/s]\n",
      "Embedding sentences: 100%|██████████| 2/2 [00:01<00:00,  1.99it/s]\n",
      "Embedding sentences: 100%|██████████| 2/2 [00:01<00:00,  1.91it/s]\n"
     ]
    },
    {
     "name": "stdout",
     "output_type": "stream",
     "text": [
      "Processing: m3-unsupervised, Lang: ru, Index: FlatL2\n"
     ]
    },
    {
     "name": "stderr",
     "output_type": "stream",
     "text": [
      "Embedding sentences: 100%|██████████| 2/2 [00:00<00:00,  2.09it/s]\n",
      "Embedding sentences: 100%|██████████| 2/2 [00:00<00:00,  2.08it/s]\n",
      "Embedding sentences: 100%|██████████| 2/2 [00:00<00:00,  2.05it/s]\n",
      "Embedding sentences: 100%|██████████| 2/2 [00:00<00:00,  2.12it/s]\n",
      "Embedding sentences: 100%|██████████| 2/2 [00:01<00:00,  1.98it/s]\n",
      "Embedding sentences: 100%|██████████| 2/2 [00:01<00:00,  1.90it/s]\n"
     ]
    },
    {
     "name": "stdout",
     "output_type": "stream",
     "text": [
      "Processing: arctic-large, Lang: ru, Index: FlatL2\n"
     ]
    },
    {
     "name": "stderr",
     "output_type": "stream",
     "text": [
      "Embedding sentences: 100%|██████████| 2/2 [00:00<00:00,  2.06it/s]\n",
      "Embedding sentences: 100%|██████████| 2/2 [00:00<00:00,  2.04it/s]\n",
      "Embedding sentences: 100%|██████████| 2/2 [00:00<00:00,  2.01it/s]\n",
      "Embedding sentences: 100%|██████████| 2/2 [00:00<00:00,  2.08it/s]\n",
      "Embedding sentences: 100%|██████████| 2/2 [00:01<00:00,  1.96it/s]\n",
      "Embedding sentences: 100%|██████████| 2/2 [00:01<00:00,  1.87it/s]\n"
     ]
    },
    {
     "name": "stdout",
     "output_type": "stream",
     "text": [
      "Processing: e5-large, Lang: ru, Index: FlatL2\n"
     ]
    },
    {
     "name": "stderr",
     "output_type": "stream",
     "text": [
      "Embedding sentences: 100%|██████████| 2/2 [00:00<00:00,  2.08it/s]\n",
      "Embedding sentences: 100%|██████████| 2/2 [00:00<00:00,  2.07it/s]\n",
      "Embedding sentences: 100%|██████████| 2/2 [00:00<00:00,  2.03it/s]\n",
      "Embedding sentences: 100%|██████████| 2/2 [00:00<00:00,  2.11it/s]\n",
      "Embedding sentences: 100%|██████████| 2/2 [00:01<00:00,  1.98it/s]\n",
      "Embedding sentences: 100%|██████████| 2/2 [00:01<00:00,  1.90it/s]\n"
     ]
    },
    {
     "name": "stdout",
     "output_type": "stream",
     "text": [
      "Processing: nomic, Lang: ru, Index: FlatL2\n"
     ]
    },
    {
     "name": "stderr",
     "output_type": "stream",
     "text": [
      "Embedding sentences: 100%|██████████| 2/2 [00:00<00:00,  3.15it/s]\n",
      "Embedding sentences: 100%|██████████| 2/2 [00:00<00:00,  3.21it/s]\n",
      "Embedding sentences: 100%|██████████| 2/2 [00:00<00:00,  3.09it/s]\n",
      "Embedding sentences: 100%|██████████| 2/2 [00:00<00:00,  3.21it/s]\n",
      "Embedding sentences: 100%|██████████| 2/2 [00:00<00:00,  3.04it/s]\n",
      "Embedding sentences: 100%|██████████| 2/2 [00:00<00:00,  2.98it/s]\n"
     ]
    },
    {
     "name": "stdout",
     "output_type": "stream",
     "text": [
      "Best model for lang=ru, index_type=FlatL2: labse\n"
     ]
    }
   ],
   "execution_count": 74
  },
  {
   "cell_type": "code",
   "id": "b063da1cdf366b23",
   "metadata": {
    "ExecuteTime": {
     "end_time": "2025-02-13T14:46:29.449922Z",
     "start_time": "2025-02-13T14:46:29.443379Z"
    }
   },
   "source": [
    "best_models"
   ],
   "outputs": [
    {
     "data": {
      "text/plain": [
       "{('en', 'HNSW'): 'm3',\n",
       " ('en', 'FlatIP'): 'm3',\n",
       " ('en', 'FlatL2'): 'm3',\n",
       " ('de', 'HNSW'): 'labse',\n",
       " ('de', 'FlatIP'): 'labse',\n",
       " ('de', 'FlatL2'): 'labse',\n",
       " ('tr', 'HNSW'): 'labse',\n",
       " ('tr', 'FlatIP'): 'labse',\n",
       " ('tr', 'FlatL2'): 'labse',\n",
       " ('hr', 'HNSW'): 'labse',\n",
       " ('hr', 'FlatIP'): 'labse',\n",
       " ('hr', 'FlatL2'): 'labse',\n",
       " ('ru', 'HNSW'): 'labse',\n",
       " ('ru', 'FlatIP'): 'labse',\n",
       " ('ru', 'FlatL2'): 'labse'}"
      ]
     },
     "execution_count": 76,
     "metadata": {},
     "output_type": "execute_result"
    }
   ],
   "execution_count": 76
  },
  {
   "metadata": {},
   "cell_type": "markdown",
   "source": [
    "{('en', 'HNSW'): 'm3',\\\n",
    " ('en', 'FlatIP'): 'm3',\\\n",
    " ('en', 'FlatL2'): 'm3',\\\n",
    " ('de', 'HNSW'): 'labse',\\\n",
    " ('de', 'FlatIP'): 'labse',\\\n",
    " ('de', 'FlatL2'): 'labse',\\\n",
    " ('tr', 'HNSW'): 'labse',\\\n",
    " ('tr', 'FlatIP'): 'labse',\\\n",
    " ('tr', 'FlatL2'): 'labse',\\\n",
    " ('hr', 'HNSW'): 'labse',\\\n",
    " ('hr', 'FlatIP'): 'labse',\\\n",
    " ('hr', 'FlatL2'): 'labse',\\\n",
    " ('ru', 'HNSW'): 'labse',\\\n",
    " ('ru', 'FlatIP'): 'labse',\\\n",
    " ('ru', 'FlatL2'): 'labse'}"
   ],
   "id": "8c1a07921735fd1b"
  },
  {
   "metadata": {},
   "cell_type": "code",
   "outputs": [],
   "execution_count": null,
   "source": "",
   "id": "fa0d73c0ebb4e6d0"
  },
  {
   "metadata": {},
   "cell_type": "code",
   "outputs": [],
   "execution_count": null,
   "source": "",
   "id": "d7c9c37fc22cd79c"
  },
  {
   "metadata": {},
   "cell_type": "code",
   "outputs": [],
   "execution_count": null,
   "source": "",
   "id": "edbdc600ddbfbdca"
  },
  {
   "cell_type": "code",
   "id": "60e02a686c0150e6",
   "metadata": {
    "ExecuteTime": {
     "end_time": "2025-02-14T00:44:28.329417Z",
     "start_time": "2025-02-14T00:44:28.322892Z"
    }
   },
   "source": [
    "metadatas[0], metadatas[300], metadatas[600]"
   ],
   "outputs": [
    {
     "data": {
      "text/plain": [
       "({'text': 'Even 2 month old baby girl is not safe in India...yet cow is safe...',\n",
       "  'label': 0,\n",
       "  'id': '0',\n",
       "  'split': 'test',\n",
       "  'dataset_name': 'parallel_data/en-Trac',\n",
       "  'language': 'en',\n",
       "  'uncertainty': 0.692246,\n",
       "  'margin': 0.042446673},\n",
       " {'text': \"2 aylık bir kız bebek bile  Hindistan'da güvenli değil ... ama inek güvende ...\",\n",
       "  'label': 0,\n",
       "  'id': '0',\n",
       "  'split': 'test',\n",
       "  'dataset_name': 'parallel_data/tr-Trac',\n",
       "  'language': 'tr',\n",
       "  'uncertainty': 0.6923424,\n",
       "  'margin': 0.040115356},\n",
       " {'text': 'Selbst ein 2 Monate altes Baby ist in Indien nicht sicher ... Dennoch ist die Kuh sicher…',\n",
       "  'label': 0,\n",
       "  'id': '0',\n",
       "  'split': 'test',\n",
       "  'dataset_name': 'parallel_data/de-Trac',\n",
       "  'language': 'de',\n",
       "  'uncertainty': 0.6925197,\n",
       "  'margin': 0.035421133})"
      ]
     },
     "execution_count": 31,
     "metadata": {},
     "output_type": "execute_result"
    }
   ],
   "execution_count": 31
  },
  {
   "cell_type": "code",
   "id": "331ebcf858ff62a9",
   "metadata": {
    "ExecuteTime": {
     "end_time": "2025-02-14T00:46:06.119616Z",
     "start_time": "2025-02-14T00:46:06.112133Z"
    }
   },
   "source": [
    "import numpy as np\n",
    "\n",
    "offsets = [0, 300, 600, 900, 1200, 1500]\n",
    "for i, language in enumerate(languages):\n",
    "    print(language)\n",
    "    # print(metadatas[offsets[i]])\n",
    "    perplexities = [item['margin'] for item in metadatas if item['language']==language]\n",
    "\n",
    "    print(np.mean(perplexities))\n",
    "\n",
    "\n",
    "\n",
    "\n",
    "\n"
   ],
   "outputs": [
    {
     "name": "stdout",
     "output_type": "stream",
     "text": [
      "en\n",
      "0.049977206\n",
      "tr\n",
      "0.031899843\n",
      "de\n",
      "0.045015942\n",
      "hr\n",
      "0.05534583\n",
      "ru\n",
      "0.012740561\n",
      "sq\n",
      "0.029640494\n"
     ]
    }
   ],
   "execution_count": 37
  },
  {
   "cell_type": "code",
   "id": "31e2a55c8897baab",
   "metadata": {
    "ExecuteTime": {
     "end_time": "2025-02-13T19:24:12.452432Z",
     "start_time": "2025-02-13T19:24:12.305809Z"
    }
   },
   "source": "metadatas",
   "outputs": [
    {
     "data": {
      "text/plain": [
       "[{'text': 'Even 2 month old baby girl is not safe in India...yet cow is safe...',\n",
       "  'label': 0,\n",
       "  'id': '0',\n",
       "  'split': 'test',\n",
       "  'dataset_name': 'parallel_data/en-Trac',\n",
       "  'language': 'en',\n",
       "  'uncertainty': 0.6886205,\n",
       "  'margin': 0.09507695},\n",
       " {'text': \"these bhagwa terrorists can't digest their meals without dragging Islam in every talk as far as I understand these fake nationalists must be sent to borders to befitting reply Pakistan and china .\",\n",
       "  'label': 1,\n",
       "  'id': '1',\n",
       "  'split': 'test',\n",
       "  'dataset_name': 'parallel_data/en-Trac',\n",
       "  'language': 'en',\n",
       "  'uncertainty': 0.68865395,\n",
       "  'margin': 0.09472579},\n",
       " {'text': 'What kind of media is this!!first they make headlines of indian soldiers being killed by rocket launchers n now about mutilating their dead bodies....this can happen only if Pak army crosses LOC....btw it looks like a #RealSurgicalStrike with evidences on indian media',\n",
       "  'label': 0,\n",
       "  'id': '2',\n",
       "  'split': 'test',\n",
       "  'dataset_name': 'parallel_data/en-Trac',\n",
       "  'language': 'en',\n",
       "  'uncertainty': 0.6892292,\n",
       "  'margin': 0.0884628},\n",
       " {'text': 'Compensation to the States will be payable every 2 months: FM',\n",
       "  'label': 0,\n",
       "  'id': '3',\n",
       "  'split': 'test',\n",
       "  'dataset_name': 'parallel_data/en-Trac',\n",
       "  'language': 'en',\n",
       "  'uncertainty': 0.68876773,\n",
       "  'margin': 0.09352028},\n",
       " {'text': 'Nifty below 8550 , indicates a down move maybe coming',\n",
       "  'label': 0,\n",
       "  'id': '4',\n",
       "  'split': 'test',\n",
       "  'dataset_name': 'parallel_data/en-Trac',\n",
       "  'language': 'en',\n",
       "  'uncertainty': 0.6898507,\n",
       "  'margin': 0.081153154},\n",
       " {'text': 'An apostle of Peace and  mother to all who were deprived and unwanted  by society.....',\n",
       "  'label': 0,\n",
       "  'id': '5',\n",
       "  'split': 'test',\n",
       "  'dataset_name': 'parallel_data/en-Trac',\n",
       "  'language': 'en',\n",
       "  'uncertainty': 0.6883168,\n",
       "  'margin': 0.09820914},\n",
       " {'text': 'How do you see the financial sector before fed rate hike',\n",
       "  'label': 0,\n",
       "  'id': '6',\n",
       "  'split': 'test',\n",
       "  'dataset_name': 'parallel_data/en-Trac',\n",
       "  'language': 'en',\n",
       "  'uncertainty': 0.69009936,\n",
       "  'margin': 0.078035384},\n",
       " {'text': 'Some people are sending other people with their cash to stand in the Queue for exchange of notes and paying them some amount in return.',\n",
       "  'label': 0,\n",
       "  'id': '7',\n",
       "  'split': 'test',\n",
       "  'dataset_name': 'parallel_data/en-Trac',\n",
       "  'language': 'en',\n",
       "  'uncertainty': 0.6889309,\n",
       "  'margin': 0.09176415},\n",
       " {'text': \"Gujarati leaders won't spk as army jawans killed and never single gujarati in army in last 70 years ? Will BJP keaders send his son to join army ?\",\n",
       "  'label': 1,\n",
       "  'id': '8',\n",
       "  'split': 'test',\n",
       "  'dataset_name': 'parallel_data/en-Trac',\n",
       "  'language': 'en',\n",
       "  'uncertainty': 0.6900016,\n",
       "  'margin': 0.07927519},\n",
       " {'text': 'Gifting to the legal heir or to the concerned person in blood relation is not illegal, diversion of funds from company to personal use is illegal though',\n",
       "  'label': 0,\n",
       "  'id': '9',\n",
       "  'split': 'test',\n",
       "  'dataset_name': 'parallel_data/en-Trac',\n",
       "  'language': 'en',\n",
       "  'uncertainty': 0.68883806,\n",
       "  'margin': 0.092767656},\n",
       " {'text': 'Now Indian government must have to take powerful Action against Bluddy Pakistan....',\n",
       "  'label': 1,\n",
       "  'id': '10',\n",
       "  'split': 'test',\n",
       "  'dataset_name': 'parallel_data/en-Trac',\n",
       "  'language': 'en',\n",
       "  'uncertainty': 0.689412,\n",
       "  'margin': 0.086376995},\n",
       " {'text': 'Instead of criticising kindly appreciate the efforts of children n applaud for them buddy!!',\n",
       "  'label': 0,\n",
       "  'id': '11',\n",
       "  'split': 'test',\n",
       "  'dataset_name': 'parallel_data/en-Trac',\n",
       "  'language': 'en',\n",
       "  'uncertainty': 0.6889329,\n",
       "  'margin': 0.09174237},\n",
       " {'text': 'Muhammad Imran are you military head of Pakistan? What the hell are you doing with terrorists? #terrorstatepak',\n",
       "  'label': 1,\n",
       "  'id': '12',\n",
       "  'split': 'test',\n",
       "  'dataset_name': 'parallel_data/en-Trac',\n",
       "  'language': 'en',\n",
       "  'uncertainty': 0.689369,\n",
       "  'margin': 0.08687213},\n",
       " {'text': 'president elect Donald Trump is a child molester, he told many years ago to Howard Stern, that he used to grab little girls vaginas, the girls who participated in his Ms. Teen America',\n",
       "  'label': 0,\n",
       "  'id': '13',\n",
       "  'split': 'test',\n",
       "  'dataset_name': 'parallel_data/en-Trac',\n",
       "  'language': 'en',\n",
       "  'uncertainty': 0.6895932,\n",
       "  'margin': 0.08425912},\n",
       " {'text': \"No quotas no reservations! First the UN Should improve status of women I'm the USA, then talk about India. Who the hell are you to meddle with Indian Affairs ?\",\n",
       "  'label': 1,\n",
       "  'id': '14',\n",
       "  'split': 'test',\n",
       "  'dataset_name': 'parallel_data/en-Trac',\n",
       "  'language': 'en',\n",
       "  'uncertainty': 0.68864924,\n",
       "  'margin': 0.09477544},\n",
       " {'text': \"The minister should also give swords to bridegrooms to be used when their wife's are in illicit relations with others.  So that in future marraige is not a mutual contact but a mutual war.\",\n",
       "  'label': 1,\n",
       "  'id': '15',\n",
       "  'split': 'test',\n",
       "  'dataset_name': 'parallel_data/en-Trac',\n",
       "  'language': 'en',\n",
       "  'uncertainty': 0.68859756,\n",
       "  'margin': 0.09531742},\n",
       " {'text': 'Will give good returns as this is festive season and demand increasing accordingly in the market.  Second, dollar is also weak as compared to rupee so :)',\n",
       "  'label': 0,\n",
       "  'id': '16',\n",
       "  'split': 'test',\n",
       "  'dataset_name': 'parallel_data/en-Trac',\n",
       "  'language': 'en',\n",
       "  'uncertainty': 0.6892127,\n",
       "  'margin': 0.08864874},\n",
       " {'text': 'She is brainless for sure... Has proved it so many times before..',\n",
       "  'label': 1,\n",
       "  'id': '17',\n",
       "  'split': 'test',\n",
       "  'dataset_name': 'parallel_data/en-Trac',\n",
       "  'language': 'en',\n",
       "  'uncertainty': 0.6890383,\n",
       "  'margin': 0.09058997},\n",
       " {'text': 'No point in doing this fb session without Anuj. It makes sense only with Anuj+Sonia. No other combination.',\n",
       "  'label': 0,\n",
       "  'id': '18',\n",
       "  'split': 'test',\n",
       "  'dataset_name': 'parallel_data/en-Trac',\n",
       "  'language': 'en',\n",
       "  'uncertainty': 0.6891386,\n",
       "  'margin': 0.08947849},\n",
       " {'text': \"Hahaha that's true should have heart in business n yes it's true mostly men die heart attack ðŸ‘»\",\n",
       "  'label': 0,\n",
       "  'id': '19',\n",
       "  'split': 'test',\n",
       "  'dataset_name': 'parallel_data/en-Trac',\n",
       "  'language': 'en',\n",
       "  'uncertainty': 0.6886877,\n",
       "  'margin': 0.09436977},\n",
       " {'text': 'So black money remain in cycle , its just unplanned stupid decision by a brat',\n",
       "  'label': 1,\n",
       "  'id': '20',\n",
       "  'split': 'test',\n",
       "  'dataset_name': 'parallel_data/en-Trac',\n",
       "  'language': 'en',\n",
       "  'uncertainty': 0.68960863,\n",
       "  'margin': 0.08407584},\n",
       " {'text': 'You need to support modi hi..! When your at pm position..! All scams happened...! Your working like a robo..!',\n",
       "  'label': 1,\n",
       "  'id': '21',\n",
       "  'split': 'test',\n",
       "  'dataset_name': 'parallel_data/en-Trac',\n",
       "  'language': 'en',\n",
       "  'uncertainty': 0.6896094,\n",
       "  'margin': 0.0840666},\n",
       " {'text': 'Modi has robbed Mother India and looted her. Can anybody kill him?',\n",
       "  'label': 1,\n",
       "  'id': '22',\n",
       "  'split': 'test',\n",
       "  'dataset_name': 'parallel_data/en-Trac',\n",
       "  'language': 'en',\n",
       "  'uncertainty': 0.68825096,\n",
       "  'margin': 0.09887579},\n",
       " {'text': 'What about the 100 rs notes that people may have stacked before the 500 or 1000 rs notes were printed?? Also what about the money in foreign accounts in foreign currency deposited by politicians?? By this move all the big crocodiles will still be safe!',\n",
       "  'label': 0,\n",
       "  'id': '23',\n",
       "  'split': 'test',\n",
       "  'dataset_name': 'parallel_data/en-Trac',\n",
       "  'language': 'en',\n",
       "  'uncertainty': 0.6894436,\n",
       "  'margin': 0.08601147},\n",
       " {'text': 'Send Farukh  Abdullah( Namaharam and haramkhore) on Indo Pak boarder to fight with his son-in-laws of Pakistan.',\n",
       "  'label': 1,\n",
       "  'id': '24',\n",
       "  'split': 'test',\n",
       "  'dataset_name': 'parallel_data/en-Trac',\n",
       "  'language': 'en',\n",
       "  'uncertainty': 0.68817055,\n",
       "  'margin': 0.09968352},\n",
       " {'text': 'Out of box thinking is a trade mark of our prime minister Modiji. This step will definitely help our country to control black money and corruption..',\n",
       "  'label': 0,\n",
       "  'id': '25',\n",
       "  'split': 'test',\n",
       "  'dataset_name': 'parallel_data/en-Trac',\n",
       "  'language': 'en',\n",
       "  'uncertainty': 0.689772,\n",
       "  'margin': 0.08211434},\n",
       " {'text': 'Syed nady If cow is for food then how come she be used for milk too. Either she will live to provide you milk or die to provide you food. I think you are devoid of brain which is overshadowed by this idiotic hidayat of the sex hungry mad man',\n",
       "  'label': 1,\n",
       "  'id': '26',\n",
       "  'split': 'test',\n",
       "  'dataset_name': 'parallel_data/en-Trac',\n",
       "  'language': 'en',\n",
       "  'uncertainty': 0.68867993,\n",
       "  'margin': 0.094451696},\n",
       " {'text': 'Having people like you in my life make all the difference...habaybi ento â\\x9d¤â\\x9d¤',\n",
       "  'label': 0,\n",
       "  'id': '27',\n",
       "  'split': 'test',\n",
       "  'dataset_name': 'parallel_data/en-Trac',\n",
       "  'language': 'en',\n",
       "  'uncertainty': 0.688284,\n",
       "  'margin': 0.09854245},\n",
       " {'text': 'indian army like hijra.all indian armmy go house and wearing bungle.pakistani army comeing. ten indian like one pakistany.every body know.allah with pakistan.and krishna with india ha,..ha..ha',\n",
       "  'label': 1,\n",
       "  'id': '28',\n",
       "  'split': 'test',\n",
       "  'dataset_name': 'parallel_data/en-Trac',\n",
       "  'language': 'en',\n",
       "  'uncertainty': 0.689903,\n",
       "  'margin': 0.08050668},\n",
       " {'text': 'Dude even now the problem of atm is existing and long queues in bank. If such an initiative is to be taken then atleast the ground level work should have been strong. The reason behind telling is the govt banks are least cooperative even in this situation . An action should be taken against such employees. The idea of demonetisation would have been successful if all the bank employees support this moment and help the ppl rather than doing the opposite of what has been told. Timinaksh Sharma',\n",
       "  'label': 0,\n",
       "  'id': '29',\n",
       "  'split': 'test',\n",
       "  'dataset_name': 'parallel_data/en-Trac',\n",
       "  'language': 'en',\n",
       "  'uncertainty': 0.6894667,\n",
       "  'margin': 0.08574277},\n",
       " {'text': \"What happened to Indian constitution? Why SC not giving him hearing which is fundamental right of every citizen? Isn't this atrocity?\",\n",
       "  'label': 1,\n",
       "  'id': '30',\n",
       "  'split': 'test',\n",
       "  'dataset_name': 'parallel_data/en-Trac',\n",
       "  'language': 'en',\n",
       "  'uncertainty': 0.68748516,\n",
       "  'margin': 0.10631406},\n",
       " {'text': 'time to repeat another 47 :D so that indians would again celebrate a new division day as an independance day :D',\n",
       "  'label': 1,\n",
       "  'id': '31',\n",
       "  'split': 'test',\n",
       "  'dataset_name': 'parallel_data/en-Trac',\n",
       "  'language': 'en',\n",
       "  'uncertainty': 0.6886135,\n",
       "  'margin': 0.095151424},\n",
       " {'text': \"See who's talking,  the pm who never spoke in the ten years in his term,  after listening thank god he was not talking\",\n",
       "  'label': 1,\n",
       "  'id': '32',\n",
       "  'split': 'test',\n",
       "  'dataset_name': 'parallel_data/en-Trac',\n",
       "  'language': 'en',\n",
       "  'uncertainty': 0.69013894,\n",
       "  'margin': 0.07752681},\n",
       " {'text': 'to all bhakts.. why could not madi wait until he had surplus cash with rbi then roll out this plan? why so urgent?',\n",
       "  'label': 1,\n",
       "  'id': '33',\n",
       "  'split': 'test',\n",
       "  'dataset_name': 'parallel_data/en-Trac',\n",
       "  'language': 'en',\n",
       "  'uncertainty': 0.68900967,\n",
       "  'margin': 0.09090489},\n",
       " {'text': 'Any news in Tata Motors as it has recovered smartly from days lows?',\n",
       "  'label': 0,\n",
       "  'id': '34',\n",
       "  'split': 'test',\n",
       "  'dataset_name': 'parallel_data/en-Trac',\n",
       "  'language': 'en',\n",
       "  'uncertainty': 0.68858504,\n",
       "  'margin': 0.095448375},\n",
       " {'text': \"Worst PM manmohan. Shouldn't be allowed to speak in first place\",\n",
       "  'label': 1,\n",
       "  'id': '35',\n",
       "  'split': 'test',\n",
       "  'dataset_name': 'parallel_data/en-Trac',\n",
       "  'language': 'en',\n",
       "  'uncertainty': 0.6886969,\n",
       "  'margin': 0.09427261},\n",
       " {'text': 'Anyone aware on what happened about making pan cards, aadhar card, passport and bank account for cows?   I have also heard cows will get a subsidy from the government if they want to buy a house or send young ones to university',\n",
       "  'label': 1,\n",
       "  'id': '36',\n",
       "  'split': 'test',\n",
       "  'dataset_name': 'parallel_data/en-Trac',\n",
       "  'language': 'en',\n",
       "  'uncertainty': 0.6890204,\n",
       "  'margin': 0.09078649},\n",
       " {'text': 'Wait for a day.. there will be press release.. and usual panel discussions in the prime times. U will get the prescribed answer.',\n",
       "  'label': 1,\n",
       "  'id': '37',\n",
       "  'split': 'test',\n",
       "  'dataset_name': 'parallel_data/en-Trac',\n",
       "  'language': 'en',\n",
       "  'uncertainty': 0.68976986,\n",
       "  'margin': 0.08214024},\n",
       " {'text': \"Nd more importantly, these guys were beaten over the suspect of cow thievery. You would kill people over an allegation, where's justice?? Where are my human rights?? Welcome to new India\",\n",
       "  'label': 1,\n",
       "  'id': '38',\n",
       "  'split': 'test',\n",
       "  'dataset_name': 'parallel_data/en-Trac',\n",
       "  'language': 'en',\n",
       "  'uncertainty': 0.68787706,\n",
       "  'margin': 0.10257542},\n",
       " {'text': \"Not to forget 1991, when India was on a brink of declaring bankruptcy. India's foreign exchange reserves were barely a billion dollars and now is ballooned to 145 $ BILLION.\",\n",
       "  'label': 0,\n",
       "  'id': '39',\n",
       "  'split': 'test',\n",
       "  'dataset_name': 'parallel_data/en-Trac',\n",
       "  'language': 'en',\n",
       "  'uncertainty': 0.6882975,\n",
       "  'margin': 0.09840557},\n",
       " {'text': \"we don't have history like Mr modi killer of thousands Muslims in gujrat...\",\n",
       "  'label': 1,\n",
       "  'id': '40',\n",
       "  'split': 'test',\n",
       "  'dataset_name': 'parallel_data/en-Trac',\n",
       "  'language': 'en',\n",
       "  'uncertainty': 0.6898962,\n",
       "  'margin': 0.08059147},\n",
       " {'text': 'How the SC have forgotten the basic principles of legal jurisprudence that , A person cannot be the judge of his own case . Who stops the enquiry against the 7 judges of SC ,for the alleged corruption charges as such .The dalits may be branded as incomplete by birth ,But certainly not insane as such .',\n",
       "  'label': 1,\n",
       "  'id': '41',\n",
       "  'split': 'test',\n",
       "  'dataset_name': 'parallel_data/en-Trac',\n",
       "  'language': 'en',\n",
       "  'uncertainty': 0.68810225,\n",
       "  'margin': 0.10036418},\n",
       " {'text': 'Why sharad pawar. He has done nothing for india except looting the country and poor people',\n",
       "  'label': 1,\n",
       "  'id': '42',\n",
       "  'split': 'test',\n",
       "  'dataset_name': 'parallel_data/en-Trac',\n",
       "  'language': 'en',\n",
       "  'uncertainty': 0.6885954,\n",
       "  'margin': 0.09534019},\n",
       " {'text': \"When the PSU Banks are posting loss Quarters & due to De-demonetization, the money circulation also got affected badly, which directly affected the business of common people. I don't know, how they took this decision regarding rates unchanged.\",\n",
       "  'label': 0,\n",
       "  'id': '43',\n",
       "  'split': 'test',\n",
       "  'dataset_name': 'parallel_data/en-Trac',\n",
       "  'language': 'en',\n",
       "  'uncertainty': 0.68883073,\n",
       "  'margin': 0.09284711},\n",
       " {'text': 'We Indian citizen especially liberal not bhakts, will kill modi with Not sword,guns,riffle or bomb, but through our words. We will habe to openly question him. But he never allows anyone to.question him before public. Last election campaign , one hindu lady had raised her voice before modi , she was forcefully taken away by guards. Such is the coward modi! Darpok PM!',\n",
       "  'label': 1,\n",
       "  'id': '44',\n",
       "  'split': 'test',\n",
       "  'dataset_name': 'parallel_data/en-Trac',\n",
       "  'language': 'en',\n",
       "  'uncertainty': 0.69005287,\n",
       "  'margin': 0.07862696},\n",
       " {'text': 'Company more cash Return to investors n investors more invest',\n",
       "  'label': 0,\n",
       "  'id': '45',\n",
       "  'split': 'test',\n",
       "  'dataset_name': 'parallel_data/en-Trac',\n",
       "  'language': 'en',\n",
       "  'uncertainty': 0.6901057,\n",
       "  'margin': 0.07795477},\n",
       " {'text': 'People he is a well known economist who had brought good in early 90s. Please stop following PM blindly, I too support Modi but the issues he is addressing are real.',\n",
       "  'label': 0,\n",
       "  'id': '46',\n",
       "  'split': 'test',\n",
       "  'dataset_name': 'parallel_data/en-Trac',\n",
       "  'language': 'en',\n",
       "  'uncertainty': 0.6896146,\n",
       "  'margin': 0.084005386},\n",
       " {'text': \"Except BJP's Party funds, all online. only BJP will keep black money.\",\n",
       "  'label': 1,\n",
       "  'id': '47',\n",
       "  'split': 'test',\n",
       "  'dataset_name': 'parallel_data/en-Trac',\n",
       "  'language': 'en',\n",
       "  'uncertainty': 0.68996143,\n",
       "  'margin': 0.07977936},\n",
       " {'text': 'Yes @ guarav u might hav done dat in presence of thousands of army men my god u r so braveeeee ðŸ˜‚ ðŸ˜‚ðŸ˜‚ðŸ˜‚ðŸ˜‚',\n",
       "  'label': 1,\n",
       "  'id': '48',\n",
       "  'split': 'test',\n",
       "  'dataset_name': 'parallel_data/en-Trac',\n",
       "  'language': 'en',\n",
       "  'uncertainty': 0.689342,\n",
       "  'margin': 0.087182164},\n",
       " {'text': 'Where is the coward police. Are they all wearing bangles and sleeping?',\n",
       "  'label': 1,\n",
       "  'id': '49',\n",
       "  'split': 'test',\n",
       "  'dataset_name': 'parallel_data/en-Trac',\n",
       "  'language': 'en',\n",
       "  'uncertainty': 0.6884039,\n",
       "  'margin': 0.09732172},\n",
       " {'text': \"I didn't hear this guy speaking when he was PM for two terms...now all of a sudden he is speaking... is this modi effect...lol...\",\n",
       "  'label': 1,\n",
       "  'id': '50',\n",
       "  'split': 'test',\n",
       "  'dataset_name': 'parallel_data/en-Trac',\n",
       "  'language': 'en',\n",
       "  'uncertainty': 0.690201,\n",
       "  'margin': 0.07672417},\n",
       " {'text': 'Dalit women raped and force to drink human urine by upper caste',\n",
       "  'label': 0,\n",
       "  'id': '51',\n",
       "  'split': 'test',\n",
       "  'dataset_name': 'parallel_data/en-Trac',\n",
       "  'language': 'en',\n",
       "  'uncertainty': 0.68980813,\n",
       "  'margin': 0.08167389},\n",
       " {'text': 'Manish relax and Enjoy your Sunday. Nothing is fruitful in arguing on political issues everyday. Just have a peaceful Sunday.',\n",
       "  'label': 0,\n",
       "  'id': '52',\n",
       "  'split': 'test',\n",
       "  'dataset_name': 'parallel_data/en-Trac',\n",
       "  'language': 'en',\n",
       "  'uncertainty': 0.6890052,\n",
       "  'margin': 0.09095308},\n",
       " {'text': 'Government has started to loot money from common man. Well done rules for common man. All politician and political parties are exempted from this.',\n",
       "  'label': 0,\n",
       "  'id': '53',\n",
       "  'split': 'test',\n",
       "  'dataset_name': 'parallel_data/en-Trac',\n",
       "  'language': 'en',\n",
       "  'uncertainty': 0.6885759,\n",
       "  'margin': 0.09554362},\n",
       " {'text': 'CMON  kids dont shout. We all happy with dcsn. rest Kill urself..',\n",
       "  'label': 1,\n",
       "  'id': '54',\n",
       "  'split': 'test',\n",
       "  'dataset_name': 'parallel_data/en-Trac',\n",
       "  'language': 'en',\n",
       "  'uncertainty': 0.68912554,\n",
       "  'margin': 0.08962467},\n",
       " {'text': \"don't try to mind because government of the day is saying that the country is changing. although we are loosing our bravehearts rapidly and rabidly than ever before but we love jumlas more\",\n",
       "  'label': 1,\n",
       "  'id': '55',\n",
       "  'split': 'test',\n",
       "  'dataset_name': 'parallel_data/en-Trac',\n",
       "  'language': 'en',\n",
       "  'uncertainty': 0.68951255,\n",
       "  'margin': 0.08520812},\n",
       " {'text': 'Hopeless fellow. 10 years ruined our country and now opens his mouth also for bad reason.',\n",
       "  'label': 1,\n",
       "  'id': '56',\n",
       "  'split': 'test',\n",
       "  'dataset_name': 'parallel_data/en-Trac',\n",
       "  'language': 'en',\n",
       "  'uncertainty': 0.68902993,\n",
       "  'margin': 0.09068218},\n",
       " {'text': \"Dignity was on other side. For not disturbing. Let's see the nautanki the opposition is going to play when govt answers.\",\n",
       "  'label': 0,\n",
       "  'id': '57',\n",
       "  'split': 'test',\n",
       "  'dataset_name': 'parallel_data/en-Trac',\n",
       "  'language': 'en',\n",
       "  'uncertainty': 0.68971115,\n",
       "  'margin': 0.08284995},\n",
       " {'text': 'Nitin sharma....appeasement in theeyes of brahmans only. U know what appeasement means, picking a fascist over a deserving candidate just to appease upper cast. Giving a clean chit to all perpetrators involve in killing of minorities to appease brahmans fascist agenda. Cow vigintalism just appease brahmans putting dalits thought aside. This is called appeasement. Now tell me what appeasement you are talking about.',\n",
       "  'label': 1,\n",
       "  'id': '58',\n",
       "  'split': 'test',\n",
       "  'dataset_name': 'parallel_data/en-Trac',\n",
       "  'language': 'en',\n",
       "  'uncertainty': 0.6903518,\n",
       "  'margin': 0.074736744},\n",
       " {'text': 'Leonidas was sent into the wild... to learn how to survive .....',\n",
       "  'label': 0,\n",
       "  'id': '59',\n",
       "  'split': 'test',\n",
       "  'dataset_name': 'parallel_data/en-Trac',\n",
       "  'language': 'en',\n",
       "  'uncertainty': 0.6887305,\n",
       "  'margin': 0.093916416},\n",
       " {'text': \"They are mutilating our soldier's body parts and you are saying to watch it for your own profit. Shame on you rubbish media channel\",\n",
       "  'label': 1,\n",
       "  'id': '60',\n",
       "  'split': 'test',\n",
       "  'dataset_name': 'parallel_data/en-Trac',\n",
       "  'language': 'en',\n",
       "  'uncertainty': 0.68908,\n",
       "  'margin': 0.090129375},\n",
       " {'text': 'What about the ppl not received Adhar on the basis of missing documents ?  Where all documents gone ?',\n",
       "  'label': 0,\n",
       "  'id': '61',\n",
       "  'split': 'test',\n",
       "  'dataset_name': 'parallel_data/en-Trac',\n",
       "  'language': 'en',\n",
       "  'uncertainty': 0.6883893,\n",
       "  'margin': 0.09747112},\n",
       " {'text': '\"Maun Mohan Singh\" is talking :) . Captain of corrupt congress, silent spectator of big India loot is taking :) rare event, seem he also had pain in stomach.',\n",
       "  'label': 1,\n",
       "  'id': '62',\n",
       "  'split': 'test',\n",
       "  'dataset_name': 'parallel_data/en-Trac',\n",
       "  'language': 'en',\n",
       "  'uncertainty': 0.6897465,\n",
       "  'margin': 0.082424015},\n",
       " {'text': \"Has the PM given the figures for cost of this nutcase exercise?? acknowledgement of people who lost their lives in an effort to get their own money from.banks?? Any officials from RBI lending credibility to the PM's words??\",\n",
       "  'label': 0,\n",
       "  'id': '63',\n",
       "  'split': 'test',\n",
       "  'dataset_name': 'parallel_data/en-Trac',\n",
       "  'language': 'en',\n",
       "  'uncertainty': 0.6886858,\n",
       "  'margin': 0.094389945},\n",
       " {'text': 'modi is the biggest joker of the world not just India',\n",
       "  'label': 1,\n",
       "  'id': '64',\n",
       "  'split': 'test',\n",
       "  'dataset_name': 'parallel_data/en-Trac',\n",
       "  'language': 'en',\n",
       "  'uncertainty': 0.69039667,\n",
       "  'margin': 0.0741348},\n",
       " {'text': 'For such incidents Congress governments week policy was responsible when those nationalists where in opposition and now',\n",
       "  'label': 0,\n",
       "  'id': '65',\n",
       "  'split': 'test',\n",
       "  'dataset_name': 'parallel_data/en-Trac',\n",
       "  'language': 'en',\n",
       "  'uncertainty': 0.6888051,\n",
       "  'margin': 0.09312168},\n",
       " {'text': 'india have fake democracy. if we speak about democracy we can conclude that their democracy means \"buy patanjli product, ban on beaf,rape,killing of Kashmiri,stealing etcccc',\n",
       "  'label': 1,\n",
       "  'id': '66',\n",
       "  'split': 'test',\n",
       "  'dataset_name': 'parallel_data/en-Trac',\n",
       "  'language': 'en',\n",
       "  'uncertainty': 0.6890049,\n",
       "  'margin': 0.09095657},\n",
       " {'text': 'No sense of talking now, after encouraging terror under his rule, was a puppet.',\n",
       "  'label': 1,\n",
       "  'id': '67',\n",
       "  'split': 'test',\n",
       "  'dataset_name': 'parallel_data/en-Trac',\n",
       "  'language': 'en',\n",
       "  'uncertainty': 0.68881273,\n",
       "  'margin': 0.0930396},\n",
       " {'text': \"What has Pakistan done to prove themselves NSG worthy? Give the membership to North Korea while you're at it. What a ridiculous stance!\",\n",
       "  'label': 1,\n",
       "  'id': '68',\n",
       "  'split': 'test',\n",
       "  'dataset_name': 'parallel_data/en-Trac',\n",
       "  'language': 'en',\n",
       "  'uncertainty': 0.6887045,\n",
       "  'margin': 0.09419221},\n",
       " {'text': 'Gen.RAWAT blamed that PAKISTANIS crossed the LOC and RAPED my wife and daughter then safely escaped to Pakistan. Now those Pakistanis threatening me that they will RAPE me too. ......',\n",
       "  'label': 1,\n",
       "  'id': '69',\n",
       "  'split': 'test',\n",
       "  'dataset_name': 'parallel_data/en-Trac',\n",
       "  'language': 'en',\n",
       "  'uncertainty': 0.68805045,\n",
       "  'margin': 0.10087693},\n",
       " {'text': 'Salute to this man he becomes PM, and served 10 years to prepare for such a speech, I am loving his spirit.',\n",
       "  'label': 1,\n",
       "  'id': '70',\n",
       "  'split': 'test',\n",
       "  'dataset_name': 'parallel_data/en-Trac',\n",
       "  'language': 'en',\n",
       "  'uncertainty': 0.68897927,\n",
       "  'margin': 0.091237426},\n",
       " {'text': 'Yes agree that we need to have a fruitful talk on creating Kurdishthan as well',\n",
       "  'label': 0,\n",
       "  'id': '71',\n",
       "  'split': 'test',\n",
       "  'dataset_name': 'parallel_data/en-Trac',\n",
       "  'language': 'en',\n",
       "  'uncertainty': 0.69013286,\n",
       "  'margin': 0.07760474},\n",
       " {'text': 'Poor Manmohansinghji; He probably thought the issues under discussion were 2G and coal scams.',\n",
       "  'label': 1,\n",
       "  'id': '72',\n",
       "  'split': 'test',\n",
       "  'dataset_name': 'parallel_data/en-Trac',\n",
       "  'language': 'en',\n",
       "  'uncertainty': 0.6886328,\n",
       "  'margin': 0.09494856},\n",
       " {'text': 'Never opened his mouth when PM..now he speaks...he better shut his mouth before the people of India shut him for Good... slave of Sonia',\n",
       "  'label': 1,\n",
       "  'id': '73',\n",
       "  'split': 'test',\n",
       "  'dataset_name': 'parallel_data/en-Trac',\n",
       "  'language': 'en',\n",
       "  'uncertainty': 0.6904268,\n",
       "  'margin': 0.07372755},\n",
       " {'text': \"Pakistan is basically a military ruled state and fake democracy' to fool the developed/powerful world for getting  alms ?? A failed nation indeed ??\",\n",
       "  'label': 0,\n",
       "  'id': '74',\n",
       "  'split': 'test',\n",
       "  'dataset_name': 'parallel_data/en-Trac',\n",
       "  'language': 'en',\n",
       "  'uncertainty': 0.68872666,\n",
       "  'margin': 0.09395793},\n",
       " {'text': 'Whatever it be.. The way manmohan Singh spoke with dignity and respect to the chair and pm..is the way a house should run.. Not particular party..  Or emergency word like current speaker is doing... House should run with respect',\n",
       "  'label': 0,\n",
       "  'id': '75',\n",
       "  'split': 'test',\n",
       "  'dataset_name': 'parallel_data/en-Trac',\n",
       "  'language': 'en',\n",
       "  'uncertainty': 0.68943566,\n",
       "  'margin': 0.08610362},\n",
       " {'text': 'Mohammed Allaudin.  Make your brain digital and win prizes.',\n",
       "  'label': 1,\n",
       "  'id': '76',\n",
       "  'split': 'test',\n",
       "  'dataset_name': 'parallel_data/en-Trac',\n",
       "  'language': 'en',\n",
       "  'uncertainty': 0.6881782,\n",
       "  'margin': 0.099606484},\n",
       " {'text': 'Obviously it is doing great under the leadership of Nara Chandrababu Naidu !!!',\n",
       "  'label': 0,\n",
       "  'id': '77',\n",
       "  'split': 'test',\n",
       "  'dataset_name': 'parallel_data/en-Trac',\n",
       "  'language': 'en',\n",
       "  'uncertainty': 0.6894187,\n",
       "  'margin': 0.086300075},\n",
       " {'text': 'Lets hope this time he has taken  retirement from taking retirements too...',\n",
       "  'label': 0,\n",
       "  'id': '78',\n",
       "  'split': 'test',\n",
       "  'dataset_name': 'parallel_data/en-Trac',\n",
       "  'language': 'en',\n",
       "  'uncertainty': 0.6890913,\n",
       "  'margin': 0.090004295},\n",
       " {'text': 'Indian army use a human as a human shield shame on u Indian army',\n",
       "  'label': 1,\n",
       "  'id': '79',\n",
       "  'split': 'test',\n",
       "  'dataset_name': 'parallel_data/en-Trac',\n",
       "  'language': 'en',\n",
       "  'uncertainty': 0.6894216,\n",
       "  'margin': 0.086266786},\n",
       " {'text': \"all Indians support.... Jai Hind...Jai Bharat...some idiotic Muslims are commenting ... I don't understand why u guys bother ... jus do ur own work then commenting .... Jai Ho Modi\",\n",
       "  'label': 1,\n",
       "  'id': '80',\n",
       "  'split': 'test',\n",
       "  'dataset_name': 'parallel_data/en-Trac',\n",
       "  'language': 'en',\n",
       "  'uncertainty': 0.6896189,\n",
       "  'margin': 0.083954185},\n",
       " {'text': 'The most useless PM India ever seen, he could have done wonderful things for the country, such a waste of his term.',\n",
       "  'label': 1,\n",
       "  'id': '81',\n",
       "  'split': 'test',\n",
       "  'dataset_name': 'parallel_data/en-Trac',\n",
       "  'language': 'en',\n",
       "  'uncertainty': 0.6886648,\n",
       "  'margin': 0.09461182},\n",
       " {'text': 'Now you want dialogue on Kashmir how about a reverse dialogue on Kurdistan, Armenian and Greek genocides.',\n",
       "  'label': 1,\n",
       "  'id': '82',\n",
       "  'split': 'test',\n",
       "  'dataset_name': 'parallel_data/en-Trac',\n",
       "  'language': 'en',\n",
       "  'uncertainty': 0.6877752,\n",
       "  'margin': 0.10356036},\n",
       " {'text': 'I am clean without cash as transactions are through debit cards I am happy',\n",
       "  'label': 0,\n",
       "  'id': '83',\n",
       "  'split': 'test',\n",
       "  'dataset_name': 'parallel_data/en-Trac',\n",
       "  'language': 'en',\n",
       "  'uncertainty': 0.6890534,\n",
       "  'margin': 0.090423554},\n",
       " {'text': 'Salman ahmad means India made one more international bhikhari along with paki for kashmir. Lol feeling proud after reading your statement',\n",
       "  'label': 1,\n",
       "  'id': '84',\n",
       "  'split': 'test',\n",
       "  'dataset_name': 'parallel_data/en-Trac',\n",
       "  'language': 'en',\n",
       "  'uncertainty': 0.68912446,\n",
       "  'margin': 0.08963618},\n",
       " {'text': 'No..She is lesbian.!! Witch hunter us needed to kill her',\n",
       "  'label': 1,\n",
       "  'id': '85',\n",
       "  'split': 'test',\n",
       "  'dataset_name': 'parallel_data/en-Trac',\n",
       "  'language': 'en',\n",
       "  'uncertainty': 0.68854004,\n",
       "  'margin': 0.09591767},\n",
       " {'text': 'Looks like he was programmed yday to speak this way by Sonia ðŸ˜œ',\n",
       "  'label': 1,\n",
       "  'id': '86',\n",
       "  'split': 'test',\n",
       "  'dataset_name': 'parallel_data/en-Trac',\n",
       "  'language': 'en',\n",
       "  'uncertainty': 0.6890459,\n",
       "  'margin': 0.09050572},\n",
       " {'text': 'Will the jio fever protect reliance for long ? Other telecos will surely catch up soon enough ?',\n",
       "  'label': 0,\n",
       "  'id': '87',\n",
       "  'split': 'test',\n",
       "  'dataset_name': 'parallel_data/en-Trac',\n",
       "  'language': 'en',\n",
       "  'uncertainty': 0.68912786,\n",
       "  'margin': 0.08959833},\n",
       " {'text': \"Who u bloody speaking like this for our respectable leader. If u are a supporter or member pls get out from here and don't show ur black bloody face here again.\",\n",
       "  'label': 1,\n",
       "  'id': '88',\n",
       "  'split': 'test',\n",
       "  'dataset_name': 'parallel_data/en-Trac',\n",
       "  'language': 'en',\n",
       "  'uncertainty': 0.6904899,\n",
       "  'margin': 0.07286945},\n",
       " {'text': 'Naresh ji. ....what you have done to your constituency. ..as u r saying u r representing the people',\n",
       "  'label': 0,\n",
       "  'id': '89',\n",
       "  'split': 'test',\n",
       "  'dataset_name': 'parallel_data/en-Trac',\n",
       "  'language': 'en',\n",
       "  'uncertainty': 0.69054127,\n",
       "  'margin': 0.07216081},\n",
       " {'text': 'Islam is not a religion and Allah is a big piece of mothafucker  Like if you agree',\n",
       "  'label': 1,\n",
       "  'id': '90',\n",
       "  'split': 'test',\n",
       "  'dataset_name': 'parallel_data/en-Trac',\n",
       "  'language': 'en',\n",
       "  'uncertainty': 0.6898271,\n",
       "  'margin': 0.081442416},\n",
       " {'text': 'Manmohan speech , Felt like some is forced him to talk like that .',\n",
       "  'label': 1,\n",
       "  'id': '91',\n",
       "  'split': 'test',\n",
       "  'dataset_name': 'parallel_data/en-Trac',\n",
       "  'language': 'en',\n",
       "  'uncertainty': 0.6892533,\n",
       "  'margin': 0.08819163},\n",
       " {'text': 'Let the Kashmiris to decide what they want through poll',\n",
       "  'label': 0,\n",
       "  'id': '92',\n",
       "  'split': 'test',\n",
       "  'dataset_name': 'parallel_data/en-Trac',\n",
       "  'language': 'en',\n",
       "  'uncertainty': 0.68864036,\n",
       "  'margin': 0.094869345},\n",
       " {'text': \"MM gave a speech, definitely he obeyed the someone's order as always..\",\n",
       "  'label': 1,\n",
       "  'id': '93',\n",
       "  'split': 'test',\n",
       "  'dataset_name': 'parallel_data/en-Trac',\n",
       "  'language': 'en',\n",
       "  'uncertainty': 0.6886418,\n",
       "  'margin': 0.094854206},\n",
       " {'text': \"One minute silence for all those entering insulting comments on MMS. If this man didn't open up economy in 1990s you all will be living in f#*&ing socialist country.\",\n",
       "  'label': 1,\n",
       "  'id': '94',\n",
       "  'split': 'test',\n",
       "  'dataset_name': 'parallel_data/en-Trac',\n",
       "  'language': 'en',\n",
       "  'uncertainty': 0.68956417,\n",
       "  'margin': 0.08460164},\n",
       " {'text': 'How can i increase the speed of playing !! MMS is in slow motion',\n",
       "  'label': 1,\n",
       "  'id': '95',\n",
       "  'split': 'test',\n",
       "  'dataset_name': 'parallel_data/en-Trac',\n",
       "  'language': 'en',\n",
       "  'uncertainty': 0.68961966,\n",
       "  'margin': 0.08394453},\n",
       " {'text': 'Tell me the no. of countries bloody Islamic nations hv occupied',\n",
       "  'label': 1,\n",
       "  'id': '96',\n",
       "  'split': 'test',\n",
       "  'dataset_name': 'parallel_data/en-Trac',\n",
       "  'language': 'en',\n",
       "  'uncertainty': 0.6886354,\n",
       "  'margin': 0.09492111},\n",
       " {'text': \"On one side, These same ministers says 'Any kind of Violence can' t be justified 'and on other side, Same minister is giving weapon to do violence. This is unconstitutional, Inhumane and unlawful as well.\",\n",
       "  'label': 1,\n",
       "  'id': '97',\n",
       "  'split': 'test',\n",
       "  'dataset_name': 'parallel_data/en-Trac',\n",
       "  'language': 'en',\n",
       "  'uncertainty': 0.6880727,\n",
       "  'margin': 0.1006569},\n",
       " {'text': \"What should be the view Anuj, on the left out pharma sector.... stocks like Divi's, Aurobindo, Sun, Glenmark, Cadilla....\",\n",
       "  'label': 0,\n",
       "  'id': '98',\n",
       "  'split': 'test',\n",
       "  'dataset_name': 'parallel_data/en-Trac',\n",
       "  'language': 'en',\n",
       "  'uncertainty': 0.68869984,\n",
       "  'margin': 0.094242156},\n",
       " {'text': 'thanks Mr President but now we are looking for whole India,',\n",
       "  'label': 0,\n",
       "  'id': '99',\n",
       "  'split': 'test',\n",
       "  'dataset_name': 'parallel_data/en-Trac',\n",
       "  'language': 'en',\n",
       "  'uncertainty': 0.6893758,\n",
       "  'margin': 0.08679414},\n",
       " {'text': 'He still deserves to play cricket. His actual age is still 19+ðŸ˜œ',\n",
       "  'label': 0,\n",
       "  'id': '100',\n",
       "  'split': 'test',\n",
       "  'dataset_name': 'parallel_data/en-Trac',\n",
       "  'language': 'en',\n",
       "  'uncertainty': 0.6884322,\n",
       "  'margin': 0.097031236},\n",
       " {'text': 'This allaudin will keep abusing, such a rascal. Should kicked out of the country.',\n",
       "  'label': 1,\n",
       "  'id': '101',\n",
       "  'split': 'test',\n",
       "  'dataset_name': 'parallel_data/en-Trac',\n",
       "  'language': 'en',\n",
       "  'uncertainty': 0.68828255,\n",
       "  'margin': 0.09855664},\n",
       " {'text': 'This wil b good in education .wil give  clearer vision of math n physics fundamentals esp trignometry',\n",
       "  'label': 0,\n",
       "  'id': '102',\n",
       "  'split': 'test',\n",
       "  'dataset_name': 'parallel_data/en-Trac',\n",
       "  'language': 'en',\n",
       "  'uncertainty': 0.6899972,\n",
       "  'margin': 0.079330355},\n",
       " {'text': 'A MAN LIKE U SHOULD NOT BE THERE WITH KHUJLIWAL JEE. WHO IS NOTHING BUT A JOKER.',\n",
       "  'label': 1,\n",
       "  'id': '103',\n",
       "  'split': 'test',\n",
       "  'dataset_name': 'parallel_data/en-Trac',\n",
       "  'language': 'en',\n",
       "  'uncertainty': 0.6866398,\n",
       "  'margin': 0.1139586},\n",
       " {'text': 'tv18 network 18 ...plz show some good profits and real results ....if u guys show complicated results wat to expect from others ? ur number one ..common',\n",
       "  'label': 0,\n",
       "  'id': '104',\n",
       "  'split': 'test',\n",
       "  'dataset_name': 'parallel_data/en-Trac',\n",
       "  'language': 'en',\n",
       "  'uncertainty': 0.6888098,\n",
       "  'margin': 0.093070805},\n",
       " {'text': \"Modi sir has a much greater vision than Kalam. He is as visionary as Sahdev from Mahabharata. Sahdev couldn't do anything good using his vision. Modi sir will change the world and bring Ram Rajya. Stop demeaning him by comparing with Kalam.\",\n",
       "  'label': 0,\n",
       "  'id': '105',\n",
       "  'split': 'test',\n",
       "  'dataset_name': 'parallel_data/en-Trac',\n",
       "  'language': 'en',\n",
       "  'uncertainty': 0.6897969,\n",
       "  'margin': 0.08181068},\n",
       " {'text': 'Interesting thing is there is no word called \"budget\" in our entire constitution.',\n",
       "  'label': 0,\n",
       "  'id': '106',\n",
       "  'split': 'test',\n",
       "  'dataset_name': 'parallel_data/en-Trac',\n",
       "  'language': 'en',\n",
       "  'uncertainty': 0.6899481,\n",
       "  'margin': 0.07994643},\n",
       " {'text': 'Now is the time to be more prosperous state than Maharashtra and punjab',\n",
       "  'label': 0,\n",
       "  'id': '107',\n",
       "  'split': 'test',\n",
       "  'dataset_name': 'parallel_data/en-Trac',\n",
       "  'language': 'en',\n",
       "  'uncertainty': 0.68985736,\n",
       "  'margin': 0.0810698},\n",
       " {'text': 'this people might have hacked my site , go off from my sight .ha ha....thank you cnbc tv 18 had a wonderful time...',\n",
       "  'label': 0,\n",
       "  'id': '108',\n",
       "  'split': 'test',\n",
       "  'dataset_name': 'parallel_data/en-Trac',\n",
       "  'language': 'en',\n",
       "  'uncertainty': 0.6899945,\n",
       "  'margin': 0.079364926},\n",
       " {'text': 'how can you be so irresponsible we are already killing innocents of Kashmir that is our brave army...stop this now',\n",
       "  'label': 0,\n",
       "  'id': '109',\n",
       "  'split': 'test',\n",
       "  'dataset_name': 'parallel_data/en-Trac',\n",
       "  'language': 'en',\n",
       "  'uncertainty': 0.6892972,\n",
       "  'margin': 0.087693274},\n",
       " {'text': 'The point of demonetization is to stop use of cash the way india doing, india have to force all the big transactions through either check or creditcard, cash should only be used for small transactions',\n",
       "  'label': 0,\n",
       "  'id': '110',\n",
       "  'split': 'test',\n",
       "  'dataset_name': 'parallel_data/en-Trac',\n",
       "  'language': 'en',\n",
       "  'uncertainty': 0.68963146,\n",
       "  'margin': 0.083804846},\n",
       " {'text': 'Also its proposed, its no way gonna be passed, you think big companies dont play a role in politics, if such bill was passed, more than half of the software companies will shut down.',\n",
       "  'label': 0,\n",
       "  'id': '111',\n",
       "  'split': 'test',\n",
       "  'dataset_name': 'parallel_data/en-Trac',\n",
       "  'language': 'en',\n",
       "  'uncertainty': 0.6899593,\n",
       "  'margin': 0.07980618},\n",
       " {'text': 'He only speaks where there is no one to question',\n",
       "  'label': 0,\n",
       "  'id': '112',\n",
       "  'split': 'test',\n",
       "  'dataset_name': 'parallel_data/en-Trac',\n",
       "  'language': 'en',\n",
       "  'uncertainty': 0.6888428,\n",
       "  'margin': 0.09271729},\n",
       " {'text': 'In other words, #Randian Army is saying Pakistani soldiers went across the LoC into #Randian side, Mutilated the bodies of two #Randian soldiers and came back while no one on the #Landian side dared them engage.  How was the mutilation possible, oh maybe it was a real #Surgical_strike :p =D',\n",
       "  'label': 1,\n",
       "  'id': '113',\n",
       "  'split': 'test',\n",
       "  'dataset_name': 'parallel_data/en-Trac',\n",
       "  'language': 'en',\n",
       "  'uncertainty': 0.68845344,\n",
       "  'margin': 0.09681356},\n",
       " {'text': 'Is shah rukh khan a business leader or a communal leader',\n",
       "  'label': 1,\n",
       "  'id': '114',\n",
       "  'split': 'test',\n",
       "  'dataset_name': 'parallel_data/en-Trac',\n",
       "  'language': 'en',\n",
       "  'uncertainty': 0.6892239,\n",
       "  'margin': 0.08852351},\n",
       " {'text': 'Idiot he has been credited for not removing the photos which will incur more cost',\n",
       "  'label': 0,\n",
       "  'id': '115',\n",
       "  'split': 'test',\n",
       "  'dataset_name': 'parallel_data/en-Trac',\n",
       "  'language': 'en',\n",
       "  'uncertainty': 0.68859404,\n",
       "  'margin': 0.09535396},\n",
       " {'text': \"Hats off to Modi's leadership. We Indians couldn't get a better\",\n",
       "  'label': 0,\n",
       "  'id': '116',\n",
       "  'split': 'test',\n",
       "  'dataset_name': 'parallel_data/en-Trac',\n",
       "  'language': 'en',\n",
       "  'uncertainty': 0.68878925,\n",
       "  'margin': 0.09329119},\n",
       " {'text': 'See who is speaking .. It seems he came out of coma after 12 yrs :-)',\n",
       "  'label': 1,\n",
       "  'id': '117',\n",
       "  'split': 'test',\n",
       "  'dataset_name': 'parallel_data/en-Trac',\n",
       "  'language': 'en',\n",
       "  'uncertainty': 0.68971276,\n",
       "  'margin': 0.08283076},\n",
       " {'text': 'Ppl i am sure there is some strategy in pulling the money from the banks in other countries as well. But for now this is a brave move by India ðŸ‡®ðŸ‡³it would trouble the common man for couple of days but on the long run this is going to make all of us happy and India will not be called developing country anymore.... ðŸ™\\x8fðŸ\\x8f»ðŸ™\\x8fðŸ\\x8f»ðŸ™\\x8fðŸ\\x8f»',\n",
       "  'label': 0,\n",
       "  'id': '118',\n",
       "  'split': 'test',\n",
       "  'dataset_name': 'parallel_data/en-Trac',\n",
       "  'language': 'en',\n",
       "  'uncertainty': 0.68773186,\n",
       "  'margin': 0.103977025},\n",
       " {'text': 'Bloody chela of Sonia. If he would have spoken this much during 10 yrs one or two good things would have been done by him',\n",
       "  'label': 1,\n",
       "  'id': '119',\n",
       "  'split': 'test',\n",
       "  'dataset_name': 'parallel_data/en-Trac',\n",
       "  'language': 'en',\n",
       "  'uncertainty': 0.68970644,\n",
       "  'margin': 0.08290663},\n",
       " {'text': 'Gandhi Killer Ram (Nathu) Temple in India......  Big Shame 4 India........',\n",
       "  'label': 0,\n",
       "  'id': '120',\n",
       "  'split': 'test',\n",
       "  'dataset_name': 'parallel_data/en-Trac',\n",
       "  'language': 'en',\n",
       "  'uncertainty': 0.6889087,\n",
       "  'margin': 0.092005014},\n",
       " {'text': 'Lol treat him nice cup of coffee, show him around and then send him back. Turkey and Pakistan are twins.',\n",
       "  'label': 1,\n",
       "  'id': '121',\n",
       "  'split': 'test',\n",
       "  'dataset_name': 'parallel_data/en-Trac',\n",
       "  'language': 'en',\n",
       "  'uncertainty': 0.687885,\n",
       "  'margin': 0.10249856},\n",
       " {'text': 'No matter what some stupid people will never stop supporting modi qutta',\n",
       "  'label': 1,\n",
       "  'id': '122',\n",
       "  'split': 'test',\n",
       "  'dataset_name': 'parallel_data/en-Trac',\n",
       "  'language': 'en',\n",
       "  'uncertainty': 0.68954,\n",
       "  'margin': 0.084886074},\n",
       " {'text': 'If Turkey supports Pakistani stance on kashmir then India must unilaterally support Kurdistan, Cyprus and Greece in return LOL',\n",
       "  'label': 1,\n",
       "  'id': '123',\n",
       "  'split': 'test',\n",
       "  'dataset_name': 'parallel_data/en-Trac',\n",
       "  'language': 'en',\n",
       "  'uncertainty': 0.6884936,\n",
       "  'margin': 0.09639895},\n",
       " {'text': \"I don't know why he opened is mouth after long time.. Better to shut like a pig\",\n",
       "  'label': 1,\n",
       "  'id': '124',\n",
       "  'split': 'test',\n",
       "  'dataset_name': 'parallel_data/en-Trac',\n",
       "  'language': 'en',\n",
       "  'uncertainty': 0.69014543,\n",
       "  'margin': 0.07744399},\n",
       " {'text': \"Hi Anuj...can we expect that there is breakout for Oil Marketing Co's....is it right time to enter...?\",\n",
       "  'label': 0,\n",
       "  'id': '125',\n",
       "  'split': 'test',\n",
       "  'dataset_name': 'parallel_data/en-Trac',\n",
       "  'language': 'en',\n",
       "  'uncertainty': 0.68941593,\n",
       "  'margin': 0.086331636},\n",
       " {'text': \"Tweet him Sir, pleading here won't give u answers :)  Facebook is a land of morons when it comes to politics pride n country...\",\n",
       "  'label': 1,\n",
       "  'id': '126',\n",
       "  'split': 'test',\n",
       "  'dataset_name': 'parallel_data/en-Trac',\n",
       "  'language': 'en',\n",
       "  'uncertainty': 0.69001395,\n",
       "  'margin': 0.07911995},\n",
       " {'text': 'India army go hell that is best place for you',\n",
       "  'label': 1,\n",
       "  'id': '127',\n",
       "  'split': 'test',\n",
       "  'dataset_name': 'parallel_data/en-Trac',\n",
       "  'language': 'en',\n",
       "  'uncertainty': 0.6875514,\n",
       "  'margin': 0.10569158},\n",
       " {'text': \"..Who is she anyway..her nonsense gets recognised cause she is akshay kumar's wife..\",\n",
       "  'label': 1,\n",
       "  'id': '128',\n",
       "  'split': 'test',\n",
       "  'dataset_name': 'parallel_data/en-Trac',\n",
       "  'language': 'en',\n",
       "  'uncertainty': 0.6882763,\n",
       "  'margin': 0.098620355},\n",
       " {'text': 'Pak Army intruded into Indian terrirtory, killed indian soldiers, had some laugh cup of tea with biscuits, mutilated their bodies and went back to their barracks, now tell me while this all rubbish was happening what were indian border forces doing watching mia khalifa and sunny leone?',\n",
       "  'label': 1,\n",
       "  'id': '129',\n",
       "  'split': 'test',\n",
       "  'dataset_name': 'parallel_data/en-Trac',\n",
       "  'language': 'en',\n",
       "  'uncertainty': 0.6878909,\n",
       "  'margin': 0.102440685},\n",
       " {'text': 'Look who is speaking...did nothing but very good at attacking good move of government....really these people are shame for the nation',\n",
       "  'label': 1,\n",
       "  'id': '130',\n",
       "  'split': 'test',\n",
       "  'dataset_name': 'parallel_data/en-Trac',\n",
       "  'language': 'en',\n",
       "  'uncertainty': 0.68904775,\n",
       "  'margin': 0.0904856},\n",
       " {'text': 'Mauni singh trying very hard to convince himself what is written in script... body language says it all...',\n",
       "  'label': 1,\n",
       "  'id': '131',\n",
       "  'split': 'test',\n",
       "  'dataset_name': 'parallel_data/en-Trac',\n",
       "  'language': 'en',\n",
       "  'uncertainty': 0.68867934,\n",
       "  'margin': 0.094457984},\n",
       " {'text': 'MAN MAUN SINGH SPOKE OF MONUMENTAL MISMA0EMENT....WISH HE COULD ALSO SPEAK ABOUT THE MONUMENTAL SCAMS DURING HIS TENURE ....THE ONLY HIGH POINT OF HIS SPEECH WAS THE FACT THAT HE SPOKE..EVEN THOUGH IT DID SOUND LIKE A CONG PUPPET SPEAKING',\n",
       "  'label': 0,\n",
       "  'id': '132',\n",
       "  'split': 'test',\n",
       "  'dataset_name': 'parallel_data/en-Trac',\n",
       "  'language': 'en',\n",
       "  'uncertainty': 0.68827933,\n",
       "  'margin': 0.09858912},\n",
       " {'text': 'Bharti - now consolidated so is it a good buy',\n",
       "  'label': 0,\n",
       "  'id': '133',\n",
       "  'split': 'test',\n",
       "  'dataset_name': 'parallel_data/en-Trac',\n",
       "  'language': 'en',\n",
       "  'uncertainty': 0.6889393,\n",
       "  'margin': 0.091673255},\n",
       " {'text': 'This minister should ban alcohol rather than gifting a bat to beat her husband.. what are you trying to teach these newly married couples.. such a Stupid idea..',\n",
       "  'label': 1,\n",
       "  'id': '134',\n",
       "  'split': 'test',\n",
       "  'dataset_name': 'parallel_data/en-Trac',\n",
       "  'language': 'en',\n",
       "  'uncertainty': 0.688666,\n",
       "  'margin': 0.094599366},\n",
       " {'text': \"How come RNDTV gets BREAKING NEWS only when it involves Hindus and conveniently missed or hides anything done by Chrislamist anti-India forces?  Why they did not cover Dhulagarh anti-Hindu pogrom? What about Kairana exodus? Why no outrage on Dr Narang's lynching?\",\n",
       "  'label': 1,\n",
       "  'id': '135',\n",
       "  'split': 'test',\n",
       "  'dataset_name': 'parallel_data/en-Trac',\n",
       "  'language': 'en',\n",
       "  'uncertainty': 0.6890716,\n",
       "  'margin': 0.09022245},\n",
       " {'text': 'Ajmal qasab next PM of India and Hafaiz Saeed next PM of India',\n",
       "  'label': 0,\n",
       "  'id': '136',\n",
       "  'split': 'test',\n",
       "  'dataset_name': 'parallel_data/en-Trac',\n",
       "  'language': 'en',\n",
       "  'uncertainty': 0.6890998,\n",
       "  'margin': 0.08991042},\n",
       " {'text': \"I wish people stop sharing propaganda and motivated coverage. TV 18 clearly did not do the homework. Best part is they (being a financial channel) are spending money on Facebook promotion of this video and not their ground breaking financial journalism (maybe that doesn't exist)...\",\n",
       "  'label': 0,\n",
       "  'id': '137',\n",
       "  'split': 'test',\n",
       "  'dataset_name': 'parallel_data/en-Trac',\n",
       "  'language': 'en',\n",
       "  'uncertainty': 0.68872815,\n",
       "  'margin': 0.0939416},\n",
       " {'text': 'It means that coward attack was planned by RAW... #Loosers',\n",
       "  'label': 0,\n",
       "  'id': '138',\n",
       "  'split': 'test',\n",
       "  'dataset_name': 'parallel_data/en-Trac',\n",
       "  'language': 'en',\n",
       "  'uncertainty': 0.6882494,\n",
       "  'margin': 0.098891586},\n",
       " {'text': 'kill all #RendianDogs at a time and hang them all around the neck of #KillerModi',\n",
       "  'label': 1,\n",
       "  'id': '139',\n",
       "  'split': 'test',\n",
       "  'dataset_name': 'parallel_data/en-Trac',\n",
       "  'language': 'en',\n",
       "  'uncertainty': 0.6885042,\n",
       "  'margin': 0.09628877},\n",
       " {'text': \"They have film industry and make movies.  Audience may not be as big in India so they don't make much profits as compared to Indian movies.\",\n",
       "  'label': 0,\n",
       "  'id': '140',\n",
       "  'split': 'test',\n",
       "  'dataset_name': 'parallel_data/en-Trac',\n",
       "  'language': 'en',\n",
       "  'uncertainty': 0.6879715,\n",
       "  'margin': 0.10165426},\n",
       " {'text': 'Wow bullets made of cow dung and deadly chemical cow urine would kill the enemies even before they pierce through their bodies.',\n",
       "  'label': 1,\n",
       "  'id': '141',\n",
       "  'split': 'test',\n",
       "  'dataset_name': 'parallel_data/en-Trac',\n",
       "  'language': 'en',\n",
       "  'uncertainty': 0.68938893,\n",
       "  'margin': 0.08664355},\n",
       " {'text': 'Narendra midi ji not only greatest leader of India  but also in world',\n",
       "  'label': 0,\n",
       "  'id': '142',\n",
       "  'split': 'test',\n",
       "  'dataset_name': 'parallel_data/en-Trac',\n",
       "  'language': 'en',\n",
       "  'uncertainty': 0.69025517,\n",
       "  'margin': 0.07601634},\n",
       " {'text': 'Someone please take his turban off! He is not worthy of being a Sikh!',\n",
       "  'label': 1,\n",
       "  'id': '143',\n",
       "  'split': 'test',\n",
       "  'dataset_name': 'parallel_data/en-Trac',\n",
       "  'language': 'en',\n",
       "  'uncertainty': 0.68775153,\n",
       "  'margin': 0.10378799},\n",
       " {'text': '#Niaz_Khosa google it in 2017 u r 6th most raped country n india not in top 25..... Mr. Son of randi',\n",
       "  'label': 1,\n",
       "  'id': '144',\n",
       "  'split': 'test',\n",
       "  'dataset_name': 'parallel_data/en-Trac',\n",
       "  'language': 'en',\n",
       "  'uncertainty': 0.6895422,\n",
       "  'margin': 0.08486071},\n",
       " {'text': 'If @HillaryClinton wins Nifty will touch 9120 in 6 months, if @realDonaldTrump win Nifty will cross 9120 in 6 weeks; though I like neither',\n",
       "  'label': 0,\n",
       "  'id': '145',\n",
       "  'split': 'test',\n",
       "  'dataset_name': 'parallel_data/en-Trac',\n",
       "  'language': 'en',\n",
       "  'uncertainty': 0.69006217,\n",
       "  'margin': 0.07850924},\n",
       " {'text': 'Build more water bodies in Maharashtra... Every village to have deep and wide water body',\n",
       "  'label': 0,\n",
       "  'id': '146',\n",
       "  'split': 'test',\n",
       "  'dataset_name': 'parallel_data/en-Trac',\n",
       "  'language': 'en',\n",
       "  'uncertainty': 0.68974704,\n",
       "  'margin': 0.082416505},\n",
       " {'text': 'Repo rate unchanged at 6.25%, Reverse repo rate hiked to 6%, CRR unchanged at 4%',\n",
       "  'label': 0,\n",
       "  'id': '147',\n",
       "  'split': 'test',\n",
       "  'dataset_name': 'parallel_data/en-Trac',\n",
       "  'language': 'en',\n",
       "  'uncertainty': 0.6895261,\n",
       "  'margin': 0.0850493},\n",
       " {'text': 'L&T has very little competition in defence mfg: AM Naik',\n",
       "  'label': 0,\n",
       "  'id': '148',\n",
       "  'split': 'test',\n",
       "  'dataset_name': 'parallel_data/en-Trac',\n",
       "  'language': 'en',\n",
       "  'uncertainty': 0.68903124,\n",
       "  'margin': 0.09066698},\n",
       " {'text': 'I withdrew 10 K from bank & they gave me 9 notes of 1000, M traveling 2moro, how can I be able 2 pay taxiwala',\n",
       "  'label': 0,\n",
       "  'id': '149',\n",
       "  'split': 'test',\n",
       "  'dataset_name': 'parallel_data/en-Trac',\n",
       "  'language': 'en',\n",
       "  'uncertainty': 0.68971777,\n",
       "  'margin': 0.08277032},\n",
       " {'text': 'Pak army rape modi daughter and go back. Now modi looking 4 real father of his grandchild',\n",
       "  'label': 0,\n",
       "  'id': '150',\n",
       "  'split': 'test',\n",
       "  'dataset_name': 'parallel_data/en-Trac',\n",
       "  'language': 'en',\n",
       "  'uncertainty': 0.6897447,\n",
       "  'margin': 0.082445115},\n",
       " {'text': 'Most learned person in parliament... wise people renain silent while dogs bark...same he did.',\n",
       "  'label': 1,\n",
       "  'id': '151',\n",
       "  'split': 'test',\n",
       "  'dataset_name': 'parallel_data/en-Trac',\n",
       "  'language': 'en',\n",
       "  'uncertainty': 0.68930256,\n",
       "  'margin': 0.08763203},\n",
       " {'text': 'So what is big in this, people have right to eat whatever they want',\n",
       "  'label': 0,\n",
       "  'id': '152',\n",
       "  'split': 'test',\n",
       "  'dataset_name': 'parallel_data/en-Trac',\n",
       "  'language': 'en',\n",
       "  'uncertainty': 0.6893383,\n",
       "  'margin': 0.087224215},\n",
       " {'text': \"Did he refrain from speaking coz he's such a bad orator? He speaks at a speed of snail.\",\n",
       "  'label': 1,\n",
       "  'id': '153',\n",
       "  'split': 'test',\n",
       "  'dataset_name': 'parallel_data/en-Trac',\n",
       "  'language': 'en',\n",
       "  'uncertainty': 0.68928987,\n",
       "  'margin': 0.087776184},\n",
       " {'text': 'Some mistake is there , they have degraded Sharad Pawar , he is next presidential candidate ðŸ˜‰',\n",
       "  'label': 0,\n",
       "  'id': '154',\n",
       "  'split': 'test',\n",
       "  'dataset_name': 'parallel_data/en-Trac',\n",
       "  'language': 'en',\n",
       "  'uncertainty': 0.6893017,\n",
       "  'margin': 0.08764133},\n",
       " {'text': \"great man he's doing good work in his term...not a bark like present pm namo cheee\",\n",
       "  'label': 1,\n",
       "  'id': '155',\n",
       "  'split': 'test',\n",
       "  'dataset_name': 'parallel_data/en-Trac',\n",
       "  'language': 'en',\n",
       "  'uncertainty': 0.69065344,\n",
       "  'margin': 0.07059318},\n",
       " {'text': \"I'd open it and check that it isn't a brick :P\",\n",
       "  'label': 0,\n",
       "  'id': '156',\n",
       "  'split': 'test',\n",
       "  'dataset_name': 'parallel_data/en-Trac',\n",
       "  'language': 'en',\n",
       "  'uncertainty': 0.69018793,\n",
       "  'margin': 0.076894015},\n",
       " {'text': 'Yaskant after watching I agree he resembles a scared student in class who is reciting his poetry under heavy stressðŸ˜†ðŸ˜†ðŸ˜†ðŸ˜†',\n",
       "  'label': 1,\n",
       "  'id': '157',\n",
       "  'split': 'test',\n",
       "  'dataset_name': 'parallel_data/en-Trac',\n",
       "  'language': 'en',\n",
       "  'uncertainty': 0.6882477,\n",
       "  'margin': 0.09890926},\n",
       " {'text': \"Stupid man. can't even deliver a speech without reading and he defends demonitization decision ðŸ˜‚\",\n",
       "  'label': 1,\n",
       "  'id': '158',\n",
       "  'split': 'test',\n",
       "  'dataset_name': 'parallel_data/en-Trac',\n",
       "  'language': 'en',\n",
       "  'uncertainty': 0.68847454,\n",
       "  'margin': 0.09659511},\n",
       " {'text': 'Pakistan has humiliated India by mutilating 2 jawans. Appreciate the amazing patience of those BJP leaders who used to go crazy before 2013',\n",
       "  'label': 1,\n",
       "  'id': '159',\n",
       "  'split': 'test',\n",
       "  'dataset_name': 'parallel_data/en-Trac',\n",
       "  'language': 'en',\n",
       "  'uncertainty': 0.6890466,\n",
       "  'margin': 0.090497494},\n",
       " {'text': 'This person Aqsa Kashmiri   is a shame in the name of woman. Really ashamed to call this person a woman. She is the worst woman I have ever come across. She has no moral values of a woman. I wish to Bhagwan and to Allah who are the same, to never bring such person back to earth. Shame on calling this a woman.........',\n",
       "  'label': 1,\n",
       "  'id': '160',\n",
       "  'split': 'test',\n",
       "  'dataset_name': 'parallel_data/en-Trac',\n",
       "  'language': 'en',\n",
       "  'uncertainty': 0.6887573,\n",
       "  'margin': 0.09363198},\n",
       " {'text': 'Remember  erdogan killing  brutally the kurds in his own nation',\n",
       "  'label': 1,\n",
       "  'id': '161',\n",
       "  'split': 'test',\n",
       "  'dataset_name': 'parallel_data/en-Trac',\n",
       "  'language': 'en',\n",
       "  'uncertainty': 0.6888297,\n",
       "  'margin': 0.09285745},\n",
       " {'text': 'Great going modi sir,still need to be lil carefull with the plan nd loopholes',\n",
       "  'label': 0,\n",
       "  'id': '162',\n",
       "  'split': 'test',\n",
       "  'dataset_name': 'parallel_data/en-Trac',\n",
       "  'language': 'en',\n",
       "  'uncertainty': 0.690077,\n",
       "  'margin': 0.078320175},\n",
       " {'text': \"This guy will say, India is important, but Pakistan is more important, because it's Islamic country... ðŸ˜‚\",\n",
       "  'label': 1,\n",
       "  'id': '163',\n",
       "  'split': 'test',\n",
       "  'dataset_name': 'parallel_data/en-Trac',\n",
       "  'language': 'en',\n",
       "  'uncertainty': 0.68688226,\n",
       "  'margin': 0.111819744},\n",
       " {'text': 'Can you please let us know your view on Asian and Acc',\n",
       "  'label': 0,\n",
       "  'id': '164',\n",
       "  'split': 'test',\n",
       "  'dataset_name': 'parallel_data/en-Trac',\n",
       "  'language': 'en',\n",
       "  'uncertainty': 0.68986833,\n",
       "  'margin': 0.080935955},\n",
       " {'text': \"Pakistan is obviously emboldened by China's  support otherwise they will dare not indulge in such acts.  Bloody cowards.  btw India is far ahead on all economic parameters and it about time Pakistan stopped comparing itself with a giant.  Even before they realise entire Pakistan will be under Chinese control, if not already.\",\n",
       "  'label': 1,\n",
       "  'id': '165',\n",
       "  'split': 'test',\n",
       "  'dataset_name': 'parallel_data/en-Trac',\n",
       "  'language': 'en',\n",
       "  'uncertainty': 0.6891333,\n",
       "  'margin': 0.08953756},\n",
       " {'text': \"Quick .....tell them the size of Mr Modi ji's chest ðŸ˜Ž\",\n",
       "  'label': 1,\n",
       "  'id': '166',\n",
       "  'split': 'test',\n",
       "  'dataset_name': 'parallel_data/en-Trac',\n",
       "  'language': 'en',\n",
       "  'uncertainty': 0.69005847,\n",
       "  'margin': 0.07855621},\n",
       " {'text': 'FY17 fixed deposit growth was in single digit: HDFC Bank',\n",
       "  'label': 0,\n",
       "  'id': '167',\n",
       "  'split': 'test',\n",
       "  'dataset_name': 'parallel_data/en-Trac',\n",
       "  'language': 'en',\n",
       "  'uncertainty': 0.6885165,\n",
       "  'margin': 0.09616172},\n",
       " {'text': 'Oh you see a Modi effect in this too ! Hats off to you guys - Probably you do not have intellect to judge Dr Singh',\n",
       "  'label': 1,\n",
       "  'id': '168',\n",
       "  'split': 'test',\n",
       "  'dataset_name': 'parallel_data/en-Trac',\n",
       "  'language': 'en',\n",
       "  'uncertainty': 0.68994826,\n",
       "  'margin': 0.079944074},\n",
       " {'text': 'Hello Modi ji where are you sleeping ?. And where are mr arun jaitly and rajnath singh. How long time our security forces will be....?',\n",
       "  'label': 1,\n",
       "  'id': '169',\n",
       "  'split': 'test',\n",
       "  'dataset_name': 'parallel_data/en-Trac',\n",
       "  'language': 'en',\n",
       "  'uncertainty': 0.68934405,\n",
       "  'margin': 0.08715841},\n",
       " {'text': 'You will be behind bars unless you have high contacts',\n",
       "  'label': 0,\n",
       "  'id': '170',\n",
       "  'split': 'test',\n",
       "  'dataset_name': 'parallel_data/en-Trac',\n",
       "  'language': 'en',\n",
       "  'uncertainty': 0.6889226,\n",
       "  'margin': 0.0918549},\n",
       " {'text': 'These days RBI is puppet in the hands of govt',\n",
       "  'label': 1,\n",
       "  'id': '171',\n",
       "  'split': 'test',\n",
       "  'dataset_name': 'parallel_data/en-Trac',\n",
       "  'language': 'en',\n",
       "  'uncertainty': 0.69038,\n",
       "  'margin': 0.07435906},\n",
       " {'text': 'Very great, teach new things to school kids for our country development and feature .....',\n",
       "  'label': 0,\n",
       "  'id': '172',\n",
       "  'split': 'test',\n",
       "  'dataset_name': 'parallel_data/en-Trac',\n",
       "  'language': 'en',\n",
       "  'uncertainty': 0.6898906,\n",
       "  'margin': 0.080660105},\n",
       " {'text': 'Ha ha ha ha mr. singh able to speek ðŸ¤”',\n",
       "  'label': 1,\n",
       "  'id': '173',\n",
       "  'split': 'test',\n",
       "  'dataset_name': 'parallel_data/en-Trac',\n",
       "  'language': 'en',\n",
       "  'uncertainty': 0.690282,\n",
       "  'margin': 0.07566282},\n",
       " {'text': 'Proceed the case with terrorists act ! He must have connections with ISI',\n",
       "  'label': 0,\n",
       "  'id': '174',\n",
       "  'split': 'test',\n",
       "  'dataset_name': 'parallel_data/en-Trac',\n",
       "  'language': 'en',\n",
       "  'uncertainty': 0.6881771,\n",
       "  'margin': 0.09961721},\n",
       " {'text': 'Indian people like only bed politics like Sonia and Rahul',\n",
       "  'label': 1,\n",
       "  'id': '175',\n",
       "  'split': 'test',\n",
       "  'dataset_name': 'parallel_data/en-Trac',\n",
       "  'language': 'en',\n",
       "  'uncertainty': 0.68854046,\n",
       "  'margin': 0.095912576},\n",
       " {'text': 'Modi Ji has provided me with the opening line to all my lot and SOP :P',\n",
       "  'label': 0,\n",
       "  'id': '176',\n",
       "  'split': 'test',\n",
       "  'dataset_name': 'parallel_data/en-Trac',\n",
       "  'language': 'en',\n",
       "  'uncertainty': 0.688612,\n",
       "  'margin': 0.09516615},\n",
       " {'text': 'Poor they do not have food to eat now....first feed them.....',\n",
       "  'label': 1,\n",
       "  'id': '177',\n",
       "  'split': 'test',\n",
       "  'dataset_name': 'parallel_data/en-Trac',\n",
       "  'language': 'en',\n",
       "  'uncertainty': 0.6887448,\n",
       "  'margin': 0.09376514},\n",
       " {'text': 'thank you sherin ....is this current or old news ?',\n",
       "  'label': 0,\n",
       "  'id': '178',\n",
       "  'split': 'test',\n",
       "  'dataset_name': 'parallel_data/en-Trac',\n",
       "  'language': 'en',\n",
       "  'uncertainty': 0.688728,\n",
       "  'margin': 0.093943596},\n",
       " {'text': 'Modi is great..But he did not gave enough time to politicians to convert their black money..All politicians want black money to be recovered but from public not theirs..Ha ha ha..',\n",
       "  'label': 1,\n",
       "  'id': '179',\n",
       "  'split': 'test',\n",
       "  'dataset_name': 'parallel_data/en-Trac',\n",
       "  'language': 'en',\n",
       "  'uncertainty': 0.6880026,\n",
       "  'margin': 0.10134813},\n",
       " {'text': 'I just turned full volume on the phone and speakers . Can hear it now . Lolmax! ðŸ˜€',\n",
       "  'label': 0,\n",
       "  'id': '180',\n",
       "  'split': 'test',\n",
       "  'dataset_name': 'parallel_data/en-Trac',\n",
       "  'language': 'en',\n",
       "  'uncertainty': 0.6894345,\n",
       "  'margin': 0.08611643},\n",
       " {'text': 'This is best way to get votes. No one ask govt. achievement by naming PAK. Even these days they are claiming PAK for train accident also.',\n",
       "  'label': 1,\n",
       "  'id': '181',\n",
       "  'split': 'test',\n",
       "  'dataset_name': 'parallel_data/en-Trac',\n",
       "  'language': 'en',\n",
       "  'uncertainty': 0.68937993,\n",
       "  'margin': 0.08674708},\n",
       " {'text': \"Compared to European markets why Sensex and Nifty didn't rally much?\",\n",
       "  'label': 0,\n",
       "  'id': '182',\n",
       "  'split': 'test',\n",
       "  'dataset_name': 'parallel_data/en-Trac',\n",
       "  'language': 'en',\n",
       "  'uncertainty': 0.68803644,\n",
       "  'margin': 0.101015},\n",
       " {'text': \"Intolerance on Kashmir by few gober brain Indians can't sustain Kashmir .grow up its packing from Kashmir  I don't hate india and Indians .most of ppl are lovable but they don't in social media\",\n",
       "  'label': 0,\n",
       "  'id': '183',\n",
       "  'split': 'test',\n",
       "  'dataset_name': 'parallel_data/en-Trac',\n",
       "  'language': 'en',\n",
       "  'uncertainty': 0.68991834,\n",
       "  'margin': 0.08031657},\n",
       " {'text': 'Shame on Modi Government .... Must teach lesson to Pakistan now.. no use of demonetization and all.. its time to attack..',\n",
       "  'label': 1,\n",
       "  'id': '184',\n",
       "  'split': 'test',\n",
       "  'dataset_name': 'parallel_data/en-Trac',\n",
       "  'language': 'en',\n",
       "  'uncertainty': 0.68920153,\n",
       "  'margin': 0.0887745},\n",
       " {'text': 'Buddy we know you will deliver ..keep going , also stop watching cnbc tv 18',\n",
       "  'label': 0,\n",
       "  'id': '185',\n",
       "  'split': 'test',\n",
       "  'dataset_name': 'parallel_data/en-Trac',\n",
       "  'language': 'en',\n",
       "  'uncertainty': 0.6903329,\n",
       "  'margin': 0.07498869},\n",
       " {'text': 'the curious case of kamal r khan. to utter his name is a shame that we r making him popular for his all  nonsenses.',\n",
       "  'label': 1,\n",
       "  'id': '186',\n",
       "  'split': 'test',\n",
       "  'dataset_name': 'parallel_data/en-Trac',\n",
       "  'language': 'en',\n",
       "  'uncertainty': 0.6899471,\n",
       "  'margin': 0.07995817},\n",
       " {'text': 'Mamata has told She would beat Modi after attach the Modi with the rope in the tree--any CM can telll such things to One PM??',\n",
       "  'label': 0,\n",
       "  'id': '187',\n",
       "  'split': 'test',\n",
       "  'dataset_name': 'parallel_data/en-Trac',\n",
       "  'language': 'en',\n",
       "  'uncertainty': 0.6897096,\n",
       "  'margin': 0.08286893},\n",
       " {'text': 'Tataji thanks for your guru mantra. You are absolutely right.',\n",
       "  'label': 0,\n",
       "  'id': '188',\n",
       "  'split': 'test',\n",
       "  'dataset_name': 'parallel_data/en-Trac',\n",
       "  'language': 'en',\n",
       "  'uncertainty': 0.689553,\n",
       "  'margin': 0.08473331},\n",
       " {'text': 'One man show.  Dictater  are always  bad for ony country',\n",
       "  'label': 1,\n",
       "  'id': '189',\n",
       "  'split': 'test',\n",
       "  'dataset_name': 'parallel_data/en-Trac',\n",
       "  'language': 'en',\n",
       "  'uncertainty': 0.68888694,\n",
       "  'margin': 0.09224084},\n",
       " {'text': \"And who do you think YOU are, to decide, who's an insider and who's an outsider? The current problem of the mammoth amounts of black money is more because of the enemy INSIDE of India than outside. So it's not that all Indians residing in India are the holy saints. - demolishing your moronic comment from Dubai.\",\n",
       "  'label': 1,\n",
       "  'id': '190',\n",
       "  'split': 'test',\n",
       "  'dataset_name': 'parallel_data/en-Trac',\n",
       "  'language': 'en',\n",
       "  'uncertainty': 0.6895905,\n",
       "  'margin': 0.08429077},\n",
       " {'text': \"^ watch the game and then sleep my boy. It's the 5th round, don't give up now.\",\n",
       "  'label': 0,\n",
       "  'id': '191',\n",
       "  'split': 'test',\n",
       "  'dataset_name': 'parallel_data/en-Trac',\n",
       "  'language': 'en',\n",
       "  'uncertainty': 0.6901245,\n",
       "  'margin': 0.07771301},\n",
       " {'text': 'I thought he is deaf and dumb...happy to hear his voice at least now.',\n",
       "  'label': 1,\n",
       "  'id': '192',\n",
       "  'split': 'test',\n",
       "  'dataset_name': 'parallel_data/en-Trac',\n",
       "  'language': 'en',\n",
       "  'uncertainty': 0.68951154,\n",
       "  'margin': 0.08521935},\n",
       " {'text': 'U will never will win the war because u r just coward and crying country',\n",
       "  'label': 1,\n",
       "  'id': '193',\n",
       "  'split': 'test',\n",
       "  'dataset_name': 'parallel_data/en-Trac',\n",
       "  'language': 'en',\n",
       "  'uncertainty': 0.68958706,\n",
       "  'margin': 0.084331155},\n",
       " {'text': 'Anuj you always say go with momentum,,, today you are saying dont follow this momentum!!',\n",
       "  'label': 0,\n",
       "  'id': '194',\n",
       "  'split': 'test',\n",
       "  'dataset_name': 'parallel_data/en-Trac',\n",
       "  'language': 'en',\n",
       "  'uncertainty': 0.6899849,\n",
       "  'margin': 0.07948539},\n",
       " {'text': \"lol, he can't take a rite decision himself.so , following yogi,,,,,,,,,,,good\",\n",
       "  'label': 0,\n",
       "  'id': '195',\n",
       "  'split': 'test',\n",
       "  'dataset_name': 'parallel_data/en-Trac',\n",
       "  'language': 'en',\n",
       "  'uncertainty': 0.6875788,\n",
       "  'margin': 0.10543236},\n",
       " {'text': 'Congrats modi finally you make him speak in open forum',\n",
       "  'label': 0,\n",
       "  'id': '196',\n",
       "  'split': 'test',\n",
       "  'dataset_name': 'parallel_data/en-Trac',\n",
       "  'language': 'en',\n",
       "  'uncertainty': 0.69010675,\n",
       "  'margin': 0.07793963},\n",
       " {'text': \"BJP government is totally useless haven't gut take hard action against them..Just talking on ground nothing\",\n",
       "  'label': 1,\n",
       "  'id': '197',\n",
       "  'split': 'test',\n",
       "  'dataset_name': 'parallel_data/en-Trac',\n",
       "  'language': 'en',\n",
       "  'uncertainty': 0.6900276,\n",
       "  'margin': 0.07894707},\n",
       " {'text': 'Nishnt Rao how much money you get per comment.just asking',\n",
       "  'label': 0,\n",
       "  'id': '198',\n",
       "  'split': 'test',\n",
       "  'dataset_name': 'parallel_data/en-Trac',\n",
       "  'language': 'en',\n",
       "  'uncertainty': 0.68889546,\n",
       "  'margin': 0.092148304},\n",
       " {'text': 'Its great job we hv also d time to return money..bt d bank and atm wl b closed fr 2 days... what abt aftr dat?? Only 100 wl b issued frm atm ?? if sum get 500 from atm what action should d individual take?',\n",
       "  'label': 0,\n",
       "  'id': '199',\n",
       "  'split': 'test',\n",
       "  'dataset_name': 'parallel_data/en-Trac',\n",
       "  'language': 'en',\n",
       "  'uncertainty': 0.68988705,\n",
       "  'margin': 0.080703974},\n",
       " {'text': 'The name and the meaning has changed of RBI to reverse  bank of India',\n",
       "  'label': 1,\n",
       "  'id': '200',\n",
       "  'split': 'test',\n",
       "  'dataset_name': 'parallel_data/en-Trac',\n",
       "  'language': 'en',\n",
       "  'uncertainty': 0.68865645,\n",
       "  'margin': 0.094698906},\n",
       " {'text': 'Plz share view on astech life??  Bought @675,  today made 52 week high',\n",
       "  'label': 0,\n",
       "  'id': '201',\n",
       "  'split': 'test',\n",
       "  'dataset_name': 'parallel_data/en-Trac',\n",
       "  'language': 'en',\n",
       "  'uncertainty': 0.68947,\n",
       "  'margin': 0.0857054},\n",
       " {'text': 'And hillary has made so much fortune till date from her ex-position that a clik will shake the stock market. She is a blunder',\n",
       "  'label': 1,\n",
       "  'id': '202',\n",
       "  'split': 'test',\n",
       "  'dataset_name': 'parallel_data/en-Trac',\n",
       "  'language': 'en',\n",
       "  'uncertainty': 0.6895547,\n",
       "  'margin': 0.08471319},\n",
       " {'text': 'Can any one highlight the long term gains and not long term predictions',\n",
       "  'label': 1,\n",
       "  'id': '203',\n",
       "  'split': 'test',\n",
       "  'dataset_name': 'parallel_data/en-Trac',\n",
       "  'language': 'en',\n",
       "  'uncertainty': 0.6894618,\n",
       "  'margin': 0.08580056},\n",
       " {'text': 'Congrats.... Finally our Ex PM has come out from COMA great achievement for Modiji....',\n",
       "  'label': 1,\n",
       "  'id': '204',\n",
       "  'split': 'test',\n",
       "  'dataset_name': 'parallel_data/en-Trac',\n",
       "  'language': 'en',\n",
       "  'uncertainty': 0.6888083,\n",
       "  'margin': 0.09308657},\n",
       " {'text': 'Uzair Khatri  regret? Lol plz, pay your condolences to your dead terrorist brothers :D',\n",
       "  'label': 0,\n",
       "  'id': '205',\n",
       "  'split': 'test',\n",
       "  'dataset_name': 'parallel_data/en-Trac',\n",
       "  'language': 'en',\n",
       "  'uncertainty': 0.6871124,\n",
       "  'margin': 0.109751016},\n",
       " {'text': \"Hosting Turkey President ia a great move by the India because Turkey is the gateway to Europe China already sent the freight train to Britain and it's a India turns to make infrastructure to sell its products But some blind bhakts won't understand\",\n",
       "  'label': 1,\n",
       "  'id': '206',\n",
       "  'split': 'test',\n",
       "  'dataset_name': 'parallel_data/en-Trac',\n",
       "  'language': 'en',\n",
       "  'uncertainty': 0.6894051,\n",
       "  'margin': 0.0864571},\n",
       " {'text': 'TKe a gun And start fucking them.... What the hell is going on.... You people have to for approval to fair... Indian gov..',\n",
       "  'label': 1,\n",
       "  'id': '207',\n",
       "  'split': 'test',\n",
       "  'dataset_name': 'parallel_data/en-Trac',\n",
       "  'language': 'en',\n",
       "  'uncertainty': 0.6881182,\n",
       "  'margin': 0.10020542},\n",
       " {'text': 'this rate cut may help tim to have is hair cut .....',\n",
       "  'label': 0,\n",
       "  'id': '208',\n",
       "  'split': 'test',\n",
       "  'dataset_name': 'parallel_data/en-Trac',\n",
       "  'language': 'en',\n",
       "  'uncertainty': 0.6904557,\n",
       "  'margin': 0.073336124},\n",
       " {'text': \"If petrol pumps don't accept 500 note then wht can we do\",\n",
       "  'label': 0,\n",
       "  'id': '209',\n",
       "  'split': 'test',\n",
       "  'dataset_name': 'parallel_data/en-Trac',\n",
       "  'language': 'en',\n",
       "  'uncertainty': 0.6887464,\n",
       "  'margin': 0.09374812},\n",
       " {'text': 'mean he need some spy .....do not hire , own him with love ...yoooooou xerxes ...from leonidas',\n",
       "  'label': 0,\n",
       "  'id': '210',\n",
       "  'split': 'test',\n",
       "  'dataset_name': 'parallel_data/en-Trac',\n",
       "  'language': 'en',\n",
       "  'uncertainty': 0.6890542,\n",
       "  'margin': 0.09041461},\n",
       " {'text': \"Atul O Pathak you just compared a child's dress to lingerie.  Get a life dude!\",\n",
       "  'label': 0,\n",
       "  'id': '211',\n",
       "  'split': 'test',\n",
       "  'dataset_name': 'parallel_data/en-Trac',\n",
       "  'language': 'en',\n",
       "  'uncertainty': 0.6899091,\n",
       "  'margin': 0.08043072},\n",
       " {'text': 'hi please read my comments, Vguard to buy at current levels ??',\n",
       "  'label': 0,\n",
       "  'id': '212',\n",
       "  'split': 'test',\n",
       "  'dataset_name': 'parallel_data/en-Trac',\n",
       "  'language': 'en',\n",
       "  'uncertainty': 0.6889103,\n",
       "  'margin': 0.09198806},\n",
       " {'text': \"Stop fooling people with your Jumlas. Address to the issues like Employment Education Poverty Health Farmers Infrastructure & Economic Reforms. Please don't divert people's attention from core issues which matters to the nation. Nation wants concrete result not Jumlas.\",\n",
       "  'label': 1,\n",
       "  'id': '213',\n",
       "  'split': 'test',\n",
       "  'dataset_name': 'parallel_data/en-Trac',\n",
       "  'language': 'en',\n",
       "  'uncertainty': 0.6890564,\n",
       "  'margin': 0.090390146},\n",
       " {'text': 'For short term which sectors to look upon ? May be for 1-2 month',\n",
       "  'label': 0,\n",
       "  'id': '214',\n",
       "  'split': 'test',\n",
       "  'dataset_name': 'parallel_data/en-Trac',\n",
       "  'language': 'en',\n",
       "  'uncertainty': 0.6892197,\n",
       "  'margin': 0.08856973},\n",
       " {'text': 'BJP is the only party to rule USA TOO.. Modi is only best for USA... ðŸ˜\\x81ðŸ˜ƒðŸ˜\\x81',\n",
       "  'label': 1,\n",
       "  'id': '215',\n",
       "  'split': 'test',\n",
       "  'dataset_name': 'parallel_data/en-Trac',\n",
       "  'language': 'en',\n",
       "  'uncertainty': 0.6872121,\n",
       "  'margin': 0.108841896},\n",
       " {'text': 'Further With due respect to Dr Manmohan Singh, U please suggest a method how to handle the situation, If u really love India.',\n",
       "  'label': 0,\n",
       "  'id': '216',\n",
       "  'split': 'test',\n",
       "  'dataset_name': 'parallel_data/en-Trac',\n",
       "  'language': 'en',\n",
       "  'uncertainty': 0.6888517,\n",
       "  'margin': 0.09262073},\n",
       " {'text': \"Why don't you resign from the post of national convenor or cm?  Do you have that much of guts, Mr. Kejdi\",\n",
       "  'label': 1,\n",
       "  'id': '217',\n",
       "  'split': 'test',\n",
       "  'dataset_name': 'parallel_data/en-Trac',\n",
       "  'language': 'en',\n",
       "  'uncertainty': 0.6896964,\n",
       "  'margin': 0.08302805},\n",
       " {'text': '70 innocent peoples killed themselves because of modi, the world biggest corrupt minister',\n",
       "  'label': 1,\n",
       "  'id': '218',\n",
       "  'split': 'test',\n",
       "  'dataset_name': 'parallel_data/en-Trac',\n",
       "  'language': 'en',\n",
       "  'uncertainty': 0.68942237,\n",
       "  'margin': 0.086257696},\n",
       " {'text': 'Pressing tge mute button again now he will speak during elections',\n",
       "  'label': 0,\n",
       "  'id': '219',\n",
       "  'split': 'test',\n",
       "  'dataset_name': 'parallel_data/en-Trac',\n",
       "  'language': 'en',\n",
       "  'uncertainty': 0.6904897,\n",
       "  'margin': 0.07287121},\n",
       " {'text': 'The day is not far when we will see Indian names as cameraperson in Hollywood.',\n",
       "  'label': 0,\n",
       "  'id': '220',\n",
       "  'split': 'test',\n",
       "  'dataset_name': 'parallel_data/en-Trac',\n",
       "  'language': 'en',\n",
       "  'uncertainty': 0.68812174,\n",
       "  'margin': 0.100170106},\n",
       " {'text': 'He should be sent in thar or sahara desert where he can see his humshakals camels',\n",
       "  'label': 1,\n",
       "  'id': '221',\n",
       "  'split': 'test',\n",
       "  'dataset_name': 'parallel_data/en-Trac',\n",
       "  'language': 'en',\n",
       "  'uncertainty': 0.68896526,\n",
       "  'margin': 0.09139022},\n",
       " {'text': 'sonia should be punished with slippers and shoes... Its totally nonsense and untolerable....',\n",
       "  'label': 0,\n",
       "  'id': '222',\n",
       "  'split': 'test',\n",
       "  'dataset_name': 'parallel_data/en-Trac',\n",
       "  'language': 'en',\n",
       "  'uncertainty': 0.6886941,\n",
       "  'margin': 0.09430179},\n",
       " {'text': 'He took one week training from Sonia for this speech...',\n",
       "  'label': 1,\n",
       "  'id': '223',\n",
       "  'split': 'test',\n",
       "  'dataset_name': 'parallel_data/en-Trac',\n",
       "  'language': 'en',\n",
       "  'uncertainty': 0.6887227,\n",
       "  'margin': 0.09399918},\n",
       " {'text': 'Where were u 2 years back ...u never reported such villages existed then ..it is huge failure on Congress and State govt...if u actually cared for the people of the village you would have shown ur concern not complain',\n",
       "  'label': 0,\n",
       "  'id': '224',\n",
       "  'split': 'test',\n",
       "  'dataset_name': 'parallel_data/en-Trac',\n",
       "  'language': 'en',\n",
       "  'uncertainty': 0.6903266,\n",
       "  'margin': 0.075072736},\n",
       " {'text': 'Turkey is supporting those isis thugs and now they dare lecture us on kashmir issue...their bad times are about to start i guess...ðŸ˜‚ðŸ˜‚ðŸ˜‚ðŸ˜‚',\n",
       "  'label': 1,\n",
       "  'id': '225',\n",
       "  'split': 'test',\n",
       "  'dataset_name': 'parallel_data/en-Trac',\n",
       "  'language': 'en',\n",
       "  'uncertainty': 0.6885846,\n",
       "  'margin': 0.095452905},\n",
       " {'text': 'I have to unfollow cnbc as they started to follow babas. How on earth they can do this.',\n",
       "  'label': 0,\n",
       "  'id': '226',\n",
       "  'split': 'test',\n",
       "  'dataset_name': 'parallel_data/en-Trac',\n",
       "  'language': 'en',\n",
       "  'uncertainty': 0.68931127,\n",
       "  'margin': 0.08753294},\n",
       " {'text': 'Aqsa Kashmiri.........  Ashamed to call u a woman due such shameless comments. Really ashamed.',\n",
       "  'label': 1,\n",
       "  'id': '227',\n",
       "  'split': 'test',\n",
       "  'dataset_name': 'parallel_data/en-Trac',\n",
       "  'language': 'en',\n",
       "  'uncertainty': 0.6877067,\n",
       "  'margin': 0.10421717},\n",
       " {'text': 'the oiling of the spring doll was done yesterday by Sonia it seems...the toy is operational and has batteries put for his throat to function welll...',\n",
       "  'label': 1,\n",
       "  'id': '228',\n",
       "  'split': 'test',\n",
       "  'dataset_name': 'parallel_data/en-Trac',\n",
       "  'language': 'en',\n",
       "  'uncertainty': 0.6890092,\n",
       "  'margin': 0.09090972},\n",
       " {'text': 'Even if modi ji farts, bhakts be like wow what a fragrance i want the same perfume!!! :P :P',\n",
       "  'label': 1,\n",
       "  'id': '229',\n",
       "  'split': 'test',\n",
       "  'dataset_name': 'parallel_data/en-Trac',\n",
       "  'language': 'en',\n",
       "  'uncertainty': 0.6899284,\n",
       "  'margin': 0.08019063},\n",
       " {'text': 'Cattle stealing is a major problem in Assam specially in remote area, our family has faced this problem twice. I have to pay money in return of my own cattle.  If I was in that crowd I surely will join them.',\n",
       "  'label': 0,\n",
       "  'id': '230',\n",
       "  'split': 'test',\n",
       "  'dataset_name': 'parallel_data/en-Trac',\n",
       "  'language': 'en',\n",
       "  'uncertainty': 0.6883676,\n",
       "  'margin': 0.09769383},\n",
       " {'text': 'Bloody news channel check what is happening in Tamil nadu',\n",
       "  'label': 1,\n",
       "  'id': '231',\n",
       "  'split': 'test',\n",
       "  'dataset_name': 'parallel_data/en-Trac',\n",
       "  'language': 'en',\n",
       "  'uncertainty': 0.68966347,\n",
       "  'margin': 0.08342275},\n",
       " {'text': 'good facts , Our Pm should take the suggestions in spirit and come with a plan,.',\n",
       "  'label': 0,\n",
       "  'id': '232',\n",
       "  'split': 'test',\n",
       "  'dataset_name': 'parallel_data/en-Trac',\n",
       "  'language': 'en',\n",
       "  'uncertainty': 0.69011617,\n",
       "  'margin': 0.07782012},\n",
       " {'text': 'People who practice such discriminatory behavior should be thrown into jails for rest of their life.',\n",
       "  'label': 0,\n",
       "  'id': '233',\n",
       "  'split': 'test',\n",
       "  'dataset_name': 'parallel_data/en-Trac',\n",
       "  'language': 'en',\n",
       "  'uncertainty': 0.6878963,\n",
       "  'margin': 0.10238829},\n",
       " {'text': \"Why was The Economist correspondent barred from attending the Governor's  press conference.?\",\n",
       "  'label': 1,\n",
       "  'id': '234',\n",
       "  'split': 'test',\n",
       "  'dataset_name': 'parallel_data/en-Trac',\n",
       "  'language': 'en',\n",
       "  'uncertainty': 0.6894924,\n",
       "  'margin': 0.085443735},\n",
       " {'text': 'Checking in Hospital is always good for all  aged  judges!',\n",
       "  'label': 1,\n",
       "  'id': '235',\n",
       "  'split': 'test',\n",
       "  'dataset_name': 'parallel_data/en-Trac',\n",
       "  'language': 'en',\n",
       "  'uncertainty': 0.6889452,\n",
       "  'margin': 0.0916093},\n",
       " {'text': 'Worst F.M ever.what about 5  lakhs tax limit? ,said during election.',\n",
       "  'label': 0,\n",
       "  'id': '236',\n",
       "  'split': 'test',\n",
       "  'dataset_name': 'parallel_data/en-Trac',\n",
       "  'language': 'en',\n",
       "  'uncertainty': 0.6892258,\n",
       "  'margin': 0.08850154},\n",
       " {'text': 'One day we get a news soon..thad krk rape by social media and beten by comments',\n",
       "  'label': 1,\n",
       "  'id': '237',\n",
       "  'split': 'test',\n",
       "  'dataset_name': 'parallel_data/en-Trac',\n",
       "  'language': 'en',\n",
       "  'uncertainty': 0.68893504,\n",
       "  'margin': 0.09171942},\n",
       " {'text': 'U r the lion of India sir no one in India has courage',\n",
       "  'label': 0,\n",
       "  'id': '238',\n",
       "  'split': 'test',\n",
       "  'dataset_name': 'parallel_data/en-Trac',\n",
       "  'language': 'en',\n",
       "  'uncertainty': 0.69023645,\n",
       "  'margin': 0.076260775},\n",
       " {'text': 'Feeling proud to be a citizen of developing and changing India...Thank God we are not in hands of most corrupted political party in the whole world, CONGRESS...',\n",
       "  'label': 1,\n",
       "  'id': '239',\n",
       "  'split': 'test',\n",
       "  'dataset_name': 'parallel_data/en-Trac',\n",
       "  'language': 'en',\n",
       "  'uncertainty': 0.6889734,\n",
       "  'margin': 0.091300815},\n",
       " {'text': \"Why don't u go and say all this crap in parliament Mr Modi Gi..\",\n",
       "  'label': 1,\n",
       "  'id': '240',\n",
       "  'split': 'test',\n",
       "  'dataset_name': 'parallel_data/en-Trac',\n",
       "  'language': 'en',\n",
       "  'uncertainty': 0.6903864,\n",
       "  'margin': 0.07427335},\n",
       " {'text': 'Finally Mr. Manmohan Singh broke his silence who kept quite on coal scam, 2G scam, NREGA Scam and many more scams in his tenure. PUPPET of GANDHI FAMILY.',\n",
       "  'label': 1,\n",
       "  'id': '241',\n",
       "  'split': 'test',\n",
       "  'dataset_name': 'parallel_data/en-Trac',\n",
       "  'language': 'en',\n",
       "  'uncertainty': 0.6891118,\n",
       "  'margin': 0.08977711},\n",
       " {'text': 'We need thermal and hi res imaging cameras up there to spy and take out the Naxals and the Terrorists with laser guided missiles. ISRO kindly get on it.',\n",
       "  'label': 0,\n",
       "  'id': '242',\n",
       "  'split': 'test',\n",
       "  'dataset_name': 'parallel_data/en-Trac',\n",
       "  'language': 'en',\n",
       "  'uncertainty': 0.6893761,\n",
       "  'margin': 0.08679044},\n",
       " {'text': \"Kill those b********** without mercy. Some people don't even deserve humane reactions. Just kill them & wipe out Pak from world map, comewhatmay.\",\n",
       "  'label': 1,\n",
       "  'id': '243',\n",
       "  'split': 'test',\n",
       "  'dataset_name': 'parallel_data/en-Trac',\n",
       "  'language': 'en',\n",
       "  'uncertainty': 0.68827915,\n",
       "  'margin': 0.09859076},\n",
       " {'text': 'Idiotic speech , you never spoke when you are supposed to !! Sorry !! Hail Modi !!',\n",
       "  'label': 1,\n",
       "  'id': '244',\n",
       "  'split': 'test',\n",
       "  'dataset_name': 'parallel_data/en-Trac',\n",
       "  'language': 'en',\n",
       "  'uncertainty': 0.6889277,\n",
       "  'margin': 0.0917989},\n",
       " {'text': 'Domestically and internationally, the Modi government is stumbling from one blunder to another',\n",
       "  'label': 1,\n",
       "  'id': '245',\n",
       "  'split': 'test',\n",
       "  'dataset_name': 'parallel_data/en-Trac',\n",
       "  'language': 'en',\n",
       "  'uncertainty': 0.6886413,\n",
       "  'margin': 0.09485856},\n",
       " {'text': 'Hi Sonia and Anuj, till when can we expect this kind of volatility in the market and from which level can we start investing ?',\n",
       "  'label': 0,\n",
       "  'id': '246',\n",
       "  'split': 'test',\n",
       "  'dataset_name': 'parallel_data/en-Trac',\n",
       "  'language': 'en',\n",
       "  'uncertainty': 0.68870103,\n",
       "  'margin': 0.09422904},\n",
       " {'text': \"if growth rates are hit for short-term why are these people saying that long term goals would be better..what's wrong is wrong..it does not matter who says or who does it..-_-\",\n",
       "  'label': 0,\n",
       "  'id': '247',\n",
       "  'split': 'test',\n",
       "  'dataset_name': 'parallel_data/en-Trac',\n",
       "  'language': 'en',\n",
       "  'uncertainty': 0.6888643,\n",
       "  'margin': 0.0924854},\n",
       " {'text': 'Hoo poor kid try out different comment , already so many idiots have posted this msg.',\n",
       "  'label': 0,\n",
       "  'id': '248',\n",
       "  'split': 'test',\n",
       "  'dataset_name': 'parallel_data/en-Trac',\n",
       "  'language': 'en',\n",
       "  'uncertainty': 0.6899756,\n",
       "  'margin': 0.07960203},\n",
       " {'text': 'entire educational system of india is based on job searching mission ...simple , cannot create a leader only followers -nut system',\n",
       "  'label': 0,\n",
       "  'id': '249',\n",
       "  'split': 'test',\n",
       "  'dataset_name': 'parallel_data/en-Trac',\n",
       "  'language': 'en',\n",
       "  'uncertainty': 0.6898242,\n",
       "  'margin': 0.08147788},\n",
       " {'text': 'Porkis prefer gay porn. Then marry their own sisters. Thats a porki for u. ðŸ˜‚ðŸ˜‚ðŸ˜‚ðŸ˜‚',\n",
       "  'label': 1,\n",
       "  'id': '250',\n",
       "  'split': 'test',\n",
       "  'dataset_name': 'parallel_data/en-Trac',\n",
       "  'language': 'en',\n",
       "  'uncertainty': 0.6878606,\n",
       "  'margin': 0.102734864},\n",
       " {'text': \"I don't know where this great country is heading for ?   Politics is being played on cows ,  triple talaq & all that mess , just to stay in power.  When will these ppl realise that they r doing no gud to the country but just damaging it slowly with slow poison.\",\n",
       "  'label': 1,\n",
       "  'id': '251',\n",
       "  'split': 'test',\n",
       "  'dataset_name': 'parallel_data/en-Trac',\n",
       "  'language': 'en',\n",
       "  'uncertainty': 0.68971306,\n",
       "  'margin': 0.08282733},\n",
       " {'text': 'NRI, living far from Indian bank, 18000 Rupees, not visiting india before. 30th Dec. What should I do?',\n",
       "  'label': 0,\n",
       "  'id': '252',\n",
       "  'split': 'test',\n",
       "  'dataset_name': 'parallel_data/en-Trac',\n",
       "  'language': 'en',\n",
       "  'uncertainty': 0.6884041,\n",
       "  'margin': 0.09731996},\n",
       " {'text': 'Hats of to modi to remove black money from indiaðŸ‘\\x8dðŸ‘\\x8dðŸ‘\\x8d',\n",
       "  'label': 0,\n",
       "  'id': '253',\n",
       "  'split': 'test',\n",
       "  'dataset_name': 'parallel_data/en-Trac',\n",
       "  'language': 'en',\n",
       "  'uncertainty': 0.68570966,\n",
       "  'margin': 0.121812016},\n",
       " {'text': 'No more black money only red and green money ha ha ha',\n",
       "  'label': 1,\n",
       "  'id': '254',\n",
       "  'split': 'test',\n",
       "  'dataset_name': 'parallel_data/en-Trac',\n",
       "  'language': 'en',\n",
       "  'uncertainty': 0.6907123,\n",
       "  'margin': 0.06975597},\n",
       " {'text': 'And sir please indicate the date when v will start normal withdrawals from bank to bring back confidence in economy',\n",
       "  'label': 0,\n",
       "  'id': '255',\n",
       "  'split': 'test',\n",
       "  'dataset_name': 'parallel_data/en-Trac',\n",
       "  'language': 'en',\n",
       "  'uncertainty': 0.689232,\n",
       "  'margin': 0.088431895},\n",
       " {'text': 'Car insurance is maximum because of mandatory product.even it become paperless life insurance is more of push product so need lot of human intervention',\n",
       "  'label': 0,\n",
       "  'id': '256',\n",
       "  'split': 'test',\n",
       "  'dataset_name': 'parallel_data/en-Trac',\n",
       "  'language': 'en',\n",
       "  'uncertainty': 0.68916196,\n",
       "  'margin': 0.08921841},\n",
       " {'text': 'Wow....this guy can talk also....thanks modi ji for making mannequin mohan talk...',\n",
       "  'label': 1,\n",
       "  'id': '257',\n",
       "  'split': 'test',\n",
       "  'dataset_name': 'parallel_data/en-Trac',\n",
       "  'language': 'en',\n",
       "  'uncertainty': 0.68999434,\n",
       "  'margin': 0.07936594},\n",
       " {'text': 'If india is poor then pak is 1/16 of it in economy,what should we call pak as........ like beggars or mendicants or any special word',\n",
       "  'label': 1,\n",
       "  'id': '258',\n",
       "  'split': 'test',\n",
       "  'dataset_name': 'parallel_data/en-Trac',\n",
       "  'language': 'en',\n",
       "  'uncertainty': 0.6888342,\n",
       "  'margin': 0.09280926},\n",
       " {'text': 'The no of jobless people are increasing .they are choosing activism as an alternative.most of the activism is to find happiness in degrading other hard working people.this negativity cannot do anything for the betterment of the country we are just fighting one another and finding some satisfaction in that.',\n",
       "  'label': 1,\n",
       "  'id': '259',\n",
       "  'split': 'test',\n",
       "  'dataset_name': 'parallel_data/en-Trac',\n",
       "  'language': 'en',\n",
       "  'uncertainty': 0.68962944,\n",
       "  'margin': 0.083829015},\n",
       " {'text': 'I Thought Manmohan Singh became PM of India under Physically Handicapped quota... Was not he DUMB...? Medical Miracle.. Finally A dumb person can Speak... Which ENT Specialist  performed the Surgery...',\n",
       "  'label': 1,\n",
       "  'id': '260',\n",
       "  'split': 'test',\n",
       "  'dataset_name': 'parallel_data/en-Trac',\n",
       "  'language': 'en',\n",
       "  'uncertainty': 0.68860936,\n",
       "  'margin': 0.0951941},\n",
       " {'text': 'White transaction to be a new norm, says Arun Jaitley',\n",
       "  'label': 0,\n",
       "  'id': '261',\n",
       "  'split': 'test',\n",
       "  'dataset_name': 'parallel_data/en-Trac',\n",
       "  'language': 'en',\n",
       "  'uncertainty': 0.68948966,\n",
       "  'margin': 0.08547577},\n",
       " {'text': 'what the hell is wrong with RBI................every day new stupid rules............',\n",
       "  'label': 1,\n",
       "  'id': '262',\n",
       "  'split': 'test',\n",
       "  'dataset_name': 'parallel_data/en-Trac',\n",
       "  'language': 'en',\n",
       "  'uncertainty': 0.6877775,\n",
       "  'margin': 0.103538185},\n",
       " {'text': 'Instead of watching this crap people shud show so some simpethi to poor once...',\n",
       "  'label': 0,\n",
       "  'id': '263',\n",
       "  'split': 'test',\n",
       "  'dataset_name': 'parallel_data/en-Trac',\n",
       "  'language': 'en',\n",
       "  'uncertainty': 0.6887423,\n",
       "  'margin': 0.093791544},\n",
       " {'text': 'A person who has compromised  India using His position as  RBI chief, Finance Minister, PM.',\n",
       "  'label': 0,\n",
       "  'id': '264',\n",
       "  'split': 'test',\n",
       "  'dataset_name': 'parallel_data/en-Trac',\n",
       "  'language': 'en',\n",
       "  'uncertainty': 0.68893945,\n",
       "  'margin': 0.091671675},\n",
       " {'text': 'Hi anuj and Sonia pls share ur view on AVIATION SECTOR.',\n",
       "  'label': 0,\n",
       "  'id': '265',\n",
       "  'split': 'test',\n",
       "  'dataset_name': 'parallel_data/en-Trac',\n",
       "  'language': 'en',\n",
       "  'uncertainty': 0.6890224,\n",
       "  'margin': 0.090764016},\n",
       " {'text': 'NO BODY HAVE RIGHTS TO BLAME ANY RELIGION PLZZZ EVERY ONE RESPECT ALL RELIGION ATLEAST PLZZZ SHOW YOUR HUMANITY',\n",
       "  'label': 0,\n",
       "  'id': '266',\n",
       "  'split': 'test',\n",
       "  'dataset_name': 'parallel_data/en-Trac',\n",
       "  'language': 'en',\n",
       "  'uncertainty': 0.6859517,\n",
       "  'margin': 0.11981845},\n",
       " {'text': \"Both not good....  If Trump comes than it will harm economic of Asian market and if hillary come than we can't expect any financial development she is very dull....\",\n",
       "  'label': 0,\n",
       "  'id': '267',\n",
       "  'split': 'test',\n",
       "  'dataset_name': 'parallel_data/en-Trac',\n",
       "  'language': 'en',\n",
       "  'uncertainty': 0.68853796,\n",
       "  'margin': 0.09593907},\n",
       " {'text': 'while the India is starving for FDI and privatization. She is talks about domestic saving',\n",
       "  'label': 0,\n",
       "  'id': '268',\n",
       "  'split': 'test',\n",
       "  'dataset_name': 'parallel_data/en-Trac',\n",
       "  'language': 'en',\n",
       "  'uncertainty': 0.6889598,\n",
       "  'margin': 0.091450125},\n",
       " {'text': \"The idea of demonetisation was good bt it could have been implemented in a better manner. Dr Manmohan Singh is an expert in this field so don't condemn him.\",\n",
       "  'label': 0,\n",
       "  'id': '269',\n",
       "  'split': 'test',\n",
       "  'dataset_name': 'parallel_data/en-Trac',\n",
       "  'language': 'en',\n",
       "  'uncertainty': 0.68921286,\n",
       "  'margin': 0.088647395},\n",
       " {'text': 'all transactions will be online...wow ..so if you want to buy a small pack of maggi noodles or want to buy a kilo of grocery ..you will use online transactions..??Has old age crippled their nervous system..:/ ??',\n",
       "  'label': 1,\n",
       "  'id': '270',\n",
       "  'split': 'test',\n",
       "  'dataset_name': 'parallel_data/en-Trac',\n",
       "  'language': 'en',\n",
       "  'uncertainty': 0.68892884,\n",
       "  'margin': 0.09178656},\n",
       " {'text': '96 yr old Heeraben has 6 kids, anyone could have gotten her the 4k. But one of the sons wanted her flashed before media cameras. Sick mind.',\n",
       "  'label': 1,\n",
       "  'id': '271',\n",
       "  'split': 'test',\n",
       "  'dataset_name': 'parallel_data/en-Trac',\n",
       "  'language': 'en',\n",
       "  'uncertainty': 0.68877393,\n",
       "  'margin': 0.09345487},\n",
       " {'text': 'Yes yes ..traffic population pollution unlivability index ..bridging the gap between poor n middle class by bringing middle-class down â˜ºâ˜ºâ˜ºâ˜ºâ˜ºâ˜ºâ˜ºâ˜ºâ˜ºâ˜º',\n",
       "  'label': 1,\n",
       "  'id': '272',\n",
       "  'split': 'test',\n",
       "  'dataset_name': 'parallel_data/en-Trac',\n",
       "  'language': 'en',\n",
       "  'uncertainty': 0.69022644,\n",
       "  'margin': 0.07639229},\n",
       " {'text': 'In our times he is the original thinker. It goes to his credit that those who criticised his ideas in past decade have adopted the verysame ideas successfully to improve governance now.',\n",
       "  'label': 0,\n",
       "  'id': '273',\n",
       "  'split': 'test',\n",
       "  'dataset_name': 'parallel_data/en-Trac',\n",
       "  'language': 'en',\n",
       "  'uncertainty': 0.68935287,\n",
       "  'margin': 0.08705762},\n",
       " {'text': \"86% liquidity hit.. that's bad.. unknown long term benefits are used as a reason for making such a rigid move.. hard working people who are paid money in cash is the worst hit.\",\n",
       "  'label': 0,\n",
       "  'id': '274',\n",
       "  'split': 'test',\n",
       "  'dataset_name': 'parallel_data/en-Trac',\n",
       "  'language': 'en',\n",
       "  'uncertainty': 0.6900666,\n",
       "  'margin': 0.07845259},\n",
       " {'text': 'Lol our  ex PM talks too .... I was not aware in his 10 year tenture',\n",
       "  'label': 1,\n",
       "  'id': '275',\n",
       "  'split': 'test',\n",
       "  'dataset_name': 'parallel_data/en-Trac',\n",
       "  'language': 'en',\n",
       "  'uncertainty': 0.6902035,\n",
       "  'margin': 0.07669178},\n",
       " {'text': \"Is'nt Mr Modi ji breaking protocol  by being there to welcome him when it is the Prez's job ??\",\n",
       "  'label': 1,\n",
       "  'id': '276',\n",
       "  'split': 'test',\n",
       "  'dataset_name': 'parallel_data/en-Trac',\n",
       "  'language': 'en',\n",
       "  'uncertainty': 0.689389,\n",
       "  'margin': 0.08664283},\n",
       " {'text': \"Hahaha it's no point barking. Your life is like a stray dog you bark bark bark people just ignore.\",\n",
       "  'label': 0,\n",
       "  'id': '277',\n",
       "  'split': 'test',\n",
       "  'dataset_name': 'parallel_data/en-Trac',\n",
       "  'language': 'en',\n",
       "  'uncertainty': 0.6891716,\n",
       "  'margin': 0.089110285},\n",
       " {'text': 'All from same \"peace loving religion\"  And then they claim to be nationalist   Rascals',\n",
       "  'label': 1,\n",
       "  'id': '278',\n",
       "  'split': 'test',\n",
       "  'dataset_name': 'parallel_data/en-Trac',\n",
       "  'language': 'en',\n",
       "  'uncertainty': 0.68864954,\n",
       "  'margin': 0.09477258},\n",
       " {'text': 'Look who is speeding......where were you sir when those scams happened during your tenure????',\n",
       "  'label': 1,\n",
       "  'id': '279',\n",
       "  'split': 'test',\n",
       "  'dataset_name': 'parallel_data/en-Trac',\n",
       "  'language': 'en',\n",
       "  'uncertainty': 0.68934035,\n",
       "  'margin': 0.08720127},\n",
       " {'text': \"Laugh till you can ... because you know what's coming for you . Illiterate rascals\",\n",
       "  'label': 1,\n",
       "  'id': '280',\n",
       "  'split': 'test',\n",
       "  'dataset_name': 'parallel_data/en-Trac',\n",
       "  'language': 'en',\n",
       "  'uncertainty': 0.69026786,\n",
       "  'margin': 0.07584953},\n",
       " {'text': 'Sameer Mirza muhammad was a BASTARD n abdullah was his adopted father.',\n",
       "  'label': 1,\n",
       "  'id': '281',\n",
       "  'split': 'test',\n",
       "  'dataset_name': 'parallel_data/en-Trac',\n",
       "  'language': 'en',\n",
       "  'uncertainty': 0.68900144,\n",
       "  'margin': 0.0909946},\n",
       " {'text': 'The puppet behind Dr. Manmohan Singh are stupid just like all congress dumb ministers. Stop arguing against Mr modi . And support him to make India Great.',\n",
       "  'label': 1,\n",
       "  'id': '282',\n",
       "  'split': 'test',\n",
       "  'dataset_name': 'parallel_data/en-Trac',\n",
       "  'language': 'en',\n",
       "  'uncertainty': 0.68971944,\n",
       "  'margin': 0.08275002},\n",
       " {'text': 'Ex PM  talks like a primary school student giving a speech.  Shame',\n",
       "  'label': 1,\n",
       "  'id': '283',\n",
       "  'split': 'test',\n",
       "  'dataset_name': 'parallel_data/en-Trac',\n",
       "  'language': 'en',\n",
       "  'uncertainty': 0.69017416,\n",
       "  'margin': 0.0770722},\n",
       " {'text': 'Good.    Why they run to pak they have enough customers in India how much money they want.   Sm',\n",
       "  'label': 0,\n",
       "  'id': '284',\n",
       "  'split': 'test',\n",
       "  'dataset_name': 'parallel_data/en-Trac',\n",
       "  'language': 'en',\n",
       "  'uncertainty': 0.68869185,\n",
       "  'margin': 0.09432587},\n",
       " {'text': 'This speech is written by Sonia Gandhi and delivered by her ROBOT',\n",
       "  'label': 1,\n",
       "  'id': '285',\n",
       "  'split': 'test',\n",
       "  'dataset_name': 'parallel_data/en-Trac',\n",
       "  'language': 'en',\n",
       "  'uncertainty': 0.68792427,\n",
       "  'margin': 0.10211536},\n",
       " {'text': 'Latha has been as usual posing the stupid questions and has been trying to over smart others. She has to note down the questions and has been found to be fumbling. Soniya would have represented the channel more gracefully and intelligently.',\n",
       "  'label': 0,\n",
       "  'id': '286',\n",
       "  'split': 'test',\n",
       "  'dataset_name': 'parallel_data/en-Trac',\n",
       "  'language': 'en',\n",
       "  'uncertainty': 0.68909085,\n",
       "  'margin': 0.0900093},\n",
       " {'text': 'Mr. Modi i have a deep grief that why i vote u. U are curse to India.',\n",
       "  'label': 1,\n",
       "  'id': '287',\n",
       "  'split': 'test',\n",
       "  'dataset_name': 'parallel_data/en-Trac',\n",
       "  'language': 'en',\n",
       "  'uncertainty': 0.6902412,\n",
       "  'margin': 0.076198846},\n",
       " {'text': 'Hey..Our ex pm can actually speak ..hurray...and I thought he was a born dumb and deaf....',\n",
       "  'label': 1,\n",
       "  'id': '288',\n",
       "  'split': 'test',\n",
       "  'dataset_name': 'parallel_data/en-Trac',\n",
       "  'language': 'en',\n",
       "  'uncertainty': 0.6897048,\n",
       "  'margin': 0.08292726},\n",
       " {'text': 'i respect mr manmohan singh...he is best pm of india  not a illetrate like namo bewakoof',\n",
       "  'label': 1,\n",
       "  'id': '289',\n",
       "  'split': 'test',\n",
       "  'dataset_name': 'parallel_data/en-Trac',\n",
       "  'language': 'en',\n",
       "  'uncertainty': 0.69029486,\n",
       "  'margin': 0.07549384},\n",
       " {'text': 'Do you guys calculated loss due to  cascading effects ,if yes then make research more widespread',\n",
       "  'label': 0,\n",
       "  'id': '290',\n",
       "  'split': 'test',\n",
       "  'dataset_name': 'parallel_data/en-Trac',\n",
       "  'language': 'en',\n",
       "  'uncertainty': 0.68955255,\n",
       "  'margin': 0.084738374},\n",
       " {'text': \"Buy gold/gold mining stocks that's the only way to financially benefit from this event. I have already put in my order ðŸ™\\x8fðŸ\\x8f¼ I already bought MMTC. Gold will rally to $1500 on back of Trump election\",\n",
       "  'label': 0,\n",
       "  'id': '291',\n",
       "  'split': 'test',\n",
       "  'dataset_name': 'parallel_data/en-Trac',\n",
       "  'language': 'en',\n",
       "  'uncertainty': 0.69002,\n",
       "  'margin': 0.07904321},\n",
       " {'text': 'Due to capital gains issues it is apparent that FPIs  would want to invest maximum before this financial year ends. Even then one 5-10% correction of our markets is a possibility.In anticipation people are keeping some cash. Is this a right strategy or we should remain fully invested?',\n",
       "  'label': 0,\n",
       "  'id': '292',\n",
       "  'split': 'test',\n",
       "  'dataset_name': 'parallel_data/en-Trac',\n",
       "  'language': 'en',\n",
       "  'uncertainty': 0.6887773,\n",
       "  'margin': 0.093417645},\n",
       " {'text': 'Everywhere BJP ruled mob decided the law & order. It is just Banana Republics',\n",
       "  'label': 0,\n",
       "  'id': '293',\n",
       "  'split': 'test',\n",
       "  'dataset_name': 'parallel_data/en-Trac',\n",
       "  'language': 'en',\n",
       "  'uncertainty': 0.6884142,\n",
       "  'margin': 0.09721604},\n",
       " {'text': 'Is only central government responsible? What about the state government doing since last 5 years? how to get TRP ....start blaming Central government',\n",
       "  'label': 0,\n",
       "  'id': '294',\n",
       "  'split': 'test',\n",
       "  'dataset_name': 'parallel_data/en-Trac',\n",
       "  'language': 'en',\n",
       "  'uncertainty': 0.6891861,\n",
       "  'margin': 0.08894795},\n",
       " {'text': 'The grt ex pm of India frst tym u spoke without Sonia Gandhiji',\n",
       "  'label': 0,\n",
       "  'id': '295',\n",
       "  'split': 'test',\n",
       "  'dataset_name': 'parallel_data/en-Trac',\n",
       "  'language': 'en',\n",
       "  'uncertainty': 0.6908412,\n",
       "  'margin': 0.06788477},\n",
       " {'text': 'Mute Mode disabled ?  well Atleast demonetization made Mute mode off  :D .',\n",
       "  'label': 1,\n",
       "  'id': '296',\n",
       "  'split': 'test',\n",
       "  'dataset_name': 'parallel_data/en-Trac',\n",
       "  'language': 'en',\n",
       "  'uncertainty': 0.68882954,\n",
       "  'margin': 0.092859},\n",
       " {'text': \"Fail PM, fail cashless scheme. Still there are many villages which don't have internet facility .\",\n",
       "  'label': 1,\n",
       "  'id': '297',\n",
       "  'split': 'test',\n",
       "  'dataset_name': 'parallel_data/en-Trac',\n",
       "  'language': 'en',\n",
       "  'uncertainty': 0.68849903,\n",
       "  'margin': 0.09634271},\n",
       " {'text': 'The propaganda against Pawar Saab is totally baseless. Till date nobody could prove his involvement in any corruption case .  Some people think that he is Superman and  manages judiciary, politicians, investigating agencies , all Government and buerocrats . Hopeless .',\n",
       "  'label': 0,\n",
       "  'id': '298',\n",
       "  'split': 'test',\n",
       "  'dataset_name': 'parallel_data/en-Trac',\n",
       "  'language': 'en',\n",
       "  'uncertainty': 0.6892453,\n",
       "  'margin': 0.08828214},\n",
       " {'text': 'India does need such a PM .. to get all the corrupt in line',\n",
       "  'label': 0,\n",
       "  'id': '299',\n",
       "  'split': 'test',\n",
       "  'dataset_name': 'parallel_data/en-Trac',\n",
       "  'language': 'en',\n",
       "  'uncertainty': 0.6907933,\n",
       "  'margin': 0.06858608},\n",
       " {'text': \"2 aylık bir kız bebek bile  Hindistan'da güvenli değil ... ama inek güvende ...\",\n",
       "  'label': 0,\n",
       "  'id': '0',\n",
       "  'split': 'test',\n",
       "  'dataset_name': 'parallel_data/tr-Trac',\n",
       "  'language': 'tr',\n",
       "  'uncertainty': 0.68808496,\n",
       "  'margin': 0.100535035},\n",
       " {'text': \"Bu bhagwa teröristlerin kadarıyla bu sahte milliyetçilerin cevap Pakistan ve çini yakışır için sınırlarına gönderilmesi gerekir anlıyorum kadar her konuşma İslam'ı sürüklemeden yemeklerini sindiremez.\",\n",
       "  'label': 1,\n",
       "  'id': '1',\n",
       "  'split': 'test',\n",
       "  'dataset_name': 'parallel_data/tr-Trac',\n",
       "  'language': 'tr',\n",
       "  'uncertainty': 0.6883133,\n",
       "  'margin': 0.09824523},\n",
       " {'text': 'Bu ne çeşit bir medya !!!İlk olarak hindistan askerlerinin rocket atarlarla  öldüğü başlıkları atıyorlar ve şimdi !! şimdi  ölü bedenlerin kestiklerine dair…. Bu ancak Pakistan askerleri sınır hattını geçtiklerinde olabilir .... bu arada  bu hindistan medyasında kanıtları ile # GerçekNoktaOperasyonu gibi görünüyor.   ',\n",
       "  'label': 0,\n",
       "  'id': '2',\n",
       "  'split': 'test',\n",
       "  'dataset_name': 'parallel_data/tr-Trac',\n",
       "  'language': 'tr',\n",
       "  'uncertainty': 0.68822336,\n",
       "  'margin': 0.09915447},\n",
       " {'text': 'Devletlere tazminat 2 ayda ödenebilecek olacak: FM',\n",
       "  'label': 0,\n",
       "  'id': '3',\n",
       "  'split': 'test',\n",
       "  'dataset_name': 'parallel_data/tr-Trac',\n",
       "  'language': 'tr',\n",
       "  'uncertainty': 0.6889723,\n",
       "  'margin': 0.0913133},\n",
       " {'text': '8550 altında şık, muhtemelen yaklaşan bir aşağı hareketi gösterir  ',\n",
       "  'label': 0,\n",
       "  'id': '4',\n",
       "  'split': 'test',\n",
       "  'dataset_name': 'parallel_data/tr-Trac',\n",
       "  'language': 'tr',\n",
       "  'uncertainty': 0.689495,\n",
       "  'margin': 0.08541298},\n",
       " {'text': 'Bir barış havarisi ve tüm muhtaç ve toplum tarafından istenmeyenlerin annesi  .....',\n",
       "  'label': 0,\n",
       "  'id': '5',\n",
       "  'split': 'test',\n",
       "  'dataset_name': 'parallel_data/tr-Trac',\n",
       "  'language': 'tr',\n",
       "  'uncertainty': 0.686718,\n",
       "  'margin': 0.11327326},\n",
       " {'text': 'Fed faiz artışı öncesinde mali sektörü nasıl görüyorsunuz',\n",
       "  'label': 0,\n",
       "  'id': '6',\n",
       "  'split': 'test',\n",
       "  'dataset_name': 'parallel_data/tr-Trac',\n",
       "  'language': 'tr',\n",
       "  'uncertainty': 0.68892276,\n",
       "  'margin': 0.09185314},\n",
       " {'text': 'Bazı insanlar kendi nakitleri ile  diğer insanları nota değişimi sırasında durmaları için gönderiyorlar ve karşılığında onlara bir miktar ödüyoruz.',\n",
       "  'label': 0,\n",
       "  'id': '7',\n",
       "  'split': 'test',\n",
       "  'dataset_name': 'parallel_data/tr-Trac',\n",
       "  'language': 'tr',\n",
       "  'uncertainty': 0.6866164,\n",
       "  'margin': 0.114162534},\n",
       " {'text': 'Ordu askerleri  öldürüldüğünde Gujarati liderleri konuşmayacak ve son 70 yıl içinde ordudaki  tek bir gujarati bile? BJP liderleri kendi oğullarını orduya katılmaları için gönderecek mi ?',\n",
       "  'label': 1,\n",
       "  'id': '8',\n",
       "  'split': 'test',\n",
       "  'dataset_name': 'parallel_data/tr-Trac',\n",
       "  'language': 'tr',\n",
       "  'uncertainty': 0.68728197,\n",
       "  'margin': 0.10820097},\n",
       " {'text': 'kanuni mirasçıya veya kan bağı olan ilgili kişiye hediye verme yasadışı değil, ama kişisel kullanım için şirketten kişiye fon saptırma yasadışıdır ',\n",
       "  'label': 0,\n",
       "  'id': '9',\n",
       "  'split': 'test',\n",
       "  'dataset_name': 'parallel_data/tr-Trac',\n",
       "  'language': 'tr',\n",
       "  'uncertainty': 0.6871861,\n",
       "  'margin': 0.10907951},\n",
       " {'text': 'Şimdi Hint hükümeti cani Pakistan’ a karşı güçlü aksiyon almalı  ....',\n",
       "  'label': 1,\n",
       "  'id': '10',\n",
       "  'split': 'test',\n",
       "  'dataset_name': 'parallel_data/tr-Trac',\n",
       "  'language': 'tr',\n",
       "  'uncertainty': 0.6879225,\n",
       "  'margin': 0.10213339},\n",
       " {'text': 'Eleştirmek yerine  çocukların eforunu nazikçe takdir et ve onları akışla dostumı !!',\n",
       "  'label': 0,\n",
       "  'id': '11',\n",
       "  'split': 'test',\n",
       "  'dataset_name': 'parallel_data/tr-Trac',\n",
       "  'language': 'tr',\n",
       "  'uncertainty': 0.6888216,\n",
       "  'margin': 0.09294447},\n",
       " {'text': 'Muhammed İmran Pakistan’ın başkomutanı mısın? Teröristlerle ne halt ediyorsunuz? #TerörDevletiPakistan',\n",
       "  'label': 1,\n",
       "  'id': '12',\n",
       "  'split': 'test',\n",
       "  'dataset_name': 'parallel_data/tr-Trac',\n",
       "  'language': 'tr',\n",
       "  'uncertainty': 0.6887243,\n",
       "  'margin': 0.09398267},\n",
       " {'text': 'Başkan seçilen Donald Trump bir  çocuk tacizcisidir,O Howard Stern’e yıllar önce onun Amerikanın Genç Bayanı’na katılan küçük kızların vajinalarını avuçladığını söyledi ',\n",
       "  'label': 0,\n",
       "  'id': '13',\n",
       "  'split': 'test',\n",
       "  'dataset_name': 'parallel_data/tr-Trac',\n",
       "  'language': 'tr',\n",
       "  'uncertainty': 0.6870037,\n",
       "  'margin': 0.11073336},\n",
       " {'text': 'Kota yok rezervasyon yok !İlk olarak BM kadının statüsünü geliştirmeli ben ABD’yim sonra Hindistan hakkında konuşsun. Sen kim oluyorsun da Hindistan İçİşlerine karışıyorsun?',\n",
       "  'label': 1,\n",
       "  'id': '14',\n",
       "  'split': 'test',\n",
       "  'dataset_name': 'parallel_data/tr-Trac',\n",
       "  'language': 'tr',\n",
       "  'uncertainty': 0.6882995,\n",
       "  'margin': 0.09838572},\n",
       " {'text': 'Karıları başkalarıyla gizli ilişkideyse bakan damatlara kılıç da vermeil. Böylece gelecekte evlilik karşılıklı anlaşma irtibat  değil bir karşılıklı savaş olur',\n",
       "  'label': 1,\n",
       "  'id': '15',\n",
       "  'split': 'test',\n",
       "  'dataset_name': 'parallel_data/tr-Trac',\n",
       "  'language': 'tr',\n",
       "  'uncertainty': 0.6872,\n",
       "  'margin': 0.10895312},\n",
       " {'text': 'Bu pazarda buna göre artan Festival sezonu ve talep de aynı şekilde iyi döner verecek. böylece rupisi kıyasla İkincisi, doların da zayıftır :)',\n",
       "  'label': 0,\n",
       "  'id': '16',\n",
       "  'split': 'test',\n",
       "  'dataset_name': 'parallel_data/tr-Trac',\n",
       "  'language': 'tr',\n",
       "  'uncertainty': 0.6886183,\n",
       "  'margin': 0.095100045},\n",
       " {'text': 'Onun beyinsiz olduğu kesin ... Bunu daha önce defalarca kanıtladı ..',\n",
       "  'label': 1,\n",
       "  'id': '17',\n",
       "  'split': 'test',\n",
       "  'dataset_name': 'parallel_data/tr-Trac',\n",
       "  'language': 'tr',\n",
       "  'uncertainty': 0.68862176,\n",
       "  'margin': 0.095063895},\n",
       " {'text': 'Anuj olmadan bu fb oturumunu yapmanın hiçbir anlamı yok. Sadece Anuj + Sonia ile mantıklı. Başka hiçbir kombinasyon ile değil.',\n",
       "  'label': 0,\n",
       "  'id': '18',\n",
       "  'split': 'test',\n",
       "  'dataset_name': 'parallel_data/tr-Trac',\n",
       "  'language': 'tr',\n",
       "  'uncertainty': 0.68825364,\n",
       "  'margin': 0.09884855},\n",
       " {'text': 'Hahaha bu işe kalbi olmalı doğrudur ve evet çoğunlukla erkeklerin kalp krizi ile öldüğü doğru  ������',\n",
       "  'label': 0,\n",
       "  'id': '19',\n",
       "  'split': 'test',\n",
       "  'dataset_name': 'parallel_data/tr-Trac',\n",
       "  'language': 'tr',\n",
       "  'uncertainty': 0.6889529,\n",
       "  'margin': 0.09152433},\n",
       " {'text': 'Yani kara para döndüge kalmalı, bu haylaz birinin planlanmamış salak kararı',\n",
       "  'label': 1,\n",
       "  'id': '20',\n",
       "  'split': 'test',\n",
       "  'dataset_name': 'parallel_data/tr-Trac',\n",
       "  'language': 'tr',\n",
       "  'uncertainty': 0.68847275,\n",
       "  'margin': 0.096613884},\n",
       " {'text': 'modi desteklemen gerekir, merhaba ..! Ne zaman başbakan pozisyonundasın ..! Tüm dolandırıcılıklar oldu ...! Bir robot gibi çalışma ..!',\n",
       "  'label': 1,\n",
       "  'id': '21',\n",
       "  'split': 'test',\n",
       "  'dataset_name': 'parallel_data/tr-Trac',\n",
       "  'language': 'tr',\n",
       "  'uncertainty': 0.68872774,\n",
       "  'margin': 0.09394577},\n",
       " {'text': 'Modi  Hindistan Ana’yı soydu  ve onu yağmaladı. Biri onu öldürebilir mi?',\n",
       "  'label': 1,\n",
       "  'id': '22',\n",
       "  'split': 'test',\n",
       "  'dataset_name': 'parallel_data/tr-Trac',\n",
       "  'language': 'tr',\n",
       "  'uncertainty': 0.68680644,\n",
       "  'margin': 0.11249331},\n",
       " {'text': 'insan 500 veya 1000 rs notlar önce istiflenmiş olabileceğini 100 rs notlar ne basıldı ?? Ayrıca neyi siyasiler tarafından yatırılan yabancı para birimi ile hesaplarda para ile ilgili ?? Bu hareket ile tüm büyük timsah hala güvenli olacak!',\n",
       "  'label': 0,\n",
       "  'id': '23',\n",
       "  'split': 'test',\n",
       "  'dataset_name': 'parallel_data/tr-Trac',\n",
       "  'language': 'tr',\n",
       "  'uncertainty': 0.6888052,\n",
       "  'margin': 0.09312034},\n",
       " {'text': 'Damatlarıyla dövüşmesi için Faruk Abdullah’ı (Namaharam ve haramkhore) Hindistan Pakistan sınırına gönderin.',\n",
       "  'label': 1,\n",
       "  'id': '24',\n",
       "  'split': 'test',\n",
       "  'dataset_name': 'parallel_data/tr-Trac',\n",
       "  'language': 'tr',\n",
       "  'uncertainty': 0.6869112,\n",
       "  'margin': 0.11156139},\n",
       " {'text': 'Ezberbozan düşünüş bizim başbakan Modiji’nin bir alameti farikasıdır. Bu adım kesinlikle kara para ve yolsuzluğu kontrol etmekte ülkemize yardımcı olacaktır ..',\n",
       "  'label': 0,\n",
       "  'id': '25',\n",
       "  'split': 'test',\n",
       "  'dataset_name': 'parallel_data/tr-Trac',\n",
       "  'language': 'tr',\n",
       "  'uncertainty': 0.68838,\n",
       "  'margin': 0.09756631},\n",
       " {'text': 'Syed nady eğer inek yemek içinse nasıl sütü de kullanılır, Ya sana süt vermek için yaşayacak ya da sana yemek olmak için ölecek. Sanıyorum sen sekse aç kötü adam aptal hidayat tarafından gölgelenen  beynin yoksunusun. ',\n",
       "  'label': 1,\n",
       "  'id': '26',\n",
       "  'split': 'test',\n",
       "  'dataset_name': 'parallel_data/tr-Trac',\n",
       "  'language': 'tr',\n",
       "  'uncertainty': 0.68918425,\n",
       "  'margin': 0.088968754},\n",
       " {'text': 'Bütün farkı yaratan hayatımda senin gibi birine sahip olmak  ... habaybi ento ❤❤',\n",
       "  'label': 0,\n",
       "  'id': '27',\n",
       "  'split': 'test',\n",
       "  'dataset_name': 'parallel_data/tr-Trac',\n",
       "  'language': 'tr',\n",
       "  'uncertainty': 0.6883137,\n",
       "  'margin': 0.09824148},\n",
       " {'text': 'hint ordusu travesti seviyor.Tüm hint orudusu eve gidiyor ve bilezik giyiniyor .pakistan ordusu geliyor. 10 hindistanlı 1 pakistanlı gibi. Herkes allahın pakistanla krishnanın hindistanla beraber olduğunu biliyor ha..ha..ha ',\n",
       "  'label': 1,\n",
       "  'id': '28',\n",
       "  'split': 'test',\n",
       "  'dataset_name': 'parallel_data/tr-Trac',\n",
       "  'language': 'tr',\n",
       "  'uncertainty': 0.6886411,\n",
       "  'margin': 0.09486079},\n",
       " {'text': 'Dostum şimdi bile atm problemi mevcut ve bankada uzun kuyruklar var. Böyle bir girişim yapılacaksa en azından zemin seviyesi güçlü olmalıydı. Bunu anlatma sebebi hazine bankalarının  bu durumda bile işbirliğine en az yaklaşan olması. Bu çalışanlara karşı  harekete geçilmeli.Eğer tüm banka çalışanları bu anı desteklerse  ve  onlara denileninin aksine insanlara yardım etseydiler tedavülden kaldırma fikri başarılı olurdu Timinaksh Sharma',\n",
       "  'label': 0,\n",
       "  'id': '29',\n",
       "  'split': 'test',\n",
       "  'dataset_name': 'parallel_data/tr-Trac',\n",
       "  'language': 'tr',\n",
       "  'uncertainty': 0.68774104,\n",
       "  'margin': 0.103888154},\n",
       " {'text': 'Hint anayasasına ne oldu? Neden  SC  ona her vatandaşın temel hakkı olan açıklamayı vermiyor ? Bu vahşet değil mi?',\n",
       "  'label': 1,\n",
       "  'id': '30',\n",
       "  'split': 'test',\n",
       "  'dataset_name': 'parallel_data/tr-Trac',\n",
       "  'language': 'tr',\n",
       "  'uncertainty': 0.6870227,\n",
       "  'margin': 0.110562354},\n",
       " {'text': 'başka bir 47’ye kadar tekrar etme zaman : D hindistanlılar tekrar bir ayrılık gününü bir bağımsızlık günü olarak kutlayacaklardır D: ',\n",
       "  'label': 1,\n",
       "  'id': '31',\n",
       "  'split': 'test',\n",
       "  'dataset_name': 'parallel_data/tr-Trac',\n",
       "  'language': 'tr',\n",
       "  'uncertainty': 0.68737906,\n",
       "  'margin': 0.10730362},\n",
       " {'text': 'Kimin konuştuğuna bakın, kendi 10 yıllık görev süresinde hiç konuşmayan başkan ,tanrıya şükür dinledikten sonra',\n",
       "  'label': 1,\n",
       "  'id': '32',\n",
       "  'split': 'test',\n",
       "  'dataset_name': 'parallel_data/tr-Trac',\n",
       "  'language': 'tr',\n",
       "  'uncertainty': 0.68850255,\n",
       "  'margin': 0.096306324},\n",
       " {'text': 'Tüm bhakt’lara .. neden madi rubi  ile nakit fazlası olduğu zamana kadar bekleyedi  ve sonra bu planu açıkladı?Neden bu kadar acil?',\n",
       "  'label': 1,\n",
       "  'id': '33',\n",
       "  'split': 'test',\n",
       "  'dataset_name': 'parallel_data/tr-Trac',\n",
       "  'language': 'tr',\n",
       "  'uncertainty': 0.68895864,\n",
       "  'margin': 0.09146276},\n",
       " {'text': 'Dip seviyelerden akıllıca kurtulan Tata Motors haberi var mı?',\n",
       "  'label': 0,\n",
       "  'id': '34',\n",
       "  'split': 'test',\n",
       "  'dataset_name': 'parallel_data/tr-Trac',\n",
       "  'language': 'tr',\n",
       "  'uncertainty': 0.6884981,\n",
       "  'margin': 0.09635255},\n",
       " {'text': 'En kötü başbakan Manmohan. ilk etapta konuşmasına izin verilmemeliydi',\n",
       "  'label': 1,\n",
       "  'id': '35',\n",
       "  'split': 'test',\n",
       "  'dataset_name': 'parallel_data/tr-Trac',\n",
       "  'language': 'tr',\n",
       "  'uncertainty': 0.6882541,\n",
       "  'margin': 0.09884399},\n",
       " {'text': 'Kimse inekler için kalıcı banka hesap kartı, aadhar kartı,pasaport ve hesap numarası yapılmasına ne olduğunun farkında mı ? Ben ineklerin eğer ev almak isterlerse ya da gençleri üniversiteye göndermek isterlerse devletten yardım alacaklarını duydum',\n",
       "  'label': 1,\n",
       "  'id': '36',\n",
       "  'split': 'test',\n",
       "  'dataset_name': 'parallel_data/tr-Trac',\n",
       "  'language': 'tr',\n",
       "  'uncertainty': 0.6883888,\n",
       "  'margin': 0.09747642},\n",
       " {'text': '.. bir gün bekleyin…. basın açıklaması olacak .. ve en çok izlenen zamanlarda olağan panel tartışması. Reçete edilmiş cevabı alacaksınız.',\n",
       "  'label': 1,\n",
       "  'id': '37',\n",
       "  'split': 'test',\n",
       "  'dataset_name': 'parallel_data/tr-Trac',\n",
       "  'language': 'tr',\n",
       "  'uncertainty': 0.6887138,\n",
       "  'margin': 0.09409407},\n",
       " {'text': 'Nd daha da önemlisi, bu adamlar inek hırsızlığı şüphesi üzerine dövüldü. Bir iddia üzerine, insan öldürürsünüz,Nerede adalet  ?? Nerede benim insan haklarım ?? Yeni Hindistan’a hoş geldiniz',\n",
       "  'label': 1,\n",
       "  'id': '38',\n",
       "  'split': 'test',\n",
       "  'dataset_name': 'parallel_data/tr-Trac',\n",
       "  'language': 'tr',\n",
       "  'uncertainty': 0.6867243,\n",
       "  'margin': 0.11321795},\n",
       " {'text': \"1991’i unutma, Hindistan iflas ilanının eşiğinde olduğu zaman. Hindistan'ın döviz rezervleri zar zor bir milyar dolar vardı ve  şimdi 145 $ MİLYAR’a  uçuldu.\",\n",
       "  'label': 0,\n",
       "  'id': '39',\n",
       "  'split': 'test',\n",
       "  'dataset_name': 'parallel_data/tr-Trac',\n",
       "  'language': 'tr',\n",
       "  'uncertainty': 0.68685687,\n",
       "  'margin': 0.11204618},\n",
       " {'text': 'Sayın modi’nin gujrattaki binlerce Müslümanın katili olduğu  gib bir geçmişimiz yok ...',\n",
       "  'label': 1,\n",
       "  'id': '40',\n",
       "  'split': 'test',\n",
       "  'dataset_name': 'parallel_data/tr-Trac',\n",
       "  'language': 'tr',\n",
       "  'uncertainty': 0.6882613,\n",
       "  'margin': 0.09877145},\n",
       " {'text': 'SC bir kişi kendi davasının yargıcı olamaz diyen yasal hukuk temel ilkelerini nasıl unutmuş Kimböylr yolsuzluk suçlamaları için  SC’nin 7 yargıcına karşı soruşturmayı durduruyor,.Dalitler belki doğuştan eksik olarak damgalanabilir ama  kesinlikle bu delilikte değil.',\n",
       "  'label': 1,\n",
       "  'id': '41',\n",
       "  'split': 'test',\n",
       "  'dataset_name': 'parallel_data/tr-Trac',\n",
       "  'language': 'tr',\n",
       "  'uncertainty': 0.6877117,\n",
       "  'margin': 0.10416937},\n",
       " {'text': 'Neden sharad pawar. O ülkeyi ve yoksul insanları yağmalama dışında hindistan için hiçbir şey yapmadı',\n",
       "  'label': 1,\n",
       "  'id': '42',\n",
       "  'split': 'test',\n",
       "  'dataset_name': 'parallel_data/tr-Trac',\n",
       "  'language': 'tr',\n",
       "  'uncertainty': 0.68720543,\n",
       "  'margin': 0.10890296},\n",
       " {'text': 'PSU bankaları Çeyrekler kaybını ilan ediyorlar &  tedavülden kaldırmayı iptal için. olduğunda, para dolaşımı da kötü etkilendi ki bu direk olarak sıradan insanların işlerini etkiledi . Onların değişmeyen fiyatlar hakkında nasıl karar aldıklarını bilmiyorum.',\n",
       "  'label': 0,\n",
       "  'id': '43',\n",
       "  'split': 'test',\n",
       "  'dataset_name': 'parallel_data/tr-Trac',\n",
       "  'language': 'tr',\n",
       "  'uncertainty': 0.68827343,\n",
       "  'margin': 0.09864944},\n",
       " {'text': 'Biz Hint vatandaşları özellikle liberal olan bhakts olmayan, modiyi  kılıç, silahlar,tüfek veya bomba ile değil sözlerimizle öldüreceğiz, Onu açıkca sorgulamalıyız.. Ama  o kamuoyu önünde  kimsenin onu sorgulamasına izin vermiyor. Son seçim kampanyası,bir hindu hanfendi modiye sesini yükseltti  ve o zorla korumalar tarafından götürüldü,. Modi işte böyle korkaktır! Darpok PM!',\n",
       "  'label': 1,\n",
       "  'id': '44',\n",
       "  'split': 'test',\n",
       "  'dataset_name': 'parallel_data/tr-Trac',\n",
       "  'language': 'tr',\n",
       "  'uncertainty': 0.6887492,\n",
       "  'margin': 0.09371856},\n",
       " {'text': 'Şirket yatırımcılara daha fazla nakit İadesi yapar  ve yatırımcılar  fazla yatırım yaparlar.',\n",
       "  'label': 0,\n",
       "  'id': '45',\n",
       "  'split': 'test',\n",
       "  'dataset_name': 'parallel_data/tr-Trac',\n",
       "  'language': 'tr',\n",
       "  'uncertainty': 0.68802476,\n",
       "  'margin': 0.10113007},\n",
       " {'text': 'İnsanlar  o 90ların başında iyi  yapmış bilinen bir ekonomist  Lütfen başbakanı gözü kapalı takip etmeyi bırakın dur,Ben de Modi’yi destekliyorum ama onun bahsettiği konular gerçek',\n",
       "  'label': 0,\n",
       "  'id': '46',\n",
       "  'split': 'test',\n",
       "  'dataset_name': 'parallel_data/tr-Trac',\n",
       "  'language': 'tr',\n",
       "  'uncertainty': 0.6885954,\n",
       "  'margin': 0.095339805},\n",
       " {'text': 'BJP Partisi fonları hariç, hepsi online.  Sadece BJP kara para tutacak.',\n",
       "  'label': 1,\n",
       "  'id': '47',\n",
       "  'split': 'test',\n",
       "  'dataset_name': 'parallel_data/tr-Trac',\n",
       "  'language': 'tr',\n",
       "  'uncertainty': 0.6885079,\n",
       "  'margin': 0.09624994},\n",
       " {'text': 'Evet @ guarav sen binlerce askerin varlığında bunu yapmış olabilirsin  tanrım sen çok cesursun   ������    ������������������������',\n",
       "  'label': 1,\n",
       "  'id': '48',\n",
       "  'split': 'test',\n",
       "  'dataset_name': 'parallel_data/tr-Trac',\n",
       "  'language': 'tr',\n",
       "  'uncertainty': 0.689523,\n",
       "  'margin': 0.08508587},\n",
       " {'text': 'Nerede korkak polis. hepsi bilezik giyiyor ve uyuyor mu?',\n",
       "  'label': 1,\n",
       "  'id': '49',\n",
       "  'split': 'test',\n",
       "  'dataset_name': 'parallel_data/tr-Trac',\n",
       "  'language': 'tr',\n",
       "  'uncertainty': 0.6889654,\n",
       "  'margin': 0.09138882},\n",
       " {'text': 'O iki dönemdir başbakanken konuştuğunu hiç duymadım  ... şimdi birden o  konuşuyor ... Bu modi etkisi midir….sesli güldüm…',\n",
       "  'label': 1,\n",
       "  'id': '50',\n",
       "  'split': 'test',\n",
       "  'dataset_name': 'parallel_data/tr-Trac',\n",
       "  'language': 'tr',\n",
       "  'uncertainty': 0.688606,\n",
       "  'margin': 0.095229},\n",
       " {'text': 'Üst kast tarafından Dalit kadını tecavüz edildi ve zorla insan idrarı içmeye zorlandı',\n",
       "  'label': 0,\n",
       "  'id': '51',\n",
       "  'split': 'test',\n",
       "  'dataset_name': 'parallel_data/tr-Trac',\n",
       "  'language': 'tr',\n",
       "  'uncertainty': 0.68809426,\n",
       "  'margin': 0.10044345},\n",
       " {'text': 'Manish rahatla ve Pazarın keyfini çıkar. Siyasi meseleleri her gün tartışmada  hiç bir verimli yok. Sadece huzurlu bir  Pazar geçir.',\n",
       "  'label': 0,\n",
       "  'id': '52',\n",
       "  'split': 'test',\n",
       "  'dataset_name': 'parallel_data/tr-Trac',\n",
       "  'language': 'tr',\n",
       "  'uncertainty': 0.6886525,\n",
       "  'margin': 0.094741225},\n",
       " {'text': 'Hükümet sıradan insanın parasını yağmalamaya başladı. Aferin sıradan insanlar için kurallar. Tüm siyasetçi ve siyasi partiler bu kuraldan muaf tutulur.',\n",
       "  'label': 0,\n",
       "  'id': '53',\n",
       "  'split': 'test',\n",
       "  'dataset_name': 'parallel_data/tr-Trac',\n",
       "  'language': 'tr',\n",
       "  'uncertainty': 0.6872879,\n",
       "  'margin': 0.10814634},\n",
       " {'text': 'HADİ AMA bağırmayın çocuklar . Hepimiz dcsn’den  memnunuz. Geri kalan kendini öldürsün ..',\n",
       "  'label': 1,\n",
       "  'id': '54',\n",
       "  'split': 'test',\n",
       "  'dataset_name': 'parallel_data/tr-Trac',\n",
       "  'language': 'tr',\n",
       "  'uncertainty': 0.68571377,\n",
       "  'margin': 0.1217784},\n",
       " {'text': 'Önemsemeye çalışmayın çünkü  günümüzün hükümetini ülkenin değişmekte olduğunu söylüyor.Cesurlarımızı daha önce hiç olmayan bir hızda kaybediyor olmamıza ragmen ama biz jumla’ları daha çok seviyoruz ',\n",
       "  'label': 1,\n",
       "  'id': '55',\n",
       "  'split': 'test',\n",
       "  'dataset_name': 'parallel_data/tr-Trac',\n",
       "  'language': 'tr',\n",
       "  'uncertainty': 0.6876323,\n",
       "  'margin': 0.10492563},\n",
       " {'text': 'Umutsuz adam. 10 yıl ülkemizi hara petti  ve şimdi kötü bir nedenden dolayı da ağzını açar.',\n",
       "  'label': 1,\n",
       "  'id': '56',\n",
       "  'split': 'test',\n",
       "  'dataset_name': 'parallel_data/tr-Trac',\n",
       "  'language': 'tr',\n",
       "  'uncertainty': 0.68801796,\n",
       "  'margin': 0.10119721},\n",
       " {'text': 'Onur diğer taraftaydı . rahatsız etmemek için. Nautanki’yi görelim hükümet cevap verdiği zaman muhalefet oynayacak.',\n",
       "  'label': 0,\n",
       "  'id': '57',\n",
       "  'split': 'test',\n",
       "  'dataset_name': 'parallel_data/tr-Trac',\n",
       "  'language': 'tr',\n",
       "  'uncertainty': 0.6882236,\n",
       "  'margin': 0.099150956},\n",
       " {'text': 'Nitin Sharma .... sadece Brahmanlar gözünde taviz. Tavizin ne anlama geliğini biliyorsun,üst kastı yatıştırmak için hake den bir aday yerine bir faşisti seçmek. Brahmanların faşist ajandasına taviz için azınlıkların ölümüne dahil olan bütün suçlulara para makbuzu vererek. İnek dayatmacılığı dalitleri bir kenara koyarak sadece brahmanları yatıştırıyor . Buna yatıştırma denir. Şimdi hangi tavizden bahsediyorsun anlat.',\n",
       "  'label': 1,\n",
       "  'id': '58',\n",
       "  'split': 'test',\n",
       "  'dataset_name': 'parallel_data/tr-Trac',\n",
       "  'language': 'tr',\n",
       "  'uncertainty': 0.6884998,\n",
       "  'margin': 0.09633419},\n",
       " {'text': 'Leonidas vahşi doğaya gönderildi ... hayatta kalmayı öğrenmesi için ......',\n",
       "  'label': 0,\n",
       "  'id': '59',\n",
       "  'split': 'test',\n",
       "  'dataset_name': 'parallel_data/tr-Trac',\n",
       "  'language': 'tr',\n",
       "  'uncertainty': 0.6878222,\n",
       "  'margin': 0.10310626},\n",
       " {'text': 'Onlar bizim askerlerimizin vücutlarını parçalıyor ve kendi yararınız için bunu izleyin diyorsunuz.  Çöp medya kanalınızdan utanın',\n",
       "  'label': 1,\n",
       "  'id': '60',\n",
       "  'split': 'test',\n",
       "  'dataset_name': 'parallel_data/tr-Trac',\n",
       "  'language': 'tr',\n",
       "  'uncertainty': 0.6871352,\n",
       "  'margin': 0.10954377},\n",
       " {'text': 'Eksik belgelerin temelinde Adhar’a ulaşmamasına ne dersiniz ? Tüm belgeler nereye gitti?',\n",
       "  'label': 0,\n",
       "  'id': '61',\n",
       "  'split': 'test',\n",
       "  'dataset_name': 'parallel_data/tr-Trac',\n",
       "  'language': 'tr',\n",
       "  'uncertainty': 0.6874162,\n",
       "  'margin': 0.10695842},\n",
       " {'text': '\"Maun Mohan Singh\"  konuşuyor:). Yozlaşmış kongrenin kaptanı, büyük Hindistan yağmasının sessiz izleyicisi:) nadir bir olay, onda mide ağrısı olduğu da görünüyor.',\n",
       "  'label': 1,\n",
       "  'id': '62',\n",
       "  'split': 'test',\n",
       "  'dataset_name': 'parallel_data/tr-Trac',\n",
       "  'language': 'tr',\n",
       "  'uncertainty': 0.6878203,\n",
       "  'margin': 0.1031256},\n",
       " {'text': \"Başbakan bu saçma egzersizin maliyeti için  rakamları verdi mi ?? Bankalardan kendi paralarını çekmek için uğraşan insanların haytlarını kaybetmesini kabul etme?? RBI gelen birtakım yetkililer Başbakanı'nın sözlerine güvence veriyor  mu  ??\",\n",
       "  'label': 0,\n",
       "  'id': '63',\n",
       "  'split': 'test',\n",
       "  'dataset_name': 'parallel_data/tr-Trac',\n",
       "  'language': 'tr',\n",
       "  'uncertainty': 0.68753994,\n",
       "  'margin': 0.1057992},\n",
       " {'text': 'modi sadece Hindistan için değil dünyanın en büyük soytarısı',\n",
       "  'label': 1,\n",
       "  'id': '64',\n",
       "  'split': 'test',\n",
       "  'dataset_name': 'parallel_data/tr-Trac',\n",
       "  'language': 'tr',\n",
       "  'uncertainty': 0.68854785,\n",
       "  'margin': 0.095835656},\n",
       " {'text': 'Böyle olaylar için  bu milliyetçilerin muhaleffette olduğu zaman ve şimdi  kongre hükümetlerin haftalık politikası sorumludur .',\n",
       "  'label': 0,\n",
       "  'id': '65',\n",
       "  'split': 'test',\n",
       "  'dataset_name': 'parallel_data/tr-Trac',\n",
       "  'language': 'tr',\n",
       "  'uncertainty': 0.68830884,\n",
       "  'margin': 0.09829077},\n",
       " {'text': 'hindistan sahte demokrasiye sahip. Demokrasiye hakkında konuşacaksak onların demokrasinin araçlarının \"patanjli ürünü alma, inek eti  tecavüzü, Keşmirli öldürme çalmak vs anlamına geldiği satın sonucuna varabiliriz',\n",
       "  'label': 1,\n",
       "  'id': '66',\n",
       "  'split': 'test',\n",
       "  'dataset_name': 'parallel_data/tr-Trac',\n",
       "  'language': 'tr',\n",
       "  'uncertainty': 0.6891646,\n",
       "  'margin': 0.089188665},\n",
       " {'text': 'Şimd ibunu  konuşmanın  anlamı yok, onun egemenliği altında terörü teşvik  ettikten sonra,o bir kukla oldu.',\n",
       "  'label': 1,\n",
       "  'id': '67',\n",
       "  'split': 'test',\n",
       "  'dataset_name': 'parallel_data/tr-Trac',\n",
       "  'language': 'tr',\n",
       "  'uncertainty': 0.6876615,\n",
       "  'margin': 0.10464826},\n",
       " {'text': \"Kendilerinin NSG’ye layık olduğunu kanıtlamak için Pakistan naptı?  Sen bunda iken Kuzey Kore'ye üyelik ver. Ne saçma bir duruş!\",\n",
       "  'label': 1,\n",
       "  'id': '68',\n",
       "  'split': 'test',\n",
       "  'dataset_name': 'parallel_data/tr-Trac',\n",
       "  'language': 'tr',\n",
       "  'uncertainty': 0.6878193,\n",
       "  'margin': 0.10313529},\n",
       " {'text': 'Gen.RAWAT PAKİSTANLILARI SINIR KONTROLÜNÜ geçmeyle ve benim eşime ve kızıma TECAVÜZ etmeyle ve sonra güvenlice Pakistana kaçmayla  suçladım.  Şimdi bu Pakistanlılar beni TECAVÜZ etmekle suçluyorlar  ......',\n",
       "  'label': 1,\n",
       "  'id': '69',\n",
       "  'split': 'test',\n",
       "  'dataset_name': 'parallel_data/tr-Trac',\n",
       "  'language': 'tr',\n",
       "  'uncertainty': 0.6854002,\n",
       "  'margin': 0.12431395},\n",
       " {'text': 'Bu adama selam olsun o başbakan oldu ve böyle bir konuşma hazırlanmak için 10 yıl hizmet etti.Bu ruha aşığım.',\n",
       "  'label': 1,\n",
       "  'id': '70',\n",
       "  'split': 'test',\n",
       "  'dataset_name': 'parallel_data/tr-Trac',\n",
       "  'language': 'tr',\n",
       "  'uncertainty': 0.6876139,\n",
       "  'margin': 0.10510051},\n",
       " {'text': 'Evet  Kürdistanı  oluşturma konusunda verimli bir konuşma yapmamız gerekecek konusunda hemfikirim',\n",
       "  'label': 0,\n",
       "  'id': '71',\n",
       "  'split': 'test',\n",
       "  'dataset_name': 'parallel_data/tr-Trac',\n",
       "  'language': 'tr',\n",
       "  'uncertainty': 0.6885835,\n",
       "  'margin': 0.09546411},\n",
       " {'text': 'Zavallı Manmohansinghji; Muhtemelen tartışılmakta olan konuların 2G ve kömür dolandırıcılığı olduğunu sanıyor.',\n",
       "  'label': 1,\n",
       "  'id': '72',\n",
       "  'split': 'test',\n",
       "  'dataset_name': 'parallel_data/tr-Trac',\n",
       "  'language': 'tr',\n",
       "  'uncertainty': 0.68844545,\n",
       "  'margin': 0.096895814},\n",
       " {'text': 'Başbakanken hiç ağzını açmadı şimdi konuşuyor….. Hindistan halkı  kapamadan önce ağzını kapaması onun iyiliğine olur.....Sonia’nın kölesi',\n",
       "  'label': 1,\n",
       "  'id': '73',\n",
       "  'split': 'test',\n",
       "  'dataset_name': 'parallel_data/tr-Trac',\n",
       "  'language': 'tr',\n",
       "  'uncertainty': 0.68802404,\n",
       "  'margin': 0.10113788},\n",
       " {'text': 'Pakistan temelde  asker tarafından yönetilen devlet ve gelişmiş/güçlü ülkelerden sadaka almak için aldatan sahte demokrasidir ?? Aslında batık millet ??',\n",
       "  'label': 0,\n",
       "  'id': '74',\n",
       "  'split': 'test',\n",
       "  'dataset_name': 'parallel_data/tr-Trac',\n",
       "  'language': 'tr',\n",
       "  'uncertainty': 0.68833464,\n",
       "  'margin': 0.09802905},\n",
       " {'text': 'Ne oluyorsa olsun.. Manmohan Singh’in onurluca ve saygıyla başkan ve başbakanla konuşma yolu bir meclisin nasıl yürütülmesi  gerektiğinin yoludur  .. Belli bir parti değil .. Ya da şu anki kouşanın yaptığı gibi aciliyet gerektiren sözler değil... Meclis saygı ile yürütülmelidir',\n",
       "  'label': 0,\n",
       "  'id': '75',\n",
       "  'split': 'test',\n",
       "  'dataset_name': 'parallel_data/tr-Trac',\n",
       "  'language': 'tr',\n",
       "  'uncertainty': 0.68820226,\n",
       "  'margin': 0.09936562},\n",
       " {'text': 'Mohammed Allaudin. Beynini dijitalleştir ve ödül kazan.',\n",
       "  'label': 1,\n",
       "  'id': '76',\n",
       "  'split': 'test',\n",
       "  'dataset_name': 'parallel_data/tr-Trac',\n",
       "  'language': 'tr',\n",
       "  'uncertainty': 0.68819636,\n",
       "  'margin': 0.09942487},\n",
       " {'text': 'Açıkçası Nara Chandrababu Naidu öncülüğünde harika gidiyor !!!',\n",
       "  'label': 0,\n",
       "  'id': '77',\n",
       "  'split': 'test',\n",
       "  'dataset_name': 'parallel_data/tr-Trac',\n",
       "  'language': 'tr',\n",
       "  'uncertainty': 0.68697715,\n",
       "  'margin': 0.11097124},\n",
       " {'text': 'Umalım da bu sefer o emekli olmaktan emekli olsun  ...',\n",
       "  'label': 0,\n",
       "  'id': '78',\n",
       "  'split': 'test',\n",
       "  'dataset_name': 'parallel_data/tr-Trac',\n",
       "  'language': 'tr',\n",
       "  'uncertainty': 0.688233,\n",
       "  'margin': 0.09905708},\n",
       " {'text': 'Hint ordusu   bir insanı insan kalkan olarak kullanıyor kendinden utan Hint ordusu',\n",
       "  'label': 1,\n",
       "  'id': '79',\n",
       "  'split': 'test',\n",
       "  'dataset_name': 'parallel_data/tr-Trac',\n",
       "  'language': 'tr',\n",
       "  'uncertainty': 0.68699783,\n",
       "  'margin': 0.110785335},\n",
       " {'text': 'Tüm Hintliler destekler .... Jai Hind ... Jai Bharat ... Bazı aptal Müslümanlar  yorumluyor ….. neden rahatsız oluyorsunuz anlamıyorum... sadece kendi işini yap ardından yorumla .... Jai Modi',\n",
       "  'label': 1,\n",
       "  'id': '80',\n",
       "  'split': 'test',\n",
       "  'dataset_name': 'parallel_data/tr-Trac',\n",
       "  'language': 'tr',\n",
       "  'uncertainty': 0.68735385,\n",
       "  'margin': 0.107537776},\n",
       " {'text': 'Gördüğüm en yararsız  Hindistan başbakanı, o ülke için harika işler yapabilirdi onun görevde olduğu zaman nasıl da bir israf .',\n",
       "  'label': 1,\n",
       "  'id': '81',\n",
       "  'split': 'test',\n",
       "  'dataset_name': 'parallel_data/tr-Trac',\n",
       "  'language': 'tr',\n",
       "  'uncertainty': 0.6884998,\n",
       "  'margin': 0.096334726},\n",
       " {'text': 'Şimdi Keşmir konusunda diyalog istiyorsun  Kürdistan, Ermeni ve Yunan soykırımları üzerine karşı diyaloğa ne dersin,',\n",
       "  'label': 1,\n",
       "  'id': '82',\n",
       "  'split': 'test',\n",
       "  'dataset_name': 'parallel_data/tr-Trac',\n",
       "  'language': 'tr',\n",
       "  'uncertainty': 0.6876881,\n",
       "  'margin': 0.10439432},\n",
       " {'text': 'İşlemler banka kartları aracılığıyla olduğundan  nakitsiz temizim.Mutluyum',\n",
       "  'label': 0,\n",
       "  'id': '83',\n",
       "  'split': 'test',\n",
       "  'dataset_name': 'parallel_data/tr-Trac',\n",
       "  'language': 'tr',\n",
       "  'uncertainty': 0.6879835,\n",
       "  'margin': 0.101536155},\n",
       " {'text': 'Salman ahmad Hindistan Keşmir için Pakistanlı birlikte bir kez daha uluslararası bhikhari yapılan anlamına gelir. Lol ifadenizi okuduktan sonra gurunu',\n",
       "  'label': 1,\n",
       "  'id': '84',\n",
       "  'split': 'test',\n",
       "  'dataset_name': 'parallel_data/tr-Trac',\n",
       "  'language': 'tr',\n",
       "  'uncertainty': 0.68760514,\n",
       "  'margin': 0.10518396},\n",
       " {'text': 'Hayır..O lezbiyen . !! Cadı avcısı bizler onu öldürmesi gerekli',\n",
       "  'label': 1,\n",
       "  'id': '85',\n",
       "  'split': 'test',\n",
       "  'dataset_name': 'parallel_data/tr-Trac',\n",
       "  'language': 'tr',\n",
       "  'uncertainty': 0.6883005,\n",
       "  'margin': 0.09837568},\n",
       " {'text': 'o Sonia tarafından bu şekilde konuşmaya yday ‘e programlanmış gibi görünüyor ������',\n",
       "  'label': 1,\n",
       "  'id': '86',\n",
       "  'split': 'test',\n",
       "  'dataset_name': 'parallel_data/tr-Trac',\n",
       "  'language': 'tr',\n",
       "  'uncertainty': 0.689535,\n",
       "  'margin': 0.08494449},\n",
       " {'text': 'jio fever uzun süre güvenini koruyacak mı? Diğer telecolar mutlaka yakında yakalayacak?',\n",
       "  'label': 0,\n",
       "  'id': '87',\n",
       "  'split': 'test',\n",
       "  'dataset_name': 'parallel_data/tr-Trac',\n",
       "  'language': 'tr',\n",
       "  'uncertainty': 0.68794477,\n",
       "  'margin': 0.10191545},\n",
       " {'text': 'Sen kimsin de bizim saygı değer liderimiz hakkında böyle konuşuyorsun. Eğer bir destekçi veya üye isen lütfen buradan defol ve burada tekrar  siyah lanet yüzünü gösterme.',\n",
       "  'label': 1,\n",
       "  'id': '88',\n",
       "  'split': 'test',\n",
       "  'dataset_name': 'parallel_data/tr-Trac',\n",
       "  'language': 'tr',\n",
       "  'uncertainty': 0.6894355,\n",
       "  'margin': 0.086105585},\n",
       " {'text': 'Naresh ji. .... Seçmelerin için ne yaptın. ..çünkü sen insanları temsil ettiğini söylüyorsun ',\n",
       "  'label': 0,\n",
       "  'id': '89',\n",
       "  'split': 'test',\n",
       "  'dataset_name': 'parallel_data/tr-Trac',\n",
       "  'language': 'tr',\n",
       "  'uncertainty': 0.68882847,\n",
       "  'margin': 0.09287074},\n",
       " {'text': 'İİslam bir din değildir ve Allah büyük bir orospu çocuğudur .Kabul ediyosanız beğenin.',\n",
       "  'label': 1,\n",
       "  'id': '90',\n",
       "  'split': 'test',\n",
       "  'dataset_name': 'parallel_data/tr-Trac',\n",
       "  'language': 'tr',\n",
       "  'uncertainty': 0.6875025,\n",
       "  'margin': 0.10615146},\n",
       " {'text': 'Manmohan konuşması , böyle konuşmak için birileri onu zorlamış gibi hissettim.',\n",
       "  'label': 1,\n",
       "  'id': '91',\n",
       "  'split': 'test',\n",
       "  'dataset_name': 'parallel_data/tr-Trac',\n",
       "  'language': 'tr',\n",
       "  'uncertainty': 0.6872796,\n",
       "  'margin': 0.10822317},\n",
       " {'text': 'Kaşmirlilerin seçim yoluyla ne istediklerine karar vermelerine izin verelim',\n",
       "  'label': 0,\n",
       "  'id': '92',\n",
       "  'split': 'test',\n",
       "  'dataset_name': 'parallel_data/tr-Trac',\n",
       "  'language': 'tr',\n",
       "  'uncertainty': 0.6896475,\n",
       "  'margin': 0.08361325},\n",
       " {'text': 'MM bir konuşma yaptı, kesinlikle o her zaman olduğu gibi birisinin emrine itaat etti. ..',\n",
       "  'label': 1,\n",
       "  'id': '93',\n",
       "  'split': 'test',\n",
       "  'dataset_name': 'parallel_data/tr-Trac',\n",
       "  'language': 'tr',\n",
       "  'uncertainty': 0.68678063,\n",
       "  'margin': 0.112721056},\n",
       " {'text': \"MMS ‘e hakaret eden yorumlar giren herkes için bir dakika sessizlik. Bu adam 1990'larda ekonomiyi açmasaydı  hepiniz sikik bir sosyalist devlette yaşıyor olacaksınız.\",\n",
       "  'label': 1,\n",
       "  'id': '94',\n",
       "  'split': 'test',\n",
       "  'dataset_name': 'parallel_data/tr-Trac',\n",
       "  'language': 'tr',\n",
       "  'uncertainty': 0.68733907,\n",
       "  'margin': 0.10767451},\n",
       " {'text': 'oynamanın hızını nasıl artırabilirim !! MMS yavaş hareket halinde.',\n",
       "  'label': 1,\n",
       "  'id': '95',\n",
       "  'split': 'test',\n",
       "  'dataset_name': 'parallel_data/tr-Trac',\n",
       "  'language': 'tr',\n",
       "  'uncertainty': 0.68955576,\n",
       "  'margin': 0.08470106},\n",
       " {'text': 'Bana eli kanlı İslami milletlerin işgal ettiği ülke sayısını söyle',\n",
       "  'label': 1,\n",
       "  'id': '96',\n",
       "  'split': 'test',\n",
       "  'dataset_name': 'parallel_data/tr-Trac',\n",
       "  'language': 'tr',\n",
       "  'uncertainty': 0.68889165,\n",
       "  'margin': 0.09218991},\n",
       " {'text': \"Bir tarafta, aynı bakanlar ' her tür Şiddet' meşrulaştırılamaz diyor ve bir taraftan da aynı bakanlar  şiddet yapmak için silah veriyorlar. Bu anayasaya aykırı İnsanlık dışı ve kanunsuz  da.\",\n",
       "  'label': 1,\n",
       "  'id': '97',\n",
       "  'split': 'test',\n",
       "  'dataset_name': 'parallel_data/tr-Trac',\n",
       "  'language': 'tr',\n",
       "  'uncertainty': 0.6872685,\n",
       "  'margin': 0.108325005},\n",
       " {'text': 'Dışlanmış ilaç sektörü üzerine Anuj’un görüşü ne olmalıdır  .... Divi’s, Aurobindo, Sun, Glenmark, Cadilla gibi stoklar ....',\n",
       "  'label': 0,\n",
       "  'id': '98',\n",
       "  'split': 'test',\n",
       "  'dataset_name': 'parallel_data/tr-Trac',\n",
       "  'language': 'tr',\n",
       "  'uncertainty': 0.6867872,\n",
       "  'margin': 0.1126633},\n",
       " {'text': 'teşekkürler Sayın Başkan,  şimdi bütün Hindistanı arıyoruz,',\n",
       "  'label': 0,\n",
       "  'id': '99',\n",
       "  'split': 'test',\n",
       "  'dataset_name': 'parallel_data/tr-Trac',\n",
       "  'language': 'tr',\n",
       "  'uncertainty': 0.6877808,\n",
       "  'margin': 0.103506446},\n",
       " {'text': 'O halen kriket oynamayı hak ediyor. Onun asıl yaşı hala  +19 ������',\n",
       "  'label': 0,\n",
       "  'id': '100',\n",
       "  'split': 'test',\n",
       "  'dataset_name': 'parallel_data/tr-Trac',\n",
       "  'language': 'tr',\n",
       "  'uncertainty': 0.68962336,\n",
       "  'margin': 0.08390081},\n",
       " {'text': 'Bu allaudin taciz etmeye devam edecek,tam bir serseri . Ülkeden kovulmalı.',\n",
       "  'label': 1,\n",
       "  'id': '101',\n",
       "  'split': 'test',\n",
       "  'dataset_name': 'parallel_data/tr-Trac',\n",
       "  'language': 'tr',\n",
       "  'uncertainty': 0.68845206,\n",
       "  'margin': 0.0968276},\n",
       " {'text': 'Eğitimde bu iyi olacak .daha net matematik ve fizik özellikle trigonometri vizyonu verecek',\n",
       "  'label': 0,\n",
       "  'id': '102',\n",
       "  'split': 'test',\n",
       "  'dataset_name': 'parallel_data/tr-Trac',\n",
       "  'language': 'tr',\n",
       "  'uncertainty': 0.6890595,\n",
       "  'margin': 0.090355754},\n",
       " {'text': 'SENİN GİBİ BİR ADAM KHUJLIWAL JEE İLE ORADA OLMAMALI.  O HİB BİR ŞEY DEĞİL AMA BİR SOYTARI.',\n",
       "  'label': 1,\n",
       "  'id': '103',\n",
       "  'split': 'test',\n",
       "  'dataset_name': 'parallel_data/tr-Trac',\n",
       "  'language': 'tr',\n",
       "  'uncertainty': 0.68418103,\n",
       "  'margin': 0.13371098},\n",
       " {'text': 'TV18 ağı 18 ….lütfen  biraz iyi kazanç ve gerçek sonuçlar gösterin…eğer anlaşılmaz sonuçlar gösterirseniz başkalrından ne bekliyorsunuz? Siz bir numarasınız ..genel',\n",
       "  'label': 0,\n",
       "  'id': '104',\n",
       "  'split': 'test',\n",
       "  'dataset_name': 'parallel_data/tr-Trac',\n",
       "  'language': 'tr',\n",
       "  'uncertainty': 0.68728745,\n",
       "  'margin': 0.10815084},\n",
       " {'text': \"Efendim Modi’nin  Kalam ‘dan çok daha büyük vizyonu var. O Mahabharata'dan Sahdev gibi vizyonerdir.. Sahdev vizyonunu kullanarak hiç iyi bir şey yapamadı. Efendim  Modi dünyayı değiştirecek  ve Ram Rajya’yı getirecektir. Kalam ile karşılaştırarak onu aşağılamayı bırakın.\",\n",
       "  'label': 0,\n",
       "  'id': '105',\n",
       "  'split': 'test',\n",
       "  'dataset_name': 'parallel_data/tr-Trac',\n",
       "  'language': 'tr',\n",
       "  'uncertainty': 0.6868386,\n",
       "  'margin': 0.11220768},\n",
       " {'text': 'İşin ilginci bizim  anayasada \"bütçe\" denilen  kelimenin yok olmasıdır.',\n",
       "  'label': 0,\n",
       "  'id': '106',\n",
       "  'split': 'test',\n",
       "  'dataset_name': 'parallel_data/tr-Trac',\n",
       "  'language': 'tr',\n",
       "  'uncertainty': 0.68946457,\n",
       "  'margin': 0.08576748},\n",
       " {'text': 'Şimdi  Maharashtra ve punjabdan daha müreffeh bir eyelet olma zamanıdır',\n",
       "  'label': 0,\n",
       "  'id': '107',\n",
       "  'split': 'test',\n",
       "  'dataset_name': 'parallel_data/tr-Trac',\n",
       "  'language': 'tr',\n",
       "  'uncertainty': 0.6886666,\n",
       "  'margin': 0.09459251},\n",
       " {'text': 'bu insanlar benim sitemi heklemiş olabilir .... gözümün önünden kaybolun ... teşekkür ederim  CNBC Tv 18 harika zaman geçirdim ',\n",
       "  'label': 0,\n",
       "  'id': '108',\n",
       "  'split': 'test',\n",
       "  'dataset_name': 'parallel_data/tr-Trac',\n",
       "  'language': 'tr',\n",
       "  'uncertainty': 0.6870346,\n",
       "  'margin': 0.11045492},\n",
       " {'text': 'Nasıl bu kadar sorumsuz olabilirsiniz  biz  çoktan Kaşmirli masumları öldürüyoruz bu bizim cesur ordumuz ... şimdi bunu durdurun',\n",
       "  'label': 0,\n",
       "  'id': '109',\n",
       "  'split': 'test',\n",
       "  'dataset_name': 'parallel_data/tr-Trac',\n",
       "  'language': 'tr',\n",
       "  'uncertainty': 0.6877048,\n",
       "  'margin': 0.10423517},\n",
       " {'text': 'Tedavülden kaldırmanın  amacı Hindistanın yaptığı gibi nakit kullanımını durdurmaktır, hindistan  tüm büyük işlemlerin çek veya kredi kartı üzerinden  olmasını zorlamalıdır, nakit sadece küçük işlemler için kullanılmalıdır',\n",
       "  'label': 0,\n",
       "  'id': '110',\n",
       "  'split': 'test',\n",
       "  'dataset_name': 'parallel_data/tr-Trac',\n",
       "  'language': 'tr',\n",
       "  'uncertainty': 0.68847746,\n",
       "  'margin': 0.09656575},\n",
       " {'text': 'Ayrıca o önerildi,imkanı yok geçmeyecek, siz  büyük şirketlerin siyasette bir tol oynamadığını düşünüyorsunuz,eğer tasarı geçerse, yazılım şirketlerinin yarıdan fazlası kapatılacak',\n",
       "  'label': 0,\n",
       "  'id': '111',\n",
       "  'split': 'test',\n",
       "  'dataset_name': 'parallel_data/tr-Trac',\n",
       "  'language': 'tr',\n",
       "  'uncertainty': 0.68862313,\n",
       "  'margin': 0.09504959},\n",
       " {'text': 'O sadece hiç kimsenin sormadığı yerde konuşur ',\n",
       "  'label': 0,\n",
       "  'id': '112',\n",
       "  'split': 'test',\n",
       "  'dataset_name': 'parallel_data/tr-Trac',\n",
       "  'language': 'tr',\n",
       "  'uncertainty': 0.6891427,\n",
       "  'margin': 0.08943257},\n",
       " {'text': 'Başka bir deyişle, #Randian Ordusu Pakistanlı askerlerin Konttol Sınırını #Randian tarafından geçtiğini söylüyor. #Landian tarafından kimse onlarla çarpışmaya cesaret edemezken iki #Randian askerinin cesetlerini  parçaladılar ve geri geldiler. Parçalama nasıl mümkündü belki o gerçek bir #Cerrahi_Müdahale idi. : p = D',\n",
       "  'label': 1,\n",
       "  'id': '113',\n",
       "  'split': 'test',\n",
       "  'dataset_name': 'parallel_data/tr-Trac',\n",
       "  'language': 'tr',\n",
       "  'uncertainty': 0.68729246,\n",
       "  'margin': 0.10810384},\n",
       " {'text': 'Şah rukh Khan iş lideri mi yoksa toplum lideri midir?',\n",
       "  'label': 1,\n",
       "  'id': '114',\n",
       "  'split': 'test',\n",
       "  'dataset_name': 'parallel_data/tr-Trac',\n",
       "  'language': 'tr',\n",
       "  'uncertainty': 0.68720686,\n",
       "  'margin': 0.10889006},\n",
       " {'text': 'Ahmak o daha fazla maliyet yaratacak fotoğrafları kaldırmamak için kredilendirildi  ',\n",
       "  'label': 0,\n",
       "  'id': '115',\n",
       "  'split': 'test',\n",
       "  'dataset_name': 'parallel_data/tr-Trac',\n",
       "  'language': 'tr',\n",
       "  'uncertainty': 0.68795025,\n",
       "  'margin': 0.10186157},\n",
       " {'text': 'Modi liderliğine şapka çıkartın. Biz Hintliler daha iyisini bulamayız',\n",
       "  'label': 0,\n",
       "  'id': '116',\n",
       "  'split': 'test',\n",
       "  'dataset_name': 'parallel_data/tr-Trac',\n",
       "  'language': 'tr',\n",
       "  'uncertainty': 0.68716216,\n",
       "  'margin': 0.109298766},\n",
       " {'text': 'kim konuşuyor görün..: 12 yıl sonrasında komadan çıkmış gibi görünüyor -)',\n",
       "  'label': 1,\n",
       "  'id': '117',\n",
       "  'split': 'test',\n",
       "  'dataset_name': 'parallel_data/tr-Trac',\n",
       "  'language': 'tr',\n",
       "  'uncertainty': 0.6885345,\n",
       "  'margin': 0.09597519},\n",
       " {'text': 'İnsanlar  diğer ülkelerin bankalarından para çekmenin   de bir strateji olduğuna eminim. Ama şimdilik bu Hindistan ������������it tarafından cesur bir hareket sıradan insane birkaç gün içinde sıkıntı çıkarabilir ama  uzun vadede bu hepimizi mutlu edecek ve Hindistan artık gelişen bir ülke olarak anılmayacak.... ������ ������������������������������',\n",
       "  'label': 0,\n",
       "  'id': '118',\n",
       "  'split': 'test',\n",
       "  'dataset_name': 'parallel_data/tr-Trac',\n",
       "  'language': 'tr',\n",
       "  'uncertainty': 0.6875414,\n",
       "  'margin': 0.10578531},\n",
       " {'text': 'Sonia’nın eli kanlı müriti. O 10 yıl boyunca bu kadar çok konuşsaydı, bir veya iki iyi şey onun tarafından bitmiş olurdu',\n",
       "  'label': 1,\n",
       "  'id': '119',\n",
       "  'split': 'test',\n",
       "  'dataset_name': 'parallel_data/tr-Trac',\n",
       "  'language': 'tr',\n",
       "  'uncertainty': 0.6877382,\n",
       "  'margin': 0.10391572},\n",
       " {'text': 'Gandi Katili Ram (Nathu)  Hindistan’da Tapınak   ......  Hindistan için büyük ayıp ....',\n",
       "  'label': 0,\n",
       "  'id': '120',\n",
       "  'split': 'test',\n",
       "  'dataset_name': 'parallel_data/tr-Trac',\n",
       "  'language': 'tr',\n",
       "  'uncertainty': 0.6874324,\n",
       "  'margin': 0.106806934},\n",
       " {'text': 'Sesli güldüm  ona güzel bir  fincan kahve ısmarla, ona etrafı göster ve onu geri gönder. Türkiye ve Pakistan ikizler.',\n",
       "  'label': 1,\n",
       "  'id': '121',\n",
       "  'split': 'test',\n",
       "  'dataset_name': 'parallel_data/tr-Trac',\n",
       "  'language': 'tr',\n",
       "  'uncertainty': 0.68769467,\n",
       "  'margin': 0.10433248},\n",
       " {'text': 'Ne olursa olsun bazı aptal insanlar modi qutta’yı desteklemeyi  asla bırakmayacaklar ',\n",
       "  'label': 1,\n",
       "  'id': '122',\n",
       "  'split': 'test',\n",
       "  'dataset_name': 'parallel_data/tr-Trac',\n",
       "  'language': 'tr',\n",
       "  'uncertainty': 0.6881467,\n",
       "  'margin': 0.09992108},\n",
       " {'text': \"Eğer Türkiye Pakistan’nın Keşmir üzerindeki duruşunu destekliyorsa o zaman Hindistan’ın karşılığında  tek taraflı olarak Kürdistanı, Kıbrıss ve Yunanistan'ı desteklemesi gerekir\",\n",
       "  'label': 1,\n",
       "  'id': '123',\n",
       "  'split': 'test',\n",
       "  'dataset_name': 'parallel_data/tr-Trac',\n",
       "  'language': 'tr',\n",
       "  'uncertainty': 0.6869917,\n",
       "  'margin': 0.11084065},\n",
       " {'text': 'Ben onun uzun bir süre sonra neden ağzını açtığını bilmiyorum .. Domuz gibi kapatsa daha iyi',\n",
       "  'label': 1,\n",
       "  'id': '124',\n",
       "  'split': 'test',\n",
       "  'dataset_name': 'parallel_data/tr-Trac',\n",
       "  'language': 'tr',\n",
       "  'uncertainty': 0.6887966,\n",
       "  'margin': 0.093212545},\n",
       " {'text': 'Merhaba Anuj ....... Petrol Pazarlama Şirketi’nde patlak verme olduğunu bekleyebilir miyiz…. girmek için doğru zaman  mı ...?',\n",
       "  'label': 0,\n",
       "  'id': '125',\n",
       "  'split': 'test',\n",
       "  'dataset_name': 'parallel_data/tr-Trac',\n",
       "  'language': 'tr',\n",
       "  'uncertainty': 0.68967855,\n",
       "  'margin': 0.08324203},\n",
       " {'text': 'Tweetle onu efendim, burada yalvaranmak  size cevap vermeyecektir :) Konu siyasesi gurur ve ülkelere geldiğinde Facebook gerzeklerin ülkesidir ...',\n",
       "  'label': 1,\n",
       "  'id': '126',\n",
       "  'split': 'test',\n",
       "  'dataset_name': 'parallel_data/tr-Trac',\n",
       "  'language': 'tr',\n",
       "  'uncertainty': 0.6876484,\n",
       "  'margin': 0.104773134},\n",
       " {'text': 'Hindistan ordusu senin için en iyi yer olan cehenneme git',\n",
       "  'label': 1,\n",
       "  'id': '127',\n",
       "  'split': 'test',\n",
       "  'dataset_name': 'parallel_data/tr-Trac',\n",
       "  'language': 'tr',\n",
       "  'uncertainty': 0.68832207,\n",
       "  'margin': 0.09815708},\n",
       " {'text': '..Her neyse kim o ..onun saçmalığı haklı bulunuyor çünkü o akshay kumarın eşi..',\n",
       "  'label': 1,\n",
       "  'id': '128',\n",
       "  'split': 'test',\n",
       "  'dataset_name': 'parallel_data/tr-Trac',\n",
       "  'language': 'tr',\n",
       "  'uncertainty': 0.687418,\n",
       "  'margin': 0.10694206},\n",
       " {'text': 'Pakistan  Ordusu Hindistan topraklarına izinsiz girdi, Hint askerlerini öldürdü, bisküvitle beraber biraz çay içit, onların vücutlarını parçaladı ve kışlalarına geri döndü, şimdi  bana bütün bu rezillikler olurken hindistan sınır güçleri ne yapıyordu söyleyin mia khalifa ve sunny leone mi izliyordu?',\n",
       "  'label': 1,\n",
       "  'id': '129',\n",
       "  'split': 'test',\n",
       "  'dataset_name': 'parallel_data/tr-Trac',\n",
       "  'language': 'tr',\n",
       "  'uncertainty': 0.68763804,\n",
       "  'margin': 0.1048719},\n",
       " {'text': 'Bakın kim konuşuyor….hiçbir şey yapmadı ama hükümetin iyi hareketlerine saldırmada çok iyi.... gerçekten bu insanlar ulus için utanç',\n",
       "  'label': 1,\n",
       "  'id': '130',\n",
       "  'split': 'test',\n",
       "  'dataset_name': 'parallel_data/tr-Trac',\n",
       "  'language': 'tr',\n",
       "  'uncertainty': 0.68736947,\n",
       "  'margin': 0.1073927},\n",
       " {'text': 'Mauni Singh  senaryoda yazılanlara ikna etmek için çok çabalıyor … beden dili her şeyi söylüyor',\n",
       "  'label': 1,\n",
       "  'id': '131',\n",
       "  'split': 'test',\n",
       "  'dataset_name': 'parallel_data/tr-Trac',\n",
       "  'language': 'tr',\n",
       "  'uncertainty': 0.68849236,\n",
       "  'margin': 0.096411735},\n",
       " {'text': 'MAN MAUN SİNGH MUAZZAM KÖTÜ YÖNETİMİ  KONUŞTU .... DİLERİM KENDİ GÖREV SÜRESİNDEKİ MUAZZAM DOLANDIRICILIĞI DA KONUŞUR .... KONUŞMASININ TEK ÖNEMLİ NOKTASI ONUN KONUŞMASIYD.. bİR CONG KUKLA KONUŞUYO GİBİ OLSA DAHİ',\n",
       "  'label': 0,\n",
       "  'id': '132',\n",
       "  'split': 'test',\n",
       "  'dataset_name': 'parallel_data/tr-Trac',\n",
       "  'language': 'tr',\n",
       "  'uncertainty': 0.6846672,\n",
       "  'margin': 0.13004562},\n",
       " {'text': 'Bharti - şimdi  konsolide oldu  o iyi bir satın alış',\n",
       "  'label': 0,\n",
       "  'id': '133',\n",
       "  'split': 'test',\n",
       "  'dataset_name': 'parallel_data/tr-Trac',\n",
       "  'language': 'tr',\n",
       "  'uncertainty': 0.6867094,\n",
       "  'margin': 0.11334887},\n",
       " {'text': 'Bu bakan kocasını dövmek için ona sopa vermek yerine alkolü yasaklamalı….bu yeni evli çiftlere ne öğretmeye çalışıyorsunız .. Ne kadar bir Aptalca fikir ..',\n",
       "  'label': 1,\n",
       "  'id': '134',\n",
       "  'split': 'test',\n",
       "  'dataset_name': 'parallel_data/tr-Trac',\n",
       "  'language': 'tr',\n",
       "  'uncertainty': 0.6888002,\n",
       "  'margin': 0.09317425},\n",
       " {'text': 'Yalnızca Hinduları dahil ettiğinde nasıl RNDTV SON DAKİKA HABERLERİNİ yapar ve rahatlıkla Hristiyanİslamist Hindu karşıtı güçlerin yaptıklarını kaçırır ya da saklar? Kairana göçü ne olacak? Neden Dr. Narang’e   hiçbir öfke ce linç etme yok?',\n",
       "  'label': 1,\n",
       "  'id': '135',\n",
       "  'split': 'test',\n",
       "  'dataset_name': 'parallel_data/tr-Trac',\n",
       "  'language': 'tr',\n",
       "  'uncertainty': 0.68558204,\n",
       "  'margin': 0.12285},\n",
       " {'text': \"Ajmal qasab Hindistan'ın sonraki başbakanı ve Hafaiz Saeed Hindistan'ın sonraki başbakanı\",\n",
       "  'label': 0,\n",
       "  'id': '136',\n",
       "  'split': 'test',\n",
       "  'dataset_name': 'parallel_data/tr-Trac',\n",
       "  'language': 'tr',\n",
       "  'uncertainty': 0.6870644,\n",
       "  'margin': 0.11018512},\n",
       " {'text': 'İnsanların propaganda  ve güdülendirilmiş yayınları paylaşmasını durdurmasını diliyorum. TV 18 açıkça ödevini yapmadı. En iyi yanı onlar (finansal kanal olarak)  bu videonun Facebook tanıtımı için para harcıyorlar  ve kendilerinin çığır açan  finansal gazeteciliğine(belki de yok) değil...',\n",
       "  'label': 0,\n",
       "  'id': '137',\n",
       "  'split': 'test',\n",
       "  'dataset_name': 'parallel_data/tr-Trac',\n",
       "  'language': 'tr',\n",
       "  'uncertainty': 0.68775904,\n",
       "  'margin': 0.10371518},\n",
       " {'text': 'O korkak saldırı RAW(Hindistan İstihbarat Bürosu) tarafından planlanmış anlamına gelir... #Ezikler',\n",
       "  'label': 0,\n",
       "  'id': '138',\n",
       "  'split': 'test',\n",
       "  'dataset_name': 'parallel_data/tr-Trac',\n",
       "  'language': 'tr',\n",
       "  'uncertainty': 0.6856904,\n",
       "  'margin': 0.121968746},\n",
       " {'text': 'tüm #RendianKöpekleri’ni  birden öldür  ve  onları #KatilModi’nin boynunun etrafına as',\n",
       "  'label': 1,\n",
       "  'id': '139',\n",
       "  'split': 'test',\n",
       "  'dataset_name': 'parallel_data/tr-Trac',\n",
       "  'language': 'tr',\n",
       "  'uncertainty': 0.6871202,\n",
       "  'margin': 0.10968006},\n",
       " {'text': 'Onların film endüstrisi var  ve filmler yapıyorlar. Seyirci Hindistan’da olduğu gibi buyük olmayabilir  o yüzden Hint filmleri ile karşılaştırıldığında o kadar kar yapmazlar……',\n",
       "  'label': 0,\n",
       "  'id': '140',\n",
       "  'split': 'test',\n",
       "  'dataset_name': 'parallel_data/tr-Trac',\n",
       "  'language': 'tr',\n",
       "  'uncertainty': 0.6860573,\n",
       "  'margin': 0.11893749},\n",
       " {'text': 'Vay kurşunlar inek pisliğinden yapılmışlar ve vücutlarını delmeden önce bile ölümcül kimyasal inek idrarı mermiler düşmanları öldürür  .',\n",
       "  'label': 1,\n",
       "  'id': '141',\n",
       "  'split': 'test',\n",
       "  'dataset_name': 'parallel_data/tr-Trac',\n",
       "  'language': 'tr',\n",
       "  'uncertainty': 0.68852687,\n",
       "  'margin': 0.096054345},\n",
       " {'text': \"Narendra midi ji  sadece Hindistan'ın  en büyük lideri değil, aynı zamanda bütün dünyada \",\n",
       "  'label': 0,\n",
       "  'id': '142',\n",
       "  'split': 'test',\n",
       "  'dataset_name': 'parallel_data/tr-Trac',\n",
       "  'language': 'tr',\n",
       "  'uncertainty': 0.68903935,\n",
       "  'margin': 0.090578765},\n",
       " {'text': 'Birisi onun türbanını çıkarsın lütfen! O bir Sih olmaya layık değil!',\n",
       "  'label': 1,\n",
       "  'id': '143',\n",
       "  'split': 'test',\n",
       "  'dataset_name': 'parallel_data/tr-Trac',\n",
       "  'language': 'tr',\n",
       "  'uncertainty': 0.68785655,\n",
       "  'margin': 0.10277459},\n",
       " {'text': '#Niaz_Khosa 2017 için google’dan arat siz  6. en fazla tecavüz edilen hindistandaki eyaletsiniz ilk 25’te değil ..... Beyfendi randinin Oğlu',\n",
       "  'label': 1,\n",
       "  'id': '144',\n",
       "  'split': 'test',\n",
       "  'dataset_name': 'parallel_data/tr-Trac',\n",
       "  'language': 'tr',\n",
       "  'uncertainty': 0.68849456,\n",
       "  'margin': 0.09638819},\n",
       " {'text': '@HillaryClinton kazanırsa Nifty  6 ayda  9120 dokunacak , eğer @realDonaldTrump kazanırsa Nifty 6 haftada 9120’yi geçecektir; ama ikisini de beğenmiyorum',\n",
       "  'label': 0,\n",
       "  'id': '145',\n",
       "  'split': 'test',\n",
       "  'dataset_name': 'parallel_data/tr-Trac',\n",
       "  'language': 'tr',\n",
       "  'uncertainty': 0.68805313,\n",
       "  'margin': 0.100850284},\n",
       " {'text': 'Maharashtra’da daha fazla su kaynakları kur... Her köy derin ve geniş su kaynağına sahip olmalı',\n",
       "  'label': 0,\n",
       "  'id': '146',\n",
       "  'split': 'test',\n",
       "  'dataset_name': 'parallel_data/tr-Trac',\n",
       "  'language': 'tr',\n",
       "  'uncertainty': 0.68883586,\n",
       "  'margin': 0.09279156},\n",
       " {'text': 'Repo oranı % 6.25 düzeyinde sabit kaldı , Ters Repo değeri  % 6’ya yükseldi ,  gelir gider oranı  %4te sabit kaldı',\n",
       "  'label': 0,\n",
       "  'id': '147',\n",
       "  'split': 'test',\n",
       "  'dataset_name': 'parallel_data/tr-Trac',\n",
       "  'language': 'tr',\n",
       "  'uncertainty': 0.6879226,\n",
       "  'margin': 0.10213202},\n",
       " {'text': 'L & T mfg’yi savunmada  ço az rekabete sahip: AM Naik',\n",
       "  'label': 0,\n",
       "  'id': '148',\n",
       "  'split': 'test',\n",
       "  'dataset_name': 'parallel_data/tr-Trac',\n",
       "  'language': 'tr',\n",
       "  'uncertainty': 0.68844473,\n",
       "  'margin': 0.096903},\n",
       " {'text': 'Ben bankadan 10 bin çektim  & onlar bana 1000 tanenin 9 senetini verdiler.Moro’ya gidiyorum , taxi şöförüne nasıl ödeyebilirim ',\n",
       "  'label': 0,\n",
       "  'id': '149',\n",
       "  'split': 'test',\n",
       "  'dataset_name': 'parallel_data/tr-Trac',\n",
       "  'language': 'tr',\n",
       "  'uncertainty': 0.6869453,\n",
       "  'margin': 0.11125699},\n",
       " {'text': 'Pak ordusu  modi’nin kızına tecavüz eder ve geri döner. Şimdi modi torunlarının 4 gerçek babasını arıyor',\n",
       "  'label': 0,\n",
       "  'id': '150',\n",
       "  'split': 'test',\n",
       "  'dataset_name': 'parallel_data/tr-Trac',\n",
       "  'language': 'tr',\n",
       "  'uncertainty': 0.68808186,\n",
       "  'margin': 0.100566},\n",
       " {'text': 'Parlamentoda en öğrenmiş kişi…köpekler havlarken  bilge insanlar sessiz kalır….Aynısını yapıyor',\n",
       "  'label': 1,\n",
       "  'id': '151',\n",
       "  'split': 'test',\n",
       "  'dataset_name': 'parallel_data/tr-Trac',\n",
       "  'language': 'tr',\n",
       "  'uncertainty': 0.6887287,\n",
       "  'margin': 0.09393644},\n",
       " {'text': 'Buna büyütülecek ne var , İnsanların istediklerini yemeye hakkı var.',\n",
       "  'label': 0,\n",
       "  'id': '152',\n",
       "  'split': 'test',\n",
       "  'dataset_name': 'parallel_data/tr-Trac',\n",
       "  'language': 'tr',\n",
       "  'uncertainty': 0.68730307,\n",
       "  'margin': 0.10800636},\n",
       " {'text': 'Çok kötü konuşmacı olduğundan konuşmaktan kaçındı mı?  Salyangoz hızında konuşuyor.',\n",
       "  'label': 1,\n",
       "  'id': '153',\n",
       "  'split': 'test',\n",
       "  'dataset_name': 'parallel_data/tr-Trac',\n",
       "  'language': 'tr',\n",
       "  'uncertainty': 0.68830967,\n",
       "  'margin': 0.09828204},\n",
       " {'text': 'Orada bazı hatalar var ,Sharad Pawar’I aşağıladılar, o bir sonraki başkan adayı  ������',\n",
       "  'label': 0,\n",
       "  'id': '154',\n",
       "  'split': 'test',\n",
       "  'dataset_name': 'parallel_data/tr-Trac',\n",
       "  'language': 'tr',\n",
       "  'uncertainty': 0.6877707,\n",
       "  'margin': 0.10360348},\n",
       " {'text': 'Müthiş adam, o görev süresinde iyi iş yapıyor... Mevcut başbalan namo chee gibi bir havlama değil',\n",
       "  'label': 1,\n",
       "  'id': '155',\n",
       "  'split': 'test',\n",
       "  'dataset_name': 'parallel_data/tr-Trac',\n",
       "  'language': 'tr',\n",
       "  'uncertainty': 0.68843573,\n",
       "  'margin': 0.096995115},\n",
       " {'text': 'Onu açar ve bir tuğla olmadığını kontrol ederdim: P',\n",
       "  'label': 0,\n",
       "  'id': '156',\n",
       "  'split': 'test',\n",
       "  'dataset_name': 'parallel_data/tr-Trac',\n",
       "  'language': 'tr',\n",
       "  'uncertainty': 0.6900541,\n",
       "  'margin': 0.07861161},\n",
       " {'text': 'Yaskant izledikten sonra yoğun stress altında kendi şiirini okuyan korkmuş bir öğrenciye benzediğine katılıyorum ������������������������ ',\n",
       "  'label': 1,\n",
       "  'id': '157',\n",
       "  'split': 'test',\n",
       "  'dataset_name': 'parallel_data/tr-Trac',\n",
       "  'language': 'tr',\n",
       "  'uncertainty': 0.6884915,\n",
       "  'margin': 0.09642056},\n",
       " {'text': 'Aptal adam. Okumadan konuşamıyor bile  tedavülden kaldırma kararını savunuyor������',\n",
       "  'label': 1,\n",
       "  'id': '158',\n",
       "  'split': 'test',\n",
       "  'dataset_name': 'parallel_data/tr-Trac',\n",
       "  'language': 'tr',\n",
       "  'uncertainty': 0.68891793,\n",
       "  'margin': 0.09190509},\n",
       " {'text': \"Pakistan 2 jawanı parçalayarak Hindistan'ı küçük düşürdü. 2013'ten önce çıldıran BJP liderlerinin şaşırtıcı sabrı için takdir ediyorum\",\n",
       "  'label': 1,\n",
       "  'id': '159',\n",
       "  'split': 'test',\n",
       "  'dataset_name': 'parallel_data/tr-Trac',\n",
       "  'language': 'tr',\n",
       "  'uncertainty': 0.6879507,\n",
       "  'margin': 0.10185778},\n",
       " {'text': \"Bu kişi Aqsa Kashmiri kadınlar adına utanç vericidir. Gerçekten bu kişiye kadın demekten utanıyorum. Benim rastlamağım en kötü kadın. O  kadın ahlaki değerlerine sahip değil. Asla dünyaya böyle bir insan getirmemeleri içim, Bhagwan’a ve Allah'a ,ki onlar aynı, yalvarıyorum. Buna bir kadın demekten utanın.........\",\n",
       "  'label': 1,\n",
       "  'id': '160',\n",
       "  'split': 'test',\n",
       "  'dataset_name': 'parallel_data/tr-Trac',\n",
       "  'language': 'tr',\n",
       "  'uncertainty': 0.68617177,\n",
       "  'margin': 0.11797637},\n",
       " {'text': 'Erdoğanın canice kendi ülkesindeki kürtleri öldürdüğünü hatırla',\n",
       "  'label': 1,\n",
       "  'id': '161',\n",
       "  'split': 'test',\n",
       "  'dataset_name': 'parallel_data/tr-Trac',\n",
       "  'language': 'tr',\n",
       "  'uncertainty': 0.6887672,\n",
       "  'margin': 0.093526274},\n",
       " {'text': 'Müthiş gidiyor modi efendim, halen plan ve boşluklarına dikkatli olunmalı. ',\n",
       "  'label': 0,\n",
       "  'id': '162',\n",
       "  'split': 'test',\n",
       "  'dataset_name': 'parallel_data/tr-Trac',\n",
       "  'language': 'tr',\n",
       "  'uncertainty': 0.6877278,\n",
       "  'margin': 0.10401547},\n",
       " {'text': 'Bu adam Hindistan önemlidir diyecek, ancak Pakistan daha önemlidir çünkü  İslam ülkesidir  ... ������',\n",
       "  'label': 1,\n",
       "  'id': '163',\n",
       "  'split': 'test',\n",
       "  'dataset_name': 'parallel_data/tr-Trac',\n",
       "  'language': 'tr',\n",
       "  'uncertainty': 0.6855587,\n",
       "  'margin': 0.12303835},\n",
       " {'text': 'Lütfen Asya ve Atlantik kıyı konferansı üzerine görüşünüzü öğrenmemize izni verir misiniz?',\n",
       "  'label': 0,\n",
       "  'id': '164',\n",
       "  'split': 'test',\n",
       "  'dataset_name': 'parallel_data/tr-Trac',\n",
       "  'language': 'tr',\n",
       "  'uncertainty': 0.6863787,\n",
       "  'margin': 0.11621708},\n",
       " {'text': 'Pakistan Çin desteğiyle cesaretletlendiriliyor  aksi halde böyle bir eylemlere girişmeyecekler. Eli kanlı korkaklar. Bu arada Hindistan  tüm ekonomik parametrelerde çok ileride ve Pakistan kendini bir dev ile karşılaştırmayı durdurucak  zamanı . Pakistan’ın Çin’in kontrolü altında olduğunu fark edecekler,halen farketmedilerse. ',\n",
       "  'label': 1,\n",
       "  'id': '165',\n",
       "  'split': 'test',\n",
       "  'dataset_name': 'parallel_data/tr-Trac',\n",
       "  'language': 'tr',\n",
       "  'uncertainty': 0.6873289,\n",
       "  'margin': 0.10776842},\n",
       " {'text': \"Hızlı ..... onlara Mr Modi ji'nin göğüs büyüklüğünü anlat ������\",\n",
       "  'label': 1,\n",
       "  'id': '166',\n",
       "  'split': 'test',\n",
       "  'dataset_name': 'parallel_data/tr-Trac',\n",
       "  'language': 'tr',\n",
       "  'uncertainty': 0.6894958,\n",
       "  'margin': 0.08540341},\n",
       " {'text': 'FY17 sabit mevduat büyümesi tek haneli oldu: HDFC Bankası',\n",
       "  'label': 0,\n",
       "  'id': '167',\n",
       "  'split': 'test',\n",
       "  'dataset_name': 'parallel_data/tr-Trac',\n",
       "  'language': 'tr',\n",
       "  'uncertainty': 0.68705547,\n",
       "  'margin': 0.11026594},\n",
       " {'text': 'Ah Modi etkisini bunda da görüyosun! Sizler için şapka çıkarıyorum çocuklar - Muhtemelen siz de  Dr. Singh’i sorgulayacak akıl yok',\n",
       "  'label': 1,\n",
       "  'id': '168',\n",
       "  'split': 'test',\n",
       "  'dataset_name': 'parallel_data/tr-Trac',\n",
       "  'language': 'tr',\n",
       "  'uncertainty': 0.6875261,\n",
       "  'margin': 0.10592997},\n",
       " {'text': 'Merhaba uyuyor musun Modi ji ?. Ve arun jaitly beyfendi ve rajnath singh nerede. Bizim güvenlik güçleri ne kadar uzun zaman  .... olacak ?',\n",
       "  'label': 1,\n",
       "  'id': '169',\n",
       "  'split': 'test',\n",
       "  'dataset_name': 'parallel_data/tr-Trac',\n",
       "  'language': 'tr',\n",
       "  'uncertainty': 0.6894498,\n",
       "  'margin': 0.08594045},\n",
       " {'text': 'Yüksek temasların olmadığı sürece parmaklıklar arkasında olacaksın',\n",
       "  'label': 0,\n",
       "  'id': '170',\n",
       "  'split': 'test',\n",
       "  'dataset_name': 'parallel_data/tr-Trac',\n",
       "  'language': 'tr',\n",
       "  'uncertainty': 0.6900631,\n",
       "  'margin': 0.078496695},\n",
       " {'text': 'Bugünlerde RBI hükümetin elinde kukla ',\n",
       "  'label': 1,\n",
       "  'id': '171',\n",
       "  'split': 'test',\n",
       "  'dataset_name': 'parallel_data/tr-Trac',\n",
       "  'language': 'tr',\n",
       "  'uncertainty': 0.6889725,\n",
       "  'margin': 0.09131193},\n",
       " {'text': 'Çok iyi,  büyük bizim ülkemizin gelişmesi ve önemi için okul çocuklarına yeni şeyler öğret .....',\n",
       "  'label': 0,\n",
       "  'id': '172',\n",
       "  'split': 'test',\n",
       "  'dataset_name': 'parallel_data/tr-Trac',\n",
       "  'language': 'tr',\n",
       "  'uncertainty': 0.6897162,\n",
       "  'margin': 0.082789004},\n",
       " {'text': 'Ha ha ha ha mr. Singh konuşabiliyor ������',\n",
       "  'label': 1,\n",
       "  'id': '173',\n",
       "  'split': 'test',\n",
       "  'dataset_name': 'parallel_data/tr-Trac',\n",
       "  'language': 'tr',\n",
       "  'uncertainty': 0.69062144,\n",
       "  'margin': 0.071044},\n",
       " {'text': 'Davaya teröristler  yasası ile devam edin ! Onun İŞİD ile bağları olmalı.',\n",
       "  'label': 0,\n",
       "  'id': '174',\n",
       "  'split': 'test',\n",
       "  'dataset_name': 'parallel_data/tr-Trac',\n",
       "  'language': 'tr',\n",
       "  'uncertainty': 0.687428,\n",
       "  'margin': 0.10684872},\n",
       " {'text': 'Hintli insanlar sadece yatak politikalarını sever Sonia ve Rahul gibi',\n",
       "  'label': 1,\n",
       "  'id': '175',\n",
       "  'split': 'test',\n",
       "  'dataset_name': 'parallel_data/tr-Trac',\n",
       "  'language': 'tr',\n",
       "  'uncertainty': 0.6862191,\n",
       "  'margin': 0.117575824},\n",
       " {'text': \"Modi Ji tüm lot ve SOP'a hat açılması bana sağladı: P\",\n",
       "  'label': 0,\n",
       "  'id': '176',\n",
       "  'split': 'test',\n",
       "  'dataset_name': 'parallel_data/tr-Trac',\n",
       "  'language': 'tr',\n",
       "  'uncertainty': 0.6892179,\n",
       "  'margin': 0.08859056},\n",
       " {'text': 'Fakierler onların şimdi yiyecekleri yok .... ilk olarak onları besleyin .....',\n",
       "  'label': 1,\n",
       "  'id': '177',\n",
       "  'split': 'test',\n",
       "  'dataset_name': 'parallel_data/tr-Trac',\n",
       "  'language': 'tr',\n",
       "  'uncertainty': 0.6878004,\n",
       "  'margin': 0.10331759},\n",
       " {'text': 'Sherin teşekküler sana. Bu yeni ya da eski haber mi ....?',\n",
       "  'label': 0,\n",
       "  'id': '178',\n",
       "  'split': 'test',\n",
       "  'dataset_name': 'parallel_data/tr-Trac',\n",
       "  'language': 'tr',\n",
       "  'uncertainty': 0.68862975,\n",
       "  'margin': 0.09498},\n",
       " {'text': 'Modi muhteşem..Ama siyasetçilere kara paralarını çevirmek için gerekli zamanı vermedi… Bütün politikacılar kara parayı kurtarmak istiyor ama halktan onların değil..Ha ha ha..',\n",
       "  'label': 1,\n",
       "  'id': '179',\n",
       "  'split': 'test',\n",
       "  'dataset_name': 'parallel_data/tr-Trac',\n",
       "  'language': 'tr',\n",
       "  'uncertainty': 0.68776065,\n",
       "  'margin': 0.10370034},\n",
       " {'text': 'Biraz önce  telefonun ve hoparlörleri  tam ses açtım . Şimdi size duyabiliyorum. Sesli müthiş güldüm! ������',\n",
       "  'label': 0,\n",
       "  'id': '180',\n",
       "  'split': 'test',\n",
       "  'dataset_name': 'parallel_data/tr-Trac',\n",
       "  'language': 'tr',\n",
       "  'uncertainty': 0.6882988,\n",
       "  'margin': 0.0983924},\n",
       " {'text': 'Bu oy almak için en iyi yoldur. Hiç kimse  PAK diye adlandırdığı hükümetin başarısını sormuyor . Hatta o gün onlar da PAK’ın  tren kazası için olduğunu iddia ediyorlardı.',\n",
       "  'label': 1,\n",
       "  'id': '181',\n",
       "  'split': 'test',\n",
       "  'dataset_name': 'parallel_data/tr-Trac',\n",
       "  'language': 'tr',\n",
       "  'uncertainty': 0.6882755,\n",
       "  'margin': 0.09862855},\n",
       " {'text': 'Avrupa marketleri ile karşılaştırırsak  neden Sensex ve Nifty çok toparlanmadı ?',\n",
       "  'label': 0,\n",
       "  'id': '182',\n",
       "  'split': 'test',\n",
       "  'dataset_name': 'parallel_data/tr-Trac',\n",
       "  'language': 'tr',\n",
       "  'uncertainty': 0.68630314,\n",
       "  'margin': 0.116862655},\n",
       " {'text': 'Birkaç esrar beyinli Hintli tarafından  hoşgörüsüzlük Keşmiri’i sürdüremez.Keşmirden paketler artıyor Ben hindistan  ve Hintlilerden nefret etmiyorum . insanların  çoğu sevimli ama sosyal medyada yok',\n",
       "  'label': 0,\n",
       "  'id': '183',\n",
       "  'split': 'test',\n",
       "  'dataset_name': 'parallel_data/tr-Trac',\n",
       "  'language': 'tr',\n",
       "  'uncertainty': 0.68668526,\n",
       "  'margin': 0.11356041},\n",
       " {'text': 'Utan Modi Hükümeti.... Şimdi Pakistan’a dersini vermeliydi.. .. tedavülden kaldırmanın kullanılmaması ve hepsi  .. saldırma zamanı ..',\n",
       "  'label': 1,\n",
       "  'id': '184',\n",
       "  'split': 'test',\n",
       "  'dataset_name': 'parallel_data/tr-Trac',\n",
       "  'language': 'tr',\n",
       "  'uncertainty': 0.68782586,\n",
       "  'margin': 0.10307142},\n",
       " {'text': 'Dostum siz göndereceksiniz…., böyle devam edin .. cnbc tv 18 izlemeyi de bırakın',\n",
       "  'label': 0,\n",
       "  'id': '185',\n",
       "  'split': 'test',\n",
       "  'dataset_name': 'parallel_data/tr-Trac',\n",
       "  'language': 'tr',\n",
       "  'uncertainty': 0.68747973,\n",
       "  'margin': 0.1063641},\n",
       " {'text': 'Kamal r Han ‘in ilginç durumu. Adını dile getirmek bir utanç  onu onun saçmalıkları için popüler yapıyoruz.',\n",
       "  'label': 1,\n",
       "  'id': '186',\n",
       "  'split': 'test',\n",
       "  'dataset_name': 'parallel_data/tr-Trac',\n",
       "  'language': 'tr',\n",
       "  'uncertainty': 0.68718255,\n",
       "  'margin': 0.10911247},\n",
       " {'text': 'Mamata Modiye iliştiğinde Modi’yi ağaçtaki bi ip ile  dövebileceğini söyledi - herhangi bir bakan böyle şeyleri bir başbakana söyleyebilir mi ??',\n",
       "  'label': 0,\n",
       "  'id': '187',\n",
       "  'split': 'test',\n",
       "  'dataset_name': 'parallel_data/tr-Trac',\n",
       "  'language': 'tr',\n",
       "  'uncertainty': 0.68831646,\n",
       "  'margin': 0.09821361},\n",
       " {'text': 'Tataji rehber kutsal sözlerin için teşekkürler . Kesinlikle haklısın.',\n",
       "  'label': 0,\n",
       "  'id': '188',\n",
       "  'split': 'test',\n",
       "  'dataset_name': 'parallel_data/tr-Trac',\n",
       "  'language': 'tr',\n",
       "  'uncertainty': 0.6884074,\n",
       "  'margin': 0.09728643},\n",
       " {'text': 'Tek adam gösterisi. Diktatör her ülke için kötüdürler',\n",
       "  'label': 1,\n",
       "  'id': '189',\n",
       "  'split': 'test',\n",
       "  'dataset_name': 'parallel_data/tr-Trac',\n",
       "  'language': 'tr',\n",
       "  'uncertainty': 0.68729734,\n",
       "  'margin': 0.10805905},\n",
       " {'text': \"Ve SEN kim olduğunu düşünüyorsun da kimin içeriden kimin dışarıdan olduğuna karar veriyorsun?Dışarıdakilerden ziyade Hindistan’ın İÇERİDEKİ düşmanları yüzünden   tonlarca kara paranın mevcut sorunu  daha fazla  . Bu yüzden Hindistan'da yaşayan tüm Hintliler kutsal azizler değildir. – Senin aptal yorumun Dubai’den mahvediyorum.\",\n",
       "  'label': 1,\n",
       "  'id': '190',\n",
       "  'split': 'test',\n",
       "  'dataset_name': 'parallel_data/tr-Trac',\n",
       "  'language': 'tr',\n",
       "  'uncertainty': 0.68683547,\n",
       "  'margin': 0.112235695},\n",
       " {'text': '^ Oyunu izlem ve sonra uyu oğlum. Bu 5. raunt, şimdi pes etmeyin.',\n",
       "  'label': 0,\n",
       "  'id': '191',\n",
       "  'split': 'test',\n",
       "  'dataset_name': 'parallel_data/tr-Trac',\n",
       "  'language': 'tr',\n",
       "  'uncertainty': 0.68712616,\n",
       "  'margin': 0.109625936},\n",
       " {'text': 'Onun sağır ve dilsiz olduğunu düşünüyorum   ... En azında şimdi sesini duymak güzel.',\n",
       "  'label': 1,\n",
       "  'id': '192',\n",
       "  'split': 'test',\n",
       "  'dataset_name': 'parallel_data/tr-Trac',\n",
       "  'language': 'tr',\n",
       "  'uncertainty': 0.688941,\n",
       "  'margin': 0.09165493},\n",
       " {'text': 'Savaşı asla kazanamayacaksınız çünkü siz ağlak ve korkak bir ülkesiniz',\n",
       "  'label': 1,\n",
       "  'id': '193',\n",
       "  'split': 'test',\n",
       "  'dataset_name': 'parallel_data/tr-Trac',\n",
       "  'language': 'tr',\n",
       "  'uncertainty': 0.6880492,\n",
       "  'margin': 0.100889474},\n",
       " {'text': 'Anuj her zaman  ivmeyle  git dersin,,, bugün bu ivmeyi  takip etmeyin diyosun! !!',\n",
       "  'label': 0,\n",
       "  'id': '194',\n",
       "  'split': 'test',\n",
       "  'dataset_name': 'parallel_data/tr-Trac',\n",
       "  'language': 'tr',\n",
       "  'uncertainty': 0.6891862,\n",
       "  'margin': 0.08894646},\n",
       " {'text': 'Sesli güldüm, O kendi başına doğru kararlar alamaz , yogiyi takip eder ,,,,,,,,,,, iyi',\n",
       "  'label': 0,\n",
       "  'id': '195',\n",
       "  'split': 'test',\n",
       "  'dataset_name': 'parallel_data/tr-Trac',\n",
       "  'language': 'tr',\n",
       "  'uncertainty': 0.6864473,\n",
       "  'margin': 0.11562759},\n",
       " {'text': 'Tebrikler modi nihayet onu açık forumda konuşturdun',\n",
       "  'label': 0,\n",
       "  'id': '196',\n",
       "  'split': 'test',\n",
       "  'dataset_name': 'parallel_data/tr-Trac',\n",
       "  'language': 'tr',\n",
       "  'uncertainty': 0.6902779,\n",
       "  'margin': 0.07571772},\n",
       " {'text': 'BJP hükümeti tamamen yararsız..Onlara karşı sert hareket etmedi… Sadece hiçbir şey demiyorlar',\n",
       "  'label': 1,\n",
       "  'id': '197',\n",
       "  'split': 'test',\n",
       "  'dataset_name': 'parallel_data/tr-Trac',\n",
       "  'language': 'tr',\n",
       "  'uncertainty': 0.68825597,\n",
       "  'margin': 0.0988256},\n",
       " {'text': 'Nishnt Rao yorum başına ne kadar para alıyorsun.sadece soruyorum',\n",
       "  'label': 0,\n",
       "  'id': '198',\n",
       "  'split': 'test',\n",
       "  'dataset_name': 'parallel_data/tr-Trac',\n",
       "  'language': 'tr',\n",
       "  'uncertainty': 0.68890786,\n",
       "  'margin': 0.09201479},\n",
       " {'text': 'Mükemmel iş paramızı döndürmek için zamanımız var. Banka ve Atm makinesi 2 günlüğüne kapalı olacak... Bundan sonra ne olacak ?Sadece 100 tahsil edilecek ATM’den ?? Atmden toplamı  500’ü bulursa  birisi hangi harekette bulunacak?',\n",
       "  'label': 0,\n",
       "  'id': '199',\n",
       "  'split': 'test',\n",
       "  'dataset_name': 'parallel_data/tr-Trac',\n",
       "  'language': 'tr',\n",
       "  'uncertainty': 0.68726087,\n",
       "  'margin': 0.10839528},\n",
       " {'text': 'RBI’nın(Hindistan Merkez Bankası) ismi ve anlamı Hindistan bankasını  tersine çevirmek için değişti ',\n",
       "  'label': 1,\n",
       "  'id': '200',\n",
       "  'split': 'test',\n",
       "  'dataset_name': 'parallel_data/tr-Trac',\n",
       "  'language': 'tr',\n",
       "  'uncertainty': 0.685464,\n",
       "  'margin': 0.123802066},\n",
       " {'text': 'Lütfen astech hayatına dair görüşünü paylaş?? 675 @ satın aldı, bugün 52 haftanın en yükseğini yaptı',\n",
       "  'label': 0,\n",
       "  'id': '201',\n",
       "  'split': 'test',\n",
       "  'dataset_name': 'parallel_data/tr-Trac',\n",
       "  'language': 'tr',\n",
       "  'uncertainty': 0.68893707,\n",
       "  'margin': 0.09169763},\n",
       " {'text': 'Ve Hillary bir tıkının marketleri sarsacak eski pozisyonundaki  tarihe kadar çok fazla servet yaptı. O bir gafcı',\n",
       "  'label': 1,\n",
       "  'id': '202',\n",
       "  'split': 'test',\n",
       "  'dataset_name': 'parallel_data/tr-Trac',\n",
       "  'language': 'tr',\n",
       "  'uncertainty': 0.6882354,\n",
       "  'margin': 0.09903264},\n",
       " {'text': 'herhangi biri uzun vadeli kazanımları vurgulayabilir mi ve uzun vadeli tahminleri değil',\n",
       "  'label': 1,\n",
       "  'id': '203',\n",
       "  'split': 'test',\n",
       "  'dataset_name': 'parallel_data/tr-Trac',\n",
       "  'language': 'tr',\n",
       "  'uncertainty': 0.6881951,\n",
       "  'margin': 0.09943718},\n",
       " {'text': 'Tebrikler .... Nihayet bizim eski başbakan KOMAdan çıktı Modiji için büyük bir başar……',\n",
       "  'label': 1,\n",
       "  'id': '204',\n",
       "  'split': 'test',\n",
       "  'dataset_name': 'parallel_data/tr-Trac',\n",
       "  'language': 'tr',\n",
       "  'uncertainty': 0.6872356,\n",
       "  'margin': 0.10862747},\n",
       " {'text': 'Uzair Khatri pişman oldu mu? Sesli güldüm lütgen, ölü terörist kardeşlerinize başsağlığı dileyin: D',\n",
       "  'label': 0,\n",
       "  'id': '205',\n",
       "  'split': 'test',\n",
       "  'dataset_name': 'parallel_data/tr-Trac',\n",
       "  'language': 'tr',\n",
       "  'uncertainty': 0.6873838,\n",
       "  'margin': 0.10725936},\n",
       " {'text': \"Türkiye başkanını ağırlamak Hindistan için çok iyi bir hareket çünkü Türkiye  Avrupa'ya açılan kapıdır Çin zaten İngiltere'ye yük treni gönderdi ve Hindistan ürünlerini satmak için altyapıyı yapmaya döndü Ama bazı kör bhaktlar anlamıyor\",\n",
       "  'label': 1,\n",
       "  'id': '206',\n",
       "  'split': 'test',\n",
       "  'dataset_name': 'parallel_data/tr-Trac',\n",
       "  'language': 'tr',\n",
       "  'uncertainty': 0.6871104,\n",
       "  'margin': 0.10976893},\n",
       " {'text': 'TKe bir silah ve onları sikmeye başla .... Ne oluyor ......Siz insanlar fuara  kabul onay vermek zorundasınız….Hindistan hükümeti …',\n",
       "  'label': 1,\n",
       "  'id': '207',\n",
       "  'split': 'test',\n",
       "  'dataset_name': 'parallel_data/tr-Trac',\n",
       "  'language': 'tr',\n",
       "  'uncertainty': 0.68826497,\n",
       "  'margin': 0.09873459},\n",
       " {'text': 'bu miktar benim  timin  saç kesimine yardımımı keser .....',\n",
       "  'label': 0,\n",
       "  'id': '208',\n",
       "  'split': 'test',\n",
       "  'dataset_name': 'parallel_data/tr-Trac',\n",
       "  'language': 'tr',\n",
       "  'uncertainty': 0.68978065,\n",
       "  'margin': 0.08200958},\n",
       " {'text': 'Eğer petrol artarsa 500’ü kabul etme biz ne yapabilirz',\n",
       "  'label': 0,\n",
       "  'id': '209',\n",
       "  'split': 'test',\n",
       "  'dataset_name': 'parallel_data/tr-Trac',\n",
       "  'language': 'tr',\n",
       "  'uncertainty': 0.68917716,\n",
       "  'margin': 0.08904755},\n",
       " {'text': 'Bazı casuslara ihtiyacı olduğu anlamına gelir ..... kiralama , sevgi ile ona sahip ol…..sen xerxes ... leonidas’tan ',\n",
       "  'label': 0,\n",
       "  'id': '210',\n",
       "  'split': 'test',\n",
       "  'dataset_name': 'parallel_data/tr-Trac',\n",
       "  'language': 'tr',\n",
       "  'uncertainty': 0.6882893,\n",
       "  'margin': 0.09848857},\n",
       " {'text': 'Atul Ey Pathak sen sadece bir çocuğun elbisesini iç çamşırı ile karşılaştırıyorusn. Bir hayat edin dostum!',\n",
       "  'label': 0,\n",
       "  'id': '211',\n",
       "  'split': 'test',\n",
       "  'dataset_name': 'parallel_data/tr-Trac',\n",
       "  'language': 'tr',\n",
       "  'uncertainty': 0.68864715,\n",
       "  'margin': 0.09479824},\n",
       " {'text': 'merhaba benim yorumları lütfen oku .Vguard’ı mevcut seviyelerde satın almak için??',\n",
       "  'label': 0,\n",
       "  'id': '212',\n",
       "  'split': 'test',\n",
       "  'dataset_name': 'parallel_data/tr-Trac',\n",
       "  'language': 'tr',\n",
       "  'uncertainty': 0.6887033,\n",
       "  'margin': 0.094204545},\n",
       " {'text': 'Cümlelerinizle  insanları aptal yerine koymayı bırakın. İstihdam Eğitim Yoksulluk Sağlık Çiftçiler Altyapı ve Ekonomik Reformlar gibi konulardan bahsedin..Lütfen insanların dikkatini ulus için değerli olan önemli sorunlardan dağıtmayın. Ulus gerçek sonuç istiyor cümlerler değil istiyor.',\n",
       "  'label': 1,\n",
       "  'id': '213',\n",
       "  'split': 'test',\n",
       "  'dataset_name': 'parallel_data/tr-Trac',\n",
       "  'language': 'tr',\n",
       "  'uncertainty': 0.68716455,\n",
       "  'margin': 0.10927716},\n",
       " {'text': 'Kısa vadede hangi sektörlere bakmalı? Belki 1-2 ay için ',\n",
       "  'label': 0,\n",
       "  'id': '214',\n",
       "  'split': 'test',\n",
       "  'dataset_name': 'parallel_data/tr-Trac',\n",
       "  'language': 'tr',\n",
       "  'uncertainty': 0.6881877,\n",
       "  'margin': 0.099511355},\n",
       " {'text': \"BJP ABD'yi de yönetecek en iyi partidir .. Modi ABS için tek en iyisidir … ������������������ \",\n",
       "  'label': 1,\n",
       "  'id': '215',\n",
       "  'split': 'test',\n",
       "  'dataset_name': 'parallel_data/tr-Trac',\n",
       "  'language': 'tr',\n",
       "  'uncertainty': 0.6875853,\n",
       "  'margin': 0.105371326},\n",
       " {'text': \"Ayrıca Dr Manmohan Singh ‘e saygıdan  eğer gerçekten Hindistan'ı seviyorsanız, durumla  nasıl başa çıkacağımıza dairbir yöntem önerin lütfen.\",\n",
       "  'label': 0,\n",
       "  'id': '216',\n",
       "  'split': 'test',\n",
       "  'dataset_name': 'parallel_data/tr-Trac',\n",
       "  'language': 'tr',\n",
       "  'uncertainty': 0.6867863,\n",
       "  'margin': 0.112671316},\n",
       " {'text': 'Neden ulusal toplayıcı veya cm görevinden istifa etmiyorsun? Böyle bir cesaretin var mı  Bay Kejdi',\n",
       "  'label': 1,\n",
       "  'id': '217',\n",
       "  'split': 'test',\n",
       "  'dataset_name': 'parallel_data/tr-Trac',\n",
       "  'language': 'tr',\n",
       "  'uncertainty': 0.68899655,\n",
       "  'margin': 0.09104851},\n",
       " {'text': '70 masum insan Modi yüzünden kendini öldürdü. Dünyanın en yozlaşmış bakanı',\n",
       "  'label': 1,\n",
       "  'id': '218',\n",
       "  'split': 'test',\n",
       "  'dataset_name': 'parallel_data/tr-Trac',\n",
       "  'language': 'tr',\n",
       "  'uncertainty': 0.6874099,\n",
       "  'margin': 0.1070171},\n",
       " {'text': 'tge susturma düğmesine tekrar basın  ve şimdi o seçimler sırasında konuşacak',\n",
       "  'label': 0,\n",
       "  'id': '219',\n",
       "  'split': 'test',\n",
       "  'dataset_name': 'parallel_data/tr-Trac',\n",
       "  'language': 'tr',\n",
       "  'uncertainty': 0.6903722,\n",
       "  'margin': 0.074463636},\n",
       " {'text': \"Hint isimlerini  Hollywood'da kameraman olarak göreceğimiz günler  uzak değildir.\",\n",
       "  'label': 0,\n",
       "  'id': '220',\n",
       "  'split': 'test',\n",
       "  'dataset_name': 'parallel_data/tr-Trac',\n",
       "  'language': 'tr',\n",
       "  'uncertainty': 0.68647766,\n",
       "  'margin': 0.11536595},\n",
       " {'text': 'O Humshakal develerini görebileceği tar veya sahra çölüne gönderilmeli.',\n",
       "  'label': 1,\n",
       "  'id': '221',\n",
       "  'split': 'test',\n",
       "  'dataset_name': 'parallel_data/tr-Trac',\n",
       "  'language': 'tr',\n",
       "  'uncertainty': 0.6881919,\n",
       "  'margin': 0.099469185},\n",
       " {'text': 'Sonia terlik ve ayakkabılar ile cezalandırılmalı .... Tamamen saçma ve tolere edilemez…. ',\n",
       "  'label': 0,\n",
       "  'id': '222',\n",
       "  'split': 'test',\n",
       "  'dataset_name': 'parallel_data/tr-Trac',\n",
       "  'language': 'tr',\n",
       "  'uncertainty': 0.6885764,\n",
       "  'margin': 0.095538765},\n",
       " {'text': 'O, bu konuşma için Sonia’dan bir hafta eğitim aldı ...',\n",
       "  'label': 1,\n",
       "  'id': '223',\n",
       "  'split': 'test',\n",
       "  'dataset_name': 'parallel_data/tr-Trac',\n",
       "  'language': 'tr',\n",
       "  'uncertainty': 0.68686235,\n",
       "  'margin': 0.11199689},\n",
       " {'text': '2 yıl önce neredeydin  ... Böyle köylerin olduğunu hiç rapor etmedin..Bu Kongre ve Eyalet hükümetine   büyük başarısızlık….. Eğer gerçekten köydeki insanları önemseseydin endişeni gösterirdin şikayetini değil',\n",
       "  'label': 0,\n",
       "  'id': '224',\n",
       "  'split': 'test',\n",
       "  'dataset_name': 'parallel_data/tr-Trac',\n",
       "  'language': 'tr',\n",
       "  'uncertainty': 0.6879862,\n",
       "  'margin': 0.1015096},\n",
       " {'text': 'Türkiye bu IŞİD haydutlarını destekliyor ve şimdi bize kashmir meselesinde ders vermeye cüret ediyor... onların kötü zamanları sanırım başlamak üzere...  ������������������������ ',\n",
       "  'label': 1,\n",
       "  'id': '225',\n",
       "  'split': 'test',\n",
       "  'dataset_name': 'parallel_data/tr-Trac',\n",
       "  'language': 'tr',\n",
       "  'uncertainty': 0.6870066,\n",
       "  'margin': 0.11070642},\n",
       " {'text': 'Babaları takip ettkleri için cnbc’yi takipten kaldırmam lazım. Nasıl olur da bunu yapabilirler.',\n",
       "  'label': 0,\n",
       "  'id': '226',\n",
       "  'split': 'test',\n",
       "  'dataset_name': 'parallel_data/tr-Trac',\n",
       "  'language': 'tr',\n",
       "  'uncertainty': 0.6864257,\n",
       "  'margin': 0.11581406},\n",
       " {'text': 'Aksa Kashmiri......... bu utanmaz yorumlarından dolayı sana kadın demekten utanıyorum.Gerçekten utanıyorum',\n",
       "  'label': 1,\n",
       "  'id': '227',\n",
       "  'split': 'test',\n",
       "  'dataset_name': 'parallel_data/tr-Trac',\n",
       "  'language': 'tr',\n",
       "  'uncertainty': 0.6876948,\n",
       "  'margin': 0.104331136},\n",
       " {'text': 'bahar bebeğinin yağlaması Sonia tarafından dün yapılmış  öyle görünüyor ... oyuncak fonksiyonel ve çalışması için de boğazına koyulmalık bataryası var...',\n",
       "  'label': 1,\n",
       "  'id': '228',\n",
       "  'split': 'test',\n",
       "  'dataset_name': 'parallel_data/tr-Trac',\n",
       "  'language': 'tr',\n",
       "  'uncertainty': 0.6892803,\n",
       "  'margin': 0.087885946},\n",
       " {'text': ' Modi ji osursa bile, bhaktiler vay ne de güzel koku aynı parfümden istiyorum  olacaklardır !!! : P: P',\n",
       "  'label': 1,\n",
       "  'id': '229',\n",
       "  'split': 'test',\n",
       "  'dataset_name': 'parallel_data/tr-Trac',\n",
       "  'language': 'tr',\n",
       "  'uncertainty': 0.6887549,\n",
       "  'margin': 0.09365708},\n",
       " {'text': 'Sığır hırsızlığı Assam’ın taşrasında  büyük bir sorun uzak , , ailemiz iki kez bu sorunla karşı karşıya gelmiştir. Kendi sığırım karşılığında para ödemek zorundaydım. O kalabalıkta olsaydmı ben kesinlikle onlara katılırdım.',\n",
       "  'label': 0,\n",
       "  'id': '230',\n",
       "  'split': 'test',\n",
       "  'dataset_name': 'parallel_data/tr-Trac',\n",
       "  'language': 'tr',\n",
       "  'uncertainty': 0.6868166,\n",
       "  'margin': 0.11240327},\n",
       " {'text': 'Eli kanlı haber kanalı Tamil nadu’da ne oluyor kontrol et',\n",
       "  'label': 1,\n",
       "  'id': '231',\n",
       "  'split': 'test',\n",
       "  'dataset_name': 'parallel_data/tr-Trac',\n",
       "  'language': 'tr',\n",
       "  'uncertainty': 0.68926644,\n",
       "  'margin': 0.088043004},\n",
       " {'text': 'İyi gerçekler, Bizim Başbakan önerileri samini olarak almalı ve bir plan ile gelmelidir ,.',\n",
       "  'label': 0,\n",
       "  'id': '232',\n",
       "  'split': 'test',\n",
       "  'dataset_name': 'parallel_data/tr-Trac',\n",
       "  'language': 'tr',\n",
       "  'uncertainty': 0.6885612,\n",
       "  'margin': 0.09569743},\n",
       " {'text': 'Böyle ayrımcı davranış yapan İnsanlar hayatlarının geri kalanını için  hapishanelere içine atılmalı.',\n",
       "  'label': 0,\n",
       "  'id': '233',\n",
       "  'split': 'test',\n",
       "  'dataset_name': 'parallel_data/tr-Trac',\n",
       "  'language': 'tr',\n",
       "  'uncertainty': 0.68592584,\n",
       "  'margin': 0.12003243},\n",
       " {'text': 'Neden Ekonomist muhabiri Vali’nin basın konferansına katılmaktan men edildi.?',\n",
       "  'label': 1,\n",
       "  'id': '234',\n",
       "  'split': 'test',\n",
       "  'dataset_name': 'parallel_data/tr-Trac',\n",
       "  'language': 'tr',\n",
       "  'uncertainty': 0.6872704,\n",
       "  'margin': 0.10830781},\n",
       " {'text': 'Hastanelerin kontrol edilmesi her zaman tüm yaşlı hakimler için iyidir!',\n",
       "  'label': 1,\n",
       "  'id': '235',\n",
       "  'split': 'test',\n",
       "  'dataset_name': 'parallel_data/tr-Trac',\n",
       "  'language': 'tr',\n",
       "  'uncertainty': 0.68681395,\n",
       "  'margin': 0.11242613},\n",
       " {'text': 'Gelmiş geçmiş en kötü Maliye Bakanı 5 lakhs vergi sınırı hakkında ne demeli ? , Seçim sırasında söyledi.',\n",
       "  'label': 0,\n",
       "  'id': '236',\n",
       "  'split': 'test',\n",
       "  'dataset_name': 'parallel_data/tr-Trac',\n",
       "  'language': 'tr',\n",
       "  'uncertainty': 0.68754554,\n",
       "  'margin': 0.10574713},\n",
       " {'text': 'Bir gün haberleri kısa zamanda alacağızn..sosyal medyanın bu krk tecavüzü ve yorumlar tarafından  ',\n",
       "  'label': 1,\n",
       "  'id': '237',\n",
       "  'split': 'test',\n",
       "  'dataset_name': 'parallel_data/tr-Trac',\n",
       "  'language': 'tr',\n",
       "  'uncertainty': 0.68934,\n",
       "  'margin': 0.08720502},\n",
       " {'text': 'Sen Hindistan’ın aslanısın efendim, Hindistandaki kimsenin cesareti yok',\n",
       "  'label': 0,\n",
       "  'id': '238',\n",
       "  'split': 'test',\n",
       "  'dataset_name': 'parallel_data/tr-Trac',\n",
       "  'language': 'tr',\n",
       "  'uncertainty': 0.68694735,\n",
       "  'margin': 0.111239105},\n",
       " {'text': 'Gelişen ve değişen Hindistan’ın vatandaşı olmaktan  gurur duyuyorum … Allah’tan tüm dünyadaki  en yozlaşmış siyasi partinin elinde değiliz ...KONGRELER ...',\n",
       "  'label': 1,\n",
       "  'id': '239',\n",
       "  'split': 'test',\n",
       "  'dataset_name': 'parallel_data/tr-Trac',\n",
       "  'language': 'tr',\n",
       "  'uncertainty': 0.68839234,\n",
       "  'margin': 0.09744012},\n",
       " {'text': 'Neden  gidip  bütün  bu saçmalıkları parlementoda söylemiyorsun sayın Modi Gi ..',\n",
       "  'label': 1,\n",
       "  'id': '240',\n",
       "  'split': 'test',\n",
       "  'dataset_name': 'parallel_data/tr-Trac',\n",
       "  'language': 'tr',\n",
       "  'uncertainty': 0.68911034,\n",
       "  'margin': 0.08979297},\n",
       " {'text': 'Nihayet Bay Manmohan Singh  sessizliğini bozdu o kömür dolandırıcılığında sessiz kalmıştı , 2G aldatmacacı …onun görev süresinde daha bir çok aldatmaca . GANDHI AİLESİNİN KUKLASI.',\n",
       "  'label': 1,\n",
       "  'id': '241',\n",
       "  'split': 'test',\n",
       "  'dataset_name': 'parallel_data/tr-Trac',\n",
       "  'language': 'tr',\n",
       "  'uncertainty': 0.6869403,\n",
       "  'margin': 0.11130127},\n",
       " {'text': 'Nacalları ve Teröristleri  gözetlemek ve lazer güdümlü füzelerle ortaya çıkarmak için  termale ,yüksek çözünürlü görsel kameralara ihtiyacımız var  . ISRO(hindistan Uzay Araştırma Organizasyonu) nazikçe bunu hallet',\n",
       "  'label': 0,\n",
       "  'id': '242',\n",
       "  'split': 'test',\n",
       "  'dataset_name': 'parallel_data/tr-Trac',\n",
       "  'language': 'tr',\n",
       "  'uncertainty': 0.68908775,\n",
       "  'margin': 0.09004319},\n",
       " {'text': 'Merhamet etmeden şu b **********ları  öldür. Bazı insanlar  insanca tepkiyi bile haketmiyor. Sadece onları öldür ve Pakistanı dünya haritasından sil, ne olursa olsun.',\n",
       "  'label': 1,\n",
       "  'id': '243',\n",
       "  'split': 'test',\n",
       "  'dataset_name': 'parallel_data/tr-Trac',\n",
       "  'language': 'tr',\n",
       "  'uncertainty': 0.6871135,\n",
       "  'margin': 0.109740615},\n",
       " {'text': 'Aptalca konuşma, sen konuşman gerektiği zaman hiç konuşmazsın!! Üzgünüm !! Selam sana Modi !!',\n",
       "  'label': 1,\n",
       "  'id': '244',\n",
       "  'split': 'test',\n",
       "  'dataset_name': 'parallel_data/tr-Trac',\n",
       "  'language': 'tr',\n",
       "  'uncertainty': 0.68884087,\n",
       "  'margin': 0.092737794},\n",
       " {'text': 'Yurtiçinde ve yurtdışında, Modi hükümeti bir gaftan bir başkasına  tökezliyor',\n",
       "  'label': 1,\n",
       "  'id': '245',\n",
       "  'split': 'test',\n",
       "  'dataset_name': 'parallel_data/tr-Trac',\n",
       "  'language': 'tr',\n",
       "  'uncertainty': 0.6878864,\n",
       "  'margin': 0.102484494},\n",
       " {'text': 'zaman Merhaba Sonia ve Anuj,Ne zamana kadar bu markette bu tür bir dalgalanma bekleyebilir ve  hangi seviyede yatırım yapmaya başlayabiliriz?',\n",
       "  'label': 0,\n",
       "  'id': '246',\n",
       "  'split': 'test',\n",
       "  'dataset_name': 'parallel_data/tr-Trac',\n",
       "  'language': 'tr',\n",
       "  'uncertainty': 0.6881081,\n",
       "  'margin': 0.10030517},\n",
       " {'text': 'Büyüme oranları kısa vadede tutarsa ..Neden bu insanlar uzun vadedeki yatırımların daha iyi olduğunu söylüyor…yanlış yanlıştır….Kimin söylediği ya da yaptığı önemli değildir..-_-',\n",
       "  'label': 0,\n",
       "  'id': '247',\n",
       "  'split': 'test',\n",
       "  'dataset_name': 'parallel_data/tr-Trac',\n",
       "  'language': 'tr',\n",
       "  'uncertainty': 0.6864314,\n",
       "  'margin': 0.11576453},\n",
       " {'text': 'Hoo zavallı çocuk, farklı yorum dene, çoktan birçok aptal bu mesajı yazdı.',\n",
       "  'label': 0,\n",
       "  'id': '248',\n",
       "  'split': 'test',\n",
       "  'dataset_name': 'parallel_data/tr-Trac',\n",
       "  'language': 'tr',\n",
       "  'uncertainty': 0.6896193,\n",
       "  'margin': 0.08394903},\n",
       " {'text': 'hindistanın tüm eğitim sistemi iş arama görevine dayanmaktadır ... basit bir lider yaratamaz sadece takipçi çılgın bir sistem',\n",
       "  'label': 0,\n",
       "  'id': '249',\n",
       "  'split': 'test',\n",
       "  'dataset_name': 'parallel_data/tr-Trac',\n",
       "  'language': 'tr',\n",
       "  'uncertainty': 0.6887996,\n",
       "  'margin': 0.09318009},\n",
       " {'text': 'Ezik Pakistanlılar ezikler gay pornosu tercih eder. Sonra kendi kız kardeşleriyle evlenir. Bu sizin için bir pakistanlı ezik. ������������������������',\n",
       "  'label': 1,\n",
       "  'id': '250',\n",
       "  'split': 'test',\n",
       "  'dataset_name': 'parallel_data/tr-Trac',\n",
       "  'language': 'tr',\n",
       "  'uncertainty': 0.6864087,\n",
       "  'margin': 0.115959525},\n",
       " {'text': 'Bu büyük  ülke nereye doğru gidiyor bilmiyorum? Siyaset sadece iktidarda kalmak için, inek, hızlı islami boşanma ve  bu saçmalıklar üzerine oynanıyor.NE zaman bu insanlar  ülkeye hiçbir iyilik yapmayıp sadece yavaş zehirle  yavaşça zarar verdiklerini farkedicekler.',\n",
       "  'label': 1,\n",
       "  'id': '251',\n",
       "  'split': 'test',\n",
       "  'dataset_name': 'parallel_data/tr-Trac',\n",
       "  'language': 'tr',\n",
       "  'uncertainty': 0.68851185,\n",
       "  'margin': 0.096209526},\n",
       " {'text': \"NRI, Hint bankasında uzakta yaşar , 18.000 Rupi, daha önce Hindistan'ı ziyaret etiyor uzakta. 30 Aralık Ne yapmam gerekir?\",\n",
       "  'label': 0,\n",
       "  'id': '252',\n",
       "  'split': 'test',\n",
       "  'dataset_name': 'parallel_data/tr-Trac',\n",
       "  'language': 'tr',\n",
       "  'uncertainty': 0.68621504,\n",
       "  'margin': 0.11761078},\n",
       " {'text': 'Kara parayı kaldırdığı için Modi’ye şapka çıkarıyorum ������������������',\n",
       "  'label': 0,\n",
       "  'id': '253',\n",
       "  'split': 'test',\n",
       "  'dataset_name': 'parallel_data/tr-Trac',\n",
       "  'language': 'tr',\n",
       "  'uncertainty': 0.6882844,\n",
       "  'margin': 0.09853855},\n",
       " {'text': 'Artık kara para yok  sadece kırmızı ve yeşil para ha ha ha',\n",
       "  'label': 1,\n",
       "  'id': '254',\n",
       "  'split': 'test',\n",
       "  'dataset_name': 'parallel_data/tr-Trac',\n",
       "  'language': 'tr',\n",
       "  'uncertainty': 0.68970454,\n",
       "  'margin': 0.08293012},\n",
       " {'text': 'Ve efendim ekonomiye geri güven getirmek için bankadan ne zaman normal çekme başlayacağınızın  tarihini belirtiniz',\n",
       "  'label': 0,\n",
       "  'id': '255',\n",
       "  'split': 'test',\n",
       "  'dataset_name': 'parallel_data/tr-Trac',\n",
       "  'language': 'tr',\n",
       "  'uncertainty': 0.68825006,\n",
       "  'margin': 0.09888506},\n",
       " {'text': 'Araba sigortası zorunlu ürün olduğu için maksimumda .kağıtsız bile oluyor hayat sigortası daha itme ürünü  yani insan müdahalesi gerektiriyor',\n",
       "  'label': 0,\n",
       "  'id': '256',\n",
       "  'split': 'test',\n",
       "  'dataset_name': 'parallel_data/tr-Trac',\n",
       "  'language': 'tr',\n",
       "  'uncertainty': 0.688377,\n",
       "  'margin': 0.09759691},\n",
       " {'text': 'Vay .... bu adam aynı zamanda konuşabilir .... teşekkürler manken mohan konuşması  yaptığın için modi ji ...',\n",
       "  'label': 1,\n",
       "  'id': '257',\n",
       "  'split': 'test',\n",
       "  'dataset_name': 'parallel_data/tr-Trac',\n",
       "  'language': 'tr',\n",
       "  'uncertainty': 0.6894503,\n",
       "  'margin': 0.08593342},\n",
       " {'text': 'hindistan yoksul ise  pakistanın onun ekonomisinin 1/16’sı ,pakistanı ne diye adlandırmalıyız ........ mesela dilenciler veya sefil dilenciler  veya başka bir özel sözcük',\n",
       "  'label': 1,\n",
       "  'id': '258',\n",
       "  'split': 'test',\n",
       "  'dataset_name': 'parallel_data/tr-Trac',\n",
       "  'language': 'tr',\n",
       "  'uncertainty': 0.6878156,\n",
       "  'margin': 0.103170484},\n",
       " {'text': 'İşsiz insanların sayısı artıyor.Onlar alternative olarak aktivizmi seçiyor . Aktivizmin çoğu  başkasının çalışkanlığını aşağılayıp mutluluk bulmak..Bu olumsuzluk ülkeninin iyiliği için hiçbir şey yapamaz biz sadece birbirimizle kavga ediyoruz ve bunda biraz memnuniyet buluyoruz.',\n",
       "  'label': 1,\n",
       "  'id': '259',\n",
       "  'split': 'test',\n",
       "  'dataset_name': 'parallel_data/tr-Trac',\n",
       "  'language': 'tr',\n",
       "  'uncertainty': 0.6873645,\n",
       "  'margin': 0.107438445},\n",
       " {'text': 'Ben Manmohan Singh’in fiziksel sakatlığı olanlar kotasından Hindistan’ın Başbakanı olduğunu düşünüyorum ... APTAL değil miydi ?... Tıbbi Mucize…... Sonunda  aptal bir kişi Konuşabiliyor… hangi KBB Uzmanı  tıbbi operasyonu gerçekleştirdi ...',\n",
       "  'label': 1,\n",
       "  'id': '260',\n",
       "  'split': 'test',\n",
       "  'dataset_name': 'parallel_data/tr-Trac',\n",
       "  'language': 'tr',\n",
       "  'uncertainty': 0.68703353,\n",
       "  'margin': 0.11046499},\n",
       " {'text': 'Arun Jaitley  beyaz işlem yeni bir norm olacak, diyor',\n",
       "  'label': 0,\n",
       "  'id': '261',\n",
       "  'split': 'test',\n",
       "  'dataset_name': 'parallel_data/tr-Trac',\n",
       "  'language': 'tr',\n",
       "  'uncertainty': 0.6883965,\n",
       "  'margin': 0.097397536},\n",
       " {'text': 'RBI(Hindistan Merkez Bankası) ile ilgili bu ne saçmalık............... her gün yeni aptal kurallar  ............',\n",
       "  'label': 1,\n",
       "  'id': '262',\n",
       "  'split': 'test',\n",
       "  'dataset_name': 'parallel_data/tr-Trac',\n",
       "  'language': 'tr',\n",
       "  'uncertainty': 0.68624705,\n",
       "  'margin': 0.11733928},\n",
       " {'text': 'Bu boktan insanları göstermek yerine   fakir insanlara biraz sempati göstermeliler bir kere de ...',\n",
       "  'label': 0,\n",
       "  'id': '263',\n",
       "  'split': 'test',\n",
       "  'dataset_name': 'parallel_data/tr-Trac',\n",
       "  'language': 'tr',\n",
       "  'uncertainty': 0.68785954,\n",
       "  'margin': 0.102745354},\n",
       " {'text': 'RBI(Hindistan Merkez Bankası) şefi ,Maliye Bakanı,Başbakan konumunu kullanarak Hindistan’a  gölge düşüren bir kişi.',\n",
       "  'label': 0,\n",
       "  'id': '264',\n",
       "  'split': 'test',\n",
       "  'dataset_name': 'parallel_data/tr-Trac',\n",
       "  'language': 'tr',\n",
       "  'uncertainty': 0.68609947,\n",
       "  'margin': 0.11858451},\n",
       " {'text': 'Merhaba anuj ve Sonia lütfen HAVACILIK SEKTÖRÜ üzerine görüşünüzü paylaşın.',\n",
       "  'label': 0,\n",
       "  'id': '265',\n",
       "  'split': 'test',\n",
       "  'dataset_name': 'parallel_data/tr-Trac',\n",
       "  'language': 'tr',\n",
       "  'uncertainty': 0.68566394,\n",
       "  'margin': 0.12218502},\n",
       " {'text': 'KİMSENİN HERHANGİ DİNİ SUÇLAMA HAKKI YOKTURLÜTFEN BÜTüN DİNLERE SAYGI GÖSterİN LÜTFEN EN AZINDAN BİRAZ İNSANLIĞINIZI GÖSTERİN',\n",
       "  'label': 0,\n",
       "  'id': '266',\n",
       "  'split': 'test',\n",
       "  'dataset_name': 'parallel_data/tr-Trac',\n",
       "  'language': 'tr',\n",
       "  'uncertainty': 0.6800983,\n",
       "  'margin': 0.16119555},\n",
       " {'text': 'İkisi de iyi değil .... Trump gelirse Asya pazarının ekonomisine  zarar verecektir ve eğer   Hillary gelirse hiçbir finansal gelişme bekleyemeyiz  o çok sıkıcı....',\n",
       "  'label': 0,\n",
       "  'id': '267',\n",
       "  'split': 'test',\n",
       "  'dataset_name': 'parallel_data/tr-Trac',\n",
       "  'language': 'tr',\n",
       "  'uncertainty': 0.6875632,\n",
       "  'margin': 0.10558027},\n",
       " {'text': 'Hindistan  FDI(yabancı para akışı) ve özelleştirme için aç iken. O yurtiçi tasarruftan  bahsediyor ',\n",
       "  'label': 0,\n",
       "  'id': '268',\n",
       "  'split': 'test',\n",
       "  'dataset_name': 'parallel_data/tr-Trac',\n",
       "  'language': 'tr',\n",
       "  'uncertainty': 0.6875679,\n",
       "  'margin': 0.1055361},\n",
       " {'text': 'Tedavülden kaldrıma fikri iyiydi ama  daha iyi bir şekilde uygulanabilirdi . Dr Manmohan Singh bu bu alanda uzmandır bu yüzden onu ayıplamayın ',\n",
       "  'label': 0,\n",
       "  'id': '269',\n",
       "  'split': 'test',\n",
       "  'dataset_name': 'parallel_data/tr-Trac',\n",
       "  'language': 'tr',\n",
       "  'uncertainty': 0.68806493,\n",
       "  'margin': 0.10073328},\n",
       " {'text': 'Bütün işlemler çevrimiçi olacak….vay…Eğer küçük bir paket maggi eriştesi veya bir kilo gıda satın almak istiyorsan...sen çevrimiçi işlem  kullanacaksı..??Yaşlılar kendi sinir sistemini felç eder mi . .: / ??',\n",
       "  'label': 1,\n",
       "  'id': '270',\n",
       "  'split': 'test',\n",
       "  'dataset_name': 'parallel_data/tr-Trac',\n",
       "  'language': 'tr',\n",
       "  'uncertainty': 0.6882285,\n",
       "  'margin': 0.09910196},\n",
       " {'text': '96 yaşındaki Heeraben 6 çocuk sahibi , herkes ona 4 bin kazanabilirdi . Ama oğullarından biri medya kameralarına önünde çekilmesini istedi Hasta zihin.',\n",
       "  'label': 1,\n",
       "  'id': '271',\n",
       "  'split': 'test',\n",
       "  'dataset_name': 'parallel_data/tr-Trac',\n",
       "  'language': 'tr',\n",
       "  'uncertainty': 0.687095,\n",
       "  'margin': 0.10990885},\n",
       " {'text': 'Evet evet ..trafik nüfus kirlilik yaşayamama endeksi…… orta sınıfı aşağı getirerek fakir sınıf ve orta sınıf arasındaki farkı kapatma  ☺☺☺☺☺☺☺☺☺☺',\n",
       "  'label': 1,\n",
       "  'id': '272',\n",
       "  'split': 'test',\n",
       "  'dataset_name': 'parallel_data/tr-Trac',\n",
       "  'language': 'tr',\n",
       "  'uncertainty': 0.6879431,\n",
       "  'margin': 0.10193166},\n",
       " {'text': 'Bizim zamanlarımızda o orijinal düşünürdü. Son on yıl içinde fikirlerini dile getirenlere başarıyla şimdi yönetişimi geliştirmek için verysame fikirleri benimsediler onun kredi gider.',\n",
       "  'label': 0,\n",
       "  'id': '273',\n",
       "  'split': 'test',\n",
       "  'dataset_name': 'parallel_data/tr-Trac',\n",
       "  'language': 'tr',\n",
       "  'uncertainty': 0.6881256,\n",
       "  'margin': 0.10013166},\n",
       " {'text': '% 86 likiditeye vurdu ..bu kötü .. bilinmeyen uzun vadeli faydalar böyle sert bir hamle yapmak için bir gerekçe olarak kullanılmaktadır .. nakit para ödeyen çalışkan insanlar en kötüsüydü.',\n",
       "  'label': 0,\n",
       "  'id': '274',\n",
       "  'split': 'test',\n",
       "  'dataset_name': 'parallel_data/tr-Trac',\n",
       "  'language': 'tr',\n",
       "  'uncertainty': 0.6880386,\n",
       "  'margin': 0.10099411},\n",
       " {'text': 'Sesli güldüm  bizim eski başbakan da konuşuyor … 10 yıllık görev süresinin farkında değildim',\n",
       "  'label': 1,\n",
       "  'id': '275',\n",
       "  'split': 'test',\n",
       "  'dataset_name': 'parallel_data/tr-Trac',\n",
       "  'language': 'tr',\n",
       "  'uncertainty': 0.6894354,\n",
       "  'margin': 0.08610612},\n",
       " {'text': 'O Prez’in iş iken onu karşılamak için protokolü bozarak orada bulunan Sayın Modi ji değil miydi ??',\n",
       "  'label': 1,\n",
       "  'id': '276',\n",
       "  'split': 'test',\n",
       "  'dataset_name': 'parallel_data/tr-Trac',\n",
       "  'language': 'tr',\n",
       "  'uncertainty': 0.6886753,\n",
       "  'margin': 0.09450111},\n",
       " {'text': 'Hahaha havlamanın hiç bir anlamı yok. Hayatın bir sokak köpeği gibi sen hav hav havlıyorsun ve insanlar sadece umursamıyor',\n",
       "  'label': 0,\n",
       "  'id': '277',\n",
       "  'split': 'test',\n",
       "  'dataset_name': 'parallel_data/tr-Trac',\n",
       "  'language': 'tr',\n",
       "  'uncertainty': 0.6893666,\n",
       "  'margin': 0.08690032},\n",
       " {'text': 'Hepsi  \"barış seven din\"den ve  sonra da milliyetçi  olduklarını iddia ediyorlar Serseriler',\n",
       "  'label': 1,\n",
       "  'id': '278',\n",
       "  'split': 'test',\n",
       "  'dataset_name': 'parallel_data/tr-Trac',\n",
       "  'language': 'tr',\n",
       "  'uncertainty': 0.68757045,\n",
       "  'margin': 0.105511695},\n",
       " {'text': 'Bak kim hızlanıyor......  Görev süreniz boyunca dolandırıcılıklar olurken neredeydiniz efendim ????',\n",
       "  'label': 1,\n",
       "  'id': '279',\n",
       "  'split': 'test',\n",
       "  'dataset_name': 'parallel_data/tr-Trac',\n",
       "  'language': 'tr',\n",
       "  'uncertainty': 0.6877475,\n",
       "  'margin': 0.103826165},\n",
       " {'text': 'Gül yapabilirken ...Çünkü  senin için ne geliyor biliyorsun.Eğitimsiz cahil serseriler',\n",
       "  'label': 1,\n",
       "  'id': '280',\n",
       "  'split': 'test',\n",
       "  'dataset_name': 'parallel_data/tr-Trac',\n",
       "  'language': 'tr',\n",
       "  'uncertainty': 0.68859553,\n",
       "  'margin': 0.09533906},\n",
       " {'text': 'Sameer Mirza muhammed bir piçti ve Abdullah onun evlatlık babasıydı.',\n",
       "  'label': 1,\n",
       "  'id': '281',\n",
       "  'split': 'test',\n",
       "  'dataset_name': 'parallel_data/tr-Trac',\n",
       "  'language': 'tr',\n",
       "  'uncertainty': 0.6880472,\n",
       "  'margin': 0.10090932},\n",
       " {'text': 'Dr Manmohan Singh arkasındaki kukla  kongredeki tüm gerizekalı bakanlar gibi aptal. Mr modi’ye karşı çıkmayı durdurun. Ve ona Hindistan’ı Mükemmel yapması için destekleyin.',\n",
       "  'label': 1,\n",
       "  'id': '282',\n",
       "  'split': 'test',\n",
       "  'dataset_name': 'parallel_data/tr-Trac',\n",
       "  'language': 'tr',\n",
       "  'uncertainty': 0.6890094,\n",
       "  'margin': 0.09090695},\n",
       " {'text': 'Eski başbakan ilkokul öğrencisi konuşma yapıyormuş gib konuşuyor. Utan',\n",
       "  'label': 1,\n",
       "  'id': '283',\n",
       "  'split': 'test',\n",
       "  'dataset_name': 'parallel_data/tr-Trac',\n",
       "  'language': 'tr',\n",
       "  'uncertainty': 0.6897068,\n",
       "  'margin': 0.082903236},\n",
       " {'text': 'İyi. Neden Hindistanda yeterli müşteri varken Pakistanda işletiyorlar ne kadar para istiyorlar . Sm',\n",
       "  'label': 0,\n",
       "  'id': '284',\n",
       "  'split': 'test',\n",
       "  'dataset_name': 'parallel_data/tr-Trac',\n",
       "  'language': 'tr',\n",
       "  'uncertainty': 0.68772876,\n",
       "  'margin': 0.10400617},\n",
       " {'text': 'Bu konuşma Sonia Gandhi tarafından yazılmış ve onun robotu tarafından teslim edilmiş',\n",
       "  'label': 1,\n",
       "  'id': '285',\n",
       "  'split': 'test',\n",
       "  'dataset_name': 'parallel_data/tr-Trac',\n",
       "  'language': 'tr',\n",
       "  'uncertainty': 0.6877628,\n",
       "  'margin': 0.10367957},\n",
       " {'text': 'Latha her zamanki gibi aptalca sorular soruyor ve akıllı başkalarını zeki yapmaya çalışıyor. O soruları not etmek  zorundadır ve beceriksiz olduğu tespit edilmiştir. Soniya  kanalı  daha düzgün ve akıllı temsil ederdi.',\n",
       "  'label': 0,\n",
       "  'id': '286',\n",
       "  'split': 'test',\n",
       "  'dataset_name': 'parallel_data/tr-Trac',\n",
       "  'language': 'tr',\n",
       "  'uncertainty': 0.68758535,\n",
       "  'margin': 0.10537094},\n",
       " {'text': \"Sayın Modi size oy verdiğimden üzüntü duyuyorum . Sen Hindistan'ın lanetisin.\",\n",
       "  'label': 1,\n",
       "  'id': '287',\n",
       "  'split': 'test',\n",
       "  'dataset_name': 'parallel_data/tr-Trac',\n",
       "  'language': 'tr',\n",
       "  'uncertainty': 0.6879335,\n",
       "  'margin': 0.10202563},\n",
       " {'text': 'Hey..Bizim  eski başbakan aslında konuşabiyor ..ha ha ha ha ... ve o sağır ve dilsiz doğmuş sanıyorudm….',\n",
       "  'label': 1,\n",
       "  'id': '288',\n",
       "  'split': 'test',\n",
       "  'dataset_name': 'parallel_data/tr-Trac',\n",
       "  'language': 'tr',\n",
       "  'uncertainty': 0.6891837,\n",
       "  'margin': 0.088974},\n",
       " {'text': 'Sayın Manmohan Singh’e saygı duyuyorum ... O hindistanın en iyi başbakanıydı  namo bewakoof gibi eğitimsiz cahil değildi',\n",
       "  'label': 1,\n",
       "  'id': '289',\n",
       "  'split': 'test',\n",
       "  'dataset_name': 'parallel_data/tr-Trac',\n",
       "  'language': 'tr',\n",
       "  'uncertainty': 0.6881734,\n",
       "  'margin': 0.099654466},\n",
       " {'text': 'Siz  kademeli etkin dolayı oluşan kaybı hesapladınız mı o zaman daha yaygın araştırma yaparsanız',\n",
       "  'label': 0,\n",
       "  'id': '290',\n",
       "  'split': 'test',\n",
       "  'dataset_name': 'parallel_data/tr-Trac',\n",
       "  'language': 'tr',\n",
       "  'uncertainty': 0.6888449,\n",
       "  'margin': 0.0926941},\n",
       " {'text': 'Satın altın / altın madenciliği stokları alın bu mali olararak istifade etmenin tek yolu bu. :Ben çoktan sıraya koydum ������������ Çoktan  MMTC satın aldım. Altın 1500 $’a çıkacak trump seçimi arkasından,',\n",
       "  'label': 0,\n",
       "  'id': '291',\n",
       "  'split': 'test',\n",
       "  'dataset_name': 'parallel_data/tr-Trac',\n",
       "  'language': 'tr',\n",
       "  'uncertainty': 0.68780404,\n",
       "  'margin': 0.103282124},\n",
       " {'text': 'Sermaye kazançları konuları nedeniyle  FPI’ların(yabancı portfolyo yatırımların) bu mali yıl sona ermeden önce maksimum yatırım yapmak isteyeceği açıktır. Hatta daha sonra bizim pazarların bir % 5-10 düzelmesi  bir ihtimal.İnsanlar öngörüyle biraz nakit tutuyorlar. Bu doğru bir strateji mi yoksa tamamen yatırım yapılmış olarak mı  kalmalıyız?',\n",
       "  'label': 0,\n",
       "  'id': '292',\n",
       "  'split': 'test',\n",
       "  'dataset_name': 'parallel_data/tr-Trac',\n",
       "  'language': 'tr',\n",
       "  'uncertainty': 0.68875897,\n",
       "  'margin': 0.093613386},\n",
       " {'text': 'Her yerde  BJP ayaktakımını yönetti kanun ve düzene karar verdi. Bu sadece Muz Cumhuriyetleri',\n",
       "  'label': 0,\n",
       "  'id': '293',\n",
       "  'split': 'test',\n",
       "  'dataset_name': 'parallel_data/tr-Trac',\n",
       "  'language': 'tr',\n",
       "  'uncertainty': 0.6882353,\n",
       "  'margin': 0.09903422},\n",
       " {'text': 'Sadece merkezi hükümet mi  sorumlu? Beş yıldan beri yapan eyalet yönetimine ne dersiniz? Nasıl TRP alınacak .... Merkezi hükümeti suçlamaya başla.',\n",
       "  'label': 0,\n",
       "  'id': '294',\n",
       "  'split': 'test',\n",
       "  'dataset_name': 'parallel_data/tr-Trac',\n",
       "  'language': 'tr',\n",
       "  'uncertainty': 0.68828243,\n",
       "  'margin': 0.09855792},\n",
       " {'text': 'Hindistan’ın  büyük eski  başbakanı ilk olarak teşekkürler Sonia Gandhiji olmadan konuştun',\n",
       "  'label': 0,\n",
       "  'id': '295',\n",
       "  'split': 'test',\n",
       "  'dataset_name': 'parallel_data/tr-Trac',\n",
       "  'language': 'tr',\n",
       "  'uncertainty': 0.68799794,\n",
       "  'margin': 0.10139409},\n",
       " {'text': 'Sessiz Modu devre dışı? D: İyi En azından tedavülden kaldırma  Sessiz modu kapattı.',\n",
       "  'label': 1,\n",
       "  'id': '296',\n",
       "  'split': 'test',\n",
       "  'dataset_name': 'parallel_data/tr-Trac',\n",
       "  'language': 'tr',\n",
       "  'uncertainty': 0.6879015,\n",
       "  'margin': 0.10233742},\n",
       " {'text': 'Başarısız başbakan, başarısız  nakitsiz düzen. Yine de internet servisi bulunmayan birçok köy bulunmaktadır.',\n",
       "  'label': 1,\n",
       "  'id': '297',\n",
       "  'split': 'test',\n",
       "  'dataset_name': 'parallel_data/tr-Trac',\n",
       "  'language': 'tr',\n",
       "  'uncertainty': 0.6879626,\n",
       "  'margin': 0.101741165},\n",
       " {'text': 'Pawar Saab’e karşı propaganda tamamen asılsız. Bugüne kadar kimsen yolsuzluk olayına karıştığını kanıtlayamadı. Bazı insanlar onun Süpermen  olduğunu ve yargıyı, siyasetçileri, araştırma ajanslarını, bütün Hükümeti ve bürokratları yönettiğini  düşünüyor.',\n",
       "  'label': 0,\n",
       "  'id': '298',\n",
       "  'split': 'test',\n",
       "  'dataset_name': 'parallel_data/tr-Trac',\n",
       "  'language': 'tr',\n",
       "  'uncertainty': 0.6885148,\n",
       "  'margin': 0.09617889},\n",
       " {'text': 'Hindistan’In böyle bir başbakana ihtiyacı var.. Bütün yolsuz ağı alın',\n",
       "  'label': 0,\n",
       "  'id': '299',\n",
       "  'split': 'test',\n",
       "  'dataset_name': 'parallel_data/tr-Trac',\n",
       "  'language': 'tr',\n",
       "  'uncertainty': 0.6881293,\n",
       "  'margin': 0.100094765},\n",
       " {'text': 'Selbst ein 2 Monate altes Baby ist in Indien nicht sicher ... Dennoch ist die Kuh sicher…',\n",
       "  'label': 0,\n",
       "  'id': '0',\n",
       "  'split': 'test',\n",
       "  'dataset_name': 'parallel_data/de-Trac',\n",
       "  'language': 'de',\n",
       "  'uncertainty': 0.68797004,\n",
       "  'margin': 0.10166776},\n",
       " {'text': 'diese bhagwa Terroristen können nicht mal ihre Mahlzeiten verdauen, ohne in jedem Gespräch den Islam einzubeziehen, soweit wie ich diese fake Nationalisten verstehe, müssen sie als angemessene Antwort an Pakistan und China an die Grenzen geschickt werden.',\n",
       "  'label': 1,\n",
       "  'id': '1',\n",
       "  'split': 'test',\n",
       "  'dataset_name': 'parallel_data/de-Trac',\n",
       "  'language': 'de',\n",
       "  'uncertainty': 0.6885103,\n",
       "  'margin': 0.09622553},\n",
       " {'text': 'Welche Art von Medien ist das !! zuerst machen sie Schlagzeilen überindische Soldaten die von Raketenwerfern getötet werden und etzt darüber, ihre Leichname zu verstümmeln .... das passiert nur, wenn die Pak Armee LOC kreuzt .... apropos sieht aus wie ein #EchterChirurgenStreik mit Beweisen in indischen Medien',\n",
       "  'label': 0,\n",
       "  'id': '2',\n",
       "  'split': 'test',\n",
       "  'dataset_name': 'parallel_data/de-Trac',\n",
       "  'language': 'de',\n",
       "  'uncertainty': 0.68884766,\n",
       "  'margin': 0.09266469},\n",
       " {'text': 'Entschädigung an die Staaten wird alle 2 Monate gezahlt werden: FM',\n",
       "  'label': 0,\n",
       "  'id': '3',\n",
       "  'split': 'test',\n",
       "  'dataset_name': 'parallel_data/de-Trac',\n",
       "  'language': 'de',\n",
       "  'uncertainty': 0.68855715,\n",
       "  'margin': 0.095739454},\n",
       " {'text': 'Nifty unter 8550 zeigt vielleicht dass eine Abwärtsbewegung kommt',\n",
       "  'label': 0,\n",
       "  'id': '4',\n",
       "  'split': 'test',\n",
       "  'dataset_name': 'parallel_data/de-Trac',\n",
       "  'language': 'de',\n",
       "  'uncertainty': 0.6898136,\n",
       "  'margin': 0.081606716},\n",
       " {'text': 'Ein Apostel des Friedens und eine Mutter für alle, die von der Gesellschaft beraubt wurden und unerwünscht sind .....',\n",
       "  'label': 0,\n",
       "  'id': '5',\n",
       "  'split': 'test',\n",
       "  'dataset_name': 'parallel_data/de-Trac',\n",
       "  'language': 'de',\n",
       "  'uncertainty': 0.68778896,\n",
       "  'margin': 0.10342735},\n",
       " {'text': 'Wie sehen Sie den Finanzsektor vor der staatlichen Zinserhöhung',\n",
       "  'label': 0,\n",
       "  'id': '6',\n",
       "  'split': 'test',\n",
       "  'dataset_name': 'parallel_data/de-Trac',\n",
       "  'language': 'de',\n",
       "  'uncertainty': 0.68887734,\n",
       "  'margin': 0.09234506},\n",
       " {'text': 'Einige Leute senden andere Menschen mit ihrem Geld Schlange stehen um Scheine zu wechseln und zahlen ihnen im Gegenzug eine gewisse Summe.',\n",
       "  'label': 0,\n",
       "  'id': '7',\n",
       "  'split': 'test',\n",
       "  'dataset_name': 'parallel_data/de-Trac',\n",
       "  'language': 'de',\n",
       "  'uncertainty': 0.68785465,\n",
       "  'margin': 0.10279298},\n",
       " {'text': 'Gujarati Führer sprechen nicht als Armee Jawans getötet wurden und nie einzelne gujarati in der Armee in letzten 70 Jahren? Wird BJP keaders seinen Sohn losschicken um der Armee beizutreten?',\n",
       "  'label': 1,\n",
       "  'id': '8',\n",
       "  'split': 'test',\n",
       "  'dataset_name': 'parallel_data/de-Trac',\n",
       "  'language': 'de',\n",
       "  'uncertainty': 0.68934363,\n",
       "  'margin': 0.08716318},\n",
       " {'text': 'Das Schenken an den gesetzlichen Erben oder an die betreffende Blutsverwandte ist nicht illegal, die Umleitung von Geldern von Unternehmen in die eigene Tasche aber schon.',\n",
       "  'label': 0,\n",
       "  'id': '9',\n",
       "  'split': 'test',\n",
       "  'dataset_name': 'parallel_data/de-Trac',\n",
       "  'language': 'de',\n",
       "  'uncertainty': 0.6884788,\n",
       "  'margin': 0.096551776},\n",
       " {'text': 'Jetzt muss die indische Regierung wirkungsvolle Maßnahmen gegen das verdammte Pakistan einleiten ....',\n",
       "  'label': 1,\n",
       "  'id': '10',\n",
       "  'split': 'test',\n",
       "  'dataset_name': 'parallel_data/de-Trac',\n",
       "  'language': 'de',\n",
       "  'uncertainty': 0.68861496,\n",
       "  'margin': 0.09513566},\n",
       " {'text': 'Statt zu kritisieren sei mal so nett und werschätze die Bemühungen der Kinder und applaudiere für sie Kumpel !!',\n",
       "  'label': 0,\n",
       "  'id': '11',\n",
       "  'split': 'test',\n",
       "  'dataset_name': 'parallel_data/de-Trac',\n",
       "  'language': 'de',\n",
       "  'uncertainty': 0.6885122,\n",
       "  'margin': 0.09620628},\n",
       " {'text': 'Muhammad Imran sind Sie der militärische Leiter Pakistans? Was zum Teufel machst du mit Terroristen? #terrorstatepak',\n",
       "  'label': 1,\n",
       "  'id': '12',\n",
       "  'split': 'test',\n",
       "  'dataset_name': 'parallel_data/de-Trac',\n",
       "  'language': 'de',\n",
       "  'uncertainty': 0.6889632,\n",
       "  'margin': 0.09141305},\n",
       " {'text': 'gewählter Präsident Donald Trump ist ein Kinderschänder, er erzählte Howard Stern vor vielen Jahren, dass er die Vaginas von kleinen Mädchen, die bei Ms. Teen America teilgenommen haben, angegrabscht hat',\n",
       "  'label': 0,\n",
       "  'id': '13',\n",
       "  'split': 'test',\n",
       "  'dataset_name': 'parallel_data/de-Trac',\n",
       "  'language': 'de',\n",
       "  'uncertainty': 0.6880268,\n",
       "  'margin': 0.10110992},\n",
       " {'text': 'Keine Quoten keine Vorbehalte! Zuerst sollte der UN-Status der Frauen in der USA verbessern und dann über Indien sprechen. Wer zum Teufel sind Sie, sich in indischen Angelegenheiten einzumischen?',\n",
       "  'label': 1,\n",
       "  'id': '14',\n",
       "  'split': 'test',\n",
       "  'dataset_name': 'parallel_data/de-Trac',\n",
       "  'language': 'de',\n",
       "  'uncertainty': 0.6875982,\n",
       "  'margin': 0.10524869},\n",
       " {'text': 'Der Minister sollte den Bräutigammen Schwerter geben zur Verwendung wenn ihre Frauen in unerlaubten Beziehungen zu anderen sind. So dass Ehe in Zukunft kein gegenseitiger Kontakt, sondern ein gegenseitiger Krieg ist.',\n",
       "  'label': 1,\n",
       "  'id': '15',\n",
       "  'split': 'test',\n",
       "  'dataset_name': 'parallel_data/de-Trac',\n",
       "  'language': 'de',\n",
       "  'uncertainty': 0.6878195,\n",
       "  'margin': 0.10313332},\n",
       " {'text': 'Wird gute Renditen geben, da Vorweihnachtszeit ist und die Nachfrage auf dem Markt entsprechend erhöht ist. Zweitens, der Dollar ist auch schwach im Vergleich zu einem Rupee also :)',\n",
       "  'label': 0,\n",
       "  'id': '16',\n",
       "  'split': 'test',\n",
       "  'dataset_name': 'parallel_data/de-Trac',\n",
       "  'language': 'de',\n",
       "  'uncertainty': 0.68816483,\n",
       "  'margin': 0.09974074},\n",
       " {'text': 'Sie ist sicher hirnlos ... Hat es so viele Male zuvor bewiesen ..',\n",
       "  'label': 1,\n",
       "  'id': '17',\n",
       "  'split': 'test',\n",
       "  'dataset_name': 'parallel_data/de-Trac',\n",
       "  'language': 'de',\n",
       "  'uncertainty': 0.68848765,\n",
       "  'margin': 0.096460044},\n",
       " {'text': 'Es ist sinnlos, diese fb Sitzung ohne Anuj. Es macht nur Sinn mit Anuj + Sonia. Keine andere Kombination.',\n",
       "  'label': 0,\n",
       "  'id': '18',\n",
       "  'split': 'test',\n",
       "  'dataset_name': 'parallel_data/de-Trac',\n",
       "  'language': 'de',\n",
       "  'uncertainty': 0.6891124,\n",
       "  'margin': 0.08976972},\n",
       " {'text': 'Hahaha, das ist wahr man sollte im Geschäft Herz haben und ja, es ist wahr, vor allem Männer sterben an Herzinfarkten������',\n",
       "  'label': 0,\n",
       "  'id': '19',\n",
       "  'split': 'test',\n",
       "  'dataset_name': 'parallel_data/de-Trac',\n",
       "  'language': 'de',\n",
       "  'uncertainty': 0.6882225,\n",
       "  'margin': 0.09916183},\n",
       " {'text': 'So bleibt schwarzes Geld im Umlauf, es ist nur eine ungeplante dumme Entscheidung von einem verzogenen Bengel',\n",
       "  'label': 1,\n",
       "  'id': '20',\n",
       "  'split': 'test',\n",
       "  'dataset_name': 'parallel_data/de-Trac',\n",
       "  'language': 'de',\n",
       "  'uncertainty': 0.68905735,\n",
       "  'margin': 0.09037933},\n",
       " {'text': 'Sie müssen modi unterstützen hallo ..! Wenn ihr auf pm Position seid ..! Alle Betrüge sind passiert ...! Ihr arbeitet wie Roboter ..!',\n",
       "  'label': 1,\n",
       "  'id': '21',\n",
       "  'split': 'test',\n",
       "  'dataset_name': 'parallel_data/de-Trac',\n",
       "  'language': 'de',\n",
       "  'uncertainty': 0.6886351,\n",
       "  'margin': 0.094923824},\n",
       " {'text': 'Modi hat Mutter Indien ausgeraubt und geplündert. Kann irgendjemand ihn töten?',\n",
       "  'label': 1,\n",
       "  'id': '22',\n",
       "  'split': 'test',\n",
       "  'dataset_name': 'parallel_data/de-Trac',\n",
       "  'language': 'de',\n",
       "  'uncertainty': 0.68867767,\n",
       "  'margin': 0.09447631},\n",
       " {'text': 'Was ist mit dem 100 Rupie Scheinen die gestapelt wurden bevor die 500 und 1000 Rupie Scheine gedruckt wurden ?? Außerdem was ist mit dem Geld, das Politiker in ausländischen Konten in ausländischer Währung zurückgelegt haben ?? Durch diesen Zug bleiben alle großen Krokodile sicher!',\n",
       "  'label': 0,\n",
       "  'id': '23',\n",
       "  'split': 'test',\n",
       "  'dataset_name': 'parallel_data/de-Trac',\n",
       "  'language': 'de',\n",
       "  'uncertainty': 0.6896729,\n",
       "  'margin': 0.08330959},\n",
       " {'text': 'Schickt Farukh Abdullah (Namaharam und haramkhore) an die Indo-Pakistanische Grenze um mit seinen pakistanischen Schwiegersöhnen zu kämpfen.',\n",
       "  'label': 1,\n",
       "  'id': '24',\n",
       "  'split': 'test',\n",
       "  'dataset_name': 'parallel_data/de-Trac',\n",
       "  'language': 'de',\n",
       "  'uncertainty': 0.6877726,\n",
       "  'margin': 0.10358551},\n",
       " {'text': 'Ausserhalb der Box zu Denken ist ein Markenzeichen unseres Premierministers Modiji. Dieser Schritt wird unserem Land auf jeden Fall unser Land helfen, Schwarzgeld und Korruption zu kontrollieren ..',\n",
       "  'label': 0,\n",
       "  'id': '25',\n",
       "  'split': 'test',\n",
       "  'dataset_name': 'parallel_data/de-Trac',\n",
       "  'language': 'de',\n",
       "  'uncertainty': 0.68883586,\n",
       "  'margin': 0.09279144},\n",
       " {'text': 'Syed nady Wenn Kuh zum Essen ist dann, dass sie auch für Milch verwendet wird. Entweder sie wird leben um euch Milch zu liefern oder sterben um euch als Essen zur Verfügung zu stehen. Ich glaube, dass Sie frei von Gehirn sind, die durch diese idiotischen hidayat des Sex hungrigen Wahnsinnigen überschattet wird',\n",
       "  'label': 1,\n",
       "  'id': '26',\n",
       "  'split': 'test',\n",
       "  'dataset_name': 'parallel_data/de-Trac',\n",
       "  'language': 'de',\n",
       "  'uncertainty': 0.6878432,\n",
       "  'margin': 0.10290328},\n",
       " {'text': 'Menschen wie dich in meinem Leben zu haben, macht den ganzen Unterschied ... habaybi ento ❤❤',\n",
       "  'label': 0,\n",
       "  'id': '27',\n",
       "  'split': 'test',\n",
       "  'dataset_name': 'parallel_data/de-Trac',\n",
       "  'language': 'de',\n",
       "  'uncertainty': 0.6881381,\n",
       "  'margin': 0.10000694},\n",
       " {'text': 'Indische Armee wie hijra. Die ganze indische Armee gehen Haus und tragen Mist. pakistanische Armee kommt. zehn Inder wie ein Pakistani. Jeder weiß das.Allah mit Pakistan.und Krishna mit Indien ha .. ha..ha',\n",
       "  'label': 1,\n",
       "  'id': '28',\n",
       "  'split': 'test',\n",
       "  'dataset_name': 'parallel_data/de-Trac',\n",
       "  'language': 'de',\n",
       "  'uncertainty': 0.68874276,\n",
       "  'margin': 0.0937866},\n",
       " {'text': 'Alter sogar jetzt existiert das Problem mit Geldautomaten und langen Warteschlangen in der Bank. Wenn eine solche Initiative durchgeführt werden soll sollte zumindest die niederen Arbeit stark gewesen sein. Der Grund warum ich das erzähle ist dass die Regierungsbanken am wenigsten kooperativ sind auch in dieser Situation. Eine Maßnahme gegen solche Mitarbeiter sollte ergriffen werden. Die Idee der Demonetarisierung wäre erfolgreich gewesen, wenn alle Bankangestellten diesen Moment unterstützen und den Leuten helfen würden, anstatt das Gegenteil von dem, was gesagt wurde zu tun. Timinaksh Sharma',\n",
       "  'label': 0,\n",
       "  'id': '29',\n",
       "  'split': 'test',\n",
       "  'dataset_name': 'parallel_data/de-Trac',\n",
       "  'language': 'de',\n",
       "  'uncertainty': 0.6889373,\n",
       "  'margin': 0.09169543},\n",
       " {'text': 'Was ist mir der indischen Verfassung passiert? Warum gibt SC dem kein Gehör, was ein Grundrecht eines jeden Bürgers ist? Ist das nicht eine Gräueltat?',\n",
       "  'label': 1,\n",
       "  'id': '30',\n",
       "  'split': 'test',\n",
       "  'dataset_name': 'parallel_data/de-Trac',\n",
       "  'language': 'de',\n",
       "  'uncertainty': 0.6878023,\n",
       "  'margin': 0.10329923},\n",
       " {'text': 'Zeit einen weiteren 47 zu wiederholen :D so, dass die Inder wieder einen neuen Trennungstag als Unabhängigkeitstag feiern würden :D',\n",
       "  'label': 1,\n",
       "  'id': '31',\n",
       "  'split': 'test',\n",
       "  'dataset_name': 'parallel_data/de-Trac',\n",
       "  'language': 'de',\n",
       "  'uncertainty': 0.68829834,\n",
       "  'margin': 0.09839761},\n",
       " {'text': 'Schau an, wer spricht, der pm, der in 10 Jahren seiner Amtszeit nie gesprochen hat, nachdem zuhören hat Gott sei dank hat er nie gesprochen',\n",
       "  'label': 1,\n",
       "  'id': '32',\n",
       "  'split': 'test',\n",
       "  'dataset_name': 'parallel_data/de-Trac',\n",
       "  'language': 'de',\n",
       "  'uncertainty': 0.68960965,\n",
       "  'margin': 0.08406335},\n",
       " {'text': 'an alle bhakts .. warum konnte madi nicht warten, bis er überschüssiges Geld hatte mit rbi und dann deinen Plan durchführen? warum so dringend?',\n",
       "  'label': 1,\n",
       "  'id': '33',\n",
       "  'split': 'test',\n",
       "  'dataset_name': 'parallel_data/de-Trac',\n",
       "  'language': 'de',\n",
       "  'uncertainty': 0.68821037,\n",
       "  'margin': 0.09928405},\n",
       " {'text': 'Irgendwelche Nachrichten aus Tata Motors, wie es sich clever von seinem täglichen Tief erholt hat?',\n",
       "  'label': 0,\n",
       "  'id': '34',\n",
       "  'split': 'test',\n",
       "  'dataset_name': 'parallel_data/de-Trac',\n",
       "  'language': 'de',\n",
       "  'uncertainty': 0.6881647,\n",
       "  'margin': 0.09974125},\n",
       " {'text': 'Schlimmster PM Manmohan. In erster Linie sollt er garnicht erlaubt sein zu sprechen',\n",
       "  'label': 1,\n",
       "  'id': '35',\n",
       "  'split': 'test',\n",
       "  'dataset_name': 'parallel_data/de-Trac',\n",
       "  'language': 'de',\n",
       "  'uncertainty': 0.68880504,\n",
       "  'margin': 0.093122154},\n",
       " {'text': 'Ist irgendwem bewusst, was daraus passiert ist Steuer Karten zu machen, Aadhar Ausweis, Reisepass und Bankkonto für Kühe?  Ich habe auch gehört, dass Kühe einen Zuschuss von der Regierung erhalten, wenn sie ein Haus kaufen oder ihre Jungen an die Universität schicken wollen',\n",
       "  'label': 1,\n",
       "  'id': '36',\n",
       "  'split': 'test',\n",
       "  'dataset_name': 'parallel_data/de-Trac',\n",
       "  'language': 'de',\n",
       "  'uncertainty': 0.68909526,\n",
       "  'margin': 0.0899612},\n",
       " {'text': 'Warten Sie einen Tag .. es wird eine Pressemitteilung geben .. und übliche Podiumsdiskussionen in den Top-Zeiten. Ihr werdet die vorgeschriebene Antwort bekommen.',\n",
       "  'label': 1,\n",
       "  'id': '37',\n",
       "  'split': 'test',\n",
       "  'dataset_name': 'parallel_data/de-Trac',\n",
       "  'language': 'de',\n",
       "  'uncertainty': 0.6886569,\n",
       "  'margin': 0.094694346},\n",
       " {'text': 'Nd noch wichtiger ist, diese Jungs wegem dem Verdacht auf Kuh Diebstahl zusammen geschlagen. Sie würden Menschen aufgrund einer Behauptung töten, wo ist Gerechtigkeit ?? Wo sind meine Menschenrechte ?? Willkommen im neuen Indien',\n",
       "  'label': 1,\n",
       "  'id': '38',\n",
       "  'split': 'test',\n",
       "  'dataset_name': 'parallel_data/de-Trac',\n",
       "  'language': 'de',\n",
       "  'uncertainty': 0.6885531,\n",
       "  'margin': 0.09578207},\n",
       " {'text': 'Nicht zu vergessen 1991, als Indien am Rand zum Bankrott war. Indiens Devisenreserven waren kaum eine Milliarde Dollar und sind jetzt auf $ \\u200b\\u200b145 Milliarden Euro angestiegen.',\n",
       "  'label': 0,\n",
       "  'id': '39',\n",
       "  'split': 'test',\n",
       "  'dataset_name': 'parallel_data/de-Trac',\n",
       "  'language': 'de',\n",
       "  'uncertainty': 0.6876321,\n",
       "  'margin': 0.10492772},\n",
       " {'text': 'wir haben keine Geschichte wie Herr modi Killer von tausender Muslimen in Gujrat ...',\n",
       "  'label': 1,\n",
       "  'id': '40',\n",
       "  'split': 'test',\n",
       "  'dataset_name': 'parallel_data/de-Trac',\n",
       "  'language': 'de',\n",
       "  'uncertainty': 0.6876332,\n",
       "  'margin': 0.10491741},\n",
       " {'text': 'Wie der SC die Grundprinzipien der Rechtsprechung vergessen hat, eine Person kann nicht der Richter ihrem eigenen Fall sein. Wer stoppt die Untersuchung gegen die sieben Richter des SC, für die angeblichen Korruptionsvorwürfen als solche .Die Dalits sind vielleicht von Geburt an als unvollständig gebrandmarkt , aber sicher nicht als verrückt.',\n",
       "  'label': 1,\n",
       "  'id': '41',\n",
       "  'split': 'test',\n",
       "  'dataset_name': 'parallel_data/de-Trac',\n",
       "  'language': 'de',\n",
       "  'uncertainty': 0.6880717,\n",
       "  'margin': 0.100666314},\n",
       " {'text': 'Warum Sharad Pawar. Er hat nichts für Indien getan, außer das Land und arme Menschen zu plündern',\n",
       "  'label': 1,\n",
       "  'id': '42',\n",
       "  'split': 'test',\n",
       "  'dataset_name': 'parallel_data/de-Trac',\n",
       "  'language': 'de',\n",
       "  'uncertainty': 0.68769336,\n",
       "  'margin': 0.10434437},\n",
       " {'text': 'Wenn die PSU Banken Verlust Quartale posten & aufgrund von nicht-Demonatrisierung, die Geldzirkulation wird auch schlimm beeinträchtigt, was direkt die Geschäfte der einfachen Leute betrifft. Ich weiß nicht, wie sie diese Entscheidunggetroffen haben, in Bezug auf die Zinsen unverändert.',\n",
       "  'label': 0,\n",
       "  'id': '43',\n",
       "  'split': 'test',\n",
       "  'dataset_name': 'parallel_data/de-Trac',\n",
       "  'language': 'de',\n",
       "  'uncertainty': 0.6892741,\n",
       "  'margin': 0.087955594},\n",
       " {'text': 'Wir indische Bürger besonders liberale, nicht bhakts, werden modinicht mit Schwert, Pistolen, Gewehr oder Bombe, sondern mit unseren Worten töten. Wir werden ihn öffentlich hinterfragen müssen. Aber er erlaubt nie jemanden ihn un der öffentlichkeit zu hinterfragen. Im letzten Wahlkampf hatte eine hindu Dame ihre Stimme vor modi erhoben und wurde mit mit Gewalt von den Wachen weggebracht. Dies ist der Feigling modi! Darpok PM!',\n",
       "  'label': 1,\n",
       "  'id': '44',\n",
       "  'split': 'test',\n",
       "  'dataset_name': 'parallel_data/de-Trac',\n",
       "  'language': 'de',\n",
       "  'uncertainty': 0.68884426,\n",
       "  'margin': 0.092701316},\n",
       " {'text': 'Unternehmen geben mehr Bargeld an die Investoren zurück und mehr Investoren investieren',\n",
       "  'label': 0,\n",
       "  'id': '45',\n",
       "  'split': 'test',\n",
       "  'dataset_name': 'parallel_data/de-Trac',\n",
       "  'language': 'de',\n",
       "  'uncertainty': 0.68932176,\n",
       "  'margin': 0.08741337},\n",
       " {'text': 'Leute, er ist ein bekannter Ökonom, der Angang der 90er Jahre viiel Gutes gebracht hat. Bitte hört auf PM blind zu folgen, ich unterstütze auch Modi, aber die Probleme die er anspricht sind real.',\n",
       "  'label': 0,\n",
       "  'id': '46',\n",
       "  'split': 'test',\n",
       "  'dataset_name': 'parallel_data/de-Trac',\n",
       "  'language': 'de',\n",
       "  'uncertainty': 0.68897426,\n",
       "  'margin': 0.09129229},\n",
       " {'text': 'Außer BJP Partei Mittel, alle online. Nur BJP wird schwarzes Geld behalten.',\n",
       "  'label': 1,\n",
       "  'id': '47',\n",
       "  'split': 'test',\n",
       "  'dataset_name': 'parallel_data/de-Trac',\n",
       "  'language': 'de',\n",
       "  'uncertainty': 0.6890094,\n",
       "  'margin': 0.09090716},\n",
       " {'text': 'Ja @ guarav du hast das vielleicht in Anwesenheit von tausenden Soldaten getan, mein Gott du bist ja soooooo mutig ������ ������������������������',\n",
       "  'label': 1,\n",
       "  'id': '48',\n",
       "  'split': 'test',\n",
       "  'dataset_name': 'parallel_data/de-Trac',\n",
       "  'language': 'de',\n",
       "  'uncertainty': 0.6891702,\n",
       "  'margin': 0.08912587},\n",
       " {'text': 'Wo ist die Feigling Polizei. Tragen sie alle nur Mist und schlafen?',\n",
       "  'label': 1,\n",
       "  'id': '49',\n",
       "  'split': 'test',\n",
       "  'dataset_name': 'parallel_data/de-Trac',\n",
       "  'language': 'de',\n",
       "  'uncertainty': 0.6885694,\n",
       "  'margin': 0.09561095},\n",
       " {'text': 'Ich habe diesen Typ nicht sprechen gehört als er zwei Amstszeiten lang PM war ... nun ganz plötzlich spricht er... ist das der modi Effekt ... lol ...',\n",
       "  'label': 1,\n",
       "  'id': '50',\n",
       "  'split': 'test',\n",
       "  'dataset_name': 'parallel_data/de-Trac',\n",
       "  'language': 'de',\n",
       "  'uncertainty': 0.6889832,\n",
       "  'margin': 0.09119466},\n",
       " {'text': 'Dalit-Frauen vergewaltigt und von der oberen Kaste gezwungen menschlichen Urin zu trinken',\n",
       "  'label': 0,\n",
       "  'id': '51',\n",
       "  'split': 'test',\n",
       "  'dataset_name': 'parallel_data/de-Trac',\n",
       "  'language': 'de',\n",
       "  'uncertainty': 0.6889417,\n",
       "  'margin': 0.091646165},\n",
       " {'text': 'Manisch entspannen und den Sonntag genießen. Nichts ist fruchtbar in Streit über politische Fragen jeden Tag. Haben Sie einfach einen ruhigen Sonntag.',\n",
       "  'label': 0,\n",
       "  'id': '52',\n",
       "  'split': 'test',\n",
       "  'dataset_name': 'parallel_data/de-Trac',\n",
       "  'language': 'de',\n",
       "  'uncertainty': 0.6872039,\n",
       "  'margin': 0.10891771},\n",
       " {'text': 'Regierung hat damit begonnen, von den einfachen Bürgern Geld zu plündern. Gut gemacht, Regeln für den eifnachen Menschen. Alle Politiker und politische Parteien sind hiervon ausgenommen.',\n",
       "  'label': 0,\n",
       "  'id': '53',\n",
       "  'split': 'test',\n",
       "  'dataset_name': 'parallel_data/de-Trac',\n",
       "  'language': 'de',\n",
       "  'uncertainty': 0.6882541,\n",
       "  'margin': 0.09884372},\n",
       " {'text': 'Kommt schon Kinder, nicht schreien. Wir alle glücklich mit der Entscheidung. Der Rest tötet euch selbst..',\n",
       "  'label': 1,\n",
       "  'id': '54',\n",
       "  'split': 'test',\n",
       "  'dataset_name': 'parallel_data/de-Trac',\n",
       "  'language': 'de',\n",
       "  'uncertainty': 0.68759274,\n",
       "  'margin': 0.105300784},\n",
       " {'text': 'versuch nicht dich zu kümmern, weil die Regierung des Tages sagt, dass das Land sich verändert. obwohl wir unsere tapferen Menschen schnell und rabiater als je zuvor zu verlieren, aber wir lieben jumlas mehr',\n",
       "  'label': 1,\n",
       "  'id': '55',\n",
       "  'split': 'test',\n",
       "  'dataset_name': 'parallel_data/de-Trac',\n",
       "  'language': 'de',\n",
       "  'uncertainty': 0.6879018,\n",
       "  'margin': 0.10233474},\n",
       " {'text': 'Hoffnungsloser Kerl. 10 Jahre unser Land ruiniert und jetzt öffnet den Mund auch aus einem schlechtem Grund.',\n",
       "  'label': 1,\n",
       "  'id': '56',\n",
       "  'split': 'test',\n",
       "  'dataset_name': 'parallel_data/de-Trac',\n",
       "  'language': 'de',\n",
       "  'uncertainty': 0.6879442,\n",
       "  'margin': 0.10192186},\n",
       " {'text': 'Würde war auf der anderen Seite. Dafür nicht zu stören. Mal sehen, was die nautanki die Opposition spielen wird, wenn die Regierung Antworten hat.',\n",
       "  'label': 0,\n",
       "  'id': '57',\n",
       "  'split': 'test',\n",
       "  'dataset_name': 'parallel_data/de-Trac',\n",
       "  'language': 'de',\n",
       "  'uncertainty': 0.6897143,\n",
       "  'margin': 0.082812995},\n",
       " {'text': 'Nitin Sharma .... Beschwichtigung nur denen von Brahmans. Weist du was Beschwichtigung bedeutet, einen Faschist einem wohl verdienten Kandidaten vozuziehen nur um die obere Kaste zu beschwichtigen. Einen Scheiß darauf zu geben welche Täter im Mord an Minderheiten beteiligt sind nur um Brahmans faschistische Tagesordnung zu beschwichtigen. Kuh Jungfräulichkeit beschwichtigr nur Brahmans die Dalits Gedanken zurückstellen. Dies wird Beschwichtigung genannt. Nun sagen Sie mir, über was eine Art von Beschwichtigung Sie sprechen.',\n",
       "  'label': 1,\n",
       "  'id': '58',\n",
       "  'split': 'test',\n",
       "  'dataset_name': 'parallel_data/de-Trac',\n",
       "  'language': 'de',\n",
       "  'uncertainty': 0.6892236,\n",
       "  'margin': 0.08852625},\n",
       " {'text': 'Leonidas wurde in die Wildnis geschickt ... um zu lernen, wie man überlebt .....',\n",
       "  'label': 0,\n",
       "  'id': '59',\n",
       "  'split': 'test',\n",
       "  'dataset_name': 'parallel_data/de-Trac',\n",
       "  'language': 'de',\n",
       "  'uncertainty': 0.68834853,\n",
       "  'margin': 0.097887546},\n",
       " {'text': 'Sie verstümmeln die Körperteile unserer Soldaten und ihr sagt dass ihr es für euren eigenen Gewinn beobachtest. Schämt euch, ihr Müll Nachrichten Kanal',\n",
       "  'label': 1,\n",
       "  'id': '60',\n",
       "  'split': 'test',\n",
       "  'dataset_name': 'parallel_data/de-Trac',\n",
       "  'language': 'de',\n",
       "  'uncertainty': 0.6885607,\n",
       "  'margin': 0.09570184},\n",
       " {'text': 'Was ist mit dem Leuten, die wegen fehlenden Dokumenten Adhar nicht erhalten? Wo sind alle Dokumente hin?',\n",
       "  'label': 0,\n",
       "  'id': '61',\n",
       "  'split': 'test',\n",
       "  'dataset_name': 'parallel_data/de-Trac',\n",
       "  'language': 'de',\n",
       "  'uncertainty': 0.68869686,\n",
       "  'margin': 0.09427321},\n",
       " {'text': '\"Maun Mohan Singh\" spricht :). Kapitän des korrupten Kongresses, stummer Zuschauer der großen Indien Beute nimmt sie:) seltenes Ereignis, scheint als hätte er dabei auch Bauchschmerzen gehabt..',\n",
       "  'label': 1,\n",
       "  'id': '62',\n",
       "  'split': 'test',\n",
       "  'dataset_name': 'parallel_data/de-Trac',\n",
       "  'language': 'de',\n",
       "  'uncertainty': 0.68887204,\n",
       "  'margin': 0.09240174},\n",
       " {'text': \"Hat der PM die Zahlen über die Kosten dieser Schnapsidee raus gegeben ?? Anerkennung für die Menschen, die ihr Leben in dem Bemühen gelassen haben, ihr eigenes Geld von der Bank zu bekommen ?? Geben irgendwelche Beamte von RBI ihre Glaubwürdigkeit noch an die Worte des PM's ab??\",\n",
       "  'label': 0,\n",
       "  'id': '63',\n",
       "  'split': 'test',\n",
       "  'dataset_name': 'parallel_data/de-Trac',\n",
       "  'language': 'de',\n",
       "  'uncertainty': 0.6890373,\n",
       "  'margin': 0.09060037},\n",
       " {'text': 'modi ist der größte Witzbold der Welt, nicht nur Indien',\n",
       "  'label': 1,\n",
       "  'id': '64',\n",
       "  'split': 'test',\n",
       "  'dataset_name': 'parallel_data/de-Trac',\n",
       "  'language': 'de',\n",
       "  'uncertainty': 0.68755925,\n",
       "  'margin': 0.105617374},\n",
       " {'text': 'Für solche Vorfälle war die Wochen Politik der Congress Regierung verantwortlich, als diese Nationalisten  in der Opposition waren und jetzt',\n",
       "  'label': 0,\n",
       "  'id': '65',\n",
       "  'split': 'test',\n",
       "  'dataset_name': 'parallel_data/de-Trac',\n",
       "  'language': 'de',\n",
       "  'uncertainty': 0.689131,\n",
       "  'margin': 0.08956307},\n",
       " {'text': 'Indien hat eine fake Demokratie. wenn wir über Demokratie sprechen können wir feststellen, dass ihre Demokratie bedeutet „Kauf ein Patanjli Produkt, Verbiete Rindfleisch, Vergewaltigung,Kashmiri Töten, Stehlen und so weiter',\n",
       "  'label': 1,\n",
       "  'id': '66',\n",
       "  'split': 'test',\n",
       "  'dataset_name': 'parallel_data/de-Trac',\n",
       "  'language': 'de',\n",
       "  'uncertainty': 0.6887818,\n",
       "  'margin': 0.09337053},\n",
       " {'text': 'Es macht keinen Sinn jetzt zu reden, nach dem Fördern von Terror unter seiner Herrschaft, war eine Marionette.',\n",
       "  'label': 1,\n",
       "  'id': '67',\n",
       "  'split': 'test',\n",
       "  'dataset_name': 'parallel_data/de-Trac',\n",
       "  'language': 'de',\n",
       "  'uncertainty': 0.687888,\n",
       "  'margin': 0.10246906},\n",
       " {'text': 'Was hat Pakistan getan um sich NSG würdig zu erweisen? Gebt die Mitgliedschaft an Nordkorea wenn du schon dabei bist. Was für eine lächerliche Haltung!',\n",
       "  'label': 1,\n",
       "  'id': '68',\n",
       "  'split': 'test',\n",
       "  'dataset_name': 'parallel_data/de-Trac',\n",
       "  'language': 'de',\n",
       "  'uncertainty': 0.6884762,\n",
       "  'margin': 0.0965786},\n",
       " {'text': 'Generation RAWAT wird dafür verantwortlich gemacht, dass Pakistanis das LOC überquert und meine Frau und Tochter vergewaltigt haben und dann sicher nach Pakistan entkommen sind. Jetzt bedrohnen mich die Pakistanis, dass sie michauch VERGEWALTIGEN werden ......',\n",
       "  'label': 1,\n",
       "  'id': '69',\n",
       "  'split': 'test',\n",
       "  'dataset_name': 'parallel_data/de-Trac',\n",
       "  'language': 'de',\n",
       "  'uncertainty': 0.6880503,\n",
       "  'margin': 0.100878},\n",
       " {'text': 'Ich ziehe den Hut vor diesem Mann, er wird PM und hat 10 Jahre damit verbracht sich auf eine solche Rede vorzubereiten, ich liebe seinen Spirit.',\n",
       "  'label': 1,\n",
       "  'id': '70',\n",
       "  'split': 'test',\n",
       "  'dataset_name': 'parallel_data/de-Trac',\n",
       "  'language': 'de',\n",
       "  'uncertainty': 0.6874465,\n",
       "  'margin': 0.10667539},\n",
       " {'text': 'Ja stimmt schon, dass wir auch eine fruchtvolles Gespräch zur Schaffung Kurdistans haben müssen',\n",
       "  'label': 0,\n",
       "  'id': '71',\n",
       "  'split': 'test',\n",
       "  'dataset_name': 'parallel_data/de-Trac',\n",
       "  'language': 'de',\n",
       "  'uncertainty': 0.6890717,\n",
       "  'margin': 0.09022093},\n",
       " {'text': 'Armer Manmohansinghji; Er dachte wahrscheinlich die Fragen in der Diskussion waren 2G und Kohle-Betrug.',\n",
       "  'label': 1,\n",
       "  'id': '72',\n",
       "  'split': 'test',\n",
       "  'dataset_name': 'parallel_data/de-Trac',\n",
       "  'language': 'de',\n",
       "  'uncertainty': 0.68780625,\n",
       "  'margin': 0.10326153},\n",
       " {'text': 'Nie den Mund geöffnet als er PM war..jetzt spricht er ... er hält jetzt besser die Klappe bevor das Indische Volk das für Ihn tut ... Sonias Sklave',\n",
       "  'label': 1,\n",
       "  'id': '73',\n",
       "  'split': 'test',\n",
       "  'dataset_name': 'parallel_data/de-Trac',\n",
       "  'language': 'de',\n",
       "  'uncertainty': 0.689644,\n",
       "  'margin': 0.083655685},\n",
       " {'text': 'Pakistan ist im Grunde ein vom Militär regierter Staat und fake Demokratie um die weiterentwickelte / mächtige Welt reinzulegen um Almoesen zu bekommen ?? Tatsächliche eine geschieterte Nation ??',\n",
       "  'label': 0,\n",
       "  'id': '74',\n",
       "  'split': 'test',\n",
       "  'dataset_name': 'parallel_data/de-Trac',\n",
       "  'language': 'de',\n",
       "  'uncertainty': 0.6890658,\n",
       "  'margin': 0.09028673},\n",
       " {'text': 'Was auch immer es ist .. Die Art und Weise wie Manmohan Singh mit Würde und Respekt zu dem Vorsitzenden und dem PM sprach..ist die Art und Weise es laufen sollte.. Nicht eine bestimmte Partei .. Oder Notfall Worte wie es der aktuelle Sprecher tut ... Das Haus sollte mit Respekt laufen',\n",
       "  'label': 0,\n",
       "  'id': '75',\n",
       "  'split': 'test',\n",
       "  'dataset_name': 'parallel_data/de-Trac',\n",
       "  'language': 'de',\n",
       "  'uncertainty': 0.68914306,\n",
       "  'margin': 0.08942875},\n",
       " {'text': 'Mohammed Allaudin. Machen Sie Ihr Gehirn digital und gewinnen Sie Preise.',\n",
       "  'label': 1,\n",
       "  'id': '76',\n",
       "  'split': 'test',\n",
       "  'dataset_name': 'parallel_data/de-Trac',\n",
       "  'language': 'de',\n",
       "  'uncertainty': 0.68780375,\n",
       "  'margin': 0.10328522},\n",
       " {'text': 'Offensichtlich läuft es gutvunter der Führung von Nara Chandrababu Naidu !!!',\n",
       "  'label': 0,\n",
       "  'id': '77',\n",
       "  'split': 'test',\n",
       "  'dataset_name': 'parallel_data/de-Trac',\n",
       "  'language': 'de',\n",
       "  'uncertainty': 0.6882454,\n",
       "  'margin': 0.09893191},\n",
       " {'text': 'Lasst uns hoffen, dass er dieses mal auch in den Ruhestand davon geht in den Ruhestand zu gehen...',\n",
       "  'label': 0,\n",
       "  'id': '78',\n",
       "  'split': 'test',\n",
       "  'dataset_name': 'parallel_data/de-Trac',\n",
       "  'language': 'de',\n",
       "  'uncertainty': 0.6878121,\n",
       "  'margin': 0.10320425},\n",
       " {'text': 'Die indische Armee benutzt einen Menschen als menschliches Schutzschild schämt euch indiche Armee',\n",
       "  'label': 1,\n",
       "  'id': '79',\n",
       "  'split': 'test',\n",
       "  'dataset_name': 'parallel_data/de-Trac',\n",
       "  'language': 'de',\n",
       "  'uncertainty': 0.6878751,\n",
       "  'margin': 0.102594435},\n",
       " {'text': 'alle Inder unterstützen .... Jai Hind ... Jai Bharat ... einige idiotische Muslime kommentieren sie ... Ich verstehe nicht, warum ihr jungs euch überhaupt darüber aufregt ... macht einfach erstmal eure eigene Arbeit udn gebt dann euren Kommentar ab .... Jai Ho modi',\n",
       "  'label': 1,\n",
       "  'id': '80',\n",
       "  'split': 'test',\n",
       "  'dataset_name': 'parallel_data/de-Trac',\n",
       "  'language': 'de',\n",
       "  'uncertainty': 0.68887377,\n",
       "  'margin': 0.09238276},\n",
       " {'text': 'Der nutzloseste PM den Indien jemals gesehen hat, er hätte so wunderbare Dinge für das Land tun können, eine solche Verschwendung seiner Amtszeit.',\n",
       "  'label': 1,\n",
       "  'id': '81',\n",
       "  'split': 'test',\n",
       "  'dataset_name': 'parallel_data/de-Trac',\n",
       "  'language': 'de',\n",
       "  'uncertainty': 0.68876904,\n",
       "  'margin': 0.09350684},\n",
       " {'text': 'Jetzt wollt ihr über Kashmir sprechen wie wäre es denn mit dem gegenteiligen Dialog über Kurdistan, Armenien und den Völkermord an den Griechen',\n",
       "  'label': 1,\n",
       "  'id': '82',\n",
       "  'split': 'test',\n",
       "  'dataset_name': 'parallel_data/de-Trac',\n",
       "  'language': 'de',\n",
       "  'uncertainty': 0.6866807,\n",
       "  'margin': 0.11360088},\n",
       " {'text': 'Ich bin sauber ohne Bargeld wenn Transaktionen über Debitkarten gehen ich bin glücklich',\n",
       "  'label': 0,\n",
       "  'id': '83',\n",
       "  'split': 'test',\n",
       "  'dataset_name': 'parallel_data/de-Trac',\n",
       "  'language': 'de',\n",
       "  'uncertainty': 0.68847466,\n",
       "  'margin': 0.096594065},\n",
       " {'text': 'Salman Ahmad meint Indien hat einen weiteren internationalen Bhikhari zusammen mit Pakistan für Kashmir gemacht. Haha ich fühle mich stolz nachdem ich deine Aussage gelesen habe',\n",
       "  'label': 1,\n",
       "  'id': '84',\n",
       "  'split': 'test',\n",
       "  'dataset_name': 'parallel_data/de-Trac',\n",
       "  'language': 'de',\n",
       "  'uncertainty': 0.6877625,\n",
       "  'margin': 0.10368246},\n",
       " {'text': 'Nein.. sie ist lesbisch. !! Wir brauchen einen Hexenjäger um sie zu töten',\n",
       "  'label': 1,\n",
       "  'id': '85',\n",
       "  'split': 'test',\n",
       "  'dataset_name': 'parallel_data/de-Trac',\n",
       "  'language': 'de',\n",
       "  'uncertainty': 0.6876439,\n",
       "  'margin': 0.10481614},\n",
       " {'text': 'Sieht aus als sei er gestern von Sonia programmiert wurden damit er auf diese Weise spricht ������',\n",
       "  'label': 1,\n",
       "  'id': '86',\n",
       "  'split': 'test',\n",
       "  'dataset_name': 'parallel_data/de-Trac',\n",
       "  'language': 'de',\n",
       "  'uncertainty': 0.68869424,\n",
       "  'margin': 0.09430075},\n",
       " {'text': 'Wird das jio Fieber das Vertrauen lange schützen? Andere telecos werden sicher bald genug aufholen?',\n",
       "  'label': 0,\n",
       "  'id': '87',\n",
       "  'split': 'test',\n",
       "  'dataset_name': 'parallel_data/de-Trac',\n",
       "  'language': 'de',\n",
       "  'uncertainty': 0.68966484,\n",
       "  'margin': 0.08340627},\n",
       " {'text': 'Wer bist du verdammt dass du so über unseren respektiereten Anführer sprichst, wie dies für unsere respektable Führer. Wenn du ein Unterstützer oder Mitglied bist bitte verschwinde von hier und dass dich mit deinem dreckigen schwarzen Gesicht nie wieder blicken.',\n",
       "  'label': 1,\n",
       "  'id': '88',\n",
       "  'split': 'test',\n",
       "  'dataset_name': 'parallel_data/de-Trac',\n",
       "  'language': 'de',\n",
       "  'uncertainty': 0.68922114,\n",
       "  'margin': 0.08855423},\n",
       " {'text': 'Naresh ji. .... was hast du mit deinem Wahlkreis getan. ..weil du sagst dass du deine Leute vertrittst',\n",
       "  'label': 0,\n",
       "  'id': '89',\n",
       "  'split': 'test',\n",
       "  'dataset_name': 'parallel_data/de-Trac',\n",
       "  'language': 'de',\n",
       "  'uncertainty': 0.69020295,\n",
       "  'margin': 0.07669842},\n",
       " {'text': 'Der Islam ist keine Religion und Allah ist ein riesiger Wichser Drück auf Gefällt mir wenn du das genauso siehst',\n",
       "  'label': 1,\n",
       "  'id': '90',\n",
       "  'split': 'test',\n",
       "  'dataset_name': 'parallel_data/de-Trac',\n",
       "  'language': 'de',\n",
       "  'uncertainty': 0.68906087,\n",
       "  'margin': 0.09034085},\n",
       " {'text': 'Manmohans Rede, fühlt sich so an als ob ihn jemand dazu gezwungen hat so zu sprechen ',\n",
       "  'label': 1,\n",
       "  'id': '91',\n",
       "  'split': 'test',\n",
       "  'dataset_name': 'parallel_data/de-Trac',\n",
       "  'language': 'de',\n",
       "  'uncertainty': 0.6892389,\n",
       "  'margin': 0.08835381},\n",
       " {'text': 'Lassen Sie die Kaschmiris in einer Umfrage entscheiden was sie wollen',\n",
       "  'label': 0,\n",
       "  'id': '92',\n",
       "  'split': 'test',\n",
       "  'dataset_name': 'parallel_data/de-Trac',\n",
       "  'language': 'de',\n",
       "  'uncertainty': 0.6887269,\n",
       "  'margin': 0.093954146},\n",
       " {'text': 'MM hat eine Rede gehalten, er hat ganz sicher wie immer jemandes Befehl gehorcht ',\n",
       "  'label': 1,\n",
       "  'id': '93',\n",
       "  'split': 'test',\n",
       "  'dataset_name': 'parallel_data/de-Trac',\n",
       "  'language': 'de',\n",
       "  'uncertainty': 0.68841577,\n",
       "  'margin': 0.097200274},\n",
       " {'text': 'Eine Stilleminute für alle diejenigen, die solche beleidigen Kommentare auf MMS schreiben. Wenn dieser Mann nicht in den 1990er Jahren die Wirtschaft geöffnet hätte, würdet ihr alle in einem scheiß sozialistischen Land leben.',\n",
       "  'label': 1,\n",
       "  'id': '94',\n",
       "  'split': 'test',\n",
       "  'dataset_name': 'parallel_data/de-Trac',\n",
       "  'language': 'de',\n",
       "  'uncertainty': 0.68804157,\n",
       "  'margin': 0.10096452},\n",
       " {'text': 'Wie kann ich die Geschwindigkeit der Wiedergabe erhöhen !! MMS ist in Zeitlupe',\n",
       "  'label': 1,\n",
       "  'id': '95',\n",
       "  'split': 'test',\n",
       "  'dataset_name': 'parallel_data/de-Trac',\n",
       "  'language': 'de',\n",
       "  'uncertainty': 0.68951786,\n",
       "  'margin': 0.08514592},\n",
       " {'text': 'nenn mir die Anzahl von Ländern, die die verdammten islamischen Länder besetzt haben',\n",
       "  'label': 1,\n",
       "  'id': '96',\n",
       "  'split': 'test',\n",
       "  'dataset_name': 'parallel_data/de-Trac',\n",
       "  'language': 'de',\n",
       "  'uncertainty': 0.68783253,\n",
       "  'margin': 0.10300711},\n",
       " {'text': 'Auf der einen Seite sagen genau diese Minister keine Art von Gewalt kann gerechtfertigt sein ‚und auf der anderen Seite, gibt der gleiche Minister Waffen aus um Gewalt zu vollbringen. Das ist verfassungswidrig, unmenschliche und ebenfalls rechtswidrig',\n",
       "  'label': 1,\n",
       "  'id': '97',\n",
       "  'split': 'test',\n",
       "  'dataset_name': 'parallel_data/de-Trac',\n",
       "  'language': 'de',\n",
       "  'uncertainty': 0.6888914,\n",
       "  'margin': 0.0921922},\n",
       " {'text': \"Was sollte die Sicht Anuj, auf die linke Seite des Pharmasektors sein .... Aktien wie Divi's, Aurobindo, Sun, Glenmark, Cadilla ....\",\n",
       "  'label': 0,\n",
       "  'id': '98',\n",
       "  'split': 'test',\n",
       "  'dataset_name': 'parallel_data/de-Trac',\n",
       "  'language': 'de',\n",
       "  'uncertainty': 0.68838036,\n",
       "  'margin': 0.09756282},\n",
       " {'text': 'Dank unserem Herr Präsidenten suchen wir jetzt nach ganz indien',\n",
       "  'label': 0,\n",
       "  'id': '99',\n",
       "  'split': 'test',\n",
       "  'dataset_name': 'parallel_data/de-Trac',\n",
       "  'language': 'de',\n",
       "  'uncertainty': 0.68756187,\n",
       "  'margin': 0.10559273},\n",
       " {'text': 'Er verdient trotzdem noch Cricket zu spielen. Sein wahres Alter ist nach wie vor 19 + ������',\n",
       "  'label': 0,\n",
       "  'id': '100',\n",
       "  'split': 'test',\n",
       "  'dataset_name': 'parallel_data/de-Trac',\n",
       "  'language': 'de',\n",
       "  'uncertainty': 0.688666,\n",
       "  'margin': 0.09459922},\n",
       " {'text': 'Dieser Allaudin wird weiterhin missbrauchen, dieser Gauner. Man sollte ihn aus dem Land raus schmeißen.',\n",
       "  'label': 1,\n",
       "  'id': '101',\n",
       "  'split': 'test',\n",
       "  'dataset_name': 'parallel_data/de-Trac',\n",
       "  'language': 'de',\n",
       "  'uncertainty': 0.68759745,\n",
       "  'margin': 0.10525662},\n",
       " {'text': 'Das wird in der Bildung gut sein. Wird eine klarere sicht auf Mathe und Grundlagen der Physik geben besonders Trigonometrie',\n",
       "  'label': 0,\n",
       "  'id': '102',\n",
       "  'split': 'test',\n",
       "  'dataset_name': 'parallel_data/de-Trac',\n",
       "  'language': 'de',\n",
       "  'uncertainty': 0.6889721,\n",
       "  'margin': 0.09131479},\n",
       " {'text': 'EIN MANN WIE DU SOLLTE NICHT MIT KHUJLIWAL JEE DORT SEIN. ER IST NICHTS ALS EINE WITZFIGUR',\n",
       "  'label': 1,\n",
       "  'id': '103',\n",
       "  'split': 'test',\n",
       "  'dataset_name': 'parallel_data/de-Trac',\n",
       "  'language': 'de',\n",
       "  'uncertainty': 0.6868348,\n",
       "  'margin': 0.1122413},\n",
       " {'text': 'TV18 Netzwerk 18 ... bitte zeigt gute Gewinne und echte Ergebnisse .... Leute wenn ihr komplizierte Ergebnisse zeigt, wa erwartet ihr dann von den anderen? ihr seid die Nummer 1 ..kommt schon',\n",
       "  'label': 0,\n",
       "  'id': '104',\n",
       "  'split': 'test',\n",
       "  'dataset_name': 'parallel_data/de-Trac',\n",
       "  'language': 'de',\n",
       "  'uncertainty': 0.68833745,\n",
       "  'margin': 0.09799969},\n",
       " {'text': 'Modi Sir hat einen viel breiteren Blickwinkel als Kalam. Er ist so Visionär wie Sahdev von Mahabharata. Sahdev konnte mit seiner Vision nicht viel Gutes ausrichten. Modi Herr wird die Welt verändern und Ram Rajya bringen. Hört auf ihn zu erniedrigen indem ihn mit Kalam vergleicht.',\n",
       "  'label': 0,\n",
       "  'id': '105',\n",
       "  'split': 'test',\n",
       "  'dataset_name': 'parallel_data/de-Trac',\n",
       "  'language': 'de',\n",
       "  'uncertainty': 0.6891041,\n",
       "  'margin': 0.089862674},\n",
       " {'text': 'Interessante Sache, gibt es kein Wort names „Budget“ in unserer gesamten Verfassung.',\n",
       "  'label': 0,\n",
       "  'id': '106',\n",
       "  'split': 'test',\n",
       "  'dataset_name': 'parallel_data/de-Trac',\n",
       "  'language': 'de',\n",
       "  'uncertainty': 0.6895436,\n",
       "  'margin': 0.08484432},\n",
       " {'text': 'Jetzt ist die Zeit wohlständigerer Staat als Maharashtra und punjab zu sein',\n",
       "  'label': 0,\n",
       "  'id': '107',\n",
       "  'split': 'test',\n",
       "  'dataset_name': 'parallel_data/de-Trac',\n",
       "  'language': 'de',\n",
       "  'uncertainty': 0.68769443,\n",
       "  'margin': 0.104334},\n",
       " {'text': 'dieses Volk könnte meine Seite gehackt haben, geht mir aus den Augen .ha ha .... danke cnbc tv 18 ich hatte eine wunderbare Zeit ...',\n",
       "  'label': 0,\n",
       "  'id': '108',\n",
       "  'split': 'test',\n",
       "  'dataset_name': 'parallel_data/de-Trac',\n",
       "  'language': 'de',\n",
       "  'uncertainty': 0.6898973,\n",
       "  'margin': 0.08057785},\n",
       " {'text': 'wie kann man so verantwortungslos sein, wir töten bereits Unschuldige von Kaschmir, die unsere tapfere Armee ist ... macht dem jetzt ein Ende',\n",
       "  'label': 0,\n",
       "  'id': '109',\n",
       "  'split': 'test',\n",
       "  'dataset_name': 'parallel_data/de-Trac',\n",
       "  'language': 'de',\n",
       "  'uncertainty': 0.6884515,\n",
       "  'margin': 0.09683341},\n",
       " {'text': 'Der Punkt der Demonetarisierung ist es mit der Art in der Indien jetzt mit Bargeld umgeht Schluss zu machen, Indien muss erzwingen dass alle großen Transaktionen entweder über Kredit- oder Debitkarten laufen , Bargeld sollte nur für kleine Beträge genutzt werden',\n",
       "  'label': 0,\n",
       "  'id': '110',\n",
       "  'split': 'test',\n",
       "  'dataset_name': 'parallel_data/de-Trac',\n",
       "  'language': 'de',\n",
       "  'uncertainty': 0.68878347,\n",
       "  'margin': 0.093353},\n",
       " {'text': 'Auch wenn es vorgeschlagen wurde, es wird auf keinen Fall verabschiedet werden, du denkst das große Unternehmen in der Politik keine Rolle spielen, wenn so ein Gesetz verabschiedet wird, werden die Hälfte aller Software  Firmen zu machen.',\n",
       "  'label': 0,\n",
       "  'id': '111',\n",
       "  'split': 'test',\n",
       "  'dataset_name': 'parallel_data/de-Trac',\n",
       "  'language': 'de',\n",
       "  'uncertainty': 0.68890387,\n",
       "  'margin': 0.092057645},\n",
       " {'text': 'Er spricht nur dort, wo niemand da ist um ihn zu hinerfragen',\n",
       "  'label': 0,\n",
       "  'id': '112',\n",
       "  'split': 'test',\n",
       "  'dataset_name': 'parallel_data/de-Trac',\n",
       "  'language': 'de',\n",
       "  'uncertainty': 0.68831205,\n",
       "  'margin': 0.0982579},\n",
       " {'text': 'Mit anderen Worten, sagt die #Randian Armee pakistanische Soldaten sind über die Grenz- und Kontrolllinie auf die #Randian Seite gegangen, verstümmelten die Leichen von zwei #Randian Soldaten und kamen zurück, während niemand auf der #Landian Seite es wagte sich einzuschalten. Wie war die Verstümmelung möglich, oh vielleicht war es eine echter #Chirurgen_strike  :p =D',\n",
       "  'label': 1,\n",
       "  'id': '113',\n",
       "  'split': 'test',\n",
       "  'dataset_name': 'parallel_data/de-Trac',\n",
       "  'language': 'de',\n",
       "  'uncertainty': 0.6880084,\n",
       "  'margin': 0.10129106},\n",
       " {'text': 'Ist Sha Rukh Khan ein Geschäftsführer oder ein Gemeinschaftsführer',\n",
       "  'label': 1,\n",
       "  'id': '114',\n",
       "  'split': 'test',\n",
       "  'dataset_name': 'parallel_data/de-Trac',\n",
       "  'language': 'de',\n",
       "  'uncertainty': 0.687862,\n",
       "  'margin': 0.10272184},\n",
       " {'text': 'Idiot er wird dafür gelobt nicht die Fotos zu entfernen, wodruch mehr Kosten entstehen werden',\n",
       "  'label': 0,\n",
       "  'id': '115',\n",
       "  'split': 'test',\n",
       "  'dataset_name': 'parallel_data/de-Trac',\n",
       "  'language': 'de',\n",
       "  'uncertainty': 0.6879482,\n",
       "  'margin': 0.10188165},\n",
       " {'text': 'Hut ab vor Modis Führung. Wir Inder hätten keinen besseren bekommen können',\n",
       "  'label': 0,\n",
       "  'id': '116',\n",
       "  'split': 'test',\n",
       "  'dataset_name': 'parallel_data/de-Trac',\n",
       "  'language': 'de',\n",
       "  'uncertainty': 0.68800074,\n",
       "  'margin': 0.10136691},\n",
       " {'text': 'Schau an, wer spricht .. Es scheint, al wäre er aus 12 jahren Koma erwacht :-)',\n",
       "  'label': 1,\n",
       "  'id': '117',\n",
       "  'split': 'test',\n",
       "  'dataset_name': 'parallel_data/de-Trac',\n",
       "  'language': 'de',\n",
       "  'uncertainty': 0.6895089,\n",
       "  'margin': 0.08525005},\n",
       " {'text': 'Leute ich bin sicher, dass es auch irgendeine Strategie ist das Geld von den Banken in andere Länder zu ziehen. Aber fürs erste ist es ein mutiger Schritt von Indien ������������es wird den einfachen Bürgerfür ein paar Tage verärgnern, aber auf lange Sicht wird es uns alle glücklich machen und Indien wird nicht mehr ein Entwicklungsland genannt werden.... ������ ������������������������������',\n",
       "  'label': 0,\n",
       "  'id': '118',\n",
       "  'split': 'test',\n",
       "  'dataset_name': 'parallel_data/de-Trac',\n",
       "  'language': 'de',\n",
       "  'uncertainty': 0.6883935,\n",
       "  'margin': 0.09742853},\n",
       " {'text': 'Verdammte chela von Sonia. Wenn er so viel in den letzten 10 Jahren gesagt hätte, hätte er ein oder zwei gute Taten vollbringen können',\n",
       "  'label': 1,\n",
       "  'id': '119',\n",
       "  'split': 'test',\n",
       "  'dataset_name': 'parallel_data/de-Trac',\n",
       "  'language': 'de',\n",
       "  'uncertainty': 0.68878436,\n",
       "  'margin': 0.09334287},\n",
       " {'text': 'Gandhi Killer-Ram (Nathu) Tempel in Indien ...... Große Schande für Indien ........',\n",
       "  'label': 0,\n",
       "  'id': '120',\n",
       "  'split': 'test',\n",
       "  'dataset_name': 'parallel_data/de-Trac',\n",
       "  'language': 'de',\n",
       "  'uncertainty': 0.68844044,\n",
       "  'margin': 0.0969466},\n",
       " {'text': 'Lol behandeln ihn feundlich, eine Tasse Kaffee, führt ihn herum und schickt ihn dann zurück. Die Türkei und Pakistan sind Zwillinge.',\n",
       "  'label': 1,\n",
       "  'id': '121',\n",
       "  'split': 'test',\n",
       "  'dataset_name': 'parallel_data/de-Trac',\n",
       "  'language': 'de',\n",
       "  'uncertainty': 0.68661916,\n",
       "  'margin': 0.1141389},\n",
       " {'text': 'Egal was, einige dumme Leute werden nie aufhören Modi qutta zu unterstützen',\n",
       "  'label': 1,\n",
       "  'id': '122',\n",
       "  'split': 'test',\n",
       "  'dataset_name': 'parallel_data/de-Trac',\n",
       "  'language': 'de',\n",
       "  'uncertainty': 0.6896148,\n",
       "  'margin': 0.08400285},\n",
       " {'text': 'Wenn die Türkei pakistanische Haltung auf Kashmir unterstützt dann muss Indien einseitig Kurdistan, Zypern und Griechenland im Gegenzug unterstützt LOL',\n",
       "  'label': 1,\n",
       "  'id': '123',\n",
       "  'split': 'test',\n",
       "  'dataset_name': 'parallel_data/de-Trac',\n",
       "  'language': 'de',\n",
       "  'uncertainty': 0.68769234,\n",
       "  'margin': 0.10435447},\n",
       " {'text': 'Ich weiß nicht, warum er nach so langer Zeit seinen Mund geöffnet hat... Besser ihn zu schließen wie ein Schwein',\n",
       "  'label': 1,\n",
       "  'id': '124',\n",
       "  'split': 'test',\n",
       "  'dataset_name': 'parallel_data/de-Trac',\n",
       "  'language': 'de',\n",
       "  'uncertainty': 0.68779904,\n",
       "  'margin': 0.10333055},\n",
       " {'text': 'Hallo Anuj ... können wir erwarten, dass es einen Durchbruch für Oil Marketing Co gibt .... ist es der richtige Punkt einzusteigen ...?',\n",
       "  'label': 0,\n",
       "  'id': '125',\n",
       "  'split': 'test',\n",
       "  'dataset_name': 'parallel_data/de-Trac',\n",
       "  'language': 'de',\n",
       "  'uncertainty': 0.68891567,\n",
       "  'margin': 0.09192982},\n",
       " {'text': 'Tweeten Sie ihm Sir, hier zu plädieren wird dir keine Antworten bringen :)  Facebook ist ein Land der Idioten, wenn es um Politik, Stolz und Land geht ...',\n",
       "  'label': 1,\n",
       "  'id': '126',\n",
       "  'split': 'test',\n",
       "  'dataset_name': 'parallel_data/de-Trac',\n",
       "  'language': 'de',\n",
       "  'uncertainty': 0.6895153,\n",
       "  'margin': 0.08517623},\n",
       " {'text': 'Indische Armee fahrt zur Hölle, das ist der beste Ort für euch',\n",
       "  'label': 1,\n",
       "  'id': '127',\n",
       "  'split': 'test',\n",
       "  'dataset_name': 'parallel_data/de-Trac',\n",
       "  'language': 'de',\n",
       "  'uncertainty': 0.68785524,\n",
       "  'margin': 0.10278681},\n",
       " {'text': '..Wer ist sie überhaupt..ihr Unsinn wird nur anerkannt weil sie Akshay Kumars Frau ist ..',\n",
       "  'label': 1,\n",
       "  'id': '128',\n",
       "  'split': 'test',\n",
       "  'dataset_name': 'parallel_data/de-Trac',\n",
       "  'language': 'de',\n",
       "  'uncertainty': 0.6871283,\n",
       "  'margin': 0.109606594},\n",
       " {'text': 'Die pakistanische Armee ist in indisches Gebiet eingedrungen, hat indische Soldaten getötet, hatten einige gesellige Tasse Tee getrunken und Kekse gegessen, hat ihre Körper verstümmelt und ging zurück in ihre Kasernen, jetzt sag mir, während dieser ganze Müll geschah, was haben die indischen Grenztruppen gemacht haben sie Mia Kalif und Sunny Leone angeschaut?',\n",
       "  'label': 1,\n",
       "  'id': '129',\n",
       "  'split': 'test',\n",
       "  'dataset_name': 'parallel_data/de-Trac',\n",
       "  'language': 'de',\n",
       "  'uncertainty': 0.68793416,\n",
       "  'margin': 0.1020191},\n",
       " {'text': 'Na schau mal an, wer spricht ... tat nichts außer die sehr guten Taten der Regierung anzugreifen .... wirklich diese Leute sind eine Schande für die Nation',\n",
       "  'label': 1,\n",
       "  'id': '130',\n",
       "  'split': 'test',\n",
       "  'dataset_name': 'parallel_data/de-Trac',\n",
       "  'language': 'de',\n",
       "  'uncertainty': 0.6891451,\n",
       "  'margin': 0.089405894},\n",
       " {'text': 'Mauni Singh ist sehr bemüht, sich selbst davon zu überzeugen, was im Drehbuch steht ... Körpersprache sagt alles ...',\n",
       "  'label': 1,\n",
       "  'id': '131',\n",
       "  'split': 'test',\n",
       "  'dataset_name': 'parallel_data/de-Trac',\n",
       "  'language': 'de',\n",
       "  'uncertainty': 0.68812275,\n",
       "  'margin': 0.100159705},\n",
       " {'text': 'ALTER MAUN SIGH HAT VON MASSIVER MISSWIRTSCHAFT GESPROCHEN... ICH WÜNSCHTE ER WÜRDE AUCH ÜBER DIE MASSIVEN BETRÜGE WÄHREND SEINER AMTSZEIT SPRECHEN... DER EINZIGE LICHTBLICK SEINER REDE WAR DER FAKT DASS ER ÜBERHAUPT GESPROCHEN HAT ... AUCH WENN ES KLANG WIE EINE SPRECHENDE CONG MARIONETTE',\n",
       "  'label': 0,\n",
       "  'id': '132',\n",
       "  'split': 'test',\n",
       "  'dataset_name': 'parallel_data/de-Trac',\n",
       "  'language': 'de',\n",
       "  'uncertainty': 0.6877268,\n",
       "  'margin': 0.10402462},\n",
       " {'text': 'Bharti - jetzt gefestigt damit es ein guter Kauf ist',\n",
       "  'label': 0,\n",
       "  'id': '133',\n",
       "  'split': 'test',\n",
       "  'dataset_name': 'parallel_data/de-Trac',\n",
       "  'language': 'de',\n",
       "  'uncertainty': 0.6883627,\n",
       "  'margin': 0.09774315},\n",
       " {'text': 'Dieser Minister sollte Alkohol eher verbieten als einen Schläger zu verschenken um ihren Ehemann zu schlagen .. was versuchen Sie diesen frisch verheirateten Paaren beizubreingen .. so eine dumme Idee ..',\n",
       "  'label': 1,\n",
       "  'id': '134',\n",
       "  'split': 'test',\n",
       "  'dataset_name': 'parallel_data/de-Trac',\n",
       "  'language': 'de',\n",
       "  'uncertainty': 0.68899095,\n",
       "  'margin': 0.091109484},\n",
       " {'text': 'Wie kommt es das RNDTV nur BREAKING NEWS hat wenn es um Hindus geht und verpasst praktischerweise alles verpasst und versteckt was von Chrislamist anti-Indien Kräften gemacht wird?  Warum haben sie nicht das Dhulagarh anti-Hindu Pogrom verschwiegen? Was ist mit Kairana Exodus? Warum keine Empörung über Dr. Narangs Lynchmord?',\n",
       "  'label': 1,\n",
       "  'id': '135',\n",
       "  'split': 'test',\n",
       "  'dataset_name': 'parallel_data/de-Trac',\n",
       "  'language': 'de',\n",
       "  'uncertainty': 0.68944234,\n",
       "  'margin': 0.08602607},\n",
       " {'text': 'Ajmal Qasab nächster PM von Indien und Hafaiz Saeed nächsten PM von Indien',\n",
       "  'label': 0,\n",
       "  'id': '136',\n",
       "  'split': 'test',\n",
       "  'dataset_name': 'parallel_data/de-Trac',\n",
       "  'language': 'de',\n",
       "  'uncertainty': 0.6888282,\n",
       "  'margin': 0.09287381},\n",
       " {'text': 'Ich wünschte, die Leute würden aufhören Propaganda und motivierte Berichterstattung zu teilen. TV18 hat offensichtlich nicht seine Hausaufgaben gemacht. Der beste Teil ist, dass sie (sie sind ein Finanz Kanal) Geld für Facebook Werbung von diesem Video ausgeben und nicht für ihren bahnbrechende Finanzjournalismus (vielleicht ist der auch nicht vorhanden) ...',\n",
       "  'label': 0,\n",
       "  'id': '137',\n",
       "  'split': 'test',\n",
       "  'dataset_name': 'parallel_data/de-Trac',\n",
       "  'language': 'de',\n",
       "  'uncertainty': 0.6885028,\n",
       "  'margin': 0.096303076},\n",
       " {'text': 'Es bedeutet dass dieser Feigling Angriff von RAW geplant wurde ... #Loosers',\n",
       "  'label': 0,\n",
       "  'id': '138',\n",
       "  'split': 'test',\n",
       "  'dataset_name': 'parallel_data/de-Trac',\n",
       "  'language': 'de',\n",
       "  'uncertainty': 0.6873535,\n",
       "  'margin': 0.10754031},\n",
       " {'text': 'tötet alle #RendianDogs gleichzeitig und hängt sie alle um den Hals von #KillerModi',\n",
       "  'label': 1,\n",
       "  'id': '139',\n",
       "  'split': 'test',\n",
       "  'dataset_name': 'parallel_data/de-Trac',\n",
       "  'language': 'de',\n",
       "  'uncertainty': 0.6869016,\n",
       "  'margin': 0.11164695},\n",
       " {'text': 'Sie haben eine Filmindustrie und machen Filme. Das Publikumist vielleicht nicht so groß in Indien, so dass sie im Vergleich zu indischen Filmen nicht viel Gewinn machen.',\n",
       "  'label': 0,\n",
       "  'id': '140',\n",
       "  'split': 'test',\n",
       "  'dataset_name': 'parallel_data/de-Trac',\n",
       "  'language': 'de',\n",
       "  'uncertainty': 0.6867964,\n",
       "  'margin': 0.1125817},\n",
       " {'text': 'Wow aus Kuhdung und tödlich chemischer Kuhurin hergestellte Kugeln würden die Feinde töten, noch bevor sie ihren Körper durchdringen.',\n",
       "  'label': 1,\n",
       "  'id': '141',\n",
       "  'split': 'test',\n",
       "  'dataset_name': 'parallel_data/de-Trac',\n",
       "  'language': 'de',\n",
       "  'uncertainty': 0.6884475,\n",
       "  'margin': 0.09687507},\n",
       " {'text': 'Narendra midi ji nicht nur größte Anführer von Indien, sondern auch der Welt',\n",
       "  'label': 0,\n",
       "  'id': '142',\n",
       "  'split': 'test',\n",
       "  'dataset_name': 'parallel_data/de-Trac',\n",
       "  'language': 'de',\n",
       "  'uncertainty': 0.6889474,\n",
       "  'margin': 0.09158492},\n",
       " {'text': 'Nimmt ihm bitte jemand seinen Turban ab! Er ist es nicht wert, ein Sikh zu sein!',\n",
       "  'label': 1,\n",
       "  'id': '143',\n",
       "  'split': 'test',\n",
       "  'dataset_name': 'parallel_data/de-Trac',\n",
       "  'language': 'de',\n",
       "  'uncertainty': 0.6881771,\n",
       "  'margin': 0.09961784},\n",
       " {'text': '#Niaz_Khosa google es in 2017 und du bist das am meisten vergewaltigte Land und Indien ist nicht in den Top 25 ..... Herr Sohn des Randi ',\n",
       "  'label': 1,\n",
       "  'id': '144',\n",
       "  'split': 'test',\n",
       "  'dataset_name': 'parallel_data/de-Trac',\n",
       "  'language': 'de',\n",
       "  'uncertainty': 0.6881697,\n",
       "  'margin': 0.09969187},\n",
       " {'text': 'Wenn @HillaryClinton Nifty gewinnt, sie in 6 Monaten 9120 berühren, wenn @realDonaldTrump Nifty gewinnt wird er 9120 in 6 Wochen überqueren; mir gefällt beides nicht',\n",
       "  'label': 0,\n",
       "  'id': '145',\n",
       "  'split': 'test',\n",
       "  'dataset_name': 'parallel_data/de-Trac',\n",
       "  'language': 'de',\n",
       "  'uncertainty': 0.6892885,\n",
       "  'margin': 0.087791264},\n",
       " {'text': 'Baut mehr Gewässer in Maharashtra ... Jedes Dorf muss einen tiefen und breiten Wasserkörper haben',\n",
       "  'label': 0,\n",
       "  'id': '146',\n",
       "  'split': 'test',\n",
       "  'dataset_name': 'parallel_data/de-Trac',\n",
       "  'language': 'de',\n",
       "  'uncertainty': 0.6885543,\n",
       "  'margin': 0.09576866},\n",
       " {'text': 'Die Rückkaufvereinbarung liegt unverändert bei 6,25%, die umgekehrte Rückkaufvereinbarung wandert bis 6%, CRR ist unverändert bei 4%',\n",
       "  'label': 0,\n",
       "  'id': '147',\n",
       "  'split': 'test',\n",
       "  'dataset_name': 'parallel_data/de-Trac',\n",
       "  'language': 'de',\n",
       "  'uncertainty': 0.68896526,\n",
       "  'margin': 0.09139028},\n",
       " {'text': 'L & T hat sehr wenig Wettbewerb in der Verteidigung mfg: AM Naik',\n",
       "  'label': 0,\n",
       "  'id': '148',\n",
       "  'split': 'test',\n",
       "  'dataset_name': 'parallel_data/de-Trac',\n",
       "  'language': 'de',\n",
       "  'uncertainty': 0.68994355,\n",
       "  'margin': 0.08000222},\n",
       " {'text': 'Ich habe 10 Tausend von der Bank abgehoben und sie gaben mir 9 Tausender Scheine, ich reise morgen, wie soll ich in der Lage sein das Taxi zu zahlen wala',\n",
       "  'label': 0,\n",
       "  'id': '149',\n",
       "  'split': 'test',\n",
       "  'dataset_name': 'parallel_data/de-Trac',\n",
       "  'language': 'de',\n",
       "  'uncertainty': 0.6882126,\n",
       "  'margin': 0.09926236},\n",
       " {'text': 'Pakistaniche Armee vergewaltigt Modis Tochter und geht zurück. Jetzt sucht Modi wirklich nach dem Vater seines Enkelkinds',\n",
       "  'label': 0,\n",
       "  'id': '150',\n",
       "  'split': 'test',\n",
       "  'dataset_name': 'parallel_data/de-Trac',\n",
       "  'language': 'de',\n",
       "  'uncertainty': 0.68808854,\n",
       "  'margin': 0.10049972},\n",
       " {'text': 'Die am meisten gelehrte Person im Parlament ... weise Menschen bleiben still, während die Hunde bellen ... er tat das gleiche',\n",
       "  'label': 1,\n",
       "  'id': '151',\n",
       "  'split': 'test',\n",
       "  'dataset_name': 'parallel_data/de-Trac',\n",
       "  'language': 'de',\n",
       "  'uncertainty': 0.68838716,\n",
       "  'margin': 0.0974932},\n",
       " {'text': 'Also was ist so schlimm daran, Menschen haben das Recht zu essen, was sie wollen',\n",
       "  'label': 0,\n",
       "  'id': '152',\n",
       "  'split': 'test',\n",
       "  'dataset_name': 'parallel_data/de-Trac',\n",
       "  'language': 'de',\n",
       "  'uncertainty': 0.68858135,\n",
       "  'margin': 0.09548667},\n",
       " {'text': 'Hat er darauf verzichtet sprechen weil er so ein schlechter Redner ist? Er spricht mit der Geschwindigkeit einer Schnecke.',\n",
       "  'label': 1,\n",
       "  'id': '153',\n",
       "  'split': 'test',\n",
       "  'dataset_name': 'parallel_data/de-Trac',\n",
       "  'language': 'de',\n",
       "  'uncertainty': 0.6888027,\n",
       "  'margin': 0.09314707},\n",
       " {'text': 'Einige Fehler gibt es, sie erniedrigten Sharad Pawar, er ist der nächste Präsidentschaftskandidat ������',\n",
       "  'label': 0,\n",
       "  'id': '154',\n",
       "  'split': 'test',\n",
       "  'dataset_name': 'parallel_data/de-Trac',\n",
       "  'language': 'de',\n",
       "  'uncertainty': 0.68923426,\n",
       "  'margin': 0.08840597},\n",
       " {'text': 'großartiger Mann er tut gute Arbeit in seiner Amtszeit ... kein Gebell wie der letzte PM namo cheee',\n",
       "  'label': 1,\n",
       "  'id': '155',\n",
       "  'split': 'test',\n",
       "  'dataset_name': 'parallel_data/de-Trac',\n",
       "  'language': 'de',\n",
       "  'uncertainty': 0.68976104,\n",
       "  'margin': 0.082247615},\n",
       " {'text': 'Ich würde es öffnen und prüfen, ob es nicht ein Backstein ist: P',\n",
       "  'label': 0,\n",
       "  'id': '156',\n",
       "  'split': 'test',\n",
       "  'dataset_name': 'parallel_data/de-Trac',\n",
       "  'language': 'de',\n",
       "  'uncertainty': 0.68963057,\n",
       "  'margin': 0.08381501},\n",
       " {'text': 'Yaskant, nachdem ich das gesehen habe, stimmeich dir zu er ähnelt einem verängstigtem Schüler im Unterricht, der unter großem Stress seine Gedichte rezitieren muss������������������������',\n",
       "  'label': 1,\n",
       "  'id': '157',\n",
       "  'split': 'test',\n",
       "  'dataset_name': 'parallel_data/de-Trac',\n",
       "  'language': 'de',\n",
       "  'uncertainty': 0.6884935,\n",
       "  'margin': 0.09639993},\n",
       " {'text': 'Dummer Mann. kann nicht einmal eine Rede halten, ohne abzulesen und er verteidigt die Demonitarisierungs Entscheidung ������',\n",
       "  'label': 1,\n",
       "  'id': '158',\n",
       "  'split': 'test',\n",
       "  'dataset_name': 'parallel_data/de-Trac',\n",
       "  'language': 'de',\n",
       "  'uncertainty': 0.6892273,\n",
       "  'margin': 0.088484585},\n",
       " {'text': 'Pakistan hat Indien gedemütigt indem es 2 Jawans verstümmelt hat. Wertschätzt die erstaunliche Geduld jener BJP Führer, die vor dem Jahr 2013 verrückt geworden wären',\n",
       "  'label': 1,\n",
       "  'id': '159',\n",
       "  'split': 'test',\n",
       "  'dataset_name': 'parallel_data/de-Trac',\n",
       "  'language': 'de',\n",
       "  'uncertainty': 0.6887118,\n",
       "  'margin': 0.09411445},\n",
       " {'text': 'Diese Person Aqsa Kashmiri ist eine Schande, im Namen der Frau. Wirklich beschäment dass man diese Person eine Frau  nennt. Sie ist die schlimmste Frau, die mir je begegnet ist. Sie hat keine moralischen Werte einer Frau. Ich wünsche zu Bhagwan und zu Allah, die die gleichen sind, nie eine solche Person zurück zur Erde zu bringen. Es ist beschämend das eine Frau zu nennen.........',\n",
       "  'label': 1,\n",
       "  'id': '160',\n",
       "  'split': 'test',\n",
       "  'dataset_name': 'parallel_data/de-Trac',\n",
       "  'language': 'de',\n",
       "  'uncertainty': 0.68767077,\n",
       "  'margin': 0.10456002},\n",
       " {'text': 'Denken Sie daran wie Erdogan brutal die Kurden in seinem eigenen Land getötet hat',\n",
       "  'label': 1,\n",
       "  'id': '161',\n",
       "  'split': 'test',\n",
       "  'dataset_name': 'parallel_data/de-Trac',\n",
       "  'language': 'de',\n",
       "  'uncertainty': 0.687377,\n",
       "  'margin': 0.10732293},\n",
       " {'text': 'Super gelaufen Herr Modi, Sie müssen noch ein bisschen vorsichtig mit dem Plan und Schlupflöchern sein',\n",
       "  'label': 0,\n",
       "  'id': '162',\n",
       "  'split': 'test',\n",
       "  'dataset_name': 'parallel_data/de-Trac',\n",
       "  'language': 'de',\n",
       "  'uncertainty': 0.68880045,\n",
       "  'margin': 0.09317148},\n",
       " {'text': 'Dieser Typ wird sagen: Indien ist wichtig, aber Pakistan ist wichtiger, weil es ein islamisches Land ist ... ������',\n",
       "  'label': 1,\n",
       "  'id': '163',\n",
       "  'split': 'test',\n",
       "  'dataset_name': 'parallel_data/de-Trac',\n",
       "  'language': 'de',\n",
       "  'uncertainty': 0.68699217,\n",
       "  'margin': 0.110836},\n",
       " {'text': 'Können Sie bitte ihre Sicht auf Asien und Acc wissen lassen',\n",
       "  'label': 0,\n",
       "  'id': '164',\n",
       "  'split': 'test',\n",
       "  'dataset_name': 'parallel_data/de-Trac',\n",
       "  'language': 'de',\n",
       "  'uncertainty': 0.68740994,\n",
       "  'margin': 0.10701653},\n",
       " {'text': 'Pakistan ist offenbar von Chinas Unterstützung ermutigt ansonsten würen sie nicht wagen in solchen Handlungen zu schwelgen. Verdammte Feiglinge. Nebenbei Indien ist weit voraus auf allen wirtschaftlichen Parametern und es ist an der Zeit, dass Pakistan aufhört sich mit einem Riesen zu vergleichen. Noch bevor ihnen klar wird, dass ganz Pakistan unter chinesischer Kontrolle sein wird, wenn es das nicht schon ist.',\n",
       "  'label': 1,\n",
       "  'id': '165',\n",
       "  'split': 'test',\n",
       "  'dataset_name': 'parallel_data/de-Trac',\n",
       "  'language': 'de',\n",
       "  'uncertainty': 0.6877034,\n",
       "  'margin': 0.10424888},\n",
       " {'text': \"Schnell ..... sagen Sie ihnen die Größe von Herr Modi ji's Brust ������\",\n",
       "  'label': 1,\n",
       "  'id': '166',\n",
       "  'split': 'test',\n",
       "  'dataset_name': 'parallel_data/de-Trac',\n",
       "  'language': 'de',\n",
       "  'uncertainty': 0.68951964,\n",
       "  'margin': 0.08512506},\n",
       " {'text': 'FY17 das Festeinlagenwachstum war einstellig: HDFC Bank',\n",
       "  'label': 0,\n",
       "  'id': '167',\n",
       "  'split': 'test',\n",
       "  'dataset_name': 'parallel_data/de-Trac',\n",
       "  'language': 'de',\n",
       "  'uncertainty': 0.6885592,\n",
       "  'margin': 0.09571776},\n",
       " {'text': 'Oh Sie sehen hier auch einen Modi Effekt! Hut ab vor euch Jungs - Wahrscheinlich habt ihr nicht genug Intellekt um Dr Singh zu verurteilen',\n",
       "  'label': 1,\n",
       "  'id': '168',\n",
       "  'split': 'test',\n",
       "  'dataset_name': 'parallel_data/de-Trac',\n",
       "  'language': 'de',\n",
       "  'uncertainty': 0.68865144,\n",
       "  'margin': 0.09475225},\n",
       " {'text': 'Hallo Modi ji wo schläfst du?. Und wo sind mr Arun Jaitley und Rajnath Singh. Wie lange Zeit werden unsere Sicherheitskräfte werden ....?',\n",
       "  'label': 1,\n",
       "  'id': '169',\n",
       "  'split': 'test',\n",
       "  'dataset_name': 'parallel_data/de-Trac',\n",
       "  'language': 'de',\n",
       "  'uncertainty': 0.68917,\n",
       "  'margin': 0.08912805},\n",
       " {'text': 'Du wirst hinter Gittern sein, wenn du keine hohen Kontakte hast',\n",
       "  'label': 0,\n",
       "  'id': '170',\n",
       "  'split': 'test',\n",
       "  'dataset_name': 'parallel_data/de-Trac',\n",
       "  'language': 'de',\n",
       "  'uncertainty': 0.6891753,\n",
       "  'margin': 0.08906889},\n",
       " {'text': 'Heutzutage ist RBI eine Marionette in den Händen der regierung',\n",
       "  'label': 1,\n",
       "  'id': '171',\n",
       "  'split': 'test',\n",
       "  'dataset_name': 'parallel_data/de-Trac',\n",
       "  'language': 'de',\n",
       "  'uncertainty': 0.6888765,\n",
       "  'margin': 0.09235296},\n",
       " {'text': 'Wirklich großartig, lehren sie den Schulkindern neue Dinge für die Weiterentwicklung und Besonderheit unseres Landes .....',\n",
       "  'label': 0,\n",
       "  'id': '172',\n",
       "  'split': 'test',\n",
       "  'dataset_name': 'parallel_data/de-Trac',\n",
       "  'language': 'de',\n",
       "  'uncertainty': 0.6890502,\n",
       "  'margin': 0.09045878},\n",
       " {'text': 'Ha ha ha ha Herr. Singh ist in der Lage zu sprechen ������',\n",
       "  'label': 1,\n",
       "  'id': '173',\n",
       "  'split': 'test',\n",
       "  'dataset_name': 'parallel_data/de-Trac',\n",
       "  'language': 'de',\n",
       "  'uncertainty': 0.6893161,\n",
       "  'margin': 0.087477684},\n",
       " {'text': 'Führen Sie den Fall mit einem Terroristen Akt weiter! Er muss Verbindungen mit ISIS haben',\n",
       "  'label': 0,\n",
       "  'id': '174',\n",
       "  'split': 'test',\n",
       "  'dataset_name': 'parallel_data/de-Trac',\n",
       "  'language': 'de',\n",
       "  'uncertainty': 0.6880285,\n",
       "  'margin': 0.10109329},\n",
       " {'text': 'Indische Leute mögen nur Bett Politik wie Sonia und Rahul',\n",
       "  'label': 1,\n",
       "  'id': '175',\n",
       "  'split': 'test',\n",
       "  'dataset_name': 'parallel_data/de-Trac',\n",
       "  'language': 'de',\n",
       "  'uncertainty': 0.6876713,\n",
       "  'margin': 0.10455516},\n",
       " {'text': 'Modi Ji hat michmit der ersten Zeile mit all meinen Sachen und SOP versorgt : P',\n",
       "  'label': 0,\n",
       "  'id': '176',\n",
       "  'split': 'test',\n",
       "  'dataset_name': 'parallel_data/de-Trac',\n",
       "  'language': 'de',\n",
       "  'uncertainty': 0.68880546,\n",
       "  'margin': 0.0931181},\n",
       " {'text': 'Arm dass sie jetzt nichts zu essen haben .... füttert sie zuerst....',\n",
       "  'label': 1,\n",
       "  'id': '177',\n",
       "  'split': 'test',\n",
       "  'dataset_name': 'parallel_data/de-Trac',\n",
       "  'language': 'de',\n",
       "  'uncertainty': 0.68860775,\n",
       "  'margin': 0.09521094},\n",
       " {'text': 'danke Sherin .... isind das aktuelle oder alte Nachrichten?',\n",
       "  'label': 0,\n",
       "  'id': '178',\n",
       "  'split': 'test',\n",
       "  'dataset_name': 'parallel_data/de-Trac',\n",
       "  'language': 'de',\n",
       "  'uncertainty': 0.6895871,\n",
       "  'margin': 0.08433151},\n",
       " {'text': 'Modi ist great..But er nicht genug Zeit, um Politiker gaben ihre schwarzen money..All Politiker Schwarzgeld gewonnen werden, sondern aus öffentlichen konvertieren möchten nicht theirs..Ha ha ha ..',\n",
       "  'label': 1,\n",
       "  'id': '179',\n",
       "  'split': 'test',\n",
       "  'dataset_name': 'parallel_data/de-Trac',\n",
       "  'language': 'de',\n",
       "  'uncertainty': 0.68884444,\n",
       "  'margin': 0.09269875},\n",
       " {'text': 'Ich mein Handy und meine Lautsprechern gerade auf volle Lautstärke gedreht. Jetzt kann ich es hören. Mega lustig! ������',\n",
       "  'label': 0,\n",
       "  'id': '180',\n",
       "  'split': 'test',\n",
       "  'dataset_name': 'parallel_data/de-Trac',\n",
       "  'language': 'de',\n",
       "  'uncertainty': 0.6890828,\n",
       "  'margin': 0.09009865},\n",
       " {'text': 'Das ist der beste Weg, Stimmen zu bekommen. Niemand fragt nach Regierungs Leistungungen wenn man Pakistan nennt.  Heutzutage behaupen sie sogar Pakistan bei einem Zugunglück.',\n",
       "  'label': 1,\n",
       "  'id': '181',\n",
       "  'split': 'test',\n",
       "  'dataset_name': 'parallel_data/de-Trac',\n",
       "  'language': 'de',\n",
       "  'uncertainty': 0.6894008,\n",
       "  'margin': 0.08650696},\n",
       " {'text': 'Im Vergleich zu den europäischen Märkten, warum sammeln Sensex und Nifty nicht so viel?',\n",
       "  'label': 0,\n",
       "  'id': '182',\n",
       "  'split': 'test',\n",
       "  'dataset_name': 'parallel_data/de-Trac',\n",
       "  'language': 'de',\n",
       "  'uncertainty': 0.6871104,\n",
       "  'margin': 0.10976875},\n",
       " {'text': 'Intoleranz bei Kaschmir von einigen wenigen minderbemittelten Indern kann Kashmir nicht aufrechterhalten .werd erwachsen es verpackt Kashmir Ich hasse nicht Indien und Inder .DIE MEISTEN Leute sind liebenwert, aber diese sind nicht in den sozialen Medien',\n",
       "  'label': 0,\n",
       "  'id': '183',\n",
       "  'split': 'test',\n",
       "  'dataset_name': 'parallel_data/de-Trac',\n",
       "  'language': 'de',\n",
       "  'uncertainty': 0.68784994,\n",
       "  'margin': 0.102838546},\n",
       " {'text': 'Schande über die Modi Regierung .... Muss Pakistan jetzt eine Lektion erteilen.. Demonitarisierung ist nutzlos.. es ist Zeit anzugreifen ..',\n",
       "  'label': 1,\n",
       "  'id': '184',\n",
       "  'split': 'test',\n",
       "  'dataset_name': 'parallel_data/de-Trac',\n",
       "  'language': 'de',\n",
       "  'uncertainty': 0.68895185,\n",
       "  'margin': 0.091536194},\n",
       " {'text': 'Kumpel wir wissen, dass du abliefern wirst ..mach weiter so, und hör auf CNBC TV 18 zu sehen',\n",
       "  'label': 0,\n",
       "  'id': '185',\n",
       "  'split': 'test',\n",
       "  'dataset_name': 'parallel_data/de-Trac',\n",
       "  'language': 'de',\n",
       "  'uncertainty': 0.68899405,\n",
       "  'margin': 0.09107593},\n",
       " {'text': 'Der seltsame Fall des Kamal R. Khan. seinen Namen auszusprechen ist eine Schande, dass wir für alle seine Dummheiten berühmt machen.',\n",
       "  'label': 1,\n",
       "  'id': '186',\n",
       "  'split': 'test',\n",
       "  'dataset_name': 'parallel_data/de-Trac',\n",
       "  'language': 'de',\n",
       "  'uncertainty': 0.68768,\n",
       "  'margin': 0.10447165},\n",
       " {'text': 'Mamata hat gesagt sie wird Modi schlagen nachdem sie Modi mit einem Strick an einem Baum befästit hat--jeder CM kann solche Sachen zu einem PM sagen????',\n",
       "  'label': 0,\n",
       "  'id': '187',\n",
       "  'split': 'test',\n",
       "  'dataset_name': 'parallel_data/de-Trac',\n",
       "  'language': 'de',\n",
       "  'uncertainty': 0.6883004,\n",
       "  'margin': 0.0983766},\n",
       " {'text': 'Tataji, danke für dein Guru Mantra. Du liegst absolut richtig.',\n",
       "  'label': 0,\n",
       "  'id': '188',\n",
       "  'split': 'test',\n",
       "  'dataset_name': 'parallel_data/de-Trac',\n",
       "  'language': 'de',\n",
       "  'uncertainty': 0.6895052,\n",
       "  'margin': 0.08529344},\n",
       " {'text': 'Ein-Mann-Show. Diktatoren sind immer schlecht für ein Land',\n",
       "  'label': 1,\n",
       "  'id': '189',\n",
       "  'split': 'test',\n",
       "  'dataset_name': 'parallel_data/de-Trac',\n",
       "  'language': 'de',\n",
       "  'uncertainty': 0.68743265,\n",
       "  'margin': 0.1068047},\n",
       " {'text': 'Und was glaubst du, wer DU bist, um zu entscheiden, wer ein Insider und wer ein Außenseiter ist? Das aktuelle Problem der Mammut Mengen an Schwarzgeld ist mehr wegen dem Feindes DRINNEN von Indien als von draußen. So ist es nicht so, dass alle Inder, die in Indien residieren Heilige sind. - vernichte deinen idiotischen Kommentar aus Dubai.',\n",
       "  'label': 1,\n",
       "  'id': '190',\n",
       "  'split': 'test',\n",
       "  'dataset_name': 'parallel_data/de-Trac',\n",
       "  'language': 'de',\n",
       "  'uncertainty': 0.68932414,\n",
       "  'margin': 0.08738577},\n",
       " {'text': '^ Beobachte das Spiel und schlaf dann mein Junge. Es ist die fünfte Runde, jetzt nicht aufgeben.',\n",
       "  'label': 0,\n",
       "  'id': '191',\n",
       "  'split': 'test',\n",
       "  'dataset_name': 'parallel_data/de-Trac',\n",
       "  'language': 'de',\n",
       "  'uncertainty': 0.68897754,\n",
       "  'margin': 0.09125599},\n",
       " {'text': 'Ich dachte, er ist taub und stumm ... ich bin froh jetzt zumindest seine Stimme zu hören.',\n",
       "  'label': 1,\n",
       "  'id': '192',\n",
       "  'split': 'test',\n",
       "  'dataset_name': 'parallel_data/de-Trac',\n",
       "  'language': 'de',\n",
       "  'uncertainty': 0.6890744,\n",
       "  'margin': 0.09019178},\n",
       " {'text': 'Ihr werdet nie den Krieg gewinnen, weil ihr nur ein jämmerliches und weinendes Land seid',\n",
       "  'label': 1,\n",
       "  'id': '193',\n",
       "  'split': 'test',\n",
       "  'dataset_name': 'parallel_data/de-Trac',\n",
       "  'language': 'de',\n",
       "  'uncertainty': 0.68821716,\n",
       "  'margin': 0.09921664},\n",
       " {'text': 'Anuj Sie sagen immer mit der Dynamik mitgehen ,,, heute sagen Sie, folgt nicht dieser Dynamik!!',\n",
       "  'label': 0,\n",
       "  'id': '194',\n",
       "  'split': 'test',\n",
       "  'dataset_name': 'parallel_data/de-Trac',\n",
       "  'language': 'de',\n",
       "  'uncertainty': 0.6891999,\n",
       "  'margin': 0.08879307},\n",
       " {'text': 'haha, er kann keine gute Entscheidung selbst treffen.also, folg Yogi,,,,,,,,,,,,,,gut',\n",
       "  'label': 0,\n",
       "  'id': '195',\n",
       "  'split': 'test',\n",
       "  'dataset_name': 'parallel_data/de-Trac',\n",
       "  'language': 'de',\n",
       "  'uncertainty': 0.68615234,\n",
       "  'margin': 0.11814001},\n",
       " {'text': 'Herzlichen Glückwunsch Modi, endlich bringst du ihn im offenen Forum zum sprechen ',\n",
       "  'label': 0,\n",
       "  'id': '196',\n",
       "  'split': 'test',\n",
       "  'dataset_name': 'parallel_data/de-Trac',\n",
       "  'language': 'de',\n",
       "  'uncertainty': 0.68899727,\n",
       "  'margin': 0.09104061},\n",
       " {'text': 'Die BJP Regierung ist vollkommen nutzlos, sie haben nicht das Rückrad hart gegen sie durchzugreifen.... Nur über nichts reden',\n",
       "  'label': 1,\n",
       "  'id': '197',\n",
       "  'split': 'test',\n",
       "  'dataset_name': 'parallel_data/de-Trac',\n",
       "  'language': 'de',\n",
       "  'uncertainty': 0.6888548,\n",
       "  'margin': 0.09258774},\n",
       " {'text': 'Nishnt Rao, wie viel Geld bekommen Sie pro Kommentar. nur so aus Interesse',\n",
       "  'label': 0,\n",
       "  'id': '198',\n",
       "  'split': 'test',\n",
       "  'dataset_name': 'parallel_data/de-Trac',\n",
       "  'language': 'de',\n",
       "  'uncertainty': 0.68885195,\n",
       "  'margin': 0.09261879},\n",
       " {'text': 'tolle Arbeit, wir haben auch Zeit das Geld zurück zugeben..aber die Bank und die Geldautomaten werden für zwei Tage geschlossen sein ... was passiert danach?? Nur 100 werden am Automaten ausgegeben ??wenn in Summe 500 von einem Automat kommen was sollte jeder Einzelne tun',\n",
       "  'label': 0,\n",
       "  'id': '199',\n",
       "  'split': 'test',\n",
       "  'dataset_name': 'parallel_data/de-Trac',\n",
       "  'language': 'de',\n",
       "  'uncertainty': 0.68862784,\n",
       "  'margin': 0.09500077},\n",
       " {'text': 'Der Name und die Bedeutung von RBI haben sich zu Rückwärts Bank Indien geändert',\n",
       "  'label': 1,\n",
       "  'id': '200',\n",
       "  'split': 'test',\n",
       "  'dataset_name': 'parallel_data/de-Trac',\n",
       "  'language': 'de',\n",
       "  'uncertainty': 0.68786937,\n",
       "  'margin': 0.10264963},\n",
       " {'text': 'Bitte teilt mal eure Meining zu Astech Life ?? Heute @ 675 gekauft, 52 Wochen high',\n",
       "  'label': 0,\n",
       "  'id': '201',\n",
       "  'split': 'test',\n",
       "  'dataset_name': 'parallel_data/de-Trac',\n",
       "  'language': 'de',\n",
       "  'uncertainty': 0.6892973,\n",
       "  'margin': 0.08769202},\n",
       " {'text': 'Und Hillary hat seit ihrer letzten Position bis heute so viel Vermögen gemacht, dass ein Klick die Börse erschüttern wird. Sie ist ein grober Fehler',\n",
       "  'label': 1,\n",
       "  'id': '202',\n",
       "  'split': 'test',\n",
       "  'dataset_name': 'parallel_data/de-Trac',\n",
       "  'language': 'de',\n",
       "  'uncertainty': 0.688323,\n",
       "  'margin': 0.09814721},\n",
       " {'text': 'Kann irgendjemand die langzeit Gewinne und nicht die langzeit Vorhersagen hervorheben',\n",
       "  'label': 1,\n",
       "  'id': '203',\n",
       "  'split': 'test',\n",
       "  'dataset_name': 'parallel_data/de-Trac',\n",
       "  'language': 'de',\n",
       "  'uncertainty': 0.6887162,\n",
       "  'margin': 0.09406936},\n",
       " {'text': 'Glückwunsch .... Endlich ist unser Ex PM aus dem KOMA erwacht toller Erfolg für Modiji....',\n",
       "  'label': 1,\n",
       "  'id': '204',\n",
       "  'split': 'test',\n",
       "  'dataset_name': 'parallel_data/de-Trac',\n",
       "  'language': 'de',\n",
       "  'uncertainty': 0.6883018,\n",
       "  'margin': 0.09836182},\n",
       " {'text': 'Bedauerst du das Uzair Khatri? Hahah bitte bekundet euren toten Terroristen Brüdern euer Beileid: D',\n",
       "  'label': 0,\n",
       "  'id': '205',\n",
       "  'split': 'test',\n",
       "  'dataset_name': 'parallel_data/de-Trac',\n",
       "  'language': 'de',\n",
       "  'uncertainty': 0.68906534,\n",
       "  'margin': 0.09029174},\n",
       " {'text': 'Den türkischen Präsidenten zu beherbergen ist eine wunderbarer Zug von Indien, weil die Türkei das Tor nach Europa ist China schickte bereits den Güterzug nach Großbritannien und jetzt ist Indien dran die Infrastruktur aufzuabuen, seine Produkte zu verkaufen Aber manche blinde Bhakts verstehen es nicht',\n",
       "  'label': 1,\n",
       "  'id': '206',\n",
       "  'split': 'test',\n",
       "  'dataset_name': 'parallel_data/de-Trac',\n",
       "  'language': 'de',\n",
       "  'uncertainty': 0.6877737,\n",
       "  'margin': 0.103574544},\n",
       " {'text': 'Nehm eine Waffe und fang an sie zu ficken.... Was zur Hölle geht hier vor sich .... Ihr Leute müsst Bestätigung haben um fair......Indische regierung',\n",
       "  'label': 1,\n",
       "  'id': '207',\n",
       "  'split': 'test',\n",
       "  'dataset_name': 'parallel_data/de-Trac',\n",
       "  'language': 'de',\n",
       "  'uncertainty': 0.687851,\n",
       "  'margin': 0.10282835},\n",
       " {'text': 'Diese Zinssenkung wird ihm vielleicht helfen seine Haare zu schneiden zu lassen...',\n",
       "  'label': 0,\n",
       "  'id': '208',\n",
       "  'split': 'test',\n",
       "  'dataset_name': 'parallel_data/de-Trac',\n",
       "  'language': 'de',\n",
       "  'uncertainty': 0.68912613,\n",
       "  'margin': 0.08961749},\n",
       " {'text': 'Was sollen wir tun wenn Zapfsäulen keine 500er Scheine akzeptieren',\n",
       "  'label': 0,\n",
       "  'id': '209',\n",
       "  'split': 'test',\n",
       "  'dataset_name': 'parallel_data/de-Trac',\n",
       "  'language': 'de',\n",
       "  'uncertainty': 0.6883439,\n",
       "  'margin': 0.097934574},\n",
       " {'text': 'das bedeutet, er braucht einen Spion ..... nicht mieten, besitze ihn mit Liebe ... Duuuuuu Xerxes ... von Leonidas',\n",
       "  'label': 0,\n",
       "  'id': '210',\n",
       "  'split': 'test',\n",
       "  'dataset_name': 'parallel_data/de-Trac',\n",
       "  'language': 'de',\n",
       "  'uncertainty': 0.68823075,\n",
       "  'margin': 0.09907922},\n",
       " {'text': 'Atul O Pathak Sie haben gerade ein Kinderkleid mit Dessous verglichen. Besorg dir ein Leben Junge!',\n",
       "  'label': 0,\n",
       "  'id': '211',\n",
       "  'split': 'test',\n",
       "  'dataset_name': 'parallel_data/de-Trac',\n",
       "  'language': 'de',\n",
       "  'uncertainty': 0.6886529,\n",
       "  'margin': 0.094736576},\n",
       " {'text': 'hallo bitte lies meine Kommentare, auf dem derzeitigen Niveau Vguard kaufen ??',\n",
       "  'label': 0,\n",
       "  'id': '212',\n",
       "  'split': 'test',\n",
       "  'dataset_name': 'parallel_data/de-Trac',\n",
       "  'language': 'de',\n",
       "  'uncertainty': 0.6898507,\n",
       "  'margin': 0.08115232},\n",
       " {'text': 'Hört auf die Leuten mit euren Jumlas zu verarschen. Sprecht die Themen wie Beschäftigung, Bildung, Armut, Gesundheit, Bauern, Infrastruktur & Wirtschaftliche Reformen an. Bitte lenkt die Aufmerksamkeit der Menschen nicht von den Kernfragen ab, die für die Nation wichtig sind. Das Land will konkrete Ergebnisse, nicht Jumlas.',\n",
       "  'label': 1,\n",
       "  'id': '213',\n",
       "  'split': 'test',\n",
       "  'dataset_name': 'parallel_data/de-Trac',\n",
       "  'language': 'de',\n",
       "  'uncertainty': 0.68910694,\n",
       "  'margin': 0.089830875},\n",
       " {'text': 'Welche Sektoren soll man auf die kurze Sicht betrachten? Das kann für 1-2 Monate sein',\n",
       "  'label': 0,\n",
       "  'id': '214',\n",
       "  'split': 'test',\n",
       "  'dataset_name': 'parallel_data/de-Trac',\n",
       "  'language': 'de',\n",
       "  'uncertainty': 0.68891335,\n",
       "  'margin': 0.0919548},\n",
       " {'text': 'BJP ist die einzige Partei, dia AUCH die USA regiert .. Modi ist nur das Beste für die USA ... ������������������',\n",
       "  'label': 1,\n",
       "  'id': '215',\n",
       "  'split': 'test',\n",
       "  'dataset_name': 'parallel_data/de-Trac',\n",
       "  'language': 'de',\n",
       "  'uncertainty': 0.68847656,\n",
       "  'margin': 0.09657487},\n",
       " {'text': 'Außerdem, mit Verlaub an Dr. Manmohan Singh, würdest du bitte eine Methode vorschlagen wie wir mit dieser Situation umgehen sollen, wenn du Indien wirklich liebst.',\n",
       "  'label': 0,\n",
       "  'id': '216',\n",
       "  'split': 'test',\n",
       "  'dataset_name': 'parallel_data/de-Trac',\n",
       "  'language': 'de',\n",
       "  'uncertainty': 0.68776727,\n",
       "  'margin': 0.10363677},\n",
       " {'text': 'Warum trittst du nicht von dem Amt des nationalen Einberufers oder CMs zurück? Haben Sie so viel Rückrad, Herr Kejdi',\n",
       "  'label': 1,\n",
       "  'id': '217',\n",
       "  'split': 'test',\n",
       "  'dataset_name': 'parallel_data/de-Trac',\n",
       "  'language': 'de',\n",
       "  'uncertainty': 0.68943626,\n",
       "  'margin': 0.08609715},\n",
       " {'text': '70 unschuldige Menschen haben sich wegen Modi umgebracht, der weltweit größte korrupte Minister',\n",
       "  'label': 1,\n",
       "  'id': '218',\n",
       "  'split': 'test',\n",
       "  'dataset_name': 'parallel_data/de-Trac',\n",
       "  'language': 'de',\n",
       "  'uncertainty': 0.68728566,\n",
       "  'margin': 0.108166665},\n",
       " {'text': 'Durch erneutes Drücken TGE Mute-Taste jetzt ist er bei den Wahlen sprechen',\n",
       "  'label': 0,\n",
       "  'id': '219',\n",
       "  'split': 'test',\n",
       "  'dataset_name': 'parallel_data/de-Trac',\n",
       "  'language': 'de',\n",
       "  'uncertainty': 0.6895549,\n",
       "  'margin': 0.08471075},\n",
       " {'text': 'Der Tag ist nicht weit, wenn wir indische Namen als Kameramänner in Hollywood sehen.',\n",
       "  'label': 0,\n",
       "  'id': '220',\n",
       "  'split': 'test',\n",
       "  'dataset_name': 'parallel_data/de-Trac',\n",
       "  'language': 'de',\n",
       "  'uncertainty': 0.6872451,\n",
       "  'margin': 0.10854024},\n",
       " {'text': 'Er sollte in der Thar-Wüste geschickt oder sahara werden, wo er seine Humshakals Kamele sehen',\n",
       "  'label': 1,\n",
       "  'id': '221',\n",
       "  'split': 'test',\n",
       "  'dataset_name': 'parallel_data/de-Trac',\n",
       "  'language': 'de',\n",
       "  'uncertainty': 0.68808365,\n",
       "  'margin': 0.10054812},\n",
       " {'text': 'Sonia sollte mit Pantoffeln und Schuhe bestraft werden ... Das ist totaler Unsinn und inakzeptabel....',\n",
       "  'label': 0,\n",
       "  'id': '222',\n",
       "  'split': 'test',\n",
       "  'dataset_name': 'parallel_data/de-Trac',\n",
       "  'language': 'de',\n",
       "  'uncertainty': 0.68842435,\n",
       "  'margin': 0.09711251},\n",
       " {'text': 'Er hat eine ein-wöchige Schulung bei Sonia für diese Rede genommen ...',\n",
       "  'label': 1,\n",
       "  'id': '223',\n",
       "  'split': 'test',\n",
       "  'dataset_name': 'parallel_data/de-Trac',\n",
       "  'language': 'de',\n",
       "  'uncertainty': 0.6879637,\n",
       "  'margin': 0.10172987},\n",
       " {'text': 'Wo wart ihr vor 2 Jahren ... ihr habt da nicht mal berichtet, dass solche Dörfer existieren ..es ist ein großer Fehler auf Seiten von Kongress und Landesregierung ... wenn ihr euch tatslichlich um die Leute in dem Dorf sorgen würdet, würdet ihr eure Bedenken zeigen und nicht rumjammern',\n",
       "  'label': 0,\n",
       "  'id': '224',\n",
       "  'split': 'test',\n",
       "  'dataset_name': 'parallel_data/de-Trac',\n",
       "  'language': 'de',\n",
       "  'uncertainty': 0.68999106,\n",
       "  'margin': 0.07940805},\n",
       " {'text': 'Die Türkei unterschützt diese ISIS Gauner und jetzt wagen sie es, uns bei der Kaschmir-Frage zu belehren ... ihre schlechten Zeiten werden bald anfangen... ������������������������',\n",
       "  'label': 1,\n",
       "  'id': '225',\n",
       "  'split': 'test',\n",
       "  'dataset_name': 'parallel_data/de-Trac',\n",
       "  'language': 'de',\n",
       "  'uncertainty': 0.68790174,\n",
       "  'margin': 0.102335095},\n",
       " {'text': 'Ich muss cnbc entfolgen als sie angefangen Babas zu folgen. Wie zum Teufel können sie das tun.',\n",
       "  'label': 0,\n",
       "  'id': '226',\n",
       "  'split': 'test',\n",
       "  'dataset_name': 'parallel_data/de-Trac',\n",
       "  'language': 'de',\n",
       "  'uncertainty': 0.6893441,\n",
       "  'margin': 0.08715749},\n",
       " {'text': 'Aqsa Kashmiri ......... Beschämt dich wegen deinen schamlosen Kommentaren eine Frau zu nennen. Wirklich beschämend.',\n",
       "  'label': 1,\n",
       "  'id': '227',\n",
       "  'split': 'test',\n",
       "  'dataset_name': 'parallel_data/de-Trac',\n",
       "  'language': 'de',\n",
       "  'uncertainty': 0.68829596,\n",
       "  'margin': 0.09842095},\n",
       " {'text': 'das Einölen der Aufziehpuppe wurde, wie es scheint, gestern von Sonia erledigt ... dieses Spielzeug ist im Betrieb und man kann Batterien einsetzen damit seine Kehle funktioniert...',\n",
       "  'label': 1,\n",
       "  'id': '228',\n",
       "  'split': 'test',\n",
       "  'dataset_name': 'parallel_data/de-Trac',\n",
       "  'language': 'de',\n",
       "  'uncertainty': 0.6891866,\n",
       "  'margin': 0.08894211},\n",
       " {'text': 'Selbst wenn Modi ji furzt, sagen Bhakts so wow, was für ein Duft ich will das gleiche Parfüm !!! : P: P',\n",
       "  'label': 1,\n",
       "  'id': '229',\n",
       "  'split': 'test',\n",
       "  'dataset_name': 'parallel_data/de-Trac',\n",
       "  'language': 'de',\n",
       "  'uncertainty': 0.6893366,\n",
       "  'margin': 0.08724365},\n",
       " {'text': 'Vieh Diebstahl ist ein großes Problem in Assam, speziell in den abgelegenen Gegenden, unsere Familie wurde zweimal mit diesem Problem konfrontiert. Ich muss Geld zahlen im Austausch für meine eigenen Rinder zahlen. Wenn ich in der Menge gewesen wäre, würde ich mich sicher anzuschließen.',\n",
       "  'label': 0,\n",
       "  'id': '230',\n",
       "  'split': 'test',\n",
       "  'dataset_name': 'parallel_data/de-Trac',\n",
       "  'language': 'de',\n",
       "  'uncertainty': 0.688378,\n",
       "  'margin': 0.09758687},\n",
       " {'text': 'Verdammter Nachrichtenkanal überprüfe, was in Tamil Nadu geschieht',\n",
       "  'label': 1,\n",
       "  'id': '231',\n",
       "  'split': 'test',\n",
       "  'dataset_name': 'parallel_data/de-Trac',\n",
       "  'language': 'de',\n",
       "  'uncertainty': 0.68929887,\n",
       "  'margin': 0.087673664},\n",
       " {'text': 'gute Fakten, unser PM sollte sie Vorschläge in sich aufnehmen und mit einem Plan kommen,.',\n",
       "  'label': 0,\n",
       "  'id': '232',\n",
       "  'split': 'test',\n",
       "  'dataset_name': 'parallel_data/de-Trac',\n",
       "  'language': 'de',\n",
       "  'uncertainty': 0.68885285,\n",
       "  'margin': 0.09260857},\n",
       " {'text': 'Menschen, die solche ein diskriminierendes Verhalten ausüben sollte für den Rest ihres Lebens ins Gefängnis geworfen werden.',\n",
       "  'label': 0,\n",
       "  'id': '233',\n",
       "  'split': 'test',\n",
       "  'dataset_name': 'parallel_data/de-Trac',\n",
       "  'language': 'de',\n",
       "  'uncertainty': 0.68749106,\n",
       "  'margin': 0.10625824},\n",
       " {'text': 'Warum war der Korrespondent von The Economist von der Teilnahme an der Pressekonferenz des Gouverneurs abgehalten.?',\n",
       "  'label': 1,\n",
       "  'id': '234',\n",
       "  'split': 'test',\n",
       "  'dataset_name': 'parallel_data/de-Trac',\n",
       "  'language': 'de',\n",
       "  'uncertainty': 0.68831253,\n",
       "  'margin': 0.09825322},\n",
       " {'text': 'Im Krankenhaus nachzuschauen ist immer eine gute Idee für alle Richter!',\n",
       "  'label': 1,\n",
       "  'id': '235',\n",
       "  'split': 'test',\n",
       "  'dataset_name': 'parallel_data/de-Trac',\n",
       "  'language': 'de',\n",
       "  'uncertainty': 0.6885868,\n",
       "  'margin': 0.095430434},\n",
       " {'text': 'Schlechtester FM aller Zeiten, was ist mit der 5 Lakh Steuer Grenze?, hat er während der Wahl gesagt',\n",
       "  'label': 0,\n",
       "  'id': '236',\n",
       "  'split': 'test',\n",
       "  'dataset_name': 'parallel_data/de-Trac',\n",
       "  'language': 'de',\n",
       "  'uncertainty': 0.6889899,\n",
       "  'margin': 0.091121435},\n",
       " {'text': 'Eines Tages bekommen wir die Nachrichten schnell... diese krk Vergewaltigung der sozialen Medien und geschlagen von Kommentaren',\n",
       "  'label': 1,\n",
       "  'id': '237',\n",
       "  'split': 'test',\n",
       "  'dataset_name': 'parallel_data/de-Trac',\n",
       "  'language': 'de',\n",
       "  'uncertainty': 0.6884279,\n",
       "  'margin': 0.0970757},\n",
       " {'text': 'Sie sind der Löwe Indiens Sir, niemand in Indien hat den Mut',\n",
       "  'label': 0,\n",
       "  'id': '238',\n",
       "  'split': 'test',\n",
       "  'dataset_name': 'parallel_data/de-Trac',\n",
       "  'language': 'de',\n",
       "  'uncertainty': 0.6882982,\n",
       "  'margin': 0.09839833},\n",
       " {'text': 'Ich bin stolz, ein Bürger des sich weiter entwickelnden und sich verändernden Indiens zu sein... Gott sei Dank, dass wir nicht in den Händen der korruptesten politischen Partei auf der ganzen Welt sind, KONGRESS ...',\n",
       "  'label': 1,\n",
       "  'id': '239',\n",
       "  'split': 'test',\n",
       "  'dataset_name': 'parallel_data/de-Trac',\n",
       "  'language': 'de',\n",
       "  'uncertainty': 0.68844545,\n",
       "  'margin': 0.09689546},\n",
       " {'text': 'Warum gehen Sie nicht und sagen all diese Scheiße im Parlament Herr Modi Gi ..',\n",
       "  'label': 1,\n",
       "  'id': '240',\n",
       "  'split': 'test',\n",
       "  'dataset_name': 'parallel_data/de-Trac',\n",
       "  'language': 'de',\n",
       "  'uncertainty': 0.68910265,\n",
       "  'margin': 0.0898782},\n",
       " {'text': 'Schließlich brach Herr Manmohan Singh sein Schweigen, der zum Kohle Betrug, 2G Betrug, NREGA Betrug und vielen weiteren Schwindeln während seiner Amtszeit still blieb. Eine MARIONETTE der Familie Gandhi.',\n",
       "  'label': 1,\n",
       "  'id': '241',\n",
       "  'split': 'test',\n",
       "  'dataset_name': 'parallel_data/de-Trac',\n",
       "  'language': 'de',\n",
       "  'uncertainty': 0.68867576,\n",
       "  'margin': 0.09449643},\n",
       " {'text': 'Wir brauchen thermische und hoch auflösende Kameras dort oben um die Naxals und Terrosristen auszuspionieren und sie mit lasergesteuerten Raketen auszuschalten. ISRO würdet ihr euch freundlicherweise darum kümmern .',\n",
       "  'label': 0,\n",
       "  'id': '242',\n",
       "  'split': 'test',\n",
       "  'dataset_name': 'parallel_data/de-Trac',\n",
       "  'language': 'de',\n",
       "  'uncertainty': 0.68921053,\n",
       "  'margin': 0.08867356},\n",
       " {'text': 'Tötet diese b ********** ohne Gnade. Einige Leute verdienen noch nicht mal menschliche Reaktionen. Tötet sie einfach & und lasst Pakistan von der Weltkarte verschwinden, mag kommen was da will.',\n",
       "  'label': 1,\n",
       "  'id': '243',\n",
       "  'split': 'test',\n",
       "  'dataset_name': 'parallel_data/de-Trac',\n",
       "  'language': 'de',\n",
       "  'uncertainty': 0.68806624,\n",
       "  'margin': 0.1007207},\n",
       " {'text': 'Idiotisch Rede, Sie haben nie gesprochen wenn Sie es hätten tun sollen !! Es tut mir leid !! Ein Hoch auf Modi !!',\n",
       "  'label': 1,\n",
       "  'id': '244',\n",
       "  'split': 'test',\n",
       "  'dataset_name': 'parallel_data/de-Trac',\n",
       "  'language': 'de',\n",
       "  'uncertainty': 0.6885035,\n",
       "  'margin': 0.09629607},\n",
       " {'text': 'Im In- und Ausland, stolpert die Modi Regierung von einem Fettnäpfchen zum nächsten',\n",
       "  'label': 1,\n",
       "  'id': '245',\n",
       "  'split': 'test',\n",
       "  'dataset_name': 'parallel_data/de-Trac',\n",
       "  'language': 'de',\n",
       "  'uncertainty': 0.68968344,\n",
       "  'margin': 0.083183914},\n",
       " {'text': 'Hallo Sonia und Anuj, bis wann können wir eine derartige Unbeständigkeit auf dem Markt erwarten und ab welchem Niveau können wir anfangen zu investieren?',\n",
       "  'label': 0,\n",
       "  'id': '246',\n",
       "  'split': 'test',\n",
       "  'dataset_name': 'parallel_data/de-Trac',\n",
       "  'language': 'de',\n",
       "  'uncertainty': 0.68898296,\n",
       "  'margin': 0.091196805},\n",
       " {'text': 'wenn die Wachstumsraten kurzfristig betroffen sind warum sagen diese Leute dann, dass langfristige Ziele besser wären..was falsch ist, ist falsch..es spielt keine Rolle, wer es sagt, oder wer es tut ..-_-',\n",
       "  'label': 0,\n",
       "  'id': '247',\n",
       "  'split': 'test',\n",
       "  'dataset_name': 'parallel_data/de-Trac',\n",
       "  'language': 'de',\n",
       "  'uncertainty': 0.6881337,\n",
       "  'margin': 0.10005072},\n",
       " {'text': 'Ohhh armes Kind versuch mal einen anderen Kommentar, schon so viele Idioten haben diese Nachricht geschrieben.',\n",
       "  'label': 0,\n",
       "  'id': '248',\n",
       "  'split': 'test',\n",
       "  'dataset_name': 'parallel_data/de-Trac',\n",
       "  'language': 'de',\n",
       "  'uncertainty': 0.6891732,\n",
       "  'margin': 0.089092374},\n",
       " {'text': 'gesamtes Bildungssystem von Indien auf Mission Arbeitssuche ... einfach, das kann einem Führer nicht nur Anhänder bringen - behindertes System',\n",
       "  'label': 0,\n",
       "  'id': '249',\n",
       "  'split': 'test',\n",
       "  'dataset_name': 'parallel_data/de-Trac',\n",
       "  'language': 'de',\n",
       "  'uncertainty': 0.6892187,\n",
       "  'margin': 0.088581175},\n",
       " {'text': 'Porkis bevorzugen schwulen Porno. Dann heiraten sie ihre eigenen Schwestern. Das ist ein Porki für euch ������������������������',\n",
       "  'label': 1,\n",
       "  'id': '250',\n",
       "  'split': 'test',\n",
       "  'dataset_name': 'parallel_data/de-Trac',\n",
       "  'language': 'de',\n",
       "  'uncertainty': 0.6870475,\n",
       "  'margin': 0.11033872},\n",
       " {'text': 'Ich weiß nicht, wo auf was dieses großartige Land zusteuert?  Politik wird für Kühe, einseitige Scheidung  & all das Chaos verspielt, nur um im Amt zu bleiben.  Wann werden diese Leute erkennen, dass sie dem Land nichts Gutes tun, sondern es nur langsam mit einem schleichendem Gift zugrunde richten.',\n",
       "  'label': 1,\n",
       "  'id': '251',\n",
       "  'split': 'test',\n",
       "  'dataset_name': 'parallel_data/de-Trac',\n",
       "  'language': 'de',\n",
       "  'uncertainty': 0.68912673,\n",
       "  'margin': 0.08961126},\n",
       " {'text': 'NRI, ich leben weit weg von der indischen Bank, 18000 Rupien, ich bin nicht in Indien vor dem 30. Dezember Was soll ich tun?',\n",
       "  'label': 0,\n",
       "  'id': '252',\n",
       "  'split': 'test',\n",
       "  'dataset_name': 'parallel_data/de-Trac',\n",
       "  'language': 'de',\n",
       "  'uncertainty': 0.6877699,\n",
       "  'margin': 0.10361132},\n",
       " {'text': 'Hut ab vor Modi Schwarzgeld aus Indien zu entfernen������������������',\n",
       "  'label': 0,\n",
       "  'id': '253',\n",
       "  'split': 'test',\n",
       "  'dataset_name': 'parallel_data/de-Trac',\n",
       "  'language': 'de',\n",
       "  'uncertainty': 0.68917656,\n",
       "  'margin': 0.089054495},\n",
       " {'text': 'Kein Schwarzgeld mehr nur noch rotes und grünes',\n",
       "  'label': 1,\n",
       "  'id': '254',\n",
       "  'split': 'test',\n",
       "  'dataset_name': 'parallel_data/de-Trac',\n",
       "  'language': 'de',\n",
       "  'uncertainty': 0.69051296,\n",
       "  'margin': 0.072552055},\n",
       " {'text': 'Und Sir, bitte geben sie das Datum an, wann es normale Auzahlung an den Geldautomaten gibt um wieder Sicherheit in die Wirtschaft zurück zu bringen',\n",
       "  'label': 0,\n",
       "  'id': '255',\n",
       "  'split': 'test',\n",
       "  'dataset_name': 'parallel_data/de-Trac',\n",
       "  'language': 'de',\n",
       "  'uncertainty': 0.68909985,\n",
       "  'margin': 0.08990985},\n",
       " {'text': 'Kfz-Versicherung ist maximal weil es ein Pflicht-Produkt ist auch wenn es papierlos geworden ist Lebensversicherung ist eher ein Push-Produkt, deswegen braucht man viel menschliches Eingreifen',\n",
       "  'label': 0,\n",
       "  'id': '256',\n",
       "  'split': 'test',\n",
       "  'dataset_name': 'parallel_data/de-Trac',\n",
       "  'language': 'de',\n",
       "  'uncertainty': 0.6889441,\n",
       "  'margin': 0.09162071},\n",
       " {'text': 'Wow .... dieser Typ kann auch reden .... Vielen Dank an Modi ji dafür dass er die Marionette Mohan zum Reden gebracht hat',\n",
       "  'label': 1,\n",
       "  'id': '257',\n",
       "  'split': 'test',\n",
       "  'dataset_name': 'parallel_data/de-Trac',\n",
       "  'language': 'de',\n",
       "  'uncertainty': 0.688252,\n",
       "  'margin': 0.09886563},\n",
       " {'text': 'Wenn Indien schon arm ist, dann ist Pakistan 1/16 davon in der Wirtschaft, wie sollen wir Pakistan nennen ........so wie Bettler oder Schnorrer oder irgendein bestimmtes Wort',\n",
       "  'label': 1,\n",
       "  'id': '258',\n",
       "  'split': 'test',\n",
       "  'dataset_name': 'parallel_data/de-Trac',\n",
       "  'language': 'de',\n",
       "  'uncertainty': 0.6879177,\n",
       "  'margin': 0.102179885},\n",
       " {'text': 'Die Anzahl der Arbeitslosen steigt . Sie wählen Aktivismus als Alternative. Das meiste am Aktivismus ist es Glück in anderen erniedrigend hart arbeiten Menschen zu finden. Diese Negativität kann nichts zur Verbesserung des Landes beitragen, wir kämpfen nur gegeneinander und finden darin Zufriedenstellung.',\n",
       "  'label': 1,\n",
       "  'id': '259',\n",
       "  'split': 'test',\n",
       "  'dataset_name': 'parallel_data/de-Trac',\n",
       "  'language': 'de',\n",
       "  'uncertainty': 0.6888466,\n",
       "  'margin': 0.09267652},\n",
       " {'text': 'Ich dachte, Manmohan Singh wurde PM von Indien wegen der Behindertenquote ... War er nicht DUMM ...? Ein medizinisches Wunder .. Endlich kann eine dumme Person sprechen ... Welcher HNO-Arzt hat diese Operation durchgeführt ...',\n",
       "  'label': 1,\n",
       "  'id': '260',\n",
       "  'split': 'test',\n",
       "  'dataset_name': 'parallel_data/de-Trac',\n",
       "  'language': 'de',\n",
       "  'uncertainty': 0.6879667,\n",
       "  'margin': 0.10170078},\n",
       " {'text': 'Weiße Transaktionen seien eine neue Norm, sagt Arun Jaitley',\n",
       "  'label': 0,\n",
       "  'id': '261',\n",
       "  'split': 'test',\n",
       "  'dataset_name': 'parallel_data/de-Trac',\n",
       "  'language': 'de',\n",
       "  'uncertainty': 0.68825054,\n",
       "  'margin': 0.09888059},\n",
       " {'text': 'was zum Teufel ist los mit RBI ................ jedem Tag neue dumme Regeln ............',\n",
       "  'label': 1,\n",
       "  'id': '262',\n",
       "  'split': 'test',\n",
       "  'dataset_name': 'parallel_data/de-Trac',\n",
       "  'language': 'de',\n",
       "  'uncertainty': 0.68885857,\n",
       "  'margin': 0.09254697},\n",
       " {'text': 'Statt diesen Mist zu beobachten sollten die Leute wenigstens einmal Mitgefühl gegenüber den Armen zeigen...',\n",
       "  'label': 0,\n",
       "  'id': '263',\n",
       "  'split': 'test',\n",
       "  'dataset_name': 'parallel_data/de-Trac',\n",
       "  'language': 'de',\n",
       "  'uncertainty': 0.68796146,\n",
       "  'margin': 0.10175207},\n",
       " {'text': 'Eine Person, die Indien ein Kompromiss eingehen lassen hat indem er seine Position als RBI Chef, Finanz Minister und Prime Minister nutze,',\n",
       "  'label': 0,\n",
       "  'id': '264',\n",
       "  'split': 'test',\n",
       "  'dataset_name': 'parallel_data/de-Trac',\n",
       "  'language': 'de',\n",
       "  'uncertainty': 0.6874902,\n",
       "  'margin': 0.10626626},\n",
       " {'text': 'Hallo anuj und Sonia bitte teilt eure Sicht auf den Luftfahrtsektor.',\n",
       "  'label': 0,\n",
       "  'id': '265',\n",
       "  'split': 'test',\n",
       "  'dataset_name': 'parallel_data/de-Trac',\n",
       "  'language': 'de',\n",
       "  'uncertainty': 0.68954396,\n",
       "  'margin': 0.084840596},\n",
       " {'text': 'NIEMAND HAT DAS RECHT IRGENDEINE RELIGION ZU BESCHULDIGEN BITTE RESPEKTIERT JEDEN ALLE RELIGIONEN ZUMINDEST ZEIGT EURE MENSCHLICHKEIT',\n",
       "  'label': 0,\n",
       "  'id': '266',\n",
       "  'split': 'test',\n",
       "  'dataset_name': 'parallel_data/de-Trac',\n",
       "  'language': 'de',\n",
       "  'uncertainty': 0.6868325,\n",
       "  'margin': 0.11226198},\n",
       " {'text': 'Beide nicht gut .... Wenn Trump kommt, wird es wirtschaftlich dem asiatischen Markt schaden und wenn hillary kommt, als können wir keine finanzielle Entwicklung erwarten sie ist sehr langweilig ....',\n",
       "  'label': 0,\n",
       "  'id': '267',\n",
       "  'split': 'test',\n",
       "  'dataset_name': 'parallel_data/de-Trac',\n",
       "  'language': 'de',\n",
       "  'uncertainty': 0.6874869,\n",
       "  'margin': 0.10629758},\n",
       " {'text': 'während sich Indien nach FDI und Privatisierung sehnt. Sie spricht über inländisches Sparen',\n",
       "  'label': 0,\n",
       "  'id': '268',\n",
       "  'split': 'test',\n",
       "  'dataset_name': 'parallel_data/de-Trac',\n",
       "  'language': 'de',\n",
       "  'uncertainty': 0.688278,\n",
       "  'margin': 0.098602355},\n",
       " {'text': 'Die Idee der Demonetarisierung war gut aber es hätte in einer besseren Art und Weise umgesetzt werden können. Dr. Manmohan Singh ist ein Experte auf diesem Gebiet also verurteilt ihn nicht.',\n",
       "  'label': 0,\n",
       "  'id': '269',\n",
       "  'split': 'test',\n",
       "  'dataset_name': 'parallel_data/de-Trac',\n",
       "  'language': 'de',\n",
       "  'uncertainty': 0.6886479,\n",
       "  'margin': 0.0947893},\n",
       " {'text': 'Alle Transaktionen werden online sein ... wow ..aslo wenn Sie eine kleine Packung Maggi Nudeln kaufen wollen oder ein Kilo Lebensmittel ..wirst du Online-Transaktionen verwenden .. ?? Hat das Alter ihr Nervensystem gelähmt. .: / ??',\n",
       "  'label': 1,\n",
       "  'id': '270',\n",
       "  'split': 'test',\n",
       "  'dataset_name': 'parallel_data/de-Trac',\n",
       "  'language': 'de',\n",
       "  'uncertainty': 0.6890677,\n",
       "  'margin': 0.09026551},\n",
       " {'text': 'Der 96 Jahre alte Heeraben hat 6 Kinder, irgendwer hätte ihr die 4 Tausend besorgen können. Aber einer der Söhne wollte, dass sie vor den Kameras der Medien blitzt. Kranker Verstand.',\n",
       "  'label': 1,\n",
       "  'id': '271',\n",
       "  'split': 'test',\n",
       "  'dataset_name': 'parallel_data/de-Trac',\n",
       "  'language': 'de',\n",
       "  'uncertainty': 0.68791276,\n",
       "  'margin': 0.102228135},\n",
       " {'text': 'Ja ja .. Verkehrs Bevölkerungs Verschmutzungs Unbewohnbarkeits Index ..schließt die Lücke zwischen der Unter- und Mittelschicht indem es die Mittelschicht zugrunde richtet ☺☺☺☺☺☺☺☺☺☺',\n",
       "  'label': 1,\n",
       "  'id': '272',\n",
       "  'split': 'test',\n",
       "  'dataset_name': 'parallel_data/de-Trac',\n",
       "  'language': 'de',\n",
       "  'uncertainty': 0.68829834,\n",
       "  'margin': 0.098397404},\n",
       " {'text': 'In unserer Zeit ist er der wegweisende Denker. Es geht auf seine Kappe, dass diejenigen, die seine Ideen in den vergangenen zehn Jahren kritisiert haben, die exakt gleichen Ideen angenommen haben um jetzt erfolgreich die Regierung zu verbessern.',\n",
       "  'label': 0,\n",
       "  'id': '273',\n",
       "  'split': 'test',\n",
       "  'dataset_name': 'parallel_data/de-Trac',\n",
       "  'language': 'de',\n",
       "  'uncertainty': 0.68883896,\n",
       "  'margin': 0.09275842},\n",
       " {'text': '86% Liquiditäts Rate .., das ist schlecht .. unbekannte langfristige Vorteile werden als Vorwand genutzt um so eine harte Maßnahme durchzusetzen .. hart arbeitenden Menschen, die Geld in bar bezahlt werden,sind am stärksten betroffen.',\n",
       "  'label': 0,\n",
       "  'id': '274',\n",
       "  'split': 'test',\n",
       "  'dataset_name': 'parallel_data/de-Trac',\n",
       "  'language': 'de',\n",
       "  'uncertainty': 0.6895683,\n",
       "  'margin': 0.084552914},\n",
       " {'text': 'Haha unser ehemaliger PM spricht auch .... Das war mir in den 10 Jahren seiner Amtszeit nicht bewusst',\n",
       "  'label': 1,\n",
       "  'id': '275',\n",
       "  'split': 'test',\n",
       "  'dataset_name': 'parallel_data/de-Trac',\n",
       "  'language': 'de',\n",
       "  'uncertainty': 0.68948317,\n",
       "  'margin': 0.08555207},\n",
       " {'text': 'Verstößt Herr Modi ji nicht gegen das Protokoll, indem er da ist um ihn willkommen zu heißen obwohl es der Job von Prez ist??',\n",
       "  'label': 1,\n",
       "  'id': '276',\n",
       "  'split': 'test',\n",
       "  'dataset_name': 'parallel_data/de-Trac',\n",
       "  'language': 'de',\n",
       "  'uncertainty': 0.6885319,\n",
       "  'margin': 0.096001655},\n",
       " {'text': 'Hahaha es bringt nichts zu Bellen. Dein Leben ist wie das von einem streunenden Hund, du bellst bellst bellst Leute ignorieren dich einfach.',\n",
       "  'label': 0,\n",
       "  'id': '277',\n",
       "  'split': 'test',\n",
       "  'dataset_name': 'parallel_data/de-Trac',\n",
       "  'language': 'de',\n",
       "  'uncertainty': 0.68878484,\n",
       "  'margin': 0.09333846},\n",
       " {'text': 'Alle von derselben „friedliebenden Religion“ Und dann behaupten sie, nationalistisch zu sein  Gauner',\n",
       "  'label': 1,\n",
       "  'id': '278',\n",
       "  'split': 'test',\n",
       "  'dataset_name': 'parallel_data/de-Trac',\n",
       "  'language': 'de',\n",
       "  'uncertainty': 0.68808246,\n",
       "  'margin': 0.10056025},\n",
       " {'text': 'Schauen Sie, wer beschleunigt ...... wo waren Sie, Sir, als diese Betrügereien während Ihrer Amtszeit passiert sind????',\n",
       "  'label': 1,\n",
       "  'id': '279',\n",
       "  'split': 'test',\n",
       "  'dataset_name': 'parallel_data/de-Trac',\n",
       "  'language': 'de',\n",
       "  'uncertainty': 0.6881384,\n",
       "  'margin': 0.100004375},\n",
       " {'text': 'Lachen Sie solange Sie noch können ... weil Sie wissen, was aus Sie zu kommt. Analphabetische Gauner',\n",
       "  'label': 1,\n",
       "  'id': '280',\n",
       "  'split': 'test',\n",
       "  'dataset_name': 'parallel_data/de-Trac',\n",
       "  'language': 'de',\n",
       "  'uncertainty': 0.6880436,\n",
       "  'margin': 0.10094455},\n",
       " {'text': 'Sameer Mirza Mohammed war ein BASTARD und Abdullah war sein Adoptivvater.',\n",
       "  'label': 1,\n",
       "  'id': '281',\n",
       "  'split': 'test',\n",
       "  'dataset_name': 'parallel_data/de-Trac',\n",
       "  'language': 'de',\n",
       "  'uncertainty': 0.687024,\n",
       "  'margin': 0.110550374},\n",
       " {'text': 'Die Puppe hinter Dr. Manmohan Singh ist dumm genau wie alle dummen Kongress Minister. Hört auf Herrn modi zu wiedersprechen. Und unterstützt ihn um Indien Groß zu machen.',\n",
       "  'label': 1,\n",
       "  'id': '282',\n",
       "  'split': 'test',\n",
       "  'dataset_name': 'parallel_data/de-Trac',\n",
       "  'language': 'de',\n",
       "  'uncertainty': 0.6887773,\n",
       "  'margin': 0.09341887},\n",
       " {'text': 'Ehemaliger PM spricht wie ein Grundsschüler, der eine eine Rede hält. Schande',\n",
       "  'label': 1,\n",
       "  'id': '283',\n",
       "  'split': 'test',\n",
       "  'dataset_name': 'parallel_data/de-Trac',\n",
       "  'language': 'de',\n",
       "  'uncertainty': 0.68882203,\n",
       "  'margin': 0.0929403},\n",
       " {'text': 'Gut. Warum sie flüchten sie nach Pakistan sie haben genug Kunden in Indien, wie viel Geld sie wollen denn noch. Sm',\n",
       "  'label': 0,\n",
       "  'id': '284',\n",
       "  'split': 'test',\n",
       "  'dataset_name': 'parallel_data/de-Trac',\n",
       "  'language': 'de',\n",
       "  'uncertainty': 0.6876769,\n",
       "  'margin': 0.10450098},\n",
       " {'text': 'Diese Rede wurde von Sonia Gandhi geschrieben und von ihrem ROBOTER übermittelt',\n",
       "  'label': 1,\n",
       "  'id': '285',\n",
       "  'split': 'test',\n",
       "  'dataset_name': 'parallel_data/de-Trac',\n",
       "  'language': 'de',\n",
       "  'uncertainty': 0.6875875,\n",
       "  'margin': 0.10535115},\n",
       " {'text': 'Latha hat wie immer die dummen Fragen gestellt und versucht alles besser zu wissen als andere. Sie muss die Fragen notieren und es anscheindend hat sie sich damit schwer getan. Soniya hätte den Kanal eleganter und intelligenter vertreten.',\n",
       "  'label': 0,\n",
       "  'id': '286',\n",
       "  'split': 'test',\n",
       "  'dataset_name': 'parallel_data/de-Trac',\n",
       "  'language': 'de',\n",
       "  'uncertainty': 0.6885725,\n",
       "  'margin': 0.09557876},\n",
       " {'text': 'Herr Modi ich fühle eine tiefe Reue dass ich Sie gewählt habe. Sie sind ein Fluch für Indien.',\n",
       "  'label': 1,\n",
       "  'id': '287',\n",
       "  'split': 'test',\n",
       "  'dataset_name': 'parallel_data/de-Trac',\n",
       "  'language': 'de',\n",
       "  'uncertainty': 0.68813825,\n",
       "  'margin': 0.10000542},\n",
       " {'text': 'Hey..Unser ehemaliger PM kann tatsächlich sprechen. ..hurra ... und ich dachte, er wurde stumm und taub geboren...',\n",
       "  'label': 1,\n",
       "  'id': '288',\n",
       "  'split': 'test',\n",
       "  'dataset_name': 'parallel_data/de-Trac',\n",
       "  'language': 'de',\n",
       "  'uncertainty': 0.6888948,\n",
       "  'margin': 0.092155814},\n",
       " {'text': 'Ich respektiere Mr Manmohan Singh ... er ist der beste PM Indiens Kein Analphabet wie Namo Bewakoof',\n",
       "  'label': 1,\n",
       "  'id': '289',\n",
       "  'split': 'test',\n",
       "  'dataset_name': 'parallel_data/de-Trac',\n",
       "  'language': 'de',\n",
       "  'uncertainty': 0.68954194,\n",
       "  'margin': 0.0848636},\n",
       " {'text': 'Habt ihr Typen den Verlust durch Kaskadeneffekte eingerechnet, wenn ja, dann machen sie weitflächigere Forschung',\n",
       "  'label': 0,\n",
       "  'id': '290',\n",
       "  'split': 'test',\n",
       "  'dataset_name': 'parallel_data/de-Trac',\n",
       "  'language': 'de',\n",
       "  'uncertainty': 0.6887466,\n",
       "  'margin': 0.093746066},\n",
       " {'text': 'Kauf Gold / Goldminen-Aktien, das ist der einzige Weg finanziell von diesem Ereignis zu profitieren. Ich habe meine Bestellung bereits abgeschickt ������������ Ich habe schon MMTC gekauft. Gold wird zu $ \\u200b\\u200b1500 auf der Rückseite von Trumps Wahlveranstaltung ansteigen',\n",
       "  'label': 0,\n",
       "  'id': '291',\n",
       "  'split': 'test',\n",
       "  'dataset_name': 'parallel_data/de-Trac',\n",
       "  'language': 'de',\n",
       "  'uncertainty': 0.68923736,\n",
       "  'margin': 0.088371664},\n",
       " {'text': 'Durch Kapitalgewinn Probleme ist es offensichtlich, dass FPIs bevor dieses Geschäftsjahr endet, maximal investieren möchten. Selbst dann wäre eine 5-10% ige Korrektur unserer Märkte ist eine Möglichkeit. In Vorfreude halten sich die Leute etwas Bargeld. Ist das eine gute Strategie oder sollten wir voll investiert bleiben?',\n",
       "  'label': 0,\n",
       "  'id': '292',\n",
       "  'split': 'test',\n",
       "  'dataset_name': 'parallel_data/de-Trac',\n",
       "  'language': 'de',\n",
       "  'uncertainty': 0.6886524,\n",
       "  'margin': 0.09474218},\n",
       " {'text': 'Überall regierte der BJP Mob Gesetz & Ordnung. Es ist nur eine Quatschrepublik.',\n",
       "  'label': 0,\n",
       "  'id': '293',\n",
       "  'split': 'test',\n",
       "  'dataset_name': 'parallel_data/de-Trac',\n",
       "  'language': 'de',\n",
       "  'uncertainty': 0.6889997,\n",
       "  'margin': 0.09101343},\n",
       " {'text': 'Ist nur die Zentralregierung verantwortlich? Was hat die Landesregierung in den letzten 5 Jahren getan? wie kreigt man TRP .... fangt an der Zentralregierung die Schuld zu geben',\n",
       "  'label': 0,\n",
       "  'id': '294',\n",
       "  'split': 'test',\n",
       "  'dataset_name': 'parallel_data/de-Trac',\n",
       "  'language': 'de',\n",
       "  'uncertainty': 0.68833506,\n",
       "  'margin': 0.09802449},\n",
       " {'text': 'Die großartige ex PM Indiens das erste mal sprichst du ohne Sonia Gandhiji',\n",
       "  'label': 0,\n",
       "  'id': '295',\n",
       "  'split': 'test',\n",
       "  'dataset_name': 'parallel_data/de-Trac',\n",
       "  'language': 'de',\n",
       "  'uncertainty': 0.6894175,\n",
       "  'margin': 0.08631417},\n",
       " {'text': 'Stumm-Modus deaktiviert? gut zumindestens hat sie Demonitarisierung den Stummmodus ausgeschaltet :D',\n",
       "  'label': 1,\n",
       "  'id': '296',\n",
       "  'split': 'test',\n",
       "  'dataset_name': 'parallel_data/de-Trac',\n",
       "  'language': 'de',\n",
       "  'uncertainty': 0.6895663,\n",
       "  'margin': 0.08457619},\n",
       " {'text': 'Gescheiterter PM, gescheitertes bargeldloses System. Dennoch gibt es viele Dörfer, die keine Internet-Verbindung haben.',\n",
       "  'label': 1,\n",
       "  'id': '297',\n",
       "  'split': 'test',\n",
       "  'dataset_name': 'parallel_data/de-Trac',\n",
       "  'language': 'de',\n",
       "  'uncertainty': 0.68911844,\n",
       "  'margin': 0.089702725},\n",
       " {'text': 'Die Propaganda gegen Pawar Saab ist völlig unbegründet. Bis heute konnte niemand seine Verwicklung in irgendeinen Korruptions Fall beweisen. Einige Leute denken, dass er Superman ist und Justiz, Politik, Ermittlungsbehörden, die ganze Regierung und Bürokratie steuert',\n",
       "  'label': 0,\n",
       "  'id': '298',\n",
       "  'split': 'test',\n",
       "  'dataset_name': 'parallel_data/de-Trac',\n",
       "  'language': 'de',\n",
       "  'uncertainty': 0.6891977,\n",
       "  'margin': 0.088817686},\n",
       " {'text': 'Indien braucht nicht so einen PM... um alle Korrupten in Einklang zu bringen',\n",
       "  'label': 0,\n",
       "  'id': '299',\n",
       "  'split': 'test',\n",
       "  'dataset_name': 'parallel_data/de-Trac',\n",
       "  'language': 'de',\n",
       "  'uncertainty': 0.68857294,\n",
       "  'margin': 0.09557462},\n",
       " {'text': 'Čak ni dvomjesečna djevojčica nije sigurna u Indiji ... ali krava je sigurna ...',\n",
       "  'label': 0,\n",
       "  'id': '0',\n",
       "  'split': 'test',\n",
       "  'dataset_name': 'parallel_data/hr-Trac',\n",
       "  'language': 'hr',\n",
       "  'uncertainty': 0.68818474,\n",
       "  'margin': 0.09954065},\n",
       " {'text': 'ovi bhagwa teroristi ne mogu probaviti svoju hranu bez provlačenja islama u svakom razgovoru koliko je meni jasno ti lažni nacionalisti moraju biti poslani na granice kao doličan odgovor Pakistanu i Kini.',\n",
       "  'label': 1,\n",
       "  'id': '1',\n",
       "  'split': 'test',\n",
       "  'dataset_name': 'parallel_data/hr-Trac',\n",
       "  'language': 'hr',\n",
       "  'uncertainty': 0.6875374,\n",
       "  'margin': 0.105823755},\n",
       " {'text': 'Kakvi su ovo mediji !! prvo pišu naslove kako su indijski vojnici ubijeni raketnim bacačima i sada o sakaćenju njihovih trupala .... to se može dogoditi samo ako Pak vojska pređe kontrolnu liniju .... plus ovo izgleda kao #KirurškiPrecizanNapad s dokazima o indijskim medijima',\n",
       "  'label': 0,\n",
       "  'id': '2',\n",
       "  'split': 'test',\n",
       "  'dataset_name': 'parallel_data/hr-Trac',\n",
       "  'language': 'hr',\n",
       "  'uncertainty': 0.6888468,\n",
       "  'margin': 0.09267393},\n",
       " {'text': 'Naknada Americi isplaćivat će se svaka 2 mjeseca: JBT',\n",
       "  'label': 0,\n",
       "  'id': '3',\n",
       "  'split': 'test',\n",
       "  'dataset_name': 'parallel_data/hr-Trac',\n",
       "  'language': 'hr',\n",
       "  'uncertainty': 0.68569565,\n",
       "  'margin': 0.12192619},\n",
       " {'text': 'Neinvazivni prenatalni test ispod 8550, ukazuje da možda dolazi pad ',\n",
       "  'label': 0,\n",
       "  'id': '4',\n",
       "  'split': 'test',\n",
       "  'dataset_name': 'parallel_data/hr-Trac',\n",
       "  'language': 'hr',\n",
       "  'uncertainty': 0.6890687,\n",
       "  'margin': 0.09025493},\n",
       " {'text': 'Apostol mira i majka svima koji društveno lišeni i nepoželjni.....',\n",
       "  'label': 0,\n",
       "  'id': '5',\n",
       "  'split': 'test',\n",
       "  'dataset_name': 'parallel_data/hr-Trac',\n",
       "  'language': 'hr',\n",
       "  'uncertainty': 0.6882038,\n",
       "  'margin': 0.099350244},\n",
       " {'text': 'Što mislite o financijskom sektoru prije povećanja kamatne stope',\n",
       "  'label': 0,\n",
       "  'id': '6',\n",
       "  'split': 'test',\n",
       "  'dataset_name': 'parallel_data/hr-Trac',\n",
       "  'language': 'hr',\n",
       "  'uncertainty': 0.6896813,\n",
       "  'margin': 0.083209306},\n",
       " {'text': 'Neki ljudi šalju druge ljude da s njihovim novcem stoje u redu za razmjenu novčanica i plaćaju im neki iznos zauzvrat.',\n",
       "  'label': 0,\n",
       "  'id': '7',\n",
       "  'split': 'test',\n",
       "  'dataset_name': 'parallel_data/hr-Trac',\n",
       "  'language': 'hr',\n",
       "  'uncertainty': 0.6876627,\n",
       "  'margin': 0.104637295},\n",
       " {'text': 'Gujaratski čelnici neće ništa pričati dok su ubijani vojnici javani, a nikada niti jedan gujarati nije bio u vojsci u posljednjih 70 godina? Hoće li čelnici BJP-a poslati svoje sinove da se pridruže vojsci?',\n",
       "  'label': 1,\n",
       "  'id': '8',\n",
       "  'split': 'test',\n",
       "  'dataset_name': 'parallel_data/hr-Trac',\n",
       "  'language': 'hr',\n",
       "  'uncertainty': 0.6879821,\n",
       "  'margin': 0.10155058},\n",
       " {'text': 'Poklon zakonskom nasljedniku ili dotičnoj osobi u krvnom srodstvu nije nezakonito, no preusmjeravanje sredstava s tvrtke na osobnu upotrebu je pak nezakonito',\n",
       "  'label': 0,\n",
       "  'id': '9',\n",
       "  'split': 'test',\n",
       "  'dataset_name': 'parallel_data/hr-Trac',\n",
       "  'language': 'hr',\n",
       "  'uncertainty': 0.68905765,\n",
       "  'margin': 0.090376884},\n",
       " {'text': 'Sada indijska vlada mora poduzeti snažne mjere protiv Prokletog Pakistana ....',\n",
       "  'label': 1,\n",
       "  'id': '10',\n",
       "  'split': 'test',\n",
       "  'dataset_name': 'parallel_data/hr-Trac',\n",
       "  'language': 'hr',\n",
       "  'uncertainty': 0.68810767,\n",
       "  'margin': 0.10030988},\n",
       " {'text': 'Umjesto kritiziranja ljubazno cijeni napore djece i pohvali ih frende !!',\n",
       "  'label': 0,\n",
       "  'id': '11',\n",
       "  'split': 'test',\n",
       "  'dataset_name': 'parallel_data/hr-Trac',\n",
       "  'language': 'hr',\n",
       "  'uncertainty': 0.68804914,\n",
       "  'margin': 0.1008898},\n",
       " {'text': 'Muhammed Imran jesi li ti vojni čelnik Pakistana? Što dovraga radiš s teroristima? #terordržavapak',\n",
       "  'label': 1,\n",
       "  'id': '12',\n",
       "  'split': 'test',\n",
       "  'dataset_name': 'parallel_data/hr-Trac',\n",
       "  'language': 'hr',\n",
       "  'uncertainty': 0.6899606,\n",
       "  'margin': 0.079790235},\n",
       " {'text': 'novoizabrani predsjednik Donald Trump je zlostavljač djece, rekao je prije mnogo godina Howardu Sternu da je bio hvatao vagine malih djevojčica, djevojčica koje su sudjelovale na njegovom natjecanju Ms. Teen America',\n",
       "  'label': 0,\n",
       "  'id': '13',\n",
       "  'split': 'test',\n",
       "  'dataset_name': 'parallel_data/hr-Trac',\n",
       "  'language': 'hr',\n",
       "  'uncertainty': 0.687955,\n",
       "  'margin': 0.101814955},\n",
       " {'text': 'Nema kvota nema rezervacija! Prvo bi UN trebao poboljšati status žena u SAD-u, a zatim razgovarati o Indiji. Tko ste dovraga vi da se miješate u indijanske poslove?',\n",
       "  'label': 1,\n",
       "  'id': '14',\n",
       "  'split': 'test',\n",
       "  'dataset_name': 'parallel_data/hr-Trac',\n",
       "  'language': 'hr',\n",
       "  'uncertainty': 0.6876737,\n",
       "  'margin': 0.1045323},\n",
       " {'text': 'Ministar bi također trebao dati mačeve mladoženjama koji će ih koristiti kad su njihove supruge u nezakonitim odnosima s drugima. Tako da to u budućem braku nije obostrani ugovor već obostrani rat.',\n",
       "  'label': 1,\n",
       "  'id': '15',\n",
       "  'split': 'test',\n",
       "  'dataset_name': 'parallel_data/hr-Trac',\n",
       "  'language': 'hr',\n",
       "  'uncertainty': 0.6874987,\n",
       "  'margin': 0.10618678},\n",
       " {'text': 'Donijet će dobre prinose jer je ovo blagdansko vrijeme i potražnja će se na odgovarajući način povećati. Drugo, dolar je također slab u usporedbi s rupijom :)',\n",
       "  'label': 0,\n",
       "  'id': '16',\n",
       "  'split': 'test',\n",
       "  'dataset_name': 'parallel_data/hr-Trac',\n",
       "  'language': 'hr',\n",
       "  'uncertainty': 0.68860775,\n",
       "  'margin': 0.09521076},\n",
       " {'text': 'Ona je zasigurno bez mozga ... dokazala je to već bezbroj puta ..',\n",
       "  'label': 1,\n",
       "  'id': '17',\n",
       "  'split': 'test',\n",
       "  'dataset_name': 'parallel_data/hr-Trac',\n",
       "  'language': 'hr',\n",
       "  'uncertainty': 0.6890835,\n",
       "  'margin': 0.09009072},\n",
       " {'text': 'Nema smisla raditi ovo FB javljanje bez Anuj. To ima smisla samo uz Anuj + Sonia. Niti jedna druga kombinacija.',\n",
       "  'label': 0,\n",
       "  'id': '18',\n",
       "  'split': 'test',\n",
       "  'dataset_name': 'parallel_data/hr-Trac',\n",
       "  'language': 'hr',\n",
       "  'uncertainty': 0.68748623,\n",
       "  'margin': 0.10630396},\n",
       " {'text': 'Hahaha to je istina, treba imati srca u poslu i da, istina je da većinom muškarci umiru od srčanog udara 👻',\n",
       "  'label': 0,\n",
       "  'id': '19',\n",
       "  'split': 'test',\n",
       "  'dataset_name': 'parallel_data/hr-Trac',\n",
       "  'language': 'hr',\n",
       "  'uncertainty': 0.68777514,\n",
       "  'margin': 0.103560954},\n",
       " {'text': 'Dakle, prljavi novac ostaje u cirkulaciji, to je samo neplanirana glupa odluka derišta',\n",
       "  'label': 1,\n",
       "  'id': '20',\n",
       "  'split': 'test',\n",
       "  'dataset_name': 'parallel_data/hr-Trac',\n",
       "  'language': 'hr',\n",
       "  'uncertainty': 0.6890166,\n",
       "  'margin': 0.09082869},\n",
       " {'text': 'Morate poduprijeti Modija ..! Kada je na položaju premijera ..! Sve prevare su se dogodile ...! Radiš poput robota ..!',\n",
       "  'label': 1,\n",
       "  'id': '21',\n",
       "  'split': 'test',\n",
       "  'dataset_name': 'parallel_data/hr-Trac',\n",
       "  'language': 'hr',\n",
       "  'uncertainty': 0.68867517,\n",
       "  'margin': 0.09450284},\n",
       " {'text': 'Modi je pokrao Majku Indiju i opljačkao ju. Može li ga netko ubio?',\n",
       "  'label': 1,\n",
       "  'id': '22',\n",
       "  'split': 'test',\n",
       "  'dataset_name': 'parallel_data/hr-Trac',\n",
       "  'language': 'hr',\n",
       "  'uncertainty': 0.6875205,\n",
       "  'margin': 0.105982155},\n",
       " {'text': 'Što je s novčanicama od 100 rupija koje su ljudi mogli nakupljati prije nego li su novčanice od 500 ili 1000 rupija tiskane ?? Isto tako što je s novcem na stranim računima u stranoj valuti koji su položili političari ?? Ovim će potezom sve velike zvijerke i dalje biti sigurne!',\n",
       "  'label': 0,\n",
       "  'id': '23',\n",
       "  'split': 'test',\n",
       "  'dataset_name': 'parallel_data/hr-Trac',\n",
       "  'language': 'hr',\n",
       "  'uncertainty': 0.68875897,\n",
       "  'margin': 0.09361416},\n",
       " {'text': 'Pošaljite Farukha Abdullaha (Namaharam i haramkhore) na Indo Pak granicu da se bori sa svojim pakistanskim zetovima. ',\n",
       "  'label': 1,\n",
       "  'id': '24',\n",
       "  'split': 'test',\n",
       "  'dataset_name': 'parallel_data/hr-Trac',\n",
       "  'language': 'hr',\n",
       "  'uncertainty': 0.68777645,\n",
       "  'margin': 0.103548646},\n",
       " {'text': 'Razmišljanje izvan okvira je zaštitni znak našeg premijera Modija. Ovaj korak će zasigurno pomoći našoj zemlji da kontrolira prljavi novac i korupciju ..',\n",
       "  'label': 0,\n",
       "  'id': '25',\n",
       "  'split': 'test',\n",
       "  'dataset_name': 'parallel_data/hr-Trac',\n",
       "  'language': 'hr',\n",
       "  'uncertainty': 0.68899596,\n",
       "  'margin': 0.09105453},\n",
       " {'text': 'Syed NADY Ako je krava za hranu kako se onda može koristiti i za mlijeko. Ili će živjeti da ti pruži mlijeko ili će umrijeti da ti pruži hranu. Mislim da ste lišeni mozga koji je zasjenjen ovim idiotskim hidayatom seksualno gladnog ludog čovjeka',\n",
       "  'label': 1,\n",
       "  'id': '26',\n",
       "  'split': 'test',\n",
       "  'dataset_name': 'parallel_data/hr-Trac',\n",
       "  'language': 'hr',\n",
       "  'uncertainty': 0.68808854,\n",
       "  'margin': 0.100500315},\n",
       " {'text': 'Imati ljude poput tebe u mom životu čini svu razliku ... habaybi ento ❤❤',\n",
       "  'label': 0,\n",
       "  'id': '27',\n",
       "  'split': 'test',\n",
       "  'dataset_name': 'parallel_data/hr-Trac',\n",
       "  'language': 'hr',\n",
       "  'uncertainty': 0.6872512,\n",
       "  'margin': 0.10848412},\n",
       " {'text': 'indijska vojska poput hidžre.neka sva indijska vojska ode kući i nosi narukvice.pakistanska vojska dolazi.deset indijaca kao jedan pakistanac.svi to znaju.alah s Pakistanom.a Krišna s Indijom ha, .. ha..ha',\n",
       "  'label': 1,\n",
       "  'id': '28',\n",
       "  'split': 'test',\n",
       "  'dataset_name': 'parallel_data/hr-Trac',\n",
       "  'language': 'hr',\n",
       "  'uncertainty': 0.6889843,\n",
       "  'margin': 0.09118262},\n",
       " {'text': 'Čovječe čak i sada postoji problem bankomata i dugi redovi u banci. Ako treba poduzeti takvu inicijativu, barem je najosnovniji posao trebao ojačati. Razlog iza ove priče je da banke u vladinom vlasništvu u najmanjoj mjeri surađuju čak i u ovoj situaciji. Protiv takvih zaposlenika treba poduzeti nešto. Ideja demonetizacije bila bi uspješna kad bi je svi zaposlenici banke ovaj trentak podržali  i pomogli ljudima umjesto da rade suprotno od onoga što im je rečeno. Timinaksh Sharma',\n",
       "  'label': 0,\n",
       "  'id': '29',\n",
       "  'split': 'test',\n",
       "  'dataset_name': 'parallel_data/hr-Trac',\n",
       "  'language': 'hr',\n",
       "  'uncertainty': 0.6883886,\n",
       "  'margin': 0.09747809},\n",
       " {'text': 'Što se dogodilo s indijskim ustavom? Zašto mu Vrhovni sud ne dopusti saslušanje koje je temeljno pravo svakog građanina? Nije li to zločin?',\n",
       "  'label': 1,\n",
       "  'id': '30',\n",
       "  'split': 'test',\n",
       "  'dataset_name': 'parallel_data/hr-Trac',\n",
       "  'language': 'hr',\n",
       "  'uncertainty': 0.68692887,\n",
       "  'margin': 0.111403435},\n",
       " {'text': 'vrijeme je da se ponovi još jedna 47-a :D kako bi Indijci opet slavili novi dan podjele kao dan neovisnosti :D',\n",
       "  'label': 1,\n",
       "  'id': '31',\n",
       "  'split': 'test',\n",
       "  'dataset_name': 'parallel_data/hr-Trac',\n",
       "  'language': 'hr',\n",
       "  'uncertainty': 0.6868484,\n",
       "  'margin': 0.11212072},\n",
       " {'text': 'Gle tko to priča, premijer koji nije nikad pričao u deset godina svog mandata, a nakon što sam ga čuo, hvala Bogu da nije pričao',\n",
       "  'label': 1,\n",
       "  'id': '32',\n",
       "  'split': 'test',\n",
       "  'dataset_name': 'parallel_data/hr-Trac',\n",
       "  'language': 'hr',\n",
       "  'uncertainty': 0.6888075,\n",
       "  'margin': 0.093096495},\n",
       " {'text': 'svim bhaktsima .. zašto Modi nije mogao čekati dok ne bude imao višak gotovine s IRB-a, a onda razviti ovaj plan? zašto tako hitno?',\n",
       "  'label': 1,\n",
       "  'id': '33',\n",
       "  'split': 'test',\n",
       "  'dataset_name': 'parallel_data/hr-Trac',\n",
       "  'language': 'hr',\n",
       "  'uncertainty': 0.6868021,\n",
       "  'margin': 0.11253142},\n",
       " {'text': 'Ima li kakvih vijesti iz Tata Motorsa, od kad se pametno oporavio od crnih dana?',\n",
       "  'label': 0,\n",
       "  'id': '34',\n",
       "  'split': 'test',\n",
       "  'dataset_name': 'parallel_data/hr-Trac',\n",
       "  'language': 'hr',\n",
       "  'uncertainty': 0.68712234,\n",
       "  'margin': 0.1096611},\n",
       " {'text': 'Najgori premijer Manmohan. Ne bi mu se uopće smjelo dopustiti da priča',\n",
       "  'label': 1,\n",
       "  'id': '35',\n",
       "  'split': 'test',\n",
       "  'dataset_name': 'parallel_data/hr-Trac',\n",
       "  'language': 'hr',\n",
       "  'uncertainty': 0.6872398,\n",
       "  'margin': 0.10858858},\n",
       " {'text': 'Je li itko svjestan onoga što se dogodilo s izradom pan kartica, aadhar kartice, putovnice i bankovnog računa za krave?  Čuo sam i da će krave dobiti subvenciju od vlade ako žele kupiti kuću ili poslati mlade na sveučilište',\n",
       "  'label': 1,\n",
       "  'id': '36',\n",
       "  'split': 'test',\n",
       "  'dataset_name': 'parallel_data/hr-Trac',\n",
       "  'language': 'hr',\n",
       "  'uncertainty': 0.6886859,\n",
       "  'margin': 0.09438896},\n",
       " {'text': 'Pričekajte dan .. bit će priopćenje za javnost .. i uobičajene panel diskusije u udarno vrijeme. Dobit ćete propisani odgovor.',\n",
       "  'label': 1,\n",
       "  'id': '37',\n",
       "  'split': 'test',\n",
       "  'dataset_name': 'parallel_data/hr-Trac',\n",
       "  'language': 'hr',\n",
       "  'uncertainty': 0.6892252,\n",
       "  'margin': 0.08850786},\n",
       " {'text': 'I još važnije, ovi momci su pretučeni pod sumnjom da su ukrali kravu. Ubijali biste ljude zbog pretpostavke, gdje je pravda ?? Gdje su moja ljudska prava ?? Dobrodošli u novu Indiju',\n",
       "  'label': 1,\n",
       "  'id': '38',\n",
       "  'split': 'test',\n",
       "  'dataset_name': 'parallel_data/hr-Trac',\n",
       "  'language': 'hr',\n",
       "  'uncertainty': 0.6863037,\n",
       "  'margin': 0.116858065},\n",
       " {'text': 'Da ne zaboravimo 1991., kada je Indija bila na ivici proglašenja stečaja. Devizne rezerve Indije bile su jedva milijardu dolara, a sada su napuhane na145 $ milijardi.',\n",
       "  'label': 0,\n",
       "  'id': '39',\n",
       "  'split': 'test',\n",
       "  'dataset_name': 'parallel_data/hr-Trac',\n",
       "  'language': 'hr',\n",
       "  'uncertainty': 0.68710434,\n",
       "  'margin': 0.109824},\n",
       " {'text': 'nemamo povijest kao gospodin Modi ubojica tisuća muslimana u Gujratu ...',\n",
       "  'label': 1,\n",
       "  'id': '40',\n",
       "  'split': 'test',\n",
       "  'dataset_name': 'parallel_data/hr-Trac',\n",
       "  'language': 'hr',\n",
       "  'uncertainty': 0.687015,\n",
       "  'margin': 0.11063111},\n",
       " {'text': 'Kako je Vrhovni sud zaboravio na osnovna načela pravne prakse da osoba ne može biti sudac svog slučaja. Tko zaustavlja istragu protiv 7 sudaca Vrhovnog suda zbog navodnih optužbi za korupciju kao takve. Daliti se mogu rođenjem smatrati nepotpunim, ali svakako nisu ludi kao takvi.',\n",
       "  'label': 1,\n",
       "  'id': '41',\n",
       "  'split': 'test',\n",
       "  'dataset_name': 'parallel_data/hr-Trac',\n",
       "  'language': 'hr',\n",
       "  'uncertainty': 0.68722045,\n",
       "  'margin': 0.10876578},\n",
       " {'text': 'Zašto Sharad Pawar. Za Indiju nije učinio ništa osim pljačke države i siromašnih ljudi',\n",
       "  'label': 1,\n",
       "  'id': '42',\n",
       "  'split': 'test',\n",
       "  'dataset_name': 'parallel_data/hr-Trac',\n",
       "  'language': 'hr',\n",
       "  'uncertainty': 0.6874589,\n",
       "  'margin': 0.106559604},\n",
       " {'text': 'Kada banke za obnovu i razvitak objave kvartalne gubitke i zbog de-demonetizacije, to je također loše utjecalo na cirkulaciju novca, što je izravno utjecalo na poslovanje običnih ljudi. Ne znam kako su donijeli ovu odluku u vezi s nepromjenjivim kamatama.',\n",
       "  'label': 0,\n",
       "  'id': '43',\n",
       "  'split': 'test',\n",
       "  'dataset_name': 'parallel_data/hr-Trac',\n",
       "  'language': 'hr',\n",
       "  'uncertainty': 0.6887846,\n",
       "  'margin': 0.09334028},\n",
       " {'text': 'Mi indijski građani, posebno liberalni, ne bhaktsi, ubit ćemo Modija ne mačem, pištoljima, puškom ili bombom, već našim riječima. Morat ćemo ga otvoreno ispitivati. Ali nikada ne dozvoljava nikome da ga ispituje pred javnost. Prošle predizborne kampanje, jedna hinduistička gospođa podigla je glas pred Modijem, kad su je na silu oduzeli čuvari. Takav je kukavica Modi! Darpok premijer!',\n",
       "  'label': 1,\n",
       "  'id': '44',\n",
       "  'split': 'test',\n",
       "  'dataset_name': 'parallel_data/hr-Trac',\n",
       "  'language': 'hr',\n",
       "  'uncertainty': 0.6890764,\n",
       "  'margin': 0.09016943},\n",
       " {'text': 'Tvrtka vraća više novca investitorima i investitori više ulažu',\n",
       "  'label': 0,\n",
       "  'id': '45',\n",
       "  'split': 'test',\n",
       "  'dataset_name': 'parallel_data/hr-Trac',\n",
       "  'language': 'hr',\n",
       "  'uncertainty': 0.6886706,\n",
       "  'margin': 0.094551},\n",
       " {'text': 'Ljudi on je poznati ekonomist koji je donio dobro u ranim 90-im. Molim vas prestanite slijepo pratiti premijera, ja također podržavam Modija, ali problemi s kojima se bavi su stvarni.',\n",
       "  'label': 0,\n",
       "  'id': '46',\n",
       "  'split': 'test',\n",
       "  'dataset_name': 'parallel_data/hr-Trac',\n",
       "  'language': 'hr',\n",
       "  'uncertainty': 0.68758255,\n",
       "  'margin': 0.105397284},\n",
       " {'text': 'Osim BJP-ovih fondova, sve je online. samo će BJP zadržati prljavi novac.',\n",
       "  'label': 1,\n",
       "  'id': '47',\n",
       "  'split': 'test',\n",
       "  'dataset_name': 'parallel_data/hr-Trac',\n",
       "  'language': 'hr',\n",
       "  'uncertainty': 0.68821526,\n",
       "  'margin': 0.099235415},\n",
       " {'text': 'Da @ guarav možda si to učinio u nazočnosti tisuća vojnnika moj bože ti si tako hrabaaaaar 😂 😂😂😂😂',\n",
       "  'label': 1,\n",
       "  'id': '48',\n",
       "  'split': 'test',\n",
       "  'dataset_name': 'parallel_data/hr-Trac',\n",
       "  'language': 'hr',\n",
       "  'uncertainty': 0.6885097,\n",
       "  'margin': 0.096232176},\n",
       " {'text': 'Gdje je kukavička policija. Nose li svi narukvice i spavaju?',\n",
       "  'label': 1,\n",
       "  'id': '49',\n",
       "  'split': 'test',\n",
       "  'dataset_name': 'parallel_data/hr-Trac',\n",
       "  'language': 'hr',\n",
       "  'uncertainty': 0.68865085,\n",
       "  'margin': 0.09475887},\n",
       " {'text': 'Nisam čuo da ovaj tip govori dok je bio premijer dva mandata... sad se odjednom javlja... Je li to učinak Modija... lol...',\n",
       "  'label': 1,\n",
       "  'id': '50',\n",
       "  'split': 'test',\n",
       "  'dataset_name': 'parallel_data/hr-Trac',\n",
       "  'language': 'hr',\n",
       "  'uncertainty': 0.687884,\n",
       "  'margin': 0.10250795},\n",
       " {'text': 'Više kaste siluju dalitske žene  i prisiljavaju ih da piju ljudski urin',\n",
       "  'label': 0,\n",
       "  'id': '51',\n",
       "  'split': 'test',\n",
       "  'dataset_name': 'parallel_data/hr-Trac',\n",
       "  'language': 'hr',\n",
       "  'uncertainty': 0.68870944,\n",
       "  'margin': 0.09414044},\n",
       " {'text': 'Manish, opusti se i uživaj u nedjelji. Ništa nećeš dobiti svađajući se o političkim pitanjima svaki dan. Samo provedi nedjelju u miru.',\n",
       "  'label': 0,\n",
       "  'id': '52',\n",
       "  'split': 'test',\n",
       "  'dataset_name': 'parallel_data/hr-Trac',\n",
       "  'language': 'hr',\n",
       "  'uncertainty': 0.6886773,\n",
       "  'margin': 0.09447971},\n",
       " {'text': 'Vlada je počela krasti novac od običnog čovjeka. Dobro pripremljena pravila za običnog čovjeka. Svi političari i političke stranke izuzeti su od toga.',\n",
       "  'label': 0,\n",
       "  'id': '53',\n",
       "  'split': 'test',\n",
       "  'dataset_name': 'parallel_data/hr-Trac',\n",
       "  'language': 'hr',\n",
       "  'uncertainty': 0.68809724,\n",
       "  'margin': 0.10041335},\n",
       " {'text': 'HAJDE djeco nemojte vikati. Mi smo svi sretni s odlukom... Ostali neka se ubiju.',\n",
       "  'label': 1,\n",
       "  'id': '54',\n",
       "  'split': 'test',\n",
       "  'dataset_name': 'parallel_data/hr-Trac',\n",
       "  'language': 'hr',\n",
       "  'uncertainty': 0.685729,\n",
       "  'margin': 0.12165418},\n",
       " {'text': 'nemojte se pokušavati zamarati jer trenutačna vlada kaže da se zemlja mijenja. Iako gubimo naše hrabre brže i nasilnije nego ikad prije, ali više volimo prazne riječi',\n",
       "  'label': 1,\n",
       "  'id': '55',\n",
       "  'split': 'test',\n",
       "  'dataset_name': 'parallel_data/hr-Trac',\n",
       "  'language': 'hr',\n",
       "  'uncertainty': 0.68762684,\n",
       "  'margin': 0.104977846},\n",
       " {'text': 'Beznadan čovjek. 10 je godina uništavao našu zemlju i sada otvara usta isto tako iz lošeg razloga.',\n",
       "  'label': 1,\n",
       "  'id': '56',\n",
       "  'split': 'test',\n",
       "  'dataset_name': 'parallel_data/hr-Trac',\n",
       "  'language': 'hr',\n",
       "  'uncertainty': 0.6872488,\n",
       "  'margin': 0.108505934},\n",
       " {'text': 'Dostojanstvo je bilo na drugoj strani. Ne za uznemiravanje. Vidjet ćemo kakvu će predstavu oporba odigrati kad vlada odgovori.',\n",
       "  'label': 0,\n",
       "  'id': '57',\n",
       "  'split': 'test',\n",
       "  'dataset_name': 'parallel_data/hr-Trac',\n",
       "  'language': 'hr',\n",
       "  'uncertainty': 0.6880933,\n",
       "  'margin': 0.10045257},\n",
       " {'text': 'Nitin Sharma .... udovoljavanje samo u očima brahmana. Znaš što udovoljavanje znači, biranje fašista umjesto zaslužnog kandidata samo da bi se udovoljilo višoj kasti. Davanje čistog lista svim počiniteljima uključenim u ubijanje manjina da bi se udovoljilo brahmanskoj fašističkoj agendi. Kravlji osvetnici samo udovoljavaju brahmanima i stavljaju mišljenje dalita sa strane. To se zove udovoljavanje. Sada mi reci o kojem ti udovoljavanju govoriš.',\n",
       "  'label': 1,\n",
       "  'id': '58',\n",
       "  'split': 'test',\n",
       "  'dataset_name': 'parallel_data/hr-Trac',\n",
       "  'language': 'hr',\n",
       "  'uncertainty': 0.68872094,\n",
       "  'margin': 0.09401801},\n",
       " {'text': 'Leonidas je poslan u divljinu ... da nauči kako preživjeti .....',\n",
       "  'label': 0,\n",
       "  'id': '59',\n",
       "  'split': 'test',\n",
       "  'dataset_name': 'parallel_data/hr-Trac',\n",
       "  'language': 'hr',\n",
       "  'uncertainty': 0.6884682,\n",
       "  'margin': 0.09666136},\n",
       " {'text': 'Oni osakaćuju dijelove tijela naših vojnika, a vi kažete da pazimo na to u svoju korist. Sram vas bilo, vi ste usrani medijski kanal',\n",
       "  'label': 1,\n",
       "  'id': '60',\n",
       "  'split': 'test',\n",
       "  'dataset_name': 'parallel_data/hr-Trac',\n",
       "  'language': 'hr',\n",
       "  'uncertainty': 0.68706036,\n",
       "  'margin': 0.11022219},\n",
       " {'text': 'Što je s time što ljudi nisu primili Adhara na temelju nestalih dokumenata? Gdje su svi dokumenti nestali?',\n",
       "  'label': 0,\n",
       "  'id': '61',\n",
       "  'split': 'test',\n",
       "  'dataset_name': 'parallel_data/hr-Trac',\n",
       "  'language': 'hr',\n",
       "  'uncertainty': 0.68800104,\n",
       "  'margin': 0.10136402},\n",
       " {'text': '\"Maun Mohan Singh\" govori :). Kapetan korumpiranog kongresa, tihi promatrač velikog indijskog plijena govori :) rijedak događaj, čini se da je i on imao bolove u želucu.',\n",
       "  'label': 1,\n",
       "  'id': '62',\n",
       "  'split': 'test',\n",
       "  'dataset_name': 'parallel_data/hr-Trac',\n",
       "  'language': 'hr',\n",
       "  'uncertainty': 0.6887789,\n",
       "  'margin': 0.09340194},\n",
       " {'text': 'Je li primjer otkrio brojke za trošak ove luđačke vježbe?? Priznavanje ljudi koji su izgubili svoje živote pokušavajući dobiti svoj novac od banaka? Ima li službenika iz RBI-a koji daju kredibilitet premijerovim riječima?',\n",
       "  'label': 0,\n",
       "  'id': '63',\n",
       "  'split': 'test',\n",
       "  'dataset_name': 'parallel_data/hr-Trac',\n",
       "  'language': 'hr',\n",
       "  'uncertainty': 0.6883756,\n",
       "  'margin': 0.09761131},\n",
       " {'text': 'Modi je najveći šaljivdžija na svijetu, ne samo u Indiji',\n",
       "  'label': 1,\n",
       "  'id': '64',\n",
       "  'split': 'test',\n",
       "  'dataset_name': 'parallel_data/hr-Trac',\n",
       "  'language': 'hr',\n",
       "  'uncertainty': 0.68696535,\n",
       "  'margin': 0.11107743},\n",
       " {'text': 'Za takve je incidente bila odgovorna loša politika kongresne vlade kada su ti nacionalisti bili u oporbi i sada',\n",
       "  'label': 0,\n",
       "  'id': '65',\n",
       "  'split': 'test',\n",
       "  'dataset_name': 'parallel_data/hr-Trac',\n",
       "  'language': 'hr',\n",
       "  'uncertainty': 0.68861175,\n",
       "  'margin': 0.09516913},\n",
       " {'text': 'Indija ima lažnu demokraciju. Ako govorimo o demokraciji možemo zaključiti da njihova demokracija znači \"kupovanje patanjali proizvoda, zabrana govedine, silovanja, ubijanje u Kašmiru, krađa itd.\"',\n",
       "  'label': 1,\n",
       "  'id': '66',\n",
       "  'split': 'test',\n",
       "  'dataset_name': 'parallel_data/hr-Trac',\n",
       "  'language': 'hr',\n",
       "  'uncertainty': 0.6878866,\n",
       "  'margin': 0.10248247},\n",
       " {'text': 'Nema smisla da govori sada, nakon što je poticao teror za vrijeme svoje vladavine, bio je marioneta',\n",
       "  'label': 1,\n",
       "  'id': '67',\n",
       "  'split': 'test',\n",
       "  'dataset_name': 'parallel_data/hr-Trac',\n",
       "  'language': 'hr',\n",
       "  'uncertainty': 0.68747747,\n",
       "  'margin': 0.106386214},\n",
       " {'text': 'Što je Pakistan učinio da bi se dokazao kao vrijedan NSG-a? Neka da članstvo Sjevernoj Koreji kad već to radi. Kakav smiješan stav!',\n",
       "  'label': 1,\n",
       "  'id': '68',\n",
       "  'split': 'test',\n",
       "  'dataset_name': 'parallel_data/hr-Trac',\n",
       "  'language': 'hr',\n",
       "  'uncertainty': 0.68664026,\n",
       "  'margin': 0.11395407},\n",
       " {'text': 'Gen. RAWAT krivio je PAKISTANCE da su prešli LOC i SILOVALI moju ženu i kćer i onda sigurno pobjegli u Pakistan. Sada ti Pakistanci prijete da će SILOVATI i mene...',\n",
       "  'label': 1,\n",
       "  'id': '69',\n",
       "  'split': 'test',\n",
       "  'dataset_name': 'parallel_data/hr-Trac',\n",
       "  'language': 'hr',\n",
       "  'uncertainty': 0.68707424,\n",
       "  'margin': 0.11009672},\n",
       " {'text': 'Skidam kapu tom čovjeku. Postao je premijer, služio je 10 godina da bi pripremio takav govor, obožavam njegov duh',\n",
       "  'label': 1,\n",
       "  'id': '70',\n",
       "  'split': 'test',\n",
       "  'dataset_name': 'parallel_data/hr-Trac',\n",
       "  'language': 'hr',\n",
       "  'uncertainty': 0.6877442,\n",
       "  'margin': 0.103857756},\n",
       " {'text': 'Da, slažem se da moramo imati plodonosan razgovor o stvaranju Kurdistana isto',\n",
       "  'label': 0,\n",
       "  'id': '71',\n",
       "  'split': 'test',\n",
       "  'dataset_name': 'parallel_data/hr-Trac',\n",
       "  'language': 'hr',\n",
       "  'uncertainty': 0.6876972,\n",
       "  'margin': 0.10430813},\n",
       " {'text': 'Jadan Manmohansinghji; vjerojatno je mislio da su pitanja o kojima se raspravlja bila 2G i prevare s ugljenom',\n",
       "  'label': 1,\n",
       "  'id': '72',\n",
       "  'split': 'test',\n",
       "  'dataset_name': 'parallel_data/hr-Trac',\n",
       "  'language': 'hr',\n",
       "  'uncertainty': 0.687865,\n",
       "  'margin': 0.10269213},\n",
       " {'text': 'Nikad nije otvarao osta kad je bio premijer... Sada govori... Bolje mu je da začepi gubicu prije nego što ga Indijci zauvijek ušutkaju... Rob Sonie',\n",
       "  'label': 1,\n",
       "  'id': '73',\n",
       "  'split': 'test',\n",
       "  'dataset_name': 'parallel_data/hr-Trac',\n",
       "  'language': 'hr',\n",
       "  'uncertainty': 0.68792623,\n",
       "  'margin': 0.10209656},\n",
       " {'text': 'Pakistan je u osnovi država pod vojnom vladavinom i lažnom demokracijom da bi se zavarao razvijeni/moćan svijet i dobilo oružje?? Zaista propao narod??',\n",
       "  'label': 0,\n",
       "  'id': '74',\n",
       "  'split': 'test',\n",
       "  'dataset_name': 'parallel_data/hr-Trac',\n",
       "  'language': 'hr',\n",
       "  'uncertainty': 0.68922704,\n",
       "  'margin': 0.088487566},\n",
       " {'text': 'Što god bilo... Način na koji se Manmohan Singh obraćao s dostojanstvom i poštovanjem predsjedavajućem i premijeru... Tako se dom treba voditi... Ne određena stranka... Ili hitno obraćanje kao što trenutačni predsjedavajući radi... Dom se treba voditi s poštovanjem',\n",
       "  'label': 0,\n",
       "  'id': '75',\n",
       "  'split': 'test',\n",
       "  'dataset_name': 'parallel_data/hr-Trac',\n",
       "  'language': 'hr',\n",
       "  'uncertainty': 0.6881441,\n",
       "  'margin': 0.099947184},\n",
       " {'text': 'Muhamed Allaudin. Digitalizirajte svoj mozak i osvojite nagrade.',\n",
       "  'label': 1,\n",
       "  'id': '76',\n",
       "  'split': 'test',\n",
       "  'dataset_name': 'parallel_data/hr-Trac',\n",
       "  'language': 'hr',\n",
       "  'uncertainty': 0.68727016,\n",
       "  'margin': 0.10830957},\n",
       " {'text': 'Očito mu ide sjajno pod vodstvom Nare Chandrababua Naidua!!!',\n",
       "  'label': 0,\n",
       "  'id': '77',\n",
       "  'split': 'test',\n",
       "  'dataset_name': 'parallel_data/hr-Trac',\n",
       "  'language': 'hr',\n",
       "  'uncertainty': 0.6883627,\n",
       "  'margin': 0.097742885},\n",
       " {'text': 'Nadajmo se da je ovaj put isto otišao u mirovinu od odlaženja u mirovinu...',\n",
       "  'label': 0,\n",
       "  'id': '78',\n",
       "  'split': 'test',\n",
       "  'dataset_name': 'parallel_data/hr-Trac',\n",
       "  'language': 'hr',\n",
       "  'uncertainty': 0.688686,\n",
       "  'margin': 0.09438726},\n",
       " {'text': 'Indijska vojska koristi ljude kao ljudske štitove. Srami se, Indijska vojsko.',\n",
       "  'label': 1,\n",
       "  'id': '79',\n",
       "  'split': 'test',\n",
       "  'dataset_name': 'parallel_data/hr-Trac',\n",
       "  'language': 'hr',\n",
       "  'uncertainty': 0.68815386,\n",
       "  'margin': 0.09984934},\n",
       " {'text': 'svi podržavaju Indijce... Jai Hind... Jai Bhart... neki idiotski muslimani komentiraju... Ne razumijem zašto se vi ljudi zamarate... Samo radite svoj posao i onda komentirajte... Jai Ho Modi',\n",
       "  'label': 1,\n",
       "  'id': '80',\n",
       "  'split': 'test',\n",
       "  'dataset_name': 'parallel_data/hr-Trac',\n",
       "  'language': 'hr',\n",
       "  'uncertainty': 0.68785775,\n",
       "  'margin': 0.10276234},\n",
       " {'text': 'Najbeskorisniji premijer kojeg je Indija ikad vidjela, mogao je učiniti divne stvari za zemlju. Ovaj je mandat tako loše iskorišten.',\n",
       "  'label': 1,\n",
       "  'id': '81',\n",
       "  'split': 'test',\n",
       "  'dataset_name': 'parallel_data/hr-Trac',\n",
       "  'language': 'hr',\n",
       "  'uncertainty': 0.68786484,\n",
       "  'margin': 0.102693856},\n",
       " {'text': 'Sada želite dijalog o Kašmiru. A što je s obratnim dijalogom o kurdistanskim, armenijskim i grčkim genocidima.',\n",
       "  'label': 1,\n",
       "  'id': '82',\n",
       "  'split': 'test',\n",
       "  'dataset_name': 'parallel_data/hr-Trac',\n",
       "  'language': 'hr',\n",
       "  'uncertainty': 0.68507797,\n",
       "  'margin': 0.1268659},\n",
       " {'text': 'Ja sam čist, bez novca jer su transakcije preko debitnih kartica. Ja sam sretan.',\n",
       "  'label': 0,\n",
       "  'id': '83',\n",
       "  'split': 'test',\n",
       "  'dataset_name': 'parallel_data/hr-Trac',\n",
       "  'language': 'hr',\n",
       "  'uncertainty': 0.68762887,\n",
       "  'margin': 0.10495821},\n",
       " {'text': 'Salman Ahmed misli da je Indija stvorila još jednog međunarodnog prosca zajedno s Pakistancima za Kašmir. Lol osjećam se ponosno nakon čitanja tvoje izjave',\n",
       "  'label': 1,\n",
       "  'id': '84',\n",
       "  'split': 'test',\n",
       "  'dataset_name': 'parallel_data/hr-Trac',\n",
       "  'language': 'hr',\n",
       "  'uncertainty': 0.68672854,\n",
       "  'margin': 0.11318037},\n",
       " {'text': 'Ne... Ona je lezba!! Lovci na vještice trebaju nam da je ubijemo',\n",
       "  'label': 1,\n",
       "  'id': '85',\n",
       "  'split': 'test',\n",
       "  'dataset_name': 'parallel_data/hr-Trac',\n",
       "  'language': 'hr',\n",
       "  'uncertainty': 0.68741965,\n",
       "  'margin': 0.106925845},\n",
       " {'text': 'Izgleda kao da ga je jučer Sonia programirala da govori tako',\n",
       "  'label': 1,\n",
       "  'id': '86',\n",
       "  'split': 'test',\n",
       "  'dataset_name': 'parallel_data/hr-Trac',\n",
       "  'language': 'hr',\n",
       "  'uncertainty': 0.68868077,\n",
       "  'margin': 0.09444341},\n",
       " {'text': 'Hoće li jio groznica štiti pouzdanost dugo? Druge telekompanije će je sigurno ubrzo sustići?',\n",
       "  'label': 0,\n",
       "  'id': '87',\n",
       "  'split': 'test',\n",
       "  'dataset_name': 'parallel_data/hr-Trac',\n",
       "  'language': 'hr',\n",
       "  'uncertainty': 0.6884965,\n",
       "  'margin': 0.09636882},\n",
       " {'text': 'Kome prokleto govoriš ovako o našem poštovanom vođi. Ako si pristaša ili član molim te gubi se odavde i ne pokazuj više svoju prokletu crnu facu ovdje.',\n",
       "  'label': 1,\n",
       "  'id': '88',\n",
       "  'split': 'test',\n",
       "  'dataset_name': 'parallel_data/hr-Trac',\n",
       "  'language': 'hr',\n",
       "  'uncertainty': 0.688388,\n",
       "  'margin': 0.09748468},\n",
       " {'text': 'Naresh ji. .... Što si to  učinio svojoj izbornoj jedinici. ..dok govoriš da predstavljaš građane',\n",
       "  'label': 0,\n",
       "  'id': '89',\n",
       "  'split': 'test',\n",
       "  'dataset_name': 'parallel_data/hr-Trac',\n",
       "  'language': 'hr',\n",
       "  'uncertainty': 0.68937325,\n",
       "  'margin': 0.08682418},\n",
       " {'text': 'Islam nije religija, a Allah je velika pizda Lajkaj ako se slažeš',\n",
       "  'label': 1,\n",
       "  'id': '90',\n",
       "  'split': 'test',\n",
       "  'dataset_name': 'parallel_data/hr-Trac',\n",
       "  'language': 'hr',\n",
       "  'uncertainty': 0.68800455,\n",
       "  'margin': 0.10132906},\n",
       " {'text': 'Manmohanov govor činio se kao da ga je netko prisilio da govori tako.',\n",
       "  'label': 1,\n",
       "  'id': '91',\n",
       "  'split': 'test',\n",
       "  'dataset_name': 'parallel_data/hr-Trac',\n",
       "  'language': 'hr',\n",
       "  'uncertainty': 0.6878984,\n",
       "  'margin': 0.10236722},\n",
       " {'text': 'Neka Kašmirci odluče što žele glasovanjem',\n",
       "  'label': 0,\n",
       "  'id': '92',\n",
       "  'split': 'test',\n",
       "  'dataset_name': 'parallel_data/hr-Trac',\n",
       "  'language': 'hr',\n",
       "  'uncertainty': 0.68668807,\n",
       "  'margin': 0.11353549},\n",
       " {'text': 'MM je održao govor, sigurno je poslušao nečiji nalog, kao i uvijek ..',\n",
       "  'label': 1,\n",
       "  'id': '93',\n",
       "  'split': 'test',\n",
       "  'dataset_name': 'parallel_data/hr-Trac',\n",
       "  'language': 'hr',\n",
       "  'uncertainty': 0.68846595,\n",
       "  'margin': 0.09668407},\n",
       " {'text': 'Jedna minuta šutnje za sve one koji pišu uvredljive komentare o MMS-u. Da taj čovjek nije otvorio gospodarstvo 1990. svi biste živjeli u jebenoj socijalističkoj državi.',\n",
       "  'label': 1,\n",
       "  'id': '94',\n",
       "  'split': 'test',\n",
       "  'dataset_name': 'parallel_data/hr-Trac',\n",
       "  'language': 'hr',\n",
       "  'uncertainty': 0.6883948,\n",
       "  'margin': 0.097415686},\n",
       " {'text': 'Kako mogu povećati brzinu snimke!! MMS je kao usporeni film',\n",
       "  'label': 1,\n",
       "  'id': '95',\n",
       "  'split': 'test',\n",
       "  'dataset_name': 'parallel_data/hr-Trac',\n",
       "  'language': 'hr',\n",
       "  'uncertainty': 0.6867504,\n",
       "  'margin': 0.11298761},\n",
       " {'text': 'Reci mi broj država koje su prokleti islamski narodi okupirali',\n",
       "  'label': 1,\n",
       "  'id': '96',\n",
       "  'split': 'test',\n",
       "  'dataset_name': 'parallel_data/hr-Trac',\n",
       "  'language': 'hr',\n",
       "  'uncertainty': 0.68820876,\n",
       "  'margin': 0.09930065},\n",
       " {'text': 'S jedne strane, ti isti ministri kažu \"nikakva vrsta nasilja ne može se opravdati, a s druge strane, isti ministar daje oružje za počinjenje nasilja. To je protuustavno, nehumano i isto tako nezakonito.',\n",
       "  'label': 1,\n",
       "  'id': '97',\n",
       "  'split': 'test',\n",
       "  'dataset_name': 'parallel_data/hr-Trac',\n",
       "  'language': 'hr',\n",
       "  'uncertainty': 0.6882022,\n",
       "  'margin': 0.09936622},\n",
       " {'text': \"Koji bi trebao biti pogled, Anuj, na izostavljeni farmaceutski sektor... Dionice poput Divi's, Aurobindo, Sun, Glenmark, Cadilla\",\n",
       "  'label': 0,\n",
       "  'id': '98',\n",
       "  'split': 'test',\n",
       "  'dataset_name': 'parallel_data/hr-Trac',\n",
       "  'language': 'hr',\n",
       "  'uncertainty': 0.6869952,\n",
       "  'margin': 0.110809565},\n",
       " {'text': 'hvala gospodine predsjedniče ali sada tražimo cijelu Indiju',\n",
       "  'label': 0,\n",
       "  'id': '99',\n",
       "  'split': 'test',\n",
       "  'dataset_name': 'parallel_data/hr-Trac',\n",
       "  'language': 'hr',\n",
       "  'uncertainty': 0.6882893,\n",
       "  'margin': 0.09848872},\n",
       " ...]"
      ]
     },
     "execution_count": 30,
     "metadata": {},
     "output_type": "execute_result"
    }
   ],
   "execution_count": 30
  },
  {
   "metadata": {
    "ExecuteTime": {
     "end_time": "2025-02-14T00:40:35.920154Z",
     "start_time": "2025-02-14T00:40:35.749684Z"
    }
   },
   "cell_type": "code",
   "source": "metadatas",
   "id": "948789c33eb08d11",
   "outputs": [
    {
     "ename": "NameError",
     "evalue": "name 'metadatas' is not defined",
     "output_type": "error",
     "traceback": [
      "\u001B[0;31m---------------------------------------------------------------------------\u001B[0m",
      "\u001B[0;31mNameError\u001B[0m                                 Traceback (most recent call last)",
      "Cell \u001B[0;32mIn[1], line 1\u001B[0m\n\u001B[0;32m----> 1\u001B[0m \u001B[43mmetadatas\u001B[49m\n",
      "\u001B[0;31mNameError\u001B[0m: name 'metadatas' is not defined"
     ]
    }
   ],
   "execution_count": 1
  }
 ],
 "metadata": {
  "kernelspec": {
   "display_name": "Python 3 (ipykernel)",
   "language": "python",
   "name": "python3"
  },
  "language_info": {
   "codemirror_mode": {
    "name": "ipython",
    "version": 3
   },
   "file_extension": ".py",
   "mimetype": "text/x-python",
   "name": "python",
   "nbconvert_exporter": "python",
   "pygments_lexer": "ipython3",
   "version": "3.12.8"
  }
 },
 "nbformat": 4,
 "nbformat_minor": 5
}
