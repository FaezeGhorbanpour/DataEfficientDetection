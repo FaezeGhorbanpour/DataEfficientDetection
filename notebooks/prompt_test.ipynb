{
 "cells": [
  {
   "cell_type": "code",
   "id": "initial_id",
   "metadata": {
    "collapsed": true,
    "ExecuteTime": {
     "end_time": "2024-12-29T21:48:35.696128Z",
     "start_time": "2024-12-29T21:48:35.688240Z"
    }
   },
   "source": [
    "import os\n",
    "os.environ['TRANSFORMERS_CACHE'] = '/mounts/data/proj/faeze/.cache/hf/'\n",
    "os.environ['HF_HOME'] = '/mounts/data/proj/faeze/.cache/hf/'\n",
    "os.environ['HF_DATASETS_CACHE'] = '/mounts/data/proj/faeze/.cache/hf/'\n",
    "os.environ['TORCH_HUB'] = '/mounts/data/proj/faeze/.cache/torch/'\n",
    "os.environ['TORCH_HOME'] = '/mounts/data/proj/faeze/.cache/torch/'\n",
    "os.environ[\"WANDB_DIR\"] = '/mounts/data/proj/faeze/.cache/wandb/'"
   ],
   "outputs": [],
   "execution_count": 1
  },
  {
   "metadata": {
    "ExecuteTime": {
     "end_time": "2024-12-29T21:48:44.204418Z",
     "start_time": "2024-12-29T21:48:35.766312Z"
    }
   },
   "cell_type": "code",
   "source": [
    "from data_provider import DataProvider\n",
    "from prompter import Prompter"
   ],
   "id": "57397a4da44d425f",
   "outputs": [
    {
     "name": "stderr",
     "output_type": "stream",
     "text": [
      "/mounts/Users/cisintern/faeze/.local/lib/python3.10/site-packages/transformers/utils/hub.py:127: FutureWarning: Using `TRANSFORMERS_CACHE` is deprecated and will be removed in v5 of Transformers. Use `HF_HOME` instead.\n",
      "  warnings.warn(\n"
     ]
    }
   ],
   "execution_count": 2
  },
  {
   "metadata": {
    "ExecuteTime": {
     "end_time": "2024-12-29T21:48:44.412721Z",
     "start_time": "2024-12-29T21:48:44.409132Z"
    }
   },
   "cell_type": "code",
   "source": "data_provider_ = DataProvider()",
   "id": "ebe4bb3faa90a77c",
   "outputs": [],
   "execution_count": 3
  },
  {
   "metadata": {
    "ExecuteTime": {
     "end_time": "2024-12-29T21:48:47.519744Z",
     "start_time": "2024-12-29T21:48:47.507135Z"
    }
   },
   "cell_type": "code",
   "source": [
    "names = ['bas19_es', 'dyn21_en', 'for19_pt', 'fou18_en', 'has21_hi', 'ken20_en',\n",
    "                       'ous19_ar', 'ous19_fr', 'san20_it',]\n",
    "\n",
    "# datas = [f'baseline_data/{i}' for i in names]\n",
    "languages = [name.split('_')[1] for name in names]\n",
    "languages"
   ],
   "id": "3967bb6bf1dc973c",
   "outputs": [
    {
     "data": {
      "text/plain": [
       "['es', 'en', 'pt', 'en', 'hi', 'en', 'ar', 'fr', 'it']"
      ]
     },
     "execution_count": 4,
     "metadata": {},
     "output_type": "execute_result"
    }
   ],
   "execution_count": 4
  },
  {
   "metadata": {
    "ExecuteTime": {
     "end_time": "2024-12-29T21:50:04.383082Z",
     "start_time": "2024-12-29T21:50:02.903375Z"
    }
   },
   "cell_type": "code",
   "source": "datasets = data_provider_.load_datasets(names, languages)",
   "id": "747730aa8c00e4b7",
   "outputs": [],
   "execution_count": 7
  },
  {
   "metadata": {
    "ExecuteTime": {
     "end_time": "2024-12-29T21:50:20.977889Z",
     "start_time": "2024-12-29T21:50:20.969439Z"
    }
   },
   "cell_type": "code",
   "source": "datasets",
   "id": "5042c769cd19cad6",
   "outputs": [
    {
     "data": {
      "text/plain": [
       "[{'name': 'bas19_es',\n",
       "  'data': DatasetDict({\n",
       "      train: Dataset({\n",
       "          features: ['id', 'text', 'label'],\n",
       "          num_rows: 4100\n",
       "      })\n",
       "      validation: Dataset({\n",
       "          features: ['id', 'text', 'label'],\n",
       "          num_rows: 500\n",
       "      })\n",
       "      test: Dataset({\n",
       "          features: ['id', 'text', 'label'],\n",
       "          num_rows: 2000\n",
       "      })\n",
       "  }),\n",
       "  'language': 'es'},\n",
       " {'name': 'dyn21_en',\n",
       "  'data': DatasetDict({\n",
       "      train: Dataset({\n",
       "          features: ['id', 'text', 'label'],\n",
       "          num_rows: 38644\n",
       "      })\n",
       "      validation: Dataset({\n",
       "          features: ['id', 'text', 'label'],\n",
       "          num_rows: 500\n",
       "      })\n",
       "      test: Dataset({\n",
       "          features: ['id', 'text', 'label'],\n",
       "          num_rows: 2000\n",
       "      })\n",
       "  }),\n",
       "  'language': 'en'},\n",
       " {'name': 'for19_pt',\n",
       "  'data': DatasetDict({\n",
       "      train: Dataset({\n",
       "          features: ['id', 'text', 'label'],\n",
       "          num_rows: 3170\n",
       "      })\n",
       "      validation: Dataset({\n",
       "          features: ['id', 'text', 'label'],\n",
       "          num_rows: 500\n",
       "      })\n",
       "      test: Dataset({\n",
       "          features: ['id', 'text', 'label'],\n",
       "          num_rows: 2000\n",
       "      })\n",
       "  }),\n",
       "  'language': 'pt'},\n",
       " {'name': 'fou18_en',\n",
       "  'data': DatasetDict({\n",
       "      train: Dataset({\n",
       "          features: ['id', 'text', 'label'],\n",
       "          num_rows: 20065\n",
       "      })\n",
       "      validation: Dataset({\n",
       "          features: ['id', 'text', 'label'],\n",
       "          num_rows: 500\n",
       "      })\n",
       "      test: Dataset({\n",
       "          features: ['id', 'text', 'label'],\n",
       "          num_rows: 2000\n",
       "      })\n",
       "  }),\n",
       "  'language': 'en'},\n",
       " {'name': 'has21_hi',\n",
       "  'data': DatasetDict({\n",
       "      train: Dataset({\n",
       "          features: ['id', 'text', 'label'],\n",
       "          num_rows: 2094\n",
       "      })\n",
       "      validation: Dataset({\n",
       "          features: ['id', 'text', 'label'],\n",
       "          num_rows: 500\n",
       "      })\n",
       "      test: Dataset({\n",
       "          features: ['id', 'text', 'label'],\n",
       "          num_rows: 2000\n",
       "      })\n",
       "  }),\n",
       "  'language': 'hi'},\n",
       " {'name': 'ken20_en',\n",
       "  'data': DatasetDict({\n",
       "      train: Dataset({\n",
       "          features: ['id', 'text', 'label'],\n",
       "          num_rows: 20692\n",
       "      })\n",
       "      validation: Dataset({\n",
       "          features: ['id', 'text', 'label'],\n",
       "          num_rows: 500\n",
       "      })\n",
       "      test: Dataset({\n",
       "          features: ['id', 'text', 'label'],\n",
       "          num_rows: 2000\n",
       "      })\n",
       "  }),\n",
       "  'language': 'en'},\n",
       " {'name': 'ous19_ar',\n",
       "  'data': DatasetDict({\n",
       "      train: Dataset({\n",
       "          features: ['id', 'text', 'label'],\n",
       "          num_rows: 2053\n",
       "      })\n",
       "      validation: Dataset({\n",
       "          features: ['id', 'text', 'label'],\n",
       "          num_rows: 300\n",
       "      })\n",
       "      test: Dataset({\n",
       "          features: ['id', 'text', 'label'],\n",
       "          num_rows: 1000\n",
       "      })\n",
       "  }),\n",
       "  'language': 'ar'},\n",
       " {'name': 'ous19_fr',\n",
       "  'data': DatasetDict({\n",
       "      train: Dataset({\n",
       "          features: ['id', 'text', 'label'],\n",
       "          num_rows: 2014\n",
       "      })\n",
       "      validation: Dataset({\n",
       "          features: ['id', 'text', 'label'],\n",
       "          num_rows: 500\n",
       "      })\n",
       "      test: Dataset({\n",
       "          features: ['id', 'text', 'label'],\n",
       "          num_rows: 1500\n",
       "      })\n",
       "  }),\n",
       "  'language': 'fr'},\n",
       " {'name': 'san20_it',\n",
       "  'data': DatasetDict({\n",
       "      train: Dataset({\n",
       "          features: ['id', 'text', 'label'],\n",
       "          num_rows: 5600\n",
       "      })\n",
       "      validation: Dataset({\n",
       "          features: ['id', 'text', 'label'],\n",
       "          num_rows: 500\n",
       "      })\n",
       "      test: Dataset({\n",
       "          features: ['id', 'text', 'label'],\n",
       "          num_rows: 2000\n",
       "      })\n",
       "  }),\n",
       "  'language': 'it'}]"
      ]
     },
     "execution_count": 8,
     "metadata": {},
     "output_type": "execute_result"
    }
   ],
   "execution_count": 8
  },
  {
   "metadata": {
    "ExecuteTime": {
     "end_time": "2024-12-29T21:52:04.046469Z",
     "start_time": "2024-12-29T21:52:04.041341Z"
    }
   },
   "cell_type": "code",
   "source": [
    "train_data = datasets[0]['data']['train']\n",
    "eval_data = datasets[0]['data']['validation']\n",
    "test_data = datasets[0]['data']['test']"
   ],
   "id": "8a66c997b7bb1f0b",
   "outputs": [],
   "execution_count": 11
  },
  {
   "metadata": {
    "ExecuteTime": {
     "end_time": "2024-12-29T21:52:08.942219Z",
     "start_time": "2024-12-29T21:52:08.884970Z"
    }
   },
   "cell_type": "code",
   "source": "prompter_ = Prompter(\"meta-llama/Llama-3.1-8B-Instruct\")",
   "id": "7d1ba4b253161353",
   "outputs": [
    {
     "ename": "AttributeError",
     "evalue": "'str' object has no attribute 'prompter_model_name_or_path'",
     "output_type": "error",
     "traceback": [
      "\u001B[0;31m---------------------------------------------------------------------------\u001B[0m",
      "\u001B[0;31mAttributeError\u001B[0m                            Traceback (most recent call last)",
      "Cell \u001B[0;32mIn[12], line 1\u001B[0m\n\u001B[0;32m----> 1\u001B[0m prompter_ \u001B[38;5;241m=\u001B[39m \u001B[43mPrompter\u001B[49m\u001B[43m(\u001B[49m\u001B[38;5;124;43m\"\u001B[39;49m\u001B[38;5;124;43mmeta-llama/Llama-3.1-8B-Instruct\u001B[39;49m\u001B[38;5;124;43m\"\u001B[39;49m\u001B[43m)\u001B[49m\n",
      "File \u001B[0;32m/tmp/pycharm_project_703/prompter.py:23\u001B[0m, in \u001B[0;36mPrompter.__init__\u001B[0;34m(self, config, device)\u001B[0m\n\u001B[1;32m     21\u001B[0m \u001B[38;5;28mself\u001B[39m\u001B[38;5;241m.\u001B[39mdevice \u001B[38;5;241m=\u001B[39m device\n\u001B[1;32m     22\u001B[0m \u001B[38;5;28mself\u001B[39m\u001B[38;5;241m.\u001B[39mconfig \u001B[38;5;241m=\u001B[39m config\n\u001B[0;32m---> 23\u001B[0m \u001B[38;5;28mself\u001B[39m\u001B[38;5;241m.\u001B[39mmodel_name \u001B[38;5;241m=\u001B[39m \u001B[43mconfig\u001B[49m\u001B[38;5;241;43m.\u001B[39;49m\u001B[43mprompter_model_name_or_path\u001B[49m\n\u001B[1;32m     24\u001B[0m \u001B[38;5;28;01mif\u001B[39;00m \u001B[38;5;124m'\u001B[39m\u001B[38;5;124mt5\u001B[39m\u001B[38;5;124m'\u001B[39m \u001B[38;5;129;01min\u001B[39;00m config\u001B[38;5;241m.\u001B[39mprompter_model_name_or_path:\n\u001B[1;32m     25\u001B[0m     \u001B[38;5;28mself\u001B[39m\u001B[38;5;241m.\u001B[39mmodel \u001B[38;5;241m=\u001B[39m T5ForConditionalGeneration\u001B[38;5;241m.\u001B[39mfrom_pretrained(\u001B[38;5;28mself\u001B[39m\u001B[38;5;241m.\u001B[39mmodel_name)\u001B[38;5;241m.\u001B[39mto(device)\n",
      "\u001B[0;31mAttributeError\u001B[0m: 'str' object has no attribute 'prompter_model_name_or_path'"
     ]
    }
   ],
   "execution_count": 12
  },
  {
   "metadata": {
    "ExecuteTime": {
     "end_time": "2024-12-17T18:13:10.646711Z",
     "start_time": "2024-12-17T18:12:57.132843Z"
    }
   },
   "cell_type": "code",
   "source": [
    "predictions = prompter_.evaluate(test_data, 'Classify the text to hate and non-hate. answer with \"1\" if it is hate or \"0\" if it non-hate. text: {input}')\n",
    "predictions = [int(i) for i in predictions]"
   ],
   "id": "9682acd2eea87b9e",
   "outputs": [
    {
     "name": "stderr",
     "output_type": "stream",
     "text": [
      "Processing batches: 100%|██████████| 125/125 [00:13<00:00,  9.25it/s]\n"
     ]
    }
   ],
   "execution_count": 17
  },
  {
   "metadata": {
    "ExecuteTime": {
     "end_time": "2024-12-17T18:13:10.690652Z",
     "start_time": "2024-12-17T18:13:10.678637Z"
    }
   },
   "cell_type": "code",
   "source": "print(prompter_.compute_metrics(predictions, test_data['label']))",
   "id": "6cebb9b371dceff2",
   "outputs": [
    {
     "name": "stdout",
     "output_type": "stream",
     "text": [
      "{'accuracy': 0.462, 'f1-macro': 0.41551979627931634, 'precision': 0.4805451086094815, 'recall': 0.462, 'f1-weighted': 0.40249874630082694}\n"
     ]
    }
   ],
   "execution_count": 18
  },
  {
   "metadata": {
    "ExecuteTime": {
     "end_time": "2024-12-17T18:12:10.605076Z",
     "start_time": "2024-12-17T18:12:10.597611Z"
    }
   },
   "cell_type": "code",
   "source": "",
   "id": "a727b49be1d3fc7b",
   "outputs": [
    {
     "data": {
      "text/plain": [
       "int"
      ]
     },
     "execution_count": 22,
     "metadata": {},
     "output_type": "execute_result"
    }
   ],
   "execution_count": 22
  }
 ],
 "metadata": {
  "kernelspec": {
   "display_name": "Python 3",
   "language": "python",
   "name": "python3"
  },
  "language_info": {
   "codemirror_mode": {
    "name": "ipython",
    "version": 2
   },
   "file_extension": ".py",
   "mimetype": "text/x-python",
   "name": "python",
   "nbconvert_exporter": "python",
   "pygments_lexer": "ipython2",
   "version": "2.7.6"
  }
 },
 "nbformat": 4,
 "nbformat_minor": 5
}
