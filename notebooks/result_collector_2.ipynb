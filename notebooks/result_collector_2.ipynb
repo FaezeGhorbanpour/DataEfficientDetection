{
 "cells": [
  {
   "cell_type": "code",
   "execution_count": 3,
   "outputs": [],
   "source": [
    "\n",
    "import numpy as np\n",
    "import os, json"
   ],
   "metadata": {
    "collapsed": false,
    "ExecuteTime": {
     "end_time": "2025-04-14T13:35:42.328829300Z",
     "start_time": "2025-04-14T13:35:42.309826900Z"
    }
   },
   "id": "initial_id"
  },
  {
   "cell_type": "code",
   "id": "408034a64ebd7437",
   "metadata": {
    "ExecuteTime": {
     "end_time": "2025-04-14T13:35:43.081528700Z",
     "start_time": "2025-04-14T13:35:43.044532700Z"
    }
   },
   "source": [
    "results_path = \"/mounts/data/proj/faeze/data_efficient_hate/models/retrieval_finetuner/\""
   ],
   "outputs": [],
   "execution_count": 4
  },
  {
   "cell_type": "code",
   "id": "79ac16f0e466a6d7",
   "metadata": {
    "ExecuteTime": {
     "end_time": "2025-04-14T14:17:51.148431600Z",
     "start_time": "2025-04-14T14:17:51.072615400Z"
    }
   },
   "source": [
    "\n",
    "model_name = \"base_setting_again\""
   ],
   "outputs": [],
   "execution_count": 17
  },
  {
   "cell_type": "code",
   "id": "6269e9630feaf33c",
   "metadata": {
    "ExecuteTime": {
     "end_time": "2025-04-14T14:17:51.910732100Z",
     "start_time": "2025-04-14T14:17:51.801424200Z"
    }
   },
   "source": [
    "path = os.path.join(results_path, model_name)"
   ],
   "outputs": [],
   "execution_count": 18
  },
  {
   "cell_type": "code",
   "id": "334eea4bed833002",
   "metadata": {
    "ExecuteTime": {
     "end_time": "2025-04-14T14:17:52.423718100Z",
     "start_time": "2025-04-14T14:17:52.096453600Z"
    }
   },
   "source": [
    "splits = [10, 20, 30, 40, 50, 100, 200, 300, 400, 500, 1000, 2000]\n",
    "ks = [20, 30, 40, 50, 100, 200, 300, 400, 500, 1000, 2000, 3000, 4000, 5000, 10000, 20000]\n",
    "ks = [20, 200, 2000, 20000]\n",
    "rss = [\"rs\"+str(i) for i in range(1, 6)]"
   ],
   "outputs": [],
   "execution_count": 19
  },
  {
   "cell_type": "code",
   "id": "f67f9de375bf4d23",
   "metadata": {
    "ExecuteTime": {
     "end_time": "2025-04-14T14:17:52.761878900Z",
     "start_time": "2025-04-14T14:17:52.299992600Z"
    }
   },
   "source": [
    "# data_names = [\"bas19_es\", \"for19_pt\", \"has21_hi\", \"ous19_ar\", \"ous19_fr\", \"san20_it\"]\n",
    "# data_names = [\"dyn21_en\", \"fou18_en\", \"ken20_en\", \"xdomain_en\", \"implicit_en\", \"xplain_en\"]\n",
    "# data_names = [\"bas19_es\", \"for19_pt\", \"has21_hi\", \"ous19_ar\", \"ous19_fr\", \"san20_it\", \"gahd24_de\", \"xdomain_tr\"]\n",
    "# data_names = [\"for19_pt\", \"has21_hi\", \"gahd24_de\", \"xdomain_tr\"]\n",
    "data_names = [\"bas19_es\", \"ous19_ar\", \"ous19_fr\", \"san20_it\", \"gahd24_de\"]\n",
    "# data_names = [\"bas19_es\", \"ous19_ar\"]"
   ],
   "outputs": [],
   "execution_count": 20
  },
  {
   "cell_type": "code",
   "id": "6dc76b806e35faef",
   "metadata": {
    "scrolled": true,
    "ExecuteTime": {
     "end_time": "2025-04-14T14:18:36.384303700Z",
     "start_time": "2025-04-14T14:17:52.300720600Z"
    }
   },
   "source": [
    "data_results = []\n",
    "for data_name in data_names:\n",
    "    print(data_name)\n",
    "    split_average = []\n",
    "    for split in splits:\n",
    "        ks_average = []\n",
    "        for k in ks:\n",
    "            split_path = os.path.join(path, data_name+\"/\"+str(split)+\"/\"+str(k))\n",
    "            rss_results = []\n",
    "            roots = []\n",
    "\n",
    "            split_done = []\n",
    "            rss = []\n",
    "            for root, folders, files in os.walk(split_path):\n",
    "                if \"checkpoint\" in root or \"evaluation_results.json\" not in files:\n",
    "                    continue\n",
    "                with open(os.path.join(root, \"evaluation_results.json\"), \"r\") as f:\n",
    "                    file = json.load(f)\n",
    "                    f1 = file.get(\"eval_f1-macro\", '')\n",
    "                    if not f1:\n",
    "                        f1 = file.get(\"test_f1-macro\", '')\n",
    "                    rss_results.append(f1)\n",
    "                # roots.append(root+\"/\"+folders[0])\n",
    "                split_done.append(split)\n",
    "                rss.append(root.split(\"/\")[-1])\n",
    "            if len(rss_results) >= 3:\n",
    "                # print(roots[np.argmax(rss_results)])\n",
    "                print(data_name, split, k, rss)\n",
    "                # print(rss_results)\n",
    "                ks_average.append(np.round(np.average(rss_results)*100,2))\n",
    "            else:\n",
    "                ks_average.append(None)\n",
    "                print(data_name, split, k, \"no\")\n",
    "            # print(rss)\n",
    "            # print(split_done)\n",
    "        split_average.append(ks_average)\n",
    "    data_results.append(split_average)\n",
    "    # print(split_average)\n",
    "    print()"
   ],
   "outputs": [
    {
     "name": "stdout",
     "output_type": "stream",
     "text": [
      "bas19_es\n",
      "bas19_es 10 20 ['rs3', 'rs4', 'rs2', 'rs5', 'rs1']\n",
      "bas19_es 10 200 ['rs3', 'rs4', 'rs2', 'rs5', 'rs1']\n",
      "bas19_es 10 2000 ['rs3', 'rs4', 'rs2', 'rs5', 'rs1']\n",
      "bas19_es 10 20000 ['rs3', 'rs4', 'rs2', 'rs5', 'rs1']\n",
      "bas19_es 20 20 ['rs3', 'rs4', 'rs2', 'rs5', 'rs1']\n",
      "bas19_es 20 200 ['rs3', 'rs4', 'rs2', 'rs5', 'rs1']\n",
      "bas19_es 20 2000 ['rs3', 'rs4', 'rs2', 'rs5', 'rs1']\n",
      "bas19_es 20 20000 ['rs3', 'rs4', 'rs2', 'rs5', 'rs1']\n",
      "bas19_es 30 20 ['rs3', 'rs4', 'rs2', 'rs5', 'rs1']\n",
      "bas19_es 30 200 ['rs3', 'rs4', 'rs2', 'rs5', 'rs1']\n",
      "bas19_es 30 2000 ['rs3', 'rs4', 'rs2', 'rs5', 'rs1']\n",
      "bas19_es 30 20000 ['rs3', 'rs4', 'rs2', 'rs5', 'rs1']\n",
      "bas19_es 40 20 ['rs3', 'rs4', 'rs2', 'rs5', 'rs1']\n",
      "bas19_es 40 200 ['rs3', 'rs4', 'rs2', 'rs5', 'rs1']\n",
      "bas19_es 40 2000 ['rs3', 'rs4', 'rs2', 'rs5', 'rs1']\n",
      "bas19_es 40 20000 ['rs4', 'rs2', 'rs5', 'rs1']\n",
      "bas19_es 50 20 ['rs3', 'rs4', 'rs2', 'rs5', 'rs1']\n",
      "bas19_es 50 200 ['rs3', 'rs4', 'rs2', 'rs5', 'rs1']\n",
      "bas19_es 50 2000 ['rs3', 'rs4', 'rs2', 'rs5', 'rs1']\n",
      "bas19_es 50 20000 ['rs3', 'rs4', 'rs2', 'rs5', 'rs1']\n",
      "bas19_es 100 20 ['rs3', 'rs4', 'rs2', 'rs5', 'rs1']\n",
      "bas19_es 100 200 ['rs3', 'rs4', 'rs2', 'rs5', 'rs1']\n",
      "bas19_es 100 2000 ['rs3', 'rs4', 'rs2', 'rs5', 'rs1']\n",
      "bas19_es 100 20000 ['rs3', 'rs4', 'rs2', 'rs5', 'rs1']\n",
      "bas19_es 200 20 ['rs3', 'rs4', 'rs2', 'rs5', 'rs1']\n",
      "bas19_es 200 200 ['rs3', 'rs4', 'rs2', 'rs5', 'rs1']\n",
      "bas19_es 200 2000 ['rs3', 'rs4', 'rs2', 'rs5', 'rs1']\n",
      "bas19_es 200 20000 ['rs3', 'rs4', 'rs2', 'rs5', 'rs1']\n",
      "bas19_es 300 20 ['rs3', 'rs4', 'rs2', 'rs5', 'rs1']\n",
      "bas19_es 300 200 ['rs3', 'rs4', 'rs2', 'rs5', 'rs1']\n",
      "bas19_es 300 2000 ['rs3', 'rs4', 'rs2', 'rs5', 'rs1']\n",
      "bas19_es 300 20000 ['rs3', 'rs4', 'rs2', 'rs5', 'rs1']\n",
      "bas19_es 400 20 ['rs3', 'rs4', 'rs2', 'rs5', 'rs1']\n",
      "bas19_es 400 200 ['rs3', 'rs4', 'rs2', 'rs5', 'rs1']\n",
      "bas19_es 400 2000 ['rs3', 'rs4', 'rs2', 'rs5', 'rs1']\n",
      "bas19_es 400 20000 ['rs3', 'rs4', 'rs2', 'rs5', 'rs1']\n",
      "bas19_es 500 20 ['rs3', 'rs4', 'rs2', 'rs5', 'rs1']\n",
      "bas19_es 500 200 ['rs3', 'rs4', 'rs2', 'rs5', 'rs1']\n",
      "bas19_es 500 2000 ['rs3', 'rs4', 'rs2', 'rs5', 'rs1']\n",
      "bas19_es 500 20000 ['rs3', 'rs4', 'rs2', 'rs5', 'rs1']\n",
      "bas19_es 1000 20 ['rs3', 'rs4', 'rs2', 'rs5', 'rs1']\n",
      "bas19_es 1000 200 ['rs3', 'rs4', 'rs2', 'rs5', 'rs1']\n",
      "bas19_es 1000 2000 ['rs3', 'rs4', 'rs2', 'rs5', 'rs1']\n",
      "bas19_es 1000 20000 ['rs3', 'rs4', 'rs2', 'rs5', 'rs1']\n",
      "bas19_es 2000 20 ['rs3', 'rs4', 'rs2', 'rs5', 'rs1']\n",
      "bas19_es 2000 200 ['rs3', 'rs4', 'rs2', 'rs5', 'rs1']\n",
      "bas19_es 2000 2000 ['rs3', 'rs4', 'rs2', 'rs5', 'rs1']\n",
      "bas19_es 2000 20000 ['rs3', 'rs4', 'rs2', 'rs5', 'rs1']\n",
      "\n",
      "ous19_ar\n",
      "ous19_ar 10 20 ['rs3', 'rs4', 'rs2', 'rs5', 'rs1']\n",
      "ous19_ar 10 200 ['rs3', 'rs4', 'rs2', 'rs5', 'rs1']\n",
      "ous19_ar 10 2000 ['rs3', 'rs4', 'rs2', 'rs5', 'rs1']\n",
      "ous19_ar 10 20000 ['rs3', 'rs4', 'rs2', 'rs5', 'rs1']\n",
      "ous19_ar 20 20 ['rs3', 'rs4', 'rs2', 'rs5', 'rs1']\n",
      "ous19_ar 20 200 ['rs3', 'rs4', 'rs2', 'rs5', 'rs1']\n",
      "ous19_ar 20 2000 ['rs3', 'rs4', 'rs2', 'rs5', 'rs1']\n",
      "ous19_ar 20 20000 ['rs3', 'rs4', 'rs2', 'rs5', 'rs1']\n",
      "ous19_ar 30 20 ['rs3', 'rs4', 'rs2', 'rs5', 'rs1']\n",
      "ous19_ar 30 200 ['rs3', 'rs4', 'rs2', 'rs5', 'rs1']\n",
      "ous19_ar 30 2000 ['rs3', 'rs4', 'rs2', 'rs5', 'rs1']\n",
      "ous19_ar 30 20000 ['rs3', 'rs4', 'rs2', 'rs5', 'rs1']\n",
      "ous19_ar 40 20 ['rs3', 'rs4', 'rs2', 'rs5', 'rs1']\n",
      "ous19_ar 40 200 ['rs3', 'rs4', 'rs2', 'rs5', 'rs1']\n",
      "ous19_ar 40 2000 ['rs3', 'rs4', 'rs2', 'rs5', 'rs1']\n",
      "ous19_ar 40 20000 ['rs3', 'rs4', 'rs2', 'rs5', 'rs1']\n",
      "ous19_ar 50 20 ['rs3', 'rs4', 'rs2', 'rs5', 'rs1']\n",
      "ous19_ar 50 200 ['rs3', 'rs4', 'rs2', 'rs5', 'rs1']\n",
      "ous19_ar 50 2000 ['rs3', 'rs4', 'rs2', 'rs5', 'rs1']\n",
      "ous19_ar 50 20000 ['rs3', 'rs4', 'rs2', 'rs5', 'rs1']\n",
      "ous19_ar 100 20 ['rs3', 'rs4', 'rs2', 'rs5', 'rs1']\n",
      "ous19_ar 100 200 ['rs3', 'rs4', 'rs2', 'rs5', 'rs1']\n",
      "ous19_ar 100 2000 ['rs3', 'rs4', 'rs2', 'rs5', 'rs1']\n",
      "ous19_ar 100 20000 ['rs3', 'rs4', 'rs2', 'rs5', 'rs1']\n",
      "ous19_ar 200 20 ['rs3', 'rs4', 'rs2', 'rs5', 'rs1']\n",
      "ous19_ar 200 200 ['rs3', 'rs4', 'rs2', 'rs5', 'rs1']\n",
      "ous19_ar 200 2000 ['rs3', 'rs4', 'rs2', 'rs5', 'rs1']\n",
      "ous19_ar 200 20000 ['rs3', 'rs4', 'rs2', 'rs5', 'rs1']\n",
      "ous19_ar 300 20 ['rs3', 'rs4', 'rs2', 'rs5', 'rs1']\n",
      "ous19_ar 300 200 ['rs3', 'rs4', 'rs2', 'rs5', 'rs1']\n",
      "ous19_ar 300 2000 ['rs3', 'rs4', 'rs2', 'rs5', 'rs1']\n",
      "ous19_ar 300 20000 ['rs3', 'rs4', 'rs2', 'rs5', 'rs1']\n",
      "ous19_ar 400 20 ['rs3', 'rs4', 'rs2', 'rs5', 'rs1']\n",
      "ous19_ar 400 200 ['rs3', 'rs4', 'rs2', 'rs5', 'rs1']\n",
      "ous19_ar 400 2000 ['rs3', 'rs4', 'rs2', 'rs5', 'rs1']\n",
      "ous19_ar 400 20000 ['rs3', 'rs4', 'rs2', 'rs5', 'rs1']\n",
      "ous19_ar 500 20 ['rs3', 'rs4', 'rs2', 'rs5', 'rs1']\n",
      "ous19_ar 500 200 ['rs3', 'rs4', 'rs2', 'rs5', 'rs1']\n",
      "ous19_ar 500 2000 ['rs3', 'rs4', 'rs2', 'rs5', 'rs1']\n",
      "ous19_ar 500 20000 ['rs3', 'rs4', 'rs2', 'rs5', 'rs1']\n",
      "ous19_ar 1000 20 ['rs3', 'rs4', 'rs2', 'rs5', 'rs1']\n",
      "ous19_ar 1000 200 ['rs3', 'rs4', 'rs2', 'rs5', 'rs1']\n",
      "ous19_ar 1000 2000 ['rs3', 'rs4', 'rs2', 'rs5', 'rs1']\n",
      "ous19_ar 1000 20000 ['rs3', 'rs4', 'rs2', 'rs5', 'rs1']\n",
      "ous19_ar 2000 20 ['rs3', 'rs4', 'rs2', 'rs5', 'rs1']\n",
      "ous19_ar 2000 200 ['rs3', 'rs4', 'rs2', 'rs5', 'rs1']\n",
      "ous19_ar 2000 2000 ['rs3', 'rs4', 'rs2', 'rs5', 'rs1']\n",
      "ous19_ar 2000 20000 ['rs3', 'rs4', 'rs2', 'rs5', 'rs1']\n",
      "\n",
      "ous19_fr\n",
      "ous19_fr 10 20 ['rs3', 'rs4', 'rs2', 'rs5', 'rs1']\n",
      "ous19_fr 10 200 ['rs3', 'rs4', 'rs2', 'rs5', 'rs1']\n",
      "ous19_fr 10 2000 ['rs3', 'rs4', 'rs2', 'rs5', 'rs1']\n",
      "ous19_fr 10 20000 ['rs3', 'rs4', 'rs2', 'rs5', 'rs1']\n",
      "ous19_fr 20 20 ['rs3', 'rs4', 'rs2', 'rs5', 'rs1']\n",
      "ous19_fr 20 200 ['rs3', 'rs4', 'rs2', 'rs5', 'rs1']\n",
      "ous19_fr 20 2000 ['rs3', 'rs4', 'rs2', 'rs5', 'rs1']\n",
      "ous19_fr 20 20000 ['rs3', 'rs4', 'rs2', 'rs5', 'rs1']\n",
      "ous19_fr 30 20 ['rs3', 'rs4', 'rs2', 'rs5', 'rs1']\n",
      "ous19_fr 30 200 ['rs3', 'rs4', 'rs2', 'rs5', 'rs1']\n",
      "ous19_fr 30 2000 ['rs3', 'rs4', 'rs2', 'rs5', 'rs1']\n",
      "ous19_fr 30 20000 ['rs3', 'rs4', 'rs2', 'rs5', 'rs1']\n",
      "ous19_fr 40 20 ['rs3', 'rs4', 'rs2', 'rs5', 'rs1']\n",
      "ous19_fr 40 200 ['rs3', 'rs4', 'rs2', 'rs5', 'rs1']\n",
      "ous19_fr 40 2000 ['rs3', 'rs4', 'rs2', 'rs5', 'rs1']\n",
      "ous19_fr 40 20000 ['rs3', 'rs4', 'rs2', 'rs5', 'rs1']\n",
      "ous19_fr 50 20 ['rs3', 'rs4', 'rs2', 'rs5', 'rs1']\n",
      "ous19_fr 50 200 ['rs3', 'rs4', 'rs2', 'rs5', 'rs1']\n",
      "ous19_fr 50 2000 ['rs3', 'rs4', 'rs2', 'rs5', 'rs1']\n",
      "ous19_fr 50 20000 ['rs3', 'rs4', 'rs2', 'rs5', 'rs1']\n",
      "ous19_fr 100 20 ['rs3', 'rs4', 'rs2', 'rs5', 'rs1']\n",
      "ous19_fr 100 200 ['rs3', 'rs4', 'rs2', 'rs5', 'rs1']\n",
      "ous19_fr 100 2000 ['rs3', 'rs4', 'rs2', 'rs5', 'rs1']\n",
      "ous19_fr 100 20000 ['rs3', 'rs4', 'rs2', 'rs5', 'rs1']\n",
      "ous19_fr 200 20 ['rs3', 'rs4', 'rs2', 'rs5', 'rs1']\n",
      "ous19_fr 200 200 ['rs3', 'rs4', 'rs2', 'rs5', 'rs1']\n",
      "ous19_fr 200 2000 ['rs3', 'rs4', 'rs2', 'rs5', 'rs1']\n",
      "ous19_fr 200 20000 ['rs3', 'rs4', 'rs2', 'rs5', 'rs1']\n",
      "ous19_fr 300 20 ['rs3', 'rs4', 'rs2', 'rs5', 'rs1']\n",
      "ous19_fr 300 200 ['rs3', 'rs4', 'rs2', 'rs5', 'rs1']\n",
      "ous19_fr 300 2000 ['rs3', 'rs4', 'rs2', 'rs5', 'rs1']\n",
      "ous19_fr 300 20000 ['rs3', 'rs4', 'rs2', 'rs5', 'rs1']\n",
      "ous19_fr 400 20 ['rs3', 'rs4', 'rs2', 'rs5', 'rs1']\n",
      "ous19_fr 400 200 ['rs3', 'rs4', 'rs2', 'rs5', 'rs1']\n",
      "ous19_fr 400 2000 ['rs3', 'rs4', 'rs2', 'rs5', 'rs1']\n",
      "ous19_fr 400 20000 ['rs3', 'rs4', 'rs2', 'rs5', 'rs1']\n",
      "ous19_fr 500 20 ['rs3', 'rs4', 'rs2', 'rs5', 'rs1']\n",
      "ous19_fr 500 200 ['rs3', 'rs4', 'rs2', 'rs5', 'rs1']\n",
      "ous19_fr 500 2000 ['rs3', 'rs4', 'rs2', 'rs5', 'rs1']\n",
      "ous19_fr 500 20000 ['rs3', 'rs4', 'rs2', 'rs5', 'rs1']\n",
      "ous19_fr 1000 20 ['rs3', 'rs4', 'rs2', 'rs5', 'rs1']\n",
      "ous19_fr 1000 200 ['rs3', 'rs4', 'rs2', 'rs5', 'rs1']\n",
      "ous19_fr 1000 2000 ['rs3', 'rs4', 'rs2', 'rs5', 'rs1']\n",
      "ous19_fr 1000 20000 ['rs3', 'rs4', 'rs2', 'rs5', 'rs1']\n",
      "ous19_fr 2000 20 ['rs3', 'rs4', 'rs2', 'rs5', 'rs1']\n",
      "ous19_fr 2000 200 ['rs3', 'rs4', 'rs2', 'rs5', 'rs1']\n",
      "ous19_fr 2000 2000 ['rs3', 'rs4', 'rs2', 'rs5', 'rs1']\n",
      "ous19_fr 2000 20000 ['rs3', 'rs4', 'rs2', 'rs5', 'rs1']\n",
      "\n",
      "san20_it\n",
      "san20_it 10 20 ['rs3', 'rs4', 'rs2', 'rs5', 'rs1']\n",
      "san20_it 10 200 ['rs3', 'rs4', 'rs2', 'rs5', 'rs1']\n",
      "san20_it 10 2000 ['rs3', 'rs4', 'rs2', 'rs5', 'rs1']\n",
      "san20_it 10 20000 ['rs3', 'rs4', 'rs2', 'rs5', 'rs1']\n",
      "san20_it 20 20 ['rs3', 'rs4', 'rs2', 'rs5', 'rs1']\n",
      "san20_it 20 200 ['rs3', 'rs4', 'rs2', 'rs5', 'rs1']\n",
      "san20_it 20 2000 ['rs3', 'rs4', 'rs2', 'rs5', 'rs1']\n",
      "san20_it 20 20000 ['rs3', 'rs4', 'rs2', 'rs5', 'rs1']\n",
      "san20_it 30 20 ['rs3', 'rs4', 'rs2', 'rs5', 'rs1']\n",
      "san20_it 30 200 ['rs3', 'rs4', 'rs2', 'rs5', 'rs1']\n",
      "san20_it 30 2000 ['rs3', 'rs4', 'rs2', 'rs5', 'rs1']\n",
      "san20_it 30 20000 ['rs3', 'rs4', 'rs2', 'rs5', 'rs1']\n",
      "san20_it 40 20 ['rs3', 'rs4', 'rs2', 'rs5', 'rs1']\n",
      "san20_it 40 200 ['rs3', 'rs4', 'rs2', 'rs5', 'rs1']\n",
      "san20_it 40 2000 ['rs3', 'rs4', 'rs2', 'rs5', 'rs1']\n",
      "san20_it 40 20000 ['rs3', 'rs4', 'rs2', 'rs5', 'rs1']\n",
      "san20_it 50 20 ['rs3', 'rs4', 'rs2', 'rs5', 'rs1']\n",
      "san20_it 50 200 ['rs3', 'rs4', 'rs2', 'rs5', 'rs1']\n",
      "san20_it 50 2000 ['rs3', 'rs4', 'rs2', 'rs5', 'rs1']\n",
      "san20_it 50 20000 ['rs3', 'rs4', 'rs2', 'rs5', 'rs1']\n",
      "san20_it 100 20 ['rs3', 'rs4', 'rs2', 'rs5', 'rs1']\n",
      "san20_it 100 200 ['rs3', 'rs4', 'rs2', 'rs5', 'rs1']\n",
      "san20_it 100 2000 ['rs3', 'rs4', 'rs2', 'rs5', 'rs1']\n",
      "san20_it 100 20000 ['rs3', 'rs4', 'rs2', 'rs5', 'rs1']\n",
      "san20_it 200 20 ['rs3', 'rs4', 'rs2', 'rs5', 'rs1']\n",
      "san20_it 200 200 ['rs3', 'rs4', 'rs2', 'rs5', 'rs1']\n",
      "san20_it 200 2000 ['rs3', 'rs4', 'rs2', 'rs5', 'rs1']\n",
      "san20_it 200 20000 ['rs3', 'rs4', 'rs2', 'rs5', 'rs1']\n",
      "san20_it 300 20 ['rs3', 'rs4', 'rs2', 'rs5', 'rs1']\n",
      "san20_it 300 200 ['rs3', 'rs4', 'rs2', 'rs5', 'rs1']\n",
      "san20_it 300 2000 ['rs3', 'rs4', 'rs2', 'rs5', 'rs1']\n",
      "san20_it 300 20000 ['rs3', 'rs4', 'rs2', 'rs5', 'rs1']\n",
      "san20_it 400 20 ['rs3', 'rs4', 'rs2', 'rs5', 'rs1']\n",
      "san20_it 400 200 ['rs3', 'rs4', 'rs2', 'rs5', 'rs1']\n",
      "san20_it 400 2000 ['rs3', 'rs4', 'rs2', 'rs5', 'rs1']\n",
      "san20_it 400 20000 ['rs3', 'rs4', 'rs2', 'rs5', 'rs1']\n",
      "san20_it 500 20 ['rs3', 'rs4', 'rs2', 'rs5', 'rs1']\n",
      "san20_it 500 200 ['rs3', 'rs4', 'rs2', 'rs5', 'rs1']\n",
      "san20_it 500 2000 ['rs3', 'rs4', 'rs2', 'rs5', 'rs1']\n",
      "san20_it 500 20000 ['rs3', 'rs4', 'rs2', 'rs5', 'rs1']\n",
      "san20_it 1000 20 ['rs3', 'rs4', 'rs2', 'rs5', 'rs1']\n",
      "san20_it 1000 200 ['rs3', 'rs4', 'rs2', 'rs5', 'rs1']\n",
      "san20_it 1000 2000 ['rs3', 'rs4', 'rs2', 'rs5', 'rs1']\n",
      "san20_it 1000 20000 ['rs3', 'rs4', 'rs2', 'rs5', 'rs1']\n",
      "san20_it 2000 20 ['rs3', 'rs4', 'rs2', 'rs5', 'rs1']\n",
      "san20_it 2000 200 ['rs3', 'rs4', 'rs2', 'rs5', 'rs1']\n",
      "san20_it 2000 2000 ['rs3', 'rs4', 'rs2', 'rs5', 'rs1']\n",
      "san20_it 2000 20000 ['rs3', 'rs4', 'rs2', 'rs5', 'rs1']\n",
      "\n",
      "gahd24_de\n",
      "gahd24_de 10 20 ['rs3', 'rs4', 'rs2', 'rs5', 'rs1']\n",
      "gahd24_de 10 200 ['rs3', 'rs4', 'rs2', 'rs5', 'rs1']\n",
      "gahd24_de 10 2000 ['rs3', 'rs4', 'rs2', 'rs5', 'rs1']\n",
      "gahd24_de 10 20000 ['rs3', 'rs4', 'rs2', 'rs5', 'rs1']\n",
      "gahd24_de 20 20 ['rs3', 'rs4', 'rs2', 'rs5', 'rs1']\n",
      "gahd24_de 20 200 ['rs3', 'rs4', 'rs2', 'rs5', 'rs1']\n",
      "gahd24_de 20 2000 ['rs3', 'rs4', 'rs2', 'rs5', 'rs1']\n",
      "gahd24_de 20 20000 ['rs3', 'rs4', 'rs2', 'rs5', 'rs1']\n",
      "gahd24_de 30 20 ['rs3', 'rs4', 'rs2', 'rs5', 'rs1']\n",
      "gahd24_de 30 200 ['rs3', 'rs4', 'rs2', 'rs5', 'rs1']\n",
      "gahd24_de 30 2000 ['rs3', 'rs4', 'rs2', 'rs5', 'rs1']\n",
      "gahd24_de 30 20000 ['rs3', 'rs4', 'rs2', 'rs5', 'rs1']\n",
      "gahd24_de 40 20 ['rs3', 'rs4', 'rs2', 'rs5', 'rs1']\n",
      "gahd24_de 40 200 ['rs3', 'rs4', 'rs2', 'rs5', 'rs1']\n",
      "gahd24_de 40 2000 ['rs3', 'rs4', 'rs2', 'rs5', 'rs1']\n",
      "gahd24_de 40 20000 ['rs3', 'rs4', 'rs2', 'rs5', 'rs1']\n",
      "gahd24_de 50 20 ['rs3', 'rs4', 'rs2', 'rs5', 'rs1']\n",
      "gahd24_de 50 200 ['rs3', 'rs4', 'rs2', 'rs5', 'rs1']\n",
      "gahd24_de 50 2000 ['rs3', 'rs4', 'rs2', 'rs5', 'rs1']\n",
      "gahd24_de 50 20000 ['rs3', 'rs4', 'rs2', 'rs5', 'rs1']\n",
      "gahd24_de 100 20 ['rs3', 'rs4', 'rs2', 'rs5', 'rs1']\n",
      "gahd24_de 100 200 ['rs3', 'rs4', 'rs2', 'rs5', 'rs1']\n",
      "gahd24_de 100 2000 ['rs3', 'rs4', 'rs2', 'rs5', 'rs1']\n",
      "gahd24_de 100 20000 ['rs3', 'rs4', 'rs2', 'rs5', 'rs1']\n",
      "gahd24_de 200 20 ['rs3', 'rs4', 'rs2', 'rs5', 'rs1']\n",
      "gahd24_de 200 200 ['rs3', 'rs4', 'rs2', 'rs5', 'rs1']\n",
      "gahd24_de 200 2000 ['rs3', 'rs4', 'rs2', 'rs5', 'rs1']\n",
      "gahd24_de 200 20000 ['rs3', 'rs4', 'rs2', 'rs5', 'rs1']\n",
      "gahd24_de 300 20 ['rs3', 'rs4', 'rs2', 'rs5', 'rs1']\n",
      "gahd24_de 300 200 ['rs3', 'rs4', 'rs2', 'rs5', 'rs1']\n",
      "gahd24_de 300 2000 ['rs3', 'rs4', 'rs2', 'rs5', 'rs1']\n",
      "gahd24_de 300 20000 ['rs3', 'rs4', 'rs2', 'rs5', 'rs1']\n",
      "gahd24_de 400 20 ['rs3', 'rs4', 'rs2', 'rs5', 'rs1']\n",
      "gahd24_de 400 200 ['rs3', 'rs4', 'rs2', 'rs5', 'rs1']\n",
      "gahd24_de 400 2000 ['rs3', 'rs4', 'rs2', 'rs5', 'rs1']\n",
      "gahd24_de 400 20000 ['rs3', 'rs4', 'rs2', 'rs5', 'rs1']\n",
      "gahd24_de 500 20 ['rs3', 'rs4', 'rs2', 'rs5', 'rs1']\n",
      "gahd24_de 500 200 ['rs3', 'rs4', 'rs2', 'rs5', 'rs1']\n",
      "gahd24_de 500 2000 ['rs3', 'rs4', 'rs2', 'rs5', 'rs1']\n",
      "gahd24_de 500 20000 ['rs3', 'rs4', 'rs2', 'rs5', 'rs1']\n",
      "gahd24_de 1000 20 ['rs3', 'rs4', 'rs2', 'rs5', 'rs1']\n",
      "gahd24_de 1000 200 ['rs3', 'rs4', 'rs2', 'rs5', 'rs1']\n",
      "gahd24_de 1000 2000 ['rs3', 'rs4', 'rs2', 'rs5', 'rs1']\n",
      "gahd24_de 1000 20000 ['rs3', 'rs4', 'rs2', 'rs5', 'rs1']\n",
      "gahd24_de 2000 20 ['rs3', 'rs4', 'rs2', 'rs5', 'rs1']\n",
      "gahd24_de 2000 200 ['rs3', 'rs4', 'rs2', 'rs5', 'rs1']\n",
      "gahd24_de 2000 2000 ['rs3', 'rs4', 'rs2', 'rs5', 'rs1']\n",
      "gahd24_de 2000 20000 ['rs3', 'rs4', 'rs2', 'rs5', 'rs1']\n"
     ]
    }
   ],
   "execution_count": 21
  },
  {
   "cell_type": "code",
   "id": "d52b6282c33a55fb",
   "metadata": {
    "ExecuteTime": {
     "end_time": "2025-04-14T14:18:36.623861Z",
     "start_time": "2025-04-14T14:18:36.382397400Z"
    }
   },
   "source": [
    "for d, data_result in enumerate(data_results):\n",
    "    print(data_names[d])\n",
    "    for r, result in enumerate(data_result):\n",
    "        # print(splits[r])\n",
    "        for j in [str(i) for i in result]:\n",
    "            print(j, end=\"\\t\")\n",
    "        print()\n",
    "    print()"
   ],
   "outputs": [
    {
     "name": "stdout",
     "output_type": "stream",
     "text": [
      "bas19_es\n",
      "46.06\t58.18\t62.23\t61.97\t\n",
      "54.37\t59.72\t62.52\t63.08\t\n",
      "60.75\t62.56\t64.62\t63.52\t\n",
      "57.69\t62.77\t63.1\t61.87\t\n",
      "60.93\t64.37\t65.59\t64.3\t\n",
      "65.36\t66.04\t67.71\t65.93\t\n",
      "72.22\t71.77\t71.23\t70.67\t\n",
      "76.04\t76.18\t75.31\t71.92\t\n",
      "75.77\t76.06\t76.3\t73.84\t\n",
      "78.01\t77.09\t77.79\t67.67\t\n",
      "79.42\t79.16\t79.27\t78.53\t\n",
      "80.62\t80.5\t80.65\t81.02\t\n",
      "\n",
      "ous19_ar\n",
      "51.3\t56.36\t62.86\t61.54\t\n",
      "57.63\t63.23\t61.73\t59.47\t\n",
      "57.95\t66.23\t62.31\t62.7\t\n",
      "57.45\t65.7\t64.52\t64.82\t\n",
      "59.36\t66.65\t66.31\t64.51\t\n",
      "66.22\t68.5\t66.77\t66.07\t\n",
      "67.98\t69.18\t67.35\t65.47\t\n",
      "68.94\t68.52\t69.0\t66.71\t\n",
      "69.75\t70.2\t68.88\t68.2\t\n",
      "68.95\t69.47\t69.28\t65.54\t\n",
      "68.98\t68.08\t67.77\t69.07\t\n",
      "69.52\t69.77\t70.15\t68.27\t\n",
      "\n",
      "ous19_fr\n",
      "48.34\t52.46\t51.9\t54.6\t\n",
      "47.21\t52.68\t53.93\t55.05\t\n",
      "47.6\t52.82\t53.86\t54.97\t\n",
      "48.36\t52.4\t54.63\t56.3\t\n",
      "48.29\t52.19\t52.97\t55.6\t\n",
      "49.35\t51.54\t53.12\t56.04\t\n",
      "51.54\t54.06\t55.8\t53.63\t\n",
      "53.49\t53.29\t54.58\t56.15\t\n",
      "53.22\t54.57\t53.81\t55.13\t\n",
      "53.3\t52.84\t55.51\t55.31\t\n",
      "52.49\t55.48\t55.15\t50.51\t\n",
      "53.51\t53.13\t53.3\t54.74\t\n",
      "\n",
      "san20_it\n",
      "47.04\t64.96\t65.26\t69.6\t\n",
      "63.2\t66.76\t67.06\t60.06\t\n",
      "64.24\t68.47\t68.9\t70.08\t\n",
      "59.6\t67.91\t69.16\t70.58\t\n",
      "67.2\t68.42\t71.65\t69.44\t\n",
      "70.01\t71.17\t71.46\t67.73\t\n",
      "72.46\t72.83\t72.41\t72.5\t\n",
      "73.56\t74.12\t72.03\t64.56\t\n",
      "73.49\t74.84\t66.23\t66.8\t\n",
      "75.39\t75.29\t74.53\t66.09\t\n",
      "76.65\t68.84\t76.41\t68.21\t\n",
      "69.27\t78.36\t77.57\t76.95\t\n",
      "\n",
      "gahd24_de\n",
      "51.17\t54.5\t59.85\t57.59\t\n",
      "50.52\t58.15\t59.08\t57.48\t\n",
      "53.14\t59.37\t60.57\t59.08\t\n",
      "55.18\t58.25\t60.86\t57.79\t\n",
      "54.53\t60.3\t60.47\t61.02\t\n",
      "64.27\t63.29\t62.93\t62.58\t\n",
      "66.95\t66.15\t66.24\t65.97\t\n",
      "67.81\t67.33\t64.7\t66.97\t\n",
      "69.04\t68.47\t68.43\t69.52\t\n",
      "69.78\t69.68\t70.45\t61.8\t\n",
      "74.17\t73.02\t72.92\t72.5\t\n",
      "79.19\t78.79\t77.82\t77.9\t\n"
     ]
    }
   ],
   "execution_count": 22
  },
  {
   "cell_type": "code",
   "id": "7cb1ce2b9bb6be81",
   "metadata": {
    "ExecuteTime": {
     "end_time": "2025-04-14T14:18:36.658502300Z",
     "start_time": "2025-04-14T14:18:36.564735900Z"
    }
   },
   "source": [],
   "outputs": [],
   "execution_count": 22
  },
  {
   "cell_type": "code",
   "id": "26f68e4a6994ffe1",
   "metadata": {
    "ExecuteTime": {
     "end_time": "2025-04-14T14:18:36.659467900Z",
     "start_time": "2025-04-14T14:18:36.569750100Z"
    }
   },
   "source": [],
   "outputs": [],
   "execution_count": 22
  },
  {
   "cell_type": "code",
   "id": "ae9898e69f894b45",
   "metadata": {
    "ExecuteTime": {
     "end_time": "2025-04-14T14:18:36.659467900Z",
     "start_time": "2025-04-14T14:18:36.576889200Z"
    }
   },
   "source": [],
   "outputs": [],
   "execution_count": 22
  },
  {
   "cell_type": "code",
   "id": "6095117ba48861c9",
   "metadata": {
    "scrolled": true,
    "ExecuteTime": {
     "end_time": "2025-02-24T20:35:14.598223Z",
     "start_time": "2025-02-24T20:35:14.370452Z"
    }
   },
   "source": [
    "hate_check_data_results = []\n",
    "for data_name in data_names:\n",
    "    print(data_name)\n",
    "    hate_check_split_average = []\n",
    "    for split in splits:\n",
    "        ks_hate_check_average = []\n",
    "        for k in ks:\n",
    "            split_path = os.path.join(path, data_name+\"/\"+str(split)+\"/\"+str(k))\n",
    "            rss_hate_check_results = []\n",
    "\n",
    "            hate_check_split_done = []\n",
    "            hate_check_rss = []\n",
    "            for root, folders, files in os.walk(split_path):\n",
    "                if \"checkpoint\" in root or \"hate_check_results.json\" not in files:\n",
    "                    continue\n",
    "                with open(os.path.join(root, \"hate_check_results.json\"), \"r\") as f:\n",
    "                    file = json.load(f)\n",
    "                    f1 = file.get(\"hate_check_f1-macro\", '')\n",
    "                    if not f1:\n",
    "                        f1 = file.get(\"hate_check_f1-macro\", '')\n",
    "                    rss_hate_check_results.append(f1)\n",
    "                hate_check_split_done.append(split)\n",
    "                hate_check_rss.append(root.split(\"/\")[-1])\n",
    "            if len(rss_hate_check_results) >= 3:\n",
    "                print(data_name, split, k, hate_check_rss)\n",
    "                # print(rss_hate_check_results)\n",
    "                ks_hate_check_average.append(np.round(np.average(rss_hate_check_results)*100,2))\n",
    "            else:\n",
    "                ks_hate_check_average.append(None)\n",
    "                print(data_name, split, k, \"no\")\n",
    "            # print(rss)\n",
    "            # print(split_done)\n",
    "        hate_check_split_average.append(ks_hate_check_average)\n",
    "    hate_check_data_results.append(hate_check_split_average)\n",
    "    # print(split_average)\n",
    "    print()"
   ],
   "outputs": [
    {
     "ename": "NameError",
     "evalue": "name 'data_names' is not defined",
     "output_type": "error",
     "traceback": [
      "\u001B[0;31m---------------------------------------------------------------------------\u001B[0m",
      "\u001B[0;31mNameError\u001B[0m                                 Traceback (most recent call last)",
      "Cell \u001B[0;32mIn[1], line 2\u001B[0m\n\u001B[1;32m      1\u001B[0m hate_check_data_results \u001B[38;5;241m=\u001B[39m []\n\u001B[0;32m----> 2\u001B[0m \u001B[38;5;28;01mfor\u001B[39;00m data_name \u001B[38;5;129;01min\u001B[39;00m \u001B[43mdata_names\u001B[49m:\n\u001B[1;32m      3\u001B[0m     \u001B[38;5;28mprint\u001B[39m(data_name)\n\u001B[1;32m      4\u001B[0m     hate_check_split_average \u001B[38;5;241m=\u001B[39m []\n",
      "\u001B[0;31mNameError\u001B[0m: name 'data_names' is not defined"
     ]
    }
   ],
   "execution_count": 1
  },
  {
   "cell_type": "code",
   "execution_count": 42,
   "id": "5c9c875fd23795e3",
   "metadata": {
    "ExecuteTime": {
     "end_time": "2025-02-24T20:35:14.440356830Z",
     "start_time": "2025-02-09T12:05:09.025370Z"
    }
   },
   "outputs": [
    {
     "name": "stdout",
     "output_type": "stream",
     "text": [
      "bas19_es\n",
      "38.67\t51.44\t63.75\t64.57\t\n",
      "39.93\t55.67\t59.04\t63.04\t\n",
      "43.99\t46.09\t59.93\t63.73\t\n",
      "46.27\t50.5\t62.3\t65.72\t\n",
      "50.36\t57.91\t60.0\t64.39\t\n",
      "39.36\t53.68\t55.01\t60.92\t\n",
      "50.12\t52.12\t56.64\t66.34\t\n",
      "56.31\t51.06\t60.32\t66.04\t\n",
      "55.23\t57.19\t60.33\t62.49\t\n",
      "59.23\t62.16\t61.19\t65.84\t\n",
      "63.88\t60.56\t62.37\t68.55\t\n",
      "61.95\t65.33\t63.28\t66.75\t\n",
      "\n",
      "ous19_ar\n",
      "24.74\t35.97\t50.79\t59.8\t\n",
      "27.02\t36.57\t50.64\t61.87\t\n",
      "29.04\t33.97\t51.18\t57.36\t\n",
      "29.27\t33.31\t45.65\t52.57\t\n",
      "25.79\t31.03\t39.07\t55.0\t\n",
      "24.87\t27.11\t40.13\t49.58\t\n",
      "24.95\t27.2\t36.72\t50.32\t\n",
      "25.54\t27.55\t34.83\t45.88\t\n",
      "25.01\t24.55\t34.95\t45.09\t\n",
      "25.63\t27.86\t34.43\t44.61\t\n",
      "25.75\t27.37\t34.23\t39.99\t\n",
      "26.2\t28.44\t30.31\tNone\t\n",
      "\n",
      "ous19_fr\n",
      "None\tNone\tNone\tNone\t\n",
      "None\tNone\tNone\tNone\t\n",
      "None\tNone\tNone\tNone\t\n",
      "None\tNone\tNone\tNone\t\n",
      "None\tNone\tNone\tNone\t\n",
      "None\tNone\tNone\tNone\t\n",
      "None\tNone\tNone\tNone\t\n",
      "None\tNone\tNone\tNone\t\n",
      "None\tNone\tNone\tNone\t\n",
      "None\tNone\tNone\tNone\t\n",
      "None\tNone\tNone\tNone\t\n",
      "None\tNone\tNone\tNone\t\n",
      "\n",
      "san20_it\n",
      "None\tNone\tNone\tNone\t\n",
      "None\tNone\tNone\tNone\t\n",
      "None\tNone\tNone\tNone\t\n",
      "None\tNone\tNone\tNone\t\n",
      "None\tNone\tNone\tNone\t\n",
      "None\tNone\tNone\tNone\t\n",
      "None\tNone\tNone\tNone\t\n",
      "None\tNone\tNone\tNone\t\n",
      "None\tNone\tNone\tNone\t\n",
      "None\tNone\tNone\tNone\t\n",
      "None\tNone\tNone\tNone\t\n",
      "None\tNone\tNone\tNone\t\n",
      "\n",
      "gahd24_de\n",
      "None\tNone\tNone\tNone\t\n",
      "None\tNone\tNone\tNone\t\n",
      "None\tNone\tNone\tNone\t\n",
      "None\tNone\tNone\tNone\t\n",
      "None\tNone\tNone\tNone\t\n",
      "None\tNone\tNone\tNone\t\n",
      "None\tNone\tNone\tNone\t\n",
      "None\tNone\tNone\tNone\t\n",
      "None\tNone\tNone\tNone\t\n",
      "None\tNone\tNone\tNone\t\n",
      "None\tNone\tNone\tNone\t\n",
      "None\tNone\tNone\tNone\t\n"
     ]
    }
   ],
   "source": [
    "for d, data_result in enumerate(hate_check_data_results):\n",
    "    print(data_names[d])\n",
    "\n",
    "    for r, result in enumerate(data_result):\n",
    "        # print(result)\n",
    "        for j in [str(i) for i in result]:\n",
    "            print(j, end=\"\\t\")\n",
    "        print()\n",
    "    print()"
   ]
  },
  {
   "cell_type": "code",
   "execution_count": null,
   "id": "cedc7a640d4be21e",
   "metadata": {
    "ExecuteTime": {
     "end_time": "2025-02-09T12:05:09.176369Z",
     "start_time": "2025-02-09T12:05:09.173689Z"
    }
   },
   "outputs": [],
   "source": []
  },
  {
   "cell_type": "code",
   "execution_count": null,
   "id": "cae249b4a95179bc",
   "metadata": {
    "ExecuteTime": {
     "end_time": "2025-02-09T12:05:09.259303Z",
     "start_time": "2025-02-09T12:05:09.256730Z"
    }
   },
   "outputs": [],
   "source": []
  },
  {
   "cell_type": "code",
   "execution_count": null,
   "id": "8431c6e5ec6c34bc",
   "metadata": {},
   "outputs": [],
   "source": []
  },
  {
   "cell_type": "code",
   "execution_count": 9,
   "id": "209f3513955d10fa",
   "metadata": {
    "ExecuteTime": {
     "end_time": "2025-03-25T11:33:10.473547621Z",
     "start_time": "2025-02-13T17:08:57.100756Z"
    }
   },
   "outputs": [],
   "source": [
    "\n",
    "model_name = \"best-criteria-ratio\"\n",
    "path = os.path.join(results_path, model_name)"
   ]
  },
  {
   "cell_type": "code",
   "execution_count": 11,
   "id": "ad292ce79c0a04ec",
   "metadata": {
    "ExecuteTime": {
     "end_time": "2025-02-13T17:09:21.456498Z",
     "start_time": "2025-02-13T17:09:21.327134Z"
    }
   },
   "outputs": [
    {
     "name": "stdout",
     "output_type": "stream",
     "text": [
      "bas19_es\n"
     ]
    }
   ],
   "source": [
    "data_results = []\n",
    "for data_name in ['bas19_es']:\n",
    "    print(data_name)\n",
    "    splits = []\n",
    "    for split in [10, 20, 30, 40, 50]:\n",
    "        ks = []\n",
    "        for k in [20, 200]:\n",
    "            uniques = []\n",
    "            for unique in [0, 0.1, 0.2, 0.3, 0.4]:\n",
    "                clusters = []\n",
    "                for cluster in [0, 0.1, 0.2, 0.3, 0.4]:\n",
    "                    rss_results = []\n",
    "                    for rs in [\"rs1\", \"rs2\", \"rs3\", \"rs4\", \"rs5\"]:\n",
    "\n",
    "                        specific_path = os.path.join(path, data_name+\"/\"+str(split)+\"/\"+str(k)+\"/\"+str(rs)+\"/uw_\"+str(unique)+\"_cw_\"+str(cluster))\n",
    "                        with open(os.path.join(specific_path, \"evaluation_results.json\"), \"r\") as f:\n",
    "                            file = json.load(f)\n",
    "                            f1 = file.get(\"eval_f1-macro\", '')\n",
    "                            if not f1:\n",
    "                                f1 = file.get(\"test_f1-macro\", '')\n",
    "                            rss_results.append(f1)\n",
    "                    if len(rss_results) >= 3:\n",
    "                        # print(data_name, split, k, rss)\n",
    "                        clusters.append(np.round(np.average(rss_results)*100,2))\n",
    "                    else:\n",
    "                        clusters.append(None)\n",
    "                        # print(data_name, split, k, \"no\")\n",
    "                uniques.append(clusters)\n",
    "            ks.append(uniques)\n",
    "        splits.append(ks)\n",
    "    data_results.append(splits)\n",
    "    # print(split_average)\n",
    "    print()"
   ]
  },
  {
   "cell_type": "code",
   "execution_count": 15,
   "id": "9253fda65c86396f",
   "metadata": {
    "ExecuteTime": {
     "end_time": "2025-02-13T17:20:17.558019Z",
     "start_time": "2025-02-13T17:20:17.548030Z"
    }
   },
   "outputs": [
    {
     "name": "stdout",
     "output_type": "stream",
     "text": [
      "train size: 10 retrieved size: 20\n",
      "\t\tcluster= 0\tcluster= 0.1\tcluster= 0.2\tcluster= 0.3\tcluster= 0.4\t\n",
      "unique word= 0:\t40.78\t41.34\t42.95\t42.55\t41.94\t\n",
      "unique word= 0.1:\t41.34\t41.73\t41.86\t42.03\t43.78\t\n",
      "unique word= 0.2:\t40.26\t42.41\t43.05\t43.6\t43.69\t\n",
      "unique word= 0.3:\t40.86\t42.4\t43.53\t43.67\t43.87\t\n",
      "unique word= 0.4:\t41.1\t41.77\t44.34\t46.02\t41.92\t\n",
      "\n",
      "train size: 10 retrieved size: 200\n",
      "\t\tcluster= 0\tcluster= 0.1\tcluster= 0.2\tcluster= 0.3\tcluster= 0.4\t\n",
      "unique word= 0:\t54.27\t54.96\t55.33\t53.69\t55.45\t\n",
      "unique word= 0.1:\t54.45\t56.71\t55.22\t54.01\t54.88\t\n",
      "unique word= 0.2:\t54.97\t54.64\t55.23\t54.03\t56.02\t\n",
      "unique word= 0.3:\t52.15\t54.27\t52.34\t54.65\t53.55\t\n",
      "unique word= 0.4:\t51.51\t52.15\t55.39\t56.27\t51.72\t\n",
      "\n",
      "\n",
      "\n",
      "\n",
      "\n",
      "train size: 20 retrieved size: 20\n",
      "\t\tcluster= 0\tcluster= 0.1\tcluster= 0.2\tcluster= 0.3\tcluster= 0.4\t\n",
      "unique word= 0:\t53.53\t53.0\t53.13\t52.9\t52.92\t\n",
      "unique word= 0.1:\t54.46\t53.18\t53.06\t53.66\t53.24\t\n",
      "unique word= 0.2:\t52.4\t53.33\t53.32\t52.83\t52.3\t\n",
      "unique word= 0.3:\t52.71\t52.22\t50.8\t51.69\t51.81\t\n",
      "unique word= 0.4:\t53.28\t52.64\t52.21\t53.54\t53.46\t\n",
      "\n",
      "train size: 20 retrieved size: 200\n",
      "\t\tcluster= 0\tcluster= 0.1\tcluster= 0.2\tcluster= 0.3\tcluster= 0.4\t\n",
      "unique word= 0:\t60.17\t59.56\t57.08\t59.9\t58.2\t\n",
      "unique word= 0.1:\t57.57\t59.93\t60.36\t58.09\t57.86\t\n",
      "unique word= 0.2:\t60.12\t59.52\t59.07\t59.68\t58.38\t\n",
      "unique word= 0.3:\t60.11\t61.5\t60.66\t58.84\t59.08\t\n",
      "unique word= 0.4:\t59.66\t60.49\t60.62\t59.16\t59.64\t\n",
      "\n",
      "\n",
      "\n",
      "\n",
      "\n",
      "train size: 30 retrieved size: 20\n",
      "\t\tcluster= 0\tcluster= 0.1\tcluster= 0.2\tcluster= 0.3\tcluster= 0.4\t\n",
      "unique word= 0:\t59.4\t59.44\t59.98\t59.81\t60.29\t\n",
      "unique word= 0.1:\t58.59\t58.48\t58.58\t57.67\t58.67\t\n",
      "unique word= 0.2:\t59.73\t59.12\t57.41\t58.95\t58.43\t\n",
      "unique word= 0.3:\t59.79\t58.84\t58.74\t59.22\t60.0\t\n",
      "unique word= 0.4:\t58.38\t57.93\t59.3\t60.02\t59.71\t\n",
      "\n",
      "train size: 30 retrieved size: 200\n",
      "\t\tcluster= 0\tcluster= 0.1\tcluster= 0.2\tcluster= 0.3\tcluster= 0.4\t\n",
      "unique word= 0:\t60.08\t61.8\t60.62\t62.71\t59.98\t\n",
      "unique word= 0.1:\t62.83\t61.58\t61.4\t61.71\t62.92\t\n",
      "unique word= 0.2:\t62.22\t60.23\t60.01\t61.72\t61.12\t\n",
      "unique word= 0.3:\t61.34\t61.38\t59.04\t60.17\t60.05\t\n",
      "unique word= 0.4:\t60.21\t60.29\t59.71\t61.27\t59.47\t\n",
      "\n",
      "\n",
      "\n",
      "\n",
      "\n",
      "train size: 40 retrieved size: 20\n",
      "\t\tcluster= 0\tcluster= 0.1\tcluster= 0.2\tcluster= 0.3\tcluster= 0.4\t\n",
      "unique word= 0:\t60.35\t60.98\t61.21\t61.59\t61.59\t\n",
      "unique word= 0.1:\t60.47\t61.36\t61.61\t61.16\t61.28\t\n",
      "unique word= 0.2:\t61.11\t61.24\t61.14\t61.27\t61.09\t\n",
      "unique word= 0.3:\t60.43\t60.7\t60.51\t61.0\t61.33\t\n",
      "unique word= 0.4:\t61.39\t61.16\t61.01\t60.85\t61.24\t\n",
      "\n",
      "train size: 40 retrieved size: 200\n",
      "\t\tcluster= 0\tcluster= 0.1\tcluster= 0.2\tcluster= 0.3\tcluster= 0.4\t\n",
      "unique word= 0:\t61.15\t61.87\t61.75\t62.95\t63.16\t\n",
      "unique word= 0.1:\t60.66\t63.43\t62.42\t61.06\t59.74\t\n",
      "unique word= 0.2:\t61.92\t60.32\t60.94\t62.38\t60.47\t\n",
      "unique word= 0.3:\t61.57\t61.73\t61.33\t62.43\t61.26\t\n",
      "unique word= 0.4:\t62.47\t61.6\t61.65\t61.92\t62.13\t\n",
      "\n",
      "\n",
      "\n",
      "\n",
      "\n",
      "train size: 50 retrieved size: 20\n",
      "\t\tcluster= 0\tcluster= 0.1\tcluster= 0.2\tcluster= 0.3\tcluster= 0.4\t\n",
      "unique word= 0:\t62.87\t62.32\t62.19\t62.32\t62.32\t\n",
      "unique word= 0.1:\t62.51\t62.0\t61.94\t61.97\t62.11\t\n",
      "unique word= 0.2:\t62.1\t62.16\t62.13\t62.25\t61.95\t\n",
      "unique word= 0.3:\t62.69\t62.24\t62.26\t62.03\t61.47\t\n",
      "unique word= 0.4:\t61.34\t62.14\t61.67\t61.95\t61.39\t\n",
      "\n",
      "train size: 50 retrieved size: 200\n",
      "\t\tcluster= 0\tcluster= 0.1\tcluster= 0.2\tcluster= 0.3\tcluster= 0.4\t\n",
      "unique word= 0:\t61.12\t64.42\t61.85\t63.35\t62.97\t\n",
      "unique word= 0.1:\t63.86\t63.46\t62.98\t63.79\t64.47\t\n",
      "unique word= 0.2:\t63.7\t63.69\t62.89\t63.7\t63.95\t\n",
      "unique word= 0.3:\t62.1\t64.42\t63.7\t63.49\t63.28\t\n",
      "unique word= 0.4:\t63.21\t64.66\t64.51\t63.5\t62.99\t\n"
     ]
    }
   ],
   "source": [
    "l = [0, 0.1, 0.2, 0.3, 0.4]\n",
    "for split, result in enumerate(data_results[0]):\n",
    "    # print(result)\n",
    "    for k, result in enumerate(result):\n",
    "        print('train size:', [10, 20, 30, 40, 50][split], 'retrieved size:', [20, 200][k])\n",
    "        print('\\t', end='\\t')\n",
    "        for i in l:\n",
    "            print('cluster= ' + str(i), end=\"\\t\")\n",
    "        print()\n",
    "        for unique, result in enumerate(result):\n",
    "            print('unique word= ' + str(l[unique]), end=\":\\t\")\n",
    "            for cluster, result in enumerate(result):\n",
    "                print(result, end=\"\\t\")\n",
    "            print()\n",
    "        print()\n",
    "    print()\n",
    "    print()\n",
    "    print()\n",
    "    print()"
   ]
  },
  {
   "cell_type": "code",
   "execution_count": 25,
   "id": "bf373954198d8c89",
   "metadata": {
    "ExecuteTime": {
     "end_time": "2025-02-13T15:21:30.580562Z",
     "start_time": "2025-02-13T15:21:30.576167Z"
    }
   },
   "outputs": [
    {
     "data": {
      "text/plain": [
       "1"
      ]
     },
     "execution_count": 25,
     "metadata": {},
     "output_type": "execute_result"
    }
   ],
   "source": [
    "len(data_results)"
   ]
  }
 ],
 "metadata": {
  "kernelspec": {
   "display_name": "Python 3 (ipykernel)",
   "language": "python",
   "name": "python3"
  },
  "language_info": {
   "codemirror_mode": {
    "name": "ipython",
    "version": 3
   },
   "file_extension": ".py",
   "mimetype": "text/x-python",
   "name": "python",
   "nbconvert_exporter": "python",
   "pygments_lexer": "ipython3",
   "version": "3.12.8"
  }
 },
 "nbformat": 4,
 "nbformat_minor": 5
}
