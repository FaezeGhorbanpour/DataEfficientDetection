{
 "cells": [
  {
   "cell_type": "code",
   "id": "initial_id",
   "metadata": {
    "collapsed": true,
    "ExecuteTime": {
     "end_time": "2025-01-11T11:39:18.363663Z",
     "start_time": "2025-01-11T11:39:17.930405Z"
    }
   },
   "source": [
    "import pandas as pd\n",
    "import numpy as np\n",
    "import os, json"
   ],
   "outputs": [],
   "execution_count": 1
  },
  {
   "metadata": {
    "ExecuteTime": {
     "end_time": "2025-01-11T11:39:18.399017Z",
     "start_time": "2025-01-11T11:39:18.396433Z"
    }
   },
   "cell_type": "code",
   "source": "results_path = \"/mounts/work/faeze/data_efficient_hate/models/retrieval_finetuner/\"",
   "id": "408034a64ebd7437",
   "outputs": [],
   "execution_count": 2
  },
  {
   "metadata": {
    "ExecuteTime": {
     "end_time": "2025-01-11T11:41:01.150265Z",
     "start_time": "2025-01-11T11:41:01.146129Z"
    }
   },
   "cell_type": "code",
   "source": [
    "\n",
    "model_name = \"only_english\""
   ],
   "id": "79ac16f0e466a6d7",
   "outputs": [],
   "execution_count": 9
  },
  {
   "metadata": {
    "ExecuteTime": {
     "end_time": "2025-01-11T11:41:01.570099Z",
     "start_time": "2025-01-11T11:41:01.565533Z"
    }
   },
   "cell_type": "code",
   "source": "path = os.path.join(results_path, model_name)",
   "id": "6269e9630feaf33c",
   "outputs": [],
   "execution_count": 10
  },
  {
   "metadata": {
    "ExecuteTime": {
     "end_time": "2025-01-11T11:41:01.714269Z",
     "start_time": "2025-01-11T11:41:01.707917Z"
    }
   },
   "cell_type": "code",
   "source": [
    "splits = [10, 20, 30, 40, 50, 100, 200, 300, 400, 500, 1000, 2000]\n",
    "ks = [20, 30, 40, 50, 100, 200, 300, 400, 500, 1000, 2000, 3000, 4000, 5000, 10000, 20000]\n",
    "# splits = [20000]\n",
    "rss = [\"rs\"+str(i) for i in range(1, 6)]"
   ],
   "id": "334eea4bed833002",
   "outputs": [],
   "execution_count": 11
  },
  {
   "metadata": {
    "ExecuteTime": {
     "end_time": "2025-01-11T11:41:01.885358Z",
     "start_time": "2025-01-11T11:41:01.881425Z"
    }
   },
   "cell_type": "code",
   "source": [
    "# data_names = [\"bas19_es\", \"for19_pt\", \"has21_hi\", \"ous19_ar\", \"ous19_fr\", \"san20_it\"]\n",
    "# data_names = [\"dyn21_en\", \"fou18_en\", \"ken20_en\", \"xdomain_en\", \"implicit_en\", \"xplain_en\"]\n",
    "# data_names = [\"bas19_es\", \"for19_pt\", \"has21_hi\", \"ous19_ar\", \"ous19_fr\", \"san20_it\", \"gahd24_de\", \"xdomain_tr\"]\n",
    "data_names = [\"bas19_es\", \"ous19_fr\"]"
   ],
   "id": "f67f9de375bf4d23",
   "outputs": [],
   "execution_count": 12
  },
  {
   "metadata": {
    "ExecuteTime": {
     "end_time": "2025-01-11T12:03:25.862418Z",
     "start_time": "2025-01-11T12:03:25.239053Z"
    }
   },
   "cell_type": "code",
   "source": [
    "data_results = []\n",
    "for data_name in data_names:\n",
    "    print(data_name)\n",
    "    split_average = []\n",
    "    for split in splits:\n",
    "        ks_average = []\n",
    "        for k in ks:\n",
    "            split_path = os.path.join(path, data_name+\"/\"+str(split)+\"/\"+str(k))\n",
    "            rss_results = []\n",
    "            roots = []\n",
    "\n",
    "            split_done = []\n",
    "            rss = []\n",
    "            for root, folders, files in os.walk(split_path):\n",
    "                if \"checkpoint\" in root or \"evaluation_results.json\" not in files:\n",
    "                    continue\n",
    "                with open(os.path.join(root, \"evaluation_results.json\"), \"r\") as f:\n",
    "                    file = json.load(f)\n",
    "                    f1 = file.get(\"eval_f1-macro\", '')\n",
    "                    if not f1:\n",
    "                        f1 = file.get(\"test_f1-macro\", '')\n",
    "                    rss_results.append(f1)\n",
    "                # roots.append(root+\"/\"+folders[0])\n",
    "                split_done.append(split)\n",
    "                rss.append(root.split(\"/\")[-1])\n",
    "            if rss_results:\n",
    "                # print(roots[np.argmax(rss_results)])\n",
    "                # print(data_name, split, k, rss)\n",
    "                # print(rss_results)\n",
    "                ks_average.append(np.round(np.average(rss_results)*100,2))\n",
    "            else:\n",
    "                ks_average.append(None)\n",
    "                print(data_name, split, k, \"no\")\n",
    "            # print(rss)\n",
    "            # print(split_done)\n",
    "        split_average.append(ks_average)\n",
    "    data_results.append(split_average)\n",
    "    # print(split_average)\n",
    "    print()"
   ],
   "id": "6dc76b806e35faef",
   "outputs": [
    {
     "name": "stdout",
     "output_type": "stream",
     "text": [
      "bas19_es\n",
      "bas19_es 400 5000 no\n",
      "bas19_es 400 10000 no\n",
      "bas19_es 1000 5000 no\n",
      "\n",
      "ous19_fr\n",
      "\n"
     ]
    }
   ],
   "execution_count": 16
  },
  {
   "metadata": {
    "ExecuteTime": {
     "end_time": "2025-01-11T11:41:17.997677Z",
     "start_time": "2025-01-11T11:41:17.987404Z"
    }
   },
   "cell_type": "code",
   "source": [
    "for d, data_result in enumerate(data_results):\n",
    "    print(data_names[d])\n",
    "    for r, result in enumerate(data_result):\n",
    "        # print(splits[r])\n",
    "        for j in [str(i) for i in result]:\n",
    "            print(j, end=\"\\t\")\n",
    "        print()\n",
    "    print()"
   ],
   "id": "d52b6282c33a55fb",
   "outputs": [
    {
     "name": "stdout",
     "output_type": "stream",
     "text": [
      "bas19_es\n",
      "38.37\t38.23\t40.9\t37.81\t48.47\t56.76\t57.4\t57.71\t56.29\t58.54\t58.98\t59.67\t58.82\t60.17\t59.79\t57.16\t\n",
      "44.16\t46.84\t46.29\t47.69\t52.2\t57.63\t61.01\t60.98\t61.29\t61.07\t60.65\t60.35\t60.54\t60.56\t62.06\t61.81\t\n",
      "48.12\t47.4\t52.98\t49.68\t58.86\t60.26\t59.61\t63.05\t62.07\t62.47\t62.41\t61.78\t62.94\t62.85\t62.88\t62.12\t\n",
      "43.99\t49.76\t44.26\t46.42\t58.0\t59.51\t62.2\t62.02\t64.34\t63.78\t62.49\t60.1\t61.41\t61.81\t61.59\t60.75\t\n",
      "54.03\t51.24\t54.85\t55.39\t56.39\t58.31\t63.45\t62.06\t61.67\t63.24\t63.67\t62.64\t62.89\t63.47\t62.49\t64.31\t\n",
      "61.97\t62.45\t62.28\t59.88\t61.85\t64.72\t65.36\t66.2\t66.12\t66.83\t66.17\t65.26\t66.44\t66.0\t65.25\t65.04\t\n",
      "69.25\t69.44\t69.73\t70.81\t70.04\t72.12\t70.27\t70.6\t71.53\t70.3\t70.84\t70.3\t70.28\t69.81\t70.07\t69.45\t\n",
      "73.84\t74.24\t74.36\t74.4\t75.03\t72.95\t74.64\t75.1\t75.13\t74.36\t72.62\t73.49\t72.32\t72.48\t72.0\t71.44\t\n",
      "76.07\t75.41\t68.63\t76.33\t75.33\t76.66\t77.19\t77.24\t77.35\t76.41\t75.6\t74.36\t75.72\tNone\tNone\t66.35\t\n",
      "77.42\t78.34\t76.86\t76.6\t77.56\t77.83\t77.28\t77.06\t78.07\t77.57\t75.84\t75.74\t75.39\t77.28\t69.64\t74.12\t\n",
      "79.81\t79.31\t79.57\t79.52\t79.03\t79.88\t80.26\t79.72\t80.16\t79.44\t79.66\t78.86\t78.79\tNone\t36.71\t78.42\t\n",
      "81.31\t81.81\t81.34\t80.71\t81.77\t81.16\t81.44\t81.3\t81.42\t80.89\t81.16\t80.58\t80.9\t80.67\t81.5\t81.64\t\n",
      "\n",
      "ous19_fr\n",
      "47.19\t47.4\t47.31\t47.31\t48.2\t50.33\t50.94\t50.44\t51.47\t52.19\t52.61\t51.32\t51.77\t51.01\t49.37\t50.04\t\n",
      "47.21\t47.4\t47.23\t47.32\t47.41\t49.35\t50.9\t51.49\t51.93\t53.07\t53.57\t53.03\t53.59\t52.91\t53.64\t52.72\t\n",
      "47.22\t47.67\t47.26\t47.48\t47.69\t50.24\t50.62\t52.09\t51.82\t52.66\t53.32\t55.2\t53.82\t52.78\t54.58\t54.09\t\n",
      "47.24\t47.41\t47.18\t47.79\t48.12\t48.13\t50.73\t51.38\t51.75\t52.79\t53.77\t54.2\t54.05\t53.32\t52.89\t55.28\t\n",
      "47.37\t47.35\t47.46\t47.45\t47.65\t49.34\t50.36\t52.17\t51.99\t51.14\t53.8\t54.3\t52.75\t53.71\t54.52\t53.56\t\n",
      "47.21\t47.22\t47.51\t47.96\t47.55\t49.44\t51.52\t50.39\t52.01\t50.93\t52.23\t53.17\t53.61\t51.73\t53.33\t54.99\t\n",
      "47.24\t47.3\t47.9\t48.35\t47.8\t50.88\t51.12\t50.63\t53.08\t52.13\t53.37\t54.09\t53.49\t58.17\t54.43\t54.62\t\n",
      "48.62\t49.06\t49.61\t48.74\t50.22\t48.67\t52.36\t51.09\t53.29\t53.81\t54.67\t54.44\t53.45\t54.98\t53.32\t54.81\t\n",
      "48.19\t51.93\t48.81\t49.91\t52.12\t50.07\t52.12\t53.02\t51.91\t52.87\t54.86\t53.36\t53.77\t53.45\t53.07\t53.1\t\n",
      "51.85\t49.95\t50.22\t50.01\t52.42\t50.79\t53.26\t52.75\t52.95\t52.83\t53.32\t53.91\t53.06\t52.49\t53.77\t52.55\t\n",
      "53.29\t50.9\t52.71\t54.9\t52.33\t52.26\t53.37\t51.39\t54.44\t53.22\t55.02\t54.11\t54.73\t53.8\t53.53\t51.88\t\n",
      "52.7\t52.67\t53.34\t52.46\t54.29\t54.48\t52.69\t53.63\t54.52\t53.25\t53.41\t53.31\t55.19\t52.97\t51.97\t52.34\t\n",
      "\n"
     ]
    }
   ],
   "execution_count": 14
  },
  {
   "metadata": {
    "ExecuteTime": {
     "end_time": "2025-01-11T11:41:18.089153Z",
     "start_time": "2025-01-11T11:41:18.086358Z"
    }
   },
   "cell_type": "code",
   "source": "",
   "id": "7cb1ce2b9bb6be81",
   "outputs": [],
   "execution_count": null
  },
  {
   "metadata": {
    "ExecuteTime": {
     "end_time": "2025-01-11T11:41:18.164640Z",
     "start_time": "2025-01-11T11:41:18.161785Z"
    }
   },
   "cell_type": "code",
   "source": "",
   "id": "26f68e4a6994ffe1",
   "outputs": [],
   "execution_count": null
  },
  {
   "metadata": {
    "ExecuteTime": {
     "end_time": "2025-01-11T11:41:18.220595Z",
     "start_time": "2025-01-11T11:41:18.217799Z"
    }
   },
   "cell_type": "code",
   "source": "",
   "id": "ae9898e69f894b45",
   "outputs": [],
   "execution_count": null
  },
  {
   "metadata": {},
   "cell_type": "code",
   "outputs": [],
   "execution_count": null,
   "source": "",
   "id": "6095117ba48861c9"
  }
 ],
 "metadata": {
  "kernelspec": {
   "display_name": "Python 3",
   "language": "python",
   "name": "python3"
  },
  "language_info": {
   "codemirror_mode": {
    "name": "ipython",
    "version": 2
   },
   "file_extension": ".py",
   "mimetype": "text/x-python",
   "name": "python",
   "nbconvert_exporter": "python",
   "pygments_lexer": "ipython2",
   "version": "2.7.6"
  }
 },
 "nbformat": 4,
 "nbformat_minor": 5
}
