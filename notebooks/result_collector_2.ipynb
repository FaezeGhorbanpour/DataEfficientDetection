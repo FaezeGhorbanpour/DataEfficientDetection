{
 "cells": [
  {
   "cell_type": "code",
   "id": "initial_id",
   "metadata": {
    "collapsed": true,
    "ExecuteTime": {
     "end_time": "2025-01-10T18:32:31.645151Z",
     "start_time": "2025-01-10T18:32:31.234518Z"
    }
   },
   "source": [
    "import pandas as pd\n",
    "import numpy as np\n",
    "import os, json"
   ],
   "outputs": [],
   "execution_count": 1
  },
  {
   "metadata": {
    "ExecuteTime": {
     "end_time": "2025-01-10T18:32:31.683590Z",
     "start_time": "2025-01-10T18:32:31.680337Z"
    }
   },
   "cell_type": "code",
   "source": "results_path = \"/mounts/work/faeze/data_efficient_hate/models/retrieval_finetuner/\"",
   "id": "408034a64ebd7437",
   "outputs": [],
   "execution_count": 2
  },
  {
   "metadata": {
    "ExecuteTime": {
     "end_time": "2025-01-10T18:48:07.461342Z",
     "start_time": "2025-01-10T18:48:07.455785Z"
    }
   },
   "cell_type": "code",
   "source": [
    "\n",
    "model_name = \"random_retrieval\""
   ],
   "id": "79ac16f0e466a6d7",
   "outputs": [],
   "execution_count": 15
  },
  {
   "metadata": {
    "ExecuteTime": {
     "end_time": "2025-01-10T18:48:10.274289Z",
     "start_time": "2025-01-10T18:48:10.269384Z"
    }
   },
   "cell_type": "code",
   "source": "path = os.path.join(results_path, model_name)",
   "id": "6269e9630feaf33c",
   "outputs": [],
   "execution_count": 16
  },
  {
   "metadata": {
    "ExecuteTime": {
     "end_time": "2025-01-10T18:48:10.591535Z",
     "start_time": "2025-01-10T18:48:10.585346Z"
    }
   },
   "cell_type": "code",
   "source": [
    "splits = [10, 20, 30, 40, 50, 100, 200, 300, 400, 500, 1000, 2000]\n",
    "ks = [20, 30, 40, 50, 100, 200, 300, 400, 500, 1000, 2000, 3000, 4000, 5000, 10000, 20000]\n",
    "# splits = [20000]\n",
    "rss = [\"rs\"+str(i) for i in range(1, 6)]"
   ],
   "id": "334eea4bed833002",
   "outputs": [],
   "execution_count": 17
  },
  {
   "metadata": {
    "ExecuteTime": {
     "end_time": "2025-01-10T18:48:10.650654Z",
     "start_time": "2025-01-10T18:48:10.647475Z"
    }
   },
   "cell_type": "code",
   "source": [
    "# data_names = [\"bas19_es\", \"for19_pt\", \"has21_hi\", \"ous19_ar\", \"ous19_fr\", \"san20_it\"]\n",
    "# data_names = [\"dyn21_en\", \"fou18_en\", \"ken20_en\", \"xdomain_en\", \"implicit_en\", \"xplain_en\"]\n",
    "# data_names = [\"bas19_es\", \"for19_pt\", \"has21_hi\", \"ous19_ar\", \"ous19_fr\", \"san20_it\", \"gahd24_de\", \"xdomain_tr\"]\n",
    "data_names = [\"bas19_es\", \"ous19_fr\"]"
   ],
   "id": "f67f9de375bf4d23",
   "outputs": [],
   "execution_count": 18
  },
  {
   "metadata": {
    "ExecuteTime": {
     "end_time": "2025-01-10T19:03:14.247911Z",
     "start_time": "2025-01-10T19:02:27.019778Z"
    }
   },
   "cell_type": "code",
   "source": [
    "data_results = []\n",
    "for data_name in data_names:\n",
    "    print(data_name)\n",
    "    split_average = []\n",
    "    for split in splits:\n",
    "        ks_average = []\n",
    "        for k in ks:\n",
    "            split_path = os.path.join(path, data_name+\"/\"+str(split)+\"/\"+str(k))\n",
    "            rss_results = []\n",
    "            roots = []\n",
    "\n",
    "            split_done = []\n",
    "            rss = []\n",
    "            for root, folders, files in os.walk(split_path):\n",
    "                if \"checkpoint\" in root or \"evaluation_results.json\" not in files:\n",
    "                    continue\n",
    "                with open(os.path.join(root, \"evaluation_results.json\"), \"r\") as f:\n",
    "                    file = json.load(f)\n",
    "                    f1 = file.get(\"eval_f1-macro\", '')\n",
    "                    if not f1:\n",
    "                        f1 = file.get(\"test_f1-macro\", '')\n",
    "                    rss_results.append(f1)\n",
    "                # roots.append(root+\"/\"+folders[0])\n",
    "                split_done.append(split)\n",
    "                rss.append(root.split(\"/\")[-1])\n",
    "            if rss_results:\n",
    "                pass\n",
    "                print(roots[np.argmax(rss_results)])\n",
    "                print(data_name, split, k, rss)\n",
    "                print(rss_results)\n",
    "                ks_average.append(np.round(np.average(rss_results)*100,2))\n",
    "            else:\n",
    "                print(data_name, split, k, \"no\")\n",
    "            # print(rss)\n",
    "            # print(split_done)\n",
    "        split_average.append(ks_average)\n",
    "    data_results.append(split_average)\n",
    "    # print(split_average)\n",
    "    print()"
   ],
   "id": "6dc76b806e35faef",
   "outputs": [
    {
     "name": "stdout",
     "output_type": "stream",
     "text": [
      "bas19_es\n"
     ]
    },
    {
     "ename": "IndexError",
     "evalue": "list index out of range",
     "output_type": "error",
     "traceback": [
      "\u001B[0;31m---------------------------------------------------------------------------\u001B[0m",
      "\u001B[0;31mIndexError\u001B[0m                                Traceback (most recent call last)",
      "Cell \u001B[0;32mIn[22], line 28\u001B[0m\n\u001B[1;32m     26\u001B[0m \u001B[38;5;28;01mif\u001B[39;00m rss_results:\n\u001B[1;32m     27\u001B[0m     \u001B[38;5;28;01mpass\u001B[39;00m\n\u001B[0;32m---> 28\u001B[0m     \u001B[38;5;28mprint\u001B[39m(\u001B[43mroots\u001B[49m\u001B[43m[\u001B[49m\u001B[43mnp\u001B[49m\u001B[38;5;241;43m.\u001B[39;49m\u001B[43margmax\u001B[49m\u001B[43m(\u001B[49m\u001B[43mrss_results\u001B[49m\u001B[43m)\u001B[49m\u001B[43m]\u001B[49m)\n\u001B[1;32m     29\u001B[0m     \u001B[38;5;28mprint\u001B[39m(data_name, split, k, rss)\n\u001B[1;32m     30\u001B[0m     \u001B[38;5;28mprint\u001B[39m(rss_results)\n",
      "\u001B[0;31mIndexError\u001B[0m: list index out of range"
     ]
    }
   ],
   "execution_count": 22
  },
  {
   "metadata": {
    "ExecuteTime": {
     "end_time": "2025-01-10T19:02:13.795244Z",
     "start_time": "2025-01-10T19:02:13.788200Z"
    }
   },
   "cell_type": "code",
   "source": [
    "for d, data_result in enumerate(data_results):\n",
    "    print(data_names[d])\n",
    "    for r, result in enumerate(data_result):\n",
    "        # print(splits[r])\n",
    "        for j in [str(i) for i in result]:\n",
    "            print(j, end=\"\\t\")\n",
    "        print()\n",
    "    print()"
   ],
   "id": "d52b6282c33a55fb",
   "outputs": [
    {
     "name": "stdout",
     "output_type": "stream",
     "text": [
      "bas19_es\n",
      "\n",
      "\n",
      "\n",
      "\n",
      "\n",
      "\n",
      "\n",
      "\n",
      "\n",
      "\n",
      "\n",
      "\n",
      "\n",
      "ous19_fr\n",
      "\n",
      "\n",
      "\n",
      "\n",
      "\n",
      "\n",
      "\n",
      "\n",
      "\n",
      "\n",
      "\n",
      "\n",
      "\n"
     ]
    }
   ],
   "execution_count": 21
  },
  {
   "metadata": {
    "ExecuteTime": {
     "end_time": "2024-12-27T19:51:46.397373Z",
     "start_time": "2024-12-27T19:51:46.394274Z"
    }
   },
   "cell_type": "code",
   "source": "",
   "id": "7cb1ce2b9bb6be81",
   "outputs": [],
   "execution_count": null
  },
  {
   "metadata": {
    "ExecuteTime": {
     "end_time": "2024-12-25T18:08:28.651647Z",
     "start_time": "2024-12-25T18:08:28.648927Z"
    }
   },
   "cell_type": "code",
   "source": "",
   "id": "26f68e4a6994ffe1",
   "outputs": [],
   "execution_count": null
  },
  {
   "metadata": {
    "ExecuteTime": {
     "end_time": "2024-12-25T18:08:28.707948Z",
     "start_time": "2024-12-25T18:08:28.705531Z"
    }
   },
   "cell_type": "code",
   "source": "",
   "id": "ae9898e69f894b45",
   "outputs": [],
   "execution_count": null
  },
  {
   "metadata": {},
   "cell_type": "code",
   "outputs": [],
   "execution_count": null,
   "source": "",
   "id": "6095117ba48861c9"
  }
 ],
 "metadata": {
  "kernelspec": {
   "display_name": "Python 3",
   "language": "python",
   "name": "python3"
  },
  "language_info": {
   "codemirror_mode": {
    "name": "ipython",
    "version": 2
   },
   "file_extension": ".py",
   "mimetype": "text/x-python",
   "name": "python",
   "nbconvert_exporter": "python",
   "pygments_lexer": "ipython2",
   "version": "2.7.6"
  }
 },
 "nbformat": 4,
 "nbformat_minor": 5
}
