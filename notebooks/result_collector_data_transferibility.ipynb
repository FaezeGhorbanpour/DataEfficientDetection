{
 "cells": [
  {
   "cell_type": "code",
   "source": [
    "# ?.,k.\n",
    "import numpy as np\n",
    "import os, json"
   ],
   "metadata": {
    "collapsed": false,
    "ExecuteTime": {
     "end_time": "2025-05-09T22:14:05.048643Z",
     "start_time": "2025-05-09T22:14:04.998892Z"
    }
   },
   "id": "initial_id",
   "outputs": [],
   "execution_count": 3
  },
  {
   "cell_type": "code",
   "id": "408034a64ebd7437",
   "metadata": {
    "ExecuteTime": {
     "end_time": "2025-05-09T22:14:05.699636Z",
     "start_time": "2025-05-09T22:14:05.694869Z"
    }
   },
   "source": [
    "results_path = \"/mounts/data/proj/faeze/transferability_hate/results/\""
   ],
   "outputs": [],
   "execution_count": 4
  },
  {
   "cell_type": "code",
   "id": "79ac16f0e466a6d7",
   "metadata": {
    "ExecuteTime": {
     "end_time": "2025-05-09T22:17:51.577845Z",
     "start_time": "2025-05-09T22:17:51.573688Z"
    }
   },
   "source": [
    "\n",
    "model_name = \"mdeberta-early-stopping\""
   ],
   "outputs": [],
   "execution_count": 12
  },
  {
   "cell_type": "code",
   "id": "6269e9630feaf33c",
   "metadata": {
    "ExecuteTime": {
     "end_time": "2025-05-09T22:17:52.312986Z",
     "start_time": "2025-05-09T22:17:52.309152Z"
    }
   },
   "source": [
    "path = os.path.join(results_path, model_name, 'second')"
   ],
   "outputs": [],
   "execution_count": 13
  },
  {
   "cell_type": "code",
   "id": "334eea4bed833002",
   "metadata": {
    "ExecuteTime": {
     "end_time": "2025-05-09T22:17:52.788828Z",
     "start_time": "2025-05-09T22:17:52.784615Z"
    }
   },
   "source": [
    "splits = [10, 20, 30, 40, 50, 100, 200, 300, 400, 500, 1000, 2000]\n",
    "splits = [2000]\n",
    "rss = [\"rs\"+str(i) for i in range(1, 6)]"
   ],
   "outputs": [],
   "execution_count": 14
  },
  {
   "cell_type": "code",
   "id": "f67f9de375bf4d23",
   "metadata": {
    "ExecuteTime": {
     "end_time": "2025-05-09T22:17:52.957282Z",
     "start_time": "2025-05-09T22:17:52.952692Z"
    }
   },
   "source": [
    "# data_names = [\"bas19_es\", \"for19_pt\", \"has21_hi\", \"ous19_ar\", \"ous19_fr\", \"san20_it\"]\n",
    "data_names = [\"dyn21_en\", \"fou18_en\", \"ken20_en\", \"xdomain_en\", \"implicit_en\", \"xplain_en\", \"bas19_es\", \"for19_pt\", \"has21_hi\", \"ous19_ar\", \"ous19_fr\", \"san20_it\", \"gahd24_de\", \"xdomain_tr\"]\n",
    "for i in data_names:\n",
    "    print(i, end='\\t')"
   ],
   "outputs": [
    {
     "name": "stdout",
     "output_type": "stream",
     "text": [
      "dyn21_en\tfou18_en\tken20_en\txdomain_en\timplicit_en\txplain_en\tbas19_es\tfor19_pt\thas21_hi\tous19_ar\tous19_fr\tsan20_it\tgahd24_de\txdomain_tr\t"
     ]
    }
   ],
   "execution_count": 15
  },
  {
   "cell_type": "code",
   "id": "6dc76b806e35faef",
   "metadata": {
    "scrolled": true,
    "ExecuteTime": {
     "end_time": "2025-05-09T22:18:27.963951Z",
     "start_time": "2025-05-09T22:17:53.298910Z"
    }
   },
   "source": [
    "second_data_results = []\n",
    "for second_data in data_names:\n",
    "    print(second_data)\n",
    "    first_data_results = []\n",
    "    for first_data in data_names:\n",
    "        split_results = []\n",
    "        for split in splits:\n",
    "            split_path = os.path.join(path, second_data, first_data, str(split))\n",
    "            rss_results = []\n",
    "            roots = []\n",
    "\n",
    "            split_done = []\n",
    "            rss = []\n",
    "            for root, folders, files in os.walk(split_path):\n",
    "                if \"checkpoint\" in root or \"evaluation_results.json\" not in files:\n",
    "                    continue\n",
    "                with open(os.path.join(root, \"evaluation_results.json\"), \"r\") as f:\n",
    "                    file = json.load(f)\n",
    "                    f1 = file.get(\"eval_f1-macro\", '')\n",
    "                    if not f1:\n",
    "                        f1 = file.get(\"test_f1-macro\", '')\n",
    "                    rss_results.append(f1)\n",
    "                # roots.append(root+\"/\"+folders[0])\n",
    "                split_done.append(split)\n",
    "                rss.append(root.split(\"/\")[-1])\n",
    "            if len(rss_results) >= 3:\n",
    "                # print(roots[np.argmax(rss_results)])\n",
    "                print(second_data, first_data, split, rss)\n",
    "                # print(rss_results)\n",
    "                split_results.append(np.round(np.average(rss_results)*100,2))\n",
    "            else:\n",
    "                split_results.append(None)\n",
    "                print(second_data, first_data, split, \"no\")\n",
    "            # print(rss)\n",
    "            # print(split_done)\n",
    "        first_data_results.append(split_results)\n",
    "    second_data_results.append(first_data_results)\n",
    "    # print(split_average)\n",
    "    print()"
   ],
   "outputs": [
    {
     "name": "stdout",
     "output_type": "stream",
     "text": [
      "dyn21_en\n",
      "dyn21_en dyn21_en 2000 ['rs3', 'rs4', 'rs2', 'rs5', 'rs1']\n",
      "dyn21_en fou18_en 2000 ['rs3', 'rs4', 'rs2', 'rs5', 'rs1']\n",
      "dyn21_en ken20_en 2000 ['rs3', 'rs4', 'rs2', 'rs5', 'rs1']\n",
      "dyn21_en xdomain_en 2000 ['rs3', 'rs4', 'rs2', 'rs5', 'rs1']\n",
      "dyn21_en implicit_en 2000 ['rs3', 'rs4', 'rs2', 'rs5', 'rs1']\n",
      "dyn21_en xplain_en 2000 ['rs3', 'rs4', 'rs2', 'rs5', 'rs1']\n",
      "dyn21_en bas19_es 2000 ['rs3', 'rs4', 'rs2', 'rs5', 'rs1']\n",
      "dyn21_en for19_pt 2000 ['rs3', 'rs4', 'rs2', 'rs5', 'rs1']\n",
      "dyn21_en has21_hi 2000 ['rs3', 'rs4', 'rs2', 'rs5', 'rs1']\n",
      "dyn21_en ous19_ar 2000 ['rs3', 'rs4', 'rs2', 'rs5', 'rs1']\n",
      "dyn21_en ous19_fr 2000 ['rs3', 'rs4', 'rs2', 'rs5', 'rs1']\n",
      "dyn21_en san20_it 2000 ['rs3', 'rs4', 'rs2', 'rs5', 'rs1']\n",
      "dyn21_en gahd24_de 2000 ['rs3', 'rs4', 'rs2', 'rs5', 'rs1']\n",
      "dyn21_en xdomain_tr 2000 ['rs3', 'rs4', 'rs2', 'rs5', 'rs1']\n",
      "\n",
      "fou18_en\n",
      "fou18_en dyn21_en 2000 ['rs3', 'rs4', 'rs2', 'rs5', 'rs1']\n",
      "fou18_en fou18_en 2000 ['rs3', 'rs4', 'rs2', 'rs5', 'rs1']\n",
      "fou18_en ken20_en 2000 ['rs3', 'rs4', 'rs2', 'rs5', 'rs1']\n",
      "fou18_en xdomain_en 2000 ['rs3', 'rs4', 'rs2', 'rs5', 'rs1']\n",
      "fou18_en implicit_en 2000 ['rs3', 'rs4', 'rs2', 'rs5', 'rs1']\n",
      "fou18_en xplain_en 2000 ['rs3', 'rs4', 'rs2', 'rs5', 'rs1']\n",
      "fou18_en bas19_es 2000 ['rs3', 'rs4', 'rs2', 'rs5', 'rs1']\n",
      "fou18_en for19_pt 2000 ['rs3', 'rs4', 'rs2', 'rs5', 'rs1']\n",
      "fou18_en has21_hi 2000 ['rs3', 'rs4', 'rs2', 'rs5', 'rs1']\n",
      "fou18_en ous19_ar 2000 ['rs3', 'rs4', 'rs2', 'rs5', 'rs1']\n",
      "fou18_en ous19_fr 2000 ['rs3', 'rs4', 'rs2', 'rs5', 'rs1']\n",
      "fou18_en san20_it 2000 ['rs3', 'rs4', 'rs2', 'rs5', 'rs1']\n",
      "fou18_en gahd24_de 2000 ['rs3', 'rs4', 'rs2', 'rs5', 'rs1']\n",
      "fou18_en xdomain_tr 2000 ['rs3', 'rs4', 'rs2', 'rs5', 'rs1']\n",
      "\n",
      "ken20_en\n",
      "ken20_en dyn21_en 2000 ['rs3', 'rs4', 'rs2', 'rs5', 'rs1']\n",
      "ken20_en fou18_en 2000 ['rs3', 'rs4', 'rs2', 'rs5', 'rs1']\n",
      "ken20_en ken20_en 2000 ['rs3', 'rs4', 'rs2', 'rs5', 'rs1']\n",
      "ken20_en xdomain_en 2000 ['rs3', 'rs4', 'rs2', 'rs5', 'rs1']\n",
      "ken20_en implicit_en 2000 ['rs3', 'rs4', 'rs2', 'rs5', 'rs1']\n",
      "ken20_en xplain_en 2000 ['rs3', 'rs4', 'rs2', 'rs5', 'rs1']\n",
      "ken20_en bas19_es 2000 ['rs3', 'rs4', 'rs2', 'rs5', 'rs1']\n",
      "ken20_en for19_pt 2000 ['rs3', 'rs4', 'rs2', 'rs5', 'rs1']\n",
      "ken20_en has21_hi 2000 ['rs3', 'rs4', 'rs2', 'rs5', 'rs1']\n",
      "ken20_en ous19_ar 2000 ['rs3', 'rs4', 'rs2', 'rs5', 'rs1']\n",
      "ken20_en ous19_fr 2000 ['rs3', 'rs4', 'rs2', 'rs5', 'rs1']\n",
      "ken20_en san20_it 2000 ['rs3', 'rs4', 'rs2', 'rs5', 'rs1']\n",
      "ken20_en gahd24_de 2000 ['rs3', 'rs4', 'rs2', 'rs5', 'rs1']\n",
      "ken20_en xdomain_tr 2000 ['rs3', 'rs4', 'rs2', 'rs5', 'rs1']\n",
      "\n",
      "xdomain_en\n",
      "xdomain_en dyn21_en 2000 ['rs3', 'rs4', 'rs2', 'rs5', 'rs1']\n",
      "xdomain_en fou18_en 2000 ['rs3', 'rs4', 'rs2', 'rs5', 'rs1']\n",
      "xdomain_en ken20_en 2000 ['rs3', 'rs4', 'rs2', 'rs5', 'rs1']\n",
      "xdomain_en xdomain_en 2000 ['rs3', 'rs4', 'rs2', 'rs5', 'rs1']\n",
      "xdomain_en implicit_en 2000 ['rs3', 'rs4', 'rs2', 'rs5', 'rs1']\n",
      "xdomain_en xplain_en 2000 ['rs3', 'rs4', 'rs2', 'rs5', 'rs1']\n",
      "xdomain_en bas19_es 2000 ['rs3', 'rs4', 'rs2', 'rs5', 'rs1']\n",
      "xdomain_en for19_pt 2000 ['rs3', 'rs4', 'rs2', 'rs5', 'rs1']\n",
      "xdomain_en has21_hi 2000 ['rs3', 'rs4', 'rs2', 'rs5', 'rs1']\n",
      "xdomain_en ous19_ar 2000 ['rs3', 'rs4', 'rs2', 'rs5', 'rs1']\n",
      "xdomain_en ous19_fr 2000 ['rs3', 'rs4', 'rs2', 'rs5', 'rs1']\n",
      "xdomain_en san20_it 2000 ['rs3', 'rs4', 'rs2', 'rs5', 'rs1']\n",
      "xdomain_en gahd24_de 2000 ['rs3', 'rs4', 'rs2', 'rs5', 'rs1']\n",
      "xdomain_en xdomain_tr 2000 ['rs3', 'rs4', 'rs2', 'rs5', 'rs1']\n",
      "\n",
      "implicit_en\n",
      "implicit_en dyn21_en 2000 ['rs3', 'rs4', 'rs2', 'rs5', 'rs1']\n",
      "implicit_en fou18_en 2000 ['rs3', 'rs4', 'rs2', 'rs5', 'rs1']\n",
      "implicit_en ken20_en 2000 ['rs3', 'rs4', 'rs2', 'rs5', 'rs1']\n",
      "implicit_en xdomain_en 2000 ['rs3', 'rs4', 'rs2', 'rs5', 'rs1']\n",
      "implicit_en implicit_en 2000 ['rs3', 'rs4', 'rs2', 'rs5', 'rs1']\n",
      "implicit_en xplain_en 2000 ['rs3', 'rs4', 'rs2', 'rs5', 'rs1']\n",
      "implicit_en bas19_es 2000 ['rs3', 'rs4', 'rs2', 'rs5', 'rs1']\n",
      "implicit_en for19_pt 2000 ['rs3', 'rs4', 'rs2', 'rs5', 'rs1']\n",
      "implicit_en has21_hi 2000 ['rs3', 'rs4', 'rs2', 'rs5', 'rs1']\n",
      "implicit_en ous19_ar 2000 ['rs3', 'rs4', 'rs2', 'rs5', 'rs1']\n",
      "implicit_en ous19_fr 2000 ['rs3', 'rs4', 'rs2', 'rs5', 'rs1']\n",
      "implicit_en san20_it 2000 ['rs3', 'rs4', 'rs2', 'rs5', 'rs1']\n",
      "implicit_en gahd24_de 2000 ['rs3', 'rs4', 'rs2', 'rs5', 'rs1']\n",
      "implicit_en xdomain_tr 2000 ['rs3', 'rs4', 'rs2', 'rs5', 'rs1']\n",
      "\n",
      "xplain_en\n",
      "xplain_en dyn21_en 2000 ['rs3', 'rs4', 'rs2', 'rs5', 'rs1']\n",
      "xplain_en fou18_en 2000 ['rs3', 'rs4', 'rs2', 'rs5', 'rs1']\n",
      "xplain_en ken20_en 2000 ['rs3', 'rs4', 'rs2', 'rs5', 'rs1']\n",
      "xplain_en xdomain_en 2000 ['rs3', 'rs4', 'rs2', 'rs5', 'rs1']\n",
      "xplain_en implicit_en 2000 ['rs3', 'rs4', 'rs2', 'rs5', 'rs1']\n",
      "xplain_en xplain_en 2000 ['rs3', 'rs4', 'rs2', 'rs5', 'rs1']\n",
      "xplain_en bas19_es 2000 ['rs3', 'rs4', 'rs2', 'rs5', 'rs1']\n",
      "xplain_en for19_pt 2000 ['rs3', 'rs4', 'rs2', 'rs5', 'rs1']\n",
      "xplain_en has21_hi 2000 ['rs3', 'rs4', 'rs2', 'rs5', 'rs1']\n",
      "xplain_en ous19_ar 2000 ['rs3', 'rs4', 'rs2', 'rs5', 'rs1']\n",
      "xplain_en ous19_fr 2000 ['rs3', 'rs4', 'rs2', 'rs5', 'rs1']\n",
      "xplain_en san20_it 2000 ['rs3', 'rs4', 'rs2', 'rs5', 'rs1']\n",
      "xplain_en gahd24_de 2000 ['rs3', 'rs4', 'rs2', 'rs5', 'rs1']\n",
      "xplain_en xdomain_tr 2000 ['rs3', 'rs4', 'rs2', 'rs5', 'rs1']\n",
      "\n",
      "bas19_es\n",
      "bas19_es dyn21_en 2000 ['rs3', 'rs4', 'rs2', 'rs5', 'rs1']\n",
      "bas19_es fou18_en 2000 ['rs3', 'rs4', 'rs2', 'rs5', 'rs1']\n",
      "bas19_es ken20_en 2000 ['rs3', 'rs4', 'rs2', 'rs5', 'rs1']\n",
      "bas19_es xdomain_en 2000 ['rs3', 'rs4', 'rs2', 'rs5', 'rs1']\n",
      "bas19_es implicit_en 2000 ['rs3', 'rs4', 'rs2', 'rs5', 'rs1']\n",
      "bas19_es xplain_en 2000 ['rs3', 'rs4', 'rs2', 'rs5', 'rs1']\n",
      "bas19_es bas19_es 2000 ['rs3', 'rs4', 'rs2', 'rs5', 'rs1']\n",
      "bas19_es for19_pt 2000 ['rs3', 'rs4', 'rs2', 'rs5', 'rs1']\n",
      "bas19_es has21_hi 2000 ['rs3', 'rs4', 'rs2', 'rs5', 'rs1']\n",
      "bas19_es ous19_ar 2000 ['rs3', 'rs4', 'rs2', 'rs5', 'rs1']\n",
      "bas19_es ous19_fr 2000 ['rs3', 'rs4', 'rs2', 'rs5', 'rs1']\n",
      "bas19_es san20_it 2000 ['rs3', 'rs4', 'rs2', 'rs5', 'rs1']\n",
      "bas19_es gahd24_de 2000 ['rs3', 'rs4', 'rs2', 'rs5', 'rs1']\n",
      "bas19_es xdomain_tr 2000 ['rs3', 'rs4', 'rs2', 'rs5', 'rs1']\n",
      "\n",
      "for19_pt\n",
      "for19_pt dyn21_en 2000 ['rs3', 'rs4', 'rs2', 'rs5', 'rs1']\n",
      "for19_pt fou18_en 2000 ['rs3', 'rs4', 'rs2', 'rs5', 'rs1']\n",
      "for19_pt ken20_en 2000 ['rs3', 'rs4', 'rs2', 'rs5', 'rs1']\n",
      "for19_pt xdomain_en 2000 ['rs3', 'rs4', 'rs2', 'rs5', 'rs1']\n",
      "for19_pt implicit_en 2000 ['rs3', 'rs4', 'rs2', 'rs5', 'rs1']\n",
      "for19_pt xplain_en 2000 ['rs3', 'rs4', 'rs2', 'rs5', 'rs1']\n",
      "for19_pt bas19_es 2000 ['rs3', 'rs4', 'rs2', 'rs5', 'rs1']\n",
      "for19_pt for19_pt 2000 ['rs3', 'rs4', 'rs2', 'rs5', 'rs1']\n",
      "for19_pt has21_hi 2000 ['rs3', 'rs4', 'rs2', 'rs5', 'rs1']\n",
      "for19_pt ous19_ar 2000 ['rs3', 'rs4', 'rs2', 'rs5', 'rs1']\n",
      "for19_pt ous19_fr 2000 ['rs3', 'rs4', 'rs2', 'rs5', 'rs1']\n",
      "for19_pt san20_it 2000 ['rs3', 'rs4', 'rs2', 'rs5', 'rs1']\n",
      "for19_pt gahd24_de 2000 ['rs3', 'rs4', 'rs2', 'rs5', 'rs1']\n",
      "for19_pt xdomain_tr 2000 ['rs3', 'rs4', 'rs2', 'rs5', 'rs1']\n",
      "\n",
      "has21_hi\n",
      "has21_hi dyn21_en 2000 ['rs3', 'rs4', 'rs2', 'rs5', 'rs1']\n",
      "has21_hi fou18_en 2000 ['rs3', 'rs4', 'rs2', 'rs5', 'rs1']\n",
      "has21_hi ken20_en 2000 ['rs3', 'rs4', 'rs2', 'rs5', 'rs1']\n",
      "has21_hi xdomain_en 2000 ['rs3', 'rs4', 'rs2', 'rs5', 'rs1']\n",
      "has21_hi implicit_en 2000 ['rs3', 'rs4', 'rs2', 'rs5', 'rs1']\n",
      "has21_hi xplain_en 2000 ['rs3', 'rs4', 'rs2', 'rs5', 'rs1']\n",
      "has21_hi bas19_es 2000 ['rs3', 'rs4', 'rs2', 'rs5', 'rs1']\n",
      "has21_hi for19_pt 2000 ['rs3', 'rs4', 'rs2', 'rs5', 'rs1']\n",
      "has21_hi has21_hi 2000 ['rs3', 'rs4', 'rs2', 'rs5', 'rs1']\n",
      "has21_hi ous19_ar 2000 ['rs3', 'rs4', 'rs2', 'rs5', 'rs1']\n",
      "has21_hi ous19_fr 2000 ['rs3', 'rs4', 'rs2', 'rs5', 'rs1']\n",
      "has21_hi san20_it 2000 ['rs3', 'rs4', 'rs2', 'rs5', 'rs1']\n",
      "has21_hi gahd24_de 2000 ['rs3', 'rs4', 'rs2', 'rs5', 'rs1']\n",
      "has21_hi xdomain_tr 2000 ['rs3', 'rs4', 'rs2', 'rs5', 'rs1']\n",
      "\n",
      "ous19_ar\n",
      "ous19_ar dyn21_en 2000 ['rs3', 'rs4', 'rs2', 'rs5', 'rs1']\n",
      "ous19_ar fou18_en 2000 ['rs3', 'rs4', 'rs2', 'rs5', 'rs1']\n",
      "ous19_ar ken20_en 2000 ['rs3', 'rs4', 'rs2', 'rs5', 'rs1']\n",
      "ous19_ar xdomain_en 2000 ['rs3', 'rs4', 'rs2', 'rs5', 'rs1']\n",
      "ous19_ar implicit_en 2000 ['rs3', 'rs4', 'rs2', 'rs5', 'rs1']\n",
      "ous19_ar xplain_en 2000 ['rs3', 'rs4', 'rs2', 'rs5', 'rs1']\n",
      "ous19_ar bas19_es 2000 ['rs3', 'rs4', 'rs2', 'rs5', 'rs1']\n",
      "ous19_ar for19_pt 2000 ['rs3', 'rs4', 'rs2', 'rs5', 'rs1']\n",
      "ous19_ar has21_hi 2000 ['rs3', 'rs4', 'rs2', 'rs5', 'rs1']\n",
      "ous19_ar ous19_ar 2000 ['rs3', 'rs4', 'rs2', 'rs5', 'rs1']\n",
      "ous19_ar ous19_fr 2000 ['rs3', 'rs4', 'rs2', 'rs5', 'rs1']\n",
      "ous19_ar san20_it 2000 ['rs3', 'rs4', 'rs2', 'rs5', 'rs1']\n",
      "ous19_ar gahd24_de 2000 ['rs3', 'rs4', 'rs2', 'rs5', 'rs1']\n",
      "ous19_ar xdomain_tr 2000 ['rs3', 'rs4', 'rs2', 'rs5', 'rs1']\n",
      "\n",
      "ous19_fr\n",
      "ous19_fr dyn21_en 2000 ['rs3', 'rs4', 'rs2', 'rs5', 'rs1']\n",
      "ous19_fr fou18_en 2000 ['rs3', 'rs4', 'rs2', 'rs5', 'rs1']\n",
      "ous19_fr ken20_en 2000 ['rs3', 'rs4', 'rs2', 'rs5', 'rs1']\n",
      "ous19_fr xdomain_en 2000 ['rs3', 'rs4', 'rs2', 'rs5', 'rs1']\n",
      "ous19_fr implicit_en 2000 ['rs3', 'rs4', 'rs2', 'rs5', 'rs1']\n",
      "ous19_fr xplain_en 2000 ['rs3', 'rs4', 'rs2', 'rs5', 'rs1']\n",
      "ous19_fr bas19_es 2000 ['rs3', 'rs4', 'rs2', 'rs5', 'rs1']\n",
      "ous19_fr for19_pt 2000 ['rs3', 'rs4', 'rs2', 'rs5', 'rs1']\n",
      "ous19_fr has21_hi 2000 ['rs3', 'rs4', 'rs2', 'rs5', 'rs1']\n",
      "ous19_fr ous19_ar 2000 ['rs3', 'rs4', 'rs2', 'rs5', 'rs1']\n",
      "ous19_fr ous19_fr 2000 ['rs3', 'rs4', 'rs2', 'rs5', 'rs1']\n",
      "ous19_fr san20_it 2000 ['rs3', 'rs4', 'rs2', 'rs5', 'rs1']\n",
      "ous19_fr gahd24_de 2000 ['rs3', 'rs4', 'rs2', 'rs5', 'rs1']\n",
      "ous19_fr xdomain_tr 2000 ['rs3', 'rs4', 'rs2', 'rs5', 'rs1']\n",
      "\n",
      "san20_it\n",
      "san20_it dyn21_en 2000 ['rs3', 'rs4', 'rs2', 'rs5', 'rs1']\n",
      "san20_it fou18_en 2000 ['rs3', 'rs4', 'rs2', 'rs5', 'rs1']\n",
      "san20_it ken20_en 2000 ['rs3', 'rs4', 'rs2', 'rs5', 'rs1']\n",
      "san20_it xdomain_en 2000 ['rs3', 'rs4', 'rs2', 'rs5', 'rs1']\n",
      "san20_it implicit_en 2000 ['rs3', 'rs4', 'rs2', 'rs5', 'rs1']\n",
      "san20_it xplain_en 2000 ['rs3', 'rs4', 'rs2', 'rs5', 'rs1']\n",
      "san20_it bas19_es 2000 ['rs3', 'rs4', 'rs2', 'rs5', 'rs1']\n",
      "san20_it for19_pt 2000 ['rs3', 'rs4', 'rs2', 'rs5', 'rs1']\n",
      "san20_it has21_hi 2000 ['rs3', 'rs4', 'rs2', 'rs5', 'rs1']\n",
      "san20_it ous19_ar 2000 ['rs3', 'rs4', 'rs2', 'rs5', 'rs1']\n",
      "san20_it ous19_fr 2000 ['rs3', 'rs4', 'rs2', 'rs5', 'rs1']\n",
      "san20_it san20_it 2000 ['rs3', 'rs4', 'rs2', 'rs5', 'rs1']\n",
      "san20_it gahd24_de 2000 ['rs3', 'rs4', 'rs2', 'rs5', 'rs1']\n",
      "san20_it xdomain_tr 2000 ['rs3', 'rs4', 'rs2', 'rs5', 'rs1']\n",
      "\n",
      "gahd24_de\n",
      "gahd24_de dyn21_en 2000 ['rs3', 'rs4', 'rs2', 'rs5', 'rs1']\n",
      "gahd24_de fou18_en 2000 ['rs3', 'rs4', 'rs2', 'rs5', 'rs1']\n",
      "gahd24_de ken20_en 2000 ['rs3', 'rs4', 'rs2', 'rs5', 'rs1']\n",
      "gahd24_de xdomain_en 2000 ['rs3', 'rs4', 'rs2', 'rs5', 'rs1']\n",
      "gahd24_de implicit_en 2000 ['rs3', 'rs4', 'rs2', 'rs5', 'rs1']\n",
      "gahd24_de xplain_en 2000 ['rs3', 'rs4', 'rs2', 'rs5', 'rs1']\n",
      "gahd24_de bas19_es 2000 ['rs3', 'rs4', 'rs2', 'rs5', 'rs1']\n",
      "gahd24_de for19_pt 2000 ['rs3', 'rs4', 'rs2', 'rs5', 'rs1']\n",
      "gahd24_de has21_hi 2000 ['rs3', 'rs4', 'rs2', 'rs5', 'rs1']\n",
      "gahd24_de ous19_ar 2000 ['rs3', 'rs4', 'rs2', 'rs5', 'rs1']\n",
      "gahd24_de ous19_fr 2000 ['rs3', 'rs4', 'rs2', 'rs5', 'rs1']\n",
      "gahd24_de san20_it 2000 ['rs3', 'rs4', 'rs2', 'rs5', 'rs1']\n",
      "gahd24_de gahd24_de 2000 ['rs3', 'rs4', 'rs2', 'rs5', 'rs1']\n",
      "gahd24_de xdomain_tr 2000 ['rs3', 'rs4', 'rs2', 'rs5', 'rs1']\n",
      "\n",
      "xdomain_tr\n",
      "xdomain_tr dyn21_en 2000 ['rs3', 'rs4', 'rs2', 'rs5', 'rs1']\n",
      "xdomain_tr fou18_en 2000 ['rs3', 'rs4', 'rs2', 'rs5', 'rs1']\n",
      "xdomain_tr ken20_en 2000 ['rs3', 'rs4', 'rs2', 'rs5', 'rs1']\n",
      "xdomain_tr xdomain_en 2000 ['rs3', 'rs4', 'rs2', 'rs5', 'rs1']\n",
      "xdomain_tr implicit_en 2000 ['rs3', 'rs4', 'rs2', 'rs5', 'rs1']\n",
      "xdomain_tr xplain_en 2000 ['rs3', 'rs4', 'rs2', 'rs5', 'rs1']\n",
      "xdomain_tr bas19_es 2000 ['rs3', 'rs4', 'rs2', 'rs5', 'rs1']\n",
      "xdomain_tr for19_pt 2000 ['rs3', 'rs4', 'rs2', 'rs5', 'rs1']\n",
      "xdomain_tr has21_hi 2000 ['rs3', 'rs4', 'rs2', 'rs5', 'rs1']\n",
      "xdomain_tr ous19_ar 2000 ['rs3', 'rs4', 'rs2', 'rs5', 'rs1']\n",
      "xdomain_tr ous19_fr 2000 ['rs3', 'rs4', 'rs2', 'rs5', 'rs1']\n",
      "xdomain_tr san20_it 2000 ['rs3', 'rs4', 'rs2', 'rs5', 'rs1']\n",
      "xdomain_tr gahd24_de 2000 ['rs3', 'rs4', 'rs2', 'rs5', 'rs1']\n",
      "xdomain_tr xdomain_tr 2000 ['rs3', 'rs4', 'rs2', 'rs5', 'rs1']\n",
      "\n"
     ]
    }
   ],
   "execution_count": 16
  },
  {
   "cell_type": "code",
   "id": "d52b6282c33a55fb",
   "metadata": {
    "ExecuteTime": {
     "end_time": "2025-05-09T22:18:28.052482Z",
     "start_time": "2025-05-09T22:18:28.046059Z"
    }
   },
   "source": [
    "for s, second_result in enumerate(second_data_results):\n",
    "    # print(data_names[s])\n",
    "    # for f, first_result in enumerate(second_result):\n",
    "    for j in [str(i[0]) for i in second_result]:\n",
    "        print(j, end=\"\\t\")\n",
    "    print()"
   ],
   "outputs": [
    {
     "name": "stdout",
     "output_type": "stream",
     "text": [
      "71.41\t70.45\t69.69\t70.23\t71.2\t67.82\t70.94\t71.56\t69.7\t69.45\t61.79\t71.42\t72.04\t70.1\t\n",
      "74.62\t76.28\t76.65\t75.48\t75.69\t75.32\t76.11\t76.07\t76.34\t75.82\t75.19\t76.16\t75.75\t76.04\t\n",
      "77.38\t77.81\t77.44\t76.62\t78.38\t76.57\t78.34\t78.98\t78.36\t78.06\t78.01\t78.13\t77.46\t79.06\t\n",
      "88.64\t88.43\t88.45\t89.17\t88.67\t86.89\t88.74\t88.25\t89.04\t88.11\t88.25\t88.34\t88.34\t88.5\t\n",
      "72.37\t72.71\t72.88\t71.9\t73.14\t73.13\t72.91\t73.64\t71.39\t72.6\t72.44\t72.78\t72.8\t72.74\t\n",
      "83.62\t83.79\t84.76\t84.6\t84.02\t85.53\t83.82\t84.68\t84.34\t84.19\t84.48\t85.55\t84.82\t85.14\t\n",
      "80.75\t80.83\t79.47\t79.66\t79.7\t78.64\t80.68\t80.04\t79.42\t79.45\t77.34\t80.31\t80.16\t79.15\t\n",
      "72.01\t72.74\t71.63\t72.33\t71.84\t71.12\t71.64\t71.36\t71.82\t71.98\t64.03\t70.53\t72.18\t72.22\t\n",
      "57.19\t59.55\t57.58\t57.75\t56.98\t55.34\t57.46\t57.96\t59.3\t59.78\t54.68\t59.89\t59.59\t60.93\t\n",
      "67.82\t70.35\t69.56\t70.2\t69.36\t69.14\t68.2\t69.32\t69.64\t68.86\t69.7\t69.11\t69.8\t69.04\t\n",
      "51.27\t50.08\t48.9\t51.65\t51.87\t47.26\t53.5\t50.72\t51.3\t52.32\t51.9\t52.99\t52.56\t48.46\t\n",
      "77.2\t78.12\t77.14\t76.55\t78.39\t74.56\t78.28\t77.66\t77.47\t78.09\t75.5\t77.37\t78.33\t77.48\t\n",
      "80.77\t78.63\t78.55\t77.81\t79.45\t76.94\t79.25\t77.91\t78.57\t77.81\t76.96\t78.59\t78.54\t78.29\t\n",
      "88.25\t88.13\t88.49\t88.91\t88.06\t85.74\t87.67\t88.5\t87.84\t87.38\t86.21\t88.82\t87.87\t88.82\t\n"
     ]
    }
   ],
   "execution_count": 17
  },
  {
   "metadata": {
    "ExecuteTime": {
     "end_time": "2025-05-09T22:18:28.170114Z",
     "start_time": "2025-05-09T22:18:28.167507Z"
    }
   },
   "cell_type": "code",
   "source": "",
   "id": "e63b91cece58ec1e",
   "outputs": [],
   "execution_count": null
  },
  {
   "metadata": {},
   "cell_type": "code",
   "outputs": [],
   "execution_count": null,
   "source": "",
   "id": "e805d1622b8d9602"
  },
  {
   "metadata": {},
   "cell_type": "code",
   "outputs": [],
   "execution_count": null,
   "source": "",
   "id": "a23d8dfa5f53efdb"
  },
  {
   "cell_type": "code",
   "id": "7cb1ce2b9bb6be81",
   "metadata": {
    "ExecuteTime": {
     "end_time": "2025-05-08T16:27:36.825917Z",
     "start_time": "2025-05-08T16:27:36.822491Z"
    }
   },
   "source": "path = os.path.join(results_path, model_name, 'first')",
   "outputs": [],
   "execution_count": 78
  },
  {
   "cell_type": "code",
   "id": "6095117ba48861c9",
   "metadata": {
    "scrolled": true,
    "ExecuteTime": {
     "end_time": "2025-05-08T16:27:42.826084Z",
     "start_time": "2025-05-08T16:27:37.286110Z"
    }
   },
   "source": [
    "\n",
    "first_data_results = []\n",
    "for first_data in data_names:\n",
    "    split_results = []\n",
    "    for split in splits:\n",
    "        split_path = os.path.join(path, first_data, str(split))\n",
    "        rss_results = []\n",
    "        roots = []\n",
    "\n",
    "        split_done = []\n",
    "        rss = []\n",
    "        for root, folders, files in os.walk(split_path):\n",
    "            if \"checkpoint\" in root or \"evaluation_results.json\" not in files:\n",
    "                continue\n",
    "            with open(os.path.join(root, \"evaluation_results.json\"), \"r\") as f:\n",
    "                file = json.load(f)\n",
    "                f1 = file.get(\"eval_f1-macro\", '')\n",
    "                if not f1:\n",
    "                    f1 = file.get(\"test_f1-macro\", '')\n",
    "                rss_results.append(f1)\n",
    "            # roots.append(root+\"/\"+folders[0])\n",
    "            split_done.append(split)\n",
    "            rss.append(root.split(\"/\")[-1])\n",
    "        if len(rss_results) >= 3:\n",
    "            # print(roots[np.argmax(rss_results)])\n",
    "            print(first_data, split, rss)\n",
    "            # print(rss_results)\n",
    "            split_results.append(np.round(np.average(rss_results)*100,2))\n",
    "        else:\n",
    "            split_results.append(None)\n",
    "            print(first_data, split, \"no\")\n",
    "        # print(rss)\n",
    "        # print(split_done)\n",
    "    first_data_results.append(split_results)"
   ],
   "outputs": [
    {
     "name": "stdout",
     "output_type": "stream",
     "text": [
      "dyn21_en 2000 ['rs3', 'rs4', 'rs2', 'rs5', 'rs1']\n",
      "fou18_en 2000 ['rs3', 'rs4', 'rs2', 'rs5', 'rs1']\n",
      "ken20_en 2000 ['rs3', 'rs4', 'rs2', 'rs5', 'rs1']\n",
      "xdomain_en 2000 ['rs3', 'rs4', 'rs2', 'rs5', 'rs1']\n",
      "implicit_en 2000 ['rs3', 'rs4', 'rs2', 'rs5', 'rs1']\n",
      "xplain_en 2000 ['rs3', 'rs4', 'rs2', 'rs5', 'rs1']\n",
      "bas19_es 2000 ['rs3', 'rs4', 'rs2', 'rs5', 'rs1']\n",
      "for19_pt 2000 ['rs3', 'rs4', 'rs2', 'rs5', 'rs1']\n",
      "has21_hi 2000 ['rs3', 'rs4', 'rs2', 'rs5', 'rs1']\n",
      "ous19_ar 2000 ['rs3', 'rs4', 'rs2', 'rs5', 'rs1']\n",
      "ous19_fr 2000 ['rs3', 'rs4', 'rs2', 'rs5', 'rs1']\n",
      "san20_it 2000 ['rs3', 'rs4', 'rs2', 'rs5', 'rs1']\n",
      "gahd24_de 2000 ['rs3', 'rs4', 'rs2', 'rs5', 'rs1']\n",
      "xdomain_tr 2000 ['rs3', 'rs4', 'rs2', 'rs5', 'rs1']\n"
     ]
    }
   ],
   "execution_count": 79
  },
  {
   "cell_type": "code",
   "id": "5c9c875fd23795e3",
   "metadata": {
    "ExecuteTime": {
     "end_time": "2025-05-08T16:27:42.890619Z",
     "start_time": "2025-05-08T16:27:42.886513Z"
    }
   },
   "source": [
    "\n",
    "for j in [str(i[0]) for i in first_data_results]:\n",
    "    print(j, end=\"\\t\")\n",
    "print()"
   ],
   "outputs": [
    {
     "name": "stdout",
     "output_type": "stream",
     "text": [
      "56.3\t63.7\t77.19\t88.04\t58.48\t84.04\t77.13\t63.57\t52.49\t51.11\t47.26\t77.38\t67.07\t85.85\t\n"
     ]
    }
   ],
   "execution_count": 80
  },
  {
   "cell_type": "code",
   "execution_count": null,
   "id": "cedc7a640d4be21e",
   "metadata": {
    "ExecuteTime": {
     "end_time": "2025-02-09T12:05:09.176369Z",
     "start_time": "2025-02-09T12:05:09.173689Z"
    }
   },
   "outputs": [],
   "source": []
  },
  {
   "cell_type": "code",
   "execution_count": null,
   "id": "cae249b4a95179bc",
   "metadata": {
    "ExecuteTime": {
     "end_time": "2025-02-09T12:05:09.259303Z",
     "start_time": "2025-02-09T12:05:09.256730Z"
    }
   },
   "outputs": [],
   "source": []
  },
  {
   "cell_type": "code",
   "execution_count": null,
   "id": "8431c6e5ec6c34bc",
   "metadata": {},
   "outputs": [],
   "source": []
  },
  {
   "cell_type": "code",
   "execution_count": 9,
   "id": "209f3513955d10fa",
   "metadata": {
    "ExecuteTime": {
     "end_time": "2025-03-25T11:33:10.473547621Z",
     "start_time": "2025-02-13T17:08:57.100756Z"
    }
   },
   "outputs": [],
   "source": [
    "\n",
    "model_name = \"best-criteria-ratio\"\n",
    "path = os.path.join(results_path, model_name)"
   ]
  },
  {
   "cell_type": "code",
   "execution_count": 11,
   "id": "ad292ce79c0a04ec",
   "metadata": {
    "ExecuteTime": {
     "end_time": "2025-02-13T17:09:21.456498Z",
     "start_time": "2025-02-13T17:09:21.327134Z"
    }
   },
   "outputs": [
    {
     "name": "stdout",
     "output_type": "stream",
     "text": [
      "bas19_es\n"
     ]
    }
   ],
   "source": [
    "data_results = []\n",
    "for data_name in ['bas19_es']:\n",
    "    print(data_name)\n",
    "    splits = []\n",
    "    for split in [10, 20, 30, 40, 50]:\n",
    "        ks = []\n",
    "        for k in [20, 200]:\n",
    "            uniques = []\n",
    "            for unique in [0, 0.1, 0.2, 0.3, 0.4]:\n",
    "                clusters = []\n",
    "                for cluster in [0, 0.1, 0.2, 0.3, 0.4]:\n",
    "                    rss_results = []\n",
    "                    for rs in [\"rs1\", \"rs2\", \"rs3\", \"rs4\", \"rs5\"]:\n",
    "\n",
    "                        specific_path = os.path.join(path, data_name+\"/\"+str(split)+\"/\"+str(k)+\"/\"+str(rs)+\"/uw_\"+str(unique)+\"_cw_\"+str(cluster))\n",
    "                        with open(os.path.join(specific_path, \"evaluation_results.json\"), \"r\") as f:\n",
    "                            file = json.load(f)\n",
    "                            f1 = file.get(\"eval_f1-macro\", '')\n",
    "                            if not f1:\n",
    "                                f1 = file.get(\"test_f1-macro\", '')\n",
    "                            rss_results.append(f1)\n",
    "                    if len(rss_results) >= 3:\n",
    "                        # print(data_name, split, k, rss)\n",
    "                        clusters.append(np.round(np.average(rss_results)*100,2))\n",
    "                    else:\n",
    "                        clusters.append(None)\n",
    "                        # print(data_name, split, k, \"no\")\n",
    "                uniques.append(clusters)\n",
    "            ks.append(uniques)\n",
    "        splits.append(ks)\n",
    "    data_results.append(splits)\n",
    "    # print(split_average)\n",
    "    print()"
   ]
  },
  {
   "cell_type": "code",
   "execution_count": 15,
   "id": "9253fda65c86396f",
   "metadata": {
    "ExecuteTime": {
     "end_time": "2025-02-13T17:20:17.558019Z",
     "start_time": "2025-02-13T17:20:17.548030Z"
    }
   },
   "outputs": [
    {
     "name": "stdout",
     "output_type": "stream",
     "text": [
      "train size: 10 retrieved size: 20\n",
      "\t\tcluster= 0\tcluster= 0.1\tcluster= 0.2\tcluster= 0.3\tcluster= 0.4\t\n",
      "unique word= 0:\t40.78\t41.34\t42.95\t42.55\t41.94\t\n",
      "unique word= 0.1:\t41.34\t41.73\t41.86\t42.03\t43.78\t\n",
      "unique word= 0.2:\t40.26\t42.41\t43.05\t43.6\t43.69\t\n",
      "unique word= 0.3:\t40.86\t42.4\t43.53\t43.67\t43.87\t\n",
      "unique word= 0.4:\t41.1\t41.77\t44.34\t46.02\t41.92\t\n",
      "\n",
      "train size: 10 retrieved size: 200\n",
      "\t\tcluster= 0\tcluster= 0.1\tcluster= 0.2\tcluster= 0.3\tcluster= 0.4\t\n",
      "unique word= 0:\t54.27\t54.96\t55.33\t53.69\t55.45\t\n",
      "unique word= 0.1:\t54.45\t56.71\t55.22\t54.01\t54.88\t\n",
      "unique word= 0.2:\t54.97\t54.64\t55.23\t54.03\t56.02\t\n",
      "unique word= 0.3:\t52.15\t54.27\t52.34\t54.65\t53.55\t\n",
      "unique word= 0.4:\t51.51\t52.15\t55.39\t56.27\t51.72\t\n",
      "\n",
      "\n",
      "\n",
      "\n",
      "\n",
      "train size: 20 retrieved size: 20\n",
      "\t\tcluster= 0\tcluster= 0.1\tcluster= 0.2\tcluster= 0.3\tcluster= 0.4\t\n",
      "unique word= 0:\t53.53\t53.0\t53.13\t52.9\t52.92\t\n",
      "unique word= 0.1:\t54.46\t53.18\t53.06\t53.66\t53.24\t\n",
      "unique word= 0.2:\t52.4\t53.33\t53.32\t52.83\t52.3\t\n",
      "unique word= 0.3:\t52.71\t52.22\t50.8\t51.69\t51.81\t\n",
      "unique word= 0.4:\t53.28\t52.64\t52.21\t53.54\t53.46\t\n",
      "\n",
      "train size: 20 retrieved size: 200\n",
      "\t\tcluster= 0\tcluster= 0.1\tcluster= 0.2\tcluster= 0.3\tcluster= 0.4\t\n",
      "unique word= 0:\t60.17\t59.56\t57.08\t59.9\t58.2\t\n",
      "unique word= 0.1:\t57.57\t59.93\t60.36\t58.09\t57.86\t\n",
      "unique word= 0.2:\t60.12\t59.52\t59.07\t59.68\t58.38\t\n",
      "unique word= 0.3:\t60.11\t61.5\t60.66\t58.84\t59.08\t\n",
      "unique word= 0.4:\t59.66\t60.49\t60.62\t59.16\t59.64\t\n",
      "\n",
      "\n",
      "\n",
      "\n",
      "\n",
      "train size: 30 retrieved size: 20\n",
      "\t\tcluster= 0\tcluster= 0.1\tcluster= 0.2\tcluster= 0.3\tcluster= 0.4\t\n",
      "unique word= 0:\t59.4\t59.44\t59.98\t59.81\t60.29\t\n",
      "unique word= 0.1:\t58.59\t58.48\t58.58\t57.67\t58.67\t\n",
      "unique word= 0.2:\t59.73\t59.12\t57.41\t58.95\t58.43\t\n",
      "unique word= 0.3:\t59.79\t58.84\t58.74\t59.22\t60.0\t\n",
      "unique word= 0.4:\t58.38\t57.93\t59.3\t60.02\t59.71\t\n",
      "\n",
      "train size: 30 retrieved size: 200\n",
      "\t\tcluster= 0\tcluster= 0.1\tcluster= 0.2\tcluster= 0.3\tcluster= 0.4\t\n",
      "unique word= 0:\t60.08\t61.8\t60.62\t62.71\t59.98\t\n",
      "unique word= 0.1:\t62.83\t61.58\t61.4\t61.71\t62.92\t\n",
      "unique word= 0.2:\t62.22\t60.23\t60.01\t61.72\t61.12\t\n",
      "unique word= 0.3:\t61.34\t61.38\t59.04\t60.17\t60.05\t\n",
      "unique word= 0.4:\t60.21\t60.29\t59.71\t61.27\t59.47\t\n",
      "\n",
      "\n",
      "\n",
      "\n",
      "\n",
      "train size: 40 retrieved size: 20\n",
      "\t\tcluster= 0\tcluster= 0.1\tcluster= 0.2\tcluster= 0.3\tcluster= 0.4\t\n",
      "unique word= 0:\t60.35\t60.98\t61.21\t61.59\t61.59\t\n",
      "unique word= 0.1:\t60.47\t61.36\t61.61\t61.16\t61.28\t\n",
      "unique word= 0.2:\t61.11\t61.24\t61.14\t61.27\t61.09\t\n",
      "unique word= 0.3:\t60.43\t60.7\t60.51\t61.0\t61.33\t\n",
      "unique word= 0.4:\t61.39\t61.16\t61.01\t60.85\t61.24\t\n",
      "\n",
      "train size: 40 retrieved size: 200\n",
      "\t\tcluster= 0\tcluster= 0.1\tcluster= 0.2\tcluster= 0.3\tcluster= 0.4\t\n",
      "unique word= 0:\t61.15\t61.87\t61.75\t62.95\t63.16\t\n",
      "unique word= 0.1:\t60.66\t63.43\t62.42\t61.06\t59.74\t\n",
      "unique word= 0.2:\t61.92\t60.32\t60.94\t62.38\t60.47\t\n",
      "unique word= 0.3:\t61.57\t61.73\t61.33\t62.43\t61.26\t\n",
      "unique word= 0.4:\t62.47\t61.6\t61.65\t61.92\t62.13\t\n",
      "\n",
      "\n",
      "\n",
      "\n",
      "\n",
      "train size: 50 retrieved size: 20\n",
      "\t\tcluster= 0\tcluster= 0.1\tcluster= 0.2\tcluster= 0.3\tcluster= 0.4\t\n",
      "unique word= 0:\t62.87\t62.32\t62.19\t62.32\t62.32\t\n",
      "unique word= 0.1:\t62.51\t62.0\t61.94\t61.97\t62.11\t\n",
      "unique word= 0.2:\t62.1\t62.16\t62.13\t62.25\t61.95\t\n",
      "unique word= 0.3:\t62.69\t62.24\t62.26\t62.03\t61.47\t\n",
      "unique word= 0.4:\t61.34\t62.14\t61.67\t61.95\t61.39\t\n",
      "\n",
      "train size: 50 retrieved size: 200\n",
      "\t\tcluster= 0\tcluster= 0.1\tcluster= 0.2\tcluster= 0.3\tcluster= 0.4\t\n",
      "unique word= 0:\t61.12\t64.42\t61.85\t63.35\t62.97\t\n",
      "unique word= 0.1:\t63.86\t63.46\t62.98\t63.79\t64.47\t\n",
      "unique word= 0.2:\t63.7\t63.69\t62.89\t63.7\t63.95\t\n",
      "unique word= 0.3:\t62.1\t64.42\t63.7\t63.49\t63.28\t\n",
      "unique word= 0.4:\t63.21\t64.66\t64.51\t63.5\t62.99\t\n"
     ]
    }
   ],
   "source": [
    "l = [0, 0.1, 0.2, 0.3, 0.4]\n",
    "for split, result in enumerate(data_results[0]):\n",
    "    # print(result)\n",
    "    for k, result in enumerate(result):\n",
    "        print('train size:', [10, 20, 30, 40, 50][split], 'retrieved size:', [20, 200][k])\n",
    "        print('\\t', end='\\t')\n",
    "        for i in l:\n",
    "            print('cluster= ' + str(i), end=\"\\t\")\n",
    "        print()\n",
    "        for unique, result in enumerate(result):\n",
    "            print('unique word= ' + str(l[unique]), end=\":\\t\")\n",
    "            for cluster, result in enumerate(result):\n",
    "                print(result, end=\"\\t\")\n",
    "            print()\n",
    "        print()\n",
    "    print()\n",
    "    print()\n",
    "    print()\n",
    "    print()"
   ]
  },
  {
   "cell_type": "code",
   "execution_count": 25,
   "id": "bf373954198d8c89",
   "metadata": {
    "ExecuteTime": {
     "end_time": "2025-02-13T15:21:30.580562Z",
     "start_time": "2025-02-13T15:21:30.576167Z"
    }
   },
   "outputs": [
    {
     "data": {
      "text/plain": [
       "1"
      ]
     },
     "execution_count": 25,
     "metadata": {},
     "output_type": "execute_result"
    }
   ],
   "source": [
    "len(data_results)"
   ]
  }
 ],
 "metadata": {
  "kernelspec": {
   "display_name": "Python 3 (ipykernel)",
   "language": "python",
   "name": "python3"
  },
  "language_info": {
   "codemirror_mode": {
    "name": "ipython",
    "version": 3
   },
   "file_extension": ".py",
   "mimetype": "text/x-python",
   "name": "python",
   "nbconvert_exporter": "python",
   "pygments_lexer": "ipython3",
   "version": "3.12.8"
  }
 },
 "nbformat": 4,
 "nbformat_minor": 5
}
