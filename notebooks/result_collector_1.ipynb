{
 "cells": [
  {
   "cell_type": "code",
   "execution_count": 1,
   "id": "initial_id",
   "metadata": {
    "ExecuteTime": {
     "end_time": "2025-01-31T16:35:30.213555Z",
     "start_time": "2025-01-31T16:35:29.831292Z"
    }
   },
   "outputs": [],
   "source": [
    "import pandas as pd\n",
    "import numpy as np\n",
    "import os, json"
   ]
  },
  {
   "cell_type": "code",
   "execution_count": 2,
   "id": "408034a64ebd7437",
   "metadata": {
    "ExecuteTime": {
     "end_time": "2025-01-31T19:26:21.452154Z",
     "start_time": "2025-01-31T19:26:21.448538Z"
    }
   },
   "outputs": [],
   "source": [
    "results_path = \"/mounts/data/proj/faeze/data_efficient_hate/models/finetuner/\""
   ]
  },
  {
   "cell_type": "code",
   "execution_count": 3,
   "id": "79ac16f0e466a6d7",
   "metadata": {
    "ExecuteTime": {
     "end_time": "2025-01-31T19:26:22.308428Z",
     "start_time": "2025-01-31T19:26:22.304822Z"
    }
   },
   "outputs": [],
   "source": [
    "model_name = \"twitter-roberta-english\"\n",
    "# model_name = \"twitter-roberta-combine_dyn21\"\n",
    "# model_name = \"mdeberta-dyn21\"\n",
    "# model_name = \"roberta-default\""
   ]
  },
  {
   "cell_type": "code",
   "execution_count": 4,
   "id": "6269e9630feaf33c",
   "metadata": {
    "ExecuteTime": {
     "end_time": "2025-01-31T14:22:00.188865264Z",
     "start_time": "2025-01-24T18:10:38.588516Z"
    }
   },
   "outputs": [],
   "source": [
    "path = os.path.join(results_path, model_name)"
   ]
  },
  {
   "cell_type": "code",
   "execution_count": 10,
   "id": "334eea4bed833002",
   "metadata": {
    "jupyter": {
     "is_executing": true
    }
   },
   "outputs": [],
   "source": [
    "splits = [10, 20, 30, 40, 50, 100, 200, 300, 400, 500, 1000, 2000]\n",
    "splits = [20000]\n",
    "rss = [\"rs\"+str(i) for i in range(1, 6)]"
   ]
  },
  {
   "cell_type": "code",
   "execution_count": 11,
   "id": "f67f9de375bf4d23",
   "metadata": {
    "ExecuteTime": {
     "end_time": "2025-01-31T14:22:00.190021128Z",
     "start_time": "2025-01-24T18:10:38.940127Z"
    }
   },
   "outputs": [],
   "source": [
    "# data_names = [\"bas19_es\", \"for19_pt\", \"has21_hi\", \"ous19_ar\", \"ous19_fr\", \"san20_it\"]\n",
    "data_names = [\"dyn21_en\", \"fou18_en\", \"ken20_en\", \"xdomain_en\", \"implicit_en\", \"xplain_en\"]\n",
    "# data_names = [\"bas19_es\", \"for19_pt\", \"has21_hi\", \"ous19_ar\", \"ous19_fr\", \"san20_it\", \"gahd24_de\", \"xdomain_tr\"]"
   ]
  },
  {
   "cell_type": "code",
   "execution_count": 15,
   "id": "6dc76b806e35faef",
   "metadata": {
    "ExecuteTime": {
     "end_time": "2025-01-31T14:22:00.190634511Z",
     "start_time": "2025-01-24T18:10:39.133562Z"
    }
   },
   "outputs": [
    {
     "name": "stdout",
     "output_type": "stream",
     "text": [
      "dyn21_en\n",
      "/mounts/data/proj/faeze/data_efficient_hate/models/finetuner/twitter-roberta-english/dyn21_en-20000/rs5/checkpoint-3750\n",
      "[0.7932804091040913, 0.7790079667627982, 0.7867080032564581, 0.8006707404479485, 0.7846315806912423]\n",
      "['rs3', 'rs4', 'rs2', 'rs5', 'rs1']\n",
      "[20000, 20000, 20000, 20000, 20000]\n",
      "\n",
      "fou18_en\n",
      "/mounts/data/proj/faeze/data_efficient_hate/models/finetuner/twitter-roberta-english/fou18_en-20000/rs5/checkpoint-2500\n",
      "[0.7865908418611558, 0.7879144568110514, 0.4424310008363535, 0.7923606471709524, 0.7869649465047446]\n",
      "['rs3', 'rs4', 'rs2', 'rs5', 'rs1']\n",
      "[20000, 20000, 20000, 20000, 20000]\n",
      "\n",
      "ken20_en\n",
      "/mounts/data/proj/faeze/data_efficient_hate/models/finetuner/twitter-roberta-english/ken20_en-20000/rs1/checkpoint-3750\n",
      "[0.8139685606867562, 0.8079807980798079, 0.8069673774867953, 0.8093947382441954, 0.815981598159816]\n",
      "['rs3', 'rs4', 'rs2', 'rs5', 'rs1']\n",
      "[20000, 20000, 20000, 20000, 20000]\n",
      "\n",
      "xdomain_en\n",
      "no\n",
      "[]\n",
      "[]\n",
      "\n",
      "implicit_en\n",
      "no\n",
      "[]\n",
      "[]\n",
      "\n",
      "xplain_en\n",
      "no\n",
      "[]\n",
      "[]\n",
      "\n"
     ]
    }
   ],
   "source": [
    "data_results = []\n",
    "for data_name in data_names:\n",
    "    print(data_name)\n",
    "    split_average = []\n",
    "    for split in splits:\n",
    "        split_path = os.path.join(path, data_name+\"-\"+str(split))\n",
    "        # print(split_path)\n",
    "        rss_results = []\n",
    "        roots = []\n",
    "\n",
    "        split_done = []\n",
    "        rss = []\n",
    "        for root, folders, files in os.walk(split_path):\n",
    "            if \"checkpoint\" in root or \"evaluation_results.json\" not in files:\n",
    "                continue\n",
    "            with open(os.path.join(root, \"evaluation_results.json\"), \"r\") as f:\n",
    "                file = json.load(f)\n",
    "                if 'eval_f1-macro' in file:\n",
    "                    rss_results.append(file[\"eval_f1-macro\"])\n",
    "                elif 'test_f1-macro' in file:\n",
    "                    rss_results.append(file[\"test_f1-macro\"])\n",
    "            roots.append(root+\"/\"+folders[0])\n",
    "            split_done.append(split)\n",
    "            rss.append(root.split(\"/\")[-1])\n",
    "        if len(rss_results) >= 3:\n",
    "            print(roots[np.argmax(rss_results)])\n",
    "            print(rss_results)\n",
    "            split_average.append(np.round(np.average(rss_results)*100,2))\n",
    "        else:\n",
    "            print(\"no\")\n",
    "            split_average.append(None)\n",
    "        print(rss)\n",
    "        print(split_done)\n",
    "    data_results.append(split_average)\n",
    "    # print(split_average)\n",
    "    print()"
   ]
  },
  {
   "cell_type": "code",
   "execution_count": 13,
   "id": "d52b6282c33a55fb",
   "metadata": {
    "ExecuteTime": {
     "end_time": "2025-01-31T14:22:00.191326960Z",
     "start_time": "2025-01-24T18:10:41.858644Z"
    }
   },
   "outputs": [
    {
     "name": "stdout",
     "output_type": "stream",
     "text": [
      "78.89\t\n",
      "71.93\t\n",
      "81.09\t\n",
      "None\t\n",
      "None\t\n",
      "None\t\n"
     ]
    }
   ],
   "source": [
    "for data_result in data_results:\n",
    "    for j in [str(i) for i in data_result]:\n",
    "        print(j, end=\"\\t\")\n",
    "    print()"
   ]
  },
  {
   "cell_type": "code",
   "execution_count": null,
   "id": "7cb1ce2b9bb6be81",
   "metadata": {
    "ExecuteTime": {
     "end_time": "2025-01-24T18:10:42.847339Z",
     "start_time": "2025-01-24T18:10:42.844498Z"
    }
   },
   "outputs": [],
   "source": []
  },
  {
   "cell_type": "code",
   "execution_count": null,
   "id": "26f68e4a6994ffe1",
   "metadata": {
    "ExecuteTime": {
     "end_time": "2025-01-24T18:10:43.695614Z",
     "start_time": "2025-01-24T18:10:43.692838Z"
    }
   },
   "outputs": [],
   "source": []
  },
  {
   "cell_type": "code",
   "execution_count": null,
   "id": "ae9898e69f894b45",
   "metadata": {
    "ExecuteTime": {
     "end_time": "2025-01-24T18:10:44.434763Z",
     "start_time": "2025-01-24T18:10:44.432060Z"
    }
   },
   "outputs": [],
   "source": []
  },
  {
   "cell_type": "code",
   "execution_count": 47,
   "id": "6095117ba48861c9",
   "metadata": {
    "ExecuteTime": {
     "end_time": "2025-01-24T18:10:53.946413Z",
     "start_time": "2025-01-24T18:10:51.963407Z"
    }
   },
   "outputs": [
    {
     "name": "stdout",
     "output_type": "stream",
     "text": [
      "bas19_es\n",
      "bas19_es 10 ['rs3', 'rs4', 'rs2', 'rs5', 'rs1']\n",
      "bas19_es 20 ['rs3', 'rs4', 'rs2', 'rs5', 'rs1']\n",
      "bas19_es 30 ['rs3', 'rs4', 'rs2', 'rs5', 'rs1']\n",
      "bas19_es 40 ['rs3', 'rs4', 'rs2', 'rs5', 'rs1']\n",
      "bas19_es 50 ['rs3', 'rs4', 'rs2', 'rs5', 'rs1']\n",
      "bas19_es 100 ['rs3', 'rs4', 'rs2', 'rs5', 'rs1']\n",
      "bas19_es 200 ['rs3', 'rs4', 'rs2', 'rs5', 'rs1']\n",
      "bas19_es 300 ['rs3', 'rs4', 'rs2', 'rs5', 'rs1']\n",
      "bas19_es 400 ['rs3', 'rs4', 'rs2', 'rs5', 'rs1']\n",
      "bas19_es 500 ['rs3', 'rs4', 'rs2', 'rs5', 'rs1']\n",
      "bas19_es 1000 ['rs3', 'rs4', 'rs2', 'rs5', 'rs1']\n",
      "bas19_es 2000 ['rs3', 'rs4', 'rs2', 'rs5', 'rs1']\n",
      "\n",
      "for19_pt\n",
      "for19_pt 10 ['rs3', 'rs4', 'rs2', 'rs5', 'rs1']\n",
      "for19_pt 20 ['rs3', 'rs4', 'rs2', 'rs5', 'rs1']\n",
      "for19_pt 30 ['rs3', 'rs4', 'rs2', 'rs5', 'rs1']\n",
      "for19_pt 40 ['rs3', 'rs4', 'rs2', 'rs5', 'rs1']\n",
      "for19_pt 50 ['rs3', 'rs4', 'rs2', 'rs5', 'rs1']\n",
      "for19_pt 100 ['rs3', 'rs4', 'rs2', 'rs5', 'rs1']\n",
      "for19_pt 200 ['rs3', 'rs4', 'rs2', 'rs5', 'rs1']\n",
      "for19_pt 300 ['rs3', 'rs4', 'rs2', 'rs5', 'rs1']\n",
      "for19_pt 400 ['rs3', 'rs4', 'rs2', 'rs5', 'rs1']\n",
      "for19_pt 500 ['rs3', 'rs4', 'rs2', 'rs5', 'rs1']\n",
      "for19_pt 1000 ['rs3', 'rs4', 'rs2', 'rs5', 'rs1']\n",
      "for19_pt 2000 ['rs3', 'rs4', 'rs2', 'rs5', 'rs1']\n",
      "\n",
      "has21_hi\n",
      "has21_hi 10 ['rs3', 'rs4', 'rs2', 'rs5', 'rs1']\n",
      "has21_hi 20 ['rs3', 'rs4', 'rs2', 'rs5', 'rs1']\n",
      "has21_hi 30 ['rs3', 'rs4', 'rs2', 'rs5', 'rs1']\n",
      "has21_hi 40 ['rs3', 'rs4', 'rs2', 'rs5', 'rs1']\n",
      "has21_hi 50 ['rs3', 'rs4', 'rs2', 'rs5', 'rs1']\n",
      "has21_hi 100 ['rs3', 'rs4', 'rs2', 'rs5', 'rs1']\n",
      "has21_hi 200 ['rs3', 'rs4', 'rs2', 'rs5', 'rs1']\n",
      "has21_hi 300 ['rs3', 'rs4', 'rs2', 'rs5', 'rs1']\n",
      "has21_hi 400 ['rs3', 'rs4', 'rs2', 'rs5', 'rs1']\n",
      "has21_hi 500 ['rs3', 'rs4', 'rs2', 'rs5', 'rs1']\n",
      "has21_hi 1000 ['rs3', 'rs4', 'rs2', 'rs5', 'rs1']\n",
      "has21_hi 2000 ['rs3', 'rs4', 'rs2', 'rs5', 'rs1']\n",
      "\n",
      "ous19_ar\n",
      "ous19_ar 10 ['rs3', 'rs4', 'rs2', 'rs5', 'rs1']\n",
      "ous19_ar 20 ['rs3', 'rs4', 'rs2', 'rs5', 'rs1']\n",
      "ous19_ar 30 ['rs3', 'rs4', 'rs2', 'rs5', 'rs1']\n",
      "ous19_ar 40 ['rs3', 'rs4', 'rs2', 'rs5', 'rs1']\n",
      "ous19_ar 50 ['rs3', 'rs4', 'rs2', 'rs5', 'rs1']\n",
      "ous19_ar 100 ['rs3', 'rs4', 'rs2', 'rs5', 'rs1']\n",
      "ous19_ar 200 ['rs3', 'rs4', 'rs2', 'rs5', 'rs1']\n",
      "ous19_ar 300 ['rs3', 'rs4', 'rs2', 'rs5', 'rs1']\n",
      "ous19_ar 400 ['rs3', 'rs4', 'rs2', 'rs5', 'rs1']\n",
      "ous19_ar 500 ['rs3', 'rs4', 'rs2', 'rs5', 'rs1']\n",
      "ous19_ar 1000 ['rs3', 'rs4', 'rs2', 'rs5', 'rs1']\n",
      "ous19_ar 2000 ['rs3', 'rs4', 'rs2', 'rs5', 'rs1']\n",
      "\n",
      "ous19_fr\n",
      "ous19_fr 10 ['rs3', 'rs4', 'rs2', 'rs5', 'rs1']\n",
      "ous19_fr 20 ['rs3', 'rs4', 'rs2', 'rs5', 'rs1']\n",
      "ous19_fr 30 ['rs3', 'rs4', 'rs2', 'rs5', 'rs1']\n",
      "ous19_fr 40 ['rs3', 'rs4', 'rs2', 'rs5', 'rs1']\n",
      "ous19_fr 50 ['rs3', 'rs4', 'rs2', 'rs5', 'rs1']\n",
      "ous19_fr 100 ['rs3', 'rs4', 'rs2', 'rs5', 'rs1']\n",
      "ous19_fr 200 ['rs3', 'rs4', 'rs2', 'rs5', 'rs1']\n",
      "ous19_fr 300 ['rs3', 'rs4', 'rs2', 'rs5', 'rs1']\n",
      "ous19_fr 400 ['rs3', 'rs4', 'rs2', 'rs5', 'rs1']\n",
      "ous19_fr 500 ['rs3', 'rs4', 'rs2', 'rs5', 'rs1']\n",
      "ous19_fr 1000 ['rs3', 'rs4', 'rs2', 'rs5', 'rs1']\n",
      "ous19_fr 2000 ['rs3', 'rs4', 'rs2', 'rs5', 'rs1']\n",
      "\n",
      "san20_it\n",
      "san20_it 10 ['rs3', 'rs4', 'rs2', 'rs5', 'rs1']\n",
      "san20_it 20 ['rs3', 'rs4', 'rs2', 'rs5', 'rs1']\n",
      "san20_it 30 ['rs3', 'rs4', 'rs2', 'rs5', 'rs1']\n",
      "san20_it 40 ['rs3', 'rs4', 'rs2', 'rs5', 'rs1']\n",
      "san20_it 50 ['rs3', 'rs4', 'rs2', 'rs1']\n",
      "san20_it 100 ['rs3', 'rs4', 'rs2', 'rs5', 'rs1']\n",
      "san20_it 200 ['rs3', 'rs4', 'rs2', 'rs5', 'rs1']\n",
      "san20_it 300 ['rs3', 'rs4', 'rs2', 'rs5', 'rs1']\n",
      "san20_it 400 ['rs3', 'rs4', 'rs2', 'rs5', 'rs1']\n",
      "san20_it 500 ['rs3', 'rs4', 'rs2', 'rs5', 'rs1']\n",
      "san20_it 1000 ['rs3', 'rs4', 'rs2', 'rs5', 'rs1']\n",
      "san20_it 2000 ['rs3', 'rs4', 'rs2', 'rs5', 'rs1']\n",
      "\n",
      "gahd24_de\n",
      "gahd24_de 10 ['rs3', 'rs4', 'rs2', 'rs5', 'rs1']\n",
      "gahd24_de 20 ['rs3', 'rs4', 'rs2', 'rs5', 'rs1']\n",
      "gahd24_de 30 ['rs3', 'rs4', 'rs2', 'rs5', 'rs1']\n",
      "gahd24_de 40 ['rs3', 'rs4', 'rs2', 'rs5', 'rs1']\n",
      "gahd24_de 50 ['rs3', 'rs4', 'rs2', 'rs5', 'rs1']\n",
      "gahd24_de 100 ['rs3', 'rs4', 'rs2', 'rs5', 'rs1']\n",
      "gahd24_de 200 ['rs3', 'rs4', 'rs2', 'rs5', 'rs1']\n",
      "gahd24_de 300 ['rs3', 'rs4', 'rs2', 'rs5', 'rs1']\n",
      "gahd24_de 400 ['rs3', 'rs4', 'rs2', 'rs5', 'rs1']\n",
      "gahd24_de 500 ['rs3', 'rs4', 'rs2', 'rs5', 'rs1']\n",
      "gahd24_de 1000 ['rs3', 'rs4', 'rs2', 'rs5', 'rs1']\n",
      "gahd24_de 2000 ['rs3', 'rs4', 'rs2', 'rs5', 'rs1']\n",
      "\n",
      "xdomain_tr\n",
      "xdomain_tr 10 no\n",
      "xdomain_tr 20 no\n",
      "xdomain_tr 30 no\n",
      "xdomain_tr 40 no\n",
      "xdomain_tr 50 no\n",
      "xdomain_tr 100 no\n",
      "xdomain_tr 200 no\n",
      "xdomain_tr 300 no\n",
      "xdomain_tr 400 no\n",
      "xdomain_tr 500 no\n",
      "xdomain_tr 1000 no\n",
      "xdomain_tr 2000 no\n",
      "\n"
     ]
    }
   ],
   "source": [
    "hate_check_data_results = []\n",
    "for data_name in data_names:\n",
    "    print(data_name)\n",
    "    hate_check_split_average = []\n",
    "    for split in splits:\n",
    "        split_path = os.path.join(path, data_name+\"/\"+str(split))\n",
    "        rss_hate_check_results = []\n",
    "\n",
    "        hate_check_split_done = []\n",
    "        hate_check_rss = []\n",
    "        for root, folders, files in os.walk(split_path):\n",
    "            if \"checkpoint\" in root or \"hate_check_results.json\" not in files:\n",
    "                continue\n",
    "            with open(os.path.join(root, \"hate_check_results.json\"), \"r\") as f:\n",
    "                file = json.load(f)\n",
    "                f1 = file.get(\"hate_check_f1-macro\", '')\n",
    "                if not f1:\n",
    "                    f1 = file.get(\"hate_check_f1-macro\", '')\n",
    "                rss_hate_check_results.append(f1)\n",
    "            hate_check_split_done.append(split)\n",
    "            hate_check_rss.append(root.split(\"/\")[-1])\n",
    "        if len(rss_hate_check_results) >= 3:\n",
    "            print(data_name, split, hate_check_rss)\n",
    "            # print(rss_hate_check_results)\n",
    "            hate_check_split_average.append(np.round(np.average(rss_hate_check_results)*100,2))\n",
    "        else:\n",
    "            hate_check_split_average.append(None)\n",
    "            print(data_name, split, \"no\")\n",
    "    hate_check_data_results.append(hate_check_split_average)\n",
    "    # print(split_average)\n",
    "    print()"
   ]
  },
  {
   "cell_type": "code",
   "execution_count": 48,
   "id": "2fd3c8c21f971f5c",
   "metadata": {
    "ExecuteTime": {
     "end_time": "2025-01-24T18:10:54.007601Z",
     "start_time": "2025-01-24T18:10:54.002660Z"
    }
   },
   "outputs": [
    {
     "name": "stdout",
     "output_type": "stream",
     "text": [
      "81.58\t81.55\t80.83\t82.17\t81.08\t81.2\t79.72\t80.47\t80.94\t80.31\t80.75\t80.53\t\n",
      "78.46\t76.47\t75.88\t77.5\t76.88\t77.87\t77.61\t78.67\t78.59\t78.39\t80.67\t78.63\t\n",
      "65.75\t65.19\t66.34\t66.8\t65.97\t60.87\t61.52\t66.38\t61.55\t63.92\t65.4\t63.52\t\n",
      "69.13\t68.9\t66.97\t66.94\t66.49\t62.45\t60.06\t54.42\t54.68\t49.22\t44.53\t34.09\t\n",
      "81.3\t80.82\t80.06\t80.07\t77.66\t75.35\t70.48\t65.08\t60.62\t62.43\t67.0\t58.63\t\n",
      "83.1\t73.52\t81.3\t81.25\t82.29\t81.4\t77.71\t79.84\t81.84\t69.86\t81.65\t80.17\t\n",
      "80.9\t79.92\t80.01\t80.58\t71.73\t79.32\t78.87\t63.27\t79.06\t75.75\t74.79\t78.04\t\n",
      "None\tNone\tNone\tNone\tNone\tNone\tNone\tNone\tNone\tNone\tNone\tNone\t\n"
     ]
    }
   ],
   "source": [
    "for data_result in hate_check_data_results:\n",
    "    for j in [str(i) for i in data_result]:\n",
    "        print(j, end=\"\\t\")\n",
    "    print()"
   ]
  }
 ],
 "metadata": {
  "kernelspec": {
   "display_name": "Python 3 (ipykernel)",
   "language": "python",
   "name": "python3"
  },
  "language_info": {
   "codemirror_mode": {
    "name": "ipython",
    "version": 3
   },
   "file_extension": ".py",
   "mimetype": "text/x-python",
   "name": "python",
   "nbconvert_exporter": "python",
   "pygments_lexer": "ipython3",
   "version": "3.12.8"
  }
 },
 "nbformat": 4,
 "nbformat_minor": 5
}
