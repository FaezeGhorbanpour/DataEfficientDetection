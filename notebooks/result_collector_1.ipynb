{
 "cells": [
  {
   "cell_type": "code",
   "execution_count": 1,
   "outputs": [],
   "source": [
    "\n",
    "import numpy as np\n",
    "import os, json"
   ],
   "metadata": {
    "collapsed": false,
    "ExecuteTime": {
     "end_time": "2025-04-18T00:03:43.286061700Z",
     "start_time": "2025-04-18T00:03:43.115819300Z"
    }
   },
   "id": "initial_id"
  },
  {
   "cell_type": "code",
   "id": "408034a64ebd7437",
   "metadata": {
    "ExecuteTime": {
     "end_time": "2025-04-18T00:03:47.155235500Z",
     "start_time": "2025-04-18T00:03:47.092718500Z"
    }
   },
   "source": [
    "results_path = \"/mounts/data/proj/faeze/data_efficient_hate/models/finetuner/\""
   ],
   "outputs": [],
   "execution_count": 2
  },
  {
   "cell_type": "code",
   "id": "79ac16f0e466a6d7",
   "metadata": {
    "ExecuteTime": {
     "end_time": "2025-04-18T00:06:33.086281200Z",
     "start_time": "2025-04-18T00:06:33.008148500Z"
    }
   },
   "source": [
    "model_name = \"mdeberta-full\"\n",
    "# model_name = \"twitter-roberta-combine_dyn21\"\n",
    "# model_name = \"mdeberta-dyn21\"\n",
    "# model_name = \"roberta-default\""
   ],
   "outputs": [],
   "execution_count": 23
  },
  {
   "cell_type": "code",
   "id": "6269e9630feaf33c",
   "metadata": {
    "ExecuteTime": {
     "end_time": "2025-04-18T00:06:33.226899800Z",
     "start_time": "2025-04-18T00:06:33.164440100Z"
    }
   },
   "source": [
    "path = os.path.join(results_path, model_name)"
   ],
   "outputs": [],
   "execution_count": 24
  },
  {
   "cell_type": "code",
   "id": "334eea4bed833002",
   "metadata": {
    "ExecuteTime": {
     "end_time": "2025-04-18T00:06:33.640029800Z",
     "start_time": "2025-04-18T00:06:33.603207100Z"
    }
   },
   "source": [
    "splits = [10, 20, 30, 40, 50, 100, 200, 300, 400, 500, 1000, 2000]\n",
    "splits = [2000]\n",
    "splits = ['full']\n",
    "rss = [\"rs\"+str(i) for i in range(1, 6)]"
   ],
   "outputs": [],
   "execution_count": 25
  },
  {
   "cell_type": "code",
   "id": "f67f9de375bf4d23",
   "metadata": {
    "ExecuteTime": {
     "end_time": "2025-04-18T00:06:33.640029800Z",
     "start_time": "2025-04-18T00:06:33.604276900Z"
    }
   },
   "source": [
    "# data_names = [\"bas19_es\", \"for19_pt\", \"has21_hi\", \"ous19_ar\", \"ous19_fr\", \"san20_it\"]\n",
    "# data_names = [\"dyn21_en\", \"fou18_en\", \"ken20_en\", \"xdomain_en\", \"implicit_en\", \"xplain_en\"]\n",
    "data_names = [\"bas19_es\", \"for19_pt\", \"has21_hi\", \"ous19_ar\", \"ous19_fr\", \"san20_it\", \"gahd24_de\", \"xdomain_tr\"]"
   ],
   "outputs": [],
   "execution_count": 26
  },
  {
   "cell_type": "code",
   "id": "6dc76b806e35faef",
   "metadata": {
    "ExecuteTime": {
     "end_time": "2025-04-18T00:06:34.169660700Z",
     "start_time": "2025-04-18T00:06:33.796282300Z"
    }
   },
   "source": [
    "data_results = []\n",
    "for data_name in data_names:\n",
    "    print(data_name)\n",
    "    split_average = []\n",
    "    for split in splits:\n",
    "        split_path = os.path.join(path, data_name+\"/\"+str(split))\n",
    "        # print(split_path)\n",
    "        rss_results = []\n",
    "        roots = []\n",
    "\n",
    "        split_done = []\n",
    "        rss = []\n",
    "        for root, folders, files in os.walk(split_path):\n",
    "            if \"checkpoint\" in root or \"evaluation_results.json\" not in files:\n",
    "                continue\n",
    "            with open(os.path.join(root, \"evaluation_results.json\"), \"r\") as f:\n",
    "                file = json.load(f)\n",
    "                if 'eval_f1-macro' in file:\n",
    "                    rss_results.append(file[\"eval_f1-macro\"])\n",
    "                elif 'test_f1-macro' in file:\n",
    "                    rss_results.append(file[\"test_f1-macro\"])\n",
    "            # roots.append(root+\"/\"+folders[0])\n",
    "            split_done.append(split)\n",
    "            rss.append(root.split(\"/\")[-1])\n",
    "        if len(rss_results) >= 3:\n",
    "            # print(roots[np.argmax(rss_results)])\n",
    "            print(rss_results)\n",
    "            split_average.append(np.round(np.average(rss_results)*100,2))\n",
    "        else:\n",
    "            print(\"no\")\n",
    "            split_average.append(None)\n",
    "        print(rss)\n",
    "        print(split_done)\n",
    "    data_results.append(split_average)\n",
    "    # print(split_average)\n",
    "    print()"
   ],
   "outputs": [
    {
     "name": "stdout",
     "output_type": "stream",
     "text": [
      "bas19_es\n",
      "[0.8237683656090313, 0.7975043950750614, 0.7977341617527589, 0.8135528675952075, 0.8397955956112209]\n",
      "['rs3', 'rs4', 'rs2', 'rs5', 'rs1']\n",
      "['full', 'full', 'full', 'full', 'full']\n",
      "\n",
      "for19_pt\n",
      "[0.7258679430032271, 0.7285831382703203, 0.7428363636363636, 0.7300233855009894, 0.73350303499477]\n",
      "['rs3', 'rs4', 'rs2', 'rs5', 'rs1']\n",
      "['full', 'full', 'full', 'full', 'full']\n",
      "\n",
      "has21_hi\n",
      "[0.46865037194473963, 0.5674575011379616, 0.46865037194473963, 0.5933583429705056, 0.46865037194473963]\n",
      "['rs3', 'rs4', 'rs2', 'rs5', 'rs1']\n",
      "['full', 'full', 'full', 'full', 'full']\n",
      "\n",
      "ous19_ar\n",
      "[0.686617730095991, 0.6777773799720741, 0.6597063880756322, 0.6972563859981078, 0.6958637469586375]\n",
      "['rs3', 'rs4', 'rs2', 'rs5', 'rs1']\n",
      "['full', 'full', 'full', 'full', 'full']\n",
      "\n",
      "ous19_fr\n",
      "[0.47257383966244726, 0.5481481481481482, 0.545199326221224, 0.47257383966244726, 0.5394752379377937]\n",
      "['rs3', 'rs4', 'rs2', 'rs5', 'rs1']\n",
      "['full', 'full', 'full', 'full', 'full']\n",
      "\n",
      "san20_it\n",
      "[0.7968687445537039, 0.8045433939248812, 0.8067495925637242, 0.7946984416771614, 0.7823999098290273]\n",
      "['rs3', 'rs4', 'rs2', 'rs5', 'rs1']\n",
      "['full', 'full', 'full', 'full', 'full']\n",
      "\n",
      "gahd24_de\n",
      "[0.8078134291513382, 0.7991840772800678, 0.8084572248304642, 0.8052043168972984, 0.7989555309384396]\n",
      "['rs3', 'rs4', 'rs2', 'rs5', 'rs1']\n",
      "['full', 'full', 'full', 'full', 'full']\n",
      "\n",
      "xdomain_tr\n",
      "[0.9229125969240084, 0.9252266758443239, 0.9280177229555311, 0.93354435556428, 0.9263875938558178]\n",
      "['rs3', 'rs4', 'rs2', 'rs5', 'rs1']\n",
      "['full', 'full', 'full', 'full', 'full']\n"
     ]
    }
   ],
   "execution_count": 27
  },
  {
   "cell_type": "code",
   "id": "d52b6282c33a55fb",
   "metadata": {
    "ExecuteTime": {
     "end_time": "2025-04-18T00:06:34.341534300Z",
     "start_time": "2025-04-18T00:06:33.936906800Z"
    }
   },
   "source": [
    "for data_result in data_results:\n",
    "    for j in [str(i) for i in data_result]:\n",
    "        print(j, end=\"\\t\")\n",
    "    print()"
   ],
   "outputs": [
    {
     "name": "stdout",
     "output_type": "stream",
     "text": [
      "81.45\t\n",
      "73.22\t\n",
      "51.34\t\n",
      "68.34\t\n",
      "51.56\t\n",
      "79.71\t\n",
      "80.39\t\n",
      "92.72\t\n"
     ]
    }
   ],
   "execution_count": 28
  },
  {
   "cell_type": "code",
   "id": "7cb1ce2b9bb6be81",
   "metadata": {
    "ExecuteTime": {
     "end_time": "2025-04-18T00:06:34.390392700Z",
     "start_time": "2025-04-18T00:06:34.082740700Z"
    }
   },
   "source": [],
   "outputs": [],
   "execution_count": 28
  },
  {
   "cell_type": "code",
   "id": "26f68e4a6994ffe1",
   "metadata": {
    "ExecuteTime": {
     "end_time": "2025-04-18T00:06:34.878145400Z",
     "start_time": "2025-04-18T00:06:34.468584700Z"
    }
   },
   "source": [],
   "outputs": [],
   "execution_count": 28
  },
  {
   "cell_type": "code",
   "execution_count": 28,
   "id": "ae9898e69f894b45",
   "metadata": {
    "ExecuteTime": {
     "end_time": "2025-04-18T00:06:35.086195200Z",
     "start_time": "2025-04-18T00:06:34.628131Z"
    }
   },
   "outputs": [],
   "source": []
  },
  {
   "cell_type": "code",
   "execution_count": 29,
   "id": "6095117ba48861c9",
   "metadata": {
    "ExecuteTime": {
     "end_time": "2025-04-18T00:06:36.151755700Z",
     "start_time": "2025-04-18T00:06:34.721881200Z"
    }
   },
   "outputs": [
    {
     "name": "stdout",
     "output_type": "stream",
     "text": [
      "bas19_es\n",
      "bas19_es full ['rs3', 'rs4', 'rs2', 'rs5', 'rs1']\n",
      "\n",
      "for19_pt\n",
      "for19_pt full ['rs3', 'rs4', 'rs2', 'rs5', 'rs1']\n",
      "\n",
      "has21_hi\n",
      "has21_hi full ['rs3', 'rs4', 'rs2', 'rs5', 'rs1']\n",
      "\n",
      "ous19_ar\n",
      "ous19_ar full ['rs3', 'rs4', 'rs2', 'rs5', 'rs1']\n",
      "\n",
      "ous19_fr\n",
      "ous19_fr full ['rs3', 'rs4', 'rs2', 'rs5', 'rs1']\n",
      "\n",
      "san20_it\n",
      "san20_it full ['rs3', 'rs4', 'rs2', 'rs5', 'rs1']\n",
      "\n",
      "gahd24_de\n",
      "gahd24_de full ['rs3', 'rs4', 'rs2', 'rs5', 'rs1']\n",
      "\n",
      "xdomain_tr\n",
      "xdomain_tr full no\n"
     ]
    }
   ],
   "source": [
    "hate_check_data_results = []\n",
    "for data_name in data_names:\n",
    "    print(data_name)\n",
    "    hate_check_split_average = []\n",
    "    for split in splits:\n",
    "        split_path = os.path.join(path, data_name+\"/\"+str(split))\n",
    "        rss_hate_check_results = []\n",
    "\n",
    "        hate_check_split_done = []\n",
    "        hate_check_rss = []\n",
    "        for root, folders, files in os.walk(split_path):\n",
    "            if \"checkpoint\" in root or \"hate_check_results.json\" not in files:\n",
    "                continue\n",
    "            with open(os.path.join(root, \"hate_check_results.json\"), \"r\") as f:\n",
    "                file = json.load(f)\n",
    "                f1 = file.get(\"hate_check_f1-macro\", '')\n",
    "                if not f1:\n",
    "                    f1 = file.get(\"hate_check_f1-macro\", '')\n",
    "                rss_hate_check_results.append(f1)\n",
    "            hate_check_split_done.append(split)\n",
    "            hate_check_rss.append(root.split(\"/\")[-1])\n",
    "        if len(rss_hate_check_results) >= 3:\n",
    "            print(data_name, split, hate_check_rss)\n",
    "            # print(rss_hate_check_results)\n",
    "            hate_check_split_average.append(np.round(np.average(rss_hate_check_results)*100,2))\n",
    "        else:\n",
    "            hate_check_split_average.append(None)\n",
    "            print(data_name, split, \"no\")\n",
    "    hate_check_data_results.append(hate_check_split_average)\n",
    "    # print(split_average)\n",
    "    print()"
   ]
  },
  {
   "cell_type": "code",
   "execution_count": 30,
   "id": "2fd3c8c21f971f5c",
   "metadata": {
    "ExecuteTime": {
     "end_time": "2025-04-18T00:06:36.167396800Z",
     "start_time": "2025-04-18T00:06:36.089255100Z"
    }
   },
   "outputs": [
    {
     "name": "stdout",
     "output_type": "stream",
     "text": [
      "60.94\t\n",
      "58.94\t\n",
      "24.91\t\n",
      "23.93\t\n",
      "25.89\t\n",
      "54.07\t\n",
      "74.36\t\n",
      "None\t\n"
     ]
    }
   ],
   "source": [
    "for data_result in hate_check_data_results:\n",
    "    for j in [str(i) for i in data_result]:\n",
    "        print(j, end=\"\\t\")\n",
    "    print()"
   ]
  },
  {
   "cell_type": "code",
   "execution_count": 22,
   "outputs": [],
   "source": [],
   "metadata": {
    "collapsed": false,
    "ExecuteTime": {
     "end_time": "2025-04-18T00:05:36.361164200Z",
     "start_time": "2025-04-18T00:05:36.220565Z"
    }
   },
   "id": "74cac961bb3ad7cb"
  },
  {
   "cell_type": "code",
   "execution_count": 5,
   "outputs": [
    {
     "ename": "ModuleNotFoundError",
     "evalue": "No module named 'seaborn'",
     "output_type": "error",
     "traceback": [
      "\u001B[0;31m---------------------------------------------------------------------------\u001B[0m",
      "\u001B[0;31mModuleNotFoundError\u001B[0m                       Traceback (most recent call last)",
      "Cell \u001B[0;32mIn[5], line 2\u001B[0m\n\u001B[1;32m      1\u001B[0m \u001B[38;5;28;01mimport\u001B[39;00m \u001B[38;5;21;01mmatplotlib\u001B[39;00m\u001B[38;5;21;01m.\u001B[39;00m\u001B[38;5;21;01mpyplot\u001B[39;00m \u001B[38;5;28;01mas\u001B[39;00m \u001B[38;5;21;01mplt\u001B[39;00m\n\u001B[0;32m----> 2\u001B[0m \u001B[38;5;28;01mimport\u001B[39;00m \u001B[38;5;21;01mseaborn\u001B[39;00m \u001B[38;5;28;01mas\u001B[39;00m \u001B[38;5;21;01msns\u001B[39;00m\n\u001B[1;32m      4\u001B[0m \u001B[38;5;28;01mdef\u001B[39;00m \u001B[38;5;21mplot_f1_vs_train_size\u001B[39m(\n\u001B[1;32m      5\u001B[0m     train_sizes,\n\u001B[1;32m      6\u001B[0m     real_zero_shot,\n\u001B[0;32m   (...)\u001B[0m\n\u001B[1;32m     16\u001B[0m     save_path\u001B[38;5;241m=\u001B[39m\u001B[38;5;28;01mNone\u001B[39;00m\n\u001B[1;32m     17\u001B[0m ):\n\u001B[1;32m     18\u001B[0m \u001B[38;5;250m    \u001B[39m\u001B[38;5;124;03m\"\"\"\u001B[39;00m\n\u001B[1;32m     19\u001B[0m \u001B[38;5;124;03m    Plots F1-macro vs training size for two test groups with zero-shot, few-shot, and XLM-T results.\u001B[39;00m\n\u001B[1;32m     20\u001B[0m \n\u001B[0;32m   (...)\u001B[0m\n\u001B[1;32m     27\u001B[0m \u001B[38;5;124;03m        save_path (str): Path to save the plot image (e.g. \"plot.png\"). If None, just displays.\u001B[39;00m\n\u001B[1;32m     28\u001B[0m \u001B[38;5;124;03m    \"\"\"\u001B[39;00m\n",
      "\u001B[0;31mModuleNotFoundError\u001B[0m: No module named 'seaborn'"
     ]
    }
   ],
   "source": [
    "import matplotlib.pyplot as plt\n",
    "import seaborn as sns\n",
    "\n",
    "def plot_f1_vs_train_size(\n",
    "    train_sizes,\n",
    "    real_zero_shot,\n",
    "    real_few_shot,\n",
    "    real_xlmt,\n",
    "    func_zero_shot,\n",
    "    func_few_shot,\n",
    "    func_xlmt,\n",
    "    title=\"F1-Macro vs Train Size\",\n",
    "    ylabel=\"Macro F1\",\n",
    "    xlabel=\"Train Size\",\n",
    "    ylim=(20, 90),\n",
    "    save_path=None\n",
    "):\n",
    "    \"\"\"\n",
    "    Plots F1-macro vs training size for two test groups with zero-shot, few-shot, and XLM-T results.\n",
    "\n",
    "    Parameters:\n",
    "        train_sizes (list): X-axis values (training sizes).\n",
    "        real_zero_shot, real_few_shot, real_xlmt (list): Real group performance.\n",
    "        func_zero_shot, func_few_shot, func_xlmt (list): Functional group performance.\n",
    "        title, xlabel, ylabel (str): Axis labels and plot title.\n",
    "        ylim (tuple): Y-axis limits.\n",
    "        save_path (str): Path to save the plot image (e.g. \"plot.png\"). If None, just displays.\n",
    "    \"\"\"\n",
    "    sns.set(style=\"darkgrid\", context=\"paper\", palette=\"muted\", font_scale=1.2)\n",
    "    plt.figure(figsize=(10, 6))\n",
    "\n",
    "    # Real group - blue\n",
    "    sns.lineplot(x=train_sizes, y=real_zero_shot, label='Real: Zero-Shot', linestyle='--', linewidth=2, color='tab:blue')\n",
    "    sns.lineplot(x=train_sizes, y=real_few_shot, label='Real: Few-Shot', linestyle='-.', linewidth=2, color='tab:blue')\n",
    "    sns.lineplot(x=train_sizes, y=real_xlmt, label='Real: XLM-T', linestyle='-', marker='o', linewidth=2, color='tab:blue')\n",
    "\n",
    "    # Functional group - orange\n",
    "    sns.lineplot(x=train_sizes, y=func_zero_shot, label='Func: Zero-Shot', linestyle='--', linewidth=2, color='tab:orange')\n",
    "    sns.lineplot(x=train_sizes, y=func_few_shot, label='Func: Few-Shot', linestyle='-.', linewidth=2, color='tab:orange')\n",
    "    sns.lineplot(x=train_sizes, y=func_xlmt, label='Func: XLM-T', linestyle='-', marker='s', linewidth=2, color='tab:orange')\n",
    "\n",
    "    plt.title(title, fontsize=14)\n",
    "    plt.xlabel(xlabel)\n",
    "    plt.ylabel(ylabel)\n",
    "    plt.xlim(0, max(train_sizes) + 100)\n",
    "    plt.ylim(*ylim)\n",
    "    plt.legend(title='Model', fontsize=10)\n",
    "    plt.tight_layout()\n",
    "\n",
    "    if save_path:\n",
    "        plt.savefig(save_path, dpi=300)\n",
    "    else:\n",
    "        plt.show()\n"
   ],
   "metadata": {
    "collapsed": false,
    "ExecuteTime": {
     "end_time": "2025-04-17T22:16:21.841614400Z",
     "start_time": "2025-04-17T22:16:21.784128200Z"
    }
   },
   "id": "b6ac6ee0ac66afe9"
  },
  {
   "cell_type": "code",
   "execution_count": 19,
   "outputs": [],
   "source": [
    "plot_f1_vs_train_size(\n",
    "    train_sizes=[10, 20, 30, 40, 50, 100, 200, 300, 400, 500, 1000, 2000],\n",
    "    real_zero_shot=[64.79]*12,\n",
    "    real_few_shot=[68.9]*12,\n",
    "    real_xlmt=[36.51, 49.91, 54.38, 57.63, 61.85, 65.03, 72.36, 74.40, 76.58, 77.14, 79.35, 81.08],\n",
    "    func_zero_shot=[86.37]*12,\n",
    "    func_few_shot=[87.4]*12,\n",
    "    func_xlmt=[30.27, 36.68, 34.35, 26.70, 23.22, 30.50, 39.51, 50.89, 53.38, 55.28, 61.29, 63.92],\n",
    "    title=\"Macro-F1 vs Training Set Size (Real vs Functional)\",\n",
    "    save_path=\"f1_macro_clean_final.png\"\n",
    ")\n"
   ],
   "metadata": {
    "collapsed": false,
    "ExecuteTime": {
     "end_time": "2025-04-17T20:22:46.533732500Z",
     "start_time": "2025-04-17T20:22:46.177526800Z"
    }
   },
   "id": "ac0d9a388ca45956"
  },
  {
   "cell_type": "code",
   "execution_count": 19,
   "outputs": [],
   "source": [],
   "metadata": {
    "collapsed": false,
    "ExecuteTime": {
     "end_time": "2025-04-17T20:22:46.649732600Z",
     "start_time": "2025-04-17T20:22:46.476822300Z"
    }
   },
   "id": "83a12ce64768ede5"
  },
  {
   "cell_type": "code",
   "execution_count": null,
   "outputs": [],
   "source": [],
   "metadata": {
    "collapsed": false
   },
   "id": "a0a1ecd273f98c7e"
  }
 ],
 "metadata": {
  "kernelspec": {
   "display_name": "Python 3 (ipykernel)",
   "language": "python",
   "name": "python3"
  },
  "language_info": {
   "codemirror_mode": {
    "name": "ipython",
    "version": 3
   },
   "file_extension": ".py",
   "mimetype": "text/x-python",
   "name": "python",
   "nbconvert_exporter": "python",
   "pygments_lexer": "ipython3",
   "version": "3.12.8"
  }
 },
 "nbformat": 4,
 "nbformat_minor": 5
}
