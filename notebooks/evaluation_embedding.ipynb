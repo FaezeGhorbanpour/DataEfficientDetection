{
 "cells": [
  {
   "cell_type": "code",
   "execution_count": 6,
   "id": "932302ea64d04526",
   "metadata": {
    "ExecuteTime": {
     "end_time": "2025-02-11T16:08:31.285367Z",
     "start_time": "2025-02-11T16:08:20.653532Z"
    }
   },
   "outputs": [
    {
     "ename": "ModuleNotFoundError",
     "evalue": "No module named 'embedder'",
     "output_type": "error",
     "traceback": [
      "\u001B[0;31m---------------------------------------------------------------------------\u001B[0m",
      "\u001B[0;31mModuleNotFoundError\u001B[0m                       Traceback (most recent call last)",
      "Cell \u001B[0;32mIn[6], line 1\u001B[0m\n\u001B[0;32m----> 1\u001B[0m \u001B[38;5;28;01mfrom\u001B[39;00m\u001B[38;5;250m \u001B[39m\u001B[38;5;21;01membedder\u001B[39;00m\u001B[38;5;250m \u001B[39m\u001B[38;5;28;01mimport\u001B[39;00m Embedder\n\u001B[1;32m      2\u001B[0m \u001B[38;5;28;01mfrom\u001B[39;00m\u001B[38;5;250m \u001B[39m\u001B[38;5;21;01mdata_provider\u001B[39;00m\u001B[38;5;250m \u001B[39m\u001B[38;5;28;01mimport\u001B[39;00m DataProvider\n",
      "\u001B[0;31mModuleNotFoundError\u001B[0m: No module named 'embedder'"
     ]
    }
   ],
   "source": [
    "from src.embedder import Embedder\n",
    "from src.data_provider import DataProvider"
   ]
  },
  {
   "cell_type": "code",
   "execution_count": 5,
   "id": "c6d2a7bf-dd9f-4aa5-b848-cfc6c2c8cabd",
   "metadata": {},
   "outputs": [
    {
     "name": "stdout",
     "output_type": "stream",
     "text": [
      "/mounts/Users/cisintern/faeze/projects/DataEfficientDetection/notebooks\n"
     ]
    }
   ],
   "source": [
    "!pwd"
   ]
  },
  {
   "cell_type": "code",
   "execution_count": null,
   "id": "70aff00b961b3d6e",
   "metadata": {
    "ExecuteTime": {
     "end_time": "2025-02-11T16:08:31.369002Z",
     "start_time": "2025-02-11T16:08:31.365141Z"
    }
   },
   "outputs": [],
   "source": [
    "import os\n",
    "os.environ['TRANSFORMERS_CACHE'] = '/mounts/data/proj/faeze/.cache/hf/'\n",
    "os.environ['HF_HOME'] = '/mounts/data/proj/faeze/.cache/hf/'\n",
    "os.environ['HF_DATASETS_CACHE'] = '/mounts/data/proj/faeze/.cache/hf/'\n",
    "os.environ['TORCH_HUB'] = '/mounts/data/proj/faeze/.cache/torch/'\n",
    "os.environ['TORCH_HOME'] = '/mounts/data/proj/faeze/.cache/torch/'\n",
    "os.environ[\"WANDB_DIR\"] = '/mounts/data/proj/faeze/.cache/wandb/'"
   ]
  },
  {
   "cell_type": "code",
   "execution_count": null,
   "id": "4586a8c5f7b65bd7",
   "metadata": {
    "ExecuteTime": {
     "end_time": "2025-02-11T16:08:31.443887Z",
     "start_time": "2025-02-11T16:08:31.440382Z"
    }
   },
   "outputs": [],
   "source": [
    "output_path = \"/mounts/work/work/data_efficient_hate/models/embedder/\""
   ]
  },
  {
   "cell_type": "code",
   "execution_count": null,
   "id": "e97971317a74446c",
   "metadata": {
    "ExecuteTime": {
     "end_time": "2025-02-11T16:08:31.523228Z",
     "start_time": "2025-02-11T16:08:31.519763Z"
    }
   },
   "outputs": [],
   "source": [
    "data_provider_ = DataProvider()"
   ]
  },
  {
   "cell_type": "code",
   "execution_count": null,
   "id": "8faa998f44c99104",
   "metadata": {
    "ExecuteTime": {
     "end_time": "2025-02-11T16:08:31.601910Z",
     "start_time": "2025-02-11T16:08:31.598652Z"
    }
   },
   "outputs": [],
   "source": [
    "datas = [ \"dyn21_en-2000-rs1\", \"bas19_es\", \"ous19_ar\", \"fou18_en-2000-rs1\"]\n",
    "languages = [\"en1\", \"es\", \"ar\", 'en2']"
   ]
  },
  {
   "cell_type": "code",
   "execution_count": null,
   "id": "70d73d0916764ecb",
   "metadata": {
    "ExecuteTime": {
     "end_time": "2025-02-11T16:08:31.681736Z",
     "start_time": "2025-02-11T16:08:31.678474Z"
    }
   },
   "outputs": [],
   "source": [
    "datas = [i for i in datas]"
   ]
  },
  {
   "cell_type": "code",
   "execution_count": null,
   "id": "b913cd68b9c69861",
   "metadata": {
    "ExecuteTime": {
     "end_time": "2025-02-11T16:08:33.061016Z",
     "start_time": "2025-02-11T16:08:31.768039Z"
    }
   },
   "outputs": [],
   "source": [
    "datasets = data_provider_.load_datasets(datas, languages)\n",
    "datasets"
   ]
  },
  {
   "cell_type": "code",
   "execution_count": null,
   "id": "fad5b7c2d977cfa2",
   "metadata": {
    "ExecuteTime": {
     "end_time": "2025-02-11T16:18:49.176164Z",
     "start_time": "2025-02-11T16:17:56.296892Z"
    }
   },
   "outputs": [],
   "source": [
    "\n",
    "embedder_ = Embedder(model_name=\"m3\")\n",
    "embeddings, metadatas = embedder_.embed_datasets(datasets, ['train', 'test'], True)"
   ]
  },
  {
   "cell_type": "code",
   "execution_count": null,
   "id": "c001b235c7e13765",
   "metadata": {
    "ExecuteTime": {
     "end_time": "2025-02-11T16:19:30.442441Z",
     "start_time": "2025-02-11T16:18:49.257453Z"
    }
   },
   "outputs": [],
   "source": [
    "Embedder.visualize_embeddings(embeddings, metadatas, reduction_method=\"tsne\")"
   ]
  },
  {
   "cell_type": "code",
   "execution_count": null,
   "id": "33868e4c7da7cd5c",
   "metadata": {
    "ExecuteTime": {
     "end_time": "2025-02-11T16:09:46.092608Z",
     "start_time": "2025-02-11T16:09:24.011048Z"
    }
   },
   "outputs": [],
   "source": [
    "Embedder.visualize_embeddings(embeddings, metadatas, reduction_method=\"umap\")"
   ]
  },
  {
   "cell_type": "code",
   "execution_count": null,
   "id": "dbc5b394db38653e",
   "metadata": {
    "ExecuteTime": {
     "end_time": "2024-12-29T22:37:16.063119093Z",
     "start_time": "2024-12-29T19:55:43.409733Z"
    }
   },
   "outputs": [],
   "source": []
  }
 ],
 "metadata": {
  "kernelspec": {
   "display_name": "Python 3 (ipykernel)",
   "language": "python",
   "name": "python3"
  },
  "language_info": {
   "codemirror_mode": {
    "name": "ipython",
    "version": 3
   },
   "file_extension": ".py",
   "mimetype": "text/x-python",
   "name": "python",
   "nbconvert_exporter": "python",
   "pygments_lexer": "ipython3",
   "version": "3.12.8"
  }
 },
 "nbformat": 4,
 "nbformat_minor": 5
}
