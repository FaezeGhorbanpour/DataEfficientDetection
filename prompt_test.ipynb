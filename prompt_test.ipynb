{
 "cells": [
  {
   "cell_type": "code",
   "id": "initial_id",
   "metadata": {
    "collapsed": true,
    "ExecuteTime": {
     "end_time": "2024-12-17T18:12:54.928461Z",
     "start_time": "2024-12-17T18:12:54.924033Z"
    }
   },
   "source": [
    "import os\n",
    "os.environ['TRANSFORMERS_CACHE'] = '/mounts/work/faeze/.cache/hf/'\n",
    "os.environ['HF_HOME'] = '/mounts/work/faeze/.cache/hf/'\n",
    "os.environ['HF_DATASETS_CACHE'] = '/mounts/work/faeze/.cache/hf/'\n",
    "os.environ['TORCH_HUB'] = '/mounts/work/faeze/.cache/torch/'\n",
    "os.environ['TORCH_HOME'] = '/mounts/work/faeze/.cache/torch/'\n",
    "os.environ[\"WANDB_DIR\"] = '/mounts/work/faeze/.cache/wandb/'"
   ],
   "outputs": [],
   "execution_count": 10
  },
  {
   "metadata": {
    "ExecuteTime": {
     "end_time": "2024-12-17T18:12:55.002071Z",
     "start_time": "2024-12-17T18:12:54.998360Z"
    }
   },
   "cell_type": "code",
   "source": [
    "from data_provider import DataProvider\n",
    "from prompter import Prompter"
   ],
   "id": "57397a4da44d425f",
   "outputs": [],
   "execution_count": 11
  },
  {
   "metadata": {
    "ExecuteTime": {
     "end_time": "2024-12-17T18:12:55.058500Z",
     "start_time": "2024-12-17T18:12:55.054955Z"
    }
   },
   "cell_type": "code",
   "source": "data_provider_ = DataProvider()",
   "id": "ebe4bb3faa90a77c",
   "outputs": [],
   "execution_count": 12
  },
  {
   "metadata": {
    "ExecuteTime": {
     "end_time": "2024-12-17T18:12:55.116190Z",
     "start_time": "2024-12-17T18:12:55.108786Z"
    }
   },
   "cell_type": "code",
   "source": [
    "names = ['bas19_es', 'dyn21_en', 'for19_pt', 'fou18_en', 'has21_hi', 'ken20_en',\n",
    "                       'ous19_ar', 'ous19_fr', 'san20_it',]\n",
    "\n",
    "datas = [f'baseline_data/{i}' for i in names]\n",
    "languages = [name.split('_')[1] for name in names]\n",
    "languages"
   ],
   "id": "3967bb6bf1dc973c",
   "outputs": [
    {
     "data": {
      "text/plain": [
       "['es', 'en', 'pt', 'en', 'hi', 'hi', 'hi', 'en', 'ar', 'fr', 'it']"
      ]
     },
     "execution_count": 13,
     "metadata": {},
     "output_type": "execute_result"
    }
   ],
   "execution_count": 13
  },
  {
   "metadata": {
    "ExecuteTime": {
     "end_time": "2024-12-17T18:12:55.541821Z",
     "start_time": "2024-12-17T18:12:55.267500Z"
    }
   },
   "cell_type": "code",
   "source": "datasets = data_provider_.load_datasets(datas, languages)",
   "id": "747730aa8c00e4b7",
   "outputs": [
    {
     "name": "stderr",
     "output_type": "stream",
     "text": [
      "/mounts/work/faeze/new_miniconda3/envs/2024_9/lib/python3.10/site-packages/datasets/load.py:929: FutureWarning: The repository for baseline_data contains custom code which must be executed to correctly load the dataset. You can inspect the repository content at baseline_data/baseline_data.py\n",
      "You can avoid this message in future by passing the argument `trust_remote_code=True`.\n",
      "Passing `trust_remote_code=True` will be mandatory to load this dataset from the next major release of `datasets`.\n",
      "  warnings.warn(\n"
     ]
    }
   ],
   "execution_count": 14
  },
  {
   "metadata": {
    "ExecuteTime": {
     "end_time": "2024-12-17T18:12:55.586737Z",
     "start_time": "2024-12-17T18:12:55.582862Z"
    }
   },
   "cell_type": "code",
   "source": [
    "train_data = datasets[3]['data']\n",
    "eval_data = datasets[4]['data']\n",
    "test_data = datasets[5]['data']"
   ],
   "id": "8a66c997b7bb1f0b",
   "outputs": [],
   "execution_count": 15
  },
  {
   "metadata": {
    "ExecuteTime": {
     "end_time": "2024-12-17T18:12:56.948800Z",
     "start_time": "2024-12-17T18:12:55.649295Z"
    }
   },
   "cell_type": "code",
   "source": "prompter_ = Prompter(\"google/flan-t5-base\")",
   "id": "7d1ba4b253161353",
   "outputs": [
    {
     "name": "stderr",
     "output_type": "stream",
     "text": [
      "/mounts/Users/cisintern/faeze/.local/lib/python3.10/site-packages/transformers/tokenization_utils_base.py:1601: FutureWarning: `clean_up_tokenization_spaces` was not set. It will be set to `True` by default. This behavior will be depracted in transformers v4.45, and will be then set to `False` by default. For more details check this issue: https://github.com/huggingface/transformers/issues/31884\n",
      "  warnings.warn(\n"
     ]
    }
   ],
   "execution_count": 16
  },
  {
   "metadata": {
    "ExecuteTime": {
     "end_time": "2024-12-17T18:13:10.646711Z",
     "start_time": "2024-12-17T18:12:57.132843Z"
    }
   },
   "cell_type": "code",
   "source": [
    "predictions = prompter_.test(test_data, 'Classify the text to hate and non-hate. answer with \"1\" if it is hate or \"0\" if it non-hate. text: {input}')\n",
    "predictions = [int(i) for i in predictions]"
   ],
   "id": "9682acd2eea87b9e",
   "outputs": [
    {
     "name": "stderr",
     "output_type": "stream",
     "text": [
      "Processing batches: 100%|██████████| 125/125 [00:13<00:00,  9.25it/s]\n"
     ]
    }
   ],
   "execution_count": 17
  },
  {
   "metadata": {
    "ExecuteTime": {
     "end_time": "2024-12-17T18:13:10.690652Z",
     "start_time": "2024-12-17T18:13:10.678637Z"
    }
   },
   "cell_type": "code",
   "source": "print(prompter_.compute_metrics(predictions, test_data['label']))",
   "id": "6cebb9b371dceff2",
   "outputs": [
    {
     "name": "stdout",
     "output_type": "stream",
     "text": [
      "{'accuracy': 0.462, 'f1-macro': 0.41551979627931634, 'precision': 0.4805451086094815, 'recall': 0.462, 'f1-weighted': 0.40249874630082694}\n"
     ]
    }
   ],
   "execution_count": 18
  },
  {
   "metadata": {
    "ExecuteTime": {
     "end_time": "2024-12-17T18:12:10.605076Z",
     "start_time": "2024-12-17T18:12:10.597611Z"
    }
   },
   "cell_type": "code",
   "source": "",
   "id": "a727b49be1d3fc7b",
   "outputs": [
    {
     "data": {
      "text/plain": [
       "int"
      ]
     },
     "execution_count": 22,
     "metadata": {},
     "output_type": "execute_result"
    }
   ],
   "execution_count": 22
  }
 ],
 "metadata": {
  "kernelspec": {
   "display_name": "Python 3",
   "language": "python",
   "name": "python3"
  },
  "language_info": {
   "codemirror_mode": {
    "name": "ipython",
    "version": 2
   },
   "file_extension": ".py",
   "mimetype": "text/x-python",
   "name": "python",
   "nbconvert_exporter": "python",
   "pygments_lexer": "ipython2",
   "version": "2.7.6"
  }
 },
 "nbformat": 4,
 "nbformat_minor": 5
}
