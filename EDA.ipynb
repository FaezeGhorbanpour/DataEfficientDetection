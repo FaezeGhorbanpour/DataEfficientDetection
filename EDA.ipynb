{
 "cells": [
  {
   "cell_type": "code",
   "id": "initial_id",
   "metadata": {
    "collapsed": true,
    "ExecuteTime": {
     "end_time": "2024-12-19T16:30:03.755584Z",
     "start_time": "2024-12-19T16:30:03.211328Z"
    }
   },
   "source": [
    "import os\n",
    "\n",
    "import numpy as np\n",
    "import pandas as pd\n",
    "\n",
    "os.environ['TRANSFORMERS_CACHE'] = '/mounts/work/faeze/.cache/hf/'\n",
    "os.environ['HF_HOME'] = '/mounts/work/faeze/.cache/hf/'\n",
    "os.environ['HF_DATASETS_CACHE'] = '/mounts/work/faeze/.cache/hf/'\n",
    "os.environ['TORCH_HUB'] = '/mounts/work/faeze/.cache/torch/'\n",
    "os.environ['TORCH_HOME'] = '/mounts/work/faeze/.cache/torch/'\n",
    "os.environ[\"WANDB_DIR\"] = '/mounts/work/faeze/.cache/wandb/'"
   ],
   "outputs": [],
   "execution_count": 2
  },
  {
   "metadata": {
    "ExecuteTime": {
     "end_time": "2024-12-19T16:30:04.610818Z",
     "start_time": "2024-12-19T16:30:03.914716Z"
    }
   },
   "cell_type": "code",
   "source": "from data_provider import DataProvider",
   "id": "8744214ac8995eb2",
   "outputs": [],
   "execution_count": 3
  },
  {
   "metadata": {
    "ExecuteTime": {
     "end_time": "2024-12-19T16:30:04.693080Z",
     "start_time": "2024-12-19T16:30:04.690082Z"
    }
   },
   "cell_type": "code",
   "source": "data_provider_ = DataProvider()",
   "id": "ac2b610aa51ab461",
   "outputs": [],
   "execution_count": 4
  },
  {
   "metadata": {
    "ExecuteTime": {
     "end_time": "2024-12-19T16:30:04.784627Z",
     "start_time": "2024-12-19T16:30:04.777793Z"
    }
   },
   "cell_type": "code",
   "source": [
    "names = ['bas19_es', 'dyn21_en', 'for19_pt', 'fou18_en', 'has21_hi', 'ken20_en',\n",
    "                       'ous19_ar', 'ous19_fr', 'san20_it',]\n",
    "\n",
    "datas = [f'baseline_data/{i}' for i in names]\n",
    "languages = [name.split('_')[1] for name in names]\n",
    "languages"
   ],
   "id": "ef1c7b4293060651",
   "outputs": [
    {
     "data": {
      "text/plain": [
       "['es', 'en', 'pt', 'en', 'hi', 'en', 'ar', 'fr', 'it']"
      ]
     },
     "execution_count": 5,
     "metadata": {},
     "output_type": "execute_result"
    }
   ],
   "execution_count": 5
  },
  {
   "metadata": {
    "ExecuteTime": {
     "end_time": "2024-12-19T16:32:41.367068Z",
     "start_time": "2024-12-19T16:32:41.131808Z"
    }
   },
   "cell_type": "code",
   "source": "datasets = data_provider_.load_datasets(datas, languages)",
   "id": "e406639153ab8d37",
   "outputs": [],
   "execution_count": 12
  },
  {
   "metadata": {
    "ExecuteTime": {
     "end_time": "2024-12-19T16:32:50.634476Z",
     "start_time": "2024-12-19T16:32:50.627746Z"
    }
   },
   "cell_type": "code",
   "source": [
    "train = datasets[24]\n",
    "eval = datasets[25]\n",
    "test = datasets[26]\n",
    "train"
   ],
   "id": "ca0354f335e4eee7",
   "outputs": [
    {
     "data": {
      "text/plain": [
       "{'name': 'baseline_data/san20_it',\n",
       " 'split': 'train',\n",
       " 'data': Dataset({\n",
       "     features: ['id', 'text', 'label'],\n",
       "     num_rows: 5600\n",
       " }),\n",
       " 'language': 'it'}"
      ]
     },
     "execution_count": 14,
     "metadata": {},
     "output_type": "execute_result"
    }
   ],
   "execution_count": 14
  },
  {
   "metadata": {
    "ExecuteTime": {
     "end_time": "2024-12-19T16:32:53.968276Z",
     "start_time": "2024-12-19T16:32:53.962151Z"
    }
   },
   "cell_type": "code",
   "source": "train['data'].num_rows + eval['data'].num_rows + test['data'].num_rows ",
   "id": "23b229034e4a83c3",
   "outputs": [
    {
     "data": {
      "text/plain": [
       "8100"
      ]
     },
     "execution_count": 15,
     "metadata": {},
     "output_type": "execute_result"
    }
   ],
   "execution_count": 15
  },
  {
   "metadata": {
    "ExecuteTime": {
     "end_time": "2024-12-19T16:32:54.610562Z",
     "start_time": "2024-12-19T16:32:54.601003Z"
    }
   },
   "cell_type": "code",
   "source": "labels = train['data']['label'] + eval['data']['label'] + test['data']['label']",
   "id": "8be55ec4f021061d",
   "outputs": [],
   "execution_count": 16
  },
  {
   "metadata": {
    "ExecuteTime": {
     "end_time": "2024-12-19T16:32:55.033510Z",
     "start_time": "2024-12-19T16:32:55.025668Z"
    }
   },
   "cell_type": "code",
   "source": "labels = pd.DataFrame({'labels':labels})",
   "id": "e94ff0ab5511ec35",
   "outputs": [],
   "execution_count": 17
  },
  {
   "metadata": {
    "ExecuteTime": {
     "end_time": "2024-12-19T16:32:55.309929Z",
     "start_time": "2024-12-19T16:32:55.302795Z"
    }
   },
   "cell_type": "code",
   "source": "labels.labels.value_counts()",
   "id": "3be23abe9f9fe6ac",
   "outputs": [
    {
     "data": {
      "text/plain": [
       "labels\n",
       "0    4712\n",
       "1    3388\n",
       "Name: count, dtype: int64"
      ]
     },
     "execution_count": 18,
     "metadata": {},
     "output_type": "execute_result"
    }
   ],
   "execution_count": 18
  },
  {
   "metadata": {
    "ExecuteTime": {
     "end_time": "2024-12-19T16:31:06.046436Z",
     "start_time": "2024-12-19T16:31:06.044179Z"
    }
   },
   "cell_type": "code",
   "source": "",
   "id": "830855e5e8de5fba",
   "outputs": [],
   "execution_count": null
  },
  {
   "metadata": {},
   "cell_type": "code",
   "outputs": [],
   "execution_count": null,
   "source": "",
   "id": "79c65db78bed60f2"
  }
 ],
 "metadata": {
  "kernelspec": {
   "display_name": "Python 3",
   "language": "python",
   "name": "python3"
  },
  "language_info": {
   "codemirror_mode": {
    "name": "ipython",
    "version": 2
   },
   "file_extension": ".py",
   "mimetype": "text/x-python",
   "name": "python",
   "nbconvert_exporter": "python",
   "pygments_lexer": "ipython2",
   "version": "2.7.6"
  }
 },
 "nbformat": 4,
 "nbformat_minor": 5
}
