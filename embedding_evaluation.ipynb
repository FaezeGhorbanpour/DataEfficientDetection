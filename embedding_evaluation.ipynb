{
 "cells": [
  {
   "cell_type": "code",
   "id": "initial_id",
   "metadata": {
    "collapsed": true,
    "ExecuteTime": {
     "end_time": "2024-12-16T18:28:22.157467Z",
     "start_time": "2024-12-16T18:28:12.963240Z"
    }
   },
   "source": [
    "from embedder import Embedder\n",
    "from data_provider import DataProvider"
   ],
   "outputs": [],
   "execution_count": 1
  },
  {
   "metadata": {
    "ExecuteTime": {
     "end_time": "2024-12-16T18:28:22.506297Z",
     "start_time": "2024-12-16T18:28:22.501941Z"
    }
   },
   "cell_type": "code",
   "source": [
    "import os\n",
    "os.environ['TRANSFORMERS_CACHE'] = '/mounts/work/faeze/.cache/hf/'\n",
    "os.environ['HF_HOME'] = '/mounts/work/faeze/.cache/hf/'\n",
    "os.environ['HF_DATASETS_CACHE'] = '/mounts/work/faeze/.cache/hf/'\n",
    "os.environ['TORCH_HUB'] = '/mounts/work/faeze/.cache/torch/'\n",
    "os.environ['TORCH_HOME'] = '/mounts/work/faeze/.cache/torch/'\n",
    "os.environ[\"WANDB_DIR\"] = '/mounts/work/faeze/.cache/wandb/'"
   ],
   "id": "2e7edefccc956ad",
   "outputs": [],
   "execution_count": 2
  },
  {
   "metadata": {
    "ExecuteTime": {
     "end_time": "2024-12-15T21:05:52.032343Z",
     "start_time": "2024-12-15T21:05:52.029021Z"
    }
   },
   "cell_type": "code",
   "source": "data_provider_ = DataProvider()",
   "id": "5405594c52cf8d16",
   "outputs": [],
   "execution_count": 3
  },
  {
   "metadata": {
    "ExecuteTime": {
     "end_time": "2024-12-15T21:05:52.187457Z",
     "start_time": "2024-12-15T21:05:52.183522Z"
    }
   },
   "cell_type": "code",
   "source": [
    "languages = ['en', 'tr', 'de', 'hr', 'ru', 'sq']\n",
    "types = ['Gao', 'Trac', 'Wul']\n",
    "\n",
    "datas = [f'parallel_data/{i}-Trac' for i in languages]"
   ],
   "id": "daceae59c931dc57",
   "outputs": [],
   "execution_count": 4
  },
  {
   "metadata": {
    "ExecuteTime": {
     "end_time": "2024-12-15T21:05:52.451705Z",
     "start_time": "2024-12-15T21:05:52.265655Z"
    }
   },
   "cell_type": "code",
   "source": "datasets = data_provider_.load_datasets(datas, languages)",
   "id": "e153fc4ad426d50f",
   "outputs": [
    {
     "name": "stderr",
     "output_type": "stream",
     "text": [
      "/mounts/work/faeze/new_miniconda3/envs/2024_9/lib/python3.10/site-packages/datasets/load.py:929: FutureWarning: The repository for parallel_data contains custom code which must be executed to correctly load the dataset. You can inspect the repository content at parallel_data/parallel_data.py\n",
      "You can avoid this message in future by passing the argument `trust_remote_code=True`.\n",
      "Passing `trust_remote_code=True` will be mandatory to load this dataset from the next major release of `datasets`.\n",
      "  warnings.warn(\n"
     ]
    }
   ],
   "execution_count": 5
  },
  {
   "metadata": {
    "ExecuteTime": {
     "end_time": "2024-12-15T21:05:52.581003Z",
     "start_time": "2024-12-15T21:05:52.570799Z"
    }
   },
   "cell_type": "code",
   "source": "datasets",
   "id": "6b1648b06c9d3860",
   "outputs": [
    {
     "data": {
      "text/plain": [
       "[{'name': 'parallel_data/en-Trac',\n",
       "  'split': 'test',\n",
       "  'data': Dataset({\n",
       "      features: ['id', 'text', 'label'],\n",
       "      num_rows: 300\n",
       "  }),\n",
       "  'language': 'en'},\n",
       " {'name': 'parallel_data/tr-Trac',\n",
       "  'split': 'test',\n",
       "  'data': Dataset({\n",
       "      features: ['id', 'text', 'label'],\n",
       "      num_rows: 300\n",
       "  }),\n",
       "  'language': 'tr'},\n",
       " {'name': 'parallel_data/de-Trac',\n",
       "  'split': 'test',\n",
       "  'data': Dataset({\n",
       "      features: ['id', 'text', 'label'],\n",
       "      num_rows: 300\n",
       "  }),\n",
       "  'language': 'de'},\n",
       " {'name': 'parallel_data/hr-Trac',\n",
       "  'split': 'test',\n",
       "  'data': Dataset({\n",
       "      features: ['id', 'text', 'label'],\n",
       "      num_rows: 300\n",
       "  }),\n",
       "  'language': 'hr'},\n",
       " {'name': 'parallel_data/ru-Trac',\n",
       "  'split': 'test',\n",
       "  'data': Dataset({\n",
       "      features: ['id', 'text', 'label'],\n",
       "      num_rows: 300\n",
       "  }),\n",
       "  'language': 'ru'},\n",
       " {'name': 'parallel_data/sq-Trac',\n",
       "  'split': 'test',\n",
       "  'data': Dataset({\n",
       "      features: ['id', 'text', 'label'],\n",
       "      num_rows: 300\n",
       "  }),\n",
       "  'language': 'sq'}]"
      ]
     },
     "execution_count": 6,
     "metadata": {},
     "output_type": "execute_result"
    }
   ],
   "execution_count": 6
  },
  {
   "metadata": {
    "ExecuteTime": {
     "end_time": "2024-12-15T21:05:52.651257Z",
     "start_time": "2024-12-15T21:05:52.646006Z"
    }
   },
   "cell_type": "code",
   "source": [
    "def get_similarity(model_name):\n",
    "    embedder_ = Embedder(model_name=model_name)\n",
    "    embeddings, metadatas = embedder_.embed_datasets(datasets)\n",
    "    \n",
    "    similarities = [[Embedder.calculate_similarity(embeddings[i], embeddings[j])[1] for i in range(len(embeddings))] for j in range(len(embeddings))]\n",
    "    \n",
    "    return similarities"
   ],
   "id": "b23002f59c5df508",
   "outputs": [],
   "execution_count": 7
  },
  {
   "metadata": {
    "ExecuteTime": {
     "end_time": "2024-12-15T21:05:52.711524Z",
     "start_time": "2024-12-15T21:05:52.707771Z"
    }
   },
   "cell_type": "code",
   "source": "languages = ['en', 'tr', 'de', 'hr', 'ru', 'sq']",
   "id": "662c600d0eb5b4fb",
   "outputs": [],
   "execution_count": 8
  },
  {
   "metadata": {
    "ExecuteTime": {
     "end_time": "2024-12-15T21:06:00.183050Z",
     "start_time": "2024-12-15T21:05:52.770915Z"
    }
   },
   "cell_type": "code",
   "source": "get_similarity('labse')",
   "id": "400c597945570249",
   "outputs": [
    {
     "name": "stderr",
     "output_type": "stream",
     "text": [
      "/mounts/Users/cisintern/faeze/.local/lib/python3.10/site-packages/transformers/tokenization_utils_base.py:1601: FutureWarning: `clean_up_tokenization_spaces` was not set. It will be set to `True` by default. This behavior will be depracted in transformers v4.45, and will be then set to `False` by default. For more details check this issue: https://github.com/huggingface/transformers/issues/31884\n",
      "  warnings.warn(\n"
     ]
    },
    {
     "data": {
      "text/plain": [
       "[[0.9158988, 0.753104, 0.7741467, 0.7709965, 0.75221217, 0.76883596],\n",
       " [0.7537379, 0.86096406, 0.72797996, 0.72831756, 0.7112424, 0.7246551],\n",
       " [0.77429724, 0.7272874, 0.85106, 0.7517183, 0.7309431, 0.7422168],\n",
       " [0.7714623, 0.72731763, 0.7513352, 0.8776765, 0.7345994, 0.7459766],\n",
       " [0.7511185, 0.7092914, 0.729755, 0.73415625, 0.8545852, 0.71943617],\n",
       " [0.769398, 0.7249907, 0.743189, 0.7469721, 0.72135884, 0.8566743]]"
      ]
     },
     "execution_count": 9,
     "metadata": {},
     "output_type": "execute_result"
    }
   ],
   "execution_count": 9
  },
  {
   "metadata": {
    "ExecuteTime": {
     "end_time": "2024-12-15T21:06:03.759188Z",
     "start_time": "2024-12-15T21:06:00.305626Z"
    }
   },
   "cell_type": "code",
   "source": "get_similarity('minilm')",
   "id": "5713c275eff174d2",
   "outputs": [
    {
     "data": {
      "text/plain": [
       "[[0.9116931, 0.72609895, 0.76991445, 0.7451464, 0.74737597, 0.7518816],\n",
       " [0.72787493, 0.8952419, 0.7420276, 0.7293082, 0.7176411, 0.72639614],\n",
       " [0.77237535, 0.7426334, 0.89149094, 0.7623501, 0.74733025, 0.7535743],\n",
       " [0.74779993, 0.73032093, 0.762792, 0.89622086, 0.75045806, 0.75532836],\n",
       " [0.7484968, 0.7180144, 0.7471681, 0.74964166, 0.8983518, 0.730639],\n",
       " [0.7535543, 0.72655106, 0.75324607, 0.75446236, 0.7304253, 0.9006354]]"
      ]
     },
     "execution_count": 10,
     "metadata": {},
     "output_type": "execute_result"
    }
   ],
   "execution_count": 10
  },
  {
   "metadata": {
    "ExecuteTime": {
     "end_time": "2024-12-15T21:06:13.306564Z",
     "start_time": "2024-12-15T21:06:03.821786Z"
    }
   },
   "cell_type": "code",
   "source": "get_similarity('e5-large')",
   "id": "2fc2538854eb17fb",
   "outputs": [
    {
     "data": {
      "text/plain": [
       "[[0.59967417, 0.5232911, 0.532949, 0.5292311, 0.5262704, 0.5290959],\n",
       " [0.52296937, 0.59555864, 0.51909304, 0.51708394, 0.51535285, 0.5197444],\n",
       " [0.5329468, 0.519225, 0.59310615, 0.5223896, 0.5213238, 0.52084565],\n",
       " [0.5296454, 0.517395, 0.52236885, 0.59423864, 0.5238726, 0.5378648],\n",
       " [0.52621305, 0.5154257, 0.52082276, 0.52343976, 0.60073006, 0.52866447],\n",
       " [0.5291786, 0.519864, 0.5203655, 0.5372616, 0.5283685, 0.6027343]]"
      ]
     },
     "execution_count": 11,
     "metadata": {},
     "output_type": "execute_result"
    }
   ],
   "execution_count": 11
  },
  {
   "metadata": {
    "ExecuteTime": {
     "end_time": "2024-12-15T21:06:18.601065Z",
     "start_time": "2024-12-15T21:06:13.428426Z"
    }
   },
   "cell_type": "code",
   "source": "get_similarity('e5-base')",
   "id": "9ced016dfa429551",
   "outputs": [
    {
     "data": {
      "text/plain": [
       "[[0.5984787, 0.514099, 0.52812517, 0.51835144, 0.517258, 0.5209366],\n",
       " [0.5140816, 0.5946191, 0.5126872, 0.51127774, 0.50833505, 0.5139458],\n",
       " [0.5280132, 0.51257515, 0.59377646, 0.51529217, 0.5109679, 0.51471853],\n",
       " [0.5187787, 0.5114007, 0.5153993, 0.5976846, 0.5171343, 0.53263843],\n",
       " [0.51717424, 0.508206, 0.51079226, 0.5169573, 0.59986854, 0.5202148],\n",
       " [0.5210433, 0.5138775, 0.5146746, 0.5321724, 0.51990235, 0.60140026]]"
      ]
     },
     "execution_count": 12,
     "metadata": {},
     "output_type": "execute_result"
    }
   ],
   "execution_count": 12
  },
  {
   "metadata": {
    "ExecuteTime": {
     "end_time": "2024-12-15T21:06:27.004628Z",
     "start_time": "2024-12-15T21:06:18.680562Z"
    }
   },
   "cell_type": "code",
   "source": "get_similarity('xlmr-large')",
   "id": "c7fc8781df6a212a",
   "outputs": [
    {
     "name": "stderr",
     "output_type": "stream",
     "text": [
      "No sentence-transformers model found with name FacebookAI/xlm-roberta-large. Creating a new one with mean pooling.\n"
     ]
    },
    {
     "data": {
      "text/plain": [
       "[[0.49967372, 0.49698266, 0.49737033, 0.49684817, 0.4974424, 0.49597836],\n",
       " [0.4970168, 0.4996596, 0.49668834, 0.49641448, 0.4968395, 0.49564227],\n",
       " [0.49738622, 0.49667546, 0.4995246, 0.49649438, 0.49717203, 0.49567232],\n",
       " [0.49690828, 0.4964378, 0.49653605, 0.49960858, 0.49681267, 0.49576437],\n",
       " [0.49744704, 0.4968036, 0.49715668, 0.49677473, 0.49934793, 0.49584454],\n",
       " [0.49608633, 0.49570617, 0.49576104, 0.49580613, 0.49592388, 0.49977827]]"
      ]
     },
     "execution_count": 13,
     "metadata": {},
     "output_type": "execute_result"
    }
   ],
   "execution_count": 13
  },
  {
   "metadata": {
    "ExecuteTime": {
     "end_time": "2024-12-15T21:06:31.423208Z",
     "start_time": "2024-12-15T21:06:27.044519Z"
    }
   },
   "cell_type": "code",
   "source": "get_similarity('xlmr-base')",
   "id": "ea6ad7187e96715d",
   "outputs": [
    {
     "name": "stderr",
     "output_type": "stream",
     "text": [
      "No sentence-transformers model found with name FacebookAI/xlm-roberta-base. Creating a new one with mean pooling.\n"
     ]
    },
    {
     "data": {
      "text/plain": [
       "[[0.49999857, 0.4974318, 0.4979207, 0.49773958, 0.49792868, 0.49648324],\n",
       " [0.49751103, 0.4998691, 0.49738288, 0.4973874, 0.49737722, 0.4965954],\n",
       " [0.49796894, 0.49733698, 0.49982315, 0.49739942, 0.49779734, 0.49662665],\n",
       " [0.4978263, 0.49737707, 0.49742863, 0.49975783, 0.49770036, 0.49667838],\n",
       " [0.49795341, 0.49732783, 0.4978162, 0.49767384, 0.49971825, 0.49659175],\n",
       " [0.49670836, 0.49669203, 0.49676937, 0.49682096, 0.4966995, 0.499888]]"
      ]
     },
     "execution_count": 14,
     "metadata": {},
     "output_type": "execute_result"
    }
   ],
   "execution_count": 14
  },
  {
   "metadata": {
    "ExecuteTime": {
     "end_time": "2024-12-15T21:06:40.885842Z",
     "start_time": "2024-12-15T21:06:31.577200Z"
    }
   },
   "cell_type": "code",
   "source": "get_similarity('arctic-large')",
   "id": "abb3d24e9c2963",
   "outputs": [
    {
     "data": {
      "text/plain": [
       "[[0.85811996, 0.634602, 0.72069883, 0.64986295, 0.6523283, 0.64447737],\n",
       " [0.6341692, 0.8496975, 0.62637943, 0.6076001, 0.5977409, 0.6101656],\n",
       " [0.7201146, 0.6260352, 0.8679098, 0.65407264, 0.6515242, 0.64619136],\n",
       " [0.65028316, 0.6080188, 0.65451694, 0.8432339, 0.63529485, 0.63326216],\n",
       " [0.65066427, 0.59612626, 0.65053725, 0.6333518, 0.86878353, 0.6134701],\n",
       " [0.64417565, 0.6100859, 0.64611053, 0.6328484, 0.6141701, 0.86161494]]"
      ]
     },
     "execution_count": 15,
     "metadata": {},
     "output_type": "execute_result"
    }
   ],
   "execution_count": 15
  },
  {
   "metadata": {
    "ExecuteTime": {
     "end_time": "2024-12-15T21:06:59.164994Z",
     "start_time": "2024-12-15T21:06:40.965505Z"
    }
   },
   "cell_type": "code",
   "source": "get_similarity('arctic-base')",
   "id": "ce1825135d59e4f4",
   "outputs": [
    {
     "data": {
      "text/plain": [
       "modules.json:   0%|          | 0.00/349 [00:00<?, ?B/s]"
      ],
      "application/vnd.jupyter.widget-view+json": {
       "version_major": 2,
       "version_minor": 0,
       "model_id": "4877a51239934cfb827266b8317f1428"
      }
     },
     "metadata": {},
     "output_type": "display_data"
    },
    {
     "data": {
      "text/plain": [
       "config_sentence_transformers.json:   0%|          | 0.00/252 [00:00<?, ?B/s]"
      ],
      "application/vnd.jupyter.widget-view+json": {
       "version_major": 2,
       "version_minor": 0,
       "model_id": "e5667b32efc246a6bec30118120caace"
      }
     },
     "metadata": {},
     "output_type": "display_data"
    },
    {
     "data": {
      "text/plain": [
       "README.md:   0%|          | 0.00/85.5k [00:00<?, ?B/s]"
      ],
      "application/vnd.jupyter.widget-view+json": {
       "version_major": 2,
       "version_minor": 0,
       "model_id": "b731ac3f78b249c6adf847d9a231bac0"
      }
     },
     "metadata": {},
     "output_type": "display_data"
    },
    {
     "data": {
      "text/plain": [
       "sentence_bert_config.json:   0%|          | 0.00/107 [00:00<?, ?B/s]"
      ],
      "application/vnd.jupyter.widget-view+json": {
       "version_major": 2,
       "version_minor": 0,
       "model_id": "f5a503ad4cf74d1a90409128d03a5e96"
      }
     },
     "metadata": {},
     "output_type": "display_data"
    },
    {
     "data": {
      "text/plain": [
       "config.json:   0%|          | 0.00/738 [00:00<?, ?B/s]"
      ],
      "application/vnd.jupyter.widget-view+json": {
       "version_major": 2,
       "version_minor": 0,
       "model_id": "46a561466f6042a0b427506ad9788f58"
      }
     },
     "metadata": {},
     "output_type": "display_data"
    },
    {
     "data": {
      "text/plain": [
       "model.safetensors:   0%|          | 0.00/436M [00:00<?, ?B/s]"
      ],
      "application/vnd.jupyter.widget-view+json": {
       "version_major": 2,
       "version_minor": 0,
       "model_id": "556ab7d5113d4f329c5eb40eae176061"
      }
     },
     "metadata": {},
     "output_type": "display_data"
    },
    {
     "data": {
      "text/plain": [
       "tokenizer_config.json:   0%|          | 0.00/1.38k [00:00<?, ?B/s]"
      ],
      "application/vnd.jupyter.widget-view+json": {
       "version_major": 2,
       "version_minor": 0,
       "model_id": "9a9dc33835c944cf9a08753e70e5462b"
      }
     },
     "metadata": {},
     "output_type": "display_data"
    },
    {
     "data": {
      "text/plain": [
       "vocab.txt:   0%|          | 0.00/232k [00:00<?, ?B/s]"
      ],
      "application/vnd.jupyter.widget-view+json": {
       "version_major": 2,
       "version_minor": 0,
       "model_id": "db814d0b05514638a7c82356c266265c"
      }
     },
     "metadata": {},
     "output_type": "display_data"
    },
    {
     "data": {
      "text/plain": [
       "tokenizer.json:   0%|          | 0.00/712k [00:00<?, ?B/s]"
      ],
      "application/vnd.jupyter.widget-view+json": {
       "version_major": 2,
       "version_minor": 0,
       "model_id": "af9f6ca9f24c4a48a570a14930356606"
      }
     },
     "metadata": {},
     "output_type": "display_data"
    },
    {
     "data": {
      "text/plain": [
       "special_tokens_map.json:   0%|          | 0.00/695 [00:00<?, ?B/s]"
      ],
      "application/vnd.jupyter.widget-view+json": {
       "version_major": 2,
       "version_minor": 0,
       "model_id": "03bd450d9128418e8513b65a76364da2"
      }
     },
     "metadata": {},
     "output_type": "display_data"
    },
    {
     "data": {
      "text/plain": [
       "1_Pooling/config.json:   0%|          | 0.00/296 [00:00<?, ?B/s]"
      ],
      "application/vnd.jupyter.widget-view+json": {
       "version_major": 2,
       "version_minor": 0,
       "model_id": "ad88ec0bf1704b1a920cc8b7cb768625"
      }
     },
     "metadata": {},
     "output_type": "display_data"
    },
    {
     "data": {
      "text/plain": [
       "[[0.6573355, 0.40095198, 0.4562814, 0.40605754, 0.34360576, 0.41121536],\n",
       " [0.39821965, 0.5967858, 0.44899452, 0.4439353, 0.4260963, 0.44909748],\n",
       " [0.45400053, 0.44973218, 0.61287177, 0.44606912, 0.40361145, 0.4530835],\n",
       " [0.4024778, 0.44319302, 0.44464004, 0.61208534, 0.40036598, 0.45000532],\n",
       " [0.3394619, 0.42798293, 0.40331328, 0.40183234, 0.54402506, 0.40494958],\n",
       " [0.4083741, 0.44882563, 0.45231932, 0.45088458, 0.4034228, 0.61086076]]"
      ]
     },
     "execution_count": 16,
     "metadata": {},
     "output_type": "execute_result"
    }
   ],
   "execution_count": 16
  },
  {
   "metadata": {
    "ExecuteTime": {
     "end_time": "2024-12-15T21:07:08.558097Z",
     "start_time": "2024-12-15T21:06:59.248512Z"
    }
   },
   "cell_type": "code",
   "source": "get_similarity('m3')",
   "id": "f3491a8df5b1ef4c",
   "outputs": [
    {
     "data": {
      "text/plain": [
       "[[0.7891197, 0.6449263, 0.6807311, 0.66090626, 0.65425205, 0.65964854],\n",
       " [0.64412737, 0.79690355, 0.6316072, 0.626419, 0.61489666, 0.62981987],\n",
       " [0.68036616, 0.6317699, 0.80116624, 0.65442884, 0.63596064, 0.647951],\n",
       " [0.66144466, 0.6275461, 0.6552952, 0.8031053, 0.6435715, 0.6512648],\n",
       " [0.6538418, 0.61541057, 0.6362567, 0.64273715, 0.8017712, 0.6293741],\n",
       " [0.65950584, 0.63011587, 0.6482431, 0.6502399, 0.62924826, 0.80063635]]"
      ]
     },
     "execution_count": 17,
     "metadata": {},
     "output_type": "execute_result"
    }
   ],
   "execution_count": 17
  },
  {
   "metadata": {
    "ExecuteTime": {
     "end_time": "2024-12-15T21:08:53.356196Z",
     "start_time": "2024-12-15T21:07:44.505902Z"
    }
   },
   "cell_type": "code",
   "source": "get_similarity('m3-unsupervised')",
   "id": "bf6dc963f3c5fd81",
   "outputs": [
    {
     "data": {
      "text/plain": [
       "modules.json:   0%|          | 0.00/349 [00:00<?, ?B/s]"
      ],
      "application/vnd.jupyter.widget-view+json": {
       "version_major": 2,
       "version_minor": 0,
       "model_id": "de0bf61bdcaa4e56ad8f447db430255d"
      }
     },
     "metadata": {},
     "output_type": "display_data"
    },
    {
     "data": {
      "text/plain": [
       "config_sentence_transformers.json:   0%|          | 0.00/123 [00:00<?, ?B/s]"
      ],
      "application/vnd.jupyter.widget-view+json": {
       "version_major": 2,
       "version_minor": 0,
       "model_id": "52f4f55bb8874f6bb33caa238a9368ad"
      }
     },
     "metadata": {},
     "output_type": "display_data"
    },
    {
     "data": {
      "text/plain": [
       "README.md:   0%|          | 0.00/13.5k [00:00<?, ?B/s]"
      ],
      "application/vnd.jupyter.widget-view+json": {
       "version_major": 2,
       "version_minor": 0,
       "model_id": "3ba15892c69a4db08637bd6a0c1ee477"
      }
     },
     "metadata": {},
     "output_type": "display_data"
    },
    {
     "data": {
      "text/plain": [
       "sentence_bert_config.json:   0%|          | 0.00/54.0 [00:00<?, ?B/s]"
      ],
      "application/vnd.jupyter.widget-view+json": {
       "version_major": 2,
       "version_minor": 0,
       "model_id": "595afc99094a4cdaba5ca6d55bf27e8b"
      }
     },
     "metadata": {},
     "output_type": "display_data"
    },
    {
     "data": {
      "text/plain": [
       "config.json:   0%|          | 0.00/687 [00:00<?, ?B/s]"
      ],
      "application/vnd.jupyter.widget-view+json": {
       "version_major": 2,
       "version_minor": 0,
       "model_id": "77588a0c6f1e44dfb0718fc9600c3cb8"
      }
     },
     "metadata": {},
     "output_type": "display_data"
    },
    {
     "data": {
      "text/plain": [
       "model.safetensors:   0%|          | 0.00/2.27G [00:00<?, ?B/s]"
      ],
      "application/vnd.jupyter.widget-view+json": {
       "version_major": 2,
       "version_minor": 0,
       "model_id": "31d257d4cbd64732a657c2891f14a8dc"
      }
     },
     "metadata": {},
     "output_type": "display_data"
    },
    {
     "data": {
      "text/plain": [
       "tokenizer_config.json:   0%|          | 0.00/1.31k [00:00<?, ?B/s]"
      ],
      "application/vnd.jupyter.widget-view+json": {
       "version_major": 2,
       "version_minor": 0,
       "model_id": "6a65527b59934c2d891943f22ee5d3a3"
      }
     },
     "metadata": {},
     "output_type": "display_data"
    },
    {
     "data": {
      "text/plain": [
       "sentencepiece.bpe.model:   0%|          | 0.00/5.07M [00:00<?, ?B/s]"
      ],
      "application/vnd.jupyter.widget-view+json": {
       "version_major": 2,
       "version_minor": 0,
       "model_id": "15b27ffddbe54b0c8a2dc601841947df"
      }
     },
     "metadata": {},
     "output_type": "display_data"
    },
    {
     "data": {
      "text/plain": [
       "tokenizer.json:   0%|          | 0.00/17.1M [00:00<?, ?B/s]"
      ],
      "application/vnd.jupyter.widget-view+json": {
       "version_major": 2,
       "version_minor": 0,
       "model_id": "fe2f9b16c08242f69c4534ddf40f437a"
      }
     },
     "metadata": {},
     "output_type": "display_data"
    },
    {
     "data": {
      "text/plain": [
       "special_tokens_map.json:   0%|          | 0.00/964 [00:00<?, ?B/s]"
      ],
      "application/vnd.jupyter.widget-view+json": {
       "version_major": 2,
       "version_minor": 0,
       "model_id": "55b82ecff9ed42b8a0dedc151d121068"
      }
     },
     "metadata": {},
     "output_type": "display_data"
    },
    {
     "data": {
      "text/plain": [
       "1_Pooling/config.json:   0%|          | 0.00/191 [00:00<?, ?B/s]"
      ],
      "application/vnd.jupyter.widget-view+json": {
       "version_major": 2,
       "version_minor": 0,
       "model_id": "61d2f628f2e74e4f973f5362e85d8bf9"
      }
     },
     "metadata": {},
     "output_type": "display_data"
    },
    {
     "data": {
      "text/plain": [
       "[[0.7831914, 0.6402351, 0.6707782, 0.6546389, 0.6527621, 0.6558595],\n",
       " [0.6404313, 0.7775309, 0.62592685, 0.6221998, 0.61593467, 0.62516755],\n",
       " [0.67130363, 0.6261263, 0.7780322, 0.64642775, 0.63282615, 0.64061713],\n",
       " [0.6549732, 0.6221683, 0.6461831, 0.7830085, 0.6386269, 0.6436403],\n",
       " [0.65288925, 0.6163039, 0.6329517, 0.6389356, 0.7849221, 0.62869996],\n",
       " [0.6558198, 0.62481695, 0.6401061, 0.6431704, 0.627947, 0.7828696]]"
      ]
     },
     "execution_count": 19,
     "metadata": {},
     "output_type": "execute_result"
    }
   ],
   "execution_count": 19
  },
  {
   "metadata": {
    "ExecuteTime": {
     "end_time": "2024-12-15T21:09:35.385412Z",
     "start_time": "2024-12-15T21:08:53.498679Z"
    }
   },
   "cell_type": "code",
   "source": "get_similarity('m3-retromae')",
   "id": "f8529d56e3e73093",
   "outputs": [
    {
     "name": "stderr",
     "output_type": "stream",
     "text": [
      "No sentence-transformers model found with name BAAI/bge-m3-retromae. Creating a new one with mean pooling.\n"
     ]
    },
    {
     "data": {
      "text/plain": [
       "config.json:   0%|          | 0.00/694 [00:00<?, ?B/s]"
      ],
      "application/vnd.jupyter.widget-view+json": {
       "version_major": 2,
       "version_minor": 0,
       "model_id": "2bc90707e6f2435298debd0af2e500a4"
      }
     },
     "metadata": {},
     "output_type": "display_data"
    },
    {
     "data": {
      "text/plain": [
       "pytorch_model.bin:   0%|          | 0.00/1.16G [00:00<?, ?B/s]"
      ],
      "application/vnd.jupyter.widget-view+json": {
       "version_major": 2,
       "version_minor": 0,
       "model_id": "4746cf4546164a8c9aa2b254f60d3b54"
      }
     },
     "metadata": {},
     "output_type": "display_data"
    },
    {
     "name": "stderr",
     "output_type": "stream",
     "text": [
      "Some weights of XLMRobertaModel were not initialized from the model checkpoint at BAAI/bge-m3-retromae and are newly initialized: ['roberta.pooler.dense.bias', 'roberta.pooler.dense.weight']\n",
      "You should probably TRAIN this model on a down-stream task to be able to use it for predictions and inference.\n"
     ]
    },
    {
     "data": {
      "text/plain": [
       "tokenizer_config.json:   0%|          | 0.00/419 [00:00<?, ?B/s]"
      ],
      "application/vnd.jupyter.widget-view+json": {
       "version_major": 2,
       "version_minor": 0,
       "model_id": "08bcc6e5cc664f41b3d44cca8fda982e"
      }
     },
     "metadata": {},
     "output_type": "display_data"
    },
    {
     "data": {
      "text/plain": [
       "sentencepiece.bpe.model:   0%|          | 0.00/5.07M [00:00<?, ?B/s]"
      ],
      "application/vnd.jupyter.widget-view+json": {
       "version_major": 2,
       "version_minor": 0,
       "model_id": "7dd9faad827943679c31bcc0f3567d7c"
      }
     },
     "metadata": {},
     "output_type": "display_data"
    },
    {
     "data": {
      "text/plain": [
       "tokenizer.json:   0%|          | 0.00/17.1M [00:00<?, ?B/s]"
      ],
      "application/vnd.jupyter.widget-view+json": {
       "version_major": 2,
       "version_minor": 0,
       "model_id": "af8c617e02d44b62910839c14dbe24bb"
      }
     },
     "metadata": {},
     "output_type": "display_data"
    },
    {
     "data": {
      "text/plain": [
       "special_tokens_map.json:   0%|          | 0.00/280 [00:00<?, ?B/s]"
      ],
      "application/vnd.jupyter.widget-view+json": {
       "version_major": 2,
       "version_minor": 0,
       "model_id": "783bf87fd8134a8f9bf9d137eca1fdf1"
      }
     },
     "metadata": {},
     "output_type": "display_data"
    },
    {
     "data": {
      "text/plain": [
       "[[0.5481223, 0.47015032, 0.48061907, 0.46748677, 0.47161585, 0.46524405],\n",
       " [0.47037706, 0.55090916, 0.46515894, 0.45892105, 0.46043685, 0.45687467],\n",
       " [0.48095253, 0.4651985, 0.5470413, 0.463034, 0.46503067, 0.45931464],\n",
       " [0.4678292, 0.45920864, 0.46310726, 0.54976594, 0.46386895, 0.45814413],\n",
       " [0.472395, 0.46067807, 0.4653046, 0.4643758, 0.5457804, 0.45475864],\n",
       " [0.46511865, 0.45669636, 0.45885727, 0.4577304, 0.45399514, 0.5403682]]"
      ]
     },
     "execution_count": 20,
     "metadata": {},
     "output_type": "execute_result"
    }
   ],
   "execution_count": 20
  },
  {
   "metadata": {
    "ExecuteTime": {
     "end_time": "2024-12-15T20:34:34.046751Z",
     "start_time": "2024-12-15T20:34:34.044718Z"
    }
   },
   "cell_type": "code",
   "source": "",
   "id": "e9c1b5b52fe747c9",
   "outputs": [],
   "execution_count": null
  },
  {
   "metadata": {
    "ExecuteTime": {
     "end_time": "2024-12-15T20:34:34.103070Z",
     "start_time": "2024-12-15T20:34:34.100502Z"
    }
   },
   "cell_type": "code",
   "source": "",
   "id": "8a266ca914d4efa3",
   "outputs": [],
   "execution_count": null
  },
  {
   "metadata": {
    "ExecuteTime": {
     "end_time": "2024-12-15T21:12:31.362328Z",
     "start_time": "2024-12-15T21:12:22.469267Z"
    }
   },
   "cell_type": "code",
   "source": [
    "\n",
    "embedder_ = Embedder(model_name=\"m3\")\n",
    "embeddings, metadatas = embedder_.embed_datasets(datasets)"
   ],
   "id": "f1aa39c669463548",
   "outputs": [],
   "execution_count": 48
  },
  {
   "metadata": {
    "ExecuteTime": {
     "end_time": "2024-12-15T21:12:31.533741Z",
     "start_time": "2024-12-15T21:12:31.527868Z"
    }
   },
   "cell_type": "code",
   "source": [
    "import numpy as np\n",
    "embed = np.vstack(embeddings)\n",
    "metadata = metadatas"
   ],
   "id": "d15fb15f77e7bb60",
   "outputs": [],
   "execution_count": 49
  },
  {
   "metadata": {
    "ExecuteTime": {
     "end_time": "2024-12-15T21:12:31.616748Z",
     "start_time": "2024-12-15T21:12:31.612020Z"
    }
   },
   "cell_type": "code",
   "source": "len(metadata), embed.shape",
   "id": "87a3c544bc5e741",
   "outputs": [
    {
     "data": {
      "text/plain": [
       "(1800, (1800, 1024))"
      ]
     },
     "execution_count": 50,
     "metadata": {},
     "output_type": "execute_result"
    }
   ],
   "execution_count": 50
  },
  {
   "metadata": {
    "ExecuteTime": {
     "end_time": "2024-12-15T21:12:31.685053Z",
     "start_time": "2024-12-15T21:12:31.679831Z"
    }
   },
   "cell_type": "code",
   "source": "embed.shape",
   "id": "ef31125995e8b7ed",
   "outputs": [
    {
     "data": {
      "text/plain": [
       "(1800, 1024)"
      ]
     },
     "execution_count": 51,
     "metadata": {},
     "output_type": "execute_result"
    }
   ],
   "execution_count": 51
  },
  {
   "metadata": {
    "ExecuteTime": {
     "end_time": "2024-12-15T21:12:31.741129Z",
     "start_time": "2024-12-15T21:12:31.738829Z"
    }
   },
   "cell_type": "code",
   "source": "",
   "id": "6fd532cf0d214aa7",
   "outputs": [],
   "execution_count": null
  },
  {
   "metadata": {
    "ExecuteTime": {
     "end_time": "2024-12-15T21:12:33.132356Z",
     "start_time": "2024-12-15T21:12:31.797298Z"
    }
   },
   "cell_type": "code",
   "source": [
    "clusters = Embedder.cluster_embeddings(embed, metadata, 150)\n",
    "clusters"
   ],
   "id": "c8b56d813259c34",
   "outputs": [
    {
     "data": {
      "text/plain": [
       "                                                   text  label   id  \\\n",
       "0     Even 2 month old baby girl is not safe in Indi...      0    0   \n",
       "1     these bhagwa terrorists can't digest their mea...      1    1   \n",
       "2     What kind of media is this!!first they make he...      0    2   \n",
       "3     Compensation to the States will be payable eve...      0    3   \n",
       "4     Nifty below 8550 , indicates a down move maybe...      0    4   \n",
       "...                                                 ...    ...  ...   \n",
       "1795  ish kryeministri I madh I Indisë hera e parë f...      0  295   \n",
       "1796  modaliteti Mute i çaktivizuar? Epo të paktën d...      1  296   \n",
       "1797  kryeministër I dështuar, skemë pa para kesh e ...      1  297   \n",
       "1798  Propaganda kundër Pawar Saab është krejtësisht...      0  298   \n",
       "1799  India ka nevojë për një kryeministër të tillë ...      0  299   \n",
       "\n",
       "               dataset_name language  cluster  \n",
       "0     parallel_data/en-Trac       en      124  \n",
       "1     parallel_data/en-Trac       en       83  \n",
       "2     parallel_data/en-Trac       en       30  \n",
       "3     parallel_data/en-Trac       en      126  \n",
       "4     parallel_data/en-Trac       en       60  \n",
       "...                     ...      ...      ...  \n",
       "1795  parallel_data/sq-Trac       sq       76  \n",
       "1796  parallel_data/sq-Trac       sq       33  \n",
       "1797  parallel_data/sq-Trac       sq       66  \n",
       "1798  parallel_data/sq-Trac       sq       29  \n",
       "1799  parallel_data/sq-Trac       sq       76  \n",
       "\n",
       "[1800 rows x 6 columns]"
      ],
      "text/html": [
       "<div>\n",
       "<style scoped>\n",
       "    .dataframe tbody tr th:only-of-type {\n",
       "        vertical-align: middle;\n",
       "    }\n",
       "\n",
       "    .dataframe tbody tr th {\n",
       "        vertical-align: top;\n",
       "    }\n",
       "\n",
       "    .dataframe thead th {\n",
       "        text-align: right;\n",
       "    }\n",
       "</style>\n",
       "<table border=\"1\" class=\"dataframe\">\n",
       "  <thead>\n",
       "    <tr style=\"text-align: right;\">\n",
       "      <th></th>\n",
       "      <th>text</th>\n",
       "      <th>label</th>\n",
       "      <th>id</th>\n",
       "      <th>dataset_name</th>\n",
       "      <th>language</th>\n",
       "      <th>cluster</th>\n",
       "    </tr>\n",
       "  </thead>\n",
       "  <tbody>\n",
       "    <tr>\n",
       "      <th>0</th>\n",
       "      <td>Even 2 month old baby girl is not safe in Indi...</td>\n",
       "      <td>0</td>\n",
       "      <td>0</td>\n",
       "      <td>parallel_data/en-Trac</td>\n",
       "      <td>en</td>\n",
       "      <td>124</td>\n",
       "    </tr>\n",
       "    <tr>\n",
       "      <th>1</th>\n",
       "      <td>these bhagwa terrorists can't digest their mea...</td>\n",
       "      <td>1</td>\n",
       "      <td>1</td>\n",
       "      <td>parallel_data/en-Trac</td>\n",
       "      <td>en</td>\n",
       "      <td>83</td>\n",
       "    </tr>\n",
       "    <tr>\n",
       "      <th>2</th>\n",
       "      <td>What kind of media is this!!first they make he...</td>\n",
       "      <td>0</td>\n",
       "      <td>2</td>\n",
       "      <td>parallel_data/en-Trac</td>\n",
       "      <td>en</td>\n",
       "      <td>30</td>\n",
       "    </tr>\n",
       "    <tr>\n",
       "      <th>3</th>\n",
       "      <td>Compensation to the States will be payable eve...</td>\n",
       "      <td>0</td>\n",
       "      <td>3</td>\n",
       "      <td>parallel_data/en-Trac</td>\n",
       "      <td>en</td>\n",
       "      <td>126</td>\n",
       "    </tr>\n",
       "    <tr>\n",
       "      <th>4</th>\n",
       "      <td>Nifty below 8550 , indicates a down move maybe...</td>\n",
       "      <td>0</td>\n",
       "      <td>4</td>\n",
       "      <td>parallel_data/en-Trac</td>\n",
       "      <td>en</td>\n",
       "      <td>60</td>\n",
       "    </tr>\n",
       "    <tr>\n",
       "      <th>...</th>\n",
       "      <td>...</td>\n",
       "      <td>...</td>\n",
       "      <td>...</td>\n",
       "      <td>...</td>\n",
       "      <td>...</td>\n",
       "      <td>...</td>\n",
       "    </tr>\n",
       "    <tr>\n",
       "      <th>1795</th>\n",
       "      <td>ish kryeministri I madh I Indisë hera e parë f...</td>\n",
       "      <td>0</td>\n",
       "      <td>295</td>\n",
       "      <td>parallel_data/sq-Trac</td>\n",
       "      <td>sq</td>\n",
       "      <td>76</td>\n",
       "    </tr>\n",
       "    <tr>\n",
       "      <th>1796</th>\n",
       "      <td>modaliteti Mute i çaktivizuar? Epo të paktën d...</td>\n",
       "      <td>1</td>\n",
       "      <td>296</td>\n",
       "      <td>parallel_data/sq-Trac</td>\n",
       "      <td>sq</td>\n",
       "      <td>33</td>\n",
       "    </tr>\n",
       "    <tr>\n",
       "      <th>1797</th>\n",
       "      <td>kryeministër I dështuar, skemë pa para kesh e ...</td>\n",
       "      <td>1</td>\n",
       "      <td>297</td>\n",
       "      <td>parallel_data/sq-Trac</td>\n",
       "      <td>sq</td>\n",
       "      <td>66</td>\n",
       "    </tr>\n",
       "    <tr>\n",
       "      <th>1798</th>\n",
       "      <td>Propaganda kundër Pawar Saab është krejtësisht...</td>\n",
       "      <td>0</td>\n",
       "      <td>298</td>\n",
       "      <td>parallel_data/sq-Trac</td>\n",
       "      <td>sq</td>\n",
       "      <td>29</td>\n",
       "    </tr>\n",
       "    <tr>\n",
       "      <th>1799</th>\n",
       "      <td>India ka nevojë për një kryeministër të tillë ...</td>\n",
       "      <td>0</td>\n",
       "      <td>299</td>\n",
       "      <td>parallel_data/sq-Trac</td>\n",
       "      <td>sq</td>\n",
       "      <td>76</td>\n",
       "    </tr>\n",
       "  </tbody>\n",
       "</table>\n",
       "<p>1800 rows × 6 columns</p>\n",
       "</div>"
      ]
     },
     "execution_count": 52,
     "metadata": {},
     "output_type": "execute_result"
    }
   ],
   "execution_count": 52
  },
  {
   "metadata": {
    "ExecuteTime": {
     "end_time": "2024-12-15T21:12:33.298306Z",
     "start_time": "2024-12-15T21:12:33.288353Z"
    }
   },
   "cell_type": "code",
   "source": "clusters[clusters['cluster']==8]",
   "id": "1ed6aee1c63c9840",
   "outputs": [
    {
     "data": {
      "text/plain": [
       "                                                   text  label   id  \\\n",
       "14    No quotas no reservations! First the UN Should...      1   14   \n",
       "144   #Niaz_Khosa google it in 2017 u r 6th most rap...      1  144   \n",
       "190   And who do you think YOU are, to decide, who's...      1  190   \n",
       "314   Kota yok rezervasyon yok !İlk olarak BM kadını...      1   14   \n",
       "444   #Niaz_Khosa 2017 için google’dan arat siz  6. ...      1  144   \n",
       "490   Ve SEN kim olduğunu düşünüyorsun da kimin içer...      1  190   \n",
       "614   Keine Quoten keine Vorbehalte! Zuerst sollte d...      1   14   \n",
       "744   #Niaz_Khosa google es in 2017 und du bist das ...      1  144   \n",
       "790   Und was glaubst du, wer DU bist, um zu entsche...      1  190   \n",
       "914   Nema kvota nema rezervacija! Prvo bi UN trebao...      1   14   \n",
       "1044  #Niaz_Khosa Guglaj to, u 2017. vi ste 6. po re...      1  144   \n",
       "1090  A što misliš tko si ti da odlučiš tko je insaj...      1  190   \n",
       "1214  Нет квоты нет оговорок! Сначала ООН должна улу...      1   14   \n",
       "1344  #Niaz_Khosa загугли это в 2017 году вы были на...      1  144   \n",
       "1390  \"И кто ты, по-твоему, такой, чтобы решать, кто...      1  190   \n",
       "1514  No Kuotat nuk ka rezerva! Së pari OKB-ja duhet...      1   14   \n",
       "1644  #Niaz_Khosa kërkoje në google në vitin 2017 je...      1  144   \n",
       "1690  Dhe ju, kush mendoni se jeni, për të vendosur,...      1  190   \n",
       "\n",
       "               dataset_name language  cluster  \n",
       "14    parallel_data/en-Trac       en        8  \n",
       "144   parallel_data/en-Trac       en        8  \n",
       "190   parallel_data/en-Trac       en        8  \n",
       "314   parallel_data/tr-Trac       tr        8  \n",
       "444   parallel_data/tr-Trac       tr        8  \n",
       "490   parallel_data/tr-Trac       tr        8  \n",
       "614   parallel_data/de-Trac       de        8  \n",
       "744   parallel_data/de-Trac       de        8  \n",
       "790   parallel_data/de-Trac       de        8  \n",
       "914   parallel_data/hr-Trac       hr        8  \n",
       "1044  parallel_data/hr-Trac       hr        8  \n",
       "1090  parallel_data/hr-Trac       hr        8  \n",
       "1214  parallel_data/ru-Trac       ru        8  \n",
       "1344  parallel_data/ru-Trac       ru        8  \n",
       "1390  parallel_data/ru-Trac       ru        8  \n",
       "1514  parallel_data/sq-Trac       sq        8  \n",
       "1644  parallel_data/sq-Trac       sq        8  \n",
       "1690  parallel_data/sq-Trac       sq        8  "
      ],
      "text/html": [
       "<div>\n",
       "<style scoped>\n",
       "    .dataframe tbody tr th:only-of-type {\n",
       "        vertical-align: middle;\n",
       "    }\n",
       "\n",
       "    .dataframe tbody tr th {\n",
       "        vertical-align: top;\n",
       "    }\n",
       "\n",
       "    .dataframe thead th {\n",
       "        text-align: right;\n",
       "    }\n",
       "</style>\n",
       "<table border=\"1\" class=\"dataframe\">\n",
       "  <thead>\n",
       "    <tr style=\"text-align: right;\">\n",
       "      <th></th>\n",
       "      <th>text</th>\n",
       "      <th>label</th>\n",
       "      <th>id</th>\n",
       "      <th>dataset_name</th>\n",
       "      <th>language</th>\n",
       "      <th>cluster</th>\n",
       "    </tr>\n",
       "  </thead>\n",
       "  <tbody>\n",
       "    <tr>\n",
       "      <th>14</th>\n",
       "      <td>No quotas no reservations! First the UN Should...</td>\n",
       "      <td>1</td>\n",
       "      <td>14</td>\n",
       "      <td>parallel_data/en-Trac</td>\n",
       "      <td>en</td>\n",
       "      <td>8</td>\n",
       "    </tr>\n",
       "    <tr>\n",
       "      <th>144</th>\n",
       "      <td>#Niaz_Khosa google it in 2017 u r 6th most rap...</td>\n",
       "      <td>1</td>\n",
       "      <td>144</td>\n",
       "      <td>parallel_data/en-Trac</td>\n",
       "      <td>en</td>\n",
       "      <td>8</td>\n",
       "    </tr>\n",
       "    <tr>\n",
       "      <th>190</th>\n",
       "      <td>And who do you think YOU are, to decide, who's...</td>\n",
       "      <td>1</td>\n",
       "      <td>190</td>\n",
       "      <td>parallel_data/en-Trac</td>\n",
       "      <td>en</td>\n",
       "      <td>8</td>\n",
       "    </tr>\n",
       "    <tr>\n",
       "      <th>314</th>\n",
       "      <td>Kota yok rezervasyon yok !İlk olarak BM kadını...</td>\n",
       "      <td>1</td>\n",
       "      <td>14</td>\n",
       "      <td>parallel_data/tr-Trac</td>\n",
       "      <td>tr</td>\n",
       "      <td>8</td>\n",
       "    </tr>\n",
       "    <tr>\n",
       "      <th>444</th>\n",
       "      <td>#Niaz_Khosa 2017 için google’dan arat siz  6. ...</td>\n",
       "      <td>1</td>\n",
       "      <td>144</td>\n",
       "      <td>parallel_data/tr-Trac</td>\n",
       "      <td>tr</td>\n",
       "      <td>8</td>\n",
       "    </tr>\n",
       "    <tr>\n",
       "      <th>490</th>\n",
       "      <td>Ve SEN kim olduğunu düşünüyorsun da kimin içer...</td>\n",
       "      <td>1</td>\n",
       "      <td>190</td>\n",
       "      <td>parallel_data/tr-Trac</td>\n",
       "      <td>tr</td>\n",
       "      <td>8</td>\n",
       "    </tr>\n",
       "    <tr>\n",
       "      <th>614</th>\n",
       "      <td>Keine Quoten keine Vorbehalte! Zuerst sollte d...</td>\n",
       "      <td>1</td>\n",
       "      <td>14</td>\n",
       "      <td>parallel_data/de-Trac</td>\n",
       "      <td>de</td>\n",
       "      <td>8</td>\n",
       "    </tr>\n",
       "    <tr>\n",
       "      <th>744</th>\n",
       "      <td>#Niaz_Khosa google es in 2017 und du bist das ...</td>\n",
       "      <td>1</td>\n",
       "      <td>144</td>\n",
       "      <td>parallel_data/de-Trac</td>\n",
       "      <td>de</td>\n",
       "      <td>8</td>\n",
       "    </tr>\n",
       "    <tr>\n",
       "      <th>790</th>\n",
       "      <td>Und was glaubst du, wer DU bist, um zu entsche...</td>\n",
       "      <td>1</td>\n",
       "      <td>190</td>\n",
       "      <td>parallel_data/de-Trac</td>\n",
       "      <td>de</td>\n",
       "      <td>8</td>\n",
       "    </tr>\n",
       "    <tr>\n",
       "      <th>914</th>\n",
       "      <td>Nema kvota nema rezervacija! Prvo bi UN trebao...</td>\n",
       "      <td>1</td>\n",
       "      <td>14</td>\n",
       "      <td>parallel_data/hr-Trac</td>\n",
       "      <td>hr</td>\n",
       "      <td>8</td>\n",
       "    </tr>\n",
       "    <tr>\n",
       "      <th>1044</th>\n",
       "      <td>#Niaz_Khosa Guglaj to, u 2017. vi ste 6. po re...</td>\n",
       "      <td>1</td>\n",
       "      <td>144</td>\n",
       "      <td>parallel_data/hr-Trac</td>\n",
       "      <td>hr</td>\n",
       "      <td>8</td>\n",
       "    </tr>\n",
       "    <tr>\n",
       "      <th>1090</th>\n",
       "      <td>A što misliš tko si ti da odlučiš tko je insaj...</td>\n",
       "      <td>1</td>\n",
       "      <td>190</td>\n",
       "      <td>parallel_data/hr-Trac</td>\n",
       "      <td>hr</td>\n",
       "      <td>8</td>\n",
       "    </tr>\n",
       "    <tr>\n",
       "      <th>1214</th>\n",
       "      <td>Нет квоты нет оговорок! Сначала ООН должна улу...</td>\n",
       "      <td>1</td>\n",
       "      <td>14</td>\n",
       "      <td>parallel_data/ru-Trac</td>\n",
       "      <td>ru</td>\n",
       "      <td>8</td>\n",
       "    </tr>\n",
       "    <tr>\n",
       "      <th>1344</th>\n",
       "      <td>#Niaz_Khosa загугли это в 2017 году вы были на...</td>\n",
       "      <td>1</td>\n",
       "      <td>144</td>\n",
       "      <td>parallel_data/ru-Trac</td>\n",
       "      <td>ru</td>\n",
       "      <td>8</td>\n",
       "    </tr>\n",
       "    <tr>\n",
       "      <th>1390</th>\n",
       "      <td>\"И кто ты, по-твоему, такой, чтобы решать, кто...</td>\n",
       "      <td>1</td>\n",
       "      <td>190</td>\n",
       "      <td>parallel_data/ru-Trac</td>\n",
       "      <td>ru</td>\n",
       "      <td>8</td>\n",
       "    </tr>\n",
       "    <tr>\n",
       "      <th>1514</th>\n",
       "      <td>No Kuotat nuk ka rezerva! Së pari OKB-ja duhet...</td>\n",
       "      <td>1</td>\n",
       "      <td>14</td>\n",
       "      <td>parallel_data/sq-Trac</td>\n",
       "      <td>sq</td>\n",
       "      <td>8</td>\n",
       "    </tr>\n",
       "    <tr>\n",
       "      <th>1644</th>\n",
       "      <td>#Niaz_Khosa kërkoje në google në vitin 2017 je...</td>\n",
       "      <td>1</td>\n",
       "      <td>144</td>\n",
       "      <td>parallel_data/sq-Trac</td>\n",
       "      <td>sq</td>\n",
       "      <td>8</td>\n",
       "    </tr>\n",
       "    <tr>\n",
       "      <th>1690</th>\n",
       "      <td>Dhe ju, kush mendoni se jeni, për të vendosur,...</td>\n",
       "      <td>1</td>\n",
       "      <td>190</td>\n",
       "      <td>parallel_data/sq-Trac</td>\n",
       "      <td>sq</td>\n",
       "      <td>8</td>\n",
       "    </tr>\n",
       "  </tbody>\n",
       "</table>\n",
       "</div>"
      ]
     },
     "execution_count": 53,
     "metadata": {},
     "output_type": "execute_result"
    }
   ],
   "execution_count": 53
  },
  {
   "metadata": {
    "ExecuteTime": {
     "end_time": "2024-12-15T21:12:33.411691Z",
     "start_time": "2024-12-15T21:12:33.406402Z"
    }
   },
   "cell_type": "code",
   "source": "embed.shape, len(metadata)",
   "id": "852bf18607a3fc8",
   "outputs": [
    {
     "data": {
      "text/plain": [
       "((1800, 1024), 1800)"
      ]
     },
     "execution_count": 54,
     "metadata": {},
     "output_type": "execute_result"
    }
   ],
   "execution_count": 54
  },
  {
   "metadata": {
    "ExecuteTime": {
     "end_time": "2024-12-15T21:12:37.574314Z",
     "start_time": "2024-12-15T21:12:33.556144Z"
    }
   },
   "cell_type": "code",
   "source": "Embedder.visualize_embeddings(embed, metadatas)",
   "id": "8e8b4b23bcb0e998",
   "outputs": [
    {
     "name": "stderr",
     "output_type": "stream",
     "text": [
      "/mounts/work/faeze/new_miniconda3/envs/2024_9/lib/python3.10/site-packages/umap/umap_.py:1952: UserWarning:\n",
      "\n",
      "n_jobs value 1 overridden to 1 by setting random_state. Use no seed for parallelism.\n",
      "\n"
     ]
    },
    {
     "data": {
      "application/vnd.plotly.v1+json": {
       "data": [
        {
         "customdata": [
          [
           "parallel_data/en-Trac",
           "en"
          ],
          [
           "parallel_data/en-Trac",
           "en"
          ],
          [
           "parallel_data/en-Trac",
           "en"
          ],
          [
           "parallel_data/en-Trac",
           "en"
          ],
          [
           "parallel_data/en-Trac",
           "en"
          ],
          [
           "parallel_data/en-Trac",
           "en"
          ],
          [
           "parallel_data/en-Trac",
           "en"
          ],
          [
           "parallel_data/en-Trac",
           "en"
          ],
          [
           "parallel_data/en-Trac",
           "en"
          ],
          [
           "parallel_data/en-Trac",
           "en"
          ],
          [
           "parallel_data/en-Trac",
           "en"
          ],
          [
           "parallel_data/en-Trac",
           "en"
          ],
          [
           "parallel_data/en-Trac",
           "en"
          ],
          [
           "parallel_data/en-Trac",
           "en"
          ],
          [
           "parallel_data/en-Trac",
           "en"
          ],
          [
           "parallel_data/en-Trac",
           "en"
          ],
          [
           "parallel_data/en-Trac",
           "en"
          ],
          [
           "parallel_data/en-Trac",
           "en"
          ],
          [
           "parallel_data/en-Trac",
           "en"
          ],
          [
           "parallel_data/en-Trac",
           "en"
          ],
          [
           "parallel_data/en-Trac",
           "en"
          ],
          [
           "parallel_data/en-Trac",
           "en"
          ],
          [
           "parallel_data/en-Trac",
           "en"
          ],
          [
           "parallel_data/en-Trac",
           "en"
          ],
          [
           "parallel_data/en-Trac",
           "en"
          ],
          [
           "parallel_data/en-Trac",
           "en"
          ],
          [
           "parallel_data/en-Trac",
           "en"
          ],
          [
           "parallel_data/en-Trac",
           "en"
          ],
          [
           "parallel_data/en-Trac",
           "en"
          ],
          [
           "parallel_data/en-Trac",
           "en"
          ],
          [
           "parallel_data/en-Trac",
           "en"
          ],
          [
           "parallel_data/en-Trac",
           "en"
          ],
          [
           "parallel_data/en-Trac",
           "en"
          ],
          [
           "parallel_data/en-Trac",
           "en"
          ],
          [
           "parallel_data/en-Trac",
           "en"
          ],
          [
           "parallel_data/en-Trac",
           "en"
          ],
          [
           "parallel_data/en-Trac",
           "en"
          ],
          [
           "parallel_data/en-Trac",
           "en"
          ],
          [
           "parallel_data/en-Trac",
           "en"
          ],
          [
           "parallel_data/en-Trac",
           "en"
          ],
          [
           "parallel_data/en-Trac",
           "en"
          ],
          [
           "parallel_data/en-Trac",
           "en"
          ],
          [
           "parallel_data/en-Trac",
           "en"
          ],
          [
           "parallel_data/en-Trac",
           "en"
          ],
          [
           "parallel_data/en-Trac",
           "en"
          ],
          [
           "parallel_data/en-Trac",
           "en"
          ],
          [
           "parallel_data/en-Trac",
           "en"
          ],
          [
           "parallel_data/en-Trac",
           "en"
          ],
          [
           "parallel_data/en-Trac",
           "en"
          ],
          [
           "parallel_data/en-Trac",
           "en"
          ],
          [
           "parallel_data/en-Trac",
           "en"
          ],
          [
           "parallel_data/en-Trac",
           "en"
          ],
          [
           "parallel_data/en-Trac",
           "en"
          ],
          [
           "parallel_data/en-Trac",
           "en"
          ],
          [
           "parallel_data/en-Trac",
           "en"
          ],
          [
           "parallel_data/en-Trac",
           "en"
          ],
          [
           "parallel_data/en-Trac",
           "en"
          ],
          [
           "parallel_data/en-Trac",
           "en"
          ],
          [
           "parallel_data/en-Trac",
           "en"
          ],
          [
           "parallel_data/en-Trac",
           "en"
          ],
          [
           "parallel_data/en-Trac",
           "en"
          ],
          [
           "parallel_data/en-Trac",
           "en"
          ],
          [
           "parallel_data/en-Trac",
           "en"
          ],
          [
           "parallel_data/en-Trac",
           "en"
          ],
          [
           "parallel_data/en-Trac",
           "en"
          ],
          [
           "parallel_data/en-Trac",
           "en"
          ],
          [
           "parallel_data/en-Trac",
           "en"
          ],
          [
           "parallel_data/en-Trac",
           "en"
          ],
          [
           "parallel_data/en-Trac",
           "en"
          ],
          [
           "parallel_data/en-Trac",
           "en"
          ],
          [
           "parallel_data/en-Trac",
           "en"
          ],
          [
           "parallel_data/en-Trac",
           "en"
          ],
          [
           "parallel_data/en-Trac",
           "en"
          ],
          [
           "parallel_data/en-Trac",
           "en"
          ],
          [
           "parallel_data/en-Trac",
           "en"
          ],
          [
           "parallel_data/en-Trac",
           "en"
          ],
          [
           "parallel_data/en-Trac",
           "en"
          ],
          [
           "parallel_data/en-Trac",
           "en"
          ],
          [
           "parallel_data/en-Trac",
           "en"
          ],
          [
           "parallel_data/en-Trac",
           "en"
          ],
          [
           "parallel_data/en-Trac",
           "en"
          ],
          [
           "parallel_data/en-Trac",
           "en"
          ],
          [
           "parallel_data/en-Trac",
           "en"
          ],
          [
           "parallel_data/en-Trac",
           "en"
          ],
          [
           "parallel_data/en-Trac",
           "en"
          ],
          [
           "parallel_data/en-Trac",
           "en"
          ],
          [
           "parallel_data/en-Trac",
           "en"
          ],
          [
           "parallel_data/en-Trac",
           "en"
          ],
          [
           "parallel_data/en-Trac",
           "en"
          ],
          [
           "parallel_data/en-Trac",
           "en"
          ],
          [
           "parallel_data/en-Trac",
           "en"
          ],
          [
           "parallel_data/en-Trac",
           "en"
          ],
          [
           "parallel_data/en-Trac",
           "en"
          ],
          [
           "parallel_data/en-Trac",
           "en"
          ],
          [
           "parallel_data/en-Trac",
           "en"
          ],
          [
           "parallel_data/en-Trac",
           "en"
          ],
          [
           "parallel_data/en-Trac",
           "en"
          ],
          [
           "parallel_data/en-Trac",
           "en"
          ],
          [
           "parallel_data/en-Trac",
           "en"
          ],
          [
           "parallel_data/en-Trac",
           "en"
          ],
          [
           "parallel_data/en-Trac",
           "en"
          ],
          [
           "parallel_data/en-Trac",
           "en"
          ],
          [
           "parallel_data/en-Trac",
           "en"
          ],
          [
           "parallel_data/en-Trac",
           "en"
          ],
          [
           "parallel_data/en-Trac",
           "en"
          ],
          [
           "parallel_data/en-Trac",
           "en"
          ],
          [
           "parallel_data/en-Trac",
           "en"
          ],
          [
           "parallel_data/en-Trac",
           "en"
          ],
          [
           "parallel_data/en-Trac",
           "en"
          ],
          [
           "parallel_data/en-Trac",
           "en"
          ],
          [
           "parallel_data/en-Trac",
           "en"
          ],
          [
           "parallel_data/en-Trac",
           "en"
          ],
          [
           "parallel_data/en-Trac",
           "en"
          ],
          [
           "parallel_data/en-Trac",
           "en"
          ],
          [
           "parallel_data/en-Trac",
           "en"
          ],
          [
           "parallel_data/en-Trac",
           "en"
          ],
          [
           "parallel_data/en-Trac",
           "en"
          ],
          [
           "parallel_data/en-Trac",
           "en"
          ],
          [
           "parallel_data/en-Trac",
           "en"
          ],
          [
           "parallel_data/en-Trac",
           "en"
          ],
          [
           "parallel_data/en-Trac",
           "en"
          ],
          [
           "parallel_data/en-Trac",
           "en"
          ],
          [
           "parallel_data/en-Trac",
           "en"
          ],
          [
           "parallel_data/en-Trac",
           "en"
          ],
          [
           "parallel_data/en-Trac",
           "en"
          ],
          [
           "parallel_data/en-Trac",
           "en"
          ],
          [
           "parallel_data/en-Trac",
           "en"
          ],
          [
           "parallel_data/en-Trac",
           "en"
          ],
          [
           "parallel_data/en-Trac",
           "en"
          ],
          [
           "parallel_data/en-Trac",
           "en"
          ],
          [
           "parallel_data/en-Trac",
           "en"
          ],
          [
           "parallel_data/en-Trac",
           "en"
          ],
          [
           "parallel_data/en-Trac",
           "en"
          ],
          [
           "parallel_data/en-Trac",
           "en"
          ],
          [
           "parallel_data/en-Trac",
           "en"
          ],
          [
           "parallel_data/en-Trac",
           "en"
          ],
          [
           "parallel_data/en-Trac",
           "en"
          ],
          [
           "parallel_data/en-Trac",
           "en"
          ],
          [
           "parallel_data/en-Trac",
           "en"
          ],
          [
           "parallel_data/en-Trac",
           "en"
          ],
          [
           "parallel_data/en-Trac",
           "en"
          ],
          [
           "parallel_data/en-Trac",
           "en"
          ],
          [
           "parallel_data/en-Trac",
           "en"
          ],
          [
           "parallel_data/en-Trac",
           "en"
          ],
          [
           "parallel_data/en-Trac",
           "en"
          ],
          [
           "parallel_data/en-Trac",
           "en"
          ],
          [
           "parallel_data/en-Trac",
           "en"
          ],
          [
           "parallel_data/en-Trac",
           "en"
          ],
          [
           "parallel_data/en-Trac",
           "en"
          ],
          [
           "parallel_data/en-Trac",
           "en"
          ],
          [
           "parallel_data/en-Trac",
           "en"
          ],
          [
           "parallel_data/en-Trac",
           "en"
          ],
          [
           "parallel_data/en-Trac",
           "en"
          ],
          [
           "parallel_data/en-Trac",
           "en"
          ],
          [
           "parallel_data/en-Trac",
           "en"
          ],
          [
           "parallel_data/en-Trac",
           "en"
          ],
          [
           "parallel_data/en-Trac",
           "en"
          ],
          [
           "parallel_data/en-Trac",
           "en"
          ],
          [
           "parallel_data/en-Trac",
           "en"
          ],
          [
           "parallel_data/en-Trac",
           "en"
          ],
          [
           "parallel_data/en-Trac",
           "en"
          ],
          [
           "parallel_data/en-Trac",
           "en"
          ],
          [
           "parallel_data/en-Trac",
           "en"
          ],
          [
           "parallel_data/en-Trac",
           "en"
          ],
          [
           "parallel_data/en-Trac",
           "en"
          ],
          [
           "parallel_data/en-Trac",
           "en"
          ],
          [
           "parallel_data/en-Trac",
           "en"
          ],
          [
           "parallel_data/en-Trac",
           "en"
          ],
          [
           "parallel_data/en-Trac",
           "en"
          ],
          [
           "parallel_data/en-Trac",
           "en"
          ],
          [
           "parallel_data/en-Trac",
           "en"
          ],
          [
           "parallel_data/en-Trac",
           "en"
          ],
          [
           "parallel_data/en-Trac",
           "en"
          ],
          [
           "parallel_data/en-Trac",
           "en"
          ],
          [
           "parallel_data/en-Trac",
           "en"
          ],
          [
           "parallel_data/en-Trac",
           "en"
          ],
          [
           "parallel_data/en-Trac",
           "en"
          ],
          [
           "parallel_data/en-Trac",
           "en"
          ],
          [
           "parallel_data/en-Trac",
           "en"
          ],
          [
           "parallel_data/en-Trac",
           "en"
          ],
          [
           "parallel_data/en-Trac",
           "en"
          ],
          [
           "parallel_data/en-Trac",
           "en"
          ],
          [
           "parallel_data/en-Trac",
           "en"
          ],
          [
           "parallel_data/en-Trac",
           "en"
          ],
          [
           "parallel_data/en-Trac",
           "en"
          ],
          [
           "parallel_data/en-Trac",
           "en"
          ],
          [
           "parallel_data/en-Trac",
           "en"
          ],
          [
           "parallel_data/en-Trac",
           "en"
          ],
          [
           "parallel_data/en-Trac",
           "en"
          ],
          [
           "parallel_data/en-Trac",
           "en"
          ],
          [
           "parallel_data/en-Trac",
           "en"
          ],
          [
           "parallel_data/en-Trac",
           "en"
          ],
          [
           "parallel_data/en-Trac",
           "en"
          ],
          [
           "parallel_data/en-Trac",
           "en"
          ],
          [
           "parallel_data/en-Trac",
           "en"
          ],
          [
           "parallel_data/en-Trac",
           "en"
          ],
          [
           "parallel_data/en-Trac",
           "en"
          ],
          [
           "parallel_data/en-Trac",
           "en"
          ],
          [
           "parallel_data/en-Trac",
           "en"
          ],
          [
           "parallel_data/en-Trac",
           "en"
          ],
          [
           "parallel_data/en-Trac",
           "en"
          ],
          [
           "parallel_data/en-Trac",
           "en"
          ],
          [
           "parallel_data/en-Trac",
           "en"
          ],
          [
           "parallel_data/en-Trac",
           "en"
          ],
          [
           "parallel_data/en-Trac",
           "en"
          ],
          [
           "parallel_data/en-Trac",
           "en"
          ],
          [
           "parallel_data/en-Trac",
           "en"
          ],
          [
           "parallel_data/en-Trac",
           "en"
          ],
          [
           "parallel_data/en-Trac",
           "en"
          ],
          [
           "parallel_data/en-Trac",
           "en"
          ],
          [
           "parallel_data/en-Trac",
           "en"
          ],
          [
           "parallel_data/en-Trac",
           "en"
          ],
          [
           "parallel_data/en-Trac",
           "en"
          ],
          [
           "parallel_data/en-Trac",
           "en"
          ],
          [
           "parallel_data/en-Trac",
           "en"
          ],
          [
           "parallel_data/en-Trac",
           "en"
          ],
          [
           "parallel_data/en-Trac",
           "en"
          ],
          [
           "parallel_data/en-Trac",
           "en"
          ],
          [
           "parallel_data/en-Trac",
           "en"
          ],
          [
           "parallel_data/en-Trac",
           "en"
          ],
          [
           "parallel_data/en-Trac",
           "en"
          ],
          [
           "parallel_data/en-Trac",
           "en"
          ],
          [
           "parallel_data/en-Trac",
           "en"
          ],
          [
           "parallel_data/en-Trac",
           "en"
          ],
          [
           "parallel_data/en-Trac",
           "en"
          ],
          [
           "parallel_data/en-Trac",
           "en"
          ],
          [
           "parallel_data/en-Trac",
           "en"
          ],
          [
           "parallel_data/en-Trac",
           "en"
          ],
          [
           "parallel_data/en-Trac",
           "en"
          ],
          [
           "parallel_data/en-Trac",
           "en"
          ],
          [
           "parallel_data/en-Trac",
           "en"
          ],
          [
           "parallel_data/en-Trac",
           "en"
          ],
          [
           "parallel_data/en-Trac",
           "en"
          ],
          [
           "parallel_data/en-Trac",
           "en"
          ],
          [
           "parallel_data/en-Trac",
           "en"
          ],
          [
           "parallel_data/en-Trac",
           "en"
          ],
          [
           "parallel_data/en-Trac",
           "en"
          ],
          [
           "parallel_data/en-Trac",
           "en"
          ],
          [
           "parallel_data/en-Trac",
           "en"
          ],
          [
           "parallel_data/en-Trac",
           "en"
          ],
          [
           "parallel_data/en-Trac",
           "en"
          ],
          [
           "parallel_data/en-Trac",
           "en"
          ],
          [
           "parallel_data/en-Trac",
           "en"
          ],
          [
           "parallel_data/en-Trac",
           "en"
          ],
          [
           "parallel_data/en-Trac",
           "en"
          ],
          [
           "parallel_data/en-Trac",
           "en"
          ],
          [
           "parallel_data/en-Trac",
           "en"
          ],
          [
           "parallel_data/en-Trac",
           "en"
          ],
          [
           "parallel_data/en-Trac",
           "en"
          ],
          [
           "parallel_data/en-Trac",
           "en"
          ],
          [
           "parallel_data/en-Trac",
           "en"
          ],
          [
           "parallel_data/en-Trac",
           "en"
          ],
          [
           "parallel_data/en-Trac",
           "en"
          ],
          [
           "parallel_data/en-Trac",
           "en"
          ],
          [
           "parallel_data/en-Trac",
           "en"
          ],
          [
           "parallel_data/en-Trac",
           "en"
          ],
          [
           "parallel_data/en-Trac",
           "en"
          ],
          [
           "parallel_data/en-Trac",
           "en"
          ],
          [
           "parallel_data/en-Trac",
           "en"
          ],
          [
           "parallel_data/en-Trac",
           "en"
          ],
          [
           "parallel_data/en-Trac",
           "en"
          ],
          [
           "parallel_data/en-Trac",
           "en"
          ],
          [
           "parallel_data/en-Trac",
           "en"
          ],
          [
           "parallel_data/en-Trac",
           "en"
          ],
          [
           "parallel_data/en-Trac",
           "en"
          ],
          [
           "parallel_data/en-Trac",
           "en"
          ],
          [
           "parallel_data/en-Trac",
           "en"
          ],
          [
           "parallel_data/en-Trac",
           "en"
          ],
          [
           "parallel_data/en-Trac",
           "en"
          ],
          [
           "parallel_data/en-Trac",
           "en"
          ],
          [
           "parallel_data/en-Trac",
           "en"
          ],
          [
           "parallel_data/en-Trac",
           "en"
          ],
          [
           "parallel_data/en-Trac",
           "en"
          ],
          [
           "parallel_data/en-Trac",
           "en"
          ],
          [
           "parallel_data/en-Trac",
           "en"
          ],
          [
           "parallel_data/en-Trac",
           "en"
          ],
          [
           "parallel_data/en-Trac",
           "en"
          ],
          [
           "parallel_data/en-Trac",
           "en"
          ],
          [
           "parallel_data/en-Trac",
           "en"
          ],
          [
           "parallel_data/en-Trac",
           "en"
          ],
          [
           "parallel_data/en-Trac",
           "en"
          ],
          [
           "parallel_data/en-Trac",
           "en"
          ],
          [
           "parallel_data/en-Trac",
           "en"
          ],
          [
           "parallel_data/en-Trac",
           "en"
          ],
          [
           "parallel_data/en-Trac",
           "en"
          ],
          [
           "parallel_data/en-Trac",
           "en"
          ],
          [
           "parallel_data/en-Trac",
           "en"
          ],
          [
           "parallel_data/en-Trac",
           "en"
          ],
          [
           "parallel_data/en-Trac",
           "en"
          ],
          [
           "parallel_data/en-Trac",
           "en"
          ],
          [
           "parallel_data/en-Trac",
           "en"
          ],
          [
           "parallel_data/en-Trac",
           "en"
          ],
          [
           "parallel_data/en-Trac",
           "en"
          ],
          [
           "parallel_data/en-Trac",
           "en"
          ],
          [
           "parallel_data/en-Trac",
           "en"
          ],
          [
           "parallel_data/en-Trac",
           "en"
          ],
          [
           "parallel_data/en-Trac",
           "en"
          ],
          [
           "parallel_data/en-Trac",
           "en"
          ],
          [
           "parallel_data/en-Trac",
           "en"
          ],
          [
           "parallel_data/en-Trac",
           "en"
          ]
         ],
         "hovertemplate": "language=%{customdata[1]}<br>x=%{x}<br>y=%{y}<br>dataset_name=%{customdata[0]}<extra></extra>",
         "legendgroup": "en",
         "marker": {
          "color": "#636efa",
          "symbol": "circle"
         },
         "mode": "markers",
         "name": "en",
         "showlegend": true,
         "x": [
          5.228725910186768,
          6.81326961517334,
          7.235931396484375,
          -5.8288421630859375,
          -4.934246063232422,
          9.346835136413574,
          -4.892932415008545,
          -1.2155743837356567,
          2.9287266731262207,
          -0.2580156922340393,
          0.9444647431373596,
          3.748290777206421,
          5.373198509216309,
          7.432144641876221,
          -0.7989580035209656,
          12.023407936096191,
          -3.6326067447662354,
          2.557056188583374,
          5.016007423400879,
          -3.6437742710113525,
          -2.177624464035034,
          0.33516478538513184,
          2.1871984004974365,
          -1.9241535663604736,
          9.166563034057617,
          -0.3285720646381378,
          9.122407913208008,
          9.49742317199707,
          3.4226207733154297,
          -2.4621732234954834,
          2.93865704536438,
          6.458267688751221,
          1.746602177619934,
          -0.933815062046051,
          -2.0828065872192383,
          2.0196642875671387,
          0.0388539619743824,
          7.017026901245117,
          5.0922017097473145,
          -1.4975922107696533,
          3.980499744415283,
          7.293458461761475,
          -0.9034104943275452,
          -3.3440256118774414,
          2.6601686477661133,
          -4.069751739501953,
          -0.6775911450386047,
          -2.117971897125244,
          9.139971733093262,
          -3.7603676319122314,
          1.282409429550171,
          7.350881099700928,
          4.884673595428467,
          0.5478956699371338,
          3.7497897148132324,
          2.5173709392547607,
          4.108582019805908,
          1.0845588445663452,
          4.087575912475586,
          11.007553100585938,
          6.779338359832764,
          0.2128019630908966,
          -1.89678156375885,
          -1.8262804746627808,
          0.896522045135498,
          0.8977649807929993,
          4.75309419631958,
          0.2955617606639862,
          6.307275772094727,
          8.335320472717285,
          1.2677381038665771,
          4.815290927886963,
          -1.9526066780090332,
          2.650353193283081,
          4.749576091766357,
          -1.041321873664856,
          0.5254834890365601,
          -0.39823856949806213,
          -5.494893550872803,
          5.649657726287842,
          3.13592267036438,
          -0.07144946604967117,
          5.001919746398926,
          -3.1980092525482178,
          3.6877880096435547,
          7.369783401489258,
          4.263049125671387,
          -4.2004828453063965,
          6.2381157875061035,
          10.329143524169922,
          8.054200172424316,
          3.375713348388672,
          5.158432483673096,
          3.2683463096618652,
          7.52067232131958,
          2.399162530899048,
          4.283170223236084,
          11.778237342834473,
          -7.592538833618164,
          0.26077011227607727,
          -0.7790181636810303,
          6.725762367248535,
          4.284955024719238,
          5.649569034576416,
          -8.56762981414795,
          -1.5530362129211426,
          0.6290137767791748,
          0.7307298183441162,
          -8.235438346862793,
          5.8236985206604,
          -2.388070821762085,
          -3.783860445022583,
          1.933149814605713,
          7.3897881507873535,
          -0.02694840542972088,
          2.7652735710144043,
          0.20647580921649933,
          -0.593366801738739,
          -2.1245052814483643,
          4.281580924987793,
          7.816819190979004,
          6.850086212158203,
          2.814098358154297,
          5.381257057189941,
          3.7563254833221436,
          -7.357496738433838,
          1.5681794881820679,
          5.772119045257568,
          2.4914462566375732,
          -2.726148843765259,
          0.8753808736801147,
          3.181321859359741,
          -1.996280550956726,
          -3.5592246055603027,
          12.077790260314941,
          7.032383441925049,
          -2.038745880126953,
          -8.69600772857666,
          8.813218116760254,
          6.498990058898926,
          -2.7588698863983154,
          8.551904678344727,
          0.7971973419189453,
          5.956226825714111,
          6.9674153327941895,
          0.8094084858894348,
          3.8587589263916016,
          -3.8570680618286133,
          -5.537819862365723,
          -1.471922516822815,
          8.546160697937012,
          3.565577268600464,
          0.8236716389656067,
          3.04179048538208,
          -1.9718163013458252,
          -0.6669503450393677,
          3.9512054920196533,
          3.5659728050231934,
          2.85445499420166,
          1.987770915031433,
          10.271407127380371,
          4.617768287658691,
          3.972656726837158,
          4.187713146209717,
          -7.994598865509033,
          4.401510715484619,
          0.3985039293766022,
          -4.12475061416626,
          -0.1257946938276291,
          -3.7073962688446045,
          5.412727355957031,
          -1.5005724430084229,
          4.157861232757568,
          1.5950950384140015,
          6.180786609649658,
          -0.5555577874183655,
          1.348990797996521,
          3.2921526432037354,
          -3.3144068717956543,
          -0.6164531707763672,
          2.2209815979003906,
          1.0940817594528198,
          -5.741564750671387,
          5.441112041473389,
          1.2724761962890625,
          -8.158581733703613,
          10.076897621154785,
          2.5792455673217773,
          1.9327263832092285,
          1.5944315195083618,
          -1.2996978759765625,
          -7.374114990234375,
          2.226787805557251,
          -3.4175522327423096,
          2.9689557552337646,
          3.3886399269104004,
          1.044197916984558,
          0.1322334259748459,
          -1.2146806716918945,
          -2.1467642784118652,
          -1.842005729675293,
          -8.150101661682129,
          1.3431355953216553,
          -4.931462287902832,
          0.7362618446350098,
          7.2913737297058105,
          -2.8289310932159424,
          5.060055255889893,
          -5.419056415557861,
          -2.211604356765747,
          11.128775596618652,
          8.064953804016113,
          -8.027461051940918,
          2.267754316329956,
          -6.71848201751709,
          -1.0432220697402954,
          -1.3694266080856323,
          1.7527883052825928,
          1.7169685363769531,
          3.2119946479797363,
          -2.935770273208618,
          9.29351806640625,
          7.029582500457764,
          4.223875522613525,
          0.04895937815308571,
          5.465106964111328,
          -8.119366645812988,
          10.310023307800293,
          4.662734031677246,
          6.695992469787598,
          0.14623697102069855,
          6.790139675140381,
          4.384194374084473,
          6.840288162231445,
          1.507483959197998,
          -3.114924192428589,
          2.0846526622772217,
          7.018626689910889,
          -1.1743700504302979,
          11.440524101257324,
          1.8489586114883423,
          -1.8827563524246216,
          6.329972743988037,
          6.2687668800354,
          2.4299232959747314,
          1.3945976495742798,
          -7.351866245269775,
          -4.384925365447998,
          2.7696549892425537,
          2.6038594245910645,
          7.164602756500244,
          1.7399870157241821,
          -1.5540037155151367,
          -0.09001155942678452,
          -2.620182752609253,
          -5.188082695007324,
          -3.5623886585235596,
          1.239432454109192,
          4.20687198638916,
          2.036245584487915,
          -0.5293501615524292,
          -3.3456952571868896,
          -1.6000028848648071,
          3.377978563308716,
          -0.014791768044233322,
          -7.782997131347656,
          7.9313836097717285,
          1.1119526624679565,
          -1.746214509010315,
          -1.2547417879104614,
          -2.75864315032959,
          3.4440672397613525,
          2.334427833557129,
          -0.9279442429542542,
          -3.5314571857452393,
          1.7135944366455078,
          1.29527747631073,
          5.132961750030518,
          7.489315509796143,
          0.5325857996940613,
          2.705554723739624,
          8.922229766845703,
          -0.46960338950157166,
          2.2063992023468018,
          -2.8032212257385254,
          4.1621246337890625,
          5.039941787719727,
          1.8765995502471924,
          1.9810537099838257,
          -1.0115214586257935,
          -5.640198707580566,
          0.5872484445571899,
          -4.241240501403809,
          -0.8676120638847351,
          0.4984837472438812,
          2.1467087268829346,
          -2.9599807262420654,
          -0.2256215363740921,
          6.061747074127197,
          0.1519828587770462
         ],
         "xaxis": "x",
         "y": [
          2.8650097846984863,
          5.6875691413879395,
          3.838916540145874,
          0.7598837614059448,
          2.326167583465576,
          4.860719680786133,
          1.152633786201477,
          -0.46328723430633545,
          6.881978988647461,
          -4.4074296951293945,
          6.088930130004883,
          0.12245096266269684,
          5.0627923011779785,
          1.057698369026184,
          1.30156409740448,
          0.9633557796478271,
          1.5357218980789185,
          -1.8580034971237183,
          11.74588680267334,
          -0.809901773929596,
          3.910433053970337,
          8.497122764587402,
          7.395826816558838,
          0.41335034370422363,
          7.641191005706787,
          7.035945892333984,
          5.824635982513428,
          4.659261226654053,
          5.242025852203369,
          0.2697484791278839,
          7.767204284667969,
          -1.3847075700759888,
          12.564570426940918,
          7.120416164398193,
          11.865914344787598,
          13.69577407836914,
          0.6430047750473022,
          2.5587916374206543,
          3.261460781097412,
          -4.002099514007568,
          6.856743812561035,
          0.03917071968317032,
          5.395636081695557,
          -0.06536923348903656,
          7.566880702972412,
          1.011345624923706,
          8.164121627807617,
          3.996630907058716,
          4.089160919189453,
          8.865493774414062,
          11.573752403259277,
          8.534984588623047,
          10.148462295532227,
          2.2353322505950928,
          0.3797619938850403,
          1.8981013298034668,
          11.137126922607422,
          3.6272687911987305,
          3.867612838745117,
          8.216294288635254,
          4.060417175292969,
          0.8632031083106995,
          15.145134925842285,
          0.9533284306526184,
          7.303299427032471,
          3.3785150051116943,
          4.0335307121276855,
          4.078485488891602,
          5.0666632652282715,
          8.521263122558594,
          12.199175834655762,
          7.590239524841309,
          15.77822494506836,
          8.64603328704834,
          4.6478071212768555,
          9.831226348876953,
          11.351576805114746,
          8.497058868408203,
          3.511962890625,
          3.9023725986480713,
          5.422545909881592,
          4.884596824645996,
          7.320764541625977,
          3.7297770977020264,
          5.52924108505249,
          7.103671073913574,
          12.99880313873291,
          8.794386863708496,
          9.230818748474121,
          3.7588977813720703,
          5.264444828033447,
          13.81579303741455,
          7.211336612701416,
          13.9525146484375,
          13.694297790527344,
          10.841726303100586,
          6.644905090332031,
          1.1842930316925049,
          0.5341719388961792,
          6.618229389190674,
          13.112977027893066,
          8.800662994384766,
          -0.20650650560855865,
          9.982754707336426,
          6.957315444946289,
          7.898407936096191,
          4.81329870223999,
          6.129130840301514,
          6.673084735870361,
          5.752362251281738,
          0.5759198665618896,
          5.695281505584717,
          12.84334945678711,
          3.915911912918091,
          7.758589744567871,
          -1.0173096656799316,
          7.058595657348633,
          12.271017074584961,
          0.999310314655304,
          12.527237892150879,
          11.77959156036377,
          6.424854278564453,
          5.411694049835205,
          6.790792465209961,
          10.754071235656738,
          0.8268550634384155,
          3.113290309906006,
          3.644258975982666,
          -2.0009806156158447,
          7.054997444152832,
          3.8499298095703125,
          14.780367851257324,
          15.277765274047852,
          3.0718767642974854,
          0.9084658622741699,
          3.5955207347869873,
          6.624178409576416,
          6.8430867195129395,
          3.925957202911377,
          7.047017574310303,
          1.5532186031341553,
          3.3742001056671143,
          7.371462821960449,
          9.879755020141602,
          1.563948392868042,
          -3.1850860118865967,
          2.309748649597168,
          1.8693031072616577,
          6.590566635131836,
          -0.8394816517829895,
          8.6814546585083,
          11.711786270141602,
          1.8920204639434814,
          11.851200103759766,
          6.375105857849121,
          8.718992233276367,
          10.257675170898438,
          15.51962661743164,
          11.736320495605469,
          5.815016269683838,
          11.076004028320312,
          6.783613204956055,
          8.511293411254883,
          5.6123738288879395,
          1.2174395322799683,
          5.0427470207214355,
          10.745877265930176,
          1.9293158054351807,
          10.427247047424316,
          8.808853149414062,
          8.784144401550293,
          2.5869810581207275,
          -0.10348843038082123,
          11.269478797912598,
          8.43400764465332,
          5.683363914489746,
          9.989426612854004,
          0.013897756114602089,
          12.61664867401123,
          7.223941326141357,
          11.248747825622559,
          4.202913284301758,
          2.143321990966797,
          5.697509288787842,
          6.121514797210693,
          6.782435894012451,
          11.366413116455078,
          7.605529308319092,
          4.517343997955322,
          4.2813286781311035,
          1.296947956085205,
          6.65793514251709,
          11.421980857849121,
          -2.6524767875671387,
          9.3696870803833,
          9.287928581237793,
          10.538839340209961,
          4.381077766418457,
          -1.2894413471221924,
          -0.10585812479257584,
          2.5248332023620605,
          2.5545108318328857,
          -2.8099939823150635,
          -0.19021543860435486,
          10.222474098205566,
          5.889602184295654,
          2.3934578895568848,
          3.5166821479797363,
          3.4262595176696777,
          -0.24125052988529205,
          8.325705528259277,
          6.129571914672852,
          2.4912269115448,
          2.0647201538085938,
          0.6421003937721252,
          4.366085529327393,
          9.680660247802734,
          8.929631233215332,
          7.266865253448486,
          12.587236404418945,
          1.3031742572784424,
          7.687077522277832,
          9.833990097045898,
          12.945104598999023,
          3.1074466705322266,
          6.505350112915039,
          6.726229190826416,
          11.03223991394043,
          13.222588539123535,
          15.346311569213867,
          0.006270712707191706,
          3.459749937057495,
          8.015780448913574,
          8.847859382629395,
          13.958704948425293,
          13.807097434997559,
          13.880545616149902,
          3.0357859134674072,
          5.66264009475708,
          6.580973148345947,
          8.939879417419434,
          15.709550857543945,
          8.007601737976074,
          5.920489311218262,
          8.976040840148926,
          6.724323272705078,
          0.9746522903442383,
          -0.02301732636988163,
          -1.548413634300232,
          3.6242783069610596,
          6.7090253829956055,
          2.55418062210083,
          -0.8197250962257385,
          7.009322643280029,
          3.9834816455841064,
          0.9822487235069275,
          -1.1413218975067139,
          11.104059219360352,
          5.142885684967041,
          1.6601860523223877,
          10.742674827575684,
          4.298595428466797,
          2.318539619445801,
          0.012074640952050686,
          5.304586887359619,
          1.053627371788025,
          5.330166339874268,
          -2.9691879749298096,
          1.5496079921722412,
          9.431859970092773,
          -0.9445178508758545,
          -1.9470930099487305,
          1.2291903495788574,
          8.33646297454834,
          -0.13817588984966278,
          12.175790786743164,
          9.495537757873535,
          10.046452522277832,
          5.169307231903076,
          8.75434398651123,
          11.279328346252441,
          8.786768913269043,
          10.29227352142334,
          12.172322273254395,
          1.7709159851074219,
          13.149711608886719,
          12.63812255859375,
          8.029487609863281,
          11.724740028381348,
          9.275734901428223,
          -0.3053041398525238,
          -3.1197335720062256,
          0.5050313472747803,
          4.275567054748535,
          3.153501272201538,
          12.676177978515625,
          0.4673856198787689,
          3.3285696506500244,
          0.48109787702560425,
          6.3972063064575195
         ],
         "yaxis": "y",
         "type": "scattergl"
        },
        {
         "customdata": [
          [
           "parallel_data/tr-Trac",
           "tr"
          ],
          [
           "parallel_data/tr-Trac",
           "tr"
          ],
          [
           "parallel_data/tr-Trac",
           "tr"
          ],
          [
           "parallel_data/tr-Trac",
           "tr"
          ],
          [
           "parallel_data/tr-Trac",
           "tr"
          ],
          [
           "parallel_data/tr-Trac",
           "tr"
          ],
          [
           "parallel_data/tr-Trac",
           "tr"
          ],
          [
           "parallel_data/tr-Trac",
           "tr"
          ],
          [
           "parallel_data/tr-Trac",
           "tr"
          ],
          [
           "parallel_data/tr-Trac",
           "tr"
          ],
          [
           "parallel_data/tr-Trac",
           "tr"
          ],
          [
           "parallel_data/tr-Trac",
           "tr"
          ],
          [
           "parallel_data/tr-Trac",
           "tr"
          ],
          [
           "parallel_data/tr-Trac",
           "tr"
          ],
          [
           "parallel_data/tr-Trac",
           "tr"
          ],
          [
           "parallel_data/tr-Trac",
           "tr"
          ],
          [
           "parallel_data/tr-Trac",
           "tr"
          ],
          [
           "parallel_data/tr-Trac",
           "tr"
          ],
          [
           "parallel_data/tr-Trac",
           "tr"
          ],
          [
           "parallel_data/tr-Trac",
           "tr"
          ],
          [
           "parallel_data/tr-Trac",
           "tr"
          ],
          [
           "parallel_data/tr-Trac",
           "tr"
          ],
          [
           "parallel_data/tr-Trac",
           "tr"
          ],
          [
           "parallel_data/tr-Trac",
           "tr"
          ],
          [
           "parallel_data/tr-Trac",
           "tr"
          ],
          [
           "parallel_data/tr-Trac",
           "tr"
          ],
          [
           "parallel_data/tr-Trac",
           "tr"
          ],
          [
           "parallel_data/tr-Trac",
           "tr"
          ],
          [
           "parallel_data/tr-Trac",
           "tr"
          ],
          [
           "parallel_data/tr-Trac",
           "tr"
          ],
          [
           "parallel_data/tr-Trac",
           "tr"
          ],
          [
           "parallel_data/tr-Trac",
           "tr"
          ],
          [
           "parallel_data/tr-Trac",
           "tr"
          ],
          [
           "parallel_data/tr-Trac",
           "tr"
          ],
          [
           "parallel_data/tr-Trac",
           "tr"
          ],
          [
           "parallel_data/tr-Trac",
           "tr"
          ],
          [
           "parallel_data/tr-Trac",
           "tr"
          ],
          [
           "parallel_data/tr-Trac",
           "tr"
          ],
          [
           "parallel_data/tr-Trac",
           "tr"
          ],
          [
           "parallel_data/tr-Trac",
           "tr"
          ],
          [
           "parallel_data/tr-Trac",
           "tr"
          ],
          [
           "parallel_data/tr-Trac",
           "tr"
          ],
          [
           "parallel_data/tr-Trac",
           "tr"
          ],
          [
           "parallel_data/tr-Trac",
           "tr"
          ],
          [
           "parallel_data/tr-Trac",
           "tr"
          ],
          [
           "parallel_data/tr-Trac",
           "tr"
          ],
          [
           "parallel_data/tr-Trac",
           "tr"
          ],
          [
           "parallel_data/tr-Trac",
           "tr"
          ],
          [
           "parallel_data/tr-Trac",
           "tr"
          ],
          [
           "parallel_data/tr-Trac",
           "tr"
          ],
          [
           "parallel_data/tr-Trac",
           "tr"
          ],
          [
           "parallel_data/tr-Trac",
           "tr"
          ],
          [
           "parallel_data/tr-Trac",
           "tr"
          ],
          [
           "parallel_data/tr-Trac",
           "tr"
          ],
          [
           "parallel_data/tr-Trac",
           "tr"
          ],
          [
           "parallel_data/tr-Trac",
           "tr"
          ],
          [
           "parallel_data/tr-Trac",
           "tr"
          ],
          [
           "parallel_data/tr-Trac",
           "tr"
          ],
          [
           "parallel_data/tr-Trac",
           "tr"
          ],
          [
           "parallel_data/tr-Trac",
           "tr"
          ],
          [
           "parallel_data/tr-Trac",
           "tr"
          ],
          [
           "parallel_data/tr-Trac",
           "tr"
          ],
          [
           "parallel_data/tr-Trac",
           "tr"
          ],
          [
           "parallel_data/tr-Trac",
           "tr"
          ],
          [
           "parallel_data/tr-Trac",
           "tr"
          ],
          [
           "parallel_data/tr-Trac",
           "tr"
          ],
          [
           "parallel_data/tr-Trac",
           "tr"
          ],
          [
           "parallel_data/tr-Trac",
           "tr"
          ],
          [
           "parallel_data/tr-Trac",
           "tr"
          ],
          [
           "parallel_data/tr-Trac",
           "tr"
          ],
          [
           "parallel_data/tr-Trac",
           "tr"
          ],
          [
           "parallel_data/tr-Trac",
           "tr"
          ],
          [
           "parallel_data/tr-Trac",
           "tr"
          ],
          [
           "parallel_data/tr-Trac",
           "tr"
          ],
          [
           "parallel_data/tr-Trac",
           "tr"
          ],
          [
           "parallel_data/tr-Trac",
           "tr"
          ],
          [
           "parallel_data/tr-Trac",
           "tr"
          ],
          [
           "parallel_data/tr-Trac",
           "tr"
          ],
          [
           "parallel_data/tr-Trac",
           "tr"
          ],
          [
           "parallel_data/tr-Trac",
           "tr"
          ],
          [
           "parallel_data/tr-Trac",
           "tr"
          ],
          [
           "parallel_data/tr-Trac",
           "tr"
          ],
          [
           "parallel_data/tr-Trac",
           "tr"
          ],
          [
           "parallel_data/tr-Trac",
           "tr"
          ],
          [
           "parallel_data/tr-Trac",
           "tr"
          ],
          [
           "parallel_data/tr-Trac",
           "tr"
          ],
          [
           "parallel_data/tr-Trac",
           "tr"
          ],
          [
           "parallel_data/tr-Trac",
           "tr"
          ],
          [
           "parallel_data/tr-Trac",
           "tr"
          ],
          [
           "parallel_data/tr-Trac",
           "tr"
          ],
          [
           "parallel_data/tr-Trac",
           "tr"
          ],
          [
           "parallel_data/tr-Trac",
           "tr"
          ],
          [
           "parallel_data/tr-Trac",
           "tr"
          ],
          [
           "parallel_data/tr-Trac",
           "tr"
          ],
          [
           "parallel_data/tr-Trac",
           "tr"
          ],
          [
           "parallel_data/tr-Trac",
           "tr"
          ],
          [
           "parallel_data/tr-Trac",
           "tr"
          ],
          [
           "parallel_data/tr-Trac",
           "tr"
          ],
          [
           "parallel_data/tr-Trac",
           "tr"
          ],
          [
           "parallel_data/tr-Trac",
           "tr"
          ],
          [
           "parallel_data/tr-Trac",
           "tr"
          ],
          [
           "parallel_data/tr-Trac",
           "tr"
          ],
          [
           "parallel_data/tr-Trac",
           "tr"
          ],
          [
           "parallel_data/tr-Trac",
           "tr"
          ],
          [
           "parallel_data/tr-Trac",
           "tr"
          ],
          [
           "parallel_data/tr-Trac",
           "tr"
          ],
          [
           "parallel_data/tr-Trac",
           "tr"
          ],
          [
           "parallel_data/tr-Trac",
           "tr"
          ],
          [
           "parallel_data/tr-Trac",
           "tr"
          ],
          [
           "parallel_data/tr-Trac",
           "tr"
          ],
          [
           "parallel_data/tr-Trac",
           "tr"
          ],
          [
           "parallel_data/tr-Trac",
           "tr"
          ],
          [
           "parallel_data/tr-Trac",
           "tr"
          ],
          [
           "parallel_data/tr-Trac",
           "tr"
          ],
          [
           "parallel_data/tr-Trac",
           "tr"
          ],
          [
           "parallel_data/tr-Trac",
           "tr"
          ],
          [
           "parallel_data/tr-Trac",
           "tr"
          ],
          [
           "parallel_data/tr-Trac",
           "tr"
          ],
          [
           "parallel_data/tr-Trac",
           "tr"
          ],
          [
           "parallel_data/tr-Trac",
           "tr"
          ],
          [
           "parallel_data/tr-Trac",
           "tr"
          ],
          [
           "parallel_data/tr-Trac",
           "tr"
          ],
          [
           "parallel_data/tr-Trac",
           "tr"
          ],
          [
           "parallel_data/tr-Trac",
           "tr"
          ],
          [
           "parallel_data/tr-Trac",
           "tr"
          ],
          [
           "parallel_data/tr-Trac",
           "tr"
          ],
          [
           "parallel_data/tr-Trac",
           "tr"
          ],
          [
           "parallel_data/tr-Trac",
           "tr"
          ],
          [
           "parallel_data/tr-Trac",
           "tr"
          ],
          [
           "parallel_data/tr-Trac",
           "tr"
          ],
          [
           "parallel_data/tr-Trac",
           "tr"
          ],
          [
           "parallel_data/tr-Trac",
           "tr"
          ],
          [
           "parallel_data/tr-Trac",
           "tr"
          ],
          [
           "parallel_data/tr-Trac",
           "tr"
          ],
          [
           "parallel_data/tr-Trac",
           "tr"
          ],
          [
           "parallel_data/tr-Trac",
           "tr"
          ],
          [
           "parallel_data/tr-Trac",
           "tr"
          ],
          [
           "parallel_data/tr-Trac",
           "tr"
          ],
          [
           "parallel_data/tr-Trac",
           "tr"
          ],
          [
           "parallel_data/tr-Trac",
           "tr"
          ],
          [
           "parallel_data/tr-Trac",
           "tr"
          ],
          [
           "parallel_data/tr-Trac",
           "tr"
          ],
          [
           "parallel_data/tr-Trac",
           "tr"
          ],
          [
           "parallel_data/tr-Trac",
           "tr"
          ],
          [
           "parallel_data/tr-Trac",
           "tr"
          ],
          [
           "parallel_data/tr-Trac",
           "tr"
          ],
          [
           "parallel_data/tr-Trac",
           "tr"
          ],
          [
           "parallel_data/tr-Trac",
           "tr"
          ],
          [
           "parallel_data/tr-Trac",
           "tr"
          ],
          [
           "parallel_data/tr-Trac",
           "tr"
          ],
          [
           "parallel_data/tr-Trac",
           "tr"
          ],
          [
           "parallel_data/tr-Trac",
           "tr"
          ],
          [
           "parallel_data/tr-Trac",
           "tr"
          ],
          [
           "parallel_data/tr-Trac",
           "tr"
          ],
          [
           "parallel_data/tr-Trac",
           "tr"
          ],
          [
           "parallel_data/tr-Trac",
           "tr"
          ],
          [
           "parallel_data/tr-Trac",
           "tr"
          ],
          [
           "parallel_data/tr-Trac",
           "tr"
          ],
          [
           "parallel_data/tr-Trac",
           "tr"
          ],
          [
           "parallel_data/tr-Trac",
           "tr"
          ],
          [
           "parallel_data/tr-Trac",
           "tr"
          ],
          [
           "parallel_data/tr-Trac",
           "tr"
          ],
          [
           "parallel_data/tr-Trac",
           "tr"
          ],
          [
           "parallel_data/tr-Trac",
           "tr"
          ],
          [
           "parallel_data/tr-Trac",
           "tr"
          ],
          [
           "parallel_data/tr-Trac",
           "tr"
          ],
          [
           "parallel_data/tr-Trac",
           "tr"
          ],
          [
           "parallel_data/tr-Trac",
           "tr"
          ],
          [
           "parallel_data/tr-Trac",
           "tr"
          ],
          [
           "parallel_data/tr-Trac",
           "tr"
          ],
          [
           "parallel_data/tr-Trac",
           "tr"
          ],
          [
           "parallel_data/tr-Trac",
           "tr"
          ],
          [
           "parallel_data/tr-Trac",
           "tr"
          ],
          [
           "parallel_data/tr-Trac",
           "tr"
          ],
          [
           "parallel_data/tr-Trac",
           "tr"
          ],
          [
           "parallel_data/tr-Trac",
           "tr"
          ],
          [
           "parallel_data/tr-Trac",
           "tr"
          ],
          [
           "parallel_data/tr-Trac",
           "tr"
          ],
          [
           "parallel_data/tr-Trac",
           "tr"
          ],
          [
           "parallel_data/tr-Trac",
           "tr"
          ],
          [
           "parallel_data/tr-Trac",
           "tr"
          ],
          [
           "parallel_data/tr-Trac",
           "tr"
          ],
          [
           "parallel_data/tr-Trac",
           "tr"
          ],
          [
           "parallel_data/tr-Trac",
           "tr"
          ],
          [
           "parallel_data/tr-Trac",
           "tr"
          ],
          [
           "parallel_data/tr-Trac",
           "tr"
          ],
          [
           "parallel_data/tr-Trac",
           "tr"
          ],
          [
           "parallel_data/tr-Trac",
           "tr"
          ],
          [
           "parallel_data/tr-Trac",
           "tr"
          ],
          [
           "parallel_data/tr-Trac",
           "tr"
          ],
          [
           "parallel_data/tr-Trac",
           "tr"
          ],
          [
           "parallel_data/tr-Trac",
           "tr"
          ],
          [
           "parallel_data/tr-Trac",
           "tr"
          ],
          [
           "parallel_data/tr-Trac",
           "tr"
          ],
          [
           "parallel_data/tr-Trac",
           "tr"
          ],
          [
           "parallel_data/tr-Trac",
           "tr"
          ],
          [
           "parallel_data/tr-Trac",
           "tr"
          ],
          [
           "parallel_data/tr-Trac",
           "tr"
          ],
          [
           "parallel_data/tr-Trac",
           "tr"
          ],
          [
           "parallel_data/tr-Trac",
           "tr"
          ],
          [
           "parallel_data/tr-Trac",
           "tr"
          ],
          [
           "parallel_data/tr-Trac",
           "tr"
          ],
          [
           "parallel_data/tr-Trac",
           "tr"
          ],
          [
           "parallel_data/tr-Trac",
           "tr"
          ],
          [
           "parallel_data/tr-Trac",
           "tr"
          ],
          [
           "parallel_data/tr-Trac",
           "tr"
          ],
          [
           "parallel_data/tr-Trac",
           "tr"
          ],
          [
           "parallel_data/tr-Trac",
           "tr"
          ],
          [
           "parallel_data/tr-Trac",
           "tr"
          ],
          [
           "parallel_data/tr-Trac",
           "tr"
          ],
          [
           "parallel_data/tr-Trac",
           "tr"
          ],
          [
           "parallel_data/tr-Trac",
           "tr"
          ],
          [
           "parallel_data/tr-Trac",
           "tr"
          ],
          [
           "parallel_data/tr-Trac",
           "tr"
          ],
          [
           "parallel_data/tr-Trac",
           "tr"
          ],
          [
           "parallel_data/tr-Trac",
           "tr"
          ],
          [
           "parallel_data/tr-Trac",
           "tr"
          ],
          [
           "parallel_data/tr-Trac",
           "tr"
          ],
          [
           "parallel_data/tr-Trac",
           "tr"
          ],
          [
           "parallel_data/tr-Trac",
           "tr"
          ],
          [
           "parallel_data/tr-Trac",
           "tr"
          ],
          [
           "parallel_data/tr-Trac",
           "tr"
          ],
          [
           "parallel_data/tr-Trac",
           "tr"
          ],
          [
           "parallel_data/tr-Trac",
           "tr"
          ],
          [
           "parallel_data/tr-Trac",
           "tr"
          ],
          [
           "parallel_data/tr-Trac",
           "tr"
          ],
          [
           "parallel_data/tr-Trac",
           "tr"
          ],
          [
           "parallel_data/tr-Trac",
           "tr"
          ],
          [
           "parallel_data/tr-Trac",
           "tr"
          ],
          [
           "parallel_data/tr-Trac",
           "tr"
          ],
          [
           "parallel_data/tr-Trac",
           "tr"
          ],
          [
           "parallel_data/tr-Trac",
           "tr"
          ],
          [
           "parallel_data/tr-Trac",
           "tr"
          ],
          [
           "parallel_data/tr-Trac",
           "tr"
          ],
          [
           "parallel_data/tr-Trac",
           "tr"
          ],
          [
           "parallel_data/tr-Trac",
           "tr"
          ],
          [
           "parallel_data/tr-Trac",
           "tr"
          ],
          [
           "parallel_data/tr-Trac",
           "tr"
          ],
          [
           "parallel_data/tr-Trac",
           "tr"
          ],
          [
           "parallel_data/tr-Trac",
           "tr"
          ],
          [
           "parallel_data/tr-Trac",
           "tr"
          ],
          [
           "parallel_data/tr-Trac",
           "tr"
          ],
          [
           "parallel_data/tr-Trac",
           "tr"
          ],
          [
           "parallel_data/tr-Trac",
           "tr"
          ],
          [
           "parallel_data/tr-Trac",
           "tr"
          ],
          [
           "parallel_data/tr-Trac",
           "tr"
          ],
          [
           "parallel_data/tr-Trac",
           "tr"
          ],
          [
           "parallel_data/tr-Trac",
           "tr"
          ],
          [
           "parallel_data/tr-Trac",
           "tr"
          ],
          [
           "parallel_data/tr-Trac",
           "tr"
          ],
          [
           "parallel_data/tr-Trac",
           "tr"
          ],
          [
           "parallel_data/tr-Trac",
           "tr"
          ],
          [
           "parallel_data/tr-Trac",
           "tr"
          ],
          [
           "parallel_data/tr-Trac",
           "tr"
          ],
          [
           "parallel_data/tr-Trac",
           "tr"
          ],
          [
           "parallel_data/tr-Trac",
           "tr"
          ],
          [
           "parallel_data/tr-Trac",
           "tr"
          ],
          [
           "parallel_data/tr-Trac",
           "tr"
          ],
          [
           "parallel_data/tr-Trac",
           "tr"
          ],
          [
           "parallel_data/tr-Trac",
           "tr"
          ],
          [
           "parallel_data/tr-Trac",
           "tr"
          ],
          [
           "parallel_data/tr-Trac",
           "tr"
          ],
          [
           "parallel_data/tr-Trac",
           "tr"
          ],
          [
           "parallel_data/tr-Trac",
           "tr"
          ],
          [
           "parallel_data/tr-Trac",
           "tr"
          ],
          [
           "parallel_data/tr-Trac",
           "tr"
          ],
          [
           "parallel_data/tr-Trac",
           "tr"
          ],
          [
           "parallel_data/tr-Trac",
           "tr"
          ],
          [
           "parallel_data/tr-Trac",
           "tr"
          ],
          [
           "parallel_data/tr-Trac",
           "tr"
          ],
          [
           "parallel_data/tr-Trac",
           "tr"
          ],
          [
           "parallel_data/tr-Trac",
           "tr"
          ],
          [
           "parallel_data/tr-Trac",
           "tr"
          ],
          [
           "parallel_data/tr-Trac",
           "tr"
          ],
          [
           "parallel_data/tr-Trac",
           "tr"
          ],
          [
           "parallel_data/tr-Trac",
           "tr"
          ],
          [
           "parallel_data/tr-Trac",
           "tr"
          ],
          [
           "parallel_data/tr-Trac",
           "tr"
          ],
          [
           "parallel_data/tr-Trac",
           "tr"
          ],
          [
           "parallel_data/tr-Trac",
           "tr"
          ],
          [
           "parallel_data/tr-Trac",
           "tr"
          ],
          [
           "parallel_data/tr-Trac",
           "tr"
          ],
          [
           "parallel_data/tr-Trac",
           "tr"
          ],
          [
           "parallel_data/tr-Trac",
           "tr"
          ],
          [
           "parallel_data/tr-Trac",
           "tr"
          ],
          [
           "parallel_data/tr-Trac",
           "tr"
          ],
          [
           "parallel_data/tr-Trac",
           "tr"
          ],
          [
           "parallel_data/tr-Trac",
           "tr"
          ],
          [
           "parallel_data/tr-Trac",
           "tr"
          ],
          [
           "parallel_data/tr-Trac",
           "tr"
          ],
          [
           "parallel_data/tr-Trac",
           "tr"
          ],
          [
           "parallel_data/tr-Trac",
           "tr"
          ],
          [
           "parallel_data/tr-Trac",
           "tr"
          ],
          [
           "parallel_data/tr-Trac",
           "tr"
          ],
          [
           "parallel_data/tr-Trac",
           "tr"
          ],
          [
           "parallel_data/tr-Trac",
           "tr"
          ],
          [
           "parallel_data/tr-Trac",
           "tr"
          ],
          [
           "parallel_data/tr-Trac",
           "tr"
          ],
          [
           "parallel_data/tr-Trac",
           "tr"
          ],
          [
           "parallel_data/tr-Trac",
           "tr"
          ]
         ],
         "hovertemplate": "language=%{customdata[1]}<br>x=%{x}<br>y=%{y}<br>dataset_name=%{customdata[0]}<extra></extra>",
         "legendgroup": "tr",
         "marker": {
          "color": "#EF553B",
          "symbol": "circle"
         },
         "mode": "markers",
         "name": "tr",
         "showlegend": true,
         "x": [
          5.206247329711914,
          6.83425760269165,
          7.2299723625183105,
          -5.84526252746582,
          -4.959366798400879,
          9.324335098266602,
          -4.895593643188477,
          -1.2001065015792847,
          2.9086742401123047,
          -0.25788038969039917,
          0.9639516472816467,
          3.754380702972412,
          5.379387378692627,
          7.417941093444824,
          -0.8387770652770996,
          12.020008087158203,
          -3.5265629291534424,
          2.5556623935699463,
          5.003162860870361,
          -3.63175368309021,
          -2.207303524017334,
          0.3265128433704376,
          2.1600568294525146,
          -1.9399878978729248,
          9.120671272277832,
          -0.37698161602020264,
          9.103517532348633,
          9.502059936523438,
          3.4441890716552734,
          -2.445145845413208,
          2.9267075061798096,
          6.456906795501709,
          1.694752812385559,
          -0.9310964941978455,
          -2.0833654403686523,
          2.0828518867492676,
          0.03410089388489723,
          7.0234527587890625,
          5.098316192626953,
          -1.4905188083648682,
          4.013522624969482,
          7.292511463165283,
          -0.933807909488678,
          -3.413390874862671,
          2.7014224529266357,
          -4.0383172035217285,
          -0.666104257106781,
          -2.0739850997924805,
          9.1215181350708,
          -3.7533774375915527,
          1.2730755805969238,
          7.3408403396606445,
          4.8469624519348145,
          0.5161481499671936,
          3.7438204288482666,
          2.4876139163970947,
          4.096872806549072,
          1.1045066118240356,
          4.046014785766602,
          11.004454612731934,
          6.754927635192871,
          0.18744467198848724,
          -1.898931622505188,
          -1.7948440313339233,
          0.8872134685516357,
          0.9352396726608276,
          4.792018413543701,
          0.3025203347206116,
          6.307812213897705,
          8.32363224029541,
          1.2996922731399536,
          4.834147930145264,
          -1.9529998302459717,
          2.6255531311035156,
          4.732166767120361,
          -1.0891512632369995,
          0.5405741930007935,
          -0.399718701839447,
          -5.4978203773498535,
          5.642735958099365,
          3.158027410507202,
          -0.09295716136693954,
          5.020161151885986,
          -3.1975908279418945,
          3.668623447418213,
          7.390551567077637,
          4.268725395202637,
          -4.213519096374512,
          6.237541675567627,
          10.324447631835938,
          8.059150695800781,
          3.3788774013519287,
          5.146316051483154,
          3.237703561782837,
          7.519502639770508,
          2.4018747806549072,
          4.28837251663208,
          11.80688190460205,
          -7.5992865562438965,
          0.26406529545783997,
          -0.7754421830177307,
          6.719654560089111,
          4.273007392883301,
          5.634174346923828,
          -8.56726360321045,
          -1.574981451034546,
          0.6275458335876465,
          0.7491888403892517,
          -8.273187637329102,
          5.8269524574279785,
          -2.321561813354492,
          -3.768483877182007,
          1.9107486009597778,
          7.374643325805664,
          -0.029001012444496155,
          2.76705265045166,
          0.14394032955169678,
          -0.5836367011070251,
          -2.0803112983703613,
          4.3246049880981445,
          7.8139848709106445,
          6.887401580810547,
          2.8365654945373535,
          5.353978633880615,
          3.733428716659546,
          -7.34800386428833,
          1.5638604164123535,
          5.754297733306885,
          2.508208751678467,
          -2.717561960220337,
          0.7798674702644348,
          3.184274673461914,
          -1.9667454957962036,
          -3.566533088684082,
          12.076252937316895,
          7.032936096191406,
          -2.0619497299194336,
          -8.68256950378418,
          8.80992603302002,
          6.492811679840088,
          -2.7377893924713135,
          8.513935089111328,
          0.7628012299537659,
          5.964204788208008,
          6.974637985229492,
          0.8125174641609192,
          3.8583438396453857,
          -3.8564770221710205,
          -5.541497707366943,
          -1.47635018825531,
          8.531880378723145,
          3.577145576477051,
          0.8245418667793274,
          3.0757768154144287,
          -1.982925534248352,
          -0.6584442853927612,
          3.9508485794067383,
          3.5670924186706543,
          2.897425413131714,
          1.9911868572235107,
          10.290397644042969,
          4.565638065338135,
          4.0056047439575195,
          4.189702033996582,
          -8.023299217224121,
          4.437830448150635,
          0.42377689480781555,
          -4.148534774780273,
          -0.09202603250741959,
          -3.7179365158081055,
          5.372776031494141,
          -1.5179836750030518,
          4.158108711242676,
          1.5657192468643188,
          6.212963104248047,
          -0.5627539753913879,
          1.3472400903701782,
          3.3087430000305176,
          -3.3142635822296143,
          -0.6348534226417542,
          2.2259390354156494,
          1.0485507249832153,
          -5.731596946716309,
          5.395768642425537,
          1.3132208585739136,
          -8.177480697631836,
          10.0548677444458,
          2.5791468620300293,
          1.9560987949371338,
          1.5837641954421997,
          -1.2654072046279907,
          -7.371134281158447,
          2.2188217639923096,
          -3.4173014163970947,
          2.953573703765869,
          3.3497493267059326,
          1.0385093688964844,
          0.13961124420166016,
          -1.1924078464508057,
          -2.169833183288574,
          -1.8327285051345825,
          -8.139739990234375,
          1.3667454719543457,
          -4.947248458862305,
          0.7532026767730713,
          7.2834858894348145,
          -2.828484535217285,
          5.045895099639893,
          -5.411225318908691,
          -2.2071948051452637,
          11.102017402648926,
          8.007746696472168,
          -8.068854331970215,
          2.278316020965576,
          -6.719554424285889,
          -1.0347191095352173,
          -1.3666108846664429,
          1.740340232849121,
          1.679247260093689,
          3.243968963623047,
          -2.9237072467803955,
          9.309270858764648,
          7.023121356964111,
          4.248165607452393,
          0.012002792209386826,
          5.42460298538208,
          -8.041969299316406,
          10.279009819030762,
          4.684859275817871,
          6.685084342956543,
          0.13579262793064117,
          6.766144275665283,
          4.38918399810791,
          6.859365940093994,
          1.4846205711364746,
          -3.109708547592163,
          2.079831600189209,
          7.024264812469482,
          -1.170305848121643,
          11.441828727722168,
          1.8440828323364258,
          -1.889094591140747,
          6.331954002380371,
          6.2945146560668945,
          2.4934840202331543,
          1.3835586309432983,
          -7.367476940155029,
          -4.318438529968262,
          2.7663354873657227,
          2.6040263175964355,
          7.099494934082031,
          1.7987076044082642,
          -1.576956033706665,
          -0.08249099552631378,
          -2.6254892349243164,
          -5.168880939483643,
          -3.5564987659454346,
          1.2617251873016357,
          4.20096492767334,
          2.017023801803589,
          -0.5512107610702515,
          -3.3467016220092773,
          -1.6433541774749756,
          3.35017991065979,
          -0.021046631038188934,
          -7.779058933258057,
          7.948846340179443,
          1.1389474868774414,
          -1.7598270177841187,
          -1.2824143171310425,
          -2.790766954421997,
          3.428596019744873,
          2.3120603561401367,
          -0.9101290106773376,
          -3.5897347927093506,
          1.6728646755218506,
          1.3369195461273193,
          5.139410018920898,
          7.4705729484558105,
          0.5302028656005859,
          2.734269618988037,
          8.934945106506348,
          -0.44800397753715515,
          2.1995596885681152,
          -2.763181209564209,
          4.142726898193359,
          5.029800891876221,
          1.8529958724975586,
          1.9592375755310059,
          -1.0295560359954834,
          -5.622663497924805,
          0.5982263088226318,
          -4.232498645782471,
          -0.8810585141181946,
          0.5034222602844238,
          2.178980827331543,
          -2.975958824157715,
          -0.21195945143699646,
          6.072813510894775,
          0.1599990874528885
         ],
         "xaxis": "x",
         "y": [
          2.897991895675659,
          5.666242599487305,
          3.8415281772613525,
          0.7443511486053467,
          2.351003885269165,
          4.8785624504089355,
          1.1620794534683228,
          -0.4986790716648102,
          6.910254955291748,
          -4.404895782470703,
          6.061229228973389,
          0.12139777094125748,
          5.046253681182861,
          1.0770535469055176,
          1.3228029012680054,
          0.9671374559402466,
          1.4856081008911133,
          -1.864392638206482,
          11.797090530395508,
          -0.7872187495231628,
          3.913264751434326,
          8.52134895324707,
          7.3578200340271,
          0.4890820384025574,
          7.584851264953613,
          7.05479621887207,
          5.841765403747559,
          4.658707141876221,
          5.2244648933410645,
          0.29073160886764526,
          7.719388008117676,
          -1.3848567008972168,
          12.563631057739258,
          7.132288455963135,
          11.86604118347168,
          13.7387056350708,
          0.6275597810745239,
          2.563981771469116,
          3.2470717430114746,
          -4.01039457321167,
          6.835414886474609,
          0.03573765978217125,
          5.394968032836914,
          -0.10340197384357452,
          7.506882667541504,
          1.0344377756118774,
          8.12937068939209,
          4.011865615844727,
          4.053292751312256,
          8.860309600830078,
          11.56649398803711,
          8.553194046020508,
          10.189657211303711,
          2.2839879989624023,
          0.36907443404197693,
          1.8848758935928345,
          11.157112121582031,
          3.668184995651245,
          3.8827247619628906,
          8.212098121643066,
          4.080015182495117,
          0.8298943042755127,
          15.144036293029785,
          0.9691284894943237,
          7.33071231842041,
          3.373323678970337,
          4.035006046295166,
          4.111020088195801,
          5.059861660003662,
          8.50517463684082,
          12.193705558776855,
          7.5784196853637695,
          15.792131423950195,
          8.576070785522461,
          4.686310291290283,
          9.811936378479004,
          11.361048698425293,
          8.51744556427002,
          3.5166618824005127,
          3.91999888420105,
          5.429867267608643,
          4.928136825561523,
          7.318056583404541,
          3.7260403633117676,
          5.5222272872924805,
          7.113888740539551,
          13.00757122039795,
          8.793599128723145,
          9.231119155883789,
          3.7538564205169678,
          5.275055885314941,
          13.820267677307129,
          7.229053020477295,
          13.972289085388184,
          13.69251537322998,
          10.823586463928223,
          6.644717693328857,
          1.156807780265808,
          0.525031566619873,
          6.642351150512695,
          13.110421180725098,
          8.751869201660156,
          -0.20084328949451447,
          9.980513572692871,
          6.955402374267578,
          7.934777736663818,
          4.816978931427002,
          6.136117935180664,
          6.670740127563477,
          5.817800045013428,
          0.6863181591033936,
          5.680954933166504,
          12.843140602111816,
          3.9282760620117188,
          7.772108554840088,
          -1.0024067163467407,
          7.043527126312256,
          12.264341354370117,
          0.9725685715675354,
          12.598958969116211,
          11.773355484008789,
          6.44978666305542,
          5.413568496704102,
          6.805768966674805,
          10.728222846984863,
          0.8254575729370117,
          3.117231607437134,
          3.6548922061920166,
          -1.982629656791687,
          7.054098606109619,
          3.8391730785369873,
          14.785661697387695,
          15.260104179382324,
          3.076892375946045,
          0.9103996157646179,
          3.6082704067230225,
          6.641632556915283,
          6.847080707550049,
          3.928809881210327,
          7.035889148712158,
          1.5875123739242554,
          3.3507797718048096,
          7.394951343536377,
          9.876522064208984,
          1.559455156326294,
          -3.1892526149749756,
          2.310070037841797,
          1.8536492586135864,
          6.590023517608643,
          -0.8252601623535156,
          8.680703163146973,
          11.734779357910156,
          1.8861684799194336,
          11.854730606079102,
          6.382522106170654,
          8.760967254638672,
          10.262125968933105,
          15.51934814453125,
          11.753150939941406,
          5.812959671020508,
          11.0506591796875,
          6.740425109863281,
          8.500761985778809,
          5.6249098777771,
          1.244103193283081,
          5.006494998931885,
          10.747802734375,
          1.9592819213867188,
          10.44003963470459,
          8.810712814331055,
          8.786062240600586,
          2.620375633239746,
          -0.09656786173582077,
          11.253308296203613,
          8.41718578338623,
          5.6798176765441895,
          9.99244499206543,
          0.01307930052280426,
          12.616240501403809,
          7.2260236740112305,
          11.256936073303223,
          4.168796062469482,
          2.1647727489471436,
          5.6802873611450195,
          6.160318851470947,
          6.804879188537598,
          11.40240478515625,
          7.621789455413818,
          4.532473564147949,
          4.269369602203369,
          1.2865232229232788,
          6.656493186950684,
          11.43506145477295,
          -2.6504111289978027,
          9.397320747375488,
          9.336821556091309,
          10.467866897583008,
          4.436243534088135,
          -1.3174675703048706,
          -0.0799122154712677,
          2.5320892333984375,
          2.5422136783599854,
          -2.7900195121765137,
          -0.21271590888500214,
          10.200222969055176,
          5.883345127105713,
          2.3828914165496826,
          3.499634027481079,
          3.410383462905884,
          -0.22358788549900055,
          8.296100616455078,
          6.142110824584961,
          2.5040054321289062,
          2.0498173236846924,
          0.6336012482643127,
          4.36631441116333,
          9.677848815917969,
          8.924721717834473,
          7.2352614402771,
          12.60279369354248,
          1.3071082830429077,
          7.698649883270264,
          9.8394775390625,
          12.987473487854004,
          3.1074464321136475,
          6.5209221839904785,
          6.672421455383301,
          11.064245223999023,
          13.213837623596191,
          15.335356712341309,
          0.010040941648185253,
          3.413048028945923,
          7.999294757843018,
          8.849544525146484,
          13.969799995422363,
          13.807588577270508,
          13.880781173706055,
          2.9804179668426514,
          5.66431999206543,
          6.581294536590576,
          8.919891357421875,
          15.718307495117188,
          7.995030403137207,
          5.9319024085998535,
          8.946173667907715,
          6.766608238220215,
          0.964981198310852,
          0.012188012711703777,
          -1.5389161109924316,
          3.619732618331909,
          6.659733772277832,
          2.4908664226531982,
          -0.795242428779602,
          7.05374813079834,
          3.9712460041046143,
          0.9873381853103638,
          -1.139033317565918,
          11.125540733337402,
          5.149890899658203,
          1.6623506546020508,
          10.725656509399414,
          4.301661968231201,
          2.3388442993164062,
          -0.023880882188677788,
          5.282611846923828,
          1.044076919555664,
          5.327596664428711,
          -2.955235004425049,
          1.5234804153442383,
          9.473042488098145,
          -0.9733763337135315,
          -1.9278674125671387,
          1.2009716033935547,
          8.317025184631348,
          -0.16397841274738312,
          12.14810848236084,
          9.4441556930542,
          10.042054176330566,
          5.182321071624756,
          8.759592056274414,
          11.287186622619629,
          8.773040771484375,
          10.33487319946289,
          12.126930236816406,
          1.747788906097412,
          13.165051460266113,
          12.628816604614258,
          7.996469974517822,
          11.70042610168457,
          9.323100090026855,
          -0.3057701587677002,
          -3.1226937770843506,
          0.5119322538375854,
          4.261345863342285,
          3.184502363204956,
          12.687856674194336,
          0.46269145607948303,
          3.3169362545013428,
          0.46987584233283997,
          6.4286723136901855
         ],
         "yaxis": "y",
         "type": "scattergl"
        },
        {
         "customdata": [
          [
           "parallel_data/de-Trac",
           "de"
          ],
          [
           "parallel_data/de-Trac",
           "de"
          ],
          [
           "parallel_data/de-Trac",
           "de"
          ],
          [
           "parallel_data/de-Trac",
           "de"
          ],
          [
           "parallel_data/de-Trac",
           "de"
          ],
          [
           "parallel_data/de-Trac",
           "de"
          ],
          [
           "parallel_data/de-Trac",
           "de"
          ],
          [
           "parallel_data/de-Trac",
           "de"
          ],
          [
           "parallel_data/de-Trac",
           "de"
          ],
          [
           "parallel_data/de-Trac",
           "de"
          ],
          [
           "parallel_data/de-Trac",
           "de"
          ],
          [
           "parallel_data/de-Trac",
           "de"
          ],
          [
           "parallel_data/de-Trac",
           "de"
          ],
          [
           "parallel_data/de-Trac",
           "de"
          ],
          [
           "parallel_data/de-Trac",
           "de"
          ],
          [
           "parallel_data/de-Trac",
           "de"
          ],
          [
           "parallel_data/de-Trac",
           "de"
          ],
          [
           "parallel_data/de-Trac",
           "de"
          ],
          [
           "parallel_data/de-Trac",
           "de"
          ],
          [
           "parallel_data/de-Trac",
           "de"
          ],
          [
           "parallel_data/de-Trac",
           "de"
          ],
          [
           "parallel_data/de-Trac",
           "de"
          ],
          [
           "parallel_data/de-Trac",
           "de"
          ],
          [
           "parallel_data/de-Trac",
           "de"
          ],
          [
           "parallel_data/de-Trac",
           "de"
          ],
          [
           "parallel_data/de-Trac",
           "de"
          ],
          [
           "parallel_data/de-Trac",
           "de"
          ],
          [
           "parallel_data/de-Trac",
           "de"
          ],
          [
           "parallel_data/de-Trac",
           "de"
          ],
          [
           "parallel_data/de-Trac",
           "de"
          ],
          [
           "parallel_data/de-Trac",
           "de"
          ],
          [
           "parallel_data/de-Trac",
           "de"
          ],
          [
           "parallel_data/de-Trac",
           "de"
          ],
          [
           "parallel_data/de-Trac",
           "de"
          ],
          [
           "parallel_data/de-Trac",
           "de"
          ],
          [
           "parallel_data/de-Trac",
           "de"
          ],
          [
           "parallel_data/de-Trac",
           "de"
          ],
          [
           "parallel_data/de-Trac",
           "de"
          ],
          [
           "parallel_data/de-Trac",
           "de"
          ],
          [
           "parallel_data/de-Trac",
           "de"
          ],
          [
           "parallel_data/de-Trac",
           "de"
          ],
          [
           "parallel_data/de-Trac",
           "de"
          ],
          [
           "parallel_data/de-Trac",
           "de"
          ],
          [
           "parallel_data/de-Trac",
           "de"
          ],
          [
           "parallel_data/de-Trac",
           "de"
          ],
          [
           "parallel_data/de-Trac",
           "de"
          ],
          [
           "parallel_data/de-Trac",
           "de"
          ],
          [
           "parallel_data/de-Trac",
           "de"
          ],
          [
           "parallel_data/de-Trac",
           "de"
          ],
          [
           "parallel_data/de-Trac",
           "de"
          ],
          [
           "parallel_data/de-Trac",
           "de"
          ],
          [
           "parallel_data/de-Trac",
           "de"
          ],
          [
           "parallel_data/de-Trac",
           "de"
          ],
          [
           "parallel_data/de-Trac",
           "de"
          ],
          [
           "parallel_data/de-Trac",
           "de"
          ],
          [
           "parallel_data/de-Trac",
           "de"
          ],
          [
           "parallel_data/de-Trac",
           "de"
          ],
          [
           "parallel_data/de-Trac",
           "de"
          ],
          [
           "parallel_data/de-Trac",
           "de"
          ],
          [
           "parallel_data/de-Trac",
           "de"
          ],
          [
           "parallel_data/de-Trac",
           "de"
          ],
          [
           "parallel_data/de-Trac",
           "de"
          ],
          [
           "parallel_data/de-Trac",
           "de"
          ],
          [
           "parallel_data/de-Trac",
           "de"
          ],
          [
           "parallel_data/de-Trac",
           "de"
          ],
          [
           "parallel_data/de-Trac",
           "de"
          ],
          [
           "parallel_data/de-Trac",
           "de"
          ],
          [
           "parallel_data/de-Trac",
           "de"
          ],
          [
           "parallel_data/de-Trac",
           "de"
          ],
          [
           "parallel_data/de-Trac",
           "de"
          ],
          [
           "parallel_data/de-Trac",
           "de"
          ],
          [
           "parallel_data/de-Trac",
           "de"
          ],
          [
           "parallel_data/de-Trac",
           "de"
          ],
          [
           "parallel_data/de-Trac",
           "de"
          ],
          [
           "parallel_data/de-Trac",
           "de"
          ],
          [
           "parallel_data/de-Trac",
           "de"
          ],
          [
           "parallel_data/de-Trac",
           "de"
          ],
          [
           "parallel_data/de-Trac",
           "de"
          ],
          [
           "parallel_data/de-Trac",
           "de"
          ],
          [
           "parallel_data/de-Trac",
           "de"
          ],
          [
           "parallel_data/de-Trac",
           "de"
          ],
          [
           "parallel_data/de-Trac",
           "de"
          ],
          [
           "parallel_data/de-Trac",
           "de"
          ],
          [
           "parallel_data/de-Trac",
           "de"
          ],
          [
           "parallel_data/de-Trac",
           "de"
          ],
          [
           "parallel_data/de-Trac",
           "de"
          ],
          [
           "parallel_data/de-Trac",
           "de"
          ],
          [
           "parallel_data/de-Trac",
           "de"
          ],
          [
           "parallel_data/de-Trac",
           "de"
          ],
          [
           "parallel_data/de-Trac",
           "de"
          ],
          [
           "parallel_data/de-Trac",
           "de"
          ],
          [
           "parallel_data/de-Trac",
           "de"
          ],
          [
           "parallel_data/de-Trac",
           "de"
          ],
          [
           "parallel_data/de-Trac",
           "de"
          ],
          [
           "parallel_data/de-Trac",
           "de"
          ],
          [
           "parallel_data/de-Trac",
           "de"
          ],
          [
           "parallel_data/de-Trac",
           "de"
          ],
          [
           "parallel_data/de-Trac",
           "de"
          ],
          [
           "parallel_data/de-Trac",
           "de"
          ],
          [
           "parallel_data/de-Trac",
           "de"
          ],
          [
           "parallel_data/de-Trac",
           "de"
          ],
          [
           "parallel_data/de-Trac",
           "de"
          ],
          [
           "parallel_data/de-Trac",
           "de"
          ],
          [
           "parallel_data/de-Trac",
           "de"
          ],
          [
           "parallel_data/de-Trac",
           "de"
          ],
          [
           "parallel_data/de-Trac",
           "de"
          ],
          [
           "parallel_data/de-Trac",
           "de"
          ],
          [
           "parallel_data/de-Trac",
           "de"
          ],
          [
           "parallel_data/de-Trac",
           "de"
          ],
          [
           "parallel_data/de-Trac",
           "de"
          ],
          [
           "parallel_data/de-Trac",
           "de"
          ],
          [
           "parallel_data/de-Trac",
           "de"
          ],
          [
           "parallel_data/de-Trac",
           "de"
          ],
          [
           "parallel_data/de-Trac",
           "de"
          ],
          [
           "parallel_data/de-Trac",
           "de"
          ],
          [
           "parallel_data/de-Trac",
           "de"
          ],
          [
           "parallel_data/de-Trac",
           "de"
          ],
          [
           "parallel_data/de-Trac",
           "de"
          ],
          [
           "parallel_data/de-Trac",
           "de"
          ],
          [
           "parallel_data/de-Trac",
           "de"
          ],
          [
           "parallel_data/de-Trac",
           "de"
          ],
          [
           "parallel_data/de-Trac",
           "de"
          ],
          [
           "parallel_data/de-Trac",
           "de"
          ],
          [
           "parallel_data/de-Trac",
           "de"
          ],
          [
           "parallel_data/de-Trac",
           "de"
          ],
          [
           "parallel_data/de-Trac",
           "de"
          ],
          [
           "parallel_data/de-Trac",
           "de"
          ],
          [
           "parallel_data/de-Trac",
           "de"
          ],
          [
           "parallel_data/de-Trac",
           "de"
          ],
          [
           "parallel_data/de-Trac",
           "de"
          ],
          [
           "parallel_data/de-Trac",
           "de"
          ],
          [
           "parallel_data/de-Trac",
           "de"
          ],
          [
           "parallel_data/de-Trac",
           "de"
          ],
          [
           "parallel_data/de-Trac",
           "de"
          ],
          [
           "parallel_data/de-Trac",
           "de"
          ],
          [
           "parallel_data/de-Trac",
           "de"
          ],
          [
           "parallel_data/de-Trac",
           "de"
          ],
          [
           "parallel_data/de-Trac",
           "de"
          ],
          [
           "parallel_data/de-Trac",
           "de"
          ],
          [
           "parallel_data/de-Trac",
           "de"
          ],
          [
           "parallel_data/de-Trac",
           "de"
          ],
          [
           "parallel_data/de-Trac",
           "de"
          ],
          [
           "parallel_data/de-Trac",
           "de"
          ],
          [
           "parallel_data/de-Trac",
           "de"
          ],
          [
           "parallel_data/de-Trac",
           "de"
          ],
          [
           "parallel_data/de-Trac",
           "de"
          ],
          [
           "parallel_data/de-Trac",
           "de"
          ],
          [
           "parallel_data/de-Trac",
           "de"
          ],
          [
           "parallel_data/de-Trac",
           "de"
          ],
          [
           "parallel_data/de-Trac",
           "de"
          ],
          [
           "parallel_data/de-Trac",
           "de"
          ],
          [
           "parallel_data/de-Trac",
           "de"
          ],
          [
           "parallel_data/de-Trac",
           "de"
          ],
          [
           "parallel_data/de-Trac",
           "de"
          ],
          [
           "parallel_data/de-Trac",
           "de"
          ],
          [
           "parallel_data/de-Trac",
           "de"
          ],
          [
           "parallel_data/de-Trac",
           "de"
          ],
          [
           "parallel_data/de-Trac",
           "de"
          ],
          [
           "parallel_data/de-Trac",
           "de"
          ],
          [
           "parallel_data/de-Trac",
           "de"
          ],
          [
           "parallel_data/de-Trac",
           "de"
          ],
          [
           "parallel_data/de-Trac",
           "de"
          ],
          [
           "parallel_data/de-Trac",
           "de"
          ],
          [
           "parallel_data/de-Trac",
           "de"
          ],
          [
           "parallel_data/de-Trac",
           "de"
          ],
          [
           "parallel_data/de-Trac",
           "de"
          ],
          [
           "parallel_data/de-Trac",
           "de"
          ],
          [
           "parallel_data/de-Trac",
           "de"
          ],
          [
           "parallel_data/de-Trac",
           "de"
          ],
          [
           "parallel_data/de-Trac",
           "de"
          ],
          [
           "parallel_data/de-Trac",
           "de"
          ],
          [
           "parallel_data/de-Trac",
           "de"
          ],
          [
           "parallel_data/de-Trac",
           "de"
          ],
          [
           "parallel_data/de-Trac",
           "de"
          ],
          [
           "parallel_data/de-Trac",
           "de"
          ],
          [
           "parallel_data/de-Trac",
           "de"
          ],
          [
           "parallel_data/de-Trac",
           "de"
          ],
          [
           "parallel_data/de-Trac",
           "de"
          ],
          [
           "parallel_data/de-Trac",
           "de"
          ],
          [
           "parallel_data/de-Trac",
           "de"
          ],
          [
           "parallel_data/de-Trac",
           "de"
          ],
          [
           "parallel_data/de-Trac",
           "de"
          ],
          [
           "parallel_data/de-Trac",
           "de"
          ],
          [
           "parallel_data/de-Trac",
           "de"
          ],
          [
           "parallel_data/de-Trac",
           "de"
          ],
          [
           "parallel_data/de-Trac",
           "de"
          ],
          [
           "parallel_data/de-Trac",
           "de"
          ],
          [
           "parallel_data/de-Trac",
           "de"
          ],
          [
           "parallel_data/de-Trac",
           "de"
          ],
          [
           "parallel_data/de-Trac",
           "de"
          ],
          [
           "parallel_data/de-Trac",
           "de"
          ],
          [
           "parallel_data/de-Trac",
           "de"
          ],
          [
           "parallel_data/de-Trac",
           "de"
          ],
          [
           "parallel_data/de-Trac",
           "de"
          ],
          [
           "parallel_data/de-Trac",
           "de"
          ],
          [
           "parallel_data/de-Trac",
           "de"
          ],
          [
           "parallel_data/de-Trac",
           "de"
          ],
          [
           "parallel_data/de-Trac",
           "de"
          ],
          [
           "parallel_data/de-Trac",
           "de"
          ],
          [
           "parallel_data/de-Trac",
           "de"
          ],
          [
           "parallel_data/de-Trac",
           "de"
          ],
          [
           "parallel_data/de-Trac",
           "de"
          ],
          [
           "parallel_data/de-Trac",
           "de"
          ],
          [
           "parallel_data/de-Trac",
           "de"
          ],
          [
           "parallel_data/de-Trac",
           "de"
          ],
          [
           "parallel_data/de-Trac",
           "de"
          ],
          [
           "parallel_data/de-Trac",
           "de"
          ],
          [
           "parallel_data/de-Trac",
           "de"
          ],
          [
           "parallel_data/de-Trac",
           "de"
          ],
          [
           "parallel_data/de-Trac",
           "de"
          ],
          [
           "parallel_data/de-Trac",
           "de"
          ],
          [
           "parallel_data/de-Trac",
           "de"
          ],
          [
           "parallel_data/de-Trac",
           "de"
          ],
          [
           "parallel_data/de-Trac",
           "de"
          ],
          [
           "parallel_data/de-Trac",
           "de"
          ],
          [
           "parallel_data/de-Trac",
           "de"
          ],
          [
           "parallel_data/de-Trac",
           "de"
          ],
          [
           "parallel_data/de-Trac",
           "de"
          ],
          [
           "parallel_data/de-Trac",
           "de"
          ],
          [
           "parallel_data/de-Trac",
           "de"
          ],
          [
           "parallel_data/de-Trac",
           "de"
          ],
          [
           "parallel_data/de-Trac",
           "de"
          ],
          [
           "parallel_data/de-Trac",
           "de"
          ],
          [
           "parallel_data/de-Trac",
           "de"
          ],
          [
           "parallel_data/de-Trac",
           "de"
          ],
          [
           "parallel_data/de-Trac",
           "de"
          ],
          [
           "parallel_data/de-Trac",
           "de"
          ],
          [
           "parallel_data/de-Trac",
           "de"
          ],
          [
           "parallel_data/de-Trac",
           "de"
          ],
          [
           "parallel_data/de-Trac",
           "de"
          ],
          [
           "parallel_data/de-Trac",
           "de"
          ],
          [
           "parallel_data/de-Trac",
           "de"
          ],
          [
           "parallel_data/de-Trac",
           "de"
          ],
          [
           "parallel_data/de-Trac",
           "de"
          ],
          [
           "parallel_data/de-Trac",
           "de"
          ],
          [
           "parallel_data/de-Trac",
           "de"
          ],
          [
           "parallel_data/de-Trac",
           "de"
          ],
          [
           "parallel_data/de-Trac",
           "de"
          ],
          [
           "parallel_data/de-Trac",
           "de"
          ],
          [
           "parallel_data/de-Trac",
           "de"
          ],
          [
           "parallel_data/de-Trac",
           "de"
          ],
          [
           "parallel_data/de-Trac",
           "de"
          ],
          [
           "parallel_data/de-Trac",
           "de"
          ],
          [
           "parallel_data/de-Trac",
           "de"
          ],
          [
           "parallel_data/de-Trac",
           "de"
          ],
          [
           "parallel_data/de-Trac",
           "de"
          ],
          [
           "parallel_data/de-Trac",
           "de"
          ],
          [
           "parallel_data/de-Trac",
           "de"
          ],
          [
           "parallel_data/de-Trac",
           "de"
          ],
          [
           "parallel_data/de-Trac",
           "de"
          ],
          [
           "parallel_data/de-Trac",
           "de"
          ],
          [
           "parallel_data/de-Trac",
           "de"
          ],
          [
           "parallel_data/de-Trac",
           "de"
          ],
          [
           "parallel_data/de-Trac",
           "de"
          ],
          [
           "parallel_data/de-Trac",
           "de"
          ],
          [
           "parallel_data/de-Trac",
           "de"
          ],
          [
           "parallel_data/de-Trac",
           "de"
          ],
          [
           "parallel_data/de-Trac",
           "de"
          ],
          [
           "parallel_data/de-Trac",
           "de"
          ],
          [
           "parallel_data/de-Trac",
           "de"
          ],
          [
           "parallel_data/de-Trac",
           "de"
          ],
          [
           "parallel_data/de-Trac",
           "de"
          ],
          [
           "parallel_data/de-Trac",
           "de"
          ],
          [
           "parallel_data/de-Trac",
           "de"
          ],
          [
           "parallel_data/de-Trac",
           "de"
          ],
          [
           "parallel_data/de-Trac",
           "de"
          ],
          [
           "parallel_data/de-Trac",
           "de"
          ],
          [
           "parallel_data/de-Trac",
           "de"
          ],
          [
           "parallel_data/de-Trac",
           "de"
          ],
          [
           "parallel_data/de-Trac",
           "de"
          ],
          [
           "parallel_data/de-Trac",
           "de"
          ],
          [
           "parallel_data/de-Trac",
           "de"
          ],
          [
           "parallel_data/de-Trac",
           "de"
          ],
          [
           "parallel_data/de-Trac",
           "de"
          ],
          [
           "parallel_data/de-Trac",
           "de"
          ],
          [
           "parallel_data/de-Trac",
           "de"
          ],
          [
           "parallel_data/de-Trac",
           "de"
          ],
          [
           "parallel_data/de-Trac",
           "de"
          ],
          [
           "parallel_data/de-Trac",
           "de"
          ],
          [
           "parallel_data/de-Trac",
           "de"
          ],
          [
           "parallel_data/de-Trac",
           "de"
          ],
          [
           "parallel_data/de-Trac",
           "de"
          ],
          [
           "parallel_data/de-Trac",
           "de"
          ],
          [
           "parallel_data/de-Trac",
           "de"
          ],
          [
           "parallel_data/de-Trac",
           "de"
          ],
          [
           "parallel_data/de-Trac",
           "de"
          ],
          [
           "parallel_data/de-Trac",
           "de"
          ],
          [
           "parallel_data/de-Trac",
           "de"
          ],
          [
           "parallel_data/de-Trac",
           "de"
          ],
          [
           "parallel_data/de-Trac",
           "de"
          ],
          [
           "parallel_data/de-Trac",
           "de"
          ],
          [
           "parallel_data/de-Trac",
           "de"
          ],
          [
           "parallel_data/de-Trac",
           "de"
          ],
          [
           "parallel_data/de-Trac",
           "de"
          ],
          [
           "parallel_data/de-Trac",
           "de"
          ],
          [
           "parallel_data/de-Trac",
           "de"
          ],
          [
           "parallel_data/de-Trac",
           "de"
          ],
          [
           "parallel_data/de-Trac",
           "de"
          ],
          [
           "parallel_data/de-Trac",
           "de"
          ],
          [
           "parallel_data/de-Trac",
           "de"
          ]
         ],
         "hovertemplate": "language=%{customdata[1]}<br>x=%{x}<br>y=%{y}<br>dataset_name=%{customdata[0]}<extra></extra>",
         "legendgroup": "de",
         "marker": {
          "color": "#00cc96",
          "symbol": "circle"
         },
         "mode": "markers",
         "name": "de",
         "showlegend": true,
         "x": [
          5.222146987915039,
          6.82322883605957,
          7.239859104156494,
          -5.80072021484375,
          -4.949514865875244,
          9.356195449829102,
          -4.908212184906006,
          -1.1908965110778809,
          2.9216740131378174,
          -0.26146674156188965,
          0.9741977453231812,
          3.78647780418396,
          5.361278057098389,
          7.435150623321533,
          -0.8207250237464905,
          12.003018379211426,
          -3.5917558670043945,
          2.5493249893188477,
          5.0034918785095215,
          -3.6417429447174072,
          -2.19887113571167,
          0.3084924519062042,
          2.1435272693634033,
          -1.952059268951416,
          9.16091251373291,
          -0.3749154210090637,
          9.121511459350586,
          9.491155624389648,
          3.4313228130340576,
          -2.4659581184387207,
          2.9468019008636475,
          6.458493709564209,
          1.7087368965148926,
          -0.9000597596168518,
          -2.0733869075775146,
          2.0404717922210693,
          0.02544214576482773,
          7.037700176239014,
          5.094593048095703,
          -1.5189223289489746,
          3.983626365661621,
          7.293367862701416,
          -0.927069902420044,
          -3.373121738433838,
          2.640955686569214,
          -4.121158123016357,
          -0.6536442637443542,
          -2.0894997119903564,
          9.111620903015137,
          -3.738604784011841,
          1.2509981393814087,
          7.341020584106445,
          4.8864970207214355,
          0.5197601914405823,
          3.7531492710113525,
          2.510774612426758,
          4.101418972015381,
          1.097154140472412,
          4.048352241516113,
          11.014588356018066,
          6.7609758377075195,
          0.19100110232830048,
          -1.9128509759902954,
          -1.8360283374786377,
          0.9345240592956543,
          0.9139204025268555,
          4.80822229385376,
          0.3533443808555603,
          6.326204776763916,
          8.289346694946289,
          1.2956362962722778,
          4.863086223602295,
          -1.9798805713653564,
          2.6602354049682617,
          4.7530598640441895,
          -1.078376293182373,
          0.5209670066833496,
          -0.39172157645225525,
          -5.478338241577148,
          5.6540350914001465,
          3.1573073863983154,
          -0.08172087371349335,
          5.030559062957764,
          -3.1876566410064697,
          3.7132651805877686,
          7.397989749908447,
          4.27321720123291,
          -4.212430477142334,
          6.2357497215271,
          10.333558082580566,
          8.056727409362793,
          3.3585455417633057,
          5.177915573120117,
          3.2442774772644043,
          7.520961761474609,
          2.3726351261138916,
          4.28837776184082,
          11.759114265441895,
          -7.612257957458496,
          0.2613869905471802,
          -0.7744338512420654,
          6.7123188972473145,
          4.291371822357178,
          5.645782470703125,
          -8.555234909057617,
          -1.580037236213684,
          0.6263098120689392,
          0.7532577514648438,
          -8.26516056060791,
          5.8263444900512695,
          -2.3952889442443848,
          -3.7666730880737305,
          1.895127773284912,
          7.398996829986572,
          -0.023607837036252022,
          2.7758755683898926,
          0.18460705876350403,
          -0.5964212417602539,
          -2.0886802673339844,
          4.3198933601379395,
          7.810603618621826,
          6.88480806350708,
          2.853048801422119,
          5.356471538543701,
          3.7549784183502197,
          -7.33865213394165,
          1.5713754892349243,
          5.780077934265137,
          2.4671518802642822,
          -2.739051103591919,
          0.8297995328903198,
          3.180665969848633,
          -1.9529139995574951,
          -3.580284833908081,
          12.04891586303711,
          7.053109169006348,
          -2.051133155822754,
          -8.686280250549316,
          8.824935913085938,
          6.485116481781006,
          -2.7495193481445312,
          8.544939041137695,
          0.8101707100868225,
          5.963075160980225,
          6.971919536590576,
          0.7946908473968506,
          3.8570291996002197,
          -3.8491666316986084,
          -5.554938793182373,
          -1.4650382995605469,
          8.548002243041992,
          3.5819358825683594,
          0.8443418145179749,
          3.0203073024749756,
          -1.9997738599777222,
          -0.6449014544487,
          3.9622435569763184,
          3.565248489379883,
          2.905353546142578,
          1.9704698324203491,
          10.284432411193848,
          4.624513626098633,
          3.949306011199951,
          4.173028945922852,
          -8.004040718078613,
          4.364846229553223,
          0.4225729703903198,
          -4.128921985626221,
          -0.14416705071926117,
          -3.7417900562286377,
          5.454140663146973,
          -1.5051522254943848,
          4.142857551574707,
          1.6096223592758179,
          6.199324607849121,
          -0.5592327117919922,
          1.3641163110733032,
          3.303039789199829,
          -3.3135688304901123,
          -0.5994608998298645,
          2.218200922012329,
          1.0760533809661865,
          -5.727454662322998,
          5.415339469909668,
          1.2358086109161377,
          -8.209015846252441,
          10.066781997680664,
          2.557371139526367,
          1.9365142583847046,
          1.5796351432800293,
          -1.345156192779541,
          -7.392102241516113,
          2.2227938175201416,
          -3.4193010330200195,
          2.9906837940216064,
          3.333712577819824,
          1.0594685077667236,
          0.16746224462985992,
          -1.1634495258331299,
          -2.155012369155884,
          -1.8119513988494873,
          -8.168845176696777,
          1.3287180662155151,
          -4.904675483703613,
          0.7486659288406372,
          7.290054798126221,
          -2.817565441131592,
          5.0557098388671875,
          -5.425149440765381,
          -2.224928379058838,
          11.122364044189453,
          8.041121482849121,
          -8.097001075744629,
          2.28836989402771,
          -6.729979991912842,
          -1.0352693796157837,
          -1.3789788484573364,
          1.7607702016830444,
          1.7310346364974976,
          3.2067999839782715,
          -2.9273815155029297,
          9.298057556152344,
          7.0281548500061035,
          4.258607387542725,
          0.05884285271167755,
          5.450949192047119,
          -8.101335525512695,
          10.27878189086914,
          4.646899223327637,
          6.695041179656982,
          0.1515941470861435,
          6.769848346710205,
          4.406582832336426,
          6.880847454071045,
          1.5029118061065674,
          -3.115278720855713,
          2.0744094848632812,
          7.039539337158203,
          -1.164266586303711,
          11.44126033782959,
          1.8588312864303589,
          -1.858376383781433,
          6.311568260192871,
          6.278954029083252,
          2.419806480407715,
          1.396880030632019,
          -7.393734455108643,
          -4.4044036865234375,
          2.757158041000366,
          2.6123149394989014,
          7.201445579528809,
          1.7662056684494019,
          -1.5542004108428955,
          -0.021630439907312393,
          -2.607947587966919,
          -5.166604995727539,
          -3.561913251876831,
          1.2488843202590942,
          4.164368629455566,
          2.02481746673584,
          -0.5510429739952087,
          -3.3447117805480957,
          -1.6210640668869019,
          3.3911774158477783,
          -0.01440679281949997,
          -7.845303535461426,
          7.959906578063965,
          1.0889075994491577,
          -1.7546247243881226,
          -1.3198213577270508,
          -2.7593586444854736,
          3.4475700855255127,
          2.302278518676758,
          -0.9384702444076538,
          -3.541172742843628,
          1.7218949794769287,
          1.322929859161377,
          5.132894992828369,
          7.4743971824646,
          0.5517449975013733,
          2.713454246520996,
          8.89494800567627,
          -0.4482731819152832,
          2.220578670501709,
          -2.743110418319702,
          4.150362968444824,
          5.022895812988281,
          1.8766388893127441,
          1.9223722219467163,
          -1.0069390535354614,
          -5.633039474487305,
          0.6090385913848877,
          -4.22027587890625,
          -0.8304327130317688,
          0.5062092542648315,
          2.2004947662353516,
          -2.95764422416687,
          -0.19019997119903564,
          6.077497482299805,
          0.12346521019935608
         ],
         "xaxis": "x",
         "y": [
          2.8657026290893555,
          5.668515205383301,
          3.862356662750244,
          0.7560620903968811,
          2.347949504852295,
          4.852059841156006,
          1.1553208827972412,
          -0.4470914304256439,
          6.886528491973877,
          -4.406674385070801,
          6.094552516937256,
          0.10956677049398422,
          5.04417610168457,
          1.0570224523544312,
          1.3172707557678223,
          0.9812514185905457,
          1.5180524587631226,
          -1.8777230978012085,
          11.76068115234375,
          -0.8158960342407227,
          3.927720546722412,
          8.488408088684082,
          7.381360054016113,
          0.4555487334728241,
          7.620084285736084,
          7.04595422744751,
          5.8235039710998535,
          4.659977912902832,
          5.243668556213379,
          0.2934104800224304,
          7.759917736053467,
          -1.3856478929519653,
          12.57751178741455,
          7.1535115242004395,
          11.86635684967041,
          13.707389831542969,
          0.6246538162231445,
          2.5325896739959717,
          3.2720654010772705,
          -3.988696813583374,
          6.856682300567627,
          0.04134543612599373,
          5.378176689147949,
          -0.08673801273107529,
          7.560598850250244,
          0.9744696021080017,
          8.158649444580078,
          3.9943771362304688,
          4.049206256866455,
          8.857233047485352,
          11.538865089416504,
          8.544805526733398,
          10.153225898742676,
          2.2769999504089355,
          0.36270225048065186,
          1.9050666093826294,
          11.136942863464355,
          3.6987216472625732,
          3.8818562030792236,
          8.224472045898438,
          4.055749416351318,
          0.836969256401062,
          15.165071487426758,
          0.9681923389434814,
          7.287729740142822,
          3.40405011177063,
          3.980059862136841,
          4.047210693359375,
          5.079713344573975,
          8.483237266540527,
          12.194419860839844,
          7.536602973937988,
          15.820582389831543,
          8.661149978637695,
          4.658675193786621,
          9.821635246276855,
          11.357672691345215,
          8.501243591308594,
          3.5401792526245117,
          3.9022161960601807,
          5.399651527404785,
          4.931210994720459,
          7.304335117340088,
          3.7244391441345215,
          5.538276195526123,
          7.1403374671936035,
          12.983499526977539,
          8.790035247802734,
          9.23308277130127,
          3.755701780319214,
          5.269051551818848,
          13.830246925354004,
          7.198408126831055,
          13.962636947631836,
          13.690967559814453,
          10.86195182800293,
          6.640634059906006,
          1.2021496295928955,
          0.5515666007995605,
          6.619385242462158,
          13.101332664489746,
          8.734338760375977,
          -0.2121897041797638,
          9.973544120788574,
          6.967477798461914,
          7.93359375,
          4.808773994445801,
          6.132869720458984,
          6.660042762756348,
          5.807548999786377,
          0.6077237129211426,
          5.676921367645264,
          12.876961708068848,
          3.9524848461151123,
          7.770479679107666,
          -1.0038096904754639,
          7.031594276428223,
          12.272066116333008,
          0.9987916946411133,
          12.587727546691895,
          11.77164077758789,
          6.439342975616455,
          5.411870002746582,
          6.826533317565918,
          10.746454238891602,
          0.8256640434265137,
          3.1134250164031982,
          3.674086570739746,
          -2.037123203277588,
          7.0699028968811035,
          3.8893625736236572,
          14.789084434509277,
          15.246392250061035,
          3.0805776119232178,
          0.9362438321113586,
          3.6389315128326416,
          6.654060363769531,
          6.858339309692383,
          3.93304181098938,
          7.040699005126953,
          1.5635583400726318,
          3.379074811935425,
          7.363484859466553,
          9.8782958984375,
          1.5587899684906006,
          -3.198835849761963,
          2.311215400695801,
          1.8508645296096802,
          6.595776081085205,
          -0.8113585114479065,
          8.692065238952637,
          11.74996280670166,
          1.868302822113037,
          11.834181785583496,
          6.412773132324219,
          8.702407836914062,
          10.251167297363281,
          15.51007080078125,
          11.766059875488281,
          5.821310043334961,
          11.06148910522461,
          6.791083812713623,
          8.530667304992676,
          5.597668647766113,
          1.2233144044876099,
          4.992867469787598,
          10.770233154296875,
          1.9487897157669067,
          10.42162799835205,
          8.809453964233398,
          8.771882057189941,
          2.57778000831604,
          -0.08974963426589966,
          11.251791000366211,
          8.376180648803711,
          5.683360576629639,
          9.964214324951172,
          0.004273008555173874,
          12.61471939086914,
          7.187136650085449,
          11.263771057128906,
          4.144323825836182,
          2.1654655933380127,
          5.697526454925537,
          6.1377763748168945,
          6.7846784591674805,
          11.392303466796875,
          7.627898216247559,
          4.527783393859863,
          4.278094291687012,
          1.3213136196136475,
          6.657315731048584,
          11.43224811553955,
          -2.651216506958008,
          9.377443313598633,
          9.338580131530762,
          10.485897064208984,
          4.423398017883301,
          -1.3428252935409546,
          -0.12027579545974731,
          2.5399250984191895,
          2.5461502075195312,
          -2.819257974624634,
          -0.18076150119304657,
          10.233476638793945,
          5.888179779052734,
          2.362602472305298,
          3.520441770553589,
          3.4254558086395264,
          -0.25305604934692383,
          8.314937591552734,
          6.134754657745361,
          2.5266265869140625,
          2.0574333667755127,
          0.6509580016136169,
          4.3400349617004395,
          9.68709659576416,
          8.929033279418945,
          7.274144172668457,
          12.581452369689941,
          1.3087650537490845,
          7.686956405639648,
          9.83495044708252,
          12.99244499206543,
          3.085280418395996,
          6.499214172363281,
          6.719463348388672,
          11.06469440460205,
          13.21829605102539,
          15.344890594482422,
          -0.005561282392591238,
          3.4505748748779297,
          7.993352890014648,
          8.86752700805664,
          13.953664779663086,
          13.806797981262207,
          13.867256164550781,
          3.0231246948242188,
          5.677597999572754,
          6.581267356872559,
          8.918489456176758,
          15.675423622131348,
          7.993460655212402,
          5.9341206550598145,
          8.95494270324707,
          6.749085903167725,
          0.995056688785553,
          -0.042581818997859955,
          -1.5523642301559448,
          3.61257266998291,
          6.723541259765625,
          2.518561601638794,
          -0.8185818791389465,
          7.025093078613281,
          3.992140293121338,
          0.9900208115577698,
          -1.143946886062622,
          11.057662010192871,
          5.175550937652588,
          1.6328942775726318,
          10.72725772857666,
          4.298471927642822,
          2.3039960861206055,
          0.0156814344227314,
          5.310977458953857,
          1.088693380355835,
          5.315054893493652,
          -2.9879283905029297,
          1.5218032598495483,
          9.484123229980469,
          -0.9458692669868469,
          -1.9514143466949463,
          1.2121402025222778,
          8.32954216003418,
          -0.1324446052312851,
          12.148795127868652,
          9.450467109680176,
          10.044769287109375,
          5.183984756469727,
          8.758160591125488,
          11.264554977416992,
          8.776185035705566,
          10.343635559082031,
          12.136181831359863,
          1.703179121017456,
          13.162553787231445,
          12.621947288513184,
          8.022357940673828,
          11.69656753540039,
          9.288933753967285,
          -0.3056299090385437,
          -3.1232357025146484,
          0.5000004768371582,
          4.2877678871154785,
          3.1964521408081055,
          12.701116561889648,
          0.4710536599159241,
          3.3431804180145264,
          0.46750202775001526,
          6.385138988494873
         ],
         "yaxis": "y",
         "type": "scattergl"
        },
        {
         "customdata": [
          [
           "parallel_data/hr-Trac",
           "hr"
          ],
          [
           "parallel_data/hr-Trac",
           "hr"
          ],
          [
           "parallel_data/hr-Trac",
           "hr"
          ],
          [
           "parallel_data/hr-Trac",
           "hr"
          ],
          [
           "parallel_data/hr-Trac",
           "hr"
          ],
          [
           "parallel_data/hr-Trac",
           "hr"
          ],
          [
           "parallel_data/hr-Trac",
           "hr"
          ],
          [
           "parallel_data/hr-Trac",
           "hr"
          ],
          [
           "parallel_data/hr-Trac",
           "hr"
          ],
          [
           "parallel_data/hr-Trac",
           "hr"
          ],
          [
           "parallel_data/hr-Trac",
           "hr"
          ],
          [
           "parallel_data/hr-Trac",
           "hr"
          ],
          [
           "parallel_data/hr-Trac",
           "hr"
          ],
          [
           "parallel_data/hr-Trac",
           "hr"
          ],
          [
           "parallel_data/hr-Trac",
           "hr"
          ],
          [
           "parallel_data/hr-Trac",
           "hr"
          ],
          [
           "parallel_data/hr-Trac",
           "hr"
          ],
          [
           "parallel_data/hr-Trac",
           "hr"
          ],
          [
           "parallel_data/hr-Trac",
           "hr"
          ],
          [
           "parallel_data/hr-Trac",
           "hr"
          ],
          [
           "parallel_data/hr-Trac",
           "hr"
          ],
          [
           "parallel_data/hr-Trac",
           "hr"
          ],
          [
           "parallel_data/hr-Trac",
           "hr"
          ],
          [
           "parallel_data/hr-Trac",
           "hr"
          ],
          [
           "parallel_data/hr-Trac",
           "hr"
          ],
          [
           "parallel_data/hr-Trac",
           "hr"
          ],
          [
           "parallel_data/hr-Trac",
           "hr"
          ],
          [
           "parallel_data/hr-Trac",
           "hr"
          ],
          [
           "parallel_data/hr-Trac",
           "hr"
          ],
          [
           "parallel_data/hr-Trac",
           "hr"
          ],
          [
           "parallel_data/hr-Trac",
           "hr"
          ],
          [
           "parallel_data/hr-Trac",
           "hr"
          ],
          [
           "parallel_data/hr-Trac",
           "hr"
          ],
          [
           "parallel_data/hr-Trac",
           "hr"
          ],
          [
           "parallel_data/hr-Trac",
           "hr"
          ],
          [
           "parallel_data/hr-Trac",
           "hr"
          ],
          [
           "parallel_data/hr-Trac",
           "hr"
          ],
          [
           "parallel_data/hr-Trac",
           "hr"
          ],
          [
           "parallel_data/hr-Trac",
           "hr"
          ],
          [
           "parallel_data/hr-Trac",
           "hr"
          ],
          [
           "parallel_data/hr-Trac",
           "hr"
          ],
          [
           "parallel_data/hr-Trac",
           "hr"
          ],
          [
           "parallel_data/hr-Trac",
           "hr"
          ],
          [
           "parallel_data/hr-Trac",
           "hr"
          ],
          [
           "parallel_data/hr-Trac",
           "hr"
          ],
          [
           "parallel_data/hr-Trac",
           "hr"
          ],
          [
           "parallel_data/hr-Trac",
           "hr"
          ],
          [
           "parallel_data/hr-Trac",
           "hr"
          ],
          [
           "parallel_data/hr-Trac",
           "hr"
          ],
          [
           "parallel_data/hr-Trac",
           "hr"
          ],
          [
           "parallel_data/hr-Trac",
           "hr"
          ],
          [
           "parallel_data/hr-Trac",
           "hr"
          ],
          [
           "parallel_data/hr-Trac",
           "hr"
          ],
          [
           "parallel_data/hr-Trac",
           "hr"
          ],
          [
           "parallel_data/hr-Trac",
           "hr"
          ],
          [
           "parallel_data/hr-Trac",
           "hr"
          ],
          [
           "parallel_data/hr-Trac",
           "hr"
          ],
          [
           "parallel_data/hr-Trac",
           "hr"
          ],
          [
           "parallel_data/hr-Trac",
           "hr"
          ],
          [
           "parallel_data/hr-Trac",
           "hr"
          ],
          [
           "parallel_data/hr-Trac",
           "hr"
          ],
          [
           "parallel_data/hr-Trac",
           "hr"
          ],
          [
           "parallel_data/hr-Trac",
           "hr"
          ],
          [
           "parallel_data/hr-Trac",
           "hr"
          ],
          [
           "parallel_data/hr-Trac",
           "hr"
          ],
          [
           "parallel_data/hr-Trac",
           "hr"
          ],
          [
           "parallel_data/hr-Trac",
           "hr"
          ],
          [
           "parallel_data/hr-Trac",
           "hr"
          ],
          [
           "parallel_data/hr-Trac",
           "hr"
          ],
          [
           "parallel_data/hr-Trac",
           "hr"
          ],
          [
           "parallel_data/hr-Trac",
           "hr"
          ],
          [
           "parallel_data/hr-Trac",
           "hr"
          ],
          [
           "parallel_data/hr-Trac",
           "hr"
          ],
          [
           "parallel_data/hr-Trac",
           "hr"
          ],
          [
           "parallel_data/hr-Trac",
           "hr"
          ],
          [
           "parallel_data/hr-Trac",
           "hr"
          ],
          [
           "parallel_data/hr-Trac",
           "hr"
          ],
          [
           "parallel_data/hr-Trac",
           "hr"
          ],
          [
           "parallel_data/hr-Trac",
           "hr"
          ],
          [
           "parallel_data/hr-Trac",
           "hr"
          ],
          [
           "parallel_data/hr-Trac",
           "hr"
          ],
          [
           "parallel_data/hr-Trac",
           "hr"
          ],
          [
           "parallel_data/hr-Trac",
           "hr"
          ],
          [
           "parallel_data/hr-Trac",
           "hr"
          ],
          [
           "parallel_data/hr-Trac",
           "hr"
          ],
          [
           "parallel_data/hr-Trac",
           "hr"
          ],
          [
           "parallel_data/hr-Trac",
           "hr"
          ],
          [
           "parallel_data/hr-Trac",
           "hr"
          ],
          [
           "parallel_data/hr-Trac",
           "hr"
          ],
          [
           "parallel_data/hr-Trac",
           "hr"
          ],
          [
           "parallel_data/hr-Trac",
           "hr"
          ],
          [
           "parallel_data/hr-Trac",
           "hr"
          ],
          [
           "parallel_data/hr-Trac",
           "hr"
          ],
          [
           "parallel_data/hr-Trac",
           "hr"
          ],
          [
           "parallel_data/hr-Trac",
           "hr"
          ],
          [
           "parallel_data/hr-Trac",
           "hr"
          ],
          [
           "parallel_data/hr-Trac",
           "hr"
          ],
          [
           "parallel_data/hr-Trac",
           "hr"
          ],
          [
           "parallel_data/hr-Trac",
           "hr"
          ],
          [
           "parallel_data/hr-Trac",
           "hr"
          ],
          [
           "parallel_data/hr-Trac",
           "hr"
          ],
          [
           "parallel_data/hr-Trac",
           "hr"
          ],
          [
           "parallel_data/hr-Trac",
           "hr"
          ],
          [
           "parallel_data/hr-Trac",
           "hr"
          ],
          [
           "parallel_data/hr-Trac",
           "hr"
          ],
          [
           "parallel_data/hr-Trac",
           "hr"
          ],
          [
           "parallel_data/hr-Trac",
           "hr"
          ],
          [
           "parallel_data/hr-Trac",
           "hr"
          ],
          [
           "parallel_data/hr-Trac",
           "hr"
          ],
          [
           "parallel_data/hr-Trac",
           "hr"
          ],
          [
           "parallel_data/hr-Trac",
           "hr"
          ],
          [
           "parallel_data/hr-Trac",
           "hr"
          ],
          [
           "parallel_data/hr-Trac",
           "hr"
          ],
          [
           "parallel_data/hr-Trac",
           "hr"
          ],
          [
           "parallel_data/hr-Trac",
           "hr"
          ],
          [
           "parallel_data/hr-Trac",
           "hr"
          ],
          [
           "parallel_data/hr-Trac",
           "hr"
          ],
          [
           "parallel_data/hr-Trac",
           "hr"
          ],
          [
           "parallel_data/hr-Trac",
           "hr"
          ],
          [
           "parallel_data/hr-Trac",
           "hr"
          ],
          [
           "parallel_data/hr-Trac",
           "hr"
          ],
          [
           "parallel_data/hr-Trac",
           "hr"
          ],
          [
           "parallel_data/hr-Trac",
           "hr"
          ],
          [
           "parallel_data/hr-Trac",
           "hr"
          ],
          [
           "parallel_data/hr-Trac",
           "hr"
          ],
          [
           "parallel_data/hr-Trac",
           "hr"
          ],
          [
           "parallel_data/hr-Trac",
           "hr"
          ],
          [
           "parallel_data/hr-Trac",
           "hr"
          ],
          [
           "parallel_data/hr-Trac",
           "hr"
          ],
          [
           "parallel_data/hr-Trac",
           "hr"
          ],
          [
           "parallel_data/hr-Trac",
           "hr"
          ],
          [
           "parallel_data/hr-Trac",
           "hr"
          ],
          [
           "parallel_data/hr-Trac",
           "hr"
          ],
          [
           "parallel_data/hr-Trac",
           "hr"
          ],
          [
           "parallel_data/hr-Trac",
           "hr"
          ],
          [
           "parallel_data/hr-Trac",
           "hr"
          ],
          [
           "parallel_data/hr-Trac",
           "hr"
          ],
          [
           "parallel_data/hr-Trac",
           "hr"
          ],
          [
           "parallel_data/hr-Trac",
           "hr"
          ],
          [
           "parallel_data/hr-Trac",
           "hr"
          ],
          [
           "parallel_data/hr-Trac",
           "hr"
          ],
          [
           "parallel_data/hr-Trac",
           "hr"
          ],
          [
           "parallel_data/hr-Trac",
           "hr"
          ],
          [
           "parallel_data/hr-Trac",
           "hr"
          ],
          [
           "parallel_data/hr-Trac",
           "hr"
          ],
          [
           "parallel_data/hr-Trac",
           "hr"
          ],
          [
           "parallel_data/hr-Trac",
           "hr"
          ],
          [
           "parallel_data/hr-Trac",
           "hr"
          ],
          [
           "parallel_data/hr-Trac",
           "hr"
          ],
          [
           "parallel_data/hr-Trac",
           "hr"
          ],
          [
           "parallel_data/hr-Trac",
           "hr"
          ],
          [
           "parallel_data/hr-Trac",
           "hr"
          ],
          [
           "parallel_data/hr-Trac",
           "hr"
          ],
          [
           "parallel_data/hr-Trac",
           "hr"
          ],
          [
           "parallel_data/hr-Trac",
           "hr"
          ],
          [
           "parallel_data/hr-Trac",
           "hr"
          ],
          [
           "parallel_data/hr-Trac",
           "hr"
          ],
          [
           "parallel_data/hr-Trac",
           "hr"
          ],
          [
           "parallel_data/hr-Trac",
           "hr"
          ],
          [
           "parallel_data/hr-Trac",
           "hr"
          ],
          [
           "parallel_data/hr-Trac",
           "hr"
          ],
          [
           "parallel_data/hr-Trac",
           "hr"
          ],
          [
           "parallel_data/hr-Trac",
           "hr"
          ],
          [
           "parallel_data/hr-Trac",
           "hr"
          ],
          [
           "parallel_data/hr-Trac",
           "hr"
          ],
          [
           "parallel_data/hr-Trac",
           "hr"
          ],
          [
           "parallel_data/hr-Trac",
           "hr"
          ],
          [
           "parallel_data/hr-Trac",
           "hr"
          ],
          [
           "parallel_data/hr-Trac",
           "hr"
          ],
          [
           "parallel_data/hr-Trac",
           "hr"
          ],
          [
           "parallel_data/hr-Trac",
           "hr"
          ],
          [
           "parallel_data/hr-Trac",
           "hr"
          ],
          [
           "parallel_data/hr-Trac",
           "hr"
          ],
          [
           "parallel_data/hr-Trac",
           "hr"
          ],
          [
           "parallel_data/hr-Trac",
           "hr"
          ],
          [
           "parallel_data/hr-Trac",
           "hr"
          ],
          [
           "parallel_data/hr-Trac",
           "hr"
          ],
          [
           "parallel_data/hr-Trac",
           "hr"
          ],
          [
           "parallel_data/hr-Trac",
           "hr"
          ],
          [
           "parallel_data/hr-Trac",
           "hr"
          ],
          [
           "parallel_data/hr-Trac",
           "hr"
          ],
          [
           "parallel_data/hr-Trac",
           "hr"
          ],
          [
           "parallel_data/hr-Trac",
           "hr"
          ],
          [
           "parallel_data/hr-Trac",
           "hr"
          ],
          [
           "parallel_data/hr-Trac",
           "hr"
          ],
          [
           "parallel_data/hr-Trac",
           "hr"
          ],
          [
           "parallel_data/hr-Trac",
           "hr"
          ],
          [
           "parallel_data/hr-Trac",
           "hr"
          ],
          [
           "parallel_data/hr-Trac",
           "hr"
          ],
          [
           "parallel_data/hr-Trac",
           "hr"
          ],
          [
           "parallel_data/hr-Trac",
           "hr"
          ],
          [
           "parallel_data/hr-Trac",
           "hr"
          ],
          [
           "parallel_data/hr-Trac",
           "hr"
          ],
          [
           "parallel_data/hr-Trac",
           "hr"
          ],
          [
           "parallel_data/hr-Trac",
           "hr"
          ],
          [
           "parallel_data/hr-Trac",
           "hr"
          ],
          [
           "parallel_data/hr-Trac",
           "hr"
          ],
          [
           "parallel_data/hr-Trac",
           "hr"
          ],
          [
           "parallel_data/hr-Trac",
           "hr"
          ],
          [
           "parallel_data/hr-Trac",
           "hr"
          ],
          [
           "parallel_data/hr-Trac",
           "hr"
          ],
          [
           "parallel_data/hr-Trac",
           "hr"
          ],
          [
           "parallel_data/hr-Trac",
           "hr"
          ],
          [
           "parallel_data/hr-Trac",
           "hr"
          ],
          [
           "parallel_data/hr-Trac",
           "hr"
          ],
          [
           "parallel_data/hr-Trac",
           "hr"
          ],
          [
           "parallel_data/hr-Trac",
           "hr"
          ],
          [
           "parallel_data/hr-Trac",
           "hr"
          ],
          [
           "parallel_data/hr-Trac",
           "hr"
          ],
          [
           "parallel_data/hr-Trac",
           "hr"
          ],
          [
           "parallel_data/hr-Trac",
           "hr"
          ],
          [
           "parallel_data/hr-Trac",
           "hr"
          ],
          [
           "parallel_data/hr-Trac",
           "hr"
          ],
          [
           "parallel_data/hr-Trac",
           "hr"
          ],
          [
           "parallel_data/hr-Trac",
           "hr"
          ],
          [
           "parallel_data/hr-Trac",
           "hr"
          ],
          [
           "parallel_data/hr-Trac",
           "hr"
          ],
          [
           "parallel_data/hr-Trac",
           "hr"
          ],
          [
           "parallel_data/hr-Trac",
           "hr"
          ],
          [
           "parallel_data/hr-Trac",
           "hr"
          ],
          [
           "parallel_data/hr-Trac",
           "hr"
          ],
          [
           "parallel_data/hr-Trac",
           "hr"
          ],
          [
           "parallel_data/hr-Trac",
           "hr"
          ],
          [
           "parallel_data/hr-Trac",
           "hr"
          ],
          [
           "parallel_data/hr-Trac",
           "hr"
          ],
          [
           "parallel_data/hr-Trac",
           "hr"
          ],
          [
           "parallel_data/hr-Trac",
           "hr"
          ],
          [
           "parallel_data/hr-Trac",
           "hr"
          ],
          [
           "parallel_data/hr-Trac",
           "hr"
          ],
          [
           "parallel_data/hr-Trac",
           "hr"
          ],
          [
           "parallel_data/hr-Trac",
           "hr"
          ],
          [
           "parallel_data/hr-Trac",
           "hr"
          ],
          [
           "parallel_data/hr-Trac",
           "hr"
          ],
          [
           "parallel_data/hr-Trac",
           "hr"
          ],
          [
           "parallel_data/hr-Trac",
           "hr"
          ],
          [
           "parallel_data/hr-Trac",
           "hr"
          ],
          [
           "parallel_data/hr-Trac",
           "hr"
          ],
          [
           "parallel_data/hr-Trac",
           "hr"
          ],
          [
           "parallel_data/hr-Trac",
           "hr"
          ],
          [
           "parallel_data/hr-Trac",
           "hr"
          ],
          [
           "parallel_data/hr-Trac",
           "hr"
          ],
          [
           "parallel_data/hr-Trac",
           "hr"
          ],
          [
           "parallel_data/hr-Trac",
           "hr"
          ],
          [
           "parallel_data/hr-Trac",
           "hr"
          ],
          [
           "parallel_data/hr-Trac",
           "hr"
          ],
          [
           "parallel_data/hr-Trac",
           "hr"
          ],
          [
           "parallel_data/hr-Trac",
           "hr"
          ],
          [
           "parallel_data/hr-Trac",
           "hr"
          ],
          [
           "parallel_data/hr-Trac",
           "hr"
          ],
          [
           "parallel_data/hr-Trac",
           "hr"
          ],
          [
           "parallel_data/hr-Trac",
           "hr"
          ],
          [
           "parallel_data/hr-Trac",
           "hr"
          ],
          [
           "parallel_data/hr-Trac",
           "hr"
          ],
          [
           "parallel_data/hr-Trac",
           "hr"
          ],
          [
           "parallel_data/hr-Trac",
           "hr"
          ],
          [
           "parallel_data/hr-Trac",
           "hr"
          ],
          [
           "parallel_data/hr-Trac",
           "hr"
          ],
          [
           "parallel_data/hr-Trac",
           "hr"
          ],
          [
           "parallel_data/hr-Trac",
           "hr"
          ],
          [
           "parallel_data/hr-Trac",
           "hr"
          ],
          [
           "parallel_data/hr-Trac",
           "hr"
          ],
          [
           "parallel_data/hr-Trac",
           "hr"
          ],
          [
           "parallel_data/hr-Trac",
           "hr"
          ],
          [
           "parallel_data/hr-Trac",
           "hr"
          ],
          [
           "parallel_data/hr-Trac",
           "hr"
          ],
          [
           "parallel_data/hr-Trac",
           "hr"
          ],
          [
           "parallel_data/hr-Trac",
           "hr"
          ],
          [
           "parallel_data/hr-Trac",
           "hr"
          ],
          [
           "parallel_data/hr-Trac",
           "hr"
          ],
          [
           "parallel_data/hr-Trac",
           "hr"
          ],
          [
           "parallel_data/hr-Trac",
           "hr"
          ],
          [
           "parallel_data/hr-Trac",
           "hr"
          ],
          [
           "parallel_data/hr-Trac",
           "hr"
          ],
          [
           "parallel_data/hr-Trac",
           "hr"
          ],
          [
           "parallel_data/hr-Trac",
           "hr"
          ],
          [
           "parallel_data/hr-Trac",
           "hr"
          ],
          [
           "parallel_data/hr-Trac",
           "hr"
          ],
          [
           "parallel_data/hr-Trac",
           "hr"
          ],
          [
           "parallel_data/hr-Trac",
           "hr"
          ],
          [
           "parallel_data/hr-Trac",
           "hr"
          ],
          [
           "parallel_data/hr-Trac",
           "hr"
          ],
          [
           "parallel_data/hr-Trac",
           "hr"
          ],
          [
           "parallel_data/hr-Trac",
           "hr"
          ],
          [
           "parallel_data/hr-Trac",
           "hr"
          ],
          [
           "parallel_data/hr-Trac",
           "hr"
          ],
          [
           "parallel_data/hr-Trac",
           "hr"
          ],
          [
           "parallel_data/hr-Trac",
           "hr"
          ],
          [
           "parallel_data/hr-Trac",
           "hr"
          ],
          [
           "parallel_data/hr-Trac",
           "hr"
          ],
          [
           "parallel_data/hr-Trac",
           "hr"
          ],
          [
           "parallel_data/hr-Trac",
           "hr"
          ],
          [
           "parallel_data/hr-Trac",
           "hr"
          ],
          [
           "parallel_data/hr-Trac",
           "hr"
          ],
          [
           "parallel_data/hr-Trac",
           "hr"
          ],
          [
           "parallel_data/hr-Trac",
           "hr"
          ],
          [
           "parallel_data/hr-Trac",
           "hr"
          ],
          [
           "parallel_data/hr-Trac",
           "hr"
          ],
          [
           "parallel_data/hr-Trac",
           "hr"
          ],
          [
           "parallel_data/hr-Trac",
           "hr"
          ],
          [
           "parallel_data/hr-Trac",
           "hr"
          ]
         ],
         "hovertemplate": "language=%{customdata[1]}<br>x=%{x}<br>y=%{y}<br>dataset_name=%{customdata[0]}<extra></extra>",
         "legendgroup": "hr",
         "marker": {
          "color": "#ab63fa",
          "symbol": "circle"
         },
         "mode": "markers",
         "name": "hr",
         "showlegend": true,
         "x": [
          5.222590446472168,
          6.845426559448242,
          7.216399669647217,
          -5.819077968597412,
          -4.9704999923706055,
          9.327866554260254,
          -4.911583423614502,
          -1.1859798431396484,
          2.9188621044158936,
          -0.2577137053012848,
          0.968432605266571,
          3.7907872200012207,
          5.366275310516357,
          7.4374494552612305,
          -0.8200420141220093,
          11.999483108520508,
          -3.5920000076293945,
          2.5408153533935547,
          5.013809680938721,
          -3.644145965576172,
          -2.2176103591918945,
          0.3091362714767456,
          2.1492576599121094,
          -1.9445134401321411,
          9.1189546585083,
          -0.39954349398612976,
          9.107515335083008,
          9.49420166015625,
          3.4530346393585205,
          -2.4665400981903076,
          2.929387092590332,
          6.457371234893799,
          1.7118147611618042,
          -0.9324893951416016,
          -2.0794994831085205,
          2.0214500427246094,
          -0.002328533213585615,
          7.043402671813965,
          5.0983123779296875,
          -1.4906998872756958,
          4.002041339874268,
          7.291464328765869,
          -0.9372800588607788,
          -3.375579833984375,
          2.664696455001831,
          -4.076971054077148,
          -0.6637405157089233,
          -2.0905466079711914,
          9.121587753295898,
          -3.739936113357544,
          1.2574560642242432,
          7.362590789794922,
          4.8667449951171875,
          0.5197747945785522,
          3.7460196018218994,
          2.5070314407348633,
          4.1097731590271,
          1.1335830688476562,
          4.056509017944336,
          11.01651668548584,
          6.773731231689453,
          0.2081262618303299,
          -1.9044231176376343,
          -1.8084708452224731,
          0.9487922191619873,
          0.9577224254608154,
          4.7865447998046875,
          0.3335047662258148,
          6.3030595779418945,
          8.333547592163086,
          1.3312156200408936,
          4.857087135314941,
          -1.9599583148956299,
          2.6499979496002197,
          4.776761054992676,
          -1.095988392829895,
          0.5171809196472168,
          -0.3909624218940735,
          -5.504443645477295,
          5.662906169891357,
          3.14599609375,
          -0.06847858428955078,
          5.030853748321533,
          -3.1780049800872803,
          3.7048275470733643,
          7.3665852546691895,
          4.2510857582092285,
          -4.223409175872803,
          6.239121437072754,
          10.334342956542969,
          8.078676223754883,
          3.3861024379730225,
          5.165895938873291,
          3.2343926429748535,
          7.521457195281982,
          2.4244954586029053,
          4.308781147003174,
          11.782230377197266,
          -7.59283447265625,
          0.2543482482433319,
          -0.7748549580574036,
          6.704714298248291,
          4.267675876617432,
          5.598842144012451,
          -8.558405876159668,
          -1.5774965286254883,
          0.6374215483665466,
          0.7564176321029663,
          -8.253654479980469,
          5.751434803009033,
          -2.3668341636657715,
          -3.749833106994629,
          1.9477221965789795,
          7.364137172698975,
          -0.03993222862482071,
          2.768264055252075,
          0.16278575360774994,
          -0.5869564414024353,
          -2.0787672996520996,
          4.30342435836792,
          7.826022148132324,
          6.873691558837891,
          2.823017120361328,
          5.391534805297852,
          3.7322041988372803,
          -7.340648174285889,
          1.56573486328125,
          5.771511077880859,
          2.4930360317230225,
          -2.727076768875122,
          0.8362711668014526,
          3.1800708770751953,
          -1.9592782258987427,
          -3.544901132583618,
          12.071017265319824,
          7.052238941192627,
          -2.0420446395874023,
          -8.698393821716309,
          8.7974271774292,
          6.50085973739624,
          -2.7516510486602783,
          8.550372123718262,
          0.769788384437561,
          5.977383613586426,
          6.96013879776001,
          0.8115025162696838,
          3.8672077655792236,
          -3.8662333488464355,
          -5.543188571929932,
          -1.4694827795028687,
          8.539216995239258,
          3.5499041080474854,
          0.820569634437561,
          3.012457847595215,
          -1.9844112396240234,
          -0.646878182888031,
          3.946057081222534,
          3.5628528594970703,
          2.882755756378174,
          1.986197829246521,
          10.284618377685547,
          4.634108543395996,
          3.960892915725708,
          4.204809665679932,
          -8.014486312866211,
          4.394554138183594,
          0.4223696291446686,
          -4.128133773803711,
          -0.11110252141952515,
          -3.7256646156311035,
          5.471379280090332,
          -1.493167757987976,
          4.169684410095215,
          1.5529099702835083,
          6.214292526245117,
          -0.5520976185798645,
          1.3499767780303955,
          3.3087704181671143,
          -3.3148114681243896,
          -0.593700110912323,
          2.269836664199829,
          1.0460517406463623,
          -5.775480270385742,
          5.371515274047852,
          1.3030853271484375,
          -8.180025100708008,
          10.093317985534668,
          2.523420810699463,
          1.9256868362426758,
          1.6412949562072754,
          -1.3131736516952515,
          -7.384890079498291,
          2.241234540939331,
          -3.401818037033081,
          2.9612154960632324,
          3.3648061752319336,
          1.0616527795791626,
          0.1383403241634369,
          -1.1868637800216675,
          -2.1477339267730713,
          -1.8190460205078125,
          -8.098799705505371,
          1.356087327003479,
          -4.9092512130737305,
          0.7411863803863525,
          7.312366008758545,
          -2.812058925628662,
          5.043639659881592,
          -5.436994552612305,
          -2.1868462562561035,
          11.132102966308594,
          8.038911819458008,
          -8.07227611541748,
          2.257645845413208,
          -6.736758232116699,
          -1.0482457876205444,
          -1.3722668886184692,
          1.7625129222869873,
          1.744255542755127,
          3.230740785598755,
          -2.924971580505371,
          9.323267936706543,
          7.030572414398193,
          4.292276382446289,
          0.07303742319345474,
          5.448420524597168,
          -8.100996017456055,
          10.269259452819824,
          4.660583972930908,
          6.695846080780029,
          0.1532822996377945,
          6.744654178619385,
          4.4245710372924805,
          6.855551242828369,
          1.538193941116333,
          -3.113844156265259,
          2.068772315979004,
          7.012305736541748,
          -1.1828272342681885,
          11.444295883178711,
          1.8240476846694946,
          -1.903001070022583,
          6.332790374755859,
          6.291151523590088,
          2.4033448696136475,
          1.3820617198944092,
          -7.350356101989746,
          -4.341232776641846,
          2.757370948791504,
          2.6218247413635254,
          7.134645462036133,
          1.7614513635635376,
          -1.5577208995819092,
          -0.11822637915611267,
          -2.5797932147979736,
          -5.139831066131592,
          -3.560821056365967,
          1.2635910511016846,
          4.181854724884033,
          1.9923306703567505,
          -0.5394552946090698,
          -3.3377346992492676,
          -1.6140222549438477,
          3.3781416416168213,
          -0.014325336553156376,
          -7.894071578979492,
          7.94850492477417,
          1.0963765382766724,
          -1.7776697874069214,
          -1.3206990957260132,
          -2.763784646987915,
          3.422922134399414,
          2.3043689727783203,
          -0.9198263883590698,
          -3.585951566696167,
          1.7514017820358276,
          1.341482162475586,
          5.1436896324157715,
          7.473703861236572,
          0.5317158102989197,
          2.7410006523132324,
          8.913564682006836,
          -0.4400244653224945,
          2.205491542816162,
          -2.76892352104187,
          4.134121417999268,
          5.066377639770508,
          1.878161907196045,
          1.9762113094329834,
          -1.0048067569732666,
          -5.641524314880371,
          0.6070752143859863,
          -4.251227378845215,
          -0.8394806981086731,
          0.5430352687835693,
          2.1800010204315186,
          -2.976353645324707,
          -0.2312256395816803,
          6.080674171447754,
          0.17560771107673645
         ],
         "xaxis": "x",
         "y": [
          2.8803319931030273,
          5.656661510467529,
          3.8297317028045654,
          0.7583374977111816,
          2.3572256565093994,
          4.861180305480957,
          1.149681806564331,
          -0.4403984248638153,
          6.873136520385742,
          -4.406857013702393,
          6.106248378753662,
          0.14948906004428864,
          5.052709102630615,
          1.0530121326446533,
          1.3178184032440186,
          0.9852092862129211,
          1.4942914247512817,
          -1.880118489265442,
          11.759182929992676,
          -0.8066495656967163,
          3.898301362991333,
          8.505623817443848,
          7.37824821472168,
          0.4360048472881317,
          7.584478378295898,
          7.022778511047363,
          5.831333637237549,
          4.658352851867676,
          5.257500648498535,
          0.3135513961315155,
          7.751950263977051,
          -1.3856045007705688,
          12.527091026306152,
          7.11954927444458,
          11.864899635314941,
          13.667733192443848,
          0.6026095747947693,
          2.5867369174957275,
          3.2537283897399902,
          -4.010474681854248,
          6.86857271194458,
          0.03941300883889198,
          5.3841376304626465,
          -0.08285508304834366,
          7.550894260406494,
          0.9857537150382996,
          8.163612365722656,
          3.994717836380005,
          4.069787979125977,
          8.848280906677246,
          11.54335880279541,
          8.515545845031738,
          10.162986755371094,
          2.28971004486084,
          0.36282598972320557,
          1.9024431705474854,
          11.159764289855957,
          3.674140691757202,
          3.8724377155303955,
          8.227852821350098,
          4.115021228790283,
          0.8488628268241882,
          15.147605895996094,
          0.9787395000457764,
          7.3258233070373535,
          3.438703775405884,
          4.013174533843994,
          4.070545196533203,
          5.057080268859863,
          8.518075942993164,
          12.162160873413086,
          7.547556400299072,
          15.785825729370117,
          8.633862495422363,
          4.650269985198975,
          9.84556770324707,
          11.363394737243652,
          8.52139949798584,
          3.524534225463867,
          3.9153709411621094,
          5.418073654174805,
          4.910043239593506,
          7.297726631164551,
          3.7425010204315186,
          5.540534019470215,
          7.107724189758301,
          13.018797874450684,
          8.792627334594727,
          9.226916313171387,
          3.7551403045654297,
          5.24561071395874,
          13.816447257995605,
          7.2013258934021,
          13.979252815246582,
          13.694572448730469,
          10.859508514404297,
          6.66259765625,
          1.1790014505386353,
          0.5090722441673279,
          6.640746116638184,
          13.109467506408691,
          8.752910614013672,
          -0.19032546877861023,
          9.986680030822754,
          6.960519790649414,
          7.922524452209473,
          4.827908515930176,
          6.138922691345215,
          6.659428596496582,
          5.731221675872803,
          0.6530823707580566,
          5.6705827713012695,
          12.899222373962402,
          3.9189491271972656,
          7.77638578414917,
          -1.011704444885254,
          7.064043045043945,
          12.266002655029297,
          0.967292308807373,
          12.584959983825684,
          11.786572456359863,
          6.447804927825928,
          5.414059638977051,
          6.785083293914795,
          10.803586959838867,
          0.8205799460411072,
          3.126535415649414,
          3.6533381938934326,
          -2.002401828765869,
          7.0571064949035645,
          3.9099795818328857,
          14.796378135681152,
          15.25281047821045,
          3.0592689514160156,
          0.9149549007415771,
          3.6199984550476074,
          6.610140323638916,
          6.85536527633667,
          3.9390828609466553,
          7.051107883453369,
          1.5450338125228882,
          3.368508815765381,
          7.3825812339782715,
          9.871707916259766,
          1.5738106966018677,
          -3.1931183338165283,
          2.315155506134033,
          1.872504472732544,
          6.585951805114746,
          -0.8369483351707458,
          8.689449310302734,
          11.734803199768066,
          1.8903177976608276,
          11.84506893157959,
          6.4036078453063965,
          8.691242218017578,
          10.268394470214844,
          15.513872146606445,
          11.725890159606934,
          5.813758373260498,
          11.061110496520996,
          6.784603595733643,
          8.526909828186035,
          5.616888999938965,
          1.2298223972320557,
          4.993526935577393,
          10.75865650177002,
          1.9398843050003052,
          10.442331314086914,
          8.795308113098145,
          8.76223087310791,
          2.5725839138031006,
          -0.10858209431171417,
          11.255224227905273,
          8.361756324768066,
          5.67802095413208,
          9.95827865600586,
          0.004543640185147524,
          12.616666793823242,
          7.220088481903076,
          11.214390754699707,
          4.167862415313721,
          2.11908221244812,
          5.680984973907471,
          6.12053918838501,
          6.749110698699951,
          11.352352142333984,
          7.66200065612793,
          4.51418924331665,
          4.30924129486084,
          1.292217493057251,
          6.659710884094238,
          11.456379890441895,
          -2.66230845451355,
          9.37877082824707,
          9.325118064880371,
          10.492158889770508,
          4.417421340942383,
          -1.31851065158844,
          -0.12402725219726562,
          2.525068998336792,
          2.5086703300476074,
          -2.7982218265533447,
          -0.1881445348262787,
          10.220223426818848,
          5.899074077606201,
          2.378107786178589,
          3.4699935913085938,
          3.4460973739624023,
          -0.23204202950000763,
          8.31395435333252,
          6.14784574508667,
          2.5040414333343506,
          2.0631532669067383,
          0.6542384624481201,
          4.367825031280518,
          9.696272850036621,
          8.923952102661133,
          7.276098728179932,
          12.5686674118042,
          1.3102128505706787,
          7.700818061828613,
          9.831189155578613,
          12.989664077758789,
          3.053697109222412,
          6.521352291107178,
          6.717669486999512,
          11.07913589477539,
          13.220572471618652,
          15.345742225646973,
          8.749258704483509E-4,
          3.4343066215515137,
          7.970460891723633,
          8.857718467712402,
          13.967082023620605,
          13.806079864501953,
          13.876787185668945,
          3.0651938915252686,
          5.661376953125,
          6.582262992858887,
          8.930541038513184,
          15.739124298095703,
          7.996319770812988,
          5.945509910583496,
          8.99311351776123,
          6.753726005554199,
          0.9766790270805359,
          -0.026031039655208588,
          -1.5540313720703125,
          3.5997154712677,
          6.683928966522217,
          2.508791923522949,
          -0.8068310618400574,
          7.058531284332275,
          3.9566843509674072,
          0.9982860684394836,
          -1.1470831632614136,
          11.051118850708008,
          5.166024684906006,
          1.6669493913650513,
          10.749988555908203,
          4.283255577087402,
          2.3207032680511475,
          -0.0058963727205991745,
          5.270153999328613,
          1.1300079822540283,
          5.316893100738525,
          -2.9681596755981445,
          1.5194921493530273,
          9.482786178588867,
          -0.9499678015708923,
          -1.9233571290969849,
          1.2129954099655151,
          8.338520050048828,
          -0.14673073589801788,
          12.157206535339355,
          9.463922500610352,
          10.042132377624512,
          5.178980827331543,
          8.746081352233887,
          11.226359367370605,
          8.797871589660645,
          10.346933364868164,
          12.15733814239502,
          1.7774932384490967,
          13.17412281036377,
          12.599068641662598,
          8.038471221923828,
          11.690450668334961,
          9.292303085327148,
          -0.3014625608921051,
          -3.1299517154693604,
          0.5135440826416016,
          4.246543884277344,
          3.206538677215576,
          12.679119110107422,
          0.4692622125148773,
          3.299870729446411,
          0.46821340918540955,
          6.333157539367676
         ],
         "yaxis": "y",
         "type": "scattergl"
        },
        {
         "customdata": [
          [
           "parallel_data/ru-Trac",
           "ru"
          ],
          [
           "parallel_data/ru-Trac",
           "ru"
          ],
          [
           "parallel_data/ru-Trac",
           "ru"
          ],
          [
           "parallel_data/ru-Trac",
           "ru"
          ],
          [
           "parallel_data/ru-Trac",
           "ru"
          ],
          [
           "parallel_data/ru-Trac",
           "ru"
          ],
          [
           "parallel_data/ru-Trac",
           "ru"
          ],
          [
           "parallel_data/ru-Trac",
           "ru"
          ],
          [
           "parallel_data/ru-Trac",
           "ru"
          ],
          [
           "parallel_data/ru-Trac",
           "ru"
          ],
          [
           "parallel_data/ru-Trac",
           "ru"
          ],
          [
           "parallel_data/ru-Trac",
           "ru"
          ],
          [
           "parallel_data/ru-Trac",
           "ru"
          ],
          [
           "parallel_data/ru-Trac",
           "ru"
          ],
          [
           "parallel_data/ru-Trac",
           "ru"
          ],
          [
           "parallel_data/ru-Trac",
           "ru"
          ],
          [
           "parallel_data/ru-Trac",
           "ru"
          ],
          [
           "parallel_data/ru-Trac",
           "ru"
          ],
          [
           "parallel_data/ru-Trac",
           "ru"
          ],
          [
           "parallel_data/ru-Trac",
           "ru"
          ],
          [
           "parallel_data/ru-Trac",
           "ru"
          ],
          [
           "parallel_data/ru-Trac",
           "ru"
          ],
          [
           "parallel_data/ru-Trac",
           "ru"
          ],
          [
           "parallel_data/ru-Trac",
           "ru"
          ],
          [
           "parallel_data/ru-Trac",
           "ru"
          ],
          [
           "parallel_data/ru-Trac",
           "ru"
          ],
          [
           "parallel_data/ru-Trac",
           "ru"
          ],
          [
           "parallel_data/ru-Trac",
           "ru"
          ],
          [
           "parallel_data/ru-Trac",
           "ru"
          ],
          [
           "parallel_data/ru-Trac",
           "ru"
          ],
          [
           "parallel_data/ru-Trac",
           "ru"
          ],
          [
           "parallel_data/ru-Trac",
           "ru"
          ],
          [
           "parallel_data/ru-Trac",
           "ru"
          ],
          [
           "parallel_data/ru-Trac",
           "ru"
          ],
          [
           "parallel_data/ru-Trac",
           "ru"
          ],
          [
           "parallel_data/ru-Trac",
           "ru"
          ],
          [
           "parallel_data/ru-Trac",
           "ru"
          ],
          [
           "parallel_data/ru-Trac",
           "ru"
          ],
          [
           "parallel_data/ru-Trac",
           "ru"
          ],
          [
           "parallel_data/ru-Trac",
           "ru"
          ],
          [
           "parallel_data/ru-Trac",
           "ru"
          ],
          [
           "parallel_data/ru-Trac",
           "ru"
          ],
          [
           "parallel_data/ru-Trac",
           "ru"
          ],
          [
           "parallel_data/ru-Trac",
           "ru"
          ],
          [
           "parallel_data/ru-Trac",
           "ru"
          ],
          [
           "parallel_data/ru-Trac",
           "ru"
          ],
          [
           "parallel_data/ru-Trac",
           "ru"
          ],
          [
           "parallel_data/ru-Trac",
           "ru"
          ],
          [
           "parallel_data/ru-Trac",
           "ru"
          ],
          [
           "parallel_data/ru-Trac",
           "ru"
          ],
          [
           "parallel_data/ru-Trac",
           "ru"
          ],
          [
           "parallel_data/ru-Trac",
           "ru"
          ],
          [
           "parallel_data/ru-Trac",
           "ru"
          ],
          [
           "parallel_data/ru-Trac",
           "ru"
          ],
          [
           "parallel_data/ru-Trac",
           "ru"
          ],
          [
           "parallel_data/ru-Trac",
           "ru"
          ],
          [
           "parallel_data/ru-Trac",
           "ru"
          ],
          [
           "parallel_data/ru-Trac",
           "ru"
          ],
          [
           "parallel_data/ru-Trac",
           "ru"
          ],
          [
           "parallel_data/ru-Trac",
           "ru"
          ],
          [
           "parallel_data/ru-Trac",
           "ru"
          ],
          [
           "parallel_data/ru-Trac",
           "ru"
          ],
          [
           "parallel_data/ru-Trac",
           "ru"
          ],
          [
           "parallel_data/ru-Trac",
           "ru"
          ],
          [
           "parallel_data/ru-Trac",
           "ru"
          ],
          [
           "parallel_data/ru-Trac",
           "ru"
          ],
          [
           "parallel_data/ru-Trac",
           "ru"
          ],
          [
           "parallel_data/ru-Trac",
           "ru"
          ],
          [
           "parallel_data/ru-Trac",
           "ru"
          ],
          [
           "parallel_data/ru-Trac",
           "ru"
          ],
          [
           "parallel_data/ru-Trac",
           "ru"
          ],
          [
           "parallel_data/ru-Trac",
           "ru"
          ],
          [
           "parallel_data/ru-Trac",
           "ru"
          ],
          [
           "parallel_data/ru-Trac",
           "ru"
          ],
          [
           "parallel_data/ru-Trac",
           "ru"
          ],
          [
           "parallel_data/ru-Trac",
           "ru"
          ],
          [
           "parallel_data/ru-Trac",
           "ru"
          ],
          [
           "parallel_data/ru-Trac",
           "ru"
          ],
          [
           "parallel_data/ru-Trac",
           "ru"
          ],
          [
           "parallel_data/ru-Trac",
           "ru"
          ],
          [
           "parallel_data/ru-Trac",
           "ru"
          ],
          [
           "parallel_data/ru-Trac",
           "ru"
          ],
          [
           "parallel_data/ru-Trac",
           "ru"
          ],
          [
           "parallel_data/ru-Trac",
           "ru"
          ],
          [
           "parallel_data/ru-Trac",
           "ru"
          ],
          [
           "parallel_data/ru-Trac",
           "ru"
          ],
          [
           "parallel_data/ru-Trac",
           "ru"
          ],
          [
           "parallel_data/ru-Trac",
           "ru"
          ],
          [
           "parallel_data/ru-Trac",
           "ru"
          ],
          [
           "parallel_data/ru-Trac",
           "ru"
          ],
          [
           "parallel_data/ru-Trac",
           "ru"
          ],
          [
           "parallel_data/ru-Trac",
           "ru"
          ],
          [
           "parallel_data/ru-Trac",
           "ru"
          ],
          [
           "parallel_data/ru-Trac",
           "ru"
          ],
          [
           "parallel_data/ru-Trac",
           "ru"
          ],
          [
           "parallel_data/ru-Trac",
           "ru"
          ],
          [
           "parallel_data/ru-Trac",
           "ru"
          ],
          [
           "parallel_data/ru-Trac",
           "ru"
          ],
          [
           "parallel_data/ru-Trac",
           "ru"
          ],
          [
           "parallel_data/ru-Trac",
           "ru"
          ],
          [
           "parallel_data/ru-Trac",
           "ru"
          ],
          [
           "parallel_data/ru-Trac",
           "ru"
          ],
          [
           "parallel_data/ru-Trac",
           "ru"
          ],
          [
           "parallel_data/ru-Trac",
           "ru"
          ],
          [
           "parallel_data/ru-Trac",
           "ru"
          ],
          [
           "parallel_data/ru-Trac",
           "ru"
          ],
          [
           "parallel_data/ru-Trac",
           "ru"
          ],
          [
           "parallel_data/ru-Trac",
           "ru"
          ],
          [
           "parallel_data/ru-Trac",
           "ru"
          ],
          [
           "parallel_data/ru-Trac",
           "ru"
          ],
          [
           "parallel_data/ru-Trac",
           "ru"
          ],
          [
           "parallel_data/ru-Trac",
           "ru"
          ],
          [
           "parallel_data/ru-Trac",
           "ru"
          ],
          [
           "parallel_data/ru-Trac",
           "ru"
          ],
          [
           "parallel_data/ru-Trac",
           "ru"
          ],
          [
           "parallel_data/ru-Trac",
           "ru"
          ],
          [
           "parallel_data/ru-Trac",
           "ru"
          ],
          [
           "parallel_data/ru-Trac",
           "ru"
          ],
          [
           "parallel_data/ru-Trac",
           "ru"
          ],
          [
           "parallel_data/ru-Trac",
           "ru"
          ],
          [
           "parallel_data/ru-Trac",
           "ru"
          ],
          [
           "parallel_data/ru-Trac",
           "ru"
          ],
          [
           "parallel_data/ru-Trac",
           "ru"
          ],
          [
           "parallel_data/ru-Trac",
           "ru"
          ],
          [
           "parallel_data/ru-Trac",
           "ru"
          ],
          [
           "parallel_data/ru-Trac",
           "ru"
          ],
          [
           "parallel_data/ru-Trac",
           "ru"
          ],
          [
           "parallel_data/ru-Trac",
           "ru"
          ],
          [
           "parallel_data/ru-Trac",
           "ru"
          ],
          [
           "parallel_data/ru-Trac",
           "ru"
          ],
          [
           "parallel_data/ru-Trac",
           "ru"
          ],
          [
           "parallel_data/ru-Trac",
           "ru"
          ],
          [
           "parallel_data/ru-Trac",
           "ru"
          ],
          [
           "parallel_data/ru-Trac",
           "ru"
          ],
          [
           "parallel_data/ru-Trac",
           "ru"
          ],
          [
           "parallel_data/ru-Trac",
           "ru"
          ],
          [
           "parallel_data/ru-Trac",
           "ru"
          ],
          [
           "parallel_data/ru-Trac",
           "ru"
          ],
          [
           "parallel_data/ru-Trac",
           "ru"
          ],
          [
           "parallel_data/ru-Trac",
           "ru"
          ],
          [
           "parallel_data/ru-Trac",
           "ru"
          ],
          [
           "parallel_data/ru-Trac",
           "ru"
          ],
          [
           "parallel_data/ru-Trac",
           "ru"
          ],
          [
           "parallel_data/ru-Trac",
           "ru"
          ],
          [
           "parallel_data/ru-Trac",
           "ru"
          ],
          [
           "parallel_data/ru-Trac",
           "ru"
          ],
          [
           "parallel_data/ru-Trac",
           "ru"
          ],
          [
           "parallel_data/ru-Trac",
           "ru"
          ],
          [
           "parallel_data/ru-Trac",
           "ru"
          ],
          [
           "parallel_data/ru-Trac",
           "ru"
          ],
          [
           "parallel_data/ru-Trac",
           "ru"
          ],
          [
           "parallel_data/ru-Trac",
           "ru"
          ],
          [
           "parallel_data/ru-Trac",
           "ru"
          ],
          [
           "parallel_data/ru-Trac",
           "ru"
          ],
          [
           "parallel_data/ru-Trac",
           "ru"
          ],
          [
           "parallel_data/ru-Trac",
           "ru"
          ],
          [
           "parallel_data/ru-Trac",
           "ru"
          ],
          [
           "parallel_data/ru-Trac",
           "ru"
          ],
          [
           "parallel_data/ru-Trac",
           "ru"
          ],
          [
           "parallel_data/ru-Trac",
           "ru"
          ],
          [
           "parallel_data/ru-Trac",
           "ru"
          ],
          [
           "parallel_data/ru-Trac",
           "ru"
          ],
          [
           "parallel_data/ru-Trac",
           "ru"
          ],
          [
           "parallel_data/ru-Trac",
           "ru"
          ],
          [
           "parallel_data/ru-Trac",
           "ru"
          ],
          [
           "parallel_data/ru-Trac",
           "ru"
          ],
          [
           "parallel_data/ru-Trac",
           "ru"
          ],
          [
           "parallel_data/ru-Trac",
           "ru"
          ],
          [
           "parallel_data/ru-Trac",
           "ru"
          ],
          [
           "parallel_data/ru-Trac",
           "ru"
          ],
          [
           "parallel_data/ru-Trac",
           "ru"
          ],
          [
           "parallel_data/ru-Trac",
           "ru"
          ],
          [
           "parallel_data/ru-Trac",
           "ru"
          ],
          [
           "parallel_data/ru-Trac",
           "ru"
          ],
          [
           "parallel_data/ru-Trac",
           "ru"
          ],
          [
           "parallel_data/ru-Trac",
           "ru"
          ],
          [
           "parallel_data/ru-Trac",
           "ru"
          ],
          [
           "parallel_data/ru-Trac",
           "ru"
          ],
          [
           "parallel_data/ru-Trac",
           "ru"
          ],
          [
           "parallel_data/ru-Trac",
           "ru"
          ],
          [
           "parallel_data/ru-Trac",
           "ru"
          ],
          [
           "parallel_data/ru-Trac",
           "ru"
          ],
          [
           "parallel_data/ru-Trac",
           "ru"
          ],
          [
           "parallel_data/ru-Trac",
           "ru"
          ],
          [
           "parallel_data/ru-Trac",
           "ru"
          ],
          [
           "parallel_data/ru-Trac",
           "ru"
          ],
          [
           "parallel_data/ru-Trac",
           "ru"
          ],
          [
           "parallel_data/ru-Trac",
           "ru"
          ],
          [
           "parallel_data/ru-Trac",
           "ru"
          ],
          [
           "parallel_data/ru-Trac",
           "ru"
          ],
          [
           "parallel_data/ru-Trac",
           "ru"
          ],
          [
           "parallel_data/ru-Trac",
           "ru"
          ],
          [
           "parallel_data/ru-Trac",
           "ru"
          ],
          [
           "parallel_data/ru-Trac",
           "ru"
          ],
          [
           "parallel_data/ru-Trac",
           "ru"
          ],
          [
           "parallel_data/ru-Trac",
           "ru"
          ],
          [
           "parallel_data/ru-Trac",
           "ru"
          ],
          [
           "parallel_data/ru-Trac",
           "ru"
          ],
          [
           "parallel_data/ru-Trac",
           "ru"
          ],
          [
           "parallel_data/ru-Trac",
           "ru"
          ],
          [
           "parallel_data/ru-Trac",
           "ru"
          ],
          [
           "parallel_data/ru-Trac",
           "ru"
          ],
          [
           "parallel_data/ru-Trac",
           "ru"
          ],
          [
           "parallel_data/ru-Trac",
           "ru"
          ],
          [
           "parallel_data/ru-Trac",
           "ru"
          ],
          [
           "parallel_data/ru-Trac",
           "ru"
          ],
          [
           "parallel_data/ru-Trac",
           "ru"
          ],
          [
           "parallel_data/ru-Trac",
           "ru"
          ],
          [
           "parallel_data/ru-Trac",
           "ru"
          ],
          [
           "parallel_data/ru-Trac",
           "ru"
          ],
          [
           "parallel_data/ru-Trac",
           "ru"
          ],
          [
           "parallel_data/ru-Trac",
           "ru"
          ],
          [
           "parallel_data/ru-Trac",
           "ru"
          ],
          [
           "parallel_data/ru-Trac",
           "ru"
          ],
          [
           "parallel_data/ru-Trac",
           "ru"
          ],
          [
           "parallel_data/ru-Trac",
           "ru"
          ],
          [
           "parallel_data/ru-Trac",
           "ru"
          ],
          [
           "parallel_data/ru-Trac",
           "ru"
          ],
          [
           "parallel_data/ru-Trac",
           "ru"
          ],
          [
           "parallel_data/ru-Trac",
           "ru"
          ],
          [
           "parallel_data/ru-Trac",
           "ru"
          ],
          [
           "parallel_data/ru-Trac",
           "ru"
          ],
          [
           "parallel_data/ru-Trac",
           "ru"
          ],
          [
           "parallel_data/ru-Trac",
           "ru"
          ],
          [
           "parallel_data/ru-Trac",
           "ru"
          ],
          [
           "parallel_data/ru-Trac",
           "ru"
          ],
          [
           "parallel_data/ru-Trac",
           "ru"
          ],
          [
           "parallel_data/ru-Trac",
           "ru"
          ],
          [
           "parallel_data/ru-Trac",
           "ru"
          ],
          [
           "parallel_data/ru-Trac",
           "ru"
          ],
          [
           "parallel_data/ru-Trac",
           "ru"
          ],
          [
           "parallel_data/ru-Trac",
           "ru"
          ],
          [
           "parallel_data/ru-Trac",
           "ru"
          ],
          [
           "parallel_data/ru-Trac",
           "ru"
          ],
          [
           "parallel_data/ru-Trac",
           "ru"
          ],
          [
           "parallel_data/ru-Trac",
           "ru"
          ],
          [
           "parallel_data/ru-Trac",
           "ru"
          ],
          [
           "parallel_data/ru-Trac",
           "ru"
          ],
          [
           "parallel_data/ru-Trac",
           "ru"
          ],
          [
           "parallel_data/ru-Trac",
           "ru"
          ],
          [
           "parallel_data/ru-Trac",
           "ru"
          ],
          [
           "parallel_data/ru-Trac",
           "ru"
          ],
          [
           "parallel_data/ru-Trac",
           "ru"
          ],
          [
           "parallel_data/ru-Trac",
           "ru"
          ],
          [
           "parallel_data/ru-Trac",
           "ru"
          ],
          [
           "parallel_data/ru-Trac",
           "ru"
          ],
          [
           "parallel_data/ru-Trac",
           "ru"
          ],
          [
           "parallel_data/ru-Trac",
           "ru"
          ],
          [
           "parallel_data/ru-Trac",
           "ru"
          ],
          [
           "parallel_data/ru-Trac",
           "ru"
          ],
          [
           "parallel_data/ru-Trac",
           "ru"
          ],
          [
           "parallel_data/ru-Trac",
           "ru"
          ],
          [
           "parallel_data/ru-Trac",
           "ru"
          ],
          [
           "parallel_data/ru-Trac",
           "ru"
          ],
          [
           "parallel_data/ru-Trac",
           "ru"
          ],
          [
           "parallel_data/ru-Trac",
           "ru"
          ],
          [
           "parallel_data/ru-Trac",
           "ru"
          ],
          [
           "parallel_data/ru-Trac",
           "ru"
          ],
          [
           "parallel_data/ru-Trac",
           "ru"
          ],
          [
           "parallel_data/ru-Trac",
           "ru"
          ],
          [
           "parallel_data/ru-Trac",
           "ru"
          ],
          [
           "parallel_data/ru-Trac",
           "ru"
          ],
          [
           "parallel_data/ru-Trac",
           "ru"
          ],
          [
           "parallel_data/ru-Trac",
           "ru"
          ],
          [
           "parallel_data/ru-Trac",
           "ru"
          ],
          [
           "parallel_data/ru-Trac",
           "ru"
          ],
          [
           "parallel_data/ru-Trac",
           "ru"
          ],
          [
           "parallel_data/ru-Trac",
           "ru"
          ],
          [
           "parallel_data/ru-Trac",
           "ru"
          ],
          [
           "parallel_data/ru-Trac",
           "ru"
          ],
          [
           "parallel_data/ru-Trac",
           "ru"
          ],
          [
           "parallel_data/ru-Trac",
           "ru"
          ],
          [
           "parallel_data/ru-Trac",
           "ru"
          ],
          [
           "parallel_data/ru-Trac",
           "ru"
          ],
          [
           "parallel_data/ru-Trac",
           "ru"
          ],
          [
           "parallel_data/ru-Trac",
           "ru"
          ],
          [
           "parallel_data/ru-Trac",
           "ru"
          ],
          [
           "parallel_data/ru-Trac",
           "ru"
          ],
          [
           "parallel_data/ru-Trac",
           "ru"
          ],
          [
           "parallel_data/ru-Trac",
           "ru"
          ],
          [
           "parallel_data/ru-Trac",
           "ru"
          ],
          [
           "parallel_data/ru-Trac",
           "ru"
          ],
          [
           "parallel_data/ru-Trac",
           "ru"
          ],
          [
           "parallel_data/ru-Trac",
           "ru"
          ],
          [
           "parallel_data/ru-Trac",
           "ru"
          ],
          [
           "parallel_data/ru-Trac",
           "ru"
          ],
          [
           "parallel_data/ru-Trac",
           "ru"
          ],
          [
           "parallel_data/ru-Trac",
           "ru"
          ],
          [
           "parallel_data/ru-Trac",
           "ru"
          ],
          [
           "parallel_data/ru-Trac",
           "ru"
          ],
          [
           "parallel_data/ru-Trac",
           "ru"
          ],
          [
           "parallel_data/ru-Trac",
           "ru"
          ],
          [
           "parallel_data/ru-Trac",
           "ru"
          ],
          [
           "parallel_data/ru-Trac",
           "ru"
          ],
          [
           "parallel_data/ru-Trac",
           "ru"
          ],
          [
           "parallel_data/ru-Trac",
           "ru"
          ],
          [
           "parallel_data/ru-Trac",
           "ru"
          ],
          [
           "parallel_data/ru-Trac",
           "ru"
          ],
          [
           "parallel_data/ru-Trac",
           "ru"
          ],
          [
           "parallel_data/ru-Trac",
           "ru"
          ]
         ],
         "hovertemplate": "language=%{customdata[1]}<br>x=%{x}<br>y=%{y}<br>dataset_name=%{customdata[0]}<extra></extra>",
         "legendgroup": "ru",
         "marker": {
          "color": "#FFA15A",
          "symbol": "circle"
         },
         "mode": "markers",
         "name": "ru",
         "showlegend": true,
         "x": [
          5.222680568695068,
          6.842496871948242,
          7.2264227867126465,
          -5.822744846343994,
          -4.96500825881958,
          9.355596542358398,
          -4.871209621429443,
          -1.1834793090820312,
          2.929004430770874,
          -0.2407217025756836,
          0.9425442218780518,
          3.7342662811279297,
          5.365593910217285,
          7.430538654327393,
          -0.877609372138977,
          11.986942291259766,
          -3.5869534015655518,
          2.5665719509124756,
          5.017531871795654,
          -3.640881299972534,
          -2.2014613151550293,
          0.321410596370697,
          2.1669535636901855,
          -1.9464845657348633,
          9.153125762939453,
          -0.3412138521671295,
          9.127756118774414,
          9.498693466186523,
          3.4053618907928467,
          -2.4528448581695557,
          2.942887783050537,
          6.456881999969482,
          1.7254081964492798,
          -0.9836630821228027,
          -2.0839505195617676,
          2.013660192489624,
          0.07183165103197098,
          7.022408962249756,
          5.1152143478393555,
          -1.4894579648971558,
          3.975994825363159,
          7.29236364364624,
          -0.9143033623695374,
          -3.361558437347412,
          2.648073434829712,
          -4.068121910095215,
          -0.6464765667915344,
          -2.13869047164917,
          9.12082576751709,
          -3.7533159255981445,
          1.2546722888946533,
          7.335289478302002,
          4.88258695602417,
          0.5260894894599915,
          3.7456917762756348,
          2.5076711177825928,
          4.136903285980225,
          1.0936857461929321,
          4.064239501953125,
          11.005640029907227,
          6.789000988006592,
          0.20439867675304413,
          -1.8809808492660522,
          -1.7913269996643066,
          0.9344310164451599,
          0.9160665273666382,
          4.801754474639893,
          0.31952327489852905,
          6.284415245056152,
          8.344136238098145,
          1.2925935983657837,
          4.847675323486328,
          -1.9499917030334473,
          2.6609041690826416,
          4.740604400634766,
          -1.065340518951416,
          0.5197155475616455,
          -0.3568214178085327,
          -5.552679061889648,
          5.642434120178223,
          3.187289237976074,
          -0.0784207284450531,
          5.076274394989014,
          -3.1976356506347656,
          3.6762592792510986,
          7.3867645263671875,
          4.233213901519775,
          -4.242037296295166,
          6.256241798400879,
          10.333568572998047,
          8.06309986114502,
          3.3820815086364746,
          5.157278537750244,
          3.1939034461975098,
          7.536431789398193,
          2.403364896774292,
          4.265537261962891,
          11.772405624389648,
          -7.610163688659668,
          0.26037710905075073,
          -0.7795661091804504,
          6.727267265319824,
          4.28322172164917,
          5.69784688949585,
          -8.600861549377441,
          -1.6055546998977661,
          0.6297557950019836,
          0.7310930490493774,
          -8.274755477905273,
          5.807432174682617,
          -2.392123222351074,
          -3.7686829566955566,
          1.9508329629898071,
          7.398496150970459,
          -0.026723163202404976,
          2.7471909523010254,
          0.10527203232049942,
          -0.5889545679092407,
          -2.054548740386963,
          4.301572322845459,
          7.813228607177734,
          6.89595890045166,
          2.8223936557769775,
          5.369848251342773,
          3.7186145782470703,
          -7.355093479156494,
          1.5709607601165771,
          5.76798677444458,
          2.4807980060577393,
          -2.7209248542785645,
          0.8340377807617188,
          3.179041862487793,
          -1.9600610733032227,
          -3.551938772201538,
          12.110523223876953,
          7.074970722198486,
          -2.057312250137329,
          -8.68896198272705,
          8.8189115524292,
          6.495009422302246,
          -2.7138328552246094,
          8.549649238586426,
          0.7563835978507996,
          5.986515522003174,
          6.96813440322876,
          0.8382969498634338,
          3.8620212078094482,
          -3.8397998809814453,
          -5.539830684661865,
          -1.461335301399231,
          8.545679092407227,
          3.5844290256500244,
          0.8169997334480286,
          3.0573599338531494,
          -1.9958583116531372,
          -0.6518861651420593,
          3.9613020420074463,
          3.5657806396484375,
          2.8866539001464844,
          1.983488917350769,
          10.235377311706543,
          4.580904006958008,
          4.0050129890441895,
          4.17494010925293,
          -7.98637056350708,
          4.400689125061035,
          0.42585518956184387,
          -4.121860504150391,
          -0.12442900240421295,
          -3.7121622562408447,
          5.445885181427002,
          -1.4592541456222534,
          4.186092376708984,
          1.6294567584991455,
          6.18270206451416,
          -0.5550565719604492,
          1.361648440361023,
          3.3012278079986572,
          -3.3155481815338135,
          -0.6636896729469299,
          2.2431533336639404,
          1.011163592338562,
          -5.73817253112793,
          5.400346279144287,
          1.3512991666793823,
          -8.280150413513184,
          10.069412231445312,
          2.5685107707977295,
          1.93204665184021,
          1.7231245040893555,
          -1.284613013267517,
          -7.374829292297363,
          2.2065606117248535,
          -3.41683292388916,
          2.9386491775512695,
          3.395815849304199,
          1.044944167137146,
          0.2003781497478485,
          -1.1887617111206055,
          -2.146111011505127,
          -1.831984043121338,
          -8.171741485595703,
          1.4123669862747192,
          -4.882497787475586,
          0.7372055649757385,
          7.286221027374268,
          -2.814091444015503,
          5.0257768630981445,
          -5.401401996612549,
          -2.206254482269287,
          11.122734069824219,
          8.038804054260254,
          -8.047174453735352,
          2.3087985515594482,
          -6.746253490447998,
          -1.050070881843567,
          -1.386067271232605,
          6.783115863800049,
          1.7289165258407593,
          3.2331080436706543,
          -2.931274890899658,
          9.310874938964844,
          7.0283732414245605,
          4.260969161987305,
          0.04522119462490082,
          5.434637069702148,
          -8.0879487991333,
          10.262852668762207,
          4.677706241607666,
          6.696401596069336,
          0.14154399931430817,
          6.777060031890869,
          4.383521556854248,
          6.855441093444824,
          1.510785460472107,
          -3.1252872943878174,
          2.0667362213134766,
          7.004960536956787,
          -1.174154281616211,
          11.433435440063477,
          1.843087911605835,
          -1.8923593759536743,
          6.325119972229004,
          6.265377044677734,
          2.433533191680908,
          1.380730152130127,
          -7.378175735473633,
          -4.353816986083984,
          2.7526276111602783,
          2.609260082244873,
          7.199849605560303,
          1.746766209602356,
          -1.5662000179290771,
          -0.035631194710731506,
          -2.615741491317749,
          -5.176103591918945,
          -3.561857223510742,
          1.2528655529022217,
          4.1730523109436035,
          2.021005630493164,
          -0.5447162985801697,
          -3.341367483139038,
          -1.6172455549240112,
          3.356628656387329,
          -0.026206519454717636,
          -7.834614276885986,
          7.939151763916016,
          1.12523353099823,
          -1.7612590789794922,
          -1.3224238157272339,
          -2.768261671066284,
          3.4545960426330566,
          2.262404203414917,
          -0.999563455581665,
          -3.5344221591949463,
          1.6914469003677368,
          1.3506557941436768,
          5.140200614929199,
          7.453202247619629,
          0.566666305065155,
          2.7146995067596436,
          8.917374610900879,
          -0.46605736017227173,
          2.2647602558135986,
          -2.7906901836395264,
          4.147943019866943,
          5.049539089202881,
          1.8764854669570923,
          1.9992613792419434,
          -1.058081030845642,
          -5.641515254974365,
          0.6040476560592651,
          -4.242488861083984,
          -0.866008460521698,
          0.5267350673675537,
          2.154679536819458,
          -2.9878063201904297,
          -0.2348242849111557,
          6.071516990661621,
          0.2045813500881195
         ],
         "xaxis": "x",
         "y": [
          2.863260507583618,
          5.652773380279541,
          3.845935344696045,
          0.7509052753448486,
          2.358931064605713,
          4.872659206390381,
          1.1872600317001343,
          -0.44612762331962585,
          6.883590221405029,
          -4.4092254638671875,
          6.084283828735352,
          0.13927596807479858,
          5.056027889251709,
          1.0601880550384521,
          1.3502541780471802,
          1.000203013420105,
          1.484722375869751,
          -1.8404266834259033,
          11.778278350830078,
          -0.8193452954292297,
          3.9097132682800293,
          8.498502731323242,
          7.392566680908203,
          0.4504706859588623,
          7.615213871002197,
          7.022247314453125,
          5.833218097686768,
          4.652843475341797,
          5.232796669006348,
          0.2818840444087982,
          7.774689674377441,
          -1.3871405124664307,
          12.593835830688477,
          7.075291633605957,
          11.863917350769043,
          13.712749481201172,
          0.6768864393234253,
          2.5776560306549072,
          3.210970401763916,
          -4.010359764099121,
          6.860078811645508,
          0.04150334745645523,
          5.376345634460449,
          -0.07435254007577896,
          7.576352119445801,
          0.9929114580154419,
          8.20555591583252,
          3.9756200313568115,
          4.055945873260498,
          8.864728927612305,
          11.581974983215332,
          8.55246639251709,
          10.14980411529541,
          2.3041317462921143,
          0.3441368639469147,
          1.9047586917877197,
          11.174692153930664,
          3.6483418941497803,
          3.878025770187378,
          8.217825889587402,
          4.047410011291504,
          0.8516181111335754,
          15.134251594543457,
          0.9573408961296082,
          7.318937301635742,
          3.402712345123291,
          3.9971961975097656,
          4.06529426574707,
          5.066554069519043,
          8.526947975158691,
          12.189873695373535,
          7.558181285858154,
          15.767058372497559,
          8.644448280334473,
          4.680410861968994,
          9.835963249206543,
          11.366120338439941,
          8.575248718261719,
          3.574965238571167,
          3.9171276092529297,
          5.403851509094238,
          4.927166938781738,
          7.309040546417236,
          3.7253801822662354,
          5.528470993041992,
          7.119362831115723,
          13.013930320739746,
          8.790812492370605,
          9.216753005981445,
          3.755061149597168,
          5.268313407897949,
          13.835256576538086,
          7.212905406951904,
          14.01544189453125,
          13.685216903686523,
          10.825316429138184,
          6.672019958496094,
          1.1914665699005127,
          0.5051466822624207,
          6.630120754241943,
          13.11273193359375,
          8.754556655883789,
          -0.20395663380622864,
          9.935152053833008,
          6.977728843688965,
          7.942741870880127,
          4.822507381439209,
          6.156048774719238,
          6.6559295654296875,
          5.780034065246582,
          0.6245489716529846,
          5.680418014526367,
          12.825693130493164,
          3.942082166671753,
          7.767118453979492,
          -0.998054563999176,
          7.075694561004639,
          12.269615173339844,
          0.9912985563278198,
          12.561341285705566,
          11.775317192077637,
          6.459529876708984,
          5.416207313537598,
          6.80150842666626,
          10.792799949645996,
          0.8467983603477478,
          3.1178290843963623,
          3.6513195037841797,
          -2.017361640930176,
          7.040796279907227,
          3.8873820304870605,
          14.778958320617676,
          15.240330696105957,
          3.0812466144561768,
          0.8763520121574402,
          3.6491167545318604,
          6.652903079986572,
          6.862213134765625,
          3.9229676723480225,
          7.041823387145996,
          1.5342743396759033,
          3.3672099113464355,
          7.4117279052734375,
          9.886453628540039,
          1.5585867166519165,
          -3.1740615367889404,
          2.309326171875,
          1.8308974504470825,
          6.590939521789551,
          -0.8479209542274475,
          8.686491966247559,
          11.728398323059082,
          1.8896355628967285,
          11.809406280517578,
          6.39532470703125,
          8.736494064331055,
          10.257590293884277,
          15.519912719726562,
          11.739767074584961,
          5.816467761993408,
          11.114021301269531,
          6.757011413574219,
          8.505434036254883,
          5.603634357452393,
          1.2095484733581543,
          5.036888599395752,
          10.763813018798828,
          1.9379271268844604,
          10.4268159866333,
          8.80968952178955,
          8.767986297607422,
          2.59604549407959,
          -0.1070065051317215,
          11.296724319458008,
          8.39594554901123,
          5.678371906280518,
          9.993918418884277,
          0.0012031260412186384,
          12.617158889770508,
          7.248751640319824,
          11.232666015625,
          4.1246867179870605,
          2.163296937942505,
          5.696862697601318,
          6.1229448318481445,
          6.8402557373046875,
          11.388216972351074,
          7.60992431640625,
          4.518223285675049,
          4.362575054168701,
          1.2948464155197144,
          6.658482074737549,
          11.429859161376953,
          -2.654201030731201,
          9.350473403930664,
          9.27237319946289,
          10.460530281066895,
          4.38918924331665,
          -1.3112741708755493,
          -0.0998457670211792,
          2.529191493988037,
          2.5744588375091553,
          -2.750419855117798,
          -0.15592774748802185,
          10.215372085571289,
          5.869844436645508,
          2.3653628826141357,
          3.4516215324401855,
          3.4142324924468994,
          -0.23945994675159454,
          8.310331344604492,
          6.144342422485352,
          2.477191209793091,
          2.036067485809326,
          0.6545122265815735,
          4.372407913208008,
          9.690279006958008,
          3.4261252880096436,
          7.268653869628906,
          12.6009521484375,
          1.2961925268173218,
          7.69761848449707,
          9.838638305664062,
          12.977897644042969,
          3.085549831390381,
          6.528951168060303,
          6.716436386108398,
          11.082181930541992,
          13.227352142333984,
          15.347081184387207,
          -0.0025202962569892406,
          3.41402530670166,
          8.016546249389648,
          8.849339485168457,
          13.953182220458984,
          13.80263614654541,
          13.876280784606934,
          3.0650506019592285,
          5.66182804107666,
          6.580530166625977,
          8.921587944030762,
          15.712125778198242,
          8.008008003234863,
          5.910905838012695,
          9.003323554992676,
          6.694652557373047,
          0.9823099970817566,
          -0.018989864736795425,
          -1.5607309341430664,
          3.6202869415283203,
          6.731680870056152,
          2.550335168838501,
          -0.8223586678504944,
          7.050421714782715,
          3.9883294105529785,
          0.9871816039085388,
          -1.138993501663208,
          11.101459503173828,
          5.144418239593506,
          1.646823763847351,
          10.709465026855469,
          4.289669990539551,
          2.312161445617676,
          0.01673269271850586,
          5.267910957336426,
          1.083293080329895,
          5.342878818511963,
          -2.9841718673706055,
          1.5459179878234863,
          9.494620323181152,
          -0.9524937868118286,
          -1.9572497606277466,
          1.2660062313079834,
          8.345512390136719,
          -0.12574563920497894,
          12.135345458984375,
          9.457932472229004,
          10.047511100769043,
          5.204355239868164,
          8.791373252868652,
          11.26503849029541,
          8.800556182861328,
          10.331974983215332,
          12.10888957977295,
          1.7187044620513916,
          13.163734436035156,
          12.62550163269043,
          8.030105590820312,
          11.694208145141602,
          9.330388069152832,
          -0.30369099974632263,
          -3.1168501377105713,
          0.5053706169128418,
          4.272809982299805,
          3.1946041584014893,
          12.64588737487793,
          0.4732741415500641,
          3.318645715713501,
          0.4688017666339874,
          6.359158992767334
         ],
         "yaxis": "y",
         "type": "scattergl"
        },
        {
         "customdata": [
          [
           "parallel_data/sq-Trac",
           "sq"
          ],
          [
           "parallel_data/sq-Trac",
           "sq"
          ],
          [
           "parallel_data/sq-Trac",
           "sq"
          ],
          [
           "parallel_data/sq-Trac",
           "sq"
          ],
          [
           "parallel_data/sq-Trac",
           "sq"
          ],
          [
           "parallel_data/sq-Trac",
           "sq"
          ],
          [
           "parallel_data/sq-Trac",
           "sq"
          ],
          [
           "parallel_data/sq-Trac",
           "sq"
          ],
          [
           "parallel_data/sq-Trac",
           "sq"
          ],
          [
           "parallel_data/sq-Trac",
           "sq"
          ],
          [
           "parallel_data/sq-Trac",
           "sq"
          ],
          [
           "parallel_data/sq-Trac",
           "sq"
          ],
          [
           "parallel_data/sq-Trac",
           "sq"
          ],
          [
           "parallel_data/sq-Trac",
           "sq"
          ],
          [
           "parallel_data/sq-Trac",
           "sq"
          ],
          [
           "parallel_data/sq-Trac",
           "sq"
          ],
          [
           "parallel_data/sq-Trac",
           "sq"
          ],
          [
           "parallel_data/sq-Trac",
           "sq"
          ],
          [
           "parallel_data/sq-Trac",
           "sq"
          ],
          [
           "parallel_data/sq-Trac",
           "sq"
          ],
          [
           "parallel_data/sq-Trac",
           "sq"
          ],
          [
           "parallel_data/sq-Trac",
           "sq"
          ],
          [
           "parallel_data/sq-Trac",
           "sq"
          ],
          [
           "parallel_data/sq-Trac",
           "sq"
          ],
          [
           "parallel_data/sq-Trac",
           "sq"
          ],
          [
           "parallel_data/sq-Trac",
           "sq"
          ],
          [
           "parallel_data/sq-Trac",
           "sq"
          ],
          [
           "parallel_data/sq-Trac",
           "sq"
          ],
          [
           "parallel_data/sq-Trac",
           "sq"
          ],
          [
           "parallel_data/sq-Trac",
           "sq"
          ],
          [
           "parallel_data/sq-Trac",
           "sq"
          ],
          [
           "parallel_data/sq-Trac",
           "sq"
          ],
          [
           "parallel_data/sq-Trac",
           "sq"
          ],
          [
           "parallel_data/sq-Trac",
           "sq"
          ],
          [
           "parallel_data/sq-Trac",
           "sq"
          ],
          [
           "parallel_data/sq-Trac",
           "sq"
          ],
          [
           "parallel_data/sq-Trac",
           "sq"
          ],
          [
           "parallel_data/sq-Trac",
           "sq"
          ],
          [
           "parallel_data/sq-Trac",
           "sq"
          ],
          [
           "parallel_data/sq-Trac",
           "sq"
          ],
          [
           "parallel_data/sq-Trac",
           "sq"
          ],
          [
           "parallel_data/sq-Trac",
           "sq"
          ],
          [
           "parallel_data/sq-Trac",
           "sq"
          ],
          [
           "parallel_data/sq-Trac",
           "sq"
          ],
          [
           "parallel_data/sq-Trac",
           "sq"
          ],
          [
           "parallel_data/sq-Trac",
           "sq"
          ],
          [
           "parallel_data/sq-Trac",
           "sq"
          ],
          [
           "parallel_data/sq-Trac",
           "sq"
          ],
          [
           "parallel_data/sq-Trac",
           "sq"
          ],
          [
           "parallel_data/sq-Trac",
           "sq"
          ],
          [
           "parallel_data/sq-Trac",
           "sq"
          ],
          [
           "parallel_data/sq-Trac",
           "sq"
          ],
          [
           "parallel_data/sq-Trac",
           "sq"
          ],
          [
           "parallel_data/sq-Trac",
           "sq"
          ],
          [
           "parallel_data/sq-Trac",
           "sq"
          ],
          [
           "parallel_data/sq-Trac",
           "sq"
          ],
          [
           "parallel_data/sq-Trac",
           "sq"
          ],
          [
           "parallel_data/sq-Trac",
           "sq"
          ],
          [
           "parallel_data/sq-Trac",
           "sq"
          ],
          [
           "parallel_data/sq-Trac",
           "sq"
          ],
          [
           "parallel_data/sq-Trac",
           "sq"
          ],
          [
           "parallel_data/sq-Trac",
           "sq"
          ],
          [
           "parallel_data/sq-Trac",
           "sq"
          ],
          [
           "parallel_data/sq-Trac",
           "sq"
          ],
          [
           "parallel_data/sq-Trac",
           "sq"
          ],
          [
           "parallel_data/sq-Trac",
           "sq"
          ],
          [
           "parallel_data/sq-Trac",
           "sq"
          ],
          [
           "parallel_data/sq-Trac",
           "sq"
          ],
          [
           "parallel_data/sq-Trac",
           "sq"
          ],
          [
           "parallel_data/sq-Trac",
           "sq"
          ],
          [
           "parallel_data/sq-Trac",
           "sq"
          ],
          [
           "parallel_data/sq-Trac",
           "sq"
          ],
          [
           "parallel_data/sq-Trac",
           "sq"
          ],
          [
           "parallel_data/sq-Trac",
           "sq"
          ],
          [
           "parallel_data/sq-Trac",
           "sq"
          ],
          [
           "parallel_data/sq-Trac",
           "sq"
          ],
          [
           "parallel_data/sq-Trac",
           "sq"
          ],
          [
           "parallel_data/sq-Trac",
           "sq"
          ],
          [
           "parallel_data/sq-Trac",
           "sq"
          ],
          [
           "parallel_data/sq-Trac",
           "sq"
          ],
          [
           "parallel_data/sq-Trac",
           "sq"
          ],
          [
           "parallel_data/sq-Trac",
           "sq"
          ],
          [
           "parallel_data/sq-Trac",
           "sq"
          ],
          [
           "parallel_data/sq-Trac",
           "sq"
          ],
          [
           "parallel_data/sq-Trac",
           "sq"
          ],
          [
           "parallel_data/sq-Trac",
           "sq"
          ],
          [
           "parallel_data/sq-Trac",
           "sq"
          ],
          [
           "parallel_data/sq-Trac",
           "sq"
          ],
          [
           "parallel_data/sq-Trac",
           "sq"
          ],
          [
           "parallel_data/sq-Trac",
           "sq"
          ],
          [
           "parallel_data/sq-Trac",
           "sq"
          ],
          [
           "parallel_data/sq-Trac",
           "sq"
          ],
          [
           "parallel_data/sq-Trac",
           "sq"
          ],
          [
           "parallel_data/sq-Trac",
           "sq"
          ],
          [
           "parallel_data/sq-Trac",
           "sq"
          ],
          [
           "parallel_data/sq-Trac",
           "sq"
          ],
          [
           "parallel_data/sq-Trac",
           "sq"
          ],
          [
           "parallel_data/sq-Trac",
           "sq"
          ],
          [
           "parallel_data/sq-Trac",
           "sq"
          ],
          [
           "parallel_data/sq-Trac",
           "sq"
          ],
          [
           "parallel_data/sq-Trac",
           "sq"
          ],
          [
           "parallel_data/sq-Trac",
           "sq"
          ],
          [
           "parallel_data/sq-Trac",
           "sq"
          ],
          [
           "parallel_data/sq-Trac",
           "sq"
          ],
          [
           "parallel_data/sq-Trac",
           "sq"
          ],
          [
           "parallel_data/sq-Trac",
           "sq"
          ],
          [
           "parallel_data/sq-Trac",
           "sq"
          ],
          [
           "parallel_data/sq-Trac",
           "sq"
          ],
          [
           "parallel_data/sq-Trac",
           "sq"
          ],
          [
           "parallel_data/sq-Trac",
           "sq"
          ],
          [
           "parallel_data/sq-Trac",
           "sq"
          ],
          [
           "parallel_data/sq-Trac",
           "sq"
          ],
          [
           "parallel_data/sq-Trac",
           "sq"
          ],
          [
           "parallel_data/sq-Trac",
           "sq"
          ],
          [
           "parallel_data/sq-Trac",
           "sq"
          ],
          [
           "parallel_data/sq-Trac",
           "sq"
          ],
          [
           "parallel_data/sq-Trac",
           "sq"
          ],
          [
           "parallel_data/sq-Trac",
           "sq"
          ],
          [
           "parallel_data/sq-Trac",
           "sq"
          ],
          [
           "parallel_data/sq-Trac",
           "sq"
          ],
          [
           "parallel_data/sq-Trac",
           "sq"
          ],
          [
           "parallel_data/sq-Trac",
           "sq"
          ],
          [
           "parallel_data/sq-Trac",
           "sq"
          ],
          [
           "parallel_data/sq-Trac",
           "sq"
          ],
          [
           "parallel_data/sq-Trac",
           "sq"
          ],
          [
           "parallel_data/sq-Trac",
           "sq"
          ],
          [
           "parallel_data/sq-Trac",
           "sq"
          ],
          [
           "parallel_data/sq-Trac",
           "sq"
          ],
          [
           "parallel_data/sq-Trac",
           "sq"
          ],
          [
           "parallel_data/sq-Trac",
           "sq"
          ],
          [
           "parallel_data/sq-Trac",
           "sq"
          ],
          [
           "parallel_data/sq-Trac",
           "sq"
          ],
          [
           "parallel_data/sq-Trac",
           "sq"
          ],
          [
           "parallel_data/sq-Trac",
           "sq"
          ],
          [
           "parallel_data/sq-Trac",
           "sq"
          ],
          [
           "parallel_data/sq-Trac",
           "sq"
          ],
          [
           "parallel_data/sq-Trac",
           "sq"
          ],
          [
           "parallel_data/sq-Trac",
           "sq"
          ],
          [
           "parallel_data/sq-Trac",
           "sq"
          ],
          [
           "parallel_data/sq-Trac",
           "sq"
          ],
          [
           "parallel_data/sq-Trac",
           "sq"
          ],
          [
           "parallel_data/sq-Trac",
           "sq"
          ],
          [
           "parallel_data/sq-Trac",
           "sq"
          ],
          [
           "parallel_data/sq-Trac",
           "sq"
          ],
          [
           "parallel_data/sq-Trac",
           "sq"
          ],
          [
           "parallel_data/sq-Trac",
           "sq"
          ],
          [
           "parallel_data/sq-Trac",
           "sq"
          ],
          [
           "parallel_data/sq-Trac",
           "sq"
          ],
          [
           "parallel_data/sq-Trac",
           "sq"
          ],
          [
           "parallel_data/sq-Trac",
           "sq"
          ],
          [
           "parallel_data/sq-Trac",
           "sq"
          ],
          [
           "parallel_data/sq-Trac",
           "sq"
          ],
          [
           "parallel_data/sq-Trac",
           "sq"
          ],
          [
           "parallel_data/sq-Trac",
           "sq"
          ],
          [
           "parallel_data/sq-Trac",
           "sq"
          ],
          [
           "parallel_data/sq-Trac",
           "sq"
          ],
          [
           "parallel_data/sq-Trac",
           "sq"
          ],
          [
           "parallel_data/sq-Trac",
           "sq"
          ],
          [
           "parallel_data/sq-Trac",
           "sq"
          ],
          [
           "parallel_data/sq-Trac",
           "sq"
          ],
          [
           "parallel_data/sq-Trac",
           "sq"
          ],
          [
           "parallel_data/sq-Trac",
           "sq"
          ],
          [
           "parallel_data/sq-Trac",
           "sq"
          ],
          [
           "parallel_data/sq-Trac",
           "sq"
          ],
          [
           "parallel_data/sq-Trac",
           "sq"
          ],
          [
           "parallel_data/sq-Trac",
           "sq"
          ],
          [
           "parallel_data/sq-Trac",
           "sq"
          ],
          [
           "parallel_data/sq-Trac",
           "sq"
          ],
          [
           "parallel_data/sq-Trac",
           "sq"
          ],
          [
           "parallel_data/sq-Trac",
           "sq"
          ],
          [
           "parallel_data/sq-Trac",
           "sq"
          ],
          [
           "parallel_data/sq-Trac",
           "sq"
          ],
          [
           "parallel_data/sq-Trac",
           "sq"
          ],
          [
           "parallel_data/sq-Trac",
           "sq"
          ],
          [
           "parallel_data/sq-Trac",
           "sq"
          ],
          [
           "parallel_data/sq-Trac",
           "sq"
          ],
          [
           "parallel_data/sq-Trac",
           "sq"
          ],
          [
           "parallel_data/sq-Trac",
           "sq"
          ],
          [
           "parallel_data/sq-Trac",
           "sq"
          ],
          [
           "parallel_data/sq-Trac",
           "sq"
          ],
          [
           "parallel_data/sq-Trac",
           "sq"
          ],
          [
           "parallel_data/sq-Trac",
           "sq"
          ],
          [
           "parallel_data/sq-Trac",
           "sq"
          ],
          [
           "parallel_data/sq-Trac",
           "sq"
          ],
          [
           "parallel_data/sq-Trac",
           "sq"
          ],
          [
           "parallel_data/sq-Trac",
           "sq"
          ],
          [
           "parallel_data/sq-Trac",
           "sq"
          ],
          [
           "parallel_data/sq-Trac",
           "sq"
          ],
          [
           "parallel_data/sq-Trac",
           "sq"
          ],
          [
           "parallel_data/sq-Trac",
           "sq"
          ],
          [
           "parallel_data/sq-Trac",
           "sq"
          ],
          [
           "parallel_data/sq-Trac",
           "sq"
          ],
          [
           "parallel_data/sq-Trac",
           "sq"
          ],
          [
           "parallel_data/sq-Trac",
           "sq"
          ],
          [
           "parallel_data/sq-Trac",
           "sq"
          ],
          [
           "parallel_data/sq-Trac",
           "sq"
          ],
          [
           "parallel_data/sq-Trac",
           "sq"
          ],
          [
           "parallel_data/sq-Trac",
           "sq"
          ],
          [
           "parallel_data/sq-Trac",
           "sq"
          ],
          [
           "parallel_data/sq-Trac",
           "sq"
          ],
          [
           "parallel_data/sq-Trac",
           "sq"
          ],
          [
           "parallel_data/sq-Trac",
           "sq"
          ],
          [
           "parallel_data/sq-Trac",
           "sq"
          ],
          [
           "parallel_data/sq-Trac",
           "sq"
          ],
          [
           "parallel_data/sq-Trac",
           "sq"
          ],
          [
           "parallel_data/sq-Trac",
           "sq"
          ],
          [
           "parallel_data/sq-Trac",
           "sq"
          ],
          [
           "parallel_data/sq-Trac",
           "sq"
          ],
          [
           "parallel_data/sq-Trac",
           "sq"
          ],
          [
           "parallel_data/sq-Trac",
           "sq"
          ],
          [
           "parallel_data/sq-Trac",
           "sq"
          ],
          [
           "parallel_data/sq-Trac",
           "sq"
          ],
          [
           "parallel_data/sq-Trac",
           "sq"
          ],
          [
           "parallel_data/sq-Trac",
           "sq"
          ],
          [
           "parallel_data/sq-Trac",
           "sq"
          ],
          [
           "parallel_data/sq-Trac",
           "sq"
          ],
          [
           "parallel_data/sq-Trac",
           "sq"
          ],
          [
           "parallel_data/sq-Trac",
           "sq"
          ],
          [
           "parallel_data/sq-Trac",
           "sq"
          ],
          [
           "parallel_data/sq-Trac",
           "sq"
          ],
          [
           "parallel_data/sq-Trac",
           "sq"
          ],
          [
           "parallel_data/sq-Trac",
           "sq"
          ],
          [
           "parallel_data/sq-Trac",
           "sq"
          ],
          [
           "parallel_data/sq-Trac",
           "sq"
          ],
          [
           "parallel_data/sq-Trac",
           "sq"
          ],
          [
           "parallel_data/sq-Trac",
           "sq"
          ],
          [
           "parallel_data/sq-Trac",
           "sq"
          ],
          [
           "parallel_data/sq-Trac",
           "sq"
          ],
          [
           "parallel_data/sq-Trac",
           "sq"
          ],
          [
           "parallel_data/sq-Trac",
           "sq"
          ],
          [
           "parallel_data/sq-Trac",
           "sq"
          ],
          [
           "parallel_data/sq-Trac",
           "sq"
          ],
          [
           "parallel_data/sq-Trac",
           "sq"
          ],
          [
           "parallel_data/sq-Trac",
           "sq"
          ],
          [
           "parallel_data/sq-Trac",
           "sq"
          ],
          [
           "parallel_data/sq-Trac",
           "sq"
          ],
          [
           "parallel_data/sq-Trac",
           "sq"
          ],
          [
           "parallel_data/sq-Trac",
           "sq"
          ],
          [
           "parallel_data/sq-Trac",
           "sq"
          ],
          [
           "parallel_data/sq-Trac",
           "sq"
          ],
          [
           "parallel_data/sq-Trac",
           "sq"
          ],
          [
           "parallel_data/sq-Trac",
           "sq"
          ],
          [
           "parallel_data/sq-Trac",
           "sq"
          ],
          [
           "parallel_data/sq-Trac",
           "sq"
          ],
          [
           "parallel_data/sq-Trac",
           "sq"
          ],
          [
           "parallel_data/sq-Trac",
           "sq"
          ],
          [
           "parallel_data/sq-Trac",
           "sq"
          ],
          [
           "parallel_data/sq-Trac",
           "sq"
          ],
          [
           "parallel_data/sq-Trac",
           "sq"
          ],
          [
           "parallel_data/sq-Trac",
           "sq"
          ],
          [
           "parallel_data/sq-Trac",
           "sq"
          ],
          [
           "parallel_data/sq-Trac",
           "sq"
          ],
          [
           "parallel_data/sq-Trac",
           "sq"
          ],
          [
           "parallel_data/sq-Trac",
           "sq"
          ],
          [
           "parallel_data/sq-Trac",
           "sq"
          ],
          [
           "parallel_data/sq-Trac",
           "sq"
          ],
          [
           "parallel_data/sq-Trac",
           "sq"
          ],
          [
           "parallel_data/sq-Trac",
           "sq"
          ],
          [
           "parallel_data/sq-Trac",
           "sq"
          ],
          [
           "parallel_data/sq-Trac",
           "sq"
          ],
          [
           "parallel_data/sq-Trac",
           "sq"
          ],
          [
           "parallel_data/sq-Trac",
           "sq"
          ],
          [
           "parallel_data/sq-Trac",
           "sq"
          ],
          [
           "parallel_data/sq-Trac",
           "sq"
          ],
          [
           "parallel_data/sq-Trac",
           "sq"
          ],
          [
           "parallel_data/sq-Trac",
           "sq"
          ],
          [
           "parallel_data/sq-Trac",
           "sq"
          ],
          [
           "parallel_data/sq-Trac",
           "sq"
          ],
          [
           "parallel_data/sq-Trac",
           "sq"
          ],
          [
           "parallel_data/sq-Trac",
           "sq"
          ],
          [
           "parallel_data/sq-Trac",
           "sq"
          ],
          [
           "parallel_data/sq-Trac",
           "sq"
          ],
          [
           "parallel_data/sq-Trac",
           "sq"
          ],
          [
           "parallel_data/sq-Trac",
           "sq"
          ],
          [
           "parallel_data/sq-Trac",
           "sq"
          ],
          [
           "parallel_data/sq-Trac",
           "sq"
          ],
          [
           "parallel_data/sq-Trac",
           "sq"
          ],
          [
           "parallel_data/sq-Trac",
           "sq"
          ],
          [
           "parallel_data/sq-Trac",
           "sq"
          ],
          [
           "parallel_data/sq-Trac",
           "sq"
          ],
          [
           "parallel_data/sq-Trac",
           "sq"
          ],
          [
           "parallel_data/sq-Trac",
           "sq"
          ],
          [
           "parallel_data/sq-Trac",
           "sq"
          ],
          [
           "parallel_data/sq-Trac",
           "sq"
          ],
          [
           "parallel_data/sq-Trac",
           "sq"
          ],
          [
           "parallel_data/sq-Trac",
           "sq"
          ],
          [
           "parallel_data/sq-Trac",
           "sq"
          ],
          [
           "parallel_data/sq-Trac",
           "sq"
          ],
          [
           "parallel_data/sq-Trac",
           "sq"
          ],
          [
           "parallel_data/sq-Trac",
           "sq"
          ],
          [
           "parallel_data/sq-Trac",
           "sq"
          ],
          [
           "parallel_data/sq-Trac",
           "sq"
          ],
          [
           "parallel_data/sq-Trac",
           "sq"
          ],
          [
           "parallel_data/sq-Trac",
           "sq"
          ],
          [
           "parallel_data/sq-Trac",
           "sq"
          ],
          [
           "parallel_data/sq-Trac",
           "sq"
          ],
          [
           "parallel_data/sq-Trac",
           "sq"
          ],
          [
           "parallel_data/sq-Trac",
           "sq"
          ],
          [
           "parallel_data/sq-Trac",
           "sq"
          ],
          [
           "parallel_data/sq-Trac",
           "sq"
          ]
         ],
         "hovertemplate": "language=%{customdata[1]}<br>x=%{x}<br>y=%{y}<br>dataset_name=%{customdata[0]}<extra></extra>",
         "legendgroup": "sq",
         "marker": {
          "color": "#19d3f3",
          "symbol": "circle"
         },
         "mode": "markers",
         "name": "sq",
         "showlegend": true,
         "x": [
          5.226236820220947,
          6.83441686630249,
          7.26829195022583,
          -5.831174373626709,
          -5.003678321838379,
          9.34965991973877,
          -4.9112772941589355,
          -1.193152904510498,
          2.9190452098846436,
          -0.2555221915245056,
          0.940222978591919,
          3.709556818008423,
          5.377326965332031,
          7.444749355316162,
          -0.8037952184677124,
          11.997467994689941,
          -3.5675208568573,
          2.5231733322143555,
          5.0262770652771,
          -3.640566349029541,
          -2.1837379932403564,
          0.3234335482120514,
          2.142692804336548,
          -1.9774301052093506,
          9.176200866699219,
          -0.3794795572757721,
          9.139806747436523,
          9.50808048248291,
          3.4195592403411865,
          -2.4675674438476562,
          2.9425361156463623,
          6.45878267288208,
          1.7260830402374268,
          -0.9093937277793884,
          -2.082850456237793,
          2.0229194164276123,
          0.034038297832012177,
          7.026139736175537,
          5.100445747375488,
          -1.4743716716766357,
          3.976682186126709,
          7.267591953277588,
          -0.9267958998680115,
          -3.3783175945281982,
          2.667085886001587,
          -4.08709716796875,
          -0.7208771705627441,
          -2.0632412433624268,
          9.1233491897583,
          -3.733041286468506,
          1.2584176063537598,
          7.323123455047607,
          4.884758949279785,
          0.5159144997596741,
          3.757964849472046,
          2.529752731323242,
          4.125730991363525,
          1.1001180410385132,
          4.067933082580566,
          11.018121719360352,
          6.773271560668945,
          0.20334160327911377,
          -1.8775616884231567,
          -1.821089506149292,
          0.8952561616897583,
          0.9226256608963013,
          4.807609558105469,
          0.30607011914253235,
          6.307596206665039,
          8.330500602722168,
          1.2833435535430908,
          4.803548812866211,
          -1.9630134105682373,
          2.671560049057007,
          4.765619277954102,
          -1.092852234840393,
          0.5317229628562927,
          -0.39458635449409485,
          -5.505267143249512,
          5.642602920532227,
          3.181373119354248,
          -0.07533959299325943,
          5.042535781860352,
          -3.2204723358154297,
          3.6883058547973633,
          7.364391326904297,
          4.297973155975342,
          -4.201528549194336,
          6.254687786102295,
          10.33436393737793,
          8.088628768920898,
          3.3999643325805664,
          5.129986763000488,
          3.2407329082489014,
          7.519771099090576,
          2.404764175415039,
          4.255019664764404,
          11.793630599975586,
          -7.598695755004883,
          0.24714365601539612,
          -0.777562141418457,
          6.725434303283691,
          4.2623291015625,
          5.620296955108643,
          -8.585474014282227,
          -1.5808632373809814,
          0.6332595944404602,
          0.7190806865692139,
          -8.224313735961914,
          5.796748638153076,
          -2.3687360286712646,
          -3.770442008972168,
          1.9297926425933838,
          7.371002674102783,
          -0.03161000832915306,
          2.7673890590667725,
          0.13748429715633392,
          -0.5886227488517761,
          -2.0907394886016846,
          4.280727863311768,
          7.81614875793457,
          6.9431986808776855,
          2.842251777648926,
          5.380049705505371,
          3.741459608078003,
          -7.348639965057373,
          1.5689036846160889,
          5.737987995147705,
          2.4840879440307617,
          -2.7256128787994385,
          0.8340455889701843,
          3.1782279014587402,
          -1.932045340538025,
          -3.5676350593566895,
          12.095705032348633,
          7.045567512512207,
          -2.04058837890625,
          -8.66830825805664,
          8.81988525390625,
          6.5064921379089355,
          -2.7242894172668457,
          8.557488441467285,
          0.7785734534263611,
          5.953586578369141,
          6.953303337097168,
          0.809462308883667,
          3.857501268386841,
          -3.8733654022216797,
          -5.5424628257751465,
          -1.4610637426376343,
          8.540270805358887,
          3.580373525619507,
          0.817188560962677,
          3.0204384326934814,
          -1.9749146699905396,
          -0.6558935046195984,
          3.936007499694824,
          3.568382740020752,
          2.934772491455078,
          1.9845824241638184,
          10.281498908996582,
          4.537590026855469,
          3.9836692810058594,
          4.1755876541137695,
          -7.992119789123535,
          4.411625385284424,
          0.42650875449180603,
          -4.122604846954346,
          -0.12818437814712524,
          -3.6942741870880127,
          5.415815353393555,
          -1.4946991205215454,
          4.1488752365112305,
          1.592968225479126,
          6.198453426361084,
          -0.56293785572052,
          1.358797311782837,
          3.280942440032959,
          -3.3145790100097656,
          -0.660965621471405,
          2.2616920471191406,
          1.0361411571502686,
          -5.7378153800964355,
          5.43756628036499,
          1.2638784646987915,
          -8.191475868225098,
          10.07753849029541,
          2.5460071563720703,
          1.8993617296218872,
          1.5966758728027344,
          -1.2979166507720947,
          -7.37412166595459,
          2.244664192199707,
          -3.4485177993774414,
          2.9330623149871826,
          3.367403507232666,
          1.0465245246887207,
          0.12315395474433899,
          -1.1516488790512085,
          -2.1768133640289307,
          -1.795000672340393,
          -8.15104866027832,
          1.330925464630127,
          -4.924870014190674,
          0.7607357501983643,
          7.275119304656982,
          -2.814997434616089,
          5.027927398681641,
          -5.428048610687256,
          -2.208280324935913,
          11.137773513793945,
          8.033856391906738,
          -8.078983306884766,
          2.2697880268096924,
          -6.72085428237915,
          -1.0504714250564575,
          -1.353309154510498,
          1.7538400888442993,
          1.716936707496643,
          3.2222115993499756,
          -2.9225597381591797,
          9.289097785949707,
          7.028483867645264,
          4.256094455718994,
          0.058484483510255814,
          5.433297634124756,
          -8.096946716308594,
          10.300089836120605,
          4.658239364624023,
          6.698023796081543,
          0.15613646805286407,
          6.753017902374268,
          4.358910083770752,
          6.8729753494262695,
          1.515848159790039,
          -3.115981101989746,
          2.097748279571533,
          7.028070449829102,
          -1.2025066614151,
          11.44284439086914,
          1.849127173423767,
          -1.8743351697921753,
          6.343838691711426,
          6.264822006225586,
          2.355069160461426,
          1.400287389755249,
          -7.432289123535156,
          -4.353229522705078,
          2.750779628753662,
          2.6102917194366455,
          7.2156805992126465,
          1.778991460800171,
          -1.5647276639938354,
          -0.05321255698800087,
          -2.627580404281616,
          -5.166052341461182,
          -3.5588057041168213,
          1.2466357946395874,
          4.2081475257873535,
          2.0281524658203125,
          -0.5451001524925232,
          -3.360856771469116,
          -1.58266282081604,
          3.4427521228790283,
          -0.023088781163096428,
          -7.847215175628662,
          7.960103511810303,
          1.0847861766815186,
          -1.7410662174224854,
          -1.3385545015335083,
          -2.788325786590576,
          3.4414522647857666,
          2.3012306690216064,
          -0.9492080807685852,
          -3.627746343612671,
          1.701796293258667,
          1.3343048095703125,
          5.141279697418213,
          7.448672294616699,
          0.5448342561721802,
          2.651477813720703,
          8.900895118713379,
          -0.47425538301467896,
          2.2269744873046875,
          -2.7872326374053955,
          4.152132987976074,
          5.054243564605713,
          1.8768304586410522,
          1.9216582775115967,
          -1.0242259502410889,
          -5.647176742553711,
          0.6225262880325317,
          -4.230175971984863,
          -0.8577684760093689,
          0.5123956203460693,
          2.2093098163604736,
          -2.932910680770874,
          -0.22632654011249542,
          6.082303047180176,
          0.204127699136734
         ],
         "xaxis": "x",
         "y": [
          2.8583219051361084,
          5.665981769561768,
          3.8877830505371094,
          0.7433678507804871,
          2.3100171089172363,
          4.879112720489502,
          1.1637544631958008,
          -0.4362789988517761,
          6.89872407913208,
          -4.406818866729736,
          6.081000804901123,
          0.13926050066947937,
          5.061418056488037,
          1.044785737991333,
          1.321081519126892,
          0.987332820892334,
          1.5287989377975464,
          -1.898144006729126,
          11.75072956085205,
          -0.8106303215026855,
          3.9140729904174805,
          8.46701431274414,
          7.3773722648620605,
          0.42146918177604675,
          7.6365532875061035,
          7.06365966796875,
          5.843916416168213,
          4.631030082702637,
          5.234135150909424,
          0.27508002519607544,
          7.762452602386475,
          -1.3865431547164917,
          12.573790550231934,
          7.146181583404541,
          11.866211891174316,
          13.632335662841797,
          0.6391308903694153,
          2.5824687480926514,
          3.2816922664642334,
          -4.018271446228027,
          6.8646392822265625,
          0.04908662661910057,
          5.403663158416748,
          -0.09084960073232651,
          7.555233955383301,
          0.9786019921302795,
          8.215185165405273,
          4.024489879608154,
          4.055124759674072,
          8.853479385375977,
          11.556891441345215,
          8.561293601989746,
          10.148441314697266,
          2.283844232559204,
          0.3516989052295685,
          1.8851972818374634,
          11.175467491149902,
          3.6790671348571777,
          3.8558342456817627,
          8.2269926071167,
          4.075573921203613,
          0.8445676565170288,
          15.131189346313477,
          0.9526956677436829,
          7.33344030380249,
          3.4149115085601807,
          3.9776113033294678,
          4.059469699859619,
          5.063919544219971,
          8.519197463989258,
          12.202676773071289,
          7.605247974395752,
          15.798182487487793,
          8.68492317199707,
          4.660367965698242,
          9.822775840759277,
          11.349085807800293,
          8.52717399597168,
          3.522191286087036,
          3.911846876144409,
          5.395383834838867,
          4.8985419273376465,
          7.296180248260498,
          3.7077784538269043,
          5.5344953536987305,
          7.08687686920166,
          12.976561546325684,
          8.79373550415039,
          9.21770191192627,
          3.755944013595581,
          5.234131336212158,
          13.810564041137695,
          7.243398666381836,
          13.972334861755371,
          13.695084571838379,
          10.827272415161133,
          6.6450419425964355,
          1.1668047904968262,
          0.516746997833252,
          6.637000560760498,
          13.111868858337402,
          8.743303298950195,
          -0.18479685485363007,
          9.988755226135254,
          6.9620466232299805,
          7.94164514541626,
          4.819726467132568,
          6.152432918548584,
          6.650869369506836,
          5.751956939697266,
          0.6478645205497742,
          5.681134223937988,
          12.850523948669434,
          3.9231579303741455,
          7.783044338226318,
          -1.0145453214645386,
          7.069534778594971,
          12.267111778259277,
          0.9856346845626831,
          12.552465438842773,
          11.777860641479492,
          6.474025249481201,
          5.41054105758667,
          6.78364896774292,
          10.75867748260498,
          0.801940381526947,
          3.119621515274048,
          3.667609930038452,
          -2.0155534744262695,
          7.056105136871338,
          3.872232437133789,
          14.791974067687988,
          15.274206161499023,
          3.0959479808807373,
          0.8910573124885559,
          3.6146435737609863,
          6.617706775665283,
          6.853315830230713,
          3.9293391704559326,
          7.051638126373291,
          1.5047825574874878,
          3.3869314193725586,
          7.406631946563721,
          9.877707481384277,
          1.5833251476287842,
          -3.2035257816314697,
          2.311485767364502,
          1.8584893941879272,
          6.589378356933594,
          -0.8344139456748962,
          8.684569358825684,
          11.732504844665527,
          1.901199221611023,
          11.826054573059082,
          6.37883186340332,
          8.688546180725098,
          10.255146026611328,
          15.524158477783203,
          11.721728324890137,
          5.81979513168335,
          11.046605110168457,
          6.781888961791992,
          8.510526657104492,
          5.5969438552856445,
          1.214138150215149,
          5.038850784301758,
          10.746788024902344,
          1.9480664730072021,
          10.427653312683105,
          8.800033569335938,
          8.774813652038574,
          2.576563835144043,
          -0.08805245906114578,
          11.272936820983887,
          8.37706470489502,
          5.668954849243164,
          9.974781036376953,
          -0.014223639853298664,
          12.616791725158691,
          7.188223361968994,
          11.212457656860352,
          4.1689863204956055,
          2.161231517791748,
          5.7023115158081055,
          6.137082576751709,
          6.778266429901123,
          11.369073867797852,
          7.625138759613037,
          4.536515712738037,
          4.273262977600098,
          1.2889831066131592,
          6.658367156982422,
          11.382102966308594,
          -2.620638370513916,
          9.356048583984375,
          9.304177284240723,
          10.471309661865234,
          4.424224376678467,
          -1.3573360443115234,
          -0.09132541716098785,
          2.5557515621185303,
          2.555868148803711,
          -2.8192222118377686,
          -0.18137404322624207,
          10.252203941345215,
          5.91185998916626,
          2.3701915740966797,
          3.531956911087036,
          3.432770252227783,
          -0.24145519733428955,
          8.336145401000977,
          6.166435718536377,
          2.5132877826690674,
          2.0648176670074463,
          0.6386853456497192,
          4.360716342926025,
          9.661811828613281,
          8.93564510345459,
          7.268136978149414,
          12.590898513793945,
          1.3107222318649292,
          7.675726890563965,
          9.837532997131348,
          13.000048637390137,
          3.0731754302978516,
          6.522597312927246,
          6.717363357543945,
          11.040362358093262,
          13.23646068572998,
          15.352200508117676,
          0.011315729469060898,
          3.4241654872894287,
          7.993887901306152,
          8.86563777923584,
          13.957594871520996,
          13.80567741394043,
          13.895146369934082,
          3.0365853309631348,
          5.684877872467041,
          6.581454277038574,
          8.932802200317383,
          15.701619148254395,
          8.023639678955078,
          5.909515857696533,
          8.936728477478027,
          6.755895614624023,
          1.0196434259414673,
          -0.012911582365632057,
          -1.5217819213867188,
          3.613539934158325,
          6.712109088897705,
          2.504244089126587,
          -0.8295764923095703,
          7.075901031494141,
          3.971165657043457,
          0.9923174977302551,
          -1.1347575187683105,
          11.089441299438477,
          5.1446919441223145,
          1.63649582862854,
          10.723641395568848,
          4.324714660644531,
          2.2448019981384277,
          -0.06074625626206398,
          5.261024475097656,
          1.0809996128082275,
          5.307671546936035,
          -2.9920408725738525,
          1.5417306423187256,
          9.517230033874512,
          -0.9621075987815857,
          -1.9393820762634277,
          1.2182368040084839,
          8.353290557861328,
          -0.1631290167570114,
          12.166205406188965,
          9.44616985321045,
          10.040619850158691,
          5.174923896789551,
          8.756200790405273,
          11.286394119262695,
          8.788663864135742,
          10.362874984741211,
          12.113066673278809,
          1.770039677619934,
          13.150750160217285,
          12.622151374816895,
          8.03155517578125,
          11.710121154785156,
          9.310784339904785,
          -0.3019239008426666,
          -3.1410653591156006,
          0.4722892642021179,
          4.253228664398193,
          3.1868090629577637,
          12.693918228149414,
          0.4606938660144806,
          3.306514024734497,
          0.46778935194015503,
          6.300726413726807
         ],
         "yaxis": "y",
         "type": "scattergl"
        }
       ],
       "layout": {
        "template": {
         "data": {
          "histogram2dcontour": [
           {
            "type": "histogram2dcontour",
            "colorbar": {
             "outlinewidth": 0,
             "ticks": ""
            },
            "colorscale": [
             [
              0.0,
              "#0d0887"
             ],
             [
              0.1111111111111111,
              "#46039f"
             ],
             [
              0.2222222222222222,
              "#7201a8"
             ],
             [
              0.3333333333333333,
              "#9c179e"
             ],
             [
              0.4444444444444444,
              "#bd3786"
             ],
             [
              0.5555555555555556,
              "#d8576b"
             ],
             [
              0.6666666666666666,
              "#ed7953"
             ],
             [
              0.7777777777777778,
              "#fb9f3a"
             ],
             [
              0.8888888888888888,
              "#fdca26"
             ],
             [
              1.0,
              "#f0f921"
             ]
            ]
           }
          ],
          "choropleth": [
           {
            "type": "choropleth",
            "colorbar": {
             "outlinewidth": 0,
             "ticks": ""
            }
           }
          ],
          "histogram2d": [
           {
            "type": "histogram2d",
            "colorbar": {
             "outlinewidth": 0,
             "ticks": ""
            },
            "colorscale": [
             [
              0.0,
              "#0d0887"
             ],
             [
              0.1111111111111111,
              "#46039f"
             ],
             [
              0.2222222222222222,
              "#7201a8"
             ],
             [
              0.3333333333333333,
              "#9c179e"
             ],
             [
              0.4444444444444444,
              "#bd3786"
             ],
             [
              0.5555555555555556,
              "#d8576b"
             ],
             [
              0.6666666666666666,
              "#ed7953"
             ],
             [
              0.7777777777777778,
              "#fb9f3a"
             ],
             [
              0.8888888888888888,
              "#fdca26"
             ],
             [
              1.0,
              "#f0f921"
             ]
            ]
           }
          ],
          "heatmap": [
           {
            "type": "heatmap",
            "colorbar": {
             "outlinewidth": 0,
             "ticks": ""
            },
            "colorscale": [
             [
              0.0,
              "#0d0887"
             ],
             [
              0.1111111111111111,
              "#46039f"
             ],
             [
              0.2222222222222222,
              "#7201a8"
             ],
             [
              0.3333333333333333,
              "#9c179e"
             ],
             [
              0.4444444444444444,
              "#bd3786"
             ],
             [
              0.5555555555555556,
              "#d8576b"
             ],
             [
              0.6666666666666666,
              "#ed7953"
             ],
             [
              0.7777777777777778,
              "#fb9f3a"
             ],
             [
              0.8888888888888888,
              "#fdca26"
             ],
             [
              1.0,
              "#f0f921"
             ]
            ]
           }
          ],
          "heatmapgl": [
           {
            "type": "heatmapgl",
            "colorbar": {
             "outlinewidth": 0,
             "ticks": ""
            },
            "colorscale": [
             [
              0.0,
              "#0d0887"
             ],
             [
              0.1111111111111111,
              "#46039f"
             ],
             [
              0.2222222222222222,
              "#7201a8"
             ],
             [
              0.3333333333333333,
              "#9c179e"
             ],
             [
              0.4444444444444444,
              "#bd3786"
             ],
             [
              0.5555555555555556,
              "#d8576b"
             ],
             [
              0.6666666666666666,
              "#ed7953"
             ],
             [
              0.7777777777777778,
              "#fb9f3a"
             ],
             [
              0.8888888888888888,
              "#fdca26"
             ],
             [
              1.0,
              "#f0f921"
             ]
            ]
           }
          ],
          "contourcarpet": [
           {
            "type": "contourcarpet",
            "colorbar": {
             "outlinewidth": 0,
             "ticks": ""
            }
           }
          ],
          "contour": [
           {
            "type": "contour",
            "colorbar": {
             "outlinewidth": 0,
             "ticks": ""
            },
            "colorscale": [
             [
              0.0,
              "#0d0887"
             ],
             [
              0.1111111111111111,
              "#46039f"
             ],
             [
              0.2222222222222222,
              "#7201a8"
             ],
             [
              0.3333333333333333,
              "#9c179e"
             ],
             [
              0.4444444444444444,
              "#bd3786"
             ],
             [
              0.5555555555555556,
              "#d8576b"
             ],
             [
              0.6666666666666666,
              "#ed7953"
             ],
             [
              0.7777777777777778,
              "#fb9f3a"
             ],
             [
              0.8888888888888888,
              "#fdca26"
             ],
             [
              1.0,
              "#f0f921"
             ]
            ]
           }
          ],
          "surface": [
           {
            "type": "surface",
            "colorbar": {
             "outlinewidth": 0,
             "ticks": ""
            },
            "colorscale": [
             [
              0.0,
              "#0d0887"
             ],
             [
              0.1111111111111111,
              "#46039f"
             ],
             [
              0.2222222222222222,
              "#7201a8"
             ],
             [
              0.3333333333333333,
              "#9c179e"
             ],
             [
              0.4444444444444444,
              "#bd3786"
             ],
             [
              0.5555555555555556,
              "#d8576b"
             ],
             [
              0.6666666666666666,
              "#ed7953"
             ],
             [
              0.7777777777777778,
              "#fb9f3a"
             ],
             [
              0.8888888888888888,
              "#fdca26"
             ],
             [
              1.0,
              "#f0f921"
             ]
            ]
           }
          ],
          "mesh3d": [
           {
            "type": "mesh3d",
            "colorbar": {
             "outlinewidth": 0,
             "ticks": ""
            }
           }
          ],
          "scatter": [
           {
            "fillpattern": {
             "fillmode": "overlay",
             "size": 10,
             "solidity": 0.2
            },
            "type": "scatter"
           }
          ],
          "parcoords": [
           {
            "type": "parcoords",
            "line": {
             "colorbar": {
              "outlinewidth": 0,
              "ticks": ""
             }
            }
           }
          ],
          "scatterpolargl": [
           {
            "type": "scatterpolargl",
            "marker": {
             "colorbar": {
              "outlinewidth": 0,
              "ticks": ""
             }
            }
           }
          ],
          "bar": [
           {
            "error_x": {
             "color": "#2a3f5f"
            },
            "error_y": {
             "color": "#2a3f5f"
            },
            "marker": {
             "line": {
              "color": "#E5ECF6",
              "width": 0.5
             },
             "pattern": {
              "fillmode": "overlay",
              "size": 10,
              "solidity": 0.2
             }
            },
            "type": "bar"
           }
          ],
          "scattergeo": [
           {
            "type": "scattergeo",
            "marker": {
             "colorbar": {
              "outlinewidth": 0,
              "ticks": ""
             }
            }
           }
          ],
          "scatterpolar": [
           {
            "type": "scatterpolar",
            "marker": {
             "colorbar": {
              "outlinewidth": 0,
              "ticks": ""
             }
            }
           }
          ],
          "histogram": [
           {
            "marker": {
             "pattern": {
              "fillmode": "overlay",
              "size": 10,
              "solidity": 0.2
             }
            },
            "type": "histogram"
           }
          ],
          "scattergl": [
           {
            "type": "scattergl",
            "marker": {
             "colorbar": {
              "outlinewidth": 0,
              "ticks": ""
             }
            }
           }
          ],
          "scatter3d": [
           {
            "type": "scatter3d",
            "line": {
             "colorbar": {
              "outlinewidth": 0,
              "ticks": ""
             }
            },
            "marker": {
             "colorbar": {
              "outlinewidth": 0,
              "ticks": ""
             }
            }
           }
          ],
          "scattermapbox": [
           {
            "type": "scattermapbox",
            "marker": {
             "colorbar": {
              "outlinewidth": 0,
              "ticks": ""
             }
            }
           }
          ],
          "scatterternary": [
           {
            "type": "scatterternary",
            "marker": {
             "colorbar": {
              "outlinewidth": 0,
              "ticks": ""
             }
            }
           }
          ],
          "scattercarpet": [
           {
            "type": "scattercarpet",
            "marker": {
             "colorbar": {
              "outlinewidth": 0,
              "ticks": ""
             }
            }
           }
          ],
          "carpet": [
           {
            "aaxis": {
             "endlinecolor": "#2a3f5f",
             "gridcolor": "white",
             "linecolor": "white",
             "minorgridcolor": "white",
             "startlinecolor": "#2a3f5f"
            },
            "baxis": {
             "endlinecolor": "#2a3f5f",
             "gridcolor": "white",
             "linecolor": "white",
             "minorgridcolor": "white",
             "startlinecolor": "#2a3f5f"
            },
            "type": "carpet"
           }
          ],
          "table": [
           {
            "cells": {
             "fill": {
              "color": "#EBF0F8"
             },
             "line": {
              "color": "white"
             }
            },
            "header": {
             "fill": {
              "color": "#C8D4E3"
             },
             "line": {
              "color": "white"
             }
            },
            "type": "table"
           }
          ],
          "barpolar": [
           {
            "marker": {
             "line": {
              "color": "#E5ECF6",
              "width": 0.5
             },
             "pattern": {
              "fillmode": "overlay",
              "size": 10,
              "solidity": 0.2
             }
            },
            "type": "barpolar"
           }
          ],
          "pie": [
           {
            "automargin": true,
            "type": "pie"
           }
          ]
         },
         "layout": {
          "autotypenumbers": "strict",
          "colorway": [
           "#636efa",
           "#EF553B",
           "#00cc96",
           "#ab63fa",
           "#FFA15A",
           "#19d3f3",
           "#FF6692",
           "#B6E880",
           "#FF97FF",
           "#FECB52"
          ],
          "font": {
           "color": "#2a3f5f"
          },
          "hovermode": "closest",
          "hoverlabel": {
           "align": "left"
          },
          "paper_bgcolor": "white",
          "plot_bgcolor": "#E5ECF6",
          "polar": {
           "bgcolor": "#E5ECF6",
           "angularaxis": {
            "gridcolor": "white",
            "linecolor": "white",
            "ticks": ""
           },
           "radialaxis": {
            "gridcolor": "white",
            "linecolor": "white",
            "ticks": ""
           }
          },
          "ternary": {
           "bgcolor": "#E5ECF6",
           "aaxis": {
            "gridcolor": "white",
            "linecolor": "white",
            "ticks": ""
           },
           "baxis": {
            "gridcolor": "white",
            "linecolor": "white",
            "ticks": ""
           },
           "caxis": {
            "gridcolor": "white",
            "linecolor": "white",
            "ticks": ""
           }
          },
          "coloraxis": {
           "colorbar": {
            "outlinewidth": 0,
            "ticks": ""
           }
          },
          "colorscale": {
           "sequential": [
            [
             0.0,
             "#0d0887"
            ],
            [
             0.1111111111111111,
             "#46039f"
            ],
            [
             0.2222222222222222,
             "#7201a8"
            ],
            [
             0.3333333333333333,
             "#9c179e"
            ],
            [
             0.4444444444444444,
             "#bd3786"
            ],
            [
             0.5555555555555556,
             "#d8576b"
            ],
            [
             0.6666666666666666,
             "#ed7953"
            ],
            [
             0.7777777777777778,
             "#fb9f3a"
            ],
            [
             0.8888888888888888,
             "#fdca26"
            ],
            [
             1.0,
             "#f0f921"
            ]
           ],
           "sequentialminus": [
            [
             0.0,
             "#0d0887"
            ],
            [
             0.1111111111111111,
             "#46039f"
            ],
            [
             0.2222222222222222,
             "#7201a8"
            ],
            [
             0.3333333333333333,
             "#9c179e"
            ],
            [
             0.4444444444444444,
             "#bd3786"
            ],
            [
             0.5555555555555556,
             "#d8576b"
            ],
            [
             0.6666666666666666,
             "#ed7953"
            ],
            [
             0.7777777777777778,
             "#fb9f3a"
            ],
            [
             0.8888888888888888,
             "#fdca26"
            ],
            [
             1.0,
             "#f0f921"
            ]
           ],
           "diverging": [
            [
             0,
             "#8e0152"
            ],
            [
             0.1,
             "#c51b7d"
            ],
            [
             0.2,
             "#de77ae"
            ],
            [
             0.3,
             "#f1b6da"
            ],
            [
             0.4,
             "#fde0ef"
            ],
            [
             0.5,
             "#f7f7f7"
            ],
            [
             0.6,
             "#e6f5d0"
            ],
            [
             0.7,
             "#b8e186"
            ],
            [
             0.8,
             "#7fbc41"
            ],
            [
             0.9,
             "#4d9221"
            ],
            [
             1,
             "#276419"
            ]
           ]
          },
          "xaxis": {
           "gridcolor": "white",
           "linecolor": "white",
           "ticks": "",
           "title": {
            "standoff": 15
           },
           "zerolinecolor": "white",
           "automargin": true,
           "zerolinewidth": 2
          },
          "yaxis": {
           "gridcolor": "white",
           "linecolor": "white",
           "ticks": "",
           "title": {
            "standoff": 15
           },
           "zerolinecolor": "white",
           "automargin": true,
           "zerolinewidth": 2
          },
          "scene": {
           "xaxis": {
            "backgroundcolor": "#E5ECF6",
            "gridcolor": "white",
            "linecolor": "white",
            "showbackground": true,
            "ticks": "",
            "zerolinecolor": "white",
            "gridwidth": 2
           },
           "yaxis": {
            "backgroundcolor": "#E5ECF6",
            "gridcolor": "white",
            "linecolor": "white",
            "showbackground": true,
            "ticks": "",
            "zerolinecolor": "white",
            "gridwidth": 2
           },
           "zaxis": {
            "backgroundcolor": "#E5ECF6",
            "gridcolor": "white",
            "linecolor": "white",
            "showbackground": true,
            "ticks": "",
            "zerolinecolor": "white",
            "gridwidth": 2
           }
          },
          "shapedefaults": {
           "line": {
            "color": "#2a3f5f"
           }
          },
          "annotationdefaults": {
           "arrowcolor": "#2a3f5f",
           "arrowhead": 0,
           "arrowwidth": 1
          },
          "geo": {
           "bgcolor": "white",
           "landcolor": "#E5ECF6",
           "subunitcolor": "white",
           "showland": true,
           "showlakes": true,
           "lakecolor": "white"
          },
          "title": {
           "x": 0.05
          },
          "mapbox": {
           "style": "light"
          }
         }
        },
        "xaxis": {
         "anchor": "y",
         "domain": [
          0.0,
          1.0
         ],
         "title": {
          "text": "x"
         }
        },
        "yaxis": {
         "anchor": "x",
         "domain": [
          0.0,
          1.0
         ],
         "title": {
          "text": "y"
         }
        },
        "legend": {
         "title": {
          "text": "language"
         },
         "tracegroupgap": 0
        },
        "title": {
         "text": "Embedding Visualization"
        }
       },
       "config": {
        "plotlyServerURL": "https://plot.ly"
       }
      },
      "text/html": [
       "<div>                            <div id=\"33d0770a-f7bf-4ca5-a315-6ee769106f2c\" class=\"plotly-graph-div\" style=\"height:525px; width:100%;\"></div>            <script type=\"text/javascript\">                require([\"plotly\"], function(Plotly) {                    window.PLOTLYENV=window.PLOTLYENV || {};                                    if (document.getElementById(\"33d0770a-f7bf-4ca5-a315-6ee769106f2c\")) {                    Plotly.newPlot(                        \"33d0770a-f7bf-4ca5-a315-6ee769106f2c\",                        [{\"customdata\":[[\"parallel_data\\u002fen-Trac\",\"en\"],[\"parallel_data\\u002fen-Trac\",\"en\"],[\"parallel_data\\u002fen-Trac\",\"en\"],[\"parallel_data\\u002fen-Trac\",\"en\"],[\"parallel_data\\u002fen-Trac\",\"en\"],[\"parallel_data\\u002fen-Trac\",\"en\"],[\"parallel_data\\u002fen-Trac\",\"en\"],[\"parallel_data\\u002fen-Trac\",\"en\"],[\"parallel_data\\u002fen-Trac\",\"en\"],[\"parallel_data\\u002fen-Trac\",\"en\"],[\"parallel_data\\u002fen-Trac\",\"en\"],[\"parallel_data\\u002fen-Trac\",\"en\"],[\"parallel_data\\u002fen-Trac\",\"en\"],[\"parallel_data\\u002fen-Trac\",\"en\"],[\"parallel_data\\u002fen-Trac\",\"en\"],[\"parallel_data\\u002fen-Trac\",\"en\"],[\"parallel_data\\u002fen-Trac\",\"en\"],[\"parallel_data\\u002fen-Trac\",\"en\"],[\"parallel_data\\u002fen-Trac\",\"en\"],[\"parallel_data\\u002fen-Trac\",\"en\"],[\"parallel_data\\u002fen-Trac\",\"en\"],[\"parallel_data\\u002fen-Trac\",\"en\"],[\"parallel_data\\u002fen-Trac\",\"en\"],[\"parallel_data\\u002fen-Trac\",\"en\"],[\"parallel_data\\u002fen-Trac\",\"en\"],[\"parallel_data\\u002fen-Trac\",\"en\"],[\"parallel_data\\u002fen-Trac\",\"en\"],[\"parallel_data\\u002fen-Trac\",\"en\"],[\"parallel_data\\u002fen-Trac\",\"en\"],[\"parallel_data\\u002fen-Trac\",\"en\"],[\"parallel_data\\u002fen-Trac\",\"en\"],[\"parallel_data\\u002fen-Trac\",\"en\"],[\"parallel_data\\u002fen-Trac\",\"en\"],[\"parallel_data\\u002fen-Trac\",\"en\"],[\"parallel_data\\u002fen-Trac\",\"en\"],[\"parallel_data\\u002fen-Trac\",\"en\"],[\"parallel_data\\u002fen-Trac\",\"en\"],[\"parallel_data\\u002fen-Trac\",\"en\"],[\"parallel_data\\u002fen-Trac\",\"en\"],[\"parallel_data\\u002fen-Trac\",\"en\"],[\"parallel_data\\u002fen-Trac\",\"en\"],[\"parallel_data\\u002fen-Trac\",\"en\"],[\"parallel_data\\u002fen-Trac\",\"en\"],[\"parallel_data\\u002fen-Trac\",\"en\"],[\"parallel_data\\u002fen-Trac\",\"en\"],[\"parallel_data\\u002fen-Trac\",\"en\"],[\"parallel_data\\u002fen-Trac\",\"en\"],[\"parallel_data\\u002fen-Trac\",\"en\"],[\"parallel_data\\u002fen-Trac\",\"en\"],[\"parallel_data\\u002fen-Trac\",\"en\"],[\"parallel_data\\u002fen-Trac\",\"en\"],[\"parallel_data\\u002fen-Trac\",\"en\"],[\"parallel_data\\u002fen-Trac\",\"en\"],[\"parallel_data\\u002fen-Trac\",\"en\"],[\"parallel_data\\u002fen-Trac\",\"en\"],[\"parallel_data\\u002fen-Trac\",\"en\"],[\"parallel_data\\u002fen-Trac\",\"en\"],[\"parallel_data\\u002fen-Trac\",\"en\"],[\"parallel_data\\u002fen-Trac\",\"en\"],[\"parallel_data\\u002fen-Trac\",\"en\"],[\"parallel_data\\u002fen-Trac\",\"en\"],[\"parallel_data\\u002fen-Trac\",\"en\"],[\"parallel_data\\u002fen-Trac\",\"en\"],[\"parallel_data\\u002fen-Trac\",\"en\"],[\"parallel_data\\u002fen-Trac\",\"en\"],[\"parallel_data\\u002fen-Trac\",\"en\"],[\"parallel_data\\u002fen-Trac\",\"en\"],[\"parallel_data\\u002fen-Trac\",\"en\"],[\"parallel_data\\u002fen-Trac\",\"en\"],[\"parallel_data\\u002fen-Trac\",\"en\"],[\"parallel_data\\u002fen-Trac\",\"en\"],[\"parallel_data\\u002fen-Trac\",\"en\"],[\"parallel_data\\u002fen-Trac\",\"en\"],[\"parallel_data\\u002fen-Trac\",\"en\"],[\"parallel_data\\u002fen-Trac\",\"en\"],[\"parallel_data\\u002fen-Trac\",\"en\"],[\"parallel_data\\u002fen-Trac\",\"en\"],[\"parallel_data\\u002fen-Trac\",\"en\"],[\"parallel_data\\u002fen-Trac\",\"en\"],[\"parallel_data\\u002fen-Trac\",\"en\"],[\"parallel_data\\u002fen-Trac\",\"en\"],[\"parallel_data\\u002fen-Trac\",\"en\"],[\"parallel_data\\u002fen-Trac\",\"en\"],[\"parallel_data\\u002fen-Trac\",\"en\"],[\"parallel_data\\u002fen-Trac\",\"en\"],[\"parallel_data\\u002fen-Trac\",\"en\"],[\"parallel_data\\u002fen-Trac\",\"en\"],[\"parallel_data\\u002fen-Trac\",\"en\"],[\"parallel_data\\u002fen-Trac\",\"en\"],[\"parallel_data\\u002fen-Trac\",\"en\"],[\"parallel_data\\u002fen-Trac\",\"en\"],[\"parallel_data\\u002fen-Trac\",\"en\"],[\"parallel_data\\u002fen-Trac\",\"en\"],[\"parallel_data\\u002fen-Trac\",\"en\"],[\"parallel_data\\u002fen-Trac\",\"en\"],[\"parallel_data\\u002fen-Trac\",\"en\"],[\"parallel_data\\u002fen-Trac\",\"en\"],[\"parallel_data\\u002fen-Trac\",\"en\"],[\"parallel_data\\u002fen-Trac\",\"en\"],[\"parallel_data\\u002fen-Trac\",\"en\"],[\"parallel_data\\u002fen-Trac\",\"en\"],[\"parallel_data\\u002fen-Trac\",\"en\"],[\"parallel_data\\u002fen-Trac\",\"en\"],[\"parallel_data\\u002fen-Trac\",\"en\"],[\"parallel_data\\u002fen-Trac\",\"en\"],[\"parallel_data\\u002fen-Trac\",\"en\"],[\"parallel_data\\u002fen-Trac\",\"en\"],[\"parallel_data\\u002fen-Trac\",\"en\"],[\"parallel_data\\u002fen-Trac\",\"en\"],[\"parallel_data\\u002fen-Trac\",\"en\"],[\"parallel_data\\u002fen-Trac\",\"en\"],[\"parallel_data\\u002fen-Trac\",\"en\"],[\"parallel_data\\u002fen-Trac\",\"en\"],[\"parallel_data\\u002fen-Trac\",\"en\"],[\"parallel_data\\u002fen-Trac\",\"en\"],[\"parallel_data\\u002fen-Trac\",\"en\"],[\"parallel_data\\u002fen-Trac\",\"en\"],[\"parallel_data\\u002fen-Trac\",\"en\"],[\"parallel_data\\u002fen-Trac\",\"en\"],[\"parallel_data\\u002fen-Trac\",\"en\"],[\"parallel_data\\u002fen-Trac\",\"en\"],[\"parallel_data\\u002fen-Trac\",\"en\"],[\"parallel_data\\u002fen-Trac\",\"en\"],[\"parallel_data\\u002fen-Trac\",\"en\"],[\"parallel_data\\u002fen-Trac\",\"en\"],[\"parallel_data\\u002fen-Trac\",\"en\"],[\"parallel_data\\u002fen-Trac\",\"en\"],[\"parallel_data\\u002fen-Trac\",\"en\"],[\"parallel_data\\u002fen-Trac\",\"en\"],[\"parallel_data\\u002fen-Trac\",\"en\"],[\"parallel_data\\u002fen-Trac\",\"en\"],[\"parallel_data\\u002fen-Trac\",\"en\"],[\"parallel_data\\u002fen-Trac\",\"en\"],[\"parallel_data\\u002fen-Trac\",\"en\"],[\"parallel_data\\u002fen-Trac\",\"en\"],[\"parallel_data\\u002fen-Trac\",\"en\"],[\"parallel_data\\u002fen-Trac\",\"en\"],[\"parallel_data\\u002fen-Trac\",\"en\"],[\"parallel_data\\u002fen-Trac\",\"en\"],[\"parallel_data\\u002fen-Trac\",\"en\"],[\"parallel_data\\u002fen-Trac\",\"en\"],[\"parallel_data\\u002fen-Trac\",\"en\"],[\"parallel_data\\u002fen-Trac\",\"en\"],[\"parallel_data\\u002fen-Trac\",\"en\"],[\"parallel_data\\u002fen-Trac\",\"en\"],[\"parallel_data\\u002fen-Trac\",\"en\"],[\"parallel_data\\u002fen-Trac\",\"en\"],[\"parallel_data\\u002fen-Trac\",\"en\"],[\"parallel_data\\u002fen-Trac\",\"en\"],[\"parallel_data\\u002fen-Trac\",\"en\"],[\"parallel_data\\u002fen-Trac\",\"en\"],[\"parallel_data\\u002fen-Trac\",\"en\"],[\"parallel_data\\u002fen-Trac\",\"en\"],[\"parallel_data\\u002fen-Trac\",\"en\"],[\"parallel_data\\u002fen-Trac\",\"en\"],[\"parallel_data\\u002fen-Trac\",\"en\"],[\"parallel_data\\u002fen-Trac\",\"en\"],[\"parallel_data\\u002fen-Trac\",\"en\"],[\"parallel_data\\u002fen-Trac\",\"en\"],[\"parallel_data\\u002fen-Trac\",\"en\"],[\"parallel_data\\u002fen-Trac\",\"en\"],[\"parallel_data\\u002fen-Trac\",\"en\"],[\"parallel_data\\u002fen-Trac\",\"en\"],[\"parallel_data\\u002fen-Trac\",\"en\"],[\"parallel_data\\u002fen-Trac\",\"en\"],[\"parallel_data\\u002fen-Trac\",\"en\"],[\"parallel_data\\u002fen-Trac\",\"en\"],[\"parallel_data\\u002fen-Trac\",\"en\"],[\"parallel_data\\u002fen-Trac\",\"en\"],[\"parallel_data\\u002fen-Trac\",\"en\"],[\"parallel_data\\u002fen-Trac\",\"en\"],[\"parallel_data\\u002fen-Trac\",\"en\"],[\"parallel_data\\u002fen-Trac\",\"en\"],[\"parallel_data\\u002fen-Trac\",\"en\"],[\"parallel_data\\u002fen-Trac\",\"en\"],[\"parallel_data\\u002fen-Trac\",\"en\"],[\"parallel_data\\u002fen-Trac\",\"en\"],[\"parallel_data\\u002fen-Trac\",\"en\"],[\"parallel_data\\u002fen-Trac\",\"en\"],[\"parallel_data\\u002fen-Trac\",\"en\"],[\"parallel_data\\u002fen-Trac\",\"en\"],[\"parallel_data\\u002fen-Trac\",\"en\"],[\"parallel_data\\u002fen-Trac\",\"en\"],[\"parallel_data\\u002fen-Trac\",\"en\"],[\"parallel_data\\u002fen-Trac\",\"en\"],[\"parallel_data\\u002fen-Trac\",\"en\"],[\"parallel_data\\u002fen-Trac\",\"en\"],[\"parallel_data\\u002fen-Trac\",\"en\"],[\"parallel_data\\u002fen-Trac\",\"en\"],[\"parallel_data\\u002fen-Trac\",\"en\"],[\"parallel_data\\u002fen-Trac\",\"en\"],[\"parallel_data\\u002fen-Trac\",\"en\"],[\"parallel_data\\u002fen-Trac\",\"en\"],[\"parallel_data\\u002fen-Trac\",\"en\"],[\"parallel_data\\u002fen-Trac\",\"en\"],[\"parallel_data\\u002fen-Trac\",\"en\"],[\"parallel_data\\u002fen-Trac\",\"en\"],[\"parallel_data\\u002fen-Trac\",\"en\"],[\"parallel_data\\u002fen-Trac\",\"en\"],[\"parallel_data\\u002fen-Trac\",\"en\"],[\"parallel_data\\u002fen-Trac\",\"en\"],[\"parallel_data\\u002fen-Trac\",\"en\"],[\"parallel_data\\u002fen-Trac\",\"en\"],[\"parallel_data\\u002fen-Trac\",\"en\"],[\"parallel_data\\u002fen-Trac\",\"en\"],[\"parallel_data\\u002fen-Trac\",\"en\"],[\"parallel_data\\u002fen-Trac\",\"en\"],[\"parallel_data\\u002fen-Trac\",\"en\"],[\"parallel_data\\u002fen-Trac\",\"en\"],[\"parallel_data\\u002fen-Trac\",\"en\"],[\"parallel_data\\u002fen-Trac\",\"en\"],[\"parallel_data\\u002fen-Trac\",\"en\"],[\"parallel_data\\u002fen-Trac\",\"en\"],[\"parallel_data\\u002fen-Trac\",\"en\"],[\"parallel_data\\u002fen-Trac\",\"en\"],[\"parallel_data\\u002fen-Trac\",\"en\"],[\"parallel_data\\u002fen-Trac\",\"en\"],[\"parallel_data\\u002fen-Trac\",\"en\"],[\"parallel_data\\u002fen-Trac\",\"en\"],[\"parallel_data\\u002fen-Trac\",\"en\"],[\"parallel_data\\u002fen-Trac\",\"en\"],[\"parallel_data\\u002fen-Trac\",\"en\"],[\"parallel_data\\u002fen-Trac\",\"en\"],[\"parallel_data\\u002fen-Trac\",\"en\"],[\"parallel_data\\u002fen-Trac\",\"en\"],[\"parallel_data\\u002fen-Trac\",\"en\"],[\"parallel_data\\u002fen-Trac\",\"en\"],[\"parallel_data\\u002fen-Trac\",\"en\"],[\"parallel_data\\u002fen-Trac\",\"en\"],[\"parallel_data\\u002fen-Trac\",\"en\"],[\"parallel_data\\u002fen-Trac\",\"en\"],[\"parallel_data\\u002fen-Trac\",\"en\"],[\"parallel_data\\u002fen-Trac\",\"en\"],[\"parallel_data\\u002fen-Trac\",\"en\"],[\"parallel_data\\u002fen-Trac\",\"en\"],[\"parallel_data\\u002fen-Trac\",\"en\"],[\"parallel_data\\u002fen-Trac\",\"en\"],[\"parallel_data\\u002fen-Trac\",\"en\"],[\"parallel_data\\u002fen-Trac\",\"en\"],[\"parallel_data\\u002fen-Trac\",\"en\"],[\"parallel_data\\u002fen-Trac\",\"en\"],[\"parallel_data\\u002fen-Trac\",\"en\"],[\"parallel_data\\u002fen-Trac\",\"en\"],[\"parallel_data\\u002fen-Trac\",\"en\"],[\"parallel_data\\u002fen-Trac\",\"en\"],[\"parallel_data\\u002fen-Trac\",\"en\"],[\"parallel_data\\u002fen-Trac\",\"en\"],[\"parallel_data\\u002fen-Trac\",\"en\"],[\"parallel_data\\u002fen-Trac\",\"en\"],[\"parallel_data\\u002fen-Trac\",\"en\"],[\"parallel_data\\u002fen-Trac\",\"en\"],[\"parallel_data\\u002fen-Trac\",\"en\"],[\"parallel_data\\u002fen-Trac\",\"en\"],[\"parallel_data\\u002fen-Trac\",\"en\"],[\"parallel_data\\u002fen-Trac\",\"en\"],[\"parallel_data\\u002fen-Trac\",\"en\"],[\"parallel_data\\u002fen-Trac\",\"en\"],[\"parallel_data\\u002fen-Trac\",\"en\"],[\"parallel_data\\u002fen-Trac\",\"en\"],[\"parallel_data\\u002fen-Trac\",\"en\"],[\"parallel_data\\u002fen-Trac\",\"en\"],[\"parallel_data\\u002fen-Trac\",\"en\"],[\"parallel_data\\u002fen-Trac\",\"en\"],[\"parallel_data\\u002fen-Trac\",\"en\"],[\"parallel_data\\u002fen-Trac\",\"en\"],[\"parallel_data\\u002fen-Trac\",\"en\"],[\"parallel_data\\u002fen-Trac\",\"en\"],[\"parallel_data\\u002fen-Trac\",\"en\"],[\"parallel_data\\u002fen-Trac\",\"en\"],[\"parallel_data\\u002fen-Trac\",\"en\"],[\"parallel_data\\u002fen-Trac\",\"en\"],[\"parallel_data\\u002fen-Trac\",\"en\"],[\"parallel_data\\u002fen-Trac\",\"en\"],[\"parallel_data\\u002fen-Trac\",\"en\"],[\"parallel_data\\u002fen-Trac\",\"en\"],[\"parallel_data\\u002fen-Trac\",\"en\"],[\"parallel_data\\u002fen-Trac\",\"en\"],[\"parallel_data\\u002fen-Trac\",\"en\"],[\"parallel_data\\u002fen-Trac\",\"en\"],[\"parallel_data\\u002fen-Trac\",\"en\"],[\"parallel_data\\u002fen-Trac\",\"en\"],[\"parallel_data\\u002fen-Trac\",\"en\"],[\"parallel_data\\u002fen-Trac\",\"en\"],[\"parallel_data\\u002fen-Trac\",\"en\"],[\"parallel_data\\u002fen-Trac\",\"en\"],[\"parallel_data\\u002fen-Trac\",\"en\"],[\"parallel_data\\u002fen-Trac\",\"en\"],[\"parallel_data\\u002fen-Trac\",\"en\"],[\"parallel_data\\u002fen-Trac\",\"en\"],[\"parallel_data\\u002fen-Trac\",\"en\"],[\"parallel_data\\u002fen-Trac\",\"en\"],[\"parallel_data\\u002fen-Trac\",\"en\"],[\"parallel_data\\u002fen-Trac\",\"en\"],[\"parallel_data\\u002fen-Trac\",\"en\"],[\"parallel_data\\u002fen-Trac\",\"en\"],[\"parallel_data\\u002fen-Trac\",\"en\"],[\"parallel_data\\u002fen-Trac\",\"en\"],[\"parallel_data\\u002fen-Trac\",\"en\"],[\"parallel_data\\u002fen-Trac\",\"en\"],[\"parallel_data\\u002fen-Trac\",\"en\"]],\"hovertemplate\":\"language=%{customdata[1]}\\u003cbr\\u003ex=%{x}\\u003cbr\\u003ey=%{y}\\u003cbr\\u003edataset_name=%{customdata[0]}\\u003cextra\\u003e\\u003c\\u002fextra\\u003e\",\"legendgroup\":\"en\",\"marker\":{\"color\":\"#636efa\",\"symbol\":\"circle\"},\"mode\":\"markers\",\"name\":\"en\",\"showlegend\":true,\"x\":[5.228725910186768,6.81326961517334,7.235931396484375,-5.8288421630859375,-4.934246063232422,9.346835136413574,-4.892932415008545,-1.2155743837356567,2.9287266731262207,-0.2580156922340393,0.9444647431373596,3.748290777206421,5.373198509216309,7.432144641876221,-0.7989580035209656,12.023407936096191,-3.6326067447662354,2.557056188583374,5.016007423400879,-3.6437742710113525,-2.177624464035034,0.33516478538513184,2.1871984004974365,-1.9241535663604736,9.166563034057617,-0.3285720646381378,9.122407913208008,9.49742317199707,3.4226207733154297,-2.4621732234954834,2.93865704536438,6.458267688751221,1.746602177619934,-0.933815062046051,-2.0828065872192383,2.0196642875671387,0.0388539619743824,7.017026901245117,5.0922017097473145,-1.4975922107696533,3.980499744415283,7.293458461761475,-0.9034104943275452,-3.3440256118774414,2.6601686477661133,-4.069751739501953,-0.6775911450386047,-2.117971897125244,9.139971733093262,-3.7603676319122314,1.282409429550171,7.350881099700928,4.884673595428467,0.5478956699371338,3.7497897148132324,2.5173709392547607,4.108582019805908,1.0845588445663452,4.087575912475586,11.007553100585938,6.779338359832764,0.2128019630908966,-1.89678156375885,-1.8262804746627808,0.896522045135498,0.8977649807929993,4.75309419631958,0.2955617606639862,6.307275772094727,8.335320472717285,1.2677381038665771,4.815290927886963,-1.9526066780090332,2.650353193283081,4.749576091766357,-1.041321873664856,0.5254834890365601,-0.39823856949806213,-5.494893550872803,5.649657726287842,3.13592267036438,-0.07144946604967117,5.001919746398926,-3.1980092525482178,3.6877880096435547,7.369783401489258,4.263049125671387,-4.2004828453063965,6.2381157875061035,10.329143524169922,8.054200172424316,3.375713348388672,5.158432483673096,3.2683463096618652,7.52067232131958,2.399162530899048,4.283170223236084,11.778237342834473,-7.592538833618164,0.26077011227607727,-0.7790181636810303,6.725762367248535,4.284955024719238,5.649569034576416,-8.56762981414795,-1.5530362129211426,0.6290137767791748,0.7307298183441162,-8.235438346862793,5.8236985206604,-2.388070821762085,-3.783860445022583,1.933149814605713,7.3897881507873535,-0.02694840542972088,2.7652735710144043,0.20647580921649933,-0.593366801738739,-2.1245052814483643,4.281580924987793,7.816819190979004,6.850086212158203,2.814098358154297,5.381257057189941,3.7563254833221436,-7.357496738433838,1.5681794881820679,5.772119045257568,2.4914462566375732,-2.726148843765259,0.8753808736801147,3.181321859359741,-1.996280550956726,-3.5592246055603027,12.077790260314941,7.032383441925049,-2.038745880126953,-8.69600772857666,8.813218116760254,6.498990058898926,-2.7588698863983154,8.551904678344727,0.7971973419189453,5.956226825714111,6.9674153327941895,0.8094084858894348,3.8587589263916016,-3.8570680618286133,-5.537819862365723,-1.471922516822815,8.546160697937012,3.565577268600464,0.8236716389656067,3.04179048538208,-1.9718163013458252,-0.6669503450393677,3.9512054920196533,3.5659728050231934,2.85445499420166,1.987770915031433,10.271407127380371,4.617768287658691,3.972656726837158,4.187713146209717,-7.994598865509033,4.401510715484619,0.3985039293766022,-4.12475061416626,-0.1257946938276291,-3.7073962688446045,5.412727355957031,-1.5005724430084229,4.157861232757568,1.5950950384140015,6.180786609649658,-0.5555577874183655,1.348990797996521,3.2921526432037354,-3.3144068717956543,-0.6164531707763672,2.2209815979003906,1.0940817594528198,-5.741564750671387,5.441112041473389,1.2724761962890625,-8.158581733703613,10.076897621154785,2.5792455673217773,1.9327263832092285,1.5944315195083618,-1.2996978759765625,-7.374114990234375,2.226787805557251,-3.4175522327423096,2.9689557552337646,3.3886399269104004,1.044197916984558,0.1322334259748459,-1.2146806716918945,-2.1467642784118652,-1.842005729675293,-8.150101661682129,1.3431355953216553,-4.931462287902832,0.7362618446350098,7.2913737297058105,-2.8289310932159424,5.060055255889893,-5.419056415557861,-2.211604356765747,11.128775596618652,8.064953804016113,-8.027461051940918,2.267754316329956,-6.71848201751709,-1.0432220697402954,-1.3694266080856323,1.7527883052825928,1.7169685363769531,3.2119946479797363,-2.935770273208618,9.29351806640625,7.029582500457764,4.223875522613525,0.04895937815308571,5.465106964111328,-8.119366645812988,10.310023307800293,4.662734031677246,6.695992469787598,0.14623697102069855,6.790139675140381,4.384194374084473,6.840288162231445,1.507483959197998,-3.114924192428589,2.0846526622772217,7.018626689910889,-1.1743700504302979,11.440524101257324,1.8489586114883423,-1.8827563524246216,6.329972743988037,6.2687668800354,2.4299232959747314,1.3945976495742798,-7.351866245269775,-4.384925365447998,2.7696549892425537,2.6038594245910645,7.164602756500244,1.7399870157241821,-1.5540037155151367,-0.09001155942678452,-2.620182752609253,-5.188082695007324,-3.5623886585235596,1.239432454109192,4.20687198638916,2.036245584487915,-0.5293501615524292,-3.3456952571868896,-1.6000028848648071,3.377978563308716,-0.014791768044233322,-7.782997131347656,7.9313836097717285,1.1119526624679565,-1.746214509010315,-1.2547417879104614,-2.75864315032959,3.4440672397613525,2.334427833557129,-0.9279442429542542,-3.5314571857452393,1.7135944366455078,1.29527747631073,5.132961750030518,7.489315509796143,0.5325857996940613,2.705554723739624,8.922229766845703,-0.46960338950157166,2.2063992023468018,-2.8032212257385254,4.1621246337890625,5.039941787719727,1.8765995502471924,1.9810537099838257,-1.0115214586257935,-5.640198707580566,0.5872484445571899,-4.241240501403809,-0.8676120638847351,0.4984837472438812,2.1467087268829346,-2.9599807262420654,-0.2256215363740921,6.061747074127197,0.1519828587770462],\"xaxis\":\"x\",\"y\":[2.8650097846984863,5.6875691413879395,3.838916540145874,0.7598837614059448,2.326167583465576,4.860719680786133,1.152633786201477,-0.46328723430633545,6.881978988647461,-4.4074296951293945,6.088930130004883,0.12245096266269684,5.0627923011779785,1.057698369026184,1.30156409740448,0.9633557796478271,1.5357218980789185,-1.8580034971237183,11.74588680267334,-0.809901773929596,3.910433053970337,8.497122764587402,7.395826816558838,0.41335034370422363,7.641191005706787,7.035945892333984,5.824635982513428,4.659261226654053,5.242025852203369,0.2697484791278839,7.767204284667969,-1.3847075700759888,12.564570426940918,7.120416164398193,11.865914344787598,13.69577407836914,0.6430047750473022,2.5587916374206543,3.261460781097412,-4.002099514007568,6.856743812561035,0.03917071968317032,5.395636081695557,-0.06536923348903656,7.566880702972412,1.011345624923706,8.164121627807617,3.996630907058716,4.089160919189453,8.865493774414062,11.573752403259277,8.534984588623047,10.148462295532227,2.2353322505950928,0.3797619938850403,1.8981013298034668,11.137126922607422,3.6272687911987305,3.867612838745117,8.216294288635254,4.060417175292969,0.8632031083106995,15.145134925842285,0.9533284306526184,7.303299427032471,3.3785150051116943,4.0335307121276855,4.078485488891602,5.0666632652282715,8.521263122558594,12.199175834655762,7.590239524841309,15.77822494506836,8.64603328704834,4.6478071212768555,9.831226348876953,11.351576805114746,8.497058868408203,3.511962890625,3.9023725986480713,5.422545909881592,4.884596824645996,7.320764541625977,3.7297770977020264,5.52924108505249,7.103671073913574,12.99880313873291,8.794386863708496,9.230818748474121,3.7588977813720703,5.264444828033447,13.81579303741455,7.211336612701416,13.9525146484375,13.694297790527344,10.841726303100586,6.644905090332031,1.1842930316925049,0.5341719388961792,6.618229389190674,13.112977027893066,8.800662994384766,-0.20650650560855865,9.982754707336426,6.957315444946289,7.898407936096191,4.81329870223999,6.129130840301514,6.673084735870361,5.752362251281738,0.5759198665618896,5.695281505584717,12.84334945678711,3.915911912918091,7.758589744567871,-1.0173096656799316,7.058595657348633,12.271017074584961,0.999310314655304,12.527237892150879,11.77959156036377,6.424854278564453,5.411694049835205,6.790792465209961,10.754071235656738,0.8268550634384155,3.113290309906006,3.644258975982666,-2.0009806156158447,7.054997444152832,3.8499298095703125,14.780367851257324,15.277765274047852,3.0718767642974854,0.9084658622741699,3.5955207347869873,6.624178409576416,6.8430867195129395,3.925957202911377,7.047017574310303,1.5532186031341553,3.3742001056671143,7.371462821960449,9.879755020141602,1.563948392868042,-3.1850860118865967,2.309748649597168,1.8693031072616577,6.590566635131836,-0.8394816517829895,8.6814546585083,11.711786270141602,1.8920204639434814,11.851200103759766,6.375105857849121,8.718992233276367,10.257675170898438,15.51962661743164,11.736320495605469,5.815016269683838,11.076004028320312,6.783613204956055,8.511293411254883,5.6123738288879395,1.2174395322799683,5.0427470207214355,10.745877265930176,1.9293158054351807,10.427247047424316,8.808853149414062,8.784144401550293,2.5869810581207275,-0.10348843038082123,11.269478797912598,8.43400764465332,5.683363914489746,9.989426612854004,0.013897756114602089,12.61664867401123,7.223941326141357,11.248747825622559,4.202913284301758,2.143321990966797,5.697509288787842,6.121514797210693,6.782435894012451,11.366413116455078,7.605529308319092,4.517343997955322,4.2813286781311035,1.296947956085205,6.65793514251709,11.421980857849121,-2.6524767875671387,9.3696870803833,9.287928581237793,10.538839340209961,4.381077766418457,-1.2894413471221924,-0.10585812479257584,2.5248332023620605,2.5545108318328857,-2.8099939823150635,-0.19021543860435486,10.222474098205566,5.889602184295654,2.3934578895568848,3.5166821479797363,3.4262595176696777,-0.24125052988529205,8.325705528259277,6.129571914672852,2.4912269115448,2.0647201538085938,0.6421003937721252,4.366085529327393,9.680660247802734,8.929631233215332,7.266865253448486,12.587236404418945,1.3031742572784424,7.687077522277832,9.833990097045898,12.945104598999023,3.1074466705322266,6.505350112915039,6.726229190826416,11.03223991394043,13.222588539123535,15.346311569213867,0.006270712707191706,3.459749937057495,8.015780448913574,8.847859382629395,13.958704948425293,13.807097434997559,13.880545616149902,3.0357859134674072,5.66264009475708,6.580973148345947,8.939879417419434,15.709550857543945,8.007601737976074,5.920489311218262,8.976040840148926,6.724323272705078,0.9746522903442383,-0.02301732636988163,-1.548413634300232,3.6242783069610596,6.7090253829956055,2.55418062210083,-0.8197250962257385,7.009322643280029,3.9834816455841064,0.9822487235069275,-1.1413218975067139,11.104059219360352,5.142885684967041,1.6601860523223877,10.742674827575684,4.298595428466797,2.318539619445801,0.012074640952050686,5.304586887359619,1.053627371788025,5.330166339874268,-2.9691879749298096,1.5496079921722412,9.431859970092773,-0.9445178508758545,-1.9470930099487305,1.2291903495788574,8.33646297454834,-0.13817588984966278,12.175790786743164,9.495537757873535,10.046452522277832,5.169307231903076,8.75434398651123,11.279328346252441,8.786768913269043,10.29227352142334,12.172322273254395,1.7709159851074219,13.149711608886719,12.63812255859375,8.029487609863281,11.724740028381348,9.275734901428223,-0.3053041398525238,-3.1197335720062256,0.5050313472747803,4.275567054748535,3.153501272201538,12.676177978515625,0.4673856198787689,3.3285696506500244,0.48109787702560425,6.3972063064575195],\"yaxis\":\"y\",\"type\":\"scattergl\"},{\"customdata\":[[\"parallel_data\\u002ftr-Trac\",\"tr\"],[\"parallel_data\\u002ftr-Trac\",\"tr\"],[\"parallel_data\\u002ftr-Trac\",\"tr\"],[\"parallel_data\\u002ftr-Trac\",\"tr\"],[\"parallel_data\\u002ftr-Trac\",\"tr\"],[\"parallel_data\\u002ftr-Trac\",\"tr\"],[\"parallel_data\\u002ftr-Trac\",\"tr\"],[\"parallel_data\\u002ftr-Trac\",\"tr\"],[\"parallel_data\\u002ftr-Trac\",\"tr\"],[\"parallel_data\\u002ftr-Trac\",\"tr\"],[\"parallel_data\\u002ftr-Trac\",\"tr\"],[\"parallel_data\\u002ftr-Trac\",\"tr\"],[\"parallel_data\\u002ftr-Trac\",\"tr\"],[\"parallel_data\\u002ftr-Trac\",\"tr\"],[\"parallel_data\\u002ftr-Trac\",\"tr\"],[\"parallel_data\\u002ftr-Trac\",\"tr\"],[\"parallel_data\\u002ftr-Trac\",\"tr\"],[\"parallel_data\\u002ftr-Trac\",\"tr\"],[\"parallel_data\\u002ftr-Trac\",\"tr\"],[\"parallel_data\\u002ftr-Trac\",\"tr\"],[\"parallel_data\\u002ftr-Trac\",\"tr\"],[\"parallel_data\\u002ftr-Trac\",\"tr\"],[\"parallel_data\\u002ftr-Trac\",\"tr\"],[\"parallel_data\\u002ftr-Trac\",\"tr\"],[\"parallel_data\\u002ftr-Trac\",\"tr\"],[\"parallel_data\\u002ftr-Trac\",\"tr\"],[\"parallel_data\\u002ftr-Trac\",\"tr\"],[\"parallel_data\\u002ftr-Trac\",\"tr\"],[\"parallel_data\\u002ftr-Trac\",\"tr\"],[\"parallel_data\\u002ftr-Trac\",\"tr\"],[\"parallel_data\\u002ftr-Trac\",\"tr\"],[\"parallel_data\\u002ftr-Trac\",\"tr\"],[\"parallel_data\\u002ftr-Trac\",\"tr\"],[\"parallel_data\\u002ftr-Trac\",\"tr\"],[\"parallel_data\\u002ftr-Trac\",\"tr\"],[\"parallel_data\\u002ftr-Trac\",\"tr\"],[\"parallel_data\\u002ftr-Trac\",\"tr\"],[\"parallel_data\\u002ftr-Trac\",\"tr\"],[\"parallel_data\\u002ftr-Trac\",\"tr\"],[\"parallel_data\\u002ftr-Trac\",\"tr\"],[\"parallel_data\\u002ftr-Trac\",\"tr\"],[\"parallel_data\\u002ftr-Trac\",\"tr\"],[\"parallel_data\\u002ftr-Trac\",\"tr\"],[\"parallel_data\\u002ftr-Trac\",\"tr\"],[\"parallel_data\\u002ftr-Trac\",\"tr\"],[\"parallel_data\\u002ftr-Trac\",\"tr\"],[\"parallel_data\\u002ftr-Trac\",\"tr\"],[\"parallel_data\\u002ftr-Trac\",\"tr\"],[\"parallel_data\\u002ftr-Trac\",\"tr\"],[\"parallel_data\\u002ftr-Trac\",\"tr\"],[\"parallel_data\\u002ftr-Trac\",\"tr\"],[\"parallel_data\\u002ftr-Trac\",\"tr\"],[\"parallel_data\\u002ftr-Trac\",\"tr\"],[\"parallel_data\\u002ftr-Trac\",\"tr\"],[\"parallel_data\\u002ftr-Trac\",\"tr\"],[\"parallel_data\\u002ftr-Trac\",\"tr\"],[\"parallel_data\\u002ftr-Trac\",\"tr\"],[\"parallel_data\\u002ftr-Trac\",\"tr\"],[\"parallel_data\\u002ftr-Trac\",\"tr\"],[\"parallel_data\\u002ftr-Trac\",\"tr\"],[\"parallel_data\\u002ftr-Trac\",\"tr\"],[\"parallel_data\\u002ftr-Trac\",\"tr\"],[\"parallel_data\\u002ftr-Trac\",\"tr\"],[\"parallel_data\\u002ftr-Trac\",\"tr\"],[\"parallel_data\\u002ftr-Trac\",\"tr\"],[\"parallel_data\\u002ftr-Trac\",\"tr\"],[\"parallel_data\\u002ftr-Trac\",\"tr\"],[\"parallel_data\\u002ftr-Trac\",\"tr\"],[\"parallel_data\\u002ftr-Trac\",\"tr\"],[\"parallel_data\\u002ftr-Trac\",\"tr\"],[\"parallel_data\\u002ftr-Trac\",\"tr\"],[\"parallel_data\\u002ftr-Trac\",\"tr\"],[\"parallel_data\\u002ftr-Trac\",\"tr\"],[\"parallel_data\\u002ftr-Trac\",\"tr\"],[\"parallel_data\\u002ftr-Trac\",\"tr\"],[\"parallel_data\\u002ftr-Trac\",\"tr\"],[\"parallel_data\\u002ftr-Trac\",\"tr\"],[\"parallel_data\\u002ftr-Trac\",\"tr\"],[\"parallel_data\\u002ftr-Trac\",\"tr\"],[\"parallel_data\\u002ftr-Trac\",\"tr\"],[\"parallel_data\\u002ftr-Trac\",\"tr\"],[\"parallel_data\\u002ftr-Trac\",\"tr\"],[\"parallel_data\\u002ftr-Trac\",\"tr\"],[\"parallel_data\\u002ftr-Trac\",\"tr\"],[\"parallel_data\\u002ftr-Trac\",\"tr\"],[\"parallel_data\\u002ftr-Trac\",\"tr\"],[\"parallel_data\\u002ftr-Trac\",\"tr\"],[\"parallel_data\\u002ftr-Trac\",\"tr\"],[\"parallel_data\\u002ftr-Trac\",\"tr\"],[\"parallel_data\\u002ftr-Trac\",\"tr\"],[\"parallel_data\\u002ftr-Trac\",\"tr\"],[\"parallel_data\\u002ftr-Trac\",\"tr\"],[\"parallel_data\\u002ftr-Trac\",\"tr\"],[\"parallel_data\\u002ftr-Trac\",\"tr\"],[\"parallel_data\\u002ftr-Trac\",\"tr\"],[\"parallel_data\\u002ftr-Trac\",\"tr\"],[\"parallel_data\\u002ftr-Trac\",\"tr\"],[\"parallel_data\\u002ftr-Trac\",\"tr\"],[\"parallel_data\\u002ftr-Trac\",\"tr\"],[\"parallel_data\\u002ftr-Trac\",\"tr\"],[\"parallel_data\\u002ftr-Trac\",\"tr\"],[\"parallel_data\\u002ftr-Trac\",\"tr\"],[\"parallel_data\\u002ftr-Trac\",\"tr\"],[\"parallel_data\\u002ftr-Trac\",\"tr\"],[\"parallel_data\\u002ftr-Trac\",\"tr\"],[\"parallel_data\\u002ftr-Trac\",\"tr\"],[\"parallel_data\\u002ftr-Trac\",\"tr\"],[\"parallel_data\\u002ftr-Trac\",\"tr\"],[\"parallel_data\\u002ftr-Trac\",\"tr\"],[\"parallel_data\\u002ftr-Trac\",\"tr\"],[\"parallel_data\\u002ftr-Trac\",\"tr\"],[\"parallel_data\\u002ftr-Trac\",\"tr\"],[\"parallel_data\\u002ftr-Trac\",\"tr\"],[\"parallel_data\\u002ftr-Trac\",\"tr\"],[\"parallel_data\\u002ftr-Trac\",\"tr\"],[\"parallel_data\\u002ftr-Trac\",\"tr\"],[\"parallel_data\\u002ftr-Trac\",\"tr\"],[\"parallel_data\\u002ftr-Trac\",\"tr\"],[\"parallel_data\\u002ftr-Trac\",\"tr\"],[\"parallel_data\\u002ftr-Trac\",\"tr\"],[\"parallel_data\\u002ftr-Trac\",\"tr\"],[\"parallel_data\\u002ftr-Trac\",\"tr\"],[\"parallel_data\\u002ftr-Trac\",\"tr\"],[\"parallel_data\\u002ftr-Trac\",\"tr\"],[\"parallel_data\\u002ftr-Trac\",\"tr\"],[\"parallel_data\\u002ftr-Trac\",\"tr\"],[\"parallel_data\\u002ftr-Trac\",\"tr\"],[\"parallel_data\\u002ftr-Trac\",\"tr\"],[\"parallel_data\\u002ftr-Trac\",\"tr\"],[\"parallel_data\\u002ftr-Trac\",\"tr\"],[\"parallel_data\\u002ftr-Trac\",\"tr\"],[\"parallel_data\\u002ftr-Trac\",\"tr\"],[\"parallel_data\\u002ftr-Trac\",\"tr\"],[\"parallel_data\\u002ftr-Trac\",\"tr\"],[\"parallel_data\\u002ftr-Trac\",\"tr\"],[\"parallel_data\\u002ftr-Trac\",\"tr\"],[\"parallel_data\\u002ftr-Trac\",\"tr\"],[\"parallel_data\\u002ftr-Trac\",\"tr\"],[\"parallel_data\\u002ftr-Trac\",\"tr\"],[\"parallel_data\\u002ftr-Trac\",\"tr\"],[\"parallel_data\\u002ftr-Trac\",\"tr\"],[\"parallel_data\\u002ftr-Trac\",\"tr\"],[\"parallel_data\\u002ftr-Trac\",\"tr\"],[\"parallel_data\\u002ftr-Trac\",\"tr\"],[\"parallel_data\\u002ftr-Trac\",\"tr\"],[\"parallel_data\\u002ftr-Trac\",\"tr\"],[\"parallel_data\\u002ftr-Trac\",\"tr\"],[\"parallel_data\\u002ftr-Trac\",\"tr\"],[\"parallel_data\\u002ftr-Trac\",\"tr\"],[\"parallel_data\\u002ftr-Trac\",\"tr\"],[\"parallel_data\\u002ftr-Trac\",\"tr\"],[\"parallel_data\\u002ftr-Trac\",\"tr\"],[\"parallel_data\\u002ftr-Trac\",\"tr\"],[\"parallel_data\\u002ftr-Trac\",\"tr\"],[\"parallel_data\\u002ftr-Trac\",\"tr\"],[\"parallel_data\\u002ftr-Trac\",\"tr\"],[\"parallel_data\\u002ftr-Trac\",\"tr\"],[\"parallel_data\\u002ftr-Trac\",\"tr\"],[\"parallel_data\\u002ftr-Trac\",\"tr\"],[\"parallel_data\\u002ftr-Trac\",\"tr\"],[\"parallel_data\\u002ftr-Trac\",\"tr\"],[\"parallel_data\\u002ftr-Trac\",\"tr\"],[\"parallel_data\\u002ftr-Trac\",\"tr\"],[\"parallel_data\\u002ftr-Trac\",\"tr\"],[\"parallel_data\\u002ftr-Trac\",\"tr\"],[\"parallel_data\\u002ftr-Trac\",\"tr\"],[\"parallel_data\\u002ftr-Trac\",\"tr\"],[\"parallel_data\\u002ftr-Trac\",\"tr\"],[\"parallel_data\\u002ftr-Trac\",\"tr\"],[\"parallel_data\\u002ftr-Trac\",\"tr\"],[\"parallel_data\\u002ftr-Trac\",\"tr\"],[\"parallel_data\\u002ftr-Trac\",\"tr\"],[\"parallel_data\\u002ftr-Trac\",\"tr\"],[\"parallel_data\\u002ftr-Trac\",\"tr\"],[\"parallel_data\\u002ftr-Trac\",\"tr\"],[\"parallel_data\\u002ftr-Trac\",\"tr\"],[\"parallel_data\\u002ftr-Trac\",\"tr\"],[\"parallel_data\\u002ftr-Trac\",\"tr\"],[\"parallel_data\\u002ftr-Trac\",\"tr\"],[\"parallel_data\\u002ftr-Trac\",\"tr\"],[\"parallel_data\\u002ftr-Trac\",\"tr\"],[\"parallel_data\\u002ftr-Trac\",\"tr\"],[\"parallel_data\\u002ftr-Trac\",\"tr\"],[\"parallel_data\\u002ftr-Trac\",\"tr\"],[\"parallel_data\\u002ftr-Trac\",\"tr\"],[\"parallel_data\\u002ftr-Trac\",\"tr\"],[\"parallel_data\\u002ftr-Trac\",\"tr\"],[\"parallel_data\\u002ftr-Trac\",\"tr\"],[\"parallel_data\\u002ftr-Trac\",\"tr\"],[\"parallel_data\\u002ftr-Trac\",\"tr\"],[\"parallel_data\\u002ftr-Trac\",\"tr\"],[\"parallel_data\\u002ftr-Trac\",\"tr\"],[\"parallel_data\\u002ftr-Trac\",\"tr\"],[\"parallel_data\\u002ftr-Trac\",\"tr\"],[\"parallel_data\\u002ftr-Trac\",\"tr\"],[\"parallel_data\\u002ftr-Trac\",\"tr\"],[\"parallel_data\\u002ftr-Trac\",\"tr\"],[\"parallel_data\\u002ftr-Trac\",\"tr\"],[\"parallel_data\\u002ftr-Trac\",\"tr\"],[\"parallel_data\\u002ftr-Trac\",\"tr\"],[\"parallel_data\\u002ftr-Trac\",\"tr\"],[\"parallel_data\\u002ftr-Trac\",\"tr\"],[\"parallel_data\\u002ftr-Trac\",\"tr\"],[\"parallel_data\\u002ftr-Trac\",\"tr\"],[\"parallel_data\\u002ftr-Trac\",\"tr\"],[\"parallel_data\\u002ftr-Trac\",\"tr\"],[\"parallel_data\\u002ftr-Trac\",\"tr\"],[\"parallel_data\\u002ftr-Trac\",\"tr\"],[\"parallel_data\\u002ftr-Trac\",\"tr\"],[\"parallel_data\\u002ftr-Trac\",\"tr\"],[\"parallel_data\\u002ftr-Trac\",\"tr\"],[\"parallel_data\\u002ftr-Trac\",\"tr\"],[\"parallel_data\\u002ftr-Trac\",\"tr\"],[\"parallel_data\\u002ftr-Trac\",\"tr\"],[\"parallel_data\\u002ftr-Trac\",\"tr\"],[\"parallel_data\\u002ftr-Trac\",\"tr\"],[\"parallel_data\\u002ftr-Trac\",\"tr\"],[\"parallel_data\\u002ftr-Trac\",\"tr\"],[\"parallel_data\\u002ftr-Trac\",\"tr\"],[\"parallel_data\\u002ftr-Trac\",\"tr\"],[\"parallel_data\\u002ftr-Trac\",\"tr\"],[\"parallel_data\\u002ftr-Trac\",\"tr\"],[\"parallel_data\\u002ftr-Trac\",\"tr\"],[\"parallel_data\\u002ftr-Trac\",\"tr\"],[\"parallel_data\\u002ftr-Trac\",\"tr\"],[\"parallel_data\\u002ftr-Trac\",\"tr\"],[\"parallel_data\\u002ftr-Trac\",\"tr\"],[\"parallel_data\\u002ftr-Trac\",\"tr\"],[\"parallel_data\\u002ftr-Trac\",\"tr\"],[\"parallel_data\\u002ftr-Trac\",\"tr\"],[\"parallel_data\\u002ftr-Trac\",\"tr\"],[\"parallel_data\\u002ftr-Trac\",\"tr\"],[\"parallel_data\\u002ftr-Trac\",\"tr\"],[\"parallel_data\\u002ftr-Trac\",\"tr\"],[\"parallel_data\\u002ftr-Trac\",\"tr\"],[\"parallel_data\\u002ftr-Trac\",\"tr\"],[\"parallel_data\\u002ftr-Trac\",\"tr\"],[\"parallel_data\\u002ftr-Trac\",\"tr\"],[\"parallel_data\\u002ftr-Trac\",\"tr\"],[\"parallel_data\\u002ftr-Trac\",\"tr\"],[\"parallel_data\\u002ftr-Trac\",\"tr\"],[\"parallel_data\\u002ftr-Trac\",\"tr\"],[\"parallel_data\\u002ftr-Trac\",\"tr\"],[\"parallel_data\\u002ftr-Trac\",\"tr\"],[\"parallel_data\\u002ftr-Trac\",\"tr\"],[\"parallel_data\\u002ftr-Trac\",\"tr\"],[\"parallel_data\\u002ftr-Trac\",\"tr\"],[\"parallel_data\\u002ftr-Trac\",\"tr\"],[\"parallel_data\\u002ftr-Trac\",\"tr\"],[\"parallel_data\\u002ftr-Trac\",\"tr\"],[\"parallel_data\\u002ftr-Trac\",\"tr\"],[\"parallel_data\\u002ftr-Trac\",\"tr\"],[\"parallel_data\\u002ftr-Trac\",\"tr\"],[\"parallel_data\\u002ftr-Trac\",\"tr\"],[\"parallel_data\\u002ftr-Trac\",\"tr\"],[\"parallel_data\\u002ftr-Trac\",\"tr\"],[\"parallel_data\\u002ftr-Trac\",\"tr\"],[\"parallel_data\\u002ftr-Trac\",\"tr\"],[\"parallel_data\\u002ftr-Trac\",\"tr\"],[\"parallel_data\\u002ftr-Trac\",\"tr\"],[\"parallel_data\\u002ftr-Trac\",\"tr\"],[\"parallel_data\\u002ftr-Trac\",\"tr\"],[\"parallel_data\\u002ftr-Trac\",\"tr\"],[\"parallel_data\\u002ftr-Trac\",\"tr\"],[\"parallel_data\\u002ftr-Trac\",\"tr\"],[\"parallel_data\\u002ftr-Trac\",\"tr\"],[\"parallel_data\\u002ftr-Trac\",\"tr\"],[\"parallel_data\\u002ftr-Trac\",\"tr\"],[\"parallel_data\\u002ftr-Trac\",\"tr\"],[\"parallel_data\\u002ftr-Trac\",\"tr\"],[\"parallel_data\\u002ftr-Trac\",\"tr\"],[\"parallel_data\\u002ftr-Trac\",\"tr\"],[\"parallel_data\\u002ftr-Trac\",\"tr\"],[\"parallel_data\\u002ftr-Trac\",\"tr\"],[\"parallel_data\\u002ftr-Trac\",\"tr\"],[\"parallel_data\\u002ftr-Trac\",\"tr\"],[\"parallel_data\\u002ftr-Trac\",\"tr\"],[\"parallel_data\\u002ftr-Trac\",\"tr\"],[\"parallel_data\\u002ftr-Trac\",\"tr\"],[\"parallel_data\\u002ftr-Trac\",\"tr\"],[\"parallel_data\\u002ftr-Trac\",\"tr\"],[\"parallel_data\\u002ftr-Trac\",\"tr\"],[\"parallel_data\\u002ftr-Trac\",\"tr\"],[\"parallel_data\\u002ftr-Trac\",\"tr\"],[\"parallel_data\\u002ftr-Trac\",\"tr\"],[\"parallel_data\\u002ftr-Trac\",\"tr\"],[\"parallel_data\\u002ftr-Trac\",\"tr\"],[\"parallel_data\\u002ftr-Trac\",\"tr\"],[\"parallel_data\\u002ftr-Trac\",\"tr\"],[\"parallel_data\\u002ftr-Trac\",\"tr\"],[\"parallel_data\\u002ftr-Trac\",\"tr\"],[\"parallel_data\\u002ftr-Trac\",\"tr\"],[\"parallel_data\\u002ftr-Trac\",\"tr\"],[\"parallel_data\\u002ftr-Trac\",\"tr\"],[\"parallel_data\\u002ftr-Trac\",\"tr\"],[\"parallel_data\\u002ftr-Trac\",\"tr\"],[\"parallel_data\\u002ftr-Trac\",\"tr\"],[\"parallel_data\\u002ftr-Trac\",\"tr\"],[\"parallel_data\\u002ftr-Trac\",\"tr\"],[\"parallel_data\\u002ftr-Trac\",\"tr\"]],\"hovertemplate\":\"language=%{customdata[1]}\\u003cbr\\u003ex=%{x}\\u003cbr\\u003ey=%{y}\\u003cbr\\u003edataset_name=%{customdata[0]}\\u003cextra\\u003e\\u003c\\u002fextra\\u003e\",\"legendgroup\":\"tr\",\"marker\":{\"color\":\"#EF553B\",\"symbol\":\"circle\"},\"mode\":\"markers\",\"name\":\"tr\",\"showlegend\":true,\"x\":[5.206247329711914,6.83425760269165,7.2299723625183105,-5.84526252746582,-4.959366798400879,9.324335098266602,-4.895593643188477,-1.2001065015792847,2.9086742401123047,-0.25788038969039917,0.9639516472816467,3.754380702972412,5.379387378692627,7.417941093444824,-0.8387770652770996,12.020008087158203,-3.5265629291534424,2.5556623935699463,5.003162860870361,-3.63175368309021,-2.207303524017334,0.3265128433704376,2.1600568294525146,-1.9399878978729248,9.120671272277832,-0.37698161602020264,9.103517532348633,9.502059936523438,3.4441890716552734,-2.445145845413208,2.9267075061798096,6.456906795501709,1.694752812385559,-0.9310964941978455,-2.0833654403686523,2.0828518867492676,0.03410089388489723,7.0234527587890625,5.098316192626953,-1.4905188083648682,4.013522624969482,7.292511463165283,-0.933807909488678,-3.413390874862671,2.7014224529266357,-4.0383172035217285,-0.666104257106781,-2.0739850997924805,9.1215181350708,-3.7533774375915527,1.2730755805969238,7.3408403396606445,4.8469624519348145,0.5161481499671936,3.7438204288482666,2.4876139163970947,4.096872806549072,1.1045066118240356,4.046014785766602,11.004454612731934,6.754927635192871,0.18744467198848724,-1.898931622505188,-1.7948440313339233,0.8872134685516357,0.9352396726608276,4.792018413543701,0.3025203347206116,6.307812213897705,8.32363224029541,1.2996922731399536,4.834147930145264,-1.9529998302459717,2.6255531311035156,4.732166767120361,-1.0891512632369995,0.5405741930007935,-0.399718701839447,-5.4978203773498535,5.642735958099365,3.158027410507202,-0.09295716136693954,5.020161151885986,-3.1975908279418945,3.668623447418213,7.390551567077637,4.268725395202637,-4.213519096374512,6.237541675567627,10.324447631835938,8.059150695800781,3.3788774013519287,5.146316051483154,3.237703561782837,7.519502639770508,2.4018747806549072,4.28837251663208,11.80688190460205,-7.5992865562438965,0.26406529545783997,-0.7754421830177307,6.719654560089111,4.273007392883301,5.634174346923828,-8.56726360321045,-1.574981451034546,0.6275458335876465,0.7491888403892517,-8.273187637329102,5.8269524574279785,-2.321561813354492,-3.768483877182007,1.9107486009597778,7.374643325805664,-0.029001012444496155,2.76705265045166,0.14394032955169678,-0.5836367011070251,-2.0803112983703613,4.3246049880981445,7.8139848709106445,6.887401580810547,2.8365654945373535,5.353978633880615,3.733428716659546,-7.34800386428833,1.5638604164123535,5.754297733306885,2.508208751678467,-2.717561960220337,0.7798674702644348,3.184274673461914,-1.9667454957962036,-3.566533088684082,12.076252937316895,7.032936096191406,-2.0619497299194336,-8.68256950378418,8.80992603302002,6.492811679840088,-2.7377893924713135,8.513935089111328,0.7628012299537659,5.964204788208008,6.974637985229492,0.8125174641609192,3.8583438396453857,-3.8564770221710205,-5.541497707366943,-1.47635018825531,8.531880378723145,3.577145576477051,0.8245418667793274,3.0757768154144287,-1.982925534248352,-0.6584442853927612,3.9508485794067383,3.5670924186706543,2.897425413131714,1.9911868572235107,10.290397644042969,4.565638065338135,4.0056047439575195,4.189702033996582,-8.023299217224121,4.437830448150635,0.42377689480781555,-4.148534774780273,-0.09202603250741959,-3.7179365158081055,5.372776031494141,-1.5179836750030518,4.158108711242676,1.5657192468643188,6.212963104248047,-0.5627539753913879,1.3472400903701782,3.3087430000305176,-3.3142635822296143,-0.6348534226417542,2.2259390354156494,1.0485507249832153,-5.731596946716309,5.395768642425537,1.3132208585739136,-8.177480697631836,10.0548677444458,2.5791468620300293,1.9560987949371338,1.5837641954421997,-1.2654072046279907,-7.371134281158447,2.2188217639923096,-3.4173014163970947,2.953573703765869,3.3497493267059326,1.0385093688964844,0.13961124420166016,-1.1924078464508057,-2.169833183288574,-1.8327285051345825,-8.139739990234375,1.3667454719543457,-4.947248458862305,0.7532026767730713,7.2834858894348145,-2.828484535217285,5.045895099639893,-5.411225318908691,-2.2071948051452637,11.102017402648926,8.007746696472168,-8.068854331970215,2.278316020965576,-6.719554424285889,-1.0347191095352173,-1.3666108846664429,1.740340232849121,1.679247260093689,3.243968963623047,-2.9237072467803955,9.309270858764648,7.023121356964111,4.248165607452393,0.012002792209386826,5.42460298538208,-8.041969299316406,10.279009819030762,4.684859275817871,6.685084342956543,0.13579262793064117,6.766144275665283,4.38918399810791,6.859365940093994,1.4846205711364746,-3.109708547592163,2.079831600189209,7.024264812469482,-1.170305848121643,11.441828727722168,1.8440828323364258,-1.889094591140747,6.331954002380371,6.2945146560668945,2.4934840202331543,1.3835586309432983,-7.367476940155029,-4.318438529968262,2.7663354873657227,2.6040263175964355,7.099494934082031,1.7987076044082642,-1.576956033706665,-0.08249099552631378,-2.6254892349243164,-5.168880939483643,-3.5564987659454346,1.2617251873016357,4.20096492767334,2.017023801803589,-0.5512107610702515,-3.3467016220092773,-1.6433541774749756,3.35017991065979,-0.021046631038188934,-7.779058933258057,7.948846340179443,1.1389474868774414,-1.7598270177841187,-1.2824143171310425,-2.790766954421997,3.428596019744873,2.3120603561401367,-0.9101290106773376,-3.5897347927093506,1.6728646755218506,1.3369195461273193,5.139410018920898,7.4705729484558105,0.5302028656005859,2.734269618988037,8.934945106506348,-0.44800397753715515,2.1995596885681152,-2.763181209564209,4.142726898193359,5.029800891876221,1.8529958724975586,1.9592375755310059,-1.0295560359954834,-5.622663497924805,0.5982263088226318,-4.232498645782471,-0.8810585141181946,0.5034222602844238,2.178980827331543,-2.975958824157715,-0.21195945143699646,6.072813510894775,0.1599990874528885],\"xaxis\":\"x\",\"y\":[2.897991895675659,5.666242599487305,3.8415281772613525,0.7443511486053467,2.351003885269165,4.8785624504089355,1.1620794534683228,-0.4986790716648102,6.910254955291748,-4.404895782470703,6.061229228973389,0.12139777094125748,5.046253681182861,1.0770535469055176,1.3228029012680054,0.9671374559402466,1.4856081008911133,-1.864392638206482,11.797090530395508,-0.7872187495231628,3.913264751434326,8.52134895324707,7.3578200340271,0.4890820384025574,7.584851264953613,7.05479621887207,5.841765403747559,4.658707141876221,5.2244648933410645,0.29073160886764526,7.719388008117676,-1.3848567008972168,12.563631057739258,7.132288455963135,11.86604118347168,13.7387056350708,0.6275597810745239,2.563981771469116,3.2470717430114746,-4.01039457321167,6.835414886474609,0.03573765978217125,5.394968032836914,-0.10340197384357452,7.506882667541504,1.0344377756118774,8.12937068939209,4.011865615844727,4.053292751312256,8.860309600830078,11.56649398803711,8.553194046020508,10.189657211303711,2.2839879989624023,0.36907443404197693,1.8848758935928345,11.157112121582031,3.668184995651245,3.8827247619628906,8.212098121643066,4.080015182495117,0.8298943042755127,15.144036293029785,0.9691284894943237,7.33071231842041,3.373323678970337,4.035006046295166,4.111020088195801,5.059861660003662,8.50517463684082,12.193705558776855,7.5784196853637695,15.792131423950195,8.576070785522461,4.686310291290283,9.811936378479004,11.361048698425293,8.51744556427002,3.5166618824005127,3.91999888420105,5.429867267608643,4.928136825561523,7.318056583404541,3.7260403633117676,5.5222272872924805,7.113888740539551,13.00757122039795,8.793599128723145,9.231119155883789,3.7538564205169678,5.275055885314941,13.820267677307129,7.229053020477295,13.972289085388184,13.69251537322998,10.823586463928223,6.644717693328857,1.156807780265808,0.525031566619873,6.642351150512695,13.110421180725098,8.751869201660156,-0.20084328949451447,9.980513572692871,6.955402374267578,7.934777736663818,4.816978931427002,6.136117935180664,6.670740127563477,5.817800045013428,0.6863181591033936,5.680954933166504,12.843140602111816,3.9282760620117188,7.772108554840088,-1.0024067163467407,7.043527126312256,12.264341354370117,0.9725685715675354,12.598958969116211,11.773355484008789,6.44978666305542,5.413568496704102,6.805768966674805,10.728222846984863,0.8254575729370117,3.117231607437134,3.6548922061920166,-1.982629656791687,7.054098606109619,3.8391730785369873,14.785661697387695,15.260104179382324,3.076892375946045,0.9103996157646179,3.6082704067230225,6.641632556915283,6.847080707550049,3.928809881210327,7.035889148712158,1.5875123739242554,3.3507797718048096,7.394951343536377,9.876522064208984,1.559455156326294,-3.1892526149749756,2.310070037841797,1.8536492586135864,6.590023517608643,-0.8252601623535156,8.680703163146973,11.734779357910156,1.8861684799194336,11.854730606079102,6.382522106170654,8.760967254638672,10.262125968933105,15.51934814453125,11.753150939941406,5.812959671020508,11.0506591796875,6.740425109863281,8.500761985778809,5.6249098777771,1.244103193283081,5.006494998931885,10.747802734375,1.9592819213867188,10.44003963470459,8.810712814331055,8.786062240600586,2.620375633239746,-0.09656786173582077,11.253308296203613,8.41718578338623,5.6798176765441895,9.99244499206543,0.01307930052280426,12.616240501403809,7.2260236740112305,11.256936073303223,4.168796062469482,2.1647727489471436,5.6802873611450195,6.160318851470947,6.804879188537598,11.40240478515625,7.621789455413818,4.532473564147949,4.269369602203369,1.2865232229232788,6.656493186950684,11.43506145477295,-2.6504111289978027,9.397320747375488,9.336821556091309,10.467866897583008,4.436243534088135,-1.3174675703048706,-0.0799122154712677,2.5320892333984375,2.5422136783599854,-2.7900195121765137,-0.21271590888500214,10.200222969055176,5.883345127105713,2.3828914165496826,3.499634027481079,3.410383462905884,-0.22358788549900055,8.296100616455078,6.142110824584961,2.5040054321289062,2.0498173236846924,0.6336012482643127,4.36631441116333,9.677848815917969,8.924721717834473,7.2352614402771,12.60279369354248,1.3071082830429077,7.698649883270264,9.8394775390625,12.987473487854004,3.1074464321136475,6.5209221839904785,6.672421455383301,11.064245223999023,13.213837623596191,15.335356712341309,0.010040941648185253,3.413048028945923,7.999294757843018,8.849544525146484,13.969799995422363,13.807588577270508,13.880781173706055,2.9804179668426514,5.66431999206543,6.581294536590576,8.919891357421875,15.718307495117188,7.995030403137207,5.9319024085998535,8.946173667907715,6.766608238220215,0.964981198310852,0.012188012711703777,-1.5389161109924316,3.619732618331909,6.659733772277832,2.4908664226531982,-0.795242428779602,7.05374813079834,3.9712460041046143,0.9873381853103638,-1.139033317565918,11.125540733337402,5.149890899658203,1.6623506546020508,10.725656509399414,4.301661968231201,2.3388442993164062,-0.023880882188677788,5.282611846923828,1.044076919555664,5.327596664428711,-2.955235004425049,1.5234804153442383,9.473042488098145,-0.9733763337135315,-1.9278674125671387,1.2009716033935547,8.317025184631348,-0.16397841274738312,12.14810848236084,9.4441556930542,10.042054176330566,5.182321071624756,8.759592056274414,11.287186622619629,8.773040771484375,10.33487319946289,12.126930236816406,1.747788906097412,13.165051460266113,12.628816604614258,7.996469974517822,11.70042610168457,9.323100090026855,-0.3057701587677002,-3.1226937770843506,0.5119322538375854,4.261345863342285,3.184502363204956,12.687856674194336,0.46269145607948303,3.3169362545013428,0.46987584233283997,6.4286723136901855],\"yaxis\":\"y\",\"type\":\"scattergl\"},{\"customdata\":[[\"parallel_data\\u002fde-Trac\",\"de\"],[\"parallel_data\\u002fde-Trac\",\"de\"],[\"parallel_data\\u002fde-Trac\",\"de\"],[\"parallel_data\\u002fde-Trac\",\"de\"],[\"parallel_data\\u002fde-Trac\",\"de\"],[\"parallel_data\\u002fde-Trac\",\"de\"],[\"parallel_data\\u002fde-Trac\",\"de\"],[\"parallel_data\\u002fde-Trac\",\"de\"],[\"parallel_data\\u002fde-Trac\",\"de\"],[\"parallel_data\\u002fde-Trac\",\"de\"],[\"parallel_data\\u002fde-Trac\",\"de\"],[\"parallel_data\\u002fde-Trac\",\"de\"],[\"parallel_data\\u002fde-Trac\",\"de\"],[\"parallel_data\\u002fde-Trac\",\"de\"],[\"parallel_data\\u002fde-Trac\",\"de\"],[\"parallel_data\\u002fde-Trac\",\"de\"],[\"parallel_data\\u002fde-Trac\",\"de\"],[\"parallel_data\\u002fde-Trac\",\"de\"],[\"parallel_data\\u002fde-Trac\",\"de\"],[\"parallel_data\\u002fde-Trac\",\"de\"],[\"parallel_data\\u002fde-Trac\",\"de\"],[\"parallel_data\\u002fde-Trac\",\"de\"],[\"parallel_data\\u002fde-Trac\",\"de\"],[\"parallel_data\\u002fde-Trac\",\"de\"],[\"parallel_data\\u002fde-Trac\",\"de\"],[\"parallel_data\\u002fde-Trac\",\"de\"],[\"parallel_data\\u002fde-Trac\",\"de\"],[\"parallel_data\\u002fde-Trac\",\"de\"],[\"parallel_data\\u002fde-Trac\",\"de\"],[\"parallel_data\\u002fde-Trac\",\"de\"],[\"parallel_data\\u002fde-Trac\",\"de\"],[\"parallel_data\\u002fde-Trac\",\"de\"],[\"parallel_data\\u002fde-Trac\",\"de\"],[\"parallel_data\\u002fde-Trac\",\"de\"],[\"parallel_data\\u002fde-Trac\",\"de\"],[\"parallel_data\\u002fde-Trac\",\"de\"],[\"parallel_data\\u002fde-Trac\",\"de\"],[\"parallel_data\\u002fde-Trac\",\"de\"],[\"parallel_data\\u002fde-Trac\",\"de\"],[\"parallel_data\\u002fde-Trac\",\"de\"],[\"parallel_data\\u002fde-Trac\",\"de\"],[\"parallel_data\\u002fde-Trac\",\"de\"],[\"parallel_data\\u002fde-Trac\",\"de\"],[\"parallel_data\\u002fde-Trac\",\"de\"],[\"parallel_data\\u002fde-Trac\",\"de\"],[\"parallel_data\\u002fde-Trac\",\"de\"],[\"parallel_data\\u002fde-Trac\",\"de\"],[\"parallel_data\\u002fde-Trac\",\"de\"],[\"parallel_data\\u002fde-Trac\",\"de\"],[\"parallel_data\\u002fde-Trac\",\"de\"],[\"parallel_data\\u002fde-Trac\",\"de\"],[\"parallel_data\\u002fde-Trac\",\"de\"],[\"parallel_data\\u002fde-Trac\",\"de\"],[\"parallel_data\\u002fde-Trac\",\"de\"],[\"parallel_data\\u002fde-Trac\",\"de\"],[\"parallel_data\\u002fde-Trac\",\"de\"],[\"parallel_data\\u002fde-Trac\",\"de\"],[\"parallel_data\\u002fde-Trac\",\"de\"],[\"parallel_data\\u002fde-Trac\",\"de\"],[\"parallel_data\\u002fde-Trac\",\"de\"],[\"parallel_data\\u002fde-Trac\",\"de\"],[\"parallel_data\\u002fde-Trac\",\"de\"],[\"parallel_data\\u002fde-Trac\",\"de\"],[\"parallel_data\\u002fde-Trac\",\"de\"],[\"parallel_data\\u002fde-Trac\",\"de\"],[\"parallel_data\\u002fde-Trac\",\"de\"],[\"parallel_data\\u002fde-Trac\",\"de\"],[\"parallel_data\\u002fde-Trac\",\"de\"],[\"parallel_data\\u002fde-Trac\",\"de\"],[\"parallel_data\\u002fde-Trac\",\"de\"],[\"parallel_data\\u002fde-Trac\",\"de\"],[\"parallel_data\\u002fde-Trac\",\"de\"],[\"parallel_data\\u002fde-Trac\",\"de\"],[\"parallel_data\\u002fde-Trac\",\"de\"],[\"parallel_data\\u002fde-Trac\",\"de\"],[\"parallel_data\\u002fde-Trac\",\"de\"],[\"parallel_data\\u002fde-Trac\",\"de\"],[\"parallel_data\\u002fde-Trac\",\"de\"],[\"parallel_data\\u002fde-Trac\",\"de\"],[\"parallel_data\\u002fde-Trac\",\"de\"],[\"parallel_data\\u002fde-Trac\",\"de\"],[\"parallel_data\\u002fde-Trac\",\"de\"],[\"parallel_data\\u002fde-Trac\",\"de\"],[\"parallel_data\\u002fde-Trac\",\"de\"],[\"parallel_data\\u002fde-Trac\",\"de\"],[\"parallel_data\\u002fde-Trac\",\"de\"],[\"parallel_data\\u002fde-Trac\",\"de\"],[\"parallel_data\\u002fde-Trac\",\"de\"],[\"parallel_data\\u002fde-Trac\",\"de\"],[\"parallel_data\\u002fde-Trac\",\"de\"],[\"parallel_data\\u002fde-Trac\",\"de\"],[\"parallel_data\\u002fde-Trac\",\"de\"],[\"parallel_data\\u002fde-Trac\",\"de\"],[\"parallel_data\\u002fde-Trac\",\"de\"],[\"parallel_data\\u002fde-Trac\",\"de\"],[\"parallel_data\\u002fde-Trac\",\"de\"],[\"parallel_data\\u002fde-Trac\",\"de\"],[\"parallel_data\\u002fde-Trac\",\"de\"],[\"parallel_data\\u002fde-Trac\",\"de\"],[\"parallel_data\\u002fde-Trac\",\"de\"],[\"parallel_data\\u002fde-Trac\",\"de\"],[\"parallel_data\\u002fde-Trac\",\"de\"],[\"parallel_data\\u002fde-Trac\",\"de\"],[\"parallel_data\\u002fde-Trac\",\"de\"],[\"parallel_data\\u002fde-Trac\",\"de\"],[\"parallel_data\\u002fde-Trac\",\"de\"],[\"parallel_data\\u002fde-Trac\",\"de\"],[\"parallel_data\\u002fde-Trac\",\"de\"],[\"parallel_data\\u002fde-Trac\",\"de\"],[\"parallel_data\\u002fde-Trac\",\"de\"],[\"parallel_data\\u002fde-Trac\",\"de\"],[\"parallel_data\\u002fde-Trac\",\"de\"],[\"parallel_data\\u002fde-Trac\",\"de\"],[\"parallel_data\\u002fde-Trac\",\"de\"],[\"parallel_data\\u002fde-Trac\",\"de\"],[\"parallel_data\\u002fde-Trac\",\"de\"],[\"parallel_data\\u002fde-Trac\",\"de\"],[\"parallel_data\\u002fde-Trac\",\"de\"],[\"parallel_data\\u002fde-Trac\",\"de\"],[\"parallel_data\\u002fde-Trac\",\"de\"],[\"parallel_data\\u002fde-Trac\",\"de\"],[\"parallel_data\\u002fde-Trac\",\"de\"],[\"parallel_data\\u002fde-Trac\",\"de\"],[\"parallel_data\\u002fde-Trac\",\"de\"],[\"parallel_data\\u002fde-Trac\",\"de\"],[\"parallel_data\\u002fde-Trac\",\"de\"],[\"parallel_data\\u002fde-Trac\",\"de\"],[\"parallel_data\\u002fde-Trac\",\"de\"],[\"parallel_data\\u002fde-Trac\",\"de\"],[\"parallel_data\\u002fde-Trac\",\"de\"],[\"parallel_data\\u002fde-Trac\",\"de\"],[\"parallel_data\\u002fde-Trac\",\"de\"],[\"parallel_data\\u002fde-Trac\",\"de\"],[\"parallel_data\\u002fde-Trac\",\"de\"],[\"parallel_data\\u002fde-Trac\",\"de\"],[\"parallel_data\\u002fde-Trac\",\"de\"],[\"parallel_data\\u002fde-Trac\",\"de\"],[\"parallel_data\\u002fde-Trac\",\"de\"],[\"parallel_data\\u002fde-Trac\",\"de\"],[\"parallel_data\\u002fde-Trac\",\"de\"],[\"parallel_data\\u002fde-Trac\",\"de\"],[\"parallel_data\\u002fde-Trac\",\"de\"],[\"parallel_data\\u002fde-Trac\",\"de\"],[\"parallel_data\\u002fde-Trac\",\"de\"],[\"parallel_data\\u002fde-Trac\",\"de\"],[\"parallel_data\\u002fde-Trac\",\"de\"],[\"parallel_data\\u002fde-Trac\",\"de\"],[\"parallel_data\\u002fde-Trac\",\"de\"],[\"parallel_data\\u002fde-Trac\",\"de\"],[\"parallel_data\\u002fde-Trac\",\"de\"],[\"parallel_data\\u002fde-Trac\",\"de\"],[\"parallel_data\\u002fde-Trac\",\"de\"],[\"parallel_data\\u002fde-Trac\",\"de\"],[\"parallel_data\\u002fde-Trac\",\"de\"],[\"parallel_data\\u002fde-Trac\",\"de\"],[\"parallel_data\\u002fde-Trac\",\"de\"],[\"parallel_data\\u002fde-Trac\",\"de\"],[\"parallel_data\\u002fde-Trac\",\"de\"],[\"parallel_data\\u002fde-Trac\",\"de\"],[\"parallel_data\\u002fde-Trac\",\"de\"],[\"parallel_data\\u002fde-Trac\",\"de\"],[\"parallel_data\\u002fde-Trac\",\"de\"],[\"parallel_data\\u002fde-Trac\",\"de\"],[\"parallel_data\\u002fde-Trac\",\"de\"],[\"parallel_data\\u002fde-Trac\",\"de\"],[\"parallel_data\\u002fde-Trac\",\"de\"],[\"parallel_data\\u002fde-Trac\",\"de\"],[\"parallel_data\\u002fde-Trac\",\"de\"],[\"parallel_data\\u002fde-Trac\",\"de\"],[\"parallel_data\\u002fde-Trac\",\"de\"],[\"parallel_data\\u002fde-Trac\",\"de\"],[\"parallel_data\\u002fde-Trac\",\"de\"],[\"parallel_data\\u002fde-Trac\",\"de\"],[\"parallel_data\\u002fde-Trac\",\"de\"],[\"parallel_data\\u002fde-Trac\",\"de\"],[\"parallel_data\\u002fde-Trac\",\"de\"],[\"parallel_data\\u002fde-Trac\",\"de\"],[\"parallel_data\\u002fde-Trac\",\"de\"],[\"parallel_data\\u002fde-Trac\",\"de\"],[\"parallel_data\\u002fde-Trac\",\"de\"],[\"parallel_data\\u002fde-Trac\",\"de\"],[\"parallel_data\\u002fde-Trac\",\"de\"],[\"parallel_data\\u002fde-Trac\",\"de\"],[\"parallel_data\\u002fde-Trac\",\"de\"],[\"parallel_data\\u002fde-Trac\",\"de\"],[\"parallel_data\\u002fde-Trac\",\"de\"],[\"parallel_data\\u002fde-Trac\",\"de\"],[\"parallel_data\\u002fde-Trac\",\"de\"],[\"parallel_data\\u002fde-Trac\",\"de\"],[\"parallel_data\\u002fde-Trac\",\"de\"],[\"parallel_data\\u002fde-Trac\",\"de\"],[\"parallel_data\\u002fde-Trac\",\"de\"],[\"parallel_data\\u002fde-Trac\",\"de\"],[\"parallel_data\\u002fde-Trac\",\"de\"],[\"parallel_data\\u002fde-Trac\",\"de\"],[\"parallel_data\\u002fde-Trac\",\"de\"],[\"parallel_data\\u002fde-Trac\",\"de\"],[\"parallel_data\\u002fde-Trac\",\"de\"],[\"parallel_data\\u002fde-Trac\",\"de\"],[\"parallel_data\\u002fde-Trac\",\"de\"],[\"parallel_data\\u002fde-Trac\",\"de\"],[\"parallel_data\\u002fde-Trac\",\"de\"],[\"parallel_data\\u002fde-Trac\",\"de\"],[\"parallel_data\\u002fde-Trac\",\"de\"],[\"parallel_data\\u002fde-Trac\",\"de\"],[\"parallel_data\\u002fde-Trac\",\"de\"],[\"parallel_data\\u002fde-Trac\",\"de\"],[\"parallel_data\\u002fde-Trac\",\"de\"],[\"parallel_data\\u002fde-Trac\",\"de\"],[\"parallel_data\\u002fde-Trac\",\"de\"],[\"parallel_data\\u002fde-Trac\",\"de\"],[\"parallel_data\\u002fde-Trac\",\"de\"],[\"parallel_data\\u002fde-Trac\",\"de\"],[\"parallel_data\\u002fde-Trac\",\"de\"],[\"parallel_data\\u002fde-Trac\",\"de\"],[\"parallel_data\\u002fde-Trac\",\"de\"],[\"parallel_data\\u002fde-Trac\",\"de\"],[\"parallel_data\\u002fde-Trac\",\"de\"],[\"parallel_data\\u002fde-Trac\",\"de\"],[\"parallel_data\\u002fde-Trac\",\"de\"],[\"parallel_data\\u002fde-Trac\",\"de\"],[\"parallel_data\\u002fde-Trac\",\"de\"],[\"parallel_data\\u002fde-Trac\",\"de\"],[\"parallel_data\\u002fde-Trac\",\"de\"],[\"parallel_data\\u002fde-Trac\",\"de\"],[\"parallel_data\\u002fde-Trac\",\"de\"],[\"parallel_data\\u002fde-Trac\",\"de\"],[\"parallel_data\\u002fde-Trac\",\"de\"],[\"parallel_data\\u002fde-Trac\",\"de\"],[\"parallel_data\\u002fde-Trac\",\"de\"],[\"parallel_data\\u002fde-Trac\",\"de\"],[\"parallel_data\\u002fde-Trac\",\"de\"],[\"parallel_data\\u002fde-Trac\",\"de\"],[\"parallel_data\\u002fde-Trac\",\"de\"],[\"parallel_data\\u002fde-Trac\",\"de\"],[\"parallel_data\\u002fde-Trac\",\"de\"],[\"parallel_data\\u002fde-Trac\",\"de\"],[\"parallel_data\\u002fde-Trac\",\"de\"],[\"parallel_data\\u002fde-Trac\",\"de\"],[\"parallel_data\\u002fde-Trac\",\"de\"],[\"parallel_data\\u002fde-Trac\",\"de\"],[\"parallel_data\\u002fde-Trac\",\"de\"],[\"parallel_data\\u002fde-Trac\",\"de\"],[\"parallel_data\\u002fde-Trac\",\"de\"],[\"parallel_data\\u002fde-Trac\",\"de\"],[\"parallel_data\\u002fde-Trac\",\"de\"],[\"parallel_data\\u002fde-Trac\",\"de\"],[\"parallel_data\\u002fde-Trac\",\"de\"],[\"parallel_data\\u002fde-Trac\",\"de\"],[\"parallel_data\\u002fde-Trac\",\"de\"],[\"parallel_data\\u002fde-Trac\",\"de\"],[\"parallel_data\\u002fde-Trac\",\"de\"],[\"parallel_data\\u002fde-Trac\",\"de\"],[\"parallel_data\\u002fde-Trac\",\"de\"],[\"parallel_data\\u002fde-Trac\",\"de\"],[\"parallel_data\\u002fde-Trac\",\"de\"],[\"parallel_data\\u002fde-Trac\",\"de\"],[\"parallel_data\\u002fde-Trac\",\"de\"],[\"parallel_data\\u002fde-Trac\",\"de\"],[\"parallel_data\\u002fde-Trac\",\"de\"],[\"parallel_data\\u002fde-Trac\",\"de\"],[\"parallel_data\\u002fde-Trac\",\"de\"],[\"parallel_data\\u002fde-Trac\",\"de\"],[\"parallel_data\\u002fde-Trac\",\"de\"],[\"parallel_data\\u002fde-Trac\",\"de\"],[\"parallel_data\\u002fde-Trac\",\"de\"],[\"parallel_data\\u002fde-Trac\",\"de\"],[\"parallel_data\\u002fde-Trac\",\"de\"],[\"parallel_data\\u002fde-Trac\",\"de\"],[\"parallel_data\\u002fde-Trac\",\"de\"],[\"parallel_data\\u002fde-Trac\",\"de\"],[\"parallel_data\\u002fde-Trac\",\"de\"],[\"parallel_data\\u002fde-Trac\",\"de\"],[\"parallel_data\\u002fde-Trac\",\"de\"],[\"parallel_data\\u002fde-Trac\",\"de\"],[\"parallel_data\\u002fde-Trac\",\"de\"],[\"parallel_data\\u002fde-Trac\",\"de\"],[\"parallel_data\\u002fde-Trac\",\"de\"],[\"parallel_data\\u002fde-Trac\",\"de\"],[\"parallel_data\\u002fde-Trac\",\"de\"],[\"parallel_data\\u002fde-Trac\",\"de\"],[\"parallel_data\\u002fde-Trac\",\"de\"],[\"parallel_data\\u002fde-Trac\",\"de\"],[\"parallel_data\\u002fde-Trac\",\"de\"],[\"parallel_data\\u002fde-Trac\",\"de\"],[\"parallel_data\\u002fde-Trac\",\"de\"],[\"parallel_data\\u002fde-Trac\",\"de\"],[\"parallel_data\\u002fde-Trac\",\"de\"],[\"parallel_data\\u002fde-Trac\",\"de\"],[\"parallel_data\\u002fde-Trac\",\"de\"],[\"parallel_data\\u002fde-Trac\",\"de\"],[\"parallel_data\\u002fde-Trac\",\"de\"],[\"parallel_data\\u002fde-Trac\",\"de\"],[\"parallel_data\\u002fde-Trac\",\"de\"],[\"parallel_data\\u002fde-Trac\",\"de\"],[\"parallel_data\\u002fde-Trac\",\"de\"],[\"parallel_data\\u002fde-Trac\",\"de\"],[\"parallel_data\\u002fde-Trac\",\"de\"],[\"parallel_data\\u002fde-Trac\",\"de\"],[\"parallel_data\\u002fde-Trac\",\"de\"]],\"hovertemplate\":\"language=%{customdata[1]}\\u003cbr\\u003ex=%{x}\\u003cbr\\u003ey=%{y}\\u003cbr\\u003edataset_name=%{customdata[0]}\\u003cextra\\u003e\\u003c\\u002fextra\\u003e\",\"legendgroup\":\"de\",\"marker\":{\"color\":\"#00cc96\",\"symbol\":\"circle\"},\"mode\":\"markers\",\"name\":\"de\",\"showlegend\":true,\"x\":[5.222146987915039,6.82322883605957,7.239859104156494,-5.80072021484375,-4.949514865875244,9.356195449829102,-4.908212184906006,-1.1908965110778809,2.9216740131378174,-0.26146674156188965,0.9741977453231812,3.78647780418396,5.361278057098389,7.435150623321533,-0.8207250237464905,12.003018379211426,-3.5917558670043945,2.5493249893188477,5.0034918785095215,-3.6417429447174072,-2.19887113571167,0.3084924519062042,2.1435272693634033,-1.952059268951416,9.16091251373291,-0.3749154210090637,9.121511459350586,9.491155624389648,3.4313228130340576,-2.4659581184387207,2.9468019008636475,6.458493709564209,1.7087368965148926,-0.9000597596168518,-2.0733869075775146,2.0404717922210693,0.02544214576482773,7.037700176239014,5.094593048095703,-1.5189223289489746,3.983626365661621,7.293367862701416,-0.927069902420044,-3.373121738433838,2.640955686569214,-4.121158123016357,-0.6536442637443542,-2.0894997119903564,9.111620903015137,-3.738604784011841,1.2509981393814087,7.341020584106445,4.8864970207214355,0.5197601914405823,3.7531492710113525,2.510774612426758,4.101418972015381,1.097154140472412,4.048352241516113,11.014588356018066,6.7609758377075195,0.19100110232830048,-1.9128509759902954,-1.8360283374786377,0.9345240592956543,0.9139204025268555,4.80822229385376,0.3533443808555603,6.326204776763916,8.289346694946289,1.2956362962722778,4.863086223602295,-1.9798805713653564,2.6602354049682617,4.7530598640441895,-1.078376293182373,0.5209670066833496,-0.39172157645225525,-5.478338241577148,5.6540350914001465,3.1573073863983154,-0.08172087371349335,5.030559062957764,-3.1876566410064697,3.7132651805877686,7.397989749908447,4.27321720123291,-4.212430477142334,6.2357497215271,10.333558082580566,8.056727409362793,3.3585455417633057,5.177915573120117,3.2442774772644043,7.520961761474609,2.3726351261138916,4.28837776184082,11.759114265441895,-7.612257957458496,0.2613869905471802,-0.7744338512420654,6.7123188972473145,4.291371822357178,5.645782470703125,-8.555234909057617,-1.580037236213684,0.6263098120689392,0.7532577514648438,-8.26516056060791,5.8263444900512695,-2.3952889442443848,-3.7666730880737305,1.895127773284912,7.398996829986572,-0.023607837036252022,2.7758755683898926,0.18460705876350403,-0.5964212417602539,-2.0886802673339844,4.3198933601379395,7.810603618621826,6.88480806350708,2.853048801422119,5.356471538543701,3.7549784183502197,-7.33865213394165,1.5713754892349243,5.780077934265137,2.4671518802642822,-2.739051103591919,0.8297995328903198,3.180665969848633,-1.9529139995574951,-3.580284833908081,12.04891586303711,7.053109169006348,-2.051133155822754,-8.686280250549316,8.824935913085938,6.485116481781006,-2.7495193481445312,8.544939041137695,0.8101707100868225,5.963075160980225,6.971919536590576,0.7946908473968506,3.8570291996002197,-3.8491666316986084,-5.554938793182373,-1.4650382995605469,8.548002243041992,3.5819358825683594,0.8443418145179749,3.0203073024749756,-1.9997738599777222,-0.6449014544487,3.9622435569763184,3.565248489379883,2.905353546142578,1.9704698324203491,10.284432411193848,4.624513626098633,3.949306011199951,4.173028945922852,-8.004040718078613,4.364846229553223,0.4225729703903198,-4.128921985626221,-0.14416705071926117,-3.7417900562286377,5.454140663146973,-1.5051522254943848,4.142857551574707,1.6096223592758179,6.199324607849121,-0.5592327117919922,1.3641163110733032,3.303039789199829,-3.3135688304901123,-0.5994608998298645,2.218200922012329,1.0760533809661865,-5.727454662322998,5.415339469909668,1.2358086109161377,-8.209015846252441,10.066781997680664,2.557371139526367,1.9365142583847046,1.5796351432800293,-1.345156192779541,-7.392102241516113,2.2227938175201416,-3.4193010330200195,2.9906837940216064,3.333712577819824,1.0594685077667236,0.16746224462985992,-1.1634495258331299,-2.155012369155884,-1.8119513988494873,-8.168845176696777,1.3287180662155151,-4.904675483703613,0.7486659288406372,7.290054798126221,-2.817565441131592,5.0557098388671875,-5.425149440765381,-2.224928379058838,11.122364044189453,8.041121482849121,-8.097001075744629,2.28836989402771,-6.729979991912842,-1.0352693796157837,-1.3789788484573364,1.7607702016830444,1.7310346364974976,3.2067999839782715,-2.9273815155029297,9.298057556152344,7.0281548500061035,4.258607387542725,0.05884285271167755,5.450949192047119,-8.101335525512695,10.27878189086914,4.646899223327637,6.695041179656982,0.1515941470861435,6.769848346710205,4.406582832336426,6.880847454071045,1.5029118061065674,-3.115278720855713,2.0744094848632812,7.039539337158203,-1.164266586303711,11.44126033782959,1.8588312864303589,-1.858376383781433,6.311568260192871,6.278954029083252,2.419806480407715,1.396880030632019,-7.393734455108643,-4.4044036865234375,2.757158041000366,2.6123149394989014,7.201445579528809,1.7662056684494019,-1.5542004108428955,-0.021630439907312393,-2.607947587966919,-5.166604995727539,-3.561913251876831,1.2488843202590942,4.164368629455566,2.02481746673584,-0.5510429739952087,-3.3447117805480957,-1.6210640668869019,3.3911774158477783,-0.01440679281949997,-7.845303535461426,7.959906578063965,1.0889075994491577,-1.7546247243881226,-1.3198213577270508,-2.7593586444854736,3.4475700855255127,2.302278518676758,-0.9384702444076538,-3.541172742843628,1.7218949794769287,1.322929859161377,5.132894992828369,7.4743971824646,0.5517449975013733,2.713454246520996,8.89494800567627,-0.4482731819152832,2.220578670501709,-2.743110418319702,4.150362968444824,5.022895812988281,1.8766388893127441,1.9223722219467163,-1.0069390535354614,-5.633039474487305,0.6090385913848877,-4.22027587890625,-0.8304327130317688,0.5062092542648315,2.2004947662353516,-2.95764422416687,-0.19019997119903564,6.077497482299805,0.12346521019935608],\"xaxis\":\"x\",\"y\":[2.8657026290893555,5.668515205383301,3.862356662750244,0.7560620903968811,2.347949504852295,4.852059841156006,1.1553208827972412,-0.4470914304256439,6.886528491973877,-4.406674385070801,6.094552516937256,0.10956677049398422,5.04417610168457,1.0570224523544312,1.3172707557678223,0.9812514185905457,1.5180524587631226,-1.8777230978012085,11.76068115234375,-0.8158960342407227,3.927720546722412,8.488408088684082,7.381360054016113,0.4555487334728241,7.620084285736084,7.04595422744751,5.8235039710998535,4.659977912902832,5.243668556213379,0.2934104800224304,7.759917736053467,-1.3856478929519653,12.57751178741455,7.1535115242004395,11.86635684967041,13.707389831542969,0.6246538162231445,2.5325896739959717,3.2720654010772705,-3.988696813583374,6.856682300567627,0.04134543612599373,5.378176689147949,-0.08673801273107529,7.560598850250244,0.9744696021080017,8.158649444580078,3.9943771362304688,4.049206256866455,8.857233047485352,11.538865089416504,8.544805526733398,10.153225898742676,2.2769999504089355,0.36270225048065186,1.9050666093826294,11.136942863464355,3.6987216472625732,3.8818562030792236,8.224472045898438,4.055749416351318,0.836969256401062,15.165071487426758,0.9681923389434814,7.287729740142822,3.40405011177063,3.980059862136841,4.047210693359375,5.079713344573975,8.483237266540527,12.194419860839844,7.536602973937988,15.820582389831543,8.661149978637695,4.658675193786621,9.821635246276855,11.357672691345215,8.501243591308594,3.5401792526245117,3.9022161960601807,5.399651527404785,4.931210994720459,7.304335117340088,3.7244391441345215,5.538276195526123,7.1403374671936035,12.983499526977539,8.790035247802734,9.23308277130127,3.755701780319214,5.269051551818848,13.830246925354004,7.198408126831055,13.962636947631836,13.690967559814453,10.86195182800293,6.640634059906006,1.2021496295928955,0.5515666007995605,6.619385242462158,13.101332664489746,8.734338760375977,-0.2121897041797638,9.973544120788574,6.967477798461914,7.93359375,4.808773994445801,6.132869720458984,6.660042762756348,5.807548999786377,0.6077237129211426,5.676921367645264,12.876961708068848,3.9524848461151123,7.770479679107666,-1.0038096904754639,7.031594276428223,12.272066116333008,0.9987916946411133,12.587727546691895,11.77164077758789,6.439342975616455,5.411870002746582,6.826533317565918,10.746454238891602,0.8256640434265137,3.1134250164031982,3.674086570739746,-2.037123203277588,7.0699028968811035,3.8893625736236572,14.789084434509277,15.246392250061035,3.0805776119232178,0.9362438321113586,3.6389315128326416,6.654060363769531,6.858339309692383,3.93304181098938,7.040699005126953,1.5635583400726318,3.379074811935425,7.363484859466553,9.8782958984375,1.5587899684906006,-3.198835849761963,2.311215400695801,1.8508645296096802,6.595776081085205,-0.8113585114479065,8.692065238952637,11.74996280670166,1.868302822113037,11.834181785583496,6.412773132324219,8.702407836914062,10.251167297363281,15.51007080078125,11.766059875488281,5.821310043334961,11.06148910522461,6.791083812713623,8.530667304992676,5.597668647766113,1.2233144044876099,4.992867469787598,10.770233154296875,1.9487897157669067,10.42162799835205,8.809453964233398,8.771882057189941,2.57778000831604,-0.08974963426589966,11.251791000366211,8.376180648803711,5.683360576629639,9.964214324951172,0.004273008555173874,12.61471939086914,7.187136650085449,11.263771057128906,4.144323825836182,2.1654655933380127,5.697526454925537,6.1377763748168945,6.7846784591674805,11.392303466796875,7.627898216247559,4.527783393859863,4.278094291687012,1.3213136196136475,6.657315731048584,11.43224811553955,-2.651216506958008,9.377443313598633,9.338580131530762,10.485897064208984,4.423398017883301,-1.3428252935409546,-0.12027579545974731,2.5399250984191895,2.5461502075195312,-2.819257974624634,-0.18076150119304657,10.233476638793945,5.888179779052734,2.362602472305298,3.520441770553589,3.4254558086395264,-0.25305604934692383,8.314937591552734,6.134754657745361,2.5266265869140625,2.0574333667755127,0.6509580016136169,4.3400349617004395,9.68709659576416,8.929033279418945,7.274144172668457,12.581452369689941,1.3087650537490845,7.686956405639648,9.83495044708252,12.99244499206543,3.085280418395996,6.499214172363281,6.719463348388672,11.06469440460205,13.21829605102539,15.344890594482422,-0.005561282392591238,3.4505748748779297,7.993352890014648,8.86752700805664,13.953664779663086,13.806797981262207,13.867256164550781,3.0231246948242188,5.677597999572754,6.581267356872559,8.918489456176758,15.675423622131348,7.993460655212402,5.9341206550598145,8.95494270324707,6.749085903167725,0.995056688785553,-0.042581818997859955,-1.5523642301559448,3.61257266998291,6.723541259765625,2.518561601638794,-0.8185818791389465,7.025093078613281,3.992140293121338,0.9900208115577698,-1.143946886062622,11.057662010192871,5.175550937652588,1.6328942775726318,10.72725772857666,4.298471927642822,2.3039960861206055,0.0156814344227314,5.310977458953857,1.088693380355835,5.315054893493652,-2.9879283905029297,1.5218032598495483,9.484123229980469,-0.9458692669868469,-1.9514143466949463,1.2121402025222778,8.32954216003418,-0.1324446052312851,12.148795127868652,9.450467109680176,10.044769287109375,5.183984756469727,8.758160591125488,11.264554977416992,8.776185035705566,10.343635559082031,12.136181831359863,1.703179121017456,13.162553787231445,12.621947288513184,8.022357940673828,11.69656753540039,9.288933753967285,-0.3056299090385437,-3.1232357025146484,0.5000004768371582,4.2877678871154785,3.1964521408081055,12.701116561889648,0.4710536599159241,3.3431804180145264,0.46750202775001526,6.385138988494873],\"yaxis\":\"y\",\"type\":\"scattergl\"},{\"customdata\":[[\"parallel_data\\u002fhr-Trac\",\"hr\"],[\"parallel_data\\u002fhr-Trac\",\"hr\"],[\"parallel_data\\u002fhr-Trac\",\"hr\"],[\"parallel_data\\u002fhr-Trac\",\"hr\"],[\"parallel_data\\u002fhr-Trac\",\"hr\"],[\"parallel_data\\u002fhr-Trac\",\"hr\"],[\"parallel_data\\u002fhr-Trac\",\"hr\"],[\"parallel_data\\u002fhr-Trac\",\"hr\"],[\"parallel_data\\u002fhr-Trac\",\"hr\"],[\"parallel_data\\u002fhr-Trac\",\"hr\"],[\"parallel_data\\u002fhr-Trac\",\"hr\"],[\"parallel_data\\u002fhr-Trac\",\"hr\"],[\"parallel_data\\u002fhr-Trac\",\"hr\"],[\"parallel_data\\u002fhr-Trac\",\"hr\"],[\"parallel_data\\u002fhr-Trac\",\"hr\"],[\"parallel_data\\u002fhr-Trac\",\"hr\"],[\"parallel_data\\u002fhr-Trac\",\"hr\"],[\"parallel_data\\u002fhr-Trac\",\"hr\"],[\"parallel_data\\u002fhr-Trac\",\"hr\"],[\"parallel_data\\u002fhr-Trac\",\"hr\"],[\"parallel_data\\u002fhr-Trac\",\"hr\"],[\"parallel_data\\u002fhr-Trac\",\"hr\"],[\"parallel_data\\u002fhr-Trac\",\"hr\"],[\"parallel_data\\u002fhr-Trac\",\"hr\"],[\"parallel_data\\u002fhr-Trac\",\"hr\"],[\"parallel_data\\u002fhr-Trac\",\"hr\"],[\"parallel_data\\u002fhr-Trac\",\"hr\"],[\"parallel_data\\u002fhr-Trac\",\"hr\"],[\"parallel_data\\u002fhr-Trac\",\"hr\"],[\"parallel_data\\u002fhr-Trac\",\"hr\"],[\"parallel_data\\u002fhr-Trac\",\"hr\"],[\"parallel_data\\u002fhr-Trac\",\"hr\"],[\"parallel_data\\u002fhr-Trac\",\"hr\"],[\"parallel_data\\u002fhr-Trac\",\"hr\"],[\"parallel_data\\u002fhr-Trac\",\"hr\"],[\"parallel_data\\u002fhr-Trac\",\"hr\"],[\"parallel_data\\u002fhr-Trac\",\"hr\"],[\"parallel_data\\u002fhr-Trac\",\"hr\"],[\"parallel_data\\u002fhr-Trac\",\"hr\"],[\"parallel_data\\u002fhr-Trac\",\"hr\"],[\"parallel_data\\u002fhr-Trac\",\"hr\"],[\"parallel_data\\u002fhr-Trac\",\"hr\"],[\"parallel_data\\u002fhr-Trac\",\"hr\"],[\"parallel_data\\u002fhr-Trac\",\"hr\"],[\"parallel_data\\u002fhr-Trac\",\"hr\"],[\"parallel_data\\u002fhr-Trac\",\"hr\"],[\"parallel_data\\u002fhr-Trac\",\"hr\"],[\"parallel_data\\u002fhr-Trac\",\"hr\"],[\"parallel_data\\u002fhr-Trac\",\"hr\"],[\"parallel_data\\u002fhr-Trac\",\"hr\"],[\"parallel_data\\u002fhr-Trac\",\"hr\"],[\"parallel_data\\u002fhr-Trac\",\"hr\"],[\"parallel_data\\u002fhr-Trac\",\"hr\"],[\"parallel_data\\u002fhr-Trac\",\"hr\"],[\"parallel_data\\u002fhr-Trac\",\"hr\"],[\"parallel_data\\u002fhr-Trac\",\"hr\"],[\"parallel_data\\u002fhr-Trac\",\"hr\"],[\"parallel_data\\u002fhr-Trac\",\"hr\"],[\"parallel_data\\u002fhr-Trac\",\"hr\"],[\"parallel_data\\u002fhr-Trac\",\"hr\"],[\"parallel_data\\u002fhr-Trac\",\"hr\"],[\"parallel_data\\u002fhr-Trac\",\"hr\"],[\"parallel_data\\u002fhr-Trac\",\"hr\"],[\"parallel_data\\u002fhr-Trac\",\"hr\"],[\"parallel_data\\u002fhr-Trac\",\"hr\"],[\"parallel_data\\u002fhr-Trac\",\"hr\"],[\"parallel_data\\u002fhr-Trac\",\"hr\"],[\"parallel_data\\u002fhr-Trac\",\"hr\"],[\"parallel_data\\u002fhr-Trac\",\"hr\"],[\"parallel_data\\u002fhr-Trac\",\"hr\"],[\"parallel_data\\u002fhr-Trac\",\"hr\"],[\"parallel_data\\u002fhr-Trac\",\"hr\"],[\"parallel_data\\u002fhr-Trac\",\"hr\"],[\"parallel_data\\u002fhr-Trac\",\"hr\"],[\"parallel_data\\u002fhr-Trac\",\"hr\"],[\"parallel_data\\u002fhr-Trac\",\"hr\"],[\"parallel_data\\u002fhr-Trac\",\"hr\"],[\"parallel_data\\u002fhr-Trac\",\"hr\"],[\"parallel_data\\u002fhr-Trac\",\"hr\"],[\"parallel_data\\u002fhr-Trac\",\"hr\"],[\"parallel_data\\u002fhr-Trac\",\"hr\"],[\"parallel_data\\u002fhr-Trac\",\"hr\"],[\"parallel_data\\u002fhr-Trac\",\"hr\"],[\"parallel_data\\u002fhr-Trac\",\"hr\"],[\"parallel_data\\u002fhr-Trac\",\"hr\"],[\"parallel_data\\u002fhr-Trac\",\"hr\"],[\"parallel_data\\u002fhr-Trac\",\"hr\"],[\"parallel_data\\u002fhr-Trac\",\"hr\"],[\"parallel_data\\u002fhr-Trac\",\"hr\"],[\"parallel_data\\u002fhr-Trac\",\"hr\"],[\"parallel_data\\u002fhr-Trac\",\"hr\"],[\"parallel_data\\u002fhr-Trac\",\"hr\"],[\"parallel_data\\u002fhr-Trac\",\"hr\"],[\"parallel_data\\u002fhr-Trac\",\"hr\"],[\"parallel_data\\u002fhr-Trac\",\"hr\"],[\"parallel_data\\u002fhr-Trac\",\"hr\"],[\"parallel_data\\u002fhr-Trac\",\"hr\"],[\"parallel_data\\u002fhr-Trac\",\"hr\"],[\"parallel_data\\u002fhr-Trac\",\"hr\"],[\"parallel_data\\u002fhr-Trac\",\"hr\"],[\"parallel_data\\u002fhr-Trac\",\"hr\"],[\"parallel_data\\u002fhr-Trac\",\"hr\"],[\"parallel_data\\u002fhr-Trac\",\"hr\"],[\"parallel_data\\u002fhr-Trac\",\"hr\"],[\"parallel_data\\u002fhr-Trac\",\"hr\"],[\"parallel_data\\u002fhr-Trac\",\"hr\"],[\"parallel_data\\u002fhr-Trac\",\"hr\"],[\"parallel_data\\u002fhr-Trac\",\"hr\"],[\"parallel_data\\u002fhr-Trac\",\"hr\"],[\"parallel_data\\u002fhr-Trac\",\"hr\"],[\"parallel_data\\u002fhr-Trac\",\"hr\"],[\"parallel_data\\u002fhr-Trac\",\"hr\"],[\"parallel_data\\u002fhr-Trac\",\"hr\"],[\"parallel_data\\u002fhr-Trac\",\"hr\"],[\"parallel_data\\u002fhr-Trac\",\"hr\"],[\"parallel_data\\u002fhr-Trac\",\"hr\"],[\"parallel_data\\u002fhr-Trac\",\"hr\"],[\"parallel_data\\u002fhr-Trac\",\"hr\"],[\"parallel_data\\u002fhr-Trac\",\"hr\"],[\"parallel_data\\u002fhr-Trac\",\"hr\"],[\"parallel_data\\u002fhr-Trac\",\"hr\"],[\"parallel_data\\u002fhr-Trac\",\"hr\"],[\"parallel_data\\u002fhr-Trac\",\"hr\"],[\"parallel_data\\u002fhr-Trac\",\"hr\"],[\"parallel_data\\u002fhr-Trac\",\"hr\"],[\"parallel_data\\u002fhr-Trac\",\"hr\"],[\"parallel_data\\u002fhr-Trac\",\"hr\"],[\"parallel_data\\u002fhr-Trac\",\"hr\"],[\"parallel_data\\u002fhr-Trac\",\"hr\"],[\"parallel_data\\u002fhr-Trac\",\"hr\"],[\"parallel_data\\u002fhr-Trac\",\"hr\"],[\"parallel_data\\u002fhr-Trac\",\"hr\"],[\"parallel_data\\u002fhr-Trac\",\"hr\"],[\"parallel_data\\u002fhr-Trac\",\"hr\"],[\"parallel_data\\u002fhr-Trac\",\"hr\"],[\"parallel_data\\u002fhr-Trac\",\"hr\"],[\"parallel_data\\u002fhr-Trac\",\"hr\"],[\"parallel_data\\u002fhr-Trac\",\"hr\"],[\"parallel_data\\u002fhr-Trac\",\"hr\"],[\"parallel_data\\u002fhr-Trac\",\"hr\"],[\"parallel_data\\u002fhr-Trac\",\"hr\"],[\"parallel_data\\u002fhr-Trac\",\"hr\"],[\"parallel_data\\u002fhr-Trac\",\"hr\"],[\"parallel_data\\u002fhr-Trac\",\"hr\"],[\"parallel_data\\u002fhr-Trac\",\"hr\"],[\"parallel_data\\u002fhr-Trac\",\"hr\"],[\"parallel_data\\u002fhr-Trac\",\"hr\"],[\"parallel_data\\u002fhr-Trac\",\"hr\"],[\"parallel_data\\u002fhr-Trac\",\"hr\"],[\"parallel_data\\u002fhr-Trac\",\"hr\"],[\"parallel_data\\u002fhr-Trac\",\"hr\"],[\"parallel_data\\u002fhr-Trac\",\"hr\"],[\"parallel_data\\u002fhr-Trac\",\"hr\"],[\"parallel_data\\u002fhr-Trac\",\"hr\"],[\"parallel_data\\u002fhr-Trac\",\"hr\"],[\"parallel_data\\u002fhr-Trac\",\"hr\"],[\"parallel_data\\u002fhr-Trac\",\"hr\"],[\"parallel_data\\u002fhr-Trac\",\"hr\"],[\"parallel_data\\u002fhr-Trac\",\"hr\"],[\"parallel_data\\u002fhr-Trac\",\"hr\"],[\"parallel_data\\u002fhr-Trac\",\"hr\"],[\"parallel_data\\u002fhr-Trac\",\"hr\"],[\"parallel_data\\u002fhr-Trac\",\"hr\"],[\"parallel_data\\u002fhr-Trac\",\"hr\"],[\"parallel_data\\u002fhr-Trac\",\"hr\"],[\"parallel_data\\u002fhr-Trac\",\"hr\"],[\"parallel_data\\u002fhr-Trac\",\"hr\"],[\"parallel_data\\u002fhr-Trac\",\"hr\"],[\"parallel_data\\u002fhr-Trac\",\"hr\"],[\"parallel_data\\u002fhr-Trac\",\"hr\"],[\"parallel_data\\u002fhr-Trac\",\"hr\"],[\"parallel_data\\u002fhr-Trac\",\"hr\"],[\"parallel_data\\u002fhr-Trac\",\"hr\"],[\"parallel_data\\u002fhr-Trac\",\"hr\"],[\"parallel_data\\u002fhr-Trac\",\"hr\"],[\"parallel_data\\u002fhr-Trac\",\"hr\"],[\"parallel_data\\u002fhr-Trac\",\"hr\"],[\"parallel_data\\u002fhr-Trac\",\"hr\"],[\"parallel_data\\u002fhr-Trac\",\"hr\"],[\"parallel_data\\u002fhr-Trac\",\"hr\"],[\"parallel_data\\u002fhr-Trac\",\"hr\"],[\"parallel_data\\u002fhr-Trac\",\"hr\"],[\"parallel_data\\u002fhr-Trac\",\"hr\"],[\"parallel_data\\u002fhr-Trac\",\"hr\"],[\"parallel_data\\u002fhr-Trac\",\"hr\"],[\"parallel_data\\u002fhr-Trac\",\"hr\"],[\"parallel_data\\u002fhr-Trac\",\"hr\"],[\"parallel_data\\u002fhr-Trac\",\"hr\"],[\"parallel_data\\u002fhr-Trac\",\"hr\"],[\"parallel_data\\u002fhr-Trac\",\"hr\"],[\"parallel_data\\u002fhr-Trac\",\"hr\"],[\"parallel_data\\u002fhr-Trac\",\"hr\"],[\"parallel_data\\u002fhr-Trac\",\"hr\"],[\"parallel_data\\u002fhr-Trac\",\"hr\"],[\"parallel_data\\u002fhr-Trac\",\"hr\"],[\"parallel_data\\u002fhr-Trac\",\"hr\"],[\"parallel_data\\u002fhr-Trac\",\"hr\"],[\"parallel_data\\u002fhr-Trac\",\"hr\"],[\"parallel_data\\u002fhr-Trac\",\"hr\"],[\"parallel_data\\u002fhr-Trac\",\"hr\"],[\"parallel_data\\u002fhr-Trac\",\"hr\"],[\"parallel_data\\u002fhr-Trac\",\"hr\"],[\"parallel_data\\u002fhr-Trac\",\"hr\"],[\"parallel_data\\u002fhr-Trac\",\"hr\"],[\"parallel_data\\u002fhr-Trac\",\"hr\"],[\"parallel_data\\u002fhr-Trac\",\"hr\"],[\"parallel_data\\u002fhr-Trac\",\"hr\"],[\"parallel_data\\u002fhr-Trac\",\"hr\"],[\"parallel_data\\u002fhr-Trac\",\"hr\"],[\"parallel_data\\u002fhr-Trac\",\"hr\"],[\"parallel_data\\u002fhr-Trac\",\"hr\"],[\"parallel_data\\u002fhr-Trac\",\"hr\"],[\"parallel_data\\u002fhr-Trac\",\"hr\"],[\"parallel_data\\u002fhr-Trac\",\"hr\"],[\"parallel_data\\u002fhr-Trac\",\"hr\"],[\"parallel_data\\u002fhr-Trac\",\"hr\"],[\"parallel_data\\u002fhr-Trac\",\"hr\"],[\"parallel_data\\u002fhr-Trac\",\"hr\"],[\"parallel_data\\u002fhr-Trac\",\"hr\"],[\"parallel_data\\u002fhr-Trac\",\"hr\"],[\"parallel_data\\u002fhr-Trac\",\"hr\"],[\"parallel_data\\u002fhr-Trac\",\"hr\"],[\"parallel_data\\u002fhr-Trac\",\"hr\"],[\"parallel_data\\u002fhr-Trac\",\"hr\"],[\"parallel_data\\u002fhr-Trac\",\"hr\"],[\"parallel_data\\u002fhr-Trac\",\"hr\"],[\"parallel_data\\u002fhr-Trac\",\"hr\"],[\"parallel_data\\u002fhr-Trac\",\"hr\"],[\"parallel_data\\u002fhr-Trac\",\"hr\"],[\"parallel_data\\u002fhr-Trac\",\"hr\"],[\"parallel_data\\u002fhr-Trac\",\"hr\"],[\"parallel_data\\u002fhr-Trac\",\"hr\"],[\"parallel_data\\u002fhr-Trac\",\"hr\"],[\"parallel_data\\u002fhr-Trac\",\"hr\"],[\"parallel_data\\u002fhr-Trac\",\"hr\"],[\"parallel_data\\u002fhr-Trac\",\"hr\"],[\"parallel_data\\u002fhr-Trac\",\"hr\"],[\"parallel_data\\u002fhr-Trac\",\"hr\"],[\"parallel_data\\u002fhr-Trac\",\"hr\"],[\"parallel_data\\u002fhr-Trac\",\"hr\"],[\"parallel_data\\u002fhr-Trac\",\"hr\"],[\"parallel_data\\u002fhr-Trac\",\"hr\"],[\"parallel_data\\u002fhr-Trac\",\"hr\"],[\"parallel_data\\u002fhr-Trac\",\"hr\"],[\"parallel_data\\u002fhr-Trac\",\"hr\"],[\"parallel_data\\u002fhr-Trac\",\"hr\"],[\"parallel_data\\u002fhr-Trac\",\"hr\"],[\"parallel_data\\u002fhr-Trac\",\"hr\"],[\"parallel_data\\u002fhr-Trac\",\"hr\"],[\"parallel_data\\u002fhr-Trac\",\"hr\"],[\"parallel_data\\u002fhr-Trac\",\"hr\"],[\"parallel_data\\u002fhr-Trac\",\"hr\"],[\"parallel_data\\u002fhr-Trac\",\"hr\"],[\"parallel_data\\u002fhr-Trac\",\"hr\"],[\"parallel_data\\u002fhr-Trac\",\"hr\"],[\"parallel_data\\u002fhr-Trac\",\"hr\"],[\"parallel_data\\u002fhr-Trac\",\"hr\"],[\"parallel_data\\u002fhr-Trac\",\"hr\"],[\"parallel_data\\u002fhr-Trac\",\"hr\"],[\"parallel_data\\u002fhr-Trac\",\"hr\"],[\"parallel_data\\u002fhr-Trac\",\"hr\"],[\"parallel_data\\u002fhr-Trac\",\"hr\"],[\"parallel_data\\u002fhr-Trac\",\"hr\"],[\"parallel_data\\u002fhr-Trac\",\"hr\"],[\"parallel_data\\u002fhr-Trac\",\"hr\"],[\"parallel_data\\u002fhr-Trac\",\"hr\"],[\"parallel_data\\u002fhr-Trac\",\"hr\"],[\"parallel_data\\u002fhr-Trac\",\"hr\"],[\"parallel_data\\u002fhr-Trac\",\"hr\"],[\"parallel_data\\u002fhr-Trac\",\"hr\"],[\"parallel_data\\u002fhr-Trac\",\"hr\"],[\"parallel_data\\u002fhr-Trac\",\"hr\"],[\"parallel_data\\u002fhr-Trac\",\"hr\"],[\"parallel_data\\u002fhr-Trac\",\"hr\"],[\"parallel_data\\u002fhr-Trac\",\"hr\"],[\"parallel_data\\u002fhr-Trac\",\"hr\"],[\"parallel_data\\u002fhr-Trac\",\"hr\"],[\"parallel_data\\u002fhr-Trac\",\"hr\"],[\"parallel_data\\u002fhr-Trac\",\"hr\"],[\"parallel_data\\u002fhr-Trac\",\"hr\"],[\"parallel_data\\u002fhr-Trac\",\"hr\"],[\"parallel_data\\u002fhr-Trac\",\"hr\"],[\"parallel_data\\u002fhr-Trac\",\"hr\"],[\"parallel_data\\u002fhr-Trac\",\"hr\"],[\"parallel_data\\u002fhr-Trac\",\"hr\"],[\"parallel_data\\u002fhr-Trac\",\"hr\"],[\"parallel_data\\u002fhr-Trac\",\"hr\"],[\"parallel_data\\u002fhr-Trac\",\"hr\"],[\"parallel_data\\u002fhr-Trac\",\"hr\"],[\"parallel_data\\u002fhr-Trac\",\"hr\"],[\"parallel_data\\u002fhr-Trac\",\"hr\"],[\"parallel_data\\u002fhr-Trac\",\"hr\"],[\"parallel_data\\u002fhr-Trac\",\"hr\"],[\"parallel_data\\u002fhr-Trac\",\"hr\"],[\"parallel_data\\u002fhr-Trac\",\"hr\"],[\"parallel_data\\u002fhr-Trac\",\"hr\"],[\"parallel_data\\u002fhr-Trac\",\"hr\"],[\"parallel_data\\u002fhr-Trac\",\"hr\"],[\"parallel_data\\u002fhr-Trac\",\"hr\"],[\"parallel_data\\u002fhr-Trac\",\"hr\"]],\"hovertemplate\":\"language=%{customdata[1]}\\u003cbr\\u003ex=%{x}\\u003cbr\\u003ey=%{y}\\u003cbr\\u003edataset_name=%{customdata[0]}\\u003cextra\\u003e\\u003c\\u002fextra\\u003e\",\"legendgroup\":\"hr\",\"marker\":{\"color\":\"#ab63fa\",\"symbol\":\"circle\"},\"mode\":\"markers\",\"name\":\"hr\",\"showlegend\":true,\"x\":[5.222590446472168,6.845426559448242,7.216399669647217,-5.819077968597412,-4.9704999923706055,9.327866554260254,-4.911583423614502,-1.1859798431396484,2.9188621044158936,-0.2577137053012848,0.968432605266571,3.7907872200012207,5.366275310516357,7.4374494552612305,-0.8200420141220093,11.999483108520508,-3.5920000076293945,2.5408153533935547,5.013809680938721,-3.644145965576172,-2.2176103591918945,0.3091362714767456,2.1492576599121094,-1.9445134401321411,9.1189546585083,-0.39954349398612976,9.107515335083008,9.49420166015625,3.4530346393585205,-2.4665400981903076,2.929387092590332,6.457371234893799,1.7118147611618042,-0.9324893951416016,-2.0794994831085205,2.0214500427246094,-0.002328533213585615,7.043402671813965,5.0983123779296875,-1.4906998872756958,4.002041339874268,7.291464328765869,-0.9372800588607788,-3.375579833984375,2.664696455001831,-4.076971054077148,-0.6637405157089233,-2.0905466079711914,9.121587753295898,-3.739936113357544,1.2574560642242432,7.362590789794922,4.8667449951171875,0.5197747945785522,3.7460196018218994,2.5070314407348633,4.1097731590271,1.1335830688476562,4.056509017944336,11.01651668548584,6.773731231689453,0.2081262618303299,-1.9044231176376343,-1.8084708452224731,0.9487922191619873,0.9577224254608154,4.7865447998046875,0.3335047662258148,6.3030595779418945,8.333547592163086,1.3312156200408936,4.857087135314941,-1.9599583148956299,2.6499979496002197,4.776761054992676,-1.095988392829895,0.5171809196472168,-0.3909624218940735,-5.504443645477295,5.662906169891357,3.14599609375,-0.06847858428955078,5.030853748321533,-3.1780049800872803,3.7048275470733643,7.3665852546691895,4.2510857582092285,-4.223409175872803,6.239121437072754,10.334342956542969,8.078676223754883,3.3861024379730225,5.165895938873291,3.2343926429748535,7.521457195281982,2.4244954586029053,4.308781147003174,11.782230377197266,-7.59283447265625,0.2543482482433319,-0.7748549580574036,6.704714298248291,4.267675876617432,5.598842144012451,-8.558405876159668,-1.5774965286254883,0.6374215483665466,0.7564176321029663,-8.253654479980469,5.751434803009033,-2.3668341636657715,-3.749833106994629,1.9477221965789795,7.364137172698975,-0.03993222862482071,2.768264055252075,0.16278575360774994,-0.5869564414024353,-2.0787672996520996,4.30342435836792,7.826022148132324,6.873691558837891,2.823017120361328,5.391534805297852,3.7322041988372803,-7.340648174285889,1.56573486328125,5.771511077880859,2.4930360317230225,-2.727076768875122,0.8362711668014526,3.1800708770751953,-1.9592782258987427,-3.544901132583618,12.071017265319824,7.052238941192627,-2.0420446395874023,-8.698393821716309,8.7974271774292,6.50085973739624,-2.7516510486602783,8.550372123718262,0.769788384437561,5.977383613586426,6.96013879776001,0.8115025162696838,3.8672077655792236,-3.8662333488464355,-5.543188571929932,-1.4694827795028687,8.539216995239258,3.5499041080474854,0.820569634437561,3.012457847595215,-1.9844112396240234,-0.646878182888031,3.946057081222534,3.5628528594970703,2.882755756378174,1.986197829246521,10.284618377685547,4.634108543395996,3.960892915725708,4.204809665679932,-8.014486312866211,4.394554138183594,0.4223696291446686,-4.128133773803711,-0.11110252141952515,-3.7256646156311035,5.471379280090332,-1.493167757987976,4.169684410095215,1.5529099702835083,6.214292526245117,-0.5520976185798645,1.3499767780303955,3.3087704181671143,-3.3148114681243896,-0.593700110912323,2.269836664199829,1.0460517406463623,-5.775480270385742,5.371515274047852,1.3030853271484375,-8.180025100708008,10.093317985534668,2.523420810699463,1.9256868362426758,1.6412949562072754,-1.3131736516952515,-7.384890079498291,2.241234540939331,-3.401818037033081,2.9612154960632324,3.3648061752319336,1.0616527795791626,0.1383403241634369,-1.1868637800216675,-2.1477339267730713,-1.8190460205078125,-8.098799705505371,1.356087327003479,-4.9092512130737305,0.7411863803863525,7.312366008758545,-2.812058925628662,5.043639659881592,-5.436994552612305,-2.1868462562561035,11.132102966308594,8.038911819458008,-8.07227611541748,2.257645845413208,-6.736758232116699,-1.0482457876205444,-1.3722668886184692,1.7625129222869873,1.744255542755127,3.230740785598755,-2.924971580505371,9.323267936706543,7.030572414398193,4.292276382446289,0.07303742319345474,5.448420524597168,-8.100996017456055,10.269259452819824,4.660583972930908,6.695846080780029,0.1532822996377945,6.744654178619385,4.4245710372924805,6.855551242828369,1.538193941116333,-3.113844156265259,2.068772315979004,7.012305736541748,-1.1828272342681885,11.444295883178711,1.8240476846694946,-1.903001070022583,6.332790374755859,6.291151523590088,2.4033448696136475,1.3820617198944092,-7.350356101989746,-4.341232776641846,2.757370948791504,2.6218247413635254,7.134645462036133,1.7614513635635376,-1.5577208995819092,-0.11822637915611267,-2.5797932147979736,-5.139831066131592,-3.560821056365967,1.2635910511016846,4.181854724884033,1.9923306703567505,-0.5394552946090698,-3.3377346992492676,-1.6140222549438477,3.3781416416168213,-0.014325336553156376,-7.894071578979492,7.94850492477417,1.0963765382766724,-1.7776697874069214,-1.3206990957260132,-2.763784646987915,3.422922134399414,2.3043689727783203,-0.9198263883590698,-3.585951566696167,1.7514017820358276,1.341482162475586,5.1436896324157715,7.473703861236572,0.5317158102989197,2.7410006523132324,8.913564682006836,-0.4400244653224945,2.205491542816162,-2.76892352104187,4.134121417999268,5.066377639770508,1.878161907196045,1.9762113094329834,-1.0048067569732666,-5.641524314880371,0.6070752143859863,-4.251227378845215,-0.8394806981086731,0.5430352687835693,2.1800010204315186,-2.976353645324707,-0.2312256395816803,6.080674171447754,0.17560771107673645],\"xaxis\":\"x\",\"y\":[2.8803319931030273,5.656661510467529,3.8297317028045654,0.7583374977111816,2.3572256565093994,4.861180305480957,1.149681806564331,-0.4403984248638153,6.873136520385742,-4.406857013702393,6.106248378753662,0.14948906004428864,5.052709102630615,1.0530121326446533,1.3178184032440186,0.9852092862129211,1.4942914247512817,-1.880118489265442,11.759182929992676,-0.8066495656967163,3.898301362991333,8.505623817443848,7.37824821472168,0.4360048472881317,7.584478378295898,7.022778511047363,5.831333637237549,4.658352851867676,5.257500648498535,0.3135513961315155,7.751950263977051,-1.3856045007705688,12.527091026306152,7.11954927444458,11.864899635314941,13.667733192443848,0.6026095747947693,2.5867369174957275,3.2537283897399902,-4.010474681854248,6.86857271194458,0.03941300883889198,5.3841376304626465,-0.08285508304834366,7.550894260406494,0.9857537150382996,8.163612365722656,3.994717836380005,4.069787979125977,8.848280906677246,11.54335880279541,8.515545845031738,10.162986755371094,2.28971004486084,0.36282598972320557,1.9024431705474854,11.159764289855957,3.674140691757202,3.8724377155303955,8.227852821350098,4.115021228790283,0.8488628268241882,15.147605895996094,0.9787395000457764,7.3258233070373535,3.438703775405884,4.013174533843994,4.070545196533203,5.057080268859863,8.518075942993164,12.162160873413086,7.547556400299072,15.785825729370117,8.633862495422363,4.650269985198975,9.84556770324707,11.363394737243652,8.52139949798584,3.524534225463867,3.9153709411621094,5.418073654174805,4.910043239593506,7.297726631164551,3.7425010204315186,5.540534019470215,7.107724189758301,13.018797874450684,8.792627334594727,9.226916313171387,3.7551403045654297,5.24561071395874,13.816447257995605,7.2013258934021,13.979252815246582,13.694572448730469,10.859508514404297,6.66259765625,1.1790014505386353,0.5090722441673279,6.640746116638184,13.109467506408691,8.752910614013672,-0.19032546877861023,9.986680030822754,6.960519790649414,7.922524452209473,4.827908515930176,6.138922691345215,6.659428596496582,5.731221675872803,0.6530823707580566,5.6705827713012695,12.899222373962402,3.9189491271972656,7.77638578414917,-1.011704444885254,7.064043045043945,12.266002655029297,0.967292308807373,12.584959983825684,11.786572456359863,6.447804927825928,5.414059638977051,6.785083293914795,10.803586959838867,0.8205799460411072,3.126535415649414,3.6533381938934326,-2.002401828765869,7.0571064949035645,3.9099795818328857,14.796378135681152,15.25281047821045,3.0592689514160156,0.9149549007415771,3.6199984550476074,6.610140323638916,6.85536527633667,3.9390828609466553,7.051107883453369,1.5450338125228882,3.368508815765381,7.3825812339782715,9.871707916259766,1.5738106966018677,-3.1931183338165283,2.315155506134033,1.872504472732544,6.585951805114746,-0.8369483351707458,8.689449310302734,11.734803199768066,1.8903177976608276,11.84506893157959,6.4036078453063965,8.691242218017578,10.268394470214844,15.513872146606445,11.725890159606934,5.813758373260498,11.061110496520996,6.784603595733643,8.526909828186035,5.616888999938965,1.2298223972320557,4.993526935577393,10.75865650177002,1.9398843050003052,10.442331314086914,8.795308113098145,8.76223087310791,2.5725839138031006,-0.10858209431171417,11.255224227905273,8.361756324768066,5.67802095413208,9.95827865600586,0.004543640185147524,12.616666793823242,7.220088481903076,11.214390754699707,4.167862415313721,2.11908221244812,5.680984973907471,6.12053918838501,6.749110698699951,11.352352142333984,7.66200065612793,4.51418924331665,4.30924129486084,1.292217493057251,6.659710884094238,11.456379890441895,-2.66230845451355,9.37877082824707,9.325118064880371,10.492158889770508,4.417421340942383,-1.31851065158844,-0.12402725219726562,2.525068998336792,2.5086703300476074,-2.7982218265533447,-0.1881445348262787,10.220223426818848,5.899074077606201,2.378107786178589,3.4699935913085938,3.4460973739624023,-0.23204202950000763,8.31395435333252,6.14784574508667,2.5040414333343506,2.0631532669067383,0.6542384624481201,4.367825031280518,9.696272850036621,8.923952102661133,7.276098728179932,12.5686674118042,1.3102128505706787,7.700818061828613,9.831189155578613,12.989664077758789,3.053697109222412,6.521352291107178,6.717669486999512,11.07913589477539,13.220572471618652,15.345742225646973,0.0008749258704483509,3.4343066215515137,7.970460891723633,8.857718467712402,13.967082023620605,13.806079864501953,13.876787185668945,3.0651938915252686,5.661376953125,6.582262992858887,8.930541038513184,15.739124298095703,7.996319770812988,5.945509910583496,8.99311351776123,6.753726005554199,0.9766790270805359,-0.026031039655208588,-1.5540313720703125,3.5997154712677,6.683928966522217,2.508791923522949,-0.8068310618400574,7.058531284332275,3.9566843509674072,0.9982860684394836,-1.1470831632614136,11.051118850708008,5.166024684906006,1.6669493913650513,10.749988555908203,4.283255577087402,2.3207032680511475,-0.0058963727205991745,5.270153999328613,1.1300079822540283,5.316893100738525,-2.9681596755981445,1.5194921493530273,9.482786178588867,-0.9499678015708923,-1.9233571290969849,1.2129954099655151,8.338520050048828,-0.14673073589801788,12.157206535339355,9.463922500610352,10.042132377624512,5.178980827331543,8.746081352233887,11.226359367370605,8.797871589660645,10.346933364868164,12.15733814239502,1.7774932384490967,13.17412281036377,12.599068641662598,8.038471221923828,11.690450668334961,9.292303085327148,-0.3014625608921051,-3.1299517154693604,0.5135440826416016,4.246543884277344,3.206538677215576,12.679119110107422,0.4692622125148773,3.299870729446411,0.46821340918540955,6.333157539367676],\"yaxis\":\"y\",\"type\":\"scattergl\"},{\"customdata\":[[\"parallel_data\\u002fru-Trac\",\"ru\"],[\"parallel_data\\u002fru-Trac\",\"ru\"],[\"parallel_data\\u002fru-Trac\",\"ru\"],[\"parallel_data\\u002fru-Trac\",\"ru\"],[\"parallel_data\\u002fru-Trac\",\"ru\"],[\"parallel_data\\u002fru-Trac\",\"ru\"],[\"parallel_data\\u002fru-Trac\",\"ru\"],[\"parallel_data\\u002fru-Trac\",\"ru\"],[\"parallel_data\\u002fru-Trac\",\"ru\"],[\"parallel_data\\u002fru-Trac\",\"ru\"],[\"parallel_data\\u002fru-Trac\",\"ru\"],[\"parallel_data\\u002fru-Trac\",\"ru\"],[\"parallel_data\\u002fru-Trac\",\"ru\"],[\"parallel_data\\u002fru-Trac\",\"ru\"],[\"parallel_data\\u002fru-Trac\",\"ru\"],[\"parallel_data\\u002fru-Trac\",\"ru\"],[\"parallel_data\\u002fru-Trac\",\"ru\"],[\"parallel_data\\u002fru-Trac\",\"ru\"],[\"parallel_data\\u002fru-Trac\",\"ru\"],[\"parallel_data\\u002fru-Trac\",\"ru\"],[\"parallel_data\\u002fru-Trac\",\"ru\"],[\"parallel_data\\u002fru-Trac\",\"ru\"],[\"parallel_data\\u002fru-Trac\",\"ru\"],[\"parallel_data\\u002fru-Trac\",\"ru\"],[\"parallel_data\\u002fru-Trac\",\"ru\"],[\"parallel_data\\u002fru-Trac\",\"ru\"],[\"parallel_data\\u002fru-Trac\",\"ru\"],[\"parallel_data\\u002fru-Trac\",\"ru\"],[\"parallel_data\\u002fru-Trac\",\"ru\"],[\"parallel_data\\u002fru-Trac\",\"ru\"],[\"parallel_data\\u002fru-Trac\",\"ru\"],[\"parallel_data\\u002fru-Trac\",\"ru\"],[\"parallel_data\\u002fru-Trac\",\"ru\"],[\"parallel_data\\u002fru-Trac\",\"ru\"],[\"parallel_data\\u002fru-Trac\",\"ru\"],[\"parallel_data\\u002fru-Trac\",\"ru\"],[\"parallel_data\\u002fru-Trac\",\"ru\"],[\"parallel_data\\u002fru-Trac\",\"ru\"],[\"parallel_data\\u002fru-Trac\",\"ru\"],[\"parallel_data\\u002fru-Trac\",\"ru\"],[\"parallel_data\\u002fru-Trac\",\"ru\"],[\"parallel_data\\u002fru-Trac\",\"ru\"],[\"parallel_data\\u002fru-Trac\",\"ru\"],[\"parallel_data\\u002fru-Trac\",\"ru\"],[\"parallel_data\\u002fru-Trac\",\"ru\"],[\"parallel_data\\u002fru-Trac\",\"ru\"],[\"parallel_data\\u002fru-Trac\",\"ru\"],[\"parallel_data\\u002fru-Trac\",\"ru\"],[\"parallel_data\\u002fru-Trac\",\"ru\"],[\"parallel_data\\u002fru-Trac\",\"ru\"],[\"parallel_data\\u002fru-Trac\",\"ru\"],[\"parallel_data\\u002fru-Trac\",\"ru\"],[\"parallel_data\\u002fru-Trac\",\"ru\"],[\"parallel_data\\u002fru-Trac\",\"ru\"],[\"parallel_data\\u002fru-Trac\",\"ru\"],[\"parallel_data\\u002fru-Trac\",\"ru\"],[\"parallel_data\\u002fru-Trac\",\"ru\"],[\"parallel_data\\u002fru-Trac\",\"ru\"],[\"parallel_data\\u002fru-Trac\",\"ru\"],[\"parallel_data\\u002fru-Trac\",\"ru\"],[\"parallel_data\\u002fru-Trac\",\"ru\"],[\"parallel_data\\u002fru-Trac\",\"ru\"],[\"parallel_data\\u002fru-Trac\",\"ru\"],[\"parallel_data\\u002fru-Trac\",\"ru\"],[\"parallel_data\\u002fru-Trac\",\"ru\"],[\"parallel_data\\u002fru-Trac\",\"ru\"],[\"parallel_data\\u002fru-Trac\",\"ru\"],[\"parallel_data\\u002fru-Trac\",\"ru\"],[\"parallel_data\\u002fru-Trac\",\"ru\"],[\"parallel_data\\u002fru-Trac\",\"ru\"],[\"parallel_data\\u002fru-Trac\",\"ru\"],[\"parallel_data\\u002fru-Trac\",\"ru\"],[\"parallel_data\\u002fru-Trac\",\"ru\"],[\"parallel_data\\u002fru-Trac\",\"ru\"],[\"parallel_data\\u002fru-Trac\",\"ru\"],[\"parallel_data\\u002fru-Trac\",\"ru\"],[\"parallel_data\\u002fru-Trac\",\"ru\"],[\"parallel_data\\u002fru-Trac\",\"ru\"],[\"parallel_data\\u002fru-Trac\",\"ru\"],[\"parallel_data\\u002fru-Trac\",\"ru\"],[\"parallel_data\\u002fru-Trac\",\"ru\"],[\"parallel_data\\u002fru-Trac\",\"ru\"],[\"parallel_data\\u002fru-Trac\",\"ru\"],[\"parallel_data\\u002fru-Trac\",\"ru\"],[\"parallel_data\\u002fru-Trac\",\"ru\"],[\"parallel_data\\u002fru-Trac\",\"ru\"],[\"parallel_data\\u002fru-Trac\",\"ru\"],[\"parallel_data\\u002fru-Trac\",\"ru\"],[\"parallel_data\\u002fru-Trac\",\"ru\"],[\"parallel_data\\u002fru-Trac\",\"ru\"],[\"parallel_data\\u002fru-Trac\",\"ru\"],[\"parallel_data\\u002fru-Trac\",\"ru\"],[\"parallel_data\\u002fru-Trac\",\"ru\"],[\"parallel_data\\u002fru-Trac\",\"ru\"],[\"parallel_data\\u002fru-Trac\",\"ru\"],[\"parallel_data\\u002fru-Trac\",\"ru\"],[\"parallel_data\\u002fru-Trac\",\"ru\"],[\"parallel_data\\u002fru-Trac\",\"ru\"],[\"parallel_data\\u002fru-Trac\",\"ru\"],[\"parallel_data\\u002fru-Trac\",\"ru\"],[\"parallel_data\\u002fru-Trac\",\"ru\"],[\"parallel_data\\u002fru-Trac\",\"ru\"],[\"parallel_data\\u002fru-Trac\",\"ru\"],[\"parallel_data\\u002fru-Trac\",\"ru\"],[\"parallel_data\\u002fru-Trac\",\"ru\"],[\"parallel_data\\u002fru-Trac\",\"ru\"],[\"parallel_data\\u002fru-Trac\",\"ru\"],[\"parallel_data\\u002fru-Trac\",\"ru\"],[\"parallel_data\\u002fru-Trac\",\"ru\"],[\"parallel_data\\u002fru-Trac\",\"ru\"],[\"parallel_data\\u002fru-Trac\",\"ru\"],[\"parallel_data\\u002fru-Trac\",\"ru\"],[\"parallel_data\\u002fru-Trac\",\"ru\"],[\"parallel_data\\u002fru-Trac\",\"ru\"],[\"parallel_data\\u002fru-Trac\",\"ru\"],[\"parallel_data\\u002fru-Trac\",\"ru\"],[\"parallel_data\\u002fru-Trac\",\"ru\"],[\"parallel_data\\u002fru-Trac\",\"ru\"],[\"parallel_data\\u002fru-Trac\",\"ru\"],[\"parallel_data\\u002fru-Trac\",\"ru\"],[\"parallel_data\\u002fru-Trac\",\"ru\"],[\"parallel_data\\u002fru-Trac\",\"ru\"],[\"parallel_data\\u002fru-Trac\",\"ru\"],[\"parallel_data\\u002fru-Trac\",\"ru\"],[\"parallel_data\\u002fru-Trac\",\"ru\"],[\"parallel_data\\u002fru-Trac\",\"ru\"],[\"parallel_data\\u002fru-Trac\",\"ru\"],[\"parallel_data\\u002fru-Trac\",\"ru\"],[\"parallel_data\\u002fru-Trac\",\"ru\"],[\"parallel_data\\u002fru-Trac\",\"ru\"],[\"parallel_data\\u002fru-Trac\",\"ru\"],[\"parallel_data\\u002fru-Trac\",\"ru\"],[\"parallel_data\\u002fru-Trac\",\"ru\"],[\"parallel_data\\u002fru-Trac\",\"ru\"],[\"parallel_data\\u002fru-Trac\",\"ru\"],[\"parallel_data\\u002fru-Trac\",\"ru\"],[\"parallel_data\\u002fru-Trac\",\"ru\"],[\"parallel_data\\u002fru-Trac\",\"ru\"],[\"parallel_data\\u002fru-Trac\",\"ru\"],[\"parallel_data\\u002fru-Trac\",\"ru\"],[\"parallel_data\\u002fru-Trac\",\"ru\"],[\"parallel_data\\u002fru-Trac\",\"ru\"],[\"parallel_data\\u002fru-Trac\",\"ru\"],[\"parallel_data\\u002fru-Trac\",\"ru\"],[\"parallel_data\\u002fru-Trac\",\"ru\"],[\"parallel_data\\u002fru-Trac\",\"ru\"],[\"parallel_data\\u002fru-Trac\",\"ru\"],[\"parallel_data\\u002fru-Trac\",\"ru\"],[\"parallel_data\\u002fru-Trac\",\"ru\"],[\"parallel_data\\u002fru-Trac\",\"ru\"],[\"parallel_data\\u002fru-Trac\",\"ru\"],[\"parallel_data\\u002fru-Trac\",\"ru\"],[\"parallel_data\\u002fru-Trac\",\"ru\"],[\"parallel_data\\u002fru-Trac\",\"ru\"],[\"parallel_data\\u002fru-Trac\",\"ru\"],[\"parallel_data\\u002fru-Trac\",\"ru\"],[\"parallel_data\\u002fru-Trac\",\"ru\"],[\"parallel_data\\u002fru-Trac\",\"ru\"],[\"parallel_data\\u002fru-Trac\",\"ru\"],[\"parallel_data\\u002fru-Trac\",\"ru\"],[\"parallel_data\\u002fru-Trac\",\"ru\"],[\"parallel_data\\u002fru-Trac\",\"ru\"],[\"parallel_data\\u002fru-Trac\",\"ru\"],[\"parallel_data\\u002fru-Trac\",\"ru\"],[\"parallel_data\\u002fru-Trac\",\"ru\"],[\"parallel_data\\u002fru-Trac\",\"ru\"],[\"parallel_data\\u002fru-Trac\",\"ru\"],[\"parallel_data\\u002fru-Trac\",\"ru\"],[\"parallel_data\\u002fru-Trac\",\"ru\"],[\"parallel_data\\u002fru-Trac\",\"ru\"],[\"parallel_data\\u002fru-Trac\",\"ru\"],[\"parallel_data\\u002fru-Trac\",\"ru\"],[\"parallel_data\\u002fru-Trac\",\"ru\"],[\"parallel_data\\u002fru-Trac\",\"ru\"],[\"parallel_data\\u002fru-Trac\",\"ru\"],[\"parallel_data\\u002fru-Trac\",\"ru\"],[\"parallel_data\\u002fru-Trac\",\"ru\"],[\"parallel_data\\u002fru-Trac\",\"ru\"],[\"parallel_data\\u002fru-Trac\",\"ru\"],[\"parallel_data\\u002fru-Trac\",\"ru\"],[\"parallel_data\\u002fru-Trac\",\"ru\"],[\"parallel_data\\u002fru-Trac\",\"ru\"],[\"parallel_data\\u002fru-Trac\",\"ru\"],[\"parallel_data\\u002fru-Trac\",\"ru\"],[\"parallel_data\\u002fru-Trac\",\"ru\"],[\"parallel_data\\u002fru-Trac\",\"ru\"],[\"parallel_data\\u002fru-Trac\",\"ru\"],[\"parallel_data\\u002fru-Trac\",\"ru\"],[\"parallel_data\\u002fru-Trac\",\"ru\"],[\"parallel_data\\u002fru-Trac\",\"ru\"],[\"parallel_data\\u002fru-Trac\",\"ru\"],[\"parallel_data\\u002fru-Trac\",\"ru\"],[\"parallel_data\\u002fru-Trac\",\"ru\"],[\"parallel_data\\u002fru-Trac\",\"ru\"],[\"parallel_data\\u002fru-Trac\",\"ru\"],[\"parallel_data\\u002fru-Trac\",\"ru\"],[\"parallel_data\\u002fru-Trac\",\"ru\"],[\"parallel_data\\u002fru-Trac\",\"ru\"],[\"parallel_data\\u002fru-Trac\",\"ru\"],[\"parallel_data\\u002fru-Trac\",\"ru\"],[\"parallel_data\\u002fru-Trac\",\"ru\"],[\"parallel_data\\u002fru-Trac\",\"ru\"],[\"parallel_data\\u002fru-Trac\",\"ru\"],[\"parallel_data\\u002fru-Trac\",\"ru\"],[\"parallel_data\\u002fru-Trac\",\"ru\"],[\"parallel_data\\u002fru-Trac\",\"ru\"],[\"parallel_data\\u002fru-Trac\",\"ru\"],[\"parallel_data\\u002fru-Trac\",\"ru\"],[\"parallel_data\\u002fru-Trac\",\"ru\"],[\"parallel_data\\u002fru-Trac\",\"ru\"],[\"parallel_data\\u002fru-Trac\",\"ru\"],[\"parallel_data\\u002fru-Trac\",\"ru\"],[\"parallel_data\\u002fru-Trac\",\"ru\"],[\"parallel_data\\u002fru-Trac\",\"ru\"],[\"parallel_data\\u002fru-Trac\",\"ru\"],[\"parallel_data\\u002fru-Trac\",\"ru\"],[\"parallel_data\\u002fru-Trac\",\"ru\"],[\"parallel_data\\u002fru-Trac\",\"ru\"],[\"parallel_data\\u002fru-Trac\",\"ru\"],[\"parallel_data\\u002fru-Trac\",\"ru\"],[\"parallel_data\\u002fru-Trac\",\"ru\"],[\"parallel_data\\u002fru-Trac\",\"ru\"],[\"parallel_data\\u002fru-Trac\",\"ru\"],[\"parallel_data\\u002fru-Trac\",\"ru\"],[\"parallel_data\\u002fru-Trac\",\"ru\"],[\"parallel_data\\u002fru-Trac\",\"ru\"],[\"parallel_data\\u002fru-Trac\",\"ru\"],[\"parallel_data\\u002fru-Trac\",\"ru\"],[\"parallel_data\\u002fru-Trac\",\"ru\"],[\"parallel_data\\u002fru-Trac\",\"ru\"],[\"parallel_data\\u002fru-Trac\",\"ru\"],[\"parallel_data\\u002fru-Trac\",\"ru\"],[\"parallel_data\\u002fru-Trac\",\"ru\"],[\"parallel_data\\u002fru-Trac\",\"ru\"],[\"parallel_data\\u002fru-Trac\",\"ru\"],[\"parallel_data\\u002fru-Trac\",\"ru\"],[\"parallel_data\\u002fru-Trac\",\"ru\"],[\"parallel_data\\u002fru-Trac\",\"ru\"],[\"parallel_data\\u002fru-Trac\",\"ru\"],[\"parallel_data\\u002fru-Trac\",\"ru\"],[\"parallel_data\\u002fru-Trac\",\"ru\"],[\"parallel_data\\u002fru-Trac\",\"ru\"],[\"parallel_data\\u002fru-Trac\",\"ru\"],[\"parallel_data\\u002fru-Trac\",\"ru\"],[\"parallel_data\\u002fru-Trac\",\"ru\"],[\"parallel_data\\u002fru-Trac\",\"ru\"],[\"parallel_data\\u002fru-Trac\",\"ru\"],[\"parallel_data\\u002fru-Trac\",\"ru\"],[\"parallel_data\\u002fru-Trac\",\"ru\"],[\"parallel_data\\u002fru-Trac\",\"ru\"],[\"parallel_data\\u002fru-Trac\",\"ru\"],[\"parallel_data\\u002fru-Trac\",\"ru\"],[\"parallel_data\\u002fru-Trac\",\"ru\"],[\"parallel_data\\u002fru-Trac\",\"ru\"],[\"parallel_data\\u002fru-Trac\",\"ru\"],[\"parallel_data\\u002fru-Trac\",\"ru\"],[\"parallel_data\\u002fru-Trac\",\"ru\"],[\"parallel_data\\u002fru-Trac\",\"ru\"],[\"parallel_data\\u002fru-Trac\",\"ru\"],[\"parallel_data\\u002fru-Trac\",\"ru\"],[\"parallel_data\\u002fru-Trac\",\"ru\"],[\"parallel_data\\u002fru-Trac\",\"ru\"],[\"parallel_data\\u002fru-Trac\",\"ru\"],[\"parallel_data\\u002fru-Trac\",\"ru\"],[\"parallel_data\\u002fru-Trac\",\"ru\"],[\"parallel_data\\u002fru-Trac\",\"ru\"],[\"parallel_data\\u002fru-Trac\",\"ru\"],[\"parallel_data\\u002fru-Trac\",\"ru\"],[\"parallel_data\\u002fru-Trac\",\"ru\"],[\"parallel_data\\u002fru-Trac\",\"ru\"],[\"parallel_data\\u002fru-Trac\",\"ru\"],[\"parallel_data\\u002fru-Trac\",\"ru\"],[\"parallel_data\\u002fru-Trac\",\"ru\"],[\"parallel_data\\u002fru-Trac\",\"ru\"],[\"parallel_data\\u002fru-Trac\",\"ru\"],[\"parallel_data\\u002fru-Trac\",\"ru\"],[\"parallel_data\\u002fru-Trac\",\"ru\"],[\"parallel_data\\u002fru-Trac\",\"ru\"],[\"parallel_data\\u002fru-Trac\",\"ru\"],[\"parallel_data\\u002fru-Trac\",\"ru\"],[\"parallel_data\\u002fru-Trac\",\"ru\"],[\"parallel_data\\u002fru-Trac\",\"ru\"],[\"parallel_data\\u002fru-Trac\",\"ru\"],[\"parallel_data\\u002fru-Trac\",\"ru\"],[\"parallel_data\\u002fru-Trac\",\"ru\"],[\"parallel_data\\u002fru-Trac\",\"ru\"],[\"parallel_data\\u002fru-Trac\",\"ru\"],[\"parallel_data\\u002fru-Trac\",\"ru\"],[\"parallel_data\\u002fru-Trac\",\"ru\"],[\"parallel_data\\u002fru-Trac\",\"ru\"],[\"parallel_data\\u002fru-Trac\",\"ru\"],[\"parallel_data\\u002fru-Trac\",\"ru\"],[\"parallel_data\\u002fru-Trac\",\"ru\"],[\"parallel_data\\u002fru-Trac\",\"ru\"],[\"parallel_data\\u002fru-Trac\",\"ru\"],[\"parallel_data\\u002fru-Trac\",\"ru\"],[\"parallel_data\\u002fru-Trac\",\"ru\"],[\"parallel_data\\u002fru-Trac\",\"ru\"],[\"parallel_data\\u002fru-Trac\",\"ru\"],[\"parallel_data\\u002fru-Trac\",\"ru\"]],\"hovertemplate\":\"language=%{customdata[1]}\\u003cbr\\u003ex=%{x}\\u003cbr\\u003ey=%{y}\\u003cbr\\u003edataset_name=%{customdata[0]}\\u003cextra\\u003e\\u003c\\u002fextra\\u003e\",\"legendgroup\":\"ru\",\"marker\":{\"color\":\"#FFA15A\",\"symbol\":\"circle\"},\"mode\":\"markers\",\"name\":\"ru\",\"showlegend\":true,\"x\":[5.222680568695068,6.842496871948242,7.2264227867126465,-5.822744846343994,-4.96500825881958,9.355596542358398,-4.871209621429443,-1.1834793090820312,2.929004430770874,-0.2407217025756836,0.9425442218780518,3.7342662811279297,5.365593910217285,7.430538654327393,-0.877609372138977,11.986942291259766,-3.5869534015655518,2.5665719509124756,5.017531871795654,-3.640881299972534,-2.2014613151550293,0.321410596370697,2.1669535636901855,-1.9464845657348633,9.153125762939453,-0.3412138521671295,9.127756118774414,9.498693466186523,3.4053618907928467,-2.4528448581695557,2.942887783050537,6.456881999969482,1.7254081964492798,-0.9836630821228027,-2.0839505195617676,2.013660192489624,0.07183165103197098,7.022408962249756,5.1152143478393555,-1.4894579648971558,3.975994825363159,7.29236364364624,-0.9143033623695374,-3.361558437347412,2.648073434829712,-4.068121910095215,-0.6464765667915344,-2.13869047164917,9.12082576751709,-3.7533159255981445,1.2546722888946533,7.335289478302002,4.88258695602417,0.5260894894599915,3.7456917762756348,2.5076711177825928,4.136903285980225,1.0936857461929321,4.064239501953125,11.005640029907227,6.789000988006592,0.20439867675304413,-1.8809808492660522,-1.7913269996643066,0.9344310164451599,0.9160665273666382,4.801754474639893,0.31952327489852905,6.284415245056152,8.344136238098145,1.2925935983657837,4.847675323486328,-1.9499917030334473,2.6609041690826416,4.740604400634766,-1.065340518951416,0.5197155475616455,-0.3568214178085327,-5.552679061889648,5.642434120178223,3.187289237976074,-0.0784207284450531,5.076274394989014,-3.1976356506347656,3.6762592792510986,7.3867645263671875,4.233213901519775,-4.242037296295166,6.256241798400879,10.333568572998047,8.06309986114502,3.3820815086364746,5.157278537750244,3.1939034461975098,7.536431789398193,2.403364896774292,4.265537261962891,11.772405624389648,-7.610163688659668,0.26037710905075073,-0.7795661091804504,6.727267265319824,4.28322172164917,5.69784688949585,-8.600861549377441,-1.6055546998977661,0.6297557950019836,0.7310930490493774,-8.274755477905273,5.807432174682617,-2.392123222351074,-3.7686829566955566,1.9508329629898071,7.398496150970459,-0.026723163202404976,2.7471909523010254,0.10527203232049942,-0.5889545679092407,-2.054548740386963,4.301572322845459,7.813228607177734,6.89595890045166,2.8223936557769775,5.369848251342773,3.7186145782470703,-7.355093479156494,1.5709607601165771,5.76798677444458,2.4807980060577393,-2.7209248542785645,0.8340377807617188,3.179041862487793,-1.9600610733032227,-3.551938772201538,12.110523223876953,7.074970722198486,-2.057312250137329,-8.68896198272705,8.8189115524292,6.495009422302246,-2.7138328552246094,8.549649238586426,0.7563835978507996,5.986515522003174,6.96813440322876,0.8382969498634338,3.8620212078094482,-3.8397998809814453,-5.539830684661865,-1.461335301399231,8.545679092407227,3.5844290256500244,0.8169997334480286,3.0573599338531494,-1.9958583116531372,-0.6518861651420593,3.9613020420074463,3.5657806396484375,2.8866539001464844,1.983488917350769,10.235377311706543,4.580904006958008,4.0050129890441895,4.17494010925293,-7.98637056350708,4.400689125061035,0.42585518956184387,-4.121860504150391,-0.12442900240421295,-3.7121622562408447,5.445885181427002,-1.4592541456222534,4.186092376708984,1.6294567584991455,6.18270206451416,-0.5550565719604492,1.361648440361023,3.3012278079986572,-3.3155481815338135,-0.6636896729469299,2.2431533336639404,1.011163592338562,-5.73817253112793,5.400346279144287,1.3512991666793823,-8.280150413513184,10.069412231445312,2.5685107707977295,1.93204665184021,1.7231245040893555,-1.284613013267517,-7.374829292297363,2.2065606117248535,-3.41683292388916,2.9386491775512695,3.395815849304199,1.044944167137146,0.2003781497478485,-1.1887617111206055,-2.146111011505127,-1.831984043121338,-8.171741485595703,1.4123669862747192,-4.882497787475586,0.7372055649757385,7.286221027374268,-2.814091444015503,5.0257768630981445,-5.401401996612549,-2.206254482269287,11.122734069824219,8.038804054260254,-8.047174453735352,2.3087985515594482,-6.746253490447998,-1.050070881843567,-1.386067271232605,6.783115863800049,1.7289165258407593,3.2331080436706543,-2.931274890899658,9.310874938964844,7.0283732414245605,4.260969161987305,0.04522119462490082,5.434637069702148,-8.0879487991333,10.262852668762207,4.677706241607666,6.696401596069336,0.14154399931430817,6.777060031890869,4.383521556854248,6.855441093444824,1.510785460472107,-3.1252872943878174,2.0667362213134766,7.004960536956787,-1.174154281616211,11.433435440063477,1.843087911605835,-1.8923593759536743,6.325119972229004,6.265377044677734,2.433533191680908,1.380730152130127,-7.378175735473633,-4.353816986083984,2.7526276111602783,2.609260082244873,7.199849605560303,1.746766209602356,-1.5662000179290771,-0.035631194710731506,-2.615741491317749,-5.176103591918945,-3.561857223510742,1.2528655529022217,4.1730523109436035,2.021005630493164,-0.5447162985801697,-3.341367483139038,-1.6172455549240112,3.356628656387329,-0.026206519454717636,-7.834614276885986,7.939151763916016,1.12523353099823,-1.7612590789794922,-1.3224238157272339,-2.768261671066284,3.4545960426330566,2.262404203414917,-0.999563455581665,-3.5344221591949463,1.6914469003677368,1.3506557941436768,5.140200614929199,7.453202247619629,0.566666305065155,2.7146995067596436,8.917374610900879,-0.46605736017227173,2.2647602558135986,-2.7906901836395264,4.147943019866943,5.049539089202881,1.8764854669570923,1.9992613792419434,-1.058081030845642,-5.641515254974365,0.6040476560592651,-4.242488861083984,-0.866008460521698,0.5267350673675537,2.154679536819458,-2.9878063201904297,-0.2348242849111557,6.071516990661621,0.2045813500881195],\"xaxis\":\"x\",\"y\":[2.863260507583618,5.652773380279541,3.845935344696045,0.7509052753448486,2.358931064605713,4.872659206390381,1.1872600317001343,-0.44612762331962585,6.883590221405029,-4.4092254638671875,6.084283828735352,0.13927596807479858,5.056027889251709,1.0601880550384521,1.3502541780471802,1.000203013420105,1.484722375869751,-1.8404266834259033,11.778278350830078,-0.8193452954292297,3.9097132682800293,8.498502731323242,7.392566680908203,0.4504706859588623,7.615213871002197,7.022247314453125,5.833218097686768,4.652843475341797,5.232796669006348,0.2818840444087982,7.774689674377441,-1.3871405124664307,12.593835830688477,7.075291633605957,11.863917350769043,13.712749481201172,0.6768864393234253,2.5776560306549072,3.210970401763916,-4.010359764099121,6.860078811645508,0.04150334745645523,5.376345634460449,-0.07435254007577896,7.576352119445801,0.9929114580154419,8.20555591583252,3.9756200313568115,4.055945873260498,8.864728927612305,11.581974983215332,8.55246639251709,10.14980411529541,2.3041317462921143,0.3441368639469147,1.9047586917877197,11.174692153930664,3.6483418941497803,3.878025770187378,8.217825889587402,4.047410011291504,0.8516181111335754,15.134251594543457,0.9573408961296082,7.318937301635742,3.402712345123291,3.9971961975097656,4.06529426574707,5.066554069519043,8.526947975158691,12.189873695373535,7.558181285858154,15.767058372497559,8.644448280334473,4.680410861968994,9.835963249206543,11.366120338439941,8.575248718261719,3.574965238571167,3.9171276092529297,5.403851509094238,4.927166938781738,7.309040546417236,3.7253801822662354,5.528470993041992,7.119362831115723,13.013930320739746,8.790812492370605,9.216753005981445,3.755061149597168,5.268313407897949,13.835256576538086,7.212905406951904,14.01544189453125,13.685216903686523,10.825316429138184,6.672019958496094,1.1914665699005127,0.5051466822624207,6.630120754241943,13.11273193359375,8.754556655883789,-0.20395663380622864,9.935152053833008,6.977728843688965,7.942741870880127,4.822507381439209,6.156048774719238,6.6559295654296875,5.780034065246582,0.6245489716529846,5.680418014526367,12.825693130493164,3.942082166671753,7.767118453979492,-0.998054563999176,7.075694561004639,12.269615173339844,0.9912985563278198,12.561341285705566,11.775317192077637,6.459529876708984,5.416207313537598,6.80150842666626,10.792799949645996,0.8467983603477478,3.1178290843963623,3.6513195037841797,-2.017361640930176,7.040796279907227,3.8873820304870605,14.778958320617676,15.240330696105957,3.0812466144561768,0.8763520121574402,3.6491167545318604,6.652903079986572,6.862213134765625,3.9229676723480225,7.041823387145996,1.5342743396759033,3.3672099113464355,7.4117279052734375,9.886453628540039,1.5585867166519165,-3.1740615367889404,2.309326171875,1.8308974504470825,6.590939521789551,-0.8479209542274475,8.686491966247559,11.728398323059082,1.8896355628967285,11.809406280517578,6.39532470703125,8.736494064331055,10.257590293884277,15.519912719726562,11.739767074584961,5.816467761993408,11.114021301269531,6.757011413574219,8.505434036254883,5.603634357452393,1.2095484733581543,5.036888599395752,10.763813018798828,1.9379271268844604,10.4268159866333,8.80968952178955,8.767986297607422,2.59604549407959,-0.1070065051317215,11.296724319458008,8.39594554901123,5.678371906280518,9.993918418884277,0.0012031260412186384,12.617158889770508,7.248751640319824,11.232666015625,4.1246867179870605,2.163296937942505,5.696862697601318,6.1229448318481445,6.8402557373046875,11.388216972351074,7.60992431640625,4.518223285675049,4.362575054168701,1.2948464155197144,6.658482074737549,11.429859161376953,-2.654201030731201,9.350473403930664,9.27237319946289,10.460530281066895,4.38918924331665,-1.3112741708755493,-0.0998457670211792,2.529191493988037,2.5744588375091553,-2.750419855117798,-0.15592774748802185,10.215372085571289,5.869844436645508,2.3653628826141357,3.4516215324401855,3.4142324924468994,-0.23945994675159454,8.310331344604492,6.144342422485352,2.477191209793091,2.036067485809326,0.6545122265815735,4.372407913208008,9.690279006958008,3.4261252880096436,7.268653869628906,12.6009521484375,1.2961925268173218,7.69761848449707,9.838638305664062,12.977897644042969,3.085549831390381,6.528951168060303,6.716436386108398,11.082181930541992,13.227352142333984,15.347081184387207,-0.0025202962569892406,3.41402530670166,8.016546249389648,8.849339485168457,13.953182220458984,13.80263614654541,13.876280784606934,3.0650506019592285,5.66182804107666,6.580530166625977,8.921587944030762,15.712125778198242,8.008008003234863,5.910905838012695,9.003323554992676,6.694652557373047,0.9823099970817566,-0.018989864736795425,-1.5607309341430664,3.6202869415283203,6.731680870056152,2.550335168838501,-0.8223586678504944,7.050421714782715,3.9883294105529785,0.9871816039085388,-1.138993501663208,11.101459503173828,5.144418239593506,1.646823763847351,10.709465026855469,4.289669990539551,2.312161445617676,0.01673269271850586,5.267910957336426,1.083293080329895,5.342878818511963,-2.9841718673706055,1.5459179878234863,9.494620323181152,-0.9524937868118286,-1.9572497606277466,1.2660062313079834,8.345512390136719,-0.12574563920497894,12.135345458984375,9.457932472229004,10.047511100769043,5.204355239868164,8.791373252868652,11.26503849029541,8.800556182861328,10.331974983215332,12.10888957977295,1.7187044620513916,13.163734436035156,12.62550163269043,8.030105590820312,11.694208145141602,9.330388069152832,-0.30369099974632263,-3.1168501377105713,0.5053706169128418,4.272809982299805,3.1946041584014893,12.64588737487793,0.4732741415500641,3.318645715713501,0.4688017666339874,6.359158992767334],\"yaxis\":\"y\",\"type\":\"scattergl\"},{\"customdata\":[[\"parallel_data\\u002fsq-Trac\",\"sq\"],[\"parallel_data\\u002fsq-Trac\",\"sq\"],[\"parallel_data\\u002fsq-Trac\",\"sq\"],[\"parallel_data\\u002fsq-Trac\",\"sq\"],[\"parallel_data\\u002fsq-Trac\",\"sq\"],[\"parallel_data\\u002fsq-Trac\",\"sq\"],[\"parallel_data\\u002fsq-Trac\",\"sq\"],[\"parallel_data\\u002fsq-Trac\",\"sq\"],[\"parallel_data\\u002fsq-Trac\",\"sq\"],[\"parallel_data\\u002fsq-Trac\",\"sq\"],[\"parallel_data\\u002fsq-Trac\",\"sq\"],[\"parallel_data\\u002fsq-Trac\",\"sq\"],[\"parallel_data\\u002fsq-Trac\",\"sq\"],[\"parallel_data\\u002fsq-Trac\",\"sq\"],[\"parallel_data\\u002fsq-Trac\",\"sq\"],[\"parallel_data\\u002fsq-Trac\",\"sq\"],[\"parallel_data\\u002fsq-Trac\",\"sq\"],[\"parallel_data\\u002fsq-Trac\",\"sq\"],[\"parallel_data\\u002fsq-Trac\",\"sq\"],[\"parallel_data\\u002fsq-Trac\",\"sq\"],[\"parallel_data\\u002fsq-Trac\",\"sq\"],[\"parallel_data\\u002fsq-Trac\",\"sq\"],[\"parallel_data\\u002fsq-Trac\",\"sq\"],[\"parallel_data\\u002fsq-Trac\",\"sq\"],[\"parallel_data\\u002fsq-Trac\",\"sq\"],[\"parallel_data\\u002fsq-Trac\",\"sq\"],[\"parallel_data\\u002fsq-Trac\",\"sq\"],[\"parallel_data\\u002fsq-Trac\",\"sq\"],[\"parallel_data\\u002fsq-Trac\",\"sq\"],[\"parallel_data\\u002fsq-Trac\",\"sq\"],[\"parallel_data\\u002fsq-Trac\",\"sq\"],[\"parallel_data\\u002fsq-Trac\",\"sq\"],[\"parallel_data\\u002fsq-Trac\",\"sq\"],[\"parallel_data\\u002fsq-Trac\",\"sq\"],[\"parallel_data\\u002fsq-Trac\",\"sq\"],[\"parallel_data\\u002fsq-Trac\",\"sq\"],[\"parallel_data\\u002fsq-Trac\",\"sq\"],[\"parallel_data\\u002fsq-Trac\",\"sq\"],[\"parallel_data\\u002fsq-Trac\",\"sq\"],[\"parallel_data\\u002fsq-Trac\",\"sq\"],[\"parallel_data\\u002fsq-Trac\",\"sq\"],[\"parallel_data\\u002fsq-Trac\",\"sq\"],[\"parallel_data\\u002fsq-Trac\",\"sq\"],[\"parallel_data\\u002fsq-Trac\",\"sq\"],[\"parallel_data\\u002fsq-Trac\",\"sq\"],[\"parallel_data\\u002fsq-Trac\",\"sq\"],[\"parallel_data\\u002fsq-Trac\",\"sq\"],[\"parallel_data\\u002fsq-Trac\",\"sq\"],[\"parallel_data\\u002fsq-Trac\",\"sq\"],[\"parallel_data\\u002fsq-Trac\",\"sq\"],[\"parallel_data\\u002fsq-Trac\",\"sq\"],[\"parallel_data\\u002fsq-Trac\",\"sq\"],[\"parallel_data\\u002fsq-Trac\",\"sq\"],[\"parallel_data\\u002fsq-Trac\",\"sq\"],[\"parallel_data\\u002fsq-Trac\",\"sq\"],[\"parallel_data\\u002fsq-Trac\",\"sq\"],[\"parallel_data\\u002fsq-Trac\",\"sq\"],[\"parallel_data\\u002fsq-Trac\",\"sq\"],[\"parallel_data\\u002fsq-Trac\",\"sq\"],[\"parallel_data\\u002fsq-Trac\",\"sq\"],[\"parallel_data\\u002fsq-Trac\",\"sq\"],[\"parallel_data\\u002fsq-Trac\",\"sq\"],[\"parallel_data\\u002fsq-Trac\",\"sq\"],[\"parallel_data\\u002fsq-Trac\",\"sq\"],[\"parallel_data\\u002fsq-Trac\",\"sq\"],[\"parallel_data\\u002fsq-Trac\",\"sq\"],[\"parallel_data\\u002fsq-Trac\",\"sq\"],[\"parallel_data\\u002fsq-Trac\",\"sq\"],[\"parallel_data\\u002fsq-Trac\",\"sq\"],[\"parallel_data\\u002fsq-Trac\",\"sq\"],[\"parallel_data\\u002fsq-Trac\",\"sq\"],[\"parallel_data\\u002fsq-Trac\",\"sq\"],[\"parallel_data\\u002fsq-Trac\",\"sq\"],[\"parallel_data\\u002fsq-Trac\",\"sq\"],[\"parallel_data\\u002fsq-Trac\",\"sq\"],[\"parallel_data\\u002fsq-Trac\",\"sq\"],[\"parallel_data\\u002fsq-Trac\",\"sq\"],[\"parallel_data\\u002fsq-Trac\",\"sq\"],[\"parallel_data\\u002fsq-Trac\",\"sq\"],[\"parallel_data\\u002fsq-Trac\",\"sq\"],[\"parallel_data\\u002fsq-Trac\",\"sq\"],[\"parallel_data\\u002fsq-Trac\",\"sq\"],[\"parallel_data\\u002fsq-Trac\",\"sq\"],[\"parallel_data\\u002fsq-Trac\",\"sq\"],[\"parallel_data\\u002fsq-Trac\",\"sq\"],[\"parallel_data\\u002fsq-Trac\",\"sq\"],[\"parallel_data\\u002fsq-Trac\",\"sq\"],[\"parallel_data\\u002fsq-Trac\",\"sq\"],[\"parallel_data\\u002fsq-Trac\",\"sq\"],[\"parallel_data\\u002fsq-Trac\",\"sq\"],[\"parallel_data\\u002fsq-Trac\",\"sq\"],[\"parallel_data\\u002fsq-Trac\",\"sq\"],[\"parallel_data\\u002fsq-Trac\",\"sq\"],[\"parallel_data\\u002fsq-Trac\",\"sq\"],[\"parallel_data\\u002fsq-Trac\",\"sq\"],[\"parallel_data\\u002fsq-Trac\",\"sq\"],[\"parallel_data\\u002fsq-Trac\",\"sq\"],[\"parallel_data\\u002fsq-Trac\",\"sq\"],[\"parallel_data\\u002fsq-Trac\",\"sq\"],[\"parallel_data\\u002fsq-Trac\",\"sq\"],[\"parallel_data\\u002fsq-Trac\",\"sq\"],[\"parallel_data\\u002fsq-Trac\",\"sq\"],[\"parallel_data\\u002fsq-Trac\",\"sq\"],[\"parallel_data\\u002fsq-Trac\",\"sq\"],[\"parallel_data\\u002fsq-Trac\",\"sq\"],[\"parallel_data\\u002fsq-Trac\",\"sq\"],[\"parallel_data\\u002fsq-Trac\",\"sq\"],[\"parallel_data\\u002fsq-Trac\",\"sq\"],[\"parallel_data\\u002fsq-Trac\",\"sq\"],[\"parallel_data\\u002fsq-Trac\",\"sq\"],[\"parallel_data\\u002fsq-Trac\",\"sq\"],[\"parallel_data\\u002fsq-Trac\",\"sq\"],[\"parallel_data\\u002fsq-Trac\",\"sq\"],[\"parallel_data\\u002fsq-Trac\",\"sq\"],[\"parallel_data\\u002fsq-Trac\",\"sq\"],[\"parallel_data\\u002fsq-Trac\",\"sq\"],[\"parallel_data\\u002fsq-Trac\",\"sq\"],[\"parallel_data\\u002fsq-Trac\",\"sq\"],[\"parallel_data\\u002fsq-Trac\",\"sq\"],[\"parallel_data\\u002fsq-Trac\",\"sq\"],[\"parallel_data\\u002fsq-Trac\",\"sq\"],[\"parallel_data\\u002fsq-Trac\",\"sq\"],[\"parallel_data\\u002fsq-Trac\",\"sq\"],[\"parallel_data\\u002fsq-Trac\",\"sq\"],[\"parallel_data\\u002fsq-Trac\",\"sq\"],[\"parallel_data\\u002fsq-Trac\",\"sq\"],[\"parallel_data\\u002fsq-Trac\",\"sq\"],[\"parallel_data\\u002fsq-Trac\",\"sq\"],[\"parallel_data\\u002fsq-Trac\",\"sq\"],[\"parallel_data\\u002fsq-Trac\",\"sq\"],[\"parallel_data\\u002fsq-Trac\",\"sq\"],[\"parallel_data\\u002fsq-Trac\",\"sq\"],[\"parallel_data\\u002fsq-Trac\",\"sq\"],[\"parallel_data\\u002fsq-Trac\",\"sq\"],[\"parallel_data\\u002fsq-Trac\",\"sq\"],[\"parallel_data\\u002fsq-Trac\",\"sq\"],[\"parallel_data\\u002fsq-Trac\",\"sq\"],[\"parallel_data\\u002fsq-Trac\",\"sq\"],[\"parallel_data\\u002fsq-Trac\",\"sq\"],[\"parallel_data\\u002fsq-Trac\",\"sq\"],[\"parallel_data\\u002fsq-Trac\",\"sq\"],[\"parallel_data\\u002fsq-Trac\",\"sq\"],[\"parallel_data\\u002fsq-Trac\",\"sq\"],[\"parallel_data\\u002fsq-Trac\",\"sq\"],[\"parallel_data\\u002fsq-Trac\",\"sq\"],[\"parallel_data\\u002fsq-Trac\",\"sq\"],[\"parallel_data\\u002fsq-Trac\",\"sq\"],[\"parallel_data\\u002fsq-Trac\",\"sq\"],[\"parallel_data\\u002fsq-Trac\",\"sq\"],[\"parallel_data\\u002fsq-Trac\",\"sq\"],[\"parallel_data\\u002fsq-Trac\",\"sq\"],[\"parallel_data\\u002fsq-Trac\",\"sq\"],[\"parallel_data\\u002fsq-Trac\",\"sq\"],[\"parallel_data\\u002fsq-Trac\",\"sq\"],[\"parallel_data\\u002fsq-Trac\",\"sq\"],[\"parallel_data\\u002fsq-Trac\",\"sq\"],[\"parallel_data\\u002fsq-Trac\",\"sq\"],[\"parallel_data\\u002fsq-Trac\",\"sq\"],[\"parallel_data\\u002fsq-Trac\",\"sq\"],[\"parallel_data\\u002fsq-Trac\",\"sq\"],[\"parallel_data\\u002fsq-Trac\",\"sq\"],[\"parallel_data\\u002fsq-Trac\",\"sq\"],[\"parallel_data\\u002fsq-Trac\",\"sq\"],[\"parallel_data\\u002fsq-Trac\",\"sq\"],[\"parallel_data\\u002fsq-Trac\",\"sq\"],[\"parallel_data\\u002fsq-Trac\",\"sq\"],[\"parallel_data\\u002fsq-Trac\",\"sq\"],[\"parallel_data\\u002fsq-Trac\",\"sq\"],[\"parallel_data\\u002fsq-Trac\",\"sq\"],[\"parallel_data\\u002fsq-Trac\",\"sq\"],[\"parallel_data\\u002fsq-Trac\",\"sq\"],[\"parallel_data\\u002fsq-Trac\",\"sq\"],[\"parallel_data\\u002fsq-Trac\",\"sq\"],[\"parallel_data\\u002fsq-Trac\",\"sq\"],[\"parallel_data\\u002fsq-Trac\",\"sq\"],[\"parallel_data\\u002fsq-Trac\",\"sq\"],[\"parallel_data\\u002fsq-Trac\",\"sq\"],[\"parallel_data\\u002fsq-Trac\",\"sq\"],[\"parallel_data\\u002fsq-Trac\",\"sq\"],[\"parallel_data\\u002fsq-Trac\",\"sq\"],[\"parallel_data\\u002fsq-Trac\",\"sq\"],[\"parallel_data\\u002fsq-Trac\",\"sq\"],[\"parallel_data\\u002fsq-Trac\",\"sq\"],[\"parallel_data\\u002fsq-Trac\",\"sq\"],[\"parallel_data\\u002fsq-Trac\",\"sq\"],[\"parallel_data\\u002fsq-Trac\",\"sq\"],[\"parallel_data\\u002fsq-Trac\",\"sq\"],[\"parallel_data\\u002fsq-Trac\",\"sq\"],[\"parallel_data\\u002fsq-Trac\",\"sq\"],[\"parallel_data\\u002fsq-Trac\",\"sq\"],[\"parallel_data\\u002fsq-Trac\",\"sq\"],[\"parallel_data\\u002fsq-Trac\",\"sq\"],[\"parallel_data\\u002fsq-Trac\",\"sq\"],[\"parallel_data\\u002fsq-Trac\",\"sq\"],[\"parallel_data\\u002fsq-Trac\",\"sq\"],[\"parallel_data\\u002fsq-Trac\",\"sq\"],[\"parallel_data\\u002fsq-Trac\",\"sq\"],[\"parallel_data\\u002fsq-Trac\",\"sq\"],[\"parallel_data\\u002fsq-Trac\",\"sq\"],[\"parallel_data\\u002fsq-Trac\",\"sq\"],[\"parallel_data\\u002fsq-Trac\",\"sq\"],[\"parallel_data\\u002fsq-Trac\",\"sq\"],[\"parallel_data\\u002fsq-Trac\",\"sq\"],[\"parallel_data\\u002fsq-Trac\",\"sq\"],[\"parallel_data\\u002fsq-Trac\",\"sq\"],[\"parallel_data\\u002fsq-Trac\",\"sq\"],[\"parallel_data\\u002fsq-Trac\",\"sq\"],[\"parallel_data\\u002fsq-Trac\",\"sq\"],[\"parallel_data\\u002fsq-Trac\",\"sq\"],[\"parallel_data\\u002fsq-Trac\",\"sq\"],[\"parallel_data\\u002fsq-Trac\",\"sq\"],[\"parallel_data\\u002fsq-Trac\",\"sq\"],[\"parallel_data\\u002fsq-Trac\",\"sq\"],[\"parallel_data\\u002fsq-Trac\",\"sq\"],[\"parallel_data\\u002fsq-Trac\",\"sq\"],[\"parallel_data\\u002fsq-Trac\",\"sq\"],[\"parallel_data\\u002fsq-Trac\",\"sq\"],[\"parallel_data\\u002fsq-Trac\",\"sq\"],[\"parallel_data\\u002fsq-Trac\",\"sq\"],[\"parallel_data\\u002fsq-Trac\",\"sq\"],[\"parallel_data\\u002fsq-Trac\",\"sq\"],[\"parallel_data\\u002fsq-Trac\",\"sq\"],[\"parallel_data\\u002fsq-Trac\",\"sq\"],[\"parallel_data\\u002fsq-Trac\",\"sq\"],[\"parallel_data\\u002fsq-Trac\",\"sq\"],[\"parallel_data\\u002fsq-Trac\",\"sq\"],[\"parallel_data\\u002fsq-Trac\",\"sq\"],[\"parallel_data\\u002fsq-Trac\",\"sq\"],[\"parallel_data\\u002fsq-Trac\",\"sq\"],[\"parallel_data\\u002fsq-Trac\",\"sq\"],[\"parallel_data\\u002fsq-Trac\",\"sq\"],[\"parallel_data\\u002fsq-Trac\",\"sq\"],[\"parallel_data\\u002fsq-Trac\",\"sq\"],[\"parallel_data\\u002fsq-Trac\",\"sq\"],[\"parallel_data\\u002fsq-Trac\",\"sq\"],[\"parallel_data\\u002fsq-Trac\",\"sq\"],[\"parallel_data\\u002fsq-Trac\",\"sq\"],[\"parallel_data\\u002fsq-Trac\",\"sq\"],[\"parallel_data\\u002fsq-Trac\",\"sq\"],[\"parallel_data\\u002fsq-Trac\",\"sq\"],[\"parallel_data\\u002fsq-Trac\",\"sq\"],[\"parallel_data\\u002fsq-Trac\",\"sq\"],[\"parallel_data\\u002fsq-Trac\",\"sq\"],[\"parallel_data\\u002fsq-Trac\",\"sq\"],[\"parallel_data\\u002fsq-Trac\",\"sq\"],[\"parallel_data\\u002fsq-Trac\",\"sq\"],[\"parallel_data\\u002fsq-Trac\",\"sq\"],[\"parallel_data\\u002fsq-Trac\",\"sq\"],[\"parallel_data\\u002fsq-Trac\",\"sq\"],[\"parallel_data\\u002fsq-Trac\",\"sq\"],[\"parallel_data\\u002fsq-Trac\",\"sq\"],[\"parallel_data\\u002fsq-Trac\",\"sq\"],[\"parallel_data\\u002fsq-Trac\",\"sq\"],[\"parallel_data\\u002fsq-Trac\",\"sq\"],[\"parallel_data\\u002fsq-Trac\",\"sq\"],[\"parallel_data\\u002fsq-Trac\",\"sq\"],[\"parallel_data\\u002fsq-Trac\",\"sq\"],[\"parallel_data\\u002fsq-Trac\",\"sq\"],[\"parallel_data\\u002fsq-Trac\",\"sq\"],[\"parallel_data\\u002fsq-Trac\",\"sq\"],[\"parallel_data\\u002fsq-Trac\",\"sq\"],[\"parallel_data\\u002fsq-Trac\",\"sq\"],[\"parallel_data\\u002fsq-Trac\",\"sq\"],[\"parallel_data\\u002fsq-Trac\",\"sq\"],[\"parallel_data\\u002fsq-Trac\",\"sq\"],[\"parallel_data\\u002fsq-Trac\",\"sq\"],[\"parallel_data\\u002fsq-Trac\",\"sq\"],[\"parallel_data\\u002fsq-Trac\",\"sq\"],[\"parallel_data\\u002fsq-Trac\",\"sq\"],[\"parallel_data\\u002fsq-Trac\",\"sq\"],[\"parallel_data\\u002fsq-Trac\",\"sq\"],[\"parallel_data\\u002fsq-Trac\",\"sq\"],[\"parallel_data\\u002fsq-Trac\",\"sq\"],[\"parallel_data\\u002fsq-Trac\",\"sq\"],[\"parallel_data\\u002fsq-Trac\",\"sq\"],[\"parallel_data\\u002fsq-Trac\",\"sq\"],[\"parallel_data\\u002fsq-Trac\",\"sq\"],[\"parallel_data\\u002fsq-Trac\",\"sq\"],[\"parallel_data\\u002fsq-Trac\",\"sq\"],[\"parallel_data\\u002fsq-Trac\",\"sq\"],[\"parallel_data\\u002fsq-Trac\",\"sq\"],[\"parallel_data\\u002fsq-Trac\",\"sq\"],[\"parallel_data\\u002fsq-Trac\",\"sq\"],[\"parallel_data\\u002fsq-Trac\",\"sq\"],[\"parallel_data\\u002fsq-Trac\",\"sq\"],[\"parallel_data\\u002fsq-Trac\",\"sq\"],[\"parallel_data\\u002fsq-Trac\",\"sq\"],[\"parallel_data\\u002fsq-Trac\",\"sq\"],[\"parallel_data\\u002fsq-Trac\",\"sq\"],[\"parallel_data\\u002fsq-Trac\",\"sq\"],[\"parallel_data\\u002fsq-Trac\",\"sq\"],[\"parallel_data\\u002fsq-Trac\",\"sq\"],[\"parallel_data\\u002fsq-Trac\",\"sq\"],[\"parallel_data\\u002fsq-Trac\",\"sq\"],[\"parallel_data\\u002fsq-Trac\",\"sq\"],[\"parallel_data\\u002fsq-Trac\",\"sq\"],[\"parallel_data\\u002fsq-Trac\",\"sq\"],[\"parallel_data\\u002fsq-Trac\",\"sq\"],[\"parallel_data\\u002fsq-Trac\",\"sq\"],[\"parallel_data\\u002fsq-Trac\",\"sq\"]],\"hovertemplate\":\"language=%{customdata[1]}\\u003cbr\\u003ex=%{x}\\u003cbr\\u003ey=%{y}\\u003cbr\\u003edataset_name=%{customdata[0]}\\u003cextra\\u003e\\u003c\\u002fextra\\u003e\",\"legendgroup\":\"sq\",\"marker\":{\"color\":\"#19d3f3\",\"symbol\":\"circle\"},\"mode\":\"markers\",\"name\":\"sq\",\"showlegend\":true,\"x\":[5.226236820220947,6.83441686630249,7.26829195022583,-5.831174373626709,-5.003678321838379,9.34965991973877,-4.9112772941589355,-1.193152904510498,2.9190452098846436,-0.2555221915245056,0.940222978591919,3.709556818008423,5.377326965332031,7.444749355316162,-0.8037952184677124,11.997467994689941,-3.5675208568573,2.5231733322143555,5.0262770652771,-3.640566349029541,-2.1837379932403564,0.3234335482120514,2.142692804336548,-1.9774301052093506,9.176200866699219,-0.3794795572757721,9.139806747436523,9.50808048248291,3.4195592403411865,-2.4675674438476562,2.9425361156463623,6.45878267288208,1.7260830402374268,-0.9093937277793884,-2.082850456237793,2.0229194164276123,0.034038297832012177,7.026139736175537,5.100445747375488,-1.4743716716766357,3.976682186126709,7.267591953277588,-0.9267958998680115,-3.3783175945281982,2.667085886001587,-4.08709716796875,-0.7208771705627441,-2.0632412433624268,9.1233491897583,-3.733041286468506,1.2584176063537598,7.323123455047607,4.884758949279785,0.5159144997596741,3.757964849472046,2.529752731323242,4.125730991363525,1.1001180410385132,4.067933082580566,11.018121719360352,6.773271560668945,0.20334160327911377,-1.8775616884231567,-1.821089506149292,0.8952561616897583,0.9226256608963013,4.807609558105469,0.30607011914253235,6.307596206665039,8.330500602722168,1.2833435535430908,4.803548812866211,-1.9630134105682373,2.671560049057007,4.765619277954102,-1.092852234840393,0.5317229628562927,-0.39458635449409485,-5.505267143249512,5.642602920532227,3.181373119354248,-0.07533959299325943,5.042535781860352,-3.2204723358154297,3.6883058547973633,7.364391326904297,4.297973155975342,-4.201528549194336,6.254687786102295,10.33436393737793,8.088628768920898,3.3999643325805664,5.129986763000488,3.2407329082489014,7.519771099090576,2.404764175415039,4.255019664764404,11.793630599975586,-7.598695755004883,0.24714365601539612,-0.777562141418457,6.725434303283691,4.2623291015625,5.620296955108643,-8.585474014282227,-1.5808632373809814,0.6332595944404602,0.7190806865692139,-8.224313735961914,5.796748638153076,-2.3687360286712646,-3.770442008972168,1.9297926425933838,7.371002674102783,-0.03161000832915306,2.7673890590667725,0.13748429715633392,-0.5886227488517761,-2.0907394886016846,4.280727863311768,7.81614875793457,6.9431986808776855,2.842251777648926,5.380049705505371,3.741459608078003,-7.348639965057373,1.5689036846160889,5.737987995147705,2.4840879440307617,-2.7256128787994385,0.8340455889701843,3.1782279014587402,-1.932045340538025,-3.5676350593566895,12.095705032348633,7.045567512512207,-2.04058837890625,-8.66830825805664,8.81988525390625,6.5064921379089355,-2.7242894172668457,8.557488441467285,0.7785734534263611,5.953586578369141,6.953303337097168,0.809462308883667,3.857501268386841,-3.8733654022216797,-5.5424628257751465,-1.4610637426376343,8.540270805358887,3.580373525619507,0.817188560962677,3.0204384326934814,-1.9749146699905396,-0.6558935046195984,3.936007499694824,3.568382740020752,2.934772491455078,1.9845824241638184,10.281498908996582,4.537590026855469,3.9836692810058594,4.1755876541137695,-7.992119789123535,4.411625385284424,0.42650875449180603,-4.122604846954346,-0.12818437814712524,-3.6942741870880127,5.415815353393555,-1.4946991205215454,4.1488752365112305,1.592968225479126,6.198453426361084,-0.56293785572052,1.358797311782837,3.280942440032959,-3.3145790100097656,-0.660965621471405,2.2616920471191406,1.0361411571502686,-5.7378153800964355,5.43756628036499,1.2638784646987915,-8.191475868225098,10.07753849029541,2.5460071563720703,1.8993617296218872,1.5966758728027344,-1.2979166507720947,-7.37412166595459,2.244664192199707,-3.4485177993774414,2.9330623149871826,3.367403507232666,1.0465245246887207,0.12315395474433899,-1.1516488790512085,-2.1768133640289307,-1.795000672340393,-8.15104866027832,1.330925464630127,-4.924870014190674,0.7607357501983643,7.275119304656982,-2.814997434616089,5.027927398681641,-5.428048610687256,-2.208280324935913,11.137773513793945,8.033856391906738,-8.078983306884766,2.2697880268096924,-6.72085428237915,-1.0504714250564575,-1.353309154510498,1.7538400888442993,1.716936707496643,3.2222115993499756,-2.9225597381591797,9.289097785949707,7.028483867645264,4.256094455718994,0.058484483510255814,5.433297634124756,-8.096946716308594,10.300089836120605,4.658239364624023,6.698023796081543,0.15613646805286407,6.753017902374268,4.358910083770752,6.8729753494262695,1.515848159790039,-3.115981101989746,2.097748279571533,7.028070449829102,-1.2025066614151,11.44284439086914,1.849127173423767,-1.8743351697921753,6.343838691711426,6.264822006225586,2.355069160461426,1.400287389755249,-7.432289123535156,-4.353229522705078,2.750779628753662,2.6102917194366455,7.2156805992126465,1.778991460800171,-1.5647276639938354,-0.05321255698800087,-2.627580404281616,-5.166052341461182,-3.5588057041168213,1.2466357946395874,4.2081475257873535,2.0281524658203125,-0.5451001524925232,-3.360856771469116,-1.58266282081604,3.4427521228790283,-0.023088781163096428,-7.847215175628662,7.960103511810303,1.0847861766815186,-1.7410662174224854,-1.3385545015335083,-2.788325786590576,3.4414522647857666,2.3012306690216064,-0.9492080807685852,-3.627746343612671,1.701796293258667,1.3343048095703125,5.141279697418213,7.448672294616699,0.5448342561721802,2.651477813720703,8.900895118713379,-0.47425538301467896,2.2269744873046875,-2.7872326374053955,4.152132987976074,5.054243564605713,1.8768304586410522,1.9216582775115967,-1.0242259502410889,-5.647176742553711,0.6225262880325317,-4.230175971984863,-0.8577684760093689,0.5123956203460693,2.2093098163604736,-2.932910680770874,-0.22632654011249542,6.082303047180176,0.204127699136734],\"xaxis\":\"x\",\"y\":[2.8583219051361084,5.665981769561768,3.8877830505371094,0.7433678507804871,2.3100171089172363,4.879112720489502,1.1637544631958008,-0.4362789988517761,6.89872407913208,-4.406818866729736,6.081000804901123,0.13926050066947937,5.061418056488037,1.044785737991333,1.321081519126892,0.987332820892334,1.5287989377975464,-1.898144006729126,11.75072956085205,-0.8106303215026855,3.9140729904174805,8.46701431274414,7.3773722648620605,0.42146918177604675,7.6365532875061035,7.06365966796875,5.843916416168213,4.631030082702637,5.234135150909424,0.27508002519607544,7.762452602386475,-1.3865431547164917,12.573790550231934,7.146181583404541,11.866211891174316,13.632335662841797,0.6391308903694153,2.5824687480926514,3.2816922664642334,-4.018271446228027,6.8646392822265625,0.04908662661910057,5.403663158416748,-0.09084960073232651,7.555233955383301,0.9786019921302795,8.215185165405273,4.024489879608154,4.055124759674072,8.853479385375977,11.556891441345215,8.561293601989746,10.148441314697266,2.283844232559204,0.3516989052295685,1.8851972818374634,11.175467491149902,3.6790671348571777,3.8558342456817627,8.2269926071167,4.075573921203613,0.8445676565170288,15.131189346313477,0.9526956677436829,7.33344030380249,3.4149115085601807,3.9776113033294678,4.059469699859619,5.063919544219971,8.519197463989258,12.202676773071289,7.605247974395752,15.798182487487793,8.68492317199707,4.660367965698242,9.822775840759277,11.349085807800293,8.52717399597168,3.522191286087036,3.911846876144409,5.395383834838867,4.8985419273376465,7.296180248260498,3.7077784538269043,5.5344953536987305,7.08687686920166,12.976561546325684,8.79373550415039,9.21770191192627,3.755944013595581,5.234131336212158,13.810564041137695,7.243398666381836,13.972334861755371,13.695084571838379,10.827272415161133,6.6450419425964355,1.1668047904968262,0.516746997833252,6.637000560760498,13.111868858337402,8.743303298950195,-0.18479685485363007,9.988755226135254,6.9620466232299805,7.94164514541626,4.819726467132568,6.152432918548584,6.650869369506836,5.751956939697266,0.6478645205497742,5.681134223937988,12.850523948669434,3.9231579303741455,7.783044338226318,-1.0145453214645386,7.069534778594971,12.267111778259277,0.9856346845626831,12.552465438842773,11.777860641479492,6.474025249481201,5.41054105758667,6.78364896774292,10.75867748260498,0.801940381526947,3.119621515274048,3.667609930038452,-2.0155534744262695,7.056105136871338,3.872232437133789,14.791974067687988,15.274206161499023,3.0959479808807373,0.8910573124885559,3.6146435737609863,6.617706775665283,6.853315830230713,3.9293391704559326,7.051638126373291,1.5047825574874878,3.3869314193725586,7.406631946563721,9.877707481384277,1.5833251476287842,-3.2035257816314697,2.311485767364502,1.8584893941879272,6.589378356933594,-0.8344139456748962,8.684569358825684,11.732504844665527,1.901199221611023,11.826054573059082,6.37883186340332,8.688546180725098,10.255146026611328,15.524158477783203,11.721728324890137,5.81979513168335,11.046605110168457,6.781888961791992,8.510526657104492,5.5969438552856445,1.214138150215149,5.038850784301758,10.746788024902344,1.9480664730072021,10.427653312683105,8.800033569335938,8.774813652038574,2.576563835144043,-0.08805245906114578,11.272936820983887,8.37706470489502,5.668954849243164,9.974781036376953,-0.014223639853298664,12.616791725158691,7.188223361968994,11.212457656860352,4.1689863204956055,2.161231517791748,5.7023115158081055,6.137082576751709,6.778266429901123,11.369073867797852,7.625138759613037,4.536515712738037,4.273262977600098,1.2889831066131592,6.658367156982422,11.382102966308594,-2.620638370513916,9.356048583984375,9.304177284240723,10.471309661865234,4.424224376678467,-1.3573360443115234,-0.09132541716098785,2.5557515621185303,2.555868148803711,-2.8192222118377686,-0.18137404322624207,10.252203941345215,5.91185998916626,2.3701915740966797,3.531956911087036,3.432770252227783,-0.24145519733428955,8.336145401000977,6.166435718536377,2.5132877826690674,2.0648176670074463,0.6386853456497192,4.360716342926025,9.661811828613281,8.93564510345459,7.268136978149414,12.590898513793945,1.3107222318649292,7.675726890563965,9.837532997131348,13.000048637390137,3.0731754302978516,6.522597312927246,6.717363357543945,11.040362358093262,13.23646068572998,15.352200508117676,0.011315729469060898,3.4241654872894287,7.993887901306152,8.86563777923584,13.957594871520996,13.80567741394043,13.895146369934082,3.0365853309631348,5.684877872467041,6.581454277038574,8.932802200317383,15.701619148254395,8.023639678955078,5.909515857696533,8.936728477478027,6.755895614624023,1.0196434259414673,-0.012911582365632057,-1.5217819213867188,3.613539934158325,6.712109088897705,2.504244089126587,-0.8295764923095703,7.075901031494141,3.971165657043457,0.9923174977302551,-1.1347575187683105,11.089441299438477,5.1446919441223145,1.63649582862854,10.723641395568848,4.324714660644531,2.2448019981384277,-0.06074625626206398,5.261024475097656,1.0809996128082275,5.307671546936035,-2.9920408725738525,1.5417306423187256,9.517230033874512,-0.9621075987815857,-1.9393820762634277,1.2182368040084839,8.353290557861328,-0.1631290167570114,12.166205406188965,9.44616985321045,10.040619850158691,5.174923896789551,8.756200790405273,11.286394119262695,8.788663864135742,10.362874984741211,12.113066673278809,1.770039677619934,13.150750160217285,12.622151374816895,8.03155517578125,11.710121154785156,9.310784339904785,-0.3019239008426666,-3.1410653591156006,0.4722892642021179,4.253228664398193,3.1868090629577637,12.693918228149414,0.4606938660144806,3.306514024734497,0.46778935194015503,6.300726413726807],\"yaxis\":\"y\",\"type\":\"scattergl\"}],                        {\"template\":{\"data\":{\"histogram2dcontour\":[{\"type\":\"histogram2dcontour\",\"colorbar\":{\"outlinewidth\":0,\"ticks\":\"\"},\"colorscale\":[[0.0,\"#0d0887\"],[0.1111111111111111,\"#46039f\"],[0.2222222222222222,\"#7201a8\"],[0.3333333333333333,\"#9c179e\"],[0.4444444444444444,\"#bd3786\"],[0.5555555555555556,\"#d8576b\"],[0.6666666666666666,\"#ed7953\"],[0.7777777777777778,\"#fb9f3a\"],[0.8888888888888888,\"#fdca26\"],[1.0,\"#f0f921\"]]}],\"choropleth\":[{\"type\":\"choropleth\",\"colorbar\":{\"outlinewidth\":0,\"ticks\":\"\"}}],\"histogram2d\":[{\"type\":\"histogram2d\",\"colorbar\":{\"outlinewidth\":0,\"ticks\":\"\"},\"colorscale\":[[0.0,\"#0d0887\"],[0.1111111111111111,\"#46039f\"],[0.2222222222222222,\"#7201a8\"],[0.3333333333333333,\"#9c179e\"],[0.4444444444444444,\"#bd3786\"],[0.5555555555555556,\"#d8576b\"],[0.6666666666666666,\"#ed7953\"],[0.7777777777777778,\"#fb9f3a\"],[0.8888888888888888,\"#fdca26\"],[1.0,\"#f0f921\"]]}],\"heatmap\":[{\"type\":\"heatmap\",\"colorbar\":{\"outlinewidth\":0,\"ticks\":\"\"},\"colorscale\":[[0.0,\"#0d0887\"],[0.1111111111111111,\"#46039f\"],[0.2222222222222222,\"#7201a8\"],[0.3333333333333333,\"#9c179e\"],[0.4444444444444444,\"#bd3786\"],[0.5555555555555556,\"#d8576b\"],[0.6666666666666666,\"#ed7953\"],[0.7777777777777778,\"#fb9f3a\"],[0.8888888888888888,\"#fdca26\"],[1.0,\"#f0f921\"]]}],\"heatmapgl\":[{\"type\":\"heatmapgl\",\"colorbar\":{\"outlinewidth\":0,\"ticks\":\"\"},\"colorscale\":[[0.0,\"#0d0887\"],[0.1111111111111111,\"#46039f\"],[0.2222222222222222,\"#7201a8\"],[0.3333333333333333,\"#9c179e\"],[0.4444444444444444,\"#bd3786\"],[0.5555555555555556,\"#d8576b\"],[0.6666666666666666,\"#ed7953\"],[0.7777777777777778,\"#fb9f3a\"],[0.8888888888888888,\"#fdca26\"],[1.0,\"#f0f921\"]]}],\"contourcarpet\":[{\"type\":\"contourcarpet\",\"colorbar\":{\"outlinewidth\":0,\"ticks\":\"\"}}],\"contour\":[{\"type\":\"contour\",\"colorbar\":{\"outlinewidth\":0,\"ticks\":\"\"},\"colorscale\":[[0.0,\"#0d0887\"],[0.1111111111111111,\"#46039f\"],[0.2222222222222222,\"#7201a8\"],[0.3333333333333333,\"#9c179e\"],[0.4444444444444444,\"#bd3786\"],[0.5555555555555556,\"#d8576b\"],[0.6666666666666666,\"#ed7953\"],[0.7777777777777778,\"#fb9f3a\"],[0.8888888888888888,\"#fdca26\"],[1.0,\"#f0f921\"]]}],\"surface\":[{\"type\":\"surface\",\"colorbar\":{\"outlinewidth\":0,\"ticks\":\"\"},\"colorscale\":[[0.0,\"#0d0887\"],[0.1111111111111111,\"#46039f\"],[0.2222222222222222,\"#7201a8\"],[0.3333333333333333,\"#9c179e\"],[0.4444444444444444,\"#bd3786\"],[0.5555555555555556,\"#d8576b\"],[0.6666666666666666,\"#ed7953\"],[0.7777777777777778,\"#fb9f3a\"],[0.8888888888888888,\"#fdca26\"],[1.0,\"#f0f921\"]]}],\"mesh3d\":[{\"type\":\"mesh3d\",\"colorbar\":{\"outlinewidth\":0,\"ticks\":\"\"}}],\"scatter\":[{\"fillpattern\":{\"fillmode\":\"overlay\",\"size\":10,\"solidity\":0.2},\"type\":\"scatter\"}],\"parcoords\":[{\"type\":\"parcoords\",\"line\":{\"colorbar\":{\"outlinewidth\":0,\"ticks\":\"\"}}}],\"scatterpolargl\":[{\"type\":\"scatterpolargl\",\"marker\":{\"colorbar\":{\"outlinewidth\":0,\"ticks\":\"\"}}}],\"bar\":[{\"error_x\":{\"color\":\"#2a3f5f\"},\"error_y\":{\"color\":\"#2a3f5f\"},\"marker\":{\"line\":{\"color\":\"#E5ECF6\",\"width\":0.5},\"pattern\":{\"fillmode\":\"overlay\",\"size\":10,\"solidity\":0.2}},\"type\":\"bar\"}],\"scattergeo\":[{\"type\":\"scattergeo\",\"marker\":{\"colorbar\":{\"outlinewidth\":0,\"ticks\":\"\"}}}],\"scatterpolar\":[{\"type\":\"scatterpolar\",\"marker\":{\"colorbar\":{\"outlinewidth\":0,\"ticks\":\"\"}}}],\"histogram\":[{\"marker\":{\"pattern\":{\"fillmode\":\"overlay\",\"size\":10,\"solidity\":0.2}},\"type\":\"histogram\"}],\"scattergl\":[{\"type\":\"scattergl\",\"marker\":{\"colorbar\":{\"outlinewidth\":0,\"ticks\":\"\"}}}],\"scatter3d\":[{\"type\":\"scatter3d\",\"line\":{\"colorbar\":{\"outlinewidth\":0,\"ticks\":\"\"}},\"marker\":{\"colorbar\":{\"outlinewidth\":0,\"ticks\":\"\"}}}],\"scattermapbox\":[{\"type\":\"scattermapbox\",\"marker\":{\"colorbar\":{\"outlinewidth\":0,\"ticks\":\"\"}}}],\"scatterternary\":[{\"type\":\"scatterternary\",\"marker\":{\"colorbar\":{\"outlinewidth\":0,\"ticks\":\"\"}}}],\"scattercarpet\":[{\"type\":\"scattercarpet\",\"marker\":{\"colorbar\":{\"outlinewidth\":0,\"ticks\":\"\"}}}],\"carpet\":[{\"aaxis\":{\"endlinecolor\":\"#2a3f5f\",\"gridcolor\":\"white\",\"linecolor\":\"white\",\"minorgridcolor\":\"white\",\"startlinecolor\":\"#2a3f5f\"},\"baxis\":{\"endlinecolor\":\"#2a3f5f\",\"gridcolor\":\"white\",\"linecolor\":\"white\",\"minorgridcolor\":\"white\",\"startlinecolor\":\"#2a3f5f\"},\"type\":\"carpet\"}],\"table\":[{\"cells\":{\"fill\":{\"color\":\"#EBF0F8\"},\"line\":{\"color\":\"white\"}},\"header\":{\"fill\":{\"color\":\"#C8D4E3\"},\"line\":{\"color\":\"white\"}},\"type\":\"table\"}],\"barpolar\":[{\"marker\":{\"line\":{\"color\":\"#E5ECF6\",\"width\":0.5},\"pattern\":{\"fillmode\":\"overlay\",\"size\":10,\"solidity\":0.2}},\"type\":\"barpolar\"}],\"pie\":[{\"automargin\":true,\"type\":\"pie\"}]},\"layout\":{\"autotypenumbers\":\"strict\",\"colorway\":[\"#636efa\",\"#EF553B\",\"#00cc96\",\"#ab63fa\",\"#FFA15A\",\"#19d3f3\",\"#FF6692\",\"#B6E880\",\"#FF97FF\",\"#FECB52\"],\"font\":{\"color\":\"#2a3f5f\"},\"hovermode\":\"closest\",\"hoverlabel\":{\"align\":\"left\"},\"paper_bgcolor\":\"white\",\"plot_bgcolor\":\"#E5ECF6\",\"polar\":{\"bgcolor\":\"#E5ECF6\",\"angularaxis\":{\"gridcolor\":\"white\",\"linecolor\":\"white\",\"ticks\":\"\"},\"radialaxis\":{\"gridcolor\":\"white\",\"linecolor\":\"white\",\"ticks\":\"\"}},\"ternary\":{\"bgcolor\":\"#E5ECF6\",\"aaxis\":{\"gridcolor\":\"white\",\"linecolor\":\"white\",\"ticks\":\"\"},\"baxis\":{\"gridcolor\":\"white\",\"linecolor\":\"white\",\"ticks\":\"\"},\"caxis\":{\"gridcolor\":\"white\",\"linecolor\":\"white\",\"ticks\":\"\"}},\"coloraxis\":{\"colorbar\":{\"outlinewidth\":0,\"ticks\":\"\"}},\"colorscale\":{\"sequential\":[[0.0,\"#0d0887\"],[0.1111111111111111,\"#46039f\"],[0.2222222222222222,\"#7201a8\"],[0.3333333333333333,\"#9c179e\"],[0.4444444444444444,\"#bd3786\"],[0.5555555555555556,\"#d8576b\"],[0.6666666666666666,\"#ed7953\"],[0.7777777777777778,\"#fb9f3a\"],[0.8888888888888888,\"#fdca26\"],[1.0,\"#f0f921\"]],\"sequentialminus\":[[0.0,\"#0d0887\"],[0.1111111111111111,\"#46039f\"],[0.2222222222222222,\"#7201a8\"],[0.3333333333333333,\"#9c179e\"],[0.4444444444444444,\"#bd3786\"],[0.5555555555555556,\"#d8576b\"],[0.6666666666666666,\"#ed7953\"],[0.7777777777777778,\"#fb9f3a\"],[0.8888888888888888,\"#fdca26\"],[1.0,\"#f0f921\"]],\"diverging\":[[0,\"#8e0152\"],[0.1,\"#c51b7d\"],[0.2,\"#de77ae\"],[0.3,\"#f1b6da\"],[0.4,\"#fde0ef\"],[0.5,\"#f7f7f7\"],[0.6,\"#e6f5d0\"],[0.7,\"#b8e186\"],[0.8,\"#7fbc41\"],[0.9,\"#4d9221\"],[1,\"#276419\"]]},\"xaxis\":{\"gridcolor\":\"white\",\"linecolor\":\"white\",\"ticks\":\"\",\"title\":{\"standoff\":15},\"zerolinecolor\":\"white\",\"automargin\":true,\"zerolinewidth\":2},\"yaxis\":{\"gridcolor\":\"white\",\"linecolor\":\"white\",\"ticks\":\"\",\"title\":{\"standoff\":15},\"zerolinecolor\":\"white\",\"automargin\":true,\"zerolinewidth\":2},\"scene\":{\"xaxis\":{\"backgroundcolor\":\"#E5ECF6\",\"gridcolor\":\"white\",\"linecolor\":\"white\",\"showbackground\":true,\"ticks\":\"\",\"zerolinecolor\":\"white\",\"gridwidth\":2},\"yaxis\":{\"backgroundcolor\":\"#E5ECF6\",\"gridcolor\":\"white\",\"linecolor\":\"white\",\"showbackground\":true,\"ticks\":\"\",\"zerolinecolor\":\"white\",\"gridwidth\":2},\"zaxis\":{\"backgroundcolor\":\"#E5ECF6\",\"gridcolor\":\"white\",\"linecolor\":\"white\",\"showbackground\":true,\"ticks\":\"\",\"zerolinecolor\":\"white\",\"gridwidth\":2}},\"shapedefaults\":{\"line\":{\"color\":\"#2a3f5f\"}},\"annotationdefaults\":{\"arrowcolor\":\"#2a3f5f\",\"arrowhead\":0,\"arrowwidth\":1},\"geo\":{\"bgcolor\":\"white\",\"landcolor\":\"#E5ECF6\",\"subunitcolor\":\"white\",\"showland\":true,\"showlakes\":true,\"lakecolor\":\"white\"},\"title\":{\"x\":0.05},\"mapbox\":{\"style\":\"light\"}}},\"xaxis\":{\"anchor\":\"y\",\"domain\":[0.0,1.0],\"title\":{\"text\":\"x\"}},\"yaxis\":{\"anchor\":\"x\",\"domain\":[0.0,1.0],\"title\":{\"text\":\"y\"}},\"legend\":{\"title\":{\"text\":\"language\"},\"tracegroupgap\":0},\"title\":{\"text\":\"Embedding Visualization\"}},                        {\"responsive\": true}                    ).then(function(){\n",
       "                            \n",
       "var gd = document.getElementById('33d0770a-f7bf-4ca5-a315-6ee769106f2c');\n",
       "var x = new MutationObserver(function (mutations, observer) {{\n",
       "        var display = window.getComputedStyle(gd).display;\n",
       "        if (!display || display === 'none') {{\n",
       "            console.log([gd, 'removed!']);\n",
       "            Plotly.purge(gd);\n",
       "            observer.disconnect();\n",
       "        }}\n",
       "}});\n",
       "\n",
       "// Listen for the removal of the full notebook cells\n",
       "var notebookContainer = gd.closest('#notebook-container');\n",
       "if (notebookContainer) {{\n",
       "    x.observe(notebookContainer, {childList: true});\n",
       "}}\n",
       "\n",
       "// Listen for the clearing of the current output cell\n",
       "var outputEl = gd.closest('.output');\n",
       "if (outputEl) {{\n",
       "    x.observe(outputEl, {childList: true});\n",
       "}}\n",
       "\n",
       "                        })                };                });            </script>        </div>"
      ]
     },
     "metadata": {},
     "output_type": "display_data"
    }
   ],
   "execution_count": 55
  },
  {
   "metadata": {
    "ExecuteTime": {
     "end_time": "2024-12-15T21:12:37.786171Z",
     "start_time": "2024-12-15T21:12:37.783760Z"
    }
   },
   "cell_type": "code",
   "source": "",
   "id": "c3ae19e8372565bc",
   "outputs": [],
   "execution_count": null
  },
  {
   "metadata": {
    "ExecuteTime": {
     "end_time": "2024-12-15T21:12:37.859837Z",
     "start_time": "2024-12-15T21:12:37.857060Z"
    }
   },
   "cell_type": "code",
   "source": "",
   "id": "8470e56bcfd92ec2",
   "outputs": [],
   "execution_count": null
  },
  {
   "metadata": {
    "ExecuteTime": {
     "end_time": "2024-12-15T21:12:37.925822Z",
     "start_time": "2024-12-15T21:12:37.922871Z"
    }
   },
   "cell_type": "code",
   "source": "",
   "id": "f77c19c1692b4c03",
   "outputs": [],
   "execution_count": null
  },
  {
   "metadata": {
    "ExecuteTime": {
     "end_time": "2024-12-15T21:12:40.583503Z",
     "start_time": "2024-12-15T21:12:37.990324Z"
    }
   },
   "cell_type": "code",
   "source": [
    "from retriever import Retriever\n",
    "retriever = Retriever(embedder_.embedding_dim, index_type=\"FlatL2\")"
   ],
   "id": "d99b296fca13f8e9",
   "outputs": [],
   "execution_count": 56
  },
  {
   "metadata": {
    "ExecuteTime": {
     "end_time": "2024-12-15T21:12:40.732561Z",
     "start_time": "2024-12-15T21:12:40.721520Z"
    }
   },
   "cell_type": "code",
   "source": "retriever.add_embeddings(embed, metadata)",
   "id": "c7dade0438a08153",
   "outputs": [],
   "execution_count": 57
  },
  {
   "metadata": {
    "ExecuteTime": {
     "end_time": "2024-12-15T21:12:40.826631Z",
     "start_time": "2024-12-15T21:12:40.802318Z"
    }
   },
   "cell_type": "code",
   "source": "retriever.retrieve(embeddings[0][213].reshape(1,-1), k=10)",
   "id": "33b7c95f472ea218",
   "outputs": [
    {
     "data": {
      "text/plain": [
       "[{'metadata': {'text': \"Stop fooling people with your Jumlas. Address to the issues like Employment Education Poverty Health Farmers Infrastructure & Economic Reforms. Please don't divert people's attention from core issues which matters to the nation. Nation wants concrete result not Jumlas.\",\n",
       "   'label': 1,\n",
       "   'id': '213',\n",
       "   'dataset_name': 'parallel_data/en-Trac',\n",
       "   'language': 'en'},\n",
       "  'score': 0.0},\n",
       " {'metadata': {'text': 'Hört auf die Leuten mit euren Jumlas zu verarschen. Sprecht die Themen wie Beschäftigung, Bildung, Armut, Gesundheit, Bauern, Infrastruktur & Wirtschaftliche Reformen an. Bitte lenkt die Aufmerksamkeit der Menschen nicht von den Kernfragen ab, die für die Nation wichtig sind. Das Land will konkrete Ergebnisse, nicht Jumlas.',\n",
       "   'label': 1,\n",
       "   'id': '213',\n",
       "   'dataset_name': 'parallel_data/de-Trac',\n",
       "   'language': 'de'},\n",
       "  'score': 0.11470854},\n",
       " {'metadata': {'text': 'Хватит обманывать людей своими джамлами. Обращайтесь к таким вопросам, как образование в области занятости Бедность Здоровье Фермеры Инфраструктура и экономические реформы. Пожалуйста, не отвлекайте внимание людей от основных вопросов, которые важны для нации. Нация хочет конкретного результата, а не джамлов.',\n",
       "   'label': 1,\n",
       "   'id': '213',\n",
       "   'dataset_name': 'parallel_data/ru-Trac',\n",
       "   'language': 'ru'},\n",
       "  'score': 0.2558596},\n",
       " {'metadata': {'text': 'Cümlelerinizle  insanları aptal yerine koymayı bırakın. İstihdam Eğitim Yoksulluk Sağlık Çiftçiler Altyapı ve Ekonomik Reformlar gibi konulardan bahsedin..Lütfen insanların dikkatini ulus için değerli olan önemli sorunlardan dağıtmayın. Ulus gerçek sonuç istiyor cümlerler değil istiyor.',\n",
       "   'label': 1,\n",
       "   'id': '213',\n",
       "   'dataset_name': 'parallel_data/tr-Trac',\n",
       "   'language': 'tr'},\n",
       "  'score': 0.36035746},\n",
       " {'metadata': {'text': 'Prestani varati ljude sa svojim lažnim obećanjima. Govorite o problemima kao što su zaposlenje obrazovanje siromaštvo zdravlje poljoprivrednici infrastrukturi i gospodarskim reformama. Molim vas da ne odvraćate pozornost ljudi od ključnih pitanja koje su važne za naciju. Nacija želi konkretne rezultat ne lažna obećanja.',\n",
       "   'label': 1,\n",
       "   'id': '213',\n",
       "   'dataset_name': 'parallel_data/hr-Trac',\n",
       "   'language': 'hr'},\n",
       "  'score': 0.3666634},\n",
       " {'metadata': {'text': 'Boll i mashtruar njerëzit me akuzat tuaja. Adresoni çështjet si Infrastruktura Punësimi Edukimi Varfëria Shëndeti Farmers & reformat ekonomike. Ju lutem, mos devijoni vëmendjen e njerëzve nga çështjet thelbësore që kanë rëndësi për kombin. Kombi dëshiron rezultat konkret jo akuza.',\n",
       "   'label': 1,\n",
       "   'id': '213',\n",
       "   'dataset_name': 'parallel_data/sq-Trac',\n",
       "   'language': 'sq'},\n",
       "  'score': 0.4860673},\n",
       " {'metadata': {'text': 'People he is a well known economist who had brought good in early 90s. Please stop following PM blindly, I too support Modi but the issues he is addressing are real.',\n",
       "   'label': 0,\n",
       "   'id': '46',\n",
       "   'dataset_name': 'parallel_data/en-Trac',\n",
       "   'language': 'en'},\n",
       "  'score': 0.74767506},\n",
       " {'metadata': {'text': 'Statt diesen Mist zu beobachten sollten die Leute wenigstens einmal Mitgefühl gegenüber den Armen zeigen...',\n",
       "   'label': 0,\n",
       "   'id': '263',\n",
       "   'dataset_name': 'parallel_data/de-Trac',\n",
       "   'language': 'de'},\n",
       "  'score': 0.77398026},\n",
       " {'metadata': {'text': 'Leute, er ist ein bekannter Ökonom, der Angang der 90er Jahre viiel Gutes gebracht hat. Bitte hört auf PM blind zu folgen, ich unterstütze auch Modi, aber die Probleme die er anspricht sind real.',\n",
       "   'label': 0,\n",
       "   'id': '46',\n",
       "   'dataset_name': 'parallel_data/de-Trac',\n",
       "   'language': 'de'},\n",
       "  'score': 0.7797592},\n",
       " {'metadata': {'text': 'The no of jobless people are increasing .they are choosing activism as an alternative.most of the activism is to find happiness in degrading other hard working people.this negativity cannot do anything for the betterment of the country we are just fighting one another and finding some satisfaction in that.',\n",
       "   'label': 1,\n",
       "   'id': '259',\n",
       "   'dataset_name': 'parallel_data/en-Trac',\n",
       "   'language': 'en'},\n",
       "  'score': 0.8003007}]"
      ]
     },
     "execution_count": 58,
     "metadata": {},
     "output_type": "execute_result"
    }
   ],
   "execution_count": 58
  },
  {
   "metadata": {
    "ExecuteTime": {
     "end_time": "2024-12-15T21:12:40.962432Z",
     "start_time": "2024-12-15T21:12:40.956642Z"
    }
   },
   "cell_type": "code",
   "source": "metadata[213]",
   "id": "420be5bc739067ae",
   "outputs": [
    {
     "data": {
      "text/plain": [
       "{'text': \"Stop fooling people with your Jumlas. Address to the issues like Employment Education Poverty Health Farmers Infrastructure & Economic Reforms. Please don't divert people's attention from core issues which matters to the nation. Nation wants concrete result not Jumlas.\",\n",
       " 'label': 1,\n",
       " 'id': '213',\n",
       " 'dataset_name': 'parallel_data/en-Trac',\n",
       " 'language': 'en'}"
      ]
     },
     "execution_count": 59,
     "metadata": {},
     "output_type": "execute_result"
    }
   ],
   "execution_count": 59
  },
  {
   "metadata": {
    "ExecuteTime": {
     "end_time": "2024-12-15T21:12:42.156870Z",
     "start_time": "2024-12-15T21:12:41.829796Z"
    }
   },
   "cell_type": "code",
   "source": [
    "ks = [10, 20, 30, 40, 50]\n",
    "offset = 1 + 5\n",
    "\n",
    "averages = []\n",
    "for k in ks:\n",
    "    counts = []\n",
    "    for i in range(300):\n",
    "        retrieved = retriever.retrieve(embeddings[0][i].reshape(1,-1), k=k+offset)\n",
    "        # print(metadata[i])\n",
    "        # print(retrieved[6:])\n",
    "        lang_en_ids = [item[\"metadata\"][\"id\"] for item in retrieved[offset:] if item[\"metadata\"][\"language\"] == \"en\"]\n",
    "        \n",
    "        # count = sum(1 for item in retrieved[6:] if item[\"metadata\"][\"id\"] in lang_en_ids)\n",
    "        count = sum(1 for item in retrieved[offset:] if item[\"metadata\"][\"id\"] in lang_en_ids and item[\"metadata\"][\"language\"] != \"en\")\n",
    "        counts.append(count/k)\n",
    "    averages.append(np.round(np.mean(counts),3))\n",
    "averages   "
   ],
   "id": "63d9e30a96572",
   "outputs": [
    {
     "data": {
      "text/plain": [
       "[0.468, 0.516, 0.54, 0.55, 0.559]"
      ]
     },
     "execution_count": 60,
     "metadata": {},
     "output_type": "execute_result"
    }
   ],
   "execution_count": 60
  },
  {
   "metadata": {},
   "cell_type": "markdown",
   "source": [
    "\n",
    "\"e5-large\": [0.164, 0.2165, 0.247, 0.2705, 0.292]\n",
    "\n",
    "\"e5-base\": [0.153, 0.212, 0.246, 0.27, 0.288]\n",
    "\n",
    "\"labse\": [0.376, 0.428, 0.438, 0.446, 0.448]\n",
    "\n",
    "\"minilm\": [0.092, 0.132, 0.134, 0.143, 0.157]\n",
    "\n",
    "\"xlmr-large\": [0.001, 0.001, 0.001, 0.002, 0.002]\n",
    "\n",
    "\"m3\" : [0.47, 0.516, 0.54, 0.548, 0.553]\n",
    "\n",
    "\"m3-unsupervised\" : [0.441, 0.49, 0.515, 0.523, 0.525]\n",
    "\n",
    "\"arctic-large\": [0.414, 0.476, 0.508, 0.523, 0.532]\n",
    "\n",
    "\"arctic-base\": [0.026, 0.049, 0.072, 0.09, 0.108]\n",
    "\n",
    "\n",
    "\n",
    "\n",
    "\n"
   ],
   "id": "2e471740dca391b7"
  },
  {
   "metadata": {
    "ExecuteTime": {
     "end_time": "2024-12-15T20:35:21.484722Z",
     "start_time": "2024-12-15T20:35:21.481051Z"
    }
   },
   "cell_type": "code",
   "source": "",
   "id": "f7d27221f72e20a8",
   "outputs": [],
   "execution_count": null
  },
  {
   "metadata": {},
   "cell_type": "code",
   "outputs": [],
   "execution_count": null,
   "source": "",
   "id": "8baa6c11a88c00bb"
  }
 ],
 "metadata": {
  "kernelspec": {
   "display_name": "Python 3",
   "language": "python",
   "name": "python3"
  },
  "language_info": {
   "codemirror_mode": {
    "name": "ipython",
    "version": 2
   },
   "file_extension": ".py",
   "mimetype": "text/x-python",
   "name": "python",
   "nbconvert_exporter": "python",
   "pygments_lexer": "ipython2",
   "version": "2.7.6"
  }
 },
 "nbformat": 4,
 "nbformat_minor": 5
}
