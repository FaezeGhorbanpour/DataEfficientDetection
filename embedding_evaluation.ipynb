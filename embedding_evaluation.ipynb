{
 "cells": [
  {
   "cell_type": "code",
   "id": "initial_id",
   "metadata": {
    "collapsed": true,
    "ExecuteTime": {
     "end_time": "2024-12-09T21:11:06.511578Z",
     "start_time": "2024-12-09T21:11:06.296352Z"
    }
   },
   "source": [
    "from embedder import Embedder\n",
    "from data_provider import DataProvider"
   ],
   "outputs": [
    {
     "ename": "ImportError",
     "evalue": "cannot import name 'Embedder' from 'embedder' (/tmp/pycharm_project_732/embedder.py)",
     "output_type": "error",
     "traceback": [
      "\u001B[0;31m---------------------------------------------------------------------------\u001B[0m",
      "\u001B[0;31mImportError\u001B[0m                               Traceback (most recent call last)",
      "Cell \u001B[0;32mIn[1], line 1\u001B[0m\n\u001B[0;32m----> 1\u001B[0m \u001B[38;5;28;01mfrom\u001B[39;00m \u001B[38;5;21;01membedder\u001B[39;00m \u001B[38;5;28;01mimport\u001B[39;00m Embedder\n\u001B[1;32m      2\u001B[0m \u001B[38;5;28;01mfrom\u001B[39;00m \u001B[38;5;21;01mdata_provider\u001B[39;00m \u001B[38;5;28;01mimport\u001B[39;00m DataProvider\n",
      "\u001B[0;31mImportError\u001B[0m: cannot import name 'Embedder' from 'embedder' (/tmp/pycharm_project_732/embedder.py)"
     ]
    }
   ],
   "execution_count": 1
  },
  {
   "metadata": {
    "ExecuteTime": {
     "end_time": "2024-12-09T21:11:06.527942920Z",
     "start_time": "2024-12-09T20:58:53.950721Z"
    }
   },
   "cell_type": "code",
   "source": [
    "import os\n",
    "os.environ['TRANSFORMERS_CACHE'] = '/mounts/work/faeze/.cache/hf/'\n",
    "os.environ['HF_HOME'] = '/mounts/work/faeze/.cache/hf/'\n",
    "os.environ['HF_DATASETS_CACHE'] = '/mounts/work/faeze/.cache/hf/'\n",
    "os.environ['TORCH_HUB'] = '/mounts/work/faeze/.cache/torch/'\n",
    "os.environ['TORCH_HOME'] = '/mounts/work/faeze/.cache/torch/'\n",
    "os.environ[\"WANDB_DIR\"] = '/mounts/work/faeze/.cache/wandb/'"
   ],
   "id": "2e7edefccc956ad",
   "outputs": [],
   "execution_count": 2
  },
  {
   "metadata": {
    "ExecuteTime": {
     "end_time": "2024-12-09T21:11:06.528317299Z",
     "start_time": "2024-12-09T20:58:54.553469Z"
    }
   },
   "cell_type": "code",
   "source": "data_provider_ = DataProvider()",
   "id": "5405594c52cf8d16",
   "outputs": [],
   "execution_count": 3
  },
  {
   "metadata": {
    "ExecuteTime": {
     "end_time": "2024-12-09T21:11:06.528512437Z",
     "start_time": "2024-12-09T20:58:54.667186Z"
    }
   },
   "cell_type": "code",
   "source": [
    "languages = ['en', 'tr', 'de', 'hr', 'ru', 'sq']\n",
    "types = ['Gao', 'Trac', 'Wul']\n",
    "\n",
    "datas = [f'parallel_data/{i}-Trac' for i in languages]"
   ],
   "id": "daceae59c931dc57",
   "outputs": [],
   "execution_count": 4
  },
  {
   "metadata": {
    "ExecuteTime": {
     "end_time": "2024-12-09T21:11:06.528617813Z",
     "start_time": "2024-12-09T20:58:54.743451Z"
    }
   },
   "cell_type": "code",
   "source": "datasets = data_provider_.load_datasets(datas, languages)",
   "id": "e153fc4ad426d50f",
   "outputs": [
    {
     "name": "stderr",
     "output_type": "stream",
     "text": [
      "/mounts/work/faeze/new_miniconda3/envs/2024_9/lib/python3.10/site-packages/datasets/load.py:929: FutureWarning: The repository for parallel_data contains custom code which must be executed to correctly load the dataset. You can inspect the repository content at parallel_data/parallel_data.py\n",
      "You can avoid this message in future by passing the argument `trust_remote_code=True`.\n",
      "Passing `trust_remote_code=True` will be mandatory to load this dataset from the next major release of `datasets`.\n",
      "  warnings.warn(\n"
     ]
    }
   ],
   "execution_count": 5
  },
  {
   "metadata": {
    "ExecuteTime": {
     "end_time": "2024-12-09T21:11:06.528727991Z",
     "start_time": "2024-12-09T20:58:55.025401Z"
    }
   },
   "cell_type": "code",
   "source": "datasets",
   "id": "6b1648b06c9d3860",
   "outputs": [
    {
     "data": {
      "text/plain": [
       "[{'name': 'parallel_data/en-Trac',\n",
       "  'split': 'test',\n",
       "  'data': Dataset({\n",
       "      features: ['id', 'text', 'label'],\n",
       "      num_rows: 300\n",
       "  }),\n",
       "  'language': 'en'},\n",
       " {'name': 'parallel_data/tr-Trac',\n",
       "  'split': 'test',\n",
       "  'data': Dataset({\n",
       "      features: ['id', 'text', 'label'],\n",
       "      num_rows: 300\n",
       "  }),\n",
       "  'language': 'tr'},\n",
       " {'name': 'parallel_data/de-Trac',\n",
       "  'split': 'test',\n",
       "  'data': Dataset({\n",
       "      features: ['id', 'text', 'label'],\n",
       "      num_rows: 300\n",
       "  }),\n",
       "  'language': 'de'},\n",
       " {'name': 'parallel_data/hr-Trac',\n",
       "  'split': 'test',\n",
       "  'data': Dataset({\n",
       "      features: ['id', 'text', 'label'],\n",
       "      num_rows: 300\n",
       "  }),\n",
       "  'language': 'hr'},\n",
       " {'name': 'parallel_data/ru-Trac',\n",
       "  'split': 'test',\n",
       "  'data': Dataset({\n",
       "      features: ['id', 'text', 'label'],\n",
       "      num_rows: 300\n",
       "  }),\n",
       "  'language': 'ru'},\n",
       " {'name': 'parallel_data/sq-Trac',\n",
       "  'split': 'test',\n",
       "  'data': Dataset({\n",
       "      features: ['id', 'text', 'label'],\n",
       "      num_rows: 300\n",
       "  }),\n",
       "  'language': 'sq'}]"
      ]
     },
     "execution_count": 6,
     "metadata": {},
     "output_type": "execute_result"
    }
   ],
   "execution_count": 6
  },
  {
   "metadata": {
    "ExecuteTime": {
     "end_time": "2024-12-09T21:11:06.529016473Z",
     "start_time": "2024-12-09T20:58:55.091807Z"
    }
   },
   "cell_type": "code",
   "source": [
    "def get_similarity(model_name):\n",
    "    embedder_ = Embedder(model_name=model_name)\n",
    "    embeddings, metadatas = embedder_.embed_datasets(datasets)\n",
    "    \n",
    "    similarities_labse = [[Embedder.calculate_similarity(embeddings[i], embeddings[j]) for i in range(len(embeddings))] for j in range(len(embeddings))]\n",
    "    \n",
    "    return similarities_labse"
   ],
   "id": "b23002f59c5df508",
   "outputs": [],
   "execution_count": 7
  },
  {
   "metadata": {
    "ExecuteTime": {
     "end_time": "2024-12-09T21:11:06.529118322Z",
     "start_time": "2024-12-09T20:58:55.138319Z"
    }
   },
   "cell_type": "code",
   "source": "languages = ['en', 'tr', 'de', 'hr', 'ru', 'sq']",
   "id": "662c600d0eb5b4fb",
   "outputs": [],
   "execution_count": 8
  },
  {
   "metadata": {
    "ExecuteTime": {
     "end_time": "2024-12-09T21:11:06.529181895Z",
     "start_time": "2024-12-09T20:58:55.188601Z"
    }
   },
   "cell_type": "code",
   "source": "get_similarity('labse')",
   "id": "400c597945570249",
   "outputs": [
    {
     "name": "stderr",
     "output_type": "stream",
     "text": [
      "/mounts/Users/cisintern/faeze/.local/lib/python3.10/site-packages/transformers/tokenization_utils_base.py:1601: FutureWarning: `clean_up_tokenization_spaces` was not set. It will be set to `True` by default. This behavior will be depracted in transformers v4.45, and will be then set to `False` by default. For more details check this issue: https://github.com/huggingface/transformers/issues/31884\n",
      "  warnings.warn(\n"
     ]
    },
    {
     "data": {
      "text/plain": [
       "[[1.0, 0.8507115, 0.8764984, 0.864822, 0.8500935, 0.86972445],\n",
       " [0.8507115, 1.0, 0.8700883, 0.85587645, 0.8503196, 0.86449075],\n",
       " [0.8764984, 0.8700883, 1.0, 0.8847523, 0.87547, 0.887765],\n",
       " [0.864822, 0.85587645, 0.8847523, 1.0, 0.86513895, 0.87726635],\n",
       " [0.8500935, 0.8503196, 0.87547, 0.86513895, 1.0, 0.8625069],\n",
       " [0.86972445, 0.86449075, 0.887765, 0.87726635, 0.8625069, 1.0]]"
      ]
     },
     "execution_count": 9,
     "metadata": {},
     "output_type": "execute_result"
    }
   ],
   "execution_count": 9
  },
  {
   "metadata": {
    "ExecuteTime": {
     "end_time": "2024-12-09T21:11:06.529281474Z",
     "start_time": "2024-12-09T20:59:18.751354Z"
    }
   },
   "cell_type": "code",
   "source": "get_similarity('minilm')",
   "id": "5713c275eff174d2",
   "outputs": [
    {
     "data": {
      "text/plain": [
       "[[1.0, 0.818311, 0.8653514, 0.83777755, 0.83702654, 0.8426091],\n",
       " [0.818311, 1.0, 0.8477959, 0.8330231, 0.8196194, 0.82711464],\n",
       " [0.8653514, 0.8477959, 1.0, 0.8678736, 0.8507897, 0.85645354],\n",
       " [0.83777755, 0.8330231, 0.8678736, 1.0, 0.8514728, 0.855694],\n",
       " [0.83702654, 0.8196194, 0.8507897, 0.8514728, 1.0, 0.8294452],\n",
       " [0.8426091, 0.82711464, 0.85645354, 0.855694, 0.8294452, 1.0]]"
      ]
     },
     "execution_count": 10,
     "metadata": {},
     "output_type": "execute_result"
    }
   ],
   "execution_count": 10
  },
  {
   "metadata": {
    "ExecuteTime": {
     "end_time": "2024-12-09T21:11:06.529354669Z",
     "start_time": "2024-12-09T20:59:33.792062Z"
    }
   },
   "cell_type": "code",
   "source": "get_similarity('e5-large')",
   "id": "2fc2538854eb17fb",
   "outputs": [
    {
     "data": {
      "text/plain": [
       "[[1.0, 0.9117239, 0.9210977, 0.92152387, 0.9130653, 0.91915405],\n",
       " [0.9117239, 1.0, 0.9092216, 0.90738076, 0.9025633, 0.9071667],\n",
       " [0.9210977, 0.9092216, 1.0, 0.91157144, 0.9081116, 0.90652454],\n",
       " [0.92152387, 0.90738076, 0.91157144, 1.0, 0.91007245, 0.93141794],\n",
       " [0.9130653, 0.9025633, 0.9081116, 0.91007245, 1.0, 0.9130413],\n",
       " [0.91915405, 0.9071667, 0.90652454, 0.93141794, 0.9130413, 1.0]]"
      ]
     },
     "execution_count": 11,
     "metadata": {},
     "output_type": "execute_result"
    }
   ],
   "execution_count": 11
  },
  {
   "metadata": {
    "ExecuteTime": {
     "end_time": "2024-12-09T21:11:06.529424425Z",
     "start_time": "2024-12-09T20:59:43.048958Z"
    }
   },
   "cell_type": "code",
   "source": "get_similarity('e5-base')",
   "id": "9ced016dfa429551",
   "outputs": [
    {
     "data": {
      "text/plain": [
       "[[1.0, 0.9046844, 0.9188286, 0.9092534, 0.9047353, 0.9120194],\n",
       " [0.9046844, 1.0, 0.90525144, 0.9032837, 0.8981722, 0.90400577],\n",
       " [0.9188286, 0.90525144, 1.0, 0.90469766, 0.89786315, 0.90233684],\n",
       " [0.9092534, 0.9032837, 0.90469766, 1.0, 0.9046619, 0.9259556],\n",
       " [0.9047353, 0.8981722, 0.89786315, 0.9046619, 1.0, 0.9072712],\n",
       " [0.9120194, 0.90400577, 0.90233684, 0.9259556, 0.9072712, 1.0]]"
      ]
     },
     "execution_count": 12,
     "metadata": {},
     "output_type": "execute_result"
    }
   ],
   "execution_count": 12
  },
  {
   "metadata": {
    "ExecuteTime": {
     "end_time": "2024-12-09T21:11:06.529493344Z",
     "start_time": "2024-12-09T20:59:49.573846Z"
    }
   },
   "cell_type": "code",
   "source": "get_similarity('xlmr-large')",
   "id": "c7fc8781df6a212a",
   "outputs": [
    {
     "name": "stderr",
     "output_type": "stream",
     "text": [
      "No sentence-transformers model found with name FacebookAI/xlm-roberta-large. Creating a new one with mean pooling.\n"
     ]
    },
    {
     "data": {
      "text/plain": [
       "[[1.0, 0.9962819, 0.99695426, 0.9960838, 0.9972907, 0.9944049],\n",
       " [0.9962819, 1.0, 0.9957483, 0.9952305, 0.99611723, 0.99375266],\n",
       " [0.99695426, 0.9957483, 1.0, 0.9954231, 0.9967803, 0.99382865],\n",
       " [0.9960838, 0.9952305, 0.9954231, 1.0, 0.99599427, 0.99393696],\n",
       " [0.9972907, 0.99611723, 0.9967803, 0.99599427, 1.0, 0.99426454],\n",
       " [0.9944049, 0.99375266, 0.99382865, 0.99393696, 0.99426454, 1.0]]"
      ]
     },
     "execution_count": 13,
     "metadata": {},
     "output_type": "execute_result"
    }
   ],
   "execution_count": 13
  },
  {
   "metadata": {
    "ExecuteTime": {
     "end_time": "2024-12-09T21:11:06.529578810Z",
     "start_time": "2024-12-09T21:00:01.239536Z"
    }
   },
   "cell_type": "code",
   "source": "get_similarity('xlmr-base')",
   "id": "ea6ad7187e96715d",
   "outputs": [
    {
     "name": "stderr",
     "output_type": "stream",
     "text": [
      "No sentence-transformers model found with name FacebookAI/xlm-roberta-base. Creating a new one with mean pooling.\n"
     ]
    },
    {
     "data": {
      "text/plain": [
       "[[1.0, 0.99655825, 0.9973267, 0.9972212, 0.9974817, 0.9948906],\n",
       " [0.99655825, 1.0, 0.9964379, 0.99658245, 0.9965115, 0.9950871],\n",
       " [0.9973267, 0.9964379, 1.0, 0.9965574, 0.99730754, 0.9951247],\n",
       " [0.9972212, 0.99658245, 0.9965574, 1.0, 0.99712676, 0.99526346],\n",
       " [0.9974817, 0.9965115, 0.99730754, 0.99712676, 1.0, 0.9951294],\n",
       " [0.9948906, 0.9950871, 0.9951247, 0.99526346, 0.9951294, 1.0]]"
      ]
     },
     "execution_count": 14,
     "metadata": {},
     "output_type": "execute_result"
    }
   ],
   "execution_count": 14
  },
  {
   "metadata": {
    "ExecuteTime": {
     "end_time": "2024-12-09T21:11:06.529656816Z",
     "start_time": "2024-12-09T21:00:06.715807Z"
    }
   },
   "cell_type": "code",
   "source": "get_similarity('arctic-large')",
   "id": "abb3d24e9c2963",
   "outputs": [
    {
     "data": {
      "text/plain": [
       "[[1.0, 0.7601425, 0.8492149, 0.7809336, 0.772373, 0.766202],\n",
       " [0.7601425, 1.0, 0.7504126, 0.7450613, 0.7209787, 0.7424135],\n",
       " [0.8492149, 0.7504126, 1.0, 0.7847252, 0.7740772, 0.77128756],\n",
       " [0.7809336, 0.7450613, 0.7847252, 1.0, 0.7664104, 0.77094495],\n",
       " [0.772373, 0.7209787, 0.7740772, 0.7664104, 1.0, 0.7389719],\n",
       " [0.766202, 0.7424135, 0.77128756, 0.77094495, 0.7389719, 1.0]]"
      ]
     },
     "execution_count": 15,
     "metadata": {},
     "output_type": "execute_result"
    }
   ],
   "execution_count": 15
  },
  {
   "metadata": {
    "ExecuteTime": {
     "end_time": "2024-12-09T21:11:06.529732556Z",
     "start_time": "2024-12-09T21:00:21.509425Z"
    }
   },
   "cell_type": "code",
   "source": "# get_similarity('arctic-base')",
   "id": "ce1825135d59e4f4",
   "outputs": [],
   "execution_count": 16
  },
  {
   "metadata": {
    "ExecuteTime": {
     "end_time": "2024-12-09T21:11:06.529782832Z",
     "start_time": "2024-12-09T21:00:21.577466Z"
    }
   },
   "cell_type": "code",
   "source": "# get_similarity('m3')",
   "id": "f3491a8df5b1ef4c",
   "outputs": [],
   "execution_count": 17
  },
  {
   "metadata": {
    "ExecuteTime": {
     "end_time": "2024-12-09T21:11:06.529837675Z",
     "start_time": "2024-12-09T21:00:21.644900Z"
    }
   },
   "cell_type": "code",
   "source": "",
   "id": "bf6dc963f3c5fd81",
   "outputs": [],
   "execution_count": null
  },
  {
   "metadata": {
    "ExecuteTime": {
     "end_time": "2024-12-09T21:11:06.529883429Z",
     "start_time": "2024-12-09T21:00:21.712321Z"
    }
   },
   "cell_type": "code",
   "source": "",
   "id": "f8529d56e3e73093",
   "outputs": [],
   "execution_count": null
  },
  {
   "metadata": {
    "ExecuteTime": {
     "end_time": "2024-12-09T21:11:06.529922150Z",
     "start_time": "2024-12-09T21:00:21.779908Z"
    }
   },
   "cell_type": "code",
   "source": "",
   "id": "e9c1b5b52fe747c9",
   "outputs": [],
   "execution_count": null
  },
  {
   "metadata": {
    "ExecuteTime": {
     "end_time": "2024-12-09T21:11:06.529959919Z",
     "start_time": "2024-12-09T21:00:21.846948Z"
    }
   },
   "cell_type": "code",
   "source": "",
   "id": "8a266ca914d4efa3",
   "outputs": [],
   "execution_count": null
  },
  {
   "metadata": {
    "ExecuteTime": {
     "end_time": "2024-12-09T21:11:06.529998116Z",
     "start_time": "2024-12-09T21:00:21.915524Z"
    }
   },
   "cell_type": "code",
   "source": [
    "\n",
    "embedder_ = Embedder(model_name=\"labse\")\n",
    "embeddings, metadatas = embedder_.embed_datasets(datasets)"
   ],
   "id": "f1aa39c669463548",
   "outputs": [],
   "execution_count": 18
  },
  {
   "metadata": {
    "ExecuteTime": {
     "end_time": "2024-12-09T21:11:06.530040400Z",
     "start_time": "2024-12-09T21:00:27.544701Z"
    }
   },
   "cell_type": "code",
   "source": [
    "import numpy as np\n",
    "embed = np.vstack(embeddings)\n",
    "metadata = metadatas"
   ],
   "id": "d15fb15f77e7bb60",
   "outputs": [],
   "execution_count": 19
  },
  {
   "metadata": {
    "ExecuteTime": {
     "end_time": "2024-12-09T21:11:06.530081702Z",
     "start_time": "2024-12-09T21:00:27.608606Z"
    }
   },
   "cell_type": "code",
   "source": "len(metadata), embed.shape",
   "id": "87a3c544bc5e741",
   "outputs": [
    {
     "data": {
      "text/plain": [
       "(1800, (1800, 768))"
      ]
     },
     "execution_count": 20,
     "metadata": {},
     "output_type": "execute_result"
    }
   ],
   "execution_count": 20
  },
  {
   "metadata": {
    "ExecuteTime": {
     "end_time": "2024-12-09T21:11:06.530139462Z",
     "start_time": "2024-12-09T21:00:27.660120Z"
    }
   },
   "cell_type": "code",
   "source": "embed.shape",
   "id": "ef31125995e8b7ed",
   "outputs": [
    {
     "data": {
      "text/plain": [
       "(1800, 768)"
      ]
     },
     "execution_count": 21,
     "metadata": {},
     "output_type": "execute_result"
    }
   ],
   "execution_count": 21
  },
  {
   "metadata": {
    "ExecuteTime": {
     "end_time": "2024-12-09T21:11:06.530190843Z",
     "start_time": "2024-12-09T21:00:27.716316Z"
    }
   },
   "cell_type": "code",
   "source": "",
   "id": "6fd532cf0d214aa7",
   "outputs": [],
   "execution_count": null
  },
  {
   "metadata": {
    "ExecuteTime": {
     "end_time": "2024-12-09T21:11:06.530232717Z",
     "start_time": "2024-12-09T21:00:27.767962Z"
    }
   },
   "cell_type": "code",
   "source": [
    "clusters = Embedder.cluster_embeddings(embed, metadata, 300)\n",
    "clusters"
   ],
   "id": "c8b56d813259c34",
   "outputs": [
    {
     "data": {
      "text/plain": [
       "array([237,  25,  15, ..., 151, 153, 280], dtype=int32)"
      ]
     },
     "execution_count": 22,
     "metadata": {},
     "output_type": "execute_result"
    }
   ],
   "execution_count": 22
  },
  {
   "metadata": {
    "ExecuteTime": {
     "end_time": "2024-12-09T21:11:06.530285013Z",
     "start_time": "2024-12-09T21:00:33.974696Z"
    }
   },
   "cell_type": "code",
   "source": "clusters[0], clusters[300], clusters[600]",
   "id": "1ed6aee1c63c9840",
   "outputs": [
    {
     "data": {
      "text/plain": [
       "(237, 237, 237)"
      ]
     },
     "execution_count": 24,
     "metadata": {},
     "output_type": "execute_result"
    }
   ],
   "execution_count": 24
  },
  {
   "metadata": {
    "ExecuteTime": {
     "end_time": "2024-12-09T21:11:06.530337044Z",
     "start_time": "2024-12-09T21:00:35.279720Z"
    }
   },
   "cell_type": "code",
   "source": "Embedder.visualize_embeddings(embed, metadatas)",
   "id": "8e8b4b23bcb0e998",
   "outputs": [
    {
     "data": {
      "text/plain": [
       "<Figure size 1200x800 with 1 Axes>"
      ],
      "image/png": "[encoded data removed]"
     },
     "metadata": {},
     "output_type": "display_data"
    }
   ],
   "execution_count": 25
  },
  {
   "metadata": {
    "ExecuteTime": {
     "end_time": "2024-12-09T21:11:06.530469453Z",
     "start_time": "2024-12-09T21:00:44.409271Z"
    }
   },
   "cell_type": "code",
   "source": "",
   "id": "c3ae19e8372565bc",
   "outputs": [],
   "execution_count": null
  },
  {
   "metadata": {
    "ExecuteTime": {
     "end_time": "2024-12-09T21:00:44.480583Z",
     "start_time": "2024-12-09T21:00:44.478223Z"
    }
   },
   "cell_type": "code",
   "source": "",
   "id": "8470e56bcfd92ec2",
   "outputs": [],
   "execution_count": null
  },
  {
   "metadata": {
    "ExecuteTime": {
     "end_time": "2024-12-09T21:00:44.551538Z",
     "start_time": "2024-12-09T21:00:44.548814Z"
    }
   },
   "cell_type": "code",
   "source": "",
   "id": "f77c19c1692b4c03",
   "outputs": [],
   "execution_count": null
  },
  {
   "metadata": {
    "ExecuteTime": {
     "end_time": "2024-12-09T21:00:44.686545Z",
     "start_time": "2024-12-09T21:00:44.617164Z"
    }
   },
   "cell_type": "code",
   "source": [
    "from retriever import Retriever\n",
    "retriever = Retriever(embedder_.embedding_dim, index_type=\"HNSW\")"
   ],
   "id": "d99b296fca13f8e9",
   "outputs": [],
   "execution_count": 26
  },
  {
   "metadata": {
    "ExecuteTime": {
     "end_time": "2024-12-09T21:00:45.044821Z",
     "start_time": "2024-12-09T21:00:44.999869Z"
    }
   },
   "cell_type": "code",
   "source": "retriever.add_embeddings(embed, metadata)",
   "id": "c7dade0438a08153",
   "outputs": [],
   "execution_count": 27
  },
  {
   "metadata": {
    "ExecuteTime": {
     "end_time": "2024-12-09T21:00:45.093248Z",
     "start_time": "2024-12-09T21:00:45.087459Z"
    }
   },
   "cell_type": "code",
   "source": "retriever.retrieve(embeddings[0][5].reshape(1,-1), k=10)",
   "id": "33b7c95f472ea218",
   "outputs": [
    {
     "data": {
      "text/plain": [
       "[{'metadata': {'text': 'An apostle of Peace and  mother to all who were deprived and unwanted  by society.....',\n",
       "   'label': 0,\n",
       "   'id': '5',\n",
       "   'dataset_name': 'parallel_data/en-Trac',\n",
       "   'language': 'en'},\n",
       "  'score': 0.0},\n",
       " {'metadata': {'text': 'Апостолом мира и матери всех, кто был лишен и нежелателен обществом .....',\n",
       "   'label': 0,\n",
       "   'id': '5',\n",
       "   'dataset_name': 'parallel_data/ru-Trac',\n",
       "   'language': 'ru'},\n",
       "  'score': 0.27929688},\n",
       " {'metadata': {'text': 'Apostol mira i majka svima koji društveno lišeni i nepoželjni.....',\n",
       "   'label': 0,\n",
       "   'id': '5',\n",
       "   'dataset_name': 'parallel_data/hr-Trac',\n",
       "   'language': 'hr'},\n",
       "  'score': 0.2819863},\n",
       " {'metadata': {'text': 'Apostull paqjeje dhe nënë për të gjithë ata privuarit dhe të padëshiruarit nga shoqëria .....',\n",
       "   'label': 0,\n",
       "   'id': '5',\n",
       "   'dataset_name': 'parallel_data/sq-Trac',\n",
       "   'language': 'sq'},\n",
       "  'score': 0.35936093},\n",
       " {'metadata': {'text': 'Ein Apostel des Friedens und eine Mutter für alle, die von der Gesellschaft beraubt wurden und unerwünscht sind .....',\n",
       "   'label': 0,\n",
       "   'id': '5',\n",
       "   'dataset_name': 'parallel_data/de-Trac',\n",
       "   'language': 'de'},\n",
       "  'score': 0.35976404},\n",
       " {'metadata': {'text': 'Bir barış havarisi ve tüm muhtaç ve toplum tarafından istenmeyenlerin annesi  .....',\n",
       "   'label': 0,\n",
       "   'id': '5',\n",
       "   'dataset_name': 'parallel_data/tr-Trac',\n",
       "   'language': 'tr'},\n",
       "  'score': 0.45563388},\n",
       " {'metadata': {'text': 'sonia should be punished with slippers and shoes... Its totally nonsense and untolerable....',\n",
       "   'label': 0,\n",
       "   'id': '222',\n",
       "   'dataset_name': 'parallel_data/en-Trac',\n",
       "   'language': 'en'},\n",
       "  'score': 1.2468426},\n",
       " {'metadata': {'text': \"Kill those b********** without mercy. Some people don't even deserve humane reactions. Just kill them & wipe out Pak from world map, comewhatmay.\",\n",
       "   'label': 1,\n",
       "   'id': '243',\n",
       "   'dataset_name': 'parallel_data/en-Trac',\n",
       "   'language': 'en'},\n",
       "  'score': 1.2575033},\n",
       " {'metadata': {'text': 'Vritini ata b ********** pa mëshirë. Disa njerëz as nuk meritojnë reagime humane. Vetëm vritini & zhdukeni Pak nga harta e botës, nami u bëftë.',\n",
       "   'label': 1,\n",
       "   'id': '243',\n",
       "   'dataset_name': 'parallel_data/sq-Trac',\n",
       "   'language': 'sq'},\n",
       "  'score': 1.2659839},\n",
       " {'metadata': {'text': 'Treba ubiti te p ********** bez milosti. Neki ljudi ni ne zaslužuju ljudske reakcije. Samo treba ubiti i izbrisati Pakije iz karte svijeta, ma što bilo.',\n",
       "   'label': 1,\n",
       "   'id': '243',\n",
       "   'dataset_name': 'parallel_data/hr-Trac',\n",
       "   'language': 'hr'},\n",
       "  'score': 1.29926}]"
      ]
     },
     "execution_count": 28,
     "metadata": {},
     "output_type": "execute_result"
    }
   ],
   "execution_count": 28
  },
  {
   "metadata": {
    "ExecuteTime": {
     "end_time": "2024-12-09T21:00:45.232503Z",
     "start_time": "2024-12-09T21:00:45.227824Z"
    }
   },
   "cell_type": "code",
   "source": "metadatas[5]",
   "id": "63d9e30a96572",
   "outputs": [
    {
     "data": {
      "text/plain": [
       "{'text': 'An apostle of Peace and  mother to all who were deprived and unwanted  by society.....',\n",
       " 'label': 0,\n",
       " 'id': '5',\n",
       " 'dataset_name': 'parallel_data/en-Trac',\n",
       " 'language': 'en'}"
      ]
     },
     "execution_count": 29,
     "metadata": {},
     "output_type": "execute_result"
    }
   ],
   "execution_count": 29
  },
  {
   "metadata": {},
   "cell_type": "code",
   "outputs": [],
   "execution_count": null,
   "source": "",
   "id": "425e2f81e7b9fba9"
  }
 ],
 "metadata": {
  "kernelspec": {
   "display_name": "Python 3",
   "language": "python",
   "name": "python3"
  },
  "language_info": {
   "codemirror_mode": {
    "name": "ipython",
    "version": 2
   },
   "file_extension": ".py",
   "mimetype": "text/x-python",
   "name": "python",
   "nbconvert_exporter": "python",
   "pygments_lexer": "ipython2",
   "version": "2.7.6"
  }
 },
 "nbformat": 4,
 "nbformat_minor": 5
}
