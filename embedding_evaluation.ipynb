{
 "cells": [
  {
   "cell_type": "code",
   "id": "initial_id",
   "metadata": {
    "collapsed": true,
    "ExecuteTime": {
     "end_time": "2024-12-09T21:14:29.885405Z",
     "start_time": "2024-12-09T21:14:20.186415Z"
    }
   },
   "source": [
    "from embedder import Embedder\n",
    "from data_provider import DataProvider"
   ],
   "outputs": [],
   "execution_count": 1
  },
  {
   "metadata": {
    "ExecuteTime": {
     "end_time": "2024-12-09T21:14:29.924875Z",
     "start_time": "2024-12-09T21:14:29.920523Z"
    }
   },
   "cell_type": "code",
   "source": [
    "import os\n",
    "os.environ['TRANSFORMERS_CACHE'] = '/mounts/work/faeze/.cache/hf/'\n",
    "os.environ['HF_HOME'] = '/mounts/work/faeze/.cache/hf/'\n",
    "os.environ['HF_DATASETS_CACHE'] = '/mounts/work/faeze/.cache/hf/'\n",
    "os.environ['TORCH_HUB'] = '/mounts/work/faeze/.cache/torch/'\n",
    "os.environ['TORCH_HOME'] = '/mounts/work/faeze/.cache/torch/'\n",
    "os.environ[\"WANDB_DIR\"] = '/mounts/work/faeze/.cache/wandb/'"
   ],
   "id": "2e7edefccc956ad",
   "outputs": [],
   "execution_count": 2
  },
  {
   "metadata": {
    "ExecuteTime": {
     "end_time": "2024-12-09T21:14:30.308711Z",
     "start_time": "2024-12-09T21:14:30.305684Z"
    }
   },
   "cell_type": "code",
   "source": "data_provider_ = DataProvider()",
   "id": "5405594c52cf8d16",
   "outputs": [],
   "execution_count": 3
  },
  {
   "metadata": {
    "ExecuteTime": {
     "end_time": "2024-12-09T21:14:30.411478Z",
     "start_time": "2024-12-09T21:14:30.407789Z"
    }
   },
   "cell_type": "code",
   "source": [
    "languages = ['en', 'tr', 'de', 'hr', 'ru', 'sq']\n",
    "types = ['Gao', 'Trac', 'Wul']\n",
    "\n",
    "datas = [f'parallel_data/{i}-Trac' for i in languages]"
   ],
   "id": "daceae59c931dc57",
   "outputs": [],
   "execution_count": 4
  },
  {
   "metadata": {
    "ExecuteTime": {
     "end_time": "2024-12-09T21:14:30.699860Z",
     "start_time": "2024-12-09T21:14:30.486044Z"
    }
   },
   "cell_type": "code",
   "source": "datasets = data_provider_.load_datasets(datas, languages)",
   "id": "e153fc4ad426d50f",
   "outputs": [
    {
     "name": "stderr",
     "output_type": "stream",
     "text": [
      "/mounts/work/faeze/new_miniconda3/envs/2024_9/lib/python3.10/site-packages/datasets/load.py:929: FutureWarning: The repository for parallel_data contains custom code which must be executed to correctly load the dataset. You can inspect the repository content at parallel_data/parallel_data.py\n",
      "You can avoid this message in future by passing the argument `trust_remote_code=True`.\n",
      "Passing `trust_remote_code=True` will be mandatory to load this dataset from the next major release of `datasets`.\n",
      "  warnings.warn(\n"
     ]
    }
   ],
   "execution_count": 5
  },
  {
   "metadata": {
    "ExecuteTime": {
     "end_time": "2024-12-09T21:14:30.839911Z",
     "start_time": "2024-12-09T21:14:30.832266Z"
    }
   },
   "cell_type": "code",
   "source": "datasets",
   "id": "6b1648b06c9d3860",
   "outputs": [
    {
     "data": {
      "text/plain": [
       "[{'name': 'parallel_data/en-Trac',\n",
       "  'split': 'test',\n",
       "  'data': Dataset({\n",
       "      features: ['id', 'text', 'label'],\n",
       "      num_rows: 300\n",
       "  }),\n",
       "  'language': 'en'},\n",
       " {'name': 'parallel_data/tr-Trac',\n",
       "  'split': 'test',\n",
       "  'data': Dataset({\n",
       "      features: ['id', 'text', 'label'],\n",
       "      num_rows: 300\n",
       "  }),\n",
       "  'language': 'tr'},\n",
       " {'name': 'parallel_data/de-Trac',\n",
       "  'split': 'test',\n",
       "  'data': Dataset({\n",
       "      features: ['id', 'text', 'label'],\n",
       "      num_rows: 300\n",
       "  }),\n",
       "  'language': 'de'},\n",
       " {'name': 'parallel_data/hr-Trac',\n",
       "  'split': 'test',\n",
       "  'data': Dataset({\n",
       "      features: ['id', 'text', 'label'],\n",
       "      num_rows: 300\n",
       "  }),\n",
       "  'language': 'hr'},\n",
       " {'name': 'parallel_data/ru-Trac',\n",
       "  'split': 'test',\n",
       "  'data': Dataset({\n",
       "      features: ['id', 'text', 'label'],\n",
       "      num_rows: 300\n",
       "  }),\n",
       "  'language': 'ru'},\n",
       " {'name': 'parallel_data/sq-Trac',\n",
       "  'split': 'test',\n",
       "  'data': Dataset({\n",
       "      features: ['id', 'text', 'label'],\n",
       "      num_rows: 300\n",
       "  }),\n",
       "  'language': 'sq'}]"
      ]
     },
     "execution_count": 6,
     "metadata": {},
     "output_type": "execute_result"
    }
   ],
   "execution_count": 6
  },
  {
   "metadata": {
    "ExecuteTime": {
     "end_time": "2024-12-09T21:14:30.935300Z",
     "start_time": "2024-12-09T21:14:30.930222Z"
    }
   },
   "cell_type": "code",
   "source": [
    "def get_similarity(model_name):\n",
    "    embedder_ = Embedder(model_name=model_name)\n",
    "    embeddings, metadatas = embedder_.embed_datasets(datasets)\n",
    "    \n",
    "    similarities_labse = [[Embedder.calculate_similarity(embeddings[i], embeddings[j]) for i in range(len(embeddings))] for j in range(len(embeddings))]\n",
    "    \n",
    "    return similarities_labse"
   ],
   "id": "b23002f59c5df508",
   "outputs": [],
   "execution_count": 7
  },
  {
   "metadata": {
    "ExecuteTime": {
     "end_time": "2024-12-09T21:14:31.005649Z",
     "start_time": "2024-12-09T21:14:31.001896Z"
    }
   },
   "cell_type": "code",
   "source": "languages = ['en', 'tr', 'de', 'hr', 'ru', 'sq']",
   "id": "662c600d0eb5b4fb",
   "outputs": [],
   "execution_count": 8
  },
  {
   "metadata": {
    "ExecuteTime": {
     "end_time": "2024-12-09T21:14:49.152264Z",
     "start_time": "2024-12-09T21:14:31.080633Z"
    }
   },
   "cell_type": "code",
   "source": "get_similarity('labse')",
   "id": "400c597945570249",
   "outputs": [
    {
     "name": "stderr",
     "output_type": "stream",
     "text": [
      "/mounts/Users/cisintern/faeze/.local/lib/python3.10/site-packages/transformers/tokenization_utils_base.py:1601: FutureWarning: `clean_up_tokenization_spaces` was not set. It will be set to `True` by default. This behavior will be depracted in transformers v4.45, and will be then set to `False` by default. For more details check this issue: https://github.com/huggingface/transformers/issues/31884\n",
      "  warnings.warn(\n"
     ]
    },
    {
     "data": {
      "text/plain": [
       "[[1.0, 0.8507115, 0.8764984, 0.864822, 0.8500935, 0.86972445],\n",
       " [0.8507115, 1.0, 0.8700883, 0.85587645, 0.8503196, 0.86449075],\n",
       " [0.8764984, 0.8700883, 1.0, 0.8847523, 0.87547, 0.887765],\n",
       " [0.864822, 0.85587645, 0.8847523, 1.0, 0.86513895, 0.87726635],\n",
       " [0.8500935, 0.8503196, 0.87547, 0.86513895, 1.0, 0.8625069],\n",
       " [0.86972445, 0.86449075, 0.887765, 0.87726635, 0.8625069, 1.0]]"
      ]
     },
     "execution_count": 9,
     "metadata": {},
     "output_type": "execute_result"
    }
   ],
   "execution_count": 9
  },
  {
   "metadata": {
    "ExecuteTime": {
     "end_time": "2024-12-09T21:14:54.986425Z",
     "start_time": "2024-12-09T21:14:49.310470Z"
    }
   },
   "cell_type": "code",
   "source": "get_similarity('minilm')",
   "id": "5713c275eff174d2",
   "outputs": [
    {
     "data": {
      "text/plain": [
       "[[1.0, 0.818311, 0.8653514, 0.83777755, 0.83702654, 0.8426091],\n",
       " [0.818311, 1.0, 0.8477959, 0.8330231, 0.8196194, 0.82711464],\n",
       " [0.8653514, 0.8477959, 1.0, 0.8678736, 0.8507897, 0.85645354],\n",
       " [0.83777755, 0.8330231, 0.8678736, 1.0, 0.8514728, 0.855694],\n",
       " [0.83702654, 0.8196194, 0.8507897, 0.8514728, 1.0, 0.8294452],\n",
       " [0.8426091, 0.82711464, 0.85645354, 0.855694, 0.8294452, 1.0]]"
      ]
     },
     "execution_count": 10,
     "metadata": {},
     "output_type": "execute_result"
    }
   ],
   "execution_count": 10
  },
  {
   "metadata": {
    "ExecuteTime": {
     "end_time": "2024-12-09T21:15:10.327134Z",
     "start_time": "2024-12-09T21:14:55.134672Z"
    }
   },
   "cell_type": "code",
   "source": "get_similarity('e5-large')",
   "id": "2fc2538854eb17fb",
   "outputs": [
    {
     "data": {
      "text/plain": [
       "[[1.0, 0.9117239, 0.9210977, 0.92152387, 0.9130653, 0.91915405],\n",
       " [0.9117239, 1.0, 0.9092216, 0.90738076, 0.9025633, 0.9071667],\n",
       " [0.9210977, 0.9092216, 1.0, 0.91157144, 0.9081116, 0.90652454],\n",
       " [0.92152387, 0.90738076, 0.91157144, 1.0, 0.91007245, 0.93141794],\n",
       " [0.9130653, 0.9025633, 0.9081116, 0.91007245, 1.0, 0.9130413],\n",
       " [0.91915405, 0.9071667, 0.90652454, 0.93141794, 0.9130413, 1.0]]"
      ]
     },
     "execution_count": 11,
     "metadata": {},
     "output_type": "execute_result"
    }
   ],
   "execution_count": 11
  },
  {
   "metadata": {
    "ExecuteTime": {
     "end_time": "2024-12-09T21:15:19.627800Z",
     "start_time": "2024-12-09T21:15:10.486284Z"
    }
   },
   "cell_type": "code",
   "source": "get_similarity('e5-base')",
   "id": "9ced016dfa429551",
   "outputs": [
    {
     "data": {
      "text/plain": [
       "[[1.0, 0.9046844, 0.9188286, 0.9092534, 0.9047353, 0.9120194],\n",
       " [0.9046844, 1.0, 0.90525144, 0.9032837, 0.8981722, 0.90400577],\n",
       " [0.9188286, 0.90525144, 1.0, 0.90469766, 0.89786315, 0.90233684],\n",
       " [0.9092534, 0.9032837, 0.90469766, 1.0, 0.9046619, 0.9259556],\n",
       " [0.9047353, 0.8981722, 0.89786315, 0.9046619, 1.0, 0.9072712],\n",
       " [0.9120194, 0.90400577, 0.90233684, 0.9259556, 0.9072712, 1.0]]"
      ]
     },
     "execution_count": 12,
     "metadata": {},
     "output_type": "execute_result"
    }
   ],
   "execution_count": 12
  },
  {
   "metadata": {
    "ExecuteTime": {
     "end_time": "2024-12-09T21:15:29.783907Z",
     "start_time": "2024-12-09T21:15:19.778398Z"
    }
   },
   "cell_type": "code",
   "source": "get_similarity('xlmr-large')",
   "id": "c7fc8781df6a212a",
   "outputs": [
    {
     "name": "stderr",
     "output_type": "stream",
     "text": [
      "No sentence-transformers model found with name FacebookAI/xlm-roberta-large. Creating a new one with mean pooling.\n"
     ]
    },
    {
     "data": {
      "text/plain": [
       "[[1.0, 0.9962819, 0.99695426, 0.9960838, 0.9972907, 0.9944049],\n",
       " [0.9962819, 1.0, 0.9957483, 0.9952305, 0.99611723, 0.99375266],\n",
       " [0.99695426, 0.9957483, 1.0, 0.9954231, 0.9967803, 0.99382865],\n",
       " [0.9960838, 0.9952305, 0.9954231, 1.0, 0.99599427, 0.99393696],\n",
       " [0.9972907, 0.99611723, 0.9967803, 0.99599427, 1.0, 0.99426454],\n",
       " [0.9944049, 0.99375266, 0.99382865, 0.99393696, 0.99426454, 1.0]]"
      ]
     },
     "execution_count": 13,
     "metadata": {},
     "output_type": "execute_result"
    }
   ],
   "execution_count": 13
  },
  {
   "metadata": {
    "ExecuteTime": {
     "end_time": "2024-12-09T21:15:36.121563Z",
     "start_time": "2024-12-09T21:15:30.477028Z"
    }
   },
   "cell_type": "code",
   "source": "get_similarity('xlmr-base')",
   "id": "ea6ad7187e96715d",
   "outputs": [
    {
     "name": "stderr",
     "output_type": "stream",
     "text": [
      "No sentence-transformers model found with name FacebookAI/xlm-roberta-base. Creating a new one with mean pooling.\n"
     ]
    },
    {
     "data": {
      "text/plain": [
       "[[1.0, 0.99655825, 0.9973267, 0.9972212, 0.9974817, 0.9948906],\n",
       " [0.99655825, 1.0, 0.9964379, 0.99658245, 0.9965115, 0.9950871],\n",
       " [0.9973267, 0.9964379, 1.0, 0.9965574, 0.99730754, 0.9951247],\n",
       " [0.9972212, 0.99658245, 0.9965574, 1.0, 0.99712676, 0.99526346],\n",
       " [0.9974817, 0.9965115, 0.99730754, 0.99712676, 1.0, 0.9951294],\n",
       " [0.9948906, 0.9950871, 0.9951247, 0.99526346, 0.9951294, 1.0]]"
      ]
     },
     "execution_count": 14,
     "metadata": {},
     "output_type": "execute_result"
    }
   ],
   "execution_count": 14
  },
  {
   "metadata": {
    "ExecuteTime": {
     "end_time": "2024-12-09T21:15:51.685639Z",
     "start_time": "2024-12-09T21:15:36.259399Z"
    }
   },
   "cell_type": "code",
   "source": "get_similarity('arctic-large')",
   "id": "abb3d24e9c2963",
   "outputs": [
    {
     "data": {
      "text/plain": [
       "[[1.0, 0.7601425, 0.8492149, 0.7809336, 0.772373, 0.766202],\n",
       " [0.7601425, 1.0, 0.7504126, 0.7450613, 0.7209787, 0.7424135],\n",
       " [0.8492149, 0.7504126, 1.0, 0.7847252, 0.7740772, 0.77128756],\n",
       " [0.7809336, 0.7450613, 0.7847252, 1.0, 0.7664104, 0.77094495],\n",
       " [0.772373, 0.7209787, 0.7740772, 0.7664104, 1.0, 0.7389719],\n",
       " [0.766202, 0.7424135, 0.77128756, 0.77094495, 0.7389719, 1.0]]"
      ]
     },
     "execution_count": 15,
     "metadata": {},
     "output_type": "execute_result"
    }
   ],
   "execution_count": 15
  },
  {
   "metadata": {
    "ExecuteTime": {
     "end_time": "2024-12-09T21:15:52.498891Z",
     "start_time": "2024-12-09T21:15:52.496017Z"
    }
   },
   "cell_type": "code",
   "source": "# get_similarity('arctic-base')",
   "id": "ce1825135d59e4f4",
   "outputs": [],
   "execution_count": 16
  },
  {
   "metadata": {
    "ExecuteTime": {
     "end_time": "2024-12-09T21:15:52.567246Z",
     "start_time": "2024-12-09T21:15:52.563709Z"
    }
   },
   "cell_type": "code",
   "source": "# get_similarity('m3')",
   "id": "f3491a8df5b1ef4c",
   "outputs": [],
   "execution_count": 17
  },
  {
   "metadata": {
    "ExecuteTime": {
     "end_time": "2024-12-09T21:15:52.634880Z",
     "start_time": "2024-12-09T21:15:52.632195Z"
    }
   },
   "cell_type": "code",
   "source": "",
   "id": "bf6dc963f3c5fd81",
   "outputs": [],
   "execution_count": null
  },
  {
   "metadata": {
    "ExecuteTime": {
     "end_time": "2024-12-09T21:15:52.701900Z",
     "start_time": "2024-12-09T21:15:52.699128Z"
    }
   },
   "cell_type": "code",
   "source": "",
   "id": "f8529d56e3e73093",
   "outputs": [],
   "execution_count": null
  },
  {
   "metadata": {
    "ExecuteTime": {
     "end_time": "2024-12-09T21:15:52.769900Z",
     "start_time": "2024-12-09T21:15:52.767219Z"
    }
   },
   "cell_type": "code",
   "source": "",
   "id": "e9c1b5b52fe747c9",
   "outputs": [],
   "execution_count": null
  },
  {
   "metadata": {
    "ExecuteTime": {
     "end_time": "2024-12-09T21:15:52.838190Z",
     "start_time": "2024-12-09T21:15:52.835457Z"
    }
   },
   "cell_type": "code",
   "source": "",
   "id": "8a266ca914d4efa3",
   "outputs": [],
   "execution_count": null
  },
  {
   "metadata": {
    "ExecuteTime": {
     "end_time": "2024-12-09T21:15:57.408279Z",
     "start_time": "2024-12-09T21:15:52.903056Z"
    }
   },
   "cell_type": "code",
   "source": [
    "\n",
    "embedder_ = Embedder(model_name=\"labse\")\n",
    "embeddings, metadatas = embedder_.embed_datasets(datasets)"
   ],
   "id": "f1aa39c669463548",
   "outputs": [],
   "execution_count": 18
  },
  {
   "metadata": {
    "ExecuteTime": {
     "end_time": "2024-12-09T21:15:57.556341Z",
     "start_time": "2024-12-09T21:15:57.551580Z"
    }
   },
   "cell_type": "code",
   "source": [
    "import numpy as np\n",
    "embed = np.vstack(embeddings)\n",
    "metadata = metadatas"
   ],
   "id": "d15fb15f77e7bb60",
   "outputs": [],
   "execution_count": 19
  },
  {
   "metadata": {
    "ExecuteTime": {
     "end_time": "2024-12-09T21:15:57.624896Z",
     "start_time": "2024-12-09T21:15:57.618168Z"
    }
   },
   "cell_type": "code",
   "source": "len(metadata), embed.shape",
   "id": "87a3c544bc5e741",
   "outputs": [
    {
     "data": {
      "text/plain": [
       "(1800, (1800, 768))"
      ]
     },
     "execution_count": 20,
     "metadata": {},
     "output_type": "execute_result"
    }
   ],
   "execution_count": 20
  },
  {
   "metadata": {
    "ExecuteTime": {
     "end_time": "2024-12-09T21:15:57.698869Z",
     "start_time": "2024-12-09T21:15:57.693102Z"
    }
   },
   "cell_type": "code",
   "source": "embed.shape",
   "id": "ef31125995e8b7ed",
   "outputs": [
    {
     "data": {
      "text/plain": [
       "(1800, 768)"
      ]
     },
     "execution_count": 21,
     "metadata": {},
     "output_type": "execute_result"
    }
   ],
   "execution_count": 21
  },
  {
   "metadata": {
    "ExecuteTime": {
     "end_time": "2024-12-09T21:15:57.760801Z",
     "start_time": "2024-12-09T21:15:57.758007Z"
    }
   },
   "cell_type": "code",
   "source": "",
   "id": "6fd532cf0d214aa7",
   "outputs": [],
   "execution_count": null
  },
  {
   "metadata": {
    "ExecuteTime": {
     "end_time": "2024-12-09T21:17:09.268631Z",
     "start_time": "2024-12-09T21:17:08.268403Z"
    }
   },
   "cell_type": "code",
   "source": [
    "clusters = Embedder.cluster_embeddings(4, embed, metadata, 150)\n",
    "clusters"
   ],
   "id": "c8b56d813259c34",
   "outputs": [
    {
     "data": {
      "text/plain": [
       "                                                   text  label   id  \\\n",
       "0     Even 2 month old baby girl is not safe in Indi...      0    0   \n",
       "1     these bhagwa terrorists can't digest their mea...      1    1   \n",
       "2     What kind of media is this!!first they make he...      0    2   \n",
       "3     Compensation to the States will be payable eve...      0    3   \n",
       "4     Nifty below 8550 , indicates a down move maybe...      0    4   \n",
       "...                                                 ...    ...  ...   \n",
       "1795  ish kryeministri I madh I Indisë hera e parë f...      0  295   \n",
       "1796  modaliteti Mute i çaktivizuar? Epo të paktën d...      1  296   \n",
       "1797  kryeministër I dështuar, skemë pa para kesh e ...      1  297   \n",
       "1798  Propaganda kundër Pawar Saab është krejtësisht...      0  298   \n",
       "1799  India ka nevojë për një kryeministër të tillë ...      0  299   \n",
       "\n",
       "               dataset_name language  cluster  \n",
       "0     parallel_data/en-Trac       en       18  \n",
       "1     parallel_data/en-Trac       en       25  \n",
       "2     parallel_data/en-Trac       en       15  \n",
       "3     parallel_data/en-Trac       en      132  \n",
       "4     parallel_data/en-Trac       en       14  \n",
       "...                     ...      ...      ...  \n",
       "1795  parallel_data/sq-Trac       sq       40  \n",
       "1796  parallel_data/sq-Trac       sq       96  \n",
       "1797  parallel_data/sq-Trac       sq      142  \n",
       "1798  parallel_data/sq-Trac       sq       93  \n",
       "1799  parallel_data/sq-Trac       sq       33  \n",
       "\n",
       "[1800 rows x 6 columns]"
      ],
      "text/html": [
       "<div>\n",
       "<style scoped>\n",
       "    .dataframe tbody tr th:only-of-type {\n",
       "        vertical-align: middle;\n",
       "    }\n",
       "\n",
       "    .dataframe tbody tr th {\n",
       "        vertical-align: top;\n",
       "    }\n",
       "\n",
       "    .dataframe thead th {\n",
       "        text-align: right;\n",
       "    }\n",
       "</style>\n",
       "<table border=\"1\" class=\"dataframe\">\n",
       "  <thead>\n",
       "    <tr style=\"text-align: right;\">\n",
       "      <th></th>\n",
       "      <th>text</th>\n",
       "      <th>label</th>\n",
       "      <th>id</th>\n",
       "      <th>dataset_name</th>\n",
       "      <th>language</th>\n",
       "      <th>cluster</th>\n",
       "    </tr>\n",
       "  </thead>\n",
       "  <tbody>\n",
       "    <tr>\n",
       "      <th>0</th>\n",
       "      <td>Even 2 month old baby girl is not safe in Indi...</td>\n",
       "      <td>0</td>\n",
       "      <td>0</td>\n",
       "      <td>parallel_data/en-Trac</td>\n",
       "      <td>en</td>\n",
       "      <td>18</td>\n",
       "    </tr>\n",
       "    <tr>\n",
       "      <th>1</th>\n",
       "      <td>these bhagwa terrorists can't digest their mea...</td>\n",
       "      <td>1</td>\n",
       "      <td>1</td>\n",
       "      <td>parallel_data/en-Trac</td>\n",
       "      <td>en</td>\n",
       "      <td>25</td>\n",
       "    </tr>\n",
       "    <tr>\n",
       "      <th>2</th>\n",
       "      <td>What kind of media is this!!first they make he...</td>\n",
       "      <td>0</td>\n",
       "      <td>2</td>\n",
       "      <td>parallel_data/en-Trac</td>\n",
       "      <td>en</td>\n",
       "      <td>15</td>\n",
       "    </tr>\n",
       "    <tr>\n",
       "      <th>3</th>\n",
       "      <td>Compensation to the States will be payable eve...</td>\n",
       "      <td>0</td>\n",
       "      <td>3</td>\n",
       "      <td>parallel_data/en-Trac</td>\n",
       "      <td>en</td>\n",
       "      <td>132</td>\n",
       "    </tr>\n",
       "    <tr>\n",
       "      <th>4</th>\n",
       "      <td>Nifty below 8550 , indicates a down move maybe...</td>\n",
       "      <td>0</td>\n",
       "      <td>4</td>\n",
       "      <td>parallel_data/en-Trac</td>\n",
       "      <td>en</td>\n",
       "      <td>14</td>\n",
       "    </tr>\n",
       "    <tr>\n",
       "      <th>...</th>\n",
       "      <td>...</td>\n",
       "      <td>...</td>\n",
       "      <td>...</td>\n",
       "      <td>...</td>\n",
       "      <td>...</td>\n",
       "      <td>...</td>\n",
       "    </tr>\n",
       "    <tr>\n",
       "      <th>1795</th>\n",
       "      <td>ish kryeministri I madh I Indisë hera e parë f...</td>\n",
       "      <td>0</td>\n",
       "      <td>295</td>\n",
       "      <td>parallel_data/sq-Trac</td>\n",
       "      <td>sq</td>\n",
       "      <td>40</td>\n",
       "    </tr>\n",
       "    <tr>\n",
       "      <th>1796</th>\n",
       "      <td>modaliteti Mute i çaktivizuar? Epo të paktën d...</td>\n",
       "      <td>1</td>\n",
       "      <td>296</td>\n",
       "      <td>parallel_data/sq-Trac</td>\n",
       "      <td>sq</td>\n",
       "      <td>96</td>\n",
       "    </tr>\n",
       "    <tr>\n",
       "      <th>1797</th>\n",
       "      <td>kryeministër I dështuar, skemë pa para kesh e ...</td>\n",
       "      <td>1</td>\n",
       "      <td>297</td>\n",
       "      <td>parallel_data/sq-Trac</td>\n",
       "      <td>sq</td>\n",
       "      <td>142</td>\n",
       "    </tr>\n",
       "    <tr>\n",
       "      <th>1798</th>\n",
       "      <td>Propaganda kundër Pawar Saab është krejtësisht...</td>\n",
       "      <td>0</td>\n",
       "      <td>298</td>\n",
       "      <td>parallel_data/sq-Trac</td>\n",
       "      <td>sq</td>\n",
       "      <td>93</td>\n",
       "    </tr>\n",
       "    <tr>\n",
       "      <th>1799</th>\n",
       "      <td>India ka nevojë për një kryeministër të tillë ...</td>\n",
       "      <td>0</td>\n",
       "      <td>299</td>\n",
       "      <td>parallel_data/sq-Trac</td>\n",
       "      <td>sq</td>\n",
       "      <td>33</td>\n",
       "    </tr>\n",
       "  </tbody>\n",
       "</table>\n",
       "<p>1800 rows × 6 columns</p>\n",
       "</div>"
      ]
     },
     "execution_count": 25,
     "metadata": {},
     "output_type": "execute_result"
    }
   ],
   "execution_count": 25
  },
  {
   "metadata": {
    "ExecuteTime": {
     "end_time": "2024-12-09T21:20:43.039067Z",
     "start_time": "2024-12-09T21:20:43.024263Z"
    }
   },
   "cell_type": "code",
   "source": "clusters[clusters['cluster']==8]",
   "id": "1ed6aee1c63c9840",
   "outputs": [
    {
     "data": {
      "text/plain": [
       "                                                   text  label   id  \\\n",
       "213   Stop fooling people with your Jumlas. Address ...      1  213   \n",
       "243   Kill those b********** without mercy. Some peo...      1  243   \n",
       "263   Instead of watching this crap people shud show...      0  263   \n",
       "513   Cümlelerinizle  insanları aptal yerine koymayı...      1  213   \n",
       "543   Merhamet etmeden şu b **********ları  öldür. B...      1  243   \n",
       "563   Bu boktan insanları göstermek yerine   fakir i...      0  263   \n",
       "813   Hört auf die Leuten mit euren Jumlas zu verars...      1  213   \n",
       "843   Tötet diese b ********** ohne Gnade. Einige Le...      1  243   \n",
       "863   Statt diesen Mist zu beobachten sollten die Le...      0  263   \n",
       "1113  Prestani varati ljude sa svojim lažnim obećanj...      1  213   \n",
       "1143  Treba ubiti te p ********** bez milosti. Neki ...      1  243   \n",
       "1163  Umjesto da gledaju ova sranja ljudi bi trebali...      0  263   \n",
       "1413  Хватит обманывать людей своими джамлами. Обращ...      1  213   \n",
       "1443  Убейте этих с***** без пощады. Некоторые люди ...      1  243   \n",
       "1463  Вместо того, чтобы смотреть на это дерьмо, кот...      0  263   \n",
       "1713  Boll i mashtruar njerëzit me akuzat tuaja. Adr...      1  213   \n",
       "1743  Vritini ata b ********** pa mëshirë. Disa njer...      1  243   \n",
       "1763  Në vend që të shikuar këto gjepura njerëzit du...      0  263   \n",
       "\n",
       "               dataset_name language  cluster  \n",
       "213   parallel_data/en-Trac       en        8  \n",
       "243   parallel_data/en-Trac       en        8  \n",
       "263   parallel_data/en-Trac       en        8  \n",
       "513   parallel_data/tr-Trac       tr        8  \n",
       "543   parallel_data/tr-Trac       tr        8  \n",
       "563   parallel_data/tr-Trac       tr        8  \n",
       "813   parallel_data/de-Trac       de        8  \n",
       "843   parallel_data/de-Trac       de        8  \n",
       "863   parallel_data/de-Trac       de        8  \n",
       "1113  parallel_data/hr-Trac       hr        8  \n",
       "1143  parallel_data/hr-Trac       hr        8  \n",
       "1163  parallel_data/hr-Trac       hr        8  \n",
       "1413  parallel_data/ru-Trac       ru        8  \n",
       "1443  parallel_data/ru-Trac       ru        8  \n",
       "1463  parallel_data/ru-Trac       ru        8  \n",
       "1713  parallel_data/sq-Trac       sq        8  \n",
       "1743  parallel_data/sq-Trac       sq        8  \n",
       "1763  parallel_data/sq-Trac       sq        8  "
      ],
      "text/html": [
       "<div>\n",
       "<style scoped>\n",
       "    .dataframe tbody tr th:only-of-type {\n",
       "        vertical-align: middle;\n",
       "    }\n",
       "\n",
       "    .dataframe tbody tr th {\n",
       "        vertical-align: top;\n",
       "    }\n",
       "\n",
       "    .dataframe thead th {\n",
       "        text-align: right;\n",
       "    }\n",
       "</style>\n",
       "<table border=\"1\" class=\"dataframe\">\n",
       "  <thead>\n",
       "    <tr style=\"text-align: right;\">\n",
       "      <th></th>\n",
       "      <th>text</th>\n",
       "      <th>label</th>\n",
       "      <th>id</th>\n",
       "      <th>dataset_name</th>\n",
       "      <th>language</th>\n",
       "      <th>cluster</th>\n",
       "    </tr>\n",
       "  </thead>\n",
       "  <tbody>\n",
       "    <tr>\n",
       "      <th>213</th>\n",
       "      <td>Stop fooling people with your Jumlas. Address ...</td>\n",
       "      <td>1</td>\n",
       "      <td>213</td>\n",
       "      <td>parallel_data/en-Trac</td>\n",
       "      <td>en</td>\n",
       "      <td>8</td>\n",
       "    </tr>\n",
       "    <tr>\n",
       "      <th>243</th>\n",
       "      <td>Kill those b********** without mercy. Some peo...</td>\n",
       "      <td>1</td>\n",
       "      <td>243</td>\n",
       "      <td>parallel_data/en-Trac</td>\n",
       "      <td>en</td>\n",
       "      <td>8</td>\n",
       "    </tr>\n",
       "    <tr>\n",
       "      <th>263</th>\n",
       "      <td>Instead of watching this crap people shud show...</td>\n",
       "      <td>0</td>\n",
       "      <td>263</td>\n",
       "      <td>parallel_data/en-Trac</td>\n",
       "      <td>en</td>\n",
       "      <td>8</td>\n",
       "    </tr>\n",
       "    <tr>\n",
       "      <th>513</th>\n",
       "      <td>Cümlelerinizle  insanları aptal yerine koymayı...</td>\n",
       "      <td>1</td>\n",
       "      <td>213</td>\n",
       "      <td>parallel_data/tr-Trac</td>\n",
       "      <td>tr</td>\n",
       "      <td>8</td>\n",
       "    </tr>\n",
       "    <tr>\n",
       "      <th>543</th>\n",
       "      <td>Merhamet etmeden şu b **********ları  öldür. B...</td>\n",
       "      <td>1</td>\n",
       "      <td>243</td>\n",
       "      <td>parallel_data/tr-Trac</td>\n",
       "      <td>tr</td>\n",
       "      <td>8</td>\n",
       "    </tr>\n",
       "    <tr>\n",
       "      <th>563</th>\n",
       "      <td>Bu boktan insanları göstermek yerine   fakir i...</td>\n",
       "      <td>0</td>\n",
       "      <td>263</td>\n",
       "      <td>parallel_data/tr-Trac</td>\n",
       "      <td>tr</td>\n",
       "      <td>8</td>\n",
       "    </tr>\n",
       "    <tr>\n",
       "      <th>813</th>\n",
       "      <td>Hört auf die Leuten mit euren Jumlas zu verars...</td>\n",
       "      <td>1</td>\n",
       "      <td>213</td>\n",
       "      <td>parallel_data/de-Trac</td>\n",
       "      <td>de</td>\n",
       "      <td>8</td>\n",
       "    </tr>\n",
       "    <tr>\n",
       "      <th>843</th>\n",
       "      <td>Tötet diese b ********** ohne Gnade. Einige Le...</td>\n",
       "      <td>1</td>\n",
       "      <td>243</td>\n",
       "      <td>parallel_data/de-Trac</td>\n",
       "      <td>de</td>\n",
       "      <td>8</td>\n",
       "    </tr>\n",
       "    <tr>\n",
       "      <th>863</th>\n",
       "      <td>Statt diesen Mist zu beobachten sollten die Le...</td>\n",
       "      <td>0</td>\n",
       "      <td>263</td>\n",
       "      <td>parallel_data/de-Trac</td>\n",
       "      <td>de</td>\n",
       "      <td>8</td>\n",
       "    </tr>\n",
       "    <tr>\n",
       "      <th>1113</th>\n",
       "      <td>Prestani varati ljude sa svojim lažnim obećanj...</td>\n",
       "      <td>1</td>\n",
       "      <td>213</td>\n",
       "      <td>parallel_data/hr-Trac</td>\n",
       "      <td>hr</td>\n",
       "      <td>8</td>\n",
       "    </tr>\n",
       "    <tr>\n",
       "      <th>1143</th>\n",
       "      <td>Treba ubiti te p ********** bez milosti. Neki ...</td>\n",
       "      <td>1</td>\n",
       "      <td>243</td>\n",
       "      <td>parallel_data/hr-Trac</td>\n",
       "      <td>hr</td>\n",
       "      <td>8</td>\n",
       "    </tr>\n",
       "    <tr>\n",
       "      <th>1163</th>\n",
       "      <td>Umjesto da gledaju ova sranja ljudi bi trebali...</td>\n",
       "      <td>0</td>\n",
       "      <td>263</td>\n",
       "      <td>parallel_data/hr-Trac</td>\n",
       "      <td>hr</td>\n",
       "      <td>8</td>\n",
       "    </tr>\n",
       "    <tr>\n",
       "      <th>1413</th>\n",
       "      <td>Хватит обманывать людей своими джамлами. Обращ...</td>\n",
       "      <td>1</td>\n",
       "      <td>213</td>\n",
       "      <td>parallel_data/ru-Trac</td>\n",
       "      <td>ru</td>\n",
       "      <td>8</td>\n",
       "    </tr>\n",
       "    <tr>\n",
       "      <th>1443</th>\n",
       "      <td>Убейте этих с***** без пощады. Некоторые люди ...</td>\n",
       "      <td>1</td>\n",
       "      <td>243</td>\n",
       "      <td>parallel_data/ru-Trac</td>\n",
       "      <td>ru</td>\n",
       "      <td>8</td>\n",
       "    </tr>\n",
       "    <tr>\n",
       "      <th>1463</th>\n",
       "      <td>Вместо того, чтобы смотреть на это дерьмо, кот...</td>\n",
       "      <td>0</td>\n",
       "      <td>263</td>\n",
       "      <td>parallel_data/ru-Trac</td>\n",
       "      <td>ru</td>\n",
       "      <td>8</td>\n",
       "    </tr>\n",
       "    <tr>\n",
       "      <th>1713</th>\n",
       "      <td>Boll i mashtruar njerëzit me akuzat tuaja. Adr...</td>\n",
       "      <td>1</td>\n",
       "      <td>213</td>\n",
       "      <td>parallel_data/sq-Trac</td>\n",
       "      <td>sq</td>\n",
       "      <td>8</td>\n",
       "    </tr>\n",
       "    <tr>\n",
       "      <th>1743</th>\n",
       "      <td>Vritini ata b ********** pa mëshirë. Disa njer...</td>\n",
       "      <td>1</td>\n",
       "      <td>243</td>\n",
       "      <td>parallel_data/sq-Trac</td>\n",
       "      <td>sq</td>\n",
       "      <td>8</td>\n",
       "    </tr>\n",
       "    <tr>\n",
       "      <th>1763</th>\n",
       "      <td>Në vend që të shikuar këto gjepura njerëzit du...</td>\n",
       "      <td>0</td>\n",
       "      <td>263</td>\n",
       "      <td>parallel_data/sq-Trac</td>\n",
       "      <td>sq</td>\n",
       "      <td>8</td>\n",
       "    </tr>\n",
       "  </tbody>\n",
       "</table>\n",
       "</div>"
      ]
     },
     "execution_count": 33,
     "metadata": {},
     "output_type": "execute_result"
    }
   ],
   "execution_count": 33
  },
  {
   "metadata": {
    "ExecuteTime": {
     "end_time": "2024-12-09T21:19:27.448298Z",
     "start_time": "2024-12-09T21:19:18.185480Z"
    }
   },
   "cell_type": "code",
   "source": "Embedder.visualize_embeddings(embed, metadatas)",
   "id": "8e8b4b23bcb0e998",
   "outputs": [
    {
     "name": "stderr",
     "output_type": "stream",
     "text": [
      "/mounts/work/faeze/new_miniconda3/envs/2024_9/lib/python3.10/site-packages/umap/umap_.py:1952: UserWarning: n_jobs value 1 overridden to 1 by setting random_state. Use no seed for parallelism.\n",
      "  warn(\n"
     ]
    },
    {
     "ename": "ValueError",
     "evalue": "All arguments should have the same length. The length of argument `hover_data_0` is 5, whereas the length of  previously-processed arguments ['x', 'y'] is 1800",
     "output_type": "error",
     "traceback": [
      "\u001B[0;31m---------------------------------------------------------------------------\u001B[0m",
      "\u001B[0;31mValueError\u001B[0m                                Traceback (most recent call last)",
      "Cell \u001B[0;32mIn[30], line 1\u001B[0m\n\u001B[0;32m----> 1\u001B[0m \u001B[43mEmbedder\u001B[49m\u001B[38;5;241;43m.\u001B[39;49m\u001B[43mvisualize_embeddings\u001B[49m\u001B[43m(\u001B[49m\u001B[43membed\u001B[49m\u001B[43m,\u001B[49m\u001B[43m \u001B[49m\u001B[43mmetadatas\u001B[49m\u001B[43m)\u001B[49m\n",
      "File \u001B[0;32m/tmp/pycharm_project_732/embedder.py:161\u001B[0m, in \u001B[0;36mEmbedder.visualize_embeddings\u001B[0;34m(embeddings, metadata, reduction_method, plot_title)\u001B[0m\n\u001B[1;32m    158\u001B[0m metadata_df[\u001B[38;5;124m\"\u001B[39m\u001B[38;5;124my\u001B[39m\u001B[38;5;124m\"\u001B[39m] \u001B[38;5;241m=\u001B[39m reduced_embeddings[:, \u001B[38;5;241m1\u001B[39m]\n\u001B[1;32m    160\u001B[0m \u001B[38;5;66;03m# Create Plotly visualization\u001B[39;00m\n\u001B[0;32m--> 161\u001B[0m fig \u001B[38;5;241m=\u001B[39m \u001B[43mpx\u001B[49m\u001B[38;5;241;43m.\u001B[39;49m\u001B[43mscatter\u001B[49m\u001B[43m(\u001B[49m\n\u001B[1;32m    162\u001B[0m \u001B[43m    \u001B[49m\u001B[43mmetadata_df\u001B[49m\u001B[43m,\u001B[49m\n\u001B[1;32m    163\u001B[0m \u001B[43m    \u001B[49m\u001B[43mx\u001B[49m\u001B[38;5;241;43m=\u001B[39;49m\u001B[38;5;124;43m\"\u001B[39;49m\u001B[38;5;124;43mx\u001B[39;49m\u001B[38;5;124;43m\"\u001B[39;49m\u001B[43m,\u001B[49m\n\u001B[1;32m    164\u001B[0m \u001B[43m    \u001B[49m\u001B[43my\u001B[49m\u001B[38;5;241;43m=\u001B[39;49m\u001B[38;5;124;43m\"\u001B[39;49m\u001B[38;5;124;43my\u001B[39;49m\u001B[38;5;124;43m\"\u001B[39;49m\u001B[43m,\u001B[49m\n\u001B[1;32m    165\u001B[0m \u001B[43m    \u001B[49m\u001B[43mcolor\u001B[49m\u001B[38;5;241;43m=\u001B[39;49m\u001B[38;5;124;43m\"\u001B[39;49m\u001B[38;5;124;43mlanguage\u001B[39;49m\u001B[38;5;124;43m\"\u001B[39;49m\u001B[43m,\u001B[49m\u001B[43m  \u001B[49m\u001B[38;5;66;43;03m# Adjust this to a relevant metadata field\u001B[39;49;00m\n\u001B[1;32m    166\u001B[0m \u001B[43m    \u001B[49m\u001B[43mhover_data\u001B[49m\u001B[38;5;241;43m=\u001B[39;49m\u001B[43mmetadata\u001B[49m\u001B[43m,\u001B[49m\n\u001B[1;32m    167\u001B[0m \u001B[43m    \u001B[49m\u001B[43mtitle\u001B[49m\u001B[38;5;241;43m=\u001B[39;49m\u001B[43mplot_title\u001B[49m\u001B[43m,\u001B[49m\n\u001B[1;32m    168\u001B[0m \u001B[43m\u001B[49m\u001B[43m)\u001B[49m\n\u001B[1;32m    169\u001B[0m fig\u001B[38;5;241m.\u001B[39mshow()\n",
      "File \u001B[0;32m/mounts/work/faeze/new_miniconda3/envs/2024_9/lib/python3.10/site-packages/plotly/express/_chart_types.py:66\u001B[0m, in \u001B[0;36mscatter\u001B[0;34m(data_frame, x, y, color, symbol, size, hover_name, hover_data, custom_data, text, facet_row, facet_col, facet_col_wrap, facet_row_spacing, facet_col_spacing, error_x, error_x_minus, error_y, error_y_minus, animation_frame, animation_group, category_orders, labels, orientation, color_discrete_sequence, color_discrete_map, color_continuous_scale, range_color, color_continuous_midpoint, symbol_sequence, symbol_map, opacity, size_max, marginal_x, marginal_y, trendline, trendline_options, trendline_color_override, trendline_scope, log_x, log_y, range_x, range_y, render_mode, title, template, width, height)\u001B[0m\n\u001B[1;32m     12\u001B[0m \u001B[38;5;28;01mdef\u001B[39;00m \u001B[38;5;21mscatter\u001B[39m(\n\u001B[1;32m     13\u001B[0m     data_frame\u001B[38;5;241m=\u001B[39m\u001B[38;5;28;01mNone\u001B[39;00m,\n\u001B[1;32m     14\u001B[0m     x\u001B[38;5;241m=\u001B[39m\u001B[38;5;28;01mNone\u001B[39;00m,\n\u001B[0;32m   (...)\u001B[0m\n\u001B[1;32m     60\u001B[0m     height\u001B[38;5;241m=\u001B[39m\u001B[38;5;28;01mNone\u001B[39;00m,\n\u001B[1;32m     61\u001B[0m ) \u001B[38;5;241m-\u001B[39m\u001B[38;5;241m>\u001B[39m go\u001B[38;5;241m.\u001B[39mFigure:\n\u001B[1;32m     62\u001B[0m \u001B[38;5;250m    \u001B[39m\u001B[38;5;124;03m\"\"\"\u001B[39;00m\n\u001B[1;32m     63\u001B[0m \u001B[38;5;124;03m    In a scatter plot, each row of `data_frame` is represented by a symbol\u001B[39;00m\n\u001B[1;32m     64\u001B[0m \u001B[38;5;124;03m    mark in 2D space.\u001B[39;00m\n\u001B[1;32m     65\u001B[0m \u001B[38;5;124;03m    \"\"\"\u001B[39;00m\n\u001B[0;32m---> 66\u001B[0m     \u001B[38;5;28;01mreturn\u001B[39;00m \u001B[43mmake_figure\u001B[49m\u001B[43m(\u001B[49m\u001B[43margs\u001B[49m\u001B[38;5;241;43m=\u001B[39;49m\u001B[38;5;28;43mlocals\u001B[39;49m\u001B[43m(\u001B[49m\u001B[43m)\u001B[49m\u001B[43m,\u001B[49m\u001B[43m \u001B[49m\u001B[43mconstructor\u001B[49m\u001B[38;5;241;43m=\u001B[39;49m\u001B[43mgo\u001B[49m\u001B[38;5;241;43m.\u001B[39;49m\u001B[43mScatter\u001B[49m\u001B[43m)\u001B[49m\n",
      "File \u001B[0;32m/mounts/work/faeze/new_miniconda3/envs/2024_9/lib/python3.10/site-packages/plotly/express/_core.py:2117\u001B[0m, in \u001B[0;36mmake_figure\u001B[0;34m(args, constructor, trace_patch, layout_patch)\u001B[0m\n\u001B[1;32m   2114\u001B[0m layout_patch \u001B[38;5;241m=\u001B[39m layout_patch \u001B[38;5;129;01mor\u001B[39;00m {}\n\u001B[1;32m   2115\u001B[0m apply_default_cascade(args)\n\u001B[0;32m-> 2117\u001B[0m args \u001B[38;5;241m=\u001B[39m \u001B[43mbuild_dataframe\u001B[49m\u001B[43m(\u001B[49m\u001B[43margs\u001B[49m\u001B[43m,\u001B[49m\u001B[43m \u001B[49m\u001B[43mconstructor\u001B[49m\u001B[43m)\u001B[49m\n\u001B[1;32m   2118\u001B[0m \u001B[38;5;28;01mif\u001B[39;00m constructor \u001B[38;5;129;01min\u001B[39;00m [go\u001B[38;5;241m.\u001B[39mTreemap, go\u001B[38;5;241m.\u001B[39mSunburst, go\u001B[38;5;241m.\u001B[39mIcicle] \u001B[38;5;129;01mand\u001B[39;00m args[\u001B[38;5;124m\"\u001B[39m\u001B[38;5;124mpath\u001B[39m\u001B[38;5;124m\"\u001B[39m] \u001B[38;5;129;01mis\u001B[39;00m \u001B[38;5;129;01mnot\u001B[39;00m \u001B[38;5;28;01mNone\u001B[39;00m:\n\u001B[1;32m   2119\u001B[0m     args \u001B[38;5;241m=\u001B[39m process_dataframe_hierarchy(args)\n",
      "File \u001B[0;32m/mounts/work/faeze/new_miniconda3/envs/2024_9/lib/python3.10/site-packages/plotly/express/_core.py:1513\u001B[0m, in \u001B[0;36mbuild_dataframe\u001B[0;34m(args, constructor)\u001B[0m\n\u001B[1;32m   1510\u001B[0m     args[\u001B[38;5;124m\"\u001B[39m\u001B[38;5;124mcolor\u001B[39m\u001B[38;5;124m\"\u001B[39m] \u001B[38;5;241m=\u001B[39m \u001B[38;5;28;01mNone\u001B[39;00m\n\u001B[1;32m   1511\u001B[0m \u001B[38;5;66;03m# now that things have been prepped, we do the systematic rewriting of `args`\u001B[39;00m\n\u001B[0;32m-> 1513\u001B[0m df_output, wide_id_vars \u001B[38;5;241m=\u001B[39m \u001B[43mprocess_args_into_dataframe\u001B[49m\u001B[43m(\u001B[49m\n\u001B[1;32m   1514\u001B[0m \u001B[43m    \u001B[49m\u001B[43margs\u001B[49m\u001B[43m,\u001B[49m\u001B[43m \u001B[49m\u001B[43mwide_mode\u001B[49m\u001B[43m,\u001B[49m\u001B[43m \u001B[49m\u001B[43mvar_name\u001B[49m\u001B[43m,\u001B[49m\u001B[43m \u001B[49m\u001B[43mvalue_name\u001B[49m\n\u001B[1;32m   1515\u001B[0m \u001B[43m\u001B[49m\u001B[43m)\u001B[49m\n\u001B[1;32m   1517\u001B[0m \u001B[38;5;66;03m# now that `df_output` exists and `args` contains only references, we complete\u001B[39;00m\n\u001B[1;32m   1518\u001B[0m \u001B[38;5;66;03m# the special-case and wide-mode handling by further rewriting args and/or mutating\u001B[39;00m\n\u001B[1;32m   1519\u001B[0m \u001B[38;5;66;03m# df_output\u001B[39;00m\n\u001B[1;32m   1521\u001B[0m count_name \u001B[38;5;241m=\u001B[39m _escape_col_name(df_output, \u001B[38;5;124m\"\u001B[39m\u001B[38;5;124mcount\u001B[39m\u001B[38;5;124m\"\u001B[39m, [var_name, value_name])\n",
      "File \u001B[0;32m/mounts/work/faeze/new_miniconda3/envs/2024_9/lib/python3.10/site-packages/plotly/express/_core.py:1274\u001B[0m, in \u001B[0;36mprocess_args_into_dataframe\u001B[0;34m(args, wide_mode, var_name, value_name)\u001B[0m\n\u001B[1;32m   1271\u001B[0m         col_name \u001B[38;5;241m=\u001B[39m _check_name_not_reserved(field, reserved_names)\n\u001B[1;32m   1273\u001B[0m     \u001B[38;5;28;01mif\u001B[39;00m length \u001B[38;5;129;01mand\u001B[39;00m \u001B[38;5;28mlen\u001B[39m(argument) \u001B[38;5;241m!=\u001B[39m length:\n\u001B[0;32m-> 1274\u001B[0m         \u001B[38;5;28;01mraise\u001B[39;00m \u001B[38;5;167;01mValueError\u001B[39;00m(\n\u001B[1;32m   1275\u001B[0m             \u001B[38;5;124m\"\u001B[39m\u001B[38;5;124mAll arguments should have the same length. \u001B[39m\u001B[38;5;124m\"\u001B[39m\n\u001B[1;32m   1276\u001B[0m             \u001B[38;5;124m\"\u001B[39m\u001B[38;5;124mThe length of argument `\u001B[39m\u001B[38;5;132;01m%s\u001B[39;00m\u001B[38;5;124m` is \u001B[39m\u001B[38;5;132;01m%d\u001B[39;00m\u001B[38;5;124m, whereas the \u001B[39m\u001B[38;5;124m\"\u001B[39m\n\u001B[1;32m   1277\u001B[0m             \u001B[38;5;124m\"\u001B[39m\u001B[38;5;124mlength of  previously-processed arguments \u001B[39m\u001B[38;5;132;01m%s\u001B[39;00m\u001B[38;5;124m is \u001B[39m\u001B[38;5;132;01m%d\u001B[39;00m\u001B[38;5;124m\"\u001B[39m\n\u001B[1;32m   1278\u001B[0m             \u001B[38;5;241m%\u001B[39m (field, \u001B[38;5;28mlen\u001B[39m(argument), \u001B[38;5;28mstr\u001B[39m(\u001B[38;5;28mlist\u001B[39m(df_output\u001B[38;5;241m.\u001B[39mkeys())), length)\n\u001B[1;32m   1279\u001B[0m         )\n\u001B[1;32m   1280\u001B[0m     df_output[\u001B[38;5;28mstr\u001B[39m(col_name)] \u001B[38;5;241m=\u001B[39m to_unindexed_series(argument, \u001B[38;5;28mstr\u001B[39m(col_name))\n\u001B[1;32m   1282\u001B[0m \u001B[38;5;66;03m# Finally, update argument with column name now that column exists\u001B[39;00m\n",
      "\u001B[0;31mValueError\u001B[0m: All arguments should have the same length. The length of argument `hover_data_0` is 5, whereas the length of  previously-processed arguments ['x', 'y'] is 1800"
     ]
    }
   ],
   "execution_count": 30
  },
  {
   "metadata": {
    "ExecuteTime": {
     "end_time": "2024-12-09T21:15:57.871549067Z",
     "start_time": "2024-12-09T21:00:44.409271Z"
    }
   },
   "cell_type": "code",
   "source": "",
   "id": "c3ae19e8372565bc",
   "outputs": [],
   "execution_count": null
  },
  {
   "metadata": {
    "ExecuteTime": {
     "end_time": "2024-12-09T21:15:57.871592404Z",
     "start_time": "2024-12-09T21:00:44.478223Z"
    }
   },
   "cell_type": "code",
   "source": "",
   "id": "8470e56bcfd92ec2",
   "outputs": [],
   "execution_count": null
  },
  {
   "metadata": {
    "ExecuteTime": {
     "end_time": "2024-12-09T21:00:44.551538Z",
     "start_time": "2024-12-09T21:00:44.548814Z"
    }
   },
   "cell_type": "code",
   "source": "",
   "id": "f77c19c1692b4c03",
   "outputs": [],
   "execution_count": null
  },
  {
   "metadata": {
    "ExecuteTime": {
     "end_time": "2024-12-09T21:21:22.020415Z",
     "start_time": "2024-12-09T21:21:22.015957Z"
    }
   },
   "cell_type": "code",
   "source": [
    "from retriever import Retriever\n",
    "retriever = Retriever(embedder_.embedding_dim, index_type=\"HNSW\")"
   ],
   "id": "d99b296fca13f8e9",
   "outputs": [],
   "execution_count": 38
  },
  {
   "metadata": {
    "ExecuteTime": {
     "end_time": "2024-12-09T21:21:22.535063Z",
     "start_time": "2024-12-09T21:21:22.487886Z"
    }
   },
   "cell_type": "code",
   "source": "retriever.add_embeddings(embed, metadata)",
   "id": "c7dade0438a08153",
   "outputs": [],
   "execution_count": 39
  },
  {
   "metadata": {
    "ExecuteTime": {
     "end_time": "2024-12-09T21:21:23.032217Z",
     "start_time": "2024-12-09T21:21:23.023129Z"
    }
   },
   "cell_type": "code",
   "source": "retriever.retrieve(embeddings[0][213].reshape(1,-1), k=10)",
   "id": "33b7c95f472ea218",
   "outputs": [
    {
     "data": {
      "text/plain": [
       "[{'metadata': {'text': \"Stop fooling people with your Jumlas. Address to the issues like Employment Education Poverty Health Farmers Infrastructure & Economic Reforms. Please don't divert people's attention from core issues which matters to the nation. Nation wants concrete result not Jumlas.\",\n",
       "   'label': 1,\n",
       "   'id': '213',\n",
       "   'dataset_name': 'parallel_data/en-Trac',\n",
       "   'language': 'en'},\n",
       "  'score': 0.0},\n",
       " {'metadata': {'text': 'Хватит обманывать людей своими джамлами. Обращайтесь к таким вопросам, как образование в области занятости Бедность Здоровье Фермеры Инфраструктура и экономические реформы. Пожалуйста, не отвлекайте внимание людей от основных вопросов, которые важны для нации. Нация хочет конкретного результата, а не джамлов.',\n",
       "   'label': 1,\n",
       "   'id': '213',\n",
       "   'dataset_name': 'parallel_data/ru-Trac',\n",
       "   'language': 'ru'},\n",
       "  'score': 0.19594713},\n",
       " {'metadata': {'text': 'Cümlelerinizle  insanları aptal yerine koymayı bırakın. İstihdam Eğitim Yoksulluk Sağlık Çiftçiler Altyapı ve Ekonomik Reformlar gibi konulardan bahsedin..Lütfen insanların dikkatini ulus için değerli olan önemli sorunlardan dağıtmayın. Ulus gerçek sonuç istiyor cümlerler değil istiyor.',\n",
       "   'label': 1,\n",
       "   'id': '213',\n",
       "   'dataset_name': 'parallel_data/tr-Trac',\n",
       "   'language': 'tr'},\n",
       "  'score': 0.20730528},\n",
       " {'metadata': {'text': 'Boll i mashtruar njerëzit me akuzat tuaja. Adresoni çështjet si Infrastruktura Punësimi Edukimi Varfëria Shëndeti Farmers & reformat ekonomike. Ju lutem, mos devijoni vëmendjen e njerëzve nga çështjet thelbësore që kanë rëndësi për kombin. Kombi dëshiron rezultat konkret jo akuza.',\n",
       "   'label': 1,\n",
       "   'id': '213',\n",
       "   'dataset_name': 'parallel_data/sq-Trac',\n",
       "   'language': 'sq'},\n",
       "  'score': 0.20926087},\n",
       " {'metadata': {'text': 'Hört auf die Leuten mit euren Jumlas zu verarschen. Sprecht die Themen wie Beschäftigung, Bildung, Armut, Gesundheit, Bauern, Infrastruktur & Wirtschaftliche Reformen an. Bitte lenkt die Aufmerksamkeit der Menschen nicht von den Kernfragen ab, die für die Nation wichtig sind. Das Land will konkrete Ergebnisse, nicht Jumlas.',\n",
       "   'label': 1,\n",
       "   'id': '213',\n",
       "   'dataset_name': 'parallel_data/de-Trac',\n",
       "   'language': 'de'},\n",
       "  'score': 0.24840379},\n",
       " {'metadata': {'text': 'Prestani varati ljude sa svojim lažnim obećanjima. Govorite o problemima kao što su zaposlenje obrazovanje siromaštvo zdravlje poljoprivrednici infrastrukturi i gospodarskim reformama. Molim vas da ne odvraćate pozornost ljudi od ključnih pitanja koje su važne za naciju. Nacija želi konkretne rezultat ne lažna obećanja.',\n",
       "   'label': 1,\n",
       "   'id': '213',\n",
       "   'dataset_name': 'parallel_data/hr-Trac',\n",
       "   'language': 'hr'},\n",
       "  'score': 0.25182185},\n",
       " {'metadata': {'text': 'People he is a well known economist who had brought good in early 90s. Please stop following PM blindly, I too support Modi but the issues he is addressing are real.',\n",
       "   'label': 0,\n",
       "   'id': '46',\n",
       "   'dataset_name': 'parallel_data/en-Trac',\n",
       "   'language': 'en'},\n",
       "  'score': 1.2226138},\n",
       " {'metadata': {'text': 'Vritini ata b ********** pa mëshirë. Disa njerëz as nuk meritojnë reagime humane. Vetëm vritini & zhdukeni Pak nga harta e botës, nami u bëftë.',\n",
       "   'label': 1,\n",
       "   'id': '243',\n",
       "   'dataset_name': 'parallel_data/sq-Trac',\n",
       "   'language': 'sq'},\n",
       "  'score': 1.2402637},\n",
       " {'metadata': {'text': 'Leute, er ist ein bekannter Ökonom, der Angang der 90er Jahre viiel Gutes gebracht hat. Bitte hört auf PM blind zu folgen, ich unterstütze auch Modi, aber die Probleme die er anspricht sind real.',\n",
       "   'label': 0,\n",
       "   'id': '46',\n",
       "   'dataset_name': 'parallel_data/de-Trac',\n",
       "   'language': 'de'},\n",
       "  'score': 1.2473514},\n",
       " {'metadata': {'text': \"No quotas no reservations! First the UN Should improve status of women I'm the USA, then talk about India. Who the hell are you to meddle with Indian Affairs ?\",\n",
       "   'label': 1,\n",
       "   'id': '14',\n",
       "   'dataset_name': 'parallel_data/en-Trac',\n",
       "   'language': 'en'},\n",
       "  'score': 1.2502279}]"
      ]
     },
     "execution_count": 40,
     "metadata": {},
     "output_type": "execute_result"
    }
   ],
   "execution_count": 40
  },
  {
   "metadata": {
    "ExecuteTime": {
     "end_time": "2024-12-09T21:21:24.053121Z",
     "start_time": "2024-12-09T21:21:24.047296Z"
    }
   },
   "cell_type": "code",
   "source": "metadatas[213]",
   "id": "63d9e30a96572",
   "outputs": [
    {
     "data": {
      "text/plain": [
       "{'text': \"Stop fooling people with your Jumlas. Address to the issues like Employment Education Poverty Health Farmers Infrastructure & Economic Reforms. Please don't divert people's attention from core issues which matters to the nation. Nation wants concrete result not Jumlas.\",\n",
       " 'label': 1,\n",
       " 'id': '213',\n",
       " 'dataset_name': 'parallel_data/en-Trac',\n",
       " 'language': 'en'}"
      ]
     },
     "execution_count": 41,
     "metadata": {},
     "output_type": "execute_result"
    }
   ],
   "execution_count": 41
  },
  {
   "metadata": {},
   "cell_type": "code",
   "outputs": [],
   "execution_count": null,
   "source": "",
   "id": "425e2f81e7b9fba9"
  }
 ],
 "metadata": {
  "kernelspec": {
   "display_name": "Python 3",
   "language": "python",
   "name": "python3"
  },
  "language_info": {
   "codemirror_mode": {
    "name": "ipython",
    "version": 2
   },
   "file_extension": ".py",
   "mimetype": "text/x-python",
   "name": "python",
   "nbconvert_exporter": "python",
   "pygments_lexer": "ipython2",
   "version": "2.7.6"
  }
 },
 "nbformat": 4,
 "nbformat_minor": 5
}
