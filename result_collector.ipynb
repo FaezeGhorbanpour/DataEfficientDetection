{
 "cells": [
  {
   "cell_type": "code",
   "id": "initial_id",
   "metadata": {
    "collapsed": true,
    "ExecuteTime": {
     "end_time": "2024-12-24T13:51:36.292437Z",
     "start_time": "2024-12-24T13:51:36.288344Z"
    }
   },
   "source": [
    "import pandas as pd\n",
    "import numpy as np\n",
    "import os, json"
   ],
   "outputs": [],
   "execution_count": 2
  },
  {
   "metadata": {
    "ExecuteTime": {
     "end_time": "2024-12-24T13:55:07.221137Z",
     "start_time": "2024-12-24T13:55:07.217390Z"
    }
   },
   "cell_type": "code",
   "source": "results_path = '/mounts/work/faeze/data_efficient_hate/models/finetuner/'",
   "id": "408034a64ebd7437",
   "outputs": [],
   "execution_count": 4
  },
  {
   "metadata": {
    "ExecuteTime": {
     "end_time": "2024-12-24T15:10:21.343662Z",
     "start_time": "2024-12-24T15:10:21.339905Z"
    }
   },
   "cell_type": "code",
   "source": [
    "# model_name = 'twitter-roberta-default'\n",
    "model_name = 'mdeberta-default'\n",
    "# model_name = 'roberta-default'"
   ],
   "id": "79ac16f0e466a6d7",
   "outputs": [],
   "execution_count": 98
  },
  {
   "metadata": {
    "ExecuteTime": {
     "end_time": "2024-12-24T15:10:21.528991Z",
     "start_time": "2024-12-24T15:10:21.524498Z"
    }
   },
   "cell_type": "code",
   "source": "path = os.path.join(results_path, model_name)",
   "id": "6269e9630feaf33c",
   "outputs": [],
   "execution_count": 99
  },
  {
   "metadata": {
    "ExecuteTime": {
     "end_time": "2024-12-24T15:10:21.663711Z",
     "start_time": "2024-12-24T15:10:21.658900Z"
    }
   },
   "cell_type": "code",
   "source": [
    "splits = [10, 20, 30, 40, 50, 100, 200, 300, 400, 500, 1000, 2000]\n",
    "splits = [20000]\n",
    "rss = ['rs'+str(i) for i in range(1, 6)]"
   ],
   "id": "334eea4bed833002",
   "outputs": [],
   "execution_count": 100
  },
  {
   "metadata": {
    "ExecuteTime": {
     "end_time": "2024-12-24T15:10:21.837567Z",
     "start_time": "2024-12-24T15:10:21.833417Z"
    }
   },
   "cell_type": "code",
   "source": [
    "data_names = ['bas19_es', 'for19_pt', 'has21_hi', 'ous19_ar', 'ous19_fr', 'san20_it']\n",
    "data_names = ['dyn21_en', 'fou18_en', 'ken20_en']"
   ],
   "id": "f67f9de375bf4d23",
   "outputs": [],
   "execution_count": 101
  },
  {
   "metadata": {
    "ExecuteTime": {
     "end_time": "2024-12-24T15:15:14.896749Z",
     "start_time": "2024-12-24T15:15:14.878396Z"
    }
   },
   "cell_type": "code",
   "source": [
    "data_results = []\n",
    "for data_name in data_names:\n",
    "    split_average = []\n",
    "    for split in splits:\n",
    "        split_path = os.path.join(path, data_name+'-'+str(split))\n",
    "        rss_results = []\n",
    "        roots = []\n",
    "        for root, folders, files in os.walk(split_path):\n",
    "            if 'checkpoint' in root or 'evaluation_results.json' not in files:\n",
    "                continue\n",
    "            with open(os.path.join(root, 'evaluation_results.json'), 'r') as f:\n",
    "                file = json.load(f)\n",
    "                rss_results.append(file['eval_f1-macro'])\n",
    "            roots.append(root+'/'+folders[0])\n",
    "        print(roots[np.argmax(rss_results)])\n",
    "        split_average.append(np.round(np.average(rss_results),3))\n",
    "    data_results.append(split_average)\n",
    "    print(split_average)"
   ],
   "id": "6dc76b806e35faef",
   "outputs": [
    {
     "name": "stdout",
     "output_type": "stream",
     "text": [
      "/mounts/work/faeze/data_efficient_hate/models/finetuner/mdeberta-default/dyn21_en-20000/rs5/checkpoint-11250\n",
      "[0.79]\n",
      "/mounts/work/faeze/data_efficient_hate/models/finetuner/mdeberta-default/fou18_en-20000/rs2/checkpoint-3750\n",
      "[0.77]\n",
      "/mounts/work/faeze/data_efficient_hate/models/finetuner/mdeberta-default/ken20_en-20000/rs5/checkpoint-7500\n",
      "[0.785]\n"
     ]
    }
   ],
   "execution_count": 112
  },
  {
   "metadata": {
    "ExecuteTime": {
     "end_time": "2024-12-24T15:10:22.534615Z",
     "start_time": "2024-12-24T15:10:22.527572Z"
    }
   },
   "cell_type": "code",
   "source": [
    "for data_result in data_results:\n",
    "    for j in [str(i) for i in data_result]:\n",
    "        print(j, end='\\t')\n",
    "    print()"
   ],
   "id": "d52b6282c33a55fb",
   "outputs": [
    {
     "name": "stdout",
     "output_type": "stream",
     "text": [
      "0.79\t\n",
      "0.77\t\n",
      "0.785\t\n"
     ]
    }
   ],
   "execution_count": 103
  },
  {
   "metadata": {
    "ExecuteTime": {
     "end_time": "2024-12-24T15:10:22.659778Z",
     "start_time": "2024-12-24T15:10:22.655898Z"
    }
   },
   "cell_type": "code",
   "source": "",
   "id": "7cb1ce2b9bb6be81",
   "outputs": [],
   "execution_count": null
  },
  {
   "metadata": {},
   "cell_type": "code",
   "outputs": [],
   "execution_count": null,
   "source": "",
   "id": "26f68e4a6994ffe1"
  }
 ],
 "metadata": {
  "kernelspec": {
   "display_name": "Python 3",
   "language": "python",
   "name": "python3"
  },
  "language_info": {
   "codemirror_mode": {
    "name": "ipython",
    "version": 2
   },
   "file_extension": ".py",
   "mimetype": "text/x-python",
   "name": "python",
   "nbconvert_exporter": "python",
   "pygments_lexer": "ipython2",
   "version": "2.7.6"
  }
 },
 "nbformat": 4,
 "nbformat_minor": 5
}
