{
 "cells": [
  {
   "cell_type": "code",
   "id": "initial_id",
   "metadata": {
    "collapsed": true,
    "ExecuteTime": {
     "end_time": "2024-12-25T13:28:47.492279Z",
     "start_time": "2024-12-25T13:28:46.865601Z"
    }
   },
   "source": [
    "import pandas as pd\n",
    "import numpy as np\n",
    "import os, json"
   ],
   "outputs": [],
   "execution_count": 1
  },
  {
   "metadata": {
    "ExecuteTime": {
     "end_time": "2024-12-25T13:28:47.592960Z",
     "start_time": "2024-12-25T13:28:47.589680Z"
    }
   },
   "cell_type": "code",
   "source": "results_path = '/mounts/work/faeze/data_efficient_hate/models/finetuner/'",
   "id": "408034a64ebd7437",
   "outputs": [],
   "execution_count": 2
  },
  {
   "metadata": {
    "ExecuteTime": {
     "end_time": "2024-12-25T14:44:43.494407Z",
     "start_time": "2024-12-25T14:44:43.490539Z"
    }
   },
   "cell_type": "code",
   "source": [
    "model_name = 'twitter-roberta-default'\n",
    "# model_name = 'mdeberta-default'\n",
    "# model_name = 'roberta-default'"
   ],
   "id": "79ac16f0e466a6d7",
   "outputs": [],
   "execution_count": 71
  },
  {
   "metadata": {
    "ExecuteTime": {
     "end_time": "2024-12-25T14:45:47.463391Z",
     "start_time": "2024-12-25T14:45:47.459404Z"
    }
   },
   "cell_type": "code",
   "source": "path = os.path.join(results_path, model_name)",
   "id": "6269e9630feaf33c",
   "outputs": [],
   "execution_count": 82
  },
  {
   "metadata": {
    "ExecuteTime": {
     "end_time": "2024-12-25T14:47:52.343636Z",
     "start_time": "2024-12-25T14:47:52.339037Z"
    }
   },
   "cell_type": "code",
   "source": [
    "# splits = [10, 20, 30, 40, 50, 100, 200, 300, 400, 500, 1000, 2000]\n",
    "splits = [20000]\n",
    "rss = ['rs'+str(i) for i in range(1, 6)]"
   ],
   "id": "334eea4bed833002",
   "outputs": [],
   "execution_count": 88
  },
  {
   "metadata": {
    "ExecuteTime": {
     "end_time": "2024-12-25T14:47:52.619108Z",
     "start_time": "2024-12-25T14:47:52.615255Z"
    }
   },
   "cell_type": "code",
   "source": [
    "# data_names = ['bas19_es', 'for19_pt', 'has21_hi', 'ous19_ar', 'ous19_fr', 'san20_it']\n",
    "data_names = ['dyn21_en', 'fou18_en', 'ken20_en', 'xdomain_en', 'measure_en', 'xplain_en']\n",
    "# data_names = ['bas19_es', 'for19_pt', 'has21_hi', 'ous19_ar', 'ous19_fr', 'san20_it', 'gahd24_de', 'xdomain_tr']"
   ],
   "id": "f67f9de375bf4d23",
   "outputs": [],
   "execution_count": 89
  },
  {
   "metadata": {
    "ExecuteTime": {
     "end_time": "2024-12-25T14:47:52.943577Z",
     "start_time": "2024-12-25T14:47:52.904349Z"
    }
   },
   "cell_type": "code",
   "source": [
    "data_results = []\n",
    "for data_name in data_names:\n",
    "    print(data_name)\n",
    "    split_average = []\n",
    "    for split in splits:\n",
    "        split_path = os.path.join(path, data_name+'-'+str(split))\n",
    "        rss_results = []\n",
    "        roots = []\n",
    "\n",
    "        split_done = []\n",
    "        rss = []\n",
    "        for root, folders, files in os.walk(split_path):\n",
    "            if 'checkpoint' in root or 'evaluation_results.json' not in files:\n",
    "                continue\n",
    "            with open(os.path.join(root, 'evaluation_results.json'), 'r') as f:\n",
    "                file = json.load(f)\n",
    "                rss_results.append(file['eval_f1-macro'])\n",
    "            roots.append(root+'/'+folders[0])\n",
    "            split_done.append(split)\n",
    "            rss.append(root.split('/')[-1])\n",
    "        if rss_results:\n",
    "            print(roots[np.argmax(rss_results)])\n",
    "            split_average.append(np.round(np.average(rss_results)*100,2))\n",
    "        else:\n",
    "            print('no')\n",
    "        print(rss)\n",
    "        print(split_done)\n",
    "    data_results.append(split_average)\n",
    "    # print(split_average)\n",
    "    print()"
   ],
   "id": "6dc76b806e35faef",
   "outputs": [
    {
     "name": "stdout",
     "output_type": "stream",
     "text": [
      "dyn21_en\n",
      "/mounts/work/faeze/data_efficient_hate/models/finetuner/twitter-roberta-default/dyn21_en-20000/rs4/checkpoint-5000\n",
      "['rs1', 'rs4', 'rs5', 'rs2', 'rs3']\n",
      "[20000, 20000, 20000, 20000, 20000]\n",
      "\n",
      "fou18_en\n",
      "/mounts/work/faeze/data_efficient_hate/models/finetuner/twitter-roberta-default/fou18_en-20000/rs3/checkpoint-6250\n",
      "['rs1', 'rs4', 'rs5', 'rs2', 'rs3']\n",
      "[20000, 20000, 20000, 20000, 20000]\n",
      "\n",
      "ken20_en\n",
      "/mounts/work/faeze/data_efficient_hate/models/finetuner/twitter-roberta-default/ken20_en-20000/rs1/checkpoint-1250\n",
      "['rs1', 'rs4', 'rs5', 'rs2', 'rs3']\n",
      "[20000, 20000, 20000, 20000, 20000]\n",
      "\n",
      "xdomain_en\n",
      "/mounts/work/faeze/data_efficient_hate/models/finetuner/twitter-roberta-default/xdomain_en-20000/rs4/checkpoint-6250\n",
      "['rs1', 'rs4', 'rs5', 'rs2', 'rs3']\n",
      "[20000, 20000, 20000, 20000, 20000]\n",
      "\n",
      "measure_en\n",
      "/mounts/work/faeze/data_efficient_hate/models/finetuner/twitter-roberta-default/measure_en-20000/rs4/checkpoint-6250\n",
      "['rs1', 'rs4', 'rs5', 'rs2', 'rs3']\n",
      "[20000, 20000, 20000, 20000, 20000]\n",
      "\n",
      "xplain_en\n",
      "no\n",
      "[]\n",
      "[]\n",
      "\n"
     ]
    }
   ],
   "execution_count": 90
  },
  {
   "metadata": {
    "ExecuteTime": {
     "end_time": "2024-12-25T14:44:50.081891Z",
     "start_time": "2024-12-25T14:44:50.076350Z"
    }
   },
   "cell_type": "code",
   "source": [
    "for data_result in data_results:\n",
    "    for j in [str(i) for i in data_result]:\n",
    "        print(j, end='\\t')\n",
    "    print()"
   ],
   "id": "d52b6282c33a55fb",
   "outputs": [
    {
     "name": "stdout",
     "output_type": "stream",
     "text": [
      "36.51\t49.91\t54.38\t57.63\t61.85\t65.03\t72.36\t73.62\t76.58\t77.14\t79.2\t80.69\t\n",
      "43.18\t48.09\t51.73\t53.83\t60.25\t64.38\t66.91\t68.86\t69.1\t69.95\t70.97\t72.7\t\n",
      "46.87\t46.87\t46.87\t46.87\t46.87\t48.94\t52.2\t51.75\t54.77\t56.2\t56.18\t57.14\t\n",
      "51.98\t51.67\t44.42\t49.67\t52.13\t65.29\t67.97\t66.95\t67.04\t66.54\t67.29\t66.91\t\n",
      "47.26\t47.26\t47.26\t47.24\t47.87\t47.67\t51.93\t51.1\t52.17\t51.91\t53.14\t51.84\t\n",
      "46.23\t54.25\t56.29\t59.14\t65.71\t70.96\t72.81\t73.43\t72.44\t74.18\t76.56\t76.4\t\n",
      "38.03\t44.99\t50.2\t57.47\t57.85\t62.23\t65.8\t66.16\t66.82\t66.56\t70.81\t73.72\t\n",
      "46.92\t55.43\t58.9\t69.97\t72.24\t71.43\t81.63\t82.22\t84.54\t85.05\tnan\tnan\t\n"
     ]
    }
   ],
   "execution_count": 76
  },
  {
   "metadata": {
    "ExecuteTime": {
     "end_time": "2024-12-25T13:43:09.473132Z",
     "start_time": "2024-12-25T13:43:09.470286Z"
    }
   },
   "cell_type": "code",
   "source": "",
   "id": "7cb1ce2b9bb6be81",
   "outputs": [],
   "execution_count": null
  },
  {
   "metadata": {
    "ExecuteTime": {
     "end_time": "2024-12-24T23:27:01.894974Z",
     "start_time": "2024-12-24T23:27:01.892317Z"
    }
   },
   "cell_type": "code",
   "source": "",
   "id": "26f68e4a6994ffe1",
   "outputs": [],
   "execution_count": null
  },
  {
   "metadata": {},
   "cell_type": "code",
   "outputs": [],
   "execution_count": null,
   "source": "",
   "id": "ae9898e69f894b45"
  }
 ],
 "metadata": {
  "kernelspec": {
   "display_name": "Python 3",
   "language": "python",
   "name": "python3"
  },
  "language_info": {
   "codemirror_mode": {
    "name": "ipython",
    "version": 2
   },
   "file_extension": ".py",
   "mimetype": "text/x-python",
   "name": "python",
   "nbconvert_exporter": "python",
   "pygments_lexer": "ipython2",
   "version": "2.7.6"
  }
 },
 "nbformat": 4,
 "nbformat_minor": 5
}
