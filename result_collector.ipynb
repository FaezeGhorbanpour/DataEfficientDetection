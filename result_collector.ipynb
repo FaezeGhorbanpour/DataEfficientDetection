{
 "cells": [
  {
   "cell_type": "code",
   "id": "initial_id",
   "metadata": {
    "collapsed": true,
    "ExecuteTime": {
     "end_time": "2024-12-25T12:44:14.502470Z",
     "start_time": "2024-12-25T12:44:14.024983Z"
    }
   },
   "source": [
    "import pandas as pd\n",
    "import numpy as np\n",
    "import os, json"
   ],
   "outputs": [
    {
     "name": "stdout",
     "output_type": "stream",
     "text": [
      "/tmp/pycharm_project_732\r\n"
     ]
    }
   ],
   "execution_count": 10
  },
  {
   "metadata": {
    "ExecuteTime": {
     "end_time": "2024-12-25T12:43:24.777748Z",
     "start_time": "2024-12-25T12:43:24.773957Z"
    }
   },
   "cell_type": "code",
   "source": "results_path = '/mounts/work/faeze/data_efficient_hate/models/finetuner/'",
   "id": "408034a64ebd7437",
   "outputs": [],
   "execution_count": 2
  },
  {
   "metadata": {
    "ExecuteTime": {
     "end_time": "2024-12-25T12:43:25.150116Z",
     "start_time": "2024-12-25T12:43:25.145087Z"
    }
   },
   "cell_type": "code",
   "source": [
    "model_name = 'twitter-roberta-default'\n",
    "# model_name = 'mdeberta-default'\n",
    "# model_name = 'roberta-default'"
   ],
   "id": "79ac16f0e466a6d7",
   "outputs": [],
   "execution_count": 3
  },
  {
   "metadata": {
    "ExecuteTime": {
     "end_time": "2024-12-25T12:43:25.657236Z",
     "start_time": "2024-12-25T12:43:25.653184Z"
    }
   },
   "cell_type": "code",
   "source": "path = os.path.join(results_path, model_name)",
   "id": "6269e9630feaf33c",
   "outputs": [],
   "execution_count": 4
  },
  {
   "metadata": {
    "ExecuteTime": {
     "end_time": "2024-12-25T12:45:01.201129Z",
     "start_time": "2024-12-25T12:45:01.196520Z"
    }
   },
   "cell_type": "code",
   "source": [
    "splits = [10, 20, 30, 40, 50, 100, 200, 300, 400, 500, 1000, 2000]\n",
    "# splits = [20000]\n",
    "rss = ['rs'+str(i) for i in range(1, 6)]"
   ],
   "id": "334eea4bed833002",
   "outputs": [],
   "execution_count": 14
  },
  {
   "metadata": {
    "ExecuteTime": {
     "end_time": "2024-12-25T12:45:06.124138Z",
     "start_time": "2024-12-25T12:45:06.120457Z"
    }
   },
   "cell_type": "code",
   "source": [
    "# data_names = ['bas19_es', 'for19_pt', 'has21_hi', 'ous19_ar', 'ous19_fr', 'san20_it']\n",
    "# data_names = ['dyn21_en', 'fou18_en', 'ken20_en']\n",
    "data_names = ['gahd24_de', 'xdomain_tr']"
   ],
   "id": "f67f9de375bf4d23",
   "outputs": [],
   "execution_count": 15
  },
  {
   "metadata": {
    "ExecuteTime": {
     "end_time": "2024-12-25T12:48:03.998844Z",
     "start_time": "2024-12-25T12:48:03.948426Z"
    }
   },
   "cell_type": "code",
   "source": [
    "data_results = []\n",
    "for data_name in data_names:\n",
    "    print(data_name)\n",
    "    split_average = []\n",
    "    for split in splits:\n",
    "        split_path = os.path.join(path, data_name+'-'+str(split))\n",
    "        rss_results = []\n",
    "        roots = []\n",
    "\n",
    "        split_done = []\n",
    "        rss = []\n",
    "        for root, folders, files in os.walk(split_path):\n",
    "            if 'checkpoint' in root or 'evaluation_results.json' not in files:\n",
    "                continue\n",
    "            with open(os.path.join(root, 'evaluation_results.json'), 'r') as f:\n",
    "                file = json.load(f)\n",
    "                rss_results.append(file['eval_f1-macro'])\n",
    "            roots.append(root+'/'+folders[0])\n",
    "            split_done.append(split)\n",
    "            rss.append(root.split('/')[-1])\n",
    "        # print(roots[np.argmax(rss_results)])\n",
    "        split_average.append(np.round(np.average(rss_results)*100,2))\n",
    "        print(rss)\n",
    "        print(split_done)\n",
    "    data_results.append(split_average)\n",
    "    print(split_average)"
   ],
   "id": "6dc76b806e35faef",
   "outputs": [
    {
     "name": "stdout",
     "output_type": "stream",
     "text": [
      "gahd24_de\n",
      "['rs1', 'rs4', 'rs5', 'rs2', 'rs3']\n",
      "[10, 10, 10, 10, 10]\n",
      "['rs5', 'rs2', 'rs3']\n",
      "[20, 20, 20]\n",
      "['rs1', 'rs5', 'rs2', 'rs3']\n",
      "[30, 30, 30, 30]\n",
      "['rs1', 'rs5', 'rs2', 'rs3']\n",
      "[40, 40, 40, 40]\n",
      "['rs1', 'rs4', 'rs2', 'rs3']\n",
      "[50, 50, 50, 50]\n",
      "['rs1', 'rs3']\n",
      "[100, 100]\n",
      "['rs1', 'rs2', 'rs3']\n",
      "[200, 200, 200]\n",
      "['rs4']\n",
      "[300]\n",
      "['rs4', 'rs5', 'rs2', 'rs3']\n",
      "[400, 400, 400, 400]\n",
      "['rs1', 'rs5']\n",
      "[500, 500]\n",
      "['rs1', 'rs2']\n",
      "[1000, 1000]\n",
      "['rs1']\n",
      "[2000]\n",
      "[38.03, 44.99, 50.2, 57.47, 57.85, 62.23, 65.8, 66.13, 66.82, 66.56, 70.81, 73.72]\n",
      "xdomain_tr\n",
      "['rs1', 'rs4', 'rs5', 'rs2', 'rs3']\n",
      "[10, 10, 10, 10, 10]\n",
      "['rs1', 'rs4', 'rs5', 'rs2', 'rs3']\n",
      "[20, 20, 20, 20, 20]\n",
      "['rs1', 'rs4', 'rs2', 'rs3']\n",
      "[30, 30, 30, 30]\n",
      "['rs1', 'rs4', 'rs5', 'rs2', 'rs3']\n",
      "[40, 40, 40, 40, 40]\n",
      "['rs1', 'rs2', 'rs3']\n",
      "[50, 50, 50]\n",
      "['rs1', 'rs5']\n",
      "[100, 100]\n",
      "['rs1', 'rs5', 'rs3']\n",
      "[200, 200, 200]\n",
      "['rs1', 'rs4', 'rs5', 'rs2']\n",
      "[300, 300, 300, 300]\n",
      "['rs4', 'rs5', 'rs2']\n",
      "[400, 400, 400]\n",
      "['rs1', 'rs4', 'rs2', 'rs3']\n",
      "[500, 500, 500, 500]\n",
      "[]\n",
      "[]\n",
      "[]\n",
      "[]\n",
      "[46.92, 55.43, 58.9, 69.97, 72.24, 71.43, 81.63, 82.17, 84.54, 85.05, nan, nan]\n"
     ]
    }
   ],
   "execution_count": 19
  },
  {
   "metadata": {
    "ExecuteTime": {
     "end_time": "2024-12-25T12:24:18.724960Z",
     "start_time": "2024-12-25T12:24:18.719634Z"
    }
   },
   "cell_type": "code",
   "source": [
    "for data_result in data_results:\n",
    "    for j in [str(i) for i in data_result]:\n",
    "        print(j, end='\\t')\n",
    "    print()"
   ],
   "id": "d52b6282c33a55fb",
   "outputs": [
    {
     "name": "stdout",
     "output_type": "stream",
     "text": [
      "nan\t\n",
      "nan\t\n"
     ]
    }
   ],
   "execution_count": 16
  },
  {
   "metadata": {
    "ExecuteTime": {
     "end_time": "2024-12-24T23:27:01.813573Z",
     "start_time": "2024-12-24T23:27:01.810749Z"
    }
   },
   "cell_type": "code",
   "source": "",
   "id": "7cb1ce2b9bb6be81",
   "outputs": [],
   "execution_count": null
  },
  {
   "metadata": {
    "ExecuteTime": {
     "end_time": "2024-12-24T23:27:01.894974Z",
     "start_time": "2024-12-24T23:27:01.892317Z"
    }
   },
   "cell_type": "code",
   "source": "",
   "id": "26f68e4a6994ffe1",
   "outputs": [],
   "execution_count": null
  },
  {
   "metadata": {},
   "cell_type": "code",
   "outputs": [],
   "execution_count": null,
   "source": "",
   "id": "ae9898e69f894b45"
  }
 ],
 "metadata": {
  "kernelspec": {
   "display_name": "Python 3",
   "language": "python",
   "name": "python3"
  },
  "language_info": {
   "codemirror_mode": {
    "name": "ipython",
    "version": 2
   },
   "file_extension": ".py",
   "mimetype": "text/x-python",
   "name": "python",
   "nbconvert_exporter": "python",
   "pygments_lexer": "ipython2",
   "version": "2.7.6"
  }
 },
 "nbformat": 4,
 "nbformat_minor": 5
}
