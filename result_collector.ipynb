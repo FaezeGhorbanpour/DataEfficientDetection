{
 "cells": [
  {
   "cell_type": "code",
   "id": "initial_id",
   "metadata": {
    "collapsed": true,
    "ExecuteTime": {
     "end_time": "2024-12-25T13:28:47.492279Z",
     "start_time": "2024-12-25T13:28:46.865601Z"
    }
   },
   "source": [
    "import pandas as pd\n",
    "import numpy as np\n",
    "import os, json"
   ],
   "outputs": [],
   "execution_count": 1
  },
  {
   "metadata": {
    "ExecuteTime": {
     "end_time": "2024-12-25T13:28:47.592960Z",
     "start_time": "2024-12-25T13:28:47.589680Z"
    }
   },
   "cell_type": "code",
   "source": "results_path = '/mounts/work/faeze/data_efficient_hate/models/finetuner/'",
   "id": "408034a64ebd7437",
   "outputs": [],
   "execution_count": 2
  },
  {
   "metadata": {
    "ExecuteTime": {
     "end_time": "2024-12-25T18:08:44.975979Z",
     "start_time": "2024-12-25T18:08:44.972423Z"
    }
   },
   "cell_type": "code",
   "source": [
    "# model_name = 'twitter-roberta-default'\n",
    "# model_name = 'mdeberta-default'\n",
    "model_name = 'roberta-default'"
   ],
   "id": "79ac16f0e466a6d7",
   "outputs": [],
   "execution_count": 160
  },
  {
   "metadata": {
    "ExecuteTime": {
     "end_time": "2024-12-25T18:08:45.116010Z",
     "start_time": "2024-12-25T18:08:45.112237Z"
    }
   },
   "cell_type": "code",
   "source": "path = os.path.join(results_path, model_name)",
   "id": "6269e9630feaf33c",
   "outputs": [],
   "execution_count": 161
  },
  {
   "metadata": {
    "ExecuteTime": {
     "end_time": "2024-12-25T18:08:45.287016Z",
     "start_time": "2024-12-25T18:08:45.283061Z"
    }
   },
   "cell_type": "code",
   "source": [
    "# splits = [10, 20, 30, 40, 50, 100, 200, 300, 400, 500, 1000, 2000]\n",
    "splits = [10000]\n",
    "rss = ['rs'+str(i) for i in range(1, 6)]"
   ],
   "id": "334eea4bed833002",
   "outputs": [],
   "execution_count": 162
  },
  {
   "metadata": {
    "ExecuteTime": {
     "end_time": "2024-12-25T18:08:45.397561Z",
     "start_time": "2024-12-25T18:08:45.393605Z"
    }
   },
   "cell_type": "code",
   "source": [
    "# data_names = ['bas19_es', 'for19_pt', 'has21_hi', 'ous19_ar', 'ous19_fr', 'san20_it']\n",
    "data_names = ['dyn21_en', 'fou18_en', 'ken20_en', 'xdomain_en', 'measure_en', 'xplain_en']\n",
    "# data_names = ['bas19_es', 'for19_pt', 'has21_hi', 'ous19_ar', 'ous19_fr', 'san20_it', 'gahd24_de', 'xdomain_tr']"
   ],
   "id": "f67f9de375bf4d23",
   "outputs": [],
   "execution_count": 163
  },
  {
   "metadata": {
    "ExecuteTime": {
     "end_time": "2024-12-25T18:08:45.826960Z",
     "start_time": "2024-12-25T18:08:45.596220Z"
    }
   },
   "cell_type": "code",
   "source": [
    "data_results = []\n",
    "for data_name in data_names:\n",
    "    print(data_name)\n",
    "    split_average = []\n",
    "    for split in splits:\n",
    "        split_path = os.path.join(path, data_name+'-'+str(split))\n",
    "        rss_results = []\n",
    "        roots = []\n",
    "\n",
    "        split_done = []\n",
    "        rss = []\n",
    "        for root, folders, files in os.walk(split_path):\n",
    "            if 'checkpoint' in root or 'evaluation_results.json' not in files:\n",
    "                continue\n",
    "            with open(os.path.join(root, 'evaluation_results.json'), 'r') as f:\n",
    "                file = json.load(f)\n",
    "                rss_results.append(file['eval_f1-macro'])\n",
    "            roots.append(root+'/'+folders[0])\n",
    "            split_done.append(split)\n",
    "            rss.append(root.split('/')[-1])\n",
    "        if rss_results:\n",
    "            print(roots[np.argmax(rss_results)])\n",
    "            split_average.append(np.round(np.average(rss_results)*100,2))\n",
    "        else:\n",
    "            print('no')\n",
    "        print(rss)\n",
    "        print(split_done)\n",
    "    data_results.append(split_average)\n",
    "    # print(split_average)\n",
    "    print()"
   ],
   "id": "6dc76b806e35faef",
   "outputs": [
    {
     "name": "stdout",
     "output_type": "stream",
     "text": [
      "dyn21_en\n",
      "no\n",
      "[]\n",
      "[]\n",
      "\n",
      "fou18_en\n",
      "no\n",
      "[]\n",
      "[]\n",
      "\n",
      "ken20_en\n",
      "no\n",
      "[]\n",
      "[]\n",
      "\n",
      "xdomain_en\n",
      "/mounts/work/faeze/data_efficient_hate/models/finetuner/roberta-default/xdomain_en-10000/rs1/checkpoint-3125\n",
      "['rs1', 'rs4', 'rs5', 'rs2', 'rs3']\n",
      "[10000, 10000, 10000, 10000, 10000]\n",
      "\n",
      "measure_en\n",
      "/mounts/work/faeze/data_efficient_hate/models/finetuner/roberta-default/measure_en-10000/rs3/checkpoint-1250\n",
      "['rs1', 'rs4', 'rs5', 'rs2', 'rs3']\n",
      "[10000, 10000, 10000, 10000, 10000]\n",
      "\n",
      "xplain_en\n",
      "/mounts/work/faeze/data_efficient_hate/models/finetuner/roberta-default/xplain_en-10000/rs2/checkpoint-1875\n",
      "['rs1', 'rs4', 'rs5', 'rs2', 'rs3']\n",
      "[10000, 10000, 10000, 10000, 10000]\n",
      "\n"
     ]
    }
   ],
   "execution_count": 164
  },
  {
   "metadata": {
    "ExecuteTime": {
     "end_time": "2024-12-25T18:08:45.868117Z",
     "start_time": "2024-12-25T18:08:45.863195Z"
    }
   },
   "cell_type": "code",
   "source": [
    "for data_result in data_results:\n",
    "    for j in [str(i) for i in data_result]:\n",
    "        print(j, end='\\t')\n",
    "    print()"
   ],
   "id": "d52b6282c33a55fb",
   "outputs": [
    {
     "name": "stdout",
     "output_type": "stream",
     "text": [
      "\n",
      "\n",
      "\n",
      "79.56\t\n",
      "41.15\t\n",
      "66.96\t\n"
     ]
    }
   ],
   "execution_count": 165
  },
  {
   "metadata": {
    "ExecuteTime": {
     "end_time": "2024-12-25T18:08:46.063552Z",
     "start_time": "2024-12-25T18:08:46.060700Z"
    }
   },
   "cell_type": "code",
   "source": "",
   "id": "7cb1ce2b9bb6be81",
   "outputs": [],
   "execution_count": null
  },
  {
   "metadata": {
    "ExecuteTime": {
     "end_time": "2024-12-25T18:08:28.651647Z",
     "start_time": "2024-12-25T18:08:28.648927Z"
    }
   },
   "cell_type": "code",
   "source": "",
   "id": "26f68e4a6994ffe1",
   "outputs": [],
   "execution_count": null
  },
  {
   "metadata": {
    "ExecuteTime": {
     "end_time": "2024-12-25T18:08:28.707948Z",
     "start_time": "2024-12-25T18:08:28.705531Z"
    }
   },
   "cell_type": "code",
   "source": "",
   "id": "ae9898e69f894b45",
   "outputs": [],
   "execution_count": null
  },
  {
   "metadata": {},
   "cell_type": "code",
   "outputs": [],
   "execution_count": null,
   "source": "",
   "id": "6095117ba48861c9"
  }
 ],
 "metadata": {
  "kernelspec": {
   "display_name": "Python 3",
   "language": "python",
   "name": "python3"
  },
  "language_info": {
   "codemirror_mode": {
    "name": "ipython",
    "version": 2
   },
   "file_extension": ".py",
   "mimetype": "text/x-python",
   "name": "python",
   "nbconvert_exporter": "python",
   "pygments_lexer": "ipython2",
   "version": "2.7.6"
  }
 },
 "nbformat": 4,
 "nbformat_minor": 5
}
